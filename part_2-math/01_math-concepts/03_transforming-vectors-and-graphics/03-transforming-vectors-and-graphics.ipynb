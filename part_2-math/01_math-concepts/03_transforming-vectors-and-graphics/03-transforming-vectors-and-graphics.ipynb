{
 "cells": [
  {
   "cell_type": "markdown",
   "metadata": {},
   "source": [
    "# Transforming vectors and graphics\n",
    "\n",
    "In this chapter we'll see how to draw objects that change over time. We'll do so by chaining together sequences of small transformations, that when rendered very quickly (a few dozens every second), will create the illusion of continuous motion.\n",
    "\n",
    "As an example, we wrote a `rotate` function that took in a 2D vector and rotate it by a given angle in the counterclockwise direction. We can think of that function as a transformation of that sort.\n",
    "\n",
    "![Rotate as a transformation](pics/rotate_transformation.png)"
   ]
  },
  {
   "cell_type": "markdown",
   "metadata": {},
   "source": [
    "We'll see that the same concept can be applied to every vector of a 3D shaphe to rotate it:\n",
    "\n",
    "![Rotate 3D shape](pics/rotate_3d_shape.png)"
   ]
  },
  {
   "cell_type": "markdown",
   "metadata": {},
   "source": [
    "We'll introduce a broad class of vector transformations called *linear transformations* that send vectors lying on a straight line to new vectors that also lie on a straight line."
   ]
  },
  {
   "cell_type": "markdown",
   "metadata": {},
   "source": [
    "To visualize rotations, linear transformations, and other vector transformations we'll need to change our drawing backend to something a bit more powerful than our good old Matplotlib chart library that has served us well in the previous chapters.\n",
    "\n",
    "We'll swap Matplotlib for OpenGL and its Python wrapper **PyOpenGL**. For handling user interactivity and facilitate animations we'll use a game development library called **PyGame**."
   ]
  },
  {
   "cell_type": "markdown",
   "metadata": {},
   "source": [
    "## Setting up shop\n",
    "\n",
    "Before running any of the 3D projects or Jupyter notebooks based on OpenGL and PyGame you will need to install the required libraries.\n",
    "\n",
    "### OS Prerequisites (WSL2 - Ubuntu 20.04.6 LTS)\n",
    "\n",
    "You need to install OpenGL Utility Toolkit ([FreeGLUT](https://freeglut.sourceforge.net/)) in your WSL2:\n",
    "\n",
    "```bash\n",
    "sudo apt install freeglut3-dev\n",
    "```\n",
    "\n",
    "While not strictly required, [PyOpenGL installation documentation](https://pyopengl.sourceforge.net/documentation/installation.html) suggests that GLE is also needed:\n",
    "\n",
    "```bash\n",
    "sudo apt install libgle3-dev\n",
    "```\n"
   ]
  },
  {
   "cell_type": "markdown",
   "metadata": {},
   "source": [
    "\n",
    "### Installing the 3D Backend Virtual Environment\n",
    "\n",
    "For running the 3D examples as Python programs it is recommended to create a virtual environment with the following dependencies:\n",
    "\n",
    "```\n",
    "matplotlib==3.8.0\n",
    "pygame==2.5.2\n",
    "PyOpenGL==3.1.7\n",
    "PyOpenGL-accelerate==3.1.7\n",
    "vec2d==0.1.1\n",
    "vec3d==0.1.0\n",
    "```\n"
   ]
  },
  {
   "cell_type": "markdown",
   "metadata": {},
   "source": [
    "\n",
    "### Creating the 3D Backend `conda` Environment\n",
    "\n",
    "For running the 3D examples from the Jupyter cells, it is recommended to create a conda environment. \n",
    "\n",
    "Note however that the results will be displayed in their own OS Windows and not in Jupyter cells.\n",
    "\n",
    "Follow these steps to create the conda environment:\n",
    "\n",
    "```bash\n",
    "# Search for the latest stable Python\n",
    "$ conda search \"^python$\"\n",
    "python                        3.11.4      h7a1cb2a_0  pkgs/main\n",
    "python                        3.11.4      h955ad1f_0  pkgs/main\n",
    "python                        3.11.5      h7a1cb2a_0  pkgs/main\n",
    "python                        3.11.5      h955ad1f_0  pkgs/main\n",
    "python                        3.12.0      h996f2a0_0  pkgs/main\n",
    "\n",
    "# Create new environment based on Python 3.11.5 (3.12.0 is too new)\n",
    "$ conda create --name gl3d python=3.11.5\n",
    "\n",
    "# Activate the newly created conda environment\n",
    "$ conda activate gl3d\n",
    "\n",
    "# Install pygame and matplotlib\n",
    "$ conda install -c conda-forge pygame\n",
    "$ conda install -c conda-forge matplotlib\n",
    "\n",
    "# Install the remaining deps\n",
    "$ python -m pip install pyopengl\n",
    "$ python -m pip install pyopengl-accelerate\n",
    "$ python -m pip install vec2d\n",
    "$ python -m pip install vec3d\n",
    "```"
   ]
  },
  {
   "cell_type": "markdown",
   "metadata": {},
   "source": [
    "### Project Shakedown\n",
    "\n",
    "To validate that your installation is running as expected you can run [06: Octahedron using OpenGL/Pygame](../../02_mini-projects/06-octahedron-opengl-pygame/), [07: Draw Utah Teapot](../../02_mini-projects/07-draw-teapot/), and [08: RenderGL Lib example](../../02_mini-projects/08-rendergl/).\n",
    "\n",
    "You will have to install the corresponding requirements in each case.\n",
    "\n",
    "Please note when quiting the corresponding examples you'll get a \"Segmentation Fault\". That does not affect the project while executing.\n",
    "\n",
    "| NOTE: |\n",
    "| :---- |\n",
    "| You might need to adjust the location of the `teapot.off` file. |"
   ]
  },
  {
   "cell_type": "markdown",
   "metadata": {},
   "source": [
    "### Jupyter Shakedown\n",
    "\n",
    "To validate that the conda environment works as expected you will need to:\n",
    "\n",
    "1. Select the `gl3d` kernel for your Jupyter notebook.\n",
    "2. Create a symbolic link to the `rendergl` library: `ln -s ../../02_mini-projects/08-rendergl/rendergl rendergl`\n",
    "3. Execute the following cell checking that the Utah Teapot is displayed in its own OS window (not as a Jupyter cell)"
   ]
  },
  {
   "cell_type": "code",
   "execution_count": 2,
   "metadata": {},
   "outputs": [
    {
     "name": "stderr",
     "output_type": "stream",
     "text": [
      "shm_open() failed: No such file or directory\n",
      "ALSA lib confmisc.c:855:(parse_card) cannot find card '0'\n",
      "ALSA lib conf.c:5204:(_snd_config_evaluate) function snd_func_card_inum returned error: No such file or directory\n",
      "ALSA lib confmisc.c:422:(snd_func_concat) error evaluating strings\n",
      "ALSA lib conf.c:5204:(_snd_config_evaluate) function snd_func_concat returned error: No such file or directory\n",
      "ALSA lib confmisc.c:1342:(snd_func_refer) error evaluating name\n",
      "ALSA lib conf.c:5204:(_snd_config_evaluate) function snd_func_refer returned error: No such file or directory\n",
      "ALSA lib conf.c:5727:(snd_config_expand) Evaluate error: No such file or directory\n",
      "ALSA lib pcm.c:2675:(snd_pcm_open_noupdate) Unknown PCM default\n"
     ]
    },
    {
     "ename": "SystemExit",
     "evalue": "0",
     "output_type": "error",
     "traceback": [
      "An exception has occurred, use %tb to see the full traceback.\n",
      "\u001b[0;31mSystemExit\u001b[0m\u001b[0;31m:\u001b[0m 0\n"
     ]
    }
   ],
   "source": [
    "from rendergl import draw_model, load_triangles\n",
    "\n",
    "draw_model(load_triangles())"
   ]
  },
  {
   "cell_type": "markdown",
   "metadata": {},
   "source": [
    "### An Introduction to out `rendergl` library\n",
    "\n",
    "The `rendergl` library is a compilation of the different support functions to accomplish all of the 3D exercises of this chapter.\n",
    "\n",
    "The library's essential functions are:\n",
    "\n",
    "+ `draw_model()` &mdash; used to draw 3D shapes on screen. You will need to pass the *faces* as the first argument. All the other arguments are optional.\n",
    "\n",
    "+ `load_triangles()` &mdash; a function that reads the Utah Teapot 3D model file and returns a collection of faces that can be passed as the first argument to `draw_model`.\n",
    "\n",
    "+ `polygon_map()` &mdash; a convenience function that can be used to transform a collection of faces given a certain transformation. For example, you can use it to rotate all the faces of the teapot about the x-axis by 30° by doing `polygon_map(rotate_x_by(pi / 6), load_triangles())`.\n",
    "\n",
    "+ A set of transformation functions: `rotate_*_by()`, `scale_by()`, `translate_by`, and `compose()` that perform transformations on individual vectors/vertices, or create transformations from other transformations. These can then be used as arguments to `draw_model` directly, or using `polygon_map`.\n",
    "\n",
    "The following exercises are given to develop your intuition about the `rendergl` library."
   ]
  },
  {
   "cell_type": "markdown",
   "metadata": {},
   "source": [
    "### Exercise\n",
    "\n",
    "Draw the Teapot rotated -45° about the y-axis, so that the spout looks at us and the handle is in the back."
   ]
  },
  {
   "cell_type": "markdown",
   "metadata": {},
   "source": [
    "According to the information above, we just need to pass a value of `(-45, 0, 1, 0)` to `glRotatef`.\n",
    "\n",
    "Fortunately for us, the `draw_model` function exposes the argument `glRotatef_args` so that we don't need to create a new version of the function:"
   ]
  },
  {
   "cell_type": "code",
   "execution_count": 3,
   "metadata": {},
   "outputs": [
    {
     "name": "stderr",
     "output_type": "stream",
     "text": [
      "shm_open() failed: No such file or directory\n",
      "ALSA lib confmisc.c:855:(parse_card) cannot find card '0'\n",
      "ALSA lib conf.c:5204:(_snd_config_evaluate) function snd_func_card_inum returned error: No such file or directory\n",
      "ALSA lib confmisc.c:422:(snd_func_concat) error evaluating strings\n",
      "ALSA lib conf.c:5204:(_snd_config_evaluate) function snd_func_concat returned error: No such file or directory\n",
      "ALSA lib confmisc.c:1342:(snd_func_refer) error evaluating name\n",
      "ALSA lib conf.c:5204:(_snd_config_evaluate) function snd_func_refer returned error: No such file or directory\n",
      "ALSA lib conf.c:5727:(snd_config_expand) Evaluate error: No such file or directory\n",
      "ALSA lib pcm.c:2675:(snd_pcm_open_noupdate) Unknown PCM default\n"
     ]
    },
    {
     "ename": "SystemExit",
     "evalue": "0",
     "output_type": "error",
     "traceback": [
      "An exception has occurred, use %tb to see the full traceback.\n",
      "\u001b[0;31mSystemExit\u001b[0m\u001b[0;31m:\u001b[0m 0\n"
     ]
    }
   ],
   "source": [
    "from rendergl import draw_model, load_triangles\n",
    "\n",
    "draw_model(load_triangles(), glRotatef_args=(-45, 0, 1, 0))"
   ]
  },
  {
   "cell_type": "markdown",
   "metadata": {},
   "source": [
    "The result is:\n",
    "\n",
    "![Teapot: 30° about y](pics/teapot-ex-30-deg-about-y.png) "
   ]
  },
  {
   "cell_type": "markdown",
   "metadata": {},
   "source": [
    "### Exercise\n",
    "\n",
    "Develop your intuition about the `glTranslatef_args` and `glRotatef_args` by drawing the teapot:\n",
    "+ from (0, 0, -25)\n",
    "+ from (-1, -1, -5)\n",
    "+ with the teapot tilted 30° about the z-axis\n",
    "+ with the teapot tilted 30° about the x-axis\n",
    "+ with the teapot tilted 30° about the y-axis\n"
   ]
  },
  {
   "cell_type": "markdown",
   "metadata": {},
   "source": [
    "When passing `(0, 0, -25)` we expect to find a smallest teapot, as we've placed the viewer 25 units away in the z-axis (depth):"
   ]
  },
  {
   "cell_type": "code",
   "execution_count": 4,
   "metadata": {},
   "outputs": [
    {
     "name": "stderr",
     "output_type": "stream",
     "text": [
      "shm_open() failed: No such file or directory\n",
      "ALSA lib confmisc.c:855:(parse_card) cannot find card '0'\n",
      "ALSA lib conf.c:5204:(_snd_config_evaluate) function snd_func_card_inum returned error: No such file or directory\n",
      "ALSA lib confmisc.c:422:(snd_func_concat) error evaluating strings\n",
      "ALSA lib conf.c:5204:(_snd_config_evaluate) function snd_func_concat returned error: No such file or directory\n",
      "ALSA lib confmisc.c:1342:(snd_func_refer) error evaluating name\n",
      "ALSA lib conf.c:5204:(_snd_config_evaluate) function snd_func_refer returned error: No such file or directory\n",
      "ALSA lib conf.c:5727:(snd_config_expand) Evaluate error: No such file or directory\n",
      "ALSA lib pcm.c:2675:(snd_pcm_open_noupdate) Unknown PCM default\n"
     ]
    },
    {
     "ename": "SystemExit",
     "evalue": "0",
     "output_type": "error",
     "traceback": [
      "An exception has occurred, use %tb to see the full traceback.\n",
      "\u001b[0;31mSystemExit\u001b[0m\u001b[0;31m:\u001b[0m 0\n"
     ]
    },
    {
     "name": "stderr",
     "output_type": "stream",
     "text": [
      "/home/ubuntu/miniconda3/envs/gl3d/lib/python3.11/site-packages/IPython/core/interactiveshell.py:3556: UserWarning: To exit: use 'exit', 'quit', or Ctrl-D.\n",
      "  warn(\"To exit: use 'exit', 'quit', or Ctrl-D.\", stacklevel=1)\n"
     ]
    }
   ],
   "source": [
    "from rendergl import draw_model, load_triangles\n",
    "\n",
    "draw_model(load_triangles(), glTranslatef_args=(0, 0, -25))"
   ]
  },
  {
   "cell_type": "markdown",
   "metadata": {},
   "source": [
    "This results in:\n",
    "\n",
    "![away in depth](pics/teapot-ex-away-in-depth.png)"
   ]
  },
  {
   "cell_type": "markdown",
   "metadata": {},
   "source": [
    "When using (-1, -1, -5) we expect the view to be slightly moved to the left (so probably, the handle might not fit entirely), slightly down (so the teapot won't be centered), and 5 units away in depth:"
   ]
  },
  {
   "cell_type": "code",
   "execution_count": 5,
   "metadata": {},
   "outputs": [
    {
     "name": "stderr",
     "output_type": "stream",
     "text": [
      "shm_open() failed: No such file or directory\n",
      "ALSA lib confmisc.c:855:(parse_card) cannot find card '0'\n",
      "ALSA lib conf.c:5204:(_snd_config_evaluate) function snd_func_card_inum returned error: No such file or directory\n",
      "ALSA lib confmisc.c:422:(snd_func_concat) error evaluating strings\n",
      "ALSA lib conf.c:5204:(_snd_config_evaluate) function snd_func_concat returned error: No such file or directory\n",
      "ALSA lib confmisc.c:1342:(snd_func_refer) error evaluating name\n",
      "ALSA lib conf.c:5204:(_snd_config_evaluate) function snd_func_refer returned error: No such file or directory\n",
      "ALSA lib conf.c:5727:(snd_config_expand) Evaluate error: No such file or directory\n",
      "ALSA lib pcm.c:2675:(snd_pcm_open_noupdate) Unknown PCM default\n"
     ]
    },
    {
     "ename": "SystemExit",
     "evalue": "0",
     "output_type": "error",
     "traceback": [
      "An exception has occurred, use %tb to see the full traceback.\n",
      "\u001b[0;31mSystemExit\u001b[0m\u001b[0;31m:\u001b[0m 0\n"
     ]
    }
   ],
   "source": [
    "from rendergl import draw_model, load_triangles\n",
    "\n",
    "draw_model(load_triangles(), glTranslatef_args=(-1, -1, -5))"
   ]
  },
  {
   "cell_type": "markdown",
   "metadata": {},
   "source": [
    "The result is:\n",
    "\n",
    "![left and down](pics/teapot-ex-left-and-down.png)"
   ]
  },
  {
   "cell_type": "markdown",
   "metadata": {},
   "source": [
    "To tilt the teapot 30° about the z-axis we need to use the `glRotatef_args` with a value of `(30, 0, 0, 1)`. The net effect will be the teapot rotated so that the handle will be oriented to the back, and the spout oriented to the top."
   ]
  },
  {
   "cell_type": "code",
   "execution_count": 8,
   "metadata": {},
   "outputs": [
    {
     "name": "stderr",
     "output_type": "stream",
     "text": [
      "shm_open() failed: No such file or directory\n",
      "ALSA lib confmisc.c:855:(parse_card) cannot find card '0'\n",
      "ALSA lib conf.c:5204:(_snd_config_evaluate) function snd_func_card_inum returned error: No such file or directory\n",
      "ALSA lib confmisc.c:422:(snd_func_concat) error evaluating strings\n",
      "ALSA lib conf.c:5204:(_snd_config_evaluate) function snd_func_concat returned error: No such file or directory\n",
      "ALSA lib confmisc.c:1342:(snd_func_refer) error evaluating name\n",
      "ALSA lib conf.c:5204:(_snd_config_evaluate) function snd_func_refer returned error: No such file or directory\n",
      "ALSA lib conf.c:5727:(snd_config_expand) Evaluate error: No such file or directory\n",
      "ALSA lib pcm.c:2675:(snd_pcm_open_noupdate) Unknown PCM default\n"
     ]
    },
    {
     "ename": "SystemExit",
     "evalue": "0",
     "output_type": "error",
     "traceback": [
      "An exception has occurred, use %tb to see the full traceback.\n",
      "\u001b[0;31mSystemExit\u001b[0m\u001b[0;31m:\u001b[0m 0\n"
     ]
    }
   ],
   "source": [
    "from rendergl import draw_model, load_triangles\n",
    "\n",
    "draw_model(load_triangles(), glRotatef_args=(30, 0, 0, 1))"
   ]
  },
  {
   "cell_type": "markdown",
   "metadata": {},
   "source": [
    "This results in:\n",
    "\n",
    "![Teapot rotated about z](pics/teapot-ex-rotated-30-dev-about-z.png)"
   ]
  },
  {
   "cell_type": "markdown",
   "metadata": {},
   "source": [
    "Similarly, if we rotate the teapot about the x-axis, we will find that the lid is pointing at us:"
   ]
  },
  {
   "cell_type": "code",
   "execution_count": 9,
   "metadata": {},
   "outputs": [
    {
     "name": "stderr",
     "output_type": "stream",
     "text": [
      "shm_open() failed: No such file or directory\n",
      "ALSA lib confmisc.c:855:(parse_card) cannot find card '0'\n",
      "ALSA lib conf.c:5204:(_snd_config_evaluate) function snd_func_card_inum returned error: No such file or directory\n",
      "ALSA lib confmisc.c:422:(snd_func_concat) error evaluating strings\n",
      "ALSA lib conf.c:5204:(_snd_config_evaluate) function snd_func_concat returned error: No such file or directory\n",
      "ALSA lib confmisc.c:1342:(snd_func_refer) error evaluating name\n",
      "ALSA lib conf.c:5204:(_snd_config_evaluate) function snd_func_refer returned error: No such file or directory\n",
      "ALSA lib conf.c:5727:(snd_config_expand) Evaluate error: No such file or directory\n",
      "ALSA lib pcm.c:2675:(snd_pcm_open_noupdate) Unknown PCM default\n"
     ]
    },
    {
     "ename": "SystemExit",
     "evalue": "0",
     "output_type": "error",
     "traceback": [
      "An exception has occurred, use %tb to see the full traceback.\n",
      "\u001b[0;31mSystemExit\u001b[0m\u001b[0;31m:\u001b[0m 0\n"
     ]
    }
   ],
   "source": [
    "from rendergl import draw_model, load_triangles\n",
    "\n",
    "draw_model(load_triangles(), glRotatef_args=(30, 1, 0, 0))"
   ]
  },
  {
   "cell_type": "markdown",
   "metadata": {},
   "source": [
    "Which results in:\n",
    "\n",
    "![Teapot rotated about x](pics/teapot-ex-30-deg-about-x.png)"
   ]
  },
  {
   "cell_type": "markdown",
   "metadata": {},
   "source": [
    "Finally, if we rotate it 30° about y, we will find the handle oriented towards us:"
   ]
  },
  {
   "cell_type": "code",
   "execution_count": 10,
   "metadata": {},
   "outputs": [
    {
     "name": "stderr",
     "output_type": "stream",
     "text": [
      "shm_open() failed: No such file or directory\n",
      "ALSA lib confmisc.c:855:(parse_card) cannot find card '0'\n",
      "ALSA lib conf.c:5204:(_snd_config_evaluate) function snd_func_card_inum returned error: No such file or directory\n",
      "ALSA lib confmisc.c:422:(snd_func_concat) error evaluating strings\n",
      "ALSA lib conf.c:5204:(_snd_config_evaluate) function snd_func_concat returned error: No such file or directory\n",
      "ALSA lib confmisc.c:1342:(snd_func_refer) error evaluating name\n",
      "ALSA lib conf.c:5204:(_snd_config_evaluate) function snd_func_refer returned error: No such file or directory\n",
      "ALSA lib conf.c:5727:(snd_config_expand) Evaluate error: No such file or directory\n",
      "ALSA lib pcm.c:2675:(snd_pcm_open_noupdate) Unknown PCM default\n"
     ]
    },
    {
     "ename": "SystemExit",
     "evalue": "0",
     "output_type": "error",
     "traceback": [
      "An exception has occurred, use %tb to see the full traceback.\n",
      "\u001b[0;31mSystemExit\u001b[0m\u001b[0;31m:\u001b[0m 0\n"
     ]
    }
   ],
   "source": [
    "from rendergl import draw_model, load_triangles\n",
    "\n",
    "draw_model(load_triangles(), glRotatef_args=(30, 0, 1, 0))"
   ]
  },
  {
   "cell_type": "markdown",
   "metadata": {},
   "source": [
    "Which results is:\n",
    "\n",
    "![Teapot rotated about y](pics/teapot-ex-30-deg-about-y-2.png)"
   ]
  },
  {
   "cell_type": "markdown",
   "metadata": {},
   "source": [
    "### Exercise\n",
    "\n",
    "If we call `glRotate(1, 1, 1, 1)` in every frame, how many seconds does it take for the scene to complete a full revolution?\n",
    "\n",
    "| HINT: |\n",
    "| :---- |\n",
    "| Find the formula for a generic value of frames per second (fps) say $ n $. |"
   ]
  },
  {
   "cell_type": "markdown",
   "metadata": {},
   "source": [
    "Let's suppose our system can render $ n $ frames per second. \n",
    "\n",
    "A complete full revolution means we need to rotate the scene 360°, which means we need 360 frames.\n",
    "\n",
    "Thus:\n",
    "\n",
    "$\n",
    "t = \\frac{360°}{n}\n",
    "$"
   ]
  },
  {
   "cell_type": "markdown",
   "metadata": {},
   "source": [
    "Therefore, if we render at $ n = 60 $ fps,\n",
    "\n",
    "$\n",
    "t = \\frac{360}{60} = 6 \\; seconds\n",
    "$\n",
    "\n",
    "If we render at $ n = 30 $ fps\n",
    "\n",
    "$\n",
    "t = \\frac{360}{30} = 12 \\; seconds\n",
    "$\n",
    "\n",
    "and if we render at $ n = 24 $ fps\n",
    "\n",
    "$\n",
    "t = \\frac{360}{24} = 15 \\; seconds\n",
    "$"
   ]
  },
  {
   "cell_type": "markdown",
   "metadata": {},
   "source": [
    "### Exercise\n",
    "\n",
    "Animate the teapot by changing the arguments to `gluPerspective()` in the same way we do with the octahedron.\n",
    "\n",
    "HINT: You might need to create a version of the rendergl library."
   ]
  },
  {
   "cell_type": "markdown",
   "metadata": {},
   "source": [
    "## Transforming 3D Objects\n",
    "\n",
    "The main goal in this chapter is taking a 3D object and change it to create a new 3D object that is visually different.\n",
    "\n",
    "In [Linear Algebra in the 2D Plane](../01_linear-algebra-2d/01-linear-algebra-2d-concepts.ipynb) we already saw how we could apply a `translate` or `rotate` function to a dinosaur shape (polygon) and the whole shape would move or change its size accordingly.\n",
    "\n",
    "Every transformation will look very similar: it till take a vector as input and return a vector as output:\n",
    "\n",
    "```python\n",
    "def transform(v):\n",
    "  old_x, old_y, old_z = v\n",
    "  # ... do some computations here ...\n",
    "  return (new_x, new_y, new_z)\n",
    "```"
   ]
  },
  {
   "cell_type": "markdown",
   "metadata": {},
   "source": [
    "### Drawing a Transformed Object\n",
    "\n"
   ]
  },
  {
   "cell_type": "markdown",
   "metadata": {},
   "source": [
    "If you have successfully installed the dependencies you will be able to see the Utah teapot displayed in its own window (outside of the Jupyter cell) by running the following cell\n",
    "\n",
    "![Utah Teapot](pics/utah-teapot.png)"
   ]
  },
  {
   "cell_type": "code",
   "execution_count": 3,
   "metadata": {},
   "outputs": [
    {
     "name": "stderr",
     "output_type": "stream",
     "text": [
      "shm_open() failed: No such file or directory\n",
      "ALSA lib confmisc.c:855:(parse_card) cannot find card '0'\n",
      "ALSA lib conf.c:5204:(_snd_config_evaluate) function snd_func_card_inum returned error: No such file or directory\n",
      "ALSA lib confmisc.c:422:(snd_func_concat) error evaluating strings\n",
      "ALSA lib conf.c:5204:(_snd_config_evaluate) function snd_func_concat returned error: No such file or directory\n",
      "ALSA lib confmisc.c:1342:(snd_func_refer) error evaluating name\n",
      "ALSA lib conf.c:5204:(_snd_config_evaluate) function snd_func_refer returned error: No such file or directory\n",
      "ALSA lib conf.c:5727:(snd_config_expand) Evaluate error: No such file or directory\n",
      "ALSA lib pcm.c:2675:(snd_pcm_open_noupdate) Unknown PCM default\n"
     ]
    },
    {
     "ename": "SystemExit",
     "evalue": "0",
     "output_type": "error",
     "traceback": [
      "An exception has occurred, use %tb to see the full traceback.\n",
      "\u001b[0;31mSystemExit\u001b[0m\u001b[0;31m:\u001b[0m 0\n"
     ]
    }
   ],
   "source": [
    "from rendergl import draw_model, load_triangles\n",
    "\n",
    "draw_model(load_triangles())"
   ]
  },
  {
   "cell_type": "markdown",
   "metadata": {},
   "source": [
    "In the next few examples, we will introduce certain transformations that we will apply to the vectors defining the teapot and then we will re-render the result so that we can see the geometric effect."
   ]
  },
  {
   "cell_type": "markdown",
   "metadata": {},
   "source": [
    "The first of such transformations will be `scale2` which will multiply any given input vector by 2 and return the result:"
   ]
  },
  {
   "cell_type": "code",
   "execution_count": 4,
   "metadata": {},
   "outputs": [],
   "source": [
    "from vec3d.math import scale\n",
    "\n",
    "def scale2(v):\n",
    "    return scale(2.0, v)"
   ]
  },
  {
   "cell_type": "markdown",
   "metadata": {},
   "source": [
    "Note that this function follows the signature of the generic `transform(v)` function given at the beginning of the section:\n",
    "\n",
    "```python\n",
    "def transform(v):\n",
    "  old_x, old_y, old_z = v\n",
    "  # ... do some computations here ...\n",
    "  return (new_x, new_y, new_z)\n",
    "```"
   ]
  },
  {
   "cell_type": "markdown",
   "metadata": {},
   "source": [
    "To execute the transformation we just need to:\n",
    "\n",
    "1. Get the original vertices\n",
    "2. Apply the transformation to each and everyone of them\n",
    "3. Render the new set of transformed vertices\n",
    "\n",
    "The function `load_triangles` from `rendergl` returns each of the *faces* of the teapot. Each of the faces is a triangle:"
   ]
  },
  {
   "cell_type": "code",
   "execution_count": 5,
   "metadata": {},
   "outputs": [
    {
     "name": "stdout",
     "output_type": "stream",
     "text": [
      "Triangle[0]=((0.7, 0.5260740000000002, 0.0), (0.6367419999999999, 0.562054, -0.270918), (0.64575, 0.5260740000000002, -0.27475))\n"
     ]
    }
   ],
   "source": [
    "from rendergl import load_triangles\n",
    "\n",
    "triangles = load_triangles()\n",
    "print(f\"Triangle[0]={triangles[0]}\")"
   ]
  },
  {
   "cell_type": "markdown",
   "metadata": {},
   "source": [
    "Thus, each of the triangles will have 3 vertices that we will need to unpack to apply the `scale2` function:"
   ]
  },
  {
   "cell_type": "code",
   "execution_count": 6,
   "metadata": {},
   "outputs": [
    {
     "name": "stderr",
     "output_type": "stream",
     "text": [
      "shm_open() failed: No such file or directory\n",
      "ALSA lib confmisc.c:855:(parse_card) cannot find card '0'\n",
      "ALSA lib conf.c:5204:(_snd_config_evaluate) function snd_func_card_inum returned error: No such file or directory\n",
      "ALSA lib confmisc.c:422:(snd_func_concat) error evaluating strings\n",
      "ALSA lib conf.c:5204:(_snd_config_evaluate) function snd_func_concat returned error: No such file or directory\n",
      "ALSA lib confmisc.c:1342:(snd_func_refer) error evaluating name\n",
      "ALSA lib conf.c:5204:(_snd_config_evaluate) function snd_func_refer returned error: No such file or directory\n",
      "ALSA lib conf.c:5727:(snd_config_expand) Evaluate error: No such file or directory\n",
      "ALSA lib pcm.c:2675:(snd_pcm_open_noupdate) Unknown PCM default\n"
     ]
    },
    {
     "ename": "SystemExit",
     "evalue": "0",
     "output_type": "error",
     "traceback": [
      "An exception has occurred, use %tb to see the full traceback.\n",
      "\u001b[0;31mSystemExit\u001b[0m\u001b[0;31m:\u001b[0m 0\n"
     ]
    },
    {
     "name": "stderr",
     "output_type": "stream",
     "text": [
      "/home/ubuntu/miniconda3/envs/gl3d/lib/python3.11/site-packages/IPython/core/interactiveshell.py:3556: UserWarning: To exit: use 'exit', 'quit', or Ctrl-D.\n",
      "  warn(\"To exit: use 'exit', 'quit', or Ctrl-D.\", stacklevel=1)\n"
     ]
    }
   ],
   "source": [
    "from rendergl import load_triangles, draw_model\n",
    "from vec3d.math import scale\n",
    "\n",
    "def scale2(v):\n",
    "    return scale(2.0, v)\n",
    "\n",
    "original_triangles = load_triangles()\n",
    "scaled_triangles = [\n",
    "    [scale2(v) for v in triangle] for triangle in triangles\n",
    "]\n",
    "\n",
    "draw_model(scaled_triangles)"
   ]
  },
  {
   "cell_type": "markdown",
   "metadata": {},
   "source": [
    "If everything goes according to plan, you should be able to see a scaled teapot such as the one below:\n",
    "\n",
    "![Scaled teapot](pics/scaled_teapot.png)"
   ]
  },
  {
   "cell_type": "markdown",
   "metadata": {},
   "source": [
    "Let's now apply another transformation consisting in adding the vector `(-1, 0, 0)` to each of the vertices.\n",
    "\n",
    "We know from previous sections that this will have the effect of *translating* the vector one unit to the left.\n",
    "\n",
    "Additionally, we will apply it on top of the previous scaling transformation:"
   ]
  },
  {
   "cell_type": "code",
   "execution_count": 8,
   "metadata": {},
   "outputs": [
    {
     "name": "stderr",
     "output_type": "stream",
     "text": [
      "shm_open() failed: No such file or directory\n",
      "ALSA lib confmisc.c:855:(parse_card) cannot find card '0'\n",
      "ALSA lib conf.c:5204:(_snd_config_evaluate) function snd_func_card_inum returned error: No such file or directory\n",
      "ALSA lib confmisc.c:422:(snd_func_concat) error evaluating strings\n",
      "ALSA lib conf.c:5204:(_snd_config_evaluate) function snd_func_concat returned error: No such file or directory\n",
      "ALSA lib confmisc.c:1342:(snd_func_refer) error evaluating name\n",
      "ALSA lib conf.c:5204:(_snd_config_evaluate) function snd_func_refer returned error: No such file or directory\n",
      "ALSA lib conf.c:5727:(snd_config_expand) Evaluate error: No such file or directory\n",
      "ALSA lib pcm.c:2675:(snd_pcm_open_noupdate) Unknown PCM default\n"
     ]
    },
    {
     "ename": "SystemExit",
     "evalue": "0",
     "output_type": "error",
     "traceback": [
      "An exception has occurred, use %tb to see the full traceback.\n",
      "\u001b[0;31mSystemExit\u001b[0m\u001b[0;31m:\u001b[0m 0\n"
     ]
    },
    {
     "name": "stderr",
     "output_type": "stream",
     "text": [
      "/home/ubuntu/miniconda3/envs/gl3d/lib/python3.11/site-packages/IPython/core/interactiveshell.py:3556: UserWarning: To exit: use 'exit', 'quit', or Ctrl-D.\n",
      "  warn(\"To exit: use 'exit', 'quit', or Ctrl-D.\", stacklevel=1)\n"
     ]
    }
   ],
   "source": [
    "from rendergl import load_triangles, draw_model\n",
    "from vec3d.math import scale, add\n",
    "\n",
    "def scale2(v):\n",
    "    return scale(2.0, v)\n",
    "\n",
    "def translate_1unit_left(v):\n",
    "    return add((-1, 0, 0), v)\n",
    "\n",
    "original_triangles = load_triangles()\n",
    "scaled_triangles = [\n",
    "    [scale2(v) for v in triangle] for triangle in triangles\n",
    "]\n",
    "\n",
    "scaled_translated_triangles = [\n",
    "    [translate_1unit_left(v) for v in triangle] for triangle in scaled_triangles\n",
    "]\n",
    "\n",
    "draw_model(scaled_translated_triangles)"
   ]
  },
  {
   "cell_type": "markdown",
   "metadata": {},
   "source": [
    "The result will be the scaled teapot moved one unit to the left:\n",
    "\n",
    "![Scaled Translated Teapot](pics/scaled_translated_teapot.png)"
   ]
  },
  {
   "cell_type": "markdown",
   "metadata": {},
   "source": [
    "### Composing Vector Transformations\n",
    "\n",
    "Applying any number of transformations sequentially defines a new transformation.\n",
    "\n",
    "For example, we could do:\n"
   ]
  },
  {
   "cell_type": "code",
   "execution_count": 9,
   "metadata": {},
   "outputs": [
    {
     "name": "stderr",
     "output_type": "stream",
     "text": [
      "shm_open() failed: No such file or directory\n",
      "ALSA lib confmisc.c:855:(parse_card) cannot find card '0'\n",
      "ALSA lib conf.c:5204:(_snd_config_evaluate) function snd_func_card_inum returned error: No such file or directory\n",
      "ALSA lib confmisc.c:422:(snd_func_concat) error evaluating strings\n",
      "ALSA lib conf.c:5204:(_snd_config_evaluate) function snd_func_concat returned error: No such file or directory\n",
      "ALSA lib confmisc.c:1342:(snd_func_refer) error evaluating name\n",
      "ALSA lib conf.c:5204:(_snd_config_evaluate) function snd_func_refer returned error: No such file or directory\n",
      "ALSA lib conf.c:5727:(snd_config_expand) Evaluate error: No such file or directory\n",
      "ALSA lib pcm.c:2675:(snd_pcm_open_noupdate) Unknown PCM default\n"
     ]
    },
    {
     "ename": "SystemExit",
     "evalue": "0",
     "output_type": "error",
     "traceback": [
      "An exception has occurred, use %tb to see the full traceback.\n",
      "\u001b[0;31mSystemExit\u001b[0m\u001b[0;31m:\u001b[0m 0\n"
     ]
    },
    {
     "name": "stderr",
     "output_type": "stream",
     "text": [
      "/home/ubuntu/miniconda3/envs/gl3d/lib/python3.11/site-packages/IPython/core/interactiveshell.py:3556: UserWarning: To exit: use 'exit', 'quit', or Ctrl-D.\n",
      "  warn(\"To exit: use 'exit', 'quit', or Ctrl-D.\", stacklevel=1)\n"
     ]
    }
   ],
   "source": [
    "from rendergl import load_triangles, draw_model\n",
    "from vec3d.math import scale, add\n",
    "\n",
    "def scale2(v):\n",
    "    return scale(2.0, v)\n",
    "\n",
    "def translate_1unit_left(v):\n",
    "    return add((-1, 0, 0), v)\n",
    "\n",
    "def scale2_then_translate_1unit_left(v):\n",
    "    return translate_1unit_left(scale2(v))\n",
    "\n",
    "scaled_translated_triangles = [\n",
    "    [scale2_then_translate_1unit_left(v) for v in triangle]\n",
    "    for triangle in load_triangles()\n",
    "]\n",
    "\n",
    "draw_model(scaled_translated_triangles)"
   ]
  },
  {
   "cell_type": "markdown",
   "metadata": {},
   "source": [
    "Because vector transformations take vectors as inputs and returns vectors as outputs, we can combine any number of them by way of *composition of functions*.\n",
    "\n",
    "In the Lego bricks mental model that we introduced at the beginning of the chapter, the composition looks like:\n",
    "\n",
    "![Lego bricks composition](pics/lego-bricks-composition.png)"
   ]
  },
  {
   "cell_type": "markdown",
   "metadata": {},
   "source": [
    "Note that we could *piece together* the two Lego bricks:\n",
    "\n",
    "![Lego bricks pieced together](pics/lego-bricks-pieced-together.png)\n",
    "\n",
    "This welding can also be done in code as well:"
   ]
  },
  {
   "cell_type": "code",
   "execution_count": null,
   "metadata": {},
   "outputs": [],
   "source": [
    "def compose(f1, f2):\n",
    "    def new_fn(input):\n",
    "        return f1(f2(input))\n",
    "\n",
    "    return new_fn"
   ]
  },
  {
   "cell_type": "markdown",
   "metadata": {},
   "source": [
    "With that new function in place, we can define our `scale2_then_translate_1unit_left` transformation as:"
   ]
  },
  {
   "cell_type": "code",
   "execution_count": null,
   "metadata": {},
   "outputs": [],
   "source": [
    "scale2_then_translate_1unit_left = compose(translate_1unit_left, scale2)"
   ]
  },
  {
   "cell_type": "markdown",
   "metadata": {},
   "source": [
    "So that:"
   ]
  },
  {
   "cell_type": "code",
   "execution_count": 2,
   "metadata": {},
   "outputs": [
    {
     "name": "stderr",
     "output_type": "stream",
     "text": [
      "shm_open() failed: No such file or directory\n",
      "ALSA lib confmisc.c:855:(parse_card) cannot find card '0'\n",
      "ALSA lib conf.c:5204:(_snd_config_evaluate) function snd_func_card_inum returned error: No such file or directory\n",
      "ALSA lib confmisc.c:422:(snd_func_concat) error evaluating strings\n",
      "ALSA lib conf.c:5204:(_snd_config_evaluate) function snd_func_concat returned error: No such file or directory\n",
      "ALSA lib confmisc.c:1342:(snd_func_refer) error evaluating name\n",
      "ALSA lib conf.c:5204:(_snd_config_evaluate) function snd_func_refer returned error: No such file or directory\n",
      "ALSA lib conf.c:5727:(snd_config_expand) Evaluate error: No such file or directory\n",
      "ALSA lib pcm.c:2675:(snd_pcm_open_noupdate) Unknown PCM default\n"
     ]
    },
    {
     "ename": "SystemExit",
     "evalue": "0",
     "output_type": "error",
     "traceback": [
      "An exception has occurred, use %tb to see the full traceback.\n",
      "\u001b[0;31mSystemExit\u001b[0m\u001b[0;31m:\u001b[0m 0\n"
     ]
    },
    {
     "name": "stderr",
     "output_type": "stream",
     "text": [
      "/home/ubuntu/miniconda3/envs/gl3d/lib/python3.11/site-packages/IPython/core/interactiveshell.py:3556: UserWarning: To exit: use 'exit', 'quit', or Ctrl-D.\n",
      "  warn(\"To exit: use 'exit', 'quit', or Ctrl-D.\", stacklevel=1)\n"
     ]
    }
   ],
   "source": [
    "from rendergl import load_triangles, draw_model\n",
    "from vec3d.math import scale, add\n",
    "\n",
    "def compose(f1, f2):\n",
    "    def new_fn(input):\n",
    "        return f1(f2(input))\n",
    "\n",
    "    return new_fn\n",
    "\n",
    "def scale2(v):\n",
    "    return scale(2.0, v)\n",
    "\n",
    "def translate_1unit_left(v):\n",
    "    return add((-1, 0, 0), v)\n",
    "\n",
    "scale2_then_translate_1unit_left = compose(translate_1unit_left, scale2)\n",
    "\n",
    "scaled_translated_triangles = [\n",
    "    [scale2_then_translate_1unit_left(v) for v in triangle]\n",
    "    for triangle in load_triangles()\n",
    "]\n",
    "\n",
    "draw_model(scaled_translated_triangles)"
   ]
  },
  {
   "cell_type": "markdown",
   "metadata": {},
   "source": [
    "These type of techniques that treat functions as *first-class citizens* are known as *functional programming capabilities.\n",
    "\n",
    "Functions can be passed as inputs to other functions, created within functions and returned as output values, or assigned to regular variables so that they can be invoked later."
   ]
  },
  {
   "cell_type": "markdown",
   "metadata": {},
   "source": [
    "In the same way that we can define a `compose` function to generalize the application of two transformations to a vector, we can also define a `polygon_map` function that takes a transformation and a set of polygons and performs the transformation of the original polygons:"
   ]
  },
  {
   "cell_type": "code",
   "execution_count": null,
   "metadata": {},
   "outputs": [],
   "source": [
    "def polygon_map(transformation, polygons):\n",
    "    return [\n",
    "        [transformation(vertex) for vertex in triangle]\n",
    "        for triangle in polygons\n",
    "    ]"
   ]
  },
  {
   "cell_type": "markdown",
   "metadata": {},
   "source": [
    "Thus, to scale the teapot we can do:"
   ]
  },
  {
   "cell_type": "code",
   "execution_count": 4,
   "metadata": {},
   "outputs": [
    {
     "name": "stderr",
     "output_type": "stream",
     "text": [
      "shm_open() failed: No such file or directory\n",
      "ALSA lib confmisc.c:855:(parse_card) cannot find card '0'\n",
      "ALSA lib conf.c:5204:(_snd_config_evaluate) function snd_func_card_inum returned error: No such file or directory\n",
      "ALSA lib confmisc.c:422:(snd_func_concat) error evaluating strings\n",
      "ALSA lib conf.c:5204:(_snd_config_evaluate) function snd_func_concat returned error: No such file or directory\n",
      "ALSA lib confmisc.c:1342:(snd_func_refer) error evaluating name\n",
      "ALSA lib conf.c:5204:(_snd_config_evaluate) function snd_func_refer returned error: No such file or directory\n",
      "ALSA lib conf.c:5727:(snd_config_expand) Evaluate error: No such file or directory\n",
      "ALSA lib pcm.c:2675:(snd_pcm_open_noupdate) Unknown PCM default\n"
     ]
    },
    {
     "ename": "SystemExit",
     "evalue": "0",
     "output_type": "error",
     "traceback": [
      "An exception has occurred, use %tb to see the full traceback.\n",
      "\u001b[0;31mSystemExit\u001b[0m\u001b[0;31m:\u001b[0m 0\n"
     ]
    },
    {
     "name": "stderr",
     "output_type": "stream",
     "text": [
      "/home/ubuntu/miniconda3/envs/gl3d/lib/python3.11/site-packages/IPython/core/interactiveshell.py:3556: UserWarning: To exit: use 'exit', 'quit', or Ctrl-D.\n",
      "  warn(\"To exit: use 'exit', 'quit', or Ctrl-D.\", stacklevel=1)\n"
     ]
    }
   ],
   "source": [
    "from rendergl import load_triangles, draw_model\n",
    "from vec3d.math import scale\n",
    "\n",
    "def scale2(v):\n",
    "    return scale(2.0, v)\n",
    "\n",
    "def polygon_map(transformation, polygons):\n",
    "    return [\n",
    "        [transformation(vertex) for vertex in triangle]\n",
    "        for triangle in polygons\n",
    "    ]\n",
    "\n",
    "draw_model(polygon_map(scale2, load_triangles()))"
   ]
  },
  {
   "cell_type": "markdown",
   "metadata": {},
   "source": [
    "Now, we can turn it up a notch and use similar functional techniques to create more generic functions for our individual transformations.\n",
    "\n",
    "For example, we can rely on closures to define a generic `scale_by(scalar)` function that takes an scalar and returns the corresponding transformation function.\n",
    "\n",
    "This will let us get rid of hardcoded functions such as `scale2`."
   ]
  },
  {
   "cell_type": "code",
   "execution_count": 5,
   "metadata": {},
   "outputs": [],
   "source": [
    "from vec3d.math import scale\n",
    "\n",
    "def scale_by(scalar):\n",
    "    def new_fn(v):\n",
    "        return scale(scalar, v)\n",
    "\n",
    "    return new_fn"
   ]
  },
  {
   "cell_type": "markdown",
   "metadata": {},
   "source": [
    "Now, we can rewrite our code as:"
   ]
  },
  {
   "cell_type": "code",
   "execution_count": 6,
   "metadata": {},
   "outputs": [
    {
     "name": "stderr",
     "output_type": "stream",
     "text": [
      "shm_open() failed: No such file or directory\n",
      "ALSA lib confmisc.c:855:(parse_card) cannot find card '0'\n",
      "ALSA lib conf.c:5204:(_snd_config_evaluate) function snd_func_card_inum returned error: No such file or directory\n",
      "ALSA lib confmisc.c:422:(snd_func_concat) error evaluating strings\n",
      "ALSA lib conf.c:5204:(_snd_config_evaluate) function snd_func_concat returned error: No such file or directory\n",
      "ALSA lib confmisc.c:1342:(snd_func_refer) error evaluating name\n",
      "ALSA lib conf.c:5204:(_snd_config_evaluate) function snd_func_refer returned error: No such file or directory\n",
      "ALSA lib conf.c:5727:(snd_config_expand) Evaluate error: No such file or directory\n",
      "ALSA lib pcm.c:2675:(snd_pcm_open_noupdate) Unknown PCM default\n"
     ]
    },
    {
     "ename": "SystemExit",
     "evalue": "0",
     "output_type": "error",
     "traceback": [
      "An exception has occurred, use %tb to see the full traceback.\n",
      "\u001b[0;31mSystemExit\u001b[0m\u001b[0;31m:\u001b[0m 0\n"
     ]
    },
    {
     "name": "stderr",
     "output_type": "stream",
     "text": [
      "/home/ubuntu/miniconda3/envs/gl3d/lib/python3.11/site-packages/IPython/core/interactiveshell.py:3556: UserWarning: To exit: use 'exit', 'quit', or Ctrl-D.\n",
      "  warn(\"To exit: use 'exit', 'quit', or Ctrl-D.\", stacklevel=1)\n"
     ]
    }
   ],
   "source": [
    "from rendergl import load_triangles, draw_model\n",
    "from vec3d.math import scale\n",
    "\n",
    "def scale_by(scalar):\n",
    "    def new_fn(v):\n",
    "        return scale(scalar, v)\n",
    "\n",
    "    return new_fn\n",
    "\n",
    "def polygon_map(transformation, polygons):\n",
    "    return [\n",
    "        [transformation(vertex) for vertex in triangle]\n",
    "        for triangle in polygons\n",
    "    ]\n",
    "\n",
    "draw_model(polygon_map(scale_by(2), load_triangles()))"
   ]
  },
  {
   "cell_type": "markdown",
   "metadata": {},
   "source": [
    "You can think of `scale_by` as a *machine* that takes numbers as an input and outputs a concrete transformation function.\n",
    "\n",
    "Similarly, we can define a `translate_by` function:"
   ]
  },
  {
   "cell_type": "code",
   "execution_count": 7,
   "metadata": {},
   "outputs": [
    {
     "name": "stderr",
     "output_type": "stream",
     "text": [
      "shm_open() failed: No such file or directory\n",
      "ALSA lib confmisc.c:855:(parse_card) cannot find card '0'\n",
      "ALSA lib conf.c:5204:(_snd_config_evaluate) function snd_func_card_inum returned error: No such file or directory\n",
      "ALSA lib confmisc.c:422:(snd_func_concat) error evaluating strings\n",
      "ALSA lib conf.c:5204:(_snd_config_evaluate) function snd_func_concat returned error: No such file or directory\n",
      "ALSA lib confmisc.c:1342:(snd_func_refer) error evaluating name\n",
      "ALSA lib conf.c:5204:(_snd_config_evaluate) function snd_func_refer returned error: No such file or directory\n",
      "ALSA lib conf.c:5727:(snd_config_expand) Evaluate error: No such file or directory\n",
      "ALSA lib pcm.c:2675:(snd_pcm_open_noupdate) Unknown PCM default\n"
     ]
    },
    {
     "ename": "SystemExit",
     "evalue": "0",
     "output_type": "error",
     "traceback": [
      "An exception has occurred, use %tb to see the full traceback.\n",
      "\u001b[0;31mSystemExit\u001b[0m\u001b[0;31m:\u001b[0m 0\n"
     ]
    },
    {
     "name": "stderr",
     "output_type": "stream",
     "text": [
      "/home/ubuntu/miniconda3/envs/gl3d/lib/python3.11/site-packages/IPython/core/interactiveshell.py:3556: UserWarning: To exit: use 'exit', 'quit', or Ctrl-D.\n",
      "  warn(\"To exit: use 'exit', 'quit', or Ctrl-D.\", stacklevel=1)\n"
     ]
    }
   ],
   "source": [
    "from rendergl import load_triangles, draw_model\n",
    "from vec3d.math import add\n",
    "\n",
    "def translate_by(vector):\n",
    "    def new_fn(v):\n",
    "        return add(vector, v)\n",
    "\n",
    "    return new_fn\n",
    "\n",
    "def polygon_map(transformation, polygons):\n",
    "    return [\n",
    "        [transformation(vertex) for vertex in triangle]\n",
    "        for triangle in polygons\n",
    "    ]\n",
    "\n",
    "draw_model(polygon_map(translate_by((-1, 0, 0)), load_triangles()))"
   ]
  },
  {
   "cell_type": "markdown",
   "metadata": {},
   "source": [
    "In the world of functional programming, this process is called *currying*.\n",
    "\n",
    "> Currying takes a function that accepts multiple inputs and refactors it to a function that returns another function.\n",
    "\n",
    "The result of currying is a sort of machine that takes an input and returns a function. The result after currying behaves identically, but is invoked differently.\n",
    "\n",
    "In our case, `scale(s, v)` will give the same result as `scale_by(s)(v)`."
   ]
  },
  {
   "cell_type": "markdown",
   "metadata": {},
   "source": [
    "| NOTE: |\n",
    "| :---- |\n",
    "| In our `rendergl` library, these concepts are implemented in the `transformations.py` file. |"
   ]
  },
  {
   "cell_type": "markdown",
   "metadata": {},
   "source": [
    "### Rotating an Object about an Axis\n",
    "\n",
    "In a previous chapter we learned how to do rotations in the 2D plane:\n",
    "+ You take a vector given its Cartesian coordinates\n",
    "+ You convert the vector to the equivalent polar coordinates\n",
    "+ You apply the rotation by a given angle\n",
    "+ You convert the transformed vector to Cartesian coordinates\n",
    "\n",
    "That approach will still be helpful in 3D because all 3D vector rotations are *isolated in 2D planes*."
   ]
  },
  {
   "cell_type": "markdown",
   "metadata": {},
   "source": [
    "What we mean by that is that, if we want a *certain vector to be rotated about the z-axis*, its x- and y- coordinates will change, but it's z- coordinate will remain the same.\n",
    "\n",
    "This means that when we rotate a given vector about the z- axis we're actually performing a 2D rotation on the 2D plane and then *stitching back* the z- value.\n",
    "\n",
    "![Rotate about z- axis](pics/rotate_about_z.png)"
   ]
  },
  {
   "cell_type": "markdown",
   "metadata": {},
   "source": [
    "Let's first define a helper function `rotate2d` that implements the strategy laid out before.\n",
    "\n",
    "We need that function because the `rotate` function that we have in `vec2d` was created as a transformation for a list of 2D vectors, and we want the function to conform with our transformation signature:\n",
    "\n",
    "```python\n",
    "# vec2d.math.rotate\n",
    "def rotate(\n",
    "    angle: float,\n",
    "    vectors: list[tuple[int | float, int | float]],\n",
    ") -> list[tuple[int | float, int | float]]\n",
    "```\n",
    "\n",
    "Thus, we can define:"
   ]
  },
  {
   "cell_type": "code",
   "execution_count": null,
   "metadata": {},
   "outputs": [],
   "source": [
    "from vec2d.math import to_polar, to_cartesian\n",
    "\n",
    "def rotate2d(angle, vector):\n",
    "    l, a = to_polar(vector)\n",
    "    return to_cartesian((l, a + angle))"
   ]
  },
  {
   "cell_type": "markdown",
   "metadata": {},
   "source": [
    "So that now it is prepared to become a transformation function.\n",
    "\n",
    "```python\n",
    "def rotate_z(\n",
    "    angle: float, vector: tuple[float, float, float]) -> tuple[float, float, float]:\n",
    "    x, y, z = vector\n",
    "    new_x, new_y = rotate2d(angle, (x, y))\n",
    "    return new_x, new_y, z\n",
    "```\n",
    "\n",
    "And finally, we can curry this function, so that we can obtain a transformation function we can use:\n",
    "\n",
    "```python\n",
    "def rotate_z_by(angle: float):\n",
    "    def new_fn(v):\n",
    "        return rotate_z(angle, v)\n",
    "\n",
    "    return new_fn\n",
    "```\n",
    "\n",
    "| NOTE: |\n",
    "| :---- |\n",
    "| Those functions are available in our `rendergl` library. |"
   ]
  },
  {
   "cell_type": "markdown",
   "metadata": {},
   "source": [
    "Let's confirm that the transformation works as expected by rotating our teapot by 45°:"
   ]
  },
  {
   "cell_type": "code",
   "execution_count": 1,
   "metadata": {},
   "outputs": [
    {
     "name": "stdout",
     "output_type": "stream",
     "text": [
      "pygame 2.1.3.dev8 (SDL 2.28.4, Python 3.11.5)\n",
      "Hello from the pygame community. https://www.pygame.org/contribute.html\n"
     ]
    },
    {
     "name": "stderr",
     "output_type": "stream",
     "text": [
      "shm_open() failed: No such file or directory\n",
      "ALSA lib confmisc.c:855:(parse_card) cannot find card '0'\n",
      "ALSA lib conf.c:5204:(_snd_config_evaluate) function snd_func_card_inum returned error: No such file or directory\n",
      "ALSA lib confmisc.c:422:(snd_func_concat) error evaluating strings\n",
      "ALSA lib conf.c:5204:(_snd_config_evaluate) function snd_func_concat returned error: No such file or directory\n",
      "ALSA lib confmisc.c:1342:(snd_func_refer) error evaluating name\n",
      "ALSA lib conf.c:5204:(_snd_config_evaluate) function snd_func_refer returned error: No such file or directory\n",
      "ALSA lib conf.c:5727:(snd_config_expand) Evaluate error: No such file or directory\n",
      "ALSA lib pcm.c:2675:(snd_pcm_open_noupdate) Unknown PCM default\n"
     ]
    },
    {
     "ename": "SystemExit",
     "evalue": "0",
     "output_type": "error",
     "traceback": [
      "An exception has occurred, use %tb to see the full traceback.\n",
      "\u001b[0;31mSystemExit\u001b[0m\u001b[0;31m:\u001b[0m 0\n"
     ]
    },
    {
     "name": "stderr",
     "output_type": "stream",
     "text": [
      "/home/ubuntu/miniconda3/envs/gl3d/lib/python3.11/site-packages/IPython/core/interactiveshell.py:3556: UserWarning: To exit: use 'exit', 'quit', or Ctrl-D.\n",
      "  warn(\"To exit: use 'exit', 'quit', or Ctrl-D.\", stacklevel=1)\n"
     ]
    }
   ],
   "source": [
    "from vec2d.math import to_radians\n",
    "from rendergl import draw_model, load_triangles, rotate_z_by, polygon_map\n",
    "\n",
    "draw_model(polygon_map(rotate_z_by(to_radians(45)), load_triangles()))\n"
   ]
  },
  {
   "cell_type": "markdown",
   "metadata": {},
   "source": [
    "If everything worked as expected, you will get:\n",
    "\n",
    "![Teapot rotated about z](pics/teapot_rotated_about_z.png)"
   ]
  },
  {
   "cell_type": "markdown",
   "metadata": {},
   "source": [
    "Similarly we can define functions to rotate the teapot about the x-axis, which means x coordinate will stay fixed, with y and z components will be transformed by the rotation:\n",
    "\n",
    "```python\n",
    "def rotate_x(angle, vector):\n",
    "    x, y, z = vector\n",
    "    new_y, new_z = rotate2d(angle, (y, z))\n",
    "    return x, new_y, new_z\n",
    "\n",
    "\n",
    "def rotate_x_by(angle):\n",
    "    def new_fn(v):\n",
    "        return rotate_x(angle, v)\n",
    "\n",
    "    return new_fn\n",
    "```\n",
    "\n",
    "And test it:"
   ]
  },
  {
   "cell_type": "code",
   "execution_count": 2,
   "metadata": {},
   "outputs": [
    {
     "name": "stderr",
     "output_type": "stream",
     "text": [
      "shm_open() failed: No such file or directory\n",
      "ALSA lib confmisc.c:855:(parse_card) cannot find card '0'\n",
      "ALSA lib conf.c:5204:(_snd_config_evaluate) function snd_func_card_inum returned error: No such file or directory\n",
      "ALSA lib confmisc.c:422:(snd_func_concat) error evaluating strings\n",
      "ALSA lib conf.c:5204:(_snd_config_evaluate) function snd_func_concat returned error: No such file or directory\n",
      "ALSA lib confmisc.c:1342:(snd_func_refer) error evaluating name\n",
      "ALSA lib conf.c:5204:(_snd_config_evaluate) function snd_func_refer returned error: No such file or directory\n",
      "ALSA lib conf.c:5727:(snd_config_expand) Evaluate error: No such file or directory\n",
      "ALSA lib pcm.c:2675:(snd_pcm_open_noupdate) Unknown PCM default\n"
     ]
    },
    {
     "ename": "SystemExit",
     "evalue": "0",
     "output_type": "error",
     "traceback": [
      "An exception has occurred, use %tb to see the full traceback.\n",
      "\u001b[0;31mSystemExit\u001b[0m\u001b[0;31m:\u001b[0m 0\n"
     ]
    }
   ],
   "source": [
    "from vec2d.math import to_radians\n",
    "from rendergl import draw_model, load_triangles, rotate_x_by, polygon_map\n",
    "\n",
    "draw_model(polygon_map(rotate_x_by(to_radians(45)), load_triangles()))"
   ]
  },
  {
   "cell_type": "markdown",
   "metadata": {},
   "source": [
    "And if everything works well you'll get:\n",
    "\n",
    "![Teapot rotated about x](pics/teapot_rotated_about_x.png)"
   ]
  },
  {
   "cell_type": "markdown",
   "metadata": {},
   "source": [
    "And similarly for rotations about y- axis."
   ]
  },
  {
   "cell_type": "code",
   "execution_count": 2,
   "metadata": {},
   "outputs": [
    {
     "name": "stderr",
     "output_type": "stream",
     "text": [
      "shm_open() failed: No such file or directory\n",
      "ALSA lib confmisc.c:855:(parse_card) cannot find card '0'\n",
      "ALSA lib conf.c:5204:(_snd_config_evaluate) function snd_func_card_inum returned error: No such file or directory\n",
      "ALSA lib confmisc.c:422:(snd_func_concat) error evaluating strings\n",
      "ALSA lib conf.c:5204:(_snd_config_evaluate) function snd_func_concat returned error: No such file or directory\n",
      "ALSA lib confmisc.c:1342:(snd_func_refer) error evaluating name\n",
      "ALSA lib conf.c:5204:(_snd_config_evaluate) function snd_func_refer returned error: No such file or directory\n",
      "ALSA lib conf.c:5727:(snd_config_expand) Evaluate error: No such file or directory\n",
      "ALSA lib pcm.c:2675:(snd_pcm_open_noupdate) Unknown PCM default\n"
     ]
    },
    {
     "ename": "SystemExit",
     "evalue": "0",
     "output_type": "error",
     "traceback": [
      "An exception has occurred, use %tb to see the full traceback.\n",
      "\u001b[0;31mSystemExit\u001b[0m\u001b[0;31m:\u001b[0m 0\n"
     ]
    }
   ],
   "source": [
    "from vec2d.math import to_radians\n",
    "from rendergl import draw_model, load_triangles, rotate_y_by, polygon_map\n",
    "\n",
    "draw_model(polygon_map(rotate_y_by(to_radians(45)), load_triangles()))"
   ]
  },
  {
   "cell_type": "markdown",
   "metadata": {},
   "source": [
    "And it will end up displaying:\n",
    "\n",
    "![Teapot rotated about y](pics/teapot_rotated_about_y.png)"
   ]
  },
  {
   "cell_type": "markdown",
   "metadata": {},
   "source": [
    "#### Notes on OpenGL axis\n",
    "\n",
    "We saw on the previous section that a rotation about the z- axis should leave the z coordinate fixed.\n",
    "\n",
    "However, you can notice in the pictures above that what we usually identify as z- axis is the OpenGL y- axis. That is, rotating a 3D shape about y- axis in OpenGL make *height* components stay the same.\n",
    "\n",
    "That is because OpenGL uses a different approach for naming the coordinates:\n",
    "\n",
    "![OpenGL axis orientation](pics/opengl-axis-orientation.png)"
   ]
  },
  {
   "cell_type": "markdown",
   "metadata": {},
   "source": [
    "Note that it doesn't change the way we think about right-hand rule, etc. &mdash; it's only that the axes themselves are rotated from the previous orientation that we used in the previous chapter."
   ]
  },
  {
   "cell_type": "markdown",
   "metadata": {},
   "source": [
    "### Inventing Your own Geometric Transformations\n",
    "\n",
    "A 3D vector transformation takes a single 3D vector and returns a new 3D vector:\n",
    "\n",
    "```python\n",
    "def transform(v):\n",
    "  old_x, old_y, old_z = v\n",
    "  # ... do some computations here ...\n",
    "  return (new_x, new_y, new_z)\n",
    "```\n",
    "\n",
    "Up until now, we've used rotations and transformations, which we had already introduced. In this section we'll use new ones."
   ]
  },
  {
   "cell_type": "markdown",
   "metadata": {},
   "source": [
    "For example, we can define a transformation `stretch_x` which takes a vector and multiplies its x- component by a given number."
   ]
  },
  {
   "cell_type": "code",
   "execution_count": 9,
   "metadata": {},
   "outputs": [
    {
     "name": "stderr",
     "output_type": "stream",
     "text": [
      "shm_open() failed: No such file or directory\n",
      "ALSA lib confmisc.c:855:(parse_card) cannot find card '0'\n",
      "ALSA lib conf.c:5204:(_snd_config_evaluate) function snd_func_card_inum returned error: No such file or directory\n",
      "ALSA lib confmisc.c:422:(snd_func_concat) error evaluating strings\n",
      "ALSA lib conf.c:5204:(_snd_config_evaluate) function snd_func_concat returned error: No such file or directory\n",
      "ALSA lib confmisc.c:1342:(snd_func_refer) error evaluating name\n",
      "ALSA lib conf.c:5204:(_snd_config_evaluate) function snd_func_refer returned error: No such file or directory\n",
      "ALSA lib conf.c:5727:(snd_config_expand) Evaluate error: No such file or directory\n",
      "ALSA lib pcm.c:2675:(snd_pcm_open_noupdate) Unknown PCM default\n"
     ]
    },
    {
     "ename": "SystemExit",
     "evalue": "0",
     "output_type": "error",
     "traceback": [
      "An exception has occurred, use %tb to see the full traceback.\n",
      "\u001b[0;31mSystemExit\u001b[0m\u001b[0;31m:\u001b[0m 0\n"
     ]
    }
   ],
   "source": [
    "from rendergl import load_triangles, draw_model, polygon_map\n",
    "\n",
    "def stretch_x(v):\n",
    "    x, y, z = v\n",
    "    return 4. * x, y, z\n",
    "\n",
    "\n",
    "draw_model(polygon_map(stretch_x, load_triangles()))"
   ]
  },
  {
   "cell_type": "markdown",
   "metadata": {},
   "source": [
    "Which will result in:\n",
    "\n",
    "![Teapot: stretched y](pics/teapot_stretched_y.png)"
   ]
  },
  {
   "cell_type": "markdown",
   "metadata": {},
   "source": [
    "Let's see it from above:"
   ]
  },
  {
   "cell_type": "code",
   "execution_count": 10,
   "metadata": {},
   "outputs": [
    {
     "name": "stderr",
     "output_type": "stream",
     "text": [
      "shm_open() failed: No such file or directory\n",
      "ALSA lib confmisc.c:855:(parse_card) cannot find card '0'\n",
      "ALSA lib conf.c:5204:(_snd_config_evaluate) function snd_func_card_inum returned error: No such file or directory\n",
      "ALSA lib confmisc.c:422:(snd_func_concat) error evaluating strings\n",
      "ALSA lib conf.c:5204:(_snd_config_evaluate) function snd_func_concat returned error: No such file or directory\n",
      "ALSA lib confmisc.c:1342:(snd_func_refer) error evaluating name\n",
      "ALSA lib conf.c:5204:(_snd_config_evaluate) function snd_func_refer returned error: No such file or directory\n",
      "ALSA lib conf.c:5727:(snd_config_expand) Evaluate error: No such file or directory\n",
      "ALSA lib pcm.c:2675:(snd_pcm_open_noupdate) Unknown PCM default\n"
     ]
    },
    {
     "ename": "SystemExit",
     "evalue": "0",
     "output_type": "error",
     "traceback": [
      "An exception has occurred, use %tb to see the full traceback.\n",
      "\u001b[0;31mSystemExit\u001b[0m\u001b[0;31m:\u001b[0m 0\n"
     ]
    }
   ],
   "source": [
    "from vec2d.math import to_radians\n",
    "from rendergl import draw_model, load_triangles, rotate_x_by, polygon_map\n",
    "\n",
    "def compose(f1, f2):\n",
    "    def new_fn(v):\n",
    "        return f1(f2(v))\n",
    "\n",
    "    return new_fn\n",
    "\n",
    "\n",
    "def stretch_x(v):\n",
    "    x, y, z = v\n",
    "    return 4. * x, y, z\n",
    "\n",
    "draw_model(polygon_map(compose(rotate_x_by(to_radians(90)), stretch_x), load_triangles()))"
   ]
  },
  {
   "cell_type": "markdown",
   "metadata": {},
   "source": [
    "Which will look like:\n",
    "\n",
    "![Teapot: stretched x from above](pics/teapot-stretched-x-from-above.png)"
   ]
  },
  {
   "cell_type": "markdown",
   "metadata": {},
   "source": [
    "Similarly can also stretch the y- coordinatinate to make it taller:"
   ]
  },
  {
   "cell_type": "code",
   "execution_count": 8,
   "metadata": {},
   "outputs": [
    {
     "name": "stderr",
     "output_type": "stream",
     "text": [
      "shm_open() failed: No such file or directory\n",
      "ALSA lib confmisc.c:855:(parse_card) cannot find card '0'\n",
      "ALSA lib conf.c:5204:(_snd_config_evaluate) function snd_func_card_inum returned error: No such file or directory\n",
      "ALSA lib confmisc.c:422:(snd_func_concat) error evaluating strings\n",
      "ALSA lib conf.c:5204:(_snd_config_evaluate) function snd_func_concat returned error: No such file or directory\n",
      "ALSA lib confmisc.c:1342:(snd_func_refer) error evaluating name\n",
      "ALSA lib conf.c:5204:(_snd_config_evaluate) function snd_func_refer returned error: No such file or directory\n",
      "ALSA lib conf.c:5727:(snd_config_expand) Evaluate error: No such file or directory\n",
      "ALSA lib pcm.c:2675:(snd_pcm_open_noupdate) Unknown PCM default\n"
     ]
    },
    {
     "ename": "SystemExit",
     "evalue": "0",
     "output_type": "error",
     "traceback": [
      "An exception has occurred, use %tb to see the full traceback.\n",
      "\u001b[0;31mSystemExit\u001b[0m\u001b[0;31m:\u001b[0m 0\n"
     ]
    },
    {
     "name": "stderr",
     "output_type": "stream",
     "text": [
      "/home/ubuntu/miniconda3/envs/gl3d/lib/python3.11/site-packages/IPython/core/interactiveshell.py:3556: UserWarning: To exit: use 'exit', 'quit', or Ctrl-D.\n",
      "  warn(\"To exit: use 'exit', 'quit', or Ctrl-D.\", stacklevel=1)\n"
     ]
    }
   ],
   "source": [
    "from rendergl import load_triangles, draw_model, polygon_map\n",
    "\n",
    "def stretch_y(v):\n",
    "    x, y, z = v\n",
    "    return  x, y * 4., z\n",
    "\n",
    "\n",
    "draw_model(polygon_map(stretch_y, load_triangles()))"
   ]
  },
  {
   "cell_type": "markdown",
   "metadata": {},
   "source": [
    "Which will result in:\n",
    "\n",
    "![Teapot: stretched y](pics/teapot_stretched_y.png)"
   ]
  },
  {
   "cell_type": "markdown",
   "metadata": {},
   "source": [
    "We can also make the 3D shape disproportionately elogated by cubing the y- coordinate:"
   ]
  },
  {
   "cell_type": "code",
   "execution_count": 5,
   "metadata": {},
   "outputs": [
    {
     "name": "stderr",
     "output_type": "stream",
     "text": [
      "shm_open() failed: No such file or directory\n",
      "ALSA lib confmisc.c:855:(parse_card) cannot find card '0'\n",
      "ALSA lib conf.c:5204:(_snd_config_evaluate) function snd_func_card_inum returned error: No such file or directory\n",
      "ALSA lib confmisc.c:422:(snd_func_concat) error evaluating strings\n",
      "ALSA lib conf.c:5204:(_snd_config_evaluate) function snd_func_concat returned error: No such file or directory\n",
      "ALSA lib confmisc.c:1342:(snd_func_refer) error evaluating name\n",
      "ALSA lib conf.c:5204:(_snd_config_evaluate) function snd_func_refer returned error: No such file or directory\n",
      "ALSA lib conf.c:5727:(snd_config_expand) Evaluate error: No such file or directory\n",
      "ALSA lib pcm.c:2675:(snd_pcm_open_noupdate) Unknown PCM default\n"
     ]
    },
    {
     "ename": "SystemExit",
     "evalue": "0",
     "output_type": "error",
     "traceback": [
      "An exception has occurred, use %tb to see the full traceback.\n",
      "\u001b[0;31mSystemExit\u001b[0m\u001b[0;31m:\u001b[0m 0\n"
     ]
    }
   ],
   "source": [
    "from rendergl import load_triangles, draw_model, polygon_map\n",
    "\n",
    "def stretch_y(v):\n",
    "    x, y, z = v\n",
    "    return x, y * y * y, z\n",
    "\n",
    "\n",
    "draw_model(polygon_map(stretch_y, load_triangles()))"
   ]
  },
  {
   "cell_type": "markdown",
   "metadata": {},
   "source": [
    "Which will render something like:\n",
    "\n",
    "![Teapot: cube y](pics/teapot-cube-y.png)"
   ]
  },
  {
   "cell_type": "markdown",
   "metadata": {},
   "source": [
    "We can also slant the teapot by adding two of the three coordinates:"
   ]
  },
  {
   "cell_type": "code",
   "execution_count": 11,
   "metadata": {},
   "outputs": [
    {
     "name": "stderr",
     "output_type": "stream",
     "text": [
      "shm_open() failed: No such file or directory\n",
      "ALSA lib confmisc.c:855:(parse_card) cannot find card '0'\n",
      "ALSA lib conf.c:5204:(_snd_config_evaluate) function snd_func_card_inum returned error: No such file or directory\n",
      "ALSA lib confmisc.c:422:(snd_func_concat) error evaluating strings\n",
      "ALSA lib conf.c:5204:(_snd_config_evaluate) function snd_func_concat returned error: No such file or directory\n",
      "ALSA lib confmisc.c:1342:(snd_func_refer) error evaluating name\n",
      "ALSA lib conf.c:5204:(_snd_config_evaluate) function snd_func_refer returned error: No such file or directory\n",
      "ALSA lib conf.c:5727:(snd_config_expand) Evaluate error: No such file or directory\n",
      "ALSA lib pcm.c:2675:(snd_pcm_open_noupdate) Unknown PCM default\n"
     ]
    },
    {
     "ename": "SystemExit",
     "evalue": "0",
     "output_type": "error",
     "traceback": [
      "An exception has occurred, use %tb to see the full traceback.\n",
      "\u001b[0;31mSystemExit\u001b[0m\u001b[0;31m:\u001b[0m 0\n"
     ]
    },
    {
     "name": "stderr",
     "output_type": "stream",
     "text": [
      "/home/ubuntu/miniconda3/envs/gl3d/lib/python3.11/site-packages/IPython/core/interactiveshell.py:3556: UserWarning: To exit: use 'exit', 'quit', or Ctrl-D.\n",
      "  warn(\"To exit: use 'exit', 'quit', or Ctrl-D.\", stacklevel=1)\n"
     ]
    }
   ],
   "source": [
    "from rendergl import load_triangles, draw_model, polygon_map\n",
    "\n",
    "def slant_xy(v):\n",
    "    x, y, z = v\n",
    "    return x +y, y, z\n",
    "\n",
    "\n",
    "draw_model(polygon_map(slant_xy, load_triangles()))"
   ]
  },
  {
   "cell_type": "markdown",
   "metadata": {},
   "source": [
    "Which will show as:\n",
    "\n",
    "![Teapot: slant xy](pics/teapot-slant-xy.png)"
   ]
  },
  {
   "cell_type": "markdown",
   "metadata": {},
   "source": [
    "The callout of this subsection is that any mathematical transformation of the vectors constituting a 3D model have some geometric consequence on the appearance of the model."
   ]
  },
  {
   "cell_type": "markdown",
   "metadata": {},
   "source": [
    "### Exercises\n",
    "\n",
    "Implement a `translate_by` function that takes a translation vector as an input and returns a translation transformation function as output."
   ]
  },
  {
   "cell_type": "markdown",
   "metadata": {},
   "source": [
    "As seen in the concepts, a transformation is a function that takes a single vector $ v $ and returns also a new vector $ v' $.\n",
    "\n",
    "```python\n",
    "def transform(v):\n",
    "  old_x, old_y, old_z = v\n",
    "  # ... do some computations here ...\n",
    "  return (new_x, new_y, new_z)\n",
    "```\n",
    "\n",
    "Thus, our `translate_by` function won't be the transformation function, as it needs to take a translation vector. Instead, using closures, we will define `translate_by` as a function that returns a transformation for a given translation vector.\n",
    "\n",
    "Thus:"
   ]
  },
  {
   "cell_type": "code",
   "execution_count": null,
   "metadata": {},
   "outputs": [],
   "source": [
    "from vec3d.math import add\n",
    "\n",
    "def translate_by(translation_vector):\n",
    "    def transformation(v):\n",
    "        return add(v, translation_vector)\n",
    "\n",
    "    return transformation"
   ]
  },
  {
   "cell_type": "markdown",
   "metadata": {},
   "source": [
    "Let's use this transformation to confirm the axes in OpenGL:\n",
    "\n",
    "![OpenGL axes](pics/opengl-axis-orientation.png)"
   ]
  },
  {
   "cell_type": "markdown",
   "metadata": {},
   "source": [
    "Let's first draw the teapot without any translation:"
   ]
  },
  {
   "cell_type": "code",
   "execution_count": 12,
   "metadata": {},
   "outputs": [
    {
     "name": "stderr",
     "output_type": "stream",
     "text": [
      "shm_open() failed: No such file or directory\n",
      "ALSA lib confmisc.c:855:(parse_card) cannot find card '0'\n",
      "ALSA lib conf.c:5204:(_snd_config_evaluate) function snd_func_card_inum returned error: No such file or directory\n",
      "ALSA lib confmisc.c:422:(snd_func_concat) error evaluating strings\n",
      "ALSA lib conf.c:5204:(_snd_config_evaluate) function snd_func_concat returned error: No such file or directory\n",
      "ALSA lib confmisc.c:1342:(snd_func_refer) error evaluating name\n",
      "ALSA lib conf.c:5204:(_snd_config_evaluate) function snd_func_refer returned error: No such file or directory\n",
      "ALSA lib conf.c:5727:(snd_config_expand) Evaluate error: No such file or directory\n",
      "ALSA lib pcm.c:2675:(snd_pcm_open_noupdate) Unknown PCM default\n"
     ]
    },
    {
     "ename": "SystemExit",
     "evalue": "0",
     "output_type": "error",
     "traceback": [
      "An exception has occurred, use %tb to see the full traceback.\n",
      "\u001b[0;31mSystemExit\u001b[0m\u001b[0;31m:\u001b[0m 0\n"
     ]
    },
    {
     "name": "stderr",
     "output_type": "stream",
     "text": [
      "/home/ubuntu/miniconda3/envs/gl3d/lib/python3.11/site-packages/IPython/core/interactiveshell.py:3556: UserWarning: To exit: use 'exit', 'quit', or Ctrl-D.\n",
      "  warn(\"To exit: use 'exit', 'quit', or Ctrl-D.\", stacklevel=1)\n"
     ]
    }
   ],
   "source": [
    "from rendergl import draw_model, load_triangles\n",
    "\n",
    "draw_model(load_triangles())"
   ]
  },
  {
   "cell_type": "markdown",
   "metadata": {},
   "source": [
    "![Teapot: centered](pics/teapot-center.png)"
   ]
  },
  {
   "cell_type": "markdown",
   "metadata": {},
   "source": [
    "If our assumptions are correct, if we translate the teapot a few units in the x+ direction, the shape will have to move to the right, if we move it a few units in x- direction, the shape will move to the left.\n",
    "\n",
    "Let's confirm:"
   ]
  },
  {
   "cell_type": "code",
   "execution_count": 13,
   "metadata": {},
   "outputs": [
    {
     "name": "stderr",
     "output_type": "stream",
     "text": [
      "shm_open() failed: No such file or directory\n",
      "ALSA lib confmisc.c:855:(parse_card) cannot find card '0'\n",
      "ALSA lib conf.c:5204:(_snd_config_evaluate) function snd_func_card_inum returned error: No such file or directory\n",
      "ALSA lib confmisc.c:422:(snd_func_concat) error evaluating strings\n",
      "ALSA lib conf.c:5204:(_snd_config_evaluate) function snd_func_concat returned error: No such file or directory\n",
      "ALSA lib confmisc.c:1342:(snd_func_refer) error evaluating name\n",
      "ALSA lib conf.c:5204:(_snd_config_evaluate) function snd_func_refer returned error: No such file or directory\n",
      "ALSA lib conf.c:5727:(snd_config_expand) Evaluate error: No such file or directory\n",
      "ALSA lib pcm.c:2675:(snd_pcm_open_noupdate) Unknown PCM default\n"
     ]
    },
    {
     "ename": "SystemExit",
     "evalue": "0",
     "output_type": "error",
     "traceback": [
      "An exception has occurred, use %tb to see the full traceback.\n",
      "\u001b[0;31mSystemExit\u001b[0m\u001b[0;31m:\u001b[0m 0\n"
     ]
    },
    {
     "name": "stderr",
     "output_type": "stream",
     "text": [
      "/home/ubuntu/miniconda3/envs/gl3d/lib/python3.11/site-packages/IPython/core/interactiveshell.py:3556: UserWarning: To exit: use 'exit', 'quit', or Ctrl-D.\n",
      "  warn(\"To exit: use 'exit', 'quit', or Ctrl-D.\", stacklevel=1)\n"
     ]
    }
   ],
   "source": [
    "from rendergl import draw_model, load_triangles, polygon_map\n",
    "from vec3d.math import add\n",
    "\n",
    "\n",
    "def translate_by(translation_vector):\n",
    "    def transformation(v):\n",
    "        return add(v, translation_vector)\n",
    "\n",
    "    return transformation\n",
    "\n",
    "draw_model(polygon_map(translate_by((2, 0, 0)), load_triangles()))"
   ]
  },
  {
   "cell_type": "markdown",
   "metadata": {},
   "source": [
    "We were right:\n",
    "\n",
    "![Teapot: x translation](pics/teapot-x-translation.png)"
   ]
  },
  {
   "cell_type": "markdown",
   "metadata": {},
   "source": [
    "The other assumption is that the y coordinate runs from bottom to top. Let's confirm:"
   ]
  },
  {
   "cell_type": "code",
   "execution_count": 14,
   "metadata": {},
   "outputs": [
    {
     "name": "stderr",
     "output_type": "stream",
     "text": [
      "shm_open() failed: No such file or directory\n",
      "ALSA lib confmisc.c:855:(parse_card) cannot find card '0'\n",
      "ALSA lib conf.c:5204:(_snd_config_evaluate) function snd_func_card_inum returned error: No such file or directory\n",
      "ALSA lib confmisc.c:422:(snd_func_concat) error evaluating strings\n",
      "ALSA lib conf.c:5204:(_snd_config_evaluate) function snd_func_concat returned error: No such file or directory\n",
      "ALSA lib confmisc.c:1342:(snd_func_refer) error evaluating name\n",
      "ALSA lib conf.c:5204:(_snd_config_evaluate) function snd_func_refer returned error: No such file or directory\n",
      "ALSA lib conf.c:5727:(snd_config_expand) Evaluate error: No such file or directory\n",
      "ALSA lib pcm.c:2675:(snd_pcm_open_noupdate) Unknown PCM default\n"
     ]
    },
    {
     "ename": "SystemExit",
     "evalue": "0",
     "output_type": "error",
     "traceback": [
      "An exception has occurred, use %tb to see the full traceback.\n",
      "\u001b[0;31mSystemExit\u001b[0m\u001b[0;31m:\u001b[0m 0\n"
     ]
    }
   ],
   "source": [
    "from rendergl import draw_model, load_triangles, polygon_map\n",
    "from vec3d.math import add\n",
    "\n",
    "\n",
    "def translate_by(translation_vector):\n",
    "    def transformation(v):\n",
    "        return add(v, translation_vector)\n",
    "\n",
    "    return transformation\n",
    "\n",
    "draw_model(polygon_map(translate_by((0, 2, 0)), load_triangles()))"
   ]
  },
  {
   "cell_type": "markdown",
   "metadata": {},
   "source": [
    "And yes:\n",
    "\n",
    "![Teapot: y translation](pics/teapot-y-translation.png)"
   ]
  },
  {
   "cell_type": "markdown",
   "metadata": {},
   "source": [
    "Finally, we assumed that z was the depth, so that negative z- will mean further away from our perspective.\n",
    "\n",
    "Let's confirm:"
   ]
  },
  {
   "cell_type": "code",
   "execution_count": 17,
   "metadata": {},
   "outputs": [
    {
     "name": "stderr",
     "output_type": "stream",
     "text": [
      "shm_open() failed: No such file or directory\n",
      "ALSA lib confmisc.c:855:(parse_card) cannot find card '0'\n",
      "ALSA lib conf.c:5204:(_snd_config_evaluate) function snd_func_card_inum returned error: No such file or directory\n",
      "ALSA lib confmisc.c:422:(snd_func_concat) error evaluating strings\n",
      "ALSA lib conf.c:5204:(_snd_config_evaluate) function snd_func_concat returned error: No such file or directory\n",
      "ALSA lib confmisc.c:1342:(snd_func_refer) error evaluating name\n",
      "ALSA lib conf.c:5204:(_snd_config_evaluate) function snd_func_refer returned error: No such file or directory\n",
      "ALSA lib conf.c:5727:(snd_config_expand) Evaluate error: No such file or directory\n",
      "ALSA lib pcm.c:2675:(snd_pcm_open_noupdate) Unknown PCM default\n"
     ]
    },
    {
     "ename": "SystemExit",
     "evalue": "0",
     "output_type": "error",
     "traceback": [
      "An exception has occurred, use %tb to see the full traceback.\n",
      "\u001b[0;31mSystemExit\u001b[0m\u001b[0;31m:\u001b[0m 0\n"
     ]
    }
   ],
   "source": [
    "from rendergl import draw_model, load_triangles, polygon_map\n",
    "from vec3d.math import add\n",
    "\n",
    "\n",
    "def translate_by(translation_vector):\n",
    "    def transformation(v):\n",
    "        return add(v, translation_vector)\n",
    "\n",
    "    return transformation\n",
    "\n",
    "draw_model(polygon_map(translate_by((0, 0, -10)), load_triangles()))"
   ]
  },
  {
   "cell_type": "markdown",
   "metadata": {},
   "source": [
    "See how the teapot looks smaller as it is further away from our view:\n",
    "\n",
    "![Teapot: z translation](pics/teapot-z-translation.png)"
   ]
  },
  {
   "cell_type": "markdown",
   "metadata": {},
   "source": [
    "Thus, we have not only demonstrated how to create a `translate_by` function that returns a translation transformation, but also confirmed the orientation of the OpenGL axis."
   ]
  },
  {
   "cell_type": "markdown",
   "metadata": {},
   "source": [
    "### Exercise\n",
    "\n",
    "Render the teapot translated by 20 units in the negative z direction. What does the resulting image look like?"
   ]
  },
  {
   "cell_type": "markdown",
   "metadata": {},
   "source": [
    "Our expectation would be a very small teapot, as the z- axis runs on the depth, with negative values further away from the viewer.\n",
    "\n",
    "Let's confirm:"
   ]
  },
  {
   "cell_type": "code",
   "execution_count": 20,
   "metadata": {},
   "outputs": [
    {
     "name": "stderr",
     "output_type": "stream",
     "text": [
      "shm_open() failed: No such file or directory\n",
      "ALSA lib confmisc.c:855:(parse_card) cannot find card '0'\n",
      "ALSA lib conf.c:5204:(_snd_config_evaluate) function snd_func_card_inum returned error: No such file or directory\n",
      "ALSA lib confmisc.c:422:(snd_func_concat) error evaluating strings\n",
      "ALSA lib conf.c:5204:(_snd_config_evaluate) function snd_func_concat returned error: No such file or directory\n",
      "ALSA lib confmisc.c:1342:(snd_func_refer) error evaluating name\n",
      "ALSA lib conf.c:5204:(_snd_config_evaluate) function snd_func_refer returned error: No such file or directory\n",
      "ALSA lib conf.c:5727:(snd_config_expand) Evaluate error: No such file or directory\n",
      "ALSA lib pcm.c:2675:(snd_pcm_open_noupdate) Unknown PCM default\n"
     ]
    },
    {
     "ename": "SystemExit",
     "evalue": "0",
     "output_type": "error",
     "traceback": [
      "An exception has occurred, use %tb to see the full traceback.\n",
      "\u001b[0;31mSystemExit\u001b[0m\u001b[0;31m:\u001b[0m 0\n"
     ]
    },
    {
     "name": "stderr",
     "output_type": "stream",
     "text": [
      "/home/ubuntu/miniconda3/envs/gl3d/lib/python3.11/site-packages/IPython/core/interactiveshell.py:3556: UserWarning: To exit: use 'exit', 'quit', or Ctrl-D.\n",
      "  warn(\"To exit: use 'exit', 'quit', or Ctrl-D.\", stacklevel=1)\n"
     ]
    }
   ],
   "source": [
    "from rendergl import draw_model, load_triangles, polygon_map, translate_by\n",
    "\n",
    "draw_model(polygon_map(translate_by((0, 0, -20)), load_triangles()))"
   ]
  },
  {
   "cell_type": "markdown",
   "metadata": {},
   "source": [
    "We confirm, that the teapot is rendered very small, as it is further away from the viewer:\n",
    "\n",
    "![Teapot: z translation 20 units negative](pics/teapot-z-translation-20-units.png)"
   ]
  },
  {
   "cell_type": "markdown",
   "metadata": {},
   "source": [
    "### Exercise\n",
    "\n",
    "What happens to the teapot when you scale every vector by a scalar between 0 and 1? What happens when you scale it by a factor of -1?"
   ]
  },
  {
   "cell_type": "markdown",
   "metadata": {},
   "source": [
    "When you scale every vector by a scalar between 0 and 1 you will make the shape smaller. For example, if you use 0.1 it will be a teapot 1/10 in volume."
   ]
  },
  {
   "cell_type": "code",
   "execution_count": 23,
   "metadata": {},
   "outputs": [
    {
     "name": "stderr",
     "output_type": "stream",
     "text": [
      "shm_open() failed: No such file or directory\n",
      "ALSA lib confmisc.c:855:(parse_card) cannot find card '0'\n",
      "ALSA lib conf.c:5204:(_snd_config_evaluate) function snd_func_card_inum returned error: No such file or directory\n",
      "ALSA lib confmisc.c:422:(snd_func_concat) error evaluating strings\n",
      "ALSA lib conf.c:5204:(_snd_config_evaluate) function snd_func_concat returned error: No such file or directory\n",
      "ALSA lib confmisc.c:1342:(snd_func_refer) error evaluating name\n",
      "ALSA lib conf.c:5204:(_snd_config_evaluate) function snd_func_refer returned error: No such file or directory\n",
      "ALSA lib conf.c:5727:(snd_config_expand) Evaluate error: No such file or directory\n",
      "ALSA lib pcm.c:2675:(snd_pcm_open_noupdate) Unknown PCM default\n"
     ]
    },
    {
     "ename": "SystemExit",
     "evalue": "0",
     "output_type": "error",
     "traceback": [
      "An exception has occurred, use %tb to see the full traceback.\n",
      "\u001b[0;31mSystemExit\u001b[0m\u001b[0;31m:\u001b[0m 0\n"
     ]
    }
   ],
   "source": [
    "from rendergl import draw_model, scale_by, polygon_map\n",
    "\n",
    "draw_model(polygon_map(scale_by(0.1), load_triangles()))"
   ]
  },
  {
   "cell_type": "markdown",
   "metadata": {},
   "source": [
    "And that's confirmed:\n",
    "\n",
    "![Teapot: scaled 1/10](pics/teapot-scaled-very-small.png)"
   ]
  },
  {
   "cell_type": "markdown",
   "metadata": {},
   "source": [
    "If we scale all vectors by -1, we should expect:\n",
    "+ things on the right will be on the left and vice versa.\n",
    "+ things on the top will be on the bottom and vice versa."
   ]
  },
  {
   "cell_type": "code",
   "execution_count": 24,
   "metadata": {},
   "outputs": [
    {
     "name": "stderr",
     "output_type": "stream",
     "text": [
      "shm_open() failed: No such file or directory\n",
      "ALSA lib confmisc.c:855:(parse_card) cannot find card '0'\n",
      "ALSA lib conf.c:5204:(_snd_config_evaluate) function snd_func_card_inum returned error: No such file or directory\n",
      "ALSA lib confmisc.c:422:(snd_func_concat) error evaluating strings\n",
      "ALSA lib conf.c:5204:(_snd_config_evaluate) function snd_func_concat returned error: No such file or directory\n",
      "ALSA lib confmisc.c:1342:(snd_func_refer) error evaluating name\n",
      "ALSA lib conf.c:5204:(_snd_config_evaluate) function snd_func_refer returned error: No such file or directory\n",
      "ALSA lib conf.c:5727:(snd_config_expand) Evaluate error: No such file or directory\n",
      "ALSA lib pcm.c:2675:(snd_pcm_open_noupdate) Unknown PCM default\n"
     ]
    },
    {
     "ename": "SystemExit",
     "evalue": "0",
     "output_type": "error",
     "traceback": [
      "An exception has occurred, use %tb to see the full traceback.\n",
      "\u001b[0;31mSystemExit\u001b[0m\u001b[0;31m:\u001b[0m 0\n"
     ]
    },
    {
     "name": "stderr",
     "output_type": "stream",
     "text": [
      "/home/ubuntu/miniconda3/envs/gl3d/lib/python3.11/site-packages/IPython/core/interactiveshell.py:3556: UserWarning: To exit: use 'exit', 'quit', or Ctrl-D.\n",
      "  warn(\"To exit: use 'exit', 'quit', or Ctrl-D.\", stacklevel=1)\n"
     ]
    }
   ],
   "source": [
    "from rendergl import draw_model, scale_by, polygon_map\n",
    "\n",
    "draw_model(polygon_map(scale_by(-1.0), load_triangles()))"
   ]
  },
  {
   "cell_type": "markdown",
   "metadata": {},
   "source": [
    "We see that this is the case. The lid is on the right instead of on the left, and the top is at the bottom:\n",
    "\n",
    "![Teapot: inverted](pics/teapot-scaled-minus-one.png)"
   ]
  },
  {
   "cell_type": "markdown",
   "metadata": {},
   "source": [
    "However, the situation is more complicated. By multiplying each of the vertices by -1 has turned the figure inside-out as well.\n",
    "Now, all the normal vectors are pointing into the teapot, rather than outward, which will give us strange effects.\n",
    "\n",
    "We can see that in the following image:"
   ]
  },
  {
   "cell_type": "code",
   "execution_count": 26,
   "metadata": {},
   "outputs": [
    {
     "name": "stderr",
     "output_type": "stream",
     "text": [
      "shm_open() failed: No such file or directory\n",
      "ALSA lib confmisc.c:855:(parse_card) cannot find card '0'\n",
      "ALSA lib conf.c:5204:(_snd_config_evaluate) function snd_func_card_inum returned error: No such file or directory\n",
      "ALSA lib confmisc.c:422:(snd_func_concat) error evaluating strings\n",
      "ALSA lib conf.c:5204:(_snd_config_evaluate) function snd_func_concat returned error: No such file or directory\n",
      "ALSA lib confmisc.c:1342:(snd_func_refer) error evaluating name\n",
      "ALSA lib conf.c:5204:(_snd_config_evaluate) function snd_func_refer returned error: No such file or directory\n",
      "ALSA lib conf.c:5727:(snd_config_expand) Evaluate error: No such file or directory\n",
      "ALSA lib pcm.c:2675:(snd_pcm_open_noupdate) Unknown PCM default\n"
     ]
    },
    {
     "ename": "SystemExit",
     "evalue": "0",
     "output_type": "error",
     "traceback": [
      "An exception has occurred, use %tb to see the full traceback.\n",
      "\u001b[0;31mSystemExit\u001b[0m\u001b[0;31m:\u001b[0m 0\n"
     ]
    }
   ],
   "source": [
    "from math import pi\n",
    "from rendergl import draw_model, scale_by, polygon_map, rotate_x_by\n",
    "\n",
    "def compose(f1, f2):\n",
    "    def transformation(v):\n",
    "        return f1(f2(v))\n",
    "\n",
    "    return transformation\n",
    "\n",
    "draw_model(polygon_map(compose(rotate_x_by(-pi / 2), scale_by(-1.0)), load_triangles()))"
   ]
  },
  {
   "cell_type": "markdown",
   "metadata": {},
   "source": [
    "See how when we rotate the 3D shape -90° we end up seeing the bottom and the lid!\n",
    "\n",
    "![Teapot](pics/teapot-awkward.png)\n",
    "\n",
    "If we rotate the original, we see it correctly:\n",
    "\n",
    "![Teapot: from bottom](pics/teapot-from-bottom.png)\n"
   ]
  },
  {
   "cell_type": "code",
   "execution_count": 28,
   "metadata": {},
   "outputs": [
    {
     "name": "stderr",
     "output_type": "stream",
     "text": [
      "shm_open() failed: No such file or directory\n",
      "ALSA lib confmisc.c:855:(parse_card) cannot find card '0'\n",
      "ALSA lib conf.c:5204:(_snd_config_evaluate) function snd_func_card_inum returned error: No such file or directory\n",
      "ALSA lib confmisc.c:422:(snd_func_concat) error evaluating strings\n",
      "ALSA lib conf.c:5204:(_snd_config_evaluate) function snd_func_concat returned error: No such file or directory\n",
      "ALSA lib confmisc.c:1342:(snd_func_refer) error evaluating name\n",
      "ALSA lib conf.c:5204:(_snd_config_evaluate) function snd_func_refer returned error: No such file or directory\n",
      "ALSA lib conf.c:5727:(snd_config_expand) Evaluate error: No such file or directory\n",
      "ALSA lib pcm.c:2675:(snd_pcm_open_noupdate) Unknown PCM default\n"
     ]
    },
    {
     "ename": "SystemExit",
     "evalue": "0",
     "output_type": "error",
     "traceback": [
      "An exception has occurred, use %tb to see the full traceback.\n",
      "\u001b[0;31mSystemExit\u001b[0m\u001b[0;31m:\u001b[0m 0\n"
     ]
    }
   ],
   "source": [
    "from math import pi\n",
    "from rendergl import draw_model, polygon_map, rotate_x_by\n",
    "\n",
    "draw_model(polygon_map(rotate_x_by(-pi / 2), load_triangles()))"
   ]
  },
  {
   "cell_type": "markdown",
   "metadata": {},
   "source": [
    "### Exercise\n",
    "\n",
    "First apply `translate1left` to the teapot and then `scale2`. How is the result different from the opposite order of composition? Why?"
   ]
  },
  {
   "cell_type": "markdown",
   "metadata": {},
   "source": [
    "The result will be different because the coordinates of the vectors will be different &mdash; that's clear.\n",
    "\n",
    "Let's guess how:\n",
    "+ `compose(scale2, translate1left)`\n",
    "\n",
    "    This will result in a figure which is doubled in size with respect to the original, but further translated to the left.\n",
    "\n",
    "+ `compose(translate1left, scale2)`\n",
    "\n",
    "    This will result in simply a teapot which is twice as large as the original.\n",
    "\n",
    "This happens because when a scaling factor of 2 is applied after the translation, the distance of the translation doubles as well.\n",
    "\n",
    "Let's use the default teapot as the baseline:\n",
    "\n",
    "![Default teapot](pics/teapot-center.png)\n"
   ]
  },
  {
   "cell_type": "markdown",
   "metadata": {},
   "source": [
    "Let's do first the `compose(scale2, translate1left)`:"
   ]
  },
  {
   "cell_type": "code",
   "execution_count": 29,
   "metadata": {},
   "outputs": [
    {
     "name": "stderr",
     "output_type": "stream",
     "text": [
      "shm_open() failed: No such file or directory\n",
      "ALSA lib confmisc.c:855:(parse_card) cannot find card '0'\n",
      "ALSA lib conf.c:5204:(_snd_config_evaluate) function snd_func_card_inum returned error: No such file or directory\n",
      "ALSA lib confmisc.c:422:(snd_func_concat) error evaluating strings\n",
      "ALSA lib conf.c:5204:(_snd_config_evaluate) function snd_func_concat returned error: No such file or directory\n",
      "ALSA lib confmisc.c:1342:(snd_func_refer) error evaluating name\n",
      "ALSA lib conf.c:5204:(_snd_config_evaluate) function snd_func_refer returned error: No such file or directory\n",
      "ALSA lib conf.c:5727:(snd_config_expand) Evaluate error: No such file or directory\n",
      "ALSA lib pcm.c:2675:(snd_pcm_open_noupdate) Unknown PCM default\n"
     ]
    },
    {
     "ename": "SystemExit",
     "evalue": "0",
     "output_type": "error",
     "traceback": [
      "An exception has occurred, use %tb to see the full traceback.\n",
      "\u001b[0;31mSystemExit\u001b[0m\u001b[0;31m:\u001b[0m 0\n"
     ]
    },
    {
     "name": "stderr",
     "output_type": "stream",
     "text": [
      "/home/ubuntu/miniconda3/envs/gl3d/lib/python3.11/site-packages/IPython/core/interactiveshell.py:3556: UserWarning: To exit: use 'exit', 'quit', or Ctrl-D.\n",
      "  warn(\"To exit: use 'exit', 'quit', or Ctrl-D.\", stacklevel=1)\n"
     ]
    }
   ],
   "source": [
    "from rendergl import draw_model, load_triangles, scale_by, translate_by, polygon_map\n",
    "\n",
    "scale2 = scale_by(2)\n",
    "translate1left = translate_by((-1, 0, 0))\n",
    "\n",
    "def compose(f1, f2):\n",
    "    def transformation(v):\n",
    "        return f1(f2(v))\n",
    "\n",
    "    return transformation\n",
    "\n",
    "draw_model(polygon_map(compose(scale2, translate1left), load_triangles()))"
   ]
  },
  {
   "cell_type": "markdown",
   "metadata": {},
   "source": [
    "The result is:\n",
    "\n",
    "![Translate then scale](pics/teapot-translate-then-scale2.png)"
   ]
  },
  {
   "cell_type": "markdown",
   "metadata": {},
   "source": [
    "Let's now do `compose(translate1left, scale2)`:"
   ]
  },
  {
   "cell_type": "code",
   "execution_count": 30,
   "metadata": {},
   "outputs": [
    {
     "name": "stderr",
     "output_type": "stream",
     "text": [
      "shm_open() failed: No such file or directory\n",
      "ALSA lib confmisc.c:855:(parse_card) cannot find card '0'\n",
      "ALSA lib conf.c:5204:(_snd_config_evaluate) function snd_func_card_inum returned error: No such file or directory\n",
      "ALSA lib confmisc.c:422:(snd_func_concat) error evaluating strings\n",
      "ALSA lib conf.c:5204:(_snd_config_evaluate) function snd_func_concat returned error: No such file or directory\n",
      "ALSA lib confmisc.c:1342:(snd_func_refer) error evaluating name\n",
      "ALSA lib conf.c:5204:(_snd_config_evaluate) function snd_func_refer returned error: No such file or directory\n",
      "ALSA lib conf.c:5727:(snd_config_expand) Evaluate error: No such file or directory\n",
      "ALSA lib pcm.c:2675:(snd_pcm_open_noupdate) Unknown PCM default\n"
     ]
    },
    {
     "ename": "SystemExit",
     "evalue": "0",
     "output_type": "error",
     "traceback": [
      "An exception has occurred, use %tb to see the full traceback.\n",
      "\u001b[0;31mSystemExit\u001b[0m\u001b[0;31m:\u001b[0m 0\n"
     ]
    }
   ],
   "source": [
    "from rendergl import draw_model, load_triangles, scale_by, translate_by, polygon_map\n",
    "\n",
    "scale2 = scale_by(2)\n",
    "translate1left = translate_by((-1, 0, 0))\n",
    "\n",
    "def compose(f1, f2):\n",
    "    def transformation(v):\n",
    "        return f1(f2(v))\n",
    "\n",
    "    return transformation\n",
    "\n",
    "draw_model(polygon_map(compose(translate1left, scale2), load_triangles()))"
   ]
  },
  {
   "cell_type": "markdown",
   "metadata": {},
   "source": [
    "![Teapot: scaled, then translates](pics/teapot-scaled-then-translated.png)\n",
    "\n",
    "See how in this case, everything is scaled and then moved, but it hasn't move as further as when you first apply the translation and then scale."
   ]
  },
  {
   "cell_type": "markdown",
   "metadata": {},
   "source": [
    "Let's think of a particular vector.\n",
    "\n",
    "Some of the vectors of the lid will could be (-2, 2, 1).\n",
    "\n",
    "+ When we translate, then scaled => `(-3, 2, 1)` => `(-6, 4, 2)`\n",
    "+ When we scale, then translate  => `(-4, 4, 2)` => `(-5, 4, 2)`\n",
    "\n",
    "See how in the first case, the vector has moved further to the left."
   ]
  },
  {
   "cell_type": "markdown",
   "metadata": {},
   "source": [
    "Let's confirm though that the 3D shape stays the same by moving it further away from the viewer:"
   ]
  },
  {
   "cell_type": "code",
   "execution_count": 35,
   "metadata": {},
   "outputs": [
    {
     "name": "stderr",
     "output_type": "stream",
     "text": [
      "shm_open() failed: No such file or directory\n",
      "ALSA lib confmisc.c:855:(parse_card) cannot find card '0'\n",
      "ALSA lib conf.c:5204:(_snd_config_evaluate) function snd_func_card_inum returned error: No such file or directory\n",
      "ALSA lib confmisc.c:422:(snd_func_concat) error evaluating strings\n",
      "ALSA lib conf.c:5204:(_snd_config_evaluate) function snd_func_concat returned error: No such file or directory\n",
      "ALSA lib confmisc.c:1342:(snd_func_refer) error evaluating name\n",
      "ALSA lib conf.c:5204:(_snd_config_evaluate) function snd_func_refer returned error: No such file or directory\n",
      "ALSA lib conf.c:5727:(snd_config_expand) Evaluate error: No such file or directory\n",
      "ALSA lib pcm.c:2675:(snd_pcm_open_noupdate) Unknown PCM default\n"
     ]
    },
    {
     "ename": "SystemExit",
     "evalue": "0",
     "output_type": "error",
     "traceback": [
      "An exception has occurred, use %tb to see the full traceback.\n",
      "\u001b[0;31mSystemExit\u001b[0m\u001b[0;31m:\u001b[0m 0\n"
     ]
    }
   ],
   "source": [
    "from rendergl import draw_model, load_triangles, scale_by, translate_by, polygon_map\n",
    "\n",
    "scale2 = scale_by(2)\n",
    "translate1left = translate_by((-1, 0, 0))\n",
    "\n",
    "def compose(f1, f2, f3):\n",
    "    def transformation(v):\n",
    "        return f1(f2(f3(v)))\n",
    "\n",
    "    return transformation\n",
    "\n",
    "draw_model(polygon_map(compose(translate_by((0, 0, -8)), translate1left, scale2), load_triangles()))"
   ]
  },
  {
   "cell_type": "code",
   "execution_count": 34,
   "metadata": {},
   "outputs": [
    {
     "name": "stderr",
     "output_type": "stream",
     "text": [
      "shm_open() failed: No such file or directory\n",
      "ALSA lib confmisc.c:855:(parse_card) cannot find card '0'\n",
      "ALSA lib conf.c:5204:(_snd_config_evaluate) function snd_func_card_inum returned error: No such file or directory\n",
      "ALSA lib confmisc.c:422:(snd_func_concat) error evaluating strings\n",
      "ALSA lib conf.c:5204:(_snd_config_evaluate) function snd_func_concat returned error: No such file or directory\n",
      "ALSA lib confmisc.c:1342:(snd_func_refer) error evaluating name\n",
      "ALSA lib conf.c:5204:(_snd_config_evaluate) function snd_func_refer returned error: No such file or directory\n",
      "ALSA lib conf.c:5727:(snd_config_expand) Evaluate error: No such file or directory\n",
      "ALSA lib pcm.c:2675:(snd_pcm_open_noupdate) Unknown PCM default\n"
     ]
    },
    {
     "ename": "SystemExit",
     "evalue": "0",
     "output_type": "error",
     "traceback": [
      "An exception has occurred, use %tb to see the full traceback.\n",
      "\u001b[0;31mSystemExit\u001b[0m\u001b[0;31m:\u001b[0m 0\n"
     ]
    }
   ],
   "source": [
    "from rendergl import draw_model, load_triangles, scale_by, translate_by, polygon_map\n",
    "\n",
    "scale2 = scale_by(2)\n",
    "translate1left = translate_by((-1, 0, 0))\n",
    "\n",
    "def compose(f1, f2, f3):\n",
    "    def transformation(v):\n",
    "        return f1(f2(f3(v)))\n",
    "\n",
    "    return transformation\n",
    "\n",
    "draw_model(polygon_map(compose(translate_by((0, 0, -8)), scale2, translate1left), load_triangles()))"
   ]
  },
  {
   "cell_type": "markdown",
   "metadata": {},
   "source": [
    "This picture confirms that the shape hasn't been stretched. It's just moved further to the left when the translation is applied first.\n",
    "\n",
    "![translate scale, deeper](pics/teapot_scale-translate-deep.png)\n",
    "\n",
    "![Scale then translate,deeper](pics/teapot_translate-scaled.png)"
   ]
  },
  {
   "cell_type": "markdown",
   "metadata": {},
   "source": [
    "### Exercise\n",
    "\n",
    "What is the effect of the transformation `compose(scale_by(0.4), scale_by(1.5))`?"
   ]
  },
  {
   "cell_type": "markdown",
   "metadata": {},
   "source": [
    "The result will be a 3D which is 0.6 the size. Let's confirm:"
   ]
  },
  {
   "cell_type": "code",
   "execution_count": 36,
   "metadata": {},
   "outputs": [
    {
     "name": "stderr",
     "output_type": "stream",
     "text": [
      "shm_open() failed: No such file or directory\n",
      "ALSA lib confmisc.c:855:(parse_card) cannot find card '0'\n",
      "ALSA lib conf.c:5204:(_snd_config_evaluate) function snd_func_card_inum returned error: No such file or directory\n",
      "ALSA lib confmisc.c:422:(snd_func_concat) error evaluating strings\n",
      "ALSA lib conf.c:5204:(_snd_config_evaluate) function snd_func_concat returned error: No such file or directory\n",
      "ALSA lib confmisc.c:1342:(snd_func_refer) error evaluating name\n",
      "ALSA lib conf.c:5204:(_snd_config_evaluate) function snd_func_refer returned error: No such file or directory\n",
      "ALSA lib conf.c:5727:(snd_config_expand) Evaluate error: No such file or directory\n",
      "ALSA lib pcm.c:2675:(snd_pcm_open_noupdate) Unknown PCM default\n"
     ]
    },
    {
     "ename": "SystemExit",
     "evalue": "0",
     "output_type": "error",
     "traceback": [
      "An exception has occurred, use %tb to see the full traceback.\n",
      "\u001b[0;31mSystemExit\u001b[0m\u001b[0;31m:\u001b[0m 0\n"
     ]
    },
    {
     "name": "stderr",
     "output_type": "stream",
     "text": [
      "/home/ubuntu/miniconda3/envs/gl3d/lib/python3.11/site-packages/IPython/core/interactiveshell.py:3556: UserWarning: To exit: use 'exit', 'quit', or Ctrl-D.\n",
      "  warn(\"To exit: use 'exit', 'quit', or Ctrl-D.\", stacklevel=1)\n"
     ]
    }
   ],
   "source": [
    "from rendergl import draw_model, load_triangles, scale_by, polygon_map\n",
    "\n",
    "def compose(f1, f2):\n",
    "    def transformation(v):\n",
    "        return f1(f2(v))\n",
    "\n",
    "    return transformation\n",
    "\n",
    "draw_model(polygon_map(compose(scale_by(0.4), scale_by(1.5)), load_triangles()))"
   ]
  },
  {
   "cell_type": "code",
   "execution_count": 38,
   "metadata": {},
   "outputs": [
    {
     "name": "stderr",
     "output_type": "stream",
     "text": [
      "shm_open() failed: No such file or directory\n",
      "ALSA lib confmisc.c:855:(parse_card) cannot find card '0'\n",
      "ALSA lib conf.c:5204:(_snd_config_evaluate) function snd_func_card_inum returned error: No such file or directory\n",
      "ALSA lib confmisc.c:422:(snd_func_concat) error evaluating strings\n",
      "ALSA lib conf.c:5204:(_snd_config_evaluate) function snd_func_concat returned error: No such file or directory\n",
      "ALSA lib confmisc.c:1342:(snd_func_refer) error evaluating name\n",
      "ALSA lib conf.c:5204:(_snd_config_evaluate) function snd_func_refer returned error: No such file or directory\n",
      "ALSA lib conf.c:5727:(snd_config_expand) Evaluate error: No such file or directory\n",
      "ALSA lib pcm.c:2675:(snd_pcm_open_noupdate) Unknown PCM default\n"
     ]
    },
    {
     "ename": "SystemExit",
     "evalue": "0",
     "output_type": "error",
     "traceback": [
      "An exception has occurred, use %tb to see the full traceback.\n",
      "\u001b[0;31mSystemExit\u001b[0m\u001b[0;31m:\u001b[0m 0\n"
     ]
    }
   ],
   "source": [
    "from rendergl import draw_model, load_triangles, scale_by, polygon_map\n",
    "\n",
    "draw_model(polygon_map(scale_by(0.6), load_triangles()))"
   ]
  },
  {
   "cell_type": "markdown",
   "metadata": {},
   "source": [
    "We can confirm they're the same picture!\n",
    "\n",
    "![Teapot: scaled 1.5 then scaled 0.4](pics/teapot-scaled-scaled.png)\n",
    "\n",
    "![Teapot: scaled 0.6](pics/teapot-resulting-scale.png)"
   ]
  },
  {
   "cell_type": "markdown",
   "metadata": {},
   "source": [
    "### Exercise\n",
    "\n",
    "Modify `compose(f, g)` function to a `compose(*args)` which takes several functions as arguments and returns a new function that is their composition."
   ]
  },
  {
   "cell_type": "markdown",
   "metadata": {},
   "source": [
    "The only tricky point in the implementation is making sure we reverse the args as the first function to be applied must be the last function passed to `compose`."
   ]
  },
  {
   "cell_type": "code",
   "execution_count": 39,
   "metadata": {},
   "outputs": [
    {
     "name": "stderr",
     "output_type": "stream",
     "text": [
      "shm_open() failed: No such file or directory\n",
      "ALSA lib confmisc.c:855:(parse_card) cannot find card '0'\n",
      "ALSA lib conf.c:5204:(_snd_config_evaluate) function snd_func_card_inum returned error: No such file or directory\n",
      "ALSA lib confmisc.c:422:(snd_func_concat) error evaluating strings\n",
      "ALSA lib conf.c:5204:(_snd_config_evaluate) function snd_func_concat returned error: No such file or directory\n",
      "ALSA lib confmisc.c:1342:(snd_func_refer) error evaluating name\n",
      "ALSA lib conf.c:5204:(_snd_config_evaluate) function snd_func_refer returned error: No such file or directory\n",
      "ALSA lib conf.c:5727:(snd_config_expand) Evaluate error: No such file or directory\n",
      "ALSA lib pcm.c:2675:(snd_pcm_open_noupdate) Unknown PCM default\n"
     ]
    },
    {
     "ename": "SystemExit",
     "evalue": "0",
     "output_type": "error",
     "traceback": [
      "An exception has occurred, use %tb to see the full traceback.\n",
      "\u001b[0;31mSystemExit\u001b[0m\u001b[0;31m:\u001b[0m 0\n"
     ]
    },
    {
     "name": "stderr",
     "output_type": "stream",
     "text": [
      "/home/ubuntu/miniconda3/envs/gl3d/lib/python3.11/site-packages/IPython/core/interactiveshell.py:3556: UserWarning: To exit: use 'exit', 'quit', or Ctrl-D.\n",
      "  warn(\"To exit: use 'exit', 'quit', or Ctrl-D.\", stacklevel=1)\n"
     ]
    }
   ],
   "source": [
    "from rendergl import draw_model, load_triangles, scale_by, translate_by, polygon_map\n",
    "\n",
    "scale2 = scale_by(2)\n",
    "translate1left = translate_by((-1, 0, 0))\n",
    "\n",
    "def compose(*args):\n",
    "    def new_transformation_fn(v):\n",
    "        result = v\n",
    "        for fn in reversed(args):\n",
    "            result = fn(result)\n",
    "        return result\n",
    "\n",
    "    return new_transformation_fn\n",
    "\n",
    "\n",
    "draw_model(polygon_map(compose(translate_by((0, 0, -8)), scale2, translate1left), load_triangles()))\n"
   ]
  },
  {
   "cell_type": "markdown",
   "metadata": {},
   "source": [
    "They're the same picture:\n",
    "\n",
    "![Scale then translate,deeper from before](pics/teapot_translate-scaled.png)\n",
    "\n",
    "![using the new compose](pics/teapot-compose-generic.png)"
   ]
  },
  {
   "cell_type": "markdown",
   "metadata": {},
   "source": [
    "| NOTE: |\n",
    "| :---- |\n",
    "| The `compose` function can be found in the `rendergl` library, in the transformations file. |\n",
    "\n",
    "Note also that this function can be used for non-rendering use cases:"
   ]
  },
  {
   "cell_type": "code",
   "execution_count": 1,
   "metadata": {},
   "outputs": [
    {
     "name": "stdout",
     "output_type": "stream",
     "text": [
      "pygame 2.1.3.dev8 (SDL 2.28.4, Python 3.11.5)\n",
      "Hello from the pygame community. https://www.pygame.org/contribute.html\n"
     ]
    },
    {
     "data": {
      "text/plain": [
       "'Python'"
      ]
     },
     "execution_count": 1,
     "metadata": {},
     "output_type": "execute_result"
    }
   ],
   "source": [
    "from rendergl import compose\n",
    "\n",
    "def prepend(string):\n",
    "    def new_fn(input):\n",
    "        return string + input\n",
    "\n",
    "    return new_fn\n",
    "\n",
    "f = compose(prepend(\"P\"), prepend(\"y\"), prepend(\"t\"))\n",
    "\n",
    "f(\"hon\")"
   ]
  },
  {
   "cell_type": "markdown",
   "metadata": {},
   "source": [
    "### Exercise\n",
    "\n",
    "Write a `curry2(f)` function that takes a Python function `f(x, y)` with two arguments and returns a *curried* version.\n",
    "For instance, once you write `g = curry2(f)`, the two expressions `f(x, y)` and `g(x)(y)` should return the same result."
   ]
  },
  {
   "cell_type": "markdown",
   "metadata": {},
   "source": [
    "We can test with the `scale(s, v)` function. A *curried* function is nothing more than a partially applied function.\n",
    "\n",
    "As such, we will need to return the function that results from applying the second argument, and then the function that can be applied to the first."
   ]
  },
  {
   "cell_type": "code",
   "execution_count": 4,
   "metadata": {},
   "outputs": [],
   "source": [
    "from vec3d.math import scale\n",
    "\n",
    "def curry2(f):\n",
    "    def g(x):\n",
    "        def new_function(y):\n",
    "            return f(x, y)\n",
    "\n",
    "        return new_function\n",
    "\n",
    "    return g\n",
    "\n",
    "scale_by = curry2(scale)\n",
    "\n",
    "\n",
    "assert scale_by(2)((1, 2, 3)) == scale(2, (1, 2, 3))"
   ]
  },
  {
   "cell_type": "markdown",
   "metadata": {},
   "source": [
    "### Exercise\n",
    "\n",
    "Without running it, what is the result of applying the transformation `compose(rotate_z_by(pi / 2), rotate_x_by(pi / 2))`? What is the result if you switch the order of the composition?"
   ]
  },
  {
   "cell_type": "markdown",
   "metadata": {},
   "source": [
    "`compose(rotate_z_by(pi / 2), rotate_x_by(pi / 2))` means:\n",
    "+ First rotating the figure 90° about the x axis in a counterclockwise fashion, so that the we see the teapot's lid.\n",
    "+ Then rotating the teapot by another 90° about the z axis in a counterclockwise fashion so that the lid is at the bottom and the spout is up.\n",
    "\n",
    "That is, we will be looking at the teapot's lid with the spout at the top, and the lid at the bottom."
   ]
  },
  {
   "cell_type": "markdown",
   "metadata": {},
   "source": [
    "By contrast, `compose(rotate_x_by(pi / 2), rotate_z_by(pi / 2))` means:\n",
    "+ First rotating the teapot 90° about the z axis in a counterclockwise fashion, so that the spout looks up, but we see both the lid and the bottom.\n",
    "+ Then, rotate the teapot 90° about the x axis in a counterclockwise fashion, so that the spout is looking at us.\n",
    "\n",
    "That is, we will be looking at the spout, with the exit of the spout pointing to the left."
   ]
  },
  {
   "cell_type": "markdown",
   "metadata": {},
   "source": [
    "Let's confirm:"
   ]
  },
  {
   "cell_type": "code",
   "execution_count": 13,
   "metadata": {},
   "outputs": [
    {
     "name": "stderr",
     "output_type": "stream",
     "text": [
      "shm_open() failed: No such file or directory\n",
      "ALSA lib confmisc.c:855:(parse_card) cannot find card '0'\n",
      "ALSA lib conf.c:5204:(_snd_config_evaluate) function snd_func_card_inum returned error: No such file or directory\n",
      "ALSA lib confmisc.c:422:(snd_func_concat) error evaluating strings\n",
      "ALSA lib conf.c:5204:(_snd_config_evaluate) function snd_func_concat returned error: No such file or directory\n",
      "ALSA lib confmisc.c:1342:(snd_func_refer) error evaluating name\n",
      "ALSA lib conf.c:5204:(_snd_config_evaluate) function snd_func_refer returned error: No such file or directory\n",
      "ALSA lib conf.c:5727:(snd_config_expand) Evaluate error: No such file or directory\n",
      "ALSA lib pcm.c:2675:(snd_pcm_open_noupdate) Unknown PCM default\n"
     ]
    },
    {
     "ename": "SystemExit",
     "evalue": "0",
     "output_type": "error",
     "traceback": [
      "An exception has occurred, use %tb to see the full traceback.\n",
      "\u001b[0;31mSystemExit\u001b[0m\u001b[0;31m:\u001b[0m 0\n"
     ]
    }
   ],
   "source": [
    "from math import pi\n",
    "from rendergl import draw_model, load_triangles, compose, rotate_x_by, rotate_z_by, polygon_map\n",
    "\n",
    "draw_model(polygon_map(compose(rotate_z_by(pi / 2), rotate_x_by(pi / 2)), load_triangles()))"
   ]
  },
  {
   "cell_type": "code",
   "execution_count": 20,
   "metadata": {},
   "outputs": [
    {
     "name": "stderr",
     "output_type": "stream",
     "text": [
      "shm_open() failed: No such file or directory\n",
      "ALSA lib confmisc.c:855:(parse_card) cannot find card '0'\n",
      "ALSA lib conf.c:5204:(_snd_config_evaluate) function snd_func_card_inum returned error: No such file or directory\n",
      "ALSA lib confmisc.c:422:(snd_func_concat) error evaluating strings\n",
      "ALSA lib conf.c:5204:(_snd_config_evaluate) function snd_func_concat returned error: No such file or directory\n",
      "ALSA lib confmisc.c:1342:(snd_func_refer) error evaluating name\n",
      "ALSA lib conf.c:5204:(_snd_config_evaluate) function snd_func_refer returned error: No such file or directory\n",
      "ALSA lib conf.c:5727:(snd_config_expand) Evaluate error: No such file or directory\n",
      "ALSA lib pcm.c:2675:(snd_pcm_open_noupdate) Unknown PCM default\n"
     ]
    },
    {
     "ename": "SystemExit",
     "evalue": "0",
     "output_type": "error",
     "traceback": [
      "An exception has occurred, use %tb to see the full traceback.\n",
      "\u001b[0;31mSystemExit\u001b[0m\u001b[0;31m:\u001b[0m 0\n"
     ]
    }
   ],
   "source": [
    "from math import pi\n",
    "from rendergl import draw_model, load_triangles, compose, rotate_x_by, rotate_z_by, polygon_map\n",
    "\n",
    "draw_model(polygon_map(compose(rotate_z_by(pi / 2)), load_triangles()))"
   ]
  },
  {
   "cell_type": "markdown",
   "metadata": {},
   "source": [
    "![Teapot: case 1](pics/teapot-exercise-rotate-1.png)\n",
    "\n",
    "![Teapot: case 2](pics/teapot-exercise-rotate-2.png)"
   ]
  },
  {
   "cell_type": "markdown",
   "metadata": {},
   "source": [
    "The interesting thing, is the the composition of the first rotation is the same as rotating the teapot 90° in a clockwise fashion."
   ]
  },
  {
   "cell_type": "code",
   "execution_count": 22,
   "metadata": {},
   "outputs": [
    {
     "name": "stderr",
     "output_type": "stream",
     "text": [
      "shm_open() failed: No such file or directory\n",
      "ALSA lib confmisc.c:855:(parse_card) cannot find card '0'\n",
      "ALSA lib conf.c:5204:(_snd_config_evaluate) function snd_func_card_inum returned error: No such file or directory\n",
      "ALSA lib confmisc.c:422:(snd_func_concat) error evaluating strings\n",
      "ALSA lib conf.c:5204:(_snd_config_evaluate) function snd_func_concat returned error: No such file or directory\n",
      "ALSA lib confmisc.c:1342:(snd_func_refer) error evaluating name\n",
      "ALSA lib conf.c:5204:(_snd_config_evaluate) function snd_func_refer returned error: No such file or directory\n",
      "ALSA lib conf.c:5727:(snd_config_expand) Evaluate error: No such file or directory\n",
      "ALSA lib pcm.c:2675:(snd_pcm_open_noupdate) Unknown PCM default\n"
     ]
    },
    {
     "ename": "SystemExit",
     "evalue": "0",
     "output_type": "error",
     "traceback": [
      "An exception has occurred, use %tb to see the full traceback.\n",
      "\u001b[0;31mSystemExit\u001b[0m\u001b[0;31m:\u001b[0m 0\n"
     ]
    }
   ],
   "source": [
    "from math import pi\n",
    "from rendergl import draw_model, load_triangles, rotate_y_by, polygon_map\n",
    "\n",
    "draw_model(polygon_map(rotate_y_by(-pi / 2), load_triangles()))"
   ]
  },
  {
   "cell_type": "markdown",
   "metadata": {},
   "source": [
    "### Exercise\n",
    "\n",
    "Write a function `stretch_x(scalar, vector)` that scales the target vector by the given factor but only in the x direction. Also write the curried version `stretch_x_by` so that `stretch_x_by(scalar)(vector)` returns the same result."
   ]
  },
  {
   "cell_type": "code",
   "execution_count": 23,
   "metadata": {},
   "outputs": [
    {
     "name": "stderr",
     "output_type": "stream",
     "text": [
      "shm_open() failed: No such file or directory\n",
      "ALSA lib confmisc.c:855:(parse_card) cannot find card '0'\n",
      "ALSA lib conf.c:5204:(_snd_config_evaluate) function snd_func_card_inum returned error: No such file or directory\n",
      "ALSA lib confmisc.c:422:(snd_func_concat) error evaluating strings\n",
      "ALSA lib conf.c:5204:(_snd_config_evaluate) function snd_func_concat returned error: No such file or directory\n",
      "ALSA lib confmisc.c:1342:(snd_func_refer) error evaluating name\n",
      "ALSA lib conf.c:5204:(_snd_config_evaluate) function snd_func_refer returned error: No such file or directory\n",
      "ALSA lib conf.c:5727:(snd_config_expand) Evaluate error: No such file or directory\n",
      "ALSA lib pcm.c:2675:(snd_pcm_open_noupdate) Unknown PCM default\n"
     ]
    },
    {
     "ename": "SystemExit",
     "evalue": "0",
     "output_type": "error",
     "traceback": [
      "An exception has occurred, use %tb to see the full traceback.\n",
      "\u001b[0;31mSystemExit\u001b[0m\u001b[0;31m:\u001b[0m 0\n"
     ]
    },
    {
     "name": "stderr",
     "output_type": "stream",
     "text": [
      "/home/ubuntu/miniconda3/envs/gl3d/lib/python3.11/site-packages/IPython/core/interactiveshell.py:3556: UserWarning: To exit: use 'exit', 'quit', or Ctrl-D.\n",
      "  warn(\"To exit: use 'exit', 'quit', or Ctrl-D.\", stacklevel=1)\n"
     ]
    }
   ],
   "source": [
    "from rendergl import draw_model, polygon_map, load_triangles\n",
    "\n",
    "def stretch_x(scalar, vector):\n",
    "    x, y, z = vector\n",
    "    return scalar * x, y, z\n",
    "\n",
    "def stretch_x_by(scalar):\n",
    "    def new_transformation_fn(v):\n",
    "        return stretch_x(scalar, v)\n",
    "\n",
    "    return new_transformation_fn\n",
    "\n",
    "\n",
    "draw_model(polygon_map(stretch_x_by(2), load_triangles()))"
   ]
  },
  {
   "cell_type": "markdown",
   "metadata": {},
   "source": [
    "![Teapot stretched](pics/teapot-exercise-stretch-by-2.png)"
   ]
  },
  {
   "cell_type": "markdown",
   "metadata": {},
   "source": [
    "## Linear Transformations"
   ]
  },
  {
   "cell_type": "markdown",
   "metadata": {},
   "source": [
    "Linear Transformations are special transformations that are considered as *well-behaved* because certain vector arithmetic rules look the same before and after the transformation."
   ]
  },
  {
   "cell_type": "markdown",
   "metadata": {},
   "source": [
    "### Preserving Vector Arithmetic\n",
    "\n",
    "The two most important arithmetic operations with vectors are addition and scalar multiplication.\n",
    "\n",
    "Let's use the 2D plane to geometrically understand what we mean by well-behaved."
   ]
  },
  {
   "cell_type": "markdown",
   "metadata": {},
   "source": [
    "Consider the following vectors $ u $, $ v $, and $ w $, where $ w = u + v $."
   ]
  },
  {
   "cell_type": "code",
   "execution_count": 7,
   "metadata": {},
   "outputs": [
    {
     "data": {
      "image/png": "[encoded data removed]",
      "text/plain": [
       "<Figure size 600x300 with 1 Axes>"
      ]
     },
     "metadata": {},
     "output_type": "display_data"
    }
   ],
   "source": [
    "from vec2d.graph import draw, Arrow, Colors, LineStyles\n",
    "from vec2d.math import add\n",
    "\n",
    "u = (6, 1)\n",
    "v = (2, 2)\n",
    "\n",
    "\n",
    "draw(\n",
    "    Arrow(u, color=Colors.BLUE),\n",
    "    Arrow(v, color=Colors.ORANGE),\n",
    "    Arrow(add(u, v), u, color=Colors.ORANGE, linestyle=LineStyles.LOOSELY_DASHED),\n",
    "    Arrow(add(u, v), v, color=Colors.BLUE, linestyle=LineStyles.LOOSELY_DASHED),\n",
    "    Arrow(add(u, v), color=Colors.PURPLE),\n",
    ")"
   ]
  },
  {
   "cell_type": "markdown",
   "metadata": {},
   "source": [
    "The question we want to ask is:\n",
    "> if we apply the same vector transformations to the three vectors, will it still look like a vector sum?\n",
    "\n",
    "Let's try to see that geometrically, applying a certain counterclockwise rotation to the three vectors:"
   ]
  },
  {
   "cell_type": "code",
   "execution_count": 2,
   "metadata": {},
   "outputs": [
    {
     "data": {
      "image/png": "[encoded data removed]",
      "text/plain": [
       "<Figure size 600x337.5 with 1 Axes>"
      ]
     },
     "metadata": {},
     "output_type": "display_data"
    }
   ],
   "source": [
    "from vec2d.graph import draw, Arrow, Colors, LineStyles\n",
    "from vec2d.math import add, rotate, to_radians\n",
    "\n",
    "u = (6, 1)\n",
    "v = (2, 2)\n",
    "w = add(u, v)\n",
    "\n",
    "r_u, r_v, r_w = rotate(to_radians(110), [u, v, w])\n",
    "\n",
    "\n",
    "draw(\n",
    "    Arrow(u, color=Colors.BLUE),\n",
    "    Arrow(v, color=Colors.ORANGE),\n",
    "    Arrow(w, u, color=Colors.ORANGE, linestyle=LineStyles.LOOSELY_DASHED),\n",
    "    Arrow(w, v, color=Colors.BLUE, linestyle=LineStyles.LOOSELY_DASHED),\n",
    "    Arrow(w, color=Colors.PURPLE),\n",
    "    Arrow(r_u, color=Colors.BLUE),\n",
    "    Arrow(r_v, color=Colors.ORANGE),\n",
    "    Arrow(r_w, r_u, color=Colors.ORANGE, linestyle=LineStyles.LOOSELY_DASHED),\n",
    "    Arrow(r_w, r_v, color=Colors.BLUE, linestyle=LineStyles.LOOSELY_DASHED),\n",
    "    Arrow(r_w, color=Colors.PURPLE),\n",
    ")"
   ]
  },
  {
   "cell_type": "markdown",
   "metadata": {},
   "source": [
    "Note how the rotated diagram is exactly the diagram representing the vector sum.\n",
    "\n",
    "Thus, if we denote the rotation of the vector $ u $, as $ R(u) $, \n",
    "\n",
    "$\n",
    "R(u) + R(v) = R(w)\n",
    "$\n",
    "\n",
    "provided that $ u + v = w $.\n",
    "\n",
    "To describe this property, we say that rotations *preserve* vector sums."
   ]
  },
  {
   "cell_type": "markdown",
   "metadata": {},
   "source": [
    "Similarly, rotations preserve scalar multiples.\n",
    "\n",
    "That is, if $ \\vec{v} $ is a vector and $ s \\vec{v} $ is the result of the scalar multiplication of $ \\vec{v} $ by the scalar $ s $, we will see that if we rotate $ \\vec{v} $ and $ s \\vec{v} $, $ R(s \\vec{v}) $ is a scalar multiple of $ R(\\vec{v}) $ by the same factor $ s $:"
   ]
  },
  {
   "cell_type": "code",
   "execution_count": 9,
   "metadata": {},
   "outputs": [
    {
     "data": {
      "image/png": "[encoded data removed]",
      "text/plain": [
       "<Figure size 600x360 with 1 Axes>"
      ]
     },
     "metadata": {},
     "output_type": "display_data"
    }
   ],
   "source": [
    "from vec2d.graph import draw, Arrow, Colors\n",
    "from vec2d.math import scalar_product, rotate, to_radians\n",
    "\n",
    "v = (2, 3)\n",
    "s = 2.25\n",
    "sv = scalar_product(v, s)\n",
    "r_v, r_sv = rotate(to_radians(110), [v, sv])\n",
    "\n",
    "draw(\n",
    "    Arrow(sv, color=Colors.PURPLE),\n",
    "    Arrow(v, color=Colors.ORANGE),\n",
    "    Arrow(r_sv, color=Colors.PURPLE),\n",
    "    Arrow(r_v, color=Colors.ORANGE),\n",
    ")"
   ]
  },
  {
   "cell_type": "markdown",
   "metadata": {},
   "source": [
    "While this is just a visual example, you'll find that for any vector $ \\vec{v} $, scalar $ s $, and rotation $ R $, the same picture holds:\n",
    "\n",
    "$\n",
    "R(s\\vec{v}) = s R (\\vec{v})\n",
    "$"
   ]
  },
  {
   "cell_type": "markdown",
   "metadata": {},
   "source": [
    "Rotations or any other vector transformations that preserve vector sums and scalar multiples are called **linear transformations**.\n",
    "\n",
    "Let's define this concept in more rigorous terms."
   ]
  },
  {
   "cell_type": "markdown",
   "metadata": {},
   "source": [
    "### Linear Transformation (Algebraic definition)\n",
    "\n",
    "A **linear transformation** is a **vector transformation** $ T $ that **preserves vector addition** and **scalar multiplication**.\n",
    "\n",
    "That is, for any input vectors $ \\vec{u} $ and $ \\vec{v} $, we have\n",
    "\n",
    "$\n",
    "T(\\vec{u}) + T(\\vec{v}) = T(\\vec{u} + \\vec{v})\n",
    "$\n",
    "\n",
    "and for any pair of scalar $ s $ and vector $ \\vec{v} $, we have\n",
    "\n",
    "$\n",
    "T(s \\vec{v}) = sT(\\vec{v})\n",
    "$\n"
   ]
  },
  {
   "cell_type": "markdown",
   "metadata": {},
   "source": [
    "| NOTE: |\n",
    "| :---- |\n",
    "| Linear transformations are so important that the whole subject of linear algebra is named after them. |"
   ]
  },
  {
   "cell_type": "markdown",
   "metadata": {},
   "source": [
    "### Picturing Linear Transformations\n",
    "\n",
    "Not all transformations are linear transformations.\n",
    "\n",
    "Let's consider a sample transformation $ S $ such that given a vector $ \\vec{v} = (x, y) $, $ S(v) = (x^2, y^2) $.\n",
    "\n",
    "Let's see if $ S $ is a linear transformation:\n"
   ]
  },
  {
   "cell_type": "code",
   "execution_count": 17,
   "metadata": {},
   "outputs": [
    {
     "data": {
      "image/png": "[encoded data removed]",
      "text/plain": [
       "<Figure size 600x600 with 1 Axes>"
      ]
     },
     "metadata": {},
     "output_type": "display_data"
    }
   ],
   "source": [
    "from vec2d.graph import draw, Arrow, Colors, LineStyles\n",
    "from vec2d.math import add\n",
    "\n",
    "u = (2, 3)\n",
    "v = (1, -1)\n",
    "w = add(u, v)\n",
    "\n",
    "def s_transform(v):\n",
    "    return tuple(coord ** 2 for coord in v)\n",
    "\n",
    "s_u = s_transform(u)\n",
    "s_v = s_transform(v)\n",
    "s_w = s_transform(w)\n",
    "\n",
    "\n",
    "draw(\n",
    "    # Arrow(u, color=Colors.BLUE),\n",
    "    # Arrow(v, color=Colors.ORANGE),\n",
    "    # Arrow(w, u, color=Colors.ORANGE, linestyle=LineStyles.LOOSELY_DASHED),\n",
    "    # Arrow(w, v, color=Colors.BLUE, linestyle=LineStyles.LOOSELY_DASHED),\n",
    "    # Arrow(w, color=Colors.PURPLE),\n",
    "    Arrow(s_u, color=Colors.BLUE),\n",
    "    Arrow(s_v, color=Colors.ORANGE),\n",
    "    Arrow(s_w, s_u, color=Colors.ORANGE, linestyle=LineStyles.LOOSELY_DASHED),\n",
    "    Arrow(s_w, s_v, color=Colors.BLUE, linestyle=LineStyles.LOOSELY_DASHED),\n",
    "    Arrow(s_w, color=Colors.PURPLE),\n",
    ")"
   ]
  },
  {
   "cell_type": "markdown",
   "metadata": {},
   "source": [
    "We clearly see that the transformed vectors do not seem to agree geometrically with what we should expect from a linear transformation.\n",
    "\n",
    "We can also see that algebraically:\n",
    "\n",
    "$\n",
    "u = (2, 3) \\\\\n",
    "v = (1, -1) \\\\\n",
    "u + v = (3, 2) \\\\\n",
    "S(u) = (4, 9) \\\\\n",
    "S(v) = (1, 1) \\\\\n",
    "S(u + v) = S((3, 2)) = (9, 4) \\ne (4, 9) + (1, 1) = S(u) + S(v)\n",
    "$"
   ]
  },
  {
   "cell_type": "markdown",
   "metadata": {},
   "source": [
    "It doesn't preserve scalar multiples either:"
   ]
  },
  {
   "cell_type": "code",
   "execution_count": 18,
   "metadata": {},
   "outputs": [
    {
     "data": {
      "image/png": "[encoded data removed]",
      "text/plain": [
       "<Figure size 600x800 with 1 Axes>"
      ]
     },
     "metadata": {},
     "output_type": "display_data"
    }
   ],
   "source": [
    "from vec2d.graph import draw, Arrow, Colors, LineStyles\n",
    "from vec2d.math import scalar_product\n",
    "\n",
    "v = (1, -1)\n",
    "s = 2\n",
    "sv = scalar_product(v, s)\n",
    "\n",
    "def s_transform(v):\n",
    "    return tuple(coord ** 2 for coord in v)\n",
    "\n",
    "\n",
    "s_v = s_transform(v)\n",
    "s_sv = s_transform(sv)\n",
    "\n",
    "\n",
    "draw(\n",
    "    Arrow(sv, color=Colors.ORANGE),\n",
    "    Arrow(v, color=Colors.BLUE),\n",
    "    Arrow(s_sv, color=Colors.ORANGE, linestyle=LineStyles.LOOSELY_DASHED),\n",
    "    Arrow(s_v, color=Colors.BLUE, linestyle=LineStyles.LOOSELY_DASHED),\n",
    ")"
   ]
  },
  {
   "cell_type": "markdown",
   "metadata": {},
   "source": [
    "And also algebraically:\n",
    "\n",
    "$\n",
    "v = (1, -1) \\\\\n",
    "s = 2 \\\\\n",
    "s \\vec{v} = (2, -2) \\\\\n",
    "S(v) = (1, 1) \\\\\n",
    "S(s\\vec{v}) = S((2, -2)) = (4, 4) \\ne 2 \\cdot (2, -2) = s \\cdot S(v)\n",
    "$"
   ]
  },
  {
   "cell_type": "markdown",
   "metadata": {},
   "source": [
    "Let's consider another transformation $ D(v) $ that scales the input vector by a factor of 2. That is, $ D(\\vec{v}) = 2 \\cdot \\vec{v} $.\n",
    "\n",
    "$\n",
    "u = (u_x, u_y) \\\\\n",
    "v = (v_x, v_y) \\\\\n",
    "u + v = (u_x + v_x, u_y + v_y) \\\\\n",
    "D(u) = (2 \\cdot u_x, 2 \\cdot u_y) \\\\\n",
    "D(v) = (2 \\cdot v_x, 2 \\cdot v_y) \\\\\n",
    "D(u + v) = (2 \\cdot u_x + 2 \\cdot v_x, 2 \\cdot u_y + 2 \\cdot u_y) = 2 \\cdot (u_x + v_x, u_y + v_y) = 2 \\cdot D(u) + D(v) \\\\\n",
    "$\n",
    "\n",
    "Thus, doubling the lengths preserves the sums."
   ]
  },
  {
   "cell_type": "code",
   "execution_count": 20,
   "metadata": {},
   "outputs": [
    {
     "data": {
      "image/png": "[encoded data removed]",
      "text/plain": [
       "<Figure size 600x600 with 1 Axes>"
      ]
     },
     "metadata": {},
     "output_type": "display_data"
    }
   ],
   "source": [
    "from vec2d.graph import draw, Arrow, Colors, LineStyles\n",
    "from vec2d.math import add, scalar_product\n",
    "\n",
    "u = (4, 2)\n",
    "v = (1, 3)\n",
    "w = add(u, v)\n",
    "\n",
    "def d_transform(v):\n",
    "    return scalar_product(v, 2)\n",
    "\n",
    "d_u = d_transform(u)\n",
    "d_v = d_transform(v)\n",
    "d_w = d_transform(w)\n",
    "\n",
    "\n",
    "draw(\n",
    "    Arrow(u, color=Colors.BLUE),\n",
    "    Arrow(v, color=Colors.ORANGE),\n",
    "    Arrow(w, u, color=Colors.ORANGE, linestyle=LineStyles.LOOSELY_DASHED),\n",
    "    Arrow(w, v, color=Colors.BLUE, linestyle=LineStyles.LOOSELY_DASHED),\n",
    "    Arrow(w, color=Colors.PURPLE),\n",
    "    Arrow(d_u, color=Colors.BLUE),\n",
    "    Arrow(d_v, color=Colors.ORANGE),\n",
    "    Arrow(d_w, d_u, color=Colors.ORANGE, linestyle=LineStyles.LOOSELY_DASHED),\n",
    "    Arrow(d_w, d_v, color=Colors.BLUE, linestyle=LineStyles.LOOSELY_DASHED),\n",
    "    Arrow(d_w, color=Colors.PURPLE),\n",
    ")"
   ]
  },
  {
   "cell_type": "markdown",
   "metadata": {},
   "source": [
    "$ D $ also preserves the scalar multiplication:\n",
    "\n",
    "$\n",
    "v = (x, y) \\\\\n",
    "s \\cdot u = (s \\cdot x, s \\cdot y) \\\\\n",
    "D(v) = (2 \\cdot x, 2 \\cdot y) \\\\\n",
    "D(s \\cdot v) = (2 \\cdot x, 2 \\cdot y) = 2 \\cdot (x, y) = 2 \\cdot D(v) \\\\\n",
    "$"
   ]
  },
  {
   "cell_type": "markdown",
   "metadata": {},
   "source": [
    "Surprisingly, translation is not a linear transformation, because in general $ B(v + w) \\ne B(v) + B(w) $.\n",
    "\n",
    "It turns out that for a transformation to be linear, it must not move the origin, but a translation by any non-zero vector transforms (moves) the origin, which will end up at a different point, and therefore will break the rules for linear transformations."
   ]
  },
  {
   "cell_type": "markdown",
   "metadata": {},
   "source": [
    "### Why Linear Transformations?\n",
    "\n",
    "Because linear transformations preserve vector sums and scalar multiples, they also preserve a broader class of vector arithmetic operations.\n",
    "\n",
    "The most general operation is called a **linear combination**.\n",
    "\n",
    "A **linear combination** of a collection of vectors is a sum of scalar multiples of them.\n",
    "\n",
    "For example, a linear combination of two vectors $ u $ and $ v $ would be $ 3 \\cdot u - 2 \\cdot v $.\n",
    "\n",
    "Given three vectors $ u $, $ v $, and $ w $ a linear combination will be $ 0.5 \\cdot u - v + 6 \\cdot w $.\n",
    "\n",
    "> Because linear transformations preserve vector sums and scalar multiples, they preserve linear combinations as well."
   ]
  },
  {
   "cell_type": "markdown",
   "metadata": {},
   "source": [
    "In more formal terms, if you have a collection of n vectors $ \\vec{v_1} $, $ \\vec{v_2} $, ..., $ \\vec{v_n} $, as well as any choice of $ n $ scalars $ s_1 $,  $ s_2 $, ..., $ s_n $, a linear transformation $ T $ preserves the linear combination so that:\n",
    "\n",
    "$\n",
    "T(s_1 \\cdot \\vec{v_1} + s_2 \\cdot \\vec{v_2} + ... + s_n \\cdot \\vec{v_n}) = \\\n",
    "s_1 \\cdot T(\\vec{v_1}) + s_2 \\cdot T(\\vec{v_2}) + ... + s_n \\cdot T(\\vec{v_n})\n",
    "$"
   ]
  },
  {
   "cell_type": "markdown",
   "metadata": {},
   "source": [
    "One linear combination we've already worked with in a previous chapter was:\n",
    "\n",
    "$\n",
    "\\frac{1}{2}(\\vec{u} + \\vec{v}) = \\frac{1}{2} \\cdot \\vec{u} + \\frac{1}{2} \\cdot \\vec{v}\n",
    "$\n",
    "\n",
    "Geometrically, this linear combination gives us a vector that identifies the midpoint between the segment that goes from the tip of $ \\vec{u} $ to the tip of $ \\vec{v} $."
   ]
  },
  {
   "cell_type": "code",
   "execution_count": 5,
   "metadata": {},
   "outputs": [
    {
     "data": {
      "image/png": "[encoded data removed]",
      "text/plain": [
       "<Figure size 600x480 with 1 Axes>"
      ]
     },
     "metadata": {},
     "output_type": "display_data"
    }
   ],
   "source": [
    "from vec2d.graph import draw, Arrow, Segment, Colors, LineStyles, Points\n",
    "from vec2d.math import add, scalar_product\n",
    "\n",
    "u = (5.5, 2.5)\n",
    "v = (2.5, 3.5)\n",
    "\n",
    "\n",
    "draw(\n",
    "    Arrow(u, color=Colors.BLUE),\n",
    "    Arrow(v, color=Colors.ORANGE),\n",
    "    Arrow(add(u, v), u, color=Colors.ORANGE, linestyle=LineStyles.LOOSELY_DASHED),\n",
    "    Arrow(add(u, v), v, color=Colors.BLUE, linestyle=LineStyles.LOOSELY_DASHED),\n",
    "    Arrow(add(u, v), color=Colors.PURPLE),\n",
    "    Arrow(scalar_product(add(u, v), 1 / 2), color=Colors.PURPLE),\n",
    "    Points(scalar_product(add(u, v), 1 / 2)),\n",
    "    Segment(u, v, color=Colors.BLACK),\n",
    ")"
   ]
  },
  {
   "cell_type": "markdown",
   "metadata": {},
   "source": [
    "And annotated:\n",
    "\n",
    "![Midpoint: linear combination](pics/midpoint_linear_combination.png)"
   ]
  },
  {
   "cell_type": "markdown",
   "metadata": {},
   "source": [
    "Because linear transformations preserve linear combinations we can say:\n",
    "> Linear transformations send midpoints to other midpoints.\n",
    "\n",
    "That is, for any linear transformation $ T $\n",
    "\n",
    "$\n",
    "T(\\frac{1}{2} \\cdot (\\vec{u} + \\vec{v})) = \\frac{1}{2} \\cdot T(\\vec{u}) + \\frac{1}{2} \\cdot T(\\vec{v})\n",
    "$"
   ]
  },
  {
   "cell_type": "markdown",
   "metadata": {},
   "source": [
    "For example, if make $ T $ a rotation:"
   ]
  },
  {
   "cell_type": "code",
   "execution_count": 13,
   "metadata": {},
   "outputs": [
    {
     "data": {
      "image/png": "[encoded data removed]",
      "text/plain": [
       "<Figure size 600x300 with 1 Axes>"
      ]
     },
     "metadata": {},
     "output_type": "display_data"
    }
   ],
   "source": [
    "from vec2d.graph import draw, Arrow, Colors, LineStyles, Segment, Points\n",
    "from vec2d.math import add, rotate, to_radians, scalar_product\n",
    "\n",
    "u = (5.5, 2.5)\n",
    "v = (2.5, 3.5)\n",
    "w = add(u, v)\n",
    "\n",
    "r_u, r_v, r_w = rotate(to_radians(100), [u, v, w])\n",
    "\n",
    "\n",
    "draw(\n",
    "    Arrow(u, color=Colors.BLUE),\n",
    "    Arrow(v, color=Colors.ORANGE),\n",
    "    Arrow(w, u, color=Colors.ORANGE, linestyle=LineStyles.LOOSELY_DASHED),\n",
    "    Arrow(w, v, color=Colors.BLUE, linestyle=LineStyles.LOOSELY_DASHED),\n",
    "    Arrow(w, color=Colors.PURPLE),\n",
    "    Arrow(scalar_product(w, 1 / 2), color=Colors.PURPLE),\n",
    "    Points(scalar_product(w, 1 / 2)),\n",
    "    Segment(u, v, color=Colors.BLACK),\n",
    "    Arrow(r_u, color=Colors.BLUE),\n",
    "    Arrow(r_v, color=Colors.ORANGE),\n",
    "    Arrow(r_w, r_u, color=Colors.ORANGE, linestyle=LineStyles.LOOSELY_DASHED),\n",
    "    Arrow(r_w, r_v, color=Colors.BLUE, linestyle=LineStyles.LOOSELY_DASHED),\n",
    "    Arrow(r_w, color=Colors.PURPLE),\n",
    "    Arrow(scalar_product(r_w, 1 / 2), color=Colors.PURPLE),\n",
    "    Points(scalar_product(r_w, 1 / 2)),\n",
    "    Segment(r_u, r_v, color=Colors.BLACK),\n",
    ")"
   ]
  },
  {
   "cell_type": "markdown",
   "metadata": {},
   "source": [
    "The linear combination $ 0.25 \\cdot \\vec{u} + 0.75 \\cdot \\vec{v} $ also lies on the line segment between $ \\vec{u} $ and $ \\vec{v} $. Specifically, this is the point that lies 75% of the way from $ \\vec{u} $ to $ \\vec{v} $."
   ]
  },
  {
   "cell_type": "code",
   "execution_count": 14,
   "metadata": {},
   "outputs": [
    {
     "data": {
      "image/png": "[encoded data removed]",
      "text/plain": [
       "<Figure size 600x480 with 1 Axes>"
      ]
     },
     "metadata": {},
     "output_type": "display_data"
    }
   ],
   "source": [
    "from vec2d.graph import draw, Arrow, Segment, Colors, LineStyles, Points\n",
    "from vec2d.math import add, scalar_product\n",
    "\n",
    "u = (-2, 2)\n",
    "v = (6, 6)\n",
    "w = add(scalar_product(u, 0.25), scalar_product(v, 0.75))\n",
    "\n",
    "draw(\n",
    "    Arrow(u, color=Colors.BLUE),\n",
    "    Arrow(v, color=Colors.ORANGE),\n",
    "    Arrow(w, color=Colors.GRAY),\n",
    "    Points(w),\n",
    "    Segment(u, v, color=Colors.BLACK, linestyle=LineStyles.DOTTED),\n",
    ")"
   ]
  },
  {
   "cell_type": "markdown",
   "metadata": {},
   "source": [
    "And annotated for clarity:\n",
    "\n",
    "![Linear Combination: Annotated](pics/linear_combination_annotated.png)"
   ]
  },
  {
   "cell_type": "markdown",
   "metadata": {},
   "source": [
    "As a matter of fact, every point on the line segment between two vectors is a *weighted average*, having the form $ s \\cdot \\vec{u} + (1 - s) \\cdot \\vec{v} $, for any $ s $ between $ 0 $ and $ 1 $."
   ]
  },
  {
   "cell_type": "markdown",
   "metadata": {},
   "source": [
    "The following diagram shows this fact geometrically, by plotting 10 `Points` showing 10 values of $ s $ ranging from $ 0 $ to $ 1 $."
   ]
  },
  {
   "cell_type": "code",
   "execution_count": 15,
   "metadata": {},
   "outputs": [
    {
     "data": {
      "image/png": "[encoded data removed]",
      "text/plain": [
       "<Figure size 600x600 with 1 Axes>"
      ]
     },
     "metadata": {},
     "output_type": "display_data"
    }
   ],
   "source": [
    "from vec2d.graph import draw, Arrow, Colors, Points\n",
    "from vec2d.math import add, scalar_product\n",
    "import numpy as np\n",
    "\n",
    "u = (-1, 1)\n",
    "v = (3, 4)\n",
    "ss = np.linspace(start=0, stop=1, num=10, endpoint=True)\n",
    "\n",
    "points = [add(scalar_product(u, (1 - s)), scalar_product(v, s)) for s in ss]\n",
    "\n",
    "draw(\n",
    "    Arrow(u, color=Colors.BLUE),\n",
    "    Arrow(v, color=Colors.ORANGE),\n",
    "    Points(*points, color=Colors.PURPLE),\n",
    ")"
   ]
  },
  {
   "cell_type": "markdown",
   "metadata": {},
   "source": [
    "And the same exercise, but using 100 values:"
   ]
  },
  {
   "cell_type": "code",
   "execution_count": 19,
   "metadata": {},
   "outputs": [
    {
     "data": {
      "image/png": "[encoded data removed]",
      "text/plain": [
       "<Figure size 600x600 with 1 Axes>"
      ]
     },
     "metadata": {},
     "output_type": "display_data"
    }
   ],
   "source": [
    "from vec2d.graph import draw, Arrow, Colors, Points\n",
    "from vec2d.math import add, scalar_product\n",
    "import numpy as np\n",
    "\n",
    "u = (-1, 1)\n",
    "v = (3, 4)\n",
    "ss = np.linspace(start=0, stop=1, num=100, endpoint=True)\n",
    "\n",
    "points = [add(scalar_product(u, (1 - s)), scalar_product(v, s)) for s in ss]\n",
    "\n",
    "draw(\n",
    "    Points(*points, color=Colors.PURPLE),\n",
    "    Arrow(u, color=Colors.BLUE),\n",
    "    Arrow(v, color=Colors.ORANGE),\n",
    ")"
   ]
  },
  {
   "cell_type": "markdown",
   "metadata": {},
   "source": [
    "In summary, \n",
    "> every point on the line segment connecting two vectors $ \\vec{u} $ and $ \\vec{v} $, is a *weighted average* written as a linear combination $ s \\cdot \\vec{u} + (1 - s) \\cdot \\vec{v} $, for any $ s $ between $ 0 $ and $ 1 $."
   ]
  },
  {
   "cell_type": "markdown",
   "metadata": {},
   "source": [
    "Now we can start thinking about what a linear transformation does to a whole line segment.\n",
    "\n",
    "A linear transformation $ T $, transforms $ \\vec{u} $ and $ \\vec{v} $ to some new vectors $ T(\\vec{u}) $ and $ T(\\vec{v}) $.\n",
    "\n",
    "Because a linear transformation preserves linear combinations, we can write:\n",
    "\n",
    "$\n",
    "T( s \\cdot \\vec{u} + (1 - s) \\cdot \\vec{v}) = s \\cdot T(\\vec{u}) + (1 - s) \\cdot T(\\vec{v})\n",
    "$\n",
    "\n",
    "That is, a point in the segment between $ \\vec{u} $ and $ \\vec{v} $ is transformed into a new point that happens to lie in the segment between  $ T(\\vec{u}) $ and $ T(\\vec{u}) $."
   ]
  },
  {
   "cell_type": "markdown",
   "metadata": {},
   "source": [
    "Let's see this geometrically with a rotation transformation:\n"
   ]
  },
  {
   "cell_type": "code",
   "execution_count": 36,
   "metadata": {},
   "outputs": [
    {
     "data": {
      "image/png": "[encoded data removed]",
      "text/plain": [
       "<Figure size 600x436.364 with 1 Axes>"
      ]
     },
     "metadata": {},
     "output_type": "display_data"
    }
   ],
   "source": [
    "from vec2d.graph import draw, Points, Segment\n",
    "from vec2d.math import add, scalar_product, rotate, to_radians\n",
    "\n",
    "u = (-4, 2)\n",
    "v = (-3, 6)\n",
    "\n",
    "s = 0.35\n",
    "w = add(scalar_product(u, s), scalar_product(v, 1 - s))\n",
    "\n",
    "r_u, r_v, r_w = rotate(to_radians(290), [u, v, w])\n",
    "\n",
    "draw(\n",
    "    Segment(u, v, color=Colors.BLACK, linestyle=LineStyles.DOTTED),\n",
    "    Points(u, v, w),\n",
    "    Segment(r_u, r_v, color=Colors.BLACK, linestyle=LineStyles.DOTTED),\n",
    "    Points(r_u, r_v, r_w),\n",
    ")\n",
    "\n",
    "assert round(r_w[0], 5) == round(add(scalar_product(r_u, s), scalar_product(r_v, 1 - s))[0], 5)\n",
    "assert round(r_w[1], 5) == round(add(scalar_product(r_u, s), scalar_product(r_v, 1 - s))[1], 5)\n"
   ]
  },
  {
   "cell_type": "markdown",
   "metadata": {},
   "source": [
    "And annotated for clarity:\n",
    "\n",
    "![Annotated](pics/transformation-on-weighted-average.png)"
   ]
  },
  {
   "cell_type": "markdown",
   "metadata": {},
   "source": [
    "A consequence that $ T $ takes every point on the line segment connecting $ \\vec{u} $ and $ \\vec{v} $ to a point on the line segment connecting $ T(\\vec{u}) $ and $ T(\\vec{v}) $."
   ]
  },
  {
   "cell_type": "markdown",
   "metadata": {},
   "source": [
    "Because our 3D models are made up of polygons and polygons are outlined by segments, we can confirm that linear transformations can be expected to preserve the structure of our 3D models (to some extent.)"
   ]
  },
  {
   "cell_type": "markdown",
   "metadata": {},
   "source": [
    "For example, consider the following triangle on the x- and y- positive side of the chart. By applying a 90° rotations, the structure of the triangle stays the same on the x- negative, y+ quadrant of the chart:"
   ]
  },
  {
   "cell_type": "code",
   "execution_count": 44,
   "metadata": {},
   "outputs": [
    {
     "data": {
      "image/png": "[encoded data removed]",
      "text/plain": [
       "<Figure size 600x400 with 1 Axes>"
      ]
     },
     "metadata": {},
     "output_type": "display_data"
    }
   ],
   "source": [
    "from vec2d.graph import draw, Colors, Points\n",
    "from vec2d.math import add, scalar_product, rotate, to_radians\n",
    "import numpy as np\n",
    "\n",
    "a = (1, 1)\n",
    "b = (4, 2)\n",
    "c = (2, 3)\n",
    "ss = np.linspace(start=0, stop=1, num=10, endpoint=True)\n",
    "\n",
    "points_ab = [add(scalar_product(a, (1 - s)), scalar_product(b, s)) for s in ss]\n",
    "points_bc = [add(scalar_product(b, (1 - s)), scalar_product(c, s)) for s in ss]\n",
    "points_ca = [add(scalar_product(c, (1 - s)), scalar_product(a, s)) for s in ss]\n",
    "\n",
    "r_points_ab = rotate(to_radians(90), points_ab)\n",
    "r_points_bc = rotate(to_radians(90), points_bc)\n",
    "r_points_ca = rotate(to_radians(90), points_ca)\n",
    "\n",
    "draw(\n",
    "    Points(*points_ab, color=Colors.RED),\n",
    "    Points(*points_bc, color=Colors.GREEN),\n",
    "    Points(*points_ca, color=Colors.BLUE),\n",
    "    Points(*r_points_ab, color=Colors.RED),\n",
    "    Points(*r_points_bc, color=Colors.GREEN),\n",
    "    Points(*r_points_ca, color=Colors.BLUE),\n",
    ")"
   ]
  },
  {
   "cell_type": "markdown",
   "metadata": {},
   "source": [
    "By contrast, if we use a non-linear transformation such as $ S(\\vec{v}) = (x^2, y^2) $, we will see that the structure of the triangle gets distorted."
   ]
  },
  {
   "cell_type": "code",
   "execution_count": 58,
   "metadata": {},
   "outputs": [
    {
     "data": {
      "image/png": "[encoded data removed]",
      "text/plain": [
       "<Figure size 600x347.368 with 1 Axes>"
      ]
     },
     "metadata": {},
     "output_type": "display_data"
    }
   ],
   "source": [
    "from vec2d.graph import draw, Colors, Points\n",
    "from vec2d.math import add, scalar_product\n",
    "import numpy as np\n",
    "\n",
    "a = (-1, 1)\n",
    "b = (4, 2)\n",
    "c = (2, 3)\n",
    "ss = np.linspace(start=0, stop=1, num=15, endpoint=True)\n",
    "\n",
    "\n",
    "def s_transform(vectors):\n",
    "    return [(x * x, y * y) for x, y in vectors]\n",
    "\n",
    "\n",
    "points_ab = [add(scalar_product(a, (1 - s)), scalar_product(b, s)) for s in ss]\n",
    "points_bc = [add(scalar_product(b, (1 - s)), scalar_product(c, s)) for s in ss]\n",
    "points_ca = [add(scalar_product(c, (1 - s)), scalar_product(a, s)) for s in ss]\n",
    "\n",
    "s_points_ab = s_transform(points_ab)\n",
    "s_points_bc = s_transform(points_bc)\n",
    "s_points_ca = s_transform(points_ca)\n",
    "\n",
    "draw(\n",
    "    Points(*points_ab, color=Colors.RED),\n",
    "    Points(*points_bc, color=Colors.GREEN),\n",
    "    Points(*points_ca, color=Colors.BLUE),\n",
    "    Points(*s_points_ab, color=Colors.RED),\n",
    "    Points(*s_points_bc, color=Colors.GREEN),\n",
    "    Points(*s_points_ca, color=Colors.BLUE),\n",
    "    # Points(*s_transform([a, b, c])),\n",
    ")"
   ]
  },
  {
   "cell_type": "markdown",
   "metadata": {},
   "source": [
    "It gets even more eviden if we choose the triangle designated by $ (2, 2) $, $ (2, 4) $, and $ (4, 1) $."
   ]
  },
  {
   "cell_type": "code",
   "execution_count": 4,
   "metadata": {},
   "outputs": [
    {
     "data": {
      "image/png": "[encoded data removed]",
      "text/plain": [
       "<Figure size 600x600 with 1 Axes>"
      ]
     },
     "metadata": {},
     "output_type": "display_data"
    }
   ],
   "source": [
    "from vec2d.graph import draw, Colors, Points\n",
    "from vec2d.math import add, scalar_product\n",
    "import numpy as np\n",
    "\n",
    "a = (2, 2)\n",
    "b = (2, 4)\n",
    "c = (4, 1)\n",
    "ss = np.linspace(start=0, stop=1, num=35, endpoint=True)\n",
    "\n",
    "\n",
    "def s_transform(vectors):\n",
    "    return [(x * x, y * y) for x, y in vectors]\n",
    "\n",
    "\n",
    "points_ab = [add(scalar_product(a, (1 - s)), scalar_product(b, s)) for s in ss]\n",
    "points_bc = [add(scalar_product(b, (1 - s)), scalar_product(c, s)) for s in ss]\n",
    "points_ca = [add(scalar_product(c, (1 - s)), scalar_product(a, s)) for s in ss]\n",
    "\n",
    "s_points_ab = s_transform(points_ab)\n",
    "s_points_bc = s_transform(points_bc)\n",
    "s_points_ca = s_transform(points_ca)\n",
    "\n",
    "draw(\n",
    "    Points(*points_ab, color=Colors.RED),\n",
    "    Points(*points_bc, color=Colors.GREEN),\n",
    "    Points(*points_ca, color=Colors.BLUE),\n",
    "    Points(*s_points_ab, color=Colors.RED),\n",
    "    Points(*s_points_bc, color=Colors.GREEN),\n",
    "    Points(*s_points_ca, color=Colors.BLUE),\n",
    "    # Points(*s_transform([a, b, c])),\n",
    ")"
   ]
  },
  {
   "cell_type": "markdown",
   "metadata": {},
   "source": [
    "The importance of what we've seen in this section cannot be overstated:\n",
    "> Linear transformations respect the algebraic properties of vectors, preserving sums, scalar multiples, and linear combinations.<br>They also respect the geometric properties of collections of vectors, sending line segments and polygons defined by vectors to new ones defined by the transformed vectors."
   ]
  },
  {
   "cell_type": "markdown",
   "metadata": {},
   "source": [
    "### Computing Linear Transformations\n",
    "\n",
    "In the previous chapters, we saw how to break 2D and 3D vectors into components. For example:\n",
    "\n",
    "$\n",
    "(4, 3, 5) = (4, 0, 0) + (0, 3, 0) + (0, 0, 5)\n",
    "$\n",
    "\n",
    "This can be written as a linear combination of the *basis vectors*:\n",
    "\n",
    "$\n",
    "(4, 3, 5) = 4 \\cdot (1, 0, 0) + 3 \\cdot (0, 1, 0) + 5 \\cdot (0, 0, 1)\n",
    "$"
   ]
  },
  {
   "cell_type": "markdown",
   "metadata": {},
   "source": [
    "As a matter of fact, any 3D vector can be decomposed into a linear combination of the vectors $ (1, 0, 0) $, $ (0, 1, 0) $, and $ (0, 0, 1) $.\n",
    "\n",
    "The scalars appearing in such decomposition for a vector $ \\vec{v} $ are exactly the coordinates of the vector."
   ]
  },
  {
   "cell_type": "markdown",
   "metadata": {},
   "source": [
    "The three vectors $ (1, 0, 0) $, $ (0, 1, 0) $, and $ (0, 0, 1) $ call the standard basis for the 3D space, and they are denoted as $ \\vec{e_1} $, $ \\vec{e_2} $, and $ \\vec{e_3} $ (or sometimes as $ \\vec{i} $, $ \\vec{j} $, and $ \\vec{k} $).\n",
    "\n",
    "using the first notation, we could write:\n",
    "\n",
    "$\n",
    "(4, 3, 5) = 4 \\cdot \\vec{e_1} + 3 \\cdot \\vec{e_2} + 5 \\cdot \\vec{e_3}\n",
    "$"
   ]
  },
  {
   "cell_type": "markdown",
   "metadata": {},
   "source": [
    "On the 2D plane we can apply the same reasoning using $ \\vec{e_1} = (1, 0) $ and $ \\vec{e_2} = (0, 1) $ (or sometimes $ \\vec{i} $ and $ \\vec{j} $).\n",
    "\n",
    "Similarly, any vector will be subject of being written using the standard basis:\n",
    "\n",
    "$\n",
    "(7, -4) = 7 \\cdot \\vec{e_1} - 4 \\cdot \\vec{e_2}\n",
    "$"
   ]
  },
  {
   "cell_type": "markdown",
   "metadata": {},
   "source": [
    "The beauty of being able to write any vector as a linear combination gives us an easy way to compute linear transformations.\n",
    "\n",
    "Because linear transformations respect linear combinations:\n",
    "\n",
    "$\n",
    "T(x \\cdot \\vec{e_1} + y \\cdot \\vec{e_2} + z \\cdot \\vec{e_3}) =\n",
    "x \\cdot T(\\vec{e_1}) + y \\cdot T(\\vec{e_2}) + z \\cdot T(\\vec{e_3})\n",
    "$\n",
    "\n",
    "All we need to know to compute a linear transformation is how it affects standard basis vectors."
   ]
  },
  {
   "cell_type": "markdown",
   "metadata": {},
   "source": [
    "That is, if we know $ T(\\vec{e_1}) $ and $ T(\\vec{e_2}) $, we will be able to compute $ T(\\vec{v}) $ for any vector."
   ]
  },
  {
   "cell_type": "markdown",
   "metadata": {},
   "source": [
    "To make this more concrete, let's say that $ A $ is a linear transformation for which we know:\n",
    "\n",
    "$\n",
    "A(\\vec{e_1}) = (1, 1, 1) \\\\\n",
    "A(\\vec{e_2}) = (1, 0, -1) \\\\\n",
    "A(\\vec{e_3}) = (0, 1, 1)\n",
    "$\n",
    "\n",
    "If $ v = (-1, 2, 2) $, we can calculate $ A(v) $ pretty easily."
   ]
  },
  {
   "cell_type": "markdown",
   "metadata": {},
   "source": [
    "$\n",
    "v = -1 \\cdot \\vec{e_1} + 2 \\cdot \\vec{e_2} + 2 \\cdot \\vec{e3}\n",
    "$\n",
    "\n",
    "Thus,\n",
    "\n",
    "$\n",
    "A(v) = A(-1 \\cdot \\vec{e_1} + 2 \\cdot \\vec{e_2} + 2 \\cdot \\vec{e3}) \\\\\n",
    "= -1 \\cdot A(\\vec{e_1}) + 2 \\cdot A(\\vec{e_2}) + 2 \\cdot A(\\vec{e_3}) \\\\\n",
    "= -1 \\cdot (1, 1, 1) + 2 \\cdot (1, 0, -1) + 2 \\cdot (0, 1, 1) \\\\\n",
    "= (1, 1, -1)\n",
    "$"
   ]
  },
  {
   "cell_type": "markdown",
   "metadata": {},
   "source": [
    "And we can apply it to the teapot:"
   ]
  },
  {
   "cell_type": "code",
   "execution_count": 60,
   "metadata": {},
   "outputs": [
    {
     "name": "stderr",
     "output_type": "stream",
     "text": [
      "shm_open() failed: No such file or directory\n",
      "ALSA lib confmisc.c:855:(parse_card) cannot find card '0'\n",
      "ALSA lib conf.c:5204:(_snd_config_evaluate) function snd_func_card_inum returned error: No such file or directory\n",
      "ALSA lib confmisc.c:422:(snd_func_concat) error evaluating strings\n",
      "ALSA lib conf.c:5204:(_snd_config_evaluate) function snd_func_concat returned error: No such file or directory\n",
      "ALSA lib confmisc.c:1342:(snd_func_refer) error evaluating name\n",
      "ALSA lib conf.c:5204:(_snd_config_evaluate) function snd_func_refer returned error: No such file or directory\n",
      "ALSA lib conf.c:5727:(snd_config_expand) Evaluate error: No such file or directory\n",
      "ALSA lib pcm.c:2675:(snd_pcm_open_noupdate) Unknown PCM default\n"
     ]
    },
    {
     "ename": "SystemExit",
     "evalue": "0",
     "output_type": "error",
     "traceback": [
      "An exception has occurred, use %tb to see the full traceback.\n",
      "\u001b[0;31mSystemExit\u001b[0m\u001b[0;31m:\u001b[0m 0\n"
     ]
    },
    {
     "name": "stderr",
     "output_type": "stream",
     "text": [
      "/home/ubuntu/miniconda3/envs/gl3d/lib/python3.11/site-packages/IPython/core/interactiveshell.py:3556: UserWarning: To exit: use 'exit', 'quit', or Ctrl-D.\n",
      "  warn(\"To exit: use 'exit', 'quit', or Ctrl-D.\", stacklevel=1)\n"
     ]
    }
   ],
   "source": [
    "from rendergl import load_triangles, polygon_map, draw_model\n",
    "from vec3d.math import add, scale\n",
    "\n",
    "a_transform_e1 = (1, 1, 1)\n",
    "a_transform_e2 = (1, 0, -1)\n",
    "a_transform_e3 = (0, 1, 1)\n",
    "\n",
    "def a_transform(v):\n",
    "    x, y, z = v\n",
    "    return add(\n",
    "        scale(x, a_transform_e1),\n",
    "        scale(y, a_transform_e2),\n",
    "        scale(z, a_transform_e3),\n",
    "    )\n",
    "\n",
    "draw_model(polygon_map(a_transform, load_triangles()))"
   ]
  },
  {
   "cell_type": "markdown",
   "metadata": {},
   "source": [
    "Which results in:\n",
    "\n",
    "![Linear combination using standard basis](pics/teapot_linear_combination_std_basis.png)"
   ]
  },
  {
   "cell_type": "markdown",
   "metadata": {},
   "source": [
    "From the computation perspective we see:\n",
    "\n",
    "+ a linear transformation in 2D is defined by 2x2 numbers in total.\n",
    "+ a linear transformation in 3D is defined by 3x3 numbers in total.\n",
    "...\n",
    "+ a linear transformation in a space with n dimensions will be defined by nxn numbers in total.\n",
    "\n",
    "We start to see how arrangements of numbers in rows and columns (matrices) might be helpful to represent and compute transformations."
   ]
  },
  {
   "cell_type": "markdown",
   "metadata": {},
   "source": [
    "### Exercises\n",
    "\n",
    "Consider $ S $ the vector transformation that squares all coordinates. Show algebraically that $ S(s \\cdot \\vec{v}) = s \\cdot S(\\vec{v}) $ does not hold for all choices of scalars $ s $ and 2D vectors $ \\vec{v} $."
   ]
  },
  {
   "cell_type": "markdown",
   "metadata": {},
   "source": [
    "We need to demostrate that:\n",
    "\n",
    "$\n",
    "S(s \\cdot \\vec{v}) \\ne s \\cdot S(\\vec{v})\n",
    "$\n",
    "\n",
    "for one choice of $ s $ and $ \\vec{v} $ to demonstrate that it doesn't hold for all.\n",
    "\n"
   ]
  },
  {
   "cell_type": "markdown",
   "metadata": {},
   "source": [
    "Thus, let's assume $ \\vec{v} = (x, y) $ and $ s = -a $, with $ a > 0 $.\n",
    "\n",
    "Then,\n",
    "\n",
    "$\n",
    "S(-a \\cdot \\vec{v}) = S(-a \\cdot (x, y)) = S((-a \\cdot x, -a \\cdot y)) \\\\\n",
    "= ((-a \\cdot x)^2, (-a \\cdot y)^2) = ((-a)^2 \\cdot x^2, (-a)^2 \\cdot y^2) \\\\\n",
    "= (a^2 \\cdot x^2, a^2 \\cdot y^2)\n",
    "$\n",
    "\n",
    "By contrast:\n",
    "$\n",
    "-a \\cdot S(\\vec{v}) = -a \\cdot S(x, y) = -a \\cdot (x^2,  y^2) = \\\\\n",
    "= (-a \\cdot x^2, -a \\cdot y^2)\n",
    "$\n",
    "\n",
    "And we can find values that dot not hold for:\n",
    "\n",
    "$\n",
    "(a^2 \\cdot x^2, a^2 \\cdot y^2) = (-a \\cdot x^2, -a \\cdot y^2)\n",
    "$\n",
    "for $ a > 0 $.\n",
    "\n",
    "For example, $ a = 1 $, $ x = 1 $, $ y = 1 $:\n",
    "\n",
    "$\n",
    "(1, 1) \\ne (-1, -1)\n",
    "$\n",
    "\n",
    "This demonstrates that $ S $ is not a linear transformation."
   ]
  },
  {
   "cell_type": "markdown",
   "metadata": {},
   "source": [
    "Similarly:\n",
    "\n",
    "$\n",
    "(s^2 \\cdot x^2, s^2 \\cdot y^2) = s \\cdot (x^2, y^2)\n",
    "$\n",
    "\n",
    "does not hold either for $ s = 2 $ and $ (x, y) = (1, 1) $.\n",
    "\n",
    "$\n",
    "(4 \\cdot 1, 4 \\cdot 1) = 2 \\cdot (1^2, 1^2)\n",
    "$\n"
   ]
  },
  {
   "cell_type": "markdown",
   "metadata": {},
   "source": [
    "### Exercise\n",
    "\n",
    "Suppose $ T $ is a vector transformation and $ T(\\vec{0}) \\ne \\vec{0} $, where $ \\vec{0} $ represents the vector with all coordinates equal to zero. Why is $ T $ not linear according to the definition?"
   ]
  },
  {
   "cell_type": "markdown",
   "metadata": {},
   "source": [
    "As for any vector $ \\vec{v} = \\vec{v} + \\vec{0} $.\n",
    "\n",
    "To preserve vector addition:\n",
    "\n",
    "$\n",
    "T(\\vec{v}) = T(\\vec{v} + \\vec{0}) = T(\\vec{v}) + T(\\vec{0}) \\\\\n",
    "\\Rightarrow T(\\vec{v}) - T(\\vec{v}) = T(\\vec{0}) \\\\\n",
    "\\Rightarrow \\vec{0} = T(\\vec{0})\n",
    "$\n",
    "\n",
    "Given that $ T(\\vec{0}) \\ne \\vec{0} $, $ T $ cannot be linear."
   ]
  },
  {
   "cell_type": "markdown",
   "metadata": {},
   "source": [
    "### Exercise\n",
    "\n",
    "The *identity* transformation is the vector transformation that returns the same vector it is passed. It is denoted as $ I $, so that $ I(\\vec{v}) = \\vec{v} $ for any vector $ \\vec{v} $.\n",
    "\n",
    "Explain why $ I $ is a linear transformation."
   ]
  },
  {
   "cell_type": "markdown",
   "metadata": {},
   "source": [
    "A linear transformation should preserve linear combinations, that is:\n",
    "\n",
    "$\n",
    "I(s_1 \\cdot \\vec{v_1} + s_2 \\cdot \\vec{v_2}) = s_1 \\cdot I(\\vec{v_1}) + s_2 \\cdot I(\\vec{v_2})\n",
    "$\n",
    "\n",
    "But, because of the definition of the *identity transformation* $ I(\\vec{v}) = \\vec{v} $.\n",
    "\n",
    "\n",
    "Thus,\n",
    "\n",
    "$\n",
    "I(s_1 \\cdot \\vec{v_1} + s_2 \\cdot \\vec{v_2}) = s_1 \\cdot \\vec{v_1} + s_2 \\cdot \\vec{v_2} = s_1 \\cdot I(\\vec{v_1}) + s_2 \\cdot I(\\vec{v_2})\n",
    "$\n",
    "\n"
   ]
  },
  {
   "cell_type": "markdown",
   "metadata": {},
   "source": [
    "### Exercise\n",
    "\n",
    "What is the midpoint between $ (5, 3) $ and $ (-2, 1) $. Plot all three of these points to see that you are correct."
   ]
  },
  {
   "cell_type": "markdown",
   "metadata": {},
   "source": [
    "We've seen that the midpoint between two vectors $ u $ and $ v $ can be computed as the following linear combination:\n",
    "\n",
    "$\n",
    "\\vec{midpoint} = \\frac{1}{2} \\cdot \\vec{u} + \\frac{1}{2} \\cdot \\vec{v}\n",
    "$"
   ]
  },
  {
   "cell_type": "markdown",
   "metadata": {},
   "source": [
    "Thus,\n",
    "\n",
    "$\n",
    "\\vec{midpoint} = \\frac{1}{2} \\cdot (5, 3) + \\frac{1}{2} \\cdot (-2, 1) \\\\\n",
    "= (\\frac{5}{2}, \\frac{3}{2}) + (\\frac{-2}{2}, \\frac{1}{2}) \\\\\n",
    "= (\\frac{5 - 2}{2}, \\frac{3 + 1}{2}) \\\\\n",
    "= (\\frac{3}{2}, 2)\n",
    "$\n",
    "\n",
    "Let's confirm this using a plot:"
   ]
  },
  {
   "cell_type": "code",
   "execution_count": 3,
   "metadata": {},
   "outputs": [
    {
     "data": {
      "image/png": "[encoded data removed]",
      "text/plain": [
       "<Figure size 600x333.333 with 1 Axes>"
      ]
     },
     "metadata": {},
     "output_type": "display_data"
    }
   ],
   "source": [
    "from vec2d.graph import draw, Points, Segment, Arrow, Colors, LineStyles\n",
    "\n",
    "u = (5, 3)\n",
    "v = (-2, 1)\n",
    "midpoint = (3 / 2, 2)\n",
    "\n",
    "draw(\n",
    "    Arrow(u, color=Colors.BLUE),\n",
    "    Arrow(v, color=Colors.ORANGE),\n",
    "    Arrow(midpoint, color=Colors.GRAY, linestyle=LineStyles.LOOSELY_DOTTED),\n",
    "    Segment(u, v, color=Colors.BLACK),\n",
    "    Points(u, v, midpoint),\n",
    ")"
   ]
  },
  {
   "cell_type": "markdown",
   "metadata": {},
   "source": [
    "### Exercise\n",
    "\n",
    "Consider the linear transformation $ S(\\vec{v}) $ that sends a vector $ v = (x, y) $ to $ (x^2, y^2) $.\n",
    "\n",
    "Plot all 36 vectors $ V $ with integer coordinates 0 to 5 as points, and then plot $ S(v) $ for each of them. What happens geometrically to the vectors under the action of $ S $?"
   ]
  },
  {
   "cell_type": "code",
   "execution_count": 9,
   "metadata": {},
   "outputs": [
    {
     "data": {
      "image/png": "[encoded data removed]",
      "text/plain": [
       "<Figure size 600x600 with 1 Axes>"
      ]
     },
     "metadata": {},
     "output_type": "display_data"
    }
   ],
   "source": [
    "from vec2d.graph import draw, Points, Colors\n",
    "\n",
    "vs = [(x, y) for x in range(0, 6) for y in range(0, 6)]\n",
    "\n",
    "def s_transform(v):\n",
    "    return tuple(coord * coord for coord in v)\n",
    "\n",
    "s_vs = [s_transform(v) for v in vs]\n",
    "\n",
    "draw(\n",
    "    Points(*vs, color=Colors.BLUE),\n",
    "    Points(*s_vs, color=Colors.RED),\n",
    "    grid=(5, 5),\n",
    ")"
   ]
  },
  {
   "cell_type": "markdown",
   "metadata": {},
   "source": [
    "While the original vectors are uniformly spaced, when applying the transformation the spacing varies between points, even on the same line."
   ]
  },
  {
   "cell_type": "markdown",
   "metadata": {},
   "source": [
    "### Exercise\n",
    "\n",
    "Property-based testing is a type of unit testing that involves inventing arbitrary input data for a program and then checking that the outputs satisfy desired conditions. There are popular Python libraries like Hypothesis that you can use to do that.\n",
    "\n",
    "Implement property-based tests that check if a vector transformation is linear.\n",
    "\n",
    "Specifically, given a vector transformation $ T $ implemented as a Python function, generate a large number of pairs of random vectors and assert for all of those that their sum is preserved by T. Then, do the same thing for pairs of scalar and a vector and ensure that $ T $ preserves scalar multiples.\n",
    "\n",
    "You should find that linear transformations like `rotate_x_by(pi / 2)` pass the test, but the $ S((x, y)) = (x^2, y^2) $ shouldn't pass."
   ]
  },
  {
   "cell_type": "markdown",
   "metadata": {},
   "source": [
    "Let's do this for rotate:"
   ]
  },
  {
   "cell_type": "code",
   "execution_count": 45,
   "metadata": {},
   "outputs": [
    {
     "name": "stdout",
     "output_type": "stream",
     "text": [
      "The transform seems to preserve vector addition\n",
      "The transform seems to preserve scalar multiples\n"
     ]
    }
   ],
   "source": [
    "from random import uniform\n",
    "from math import pi, isclose\n",
    "from vec3d.math import add, scale\n",
    "from rendergl import rotate_x_by\n",
    "\n",
    "\n",
    "def get_random_float():\n",
    "    large_num = 1e50\n",
    "    return uniform(-large_num, large_num)\n",
    "\n",
    "num_samples = 1_000\n",
    "random_us = [(get_random_float(), get_random_float(), get_random_float()) for _ in range(num_samples)]\n",
    "random_vs = [(get_random_float(), get_random_float(), get_random_float()) for _ in range(num_samples)]\n",
    "random_ss = [get_random_float() for _ in range(num_samples)]\n",
    "\n",
    "\n",
    "def is_vectors_equal(u, v):\n",
    "    if len(u) != len(v):\n",
    "        return False\n",
    "    else:\n",
    "        for coord_u, coord_v in zip(u, v):\n",
    "            return isclose(coord_u, coord_v)\n",
    "\n",
    "def is_preserving_vector_addition(transform, us, vs):\n",
    "    for u in us:\n",
    "        for v in vs:\n",
    "            if not is_vectors_equal(transform(add(u, v)), add(transform(u), transform(v))):\n",
    "                print(\"The transform does not preserve vector addition:\")\n",
    "                print(f\"\\ttransform(add(u, v)) = {transform(add(u, v))}\")\n",
    "                print(f\"\\tadd(transform(u), transform(v) = {add(transform(u), transform(v))}\")\n",
    "                return\n",
    "    print(\"The transform seems to preserve vector addition\")\n",
    "\n",
    "\n",
    "def is_preserving_scalar_multiples(transform, ss, us):\n",
    "    for s in ss:\n",
    "        for u in us:\n",
    "            if not is_vectors_equal(transform(scale(s, u)), scale(s ,transform(u))):\n",
    "                print(\"The transform does not preserve scalar multiples:\")\n",
    "                print(f\"\\ttransform(scale(s, u)) = {transform(scale(s, u))}\")\n",
    "                print(f\"\\ts * transform(u) = {scale(s ,transform(u))}\")\n",
    "                return\n",
    "    print(\"The transform seems to preserve scalar multiples\")\n",
    "\n",
    "\n",
    "is_preserving_vector_addition(rotate_x_by(pi / 2), random_us, random_vs)\n",
    "is_preserving_scalar_multiples(rotate_x_by(pi / 2), random_ss, random_us)\n",
    "\n"
   ]
  },
  {
   "cell_type": "markdown",
   "metadata": {},
   "source": [
    "And now for the $ S((x, y)) = (x^2, y^2) $"
   ]
  },
  {
   "cell_type": "code",
   "execution_count": 46,
   "metadata": {},
   "outputs": [
    {
     "name": "stdout",
     "output_type": "stream",
     "text": [
      "The transform does not preserve vector addition:\n",
      "\ttransform(add(u, v)) = (3.921319764961404e+99, 2.9287584200846876e+99, 2.7724106316124495e+100)\n",
      "\tadd(transform(u), transform(v) = (5.612214143748722e+99, 4.506781675903684e+99, 1.4193606573798971e+100)\n",
      "The transform does not preserve scalar multiples:\n",
      "\ttransform(scale(s, u)) = (2.430885833020245e+198, 1.9352518510407349e+198, 2.1963697538840298e+198)\n",
      "\ts * transform(u) = (-1.1543693503423243e+149, -9.190046655786606e+148, -1.04300329182984e+149)\n"
     ]
    }
   ],
   "source": [
    "from random import uniform\n",
    "from math import isclose\n",
    "from vec3d.math import add, scale\n",
    "\n",
    "\n",
    "\n",
    "def get_random_float():\n",
    "    large_num = 1e50\n",
    "    return uniform(-large_num, large_num)\n",
    "\n",
    "num_samples = 1_000\n",
    "random_us = [(get_random_float(), get_random_float(), get_random_float()) for _ in range(num_samples)]\n",
    "random_vs = [(get_random_float(), get_random_float(), get_random_float()) for _ in range(num_samples)]\n",
    "random_ss = [get_random_float() for _ in range(num_samples)]\n",
    "\n",
    "\n",
    "def is_vectors_equal(u, v):\n",
    "    if len(u) != len(v):\n",
    "        return False\n",
    "    else:\n",
    "        for coord_u, coord_v in zip(u, v):\n",
    "            return isclose(coord_u, coord_v)\n",
    "\n",
    "def is_preserving_vector_addition(transform, us, vs):\n",
    "    for u in us:\n",
    "        for v in vs:\n",
    "            if not is_vectors_equal(transform(add(u, v)), add(transform(u), transform(v))):\n",
    "                print(\"The transform does not preserve vector addition:\")\n",
    "                print(f\"\\ttransform(add(u, v)) = {transform(add(u, v))}\")\n",
    "                print(f\"\\tadd(transform(u), transform(v) = {add(transform(u), transform(v))}\")\n",
    "                return\n",
    "    print(\"The transform seems to preserve vector addition\")\n",
    "\n",
    "\n",
    "def is_preserving_scalar_multiples(transform, ss, us):\n",
    "    for s in ss:\n",
    "        for u in us:\n",
    "            if not is_vectors_equal(transform(scale(s, u)), scale(s ,transform(u))):\n",
    "                print(\"The transform does not preserve scalar multiples:\")\n",
    "                print(f\"\\ttransform(scale(s, u)) = {transform(scale(s, u))}\")\n",
    "                print(f\"\\ts * transform(u) = {scale(s ,transform(u))}\")\n",
    "                return\n",
    "    print(\"The transform seems to preserve scalar multiples\")\n",
    "\n",
    "\n",
    "def s_transform(v):\n",
    "    return tuple(coord * coord for coord in v)\n",
    "\n",
    "is_preserving_vector_addition(s_transform, random_us, random_vs)\n",
    "is_preserving_scalar_multiples(s_transform, random_ss, random_us)\n",
    "\n"
   ]
  },
  {
   "cell_type": "markdown",
   "metadata": {},
   "source": [
    "### Exercise\n",
    "\n",
    "One 2D vector transformation is *reflection across the x-axis*. This transformation takes a vector and returns another one, which is the *mirror image* with respect to the x-axis. Its x-coordinate then should be unchanged, and its y-coordinate should change its sign.\n",
    "\n",
    "Denoting this transformation as $ S_x $, the following picture shows $ v = (3, 2) $ and the transformed vector $ S_x(v) $.\n"
   ]
  },
  {
   "cell_type": "code",
   "execution_count": 47,
   "metadata": {},
   "outputs": [
    {
     "data": {
      "image/png": "[encoded data removed]",
      "text/plain": [
       "<Figure size 600x720 with 1 Axes>"
      ]
     },
     "metadata": {},
     "output_type": "display_data"
    }
   ],
   "source": [
    "from vec2d.graph import draw, Arrow, Colors\n",
    "\n",
    "v = (3, 2)\n",
    "\n",
    "def sx_transform(v):\n",
    "    x, y = v\n",
    "    return (x, -y)\n",
    "\n",
    "draw(\n",
    "    Arrow(v, color=Colors.PURPLE),\n",
    "    Arrow(sx_transform(v), color=Colors.GREEN),\n",
    ")"
   ]
  },
  {
   "cell_type": "markdown",
   "metadata": {},
   "source": [
    "\n",
    "Draw two vectors and their sum, as well as the reflection of these three vectors to demonstrate that this transformation preserves vector addition. Draw another diagram to show similarly that scalar multilication is preserved, thereby demonstrating both criteria for linearity."
   ]
  },
  {
   "cell_type": "markdown",
   "metadata": {},
   "source": [
    "Let's get a couple of vectors of the positive x- and y- quadrant, and start with the preservation of vector sums."
   ]
  },
  {
   "cell_type": "code",
   "execution_count": 55,
   "metadata": {},
   "outputs": [
    {
     "data": {
      "image/png": "[encoded data removed]",
      "text/plain": [
       "<Figure size 600x1028.57 with 1 Axes>"
      ]
     },
     "metadata": {},
     "output_type": "display_data"
    }
   ],
   "source": [
    "from vec3d.math import add, scale\n",
    "from vec2d.graph import draw, Arrow, Colors, LineStyles\n",
    "\n",
    "u = (4, 2)\n",
    "v = (1, 3)\n",
    "\n",
    "def reflection_across_x(v):\n",
    "    x, y = v\n",
    "    return (x, -y)\n",
    "\n",
    "draw(\n",
    "    Arrow(u, color=Colors.BLUE),\n",
    "    Arrow(v, color=Colors.PURPLE),\n",
    "    Arrow(add(u, v), u, color=Colors.PURPLE, linestyle=LineStyles.LOOSELY_DASHED),\n",
    "    Arrow(add(u, v), v, color=Colors.BLUE, linestyle=LineStyles.LOOSELY_DASHED),\n",
    "    Arrow(add(u, v), color = Colors.GREEN),\n",
    "    Arrow(reflection_across_x(u), color=Colors.BLUE),\n",
    "    Arrow(reflection_across_x(v), color=Colors.PURPLE),\n",
    "    Arrow(reflection_across_x(add(u, v)), color=Colors.GREEN),\n",
    "    Arrow(add(reflection_across_x(u), reflection_across_x(v)), color=Colors.GREEN),\n",
    ")\n",
    "\n",
    "assert reflection_across_x(add(u, v)) == add(reflection_across_x(u), reflection_across_x(v))\n"
   ]
  },
  {
   "cell_type": "markdown",
   "metadata": {},
   "source": [
    "Now we can do the same with the scalar multiples:"
   ]
  },
  {
   "cell_type": "code",
   "execution_count": 58,
   "metadata": {},
   "outputs": [
    {
     "data": {
      "image/png": "[encoded data removed]",
      "text/plain": [
       "<Figure size 600x600 with 1 Axes>"
      ]
     },
     "metadata": {},
     "output_type": "display_data"
    }
   ],
   "source": [
    "from vec3d.math import add, scale\n",
    "from vec2d.graph import draw, Arrow, Colors\n",
    "\n",
    "u = (4, 2)\n",
    "s = 3\n",
    "\n",
    "def reflection_across_x(v):\n",
    "    x, y = v\n",
    "    return (x, -y)\n",
    "\n",
    "draw(\n",
    "    Arrow(scale(s, u), color=Colors.PURPLE),\n",
    "    Arrow(u, color=Colors.BLUE),\n",
    "    Arrow(reflection_across_x(scale(s, u)), color=Colors.PURPLE),\n",
    "    Arrow(scale(s, reflection_across_x(u)), color=Colors.PURPLE),\n",
    ")\n",
    "\n",
    "assert reflection_across_x(scale(s, u)) == scale(s, reflection_across_x(u))\n"
   ]
  },
  {
   "cell_type": "markdown",
   "metadata": {},
   "source": [
    "### Exercise\n",
    "\n",
    "Suppose $ S $ and $ T $ are both linear transformations. Explain why the composition of $ S $ and $ T $ is also linear."
   ]
  },
  {
   "cell_type": "markdown",
   "metadata": {},
   "source": [
    "Because $ S $ is a linear transformation:\n",
    "\n",
    "$\n",
    "S(s_1 \\cdot \\vec{u} + s_2 \\cdot \\vec{v}) = s_1 \\cdot S(\\vec{u}) + s_2 \\cdot S(\\vec{v})\n",
    "$\n",
    "\n",
    "Similarly, because $ T $ is a linear transformation:\n",
    "\n",
    "$\n",
    "T(s_1 \\cdot \\vec{u} + s_2 \\cdot \\vec{v}) = s_1 \\cdot T(\\vec{u}) + s_2 \\cdot T(\\vec{v})\n",
    "$"
   ]
  },
  {
   "cell_type": "markdown",
   "metadata": {},
   "source": [
    "Therefore,\n",
    "\n",
    "$\n",
    "S(T(s_1 \\cdot \\vec{u} + s_2 \\cdot \\vec{v})) \\\\\n",
    "= S(s_1 \\cdot T(\\vec{u}) + s_2 \\cdot T \\vec{v}) \\\\\n",
    "= s_1 \\cdot S(T(\\vec{u})) + s_2 \\cdot S(T(\\vec{v}))\n",
    "$\n",
    "\n",
    "Thus,\n",
    "\n",
    "$\n",
    "S(T(s_1 \\cdot \\vec{u} + s_2 \\cdot \\vec{v})) = s_1 \\cdot S(T(\\vec{u})) + s_2 \\cdot S(T(\\vec{v}))\n",
    "$\n",
    "\n",
    "and therefore, if $ S $ and $ T $ are linear transformation, their composition, denoted as $ S \\circ T $ is also a linear transformation because it preserves linear combinations."
   ]
  },
  {
   "cell_type": "markdown",
   "metadata": {},
   "source": [
    "### Exercise\n",
    "\n",
    "Let $ T $ be the linear transformation done by the Python function `rotate_x_by(pi / 2)`. What are $ T(\\vec{e_1}) $, $ T(\\vec{e_2}) $, and $ T(\\vec{e_3}) $?"
   ]
  },
  {
   "cell_type": "markdown",
   "metadata": {},
   "source": [
    "The function `rotate_x_by(pi / 2)` is a rotation of 90° about the x-axis.\n",
    "\n",
    "If we bring to mind the OpenGL axis:\n",
    "\n",
    "![OpenGL axis orientation](pics/opengl-axis-orientation.png)\n",
    "\n",
    "We know that a rotation about x-axis will leave the x coordinate constant."
   ]
  },
  {
   "cell_type": "markdown",
   "metadata": {},
   "source": [
    "Thus:\n",
    "\n",
    "$\n",
    "e_1 = (1, 0, 0), T(e_1) = (1, 0, 0) = e_1 \\\\\n",
    "e_2 = (0, 1, 0), T(e_2) = (0, 0, 1) = e_3 \\\\\n",
    "e_3 = (0, 0, 1), T(e_3) = (0, -1, 0) = -e_2\n",
    "$\n",
    "\n",
    "Let's confirm that with Python"
   ]
  },
  {
   "cell_type": "code",
   "execution_count": 19,
   "metadata": {},
   "outputs": [],
   "source": [
    "from math import pi, isclose\n",
    "from rendergl import rotate_x_by\n",
    "from vec3d.math import scale\n",
    "\n",
    "\n",
    "e_1 = (1, 0, 0)\n",
    "e_2 = (0, 1, 0)\n",
    "e_3 = (0, 0, 1)\n",
    "\n",
    "def is_vectors_close(u, v):\n",
    "    return all([isclose(coord_u, coord_v, abs_tol=1e-15) for coord_u, coord_v in zip(u, v)])\n",
    "\n",
    "assert is_vectors_close(rotate_x_by(pi / 2)(e_1), e_1)\n",
    "assert is_vectors_close(rotate_x_by(pi / 2)(e_2), e_3)\n",
    "assert is_vectors_close(rotate_x_by(pi /2 )(e_3), scale(-1, e_2))"
   ]
  },
  {
   "cell_type": "markdown",
   "metadata": {},
   "source": [
    "| NOTE: |\n",
    "| :---- |\n",
    "| We have to define the `is_vectors_close` function because we're dealing with floating-point coordinates. |"
   ]
  },
  {
   "cell_type": "markdown",
   "metadata": {},
   "source": [
    "### Exercise\n",
    "\n",
    "Write a `linear_combination(scalars, *vectors)` that takes a list of scalars and the same number of vectors and returns a single vector.\n",
    "\n",
    "For example, `linear_combination([1, 2, 3], (1, 0, 0), (0, 1, 0), (0, 0, 1)) = (1, 2, 3)`."
   ]
  },
  {
   "cell_type": "code",
   "execution_count": 24,
   "metadata": {},
   "outputs": [],
   "source": [
    "from vec3d.math import scale, add\n",
    "\n",
    "def linear_combination(scalars, *vectors):\n",
    "    return add(*[scale(s, v) for s, v in zip(scalars, vectors)])\n",
    "\n",
    "assert linear_combination([1, 2, 3], (1, 0, 0), (0, 1, 0), (0, 0, 1)) == (1, 2, 3)"
   ]
  },
  {
   "cell_type": "markdown",
   "metadata": {},
   "source": [
    "### Exercise\n",
    "\n",
    "Write a function `transform_standard_basis(transform)` that takes a 3D vector transformation as an input and outputs the effect it has on the vectors of the standard basis.\n",
    "\n",
    "It should output a tuple of 3 vectors that are the results of transform acting on $ e_1 $, $ e_2 $, and $ e_3 $, respectively."
   ]
  },
  {
   "cell_type": "code",
   "execution_count": 28,
   "metadata": {},
   "outputs": [],
   "source": [
    "from math import pi\n",
    "from rendergl import rotate_x_by\n",
    "\n",
    "\n",
    "def transform_standard_basis(transform):\n",
    "    return transform((1, 0, 0)), transform((0, 1, 0)), transform((0, 0, 1))\n",
    "\n",
    "rotate_90_deg_about_x = rotate_x_by(pi / 2)\n",
    "\n",
    "transform_standard_basis(rotate_90_deg_about_x)\n",
    "\n",
    "def is_vectors_close(u, v):\n",
    "    return all([isclose(coord_u, coord_v, abs_tol=1e-15) for coord_u, coord_v in zip(u, v)])\n",
    "\n",
    "assert is_vectors_close(rotate_90_deg_about_x((1, 0, 0)), (1, 0, 0))\n",
    "assert is_vectors_close(rotate_90_deg_about_x((0, 1, 0)), (0, 0, 1))\n",
    "assert is_vectors_close(rotate_90_deg_about_x((0, 0, 1)), (0, -1, 0))\n"
   ]
  },
  {
   "cell_type": "markdown",
   "metadata": {},
   "source": [
    "| NOTE: |\n",
    "| :---- |\n",
    "| We have to define the `is_vectors_close` function because we're dealing with floating-point coordinates. |"
   ]
  },
  {
   "cell_type": "markdown",
   "metadata": {},
   "source": [
    "### Exercise\n",
    "\n",
    "Suppose $ B $ is a linear transformation, with $ B(\\vec{e_1}) = (0, 0, 1) $, $ B(\\vec{e_2}) = (2, 1, 0) $, $ B(\\vec{e_3}) = (-1, 0, -1) $, and $ \\vec{v} = (-1, 1, 2) $.\n",
    "\n",
    "What is $ B(\\vec{v}) $."
   ]
  },
  {
   "cell_type": "markdown",
   "metadata": {},
   "source": [
    "Because linear transformation preserves linear combinations, and any vector in the 3D space can be written as a linear combination of the vectors of the standard basis $ \\vec{e_1} $, $ \\vec{e_2} $, and $ \\vec{e_3} $, we can do:\n",
    "\n",
    "$\n",
    "B(\\vec{u}) = B(x \\cdot \\vec{e_1} + y \\cdot \\vec{e_2} + z \\cdot \\vec{e_3}) = x \\cdot B(\\vec{e_1}) + y \\cdot B(\\vec{e_2}) + z \\cdot B(\\vec{e_3}) \n",
    "$\n",
    "\n",
    "Thus,\n",
    "\n",
    "$\n",
    "B(\\vec{v}) = B((-1, 1, 2)) = -1 \\cdot B(\\vec{e_1}) + 1 \\cdot B(\\vec{e_2}) + 2 \\cdot B(\\vec{e_3}) \\\\\n",
    "= -1 \\cdot (0, 0, 1) + (2, 1, 0) + 2 \\cdot (-1, 0, -1) = (0, 1, -3)\n",
    "$\n"
   ]
  },
  {
   "cell_type": "markdown",
   "metadata": {},
   "source": [
    "### Exercise\n",
    "\n",
    "Suppose $ A $ and $ B $ are both linear transformations with $ A(\\vec{e_1}) = (1, 1, 1) $, $ A(\\vec{e_2}) = (1, 0, -1) $, and $ A(\\vec{e_3}) = (0, 1, 1) $, and $ B(\\vec{e_1}) = (0, 0, 1) $, $ B(\\vec{e_2}) = (2, 1, 0) $, and $ B(\\vec{e_3}) = (-1, 0, -1) $.\n",
    "\n",
    "What is $ A(B(\\vec{e_1})) $, $ A(B(\\vec{e_2})) $, and $ A(B(\\vec{e_3})) $?"
   ]
  },
  {
   "cell_type": "markdown",
   "metadata": {},
   "source": [
    "Let's do it algebraically:\n",
    "\n",
    "$\n",
    "A(B(\\vec{e_1})) = A((0, 0, 1)) = A(\\vec{e_3}) = (0, 1, 1) \n",
    "$\n",
    "\n",
    "For the second question:\n",
    "\n",
    "$\n",
    "A(B(\\vec{e_2})) = A((2, 1, 0)) \\\\\n",
    "= 2 \\cdot A(\\vec{e_1}) + A(\\vec{e_2}) \\\\\n",
    "= 2 \\cdot (1, 1, 1) + (1, 0, -1) \\\\\n",
    "=(3, 2, 1)\n",
    "$\n",
    "\n",
    "Finally:\n",
    "\n",
    "$\n",
    "A(B(\\vec{e_3})) = A((-1, 0, -1)) \\\\\n",
    "= -A(e_1) -A(e_3) \\\\\n",
    "= (-1, -1, -1) + (0, -1, -1) = (-1, -2, -2)\n",
    "$"
   ]
  }
 ],
 "metadata": {
  "kernelspec": {
   "display_name": "gl3d",
   "language": "python",
   "name": "python3"
  },
  "language_info": {
   "codemirror_mode": {
    "name": "ipython",
    "version": 3
   },
   "file_extension": ".py",
   "mimetype": "text/x-python",
   "name": "python",
   "nbconvert_exporter": "python",
   "pygments_lexer": "ipython3",
   "version": "3.11.5"
  }
 },
 "nbformat": 4,
 "nbformat_minor": 2
}
