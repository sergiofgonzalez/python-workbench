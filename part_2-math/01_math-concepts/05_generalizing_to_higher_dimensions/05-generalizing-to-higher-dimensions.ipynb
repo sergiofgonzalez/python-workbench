{
 "cells": [
  {
   "cell_type": "markdown",
   "metadata": {},
   "source": [
    "# Generalizing to Higher Dimensions\n",
    "\n",
    "## Intro\n",
    "\n",
    "Linear algebra generalizes everything we know about 2D and 3D geometry to study data in any number of dimensions. This means that the machinery we've see on vectors, linear transformations, and matrices can still be useful.\n",
    "\n",
    "In this chapter we'll define **vector spaces**. Vector spaces are collections of objects we can treat like vectors. These can be arrows in the plane, tuples of numbers, or objects completely different from the ones we've used so far. For example, you can treat images as vectors and take a linear combination of them.\n",
    "\n",
    "The key operations in a vector space are vector addition and scalar multiplication. With these you can make linear combinations (negation, subtraction, weighted averages, ...) and you can reason about which transformations are linear.\n",
    "\n",
    "We'll also deep dive on the meaning of the word dimension, and we'll see that images are 270,000 dimensional objects."
   ]
  },
  {
   "cell_type": "markdown",
   "metadata": {},
   "source": [
    "## Generalizing our definition of vectors\n",
    "\n",
    "Python is an object-oriented language, and we can use that for generalization. Through inheritance, you can create new classes of object that inherit properties and behaviors from an existing parent class.\n",
    "\n",
    "| NOTE: |\n",
    "| :---- |\n",
    "| We already used inheritance in our `vec2d.graph` and `vec3d.graph` libraries to reduce the amount of code for drawing the different elements, and also to make the code more succinct. |"
   ]
  },
  {
   "cell_type": "markdown",
   "metadata": {},
   "source": [
    "### Creating a class for 2D coordinate vectors\n",
    "\n",
    "Here we include the implementation notes for the code in [12: Vec class library](../../02_mini-projects/12-vec-class-lib/README.md).\n",
    "\n",
    "\n",
    "We create a class `Vec2` in which we define the vector operations as class methods.\n",
    "\n",
    "We foster an immutable approach. For example, `v.add(w)` returns a new vector rather than modifying the one in which add is invoked.\n",
    "\n",
    "By default, Python compares instances by their references rather than their values. In order to make comparisons more sensible, we override the `==` operator so that we can compare vectors by value. Ultimately, this means overriding the `__eq__` method.\n",
    "\n",
    "As Python supports operator overloading, it is only natural to make use of it for vectors. Thus, we will be able to do `v + w`, `w * s` and `s * w` instead of the equivalent `v.add(w)` and `v.scale(s)`. In order to do so, you just need to override the methods: `__add__`, `__mul__` (when the class in on the left of the expression `w * s`), and `__rmul__` (when the class in on the right of the expression `s * w`).\n",
    "\n",
    "Also, we implement a user-friendly description for class instances:\n",
    "+ `__repr__` is intended for debugging and development.\n",
    "+ `__str__` is intended for showing a descriptive information intended for users of the code."
   ]
  },
  {
   "cell_type": "markdown",
   "metadata": {},
   "source": [
    "### Repeating the process with 3D vectors\n",
    "\n",
    "We can right away repeat the approach for 3D vectors.\n",
    "\n",
    "With 2D and 3D implemented we can start thinking about generalizations. While there are many ways to do so, we want to generalize *how we use the vectors* rather than focusing on code reuse, or simplifying certain arithmetic operations.\n",
    "\n",
    "For example, after the generalization we want to be able to write:\n",
    "\n",
    "```python\n",
    "def average(v1, v2):\n",
    "  return 0.5 * v1 + 0.5 * v2\n",
    "```\n",
    "\n",
    "And we don't want the user of our library to specify whether `v1` and `v2` are 2D or 3D vectors. In fact, we want to use it with images!"
   ]
  },
  {
   "cell_type": "markdown",
   "metadata": {},
   "source": [
    "### Building a Vector base class\n",
    "\n",
    "To create the vector base class use:\n",
    "\n",
    "```python\n",
    "from abc import ABC\n",
    "class Vector(ABC):\n",
    "```\n",
    "\n",
    "Decorate abstract methods in the base class with:\n",
    "\n",
    "```python\n",
    "from abc import ABC, abstractmethod\n",
    "\n",
    "@abstractmethod\n",
    "def scale(self, scalar):\n",
    "  pass\n",
    "```\n",
    "\n",
    "An abstract class with abstract methods cannot be instantiated &mdash; you'll get a `TypeError` if you try to.\n",
    "\n",
    "With the abstract methods defined, you can define a few other methods that depend on the abstract ones, like `__add__`, `__mul__`, and `__rmul__`.\n",
    "\n",
    "Then you can simplify the implementation of `Vec2` and `Vec3` class to benefit from the base class, and remove the implementation of `__add__`, `__mul__`, and `__rmul__` which will be inherited from the base class.\n",
    "\n",
    "Now we can start adding methods that we think will be useful, such as `subtract` and `__sub__`.\n"
   ]
  },
  {
   "cell_type": "markdown",
   "metadata": {},
   "source": [
    "### Defining Vector Spaces\n",
    "\n",
    "In Math, a vector is defined by what it does, rather than what it is.\n",
    "\n",
    "For example, a vector must be object equipped with a *suitable* way to add it to other vectors and multiply it by scalars.\n",
    "\n",
    "By *suitable* we mean a few rules these operations must comply with.\n",
    "\n",
    "Specifically:\n",
    "\n",
    "1. Adding vectors in any order shouldn't matter: $ \\vec{v} + \\vec{w} = \\vec{w} + \\vec{v} $ for any vectors $ \\vec{v} $ and $ \\vec{w} $.\n",
    "\n",
    "2. Adding vectors in any grouping shouldn't matter: $ \\vec{u} + (\\vec{v} + \\vec{w}) = (\\vec{u} + \\vec{v}) + \\vec{w} $. As a corolary, $ 3 \\vec{v} = \\vec{v} + \\vec{v} + \\vec{v} $.\n",
    "\n",
    "3. If $ a $ and $ b $ are scalars and $ \\vec{v} $ is a vector, then $ a \\cdot (b \\cdot \\vec{v}) $ should be the same as $ (a \\cdot b) \\cdot \\vec{v} $.\n",
    "\n",
    "4. Multiplying a vector by 1 should leave it unchanged: $ 1 \\cdot \\vec{v} = \\vec{v} $.\n",
    "\n",
    "5. Addition of scalars should be compatible with scalar multiplication: $ a \\cdot \\vec{v} + b \\cdot \\vec{v} = (a + b) \\cdot \\vec{v} $.\n",
    "\n",
    "6. Addition of vectors should be compatible with scalar multiplication: $ a \\cdot (\\vec{v} + \\vec{w}) $ should be the same as $ a \\cdot \\vec{v} + a \\cdot \\vec{w} $."
   ]
  },
  {
   "cell_type": "markdown",
   "metadata": {},
   "source": [
    "A vector space is a collection of objects called vectors, equipped with suitable vector addition and scalar multiplication operations obeying the six rules stated above, such that every linear combination of vectors in the collection produces a vector that is also in the collection."
   ]
  },
  {
   "cell_type": "markdown",
   "metadata": {},
   "source": [
    "For example the collection: `[Vec2(1, 0), Vec2(5, -3), Vec2(1.1, 0.8)]` is a group of vectors that can be added and multiplied, but they do not form a vector space because:\n",
    "\n",
    "```python\n",
    "1 * Vec2(1, 0) + 1 * Vec2(5, -3) = Vec2(6, -3)\n",
    "```\n",
    "\n",
    "And `Vec(6, -3)` is not part f the collection.\n",
    "\n",
    "By contrast, the collection of all possible 2D vectors is a vector space."
   ]
  },
  {
   "cell_type": "markdown",
   "metadata": {},
   "source": [
    "There are two implications of the fact that vector spaces need to contain all their scalar multiples, and these implications are important enough to mention.\n",
    "\n",
    "1. No matter what vector $ \\vec{v} $ you pick in a vector space, $ 0 \\cdot \\vec{v} $ yields the *zero vector* denoted as $ \\vec{0} $. Adding the zero vector to any vector leaves the vector unchanged: $ \\vec{0} + \\vec{v} = \\vec{v} + \\vec{0} = \\vec{v} $.\n",
    "\n",
    "2. Every vector has an opposite vector $ -1 \\cdot \\vec{v} $. This is because of rule #5, $ \\vec{v} + \\vec{-v} = (1 - 1) \\cdot \\vec{v} = 0 \\cdot \\vec{v} = \\vec{0} $."
   ]
  },
  {
   "cell_type": "markdown",
   "metadata": {},
   "source": [
    "### Unit testing vector space classes\n",
    "\n",
    "In Math, the usual way to guarantee *suitability* is by writing a proof. In Python, we do so by writing unit tests.\n",
    "\n",
    "In Python, we also typically rely on brute force provided by CPU rathern than finding an *algebraic proof* as we do in Math. For example, we can rely on getting random scalars and vectors to check certain rules:"
   ]
  },
  {
   "cell_type": "code",
   "execution_count": 2,
   "metadata": {},
   "outputs": [
    {
     "ename": "AssertionError",
     "evalue": "",
     "output_type": "error",
     "traceback": [
      "\u001b[0;31m---------------------------------------------------------------------------\u001b[0m",
      "\u001b[0;31mAssertionError\u001b[0m                            Traceback (most recent call last)",
      "Cell \u001b[0;32mIn[2], line 13\u001b[0m\n\u001b[1;32m     10\u001b[0m a \u001b[38;5;241m=\u001b[39m random_scalar()\n\u001b[1;32m     11\u001b[0m u, v \u001b[38;5;241m=\u001b[39m random_vec2(), random_vec2()\n\u001b[0;32m---> 13\u001b[0m \u001b[38;5;28;01massert\u001b[39;00m a \u001b[38;5;241m*\u001b[39m (u \u001b[38;5;241m+\u001b[39m v) \u001b[38;5;241m==\u001b[39m a \u001b[38;5;241m*\u001b[39m u \u001b[38;5;241m+\u001b[39m a \u001b[38;5;241m*\u001b[39m v\n",
      "\u001b[0;31mAssertionError\u001b[0m: "
     ]
    }
   ],
   "source": [
    "from random import uniform\n",
    "from vec2 import Vec2\n",
    "\n",
    "def random_scalar():\n",
    "    return uniform(-10, 10)\n",
    "\n",
    "def random_vec2():\n",
    "    return Vec2(random_scalar(), random_scalar())\n",
    "\n",
    "a = random_scalar()\n",
    "u, v = random_vec2(), random_vec2()\n",
    "\n",
    "assert a * (u + v) == a * u + a * v"
   ]
  },
  {
   "cell_type": "markdown",
   "metadata": {},
   "source": [
    "While intuition tells us that the previous snippet should work ok it will most surely fails.\n",
    "\n",
    "This happens because vector coordinates will be represented as floats, and they will differ by a small amount.\n",
    "\n",
    "We can get rid of the error using `math.isclose`"
   ]
  },
  {
   "cell_type": "code",
   "execution_count": 3,
   "metadata": {},
   "outputs": [],
   "source": [
    "from random import uniform\n",
    "from math import isclose\n",
    "from vec2 import Vec2\n",
    "\n",
    "def random_scalar():\n",
    "    return uniform(-10, 10)\n",
    "\n",
    "def random_vec2():\n",
    "    return Vec2(random_scalar(), random_scalar())\n",
    "\n",
    "def approx_equal_vec2(u, v):\n",
    "    return isclose(u.x, v.x) and isclose(u.y, v.y)\n",
    "\n",
    "a = random_scalar()\n",
    "u, v = random_vec2(), random_vec2()\n",
    "\n",
    "assert approx_equal_vec2(a * (u + v), a * u + a * v)"
   ]
  },
  {
   "cell_type": "markdown",
   "metadata": {},
   "source": [
    "Again, testing this by a single sample doesn't look like a strong enough proof. But we can use the power of the CPU to test by a large number of samples and for all the six rules:"
   ]
  },
  {
   "cell_type": "code",
   "execution_count": 19,
   "metadata": {},
   "outputs": [
    {
     "name": "stdout",
     "output_type": "stream",
     "text": [
      "Test took 0.001 sec\n"
     ]
    }
   ],
   "source": [
    "from random import uniform\n",
    "from math import isclose\n",
    "from vec2 import Vec2\n",
    "import time\n",
    "\n",
    "def random_scalar():\n",
    "    return uniform(-10, 10)\n",
    "\n",
    "def random_vec2():\n",
    "    return Vec2(random_scalar(), random_scalar())\n",
    "\n",
    "def approx_equal_vec2(u, v):\n",
    "    return isclose(u.x, v.x) and isclose(u.y, v.y)\n",
    "\n",
    "def test_space_vector_rules(eq, a, b, u, v, w):\n",
    "    assert eq(u + v, v + u)\n",
    "    assert eq(u + (v + w), (u + v) + w)\n",
    "    assert eq(a * (b * v), (a * b) * v)\n",
    "    assert eq(1 * v, v)\n",
    "    assert eq((a + b) * v, a * v + b * v)\n",
    "    assert eq(a * v + a * w, a * (v + w))\n",
    "\n",
    "start_t = time.time()\n",
    "\n",
    "for _ in range(0, 100):\n",
    "    a, b = random_scalar(), random_scalar()\n",
    "    u, v, w = random_vec2(), random_vec2(), random_vec2()\n",
    "    test_space_vector_rules(approx_equal_vec2, a, b, u, v, w)\n",
    "print(f\"Test took {(time.time() - start_t):.3f} sec\")"
   ]
  },
  {
   "cell_type": "markdown",
   "metadata": {},
   "source": [
    "It took less that 1 thousand of a second to test 100 samples. We could typically allow then to run more than 1000 samples and it will still be a very quick test. "
   ]
  },
  {
   "cell_type": "markdown",
   "metadata": {},
   "source": [
    "Testing with these sort of assertions are OK for Jupyter notebooks, but in programs you almost always rely on a unit test framework like [unittest](https://docs.python.org/3/library/unittest.html) (the Unit Test framework that comes with Python stdlib) or PyTest.\n",
    "\n",
    "You can review the test classes from [12: Vec class library](../../02_mini-projects/12-vec-class-lib/README.md) for examples using [unittest](https://docs.python.org/3/library/unittest.html)."
   ]
  },
  {
   "cell_type": "markdown",
   "metadata": {},
   "source": [
    "### Exercise\n",
    "\n",
    "Implement a `CoordinateVector` class inheriting from `Vector` with an abstract property representing the dimension. This should save repetitious work when implementing specific coordinate vector classes. Inheriting from `CoordinateVector` and setting the dimension to `6` should be all you need to implement a `Vec6` class."
   ]
  },
  {
   "cell_type": "markdown",
   "metadata": {},
   "source": [
    "The implementation can be found in [CoordinateVector](../../02_mini-projects/12-vec-class-lib/coordvec/coordveclib.py).\n",
    "\n",
    "The relevant details of the implementation follows.\n",
    "\n",
    "The implementation relies on the tuple representation of vectors that we used in `vec3d.math`.\n",
    "\n",
    "One possible way to represent the dimension is:\n",
    "\n",
    "```python\n",
    "from abc import abstractmethod\n",
    "\n",
    "class CoordinateVector(Vector):\n",
    "    @classmethod\n",
    "    @abstractmethod\n",
    "    def dimension(cls):\n",
    "        pass\n",
    "```\n",
    "\n",
    "While the book suggests this could be implemented as an instance property, but as all the vectors of a given concrete class will have the same dimension, it feels more reasonable to use a class method.\n",
    "\n",
    "When implementing the `scale` and `add` methods, you need to solve the following challenge:\n",
    "> You need return an instance of the corresponding class, but you cannot return `CoordinateVector` because it is an abstract class.\n",
    "\n",
    "In Python, you can do that using:\n",
    "\n",
    "```python\n",
    "return self.__class__(<coords>)\n",
    "```\n",
    "\n",
    "That will effectively instantiate the concrete subclass.\n",
    "\n",
    "Another challenge is the implementation of the `__repr__` method, because ideally we should be following the `Vec2(x, y)` approach.\n",
    "\n",
    "That is possible using `self.__class__.__qualname__`:\n",
    "\n",
    "```python\n",
    "def __repr__(self):\n",
    "    return f\"{self.__class__.__qualname__}{self.coordinates}\"\n",
    "```"
   ]
  },
  {
   "cell_type": "markdown",
   "metadata": {},
   "source": [
    "With the implementation in place you'll be able to do:"
   ]
  },
  {
   "cell_type": "code",
   "execution_count": 2,
   "metadata": {},
   "outputs": [
    {
     "name": "stdout",
     "output_type": "stream",
     "text": [
      "(12, 14, 16, 18, 20, 22)\n",
      "(10, 20, 30, 40, 50, 60)\n"
     ]
    }
   ],
   "source": [
    "from coordvec import CoordinateVector\n",
    "\n",
    "class Vec6(CoordinateVector):\n",
    "    @classmethod\n",
    "    def dimension(cls):\n",
    "        return 6\n",
    "\n",
    "u = Vec6(1, 2, 3, 4, 5, 6)\n",
    "v = Vec6(11, 12, 13, 14, 15, 16)\n",
    "\n",
    "print(u + v)\n",
    "print(10 * u)"
   ]
  },
  {
   "cell_type": "markdown",
   "metadata": {},
   "source": [
    "### Exercise\n",
    "\n",
    "Add a `zero` abstract method to the `Vector` class to return the zero vector in a given vector space, as well as an implementation for the negation operator.\n",
    "\n",
    "These are useful because we're required to have a zero vector and negations of any vector in a vector space."
   ]
  },
  {
   "cell_type": "markdown",
   "metadata": {},
   "source": [
    "The solution is implemented in [12: Vector class library](../../02_mini-projects/12-vec-class-lib/).\n",
    "\n",
    "These are the details.\n",
    "\n",
    "In the `Vector` class we define the `zero` abstract class method and we implement the `__neg__` operator banking on the capabilities already defined:\n",
    "\n",
    "```python\n",
    "class Vector(ABC):\n",
    "    \"\"\"Abstract class for vectors\"\"\"\n",
    "\n",
    "    @classmethod\n",
    "    @abstractmethod\n",
    "    def zero(cls):\n",
    "        ...\n",
    "\n",
    "...\n",
    "    def __neg__(self):\n",
    "        return self.scale(-1)\n",
    "```\n",
    "\n",
    "While the exercise suggests we should be defining `zero` as a property, the latest documentation states that it is no longer possible to do so:\n",
    "> Changed in version 3.11: Class methods can no longer wrap other descriptors such as property()\n",
    "\n",
    "See https://docs.python.org/3.11/library/functions.html#classmethod\n",
    "\n",
    "Note that the only minor change is that `zero` will have to be invoked with parentheses, as it is method and not a property.\n",
    "\n",
    "Then, we can provide the implementation of `zero` in our examples `vec2`, `vec3`, and `CoordinateVector`.\n",
    "In particular, the implementation for `CoordinateVector` can be concrete:\n",
    "\n",
    "```python\n",
    "class CoordinateVector(Vector):\n",
    "\n",
    "    @classmethod\n",
    "    def zero(cls):\n",
    "        return cls(*tuple(0 for _ in range(cls.dimension())))\n",
    "```"
   ]
  },
  {
   "cell_type": "markdown",
   "metadata": {},
   "source": [
    "### Exercise\n",
    "\n",
    "Write unit tests to show that the addition and scalar multiplication operations defined for `Vec3` satisfy the vector space properties."
   ]
  },
  {
   "cell_type": "markdown",
   "metadata": {},
   "source": [
    "You can find the unit tests, with a little bit of refactoring, on [12: Vector class library](../../02_mini-projects/12-vec-class-lib/).\n",
    "\n",
    "In the example, you can see how a helper class `TestUtils` was created to collect some common codes."
   ]
  },
  {
   "cell_type": "markdown",
   "metadata": {},
   "source": [
    "### Exercise\n",
    "\n",
    "Add unit tests to check that $ \\vec{0} + \\vec{v} = \\vec{v} $, $ 0 \\cdot \\vec{v} = \\vec{0} $, and $ -\\vec{v} + \\vec{v} = \\vec{0} $."
   ]
  },
  {
   "cell_type": "markdown",
   "metadata": {},
   "source": [
    "With the refactoring introduced in the previous exercise, we just need update the `check_vector_space_rules` method to add the new rules:\n",
    "\n",
    "```python\n",
    "class TestUtils(unittest.TestCase):\n",
    "    \"\"\"Utility methods\"\"\"\n",
    "...\n",
    "\n",
    "    def check_vector_space_rules(self, eq_fn, a, b, u, v, w):\n",
    "        # Required for vector spaces\n",
    "        self.assertTrue(eq_fn(u + v, v + u))\n",
    "        self.assertTrue(eq_fn(u + (v + w), (u + v) + w))\n",
    "...\n",
    "        # Corollaries\n",
    "        zero_v = u.__class__.zero()\n",
    "        self.assertTrue(eq_fn(zero_v + u, u))\n",
    "        self.assertTrue(eq_fn(0 * u, zero_v))\n",
    "        self.assertTrue(eq_fn(-v + v, zero_v))\n",
    "```\n",
    "\n",
    "The only interesting point is that because `zero()` is a class method you cannot use polymorphism right away.\n",
    "\n",
    "However, you can use the trick:\n",
    "\n",
    "```python\n",
    "zero_v = u.__class__.zero()\n",
    "```\n",
    "\n",
    "to obtain a representation of the zero vector for the corresponding class of `u`."
   ]
  },
  {
   "cell_type": "markdown",
   "metadata": {},
   "source": [
    "### Exercise\n",
    "\n",
    "The implementation of the equality function is too forgiving, making `Vec2(1, 2) == Vec3(1, 2, 3)` returns `True`. Fix this by adding a check so that classes match before testing for vector equality. Fix also the approx. equal check used in the tests."
   ]
  },
  {
   "cell_type": "markdown",
   "metadata": {},
   "source": [
    "Additional guards need to be added to the different classes to check that vector classes added or compared are compatible.\n",
    "\n",
    "For `Vec2` and `Vec3` is easy:\n",
    "\n",
    "```python\n",
    "    def add(self, other):\n",
    "        if not isinstance(other, Vec2):\n",
    "            raise TypeError(\"Incompatible vectors\")\n",
    "        return Vec2(self.x + other.x, self.y + other.y)\n",
    "\n",
    "    def __eq__(self, other):\n",
    "        return (\n",
    "            self.__class__ == other.__class__\n",
    "            and self.x == other.x\n",
    "            and self.y == other.y\n",
    "        )\n",
    "```\n",
    "\n",
    "For `CoordinateVector` is a bit more complex, as the comparison `self.class == other.__class__` was failing in the tests for compatible classes.\n",
    "\n",
    "Therefore, the following guards were added:\n",
    "\n",
    "```python\n",
    "def add(self, other):\n",
    "    if not isinstance(other, CoordinateVector) or len(\n",
    "        self.coordinates\n",
    "    ) != len(other.coordinates):\n",
    "        raise TypeError(\"Incompatible vectors\")\n",
    "    return self.__class__(*add(self.coordinates, other.coordinates))\n",
    "\n",
    "def __eq__(self, other):\n",
    "    if not isinstance(other, CoordinateVector) or len(\n",
    "        self.coordinates\n",
    "    ) != len(other.coordinates):\n",
    "        return False\n",
    "    return all(\n",
    "        [\n",
    "            coord_u == coord_v\n",
    "            for coord_u, coord_v in zip(self.coordinates, other.coordinates)\n",
    "        ]\n",
    "    )\n",
    "```"
   ]
  },
  {
   "cell_type": "markdown",
   "metadata": {},
   "source": [
    "### Exercise\n",
    "\n",
    "Implement a `__truediv__` function on `Vector` that allows you to divide vectors by scalars. You can divide vectors by a non-zero scalar by multiplying them by the reciprocal of the scalar `(1.0 / scalar)`."
   ]
  },
  {
   "cell_type": "markdown",
   "metadata": {},
   "source": [
    "## Exploring different vector spaces\n",
    "\n",
    "In this section, we take a new kind of object and implement it as a class that inherits from `Vector`. As a result, we'll be able to do addition, scalar multiplication, etc. no matter what type of object it is."
   ]
  },
  {
   "cell_type": "markdown",
   "metadata": {},
   "source": [
    "### Enumerating all coordinate vector spaces\n",
    "\n",
    "We've already worked with `Vec2` and `Vec3` which are easy to picture as points on the 2D plane and points in the 3D space.\n",
    "\n",
    "We can also think about `Vec1`: vectors with a single coordinate. The implementation can be found in [`Vec1`](../../02_mini-projects/12-vec-class-lib/vec1/vec1lib.py)."
   ]
  },
  {
   "cell_type": "code",
   "execution_count": 3,
   "metadata": {},
   "outputs": [
    {
     "name": "stdout",
     "output_type": "stream",
     "text": [
      "Vec1(3)\n",
      "Vec1(15)\n"
     ]
    }
   ],
   "source": [
    "from vec1 import Vec1\n",
    "\n",
    "print(repr(Vec1(1) + Vec1(2)))\n",
    "print(repr(3 * Vec1(5)))"
   ]
  },
  {
   "cell_type": "markdown",
   "metadata": {},
   "source": [
    "As we can see, it is just a wrapper over a single number, and it doesn't give any arithmetic knowledge we didn't already have.\n",
    "\n",
    "What is worth mentioning is that numbers on their own are vectors: integers, fractions, and irrational numbers (denoted as $ \\mathbb{R} $) are a vector space in its own right."
   ]
  },
  {
   "cell_type": "markdown",
   "metadata": {},
   "source": [
    "Coordinate vector spaces are denoted as $ \\mathbb{R}^n $, where $ n $ is the dimension or number of coordinates. For example, the 2D plane is denoted as $ \\mathbb{R}^2 $ and $ \\mathbb{R}^3 $.\n",
    "\n",
    "As long as you use real numbers as your scalars, any vector space you stumble across will be some $ \\mathbb{R}^n $ in disguise."
   ]
  },
  {
   "cell_type": "markdown",
   "metadata": {},
   "source": [
    "The other vector space worth mentioning is $ \\mathbb{R}^0 $. This is the set of vectors with zero coordinates. It is also a vector space (see [`Vec0`](../../02_mini-projects/12-vec-class-lib/vec0/vec0lib.py)."
   ]
  },
  {
   "cell_type": "markdown",
   "metadata": {},
   "source": [
    "No coordinates don't mean there are no possible vectors; it means there is exactly one zero-dimensional vector."
   ]
  },
  {
   "cell_type": "code",
   "execution_count": 5,
   "metadata": {},
   "outputs": [
    {
     "name": "stdout",
     "output_type": "stream",
     "text": [
      "()\n",
      "()\n"
     ]
    }
   ],
   "source": [
    "from vec0 import Vec0\n",
    "\n",
    "print(-3.1 * Vec0())\n",
    "print(Vec0() + Vec0())"
   ]
  },
  {
   "cell_type": "markdown",
   "metadata": {},
   "source": [
    "There is also a vector space $ \\mathbb{R}^{\\infty} $, but there are many other infinitely dimensional vector space."
   ]
  },
  {
   "cell_type": "markdown",
   "metadata": {},
   "source": [
    "### Identifying vector spaces in the wild\n",
    "\n",
    "Consider a dataset containing details about used cars that looks like:\n",
    "\n",
    "```json\n",
    "[\n",
    "  [\n",
    "    \"Post status\",\n",
    "    \"Year\",\n",
    "    \"Model\",\n",
    "    \"Miles\",\n",
    "    \"Price\",\n",
    "    \"Source\",\n",
    "    \"Time Posted\",\n",
    "    \"Location\",\n",
    "    \"Title & Link\"\n",
    "  ],\n",
    "  [\n",
    "    \"For Sale\",\n",
    "    \"2005\",\n",
    "    \"Prius\",\n",
    "    \"114000\",\n",
    "    \"3500\",\n",
    "    \"craigslist\",\n",
    "    \"11/30 - 06:44\",\n",
    "    \"San Francisco, CA\",\n",
    "    \"toyota prius \"\n",
    "  ],\n",
    "  [\n",
    "    \"For Sale\",\n",
    "    \"2015\",\n",
    "    \"Prius\",\n",
    "    \"n/a\",\n",
    "    \"12500\",\n",
    "    \"craigslist\",\n",
    "    \"11/30 - 07:00\",\n",
    "    \"Seattle, WA\",\n",
    "    \"Toyota prius 2015 \"\n",
    "  ],\n",
    "  ...\n",
    "]\n",
    "```"
   ]
  },
  {
   "cell_type": "markdown",
   "metadata": {},
   "source": [
    "In order to work with them in Python, we should begin by creating a class for them:\n",
    "\n",
    "```python\n",
    "class CarForSale:\n",
    "  def __init__(self, model_year, mileage, price, posted_datetime, model, source, location, description):\n",
    "    self.model_year = model_year\n",
    "    self.mileage = mileage\n",
    "    self.price = price\n",
    "    self.posted_datetime = posted_datetime\n",
    "    self.model = model\n",
    "    self.source = source\n",
    "    self.location = location\n",
    "    self.description = description\n",
    "```"
   ]
  },
  {
   "cell_type": "markdown",
   "metadata": {},
   "source": [
    "It would be useful to think of `CarForSale` objects as vectors. That would let us average them together (as a linear combination) and see what the typical car for sale looks like.\n",
    "\n",
    "While it is easy to define what adding two cars will mean when considering the numeric properties such as `mileage`, `price`, or even `year`, there's no way we can do arithmetic on strings. In order to solve that we can set all the string properties to `\"(virtual)\"` as when doing arithmetics with them we won't be dealing with real cars.\n",
    "\n",
    "For dates we will use time spans. For example, you can use the day the data was retrieved as a reference point and add the time spans since the cars were posted for sale. By doing so we will be able to sum dates by adding the difference between the corresponding date to our reference date (spans)."
   ]
  },
  {
   "cell_type": "markdown",
   "metadata": {},
   "source": [
    "With that implementation done (you can review in [CarForSale](../../02_mini-projects/12-vec-class-lib/car_for_sale/car_for_sale_lib.py)), you can start treating those objects as vectors:"
   ]
  },
  {
   "cell_type": "code",
   "execution_count": 1,
   "metadata": {},
   "outputs": [
    {
     "name": "stdout",
     "output_type": "stream",
     "text": [
      "(model_year=2005, mileage=114000.0, price=3500.0, posted_datetime=2018-11-30 06:44:00, model=Prius, source=craigslist, location=San Francisco, CA, description=toyota prius )\n"
     ]
    }
   ],
   "source": [
    "from car_for_sale import CarForSale\n",
    "\n",
    "cars = CarForSale.load_cars_from_dataset()\n",
    "print(cars[0])"
   ]
  },
  {
   "cell_type": "code",
   "execution_count": null,
   "metadata": {},
   "outputs": [],
   "source": [
    "from car_for_sale import CarForSale\n",
    "\n",
    "cars = CarForSale.load_cars_from_dataset()\n",
    "print(cars[1])"
   ]
  },
  {
   "cell_type": "code",
   "execution_count": 2,
   "metadata": {},
   "outputs": [
    {
     "name": "stdout",
     "output_type": "stream",
     "text": [
      "(model_year=4012, mileage=306000.0, price=6100.0, posted_datetime=2013-10-27 03:59:00, model=(virtual), source=(virtual), location=(virtual), description=(virtual))\n"
     ]
    }
   ],
   "source": [
    "from car_for_sale import CarForSale\n",
    "\n",
    "cars = CarForSale.load_cars_from_dataset()\n",
    "print(cars[0] + cars[1])"
   ]
  },
  {
   "cell_type": "markdown",
   "metadata": {},
   "source": [
    "Adding up cars don't seem very useful, but once defined as vectors we can start computing car averages:"
   ]
  },
  {
   "cell_type": "code",
   "execution_count": 1,
   "metadata": {},
   "outputs": [
    {
     "name": "stdout",
     "output_type": "stream",
     "text": [
      "(model_year=2012.5365853658536, mileage=87731.63414634147, price=12574.731707317074, posted_datetime=2018-11-30 09:00:49.756098, model=(virtual), source=(virtual), location=(virtual), description=(virtual))\n"
     ]
    }
   ],
   "source": [
    "from car_for_sale import CarForSale\n",
    "\n",
    "cars = CarForSale.load_cars_from_dataset()\n",
    "average_car = sum(cars, CarForSale.zero()) * (1.0 / len(cars))\n",
    "\n",
    "print(average_car)"
   ]
  },
  {
   "cell_type": "markdown",
   "metadata": {},
   "source": [
    "With that simple operation we can see that the average car is from 2012, with a mileage of about 88,000 miles and a price of $12,500. Also, the ad was posted around the 30th of Nov, 2018.\n",
    "\n",
    "Thus, we've created a `CarForSale` vector that represents records in a dataset. `CarForSale` behaves like a 4D vector having as dimensions the price, model year, mileage and datetime of posting."
   ]
  },
  {
   "cell_type": "markdown",
   "metadata": {},
   "source": [
    "### Treating functions as vectors\n",
    "\n",
    "Functions that take in a real number and return a single real number can also be thought of as vectors.\n",
    "\n",
    "The mathematical shorthand to designate that function is:\n",
    "\n",
    "$\n",
    "f: \\mathbb{R} \\rightarrow \\mathbb{R}\n",
    "$\n",
    "\n",
    "and in Python, that would be:\n",
    "\n",
    "```python\n",
    "f(x: float) -> float:\n",
    "  ...\n",
    "```\n",
    "\n",
    "As with other vector spaces, we can do addition and scalar multiplication of functions visually or algebraically."
   ]
  },
  {
   "cell_type": "markdown",
   "metadata": {},
   "source": [
    "For example, we can start with the functions $ f(x) = 0.5 \\cdot x + 3 $ and $ g(x) = sin(x) $.\n",
    "\n",
    "We can also define a simple `plot` helper function to get the graph of those functions on a given interval:"
   ]
  },
  {
   "cell_type": "code",
   "execution_count": 7,
   "metadata": {},
   "outputs": [
    {
     "data": {
      "image/png": "[encoded data removed]",
      "text/plain": [
       "<Figure size 640x480 with 1 Axes>"
      ]
     },
     "metadata": {},
     "output_type": "display_data"
    }
   ],
   "source": [
    "from math import sin\n",
    "import numpy as np\n",
    "import matplotlib.pyplot as plt\n",
    "\n",
    "def plot(fs, xmin, xmax, fn_names):\n",
    "    xs = np.linspace(xmin, xmax, 100)\n",
    "    fig, ax = plt.subplots()\n",
    "    ax.axhline(y=0, color=\"k\")\n",
    "    ax.axvline(x=0, color=\"k\")\n",
    "    for f, fn_name in zip(fs, fn_names):\n",
    "        ys = [f(x) for x in xs]\n",
    "        plt.plot(xs, ys, label=fn_name)\n",
    "    ax.legend()\n",
    "\n",
    "\n",
    "def f(x):\n",
    "    return 0.5 * x + 3\n",
    "\n",
    "def g(x):\n",
    "    return sin(x)\n",
    "\n",
    "plot([f, g], -10, 10, [\"f\", \"g\"])"
   ]
  },
  {
   "cell_type": "markdown",
   "metadata": {},
   "source": [
    "Algebraically, we can add functions by adding the expressions that define them.\n",
    "\n",
    "This means $ f + g $ is a function defined by:\n",
    "\n",
    "$\n",
    "(f + g)(x) = f(x) + g(x) = 0.5 \\cdot x + 3 + sin(x)\n",
    "$"
   ]
  },
  {
   "cell_type": "code",
   "execution_count": 8,
   "metadata": {},
   "outputs": [
    {
     "data": {
      "image/png": "[encoded data removed]",
      "text/plain": [
       "<Figure size 640x480 with 1 Axes>"
      ]
     },
     "metadata": {},
     "output_type": "display_data"
    }
   ],
   "source": [
    "from math import sin\n",
    "import numpy as np\n",
    "import matplotlib.pyplot as plt\n",
    "\n",
    "def plot(fs, xmin, xmax, fn_names):\n",
    "    xs = np.linspace(xmin, xmax, 100)\n",
    "    fig, ax = plt.subplots()\n",
    "    ax.axhline(y=0, color=\"k\")\n",
    "    ax.axvline(x=0, color=\"k\")\n",
    "    for f, fn_name in zip(fs, fn_names):\n",
    "        ys = [f(x) for x in xs]\n",
    "        plt.plot(xs, ys, label=fn_name)\n",
    "    ax.legend()\n",
    "\n",
    "\n",
    "def f(x):\n",
    "    return 0.5 * x + 3\n",
    "\n",
    "def g(x):\n",
    "    return sin(x)\n",
    "\n",
    "def add_functions(f, g):\n",
    "    def new_function(x):\n",
    "        return f(x) + g(x)\n",
    "    return new_function\n",
    "\n",
    "plot([f, g, add_functions(f, g)], -10, 10, [\"f\", \"g\", \"f+g\"])"
   ]
  },
  {
   "cell_type": "markdown",
   "metadata": {},
   "source": [
    "Likewise, we can multiply a function by a scalar by multiplying its expression by the scalar.\n",
    "\n",
    "For example, $ 3g = 3 \\cdot g(x) = 3 \\cdot sin(x) $."
   ]
  },
  {
   "cell_type": "code",
   "execution_count": 11,
   "metadata": {},
   "outputs": [
    {
     "data": {
      "image/png": "[encoded data removed]",
      "text/plain": [
       "<Figure size 640x480 with 1 Axes>"
      ]
     },
     "metadata": {},
     "output_type": "display_data"
    }
   ],
   "source": [
    "from math import sin\n",
    "import numpy as np\n",
    "import matplotlib.pyplot as plt\n",
    "\n",
    "def plot(fs, xmin, xmax, fn_names):\n",
    "    xs = np.linspace(xmin, xmax, 100)\n",
    "    fig, ax = plt.subplots()\n",
    "    ax.axhline(y=0, color=\"k\")\n",
    "    ax.axvline(x=0, color=\"k\")\n",
    "    for f, fn_name in zip(fs, fn_names):\n",
    "        ys = [f(x) for x in xs]\n",
    "        plt.plot(xs, ys, label=fn_name)\n",
    "    ax.legend()\n",
    "\n",
    "\n",
    "def g(x):\n",
    "    return sin(x)\n",
    "\n",
    "def scale_function(f, scalar):\n",
    "    def new_function(x):\n",
    "        return scalar * f(x)\n",
    "    return new_function\n",
    "\n",
    "plot([g, scale_function(g, 3)], -10, 10, [\"g\", r\"$3 \\cdot g$\"])"
   ]
  },
  {
   "cell_type": "markdown",
   "metadata": {},
   "source": [
    "It's possible to nicely wrap Python functions in a class that inherits from vector.\n",
    "\n",
    "You can even make the class *callable* so that it can accept arguments as if it were a function to be able to write expressions such as `(f+g)(6)`.\n",
    "\n",
    "However, unit testing such a class is much harder because there is no easy way to generate random functions, or to test whether two functions are equal (to test that two functions are equal, they will have to return the exact same output for every single possible input).\n",
    "\n",
    "This brings another question: what is the dimension of the vector space of functions?\n",
    "\n",
    "That is the same as: how many real number coordinates are needed to uniquely identify a function?\n",
    "\n",
    "As you can guess, the vector space of functions is infinite."
   ]
  },
  {
   "cell_type": "markdown",
   "metadata": {},
   "source": [
    "### Treating matrices as vectors\n",
    "\n",
    "Because an n-by-m matrix is a list of $ n \\cdot m $ numbers arranged in a particular way, we can treat it as an $ n \\cdot m $-dimensional vector.\n",
    "\n",
    "We've already seen how matrix addition and multiplication of a matrix by an scalar works."
   ]
  },
  {
   "cell_type": "markdown",
   "metadata": {},
   "source": [
    "For example, we can implement a class `Matrix_5x3` that inherits from `Vector`.\n",
    "\n",
    "```python\n",
    "class Matrix5x3(Vector):\n",
    "    rows = 5\n",
    "    columns = 3\n",
    "\n",
    "    def __init__(self, matrix):\n",
    "        self.matrix = matrix\n",
    "\n",
    "    @classmethod\n",
    "    def zero(cls):\n",
    "        return Matrix5x3(\n",
    "            tuple(tuple(0 for _ in range(cls.columns)) for _ in range(cls.rows))\n",
    "        )\n",
    "\n",
    "    def add(self, other):\n",
    "        if not isinstance(other, Matrix5x3):\n",
    "            raise TypeError(\"Incompatible vectors\")\n",
    "\n",
    "        return Matrix5x3(\n",
    "            tuple(\n",
    "                tuple(a + b for a, b in zip(row1, row2))\n",
    "                for row1, row2 in zip(self.matrix, other.matrix)\n",
    "            )\n",
    "        )\n",
    "\n",
    "    def scale(self, scalar):\n",
    "        return Matrix5x3(\n",
    "            tuple(tuple(scalar * elem for elem in row) for row in self.matrix)\n",
    "        )\n",
    "\n",
    "    def __eq__(self, other):\n",
    "        if self.__class__ != other.__class__:\n",
    "            return False\n",
    "        for r1, r2 in zip(self.matrix, other.matrix):\n",
    "            for e1, e2 in zip(r1, r2):\n",
    "                if e1 != e2:\n",
    "                    return False\n",
    "        return True\n",
    "\n",
    "    def __str__(self):\n",
    "        \"\"\"User-friendly representation for users of the code\"\"\"\n",
    "        return str(self.matrix)\n",
    "\n",
    "    def __repr__(self):\n",
    "        \"\"\"Dev-friendly representations for debugging purposes\"\"\"\n",
    "        return f\"Matrix5x3{repr(self.matrix)}\"\n",
    "\n",
    "```"
   ]
  },
  {
   "cell_type": "markdown",
   "metadata": {},
   "source": [
    "In this case, we deal with 15-dimension vectors: you need 15 numbers to completely specify a vector.\n",
    "\n",
    "In the same way, you could just as well create a `Matrix2x2` or `Matrix99x17` to represent different vector spaces.\n",
    "\n",
    "As a matter of fact, you could create a `MatrixMxN` class and inherit from it to represent any matrix."
   ]
  },
  {
   "cell_type": "markdown",
   "metadata": {},
   "source": [
    "We also know from the previous chapter that matrices represent linear functions. Therefore, linear functions in the sense $ A: \\mathbb{R^m} \\rightarrow \\mathbb{R^n} $, are also vector spaces &mdash; we don't care whether we think of them as grids of numbers or as functions."
   ]
  },
  {
   "cell_type": "markdown",
   "metadata": {},
   "source": [
    "### Manipulating images with vector operations"
   ]
  }
 ],
 "metadata": {
  "kernelspec": {
   "display_name": "base",
   "language": "python",
   "name": "python3"
  },
  "language_info": {
   "codemirror_mode": {
    "name": "ipython",
    "version": 3
   },
   "file_extension": ".py",
   "mimetype": "text/x-python",
   "name": "python",
   "nbconvert_exporter": "python",
   "pygments_lexer": "ipython3",
   "version": "3.11.5"
  }
 },
 "nbformat": 4,
 "nbformat_minor": 2
}
