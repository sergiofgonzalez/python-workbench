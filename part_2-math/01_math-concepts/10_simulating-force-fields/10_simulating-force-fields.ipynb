{
 "cells": [
  {
   "cell_type": "markdown",
   "metadata": {},
   "source": [
    "# Simulating Force Fields\n",
    "\n",
    "Let's consider that we're told to modify our asteroids game so that  the spaceship and the asteroids feel a *gravitational pull* towards the center of the screen as if a black holde was placed there.\n",
    "\n",
    "This give us a mathematical challenge and a playground to understand force fields.\n",
    "\n",
    "Gravity is a familiar example of a force that acts at a distance &mdash; gravity doesn't need to touch an object to make it feel the gravitational pull. Magnetism and static electricity are other familiar forces that act at a distance.\n",
    "\n",
    "In physics, we pictures sources of these kinds of forces as generating invisible force fields around themselves. Anywhere in the Earth's gravitational force field, an object will feel a pull towards the Earth.\n",
    "\n",
    "Once we add a gravitational field towards the center of the screen for our asteroids game, we'll cover the math behind it in more general terms.\n",
    "\n",
    "Namely, force fields are modeled with mathematical functions called vector fields. Vector fields oftent arise as outputs from a calculus operation called the *gradient*, which is a key tool in the machine learning examples."
   ]
  }
 ],
 "metadata": {
  "language_info": {
   "name": "python"
  }
 },
 "nbformat": 4,
 "nbformat_minor": 2
}
