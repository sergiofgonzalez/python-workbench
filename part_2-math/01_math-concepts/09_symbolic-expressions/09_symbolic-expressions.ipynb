{
 "cells": [
  {
   "cell_type": "markdown",
   "metadata": {},
   "source": [
    "# Symbolic Expressions\n",
    "\n",
    "## Contents\n",
    "\n",
    "+ Modeling algebraic expressions as data structures.\n",
    "+ Writing code to analyze, transform, or evaluate algebraic expressions.\n",
    "+ Finding the derivative of a function by manipulating the expression that defines it.\n",
    "+ Writing a Python function to compute derivative formulas.\n",
    "+ Using [SymPy](https://www.sympy.org/en/index.html) to compute integral formulas."
   ]
  },
  {
   "cell_type": "markdown",
   "metadata": {},
   "source": [
    "## Intro\n",
    "\n",
    "The previous two chapters introduces two of the most important concepts in calculus: the derivative and the integral.\n",
    "\n",
    "We saw that you can approximate the derivative of a function at a point by taking slopes of smaller and smaller secant lines. We also saw that you can approximate the integral of a function by estimating the area under the graph with skinnier and skinnier rectangles.\n",
    "\n",
    "Up until now we've worked with approximations, because we were relying on the capacity of Python running on a computer, but Calculus teaches us how to obtain exact values for the derivative and integral.\n",
    "\n",
    "For example, if $ f(x) = x^3 $, Calculus tells us that:\n",
    "\n",
    "$\n",
    "f'(x) = 3 \\cdot x^2\n",
    "$\n",
    "\n",
    "There are formulas for each type of function, that you would apply when asked for the exact derivative of a function.\n",
    "\n",
    "However, as developers, knowing the formulas is not a very interesting skill for us. Instead, we can realy on a specialized tool called *computer algebra system* to compute it for us."
   ]
  },
  {
   "cell_type": "markdown",
   "metadata": {},
   "source": [
    "## Finding an exact derivative with a computer algebra system\n",
    "\n",
    "Mathematica is one of the most popular computer algebra systems. Its engine is free only at [Wolfram Alpha](https://www.wolframalpha.com/).\n",
    "\n",
    "This site can be used to find the exact formula for a derivative.\n",
    "\n",
    "For example, when building neural networks, it's useful to know the derivative of the function:\n",
    "\n",
    "$\n",
    "\\displaystyle\n",
    "f(x) = \\frac{1}{1 + e^{-x}}\n",
    "$\n",
    "\n",
    "This can be easily obtained by entering that formula in Python syntax. After pressing enter, it will display several facts about the function, including its derivative:\n",
    "\n",
    "![Entering formula](pics/wolfram-alpha-input-formula.png)\n",
    "\n",
    "![Derivative and Integral](pics/wolfram-alpha-derivative-integral.png)"
   ]
  },
  {
   "cell_type": "markdown",
   "metadata": {},
   "source": [
    "Mathematica does not rely on the approximations we've worked on the previous chapters. Instead, Wolfram Alpha interprets the formula you've typed in, transforms it with some algebraic manipulations, and outputs a new formula.\n",
    "\n",
    "This is called **symbolic programming**."
   ]
  },
  {
   "cell_type": "markdown",
   "metadata": {},
   "source": [
    "### Doing symbolic algebra in Python\n",
    "\n",
    "Let's start by illustrating how we will be representing and manipulating formulas in Python.\n",
    "\n",
    "Let's assume we have a mathematical function like:\n",
    "\n",
    "$\n",
    "f(x) = (3 x^2  + x) \\cdot sin(x)\n",
    "$\n",
    "\n",
    "We already know that the best way to represent the formula in order to evaluate it would be:\n",
    "\n",
    "```python\n",
    "from math import sin\n",
    "\n",
    "def f(x):\n",
    "  return (2 * x ** 2 + x) * sin(x)\n",
    "```\n",
    "\n",
    "But that representation is not helpful to learn facts about the formula, such as:\n",
    "\n",
    "+ Does the formula depend on the variable x?\n",
    "+ Does it contain a trigonometric function?\n",
    "+ Does it involve the operation of division?\n",
    "\n",
    "While we can really easily answer those questions just by looking at the function, the Python representation used to get the function values wouldn't help.\n",
    "\n",
    "For example, it'd be very difficult to write a function `contains_division(f)` that returns true if it uses the operation division in its definition."
   ]
  },
  {
   "cell_type": "markdown",
   "metadata": {},
   "source": [
    "Thus, we need to find another way to represent the function. We need another way to express the function that would tell us what operations are being applied and in what order.\n",
    "\n",
    "For instance, the function $ f(x) $ above is a product of $ sin(x) $ with a sum. We also know that there's a well-known algebraic process for expanding the function definition:\n",
    "\n",
    "$\n",
    "f(x) = (3 x^2  + x) \\cdot sin(x) = 3 x^2 \\cdot sin(x) + x \\cdot sin(x)\n",
    "$\n",
    "\n",
    "The new way to represent the formula should let us apply those rules as well.\n",
    "\n",
    "In summary, we need to *model algebraic expressions as data structures* so that we can manipulate them symbolically, and therefore automate the rules of calculus."
   ]
  },
  {
   "cell_type": "markdown",
   "metadata": {},
   "source": [
    "Once we have that, we will be able to calculate derivatives.\n",
    "\n",
    "Most functions expressed by simple formulas also have simple formulas for their derivatives. For example, if $ f(x) = x^3 $, $ f'(x) = 3 \\cdot x^2 $.\n",
    "\n",
    "That means that the derivative of $ x^3 $ at any value of $ x $ is $ 3 \\cdot x^2 $.\n",
    "\n",
    "Another requirement for our data structures is that we will have to be able to calculate the derivative or any given algebraic expression.\n",
    "\n",
    "At the minimum, we will need to represent variables, numbers, sums, differences, products, quotients, powers, and functions such as sine and cosine and take the derivatives of them."
   ]
  },
  {
   "cell_type": "markdown",
   "metadata": {},
   "source": [
    "## Modeling algebraic expressions\n",
    "\n",
    "Let's develop our intuition around how we can break an algebraic expression such as $ f(x) = (3 \\cdot x^2 + x) \\cdot sin(x) $.\n",
    "\n",
    "It contains the following building blocks we should model:\n",
    "+ a variable $ x $\n",
    "+ numbers ($ 3 $)\n",
    "+ operations: addition, multiplication, power\n",
    "+ a named function: $ sin(x) $\n",
    "\n",
    "The goal is to translate it into a Python data structure we can work with.\n",
    "\n",
    "The first observation is that $ f $ is an arbitrary name. The right hand side will evaluate the same whether the function is called $ f $, $ g $, or $ h $.\n",
    "\n",
    "As a result, we should be focusing on the right hand side of the function definition, which is called an expression:\n",
    "> An expression is a collection of mathematical symbols combined in some valid ways."
   ]
  },
  {
   "cell_type": "markdown",
   "metadata": {},
   "source": [
    "### Breaking an expression into pieces\n",
    "\n",
    "The way in which we can model algebraic expressions such as $ (3 \\cdot x^2 + x) \\cdot sin(x) $ is to break them into smaller expressions.\n",
    "\n",
    "There is only one meaningful way to break up the expressions $ (3  \\cdot x^2 + x) \\cdot sin(x) $. Namely, it's the product of $ (3 \\cdot x^2 + x) $ and $ sin(x) $.\n",
    "\n",
    "Other ways of breaking up the expression will end up in something we can't make sense of according to mathematical rules:\n",
    "\n",
    "![Breaking up expressions](pics/breaking_expressions.png)"
   ]
  },
  {
   "cell_type": "markdown",
   "metadata": {},
   "source": [
    "If we apply the same strategy to the expression $ 3 \\cdot x^2 + x $ we will see that it can be broken down as:\n",
    "\n",
    "![expression tree](pics/expression_tree.png)\n",
    "\n",
    "If we inspect the approach we see that we take:\n",
    "+ operations &mdash; ways to take two or more algebraic expressions and stick them together side by side to make a new, bigger algebraic expression.\n",
    "+ operators &mdash; valid places to break up an existing algebraic expression into smaller ones.\n"
   ]
  },
  {
   "cell_type": "markdown",
   "metadata": {},
   "source": [
    "In the terminology of functional programming, functions combining smaller objects into bigger ones like this are often called *combinators*.\n",
    "\n",
    "Some of the combinators we've used in the expression above are:\n",
    "+ $ 3 \\cdot x^2 $ is the product of the expression 3 and $ x^2 $\n",
    "+ $ x^2 $ is a power: one expression $ x $ raise to the power of another expression $ 2 $.\n",
    "+ $ sin(x) $ is a *function application*. Given the expression $ sin $ and the expression $ x $, we can build a new expression $ sin(x) $."
   ]
  },
  {
   "cell_type": "markdown",
   "metadata": {},
   "source": [
    "By contrast, a variable $ x $, a number $ 2 $, or a function named $ sin $ cannot be broken down further, and we call them *elements*."
   ]
  },
  {
   "cell_type": "markdown",
   "metadata": {},
   "source": [
    "### Building an expression tree\n",
    "\n",
    "Let's focus on the expression $ (3 \\cdot x^2 + x) \\cdot sin(x) $. The elements $ 3 $, $ x $, $ 2 $, and $ sin $, along with the combinators $ adding $, $ multiplying $, $ \\text{raising to a power} $, and $ \\text{applying a function} $ are sufficient to rebuild the whole expression.\n",
    "\n",
    "One of the first sub-expressions we can put together is $ x^2 $, which combines $ x $ and $ 2 $ with the $ power $ combinator. We can picture it as below:\n",
    "\n",
    "![Subexpression 1](pics/subexpression_1.png)\n",
    "\n",
    "Note how the subexpression is represented as a tree with the combinator at the root, and leaves $ x $ and $ 2 $."
   ]
  },
  {
   "cell_type": "markdown",
   "metadata": {},
   "source": [
    "A good next step would be to represent $ 3 \\cdot x^2 $, which we could also represent visually as below:\n",
    "\n",
    "![Subexpression 2](pics/subexpression_2.png)\n",
    "\n",
    "Note how it still has the aspect of a tree, and that the left leave of the $ Product $ combinator is itself the previous tree that represented $ x^2 $."
   ]
  },
  {
   "cell_type": "markdown",
   "metadata": {},
   "source": [
    "We can add one more layer to the tree to represent the $ 3 \\cdot x^2 + x $ expression:\n",
    "\n",
    "![Subexpression 3](pics/subexpression_3.png)"
   ]
  },
  {
   "cell_type": "markdown",
   "metadata": {},
   "source": [
    "Finally, we can represent the whole $ (3 \\cdot x^2 + x) \\cdot sin(x) $ by introducing the $ Apply $ combinator and the known $ Product $ combinator:\n",
    "\n",
    "![Subexpression 4](pics/subexpression_4.png)\n",
    "\n",
    "![Final expression](pics/expression.png)"
   ]
  },
  {
   "cell_type": "markdown",
   "metadata": {},
   "source": [
    "Note how the tree reveals the structure of the algebraic expression. The root of the tree is the $ Product $ combinator, with two branches coming out of it: $ Sum $ and $ Apply $. \n",
    "\n",
    "Each combinator appearing further down the tree adds additional branches until you reach the elements that are leaves and have no branches. And all we have used are numbers, variables, named functions and operations (as combinators)."
   ]
  },
  {
   "cell_type": "markdown",
   "metadata": {},
   "source": [
    "### Translating the expression tree to Python\n",
    "\n",
    "We can use Python classes to represent each kind of element and each kind of combinator. As we go along, we will be revising their implementation to give them more and more functionality.\n",
    "\n",
    "The idea is to model combinators as containers that hold their required inputs. For example, to model the $ Power $ combinator, we can do:\n",
    "\n",
    "```python\n",
    "class Power():\n",
    "    def __init__(self, base, exponent):\n",
    "        self.base = base\n",
    "        self.exponent = exponent\n",
    "```\n",
    "\n",
    "That would allow us to write `Power(\"x\", 2)`, but because we're dealing with symbolic expressions, it's even better to define special container classes for variables and numbers:\n",
    "\n",
    "```python\n",
    "class Number():\n",
    "    def __init__(self, number):\n",
    "        self.number = number\n",
    "\n",
    "class Variable():\n",
    "    def __init__(self, symbol):\n",
    "        self.symbol = symbol\n",
    "```\n",
    "\n",
    "The will let us represent $ x^2 $ in Python as `Power(Variable(\"x\"), Number(2))`."
   ]
  },
  {
   "cell_type": "markdown",
   "metadata": {},
   "source": [
    "It is easy now to extend the previous approach to represent the $ Product $ operation:\n",
    "\n",
    "```python\n",
    "class Product():\n",
    "    def __init__(self, expr1, expr2):\n",
    "        self.expr1 = expr1\n",
    "        self.expr2 = expr2\n",
    "```\n",
    "\n",
    "So that $ 3 \\cdot x^2 $ can now be written as:\n",
    "\n",
    "```python\n",
    "Product(Number(3), Power(Variable(\"x\"), Number(2)))\n",
    "```"
   ]
  },
  {
   "cell_type": "markdown",
   "metadata": {},
   "source": [
    "We can now define the rest of combinators:\n",
    "\n",
    "```python\n",
    "class Sum():\n",
    "    def __init__(self, *exprs):\n",
    "        self.exprs = exprs\n",
    "\n",
    "class Function():\n",
    "    def __init__(self, name):\n",
    "        self.name = name\n",
    "\n",
    "class Apply()\n",
    "    def __init__(self, function, argument):\n",
    "        self.function = function\n",
    "        self.argument = argument\n",
    "```\n",
    "\n",
    "With those elements in place, we can faithfully represent the expression $ (3 \\cdot x^2 + x) \\cdot sin(x) $:\n",
    "\n",
    "```python\n",
    "expr = Product(\n",
    "    Sum(\n",
    "        Product(\n",
    "            Number(3),\n",
    "            Power(Variable(\"x\"), Number(2))\n",
    "        ),\n",
    "        Variable(\"x\")\n",
    "    ),\n",
    "    Apply(\n",
    "        Function(\"sin\"),\n",
    "        Variable(\"x\")\n",
    "    )\n",
    ")\n",
    "```\n",
    "\n",
    "By faithfully, we mean that we can have a look at the Python object and understand that it described the algebraic expression $ (3 \\cdot x^2 + x) \\cdot sin(x) $ and no other."
   ]
  },
  {
   "cell_type": "markdown",
   "metadata": {},
   "source": [
    "We started from an algebraic expression and built a Python object that uniquely and unequivocally.\n",
    "\n",
    "We can also follow the opposite journey: start from a Python object and get to the algebraic expression it represents:\n",
    "\n",
    "```python\n",
    "Apply(Function(\"cos\"),Sum(Power(Variable(\"x\"),Number(\"3\")), Number(−5)))\n",
    "```\n",
    "\n",
    "This represents the expression:\n",
    "\n",
    "$\n",
    "cos(x^3 - 5)\n",
    "$"
   ]
  },
  {
   "cell_type": "markdown",
   "metadata": {},
   "source": [
    "### Exercise\n",
    "\n",
    "The natural algorithm, a special mathematical function, is written as $ ln(x) $.\n",
    "Draw the expression $ ln(yz) $ as an expression tree built from the elements and combinators introduced in the previous section.\n",
    "\n"
   ]
  },
  {
   "cell_type": "markdown",
   "metadata": {},
   "source": [
    "The tree can be displayed as:\n",
    "\n",
    "![ln(yz) expr](pics/expr_lnyz.png)\n",
    "\n",
    "The equivalent Python object will be:\n",
    "\n",
    "```python\n",
    "Apply(\n",
    "    \"ln\",\n",
    "    Product(\n",
    "        Variable(\"y\"),\n",
    "        Variable(\"z\")\n",
    "    )\n",
    ")\n",
    "```\n"
   ]
  },
  {
   "cell_type": "markdown",
   "metadata": {},
   "source": [
    "### Exercise\n",
    "\n",
    "Consider the mathematical expression $ ln(y^z) $. Draw the expression tree.\n",
    "\n",
    "Then, translate the expression into Python code, given that the natural algorithm is calculated by the Python function `math.log`. Write it as a Python object using the classes defined in the previous exercise."
   ]
  },
  {
   "cell_type": "markdown",
   "metadata": {},
   "source": [
    "The expression tree is the following:\n",
    "\n",
    "![ln(y^z)](pics/expr_ln_y_power_z.png)"
   ]
  },
  {
   "cell_type": "markdown",
   "metadata": {},
   "source": [
    "The Python function can be defined as follows:"
   ]
  },
  {
   "cell_type": "code",
   "execution_count": 2,
   "metadata": {},
   "outputs": [
    {
     "name": "stdout",
     "output_type": "stream",
     "text": [
      "2.0794415416798357\n",
      "2.0794415416798357\n"
     ]
    }
   ],
   "source": [
    "import math\n",
    "\n",
    "def fn(y, z):\n",
    "    return math.log(y ** z)\n",
    "\n",
    "print(fn(2, 3))\n",
    "print(math.log(8))"
   ]
  },
  {
   "cell_type": "markdown",
   "metadata": {},
   "source": [
    "And the expression tree using the classes defined above is:\n",
    "\n",
    "```python\n",
    "Apply(\n",
    "    Function(\"ln\"),\n",
    "    Power(\n",
    "        Variable(\"y\"),\n",
    "        Variable(\"z\")\n",
    "    )\n",
    ")\n",
    "```"
   ]
  },
  {
   "cell_type": "markdown",
   "metadata": {},
   "source": [
    "### Exercise\n",
    "\n",
    "What is the expression represented by `Product(Number(3), Sum(Variable(\"y\"), Variable(\"z\")))`?"
   ]
  },
  {
   "cell_type": "markdown",
   "metadata": {},
   "source": [
    "The Python expression above is equivalent to the mathematical expression:\n",
    "\n",
    "$\n",
    "3 \\cdot (y + z)\n",
    "$\n",
    "\n",
    "Note that the parentheses are not required in the Python expression but needed in the equivalent mathematical expression because $ \\cdot $ has greater precedence than $ + $."
   ]
  },
  {
   "cell_type": "markdown",
   "metadata": {},
   "source": [
    "### Exercise\n",
    "\n",
    "Implement a `Quotient` combination representing one expression divided by another. How do you represent the following expression?\n",
    "\n",
    "$$\n",
    "\\frac{a + b}{2}\n",
    "$$"
   ]
  },
  {
   "cell_type": "markdown",
   "metadata": {},
   "source": [
    "We can follow the same approach we used for other binary combinators:\n",
    "\n",
    "```python\n",
    "class Quotient():\n",
    "    def __init__(self, numerator_expr, denominator_expr):\n",
    "        self.numerator_expr = numerator_expr\n",
    "        self.denominator_expr = denominator_expr\n",
    "```\n",
    "\n",
    "Then we can write:\n",
    "\n",
    "```python\n",
    "Quotient(\n",
    "    Sum(\n",
    "        Variable(\"a\"),\n",
    "        Variable(\"b\")\n",
    "    ),\n",
    "    Number(2)\n",
    ")\n",
    "```"
   ]
  },
  {
   "cell_type": "markdown",
   "metadata": {},
   "source": [
    "### Exercise\n",
    "\n",
    "Implement a `Difference` combinator representing one expression subtracted from another. How can you represent the expression $ b^2 - 4ac $?"
   ]
  },
  {
   "cell_type": "markdown",
   "metadata": {},
   "source": [
    "We can follow the same approach used for the other binary combinators:\n",
    "\n",
    "```python\n",
    "class Difference:\n",
    "    def __init__(self, expr1, expr2):\n",
    "        self.expr1 = expr1\n",
    "        self.expr2 = expr2\n",
    "```\n",
    "\n",
    "Then, the given expression can be written as:\n",
    "\n",
    "```python\n",
    "Difference(\n",
    "    Power(\n",
    "        Variable(\"b\"),\n",
    "        Number(2)\n",
    "    ),\n",
    "    Product(\n",
    "        Number(4),\n",
    "        Product(\n",
    "            Variable(\"a\"),\n",
    "            Variable(\"c\")\n",
    "        )\n",
    "    )\n",
    ")\n",
    "```"
   ]
  },
  {
   "cell_type": "markdown",
   "metadata": {},
   "source": [
    "### Exercise\n",
    "\n",
    "Implement a `Negative` combinator representing the negation of an expression. For example, the negation of $ x^2 + y $ is $ -(x^2 +  y) $. Represent the latter expression using your new combinator."
   ]
  },
  {
   "cell_type": "markdown",
   "metadata": {},
   "source": [
    "This time we are dealing with a *unary* combinator, but the approach is similar:\n",
    "\n",
    "```python\n",
    "class Negative:\n",
    "    def __init__(self, expr):\n",
    "        self.expr = expr\n",
    "```\n",
    "\n",
    "And the representation will be:\n",
    "\n",
    "```python\n",
    "Negative(\n",
    "    Sum(\n",
    "        Power(\n",
    "            Variable(\"x\"),\n",
    "            Number(2)\n",
    "        ),\n",
    "        Variable(\"y\")\n",
    "    )\n",
    ")\n",
    "```"
   ]
  },
  {
   "cell_type": "markdown",
   "metadata": {},
   "source": [
    "### Exercise\n",
    "\n",
    "Add a function called `Sqrt` that represents a square root and use it to encode the following formula:\n",
    "\n",
    "$$\n",
    "\\frac{-b \\pm \\sqrt{b^2 - 4ac}}{2a}\n",
    "$$"
   ]
  },
  {
   "cell_type": "markdown",
   "metadata": {},
   "source": [
    "We can define the `Sqrt` function in the same way we define the `sin`:\n",
    "\n",
    "```python\n",
    "Sqrt = Function(\"sqrt\")\n",
    "```\n",
    "\n",
    "Then the expression can be defined as:\n",
    "\n",
    "```python\n",
    "Quotient(\n",
    "    Sum(\n",
    "        Negative(Variable(\"b\")),\n",
    "        Apply(\n",
    "            Sqrt,\n",
    "            Difference(\n",
    "                Power(\n",
    "                    Variable(\"b\"),\n",
    "                    Number(2)\n",
    "                ),\n",
    "                Product(\n",
    "                    Number(4),\n",
    "                    Product(\n",
    "                        Variable(\"a\"),\n",
    "                        Variable(\"c\")\n",
    "                    )\n",
    "                )\n",
    "            )\n",
    "        )\n",
    "    ),\n",
    "    Product(\n",
    "        Number(2),\n",
    "        Variable(\"a\")\n",
    "    )\n",
    ")\n",
    "```"
   ]
  },
  {
   "cell_type": "markdown",
   "metadata": {},
   "source": [
    "### Exercise\n",
    "\n",
    "Create an abstract base class called `Expression` and make all of the elements and combinators inherit from it.\n",
    "\n",
    "Then overload the Python arithmetic operations (`+`, `-`, `*`, and `/`) so that they produce `Expression` objects.\n",
    "\n",
    "After the change, the code `2 * Variable(\"x\") + 3` should yield `Sum(Product(Number(2), Variable(\"x\")), Number(3))`."
   ]
  },
  {
   "cell_type": "markdown",
   "metadata": {},
   "source": [
    "## Putting a symbolic expression to work\n",
    "\n",
    "For the function $ f(x) = (3x^2 + x) \\cdot sin(x) $ we wrote a Python function that computes it:"
   ]
  },
  {
   "cell_type": "code",
   "execution_count": 2,
   "metadata": {},
   "outputs": [
    {
     "data": {
      "text/plain": [
       "3.365883939231586"
      ]
     },
     "execution_count": 2,
     "metadata": {},
     "output_type": "execute_result"
    }
   ],
   "source": [
    "from math import sin\n",
    "\n",
    "\n",
    "def f(x):\n",
    "    return (3 * x ** 2 + x) * sin(x)\n",
    "\n",
    "f(1)"
   ]
  },
  {
   "cell_type": "markdown",
   "metadata": {},
   "source": [
    "This representation is only good for returning an output value given an input value $ x $ and nothing more &mdash; it won't be easy to expand it algebraically, check whether the function contains trigonometric functions, etc.\n",
    "\n",
    "Alternatively, we've seen that we can define classes to translate the function $ f(x) = (3x^2 + x) \\cdot sin(x) $ into a Python data structure built from elements and combinators. That representation will let us answer those questions."
   ]
  },
  {
   "cell_type": "markdown",
   "metadata": {},
   "source": [
    "### Finding all the variables in an expression\n",
    "\n",
    "Let's start by writing a function that takes an expression and returns a list of distinct variables that appear in it.\n",
    "\n",
    "For example $ h(z) = 2z + 3 $ is defined using $ z $, while $ g(x) = 7 $ contains no variables.\n",
    "\n",
    "Let's write a function `distinct_variables` that takes an expression and returns a Python set containing the variables.\n",
    "\n",
    "Thus, we expect the following results:\n",
    "\n",
    "```python\n",
    "distinct_variables(Variable(\"z\"))\n",
    "{'z'}\n",
    "\n",
    "distinct_variables(Number(3))\n",
    "set()\n",
    "```"
   ]
  },
  {
   "cell_type": "markdown",
   "metadata": {},
   "source": [
    "While it is easy for the human eye to identify that in an expression $ y \\cdot z + x^z $ the variables are $ x $, $ y $, and $ z $, it's quite tricky to come up with an algorithm that does so.\n",
    "\n",
    "We could use a recursive solution for the implementation of `distinct_variables`:\n",
    "\n",
    "```python\n",
    "\"\"\"Utility functions for symbolic expressions.\"\"\"\n",
    "\n",
    "from symexpr.expressions import (\n",
    "    Apply,\n",
    "    Difference,\n",
    "    Expression,\n",
    "    Negative,\n",
    "    Number,\n",
    "    Power,\n",
    "    Product,\n",
    "    Quotient,\n",
    "    Sum,\n",
    "    Variable,\n",
    ")\n",
    "\n",
    "\n",
    "def distinct_variables(expr: Expression) -> set[str]:\n",
    "    if isinstance(expr, Variable):\n",
    "        return set(expr.name)\n",
    "    elif isinstance(expr, Number):\n",
    "        return set()\n",
    "    elif isinstance(expr, Sum):\n",
    "        return set().union(\n",
    "            distinct_variables(expr.left), distinct_variables(expr.right)\n",
    "        )\n",
    "    elif isinstance(expr, Difference):\n",
    "        return set().union(\n",
    "            distinct_variables(expr.left), distinct_variables(expr.right)\n",
    "        )\n",
    "    elif isinstance(expr, Product):\n",
    "        return set().union(\n",
    "            distinct_variables(expr.left), distinct_variables(expr.right)\n",
    "        )\n",
    "    elif isinstance(expr, Quotient):\n",
    "        return distinct_variables(expr.numerator).union(\n",
    "            distinct_variables(expr.denominator)\n",
    "        )\n",
    "    elif isinstance(expr, Power):\n",
    "        return distinct_variables(expr.base).union(\n",
    "            distinct_variables(expr.exponent)\n",
    "        )\n",
    "    elif isinstance(expr, Negative):\n",
    "        return distinct_variables(expr.expr)\n",
    "    elif isinstance(expr, Apply):\n",
    "        return distinct_variables(expr.expr)\n",
    "    else:\n",
    "        raise TypeError(f\"Unknown expression type: {type(expr)}\")\n",
    "```"
   ]
  },
  {
   "cell_type": "markdown",
   "metadata": {},
   "source": [
    "While the implementation looks hairy, it works!\n",
    "\n",
    "It's actually a recursive traversal of the expression tree. By the time this function compleltes, it has called `distinct_variables` on every expression contained in the target expression, which are all of the nodes in the tree.\n",
    "\n",
    "That ensures that we see every variable and that we get the correct answers that we expect."
   ]
  },
  {
   "cell_type": "markdown",
   "metadata": {},
   "source": [
    "### Evaluating an expression\n",
    "\n",
    "It turns out that the tree representation of an expression can also be used to evaluate $ f(x) $ as well, although it requires a little more work. By contrast, implementing a function such as `distinct_variables` using the `def f(x)` representation of the function would be almost impossible."
   ]
  },
  {
   "cell_type": "markdown",
   "metadata": {},
   "source": [
    "Mechanically, evaluating a function $ f(x) $ at $ x = 5 $ means plugging in the value of 5 for $ x $ everywhere and then doing the arithmetic to find the result.\n",
    "\n",
    "For example, if $ f(x) = x $, plugging in $ x = 5 $ should tell us $ f(5) = 5 $. Another simple example, $ g(x) = 7 $, plugging in $ x = 5 $ should tell us $ g(5) = 7 $.\n",
    "\n",
    "The code to evaluate the expression in the tree is similar to the code we just wrote for finding the variables. The only difference is that we need to evaluate each subexpression, then the combinators will tell us how to combine the result to get the value of the whole expression."
   ]
  },
  {
   "cell_type": "markdown",
   "metadata": {},
   "source": [
    "The starting data we need is:\n",
    "+ What values to plug in\n",
    "+ What variables these replace\n",
    "\n",
    "For example, an expression such as $ z(x, y) = 2xy^3 $ will need two values to get a result, as in $ x = 3 $, and $ y = 2 $. In Computer Science these are called *variable bindings*.\n",
    "\n",
    "When those bindings are established, we can say $ z(3, 2) = 48 $, and the way to evaluate it would be to traverse the tree, returning the result of the evaluation taking into account the given *variable bindings*:\n",
    "\n",
    "![Evaluating the tree](pics/evaluating_tree.png)\n",
    "\n",
    "Note how the tree traversal effectively visits all nodes collecting pieces of the evaluation that are finally considered for the final evaluation.\n",
    "\n",
    "While we could create an `utils` function such as `distinct_variables`, this time we will instead make all the `Expression` classes implement an `evaluate` method that will allow us to distribute the responsibilities of the evaluation to the corresponding element and combinator classes.\n",
    "\n",
    "```python\n",
    "from abc import ABC, abstractmethod\n",
    "\n",
    "\n",
    "class Expression(ABC):\n",
    "\n",
    "    @abstractmethod\n",
    "    def evaluate(self, **bindings):\n",
    "        pass\n",
    "```\n",
    "\n",
    "See that we decided that the user should pass the *variable bindings* using `*kargs*` as in:\n",
    "\n",
    "```python\n",
    "z.evaluate(x=3, y=2)\n",
    "```"
   ]
  },
  {
   "cell_type": "markdown",
   "metadata": {},
   "source": [
    "With the `evaluate()` signature in place, we can start implementing the function on each and every class in the hierarchy.\n",
    "\n",
    "Variables and numbers are trivial:\n",
    "\n",
    "```python\n",
    "class Variable(Expression):\n",
    "    ...\n",
    "    def evaluate(self, **bindings):\n",
    "        try:\n",
    "            return bindings[self.name]\n",
    "        except KeyError as e:\n",
    "            raise KeyError(f\"Variable {self.name!r} not bound.\")\n",
    "\n",
    "    ...\n",
    "\n",
    "class Number(Expression):\n",
    "    ...\n",
    "\n",
    "    def evaluate(self, **bindings):\n",
    "        return self.value\n",
    "```"
   ]
  },
  {
   "cell_type": "markdown",
   "metadata": {},
   "source": [
    "Now we can start implementing the `evaluate()` function in our combinators. Note that we will need to keep `Function` out of our `Expression` hierarchy class, because a function like *sine* is not a standalone expression. It will be used instead to validate that the user relies only on a few well-known functions such as `sqrt`, `sin`, `cos`, etc.\n",
    "\n",
    "```python\n",
    "# note that it doesn't extend `Expression` base class\n",
    "class Function():\n",
    "    ...\n",
    "```\n",
    "\n",
    "A function will only be able to be evaluated in the context of an `Apply` combinator. Which we will implement by calling the function:\n",
    "```python\n",
    "_well_known_function_bindings = {\n",
    "    \"sin\": math.sin,\n",
    "    \"cos\": math.cos,\n",
    "    \"tan\": math.tan,\n",
    "    \"log\": math.log,\n",
    "    \"sqrt\": math.sqrt,\n",
    "}\n",
    "\n",
    "class Apply(Expression):\n",
    "\n",
    "    def __init__(self, function: Function, argument: Expression):\n",
    "        self.function = function\n",
    "        self.argument = argument\n",
    "\n",
    "    def evaluate(self, **bindings):\n",
    "        return _well_known_function_bindings[self.function.name](\n",
    "            self.argument.evaluate(**bindings)\n",
    "        )\n",
    "```"
   ]
  },
  {
   "cell_type": "markdown",
   "metadata": {},
   "source": [
    "The rest of the combinators will follow the same approach:\n",
    "+ evaluate the corresponding expression(s) involved\n",
    "+ apply the corresponding operation (sum, subtract, negate, ...)\n",
    "\n",
    "For example, the `Product` will be implemented as:\n",
    "\n",
    "```python\n",
    "class Product(Expression):\n",
    "\n",
    "    def __init__(self, left: Expression, right: Expression):\n",
    "        self.left = left\n",
    "        self.right = right\n",
    "\n",
    "    def evaluate(self, **bindings):\n",
    "        return self.left.evaluate(**bindings) * self.right.evaluate(**bindings)\n",
    "```\n",
    "\n",
    "After that we will be able to evaluate expressions in the same way we'd do with regular Python functions:"
   ]
  },
  {
   "cell_type": "code",
   "execution_count": 1,
   "metadata": {},
   "outputs": [
    {
     "data": {
      "text/plain": [
       "-76.71394197305108"
      ]
     },
     "execution_count": 1,
     "metadata": {},
     "output_type": "execute_result"
    }
   ],
   "source": [
    "from math import sin\n",
    "\n",
    "def f(x):\n",
    "    return (3 * x ** 2 + x) * sin(x)\n",
    "\n",
    "f(5)"
   ]
  },
  {
   "cell_type": "code",
   "execution_count": 4,
   "metadata": {},
   "outputs": [
    {
     "name": "stdout",
     "output_type": "stream",
     "text": [
      "-76.71394197305108\n"
     ]
    }
   ],
   "source": [
    "from symexpr import Product, Sum, Power, Variable, Function, Apply, Number\n",
    "\n",
    "expr_f = Product(\n",
    "    Sum(\n",
    "        Product(\n",
    "            Number(3),\n",
    "            Power(Variable(\"x\"), Number(2))\n",
    "        ),\n",
    "        Variable('x')\n",
    "    ),\n",
    "    Apply(Function(\"sin\"), Variable(\"x\"))\n",
    ")\n",
    "\n",
    "print(expr_f.evaluate(x=5))"
   ]
  },
  {
   "cell_type": "markdown",
   "metadata": {},
   "source": [
    "### Expanding an expression\n",
    "\n",
    "Once an algebraic expression"
   ]
  },
  {
   "cell_type": "code",
   "execution_count": null,
   "metadata": {},
   "outputs": [],
   "source": []
  }
 ],
 "metadata": {
  "kernelspec": {
   "display_name": "09-symbolic-expr-ipynb-aj16K3sY-py3.10",
   "language": "python",
   "name": "python3"
  },
  "language_info": {
   "codemirror_mode": {
    "name": "ipython",
    "version": 3
   },
   "file_extension": ".py",
   "mimetype": "text/x-python",
   "name": "python",
   "nbconvert_exporter": "python",
   "pygments_lexer": "ipython3",
   "version": "3.10.14"
  }
 },
 "nbformat": 4,
 "nbformat_minor": 2
}
