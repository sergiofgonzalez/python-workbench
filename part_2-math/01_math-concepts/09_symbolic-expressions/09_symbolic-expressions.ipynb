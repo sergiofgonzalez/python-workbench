{
 "cells": [
  {
   "cell_type": "markdown",
   "metadata": {},
   "source": [
    "# Symbolic Expressions\n",
    "\n",
    "## Contents\n",
    "\n",
    "+ Modeling algebraic expressions as data structures.\n",
    "+ Writing code to analyze, transform, or evaluate algebraic expressions.\n",
    "+ Finding the derivative of a function by manipulating the expression that defines it.\n",
    "+ Writing a Python function to compute derivative formulas.\n",
    "+ Using [SymPy](https://www.sympy.org/en/index.html) to compute integral formulas."
   ]
  },
  {
   "cell_type": "markdown",
   "metadata": {},
   "source": [
    "## Intro\n",
    "\n",
    "The previous two chapters introduces two of the most important concepts in calculus: the derivative and the integral.\n",
    "\n",
    "We saw that you can approximate the derivative of a function at a point by taking slopes of smaller and smaller secant lines. We also saw that you can approximate the integral of a function by estimating the area under the graph with skinnier and skinnier rectangles.\n",
    "\n",
    "Up until now we've worked with approximations, because we were relying on the capacity of Python running on a computer, but Calculus teaches us how to obtain exact values for the derivative and integral.\n",
    "\n",
    "For example, if $ f(x) = x^3 $, Calculus tells us that:\n",
    "\n",
    "$\n",
    "f'(x) = 3 \\cdot x^2\n",
    "$\n",
    "\n",
    "There are formulas for each type of function, that you would apply when asked for the exact derivative of a function.\n",
    "\n",
    "However, as developers, knowing the formulas is not a very interesting skill for us. Instead, we can realy on a specialized tool called *computer algebra system* to compute it for us."
   ]
  },
  {
   "cell_type": "markdown",
   "metadata": {},
   "source": [
    "## Finding an exact derivative with a computer algebra system\n",
    "\n",
    "Mathematica is one of the most popular computer algebra systems. Its engine is free only at [Wolfram Alpha](https://www.wolframalpha.com/).\n",
    "\n",
    "This site can be used to find the exact formula for a derivative.\n",
    "\n",
    "For example, when building neural networks, it's useful to know the derivative of the function:\n",
    "\n",
    "$\n",
    "\\displaystyle\n",
    "f(x) = \\frac{1}{1 + e^{-x}}\n",
    "$\n",
    "\n",
    "This can be easily obtained by entering that formula in Python syntax. After pressing enter, it will display several facts about the function, including its derivative:\n",
    "\n",
    "![Entering formula](pics/wolfram-alpha-input-formula.png)\n",
    "\n",
    "![Derivative and Integral](pics/wolfram-alpha-derivative-integral.png)"
   ]
  },
  {
   "cell_type": "markdown",
   "metadata": {},
   "source": [
    "Mathematica does not rely on the approximations we've worked on the previous chapters. Instead, Wolfram Alpha interprets the formula you've typed in, transforms it with some algebraic manipulations, and outputs a new formula.\n",
    "\n",
    "This is called **symbolic programming**."
   ]
  },
  {
   "cell_type": "markdown",
   "metadata": {},
   "source": [
    "### Doing symbolic algebra in Python\n",
    "\n",
    "Let's start by illustrating how we will be representing and manipulating formulas in Python.\n",
    "\n",
    "Let's assume we have a mathematical function like:\n",
    "\n",
    "$\n",
    "f(x) = (3 x^2  + x) \\cdot sin(x)\n",
    "$\n",
    "\n",
    "We already know that the best way to represent the formula in order to evaluate it would be:\n",
    "\n",
    "```python\n",
    "from math import sin\n",
    "\n",
    "def f(x):\n",
    "  return (2 * x ** 2 + x) * sin(x)\n",
    "```\n",
    "\n",
    "But that representation is not helpful to learn facts about the formula, such as:\n",
    "\n",
    "+ Does the formula depend on the variable x?\n",
    "+ Does it contain a trigonometric function?\n",
    "+ Does it involve the operation of division?\n",
    "\n",
    "While we can really easily answer those questions just by looking at the function, the Python representation used to get the function values wouldn't help.\n",
    "\n",
    "For example, it'd be very difficult to write a function `contains_division(f)` that returns true if it uses the operation division in its definition."
   ]
  },
  {
   "cell_type": "markdown",
   "metadata": {},
   "source": [
    "Thus, we need to find another way to represent the function. We need another way to express the function that would tell us what operations are being applied and in what order.\n",
    "\n",
    "For instance, the function $ f(x) $ above is a product of $ sin(x) $ with a sum. We also know that there's a well-known algebraic process for expanding the function definition:\n",
    "\n",
    "$\n",
    "f(x) = (3 x^2  + x) \\cdot sin(x) = 3 x^2 \\cdot sin(x) + x \\cdot sin(x)\n",
    "$\n",
    "\n",
    "The new way to represent the formula should let us apply those rules as well.\n",
    "\n",
    "In summary, we need to *model algebraic expressions as data structures* so that we can manipulate them symbolically, and therefore automate the rules of calculus."
   ]
  },
  {
   "cell_type": "markdown",
   "metadata": {},
   "source": [
    "Once we have that, we will be able to calculate derivatives.\n",
    "\n",
    "Most functions expressed by simple formulas also have simple formulas for their derivatives. For example, if $ f(x) = x^3 $, $ f'(x) = 3 \\cdot x^2 $.\n",
    "\n",
    "That means that the derivative of $ x^3 $ at any value of $ x $ is $ 3 \\cdot x^2 $.\n",
    "\n",
    "Another requirement for our data structures is that we will have to be able to calculate the derivative or any given algebraic expression.\n",
    "\n",
    "At the minimum, we will need to represent variables, numbers, sums, differences, products, quotients, powers, and functions such as sine and cosine and take the derivatives of them."
   ]
  },
  {
   "cell_type": "markdown",
   "metadata": {},
   "source": [
    "## Modeling algebraic expressions\n",
    "\n",
    "Let's develop our intuition around how we can break an algebraic expression such as $ f(x) = (3 \\cdot x^2 + x) \\cdot sin(x) $.\n",
    "\n",
    "It contains the following building blocks we should model:\n",
    "+ a variable $ x $\n",
    "+ numbers ($ 3 $)\n",
    "+ operations: addition, multiplication, power\n",
    "+ a named function: $ sin(x) $\n",
    "\n",
    "The goal is to translate it into a Python data structure we can work with.\n",
    "\n",
    "The first observation is that $ f $ is an arbitrary name. The right hand side will evaluate the same whether the function is called $ f $, $ g $, or $ h $.\n",
    "\n",
    "As a result, we should be focusing on the right hand side of the function definition, which is called an expression:\n",
    "> An expression is a collection of mathematical symbols combined in some valid ways."
   ]
  },
  {
   "cell_type": "markdown",
   "metadata": {},
   "source": [
    "### Breaking an expression into pieces\n",
    "\n",
    "The way in which we can model algebraic expressions such as $ (3 \\cdot x^2 + x) \\cdot sin(x) $ is to break them into smaller expressions.\n",
    "\n",
    "There is only one meaningful way to break up the expressions $ (3  \\cdot x^2 + x) \\cdot sin(x) $. Namely, it's the product of $ (3 \\cdot x^2 + x) $ and $ sin(x) $.\n",
    "\n",
    "Other ways of breaking up the expression will end up in something we can't make sense of according to mathematical rules:\n",
    "\n",
    "![Breaking up expressions](pics/breaking_expressions.png)"
   ]
  },
  {
   "cell_type": "markdown",
   "metadata": {},
   "source": [
    "If we apply the same strategy to the expression $ 3 \\cdot x^2 + x $ we will see that it can be broken down as:\n",
    "\n",
    "![expression tree](pics/expression_tree.png)\n",
    "\n",
    "If we inspect the approach we see that we take:\n",
    "+ operations &mdash; ways to take two or more algebraic expressions and stick them together side by side to make a new, bigger algebraic expression.\n",
    "+ operators &mdash; valid places to break up an existing algebraic expression into smaller ones.\n"
   ]
  },
  {
   "cell_type": "markdown",
   "metadata": {},
   "source": [
    "In the terminology of functional programming, functions combining smaller objects into bigger ones like this are often called *combinators*.\n",
    "\n",
    "Some of the combinators we've used in the expression above are:\n",
    "+ $ 3 \\cdot x^2 $ is the product of the expression 3 and $ x^2 $\n",
    "+ $ x^2 $ is a power: one expression $ x $ raise to the power of another expression $ 2 $.\n",
    "+ $ sin(x) $ is a *function application*. Given the expression $ sin $ and the expression $ x $, we can build a new expression $ sin(x) $."
   ]
  },
  {
   "cell_type": "markdown",
   "metadata": {},
   "source": [
    "By contrast, a variable $ x $, a number $ 2 $, or a function named $ sin $ cannot be broken down further, and we call them *elements*."
   ]
  },
  {
   "cell_type": "markdown",
   "metadata": {},
   "source": [
    "### Building an expression tree\n",
    "\n",
    "Let's focus on the expression $ (3 \\cdot x^2 + x) \\cdot sin(x) $. The elements $ 3 $, $ x $, $ 2 $, and $ sin $, along with the combinators $ adding $, $ multiplying $, $ \\text{raising to a power} $, and $ \\text{applying a function} $ are sufficient to rebuild the whole expression.\n",
    "\n",
    "One of the first sub-expressions we can put together is $ x^2 $, which combines $ x $ and $ 2 $ with the $ power $ combinator. We can picture it as below:\n",
    "\n",
    "![Subexpression 1](pics/subexpression_1.png)\n",
    "\n",
    "Note how the subexpression is represented as a tree with the combinator at the root, and leaves $ x $ and $ 2 $."
   ]
  },
  {
   "cell_type": "markdown",
   "metadata": {},
   "source": [
    "A good next step would be to represent $ 3 \\cdot x^2 $, which we could also represent visually as below:\n",
    "\n",
    "![Subexpression 2](pics/subexpression_2.png)\n",
    "\n",
    "Note how it still has the aspect of a tree, and that the left leave of the $ Product $ combinator is itself the previous tree that represented $ x^2 $."
   ]
  },
  {
   "cell_type": "markdown",
   "metadata": {},
   "source": [
    "We can add one more layer to the tree to represent the $ 3 \\cdot x^2 + x $ expression:\n",
    "\n",
    "![Subexpression 3](pics/subexpression_3.png)"
   ]
  },
  {
   "cell_type": "markdown",
   "metadata": {},
   "source": [
    "Finally, we can represent the whole $ (3 \\cdot x^2 + x) \\cdot sin(x) $ by introducing the $ Apply $ combinator and the known $ Product $ combinator:\n",
    "\n",
    "![Subexpression 4](pics/subexpression_4.png)\n",
    "\n",
    "![Final expression](pics/expression.png)"
   ]
  },
  {
   "cell_type": "markdown",
   "metadata": {},
   "source": [
    "Note how the tree reveals the structure of the algebraic expression. The root of the tree is the $ Product $ combinator, with two branches coming out of it: $ Sum $ and $ Apply $. \n",
    "\n",
    "Each combinator appearing further down the tree adds additional branches until you reach the elements that are leaves and have no branches. And all we have used are numbers, variables, named functions and operations (as combinators)."
   ]
  },
  {
   "cell_type": "markdown",
   "metadata": {},
   "source": [
    "### Translating the expression tree to Python\n",
    "\n",
    "We can use Python classes to represent each kind of element and each kind of combinator. As we go along, we will be revising their implementation to give them more and more functionality.\n",
    "\n",
    "The idea is to model combinators as containers that hold their required inputs. For example, to model the $ Power $ combinator, we can do:\n",
    "\n",
    "```python\n",
    "class Power():\n",
    "    def __init__(self, base, exponent):\n",
    "        self.base = base\n",
    "        self.exponent = exponent\n",
    "```\n",
    "\n",
    "That would allow us to write `Power(\"x\", 2)`, but because we're dealing with symbolic expressions, it's even better to define special container classes for variables and numbers:\n",
    "\n",
    "```python\n",
    "class Number():\n",
    "    def __init__(self, number):\n",
    "        self.number = number\n",
    "\n",
    "class Variable():\n",
    "    def __init__(self, symbol):\n",
    "        self.symbol = symbol\n",
    "```\n",
    "\n",
    "The will let us represent $ x^2 $ in Python as `Power(Variable(\"x\"), Number(2))`."
   ]
  },
  {
   "cell_type": "markdown",
   "metadata": {},
   "source": [
    "It is easy now to extend the previous approach to represent the $ Product $ operation:\n",
    "\n",
    "```python\n",
    "class Product():\n",
    "    def __init__(self, expr1, expr2):\n",
    "        self.expr1 = expr1\n",
    "        self.expr2 = expr2\n",
    "```\n",
    "\n",
    "So that $ 3 \\cdot x^2 $ can now be written as:\n",
    "\n",
    "```python\n",
    "Product(Number(3), Power(Variable(\"x\"), Number(2)))\n",
    "```"
   ]
  },
  {
   "cell_type": "markdown",
   "metadata": {},
   "source": [
    "We can now define the rest of combinators:\n",
    "\n",
    "```python\n",
    "class Sum():\n",
    "    def __init__(self, *exprs):\n",
    "        self.exprs = exprs\n",
    "\n",
    "class Function():\n",
    "    def __init__(self, name):\n",
    "        self.name = name\n",
    "\n",
    "class Apply()\n",
    "    def __init__(self, function, argument):\n",
    "        self.function = function\n",
    "        self.argument = argument\n",
    "```\n",
    "\n",
    "With those elements in place, we can faithfully represent the expression $ (3 \\cdot x^2 + x) \\cdot sin(x) $:\n",
    "\n",
    "```python\n",
    "expr = Product(\n",
    "    Sum(\n",
    "        Product(\n",
    "            Number(3),\n",
    "            Power(Variable(\"x\"), Number(2))\n",
    "        ),\n",
    "        Variable(\"x\")\n",
    "    ),\n",
    "    Apply(\n",
    "        Function(\"sin\"),\n",
    "        Variable(\"x\")\n",
    "    )\n",
    ")\n",
    "```\n",
    "\n",
    "By faithfully, we mean that we can have a look at the Python object and understand that it described the algebraic expression $ (3 \\cdot x^2 + x) \\cdot sin(x) $ and no other."
   ]
  },
  {
   "cell_type": "markdown",
   "metadata": {},
   "source": [
    "We started from an algebraic expression and built a Python object that uniquely and unequivocally.\n",
    "\n",
    "We can also follow the opposite journey: start from a Python object and get to the algebraic expression it represents:\n",
    "\n",
    "```python\n",
    "Apply(Function(\"cos\"),Sum(Power(Variable(\"x\"),Number(\"3\")), Number(−5)))\n",
    "```\n",
    "\n",
    "This represents the expression:\n",
    "\n",
    "$\n",
    "cos(x^3 - 5)\n",
    "$"
   ]
  },
  {
   "cell_type": "markdown",
   "metadata": {},
   "source": [
    "### Exercise\n",
    "\n",
    "The natural algorithm, a special mathematical function, is written as $ ln(x) $.\n",
    "Draw the expression $ ln(yz) $ as an expression tree built from the elements and combinators introduced in the previous section.\n",
    "\n"
   ]
  },
  {
   "cell_type": "markdown",
   "metadata": {},
   "source": [
    "The tree can be displayed as:\n",
    "\n",
    "![ln(yz) expr](pics/expr_lnyz.png)\n",
    "\n",
    "The equivalent Python object will be:\n",
    "\n",
    "```python\n",
    "Apply(\n",
    "    \"ln\",\n",
    "    Product(\n",
    "        Variable(\"y\"),\n",
    "        Variable(\"z\")\n",
    "    )\n",
    ")\n",
    "```\n"
   ]
  },
  {
   "cell_type": "markdown",
   "metadata": {},
   "source": [
    "### Exercise\n",
    "\n",
    "Consider the mathematical expression $ ln(y^z) $. Draw the expression tree.\n",
    "\n",
    "Then, translate the expression into Python code, given that the natural algorithm is calculated by the Python function `math.log`. Write it as a Python object using the classes defined in the previous exercise."
   ]
  },
  {
   "cell_type": "markdown",
   "metadata": {},
   "source": [
    "The expression tree is the following:\n",
    "\n",
    "![ln(y^z)](pics/expr_ln_y_power_z.png)"
   ]
  },
  {
   "cell_type": "markdown",
   "metadata": {},
   "source": [
    "The Python function can be defined as follows:"
   ]
  },
  {
   "cell_type": "code",
   "execution_count": 2,
   "metadata": {},
   "outputs": [
    {
     "name": "stdout",
     "output_type": "stream",
     "text": [
      "2.0794415416798357\n",
      "2.0794415416798357\n"
     ]
    }
   ],
   "source": [
    "import math\n",
    "\n",
    "def fn(y, z):\n",
    "    return math.log(y ** z)\n",
    "\n",
    "print(fn(2, 3))\n",
    "print(math.log(8))"
   ]
  },
  {
   "cell_type": "markdown",
   "metadata": {},
   "source": [
    "And the expression tree using the classes defined above is:\n",
    "\n",
    "```python\n",
    "Apply(\n",
    "    Function(\"ln\"),\n",
    "    Power(\n",
    "        Variable(\"y\"),\n",
    "        Variable(\"z\")\n",
    "    )\n",
    ")\n",
    "```"
   ]
  },
  {
   "cell_type": "markdown",
   "metadata": {},
   "source": [
    "### Exercise\n",
    "\n",
    "What is the expression represented by `Product(Number(3), Sum(Variable(\"y\"), Variable(\"z\")))`?"
   ]
  },
  {
   "cell_type": "markdown",
   "metadata": {},
   "source": [
    "The Python expression above is equivalent to the mathematical expression:\n",
    "\n",
    "$\n",
    "3 \\cdot (y + z)\n",
    "$\n",
    "\n",
    "Note that the parentheses are not required in the Python expression but needed in the equivalent mathematical expression because $ \\cdot $ has greater precedence than $ + $."
   ]
  },
  {
   "cell_type": "markdown",
   "metadata": {},
   "source": [
    "### Exercise\n",
    "\n",
    "Implement a `Quotient` combination representing one expression divided by another. How do you represent the following expression?\n",
    "\n",
    "$$\n",
    "\\frac{a + b}{2}\n",
    "$$"
   ]
  },
  {
   "cell_type": "markdown",
   "metadata": {},
   "source": [
    "We can follow the same approach we used for other binary combinators:\n",
    "\n",
    "```python\n",
    "class Quotient():\n",
    "    def __init__(self, numerator_expr, denominator_expr):\n",
    "        self.numerator_expr = numerator_expr\n",
    "        self.denominator_expr = denominator_expr\n",
    "```\n",
    "\n",
    "Then we can write:\n",
    "\n",
    "```python\n",
    "Quotient(\n",
    "    Sum(\n",
    "        Variable(\"a\"),\n",
    "        Variable(\"b\")\n",
    "    ),\n",
    "    Number(2)\n",
    ")\n",
    "```"
   ]
  },
  {
   "cell_type": "markdown",
   "metadata": {},
   "source": [
    "### Exercise\n",
    "\n",
    "Implement a `Difference` combinator representing one expression subtracted from another. How can you represent the expression $ b^2 - 4ac $?"
   ]
  },
  {
   "cell_type": "markdown",
   "metadata": {},
   "source": [
    "We can follow the same approach used for the other binary combinators:\n",
    "\n",
    "```python\n",
    "class Difference:\n",
    "    def __init__(self, expr1, expr2):\n",
    "        self.expr1 = expr1\n",
    "        self.expr2 = expr2\n",
    "```\n",
    "\n",
    "Then, the given expression can be written as:\n",
    "\n",
    "```python\n",
    "Difference(\n",
    "    Power(\n",
    "        Variable(\"b\"),\n",
    "        Number(2)\n",
    "    ),\n",
    "    Product(\n",
    "        Number(4),\n",
    "        Product(\n",
    "            Variable(\"a\"),\n",
    "            Variable(\"c\")\n",
    "        )\n",
    "    )\n",
    ")\n",
    "```"
   ]
  },
  {
   "cell_type": "markdown",
   "metadata": {},
   "source": [
    "### Exercise\n",
    "\n",
    "Implement a `Negative` combinator representing the negation of an expression. For example, the negation of $ x^2 + y $ is $ -(x^2 +  y) $. Represent the latter expression using your new combinator."
   ]
  },
  {
   "cell_type": "markdown",
   "metadata": {},
   "source": [
    "This time we are dealing with a *unary* combinator, but the approach is similar:\n",
    "\n",
    "```python\n",
    "class Negative:\n",
    "    def __init__(self, expr):\n",
    "        self.expr = expr\n",
    "```\n",
    "\n",
    "And the representation will be:\n",
    "\n",
    "```python\n",
    "Negative(\n",
    "    Sum(\n",
    "        Power(\n",
    "            Variable(\"x\"),\n",
    "            Number(2)\n",
    "        ),\n",
    "        Variable(\"y\")\n",
    "    )\n",
    ")\n",
    "```"
   ]
  },
  {
   "cell_type": "markdown",
   "metadata": {},
   "source": [
    "### Exercise\n",
    "\n",
    "Add a function called `Sqrt` that represents a square root and use it to encode the following formula:\n",
    "\n",
    "$$\n",
    "\\frac{-b \\pm \\sqrt{b^2 - 4ac}}{2a}\n",
    "$$"
   ]
  },
  {
   "cell_type": "markdown",
   "metadata": {},
   "source": [
    "We can define the `Sqrt` function in the same way we define the `sin`:\n",
    "\n",
    "```python\n",
    "Sqrt = Function(\"sqrt\")\n",
    "```\n",
    "\n",
    "Then the expression can be defined as:\n",
    "\n",
    "```python\n",
    "Quotient(\n",
    "    Sum(\n",
    "        Negative(Variable(\"b\")),\n",
    "        Apply(\n",
    "            Sqrt,\n",
    "            Difference(\n",
    "                Power(\n",
    "                    Variable(\"b\"),\n",
    "                    Number(2)\n",
    "                ),\n",
    "                Product(\n",
    "                    Number(4),\n",
    "                    Product(\n",
    "                        Variable(\"a\"),\n",
    "                        Variable(\"c\")\n",
    "                    )\n",
    "                )\n",
    "            )\n",
    "        )\n",
    "    ),\n",
    "    Product(\n",
    "        Number(2),\n",
    "        Variable(\"a\")\n",
    "    )\n",
    ")\n",
    "```"
   ]
  },
  {
   "cell_type": "markdown",
   "metadata": {},
   "source": [
    "### Exercise\n",
    "\n",
    "Create an abstract base class called `Expression` and make all of the elements and combinators inherit from it.\n",
    "\n",
    "Then overload the Python arithmetic operations (`+`, `-`, `*`, and `/`) so that they produce `Expression` objects.\n",
    "\n",
    "After the change, the code `2 * Variable(\"x\") + 3` should yield `Sum(Product(Number(2), Variable(\"x\")), Number(3))`."
   ]
  },
  {
   "cell_type": "markdown",
   "metadata": {},
   "source": [
    "## Putting a symbolic expression to work\n",
    "\n",
    "For the function $ f(x) = (3x^2 + x) \\cdot sin(x) $ we wrote a Python function that computes it:"
   ]
  },
  {
   "cell_type": "code",
   "execution_count": 2,
   "metadata": {},
   "outputs": [
    {
     "data": {
      "text/plain": [
       "3.365883939231586"
      ]
     },
     "execution_count": 2,
     "metadata": {},
     "output_type": "execute_result"
    }
   ],
   "source": [
    "from math import sin\n",
    "\n",
    "\n",
    "def f(x):\n",
    "    return (3 * x ** 2 + x) * sin(x)\n",
    "\n",
    "f(1)"
   ]
  },
  {
   "cell_type": "markdown",
   "metadata": {},
   "source": [
    "This representation is only good for returning an output value given an input value $ x $ and nothing more &mdash; it won't be easy to expand it algebraically, check whether the function contains trigonometric functions, etc.\n",
    "\n",
    "Alternatively, we've seen that we can define classes to translate the function $ f(x) = (3x^2 + x) \\cdot sin(x) $ into a Python data structure built from elements and combinators. That representation will let us answer those questions."
   ]
  },
  {
   "cell_type": "markdown",
   "metadata": {},
   "source": [
    "### Finding all the variables in an expression\n",
    "\n",
    "Let's start by writing a function that takes an expression and returns a list of distinct variables that appear in it.\n",
    "\n",
    "For example $ h(z) = 2z + 3 $ is defined using $ z $, while $ g(x) = 7 $ contains no variables.\n",
    "\n",
    "Let's write a function `distinct_variables` that takes an expression and returns a Python set containing the variables.\n",
    "\n",
    "Thus, we expect the following results:\n",
    "\n",
    "```python\n",
    "distinct_variables(Variable(\"z\"))\n",
    "{'z'}\n",
    "\n",
    "distinct_variables(Number(3))\n",
    "set()\n",
    "```"
   ]
  },
  {
   "cell_type": "markdown",
   "metadata": {},
   "source": [
    "While it is easy for the human eye to identify that in an expression $ y \\cdot z + x^z $ the variables are $ x $, $ y $, and $ z $, it's quite tricky to come up with an algorithm that does so.\n",
    "\n",
    "We could use a recursive solution for the implementation of `distinct_variables`:\n",
    "\n",
    "```python\n",
    "\"\"\"Utility functions for symbolic expressions.\"\"\"\n",
    "\n",
    "from symexpr.expressions import (\n",
    "    Apply,\n",
    "    Difference,\n",
    "    Expression,\n",
    "    Negative,\n",
    "    Number,\n",
    "    Power,\n",
    "    Product,\n",
    "    Quotient,\n",
    "    Sum,\n",
    "    Variable,\n",
    ")\n",
    "\n",
    "\n",
    "def distinct_variables(expr: Expression) -> set[str]:\n",
    "    if isinstance(expr, Variable):\n",
    "        return set(expr.name)\n",
    "    elif isinstance(expr, Number):\n",
    "        return set()\n",
    "    elif isinstance(expr, Sum):\n",
    "        return set().union(\n",
    "            distinct_variables(expr.left), distinct_variables(expr.right)\n",
    "        )\n",
    "    elif isinstance(expr, Difference):\n",
    "        return set().union(\n",
    "            distinct_variables(expr.left), distinct_variables(expr.right)\n",
    "        )\n",
    "    elif isinstance(expr, Product):\n",
    "        return set().union(\n",
    "            distinct_variables(expr.left), distinct_variables(expr.right)\n",
    "        )\n",
    "    elif isinstance(expr, Quotient):\n",
    "        return distinct_variables(expr.numerator).union(\n",
    "            distinct_variables(expr.denominator)\n",
    "        )\n",
    "    elif isinstance(expr, Power):\n",
    "        return distinct_variables(expr.base).union(\n",
    "            distinct_variables(expr.exponent)\n",
    "        )\n",
    "    elif isinstance(expr, Negative):\n",
    "        return distinct_variables(expr.expr)\n",
    "    elif isinstance(expr, Apply):\n",
    "        return distinct_variables(expr.expr)\n",
    "    else:\n",
    "        raise TypeError(f\"Unknown expression type: {type(expr)}\")\n",
    "```"
   ]
  },
  {
   "cell_type": "markdown",
   "metadata": {},
   "source": [
    "While the implementation looks hairy, it works!\n",
    "\n",
    "It's actually a recursive traversal of the expression tree. By the time this function compleltes, it has called `distinct_variables` on every expression contained in the target expression, which are all of the nodes in the tree.\n",
    "\n",
    "That ensures that we see every variable and that we get the correct answers that we expect."
   ]
  },
  {
   "cell_type": "markdown",
   "metadata": {},
   "source": [
    "### Evaluating an expression\n",
    "\n",
    "It turns out that the tree representation of an expression can also be used to evaluate $ f(x) $ as well, although it requires a little more work. By contrast, implementing a function such as `distinct_variables` using the `def f(x)` representation of the function would be almost impossible."
   ]
  },
  {
   "cell_type": "markdown",
   "metadata": {},
   "source": [
    "Mechanically, evaluating a function $ f(x) $ at $ x = 5 $ means plugging in the value of 5 for $ x $ everywhere and then doing the arithmetic to find the result.\n",
    "\n",
    "For example, if $ f(x) = x $, plugging in $ x = 5 $ should tell us $ f(5) = 5 $. Another simple example, $ g(x) = 7 $, plugging in $ x = 5 $ should tell us $ g(5) = 7 $.\n",
    "\n",
    "The code to evaluate the expression in the tree is similar to the code we just wrote for finding the variables. The only difference is that we need to evaluate each subexpression, then the combinators will tell us how to combine the result to get the value of the whole expression."
   ]
  },
  {
   "cell_type": "markdown",
   "metadata": {},
   "source": [
    "The starting data we need is:\n",
    "+ What values to plug in\n",
    "+ What variables these replace\n",
    "\n",
    "For example, an expression such as $ z(x, y) = 2xy^3 $ will need two values to get a result, as in $ x = 3 $, and $ y = 2 $. In Computer Science these are called *variable bindings*.\n",
    "\n",
    "When those bindings are established, we can say $ z(3, 2) = 48 $, and the way to evaluate it would be to traverse the tree, returning the result of the evaluation taking into account the given *variable bindings*:\n",
    "\n",
    "![Evaluating the tree](pics/evaluating_tree.png)\n",
    "\n",
    "Note how the tree traversal effectively visits all nodes collecting pieces of the evaluation that are finally considered for the final evaluation.\n",
    "\n",
    "While we could create an `utils` function such as `distinct_variables`, this time we will instead make all the `Expression` classes implement an `evaluate` method that will allow us to distribute the responsibilities of the evaluation to the corresponding element and combinator classes.\n",
    "\n",
    "```python\n",
    "from abc import ABC, abstractmethod\n",
    "\n",
    "\n",
    "class Expression(ABC):\n",
    "\n",
    "    @abstractmethod\n",
    "    def evaluate(self, **bindings):\n",
    "        pass\n",
    "```\n",
    "\n",
    "See that we decided that the user should pass the *variable bindings* using `*kargs*` as in:\n",
    "\n",
    "```python\n",
    "z.evaluate(x=3, y=2)\n",
    "```"
   ]
  },
  {
   "cell_type": "markdown",
   "metadata": {},
   "source": [
    "With the `evaluate()` signature in place, we can start implementing the function on each and every class in the hierarchy.\n",
    "\n",
    "Variables and numbers are trivial:\n",
    "\n",
    "```python\n",
    "class Variable(Expression):\n",
    "    ...\n",
    "    def evaluate(self, **bindings):\n",
    "        try:\n",
    "            return bindings[self.name]\n",
    "        except KeyError as e:\n",
    "            raise KeyError(f\"Variable {self.name!r} not bound.\")\n",
    "\n",
    "    ...\n",
    "\n",
    "class Number(Expression):\n",
    "    ...\n",
    "\n",
    "    def evaluate(self, **bindings):\n",
    "        return self.value\n",
    "```"
   ]
  },
  {
   "cell_type": "markdown",
   "metadata": {},
   "source": [
    "Now we can start implementing the `evaluate()` function in our combinators. Note that we will need to keep `Function` out of our `Expression` hierarchy class, because a function like *sine* is not a standalone expression. It will be used instead to validate that the user relies only on a few well-known functions such as `sqrt`, `sin`, `cos`, etc.\n",
    "\n",
    "```python\n",
    "# note that it doesn't extend `Expression` base class\n",
    "class Function():\n",
    "    ...\n",
    "```\n",
    "\n",
    "A function will only be able to be evaluated in the context of an `Apply` combinator. Which we will implement by calling the function:\n",
    "```python\n",
    "_well_known_function_bindings = {\n",
    "    \"sin\": math.sin,\n",
    "    \"cos\": math.cos,\n",
    "    \"tan\": math.tan,\n",
    "    \"log\": math.log,\n",
    "    \"sqrt\": math.sqrt,\n",
    "}\n",
    "\n",
    "class Apply(Expression):\n",
    "\n",
    "    def __init__(self, function: Function, argument: Expression):\n",
    "        self.function = function\n",
    "        self.argument = argument\n",
    "\n",
    "    def evaluate(self, **bindings):\n",
    "        return _well_known_function_bindings[self.function.name](\n",
    "            self.argument.evaluate(**bindings)\n",
    "        )\n",
    "```"
   ]
  },
  {
   "cell_type": "markdown",
   "metadata": {},
   "source": [
    "The rest of the combinators will follow the same approach:\n",
    "+ evaluate the corresponding expression(s) involved\n",
    "+ apply the corresponding operation (sum, subtract, negate, ...)\n",
    "\n",
    "For example, the `Product` will be implemented as:\n",
    "\n",
    "```python\n",
    "class Product(Expression):\n",
    "\n",
    "    def __init__(self, left: Expression, right: Expression):\n",
    "        self.left = left\n",
    "        self.right = right\n",
    "\n",
    "    def evaluate(self, **bindings):\n",
    "        return self.left.evaluate(**bindings) * self.right.evaluate(**bindings)\n",
    "```\n",
    "\n",
    "After that we will be able to evaluate expressions in the same way we'd do with regular Python functions:"
   ]
  },
  {
   "cell_type": "code",
   "execution_count": 1,
   "metadata": {},
   "outputs": [
    {
     "data": {
      "text/plain": [
       "-76.71394197305108"
      ]
     },
     "execution_count": 1,
     "metadata": {},
     "output_type": "execute_result"
    }
   ],
   "source": [
    "from math import sin\n",
    "\n",
    "def f(x):\n",
    "    return (3 * x ** 2 + x) * sin(x)\n",
    "\n",
    "f(5)"
   ]
  },
  {
   "cell_type": "code",
   "execution_count": 4,
   "metadata": {},
   "outputs": [
    {
     "name": "stdout",
     "output_type": "stream",
     "text": [
      "-76.71394197305108\n"
     ]
    }
   ],
   "source": [
    "from symexpr import Product, Sum, Power, Variable, Function, Apply, Number\n",
    "\n",
    "expr_f = Product(\n",
    "    Sum(\n",
    "        Product(\n",
    "            Number(3),\n",
    "            Power(Variable(\"x\"), Number(2))\n",
    "        ),\n",
    "        Variable('x')\n",
    "    ),\n",
    "    Apply(Function(\"sin\"), Variable(\"x\"))\n",
    ")\n",
    "\n",
    "print(expr_f.evaluate(x=5))"
   ]
  },
  {
   "cell_type": "markdown",
   "metadata": {},
   "source": [
    "### Expanding an expression\n",
    "\n",
    "Once an algebraic expression is represented as a tree it is easy to operate with it as a mathematical expression and do things such as expanding it.\n",
    "\n",
    "By expanding an expression we mean taking any product or power of sums and carrying it out, and the relevant rule of algebra for that is the distributive property of sums and products:\n",
    "\n",
    "$\n",
    "(a + b) \\cdot c = ac + bc\n",
    "$\n",
    "\n",
    "For instance, for the expression:\n",
    "\n",
    "$\n",
    "(3x^2 + x) \\cdot sin(x) = 3x^2 \\cdot sin(x) + x \\cdot sin(x)\n",
    "$"
   ]
  },
  {
   "cell_type": "markdown",
   "metadata": {},
   "source": [
    "Things can get more complicated in expressions such as the following, in which you need to apply the property several times\n",
    "\n",
    "$\n",
    "(x + y)^3 = (x + y) \\cdot (x + y) \\cdot (x + y) \\\\\n",
    "= x \\cdot [(x + y) \\cdot (x + y)] + y \\cdot [(x + y) \\cdot (x + y)] \\\\\n",
    "= x \\cdot [x \\cdot (x + y) + y \\cdot (x + y)] + y \\cdot [x \\cdot (x + y) + y \\cdot (x + y)] \\\\\n",
    "= x \\cdot (x^2 + xy + xy + y^2) + y \\cdot (x^2 + xy + xy + y^2) \\\\\n",
    "= x^3 + 2x^2y + x y^2 + x^2y + 2xy^2 + y^3 \\\\\n",
    "= x^3 + y^3 + 3x^2y + 3xy^2\n",
    "$"
   ]
  },
  {
   "cell_type": "markdown",
   "metadata": {},
   "source": [
    "Note that it took a lot of writing and applying expansion, simplification, and the rewriting of some products (such as combining $xyx$ as $x^2y$, because order does not matter in multiplication).\n",
    "\n",
    "In the following example though, we will only look at the expansion, not at the simplification."
   ]
  },
  {
   "cell_type": "markdown",
   "metadata": {},
   "source": [
    "We start by adding an abstract `expand()`  to the `Expression` class:\n",
    "\n",
    "```python\n",
    "class Expression(ABC):\n",
    "...\n",
    "    def expand(self):\n",
    "        pass\n",
    "```\n",
    "\n",
    "And then we start implementing what it means to expand for each and every concrete class.\n",
    "\n",
    "For example, if the expression is a variable or a number, it is already expanded:\n",
    "\n",
    "```python\n",
    "class Variable(Expression):\n",
    "...\n",
    "    def expand(self) -> Expression:\n",
    "        return self\n",
    "\n",
    "class Number(Expression):\n",
    "...\n",
    "    def expand(self) -> Expression:\n",
    "        return self\n",
    "```"
   ]
  },
  {
   "cell_type": "markdown",
   "metadata": {},
   "source": [
    "Sums are already considered expanded expressions, but the individual terms of a sum might need to be expanded as in $ 5 + a(x + y) $.\n",
    "\n",
    "Therefore, we can implement the expansion as follows:\n",
    "\n",
    "```python\n",
    "class Sum(Expression):\n",
    "...\n",
    "    def expand(self):\n",
    "        return Sum(self.left.expand(), self.right.expand())\n",
    "```"
   ]
  },
  {
   "cell_type": "markdown",
   "metadata": {},
   "source": [
    "Same reasoning can be used for function application &mdash; the function application itself cannot be expanded but we can expand its arguments:\n",
    "\n",
    "```python\n",
    "class Apply(Expression):\n",
    "...\n",
    "    def expand(self):\n",
    "        return Apply(self.function, self.argument.expand())\n",
    "```"
   ]
  },
  {
   "cell_type": "markdown",
   "metadata": {},
   "source": [
    "Implementing the expansion in products and powers is harder, because the structure of the expression changes completely.\n",
    "\n",
    "For example, when we expand $ a \\cdot (b + c) $, which is a product of a variable with a sum of two variables, we end up with $ ab + ac $, which is the sum of two products of two variables each.\n",
    "\n",
    "This requires the implementation to take into account three different cases:\n",
    "+ the first term of the product is a sum\n",
    "+ the second term of the product is a sum\n",
    "+ neither of the terms of the product is a sum\n",
    "\n",
    "In the latter case, no expansion will be needed:\n",
    "\n",
    "```python\n",
    "class Product(Expression):\n",
    "...\n",
    "    def expand(self) -> Expression:\n",
    "        expanded_left = self.left.expand()\n",
    "        expanded_right = self.right.expand()\n",
    "        # (a + b) * c = a * c + b * c\n",
    "        if isinstance(expanded_left, Sum):\n",
    "            return Sum(\n",
    "                Product(expanded_left.left, expanded_right).expand(),\n",
    "                Product(expanded_left.right, expanded_right).expand(),\n",
    "\n",
    "            )\n",
    "        # a * (b + c) = a * b + a * c\n",
    "        elif isinstance(expanded_right, Sum):\n",
    "            return Sum(\n",
    "               Product(expanded_left, expanded_right.left).expand(),\n",
    "               Product(expanded_left, expanded_right.right).expand(),\n",
    "            )\n",
    "        # a * b\n",
    "        else:\n",
    "            return Product(expanded_left, expanded_right)\n",
    "```\n",
    "\n",
    "This will work well to expand expressions such as $ (a + b) \\cdot (x + y) $."
   ]
  },
  {
   "cell_type": "markdown",
   "metadata": {},
   "source": [
    "### Exercise\n",
    "\n",
    "Write a function `contains(expression, variable)` that checks whether a given expression contains any occurrence of the specified variable."
   ]
  },
  {
   "cell_type": "markdown",
   "metadata": {},
   "source": [
    "The following snippet illustrates how to implement such a function:\n",
    "\n",
    "```python\n",
    "def contains(expression: Expression, variable: Variable):\n",
    "\n",
    "    if isinstance(expression, Variable):\n",
    "        return expression.name == variable.name\n",
    "    elif isinstance(expression, Number):\n",
    "        return False\n",
    "    elif isinstance(expression, Sum):\n",
    "        return contains(expression.left, variable) or contains(\n",
    "            expression.right, variable\n",
    "        )\n",
    "    elif isinstance(expression, Difference):\n",
    "        return contains(expression.left, variable) or contains(\n",
    "            expression.right, variable\n",
    "        )\n",
    "    elif isinstance(expression, Product):\n",
    "        return contains(expression.left, variable) or contains(\n",
    "            expression.right, variable\n",
    "        )\n",
    "    elif isinstance(expression, Quotient):\n",
    "        return contains(expression.numerator, variable) or contains(\n",
    "            expression.denominator, variable\n",
    "        )\n",
    "    elif isinstance(expression, Power):\n",
    "        return contains(expression.base, variable) or contains(\n",
    "            expression.exponent, variable\n",
    "        )\n",
    "    elif isinstance(expression, Negative):\n",
    "        return contains(expression.expr, variable)\n",
    "    elif isinstance(expression, Apply):\n",
    "        return contains(expression.argument, variable)\n",
    "    else:\n",
    "        raise TypeError(f\"Unknown expression type: {type(expression)}\")\n",
    "```\n",
    "\n",
    "You can find a runnable version of the snippet in [Symbolic Expressions V2](../../02_mini-projects/26-symbolic-expr-v2/)."
   ]
  },
  {
   "cell_type": "markdown",
   "metadata": {},
   "source": [
    "### Exercise\n",
    "\n",
    "Write a `distinct_functions` function that takes an expression as an argument and returns the distinct named functions (line $ sin $ or $ ln $) that appear in the expression.\n"
   ]
  },
  {
   "cell_type": "markdown",
   "metadata": {},
   "source": [
    "The solution is:\n",
    "\n",
    "```python\n",
    "def distinct_functions(expr: Expression) -> set[str]:\n",
    "    if isinstance(expr, Apply):\n",
    "        return set([expr.function.name]).union(\n",
    "            distinct_functions(expr.argument)\n",
    "        )\n",
    "    elif isinstance(expr, Number):\n",
    "        return set()\n",
    "    elif isinstance(expr, Sum):\n",
    "        return set().union(\n",
    "            distinct_functions(expr.left), distinct_functions(expr.right)\n",
    "        )\n",
    "    elif isinstance(expr, Difference):\n",
    "        return set().union(\n",
    "            distinct_functions(expr.left), distinct_functions(expr.right)\n",
    "        )\n",
    "    elif isinstance(expr, Product):\n",
    "        return set().union(\n",
    "            distinct_functions(expr.left), distinct_functions(expr.right)\n",
    "        )\n",
    "    elif isinstance(expr, Quotient):\n",
    "        return distinct_functions(expr.numerator).union(\n",
    "            distinct_functions(expr.denominator)\n",
    "        )\n",
    "    elif isinstance(expr, Power):\n",
    "        return distinct_functions(expr.base).union(\n",
    "            distinct_functions(expr.exponent)\n",
    "        )\n",
    "    elif isinstance(expr, Negative):\n",
    "        return distinct_functions(expr.expr)\n",
    "    elif isinstance(expr, Variable):\n",
    "        return set()\n",
    "    else:\n",
    "        raise TypeError(f\"Unknown expression type: {type(expr)}\")\n",
    "```\n",
    "\n",
    "Note that for the `Apply` we need to get the function name, but also the identify whether there might be additional function references in the argument of the function.\n",
    "\n",
    "You can find a runnable version of the snippet in [Symbolic Expressions V2](../../02_mini-projects/26-symbolic-expr-v2/)."
   ]
  },
  {
   "cell_type": "markdown",
   "metadata": {},
   "source": [
    "### Exercise\n",
    "\n",
    "Write a function `contains_sum` that takes an expression and returns `True` if it contains a `Sum`, and `False` otherwise."
   ]
  },
  {
   "cell_type": "markdown",
   "metadata": {},
   "source": [
    "The implementation is as follows:\n",
    "\n",
    "```python\n",
    "def contains_sum(expr: Expression) -> bool:\n",
    "    if isinstance(expr, Sum):\n",
    "        return True\n",
    "    elif isinstance(expr, Difference):\n",
    "        return contains_sum(expr.left) or contains_sum(expr.right)\n",
    "    elif isinstance(expr, Product):\n",
    "        return contains_sum(expr.left) or contains_sum(expr.right)\n",
    "    elif isinstance(expr, Quotient):\n",
    "        return contains_sum(expr.numerator) or contains_sum(expr.denominator)\n",
    "    elif isinstance(expr, Power):\n",
    "        return contains_sum(expr.base) or contains_sum(expr.exponent)\n",
    "    elif isinstance(expr, Negative):\n",
    "        return contains_sum(expr.expr)\n",
    "    elif isinstance(expr, Apply):\n",
    "        return contains_sum(expr.argument)\n",
    "    else:\n",
    "        return False\n",
    "```\n",
    "\n",
    "You can find a runnable version of the snippet in [Symbolic Expressions V2](../../02_mini-projects/26-symbolic-expr-v2/)."
   ]
  },
  {
   "cell_type": "markdown",
   "metadata": {},
   "source": [
    "### Exercise\n",
    "\n",
    "Write a `_repr_latex_` method on the `Expression` classes that returns LaTeX code representing the given expression. You should see nicely typeset renderings of your expressions in Jupyter after adding the method.\n",
    "\n",
    "Adding a `repr_latex_` method causes Jupyter to render equations nicely.\n",
    "\n",
    "The following code snippets validate that the implementation found in [Symbolic Expr V2 project](../../02_mini-projects/26-symbolic-expr-v2/) works as expected for different expressions:"
   ]
  },
  {
   "cell_type": "markdown",
   "metadata": {},
   "source": [
    "Let's start with simple expressions:"
   ]
  },
  {
   "cell_type": "code",
   "execution_count": 3,
   "metadata": {},
   "outputs": [
    {
     "data": {
      "text/latex": [
       "$ 2 $"
      ],
      "text/plain": [
       "Number(2)"
      ]
     },
     "execution_count": 3,
     "metadata": {},
     "output_type": "execute_result"
    }
   ],
   "source": [
    "from symexpr import Number\n",
    "\n",
    "Number(2)"
   ]
  },
  {
   "cell_type": "code",
   "execution_count": 4,
   "metadata": {},
   "outputs": [
    {
     "data": {
      "text/latex": [
       "$ x $"
      ],
      "text/plain": [
       "Variable(x)"
      ]
     },
     "execution_count": 4,
     "metadata": {},
     "output_type": "execute_result"
    }
   ],
   "source": [
    "from symexpr import Variable\n",
    "\n",
    "Variable(\"x\")"
   ]
  },
  {
   "cell_type": "code",
   "execution_count": 1,
   "metadata": {},
   "outputs": [
    {
     "data": {
      "text/latex": [
       "$ sin({x}) $"
      ],
      "text/plain": [
       "Apply(Function('sin'), Variable(x))"
      ]
     },
     "execution_count": 1,
     "metadata": {},
     "output_type": "execute_result"
    }
   ],
   "source": [
    "from symexpr import Function, Apply, Variable\n",
    "\n",
    "Apply(Function(\"sin\"), Variable(\"x\"))"
   ]
  },
  {
   "cell_type": "code",
   "execution_count": 2,
   "metadata": {},
   "outputs": [
    {
     "data": {
      "text/latex": [
       "$ sin({x + 2}) $"
      ],
      "text/plain": [
       "Apply(Function('sin'), Variable(x + 2))"
      ]
     },
     "execution_count": 2,
     "metadata": {},
     "output_type": "execute_result"
    }
   ],
   "source": [
    "from symexpr import Function, Apply, Variable\n",
    "\n",
    "Apply(Function(\"sin\"), Variable(\"x + 2\"))"
   ]
  },
  {
   "cell_type": "code",
   "execution_count": 3,
   "metadata": {},
   "outputs": [
    {
     "data": {
      "text/latex": [
       "$ \\sqrt({x}) $"
      ],
      "text/plain": [
       "Apply(Function('sqrt'), Variable(x))"
      ]
     },
     "execution_count": 3,
     "metadata": {},
     "output_type": "execute_result"
    }
   ],
   "source": [
    "from symexpr import Function, Apply, Variable\n",
    "\n",
    "Apply(Function(\"sqrt\"), Variable(\"x\"))"
   ]
  },
  {
   "cell_type": "code",
   "execution_count": 4,
   "metadata": {},
   "outputs": [
    {
     "data": {
      "text/latex": [
       "$ \\frac{1}{x} $"
      ],
      "text/plain": [
       "Quotient(Number(1), Variable(x))"
      ]
     },
     "execution_count": 4,
     "metadata": {},
     "output_type": "execute_result"
    }
   ],
   "source": [
    "from symexpr import Quotient, Number, Variable\n",
    "\n",
    "Quotient(Number(1), Variable(\"x\"))"
   ]
  },
  {
   "cell_type": "code",
   "execution_count": 5,
   "metadata": {},
   "outputs": [
    {
     "data": {
      "text/latex": [
       "$ 2 \\cdot x $"
      ],
      "text/plain": [
       "Product(Number(2), Variable(x))"
      ]
     },
     "execution_count": 5,
     "metadata": {},
     "output_type": "execute_result"
    }
   ],
   "source": [
    "from symexpr import Product, Number, Variable\n",
    "\n",
    "Product(Number(2), Variable(\"x\"))"
   ]
  },
  {
   "cell_type": "markdown",
   "metadata": {},
   "source": [
    "Now we can try with more complex expressions:"
   ]
  },
  {
   "cell_type": "code",
   "execution_count": 7,
   "metadata": {},
   "outputs": [
    {
     "data": {
      "text/latex": [
       "$ 3 \\cdot x^{2} + x \\cdot sin({x}) $"
      ],
      "text/plain": [
       "Product(Sum(Product(Number(3), Power(Variable(x), Number(2))), Variable(x)), Apply(Function('sin'), Variable(x)))"
      ]
     },
     "execution_count": 7,
     "metadata": {},
     "output_type": "execute_result"
    }
   ],
   "source": [
    "from symexpr import Sum, Number, Variable, Product, Function, Apply, Power\n",
    "\n",
    "# (3 * x ** 2 + x) * sin(x)\n",
    "Product(\n",
    "    Sum(\n",
    "        Product(\n",
    "            Number(3),\n",
    "            Power(Variable(\"x\"), Number(2))\n",
    "        ),\n",
    "        Variable('x')\n",
    "    ),\n",
    "    Apply(Function(\"sin\"), Variable(\"x\"))\n",
    ")"
   ]
  },
  {
   "cell_type": "markdown",
   "metadata": {},
   "source": [
    "See how the new functionality more or less works at this point, but it fails to sensibly use parenthesis when required.\n",
    "\n",
    "This would require some extra effort to interrogate the type of the expression and then explicitly use the parentheses in those cases.\n",
    "\n",
    "That is, `Product(Number(2), Variable(\"x\"))` should be rendered as `$ 2 \\cdot x $`, while `Sum(Product(Number(2), Variable(\"x\")), Variable(\"y\")) should output while `(2 \\cdot x) + y`."
   ]
  },
  {
   "cell_type": "markdown",
   "metadata": {},
   "source": [
    "### Exercise\n",
    "\n",
    "Write a method `_python_expr()` to generate the Python code representing an expression. Then, you would be able to use the `eval()` function to turn the output of that function into an executable Python function. Create a function `python_function(**bindings)` that automates the evaluation.\n",
    "\n",
    "Compare then the result of `python_function()` with the result of the `evaluate()` method.\n",
    "\n",
    "For example, `Power(Variable(\"x\"), Number(2))` which represents $ x^2 $ should produce the Python code `x ** 2`, which could be passed to `eval()`.\n",
    "\n",
    "| HINT: |\n",
    "| :---- |\n",
    "| You will need to pass the bindings to `eval`. Additionally, you will need to pass the reference to the standard library packages you might need, which is done using `global_vars = {\"math\": math}`. |"
   ]
  },
  {
   "cell_type": "markdown",
   "metadata": {},
   "source": [
    "The implementation can be found in [Symbolic Expr V2 project](../../02_mini-projects/26-symbolic-expr-v2/). The key details are:\n",
    "+ Define `_python_expr()` at the base class level as an abstract method, and implement accordingly on each concrete class.\n",
    "+ Implement `python_function()` at the base class level as:\n",
    "\n",
    "```python\n",
    "def python_function(self, **bindings):\n",
    "    global_vars = {\"math\": math}\n",
    "    return eval(self._python_expr(), global_vars, bindings)\n",
    "```\n",
    "\n",
    "Once these details are implemented, it works as expected:"
   ]
  },
  {
   "cell_type": "code",
   "execution_count": 2,
   "metadata": {},
   "outputs": [
    {
     "data": {
      "text/plain": [
       "9"
      ]
     },
     "execution_count": 2,
     "metadata": {},
     "output_type": "execute_result"
    }
   ],
   "source": [
    "from symexpr import Variable, Number, Power\n",
    "\n",
    "Power(Variable(\"x\"), Number(2)).python_function(x=3)"
   ]
  },
  {
   "cell_type": "markdown",
   "metadata": {},
   "source": [
    "## Finding the derivative of a function\n",
    "\n",
    "There is often a clean algebraic formula for the derivative of a function. For example, for $ f(x) = x^3 $, then $ f'(x) = 3x^2 $.\n",
    "\n",
    "If you know the formula for a derivative of a function $ f $, you will be able to get the measure the instantenous rate of change of $ f $ at any point without the issues associated with using small secant lines."
   ]
  },
  {
   "cell_type": "markdown",
   "metadata": {},
   "source": [
    "### Derivatives of powers\n",
    "\n",
    "Without knowing calculus, you can find the derivative of a linear function of the form $ f(x) = mx + n $. The slope of any secant line of this line, no matter how small the interval is, is the same as the slope of the line $ m $. Therefore, $ f'(x) = m $.\n",
    "\n",
    "This is consistent with our intuition about the derivative measuring the rate of change of a function: $ f(x) $ changes at a constant rate with respect to its input $ x $, so its derivative is a constant function. Also, $ n $ has no effect on the slope, and that's why it doesn't appear in the formula."
   ]
  },
  {
   "cell_type": "markdown",
   "metadata": {},
   "source": [
    "It turns out the derivative of a quadratic function is a linear function. For example, $ q(x) = x^2 $ has the derivative $ q'(x) = 2x $. This also makes sense because if you plot $ q(x) $, the slope starts negative, increases, and eventually becomes positive after $ x = 0 $.\n",
    "\n",
    "As another example, the function $ h(x) = x^3 $ has a derivative $ h'(x) = 3x^2 $.\n",
    "\n",
    "In general, if $ f(x) = a x^n $, $ f'(x) = n \\cdot a \\cdot x^{n-1} $."
   ]
  },
  {
   "cell_type": "markdown",
   "metadata": {},
   "source": [
    "Let's do that for an specific example. If we consider $ g(x) = 5x^4 $, then according to the formula above, $ g'(x) = 20x^3 $.\n",
    "\n",
    "We can confirm it by plotting side by side the function obtained using the formula along with the numerical approximation we discovered in the previous chapter:"
   ]
  },
  {
   "cell_type": "code",
   "execution_count": 1,
   "metadata": {},
   "outputs": [
    {
     "data": {
      "image/png": "[encoded data removed]",
      "text/plain": [
       "<Figure size 640x480 with 1 Axes>"
      ]
     },
     "metadata": {},
     "output_type": "display_data"
    }
   ],
   "source": [
    "import numpy as np\n",
    "import matplotlib.pyplot as plt\n",
    "from fns.fnlib import get_rate_of_change_fn\n",
    "\n",
    "def g(x):\n",
    "    \"\"\"$ g(x) = 5x^4 $\"\"\"\n",
    "    return 5 * x ** 4\n",
    "\n",
    "def g_derivative(x):\n",
    "    \"\"\"$ g(x) = 20x^3 $\"\"\"\n",
    "    return 20 * x ** 3\n",
    "\n",
    "g_derivative_approx = get_rate_of_change_fn(g)\n",
    "\n",
    "x_min = -2\n",
    "x_max = 2\n",
    "\n",
    "xs = np.linspace(x_min, x_max)\n",
    "_, ax = plt.subplots()\n",
    "ax.grid(True)\n",
    "ax.set_xlabel(\"x\")\n",
    "ax.set_ylabel(\"y\")\n",
    "ax.set_xlim(x_min - (x_max - x_min) * 0.1, x_max + (x_max - x_min) * 0.1)\n",
    "\n",
    "\n",
    "ax.plot(xs, [g(x) for x in xs], label=g.__doc__)\n",
    "ax.plot(xs, [g_derivative(x) for x in xs], label=g_derivative.__doc__)\n",
    "ax.plot(xs, [g_derivative_approx(x) for x in xs], label=\"Approximation of g'(x)\")\n",
    "\n",
    "\n",
    "ax.axhline(y=0, color=\"k\")\n",
    "ax.axvline(x=0, color=\"k\")\n",
    "\n",
    "ax.legend()\n",
    "plt.show()"
   ]
  },
  {
   "cell_type": "markdown",
   "metadata": {},
   "source": [
    "Note that a linear function like $ f(x) = mx + n $ can be also expressed in terms of powers: $ f(x) = mx^1 + n $, and thus, $ f'(x) = 1 \\cdot m \\cdot x^0 = m $."
   ]
  },
  {
   "cell_type": "markdown",
   "metadata": {},
   "source": [
    "### Derivatives of transformed functions\n",
    "\n",
    "Adding a constant to a function never changes its derivative. For example, if $ f(x) = x^{100} $, $ f'(x) = 100 \\cdot x^{99} $, and the derivative of $ x^{100} - \\pi $ is also $ 100 \\cdot x^{99} $.\n",
    "\n",
    "However, some modifications of the function have an influence in the derivative. For example, if you put a negative sign in front of a function, the graph flips upside down and so does the graph of any secant line. That is, is the slope of the secant line was $ m $, after the flip it will be $ -m $.\n",
    "\n",
    "The same turns out to be true for any constant. If you multiply $ f(x) $ by 4, the new function is four times steeper at every point, and therefore the derivative will be $ 4 \\cdot f'(x) $.\n",
    "\n",
    "When dealing with a function that adds two functions together $ h(x) = f(x) + g(x) $, the derivative will be the sum of each derivative. For example, if $ h(x) = x^2 + x^3 $, the derivative is $ 2x + 3x^2 $."
   ]
  },
  {
   "cell_type": "markdown",
   "metadata": {},
   "source": [
    "### Derivatives of some special functions\n",
    "\n",
    "Some functions cannot be written as transformed functions of simpler ones (e.g., $ sin(x) $, $ ln(x) $, etc.). For those, Calculus can be used to find its derivatives, but that is outside of the scope of this chapter.\n",
    "\n",
    "The following table illustrates the derivatives for the most common functions:\n",
    "\n",
    "| Function | Derivative |\n",
    "| :-------: | :---------: |\n",
    "| $ sin(x) $ | $ cos(x) $ |\n",
    "| $ cos(x) $ | $ -sin(x) $ |\n",
    "| $ e^x $ | $ e^x $ |\n",
    "| $ a^x $ | $ ln(a) \\cdot a^x $ |\n",
    "| $ ln(x) $ | $ \\frac{1}{x} $ |\n",
    "| $ log_a (x) $| $ \\frac{1}{ln(a) \\cdot x} $ |\n",
    "\n",
    "This table, along with the rules explained in the previous section, will allow you figure out more complicated derivatives.\n",
    "\n",
    "For example, if $ f(x) = 6x + 2 \\cdot sin(x) + 5 \\cdot e^x $, then $ f'(x) = 6 + 2 \\cdot cos(x) + 5 \\cdot e^x $."
   ]
  },
  {
   "cell_type": "markdown",
   "metadata": {},
   "source": [
    "### Derivatives of products and compositions\n",
    "\n",
    "A function like $ f(x) = x^2 \\cdot sin(x) $ can be written as a product of two other functions $ f(x) = g(x) \\cdot h(x) $.\n",
    "\n",
    "The product rule for derivatives establishes:\n",
    "\n",
    "$$\n",
    "\\displaystyle\n",
    "f'(x) = g'(x) \\cdot h(x) + g(x) \\cdot h'(x)\n",
    "$$"
   ]
  },
  {
   "cell_type": "markdown",
   "metadata": {},
   "source": [
    "We can use that formula then to calculate the derivative of $ f(x) = x^2 \\cdot sin(x) $.\n",
    "\n",
    "$ f'(x) = 2x \\cdot sin(x) + x^2 \\cdot cos(x) $"
   ]
  },
  {
   "cell_type": "markdown",
   "metadata": {},
   "source": [
    "Another important rule tells us how to take derivatives of functions that result from the composition of other functions such as $ f(x) = ln(cos(x)) $.\n",
    "\n",
    "We can write that function as $ f(x) = g(h(x)) $, where $ g(x) = ln(x) $ and $ h(x) = cos(x) $.\n",
    "\n",
    "The chain rule for composition establishes that:\n",
    "\n",
    "$$\n",
    "\\displaystyle\n",
    "f'(x) = h'(x) \\cdot g'(h(x))\n",
    "$$"
   ]
  },
  {
   "cell_type": "markdown",
   "metadata": {},
   "source": [
    "We can use the formula then to calculate the derivative of $ f(x) = ln(cos(x)) $:\n",
    "\n",
    "$ f'(x) = -sin(x) \\cdot \\frac{1}{cos(x)} = -\\frac{sin(x)}{cos(x)} = - tan(x) $"
   ]
  },
  {
   "cell_type": "markdown",
   "metadata": {},
   "source": [
    "### Exercise\n",
    "\n",
    "Show that the derivative of $ f(x) = x^5 $ is indeed $ f'(x) = 5x^4 $ by plotting the numerical derivative, alongside the symbolic derivative."
   ]
  },
  {
   "cell_type": "markdown",
   "metadata": {},
   "source": [
    "We can use the support functions we defined in `fns.fnlib`:"
   ]
  },
  {
   "cell_type": "code",
   "execution_count": 3,
   "metadata": {},
   "outputs": [
    {
     "data": {
      "image/png": "[encoded data removed]",
      "text/plain": [
       "<Figure size 640x480 with 1 Axes>"
      ]
     },
     "metadata": {},
     "output_type": "display_data"
    }
   ],
   "source": [
    "import numpy as np\n",
    "import matplotlib.pyplot as plt\n",
    "from fns.fnlib import get_rate_of_change_fn\n",
    "\n",
    "def f(x):\n",
    "    \"\"\" f(x) = x^5 \"\"\"\n",
    "    return x ** 5\n",
    "\n",
    "def f_derivative(x):\n",
    "    \"\"\"$ f'(x) = 5 \\cdot x^4 $\"\"\"\n",
    "    return 5 * x ** 4\n",
    "\n",
    "f_derivative_approx = get_rate_of_change_fn(f)\n",
    "\n",
    "x_min = -2\n",
    "x_max = 2\n",
    "\n",
    "xs = np.linspace(x_min, x_max)\n",
    "_, ax = plt.subplots()\n",
    "ax.grid(True)\n",
    "ax.set_xlabel(\"x\")\n",
    "ax.set_ylabel(\"y\")\n",
    "ax.set_xlim(x_min - (x_max - x_min) * 0.1, x_max + (x_max - x_min) * 0.1)\n",
    "\n",
    "\n",
    "ax.plot(xs, [f_derivative(x) for x in xs], label=f_derivative.__doc__)\n",
    "ax.plot(xs, [f_derivative_approx(x) for x in xs], label=\"Approximation of f'(x)\")\n",
    "\n",
    "\n",
    "ax.axhline(y=0, color=\"k\")\n",
    "ax.axvline(x=0, color=\"k\")\n",
    "\n",
    "ax.legend()\n",
    "plt.show()"
   ]
  },
  {
   "cell_type": "markdown",
   "metadata": {},
   "source": [
    "The two graphs overlap exactly."
   ]
  },
  {
   "cell_type": "markdown",
   "metadata": {},
   "source": [
    "### Exercise\n",
    "\n",
    "Think again of the functions of one variable as a vector space as we did in a previous chapter. Explain why the rules for taking derivatives mean the derivative is a linear transformation of this vector space. \n",
    "\n",
    "| NOTE: |\n",
    "| :---- |\n",
    "| You have to restrict your attention to the functions that have derivatives everywhere. |"
   ]
  },
  {
   "cell_type": "markdown",
   "metadata": {},
   "source": [
    "A linear transformation preserves linear combinations. In Mathematical terms, if $ L $ is the linear transformation, $ \\vec{u} $ and $ \\vec{v} $ are vectors of that space and $ a $, and $ b $ are scalars:\n",
    "\n",
    "$\n",
    "A(a \\cdot \\vec{u} + b \\cdot \\vec{v}) = a \\cdot A(\\vec{u}) + b \\cdot A(\\vec{v})\n",
    "$\n",
    "\n",
    "If we think of $ A $ as the derivative, and the vectors as functions, then, if $ h(x) = a \\cdot f(x) + b \\cdot g(x) $\n",
    "\n",
    "$\n",
    "h'(x) = a \\cdot f'(x) + b \\cdot g'(x)\n",
    "$\n",
    "\n",
    "which is exactly the formula we saw for the derivative of a sum of functions.\n"
   ]
  },
  {
   "cell_type": "markdown",
   "metadata": {},
   "source": [
    "### Exercise\n",
    "\n",
    "Find a formula for the derivative of a quotient $ f(x)/g(x) $."
   ]
  },
  {
   "cell_type": "markdown",
   "metadata": {},
   "source": [
    "A quotient is the same as $ f(x) \\cdot \\frac{1}{g(x)} = f(x) \\cdot g(x)^{-1} $ and we've already discussed the the product rule for derivatives:\n",
    "\n",
    "If $ h(x) = f(x) \\cdot g(x) $\n",
    "\n",
    "then\n",
    "\n",
    "$\n",
    "h'(x) = f'(x) \\cdot g(x) + f(x) + g'(x)\n",
    "$\n",
    "\n",
    "We've also talked about the chain rule:\n",
    "\n",
    "if $ f(x) = g(h(x)) $, then\n",
    "\n",
    "$\n",
    "f'(x) = g'(h(x)) \\cdot h'(x)\n",
    "$\n",
    "\n",
    "\n",
    "And the power law for derivatives:\n",
    "\n",
    "if $ f(x) = x^n $, then\n",
    "\n",
    "$\n",
    "f'(x) = n \\cdot x^{n-1}\n",
    "$\n"
   ]
  },
  {
   "cell_type": "markdown",
   "metadata": {},
   "source": [
    "We need to apply the three rules to get the formula for the derivative of a quotient.\n",
    "\n",
    "On one hand, we need to calculate, $ \\frac{d}{dx}(g(x)^{-1}) $. This needs to be written as a composition:\n",
    "\n",
    "if $ f(x) = x $, then $ g(x)^{-1} $ can be written as $ g(f(x))^{-1} $, which means that\n",
    "\n",
    "$\n",
    "(g(x)^{-1})' = -1 \\cdot g(x)^{-2} \\cdot g'(x) = \\frac{g'(x)}{g(x)^2}\n",
    "$\n",
    "\n",
    "Then, we can finally find the formula:\n",
    "\n",
    "$\n",
    "\\frac{f(x)}{g(x)} = f(x) \\cdot g(x)^{-1} \\\\\n",
    "= f'(x) \\cdot g(x)^{-1} + f(x) \\cdot (-1) \\cdot g(x)^{-2} \\cdot g'(x) \\\\\n",
    "= \\frac{f'(x)}{g(x)} - \\frac{f(x) \\cdot g'(x)}{g(x)^2} \\\\\n",
    "= \\frac{f'(x) \\cdot g(x)}{g(x)^2} - \\frac{f(x) \\cdot g'(x)}{g(x)^2} \\\\\n",
    "= \\frac{f'(x) \\cdot g(x) - f(x) \\cdot g'(x)}{g(x)^2}\n",
    "$"
   ]
  },
  {
   "cell_type": "markdown",
   "metadata": {},
   "source": [
    "### Exercise\n",
    "\n",
    "What is the derivative of $ sin(x) \\cdot cos(x) \\cdot ln(x) $?"
   ]
  },
  {
   "cell_type": "markdown",
   "metadata": {},
   "source": [
    "We've already established that if $ h(x) = f(x) \\cdot g(x) $, then $ h'(x) = f'(x) \\cdot g(x) + f(x) \\cdot g'(x) $.\n",
    "\n",
    "And we know of the associative property in products:\n",
    "\n",
    "$\n",
    "a \\cdot b \\cdot c = a \\cdot (b \\cdot c) = (a \\cdot b) \\cdot c\n",
    "$\n",
    "\n",
    "Thus, we can write:\n",
    "\n",
    "$ \n",
    "(sin(x) \\cdot cos(x) \\cdot ln(x))' \\\\\n",
    "= ((sin(x) \\cdot cos(x)) \\cdot ln(x))' \\\\\n",
    "= (sin(x) \\cdot cos(x))' \\cdot ln(x) + sin(x) \\cdot cos(x) \\cdot (ln(x))' \\\\\n",
    "= (cos(x) \\cdot cos(x) + sin(x) \\cdot - sin(x)) \\cdot ln(x) + sin(x) \\cdot cos(x) \\cdot \\frac{1}{x} \\\\\n",
    "= (cos(x)^2 - sin(x)^2) \\cdot ln(x) + \\frac{sin(x) \\cdot cos(x)}{x}\n",
    "$"
   ]
  },
  {
   "cell_type": "markdown",
   "metadata": {},
   "source": [
    "### Exercise\n",
    "\n",
    "Assume we know the derivatives of three functions $ f $, $ g $ and $ h $, which are written $ f' $, $ g' $, and $ h' $.\n",
    "\n",
    "What is the derivative of $ f(g(h(x))) $?"
   ]
  },
  {
   "cell_type": "markdown",
   "metadata": {},
   "source": [
    "Let's start inside out applying the chain rule and the other derivative rules we've already seen:\n",
    "\n",
    "$\n",
    "(g(h(x)))' = g'(h(x)) \\cdot h'(x)\n",
    "$\n",
    "\n",
    "Thus,\n",
    "\n",
    "$\n",
    "(f(g(h(x)))) = f'(g(h(x))) \\cdot (g(h(x)))' = f'(g(h(x))) \\cdot g'(h(x)) \\cdot h'(x)\n",
    "$"
   ]
  },
  {
   "cell_type": "markdown",
   "metadata": {},
   "source": [
    "## Taking derivatives automatically\n",
    "\n",
    "In the previous sections we have established a few rules for taking derivatives that would let us calculate the derivatives of a lot of possible functions.\n",
    "\n",
    "As long as the function is built from sums, products, powers, compositions, trigonometric, and exponential functions, we will be able to figure out its derivative.\n",
    "\n",
    "| Name | Formula |\n",
    "| :--- | :------ |\n",
    "| Chain rule | $ (f(g(x)))' = f'(g(x)) \\cdot g(x) $ |\n",
    "| Product rule | $ (f(x) + g(x))' = f'(x) \\cdot g(x) + f(x) \\cdot g'(x) $ |\n",
    "| Sum rule/linear combination | $ (a \\cdot f(x) + b \\cdot g(x))' = a \\cdot f'(x) + b \\cdot g'(x) $ |\n",
    "| Power rule (generic) | $ (a \\cdot f(x)^n)' = a \\cdot f(x)^{n-1} \\cdot f'(x) $ |\n",
    "| Power rule (linear) | $ (a \\cdot x^n + b)' = a \\cdot n \\cdot x^{n-1} $ |\n",
    "| Derivative of a constant | $ a' = 0 $ |\n",
    "| Derivative of sine | $ (sin(x))' = cos(x) $ |\n",
    "| Derivative of cosine | $ (cos(x))' = -sin(x) $ |\n",
    "| Derivative of exponential | $ (e^x)' = e^x $ |\n",
    "| Derivative of exponential (base $ a $) | $ (a^x)' = ln(a) \\cdot a^x $ |\n",
    "| Derivative of natural logarithm | $ \\displaystyle (ln(x))' = \\frac{1}{x} $ |\n",
    "| Derivative of base $ a $ logarithm | $ \\displaystyle (log_a(x))' = \\frac{1}{ln(a) \\cdot x} $|\n",
    "\n"
   ]
  },
  {
   "cell_type": "markdown",
   "metadata": {},
   "source": [
    "In order to implement this in our library we will need to match each case, be it either an element or a combinator, with the appropriate rule for taking its derivative. The end result should be a Python function that takes one expression and returns a new expression representing its derivative."
   ]
  },
  {
   "cell_type": "markdown",
   "metadata": {},
   "source": [
    "### Implementing a derivative method for expressions\n",
    "\n",
    "You can find the code for taking the derivative in [symexpr: v2](../../02_mini-projects/26-symbolic-expr-v2/).\n",
    "\n",
    "The idea is to define an abstract method `derivative()` at the `Expression` level and implement what it means to take the derivative in `Number`, `Variable`, `Sum`, `Product`, etc.\n",
    "\n",
    "Additionally, a placeholder variable and a dictionary with the well-known derivatives needs to be created:\n",
    "\n",
    "```python\n",
    "_var = Variable(\"placeholder variable for derivatives\")\n",
    "_well_known_derivatives = {\n",
    "    \"sin\": Apply(Function(\"cos\"), _var),\n",
    "    \"cos\": Negative(Apply(Function(\"sin\"), _var)),\n",
    "    \"ln\": Quotient(Number(1), _var),\n",
    "}\n",
    "```\n",
    "\n",
    "Finally, to be able to change the placeholder variable for the proper one, another abstract method `substitute` needs to be defined in `Expression`.\n",
    "\n",
    "With all this in place, you will be able to compute the derivatives automatically:"
   ]
  },
  {
   "cell_type": "code",
   "execution_count": 1,
   "metadata": {},
   "outputs": [
    {
     "data": {
      "text/latex": [
       "$ 3 \\cdot x^{2} + x \\cdot sin({x}) $"
      ],
      "text/plain": [
       "Product(Sum(Product(Number(3), Power(Variable(x), Number(2))), Variable(x)), Apply(Function('sin'), Variable(x)))"
      ]
     },
     "execution_count": 1,
     "metadata": {},
     "output_type": "execute_result"
    }
   ],
   "source": [
    "from symexpr import Product, Sum, Power, Variable, Function, Apply, Number\n",
    "\n",
    "expr = Product(\n",
    "        Sum(\n",
    "            Product(Number(3), Power(Variable(\"x\"), Number(2))),\n",
    "            Variable(\"x\"),\n",
    "        ),\n",
    "        Apply(Function(\"sin\"), Variable(\"x\")),\n",
    "    )\n",
    "expr"
   ]
  },
  {
   "cell_type": "code",
   "execution_count": 3,
   "metadata": {},
   "outputs": [
    {
     "data": {
      "text/latex": [
       "$ 0 \\cdot x^{2} + 3 \\cdot 2 \\cdot x^{1} \\cdot 1 + 1 \\cdot sin({x}) + 3 \\cdot x^{2} + x \\cdot 1 \\cdot cos({x}) $"
      ],
      "text/plain": [
       "Sum(Product(Sum(Sum(Product(Number(0), Power(Variable(x), Number(2))), Product(Number(3), Product(Product(Number(2), Power(Variable(x), Number(1))), Number(1)))), Number(1)), Apply(Function('sin'), Variable(x))), Product(Sum(Product(Number(3), Power(Variable(x), Number(2))), Variable(x)), Product(Number(1), Apply(Function('cos'), Variable(x)))))"
      ]
     },
     "execution_count": 3,
     "metadata": {},
     "output_type": "execute_result"
    }
   ],
   "source": [
    "from symexpr import Product, Sum, Power, Variable, Function, Apply, Number\n",
    "\n",
    "expr = Product(\n",
    "        Sum(\n",
    "            Product(Number(3), Power(Variable(\"x\"), Number(2))),\n",
    "            Variable(\"x\"),\n",
    "        ),\n",
    "        Apply(Function(\"sin\"), Variable(\"x\")),\n",
    "    )\n",
    "expr.derivative(Variable(\"x\"))"
   ]
  },
  {
   "cell_type": "markdown",
   "metadata": {},
   "source": [
    "### Exercises\n",
    "\n",
    "The code in [symexpr: v2](../../02_mini-projects/26-symbolic-expr-v2/) already handles the case where one expression making up a product is constant, meaning a product of the form $ c \\cdot f(x) $ or $ f(x) \\cdot c $ for some expression $ f(x) $. Either way, the derivative es $ f'(x) \\cdot c $. You don't need the second term of the product rule, which is $ f(x) \\cdot 0 = 0 $.\n",
    "\n",
    "Update the code taking the derivative of a product to handle this case directly, rather than expanding the product rule and including a zero term."
   ]
  },
  {
   "cell_type": "markdown",
   "metadata": {},
   "source": [
    "Before applying the change we see the following:"
   ]
  },
  {
   "cell_type": "code",
   "execution_count": 2,
   "metadata": {},
   "outputs": [
    {
     "data": {
      "text/latex": [
       "$ 0 \\cdot x + c \\cdot 1 $"
      ],
      "text/plain": [
       "Sum(Product(Number(0), Variable(x)), Product(Variable(c), Number(1)))"
      ]
     },
     "execution_count": 2,
     "metadata": {},
     "output_type": "execute_result"
    }
   ],
   "source": [
    "from symexpr import Product, Variable\n",
    "\n",
    "expr = Product(Variable(\"c\"), Variable(\"x\"))\n",
    "expr.derivative(Variable(\"x\"))\n"
   ]
  },
  {
   "cell_type": "markdown",
   "metadata": {},
   "source": [
    "After the modification, which consists in evaluating whether the left or right hand side of the expression is a number or a different variable, we get:"
   ]
  },
  {
   "cell_type": "code",
   "execution_count": 1,
   "metadata": {},
   "outputs": [
    {
     "data": {
      "text/latex": [
       "$ c \\cdot 1 $"
      ],
      "text/plain": [
       "Product(Variable(c), Number(1))"
      ]
     },
     "execution_count": 1,
     "metadata": {},
     "output_type": "execute_result"
    }
   ],
   "source": [
    "from symexpr import Product, Variable\n",
    "\n",
    "expr = Product(Variable(\"c\"), Variable(\"x\"))\n",
    "expr.derivative(Variable(\"x\"))"
   ]
  },
  {
   "cell_type": "markdown",
   "metadata": {},
   "source": [
    "### Exercise\n",
    "\n",
    "Add the square root function to the dictionary of known function and take its derivative automatically.\n",
    "\n",
    "| Hint: |\n",
    "| :---- |\n",
    "| The square root of $ x $, $ \\sqrt{x} $ is equal to $ x^{1/2} $. |"
   ]
  },
  {
   "cell_type": "markdown",
   "metadata": {},
   "source": [
    "We just need to include `\"sqrt\"` in the derivatives:\n",
    "\n",
    "```python\n",
    "_well_known_derivatives = {\n",
    "    \"sqrt\": Quotient(Number(1), Product(Number(2), Apply(Function(\"sqrt\"), _var))),\n",
    "}\n",
    "```\n",
    "\n",
    "Then:"
   ]
  },
  {
   "cell_type": "code",
   "execution_count": 1,
   "metadata": {},
   "outputs": [
    {
     "data": {
      "text/latex": [
       "$ 1 \\cdot \\frac{1}{2 \\cdot \\sqrt({x})} $"
      ],
      "text/plain": [
       "Product(Number(1), Quotient(Number(1), Product(Number(2), Apply(Function('sqrt'), Variable(x)))))"
      ]
     },
     "execution_count": 1,
     "metadata": {},
     "output_type": "execute_result"
    }
   ],
   "source": [
    "from symexpr import Apply, Function, Variable\n",
    "\n",
    "expr = Apply(Function(\"sqrt\"), Variable(\"x\"))\n",
    "expr.derivative(Variable(\"x\"))"
   ]
  },
  {
   "cell_type": "markdown",
   "metadata": {},
   "source": [
    "## Integrating functions symbolically"
   ]
  }
 ],
 "metadata": {
  "kernelspec": {
   "display_name": "09-symbolic-expr-ipynb-aj16K3sY-py3.10",
   "language": "python",
   "name": "python3"
  },
  "language_info": {
   "codemirror_mode": {
    "name": "ipython",
    "version": 3
   },
   "file_extension": ".py",
   "mimetype": "text/x-python",
   "name": "python",
   "nbconvert_exporter": "python",
   "pygments_lexer": "ipython3",
   "version": "3.10.14"
  }
 },
 "nbformat": 4,
 "nbformat_minor": 2
}
