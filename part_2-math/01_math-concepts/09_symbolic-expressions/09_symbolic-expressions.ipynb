{
 "cells": [
  {
   "cell_type": "markdown",
   "metadata": {},
   "source": [
    "# Symbolic Expressions\n",
    "\n",
    "## Contents\n",
    "\n",
    "+ Modeling algebraic expressions as data structures.\n",
    "+ Writing code to analyze, transform, or evaluate algebraic expressions.\n",
    "+ Finding the derivative of a function by manipulating the expression that defines it.\n",
    "+ Writing a Python function to compute derivative formulas.\n",
    "+ Using [SymPy](https://www.sympy.org/en/index.html) to compute integral formulas."
   ]
  },
  {
   "cell_type": "markdown",
   "metadata": {},
   "source": [
    "## Intro\n",
    "\n",
    "The previous two chapters introduces two of the most important concepts in calculus: the derivative and the integral.\n",
    "\n",
    "We saw that you can approximate the derivative of a function at a point by taking slopes of smaller and smaller secant lines. We also saw that you can approximate the integral of a function by estimating the area under the graph with skinnier and skinnier rectangles.\n",
    "\n",
    "Up until now we've worked with approximations, because we were relying on the capacity of Python running on a computer, but Calculus teaches us how to obtain exact values for the derivative and integral.\n",
    "\n",
    "For example, if $ f(x) = x^3 $, Calculus tells us that:\n",
    "\n",
    "$\n",
    "f'(x) = 3 \\cdot x^2\n",
    "$\n",
    "\n",
    "There are formulas for each type of function, that you would apply when asked for the exact derivative of a function.\n",
    "\n",
    "However, as developers, knowing the formulas is not a very interesting skill for us. Instead, we can realy on a specialized tool called *computer algebra system* to compute it for us."
   ]
  },
  {
   "cell_type": "markdown",
   "metadata": {},
   "source": [
    "## Finding an exact derivative with a computer algebra system\n",
    "\n",
    "Mathematica is one of the most popular computer algebra systems. Its engine is free only at [Wolfram Alpha](https://www.wolframalpha.com/).\n",
    "\n",
    "This site can be used to find the exact formula for a derivative.\n",
    "\n",
    "For example, when building neural networks, it's useful to know the derivative of the function:\n",
    "\n",
    "$\n",
    "\\displaystyle\n",
    "f(x) = \\frac{1}{1 + e^{-x}}\n",
    "$\n",
    "\n",
    "This can be easily obtained by entering that formula in Python syntax. After pressing enter, it will display several facts about the function, including its derivative:\n",
    "\n",
    "![Entering formula](pics/wolfram-alpha-input-formula.png)\n",
    "\n",
    "![Derivative and Integral](pics/wolfram-alpha-derivative-integral.png)"
   ]
  },
  {
   "cell_type": "markdown",
   "metadata": {},
   "source": [
    "Mathematica does not rely on the approximations we've worked on the previous chapters. Instead, Wolfram Alpha interprets the formula you've typed in, transforms it with some algebraic manipulations, and outputs a new formula.\n",
    "\n",
    "This is called **symbolic programming**."
   ]
  },
  {
   "cell_type": "markdown",
   "metadata": {},
   "source": [
    "### Doing symbolic algebra in Python\n",
    "\n",
    "Let's start by illustrating how we will be representing and manipulating formulas in Python.\n",
    "\n",
    "Let's assume we have a mathematical function like:\n",
    "\n",
    "$\n",
    "f(x) = (3 x^2  + x) \\cdot sin(x)\n",
    "$\n",
    "\n",
    "We already know that the best way to represent the formula in order to evaluate it would be:\n",
    "\n",
    "```python\n",
    "from math import sin\n",
    "\n",
    "def f(x):\n",
    "  return (2 * x ** 2 + x) * sin(x)\n",
    "```\n",
    "\n",
    "But that representation is not helpful to learn facts about the formula, such as:\n",
    "\n",
    "+ Does the formula depend on the variable x?\n",
    "+ Does it contain a trigonometric function?\n",
    "+ Does it involve the operation of division?\n",
    "\n",
    "While we can really easily answer those questions just by looking at the function, the Python representation used to get the function values wouldn't help.\n",
    "\n",
    "For example, it'd be very difficult to write a function `contains_division(f)` that returns true if it uses the operation division in its definition."
   ]
  },
  {
   "cell_type": "markdown",
   "metadata": {},
   "source": [
    "Thus, we need to find another way to represent the function. We need another way to express the function that would tell us what operations are being applied and in what order.\n",
    "\n",
    "For instance, the function $ f(x) $ above is a product of $ sin(x) $ with a sum. We also know that there's a well-known algebraic process for expanding the function definition:\n",
    "\n",
    "$\n",
    "f(x) = (3 x^2  + x) \\cdot sin(x) = 3 x^2 \\cdot sin(x) + x \\cdot sin(x)\n",
    "$\n",
    "\n",
    "The new way to represent the formula should let us apply those rules as well.\n",
    "\n",
    "In summary, we need to *model algebraic expressions as data structures* so that we can manipulate them symbolically, and therefore automate the rules of calculus."
   ]
  },
  {
   "cell_type": "markdown",
   "metadata": {},
   "source": [
    "Once we have that, we will be able to calculate derivatives.\n",
    "\n",
    "Most functions expressed by simple formulas also have simple formulas for their derivatives. For example, if $ f(x) = x^3 $, $ f'(x) = 3 \\cdot x^2 $.\n",
    "\n",
    "That means that the derivative of $ x^3 $ at any value of $ x $ is $ 3 \\cdot x^2 $.\n",
    "\n",
    "Another requirement for our data structures is that we will have to be able to calculate the derivative or any given algebraic expression.\n",
    "\n",
    "At the minimum, we will need to represent variables, numbers, sums, differences, products, quotients, powers, and functions such as sine and cosine and take the derivatives of them."
   ]
  },
  {
   "cell_type": "markdown",
   "metadata": {},
   "source": [
    "## Modeling algebraic expressions\n",
    "\n",
    "Let's develop our intuition around how we can break an algebraic expression such as $ f(x) = (3 \\cdot x^2 + x) \\cdot sin(x) $.\n",
    "\n",
    "It contains the following building blocks we should model:\n",
    "+ a variable $ x $\n",
    "+ numbers ($ 3 $)\n",
    "+ operations: addition, multiplication, power\n",
    "+ a named function: $ sin(x) $\n",
    "\n",
    "The goal is to translate it into a Python data structure we can work with.\n",
    "\n",
    "The first observation is that $ f $ is an arbitrary name. The right hand side will evaluate the same whether the function is called $ f $, $ g $, or $ h $.\n",
    "\n",
    "As a result, we should be focusing on the right hand side of the function definition, which is called an expression:\n",
    "> An expression is a collection of mathematical symbols combined in some valid ways."
   ]
  },
  {
   "cell_type": "markdown",
   "metadata": {},
   "source": [
    "### Breaking an expression into pieces\n",
    "\n",
    "The way in which we can model algebraic expressions such as $ (3 \\cdot x^2 + x) \\cdot sin(x) $ is to break them into smaller expressions.\n",
    "\n",
    "There is only one meaningful way to break up the expressions $ (3  \\cdot x^2 + x) \\cdot sin(x) $. Namely, it's the product of $ (3 \\cdot x^2 + x) $ and $ sin(x) $.\n",
    "\n",
    "Other ways of breaking up the expression will end up in something we can't make sense of according to mathematical rules:\n",
    "\n",
    "![Breaking up expressions](pics/breaking_expressions.png)"
   ]
  },
  {
   "cell_type": "markdown",
   "metadata": {},
   "source": [
    "If we apply the same strategy to the expression $ 3 \\cdot x^2 + x $ we will see that it can be broken down as:\n",
    "\n",
    "![expression tree](pics/expression_tree.png)\n",
    "\n",
    "If we inspect the approach we see that we take:\n",
    "+ operations &mdash; ways to take two or more algebraic expressions and stick them together side by side to make a new, bigger algebraic expression.\n",
    "+ operators &mdash; valid places to break up an existing algebraic expression into smaller ones.\n"
   ]
  },
  {
   "cell_type": "markdown",
   "metadata": {},
   "source": [
    "In the terminology of functional programming, functions combining smaller objects into bigger ones like this are often called *combinators*.\n",
    "\n",
    "Some of the combinators we've used in the expression above are:\n",
    "+ $ 3 \\cdot x^2 $ is the product of the expression 3 and $ x^2 $\n",
    "+ $ x^2 $ is a power: one expression $ x $ raise to the power of another expression $ 2 $.\n",
    "+ $ sin(x) $ is a *function application*. Given the expression $ sin $ and the expression $ x $, we can build a new expression $ sin(x) $."
   ]
  },
  {
   "cell_type": "markdown",
   "metadata": {},
   "source": [
    "By contrast, a variable $ x $, a number $ 2 $, or a function named $ sin $ cannot be broken down further, and we call them *elements*."
   ]
  },
  {
   "cell_type": "markdown",
   "metadata": {},
   "source": [
    "### Building an expression tree"
   ]
  }
 ],
 "metadata": {
  "language_info": {
   "name": "python"
  }
 },
 "nbformat": 4,
 "nbformat_minor": 2
}
