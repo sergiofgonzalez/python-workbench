{
 "cells": [
  {
   "cell_type": "markdown",
   "metadata": {},
   "source": [
    "# AI Agents in LangGraph\n",
    "> https://learn.deeplearning.ai/courses/ai-agents-in-langgraph/\n",
    "\n",
    "## Intro and contents\n",
    "\n",
    "We will start by building an agent from scratch with just an LLM and Python.\n",
    "\n",
    "Then learn about the LangGraph components by rebuilding the same agent using the LangGraph components directly.\n",
    "\n",
    "Learn the capabilities of agentic search and how to use it.\n",
    "\n",
    "Understand how agents can be written to receive human input to allow you guide an agent at critical points. The second point is persistence, which is the ability to store the current state of information so that you can return to it later. Persistence is key for productionalize an agent.\n",
    "\n",
    "Future directions for agents and agentic applications."
   ]
  },
  {
   "cell_type": "markdown",
   "metadata": {},
   "source": [
    "## Building an agent from scratch\n",
    "\n",
    "A basic agent is not that hard to build. When building an agent is important to understand the boundaries:\n",
    "+ which part of the job is done by the LLM\n",
    "+ which part is managed by the code surrounding the LLM (what we call the runtime).\n",
    "\n",
    "We'll build an agent following the ReAct pattern which stands for Reasoning + Acting.\n",
    "\n",
    "In this pattern:\n",
    "1. The LLM thinks about what to do\n",
    "2. Then it decides an action to take\n",
    "\n",
    "The action is executed in an environment, and an observation is returned. With the observation then the LLM repeats and thinks again about what to do again, and decide another action, and continues until it decides it is done.\n",
    "\n",
    "![ReAct](pics/re_act_agentic_pattern.png)"
   ]
  },
  {
   "cell_type": "markdown",
   "metadata": {},
   "source": [
    "The code is based in the following post by Simon Willison: https://til.simonwillison.net/llms/python-react-pattern: a great introduction to the ReAct pattern in Python."
   ]
  },
  {
   "cell_type": "markdown",
   "metadata": {},
   "source": [
    "We start by importing everything we need:"
   ]
  },
  {
   "cell_type": "code",
   "execution_count": 1,
   "metadata": {},
   "outputs": [],
   "source": [
    "import re\n",
    "import os\n",
    "from dotenv import load_dotenv\n",
    "\n",
    "_ = load_dotenv()\n",
    "from openai import AzureOpenAI"
   ]
  },
  {
   "cell_type": "markdown",
   "metadata": {},
   "source": [
    "Then we initialize the language model:"
   ]
  },
  {
   "cell_type": "code",
   "execution_count": 2,
   "metadata": {},
   "outputs": [],
   "source": [
    "client = AzureOpenAI(\n",
    "    api_key=os.getenv(\"AZURE_OPENAI_API_KEY\"),\n",
    "    api_version=\"2023-12-01-preview\",\n",
    "    azure_endpoint=os.getenv(\"AZURE_OPENAI_ENDPOINT\"),\n",
    ")"
   ]
  },
  {
   "cell_type": "markdown",
   "metadata": {},
   "source": [
    "Let's start by making sure it is working:"
   ]
  },
  {
   "cell_type": "code",
   "execution_count": 3,
   "metadata": {},
   "outputs": [
    {
     "data": {
      "text/plain": [
       "'Hello! How can I assist you today?'"
      ]
     },
     "execution_count": 3,
     "metadata": {},
     "output_type": "execute_result"
    }
   ],
   "source": [
    "chat_completion = client.chat.completions.create(\n",
    "    model=\"chat_16k\",  # this is the deployment name for GPT 3.5 turbo\n",
    "    messages=[{\"role\": \"user\", \"content\": \"Hello, world!\"}],\n",
    ")\n",
    "\n",
    "chat_completion.choices[0].message.content"
   ]
  },
  {
   "cell_type": "markdown",
   "metadata": {},
   "source": [
    "We're set up!\n",
    "\n",
    "Let's start by creating the agent, by defining a class for the agent.\n",
    "\n",
    "We want the system to be parameterized by a system message. We'll also want to keep the messages over time."
   ]
  },
  {
   "cell_type": "code",
   "execution_count": 4,
   "metadata": {},
   "outputs": [],
   "source": [
    "class Agent:\n",
    "    def __init__(self, system=\"\"):\n",
    "        self.system = system\n",
    "        self.messages = []\n",
    "        if self.system:\n",
    "            self.messages.append({\"role\": \"system\", \"content\": self.system})\n",
    "\n",
    "    def __call__(self, message):\n",
    "        self.messages.append({\"role\": \"user\", \"content\": message})\n",
    "        result = self.execute()\n",
    "        self.messages.append({\"role\": \"assistant\", \"content\": result})\n",
    "        return result\n",
    "\n",
    "    def execute(self):\n",
    "        completion = client.chat.completions.create(\n",
    "            model=\"chat_gpt4o\", # deployment name\n",
    "            temperature=0,\n",
    "            messages=self.messages\n",
    "        )\n",
    "        return completion.choices[0].message.content\n"
   ]
  },
  {
   "cell_type": "markdown",
   "metadata": {},
   "source": [
    "With the agent implemented, let's now create the ReAct agent."
   ]
  },
  {
   "cell_type": "code",
   "execution_count": 6,
   "metadata": {},
   "outputs": [],
   "source": [
    "prompt = \"\"\"\n",
    "You run in a loop of Thought, Action, PAUSE, Observation.\n",
    "At the end of the loop you output an Answer.\n",
    "Use Thought to describe your thoughts about the question you have been asked.\n",
    "Use Action to run one of the actions available to you - then return PAUSE.\n",
    "Observation will be the result of running those actions.\n",
    "\n",
    "Your available actions are:\n",
    "\n",
    "calculate:\n",
    "e.g. calculate: 4 * 7 / 3\n",
    "Runs a calculation and returns the number - uses Python so be sure to use floating point syntax if necessary.\n",
    "\n",
    "average_dog_weight:\n",
    "e.g. average_dog_weight: Collie\n",
    "Returns average weight of a dog when given the breed.\n",
    "\n",
    "Example session:\n",
    "\n",
    "Question: How much does a Bulldog weigh?\n",
    "Thought: I should look the dog's weight using average_dog_weight\n",
    "Action: average_dog_weight: Bulldog\n",
    "PAUSE\n",
    "\n",
    "You will be called again with this:\n",
    "\n",
    "Observation: A Bulldog weighs 51 lbs\n",
    "\n",
    "You then output:\n",
    "Answer: A bulldog weighs 51 lbs\n",
    "\"\"\".strip()"
   ]
  },
  {
   "cell_type": "markdown",
   "metadata": {},
   "source": [
    "We now need to provide the tool mentioned above:"
   ]
  },
  {
   "cell_type": "code",
   "execution_count": 7,
   "metadata": {},
   "outputs": [],
   "source": [
    "def calculate(what: str):\n",
    "    return eval(what)\n",
    "\n",
    "def average_dog_weight(breed: str):\n",
    "    \"\"\"mock implementation\"\"\"\n",
    "    if breed in \"Scottish Terrier\":\n",
    "        return \"Scottish Terriers average 20 lbs\"\n",
    "    elif breed in \"Border Collie\":\n",
    "        return \"A Border Collie average weight is 37 lbs\"\n",
    "    elif breed in \"Toy Poodle\":\n",
    "        return \"A Toy Poodle average weight is 7 lbs\"\n",
    "    else:\n",
    "        return \"An average dog weight is 50 lbs\"\n",
    "\n",
    "known_actions = {\n",
    "    \"calculate\": calculate,\n",
    "    \"average_dog_weight\": average_dog_weight,\n",
    "}"
   ]
  },
  {
   "cell_type": "markdown",
   "metadata": {},
   "source": [
    "Now let's try it out by instantiating the agent with the prompt created above:"
   ]
  },
  {
   "cell_type": "code",
   "execution_count": 8,
   "metadata": {},
   "outputs": [],
   "source": [
    "abot = Agent(prompt)"
   ]
  },
  {
   "cell_type": "markdown",
   "metadata": {},
   "source": [
    "Let's call it once with an initial question:"
   ]
  },
  {
   "cell_type": "code",
   "execution_count": 9,
   "metadata": {},
   "outputs": [
    {
     "name": "stdout",
     "output_type": "stream",
     "text": [
      "Thought: I should look up the average weight of a toy poodle using the average_dog_weight action.\n",
      "Action: average_dog_weight: Toy Poodle\n",
      "PAUSE\n"
     ]
    }
   ],
   "source": [
    "result = abot(\"How much does a toy poodle weigh?\")\n",
    "print(result)"
   ]
  },
  {
   "cell_type": "markdown",
   "metadata": {},
   "source": [
    "Let's do what the agent suggests:"
   ]
  },
  {
   "cell_type": "code",
   "execution_count": 10,
   "metadata": {},
   "outputs": [
    {
     "data": {
      "text/plain": [
       "'A Toy Poodle average weight is 7 lbs'"
      ]
     },
     "execution_count": 10,
     "metadata": {},
     "output_type": "execute_result"
    }
   ],
   "source": [
    "result = average_dog_weight(\"Toy Poodle\")\n",
    "result"
   ]
  },
  {
   "cell_type": "markdown",
   "metadata": {},
   "source": [
    "We can now format that into the next prompt to pass to the language model:"
   ]
  },
  {
   "cell_type": "code",
   "execution_count": 11,
   "metadata": {},
   "outputs": [],
   "source": [
    "next_prompt = f\"Observation: {result}\""
   ]
  },
  {
   "cell_type": "markdown",
   "metadata": {},
   "source": [
    "Now we can call the agent with that next prompt:"
   ]
  },
  {
   "cell_type": "code",
   "execution_count": 12,
   "metadata": {},
   "outputs": [
    {
     "data": {
      "text/plain": [
       "'Answer: A Toy Poodle weighs an average of 7 lbs.'"
      ]
     },
     "execution_count": 12,
     "metadata": {},
     "output_type": "execute_result"
    }
   ],
   "source": [
    "abot(next_prompt)"
   ]
  },
  {
   "cell_type": "markdown",
   "metadata": {},
   "source": [
    "Note that the agent returns the Answer.\n",
    "\n",
    "We can take a look at the `messages` attribute on the agent to understand what has happened:"
   ]
  },
  {
   "cell_type": "code",
   "execution_count": 13,
   "metadata": {},
   "outputs": [
    {
     "data": {
      "text/plain": [
       "[{'role': 'system',\n",
       "  'content': \"You run in a loop of Thought, Action, PAUSE, Observation.\\nAt the end of the loop you output an Answer.\\nUse Thought to describe your thoughts about the question you have been asked.\\nUse Action to run one of the actions available to you - then return PAUSE.\\nObservation will be the result of running those actions.\\n\\nYour available actions are:\\n\\ncalculate:\\ne.g. calculate: 4 * 7 / 3\\nRuns a calculation and returns the number - uses Python so be sure to use floating point syntax if necessary.\\n\\naverage_dog_weight:\\ne.g. average_dog_weight: Collie\\nReturns average weight of a dog when given the breed.\\n\\nExample session:\\n\\nQuestion: How much does a Bulldog weigh?\\nThought: I should look the dog's weight using average_dog_weight\\nAction: average_dog_weight: Bulldog\\nPAUSE\\n\\nYou will be called again with this:\\n\\nObservation: A Bulldog weighs 51 lbs\\n\\nYou then output:\\nAnswer: A bulldog weighs 51 lbs\"},\n",
       " {'role': 'user', 'content': 'How much does a toy poodle weigh?'},\n",
       " {'role': 'assistant',\n",
       "  'content': 'Thought: I should look up the average weight of a toy poodle using the average_dog_weight action.\\nAction: average_dog_weight: Toy Poodle\\nPAUSE'},\n",
       " {'role': 'user',\n",
       "  'content': 'Observation: A Toy Poodle average weight is 7 lbs'},\n",
       " {'role': 'assistant',\n",
       "  'content': 'Answer: A Toy Poodle weighs an average of 7 lbs.'}]"
      ]
     },
     "execution_count": 13,
     "metadata": {},
     "output_type": "execute_result"
    }
   ],
   "source": [
    "abot.messages"
   ]
  },
  {
   "cell_type": "markdown",
   "metadata": {},
   "source": [
    "Let's try again with a different example.\n",
    "\n",
    "Note that we will need to reinitialize the agent to clear all the messages already accumulated from the previous execution.\n",
    "\n",
    "Also, this time we will ask a more complicated question:"
   ]
  },
  {
   "cell_type": "code",
   "execution_count": 14,
   "metadata": {},
   "outputs": [],
   "source": [
    "abot = Agent(prompt)"
   ]
  },
  {
   "cell_type": "code",
   "execution_count": 15,
   "metadata": {},
   "outputs": [
    {
     "data": {
      "text/plain": [
       "'Thought: I need to find the average weight of both a Border Collie and a Scottish Terrier, then sum these weights to get the combined weight.\\n\\nAction: average_dog_weight: Border Collie\\nPAUSE'"
      ]
     },
     "execution_count": 15,
     "metadata": {},
     "output_type": "execute_result"
    }
   ],
   "source": [
    "question = \"\"\"\n",
    "I have 2 dogs, a border collie and a scottish terrier.\n",
    "What is their combined weight?\n",
    "\"\"\"\n",
    "abot(question)"
   ]
  },
  {
   "cell_type": "markdown",
   "metadata": {},
   "source": [
    "Note that the plan is a really good one:\n",
    "> Find the average weight of both dogs, then add them together.\n",
    "\n",
    "The first action then should be to call average_dog_weight with \"Border Collie\".\n",
    "\n",
    "Let's execute that action:"
   ]
  },
  {
   "cell_type": "code",
   "execution_count": 16,
   "metadata": {},
   "outputs": [
    {
     "name": "stdout",
     "output_type": "stream",
     "text": [
      "Observation: A Border Collie average weight is 37 lbs\n"
     ]
    }
   ],
   "source": [
    "next_prompt = f\"Observation: {average_dog_weight('Border Collie')}\"\n",
    "print(next_prompt)"
   ]
  },
  {
   "cell_type": "markdown",
   "metadata": {},
   "source": [
    "I can now call the agent on this next prompt:"
   ]
  },
  {
   "cell_type": "code",
   "execution_count": 17,
   "metadata": {},
   "outputs": [
    {
     "data": {
      "text/plain": [
       "'Thought: Now I need to find the average weight of a Scottish Terrier.\\n\\nAction: average_dog_weight: Scottish Terrier\\nPAUSE'"
      ]
     },
     "execution_count": 17,
     "metadata": {},
     "output_type": "execute_result"
    }
   ],
   "source": [
    "abot(next_prompt)"
   ]
  },
  {
   "cell_type": "markdown",
   "metadata": {},
   "source": [
    "Now we need to execute a different action. Let's do so:"
   ]
  },
  {
   "cell_type": "code",
   "execution_count": 18,
   "metadata": {},
   "outputs": [
    {
     "name": "stdout",
     "output_type": "stream",
     "text": [
      "Observation: Scottish Terriers average 20 lbs\n"
     ]
    }
   ],
   "source": [
    "next_prompt = f\"Observation: {average_dog_weight('Scottish Terrier')}\"\n",
    "print(next_prompt)"
   ]
  },
  {
   "cell_type": "markdown",
   "metadata": {},
   "source": [
    "And we can call the agent again with this prompt:"
   ]
  },
  {
   "cell_type": "code",
   "execution_count": 19,
   "metadata": {},
   "outputs": [
    {
     "data": {
      "text/plain": [
       "'Thought: I now have the average weights of both dogs. I will sum these weights to get the combined weight.\\n\\nAction: calculate: 37 + 20\\nPAUSE'"
      ]
     },
     "execution_count": 19,
     "metadata": {},
     "output_type": "execute_result"
    }
   ],
   "source": [
    "abot(next_prompt)"
   ]
  },
  {
   "cell_type": "markdown",
   "metadata": {},
   "source": [
    "Now the agent has identified the next action, which is to calculate the sum of the average weights of both breeds:"
   ]
  },
  {
   "cell_type": "code",
   "execution_count": 20,
   "metadata": {},
   "outputs": [
    {
     "name": "stdout",
     "output_type": "stream",
     "text": [
      "Observation: 57\n"
     ]
    }
   ],
   "source": [
    "next_prompt = f\"Observation: {calculate('37 + 20')}\"\n",
    "print(next_prompt)"
   ]
  },
  {
   "cell_type": "markdown",
   "metadata": {},
   "source": [
    "Now we send the next prompt yet again to the agent:"
   ]
  },
  {
   "cell_type": "code",
   "execution_count": 21,
   "metadata": {},
   "outputs": [
    {
     "data": {
      "text/plain": [
       "'Answer: The combined weight of a Border Collie and a Scottish Terrier is 57 lbs.'"
      ]
     },
     "execution_count": 21,
     "metadata": {},
     "output_type": "execute_result"
    }
   ],
   "source": [
    "abot(next_prompt)"
   ]
  },
  {
   "cell_type": "markdown",
   "metadata": {},
   "source": [
    "Now the agent tells us that the cycle is complete, as it has reached the final answer."
   ]
  },
  {
   "cell_type": "markdown",
   "metadata": {},
   "source": [
    "Now that we have developed an intuition about how the ReAct pattern and the agent works, let's automate it by putting the manual steps in a loop.\n",
    "\n",
    "Let's start by creating a regex that will look for the action string. This will let us parse the LLM's response and determine whether we should be taking an action, or whether the agent has reached the final answer."
   ]
  },
  {
   "cell_type": "code",
   "execution_count": 23,
   "metadata": {},
   "outputs": [],
   "source": [
    "action_re = re.compile(r\"^Action: (\\w+): (.*)$\")"
   ]
  },
  {
   "cell_type": "markdown",
   "metadata": {},
   "source": [
    "Let's now create the query function that automates the process:"
   ]
  },
  {
   "cell_type": "code",
   "execution_count": 24,
   "metadata": {},
   "outputs": [],
   "source": [
    "def query(question, max_turns=5):\n",
    "    i = 0\n",
    "    bot = Agent(prompt)\n",
    "    next_prompt = question\n",
    "    while i < max_turns:\n",
    "        i += 1\n",
    "        result = bot(next_prompt)\n",
    "        print(result)\n",
    "        actions = [\n",
    "            action_re.match(a) for a in result.split(\"\\n\") if action_re.match(a)\n",
    "        ]\n",
    "        if actions:\n",
    "            action, action_input = actions[0].groups()\n",
    "            if action not in known_actions:\n",
    "                raise Exception(f\"Unknown action: {action}: {action_input}\")\n",
    "            print(f\">> running {action}: {action_input}\")\n",
    "            observation = known_actions[action](action_input)\n",
    "            print(f\">> Observation: {observation}\")\n",
    "            next_prompt = f\"Observation: {observation}\"\n",
    "        else:\n",
    "            # agent has reached the answer\n",
    "            return"
   ]
  },
  {
   "cell_type": "markdown",
   "metadata": {},
   "source": [
    "Let's now try our automated workflow:"
   ]
  },
  {
   "cell_type": "code",
   "execution_count": 25,
   "metadata": {},
   "outputs": [
    {
     "name": "stdout",
     "output_type": "stream",
     "text": [
      "Thought: I need to find the average weight of both a Border Collie and a Scottish Terrier, then sum these weights to get the combined weight of the two dogs.\n",
      "Action: average_dog_weight: Border Collie\n",
      "PAUSE\n",
      ">> running average_dog_weight: Border Collie\n",
      ">> Observation: A Border Collie average weight is 37 lbs\n",
      "Thought: I now need to find the average weight of a Scottish Terrier.\n",
      "Action: average_dog_weight: Scottish Terrier\n",
      "PAUSE\n",
      ">> running average_dog_weight: Scottish Terrier\n",
      ">> Observation: Scottish Terriers average 20 lbs\n",
      "Thought: I now have the average weights of both dogs. I need to sum these weights to get the combined weight.\n",
      "Action: calculate: 37 + 20\n",
      "PAUSE\n",
      ">> running calculate: 37 + 20\n",
      ">> Observation: 57\n",
      "Answer: The combined weight of a Border Collie and a Scottish Terrier is 57 lbs.\n"
     ]
    }
   ],
   "source": [
    "question = \"\"\"\n",
    "I have 2 dogs, a border collie and a scottish terrier.\n",
    "What is their combined weight?\n",
    "\"\"\"\n",
    "query(question)"
   ]
  },
  {
   "cell_type": "markdown",
   "metadata": {},
   "source": [
    "So we've seen how to create an agent using nothing but the raw LLM API and some Python code.\n",
    "\n",
    "We'll see how to implement the same agent using LangGraph."
   ]
  },
  {
   "cell_type": "markdown",
   "metadata": {},
   "source": [
    "## LangGraph Components\n",
    "\n",
    "Let's break down what we did in the previous section into LangChain components.\n",
    "\n",
    "The high-level diagram for the process is the following:\n",
    "\n",
    "![reAct process](pics/re_act_process.png)"
   ]
  },
  {
   "cell_type": "markdown",
   "metadata": {},
   "source": [
    "First, we have the prompts. As we know, `PromptTemplate` allows you to build reusable prompts.\n",
    "\n",
    "`PromptTemplate` allows you to use a prompt with formatted variables that you can replace with user content.\n",
    "\n",
    "```python\n",
    "from langchain.prompts import PromptTemplate\n",
    "\n",
    "prompt_template = PromptTemplate.from_template(\n",
    "    \"Tell me a {adjective} joke about {content}\"\n",
    ")\n",
    "```\n",
    "\n",
    "And you can also use prompts from the LangChain hub:\n",
    "\n",
    "```python\n",
    "from langchain import hub\n",
    "prompt = hub.pull(\"hwchase17/react\")\n",
    "```\n",
    "\n",
    "This will pull a prompt very similar to the one we wrote, but with variable content:\n",
    "\n",
    "https://smith.langchain.com/hub/hwchase17/react\n",
    "\n",
    "```\n",
    "Answer the following questions as best you can. You can have access to the following tools:\n",
    "\n",
    "{tools}\n",
    "\n",
    "Use the following format:\n",
    "\n",
    "Question: the input question you must answer.\n",
    "Thought: you should always think about what to do.\n",
    "Action: the action to take, should be one of [{tool_names}]\n",
    "Action Input: the input to the action\n",
    "Observation: the result of the action\n",
    "\n",
    "...(this Thought/Action/Action Input/Observation can repeat N times)\n",
    "Thought I now know the final answer.\n",
    "Final Answer: the final answer to the original input question.\n",
    "\n",
    "Begin!\n",
    "\n",
    "Question: {input}\n",
    "Thought: {agent_scratchpad}\n",
    "```"
   ]
  },
  {
   "cell_type": "markdown",
   "metadata": {},
   "source": [
    "The second component we have in LangChain it's tools.\n",
    "\n",
    "You have a set of readily available tools that you can use to perform complex actions, such as getting search results using [Tavily](https://tavily.com/).\n",
    "\n",
    "As it reads on the website, Tavily Search API is a search engine optimized for LLMs and RAG, aimed at efficient, quick, and persistent search results.\n",
    "\n",
    "We can use Tavily Search by doing:\n",
    "\n",
    "```python\n",
    "from langchain_community.tools.tavily_search import TavilySearchResults\n",
    "\n",
    "tool = TavilySearchResults(max, results=2)\n",
    "self.tools = {t.name for t in tools}\n",
    "self.model = model.bind_tools([tool])\n",
    "```\n",
    "\n",
    "The community package contains hundreds of other tools."
   ]
  },
  {
   "cell_type": "markdown",
   "metadata": {},
   "source": [
    "LangGraphs helps you describe and orchestrate the control flow (the arrows) from the diagram above.\n",
    "\n",
    "It allows you to create cyclic graph. It has built-in persistence to remember all previous iterations and actions.\n",
    "\n",
    "Additionally, the persistence enbales human-in-the-loop features.\n",
    "\n",
    "LangGraph is an extension of LangChain that supports graphs.\n",
    "+ Single and multi-agent flows are described and represented as graphs.\n",
    "+ Allows for extremely controlled flows, which is critical to create agents that can perform well.\n",
    "+ It provides built-in persistence that allows for human-in-the-loop workflows.\n",
    "\n"
   ]
  },
  {
   "cell_type": "markdown",
   "metadata": {},
   "source": [
    "Three of the core concepts of LangGraph are:\n",
    "\n",
    "+ Nodes: agents or functions\n",
    "+ Edges: connect nodes\n",
    "+ Conditional edges: for decisions"
   ]
  },
  {
   "cell_type": "markdown",
   "metadata": {},
   "source": [
    "The equivalent for the function we created in the previous section would be:\n",
    "\n",
    "![LangGraph diagram](pics/langgraph_graph.png)"
   ]
  },
  {
   "cell_type": "markdown",
   "metadata": {},
   "source": [
    "Regarding the Data/State\n",
    "\n",
    "The Agent State is accessible to all parts of the graph.\n",
    "\n",
    "+ It is local to the graph\n",
    "+ Can be stored in a persistence layer\n",
    "\n",
    "![LangGraph state](pics/langgraph_state.png)\n",
    "\n",
    "\n",
    "At its simplest form, it can implemented as a list of messages:\n",
    "\n",
    "```python\n",
    "class AgentState(TypedDict):\n",
    "    messages: Annotated[Sequence[BaseMessage], operator.add]\n",
    "```\n",
    "\n",
    "`BaseMessage` is a LangChain object. The type `Annotated[Sequence[BaseMessage], operator.add]` means that messages is a sequence of messages and when the state is updated with new messages it doesn't overwrite but rather adds them to create the new state.\n",
    "\n",
    "A more complicated state would look like the following:\n",
    "\n",
    "```python\n",
    "class AgentState(TypedDict):\n",
    "    input: str\n",
    "    chat_history: list[BaseMessage]\n",
    "    agent_outcome: Union[AgentAction, AgentFinish, None]\n",
    "    intermediate_steps: Annotated[list[tuple[AgentAction, str]], operator.add]\n",
    "```\n",
    "\n"
   ]
  },
  {
   "cell_type": "markdown",
   "metadata": {},
   "source": [
    "In detail, if we want to implement the same exercise as before we will have:\n",
    "\n",
    "1. An agent node that we will call `call_openai` that will be in charge of calling the LLM.\n",
    "2. We will have a conditional edge that will check for the existence of an action to take. We will call this `exist_action`.\n",
    "3. We will have another node that will execute the action and that we will call `take_action`.\n",
    "\n",
    "Finally, the state can be tracked with:\n",
    "\n",
    "```python\n",
    "class AgentState(TypedDict):\n",
    "    messages: Annotated[list[AnyMessage], operator.add]\n",
    "```\n",
    "\n",
    "Thus, the annotated diagram will be:\n",
    "\n",
    "![LangChain: annotated use case diagram](pics/langchain_annotated_usecase.png)\n"
   ]
  },
  {
   "cell_type": "markdown",
   "metadata": {},
   "source": [
    "Let's dive into the code:"
   ]
  },
  {
   "cell_type": "markdown",
   "metadata": {},
   "source": [
    "Let's make sure we have loaded all the environment variables required to interact with OpenAI:"
   ]
  },
  {
   "cell_type": "code",
   "execution_count": 1,
   "metadata": {},
   "outputs": [],
   "source": [
    "from dotenv import load_dotenv\n",
    "\n",
    "_ = load_dotenv()"
   ]
  },
  {
   "cell_type": "markdown",
   "metadata": {},
   "source": [
    "Now we import a bunch of things that we need to create all the components:"
   ]
  },
  {
   "cell_type": "code",
   "execution_count": 2,
   "metadata": {},
   "outputs": [],
   "source": [
    "from langgraph.graph import StateGraph, END\n",
    "from typing import TypedDict, Annotated\n",
    "import operator\n",
    "from langchain_core.messages import AnyMessage, SystemMessage, HumanMessage, ToolMessage\n",
    "from langchain_openai import AzureChatOpenAI\n",
    "from langchain_community.tools.tavily_search import TavilySearchResults"
   ]
  },
  {
   "cell_type": "markdown",
   "metadata": {},
   "source": [
    "Let's first have a look at the tool:"
   ]
  },
  {
   "cell_type": "code",
   "execution_count": 3,
   "metadata": {},
   "outputs": [
    {
     "name": "stdout",
     "output_type": "stream",
     "text": [
      "Tool type: <class 'langchain_community.tools.tavily_search.tool.TavilySearchResults'>\n",
      "Tool name: tavily_search_results_json\n"
     ]
    }
   ],
   "source": [
    "tool = TavilySearchResults(max_results=2)\n",
    "print(f\"Tool type: {type(tool)}\")\n",
    "print(f\"Tool name: {tool.name}\")"
   ]
  },
  {
   "cell_type": "markdown",
   "metadata": {},
   "source": [
    "Now we create the agent state, annotated in a way that LangChain can understand that it is a list of messages that we will add to over time."
   ]
  },
  {
   "cell_type": "code",
   "execution_count": 4,
   "metadata": {},
   "outputs": [],
   "source": [
    "class AgentState(TypedDict):\n",
    "    messages: Annotated[list[AnyMessage], operator.add]"
   ]
  },
  {
   "cell_type": "markdown",
   "metadata": {},
   "source": [
    "Now, we create the Agent class with three methods representing the three actions:"
   ]
  },
  {
   "cell_type": "code",
   "execution_count": 5,
   "metadata": {},
   "outputs": [],
   "source": [
    "class Agent:\n",
    "\n",
    "    def __init__(self, model, tools, system=\"\"):\n",
    "        self.system = system\n",
    "        graph = StateGraph(AgentState)\n",
    "        graph.add_node(\"llm\", self.call_openai)\n",
    "        graph.add_node(\"action\", self.take_action)\n",
    "        graph.add_conditional_edges(\n",
    "            \"llm\",\n",
    "            self.exists_action,\n",
    "            {True: \"action\", False: END}\n",
    "        )\n",
    "        graph.add_edge(\"action\", \"llm\")\n",
    "        graph.set_entry_point(\"llm\")\n",
    "        self.graph = graph.compile()\n",
    "        self.tools = {t.name: t for t in tools}\n",
    "        self.model = model.bind_tools(tools)\n",
    "\n",
    "    def call_openai(self, state: AgentState):\n",
    "        messages = state[\"messages\"]\n",
    "        if self.system:\n",
    "            messages = [SystemMessage(content=self.system)] + messages\n",
    "            message = self.model.invoke(messages)\n",
    "            return {'messages': [message]}\n",
    "\n",
    "    def take_action(self, state: AgentState):\n",
    "        tool_calls = state[\"messages\"][-1].tool_calls\n",
    "        results = []\n",
    "        for t in tool_calls:\n",
    "            print(f\">> calling: {t}\")\n",
    "            result = self.tools[t[\"name\"]].invoke(t[\"args\"])\n",
    "            results.append(ToolMessage(tool_call_id=t[\"id\"], name=t[\"name\"], content=str(result)))\n",
    "        print(\">> back to the model\")\n",
    "        return {'messages': results}\n",
    "\n",
    "    def exists_action(self, state: AgentState):\n",
    "        result = state[\"messages\"][-1]\n",
    "        return len(result.tool_calls) > 0"
   ]
  },
  {
   "cell_type": "markdown",
   "metadata": {},
   "source": [
    "Now we create a system prompt and initialize the underlying model:"
   ]
  },
  {
   "cell_type": "code",
   "execution_count": 11,
   "metadata": {},
   "outputs": [],
   "source": [
    "prompt = \"\"\"\n",
    "You are a smart research assistant. Use the search engine to look up information.\n",
    "You are allowed to make multiple calls (either together or in sequence).\n",
    "Only look up information when you are sure of what you want.\n",
    "If you need to look up some information before asking a follow up question, you are allowed to do that!\n",
    "\"\"\"\n",
    "\n",
    "model = AzureChatOpenAI(\n",
    "    openai_api_version=\"2023-05-15\",\n",
    "    azure_deployment=\"chat_gpt4o\",\n",
    "    model=\"gpt-4o\",\n",
    "    temperature=0\n",
    ")\n",
    "\n",
    "abot = Agent(model, [tool], system=prompt)"
   ]
  },
  {
   "cell_type": "markdown",
   "metadata": {},
   "source": [
    "We can visualize the graph we've just created:"
   ]
  },
  {
   "cell_type": "code",
   "execution_count": 7,
   "metadata": {},
   "outputs": [
    {
     "data": {
      "image/png": "[encoded data removed]",
      "text/plain": [
       "<IPython.core.display.Image object>"
      ]
     },
     "execution_count": 7,
     "metadata": {},
     "output_type": "execute_result"
    }
   ],
   "source": [
    "from IPython.display import Image\n",
    "\n",
    "Image(abot.graph.get_graph().draw_png())"
   ]
  },
  {
   "cell_type": "markdown",
   "metadata": {},
   "source": [
    "Let's now call this agent:"
   ]
  },
  {
   "cell_type": "code",
   "execution_count": 12,
   "metadata": {},
   "outputs": [
    {
     "name": "stdout",
     "output_type": "stream",
     "text": [
      ">> calling: {'name': 'tavily_search_results_json', 'args': {'query': 'current weather in Luengos de los Oteros, Spain'}, 'id': 'call_tcofQbepWB4MxOG8aOAgqSA4', 'type': 'tool_call'}\n",
      ">> back to the model\n"
     ]
    }
   ],
   "source": [
    "messages = [HumanMessage(content=\"What is the weather in Luengos de los Oteros, Spain\")]\n",
    "result = abot.graph.invoke({\"messages\": messages})"
   ]
  },
  {
   "cell_type": "markdown",
   "metadata": {},
   "source": [
    "If we now look at result, we can see a list of messages.\n",
    "\n",
    "`result` is the final state that the agent ended up with."
   ]
  },
  {
   "cell_type": "code",
   "execution_count": 13,
   "metadata": {},
   "outputs": [
    {
     "data": {
      "text/plain": [
       "{'messages': [HumanMessage(content='What is the weather in Luengos de los Oteros, Spain'),\n",
       "  AIMessage(content='', additional_kwargs={'tool_calls': [{'id': 'call_tcofQbepWB4MxOG8aOAgqSA4', 'function': {'arguments': '{\"query\":\"current weather in Luengos de los Oteros, Spain\"}', 'name': 'tavily_search_results_json'}, 'type': 'function'}]}, response_metadata={'token_usage': {'completion_tokens': 29, 'prompt_tokens': 159, 'total_tokens': 188}, 'model_name': 'gpt-4o-2024-05-13', 'system_fingerprint': 'fp_abc28019ad', 'finish_reason': 'tool_calls', 'logprobs': None, 'content_filter_results': {}}, id='run-88b3edbc-0e38-4679-b290-c4a78c0b1f0e-0', tool_calls=[{'name': 'tavily_search_results_json', 'args': {'query': 'current weather in Luengos de los Oteros, Spain'}, 'id': 'call_tcofQbepWB4MxOG8aOAgqSA4', 'type': 'tool_call'}], usage_metadata={'input_tokens': 159, 'output_tokens': 29, 'total_tokens': 188}),\n",
       "  ToolMessage(content='[{\\'url\\': \\'https://www.weatherapi.com/\\', \\'content\\': \"{\\'location\\': {\\'name\\': \\'Fuentes De Los Oteros\\', \\'region\\': \\'Castilla y Leon\\', \\'country\\': \\'Spain\\', \\'lat\\': 42.35, \\'lon\\': -5.42, \\'tz_id\\': \\'Europe/Madrid\\', \\'localtime_epoch\\': 1722960707, \\'localtime\\': \\'2024-08-06 18:11\\'}, \\'current\\': {\\'last_updated_epoch\\': 1722960000, \\'last_updated\\': \\'2024-08-06 18:00\\', \\'temp_c\\': 31.9, \\'temp_f\\': 89.4, \\'is_day\\': 1, \\'condition\\': {\\'text\\': \\'Sunny\\', \\'icon\\': \\'//cdn.weatherapi.com/weather/64x64/day/113.png\\', \\'code\\': 1000}, \\'wind_mph\\': 5.6, \\'wind_kph\\': 9.0, \\'wind_degree\\': 228, \\'wind_dir\\': \\'SW\\', \\'pressure_mb\\': 1008.0, \\'pressure_in\\': 29.77, \\'precip_mm\\': 0.0, \\'precip_in\\': 0.0, \\'humidity\\': 16, \\'cloud\\': 6, \\'feelslike_c\\': 29.6, \\'feelslike_f\\': 85.4, \\'windchill_c\\': 31.9, \\'windchill_f\\': 89.3, \\'heatindex_c\\': 29.6, \\'heatindex_f\\': 85.4, \\'dewpoint_c\\': 3.4, \\'dewpoint_f\\': 38.0, \\'vis_km\\': 10.0, \\'vis_miles\\': 6.0, \\'uv\\': 8.0, \\'gust_mph\\': 7.3, \\'gust_kph\\': 11.8}}\"}, {\\'url\\': \\'https://www.timeanddate.com/weather/@3110153\\', \\'content\\': \\'Current weather in San Pedro de los Oteros and forecast for today, tomorrow, and next 14 days. Sign in. News. News Home; ... Weather in San Pedro de los Oteros, León, Spain. Time/General; Weather . Weather Today/Tomorrow ; Hour-by-Hour Forecast ; ... Current Time: Jan 26, 2024 at 9:05:38 am: Latest Report: Jan 26, 2024 at 8:00 am: Visibility ...\\'}]', name='tavily_search_results_json', tool_call_id='call_tcofQbepWB4MxOG8aOAgqSA4'),\n",
       "  AIMessage(content='The current weather in Luengos de los Oteros, Spain is as follows:\\n\\n- **Temperature**: 31.9°C (89.4°F)\\n- **Condition**: Sunny\\n- **Wind**: 9.0 kph (5.6 mph) from the southwest\\n- **Humidity**: 16%\\n- **Pressure**: 1008.0 mb\\n- **Visibility**: 10 km (6 miles)\\n- **UV Index**: 8\\n\\nIt feels like 29.6°C (85.4°F) due to the low humidity.', response_metadata={'token_usage': {'completion_tokens': 123, 'prompt_tokens': 728, 'total_tokens': 851}, 'model_name': 'gpt-4o-2024-05-13', 'system_fingerprint': 'fp_abc28019ad', 'finish_reason': 'stop', 'logprobs': None, 'content_filter_results': {}}, id='run-2ba5b035-a587-4531-bf0e-c6901219cb3f-0', usage_metadata={'input_tokens': 728, 'output_tokens': 123, 'total_tokens': 851})]}"
      ]
     },
     "execution_count": 13,
     "metadata": {},
     "output_type": "execute_result"
    }
   ],
   "source": [
    "result"
   ]
  },
  {
   "cell_type": "markdown",
   "metadata": {},
   "source": [
    "If we just want to get the final message we can go to the messages atrribute and look at the content of the last message:"
   ]
  },
  {
   "cell_type": "code",
   "execution_count": 14,
   "metadata": {},
   "outputs": [
    {
     "data": {
      "text/plain": [
       "'The current weather in Luengos de los Oteros, Spain is as follows:\\n\\n- **Temperature**: 31.9°C (89.4°F)\\n- **Condition**: Sunny\\n- **Wind**: 9.0 kph (5.6 mph) from the southwest\\n- **Humidity**: 16%\\n- **Pressure**: 1008.0 mb\\n- **Visibility**: 10 km (6 miles)\\n- **UV Index**: 8\\n\\nIt feels like 29.6°C (85.4°F) due to the low humidity.'"
      ]
     },
     "execution_count": 14,
     "metadata": {},
     "output_type": "execute_result"
    }
   ],
   "source": [
    "result[\"messages\"][-1].content"
   ]
  },
  {
   "cell_type": "markdown",
   "metadata": {},
   "source": [
    "Let's try the agent with a more complicated question:"
   ]
  },
  {
   "cell_type": "code",
   "execution_count": 15,
   "metadata": {},
   "outputs": [
    {
     "name": "stdout",
     "output_type": "stream",
     "text": [
      ">> calling: {'name': 'tavily_search_results_json', 'args': {'query': 'current weather in Madrid, Spain'}, 'id': 'call_XMWJkEPg2Kbpw7bIz4Mqv9TW', 'type': 'tool_call'}\n",
      ">> calling: {'name': 'tavily_search_results_json', 'args': {'query': 'current weather in Mansilla de las Mulas, Spain'}, 'id': 'call_bkUxHAaN7QUWPislC2o9ZZdJ', 'type': 'tool_call'}\n",
      ">> back to the model\n"
     ]
    }
   ],
   "source": [
    "messages = [HumanMessage(content=\"What is the weather in Madrid and Mansilla de las Mulas, Spain?\")]\n",
    "result = abot.graph.invoke({\"messages\": messages})"
   ]
  },
  {
   "cell_type": "markdown",
   "metadata": {},
   "source": [
    "See that now the model performs a parallel function call: it uses the tool twice to get the weather in Madrid and Mansilla before getting back to the model.\n",
    "\n",
    "With all the information in place, the agent can now craft the final answer:"
   ]
  },
  {
   "cell_type": "code",
   "execution_count": 16,
   "metadata": {},
   "outputs": [
    {
     "data": {
      "text/plain": [
       "'### Current Weather in Madrid, Spain:\\n- **Temperature:** 36.7°C (98.1°F)\\n- **Condition:** Sunny\\n- **Wind:** 15.5 kph (9.6 mph) from the WSW\\n- **Humidity:** 10%\\n- **Visibility:** 10 km (6 miles)\\n- **UV Index:** 9\\n- **Feels Like:** 35.3°C (95.6°F)\\n\\n### Current Weather in Mansilla de las Mulas, Spain:\\n- **Temperature:** 25.7°C (78.3°F)\\n- **Condition:** Sunny\\n- **Wind:** 24.5 kph (15.2 mph) from the North\\n- **Humidity:** 48%\\n- **Visibility:** 10 km (6 miles)\\n- **UV Index:** 7\\n- **Feels Like:** 26.3°C (79.3°F)\\n\\nBoth locations are experiencing sunny weather, with Madrid being significantly warmer than Mansilla de las Mulas.'"
      ]
     },
     "execution_count": 16,
     "metadata": {},
     "output_type": "execute_result"
    }
   ],
   "source": [
    "result[\"messages\"][-1].content"
   ]
  },
  {
   "cell_type": "markdown",
   "metadata": {},
   "source": [
    "We can try with an even more complicated question?"
   ]
  },
  {
   "cell_type": "code",
   "execution_count": 21,
   "metadata": {},
   "outputs": [
    {
     "name": "stdout",
     "output_type": "stream",
     "text": [
      ">> calling: {'name': 'tavily_search_results_json', 'args': {'query': 'La Liga 2024 winner'}, 'id': 'call_FK8izxyL9nSDoXq1BVNV2EAD', 'type': 'tool_call'}\n",
      ">> back to the model\n",
      ">> calling: {'name': 'tavily_search_results_json', 'args': {'query': 'population of Madrid 2024'}, 'id': 'call_Z92vH7DLASITheABMdgeGK5M', 'type': 'tool_call'}\n",
      ">> back to the model\n"
     ]
    }
   ],
   "source": [
    "query = \"Who won La Liga in 2024? What is the population of that region?\"\n",
    "messages=[HumanMessage(content=query)]\n",
    "result = abot.graph.invoke({\"messages\": messages})"
   ]
  },
  {
   "cell_type": "markdown",
   "metadata": {},
   "source": [
    "We see that first it searches the winner of La Liga, and then it searches for the GDP of the associated region:"
   ]
  },
  {
   "cell_type": "code",
   "execution_count": 22,
   "metadata": {},
   "outputs": [
    {
     "data": {
      "text/plain": [
       "'Real Madrid won La Liga in the 2023-2024 season. The population of the Madrid metropolitan area in 2024 is projected to be approximately 6,783,000.'"
      ]
     },
     "execution_count": 22,
     "metadata": {},
     "output_type": "execute_result"
    }
   ],
   "source": [
    "result[\"messages\"][-1].content"
   ]
  },
  {
   "cell_type": "markdown",
   "metadata": {},
   "source": [
    "Note that in this case, the model could not implement a parallel search, as it required the answer from the first query to run the second one."
   ]
  },
  {
   "cell_type": "markdown",
   "metadata": {},
   "source": [
    "## Agentic Search Tools\n",
    "\n",
    "Agentic search is different from a regular search.\n",
    "\n",
    "The agentic search includes multiple steps that do not only perform the search, but also navigates the links to bring the results."
   ]
  },
  {
   "cell_type": "code",
   "execution_count": 6,
   "metadata": {},
   "outputs": [
    {
     "data": {
      "text/plain": [
       "'Oppenheimer will not be available on Netflix in the US until at least 2027, as per the latest information available.'"
      ]
     },
     "execution_count": 6,
     "metadata": {},
     "output_type": "execute_result"
    }
   ],
   "source": [
    "from dotenv import load_dotenv\n",
    "import os\n",
    "from tavily import TavilyClient\n",
    "\n",
    "_ = load_dotenv()\n",
    "\n",
    "client = TavilyClient(api_key=os.getenv(\"TAVILY_API_KEY\"))\n",
    "\n",
    "result = client.search(\"When will Openheimer be available in Netflix?\", include_answer=True)\n",
    "result[\"answer\"]"
   ]
  },
  {
   "cell_type": "markdown",
   "metadata": {},
   "source": [
    "Another example:"
   ]
  },
  {
   "cell_type": "code",
   "execution_count": 7,
   "metadata": {},
   "outputs": [],
   "source": [
    "city = \"Madrid\"\n",
    "\n",
    "query = f\"\"\"\n",
    "What is the weather in {city}?\n",
    "Should I travel there today?\n",
    "\"\"\"\n",
    "\n",
    "result = client.search(query, max_results=1)\n",
    "data = result[\"results\"][0][\"content\"]"
   ]
  },
  {
   "cell_type": "code",
   "execution_count": 8,
   "metadata": {},
   "outputs": [
    {
     "name": "stdout",
     "output_type": "stream",
     "text": [
      "{'location': {'name': 'Madrid', 'region': 'Madrid', 'country': 'Spain', 'lat': 40.4, 'lon': -3.68, 'tz_id': 'Europe/Madrid', 'localtime_epoch': 1723017842, 'localtime': '2024-08-07 10:04'}, 'current': {'last_updated_epoch': 1723017600, 'last_updated': '2024-08-07 10:00', 'temp_c': 31.4, 'temp_f': 88.5, 'is_day': 1, 'condition': {'text': 'Sunny', 'icon': '//cdn.weatherapi.com/weather/64x64/day/113.png', 'code': 1000}, 'wind_mph': 4.3, 'wind_kph': 6.8, 'wind_degree': 89, 'wind_dir': 'E', 'pressure_mb': 1012.0, 'pressure_in': 29.88, 'precip_mm': 0.0, 'precip_in': 0.0, 'humidity': 22, 'cloud': 0, 'feelslike_c': 29.4, 'feelslike_f': 85.0, 'windchill_c': 31.4, 'windchill_f': 88.5, 'heatindex_c': 29.4, 'heatindex_f': 85.0, 'dewpoint_c': 7.4, 'dewpoint_f': 45.2, 'vis_km': 10.0, 'vis_miles': 6.0, 'uv': 8.0, 'gust_mph': 4.9, 'gust_kph': 7.9}}\n"
     ]
    }
   ],
   "source": [
    "print(data)"
   ]
  },
  {
   "cell_type": "markdown",
   "metadata": {},
   "source": [
    "Note how the agentic search does not return what a human would want, but returns structure data, which is exactly what an agent would want."
   ]
  },
  {
   "cell_type": "markdown",
   "metadata": {},
   "source": [
    "## Persistence and Streaming\n",
    "\n",
    "Persistence lets you keep the state of an agent at a particular point in time, so so that you can potentially go back to that state and resume in that state for future interactions.\n",
    "\n",
    "Streaming lets you emit a list of signals of what's going on at that exact moment.\n",
    "\n",
    "Both are important for long-running applications in which you need to know what the agent is doing."
   ]
  },
  {
   "cell_type": "code",
   "execution_count": 1,
   "metadata": {},
   "outputs": [],
   "source": [
    "from dotenv import load_dotenv\n",
    "\n",
    "_ = load_dotenv()"
   ]
  },
  {
   "cell_type": "code",
   "execution_count": 2,
   "metadata": {},
   "outputs": [],
   "source": [
    "from langgraph.graph import StateGraph, END\n",
    "from typing import TypedDict, Annotated\n",
    "import operator\n",
    "from langchain_core.messages import AnyMessage, SystemMessage, HumanMessage, ToolMessage\n",
    "from langchain_openai import AzureChatOpenAI\n",
    "from langchain_community.tools.tavily_search import TavilySearchResults"
   ]
  },
  {
   "cell_type": "code",
   "execution_count": 3,
   "metadata": {},
   "outputs": [],
   "source": [
    "tool = TavilySearchResults(max_results=2)"
   ]
  },
  {
   "cell_type": "code",
   "execution_count": 4,
   "metadata": {},
   "outputs": [],
   "source": [
    "class AgentState(TypedDict):\n",
    "    messages: Annotated[list[AnyMessage], operator.add]"
   ]
  },
  {
   "cell_type": "markdown",
   "metadata": {},
   "source": [
    "Now, before defining our agent we'll add persistence.\n",
    "\n",
    "For that, we need another component called a *check pointer* that essentially checkpoints the state after and between every node.\n",
    "\n",
    "We'll use the simple `SqliteSaver` checkpointer that uses Sqlite under the hood. We'll configure it with the in-memory option:"
   ]
  },
  {
   "cell_type": "code",
   "execution_count": 5,
   "metadata": {},
   "outputs": [],
   "source": [
    "from langgraph.checkpoint.sqlite import SqliteSaver\n",
    "\n",
    "memory = SqliteSaver.from_conn_string(\":memory:\")"
   ]
  },
  {
   "cell_type": "markdown",
   "metadata": {},
   "source": [
    "Now we make the necessary changes to make the agent aware of the checkpointer:"
   ]
  },
  {
   "cell_type": "code",
   "execution_count": 7,
   "metadata": {},
   "outputs": [],
   "source": [
    "class Agent:\n",
    "    def __init__(self, model, tools, checkpointer, system=\"\"):\n",
    "        self.system = system\n",
    "        graph = StateGraph(AgentState)\n",
    "        graph.add_node(\"llm\", self.call_openai)\n",
    "        graph.add_node(\"action\", self.take_action)\n",
    "        graph.add_conditional_edges(\"llm\", self.exists_action, {True: \"action\", False: END})\n",
    "        graph.add_edge(\"action\", \"llm\")\n",
    "        graph.set_entry_point(\"llm\")\n",
    "        self.graph = graph.compile(checkpointer=checkpointer)\n",
    "        self.tools = {t.name: t for t in tools}\n",
    "        self.model = model.bind_tools(tools)\n",
    "\n",
    "    def call_openai(self, state: AgentState):\n",
    "        messages = state[\"messages\"]\n",
    "        if self.system:\n",
    "            messages = [SystemMessage(content=self.system)] + messages\n",
    "        message = self.model.invoke(messages)\n",
    "        return {\"messages\": [message]}\n",
    "\n",
    "    def exists_action(self, state: AgentState):\n",
    "        result = state[\"messages\"][-1]\n",
    "        return len(result.tool_calls) > 0\n",
    "\n",
    "    def take_action(self, state: AgentState):\n",
    "        tool_calls = state[\"messages\"][-1].tool_calls\n",
    "        results = []\n",
    "        for t in tool_calls:\n",
    "            print(f\">> calling: {t}\")\n",
    "            result = self.tools[t[\"name\"]].invoke(t[\"args\"])\n",
    "            results.append(ToolMessage(tool_call_id=t[\"id\"], name=t[\"name\"], content=str(result)))\n",
    "        print(\">> back to the model\")\n",
    "        return {\"messages\": results}\n"
   ]
  },
  {
   "cell_type": "markdown",
   "metadata": {},
   "source": [
    "We can now create our agent"
   ]
  },
  {
   "cell_type": "code",
   "execution_count": 9,
   "metadata": {},
   "outputs": [],
   "source": [
    "prompt = \"\"\"\n",
    "You are a smart research assistant. Use the search engine to look up information.\n",
    "You are allowed to make multiple calls (either together or in sequence).\n",
    "Only look up information when you are sure of what you want.\n",
    "If you need to look up some information before asking a follow up question, you are allowed to do that!\n",
    "\"\"\"\n",
    "\n",
    "model = AzureChatOpenAI(\n",
    "    openai_api_version=\"2023-05-15\",\n",
    "    azure_deployment=\"chat_gpt4o\",\n",
    "    model=\"gpt-4o\",\n",
    "    temperature=0\n",
    ")\n",
    "\n",
    "abot = Agent(model, [tool], system=prompt, checkpointer=memory)"
   ]
  },
  {
   "cell_type": "markdown",
   "metadata": {},
   "source": [
    "Now we're going to add the streaming capabilities.\n",
    "\n",
    "There are two different dimensions to consider:\n",
    "+ streaming the individual messages. This would be the AI message that determines what action to take, and the observation message that represents the result of taking a given action.\n",
    "+ streaming the tokens. This means stream the output of the LLM call.\n",
    "\n",
    "Let's start configuring the message streaming."
   ]
  },
  {
   "cell_type": "markdown",
   "metadata": {},
   "source": [
    "Let's start by creating a human message and add the concept of a thread config:"
   ]
  },
  {
   "cell_type": "code",
   "execution_count": 8,
   "metadata": {},
   "outputs": [],
   "source": [
    "messages = [HumanMessage(content=\"What is the weather Luengos de los Oteros, near Santas Martas, in León, Spain?\")]"
   ]
  },
  {
   "cell_type": "markdown",
   "metadata": {},
   "source": [
    "This keep tracks of different threads inside the persistence checkpointer so that we can have multiple conversations going on at the same time (which is needed for production apps with many users).\n",
    "\n",
    "The thread config is just a dictionary with a configurable key."
   ]
  },
  {
   "cell_type": "code",
   "execution_count": 9,
   "metadata": {},
   "outputs": [],
   "source": [
    "thread = {\"configurable\": {\"thread_id\": \"1\"}}"
   ]
  },
  {
   "cell_type": "markdown",
   "metadata": {},
   "source": [
    "Now we're going to call the graph with `stream` instead of `invoke` passing the messages and the thread config:"
   ]
  },
  {
   "cell_type": "code",
   "execution_count": 10,
   "metadata": {},
   "outputs": [
    {
     "name": "stdout",
     "output_type": "stream",
     "text": [
      "[AIMessage(content='', additional_kwargs={'tool_calls': [{'id': 'call_F6IWm0oGszECYN0BcFSGA6u3', 'function': {'arguments': '{\"query\":\"current weather in Luengos de los Oteros, near Santas Martas, León, Spain\"}', 'name': 'tavily_search_results_json'}, 'type': 'function'}]}, response_metadata={'token_usage': {'completion_tokens': 37, 'prompt_tokens': 168, 'total_tokens': 205}, 'model_name': 'gpt-4o-2024-05-13', 'system_fingerprint': 'fp_abc28019ad', 'finish_reason': 'tool_calls', 'logprobs': None, 'content_filter_results': {}}, id='run-cd8a4907-b18e-4b6e-9fd8-cd6c1fa98dc3-0', tool_calls=[{'name': 'tavily_search_results_json', 'args': {'query': 'current weather in Luengos de los Oteros, near Santas Martas, León, Spain'}, 'id': 'call_F6IWm0oGszECYN0BcFSGA6u3', 'type': 'tool_call'}], usage_metadata={'input_tokens': 168, 'output_tokens': 37, 'total_tokens': 205})]\n",
      ">> calling: {'name': 'tavily_search_results_json', 'args': {'query': 'current weather in Luengos de los Oteros, near Santas Martas, León, Spain'}, 'id': 'call_F6IWm0oGszECYN0BcFSGA6u3', 'type': 'tool_call'}\n",
      ">> back to the model\n",
      "[ToolMessage(content='[{\\'url\\': \\'https://www.weatherapi.com/\\', \\'content\\': \"{\\'location\\': {\\'name\\': \\'Santas Martas\\', \\'region\\': \\'Castilla y Leon\\', \\'country\\': \\'Spain\\', \\'lat\\': 42.43, \\'lon\\': -5.37, \\'tz_id\\': \\'Europe/Madrid\\', \\'localtime_epoch\\': 1723021006, \\'localtime\\': \\'2024-08-07 10:56\\'}, \\'current\\': {\\'last_updated_epoch\\': 1723020300, \\'last_updated\\': \\'2024-08-07 10:45\\', \\'temp_c\\': 25.0, \\'temp_f\\': 76.9, \\'is_day\\': 1, \\'condition\\': {\\'text\\': \\'Sunny\\', \\'icon\\': \\'//cdn.weatherapi.com/weather/64x64/day/113.png\\', \\'code\\': 1000}, \\'wind_mph\\': 3.6, \\'wind_kph\\': 5.8, \\'wind_degree\\': 134, \\'wind_dir\\': \\'SE\\', \\'pressure_mb\\': 1015.0, \\'pressure_in\\': 29.96, \\'precip_mm\\': 0.0, \\'precip_in\\': 0.0, \\'humidity\\': 44, \\'cloud\\': 5, \\'feelslike_c\\': 25.6, \\'feelslike_f\\': 78.0, \\'windchill_c\\': 25.0, \\'windchill_f\\': 76.9, \\'heatindex_c\\': 25.6, \\'heatindex_f\\': 78.0, \\'dewpoint_c\\': 12.0, \\'dewpoint_f\\': 53.6, \\'vis_km\\': 10.0, \\'vis_miles\\': 6.0, \\'uv\\': 6.0, \\'gust_mph\\': 4.1, \\'gust_kph\\': 6.6}}\"}, {\\'url\\': \\'https://www.accuweather.com/en/es/rebollar-de-los-oteros/1453792/current-weather/1453792\\', \\'content\\': \\'Current weather in Rebollar de los Oteros, Castile and Leon, Spain. Check current conditions in Rebollar de los Oteros, Castile and Leon, Spain with radar, hourly, and more.\\'}]', name='tavily_search_results_json', tool_call_id='call_F6IWm0oGszECYN0BcFSGA6u3')]\n",
      "[AIMessage(content='The current weather in Luengos de los Oteros, near Santas Martas, León, Spain is as follows:\\n\\n- **Temperature**: 25.0°C (76.9°F)\\n- **Condition**: Sunny\\n- **Wind**: 5.8 kph (3.6 mph) from the southeast\\n- **Humidity**: 44%\\n- **Pressure**: 1015.0 mb\\n- **Visibility**: 10 km (6 miles)\\n- **UV Index**: 6\\n\\nThe weather is clear with minimal cloud cover (5%). The temperature feels like 25.6°C (78.0°F).', response_metadata={'token_usage': {'completion_tokens': 137, 'prompt_tokens': 698, 'total_tokens': 835}, 'model_name': 'gpt-4o-2024-05-13', 'system_fingerprint': 'fp_abc28019ad', 'finish_reason': 'stop', 'logprobs': None, 'content_filter_results': {}}, id='run-0b6bafe4-d1fc-441c-b064-c96f99090e9f-0', usage_metadata={'input_tokens': 698, 'output_tokens': 137, 'total_tokens': 835})]\n"
     ]
    }
   ],
   "source": [
    "for event in abot.graph.stream({\"messages\": messages}, thread):\n",
    "    for v in event.values():\n",
    "        print(v[\"messages\"])"
   ]
  },
  {
   "cell_type": "markdown",
   "metadata": {},
   "source": [
    "Because we have persistence, we can now do:"
   ]
  },
  {
   "cell_type": "code",
   "execution_count": 11,
   "metadata": {},
   "outputs": [
    {
     "name": "stdout",
     "output_type": "stream",
     "text": [
      "[AIMessage(content='', additional_kwargs={'tool_calls': [{'id': 'call_2GJ87S0Yr7StPsvYQfBM94FT', 'function': {'arguments': '{\"query\":\"current weather in León, Spain\"}', 'name': 'tavily_search_results_json'}, 'type': 'function'}]}, response_metadata={'token_usage': {'completion_tokens': 23, 'prompt_tokens': 848, 'total_tokens': 871}, 'model_name': 'gpt-4o-2024-05-13', 'system_fingerprint': 'fp_abc28019ad', 'finish_reason': 'tool_calls', 'logprobs': None, 'content_filter_results': {}}, id='run-0ff13007-76e2-45f1-8ef2-7befb34f6b9a-0', tool_calls=[{'name': 'tavily_search_results_json', 'args': {'query': 'current weather in León, Spain'}, 'id': 'call_2GJ87S0Yr7StPsvYQfBM94FT', 'type': 'tool_call'}], usage_metadata={'input_tokens': 848, 'output_tokens': 23, 'total_tokens': 871})]\n",
      ">> calling: {'name': 'tavily_search_results_json', 'args': {'query': 'current weather in León, Spain'}, 'id': 'call_2GJ87S0Yr7StPsvYQfBM94FT', 'type': 'tool_call'}\n",
      ">> back to the model\n",
      "[ToolMessage(content='[{\\'url\\': \\'https://www.weatherapi.com/\\', \\'content\\': \"{\\'location\\': {\\'name\\': \\'Madrid\\', \\'region\\': \\'Madrid\\', \\'country\\': \\'Spain\\', \\'lat\\': 40.4, \\'lon\\': -3.68, \\'tz_id\\': \\'Europe/Madrid\\', \\'localtime_epoch\\': 1723021126, \\'localtime\\': \\'2024-08-07 10:58\\'}, \\'current\\': {\\'last_updated_epoch\\': 1723020300, \\'last_updated\\': \\'2024-08-07 10:45\\', \\'temp_c\\': 31.4, \\'temp_f\\': 88.5, \\'is_day\\': 1, \\'condition\\': {\\'text\\': \\'Sunny\\', \\'icon\\': \\'//cdn.weatherapi.com/weather/64x64/day/113.png\\', \\'code\\': 1000}, \\'wind_mph\\': 4.3, \\'wind_kph\\': 6.8, \\'wind_degree\\': 89, \\'wind_dir\\': \\'E\\', \\'pressure_mb\\': 1012.0, \\'pressure_in\\': 29.88, \\'precip_mm\\': 0.0, \\'precip_in\\': 0.0, \\'humidity\\': 22, \\'cloud\\': 0, \\'feelslike_c\\': 29.4, \\'feelslike_f\\': 85.0, \\'windchill_c\\': 31.4, \\'windchill_f\\': 88.5, \\'heatindex_c\\': 29.4, \\'heatindex_f\\': 85.0, \\'dewpoint_c\\': 7.4, \\'dewpoint_f\\': 45.2, \\'vis_km\\': 10.0, \\'vis_miles\\': 6.0, \\'uv\\': 8.0, \\'gust_mph\\': 4.9, \\'gust_kph\\': 7.9}}\"}, {\\'url\\': \\'https://www.timeanddate.com/weather/@3118532/ext\\', \\'content\\': \\'León 14 Day Extended Forecast. Weather Today Weather Hourly 14 Day Forecast Yesterday/Past Weather Climate (Averages) Currently: 88 °F. Hot.\\'}]', name='tavily_search_results_json', tool_call_id='call_2GJ87S0Yr7StPsvYQfBM94FT')]\n",
      "[AIMessage(content='The current weather in León, Spain is as follows:\\n\\n- **Temperature**: 31.4°C (88.5°F)\\n- **Condition**: Sunny\\n- **Wind**: 6.8 kph (4.3 mph) from the east\\n- **Humidity**: 22%\\n- **Pressure**: 1012.0 mb\\n- **Visibility**: 10 km (6 miles)\\n- **UV Index**: 8\\n\\nThe weather is clear with no cloud cover. The temperature feels like 29.4°C (85.0°F).', response_metadata={'token_usage': {'completion_tokens': 121, 'prompt_tokens': 1337, 'total_tokens': 1458}, 'model_name': 'gpt-4o-2024-05-13', 'system_fingerprint': 'fp_abc28019ad', 'finish_reason': 'stop', 'logprobs': None, 'content_filter_results': {}}, id='run-aa4a8866-e704-431e-a4e3-4dd88d817cbd-0', usage_metadata={'input_tokens': 1337, 'output_tokens': 121, 'total_tokens': 1458})]\n"
     ]
    }
   ],
   "source": [
    "messages = [HumanMessage(content=\"And in León, Spain?\")]\n",
    "thread = {\"configurable\": {\"thread_id\": \"1\"}}\n",
    "for event in abot.graph.stream({\"messages\": messages}, thread):\n",
    "    for v in event.values():\n",
    "        print(v[\"messages\"])"
   ]
  },
  {
   "cell_type": "markdown",
   "metadata": {},
   "source": [
    "Note that we didn't have to include the context about the whether, because the agent has all the state persisted and knows that we were asking about the weather.\n",
    "\n",
    "But we can even performed more sophisticated questions:"
   ]
  },
  {
   "cell_type": "code",
   "execution_count": 12,
   "metadata": {},
   "outputs": [
    {
     "name": "stdout",
     "output_type": "stream",
     "text": [
      "[AIMessage(content='León, Spain is currently warmer than Luengos de los Oteros, near Santas Martas, León, Spain.\\n\\n- **León**: 31.4°C (88.5°F)\\n- **Luengos de los Oteros**: 25.0°C (76.9°F)', response_metadata={'token_usage': {'completion_tokens': 66, 'prompt_tokens': 1470, 'total_tokens': 1536}, 'model_name': 'gpt-4o-2024-05-13', 'system_fingerprint': 'fp_abc28019ad', 'finish_reason': 'stop', 'logprobs': None, 'content_filter_results': {}}, id='run-855a940d-14bf-49ec-a940-691924d08102-0', usage_metadata={'input_tokens': 1470, 'output_tokens': 66, 'total_tokens': 1536})]\n"
     ]
    }
   ],
   "source": [
    "messages = [HumanMessage(content=\"Which one is warmer?\")]\n",
    "thread = {\"configurable\": {\"thread_id\": \"1\"}}\n",
    "for event in abot.graph.stream({\"messages\": messages}, thread):\n",
    "    for v in event.values():\n",
    "        print(v[\"messages\"])"
   ]
  },
  {
   "cell_type": "markdown",
   "metadata": {},
   "source": [
    "Note as well, that if we change the thread config, the agent will not know how to answer: "
   ]
  },
  {
   "cell_type": "code",
   "execution_count": 13,
   "metadata": {},
   "outputs": [
    {
     "name": "stdout",
     "output_type": "stream",
     "text": [
      "[AIMessage(content='Could you please provide more context or specify the items or locations you are comparing in terms of warmth? This will help me give you a more accurate answer.', response_metadata={'token_usage': {'completion_tokens': 32, 'prompt_tokens': 150, 'total_tokens': 182}, 'model_name': 'gpt-4o-2024-05-13', 'system_fingerprint': 'fp_abc28019ad', 'finish_reason': 'stop', 'logprobs': None, 'content_filter_results': {}}, id='run-a0479edd-1f58-462e-8b00-e2f316186577-0', usage_metadata={'input_tokens': 150, 'output_tokens': 32, 'total_tokens': 182})]\n"
     ]
    }
   ],
   "source": [
    "messages = [HumanMessage(content=\"Which one is warmer?\")]\n",
    "thread = {\"configurable\": {\"thread_id\": \"2\"}}\n",
    "for event in abot.graph.stream({\"messages\": messages}, thread):\n",
    "    for v in event.values():\n",
    "        print(v[\"messages\"])"
   ]
  },
  {
   "cell_type": "markdown",
   "metadata": {},
   "source": [
    "To stream tokens we will need to change the implementation of the checkpointer, to use an async one:"
   ]
  },
  {
   "cell_type": "code",
   "execution_count": 10,
   "metadata": {},
   "outputs": [],
   "source": [
    "from langgraph.checkpoint.aiosqlite import AsyncSqliteSaver\n",
    "\n",
    "memory = AsyncSqliteSaver.from_conn_string(\":memory:\")\n",
    "abot = Agent(model, [tool], system=prompt, checkpointer=memory)"
   ]
  },
  {
   "cell_type": "markdown",
   "metadata": {},
   "source": [
    "Now we can start using the async methods:"
   ]
  },
  {
   "cell_type": "code",
   "execution_count": 12,
   "metadata": {},
   "outputs": [
    {
     "name": "stdout",
     "output_type": "stream",
     "text": [
      ">> calling: {'name': 'tavily_search_results_json', 'args': {'query': 'current weather Luengos de los Oteros, near Santas Martas, León, Spain'}, 'id': 'call_HB8aT455wzdYEIB8vyZ93lgT', 'type': 'tool_call'}\n",
      ">> back to the model\n",
      "The| current| weather| in| Lu|eng|os| de| los| O|teros|,| near| Sant|as| Mart|as|,| León|,| Spain| is| as| follows|:\n",
      "\n",
      "|-| **|Temperature|**|:| |26|.|8|°C| (|80|.|3|°F|)\n",
      "|-| **|Condition|**|:| Sunny|\n",
      "|-| **|Wind|**|:| |7|.|2| k|ph| (|4|.|5| mph|)| from| the| southeast|\n",
      "|-| **|Humidity|**|:| |38|%\n",
      "|-| **|Pressure|**|:| |101|4|.|0| mb|\n",
      "|-| **|Visibility|**|:| |10| km| (|6| miles|)\n",
      "|-| **|UV| Index|**|:| |7|\n",
      "\n",
      "|The| weather| is| clear| with| minimal| cloud| cover| (|5|%).|"
     ]
    }
   ],
   "source": [
    "messages = [HumanMessage(content=\"What is the weather Luengos de los Oteros, near Santas Martas, in León, Spain?\")]\n",
    "thread = {\"configurable\": {\"thread_id\": \"5\"}}\n",
    "async for event in abot.graph.astream_events({\"messages\": messages}, thread, version=\"v1\"):\n",
    "    kind = event[\"event\"]\n",
    "    if kind == \"on_chat_model_stream\":\n",
    "        content = event[\"data\"][\"chunk\"].content\n",
    "        if content:\n",
    "            # we only print the non-empty content\n",
    "            # (content will be emptyif the model is asking for a tool to be invoked)\n",
    "            print(content, end=\"|\")\n"
   ]
  },
  {
   "cell_type": "markdown",
   "metadata": {},
   "source": [
    "In summary:\n",
    "+ you're going to want your agents to be able to have multiple conversations at the same time and have the concept of memory so that they can resume those conversations.\n",
    "+ You're going to want your agents to stream both the final tokens and the messages that came before.\n",
    "\n",
    "Persistence is also important for enabling \"human in the loop\" type interactions."
   ]
  },
  {
   "cell_type": "markdown",
   "metadata": {},
   "source": [
    "## Human in the loop"
   ]
  },
  {
   "cell_type": "code",
   "execution_count": 1,
   "metadata": {},
   "outputs": [],
   "source": [
    "from dotenv import load_dotenv\n",
    "\n",
    "_ = load_dotenv()"
   ]
  },
  {
   "cell_type": "code",
   "execution_count": 2,
   "metadata": {},
   "outputs": [],
   "source": [
    "from langgraph.graph import StateGraph, END\n",
    "from typing import TypedDict, Annotated\n",
    "from langchain_core.messages import AnyMessage, SystemMessage, HumanMessage, ToolMessage\n",
    "from langchain_openai import AzureChatOpenAI\n",
    "from langchain_community.tools.tavily_search import TavilySearchResults\n",
    "from langgraph.checkpoint.sqlite import SqliteSaver\n",
    "\n",
    "memory = SqliteSaver.from_conn_string(\":memory:\")"
   ]
  },
  {
   "cell_type": "markdown",
   "metadata": {},
   "source": [
    "For this human in the loop interactions we want to replace existing messages.\n",
    "\n",
    "We will use a custom reducer for message that will basically look for messages with the same ID and if it sees that you're inserting one with the same ID as one that already exists, it's just going to replace that. Otherwise it will append them."
   ]
  },
  {
   "cell_type": "code",
   "execution_count": 3,
   "metadata": {},
   "outputs": [],
   "source": [
    "from uuid import uuid4\n",
    "from langchain_core.messages import AnyMessage, SystemMessage, HumanMessage, AIMessage\n",
    "\n",
    "def reduce_messages(left: list[AnyMessage], right: list[AnyMessage]) -> list[AnyMessage]:\n",
    "    # assign ids to messages that don't have them\n",
    "    for message in right:\n",
    "        if not message.id:\n",
    "            message.id = str(uuid4())\n",
    "    # merge the new messages with the existing messages\n",
    "    merged = left.copy()\n",
    "    for message in right:\n",
    "        for i, existing in enumerate(merged):\n",
    "            # replace any existing messages with the same id\n",
    "            if existing.id == message.id:\n",
    "                merged[i] = message\n",
    "                break\n",
    "        else:\n",
    "            # append any new messages to the end\n",
    "            merged.append(message)\n",
    "    return merged\n",
    "\n",
    "class AgentState(TypedDict):\n",
    "    messages: Annotated[list[AnyMessage], reduce_messages]"
   ]
  },
  {
   "cell_type": "code",
   "execution_count": 4,
   "metadata": {},
   "outputs": [],
   "source": [
    "tool = TavilySearchResults(max_results=2)"
   ]
  },
  {
   "cell_type": "markdown",
   "metadata": {},
   "source": [
    "In the agent we will introduce a small modification in which we will pass `interrupt_before=[\"action\"]` when instantiating the agent.\n",
    "\n",
    "This is going to add an interrupt before we call the action node, and the action node is where we call the tools.\n",
    "\n",
    "The idea is to add something that requires manual approval before we run any tools. This might be useful to make sure that tools are executed correctly."
   ]
  },
  {
   "cell_type": "code",
   "execution_count": 5,
   "metadata": {},
   "outputs": [],
   "source": [
    "class Agent:\n",
    "    def __init__(self, model, tools, checkpointer, system=\"\"):\n",
    "        self.system = system\n",
    "        graph = StateGraph(AgentState)\n",
    "        graph.add_node(\"llm\", self.call_openai)\n",
    "        graph.add_node(\"action\", self.take_action)\n",
    "        graph.add_conditional_edges(\"llm\", self.exists_action, {True: \"action\", False: END})\n",
    "        graph.add_edge(\"action\", \"llm\")\n",
    "        graph.set_entry_point(\"llm\")\n",
    "        self.graph = graph.compile(\n",
    "            checkpointer=checkpointer,\n",
    "            interrupt_before=[\"action\"]\n",
    "        )\n",
    "        self.tools = {t.name: t for t in tools}\n",
    "        self.model = model.bind_tools(tools)\n",
    "\n",
    "    def call_openai(self, state: AgentState):\n",
    "        messages = state[\"messages\"]\n",
    "        if self.system:\n",
    "            messages = [SystemMessage(content=self.system)] + messages\n",
    "        message = self.model.invoke(messages)\n",
    "        return {\"messages\": [message]}\n",
    "\n",
    "    def exists_action(self, state: AgentState):\n",
    "        print(state)\n",
    "        result = state[\"messages\"][-1]\n",
    "        return len(result.tool_calls) > 0\n",
    "\n",
    "    def take_action(self, state: AgentState):\n",
    "        tool_calls = state[\"messages\"][-1].tool_calls\n",
    "        results = []\n",
    "        for t in tool_calls:\n",
    "            print(f\">> calling: {t}\")\n",
    "            result = self.tools[t[\"name\"]].invoke(t[\"args\"])\n",
    "            results.append(ToolMessage(tool_call_id=t[\"id\"], name=t[\"name\"], content=str(result)))\n",
    "        print(\">> back to the model\")\n",
    "        return {\"messages\": results}\n"
   ]
  },
  {
   "cell_type": "markdown",
   "metadata": {},
   "source": [
    "Now we initialize the agent:"
   ]
  },
  {
   "cell_type": "code",
   "execution_count": 6,
   "metadata": {},
   "outputs": [],
   "source": [
    "prompt = \"\"\"\n",
    "You are a smart research assistant. Use the search engine to look up information.\n",
    "You are allowed to make multiple calls (either together or in sequence).\n",
    "Only look up information when you are sure of what you want.\n",
    "If you need to look up some information before asking a follow up question, you are allowed to do that!\n",
    "\"\"\"\n",
    "\n",
    "model = AzureChatOpenAI(\n",
    "    openai_api_version=\"2023-05-15\",\n",
    "    azure_deployment=\"chat_gpt4o\",\n",
    "    model=\"gpt-4o\",\n",
    "    temperature=0\n",
    ")\n",
    "\n",
    "abot = Agent(model, [tool], system=prompt, checkpointer=memory)"
   ]
  },
  {
   "cell_type": "markdown",
   "metadata": {},
   "source": [
    "And call it:"
   ]
  },
  {
   "cell_type": "code",
   "execution_count": 7,
   "metadata": {},
   "outputs": [
    {
     "name": "stdout",
     "output_type": "stream",
     "text": [
      "{'messages': [HumanMessage(content='What is the weather Luengos de los Oteros, near Santas Martas, in León, Spain?', id='1803c8e0-f64f-4c2d-a80b-6f205e4669cd'), AIMessage(content='', additional_kwargs={'tool_calls': [{'id': 'call_gKdQhx57MzGdMH1eGI9HBu0d', 'function': {'arguments': '{\"query\":\"current weather in Luengos de los Oteros, near Santas Martas, León, Spain\"}', 'name': 'tavily_search_results_json'}, 'type': 'function'}]}, response_metadata={'token_usage': {'completion_tokens': 37, 'prompt_tokens': 168, 'total_tokens': 205}, 'model_name': 'gpt-4o-2024-05-13', 'system_fingerprint': 'fp_abc28019ad', 'finish_reason': 'tool_calls', 'logprobs': None, 'content_filter_results': {}}, id='run-9b8e50bc-43ae-41f1-bd8a-e6544949afbd-0', tool_calls=[{'name': 'tavily_search_results_json', 'args': {'query': 'current weather in Luengos de los Oteros, near Santas Martas, León, Spain'}, 'id': 'call_gKdQhx57MzGdMH1eGI9HBu0d', 'type': 'tool_call'}], usage_metadata={'input_tokens': 168, 'output_tokens': 37, 'total_tokens': 205})]}\n",
      "{'messages': [AIMessage(content='', additional_kwargs={'tool_calls': [{'id': 'call_gKdQhx57MzGdMH1eGI9HBu0d', 'function': {'arguments': '{\"query\":\"current weather in Luengos de los Oteros, near Santas Martas, León, Spain\"}', 'name': 'tavily_search_results_json'}, 'type': 'function'}]}, response_metadata={'token_usage': {'completion_tokens': 37, 'prompt_tokens': 168, 'total_tokens': 205}, 'model_name': 'gpt-4o-2024-05-13', 'system_fingerprint': 'fp_abc28019ad', 'finish_reason': 'tool_calls', 'logprobs': None, 'content_filter_results': {}}, id='run-9b8e50bc-43ae-41f1-bd8a-e6544949afbd-0', tool_calls=[{'name': 'tavily_search_results_json', 'args': {'query': 'current weather in Luengos de los Oteros, near Santas Martas, León, Spain'}, 'id': 'call_gKdQhx57MzGdMH1eGI9HBu0d', 'type': 'tool_call'}], usage_metadata={'input_tokens': 168, 'output_tokens': 37, 'total_tokens': 205})]}\n"
     ]
    }
   ],
   "source": [
    "messages = [HumanMessage(content=\"What is the weather Luengos de los Oteros, near Santas Martas, in León, Spain?\")]\n",
    "thread = {\"configurable\": {\"thread_id\": \"1\"}}\n",
    "for event in abot.graph.stream({\"messages\": messages}, thread):\n",
    "    for v in event.values():\n",
    "        print(v)"
   ]
  },
  {
   "cell_type": "markdown",
   "metadata": {},
   "source": [
    "Check how we stop after the AIMessage, because the AI message is telling us to call a tool.\n",
    "\n",
    "We can get the current state of the graph for this thread at this point in time:"
   ]
  },
  {
   "cell_type": "code",
   "execution_count": 33,
   "metadata": {},
   "outputs": [
    {
     "data": {
      "text/plain": [
       "StateSnapshot(values={'messages': [HumanMessage(content='What is the weather Luengos de los Oteros, near Santas Martas, in León, Spain?', id='f261c403-38a0-472b-ab67-a5def96534f8'), AIMessage(content='', additional_kwargs={'tool_calls': [{'id': 'call_JIF8OHzZjdrhMJadJMkxas8E', 'function': {'arguments': '{\"query\":\"current weather Luengos de los Oteros, near Santas Martas, León, Spain\"}', 'name': 'tavily_search_results_json'}, 'type': 'function'}]}, response_metadata={'token_usage': {'completion_tokens': 36, 'prompt_tokens': 168, 'total_tokens': 204}, 'model_name': 'gpt-4o-2024-05-13', 'system_fingerprint': 'fp_abc28019ad', 'finish_reason': 'tool_calls', 'logprobs': None, 'content_filter_results': {}}, id='run-58e12fc6-2719-4bd3-ad9b-796f3a58cfe0-0', tool_calls=[{'name': 'tavily_search_results_json', 'args': {'query': 'current weather Luengos de los Oteros, near Santas Martas, León, Spain'}, 'id': 'call_JIF8OHzZjdrhMJadJMkxas8E', 'type': 'tool_call'}], usage_metadata={'input_tokens': 168, 'output_tokens': 36, 'total_tokens': 204})]}, next=('action',), config={'configurable': {'thread_id': '1', 'thread_ts': '1ef54a6e-0c83-6443-8007-9a21e9ecdcee'}}, metadata={'source': 'loop', 'writes': {'llm': {'messages': [AIMessage(content='', additional_kwargs={'tool_calls': [{'id': 'call_JIF8OHzZjdrhMJadJMkxas8E', 'function': {'arguments': '{\"query\":\"current weather Luengos de los Oteros, near Santas Martas, León, Spain\"}', 'name': 'tavily_search_results_json'}, 'type': 'function'}]}, response_metadata={'token_usage': {'completion_tokens': 36, 'prompt_tokens': 168, 'total_tokens': 204}, 'model_name': 'gpt-4o-2024-05-13', 'system_fingerprint': 'fp_abc28019ad', 'finish_reason': 'tool_calls', 'logprobs': None, 'content_filter_results': {}}, id='run-58e12fc6-2719-4bd3-ad9b-796f3a58cfe0-0', tool_calls=[{'name': 'tavily_search_results_json', 'args': {'query': 'current weather Luengos de los Oteros, near Santas Martas, León, Spain'}, 'id': 'call_JIF8OHzZjdrhMJadJMkxas8E', 'type': 'tool_call'}], usage_metadata={'input_tokens': 168, 'output_tokens': 36, 'total_tokens': 204})]}}, 'step': 7}, created_at='2024-08-07T10:21:58.429586+00:00', parent_config={'configurable': {'thread_id': '1', 'thread_ts': '1ef54a6d-fa3e-6689-8006-7ff82d165c83'}})"
      ]
     },
     "execution_count": 33,
     "metadata": {},
     "output_type": "execute_result"
    }
   ],
   "source": [
    "abot.graph.get_state(thread)"
   ]
  },
  {
   "cell_type": "markdown",
   "metadata": {},
   "source": [
    "We can also use next to understand what we should be doing next:"
   ]
  },
  {
   "cell_type": "code",
   "execution_count": 34,
   "metadata": {},
   "outputs": [
    {
     "data": {
      "text/plain": [
       "('action',)"
      ]
     },
     "execution_count": 34,
     "metadata": {},
     "output_type": "execute_result"
    }
   ],
   "source": [
    "abot.graph.get_state(thread).next"
   ]
  },
  {
   "cell_type": "markdown",
   "metadata": {},
   "source": [
    "This means we're about to call the action node."
   ]
  },
  {
   "cell_type": "markdown",
   "metadata": {},
   "source": [
    "In order to continue we can just call stream passing `None` as the input (instead of messages):"
   ]
  },
  {
   "cell_type": "code",
   "execution_count": 35,
   "metadata": {},
   "outputs": [
    {
     "name": "stdout",
     "output_type": "stream",
     "text": [
      ">> calling: {'name': 'tavily_search_results_json', 'args': {'query': 'current weather Luengos de los Oteros, near Santas Martas, León, Spain'}, 'id': 'call_JIF8OHzZjdrhMJadJMkxas8E', 'type': 'tool_call'}\n",
      ">> back to the model\n",
      "{'messages': [ToolMessage(content='[{\\'url\\': \\'https://www.weatherapi.com/\\', \\'content\\': \"{\\'location\\': {\\'name\\': \\'Santas Martas\\', \\'region\\': \\'Castilla y Leon\\', \\'country\\': \\'Spain\\', \\'lat\\': 42.43, \\'lon\\': -5.37, \\'tz_id\\': \\'Europe/Madrid\\', \\'localtime_epoch\\': 1723026360, \\'localtime\\': \\'2024-08-07 12:26\\'}, \\'current\\': {\\'last_updated_epoch\\': 1723025700, \\'last_updated\\': \\'2024-08-07 12:15\\', \\'temp_c\\': 28.4, \\'temp_f\\': 83.2, \\'is_day\\': 1, \\'condition\\': {\\'text\\': \\'Sunny\\', \\'icon\\': \\'//cdn.weatherapi.com/weather/64x64/day/113.png\\', \\'code\\': 1000}, \\'wind_mph\\': 5.6, \\'wind_kph\\': 9.0, \\'wind_degree\\': 165, \\'wind_dir\\': \\'SSE\\', \\'pressure_mb\\': 1013.0, \\'pressure_in\\': 29.91, \\'precip_mm\\': 0.0, \\'precip_in\\': 0.0, \\'humidity\\': 32, \\'cloud\\': 4, \\'feelslike_c\\': 27.5, \\'feelslike_f\\': 81.6, \\'windchill_c\\': 28.4, \\'windchill_f\\': 83.2, \\'heatindex_c\\': 27.5, \\'heatindex_f\\': 81.6, \\'dewpoint_c\\': 10.2, \\'dewpoint_f\\': 50.3, \\'vis_km\\': 10.0, \\'vis_miles\\': 6.0, \\'uv\\': 7.0, \\'gust_mph\\': 6.4, \\'gust_kph\\': 10.4}}\"}, {\\'url\\': \\'https://www.yourweather.co.uk/weather_Luengos-Europe-Spain-Leon--1-87347.html\\', \\'content\\': \\'Luengos Weather Forecast. Access detailed hourly and 14 day forecasts, current conditions, maps, warnings, meteograms, historical data and more for Luengos\\'}]', name='tavily_search_results_json', tool_call_id='call_JIF8OHzZjdrhMJadJMkxas8E')]}\n",
      "{'messages': [HumanMessage(content='What is the weather Luengos de los Oteros, near Santas Martas, in León, Spain?', id='f261c403-38a0-472b-ab67-a5def96534f8'), AIMessage(content='', additional_kwargs={'tool_calls': [{'id': 'call_JIF8OHzZjdrhMJadJMkxas8E', 'function': {'arguments': '{\"query\":\"current weather Luengos de los Oteros, near Santas Martas, León, Spain\"}', 'name': 'tavily_search_results_json'}, 'type': 'function'}]}, response_metadata={'token_usage': {'completion_tokens': 36, 'prompt_tokens': 168, 'total_tokens': 204}, 'model_name': 'gpt-4o-2024-05-13', 'system_fingerprint': 'fp_abc28019ad', 'finish_reason': 'tool_calls', 'logprobs': None, 'content_filter_results': {}}, id='run-58e12fc6-2719-4bd3-ad9b-796f3a58cfe0-0', tool_calls=[{'name': 'tavily_search_results_json', 'args': {'query': 'current weather Luengos de los Oteros, near Santas Martas, León, Spain'}, 'id': 'call_JIF8OHzZjdrhMJadJMkxas8E', 'type': 'tool_call'}], usage_metadata={'input_tokens': 168, 'output_tokens': 36, 'total_tokens': 204}), ToolMessage(content='[{\\'url\\': \\'https://www.weatherapi.com/\\', \\'content\\': \"{\\'location\\': {\\'name\\': \\'Santas Martas\\', \\'region\\': \\'Castilla y Leon\\', \\'country\\': \\'Spain\\', \\'lat\\': 42.43, \\'lon\\': -5.37, \\'tz_id\\': \\'Europe/Madrid\\', \\'localtime_epoch\\': 1723026360, \\'localtime\\': \\'2024-08-07 12:26\\'}, \\'current\\': {\\'last_updated_epoch\\': 1723025700, \\'last_updated\\': \\'2024-08-07 12:15\\', \\'temp_c\\': 28.4, \\'temp_f\\': 83.2, \\'is_day\\': 1, \\'condition\\': {\\'text\\': \\'Sunny\\', \\'icon\\': \\'//cdn.weatherapi.com/weather/64x64/day/113.png\\', \\'code\\': 1000}, \\'wind_mph\\': 5.6, \\'wind_kph\\': 9.0, \\'wind_degree\\': 165, \\'wind_dir\\': \\'SSE\\', \\'pressure_mb\\': 1013.0, \\'pressure_in\\': 29.91, \\'precip_mm\\': 0.0, \\'precip_in\\': 0.0, \\'humidity\\': 32, \\'cloud\\': 4, \\'feelslike_c\\': 27.5, \\'feelslike_f\\': 81.6, \\'windchill_c\\': 28.4, \\'windchill_f\\': 83.2, \\'heatindex_c\\': 27.5, \\'heatindex_f\\': 81.6, \\'dewpoint_c\\': 10.2, \\'dewpoint_f\\': 50.3, \\'vis_km\\': 10.0, \\'vis_miles\\': 6.0, \\'uv\\': 7.0, \\'gust_mph\\': 6.4, \\'gust_kph\\': 10.4}}\"}, {\\'url\\': \\'https://www.yourweather.co.uk/weather_Luengos-Europe-Spain-Leon--1-87347.html\\', \\'content\\': \\'Luengos Weather Forecast. Access detailed hourly and 14 day forecasts, current conditions, maps, warnings, meteograms, historical data and more for Luengos\\'}]', name='tavily_search_results_json', id='2f9b42e7-48ba-496f-802b-41f08da91a67', tool_call_id='call_JIF8OHzZjdrhMJadJMkxas8E'), AIMessage(content='The current weather in Luengos de los Oteros, near Santas Martas, León, Spain, is as follows:\\n\\n- **Temperature**: 28.4°C (83.2°F)\\n- **Condition**: Sunny\\n- **Wind**: 9.0 kph (5.6 mph) from the SSE\\n- **Humidity**: 32%\\n- **Pressure**: 1013.0 mb\\n- **Visibility**: 10 km (6 miles)\\n- **UV Index**: 7\\n\\nThe weather is clear with minimal cloud cover (4%).', response_metadata={'token_usage': {'completion_tokens': 123, 'prompt_tokens': 687, 'total_tokens': 810}, 'model_name': 'gpt-4o-2024-05-13', 'system_fingerprint': 'fp_abc28019ad', 'finish_reason': 'stop', 'logprobs': None, 'content_filter_results': {}}, id='run-6d7d1256-4286-4b61-a59b-9033d28ca858-0', usage_metadata={'input_tokens': 687, 'output_tokens': 123, 'total_tokens': 810})]}\n",
      "{'messages': [AIMessage(content='The current weather in Luengos de los Oteros, near Santas Martas, León, Spain, is as follows:\\n\\n- **Temperature**: 28.4°C (83.2°F)\\n- **Condition**: Sunny\\n- **Wind**: 9.0 kph (5.6 mph) from the SSE\\n- **Humidity**: 32%\\n- **Pressure**: 1013.0 mb\\n- **Visibility**: 10 km (6 miles)\\n- **UV Index**: 7\\n\\nThe weather is clear with minimal cloud cover (4%).', response_metadata={'token_usage': {'completion_tokens': 123, 'prompt_tokens': 687, 'total_tokens': 810}, 'model_name': 'gpt-4o-2024-05-13', 'system_fingerprint': 'fp_abc28019ad', 'finish_reason': 'stop', 'logprobs': None, 'content_filter_results': {}}, id='run-6d7d1256-4286-4b61-a59b-9033d28ca858-0', usage_metadata={'input_tokens': 687, 'output_tokens': 123, 'total_tokens': 810})]}\n"
     ]
    }
   ],
   "source": [
    "for event in abot.graph.stream(None, thread):\n",
    "    for v in event.values():\n",
    "        print(v)"
   ]
  },
  {
   "cell_type": "markdown",
   "metadata": {},
   "source": [
    "See how we get the final AIMessage with the response.\n",
    "\n",
    "And if we ask about any pending things, we see it's an empty set:"
   ]
  },
  {
   "cell_type": "code",
   "execution_count": 36,
   "metadata": {},
   "outputs": [
    {
     "data": {
      "text/plain": [
       "()"
      ]
     },
     "execution_count": 36,
     "metadata": {},
     "output_type": "execute_result"
    }
   ],
   "source": [
    "abot.graph.get_state(thread).next"
   ]
  },
  {
   "cell_type": "markdown",
   "metadata": {},
   "source": [
    "This means there's nothing left to be done."
   ]
  },
  {
   "cell_type": "markdown",
   "metadata": {},
   "source": [
    "One simplistic way to involve the user would be to automate the whole approval process in a loop:"
   ]
  },
  {
   "cell_type": "code",
   "execution_count": 8,
   "metadata": {},
   "outputs": [
    {
     "name": "stdout",
     "output_type": "stream",
     "text": [
      "{'messages': [HumanMessage(content=\"What's the population of León, Spain?\", id='fb1780c4-82a5-413c-bfef-97a18496b844'), AIMessage(content='', additional_kwargs={'tool_calls': [{'id': 'call_czteb9mmonzOhOT6bp2GsyMH', 'function': {'arguments': '{\"query\":\"current population of León, Spain 2023\"}', 'name': 'tavily_search_results_json'}, 'type': 'function'}]}, response_metadata={'token_usage': {'completion_tokens': 26, 'prompt_tokens': 153, 'total_tokens': 179}, 'model_name': 'gpt-4o-2024-05-13', 'system_fingerprint': 'fp_abc28019ad', 'finish_reason': 'tool_calls', 'logprobs': None, 'content_filter_results': {}}, id='run-7e62fa21-3ab8-4299-b3f6-464cbd5d4923-0', tool_calls=[{'name': 'tavily_search_results_json', 'args': {'query': 'current population of León, Spain 2023'}, 'id': 'call_czteb9mmonzOhOT6bp2GsyMH', 'type': 'tool_call'}], usage_metadata={'input_tokens': 153, 'output_tokens': 26, 'total_tokens': 179})]}\n",
      "{'messages': [AIMessage(content='', additional_kwargs={'tool_calls': [{'id': 'call_czteb9mmonzOhOT6bp2GsyMH', 'function': {'arguments': '{\"query\":\"current population of León, Spain 2023\"}', 'name': 'tavily_search_results_json'}, 'type': 'function'}]}, response_metadata={'token_usage': {'completion_tokens': 26, 'prompt_tokens': 153, 'total_tokens': 179}, 'model_name': 'gpt-4o-2024-05-13', 'system_fingerprint': 'fp_abc28019ad', 'finish_reason': 'tool_calls', 'logprobs': None, 'content_filter_results': {}}, id='run-7e62fa21-3ab8-4299-b3f6-464cbd5d4923-0', tool_calls=[{'name': 'tavily_search_results_json', 'args': {'query': 'current population of León, Spain 2023'}, 'id': 'call_czteb9mmonzOhOT6bp2GsyMH', 'type': 'tool_call'}], usage_metadata={'input_tokens': 153, 'output_tokens': 26, 'total_tokens': 179})]}\n",
      "StateSnapshot(values={'messages': [HumanMessage(content=\"What's the population of León, Spain?\", id='fb1780c4-82a5-413c-bfef-97a18496b844'), AIMessage(content='', additional_kwargs={'tool_calls': [{'id': 'call_czteb9mmonzOhOT6bp2GsyMH', 'function': {'arguments': '{\"query\":\"current population of León, Spain 2023\"}', 'name': 'tavily_search_results_json'}, 'type': 'function'}]}, response_metadata={'token_usage': {'completion_tokens': 26, 'prompt_tokens': 153, 'total_tokens': 179}, 'model_name': 'gpt-4o-2024-05-13', 'system_fingerprint': 'fp_abc28019ad', 'finish_reason': 'tool_calls', 'logprobs': None, 'content_filter_results': {}}, id='run-7e62fa21-3ab8-4299-b3f6-464cbd5d4923-0', tool_calls=[{'name': 'tavily_search_results_json', 'args': {'query': 'current population of León, Spain 2023'}, 'id': 'call_czteb9mmonzOhOT6bp2GsyMH', 'type': 'tool_call'}], usage_metadata={'input_tokens': 153, 'output_tokens': 26, 'total_tokens': 179})]}, next=('action',), config={'configurable': {'thread_id': '2', 'thread_ts': '1ef558b0-2cc5-6ea0-8001-f989da942a52'}}, metadata={'source': 'loop', 'writes': {'llm': {'messages': [AIMessage(content='', additional_kwargs={'tool_calls': [{'id': 'call_czteb9mmonzOhOT6bp2GsyMH', 'function': {'arguments': '{\"query\":\"current population of León, Spain 2023\"}', 'name': 'tavily_search_results_json'}, 'type': 'function'}]}, response_metadata={'token_usage': {'completion_tokens': 26, 'prompt_tokens': 153, 'total_tokens': 179}, 'model_name': 'gpt-4o-2024-05-13', 'system_fingerprint': 'fp_abc28019ad', 'finish_reason': 'tool_calls', 'logprobs': None, 'content_filter_results': {}}, id='run-7e62fa21-3ab8-4299-b3f6-464cbd5d4923-0', tool_calls=[{'name': 'tavily_search_results_json', 'args': {'query': 'current population of León, Spain 2023'}, 'id': 'call_czteb9mmonzOhOT6bp2GsyMH', 'type': 'tool_call'}], usage_metadata={'input_tokens': 153, 'output_tokens': 26, 'total_tokens': 179})]}}, 'step': 1}, created_at='2024-08-08T13:35:00.753768+00:00', parent_config={'configurable': {'thread_id': '2', 'thread_ts': '1ef558b0-1e3f-6ee2-8000-742353ea60c7'}})\n",
      ">> calling: {'name': 'tavily_search_results_json', 'args': {'query': 'current population of León, Spain 2023'}, 'id': 'call_czteb9mmonzOhOT6bp2GsyMH', 'type': 'tool_call'}\n",
      ">> back to the model\n",
      "{'messages': [ToolMessage(content='[{\\'url\\': \\'https://conocecastillayleon.jcyl.es/web/en/geography-population/population.html\\', \\'content\\': \\'Population. Contact. Listen. According to latest data published by the National Statistics Institute (INE), Castilla y León had a population of 2.383.703 inhabitants in 2023. Total and foreign population of Castilla y León. A 01/01/2023. Total and foreign population of Castilla y León. A 01/01/2023. Provincia.\\'}, {\\'url\\': \\'https://www.city-facts.com/león-castilla-y-león/population\\', \\'content\\': \"León. León is the capital of the province of León, located in the northwest of Spain. Its city population of 127,817 makes it the largest municipality in the province, accounting for more than one quarter of the province\\'s population. Including the metropolitan area, the population is estimated at 202,793 . Source: Wikipedia.\"}]', name='tavily_search_results_json', tool_call_id='call_czteb9mmonzOhOT6bp2GsyMH')]}\n",
      "{'messages': [HumanMessage(content=\"What's the population of León, Spain?\", id='fb1780c4-82a5-413c-bfef-97a18496b844'), AIMessage(content='', additional_kwargs={'tool_calls': [{'id': 'call_czteb9mmonzOhOT6bp2GsyMH', 'function': {'arguments': '{\"query\":\"current population of León, Spain 2023\"}', 'name': 'tavily_search_results_json'}, 'type': 'function'}]}, response_metadata={'token_usage': {'completion_tokens': 26, 'prompt_tokens': 153, 'total_tokens': 179}, 'model_name': 'gpt-4o-2024-05-13', 'system_fingerprint': 'fp_abc28019ad', 'finish_reason': 'tool_calls', 'logprobs': None, 'content_filter_results': {}}, id='run-7e62fa21-3ab8-4299-b3f6-464cbd5d4923-0', tool_calls=[{'name': 'tavily_search_results_json', 'args': {'query': 'current population of León, Spain 2023'}, 'id': 'call_czteb9mmonzOhOT6bp2GsyMH', 'type': 'tool_call'}], usage_metadata={'input_tokens': 153, 'output_tokens': 26, 'total_tokens': 179}), ToolMessage(content='[{\\'url\\': \\'https://conocecastillayleon.jcyl.es/web/en/geography-population/population.html\\', \\'content\\': \\'Population. Contact. Listen. According to latest data published by the National Statistics Institute (INE), Castilla y León had a population of 2.383.703 inhabitants in 2023. Total and foreign population of Castilla y León. A 01/01/2023. Total and foreign population of Castilla y León. A 01/01/2023. Provincia.\\'}, {\\'url\\': \\'https://www.city-facts.com/león-castilla-y-león/population\\', \\'content\\': \"León. León is the capital of the province of León, located in the northwest of Spain. Its city population of 127,817 makes it the largest municipality in the province, accounting for more than one quarter of the province\\'s population. Including the metropolitan area, the population is estimated at 202,793 . Source: Wikipedia.\"}]', name='tavily_search_results_json', id='2d889142-fc74-45bc-99d8-e4863bdcbe66', tool_call_id='call_czteb9mmonzOhOT6bp2GsyMH'), AIMessage(content='As of 2023, the population of León, Spain is approximately 127,817 within the city itself. Including the metropolitan area, the population is estimated to be around 202,793.', response_metadata={'token_usage': {'completion_tokens': 41, 'prompt_tokens': 395, 'total_tokens': 436}, 'model_name': 'gpt-4o-2024-05-13', 'system_fingerprint': 'fp_abc28019ad', 'finish_reason': 'stop', 'logprobs': None, 'content_filter_results': {}}, id='run-eb9ea412-970c-49c1-9096-11bdf608538a-0', usage_metadata={'input_tokens': 395, 'output_tokens': 41, 'total_tokens': 436})]}\n",
      "{'messages': [AIMessage(content='As of 2023, the population of León, Spain is approximately 127,817 within the city itself. Including the metropolitan area, the population is estimated to be around 202,793.', response_metadata={'token_usage': {'completion_tokens': 41, 'prompt_tokens': 395, 'total_tokens': 436}, 'model_name': 'gpt-4o-2024-05-13', 'system_fingerprint': 'fp_abc28019ad', 'finish_reason': 'stop', 'logprobs': None, 'content_filter_results': {}}, id='run-eb9ea412-970c-49c1-9096-11bdf608538a-0', usage_metadata={'input_tokens': 395, 'output_tokens': 41, 'total_tokens': 436})]}\n",
      "-- finished --\n"
     ]
    }
   ],
   "source": [
    "messages = [HumanMessage(content=\"What's the population of León, Spain?\")]\n",
    "thread = {\"configurable\": {\"thread_id\": \"2\"}}\n",
    "for event in abot.graph.stream({\"messages\": messages}, thread):\n",
    "    for v in event.values():\n",
    "        print(v)\n",
    "while abot.graph.get_state(thread).next:\n",
    "    print(abot.graph.get_state(thread))\n",
    "    user_input = input(\"Proceed? [y/n]\")\n",
    "    if user_input.lower() != \"y\":\n",
    "        print(\"Process aborted by the user\")\n",
    "        break\n",
    "    for event in abot.graph.stream(None, thread):\n",
    "        for v in event.values():\n",
    "            print(v)\n",
    "print(\"-- finished --\")"
   ]
  },
  {
   "cell_type": "markdown",
   "metadata": {},
   "source": [
    "You see that we're getting `StateSnapshot` with certain information about the state of the graph.\n",
    "\n",
    "As a graph is executing, a snapshot of each state is stored in memory.\n",
    "\n",
    "![State Memory](pics/state_memory.png)\n",
    "\n",
    "A snapshot is a container for the agent state along with some other useful things, such as the thread and a unique identifier for each of the snapshots.\n",
    "\n",
    "The information for the state memory can be accessed with certain methods:\n",
    "\n",
    "```python\n",
    "# config = {\"configurable\": {\"thread_id\": \"1\"}}\n",
    "\n",
    "# returns current state in the given thread (state 3 in the pic above)\n",
    "g.get_state(thread)\n",
    "\n",
    "# returns a particular state in the given thread (state 1 in the pic above)\n",
    "g.get_state({thread, thread_ts=\"<uuid-for-state1>\"})\n",
    "\n",
    "\n",
    "# returns an iterator over all StateSnapshots, that is,\n",
    "# an iterator over State3 through State0\n",
    "g.get_state_history(thread)\n",
    "```\n",
    "\n",
    "Using these methods will let you do a little bit of time travel, such as accessing State 1 and use it as a starting point for certain things.\n",
    "\n",
    "```python\n",
    "state1 = g.get_state({thread, thread_ts})\n",
    "g.invoke(None, state1)\n",
    "g.stream(None, state1)\n",
    "```\n",
    "\n",
    "Note that you can also retrieve a particular state, modify it, and then update it so that it is used in a different way:\n",
    "\n",
    "```python\n",
    "# get state\n",
    "state1 = g.get_state({thread, thread_ts})\n",
    "\n",
    "# modify the state\n",
    "state1m = ...state1 modified...\n",
    "\n",
    "# update the state\n",
    "g.update_state(thread, state1m.values)\n",
    "```\n",
    "\n",
    "Thus, whenevery you run `g.stream(None, thread)` it will use the modified state."
   ]
  },
  {
   "cell_type": "markdown",
   "metadata": {},
   "source": [
    "Let's see an example of how to modify a state:"
   ]
  },
  {
   "cell_type": "code",
   "execution_count": 9,
   "metadata": {},
   "outputs": [
    {
     "name": "stdout",
     "output_type": "stream",
     "text": [
      "{'messages': [HumanMessage(content='What is the weather in Leon?', id='d252dc4f-8e6f-4a25-8feb-71cf13df094a'), AIMessage(content='', additional_kwargs={'tool_calls': [{'id': 'call_fEMDOZ4dNuJLNFoyPTcn82nV', 'function': {'arguments': '{\"query\":\"current weather in Leon\"}', 'name': 'tavily_search_results_json'}, 'type': 'function'}]}, response_metadata={'token_usage': {'completion_tokens': 21, 'prompt_tokens': 152, 'total_tokens': 173}, 'model_name': 'gpt-4o-2024-05-13', 'system_fingerprint': 'fp_abc28019ad', 'finish_reason': 'tool_calls', 'logprobs': None, 'content_filter_results': {}}, id='run-adb49d12-5815-4c9e-b6be-bce62908c9cd-0', tool_calls=[{'name': 'tavily_search_results_json', 'args': {'query': 'current weather in Leon'}, 'id': 'call_fEMDOZ4dNuJLNFoyPTcn82nV', 'type': 'tool_call'}], usage_metadata={'input_tokens': 152, 'output_tokens': 21, 'total_tokens': 173})]}\n",
      "{'messages': [AIMessage(content='', additional_kwargs={'tool_calls': [{'id': 'call_fEMDOZ4dNuJLNFoyPTcn82nV', 'function': {'arguments': '{\"query\":\"current weather in Leon\"}', 'name': 'tavily_search_results_json'}, 'type': 'function'}]}, response_metadata={'token_usage': {'completion_tokens': 21, 'prompt_tokens': 152, 'total_tokens': 173}, 'model_name': 'gpt-4o-2024-05-13', 'system_fingerprint': 'fp_abc28019ad', 'finish_reason': 'tool_calls', 'logprobs': None, 'content_filter_results': {}}, id='run-adb49d12-5815-4c9e-b6be-bce62908c9cd-0', tool_calls=[{'name': 'tavily_search_results_json', 'args': {'query': 'current weather in Leon'}, 'id': 'call_fEMDOZ4dNuJLNFoyPTcn82nV', 'type': 'tool_call'}], usage_metadata={'input_tokens': 152, 'output_tokens': 21, 'total_tokens': 173})]}\n"
     ]
    }
   ],
   "source": [
    "messages = [HumanMessage(content=\"What is the weather in Leon?\")]\n",
    "thread = {\"configurable\": {\"thread_id\": \"3\"}}\n",
    "for event in abot.graph.stream({\"messages\": messages}, thread):\n",
    "    for v in event.values():\n",
    "        print(v)"
   ]
  },
  {
   "cell_type": "markdown",
   "metadata": {},
   "source": [
    "We can use `get_state` to get the latest StateSnapshot for the given thread:"
   ]
  },
  {
   "cell_type": "code",
   "execution_count": 10,
   "metadata": {},
   "outputs": [
    {
     "data": {
      "text/plain": [
       "StateSnapshot(values={'messages': [HumanMessage(content='What is the weather in Leon?', id='d252dc4f-8e6f-4a25-8feb-71cf13df094a'), AIMessage(content='', additional_kwargs={'tool_calls': [{'id': 'call_fEMDOZ4dNuJLNFoyPTcn82nV', 'function': {'arguments': '{\"query\":\"current weather in Leon\"}', 'name': 'tavily_search_results_json'}, 'type': 'function'}]}, response_metadata={'token_usage': {'completion_tokens': 21, 'prompt_tokens': 152, 'total_tokens': 173}, 'model_name': 'gpt-4o-2024-05-13', 'system_fingerprint': 'fp_abc28019ad', 'finish_reason': 'tool_calls', 'logprobs': None, 'content_filter_results': {}}, id='run-adb49d12-5815-4c9e-b6be-bce62908c9cd-0', tool_calls=[{'name': 'tavily_search_results_json', 'args': {'query': 'current weather in Leon'}, 'id': 'call_fEMDOZ4dNuJLNFoyPTcn82nV', 'type': 'tool_call'}], usage_metadata={'input_tokens': 152, 'output_tokens': 21, 'total_tokens': 173})]}, next=('action',), config={'configurable': {'thread_id': '3', 'thread_ts': '1ef558b2-8aea-6a78-8001-41c92d59c2cb'}}, metadata={'source': 'loop', 'writes': {'llm': {'messages': [AIMessage(content='', additional_kwargs={'tool_calls': [{'id': 'call_fEMDOZ4dNuJLNFoyPTcn82nV', 'function': {'arguments': '{\"query\":\"current weather in Leon\"}', 'name': 'tavily_search_results_json'}, 'type': 'function'}]}, response_metadata={'token_usage': {'completion_tokens': 21, 'prompt_tokens': 152, 'total_tokens': 173}, 'model_name': 'gpt-4o-2024-05-13', 'system_fingerprint': 'fp_abc28019ad', 'finish_reason': 'tool_calls', 'logprobs': None, 'content_filter_results': {}}, id='run-adb49d12-5815-4c9e-b6be-bce62908c9cd-0', tool_calls=[{'name': 'tavily_search_results_json', 'args': {'query': 'current weather in Leon'}, 'id': 'call_fEMDOZ4dNuJLNFoyPTcn82nV', 'type': 'tool_call'}], usage_metadata={'input_tokens': 152, 'output_tokens': 21, 'total_tokens': 173})]}}, 'step': 1}, created_at='2024-08-08T13:36:04.312503+00:00', parent_config={'configurable': {'thread_id': '3', 'thread_ts': '1ef558b2-7de7-636c-8000-d80575a0012f'}})"
      ]
     },
     "execution_count": 10,
     "metadata": {},
     "output_type": "execute_result"
    }
   ],
   "source": [
    "abot.graph.get_state(thread)"
   ]
  },
  {
   "cell_type": "markdown",
   "metadata": {},
   "source": [
    "Let's pretend that we're interested in the weather in Leon, Spain, rather than in Leon, MX.\n",
    "\n",
    "We could correct the human message and change the AI action doing:"
   ]
  },
  {
   "cell_type": "code",
   "execution_count": 11,
   "metadata": {},
   "outputs": [
    {
     "data": {
      "text/plain": [
       "AIMessage(content='', additional_kwargs={'tool_calls': [{'id': 'call_fEMDOZ4dNuJLNFoyPTcn82nV', 'function': {'arguments': '{\"query\":\"current weather in Leon\"}', 'name': 'tavily_search_results_json'}, 'type': 'function'}]}, response_metadata={'token_usage': {'completion_tokens': 21, 'prompt_tokens': 152, 'total_tokens': 173}, 'model_name': 'gpt-4o-2024-05-13', 'system_fingerprint': 'fp_abc28019ad', 'finish_reason': 'tool_calls', 'logprobs': None, 'content_filter_results': {}}, id='run-adb49d12-5815-4c9e-b6be-bce62908c9cd-0', tool_calls=[{'name': 'tavily_search_results_json', 'args': {'query': 'current weather in Leon'}, 'id': 'call_fEMDOZ4dNuJLNFoyPTcn82nV', 'type': 'tool_call'}], usage_metadata={'input_tokens': 152, 'output_tokens': 21, 'total_tokens': 173})"
      ]
     },
     "execution_count": 11,
     "metadata": {},
     "output_type": "execute_result"
    }
   ],
   "source": [
    "current_values = abot.graph.get_state(thread)\n",
    "current_values.values[\"messages\"][-1]"
   ]
  },
  {
   "cell_type": "markdown",
   "metadata": {},
   "source": [
    "We can drill down even further to see the list of tool calls associated with the message:"
   ]
  },
  {
   "cell_type": "code",
   "execution_count": 12,
   "metadata": {},
   "outputs": [
    {
     "data": {
      "text/plain": [
       "[{'name': 'tavily_search_results_json',\n",
       "  'args': {'query': 'current weather in Leon'},\n",
       "  'id': 'call_fEMDOZ4dNuJLNFoyPTcn82nV',\n",
       "  'type': 'tool_call'}]"
      ]
     },
     "execution_count": 12,
     "metadata": {},
     "output_type": "execute_result"
    }
   ],
   "source": [
    "current_values.values[\"messages\"][-1].tool_calls"
   ]
  },
  {
   "cell_type": "markdown",
   "metadata": {},
   "source": [
    "Let's update the state:"
   ]
  },
  {
   "cell_type": "code",
   "execution_count": 15,
   "metadata": {},
   "outputs": [
    {
     "name": "stdout",
     "output_type": "stream",
     "text": [
      "{'messages': [HumanMessage(content='What is the weather in Leon?', id='d252dc4f-8e6f-4a25-8feb-71cf13df094a'), AIMessage(content='', additional_kwargs={'tool_calls': [{'id': 'call_fEMDOZ4dNuJLNFoyPTcn82nV', 'function': {'arguments': '{\"query\":\"current weather in Leon\"}', 'name': 'tavily_search_results_json'}, 'type': 'function'}]}, response_metadata={'token_usage': {'completion_tokens': 21, 'prompt_tokens': 152, 'total_tokens': 173}, 'model_name': 'gpt-4o-2024-05-13', 'system_fingerprint': 'fp_abc28019ad', 'finish_reason': 'tool_calls', 'logprobs': None, 'content_filter_results': {}}, id='run-adb49d12-5815-4c9e-b6be-bce62908c9cd-0', tool_calls=[{'name': 'tavily_search_results_json', 'args': {'query': 'current weather in Leon, Spain'}, 'id': 'call_fEMDOZ4dNuJLNFoyPTcn82nV'}], usage_metadata={'input_tokens': 152, 'output_tokens': 21, 'total_tokens': 173})]}\n"
     ]
    },
    {
     "data": {
      "text/plain": [
       "{'configurable': {'thread_id': '3',\n",
       "  'thread_ts': '1ef558c5-6622-6206-8002-8e40cbb22b72'}}"
      ]
     },
     "execution_count": 15,
     "metadata": {},
     "output_type": "execute_result"
    }
   ],
   "source": [
    "id = current_values.values[\"messages\"][-1].tool_calls[0][\"id\"]\n",
    "current_values.values[\"messages\"][-1].tool_calls = [\n",
    "    {\n",
    "        \"name\": \"tavily_search_results_json\",\n",
    "        \"args\": {\n",
    "            \"query\": \"current weather in Leon, Spain\"\n",
    "        },\n",
    "        \"id\": id\n",
    "     }\n",
    "]\n",
    "\n",
    "abot.graph.update_state(thread, current_values.values)"
   ]
  },
  {
   "cell_type": "markdown",
   "metadata": {},
   "source": [
    "If we now get the current state, we'll see:"
   ]
  },
  {
   "cell_type": "code",
   "execution_count": 16,
   "metadata": {},
   "outputs": [
    {
     "data": {
      "text/plain": [
       "StateSnapshot(values={'messages': [HumanMessage(content='What is the weather in Leon?', id='d252dc4f-8e6f-4a25-8feb-71cf13df094a'), AIMessage(content='', additional_kwargs={'tool_calls': [{'id': 'call_fEMDOZ4dNuJLNFoyPTcn82nV', 'function': {'arguments': '{\"query\":\"current weather in Leon\"}', 'name': 'tavily_search_results_json'}, 'type': 'function'}]}, response_metadata={'token_usage': {'completion_tokens': 21, 'prompt_tokens': 152, 'total_tokens': 173}, 'model_name': 'gpt-4o-2024-05-13', 'system_fingerprint': 'fp_abc28019ad', 'finish_reason': 'tool_calls', 'logprobs': None, 'content_filter_results': {}}, id='run-adb49d12-5815-4c9e-b6be-bce62908c9cd-0', tool_calls=[{'name': 'tavily_search_results_json', 'args': {'query': 'current weather in Leon, Spain'}, 'id': 'call_fEMDOZ4dNuJLNFoyPTcn82nV', 'type': 'tool_call'}], usage_metadata={'input_tokens': 152, 'output_tokens': 21, 'total_tokens': 173})]}, next=('action',), config={'configurable': {'thread_id': '3', 'thread_ts': '1ef558c5-6622-6206-8002-8e40cbb22b72'}}, metadata={'source': 'update', 'step': 2, 'writes': {'llm': {'messages': [HumanMessage(content='What is the weather in Leon?', id='d252dc4f-8e6f-4a25-8feb-71cf13df094a'), AIMessage(content='', additional_kwargs={'tool_calls': [{'id': 'call_fEMDOZ4dNuJLNFoyPTcn82nV', 'function': {'arguments': '{\"query\":\"current weather in Leon\"}', 'name': 'tavily_search_results_json'}, 'type': 'function'}]}, response_metadata={'token_usage': {'completion_tokens': 21, 'prompt_tokens': 152, 'total_tokens': 173}, 'model_name': 'gpt-4o-2024-05-13', 'system_fingerprint': 'fp_abc28019ad', 'finish_reason': 'tool_calls', 'logprobs': None, 'content_filter_results': {}}, id='run-adb49d12-5815-4c9e-b6be-bce62908c9cd-0', tool_calls=[{'name': 'tavily_search_results_json', 'args': {'query': 'current weather in Leon, Spain'}, 'id': 'call_fEMDOZ4dNuJLNFoyPTcn82nV', 'type': 'tool_call'}], usage_metadata={'input_tokens': 152, 'output_tokens': 21, 'total_tokens': 173})]}}}, created_at='2024-08-08T13:44:30.482880+00:00', parent_config={'configurable': {'thread_id': '3', 'thread_ts': '1ef558b2-8aea-6a78-8001-41c92d59c2cb'}})"
      ]
     },
     "execution_count": 16,
     "metadata": {},
     "output_type": "execute_result"
    }
   ],
   "source": [
    "abot.graph.get_state(thread)"
   ]
  },
  {
   "cell_type": "markdown",
   "metadata": {},
   "source": [
    "We can see near the end of the JSON that we're actually querying the weather in Leon Spain.\n",
    "\n",
    "If we now do:"
   ]
  },
  {
   "cell_type": "code",
   "execution_count": 17,
   "metadata": {},
   "outputs": [
    {
     "name": "stdout",
     "output_type": "stream",
     "text": [
      ">> calling: {'name': 'tavily_search_results_json', 'args': {'query': 'current weather in Leon, Spain'}, 'id': 'call_fEMDOZ4dNuJLNFoyPTcn82nV', 'type': 'tool_call'}\n",
      ">> back to the model\n",
      "{'messages': [ToolMessage(content='[{\\'url\\': \\'https://www.weatherapi.com/\\', \\'content\\': \"{\\'location\\': {\\'name\\': \\'Leon\\', \\'region\\': \\'Castilla y Leon\\', \\'country\\': \\'Spain\\', \\'lat\\': 42.6, \\'lon\\': -5.57, \\'tz_id\\': \\'Europe/Madrid\\', \\'localtime_epoch\\': 1723124711, \\'localtime\\': \\'2024-08-08 15:45\\'}, \\'current\\': {\\'last_updated_epoch\\': 1723124700, \\'last_updated\\': \\'2024-08-08 15:45\\', \\'temp_c\\': 34.1, \\'temp_f\\': 93.4, \\'is_day\\': 1, \\'condition\\': {\\'text\\': \\'Sunny\\', \\'icon\\': \\'//cdn.weatherapi.com/weather/64x64/day/113.png\\', \\'code\\': 1000}, \\'wind_mph\\': 6.7, \\'wind_kph\\': 10.8, \\'wind_degree\\': 188, \\'wind_dir\\': \\'S\\', \\'pressure_mb\\': 1013.0, \\'pressure_in\\': 29.91, \\'precip_mm\\': 0.0, \\'precip_in\\': 0.0, \\'humidity\\': 16, \\'cloud\\': 3, \\'feelslike_c\\': 32.1, \\'feelslike_f\\': 89.8, \\'windchill_c\\': 34.1, \\'windchill_f\\': 93.4, \\'heatindex_c\\': 32.1, \\'heatindex_f\\': 89.8, \\'dewpoint_c\\': 4.7, \\'dewpoint_f\\': 40.5, \\'vis_km\\': 10.0, \\'vis_miles\\': 6.0, \\'uv\\': 8.0, \\'gust_mph\\': 7.7, \\'gust_kph\\': 12.4}}\"}, {\\'url\\': \\'https://www.accuweather.com/en/es/león/307143/current-weather/307143\\', \\'content\\': \\'Current weather in León, Castile and Leon, Spain. Check current conditions in León, Castile and Leon, Spain with radar, hourly, and more.\\'}]', name='tavily_search_results_json', tool_call_id='call_fEMDOZ4dNuJLNFoyPTcn82nV')]}\n",
      "{'messages': [HumanMessage(content='What is the weather in Leon?', id='d252dc4f-8e6f-4a25-8feb-71cf13df094a'), AIMessage(content='', additional_kwargs={'tool_calls': [{'id': 'call_fEMDOZ4dNuJLNFoyPTcn82nV', 'function': {'arguments': '{\"query\":\"current weather in Leon\"}', 'name': 'tavily_search_results_json'}, 'type': 'function'}]}, response_metadata={'token_usage': {'completion_tokens': 21, 'prompt_tokens': 152, 'total_tokens': 173}, 'model_name': 'gpt-4o-2024-05-13', 'system_fingerprint': 'fp_abc28019ad', 'finish_reason': 'tool_calls', 'logprobs': None, 'content_filter_results': {}}, id='run-adb49d12-5815-4c9e-b6be-bce62908c9cd-0', tool_calls=[{'name': 'tavily_search_results_json', 'args': {'query': 'current weather in Leon, Spain'}, 'id': 'call_fEMDOZ4dNuJLNFoyPTcn82nV', 'type': 'tool_call'}], usage_metadata={'input_tokens': 152, 'output_tokens': 21, 'total_tokens': 173}), ToolMessage(content='[{\\'url\\': \\'https://www.weatherapi.com/\\', \\'content\\': \"{\\'location\\': {\\'name\\': \\'Leon\\', \\'region\\': \\'Castilla y Leon\\', \\'country\\': \\'Spain\\', \\'lat\\': 42.6, \\'lon\\': -5.57, \\'tz_id\\': \\'Europe/Madrid\\', \\'localtime_epoch\\': 1723124711, \\'localtime\\': \\'2024-08-08 15:45\\'}, \\'current\\': {\\'last_updated_epoch\\': 1723124700, \\'last_updated\\': \\'2024-08-08 15:45\\', \\'temp_c\\': 34.1, \\'temp_f\\': 93.4, \\'is_day\\': 1, \\'condition\\': {\\'text\\': \\'Sunny\\', \\'icon\\': \\'//cdn.weatherapi.com/weather/64x64/day/113.png\\', \\'code\\': 1000}, \\'wind_mph\\': 6.7, \\'wind_kph\\': 10.8, \\'wind_degree\\': 188, \\'wind_dir\\': \\'S\\', \\'pressure_mb\\': 1013.0, \\'pressure_in\\': 29.91, \\'precip_mm\\': 0.0, \\'precip_in\\': 0.0, \\'humidity\\': 16, \\'cloud\\': 3, \\'feelslike_c\\': 32.1, \\'feelslike_f\\': 89.8, \\'windchill_c\\': 34.1, \\'windchill_f\\': 93.4, \\'heatindex_c\\': 32.1, \\'heatindex_f\\': 89.8, \\'dewpoint_c\\': 4.7, \\'dewpoint_f\\': 40.5, \\'vis_km\\': 10.0, \\'vis_miles\\': 6.0, \\'uv\\': 8.0, \\'gust_mph\\': 7.7, \\'gust_kph\\': 12.4}}\"}, {\\'url\\': \\'https://www.accuweather.com/en/es/león/307143/current-weather/307143\\', \\'content\\': \\'Current weather in León, Castile and Leon, Spain. Check current conditions in León, Castile and Leon, Spain with radar, hourly, and more.\\'}]', name='tavily_search_results_json', id='2215ef74-0ce2-4517-9f8c-66b6cf84c545', tool_call_id='call_fEMDOZ4dNuJLNFoyPTcn82nV'), AIMessage(content='The current weather in León, Spain is sunny with a temperature of 34.1°C (93.4°F). The wind is blowing from the south at 10.8 kph (6.7 mph), and the humidity is at 16%. The visibility is 10 km (6 miles), and the UV index is 8.', response_metadata={'token_usage': {'completion_tokens': 71, 'prompt_tokens': 647, 'total_tokens': 718}, 'model_name': 'gpt-4o-2024-05-13', 'system_fingerprint': 'fp_abc28019ad', 'finish_reason': 'stop', 'logprobs': None, 'content_filter_results': {}}, id='run-56c5ce91-987c-4ba1-8654-4259e23c17ff-0', usage_metadata={'input_tokens': 647, 'output_tokens': 71, 'total_tokens': 718})]}\n",
      "{'messages': [AIMessage(content='The current weather in León, Spain is sunny with a temperature of 34.1°C (93.4°F). The wind is blowing from the south at 10.8 kph (6.7 mph), and the humidity is at 16%. The visibility is 10 km (6 miles), and the UV index is 8.', response_metadata={'token_usage': {'completion_tokens': 71, 'prompt_tokens': 647, 'total_tokens': 718}, 'model_name': 'gpt-4o-2024-05-13', 'system_fingerprint': 'fp_abc28019ad', 'finish_reason': 'stop', 'logprobs': None, 'content_filter_results': {}}, id='run-56c5ce91-987c-4ba1-8654-4259e23c17ff-0', usage_metadata={'input_tokens': 647, 'output_tokens': 71, 'total_tokens': 718})]}\n"
     ]
    }
   ],
   "source": [
    "for event in abot.graph.stream(None, thread):\n",
    "    for v in event.values():\n",
    "        print(v)"
   ]
  },
  {
   "cell_type": "markdown",
   "metadata": {},
   "source": [
    "We see that we get the value of the weather in Leon, Spain."
   ]
  },
  {
   "cell_type": "markdown",
   "metadata": {},
   "source": [
    "Note that when we modified the state, we actually created a new state, and that became the new state. This is nice because it let us keep track of the whole history."
   ]
  },
  {
   "cell_type": "code",
   "execution_count": 18,
   "metadata": {},
   "outputs": [
    {
     "name": "stdout",
     "output_type": "stream",
     "text": [
      "StateSnapshot(values={'messages': [HumanMessage(content='What is the weather in Leon?', id='d252dc4f-8e6f-4a25-8feb-71cf13df094a'), AIMessage(content='', additional_kwargs={'tool_calls': [{'id': 'call_fEMDOZ4dNuJLNFoyPTcn82nV', 'function': {'arguments': '{\"query\":\"current weather in Leon\"}', 'name': 'tavily_search_results_json'}, 'type': 'function'}]}, response_metadata={'token_usage': {'completion_tokens': 21, 'prompt_tokens': 152, 'total_tokens': 173}, 'model_name': 'gpt-4o-2024-05-13', 'system_fingerprint': 'fp_abc28019ad', 'finish_reason': 'tool_calls', 'logprobs': None, 'content_filter_results': {}}, id='run-adb49d12-5815-4c9e-b6be-bce62908c9cd-0', tool_calls=[{'name': 'tavily_search_results_json', 'args': {'query': 'current weather in Leon, Spain'}, 'id': 'call_fEMDOZ4dNuJLNFoyPTcn82nV', 'type': 'tool_call'}], usage_metadata={'input_tokens': 152, 'output_tokens': 21, 'total_tokens': 173}), ToolMessage(content='[{\\'url\\': \\'https://www.weatherapi.com/\\', \\'content\\': \"{\\'location\\': {\\'name\\': \\'Leon\\', \\'region\\': \\'Castilla y Leon\\', \\'country\\': \\'Spain\\', \\'lat\\': 42.6, \\'lon\\': -5.57, \\'tz_id\\': \\'Europe/Madrid\\', \\'localtime_epoch\\': 1723124711, \\'localtime\\': \\'2024-08-08 15:45\\'}, \\'current\\': {\\'last_updated_epoch\\': 1723124700, \\'last_updated\\': \\'2024-08-08 15:45\\', \\'temp_c\\': 34.1, \\'temp_f\\': 93.4, \\'is_day\\': 1, \\'condition\\': {\\'text\\': \\'Sunny\\', \\'icon\\': \\'//cdn.weatherapi.com/weather/64x64/day/113.png\\', \\'code\\': 1000}, \\'wind_mph\\': 6.7, \\'wind_kph\\': 10.8, \\'wind_degree\\': 188, \\'wind_dir\\': \\'S\\', \\'pressure_mb\\': 1013.0, \\'pressure_in\\': 29.91, \\'precip_mm\\': 0.0, \\'precip_in\\': 0.0, \\'humidity\\': 16, \\'cloud\\': 3, \\'feelslike_c\\': 32.1, \\'feelslike_f\\': 89.8, \\'windchill_c\\': 34.1, \\'windchill_f\\': 93.4, \\'heatindex_c\\': 32.1, \\'heatindex_f\\': 89.8, \\'dewpoint_c\\': 4.7, \\'dewpoint_f\\': 40.5, \\'vis_km\\': 10.0, \\'vis_miles\\': 6.0, \\'uv\\': 8.0, \\'gust_mph\\': 7.7, \\'gust_kph\\': 12.4}}\"}, {\\'url\\': \\'https://www.accuweather.com/en/es/león/307143/current-weather/307143\\', \\'content\\': \\'Current weather in León, Castile and Leon, Spain. Check current conditions in León, Castile and Leon, Spain with radar, hourly, and more.\\'}]', name='tavily_search_results_json', id='2215ef74-0ce2-4517-9f8c-66b6cf84c545', tool_call_id='call_fEMDOZ4dNuJLNFoyPTcn82nV'), AIMessage(content='The current weather in León, Spain is sunny with a temperature of 34.1°C (93.4°F). The wind is blowing from the south at 10.8 kph (6.7 mph), and the humidity is at 16%. The visibility is 10 km (6 miles), and the UV index is 8.', response_metadata={'token_usage': {'completion_tokens': 71, 'prompt_tokens': 647, 'total_tokens': 718}, 'model_name': 'gpt-4o-2024-05-13', 'system_fingerprint': 'fp_abc28019ad', 'finish_reason': 'stop', 'logprobs': None, 'content_filter_results': {}}, id='run-56c5ce91-987c-4ba1-8654-4259e23c17ff-0', usage_metadata={'input_tokens': 647, 'output_tokens': 71, 'total_tokens': 718})]}, next=(), config={'configurable': {'thread_id': '3', 'thread_ts': '1ef558ca-8a68-6670-8004-7ca3a84e87d2'}}, metadata={'source': 'loop', 'writes': {'llm': {'messages': [AIMessage(content='The current weather in León, Spain is sunny with a temperature of 34.1°C (93.4°F). The wind is blowing from the south at 10.8 kph (6.7 mph), and the humidity is at 16%. The visibility is 10 km (6 miles), and the UV index is 8.', response_metadata={'token_usage': {'completion_tokens': 71, 'prompt_tokens': 647, 'total_tokens': 718}, 'model_name': 'gpt-4o-2024-05-13', 'system_fingerprint': 'fp_abc28019ad', 'finish_reason': 'stop', 'logprobs': None, 'content_filter_results': {}}, id='run-56c5ce91-987c-4ba1-8654-4259e23c17ff-0', usage_metadata={'input_tokens': 647, 'output_tokens': 71, 'total_tokens': 718})]}}, 'step': 4}, created_at='2024-08-08T13:46:48.504267+00:00', parent_config={'configurable': {'thread_id': '3', 'thread_ts': '1ef558ca-73a2-66c4-8003-82e70d829420'}})\n",
      "---\n",
      "StateSnapshot(values={'messages': [HumanMessage(content='What is the weather in Leon?', id='d252dc4f-8e6f-4a25-8feb-71cf13df094a'), AIMessage(content='', additional_kwargs={'tool_calls': [{'id': 'call_fEMDOZ4dNuJLNFoyPTcn82nV', 'function': {'arguments': '{\"query\":\"current weather in Leon\"}', 'name': 'tavily_search_results_json'}, 'type': 'function'}]}, response_metadata={'token_usage': {'completion_tokens': 21, 'prompt_tokens': 152, 'total_tokens': 173}, 'model_name': 'gpt-4o-2024-05-13', 'system_fingerprint': 'fp_abc28019ad', 'finish_reason': 'tool_calls', 'logprobs': None, 'content_filter_results': {}}, id='run-adb49d12-5815-4c9e-b6be-bce62908c9cd-0', tool_calls=[{'name': 'tavily_search_results_json', 'args': {'query': 'current weather in Leon, Spain'}, 'id': 'call_fEMDOZ4dNuJLNFoyPTcn82nV', 'type': 'tool_call'}], usage_metadata={'input_tokens': 152, 'output_tokens': 21, 'total_tokens': 173}), ToolMessage(content='[{\\'url\\': \\'https://www.weatherapi.com/\\', \\'content\\': \"{\\'location\\': {\\'name\\': \\'Leon\\', \\'region\\': \\'Castilla y Leon\\', \\'country\\': \\'Spain\\', \\'lat\\': 42.6, \\'lon\\': -5.57, \\'tz_id\\': \\'Europe/Madrid\\', \\'localtime_epoch\\': 1723124711, \\'localtime\\': \\'2024-08-08 15:45\\'}, \\'current\\': {\\'last_updated_epoch\\': 1723124700, \\'last_updated\\': \\'2024-08-08 15:45\\', \\'temp_c\\': 34.1, \\'temp_f\\': 93.4, \\'is_day\\': 1, \\'condition\\': {\\'text\\': \\'Sunny\\', \\'icon\\': \\'//cdn.weatherapi.com/weather/64x64/day/113.png\\', \\'code\\': 1000}, \\'wind_mph\\': 6.7, \\'wind_kph\\': 10.8, \\'wind_degree\\': 188, \\'wind_dir\\': \\'S\\', \\'pressure_mb\\': 1013.0, \\'pressure_in\\': 29.91, \\'precip_mm\\': 0.0, \\'precip_in\\': 0.0, \\'humidity\\': 16, \\'cloud\\': 3, \\'feelslike_c\\': 32.1, \\'feelslike_f\\': 89.8, \\'windchill_c\\': 34.1, \\'windchill_f\\': 93.4, \\'heatindex_c\\': 32.1, \\'heatindex_f\\': 89.8, \\'dewpoint_c\\': 4.7, \\'dewpoint_f\\': 40.5, \\'vis_km\\': 10.0, \\'vis_miles\\': 6.0, \\'uv\\': 8.0, \\'gust_mph\\': 7.7, \\'gust_kph\\': 12.4}}\"}, {\\'url\\': \\'https://www.accuweather.com/en/es/león/307143/current-weather/307143\\', \\'content\\': \\'Current weather in León, Castile and Leon, Spain. Check current conditions in León, Castile and Leon, Spain with radar, hourly, and more.\\'}]', name='tavily_search_results_json', id='2215ef74-0ce2-4517-9f8c-66b6cf84c545', tool_call_id='call_fEMDOZ4dNuJLNFoyPTcn82nV')]}, next=('llm',), config={'configurable': {'thread_id': '3', 'thread_ts': '1ef558ca-73a2-66c4-8003-82e70d829420'}}, metadata={'source': 'loop', 'writes': {'action': {'messages': [ToolMessage(content='[{\\'url\\': \\'https://www.weatherapi.com/\\', \\'content\\': \"{\\'location\\': {\\'name\\': \\'Leon\\', \\'region\\': \\'Castilla y Leon\\', \\'country\\': \\'Spain\\', \\'lat\\': 42.6, \\'lon\\': -5.57, \\'tz_id\\': \\'Europe/Madrid\\', \\'localtime_epoch\\': 1723124711, \\'localtime\\': \\'2024-08-08 15:45\\'}, \\'current\\': {\\'last_updated_epoch\\': 1723124700, \\'last_updated\\': \\'2024-08-08 15:45\\', \\'temp_c\\': 34.1, \\'temp_f\\': 93.4, \\'is_day\\': 1, \\'condition\\': {\\'text\\': \\'Sunny\\', \\'icon\\': \\'//cdn.weatherapi.com/weather/64x64/day/113.png\\', \\'code\\': 1000}, \\'wind_mph\\': 6.7, \\'wind_kph\\': 10.8, \\'wind_degree\\': 188, \\'wind_dir\\': \\'S\\', \\'pressure_mb\\': 1013.0, \\'pressure_in\\': 29.91, \\'precip_mm\\': 0.0, \\'precip_in\\': 0.0, \\'humidity\\': 16, \\'cloud\\': 3, \\'feelslike_c\\': 32.1, \\'feelslike_f\\': 89.8, \\'windchill_c\\': 34.1, \\'windchill_f\\': 93.4, \\'heatindex_c\\': 32.1, \\'heatindex_f\\': 89.8, \\'dewpoint_c\\': 4.7, \\'dewpoint_f\\': 40.5, \\'vis_km\\': 10.0, \\'vis_miles\\': 6.0, \\'uv\\': 8.0, \\'gust_mph\\': 7.7, \\'gust_kph\\': 12.4}}\"}, {\\'url\\': \\'https://www.accuweather.com/en/es/león/307143/current-weather/307143\\', \\'content\\': \\'Current weather in León, Castile and Leon, Spain. Check current conditions in León, Castile and Leon, Spain with radar, hourly, and more.\\'}]', name='tavily_search_results_json', id='2215ef74-0ce2-4517-9f8c-66b6cf84c545', tool_call_id='call_fEMDOZ4dNuJLNFoyPTcn82nV')]}}, 'step': 3}, created_at='2024-08-08T13:46:46.116297+00:00', parent_config={'configurable': {'thread_id': '3', 'thread_ts': '1ef558c5-6622-6206-8002-8e40cbb22b72'}})\n",
      "---\n",
      "StateSnapshot(values={'messages': [HumanMessage(content='What is the weather in Leon?', id='d252dc4f-8e6f-4a25-8feb-71cf13df094a'), AIMessage(content='', additional_kwargs={'tool_calls': [{'id': 'call_fEMDOZ4dNuJLNFoyPTcn82nV', 'function': {'arguments': '{\"query\":\"current weather in Leon\"}', 'name': 'tavily_search_results_json'}, 'type': 'function'}]}, response_metadata={'token_usage': {'completion_tokens': 21, 'prompt_tokens': 152, 'total_tokens': 173}, 'model_name': 'gpt-4o-2024-05-13', 'system_fingerprint': 'fp_abc28019ad', 'finish_reason': 'tool_calls', 'logprobs': None, 'content_filter_results': {}}, id='run-adb49d12-5815-4c9e-b6be-bce62908c9cd-0', tool_calls=[{'name': 'tavily_search_results_json', 'args': {'query': 'current weather in Leon, Spain'}, 'id': 'call_fEMDOZ4dNuJLNFoyPTcn82nV', 'type': 'tool_call'}], usage_metadata={'input_tokens': 152, 'output_tokens': 21, 'total_tokens': 173})]}, next=('action',), config={'configurable': {'thread_id': '3', 'thread_ts': '1ef558c5-6622-6206-8002-8e40cbb22b72'}}, metadata={'source': 'update', 'step': 2, 'writes': {'llm': {'messages': [HumanMessage(content='What is the weather in Leon?', id='d252dc4f-8e6f-4a25-8feb-71cf13df094a'), AIMessage(content='', additional_kwargs={'tool_calls': [{'id': 'call_fEMDOZ4dNuJLNFoyPTcn82nV', 'function': {'arguments': '{\"query\":\"current weather in Leon\"}', 'name': 'tavily_search_results_json'}, 'type': 'function'}]}, response_metadata={'token_usage': {'completion_tokens': 21, 'prompt_tokens': 152, 'total_tokens': 173}, 'model_name': 'gpt-4o-2024-05-13', 'system_fingerprint': 'fp_abc28019ad', 'finish_reason': 'tool_calls', 'logprobs': None, 'content_filter_results': {}}, id='run-adb49d12-5815-4c9e-b6be-bce62908c9cd-0', tool_calls=[{'name': 'tavily_search_results_json', 'args': {'query': 'current weather in Leon, Spain'}, 'id': 'call_fEMDOZ4dNuJLNFoyPTcn82nV', 'type': 'tool_call'}], usage_metadata={'input_tokens': 152, 'output_tokens': 21, 'total_tokens': 173})]}}}, created_at='2024-08-08T13:44:30.482880+00:00', parent_config={'configurable': {'thread_id': '3', 'thread_ts': '1ef558b2-8aea-6a78-8001-41c92d59c2cb'}})\n",
      "---\n",
      "StateSnapshot(values={'messages': [HumanMessage(content='What is the weather in Leon?', id='d252dc4f-8e6f-4a25-8feb-71cf13df094a'), AIMessage(content='', additional_kwargs={'tool_calls': [{'id': 'call_fEMDOZ4dNuJLNFoyPTcn82nV', 'function': {'arguments': '{\"query\":\"current weather in Leon\"}', 'name': 'tavily_search_results_json'}, 'type': 'function'}]}, response_metadata={'token_usage': {'completion_tokens': 21, 'prompt_tokens': 152, 'total_tokens': 173}, 'model_name': 'gpt-4o-2024-05-13', 'system_fingerprint': 'fp_abc28019ad', 'finish_reason': 'tool_calls', 'logprobs': None, 'content_filter_results': {}}, id='run-adb49d12-5815-4c9e-b6be-bce62908c9cd-0', tool_calls=[{'name': 'tavily_search_results_json', 'args': {'query': 'current weather in Leon'}, 'id': 'call_fEMDOZ4dNuJLNFoyPTcn82nV', 'type': 'tool_call'}], usage_metadata={'input_tokens': 152, 'output_tokens': 21, 'total_tokens': 173})]}, next=('action',), config={'configurable': {'thread_id': '3', 'thread_ts': '1ef558b2-8aea-6a78-8001-41c92d59c2cb'}}, metadata={'source': 'loop', 'writes': {'llm': {'messages': [AIMessage(content='', additional_kwargs={'tool_calls': [{'id': 'call_fEMDOZ4dNuJLNFoyPTcn82nV', 'function': {'arguments': '{\"query\":\"current weather in Leon\"}', 'name': 'tavily_search_results_json'}, 'type': 'function'}]}, response_metadata={'token_usage': {'completion_tokens': 21, 'prompt_tokens': 152, 'total_tokens': 173}, 'model_name': 'gpt-4o-2024-05-13', 'system_fingerprint': 'fp_abc28019ad', 'finish_reason': 'tool_calls', 'logprobs': None, 'content_filter_results': {}}, id='run-adb49d12-5815-4c9e-b6be-bce62908c9cd-0', tool_calls=[{'name': 'tavily_search_results_json', 'args': {'query': 'current weather in Leon'}, 'id': 'call_fEMDOZ4dNuJLNFoyPTcn82nV', 'type': 'tool_call'}], usage_metadata={'input_tokens': 152, 'output_tokens': 21, 'total_tokens': 173})]}}, 'step': 1}, created_at='2024-08-08T13:36:04.312503+00:00', parent_config={'configurable': {'thread_id': '3', 'thread_ts': '1ef558b2-7de7-636c-8000-d80575a0012f'}})\n",
      "---\n",
      "StateSnapshot(values={'messages': [HumanMessage(content='What is the weather in Leon?', id='d252dc4f-8e6f-4a25-8feb-71cf13df094a')]}, next=('llm',), config={'configurable': {'thread_id': '3', 'thread_ts': '1ef558b2-7de7-636c-8000-d80575a0012f'}}, metadata={'source': 'loop', 'writes': None, 'step': 0}, created_at='2024-08-08T13:36:02.947965+00:00', parent_config={'configurable': {'thread_id': '3', 'thread_ts': '1ef558b2-7de3-6271-bfff-83e4d2395c2f'}})\n",
      "---\n",
      "StateSnapshot(values={'messages': []}, next=('__start__',), config={'configurable': {'thread_id': '3', 'thread_ts': '1ef558b2-7de3-6271-bfff-83e4d2395c2f'}}, metadata={'source': 'input', 'writes': {'messages': [HumanMessage(content='What is the weather in Leon?')]}, 'step': -1}, created_at='2024-08-08T13:36:02.946301+00:00', parent_config=None)\n",
      "---\n"
     ]
    }
   ],
   "source": [
    "states = []\n",
    "for state in abot.graph.get_state_history(thread):\n",
    "    print(state)\n",
    "    print(\"---\")\n",
    "    states.append(state)"
   ]
  },
  {
   "cell_type": "markdown",
   "metadata": {},
   "source": [
    "We can get the original state, the one that was asking for the weather in Leon without specifying Spain or Mexico:"
   ]
  },
  {
   "cell_type": "code",
   "execution_count": 19,
   "metadata": {},
   "outputs": [
    {
     "data": {
      "text/plain": [
       "StateSnapshot(values={'messages': []}, next=('__start__',), config={'configurable': {'thread_id': '3', 'thread_ts': '1ef558b2-7de3-6271-bfff-83e4d2395c2f'}}, metadata={'source': 'input', 'writes': {'messages': [HumanMessage(content='What is the weather in Leon?')]}, 'step': -1}, created_at='2024-08-08T13:36:02.946301+00:00', parent_config=None)"
      ]
     },
     "execution_count": 19,
     "metadata": {},
     "output_type": "execute_result"
    }
   ],
   "source": [
    "to_replay = states[-1]\n",
    "to_replay"
   ]
  },
  {
   "cell_type": "markdown",
   "metadata": {},
   "source": [
    "To resume the graph from that original state, to see whether it would have retrieved the weather from Leon Spain or Leon Mexico, we just need to inject that state:"
   ]
  },
  {
   "cell_type": "code",
   "execution_count": 20,
   "metadata": {},
   "outputs": [
    {
     "name": "stdout",
     "output_type": "stream",
     "text": [
      "{'messages': [HumanMessage(content='What is the weather in Leon?', id='d252dc4f-8e6f-4a25-8feb-71cf13df094a'), AIMessage(content='', additional_kwargs={'tool_calls': [{'id': 'call_wynHFQroUAHC1mZ7OMyzsf3j', 'function': {'arguments': '{\"query\":\"current weather in Leon\"}', 'name': 'tavily_search_results_json'}, 'type': 'function'}]}, response_metadata={'token_usage': {'completion_tokens': 21, 'prompt_tokens': 152, 'total_tokens': 173}, 'model_name': 'gpt-4o-2024-05-13', 'system_fingerprint': 'fp_abc28019ad', 'finish_reason': 'tool_calls', 'logprobs': None, 'content_filter_results': {}}, id='run-9299e0f6-2410-48f2-8e56-8c954e8b4b0f-0', tool_calls=[{'name': 'tavily_search_results_json', 'args': {'query': 'current weather in Leon'}, 'id': 'call_wynHFQroUAHC1mZ7OMyzsf3j', 'type': 'tool_call'}], usage_metadata={'input_tokens': 152, 'output_tokens': 21, 'total_tokens': 173})]}\n",
      "{'messages': [AIMessage(content='', additional_kwargs={'tool_calls': [{'id': 'call_wynHFQroUAHC1mZ7OMyzsf3j', 'function': {'arguments': '{\"query\":\"current weather in Leon\"}', 'name': 'tavily_search_results_json'}, 'type': 'function'}]}, response_metadata={'token_usage': {'completion_tokens': 21, 'prompt_tokens': 152, 'total_tokens': 173}, 'model_name': 'gpt-4o-2024-05-13', 'system_fingerprint': 'fp_abc28019ad', 'finish_reason': 'tool_calls', 'logprobs': None, 'content_filter_results': {}}, id='run-9299e0f6-2410-48f2-8e56-8c954e8b4b0f-0', tool_calls=[{'name': 'tavily_search_results_json', 'args': {'query': 'current weather in Leon'}, 'id': 'call_wynHFQroUAHC1mZ7OMyzsf3j', 'type': 'tool_call'}], usage_metadata={'input_tokens': 152, 'output_tokens': 21, 'total_tokens': 173})]}\n"
     ]
    }
   ],
   "source": [
    "for event in abot.graph.stream(None, to_replay.config):\n",
    "    for k, v in event.items():\n",
    "        print(v)"
   ]
  },
  {
   "cell_type": "code",
   "execution_count": 21,
   "metadata": {},
   "outputs": [
    {
     "name": "stdout",
     "output_type": "stream",
     "text": [
      ">> calling: {'name': 'tavily_search_results_json', 'args': {'query': 'current weather in Leon'}, 'id': 'call_wynHFQroUAHC1mZ7OMyzsf3j', 'type': 'tool_call'}\n",
      ">> back to the model\n",
      "{'messages': [ToolMessage(content='[{\\'url\\': \\'https://www.weatherapi.com/\\', \\'content\\': \"{\\'location\\': {\\'name\\': \\'Leon\\', \\'region\\': \\'Guanajuato\\', \\'country\\': \\'Mexico\\', \\'lat\\': 21.12, \\'lon\\': -101.67, \\'tz_id\\': \\'America/Mexico_City\\', \\'localtime_epoch\\': 1723125181, \\'localtime\\': \\'2024-08-08 07:53\\'}, \\'current\\': {\\'last_updated_epoch\\': 1723124700, \\'last_updated\\': \\'2024-08-08 07:45\\', \\'temp_c\\': 16.5, \\'temp_f\\': 61.7, \\'is_day\\': 1, \\'condition\\': {\\'text\\': \\'Patchy rain nearby\\', \\'icon\\': \\'//cdn.weatherapi.com/weather/64x64/day/176.png\\', \\'code\\': 1063}, \\'wind_mph\\': 2.2, \\'wind_kph\\': 3.6, \\'wind_degree\\': 157, \\'wind_dir\\': \\'SSE\\', \\'pressure_mb\\': 1014.0, \\'pressure_in\\': 29.94, \\'precip_mm\\': 0.01, \\'precip_in\\': 0.0, \\'humidity\\': 68, \\'cloud\\': 85, \\'feelslike_c\\': 16.5, \\'feelslike_f\\': 61.7, \\'windchill_c\\': 16.5, \\'windchill_f\\': 61.7, \\'heatindex_c\\': 16.5, \\'heatindex_f\\': 61.7, \\'dewpoint_c\\': 10.0, \\'dewpoint_f\\': 50.0, \\'vis_km\\': 10.0, \\'vis_miles\\': 6.0, \\'uv\\': 1.0, \\'gust_mph\\': 6.7, \\'gust_kph\\': 10.8}}\"}, {\\'url\\': \\'https://world-weather.info/forecast/usa/leon_1/august-2024/\\', \\'content\\': \\'Detailed ⚡ Leon Weather Forecast for August 2024 - day/night 🌡️ temperatures, precipitations - World-Weather.info\\'}]', name='tavily_search_results_json', tool_call_id='call_wynHFQroUAHC1mZ7OMyzsf3j')]}\n",
      "{'messages': [HumanMessage(content='What is the weather in Leon?', id='d252dc4f-8e6f-4a25-8feb-71cf13df094a'), AIMessage(content='', additional_kwargs={'tool_calls': [{'id': 'call_wynHFQroUAHC1mZ7OMyzsf3j', 'function': {'arguments': '{\"query\":\"current weather in Leon\"}', 'name': 'tavily_search_results_json'}, 'type': 'function'}]}, response_metadata={'token_usage': {'completion_tokens': 21, 'prompt_tokens': 152, 'total_tokens': 173}, 'model_name': 'gpt-4o-2024-05-13', 'system_fingerprint': 'fp_abc28019ad', 'finish_reason': 'tool_calls', 'logprobs': None, 'content_filter_results': {}}, id='run-9299e0f6-2410-48f2-8e56-8c954e8b4b0f-0', tool_calls=[{'name': 'tavily_search_results_json', 'args': {'query': 'current weather in Leon'}, 'id': 'call_wynHFQroUAHC1mZ7OMyzsf3j', 'type': 'tool_call'}], usage_metadata={'input_tokens': 152, 'output_tokens': 21, 'total_tokens': 173}), ToolMessage(content='[{\\'url\\': \\'https://www.weatherapi.com/\\', \\'content\\': \"{\\'location\\': {\\'name\\': \\'Leon\\', \\'region\\': \\'Guanajuato\\', \\'country\\': \\'Mexico\\', \\'lat\\': 21.12, \\'lon\\': -101.67, \\'tz_id\\': \\'America/Mexico_City\\', \\'localtime_epoch\\': 1723125181, \\'localtime\\': \\'2024-08-08 07:53\\'}, \\'current\\': {\\'last_updated_epoch\\': 1723124700, \\'last_updated\\': \\'2024-08-08 07:45\\', \\'temp_c\\': 16.5, \\'temp_f\\': 61.7, \\'is_day\\': 1, \\'condition\\': {\\'text\\': \\'Patchy rain nearby\\', \\'icon\\': \\'//cdn.weatherapi.com/weather/64x64/day/176.png\\', \\'code\\': 1063}, \\'wind_mph\\': 2.2, \\'wind_kph\\': 3.6, \\'wind_degree\\': 157, \\'wind_dir\\': \\'SSE\\', \\'pressure_mb\\': 1014.0, \\'pressure_in\\': 29.94, \\'precip_mm\\': 0.01, \\'precip_in\\': 0.0, \\'humidity\\': 68, \\'cloud\\': 85, \\'feelslike_c\\': 16.5, \\'feelslike_f\\': 61.7, \\'windchill_c\\': 16.5, \\'windchill_f\\': 61.7, \\'heatindex_c\\': 16.5, \\'heatindex_f\\': 61.7, \\'dewpoint_c\\': 10.0, \\'dewpoint_f\\': 50.0, \\'vis_km\\': 10.0, \\'vis_miles\\': 6.0, \\'uv\\': 1.0, \\'gust_mph\\': 6.7, \\'gust_kph\\': 10.8}}\"}, {\\'url\\': \\'https://world-weather.info/forecast/usa/leon_1/august-2024/\\', \\'content\\': \\'Detailed ⚡ Leon Weather Forecast for August 2024 - day/night 🌡️ temperatures, precipitations - World-Weather.info\\'}]', name='tavily_search_results_json', id='36049a87-9965-4db6-9f84-75239ded6947', tool_call_id='call_wynHFQroUAHC1mZ7OMyzsf3j'), AIMessage(content='The current weather in Leon, Guanajuato, Mexico is as follows:\\n\\n- **Temperature**: 16.5°C (61.7°F)\\n- **Condition**: Patchy rain nearby\\n- **Wind**: 3.6 kph (2.2 mph) from the SSE\\n- **Humidity**: 68%\\n- **Cloud Cover**: 85%\\n- **Visibility**: 10 km (6 miles)\\n- **Pressure**: 1014 mb\\n- **UV Index**: 1\\n\\n![Weather Icon](//cdn.weatherapi.com/weather/64x64/day/176.png)', response_metadata={'token_usage': {'completion_tokens': 130, 'prompt_tokens': 647, 'total_tokens': 777}, 'model_name': 'gpt-4o-2024-05-13', 'system_fingerprint': 'fp_abc28019ad', 'finish_reason': 'stop', 'logprobs': None, 'content_filter_results': {}}, id='run-8c82c670-e6da-4fc8-87dc-4cacf05949a5-0', usage_metadata={'input_tokens': 647, 'output_tokens': 130, 'total_tokens': 777})]}\n",
      "{'messages': [AIMessage(content='The current weather in Leon, Guanajuato, Mexico is as follows:\\n\\n- **Temperature**: 16.5°C (61.7°F)\\n- **Condition**: Patchy rain nearby\\n- **Wind**: 3.6 kph (2.2 mph) from the SSE\\n- **Humidity**: 68%\\n- **Cloud Cover**: 85%\\n- **Visibility**: 10 km (6 miles)\\n- **Pressure**: 1014 mb\\n- **UV Index**: 1\\n\\n![Weather Icon](//cdn.weatherapi.com/weather/64x64/day/176.png)', response_metadata={'token_usage': {'completion_tokens': 130, 'prompt_tokens': 647, 'total_tokens': 777}, 'model_name': 'gpt-4o-2024-05-13', 'system_fingerprint': 'fp_abc28019ad', 'finish_reason': 'stop', 'logprobs': None, 'content_filter_results': {}}, id='run-8c82c670-e6da-4fc8-87dc-4cacf05949a5-0', usage_metadata={'input_tokens': 647, 'output_tokens': 130, 'total_tokens': 777})]}\n"
     ]
    }
   ],
   "source": [
    "# need to continue as it stops before calling the tool\n",
    "for event in abot.graph.stream(None, thread):\n",
    "    for v in event.values():\n",
    "        print(v)"
   ]
  },
  {
   "cell_type": "markdown",
   "metadata": {},
   "source": [
    "And we see that it was retrieving the weather from Leon Mexico."
   ]
  },
  {
   "cell_type": "markdown",
   "metadata": {},
   "source": [
    "We can modify the state from that initial state too, the steps are exactly the same"
   ]
  },
  {
   "cell_type": "code",
   "execution_count": 22,
   "metadata": {},
   "outputs": [
    {
     "data": {
      "text/plain": [
       "StateSnapshot(values={'messages': []}, next=('__start__',), config={'configurable': {'thread_id': '3', 'thread_ts': '1ef558b2-7de3-6271-bfff-83e4d2395c2f'}}, metadata={'source': 'input', 'writes': {'messages': [HumanMessage(content='What is the weather in Leon?')]}, 'step': -1}, created_at='2024-08-08T13:36:02.946301+00:00', parent_config=None)"
      ]
     },
     "execution_count": 22,
     "metadata": {},
     "output_type": "execute_result"
    }
   ],
   "source": [
    "# are you still there?\n",
    "to_replay"
   ]
  },
  {
   "cell_type": "code",
   "execution_count": 23,
   "metadata": {},
   "outputs": [
    {
     "ename": "IndexError",
     "evalue": "list index out of range",
     "output_type": "error",
     "traceback": [
      "\u001b[0;31m---------------------------------------------------------------------------\u001b[0m",
      "\u001b[0;31mIndexError\u001b[0m                                Traceback (most recent call last)",
      "Cell \u001b[0;32mIn[23], line 1\u001b[0m\n\u001b[0;32m----> 1\u001b[0m \u001b[38;5;28mid\u001b[39m \u001b[38;5;241m=\u001b[39m \u001b[43mto_replay\u001b[49m\u001b[38;5;241;43m.\u001b[39;49m\u001b[43mvalues\u001b[49m\u001b[43m[\u001b[49m\u001b[38;5;124;43m\"\u001b[39;49m\u001b[38;5;124;43mmessages\u001b[39;49m\u001b[38;5;124;43m\"\u001b[39;49m\u001b[43m]\u001b[49m\u001b[43m[\u001b[49m\u001b[38;5;241;43m-\u001b[39;49m\u001b[38;5;241;43m1\u001b[39;49m\u001b[43m]\u001b[49m\u001b[38;5;241m.\u001b[39mtool_calls[\u001b[38;5;241m0\u001b[39m][\u001b[38;5;124m\"\u001b[39m\u001b[38;5;124mid\u001b[39m\u001b[38;5;124m\"\u001b[39m]\n\u001b[1;32m      2\u001b[0m to_replay\u001b[38;5;241m.\u001b[39mvalues[\u001b[38;5;124m\"\u001b[39m\u001b[38;5;124mmessages\u001b[39m\u001b[38;5;124m\"\u001b[39m][\u001b[38;5;241m-\u001b[39m\u001b[38;5;241m1\u001b[39m]\u001b[38;5;241m.\u001b[39mtool_calls \u001b[38;5;241m=\u001b[39m [\n\u001b[1;32m      3\u001b[0m     {\n\u001b[1;32m      4\u001b[0m         \u001b[38;5;124m\"\u001b[39m\u001b[38;5;124mname\u001b[39m\u001b[38;5;124m\"\u001b[39m: \u001b[38;5;124m\"\u001b[39m\u001b[38;5;124mtavily_search_results_json\u001b[39m\u001b[38;5;124m\"\u001b[39m,\n\u001b[0;32m   (...)\u001b[0m\n\u001b[1;32m      9\u001b[0m      }\n\u001b[1;32m     10\u001b[0m ]\n",
      "\u001b[0;31mIndexError\u001b[0m: list index out of range"
     ]
    }
   ],
   "source": [
    "# this fails because the messages are empty, but the process is the same\n",
    "id = to_replay.values[\"messages\"][-1].tool_calls[0][\"id\"]\n",
    "to_replay.values[\"messages\"][-1].tool_calls = [\n",
    "    {\n",
    "        \"name\": \"tavily_search_results_json\",\n",
    "        \"args\": {\n",
    "            \"query\": \"current weather in Leon, Spain, accuweather\"\n",
    "        },\n",
    "        \"id\": id\n",
    "     }\n",
    "]"
   ]
  },
  {
   "cell_type": "markdown",
   "metadata": {},
   "source": [
    "So we've actual branched off from a previous step."
   ]
  },
  {
   "cell_type": "markdown",
   "metadata": {},
   "source": [
    "Another thing we can do is add messages to a given state. That might be needed to mock out a response."
   ]
  },
  {
   "cell_type": "code",
   "execution_count": 24,
   "metadata": {},
   "outputs": [
    {
     "ename": "IndexError",
     "evalue": "list index out of range",
     "output_type": "error",
     "traceback": [
      "\u001b[0;31m---------------------------------------------------------------------------\u001b[0m",
      "\u001b[0;31mIndexError\u001b[0m                                Traceback (most recent call last)",
      "Cell \u001b[0;32mIn[24], line 1\u001b[0m\n\u001b[0;32m----> 1\u001b[0m \u001b[38;5;28mid\u001b[39m \u001b[38;5;241m=\u001b[39m \u001b[43mto_replay\u001b[49m\u001b[38;5;241;43m.\u001b[39;49m\u001b[43mvalues\u001b[49m\u001b[43m[\u001b[49m\u001b[38;5;124;43m\"\u001b[39;49m\u001b[38;5;124;43mmessages\u001b[39;49m\u001b[38;5;124;43m\"\u001b[39;49m\u001b[43m]\u001b[49m\u001b[43m[\u001b[49m\u001b[38;5;241;43m-\u001b[39;49m\u001b[38;5;241;43m1\u001b[39;49m\u001b[43m]\u001b[49m\u001b[38;5;241m.\u001b[39mtool_calls[\u001b[38;5;241m0\u001b[39m][\u001b[38;5;124m\"\u001b[39m\u001b[38;5;124mid\u001b[39m\u001b[38;5;124m\"\u001b[39m]\n\u001b[1;32m      2\u001b[0m state_update \u001b[38;5;241m=\u001b[39m {\n\u001b[1;32m      3\u001b[0m     \u001b[38;5;124m\"\u001b[39m\u001b[38;5;124mmessages\u001b[39m\u001b[38;5;124m\"\u001b[39m: [\n\u001b[1;32m      4\u001b[0m         ToolMessage(\n\u001b[0;32m   (...)\u001b[0m\n\u001b[1;32m      9\u001b[0m     ]\n\u001b[1;32m     10\u001b[0m }\n",
      "\u001b[0;31mIndexError\u001b[0m: list index out of range"
     ]
    }
   ],
   "source": [
    "id = to_replay.values[\"messages\"][-1].tool_calls[0][\"id\"]\n",
    "state_update = {\n",
    "    \"messages\": [\n",
    "        ToolMessage(\n",
    "            tool_call_id=id,\n",
    "            name=\"tavily_search_results_json\",\n",
    "            content=\"54 degrees celsius and sunny as hell\",\n",
    "        )\n",
    "    ]\n",
    "}"
   ]
  },
  {
   "cell_type": "markdown",
   "metadata": {},
   "source": [
    "This will append it instead of modifying the existing.\n",
    "\n",
    "In order to add it, you need to do:"
   ]
  },
  {
   "cell_type": "code",
   "execution_count": null,
   "metadata": {},
   "outputs": [],
   "source": [
    "branch_and_add = abot.graph.update_state(\n",
    "    to_replay.config,\n",
    "    state_update,\n",
    "    as_node=\"action\"  # update as if we were the action node\n",
    ")"
   ]
  },
  {
   "cell_type": "markdown",
   "metadata": {},
   "source": [
    "Then you can do:"
   ]
  },
  {
   "cell_type": "code",
   "execution_count": null,
   "metadata": {},
   "outputs": [],
   "source": [
    "for event in abot.graph.stream(None, branch_and_add):\n",
    "    for k, v in event.items():\n",
    "        print(v)"
   ]
  },
  {
   "cell_type": "markdown",
   "metadata": {},
   "source": [
    "In summary you can have human-in-the-loop interactions for:\n",
    "\n",
    "+ approve or deny the execution of a specific action\n",
    "+ go back in time\n",
    "+ modify the state (either last state or previous state)\n",
    "+ let a human give the result of calling a tool"
   ]
  },
  {
   "cell_type": "markdown",
   "metadata": {},
   "source": [
    "## A complicated use case: Essay Writer\n",
    "\n",
    "In this section we'll build a compact version of an AI researcher.\n",
    "\n",
    "The following graph describes the approach that we will follow:\n",
    "\n",
    "![Essay Writer Graph](pics/essay_writer_graph.png)"
   ]
  },
  {
   "cell_type": "markdown",
   "metadata": {},
   "source": [
    "Let's start with loading the configuration and importing the things we need:"
   ]
  },
  {
   "cell_type": "code",
   "execution_count": 26,
   "metadata": {},
   "outputs": [],
   "source": [
    "from dotenv import load_dotenv\n",
    "_ = load_dotenv()\n",
    "\n",
    "from langgraph.graph import StateGraph, END\n",
    "from typing import TypedDict, Annotated, List\n",
    "import operator\n",
    "from langchain_core.messages import AnyMessage, SystemMessage, HumanMessage, ToolMessage\n",
    "from langchain_openai import AzureChatOpenAI\n",
    "from langchain_community.tools.tavily_search import TavilySearchResults\n",
    "from langgraph.checkpoint.sqlite import SqliteSaver\n",
    "\n",
    "memory = SqliteSaver.from_conn_string(\":memory:\")"
   ]
  },
  {
   "cell_type": "markdown",
   "metadata": {},
   "source": [
    "Now we're going to create the agent state, which will be a little bit more complicated than before:"
   ]
  },
  {
   "cell_type": "code",
   "execution_count": 27,
   "metadata": {},
   "outputs": [],
   "source": [
    "class AgentState(TypedDict):\n",
    "    task: str\n",
    "    plan: str\n",
    "    draft: str\n",
    "    critique: str\n",
    "    content: List[str]\n",
    "    revision_number: int\n",
    "    max_revisions: int"
   ]
  },
  {
   "cell_type": "code",
   "execution_count": 28,
   "metadata": {},
   "outputs": [],
   "source": [
    "model = AzureChatOpenAI(\n",
    "    openai_api_version=\"2023-05-15\",\n",
    "    azure_deployment=\"chat_gpt4o\",\n",
    "    model=\"gpt-4o\",\n",
    "    temperature=0\n",
    ")"
   ]
  },
  {
   "cell_type": "code",
   "execution_count": 29,
   "metadata": {},
   "outputs": [],
   "source": [
    "PLAN_PROMPT = \"\"\"You are an expert writer tasked with writing a high level outline of an essay.\n",
    "Write such an outline for the user provided topic. Give an outline of the essay along with any relevant notes\n",
    "or instructions for the sections.\"\"\""
   ]
  },
  {
   "cell_type": "code",
   "execution_count": 30,
   "metadata": {},
   "outputs": [],
   "source": [
    "WRITER_PROMPT = \"\"\"You are an essay assistant tasked with writing excellent 5-paragraph essays.\n",
    "Generate the best essay possible for the user's request and the initial outline.\n",
    "If the user provides critique, respond with a revised version of your previous attempts.\n",
    "Utilize all the information below as needed:\n",
    "\n",
    "------\n",
    "\n",
    "{content}\"\"\""
   ]
  },
  {
   "cell_type": "code",
   "execution_count": 31,
   "metadata": {},
   "outputs": [],
   "source": [
    "REFLECTION_PROMPT = \"\"\"You are a teacher grading an essay submission.\n",
    "Generate critique and recommendations for the user's submission.\n",
    "Provide detailed recommendations, including requests for length, depth, style, etc.\"\"\"\n"
   ]
  },
  {
   "cell_type": "code",
   "execution_count": 32,
   "metadata": {},
   "outputs": [],
   "source": [
    "RESEARCH_PLAN_PROMPT = \"\"\"You are a researcher charged with providing information that can\n",
    "be used when writing the following essay. Generate a list of search queries that will gather any relevant information. Only generate 3 queries max.\"\"\""
   ]
  },
  {
   "cell_type": "code",
   "execution_count": 33,
   "metadata": {},
   "outputs": [],
   "source": [
    "RESEARCH_CRITIQUE_PROMPT = \"\"\"You are a researcher charged with providing information that can\n",
    "be used when making any requested revisions (as outlined below).\n",
    "Generate a list of search queries that will gather any relevant information. Only generate 3 queries max.\"\"\""
   ]
  },
  {
   "cell_type": "markdown",
   "metadata": {},
   "source": [
    "We're going to use function calling to ensure that we get back a list of strings from the language model.\n",
    "\n",
    "In order to do so, we set up a Pydantic model that will represent the result that we want to get back from invoking the language model:"
   ]
  },
  {
   "cell_type": "code",
   "execution_count": 34,
   "metadata": {},
   "outputs": [],
   "source": [
    "from langchain_core.pydantic_v1 import BaseModel\n",
    "\n",
    "class Queries(BaseModel):\n",
    "    queries: List[str]"
   ]
  },
  {
   "cell_type": "markdown",
   "metadata": {},
   "source": [
    "Now we import the TavilyClient instead of the tool because we're working on a slightly unconventional way:"
   ]
  },
  {
   "cell_type": "code",
   "execution_count": 35,
   "metadata": {},
   "outputs": [],
   "source": [
    "from tavily import TavilyClient\n",
    "import os\n",
    "tavily = TavilyClient()"
   ]
  },
  {
   "cell_type": "markdown",
   "metadata": {},
   "source": [
    "Now we can start creating all our different agents (==all our different nodes).\n",
    "\n",
    "Let's start with the one that does the planning:"
   ]
  },
  {
   "cell_type": "code",
   "execution_count": 36,
   "metadata": {},
   "outputs": [],
   "source": [
    "def plan_node(state: AgentState):\n",
    "    messages = [\n",
    "        SystemMessage(content=PLAN_PROMPT),\n",
    "        HumanMessage(content=state[\"task\"])\n",
    "    ]\n",
    "    response = model.invoke(messages)\n",
    "    return {\"plan\": response.content}"
   ]
  },
  {
   "cell_type": "markdown",
   "metadata": {},
   "source": [
    "Now, we can define the agent that does some research:"
   ]
  },
  {
   "cell_type": "code",
   "execution_count": 37,
   "metadata": {},
   "outputs": [],
   "source": [
    "def research_plan_node(state: AgentState):\n",
    "    queries = model.with_structured_output(Queries).invoke([\n",
    "        SystemMessage(content=RESEARCH_PLAN_PROMPT),\n",
    "        HumanMessage(content=state[\"task\"])\n",
    "    ])\n",
    "    content = state[\"content\"] or []\n",
    "    for q in queries.queries:\n",
    "        response = tavily.search(query=q, max_results=2)\n",
    "        for r in response[\"results\"]:\n",
    "            content.append(r[\"content\"])\n",
    "    return {\"content\": content}\n"
   ]
  },
  {
   "cell_type": "markdown",
   "metadata": {},
   "source": [
    "Now we can write the agent that generates the drafts:"
   ]
  },
  {
   "cell_type": "code",
   "execution_count": 38,
   "metadata": {},
   "outputs": [],
   "source": [
    "def generation_node(state: AgentState):\n",
    "    content = \"\\n\\n\".join(state[\"content\"] or [])\n",
    "    user_message = HumanMessage(\n",
    "        content=f\"{state['task']}\\n\\nHere is my plan:\\n\\n{state['plan']}\")\n",
    "    messages = [\n",
    "        SystemMessage(content=WRITER_PROMPT.format(content=content)),\n",
    "        user_message\n",
    "    ]\n",
    "    response = model.invoke(messages)\n",
    "    return {\n",
    "        \"draft\": response.content,\n",
    "        \"revision_number\": state.get(\"revision_number\", 1) + 1,\n",
    "    }"
   ]
  },
  {
   "cell_type": "markdown",
   "metadata": {},
   "source": [
    "Now we can tackler the reflection node:"
   ]
  },
  {
   "cell_type": "code",
   "execution_count": 39,
   "metadata": {},
   "outputs": [],
   "source": [
    "def reflection_node(state: AgentState):\n",
    "    messages = [\n",
    "        SystemMessage(content=REFLECTION_PROMPT),\n",
    "        HumanMessage(content=state[\"draft\"])\n",
    "    ]\n",
    "    response = model.invoke(messages)\n",
    "    return {\"critique\": response.content}"
   ]
  },
  {
   "cell_type": "markdown",
   "metadata": {},
   "source": [
    "The last agent we need is the agent that is going to take the critique and do some research:"
   ]
  },
  {
   "cell_type": "code",
   "execution_count": 40,
   "metadata": {},
   "outputs": [],
   "source": [
    "def research_critique_node(state: AgentState):\n",
    "    queries = model.with_structured_output(Queries).invoke([\n",
    "        SystemMessage(content=RESEARCH_CRITIQUE_PROMPT),\n",
    "        HumanMessage(content=state[\"critique\"])\n",
    "    ])\n",
    "    content = state[\"content\"] or []\n",
    "    for q in queries.queries:\n",
    "        response = tavily.search(query=q, max_results=2)\n",
    "        for r in response[\"results\"]:\n",
    "            content.append(r[\"content\"])\n",
    "    return {\"content\": content}"
   ]
  },
  {
   "cell_type": "markdown",
   "metadata": {},
   "source": [
    "The last piece of the puzzle we need is the conditional edge that will be run after the generation step:"
   ]
  },
  {
   "cell_type": "code",
   "execution_count": 41,
   "metadata": {},
   "outputs": [],
   "source": [
    "def should_continue(state):\n",
    "    if state[\"revision_number\"] > state[\"max_revisions\"]:\n",
    "        return END\n",
    "    return \"reflect\""
   ]
  },
  {
   "cell_type": "markdown",
   "metadata": {},
   "source": [
    "Now let's put it together in a graph:"
   ]
  },
  {
   "cell_type": "code",
   "execution_count": 42,
   "metadata": {},
   "outputs": [],
   "source": [
    "builder = StateGraph(AgentState)\n",
    "builder.add_node(\"planner\", plan_node)\n",
    "builder.add_node(\"generate\", generation_node)\n",
    "builder.add_node(\"reflect\", reflection_node)\n",
    "builder.add_node(\"research_plan\", research_plan_node)\n",
    "builder.add_node(\"research_critique\", research_critique_node)"
   ]
  },
  {
   "cell_type": "markdown",
   "metadata": {},
   "source": [
    "Now we set the entry point:"
   ]
  },
  {
   "cell_type": "code",
   "execution_count": 43,
   "metadata": {},
   "outputs": [],
   "source": [
    "builder.set_entry_point(\"planner\")"
   ]
  },
  {
   "cell_type": "markdown",
   "metadata": {},
   "source": [
    "And the conditional node:"
   ]
  },
  {
   "cell_type": "code",
   "execution_count": 44,
   "metadata": {},
   "outputs": [],
   "source": [
    "builder.add_conditional_edges(\n",
    "    \"generate\",\n",
    "    should_continue,\n",
    "    {END: END, \"reflect\": \"reflect\"}\n",
    ")"
   ]
  },
  {
   "cell_type": "markdown",
   "metadata": {},
   "source": [
    "Nowe we add the edges (arrows of our graph):"
   ]
  },
  {
   "cell_type": "code",
   "execution_count": 45,
   "metadata": {},
   "outputs": [],
   "source": [
    "builder.add_edge(\"planner\", \"research_plan\")\n",
    "builder.add_edge(\"research_plan\", \"generate\")\n",
    "\n",
    "builder.add_edge(\"reflect\", \"research_critique\")\n",
    "builder.add_edge(\"research_critique\", \"generate\")"
   ]
  },
  {
   "cell_type": "markdown",
   "metadata": {},
   "source": [
    "Now we can compile the graph:"
   ]
  },
  {
   "cell_type": "code",
   "execution_count": 46,
   "metadata": {},
   "outputs": [],
   "source": [
    "graph = builder.compile(checkpointer=memory)"
   ]
  },
  {
   "cell_type": "markdown",
   "metadata": {},
   "source": [
    "We can visualize the graph to make it reflects our original design:"
   ]
  },
  {
   "cell_type": "code",
   "execution_count": 47,
   "metadata": {},
   "outputs": [
    {
     "data": {
      "image/png": "[encoded data removed]",
      "text/plain": [
       "<IPython.core.display.Image object>"
      ]
     },
     "execution_count": 47,
     "metadata": {},
     "output_type": "execute_result"
    }
   ],
   "source": [
    "from IPython.display import Image\n",
    "Image(graph.get_graph().draw_png())"
   ]
  },
  {
   "cell_type": "markdown",
   "metadata": {},
   "source": [
    "Let's now use this writing agent:"
   ]
  },
  {
   "cell_type": "code",
   "execution_count": 1,
   "metadata": {},
   "outputs": [
    {
     "ename": "NameError",
     "evalue": "name 'graph' is not defined",
     "output_type": "error",
     "traceback": [
      "\u001b[0;31m---------------------------------------------------------------------------\u001b[0m",
      "\u001b[0;31mNameError\u001b[0m                                 Traceback (most recent call last)",
      "Cell \u001b[0;32mIn[1], line 2\u001b[0m\n\u001b[1;32m      1\u001b[0m thread \u001b[38;5;241m=\u001b[39m {\u001b[38;5;124m\"\u001b[39m\u001b[38;5;124mconfigurable\u001b[39m\u001b[38;5;124m\"\u001b[39m: {\u001b[38;5;124m\"\u001b[39m\u001b[38;5;124mthread_id\u001b[39m\u001b[38;5;124m\"\u001b[39m: \u001b[38;5;124m\"\u001b[39m\u001b[38;5;124m7\u001b[39m\u001b[38;5;124m\"\u001b[39m}}\n\u001b[0;32m----> 2\u001b[0m \u001b[38;5;28;01mfor\u001b[39;00m s \u001b[38;5;129;01min\u001b[39;00m \u001b[43mgraph\u001b[49m\u001b[38;5;241m.\u001b[39mstream({\n\u001b[1;32m      3\u001b[0m     \u001b[38;5;124m\"\u001b[39m\u001b[38;5;124mtask\u001b[39m\u001b[38;5;124m\"\u001b[39m: \u001b[38;5;124m\"\u001b[39m\u001b[38;5;124mGenerate a recommendation paper for Google\u001b[39m\u001b[38;5;124m\"\u001b[39m,\n\u001b[1;32m      4\u001b[0m     \u001b[38;5;124m\"\u001b[39m\u001b[38;5;124mmax_revisions\u001b[39m\u001b[38;5;124m\"\u001b[39m: \u001b[38;5;241m3\u001b[39m,\n\u001b[1;32m      5\u001b[0m     \u001b[38;5;124m\"\u001b[39m\u001b[38;5;124mrevision_number\u001b[39m\u001b[38;5;124m\"\u001b[39m: \u001b[38;5;241m1\u001b[39m,\n\u001b[1;32m      6\u001b[0m }, thread):\n\u001b[1;32m      7\u001b[0m     \u001b[38;5;28mprint\u001b[39m(s)\n",
      "\u001b[0;31mNameError\u001b[0m: name 'graph' is not defined"
     ]
    }
   ],
   "source": [
    "thread = {\"configurable\": {\"thread_id\": \"7\"}}\n",
    "for s in graph.stream({\n",
    "    \"task\": \"Generate a recommendation paper for Google\",\n",
    "    \"max_revisions\": 3,\n",
    "    \"revision_number\": 1,\n",
    "}, thread):\n",
    "    print(s)"
   ]
  },
  {
   "cell_type": "markdown",
   "metadata": {},
   "source": [
    "## LangChain resources to dive deeper in LangGraph\n",
    "+ [LangChain introduction](https://python.langchain.com/v0.2/docs/introduction/)\n",
    "\n",
    "+ GitHub repos for LangChain and LangGraph"
   ]
  },
  {
   "cell_type": "markdown",
   "metadata": {},
   "source": [
    "## Conclusion and next steps\n",
    "\n",
    "### Multiagent architecture\n",
    "\n",
    "It is when multiple different agents work on the same shared state. The agents can be just a prompt and a language model (as we had in the Essay writer), or they could also have different tools (as in a prompt a language model and tools) and they could also have loops inside them.\n",
    "\n",
    "![Multiagent arch](pics/multiagent.png)\n"
   ]
  },
  {
   "cell_type": "markdown",
   "metadata": {},
   "source": [
    "### Supervisor agent\n",
    "\n",
    "Here we have an agent that calls into some subagents and it controls the information that is given to each subagent, and each subagent has some isolated, non-shared state &mdash; they're graphs!\n",
    "\n",
    "![Supervisor](pics/supervisor.png)\n",
    "\n",
    "Doing the supervision requires a lot of intelligence, so it's common to delegate the supervision task to an LLM."
   ]
  },
  {
   "cell_type": "markdown",
   "metadata": {},
   "source": [
    "### Flow Engineering\n",
    "\n",
    "It is a pipeline with certain loops. The idea is to think about what is the right information flow for your agents to take action.\n",
    "\n",
    "An example is what we did with the essay writer in which we started with a Plan, and then we started executing actions on that plan and revise whether the plan has been successful.\n",
    "\n",
    "![Plan and execute](pics/plan-and-execute.png)"
   ]
  },
  {
   "cell_type": "markdown",
   "metadata": {},
   "source": [
    "### Language Agent Tree Search\n",
    "\n",
    "This does a tree search over the state of possible actions:\n",
    "1. Generate an action\n",
    "2. Reflect and go down the tree based on that action,\n",
    "3. Generate some other subactions based on that etc.\n",
    "\n",
    "![Language Agent Tree Search](pics/language_agent_tree_search.png)"
   ]
  }
 ],
 "metadata": {
  "kernelspec": {
   "display_name": "02-ai-agents-langgraph-ipynb-OuLXHeo7-py3.12",
   "language": "python",
   "name": "python3"
  },
  "language_info": {
   "codemirror_mode": {
    "name": "ipython",
    "version": 3
   },
   "file_extension": ".py",
   "mimetype": "text/x-python",
   "name": "python",
   "nbconvert_exporter": "python",
   "pygments_lexer": "ipython3",
   "version": "3.12.2"
  }
 },
 "nbformat": 4,
 "nbformat_minor": 2
}
