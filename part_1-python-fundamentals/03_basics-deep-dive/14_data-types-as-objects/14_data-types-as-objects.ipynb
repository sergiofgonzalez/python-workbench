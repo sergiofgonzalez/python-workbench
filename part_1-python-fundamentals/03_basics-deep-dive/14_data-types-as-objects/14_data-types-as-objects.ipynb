{
 "cells": [
  {
   "cell_type": "markdown",
   "metadata": {},
   "source": [
    "# Data types as objects\n",
    "\n",
    "Python is dynamically typed, meaning that types are determined at runtime, not at compile time.\n",
    "\n",
    "In Python, you'll find yourself needing to compute the types of objects, and you can do so using `type()` function:"
   ]
  },
  {
   "cell_type": "code",
   "execution_count": 2,
   "metadata": {},
   "outputs": [
    {
     "name": "stdout",
     "output_type": "stream",
     "text": [
      "<class 'int'>\n",
      "<class 'list'>\n"
     ]
    }
   ],
   "source": [
    "print(type(5))  # noqa: UP003\n",
    "\n",
    "print(type([\"foo\", \"bar\"]))\n"
   ]
  },
  {
   "cell_type": "markdown",
   "metadata": {},
   "source": [
    "Note that Python returns objects (`<class 'int'>`, `<class 'list'>`) in response to the calls to type.\n",
    "\n",
    "Let's go one step further and let's check what's the type of the result of invoking `type()`:"
   ]
  },
  {
   "cell_type": "code",
   "execution_count": 3,
   "metadata": {},
   "outputs": [
    {
     "name": "stdout",
     "output_type": "stream",
     "text": [
      "<class 'type'>\n"
     ]
    }
   ],
   "source": [
    "print(type(type(5)))  # noqa: UP003\n"
   ]
  },
  {
   "cell_type": "markdown",
   "metadata": {},
   "source": [
    "The object returned by `type()` is itself another class `<class 'type'>` &mdash; a class that represents types.\n",
    "\n",
    "In Python, we can conclude that \"type\" and \"class\" are interchangeable concepts, and both of them are objects, like almost everything else."
   ]
  },
  {
   "cell_type": "markdown",
   "metadata": {},
   "source": [
    "## Using types\n",
    "\n",
    "Types can be represented as instances of type object classes. As a result, any two Python objects can be compared (as you can do with other classes):"
   ]
  },
  {
   "cell_type": "code",
   "execution_count": 2,
   "metadata": {},
   "outputs": [],
   "source": [
    "assert type(\"foo\") == type(\"bar\")  # noqa: E721\n",
    "\n",
    "assert type(\"foo\") is type(\"bar\")\n",
    "\n",
    "assert type(\"foo\") is not type(5)"
   ]
  },
  {
   "cell_type": "markdown",
   "metadata": {},
   "source": [
    "### Types and user-defined classes\n",
    "\n",
    "One of the most common use cases related to types is to find whether a particular object is an instance of a class."
   ]
  },
  {
   "cell_type": "code",
   "execution_count": null,
   "metadata": {},
   "outputs": [
    {
     "name": "stdout",
     "output_type": "stream",
     "text": [
      "<class '__main__.B'>\n",
      "<class '__main__.B'>\n",
      "B\n",
      "(<class '__main__.A'>,)\n"
     ]
    }
   ],
   "source": [
    "class A:\n",
    "    ...\n",
    "\n",
    "class B(A):\n",
    "    ...\n",
    "\n",
    "b = B()\n",
    "\n",
    "# Print the type of the instance: <class '__main__.B'>\n",
    "print(type(b))\n",
    "\n",
    "# The same information is available in the\n",
    "# __class__ attribute of the instance\n",
    "print(b.__class__)\n",
    "\n",
    "# Because it's regular Python object you can assign it to a variable\n",
    "# and pass it around\n",
    "b_class = b.__class__\n",
    "\n",
    "assert b_class == B\n",
    "\n",
    "# You can get the name of the class using the __name__ attribute\n",
    "print(b_class.__name__)\n",
    "\n",
    "# You can explore the class hierarchy using `__bases__`\n",
    "# That returns a tuple with all the base classes\n",
    "print(b_class.__bases__)"
   ]
  },
  {
   "cell_type": "markdown",
   "metadata": {},
   "source": [
    "With:\n",
    "+ `__class__` to get the type/class of an instance\n",
    "+ `__bases__` to get the base classes of a class\n",
    "+ `__name__` to get the name of a class\n",
    "\n",
    "you can do a full analysis of the class inheritance structure associated with any instance.\n",
    "\n",
    "However, Python provides better options for obtaining most of the information you typically need:\n",
    "+ `isinstance(obj, cls)`: used to determine if the class passed is of the expected type.\n",
    "+ `issubclass(cls1, cls2)`: used for classes, lets you determine if the given class is a subclass of other.\n"
   ]
  },
  {
   "cell_type": "code",
   "execution_count": 17,
   "metadata": {},
   "outputs": [],
   "source": [
    "class C:\n",
    "    ...\n",
    "\n",
    "class D:\n",
    "    ...\n",
    "\n",
    "class E(D):\n",
    "    ...\n",
    "\n",
    "x = 12  # it's an int\n",
    "c = C()\n",
    "d = D()\n",
    "e = E()\n",
    "\n",
    "assert not isinstance(x, E)\n",
    "assert not isinstance(c, E)\n",
    "assert isinstance(e, E)\n",
    "assert isinstance(e, D) # returns True even if it's a subclass\n",
    "assert not isinstance(d, E) # but not the other way around\n",
    "assert isinstance(x, type(5))\n",
    "assert isinstance(x, int)"
   ]
  },
  {
   "cell_type": "markdown",
   "metadata": {},
   "source": [
    "Note that E inherits from D. When using `isinstance(e, D)` it returns True, because all instances of `e` are also instances of `D`.\n",
    "\n",
    "This becomes clearer when using `subclass(cls1, cls2)`"
   ]
  },
  {
   "cell_type": "code",
   "execution_count": 20,
   "metadata": {},
   "outputs": [],
   "source": [
    "class C:\n",
    "    ...\n",
    "\n",
    "class D:\n",
    "    ...\n",
    "\n",
    "class E(D):\n",
    "    ...\n",
    "\n",
    "assert not issubclass(C, D)\n",
    "assert issubclass(E, D)\n",
    "assert not issubclass(D, E)\n",
    "assert issubclass(D, D)\n",
    "\n",
    "# if you don't have access to the class, you can rely on obj.__class__\n",
    "# attribute\n",
    "e = E()\n",
    "assert issubclass(e.__class__, D)"
   ]
  },
  {
   "cell_type": "markdown",
   "metadata": {},
   "source": [
    "Note that `issubclass(A, A)` returns True, and that the first argument to `issubclass()` is the class were're checking whether it is a subclass of the second one."
   ]
  },
  {
   "cell_type": "markdown",
   "metadata": {},
   "source": [
    "### Exercise\n",
    "\n",
    "Suppose that you want to make sure that object `x` is a list before you try appending to it. What code would you use? What would be the difference between using `type()` and `isinstance()`? Would this be the \"Look Before You Leap\" (LBYL) or the \"Easier to Ask Forgiveness than Permission\" (EAFP) approach? What other options might you have besides checking the type explicitly?"
   ]
  },
  {
   "cell_type": "code",
   "execution_count": 25,
   "metadata": {},
   "outputs": [
    {
     "name": "stdout",
     "output_type": "stream",
     "text": [
      "[[1, 2, 3]]\n",
      "[[1, 2, 3], [4, 5, 6]]\n",
      "[[1, 2, 3], [4, 5, 6], [7, 8]]\n",
      "[[1, 2, 3], [4, 5, 6], [7, 8], [9]]\n"
     ]
    }
   ],
   "source": [
    "x = [1, 2, 3]\n",
    "target_l = []\n",
    "\n",
    "if type(x) is type([]):\n",
    "    target_l.append(x)\n",
    "\n",
    "print(target_l)\n",
    "\n",
    "# Alternatively\n",
    "y = [4, 5, 6]\n",
    "if isinstance(y, target_l.__class__):\n",
    "    target_l.append(y)\n",
    "print(target_l)\n",
    "\n",
    "# Alternatively\n",
    "z = [7, 8]\n",
    "if isinstance(y, list):\n",
    "    target_l.append(z)\n",
    "print(target_l)\n",
    "\n",
    "# Alternatively\n",
    "a = [9]\n",
    "if type(x) is list:\n",
    "    target_l.append(a)\n",
    "print(target_l)\n",
    "\n"
   ]
  },
  {
   "cell_type": "markdown",
   "metadata": {},
   "source": [
    "This is the \"LBYL\" approach, because we're checking before performing the action."
   ]
  },
  {
   "cell_type": "markdown",
   "metadata": {},
   "source": [
    "## Duck Typing\n",
    "\n",
    "Using `type(obj)`, `isinstance(obj, cls)`, and `issubclass(subcls, supercls)` makes it fairly easy to make code correctly determine and object's class or inheritance hierarchy.\n",
    "\n",
    "Additionally, Python can work with *duck typing* (as in \"if it walks like a duck and quacks like a duck, it probably is a duck\").\n",
    "\n",
    "The underlying idea is that Python's way of determining whether an object can be used in a particular scenario is not through the determination of its type (as it happens in Java), but rather in the interface of the given object.\n",
    "\n",
    "For example, if an operation needs an iterator, the object doesn't need to be a subclass of any particular iterator class &mdash; as long as the object conforms to the expected interface of iterators to yield new objects everything will be fine.\n",
    "\n",
    "Note that this kind of flexibility can sometimes allow bugs to slip by undetected. It is becoming more common nowadays to restrict duck typing in favor of explicit type checking through type hints that could be verified by a type checker."
   ]
  },
  {
   "cell_type": "markdown",
   "metadata": {},
   "source": [
    "## Special/dunder/magic methods\n",
    "\n",
    "A special/dunder/magic method is an attribute of a Python class with special meaning to Python.\n",
    "\n",
    "It's defined as a method but it isn't intended to be used directly by client code, but instead by Python itself in response to a demand made on an object of that class.\n",
    "\n",
    "Special method attributes are marked by double underscore characters (thus the \"dunder\" as shortcut for double underscore) and they are also sometimes called \"magic\" methods.\n",
    "\n",
    "The simplest example is the `__str__` method which is intended to return a user-readable representation of an instance."
   ]
  },
  {
   "cell_type": "code",
   "execution_count": 26,
   "metadata": {},
   "outputs": [
    {
     "name": "stdout",
     "output_type": "stream",
     "text": [
      "Color: R=15, G=35, B=55\n"
     ]
    }
   ],
   "source": [
    "class Color:\n",
    "    def __init__(self, red, green, blue):\n",
    "        self.red = red\n",
    "        self.green = green\n",
    "        self.blue = blue\n",
    "\n",
    "    def __str__(self):\n",
    "        # :d is for printing numbers in decimal format\n",
    "        return f\"Color: R={self.red:d}, G={self.green:d}, B={self.blue:d}\"\n",
    "\n",
    "c = Color(15, 35, 55)\n",
    "print(c)"
   ]
  },
  {
   "cell_type": "markdown",
   "metadata": {},
   "source": [
    "You can see how `print()` is invoking behind the scenes `c.__str__()` method."
   ]
  },
  {
   "cell_type": "markdown",
   "metadata": {},
   "source": [
    "## Making an object behave like a list\n",
    "\n",
    "This section explores how to use *duck typing* to make an object behave like a list.\n",
    "\n",
    "Let's assume that you have a large text file containing records of people, with each:\n",
    "\n",
    "```\n",
    "John Smith::37::Springfield, Massachusetts, USA\n",
    "Ellen Nelle::25::Springfield, Connecticut, USA\n",
    "Dale McGladdery::29::Springfield, Hawaii, USA\n",
    "```\n",
    "\n",
    "The goal is to treat that text file as a list of lines, but without reading the entire text file in memory at once:"
   ]
  },
  {
   "cell_type": "code",
   "execution_count": 1,
   "metadata": {},
   "outputs": [
    {
     "data": {
      "text/plain": [
       "'Ellen Nelle::25::Springfield, Connecticut, USA\\n'"
      ]
     },
     "execution_count": 1,
     "metadata": {},
     "output_type": "execute_result"
    }
   ],
   "source": [
    "# This works, but as the file grows large it will cause an OOM\n",
    "from pathlib import Path\n",
    "\n",
    "with Path(\"./people.txt\").open(\"r\") as f:\n",
    "    lines = f.readlines()\n",
    "\n",
    "lines[4]"
   ]
  },
  {
   "cell_type": "markdown",
   "metadata": {},
   "source": [
    "The first step is to introduce the `__getitem__()` special method in a custom class.\n",
    "\n",
    "This will enable the instances of that class to respond to list access syntax and semantics (`obj[n]` and `for x in obj`):"
   ]
  },
  {
   "cell_type": "code",
   "execution_count": null,
   "metadata": {},
   "outputs": [
    {
     "name": "stdout",
     "output_type": "stream",
     "text": [
      "name='Jason Isaacs', age='61'\n",
      "name='Mahersala Ali', age='50'\n",
      "name='Zendaya', age='28'\n",
      "name='John Smith', age='37'\n",
      "name='Ellen Nelle', age='25'\n",
      "name='Dale McGladdery', age='29'\n",
      "name='Florence Pugh', age='28'\n",
      "name='Margot Robbie', age='34'\n",
      "name='Riz Ahmed', age='42'\n"
     ]
    },
    {
     "data": {
      "text/plain": [
       "['Jason Isaacs', '61']"
      ]
     },
     "execution_count": 5,
     "metadata": {},
     "output_type": "execute_result"
    }
   ],
   "source": [
    "from pathlib import Path\n",
    "\n",
    "\n",
    "class PeopleLineReader:\n",
    "    def __init__(self, filename):\n",
    "        self.file = Path(filename).open(\"r\")  # noqa: SIM115\n",
    "\n",
    "    def __getitem__(self, index):\n",
    "        # we ignore the index\n",
    "        line = self.file.readline()\n",
    "        if line == \"\":\n",
    "            self.file.close()\n",
    "            raise IndexError\n",
    "        # return only name and age\n",
    "        return line.split(\"::\")[:2]\n",
    "\n",
    "for name, age in PeopleLineReader(\"people.txt\"):\n",
    "    print(f\"{name=}, {age=}\")\n",
    "\n",
    "people = PeopleLineReader(\"people.txt\")\n",
    "people[3] # We're not correctly using the index"
   ]
  },
  {
   "cell_type": "markdown",
   "metadata": {},
   "source": [
    "Note that the example above is only intended to illustrate how to work with `__getitem__()` special method attribute and what it provides.\n",
    "\n",
    "Let's look at another more comprehensive example, in which we define a `TypedList` object that is a list that can only contain elements of a given type."
   ]
  },
  {
   "cell_type": "code",
   "execution_count": 11,
   "metadata": {},
   "outputs": [
    {
     "name": "stdout",
     "output_type": "stream",
     "text": [
      "['', '', '', '', '']\n",
      "['ab', 'ab', 'ab']\n",
      "['abc', 'abc']\n",
      "TypedList: ['', '', '', '', '']\n",
      "Hello-to-Jason Isaacs\n",
      "a='', b='', c='Hello', d='to', e='Jason Isaacs'\n"
     ]
    }
   ],
   "source": [
    "class TypedList:\n",
    "    def __init__(self, example_element, initial_list=None):\n",
    "        self.type = type(example_element)\n",
    "        if initial_list and not isinstance(initial_list, list):\n",
    "            raise TypeError(\"Second argument of TypedList must be a list\")\n",
    "        for element in initial_list:\n",
    "            if not isinstance(element, self.type):\n",
    "                raise TypeError(\"Attempted to add an element of incorrect type to the list in initialization.\")\n",
    "        self.elements = initial_list[:]\n",
    "\n",
    "    def __check_type(self, element):\n",
    "        if type(element) is not self.type:\n",
    "            raise TypeError(\"Attempted to add an element of incorrect type to the list.\")\n",
    "\n",
    "    def __setitem__(self, i, element):\n",
    "        self.__check_type(element)\n",
    "        self.elements[i] = element\n",
    "\n",
    "    def __getitem__(self, i):\n",
    "        return self.elements[i]\n",
    "\n",
    "    def __str__(self):\n",
    "        return f\"TypedList: {self.elements}\"\n",
    "\n",
    "\n",
    "# typed list of strings initialized with 5 empty strings\n",
    "# (see list initialization techniques)\n",
    "print(5 * [\"\"])\n",
    "print(3 * [\"ab\"])\n",
    "print(2 * [\"abc\"])\n",
    "\n",
    "x = TypedList(\"\", 5 * [\"\"])\n",
    "print(x)\n",
    "\n",
    "x[2] = \"Hello\"\n",
    "x[3] = \"to\"\n",
    "x[4] = \"Jason Isaacs\"\n",
    "\n",
    "print(f\"{x[2]}-{x[3]}-{x[4]}\")\n",
    "\n",
    "a, b, c, d, e = x\n",
    "print(f\"{a=}, {b=}, {c=}, {d=}, {e=}\")"
   ]
  },
  {
   "cell_type": "markdown",
   "metadata": {},
   "source": [
    "This can be enhanced with:\n",
    "\n",
    "+ `__len__` to make the object respond to `len(x)`\n",
    "+ `__delitem__` to make it respond to `del x[i]`\n",
    "+ `__add__` to allow list concatenation as in `x + y`\n",
    "+ `__mul__` (and `__rmul__`) to allow for list initialization as in `5 * x`\n",
    "\n",
    "Additionally, we could define an `append(elem)` method."
   ]
  },
  {
   "cell_type": "code",
   "execution_count": 22,
   "metadata": {},
   "outputs": [
    {
     "name": "stdout",
     "output_type": "stream",
     "text": [
      "['one', 'two', 'three', 'one', 'two']\n",
      "TypedList: ['one', 'two', 'three', 'uno', 'dos']\n",
      "TypedList: [123, 123, 123, 123, 123]\n",
      "TypedList: [321, 321, 321, 321, 321]\n"
     ]
    }
   ],
   "source": [
    "class TypedList:\n",
    "    def __init__(self, example_element, initial_list=None):\n",
    "        self.type = type(example_element)\n",
    "        if initial_list:\n",
    "            if not isinstance(initial_list, list):\n",
    "                raise TypeError(\"Second argument of TypedList must be a list\")\n",
    "            for element in initial_list:\n",
    "                if not isinstance(element, self.type):\n",
    "                    raise TypeError(\"Attempted to add an element of incorrect type to the list in initialization.\")\n",
    "            self.elements = initial_list[:]\n",
    "        else:\n",
    "            self.elements = []\n",
    "\n",
    "    def __check_type(self, element):\n",
    "        if type(element) is not self.type:\n",
    "            raise TypeError(\"Attempted to add an element of incorrect type to the list.\")\n",
    "\n",
    "    def __setitem__(self, i, element):\n",
    "        self.__check_type(element)\n",
    "        self.elements[i] = element\n",
    "\n",
    "    def __getitem__(self, i):\n",
    "        return self.elements[i]\n",
    "\n",
    "    def __len__(self):\n",
    "        return len(self.elements)\n",
    "\n",
    "    def append(self, element):\n",
    "        self.__check_type(element)\n",
    "        self.elements.append(element)\n",
    "\n",
    "    def __delitem__(self, i):\n",
    "        del self.elements[i]\n",
    "\n",
    "    def __add__(self, typed_list):\n",
    "        if self.type is not typed_list.type:\n",
    "            raise TypeError(\"Attempted to concatenate lists of different types.\")\n",
    "        return TypedList(self.elements[0], self.elements + typed_list.elements)\n",
    "\n",
    "    def __rmul__(self, num):\n",
    "        return TypedList(self.elements[0], num * self.elements)\n",
    "\n",
    "    def __mul__(self, num):\n",
    "        return self.__rmul__(num)\n",
    "\n",
    "    def __str__(self):\n",
    "        return f\"TypedList: {self.elements}\"\n",
    "\n",
    "\n",
    "x = TypedList(\"example\")\n",
    "assert len(x) == 0\n",
    "\n",
    "x.append(\"one\")\n",
    "assert len(x) == 1\n",
    "assert x[0] == \"one\"\n",
    "\n",
    "del x[0]\n",
    "assert len(x) == 0\n",
    "\n",
    "# list concatenation: first with real lists\n",
    "a = [\"one\", \"two\", \"three\"]\n",
    "b = [\"one\", \"two\"]\n",
    "print(a + b)\n",
    "\n",
    "\n",
    "# now with TypedLists\n",
    "x.append(\"one\")\n",
    "x.append(\"two\")\n",
    "x.append(\"three\")\n",
    "\n",
    "y = TypedList(\"example\", [\"uno\", \"dos\"])\n",
    "z = x + y\n",
    "print(z)\n",
    "\n",
    "# mul\n",
    "x = TypedList(0, [123])\n",
    "y = 5 * x\n",
    "print(y)\n",
    "\n",
    "x = TypedList(0, [321])\n",
    "y = x * 5\n",
    "print(y)\n",
    "\n"
   ]
  },
  {
   "cell_type": "markdown",
   "metadata": {},
   "source": [
    "## Subclassing from built-in types\n",
    "\n",
    "Instead of creating a class for a typed list as done in the previous examples, it is possible to subclass the list type and override only the methods that need to be different.\n",
    "\n",
    "By doing so, you wil inherit all of the list operations out of the box.\n"
   ]
  },
  {
   "cell_type": "code",
   "execution_count": 30,
   "metadata": {},
   "outputs": [],
   "source": [
    "class TypedList(list):\n",
    "    def __init__(self, example_element, initial_list=None):\n",
    "        self.type = type(example_element)\n",
    "        if initial_list:\n",
    "            if not isinstance(initial_list, list):\n",
    "                raise TypeError(\"Second argument of TypedList must be a list\")\n",
    "            for element in initial_list:\n",
    "                if not isinstance(element, self.type):\n",
    "                    raise TypeError(\"Attempted to add an element of incorrect type to the list in initialization.\")\n",
    "        super().__init__(initial_list if initial_list else [])\n",
    "\n",
    "    def __setitem__(self, i, element):\n",
    "        if type(element) is not self.type:\n",
    "            raise TypeError(\"Attempted to add an element of incorrect type\")\n",
    "        super().__setitem__(i, element)"
   ]
  },
  {
   "cell_type": "code",
   "execution_count": 34,
   "metadata": {},
   "outputs": [
    {
     "name": "stdout",
     "output_type": "stream",
     "text": [
      "['one']\n",
      "['uno', 'uno', 'uno']\n"
     ]
    }
   ],
   "source": [
    "# testing the implementation\n",
    "x = TypedList(\"\")\n",
    "assert len(x) == 0\n",
    "\n",
    "x.append(\"one\")\n",
    "print(x)\n",
    "assert x[0] == \"one\"\n",
    "\n",
    "x[0] = \"uno\"\n",
    "assert x[0] == \"uno\"\n",
    "\n",
    "z = 3 * x\n",
    "print(z)"
   ]
  },
  {
   "cell_type": "markdown",
   "metadata": {},
   "source": [
    "### Subclassing `UserList`\n",
    "\n",
    "An alternative approach to the previous one is subclassing the `UserList`, a wrapper class found in the `collections` module.\n",
    "\n",
    "This class exposes the underlying list as the `data` attribute, which simplifies how we interact with the underlying list:"
   ]
  },
  {
   "cell_type": "code",
   "execution_count": 35,
   "metadata": {},
   "outputs": [
    {
     "name": "stdout",
     "output_type": "stream",
     "text": [
      "['one']\n",
      "[]\n"
     ]
    }
   ],
   "source": [
    "from collections import UserList\n",
    "\n",
    "\n",
    "class TypedList(UserList):\n",
    "    def __init__(self, example_element, initial_list=None):\n",
    "        self.type = type(example_element)\n",
    "        if initial_list:\n",
    "            if not isinstance(initial_list, list):\n",
    "                raise TypeError(\"Second argument of TypedList must be a list\")\n",
    "            for element in initial_list:\n",
    "                if not isinstance(element, self.type):\n",
    "                    raise TypeError(\"Attempted to add an element of incorrect type to the list in initialization.\")\n",
    "        super().__init__(initial_list if initial_list else [])\n",
    "\n",
    "    def __setitem__(self, i, element):\n",
    "        if type(element) is not self.type:\n",
    "            raise TypeError(\"Attempted to add an element of incorrect type\")\n",
    "        self.data[i] = element\n",
    "\n",
    "# testing the implementation\n",
    "x = TypedList(\"\")\n",
    "assert len(x) == 0\n",
    "\n",
    "x.append(\"one\")\n",
    "print(x)\n",
    "assert x[0] == \"one\"\n",
    "\n",
    "x[0] = \"uno\"\n",
    "assert x[0] == \"uno\"\n",
    "\n",
    "z = 3 * x\n",
    "print(z)"
   ]
  },
  {
   "cell_type": "markdown",
   "metadata": {},
   "source": [
    "Note that multiplication does not work out of the box with `UserList`."
   ]
  },
  {
   "cell_type": "markdown",
   "metadata": {},
   "source": [
    "## When to use special method attributes\n",
    "\n",
    "You should be cautious with the use of special method attributes. What might be natural for you as the class designer might feel complicated for the class consumers.\n",
    "\n",
    "As a rule of thumb, use the special methods:\n",
    "+ If you have a class that behaves like a Python built-in type, for example, sequence-like objects, or Math-type objects.\n",
    "+ If you have a class that behaves identically or almost identically to a built-in class (for example, when implementing lists with an optimized underlying implementation).\n",
    "\n",
    "That doesn't apply for `__str__` and `__repr__` which you should always implement in your classes."
   ]
  },
  {
   "cell_type": "markdown",
   "metadata": {},
   "source": [
    "### Exercise\n",
    "\n",
    "Create a dictionary that only allows strings for both keys and values by subclassing the `dict` type."
   ]
  },
  {
   "cell_type": "code",
   "execution_count": 43,
   "metadata": {},
   "outputs": [
    {
     "name": "stdout",
     "output_type": "stream",
     "text": [
      "'uno' is Spanish for 'one'\n",
      "'dos' is Spanish for 'two'\n",
      "Counting in English\n",
      "one\n",
      "two\n",
      "Counting in Spanish\n",
      "uno\n",
      "dos\n"
     ]
    }
   ],
   "source": [
    "class StringDict(dict):\n",
    "    def __init__(self):\n",
    "        super().__init__()\n",
    "\n",
    "    def __setitem__(self, key, value):\n",
    "        if not isinstance(key, str):\n",
    "            raise TypeError(\"key must be a string\")\n",
    "        if not isinstance(value, str):\n",
    "            raise TypeError(\"value must be a string\")\n",
    "        return super().__setitem__(key, value)\n",
    "\n",
    "str_dict = StringDict()\n",
    "str_dict[\"one\"] = \"uno\"\n",
    "str_dict[\"two\"] = \"dos\"\n",
    "\n",
    "assert len(str_dict) == 2\n",
    "assert str_dict[\"one\"] == \"uno\"\n",
    "assert str_dict[\"two\"] == \"dos\"\n",
    "\n",
    "for k, v in str_dict.items():\n",
    "    print(f\"{v!r} is Spanish for {k!r}\")\n",
    "\n",
    "print(\"Counting in English\")\n",
    "for k in str_dict:\n",
    "    print(k)\n",
    "\n",
    "print(\"Counting in Spanish\")\n",
    "for v in str_dict.values():\n",
    "    print(v)"
   ]
  },
  {
   "cell_type": "markdown",
   "metadata": {},
   "source": [
    "That works well when the string dictionary is initialized as empty, but we'd like to have the same flexibility we have with the `dict`:"
   ]
  }
 ],
 "metadata": {
  "kernelspec": {
   "display_name": ".venv",
   "language": "python",
   "name": "python3"
  },
  "language_info": {
   "codemirror_mode": {
    "name": "ipython",
    "version": 3
   },
   "file_extension": ".py",
   "mimetype": "text/x-python",
   "name": "python",
   "nbconvert_exporter": "python",
   "pygments_lexer": "ipython3",
   "version": "3.12.7"
  }
 },
 "nbformat": 4,
 "nbformat_minor": 2
}
