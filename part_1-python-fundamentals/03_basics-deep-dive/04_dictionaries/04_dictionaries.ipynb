{
 "cells": [
  {
   "cell_type": "markdown",
   "metadata": {},
   "source": [
    "# Dictionaries\n",
    "\n",
    "## The basics\n",
    "\n",
    "Dictionaries are key-value maps.\n",
    "\n",
    "They are defined as follows:"
   ]
  },
  {
   "cell_type": "code",
   "execution_count": 1,
   "metadata": {},
   "outputs": [],
   "source": [
    "eng_to_french = {\"red\": \"rouge\", \"blue\": \"bleu\", \"green\": \"vert\"}\n",
    "assert len(eng_to_french) == 3"
   ]
  },
  {
   "cell_type": "markdown",
   "metadata": {},
   "source": [
    "As you can see, the `len` function will return the number of elements in the dictionary.\n"
   ]
  },
  {
   "cell_type": "markdown",
   "metadata": {},
   "source": [
    "### `keys`, `values` and `items` views\n",
    "\n",
    "You can obtain all the keys in the dictionary with the `keys` method. Additionally, starting with Python 3.6, dictionaries preserve the order in which the keys were created, so that `keys` call will be stable."
   ]
  },
  {
   "cell_type": "code",
   "execution_count": 5,
   "metadata": {},
   "outputs": [],
   "source": [
    "eng_to_french = {\"red\": \"rouge\", \"blue\": \"bleu\", \"green\": \"vert\"}\n",
    "assert list(eng_to_french.keys()) == [\"red\", \"blue\", \"green\"]"
   ]
  },
  {
   "cell_type": "markdown",
   "metadata": {},
   "source": [
    "You can obtain the values from a dictionary using the `values` method:"
   ]
  },
  {
   "cell_type": "code",
   "execution_count": 9,
   "metadata": {},
   "outputs": [
    {
     "name": "stdout",
     "output_type": "stream",
     "text": [
      "dict_values(['rouge', 'bleu', 'vert'])\n"
     ]
    }
   ],
   "source": [
    "eng_to_french = {\"red\": \"rouge\", \"blue\": \"bleu\", \"green\": \"vert\"}\n",
    "assert list(eng_to_french.values()) == [\"rouge\", \"bleu\", \"vert\"]"
   ]
  },
  {
   "cell_type": "markdown",
   "metadata": {},
   "source": [
    "The `items()` method returns a sequence of key-value tuples you can iterate over:"
   ]
  },
  {
   "cell_type": "code",
   "execution_count": 10,
   "metadata": {},
   "outputs": [
    {
     "name": "stdout",
     "output_type": "stream",
     "text": [
      "The French word for red is rouge\n",
      "The French word for blue is bleu\n",
      "The French word for green is vert\n"
     ]
    }
   ],
   "source": [
    "eng_to_french = {\"red\": \"rouge\", \"blue\": \"bleu\", \"green\": \"vert\"}\n",
    "for k, v in eng_to_french.items():\n",
    "    print(f\"The French word for {k} is {v}\")"
   ]
  },
  {
   "cell_type": "markdown",
   "metadata": {},
   "source": [
    "| NOTE: |\n",
    "| :---- |\n",
    "| The `keys`, `values`, and `items` return *views* and not lists. Views behave like sequences but are dynamically updated whenever the dictionary changes. |"
   ]
  },
  {
   "cell_type": "markdown",
   "metadata": {},
   "source": [
    "The `del` statement can be used to remove a key-value pair from the dictionary:"
   ]
  },
  {
   "cell_type": "code",
   "execution_count": 11,
   "metadata": {},
   "outputs": [],
   "source": [
    "eng_to_french = {\"red\": \"rouge\", \"blue\": \"bleu\", \"green\": \"vert\"}\n",
    "\n",
    "del eng_to_french[\"red\"]\n",
    "assert eng_to_french == {\"blue\": \"bleu\", \"green\": \"vert\"}"
   ]
  },
  {
   "cell_type": "markdown",
   "metadata": {},
   "source": [
    "Let's see the concept of dynamically updated views below:"
   ]
  },
  {
   "cell_type": "code",
   "execution_count": 13,
   "metadata": {},
   "outputs": [],
   "source": [
    "eng_to_french = {\"red\": \"rouge\", \"blue\": \"bleu\", \"green\": \"vert\"}\n",
    "eng_to_french_keys = eng_to_french.keys()\n",
    "eng_to_french_key_list = list(eng_to_french_keys)\n",
    "\n",
    "del eng_to_french[\"red\"]\n",
    "assert eng_to_french == {\"blue\": \"bleu\", \"green\": \"vert\"}\n",
    "assert eng_to_french_keys == {\"blue\", \"green\"}\n",
    "assert eng_to_french_key_list == [\"red\", \"blue\", \"green\"]"
   ]
  },
  {
   "cell_type": "markdown",
   "metadata": {},
   "source": [
    "See how I didn't have to call the `keys()` method again after having deleted and entry to see that updated. It was done automatically.\n",
    "\n",
    "By contrast, the list I materialized before deleting the element was not updated."
   ]
  },
  {
   "cell_type": "markdown",
   "metadata": {},
   "source": [
    "### Safe access to dictionary keys with `in` and `get`\n",
    "\n",
    "Attempting to access a key that doesn't exist raises an error:"
   ]
  },
  {
   "cell_type": "code",
   "execution_count": 15,
   "metadata": {},
   "outputs": [
    {
     "name": "stdout",
     "output_type": "stream",
     "text": [
      "Oops:  'purple'\n"
     ]
    }
   ],
   "source": [
    "eng_to_french = {\"red\": \"rouge\", \"blue\": \"bleu\", \"green\": \"vert\"}\n",
    "try:\n",
    "    eng_to_french[\"purple\"]\n",
    "except KeyError as e:\n",
    "    print(\"Oops: \", e)"
   ]
  },
  {
   "cell_type": "markdown",
   "metadata": {},
   "source": [
    "To work around this behavior you can either use the `in` operator:"
   ]
  },
  {
   "cell_type": "code",
   "execution_count": 16,
   "metadata": {},
   "outputs": [
    {
     "name": "stdout",
     "output_type": "stream",
     "text": [
      "red in French is rouge\n",
      "purple in French is unknown\n"
     ]
    }
   ],
   "source": [
    "eng_to_french = {\"red\": \"rouge\", \"blue\": \"bleu\", \"green\": \"vert\"}\n",
    "\n",
    "if \"red\" in eng_to_french:\n",
    "    print(f\"red in French is {eng_to_french['red']}\")\n",
    "\n",
    "if \"purple\" not in eng_to_french:\n",
    "    print(f\"purple in French is unknown\")\n"
   ]
  },
  {
   "cell_type": "markdown",
   "metadata": {},
   "source": [
    "Alternatively, you can use the `get` function, which lets you pass a second argument if the dictionary doesn't contain the key:"
   ]
  },
  {
   "cell_type": "code",
   "execution_count": 17,
   "metadata": {},
   "outputs": [],
   "source": [
    "eng_to_french = {\"red\": \"rouge\", \"blue\": \"bleu\", \"green\": \"vert\"}\n",
    "assert eng_to_french.get(\"red\", \"unknown\") == \"rouge\"\n",
    "assert eng_to_french.get(\"purple\", \"unknown\") == \"unknown\""
   ]
  },
  {
   "cell_type": "markdown",
   "metadata": {},
   "source": [
    "### Setting/Getting default values for keys with `setdefault` and `defaultdict`\n",
    "\n",
    "The `setdefault` method can be used to:\n",
    "+ get the key from the dictionary, if it exists.\n",
    "+ return a default value if the given key doesn't exist in the dictionary, and create a new key in the dictionary with the associated default value."
   ]
  },
  {
   "cell_type": "code",
   "execution_count": 18,
   "metadata": {},
   "outputs": [],
   "source": [
    "eng_to_french = {\"red\": \"rouge\", \"blue\": \"bleu\", \"green\": \"vert\"}\n",
    "\n",
    "assert eng_to_french.setdefault(\"red\", \"unknown\") == \"rouge\"\n",
    "assert eng_to_french.setdefault(\"purple\", \"unknown\") == \"unknown\""
   ]
  },
  {
   "cell_type": "markdown",
   "metadata": {},
   "source": [
    "Note how confusing the method name is."
   ]
  },
  {
   "cell_type": "markdown",
   "metadata": {},
   "source": [
    "There is also a `defaultdict` subclass of `dict` that you can import from the `collections` module. That dictionary can be configured to have a default value."
   ]
  },
  {
   "cell_type": "code",
   "execution_count": 19,
   "metadata": {},
   "outputs": [],
   "source": [
    "from collections import defaultdict\n",
    "\n",
    "eng_to_french = defaultdict(lambda: \"unknown\", {\"red\": \"rouge\", \"blue\": \"bleu\", \"green\": \"vert\"})\n",
    "assert eng_to_french[\"red\"] == \"rouge\"\n",
    "assert eng_to_french[\"purple\"] == \"unknown\""
   ]
  },
  {
   "cell_type": "markdown",
   "metadata": {},
   "source": [
    "That's much more sensible than `setdefault`."
   ]
  },
  {
   "cell_type": "markdown",
   "metadata": {},
   "source": [
    "### Creating copies of a dictionary\n",
    "\n",
    "You can create shallow copies of a dictionary using the `copy` method:"
   ]
  },
  {
   "cell_type": "code",
   "execution_count": 20,
   "metadata": {},
   "outputs": [],
   "source": [
    "x = {\"a\": 1, \"b\": 2}\n",
    "y = x.copy()\n",
    "assert x == y"
   ]
  },
  {
   "cell_type": "markdown",
   "metadata": {},
   "source": [
    "You can create a deep copy of the dictionary using `copy.deepcopy` method."
   ]
  },
  {
   "cell_type": "markdown",
   "metadata": {},
   "source": [
    "### Merging dictionaries with `update`"
   ]
  },
  {
   "cell_type": "markdown",
   "metadata": {},
   "source": [
    "The `update` method updates a first dictionary with all the key-value pairs of a second dictionary. For keys that are common to both, the values from the second dictionary override those of the first."
   ]
  },
  {
   "cell_type": "code",
   "execution_count": 21,
   "metadata": {},
   "outputs": [],
   "source": [
    "a = {1: \"One\", 2: \"Two\"}\n",
    "b = {0: \"Zero\", 1: \"__one__\"}\n",
    "\n",
    "a.update(b)\n",
    "assert a == {1: \"__one__\", 2: \"Two\", 0: \"Zero\"}"
   ]
  },
  {
   "cell_type": "markdown",
   "metadata": {},
   "source": [
    "### Exercise\n",
    "\n",
    "Use a dictionary to count the frequencies of words in a sentence."
   ]
  },
  {
   "cell_type": "code",
   "execution_count": 25,
   "metadata": {},
   "outputs": [
    {
     "name": "stdout",
     "output_type": "stream",
     "text": [
      "'To' occurs 1 times\n",
      "'be' occurs 2 times\n",
      "'or' occurs 1 times\n",
      "'not' occurs 1 times\n",
      "'to' occurs 1 times\n"
     ]
    }
   ],
   "source": [
    "sample_string = \"To be or not to be\"\n",
    "word_ocurrences = {}\n",
    "\n",
    "for word in sample_string.split():\n",
    "    word_ocurrences[word] = word_ocurrences.get(word, 0) + 1\n",
    "\n",
    "for word, ocurrences in word_ocurrences.items():\n",
    "    print(f\"{word!r} occurs {ocurrences} times\")"
   ]
  },
  {
   "cell_type": "markdown",
   "metadata": {},
   "source": [
    "## What can be used as a key?\n",
    "\n",
    "Any Python object that is immutable and hashable can be used as a key to a dictionary.\n",
    "\n",
    "As a result, lists cannot be used as keys in a dictionary. However, you con work around this issue by using tuples instead.\n",
    "\n",
    "Additionally, keys must be hashable, which means, the key must have a stable hash value provided by the `__hash__` method that doesn't change throughout the life of the value. As a result, tuples containing mutable values cannot be used as keys because their hash value won't be stable.\n",
    "\n",
    "The following table illustrates these restrictions:\n",
    "\n",
    "| Python type | Immutable? | Hashable? | Dictionary key? |\n",
    "| :---------- | :--------- | :-------- | :-------------- |\n",
    "| int         | yes        | yes       | yes             |\n",
    "| float       | yes        | yes       | yes             |\n",
    "| boolean     | yes        | yes       | yes             |\n",
    "| complex     | yes        | yes       | yes             |\n",
    "| str         | yes        | yes       | yes             |\n",
    "| bytes       | yes        | yes       | yes             |\n",
    "| bytearray   | no         | no        | no              |\n",
    "| list        | no         | no        | no              |\n",
    "| tuple       | yes        | sometimes<br>(only when tuple elements are immutable) | sometimes<br>(only when tuple elements are immutable)       |\n",
    "| set         | no         | no        | no              |\n",
    "| frozenset   | yes        | yes       | yes             |\n",
    "| dictionary  | no         | no        | no              |\n"
   ]
  },
  {
   "cell_type": "markdown",
   "metadata": {},
   "source": [
    "### Exercise\n",
    "\n",
    "In processing raw text, it's quite often necessary to clean and normalize the text before doing anything else. For example, if you want to find the frequence of words in a text, it's quite common that everything is normalized (all in lowercase or uppercase, remove punctuation). It's also common to break the text into a series of words and write each of them on its own line.\n",
    "\n",
    "In this exercise, the task is to read the first part of the first chapter of Moby Dick, make sure everything is one case, remove all punctuation, and write the words one per line to a second file.\n",
    "\n",
    "Finally, use that output file to count the number of times each word occurs."
   ]
  },
  {
   "cell_type": "markdown",
   "metadata": {},
   "source": [
    "The code that will generate the desired output file is as follows:"
   ]
  },
  {
   "cell_type": "code",
   "execution_count": 29,
   "metadata": {},
   "outputs": [],
   "source": [
    "import string\n",
    "\n",
    "with open(\"data/moby_01.txt\", \"r\") as infile:\n",
    "    with open(\"data/out/moby_01_normalized_out.txt\", \"w\") as outfile:\n",
    "        for line in infile:\n",
    "            line_lowercase = line.lower()\n",
    "            normalized_line = line_lowercase.translate(line_lowercase.maketrans(\"\", \"\", string.punctuation))\n",
    "            line_words = normalized_line.split()\n",
    "            for word in line_words:\n",
    "                outfile.write(word + \"\\n\")"
   ]
  },
  {
   "cell_type": "markdown",
   "metadata": {},
   "source": [
    "With the file created, we can iterate over the words in the file and create a dictionary:"
   ]
  },
  {
   "cell_type": "code",
   "execution_count": 30,
   "metadata": {},
   "outputs": [],
   "source": [
    "with open(\"data/out/moby_01_normalized_out.txt\", \"r\") as infile:\n",
    "    word_ocurrences = {}\n",
    "    for word in infile:\n",
    "        word_ocurrences[word] = word_ocurrences.get(word, 0) + 1\n"
   ]
  },
  {
   "cell_type": "markdown",
   "metadata": {},
   "source": [
    "Finally, we can just output the dictionary contents:"
   ]
  },
  {
   "cell_type": "code",
   "execution_count": 32,
   "metadata": {},
   "outputs": [
    {
     "name": "stdout",
     "output_type": "stream",
     "text": [
      "'call' occurs 1 times\n",
      "'me' occurs 5 times\n",
      "'ishmael' occurs 1 times\n",
      "'some' occurs 2 times\n",
      "'years' occurs 1 times\n",
      "'ago' occurs 1 times\n",
      "'never' occurs 1 times\n",
      "'mind' occurs 1 times\n",
      "'how' occurs 1 times\n",
      "'long' occurs 1 times\n",
      "'precisely' occurs 1 times\n",
      "'having' occurs 1 times\n",
      "'little' occurs 2 times\n",
      "'or' occurs 2 times\n",
      "'no' occurs 1 times\n",
      "'money' occurs 1 times\n",
      "'in' occurs 4 times\n",
      "'my' occurs 4 times\n",
      "'purse' occurs 1 times\n",
      "'and' occurs 9 times\n",
      "'nothing' occurs 2 times\n",
      "'particular' occurs 1 times\n",
      "'to' occurs 5 times\n",
      "'interest' occurs 1 times\n",
      "'on' occurs 1 times\n",
      "'shore' occurs 1 times\n",
      "'i' occurs 9 times\n",
      "'thought' occurs 1 times\n",
      "'would' occurs 1 times\n",
      "'sail' occurs 1 times\n",
      "'about' occurs 2 times\n",
      "'a' occurs 6 times\n",
      "'see' occurs 1 times\n",
      "'the' occurs 14 times\n",
      "'watery' occurs 1 times\n",
      "'part' occurs 1 times\n",
      "'of' occurs 8 times\n",
      "'world' occurs 1 times\n",
      "'it' occurs 6 times\n",
      "'is' occurs 7 times\n",
      "'way' occurs 1 times\n",
      "'have' occurs 1 times\n",
      "'driving' occurs 1 times\n",
      "'off' occurs 2 times\n",
      "'spleen' occurs 1 times\n",
      "'regulating' occurs 1 times\n",
      "'circulation' occurs 1 times\n",
      "'whenever' occurs 4 times\n",
      "'find' occurs 2 times\n",
      "'myself' occurs 2 times\n",
      "'growing' occurs 1 times\n",
      "'grim' occurs 1 times\n",
      "'mouth' occurs 1 times\n",
      "'damp' occurs 1 times\n",
      "'drizzly' occurs 1 times\n",
      "'november' occurs 1 times\n",
      "'soul' occurs 1 times\n",
      "'involuntarily' occurs 1 times\n",
      "'pausing' occurs 1 times\n",
      "'before' occurs 1 times\n",
      "'coffin' occurs 1 times\n",
      "'warehouses' occurs 1 times\n",
      "'bringing' occurs 1 times\n",
      "'up' occurs 1 times\n",
      "'rear' occurs 1 times\n",
      "'every' occurs 1 times\n",
      "'funeral' occurs 1 times\n",
      "'meet' occurs 1 times\n",
      "'especially' occurs 1 times\n",
      "'hypos' occurs 1 times\n",
      "'get' occurs 2 times\n",
      "'such' occurs 1 times\n",
      "'an' occurs 1 times\n",
      "'upper' occurs 1 times\n",
      "'hand' occurs 1 times\n",
      "'that' occurs 2 times\n",
      "'requires' occurs 1 times\n",
      "'strong' occurs 1 times\n",
      "'moral' occurs 1 times\n",
      "'principle' occurs 1 times\n",
      "'prevent' occurs 1 times\n",
      "'from' occurs 1 times\n",
      "'deliberately' occurs 1 times\n",
      "'stepping' occurs 1 times\n",
      "'into' occurs 1 times\n",
      "'street' occurs 1 times\n",
      "'methodically' occurs 1 times\n",
      "'knocking' occurs 1 times\n",
      "'peoples' occurs 1 times\n",
      "'hats' occurs 1 times\n",
      "'then' occurs 1 times\n",
      "'account' occurs 1 times\n",
      "'high' occurs 1 times\n",
      "'time' occurs 2 times\n",
      "'sea' occurs 1 times\n",
      "'as' occurs 3 times\n",
      "'soon' occurs 1 times\n",
      "'can' occurs 1 times\n",
      "'this' occurs 2 times\n",
      "'substitute' occurs 1 times\n",
      "'for' occurs 1 times\n",
      "'pistol' occurs 1 times\n",
      "'ball' occurs 1 times\n",
      "'with' occurs 3 times\n",
      "'philosophical' occurs 1 times\n",
      "'flourish' occurs 1 times\n",
      "'cato' occurs 1 times\n",
      "'throws' occurs 1 times\n",
      "'himself' occurs 1 times\n",
      "'upon' occurs 1 times\n",
      "'his' occurs 1 times\n",
      "'sword' occurs 1 times\n",
      "'quietly' occurs 1 times\n",
      "'take' occurs 2 times\n",
      "'ship' occurs 1 times\n",
      "'there' occurs 3 times\n",
      "'surprising' occurs 1 times\n",
      "'if' occurs 1 times\n",
      "'they' occurs 1 times\n",
      "'but' occurs 1 times\n",
      "'knew' occurs 1 times\n",
      "'almost' occurs 1 times\n",
      "'all' occurs 1 times\n",
      "'men' occurs 1 times\n",
      "'their' occurs 1 times\n",
      "'degree' occurs 1 times\n",
      "'other' occurs 1 times\n",
      "'cherish' occurs 1 times\n",
      "'very' occurs 1 times\n",
      "'nearly' occurs 1 times\n",
      "'same' occurs 1 times\n",
      "'feelings' occurs 1 times\n",
      "'towards' occurs 1 times\n",
      "'ocean' occurs 1 times\n",
      "'now' occurs 1 times\n",
      "'your' occurs 1 times\n",
      "'insular' occurs 1 times\n",
      "'city' occurs 1 times\n",
      "'manhattoes' occurs 1 times\n",
      "'belted' occurs 1 times\n",
      "'round' occurs 1 times\n",
      "'by' occurs 4 times\n",
      "'wharves' occurs 1 times\n",
      "'indian' occurs 1 times\n",
      "'isles' occurs 1 times\n",
      "'coral' occurs 1 times\n",
      "'reefs' occurs 1 times\n",
      "'commerce' occurs 1 times\n",
      "'surrounds' occurs 1 times\n",
      "'her' occurs 1 times\n",
      "'surf' occurs 1 times\n",
      "'right' occurs 1 times\n",
      "'left' occurs 1 times\n",
      "'streets' occurs 1 times\n",
      "'you' occurs 1 times\n",
      "'waterward' occurs 1 times\n",
      "'its' occurs 1 times\n",
      "'extreme' occurs 1 times\n",
      "'downtown' occurs 1 times\n",
      "'battery' occurs 1 times\n",
      "'where' occurs 1 times\n",
      "'noble' occurs 1 times\n",
      "'mole' occurs 1 times\n",
      "'washed' occurs 1 times\n",
      "'waves' occurs 1 times\n",
      "'cooled' occurs 1 times\n",
      "'breezes' occurs 1 times\n",
      "'which' occurs 1 times\n",
      "'few' occurs 1 times\n",
      "'hours' occurs 1 times\n",
      "'previous' occurs 1 times\n",
      "'were' occurs 1 times\n",
      "'out' occurs 1 times\n",
      "'sight' occurs 1 times\n",
      "'land' occurs 1 times\n",
      "'look' occurs 1 times\n",
      "'at' occurs 1 times\n",
      "'crowds' occurs 1 times\n",
      "'watergazers' occurs 1 times\n"
     ]
    }
   ],
   "source": [
    "for word, num_ocurrences in word_ocurrences.items():\n",
    "    word = word.strip()\n",
    "    print(f\"{word!r} occurs {num_ocurrences} times\")"
   ]
  },
  {
   "cell_type": "markdown",
   "metadata": {},
   "source": [
    "As a bonus, we can create reports for:\n",
    "+ printing the five most common words and their number of occurrences\n",
    "+ printing the five least common words and their number of occurrences"
   ]
  },
  {
   "cell_type": "markdown",
   "metadata": {},
   "source": [
    "Despite not having seen that, dictionaries support a sorting method:"
   ]
  },
  {
   "cell_type": "code",
   "execution_count": 39,
   "metadata": {},
   "outputs": [
    {
     "name": "stdout",
     "output_type": "stream",
     "text": [
      "[('the\\n', 14), ('and\\n', 9), ('i\\n', 9), ('of\\n', 8), ('is\\n', 7), ('a\\n', 6), ('it\\n', 6), ('me\\n', 5), ('to\\n', 5), ('in\\n', 4)]\n"
     ]
    }
   ],
   "source": [
    "sorted = sorted(word_ocurrences.items(), key=lambda x: x[1], reverse=True)\n",
    "print(sorted[:10])"
   ]
  },
  {
   "cell_type": "markdown",
   "metadata": {},
   "source": [
    "That makes it super easy to come up with the most and least used words.\n",
    "\n",
    "The `sorted` method takes a sequence of objects (key-value pairs in this case), and lets you specify in the `key` parameter how to sort it.\n",
    "\n",
    "Therefore:"
   ]
  },
  {
   "cell_type": "code",
   "execution_count": 43,
   "metadata": {},
   "outputs": [
    {
     "name": "stdout",
     "output_type": "stream",
     "text": [
      "Most common words:\n",
      "'the' occurs 14 times\n",
      "'and' occurs 9 times\n",
      "'i' occurs 9 times\n",
      "'of' occurs 8 times\n",
      "'is' occurs 7 times\n",
      "\n",
      "Least common words:\n",
      "'land' occurs 1 times\n",
      "'look' occurs 1 times\n",
      "'at' occurs 1 times\n",
      "'crowds' occurs 1 times\n",
      "'watergazers' occurs 1 times\n"
     ]
    }
   ],
   "source": [
    "most_common = sorted[:5]\n",
    "least_common = sorted[-5:]\n",
    "\n",
    "print(\"Most common words:\")\n",
    "for word, num_ocurrences in most_common:\n",
    "    print(f\"{word.strip()!r} occurs {num_ocurrences} times\")\n",
    "print()\n",
    "\n",
    "print(\"Least common words:\")\n",
    "for word, num_ocurrences in least_common:\n",
    "    print(f\"{word.strip()!r} occurs {num_ocurrences} times\")"
   ]
  }
 ],
 "metadata": {
  "kernelspec": {
   "display_name": ".venv",
   "language": "python",
   "name": "python3"
  },
  "language_info": {
   "codemirror_mode": {
    "name": "ipython",
    "version": 3
   },
   "file_extension": ".py",
   "mimetype": "text/x-python",
   "name": "python",
   "nbconvert_exporter": "python",
   "pygments_lexer": "ipython3",
   "version": "3.12.2"
  }
 },
 "nbformat": 4,
 "nbformat_minor": 2
}
