{
 "cells": [
  {
   "cell_type": "markdown",
   "metadata": {},
   "source": [
    "# Functions\n",
    "\n",
    "The following snippet illustrates how to define a Python function:"
   ]
  },
  {
   "cell_type": "code",
   "execution_count": 1,
   "metadata": {},
   "outputs": [],
   "source": [
    "def fact(n: int) -> int:\n",
    "    \"\"\"\n",
    "    Return n! (n factorial)\n",
    "    \"\"\"\n",
    "    result = 1\n",
    "    while n > 0:\n",
    "        result *= n\n",
    "        n -= 1\n",
    "    return result"
   ]
  },
  {
   "cell_type": "markdown",
   "metadata": {},
   "source": [
    "You can obtain the value of the docstring using `fact.__doc__`. This is sometimes useful for identifying the function plotted on a chart, etc."
   ]
  },
  {
   "cell_type": "code",
   "execution_count": 2,
   "metadata": {},
   "outputs": [
    {
     "name": "stdout",
     "output_type": "stream",
     "text": [
      "The function documented to \n",
      "    Return n! (n factorial)\n",
      "     says fact(5)=120\n"
     ]
    }
   ],
   "source": [
    "print(f\"The function documented to {fact.__doc__} says {fact(5)=}\")"
   ]
  },
  {
   "cell_type": "markdown",
   "metadata": {},
   "source": [
    "## Function parameter options\n",
    "\n",
    "Python provide several ways to pass parameters to a function.\n",
    "\n",
    "### Positional parameters\n",
    "\n",
    "When passing parameters by position, the parameters used in the calling code are matched to the function's parameter variables based on their order."
   ]
  },
  {
   "cell_type": "code",
   "execution_count": 3,
   "metadata": {},
   "outputs": [
    {
     "data": {
      "text/plain": [
       "8"
      ]
     },
     "execution_count": 3,
     "metadata": {},
     "output_type": "execute_result"
    }
   ],
   "source": [
    "def power(base, exponent):\n",
    "    r = 1\n",
    "    while exponent > 0:\n",
    "        r *= base\n",
    "        exponent -= 1\n",
    "    return r\n",
    "\n",
    "power(2, 3)"
   ]
  },
  {
   "cell_type": "markdown",
   "metadata": {},
   "source": [
    "When using this method, the number of parameters used by the calling code exactly matches the number of parameters in the function definition, otherwise, a TypeError is raised."
   ]
  },
  {
   "cell_type": "code",
   "execution_count": 5,
   "metadata": {},
   "outputs": [
    {
     "name": "stdout",
     "output_type": "stream",
     "text": [
      "Oops {TypeError(\"power() missing 1 required positional argument: 'exponent'\")}\n"
     ]
    }
   ],
   "source": [
    "try:\n",
    "    power(3)\n",
    "except Exception as e:\n",
    "    print(\"Oops\", {e})"
   ]
  },
  {
   "cell_type": "markdown",
   "metadata": {},
   "source": [
    "### Default values\n",
    "\n",
    "Function parameters can have default values, which you declare by assigning a value in the parameter definition:"
   ]
  },
  {
   "cell_type": "code",
   "execution_count": 6,
   "metadata": {},
   "outputs": [],
   "source": [
    "def power(base, exponent=2):\n",
    "    r = 1\n",
    "    while exponent > 0:\n",
    "        r *= base\n",
    "        exponent -= 1\n",
    "    return r\n",
    "\n",
    "assert power(2) == 4\n",
    "assert power(2, 3) == 8"
   ]
  },
  {
   "cell_type": "markdown",
   "metadata": {},
   "source": [
    "### Passing arguments by parameter name\n",
    "\n",
    "Python allows you to pass arguments into a function by using the name of the corresponding function parameter. You don't need to do something special to enable this feature:"
   ]
  },
  {
   "cell_type": "code",
   "execution_count": 7,
   "metadata": {},
   "outputs": [],
   "source": [
    "def power(base, exponent=2):\n",
    "    r = 1\n",
    "    while exponent > 0:\n",
    "        r *= base\n",
    "        exponent -= 1\n",
    "    return r\n",
    "\n",
    "assert power(exponent=2, base=3) == 9"
   ]
  },
  {
   "cell_type": "markdown",
   "metadata": {},
   "source": [
    "This feature is called *keyword passing*. This technique, in combination with default arguments, is very useful when you're defining functions with a large numbers of possible arguments, most of which have common defaults.\n",
    "\n",
    "For example, you could have a function such as:\n",
    "\n",
    "```python\n",
    "def list_file_info(show_size=False, show_creation_date=False, show_mod_date=False)\n",
    "    ...\n",
    "```\n",
    "\n",
    "Even when the definition of the function is quite long and ugly, if a consumer only needs to retrieve the size of the file, the call will be:\n",
    "\n",
    "```python\n",
    "file_info = list_file_info(show_size=True)\n",
    "```"
   ]
  },
  {
   "cell_type": "markdown",
   "metadata": {},
   "source": [
    "### Variable number of arguments\n",
    "\n",
    "Python allows functions to handle a variable number of arguments in two ways:\n",
    "+ you can collect an unknown number of arguments at the end of the argument list into a list, commonly denoted as `*args`.\n",
    "+ you can collect an arbitrary number of keyword arguments at the end of the argument list, and possibly after `*args` into a dictionary commonly denoted as `**kwargs`."
   ]
  },
  {
   "cell_type": "markdown",
   "metadata": {},
   "source": [
    "#### Dealing with an indefinite number of positional arguments\n",
    "\n",
    "Prefixing the final parameter name of a function with a `*` causes all excess non-keyword arguments in a call of function to be collected together and assigned as a tuple to the given parameter."
   ]
  },
  {
   "cell_type": "code",
   "execution_count": 3,
   "metadata": {},
   "outputs": [],
   "source": [
    "def maximum(*numbers):\n",
    "    if len(numbers) == 0:\n",
    "        return None\n",
    "    max_num = numbers[0]\n",
    "    for n in numbers[1:]:\n",
    "        if n > max_num:\n",
    "            max_num = n\n",
    "    return max_num\n",
    "\n",
    "assert maximum(3, 2, 8) == 8\n",
    "assert maximum(1, 5, 9, -2, -2, 9) == 9\n",
    "assert maximum() == None\n",
    "assert maximum(5) == 5"
   ]
  },
  {
   "cell_type": "markdown",
   "metadata": {},
   "source": [
    "#### Dealing with an indefinite number of arguments passed by keyword\n",
    "\n",
    "Prefixing the final parameter in the parameter list with `**` makes all the excess keyword-passed arguments to be collected as a dictionary.\n",
    "\n",
    "The key for each entry in the dictionary will be parameter name."
   ]
  },
  {
   "cell_type": "code",
   "execution_count": 7,
   "metadata": {},
   "outputs": [
    {
     "name": "stdout",
     "output_type": "stream",
     "text": [
      "x: 2, y: 1, keys in other: ['foo', 'bar']\n",
      "other['foo']=3\n",
      "other['bar']=c\n"
     ]
    }
   ],
   "source": [
    "def fun(x, y, **other):\n",
    "    print(f\"x: {x}, y: {y}, keys in other: {list(other.keys())}\")\n",
    "    for k in other.keys():\n",
    "        print(f\"other[{k!r}]={other[k]}\")\n",
    "\n",
    "fun(2, y=1, foo=3, bar=\"c\")"
   ]
  },
  {
   "cell_type": "markdown",
   "metadata": {},
   "source": [
    "### Mixing argument-passing techniques\n",
    "\n",
    "It's possible to use all of the argument-passing techniques, provided that you follow this general rule:\n",
    "1. Positional arguments come first.\n",
    "2. Named arguments come afterwards.\n",
    "3. An indefinite number of positional arguments identified by single parameter denoted by `*` come next.\n",
    "4. An indefinite number of keyword arguments identified by a single argument denote by `**` come last.\n",
    "\n",
    "```python\n",
    "def fun(num1, str2, bool3, *args, **kwargs):\n",
    "    ...\n",
    "\n",
    "fun(2, \"3\", bool3=False, \"catorce\", 15, num=55, show_val=\"No\")\n",
    "```"
   ]
  },
  {
   "cell_type": "markdown",
   "metadata": {},
   "source": [
    "#### Exercise\n",
    "\n",
    "Write a function that can take any number of unnamed arguments and print their value in reverse order."
   ]
  },
  {
   "cell_type": "code",
   "execution_count": 8,
   "metadata": {},
   "outputs": [
    {
     "name": "stdout",
     "output_type": "stream",
     "text": [
      "3\n",
      "2\n",
      "1\n"
     ]
    }
   ],
   "source": [
    "def fun(*args):\n",
    "    for pos_arg in reversed(args):\n",
    "        print(pos_arg)\n",
    "\n",
    "fun(1, 2, 3)"
   ]
  },
  {
   "cell_type": "markdown",
   "metadata": {},
   "source": [
    "### Mutable objects as arguments\n",
    "\n",
    "Arguments are passed in by object reference. That is, once in the function, the parameter becomes a new reference to the object.\n",
    "\n",
    "For immutable objects (such as tuples, strings, and numbers), what is done with a parameter has no effect outside the function.\n",
    "\n",
    "To sum up:\n",
    "+ if you pass a mutable object (such as a list, a dictionary, or a class instance), any change made to the object within the function will have an effect outside the function.\n",
    "+ if you pass an immutable object (such as a tuple, a string, or a number), any change to the object will have no effect outside the function."
   ]
  },
  {
   "cell_type": "code",
   "execution_count": 9,
   "metadata": {},
   "outputs": [],
   "source": [
    "def f(n: int, list1: list, list2: list):\n",
    "    list1.append(5)\n",
    "    list2 = [4, 5, 6]\n",
    "    n = n + 1\n",
    "\n",
    "x = 5\n",
    "y = [1, 2, 3, 4]\n",
    "z = [5, 6]\n",
    "f(x, y, z)\n",
    "\n",
    "assert x == 5\n",
    "assert y == [1, 2, 3, 4, 5]\n",
    "assert z == [5, 6]"
   ]
  },
  {
   "cell_type": "markdown",
   "metadata": {},
   "source": [
    "Note that:\n",
    "+ `x` isn't changed because it is immutable and therefore, any change made to `x` will have no effect outside the function.\n",
    "+ `y` is changed because it is mutable. As a result, appending an element through the reference `list1` will change the underlying list referenced by `y`.\n",
    "+ `z` isn't changed although it is a mutable object because within the function, the parameter is reassigned to a new list `[4, 5, 6]`. Therefore, the underlying list originally received and referenced by `z` is unnchanged."
   ]
  },
  {
   "cell_type": "markdown",
   "metadata": {},
   "source": [
    "By contrast, the following code will change `z`:"
   ]
  },
  {
   "cell_type": "code",
   "execution_count": 11,
   "metadata": {},
   "outputs": [],
   "source": [
    "def f(n: int, list1: list, list2: list):\n",
    "    list1.append(5)\n",
    "    list2[0] = 4\n",
    "    list2[1] = 5\n",
    "    list2.append(6)\n",
    "    n = n + 1\n",
    "\n",
    "x = 5\n",
    "y = [1, 2, 3, 4]\n",
    "z = [5, 6]\n",
    "f(x, y, z)\n",
    "\n",
    "assert z == [4, 5,6]"
   ]
  },
  {
   "cell_type": "markdown",
   "metadata": {},
   "source": [
    "### Mutable objects as default values\n",
    "\n",
    "Passing mutable objects as parameter values can cause bugs, but it is quite often the most convenient and efficient way to do things &mdash; you just need to be aware that changing the object might have an effect outside the function.\n",
    "\n",
    "It's much worse to use a mutable object as a default parameter value and then mutate the object.\n",
    "\n",
    "Let's see that with the following function that receives a list of numbers as the first parameter and a second list in which the odd numbers from the first list will be collected:"
   ]
  },
  {
   "cell_type": "code",
   "execution_count": 14,
   "metadata": {},
   "outputs": [
    {
     "name": "stdout",
     "output_type": "stream",
     "text": [
      "[1, 5, 7, 9]\n"
     ]
    }
   ],
   "source": [
    "def odd_numbers(test_list, odds):\n",
    "    for n in test_list:\n",
    "        if n % 2:\n",
    "            odds.append(n)\n",
    "\n",
    "odds = []\n",
    "odd_numbers([1, 5, 7, 9, 10], odds)\n",
    "\n",
    "print(f\"{odds}\")"
   ]
  },
  {
   "cell_type": "markdown",
   "metadata": {},
   "source": [
    "Let's now make the function a bit weirder and also return `odds`. Also, to give the function a better DX you decide to initialize `odds` with an empty list, so that the user does not need to supply one:"
   ]
  },
  {
   "cell_type": "code",
   "execution_count": 2,
   "metadata": {},
   "outputs": [
    {
     "name": "stdout",
     "output_type": "stream",
     "text": [
      "[1, 5, 7, 9]\n"
     ]
    }
   ],
   "source": [
    "def odd_numbers(test_list, odds=[]):\n",
    "    for n in test_list:\n",
    "        if n % 2:\n",
    "            odds.append(n)\n",
    "    return odds\n",
    "\n",
    "\n",
    "odds = odd_numbers([1, 5, 7, 9, 10])\n",
    "\n",
    "print(f\"{odds}\")"
   ]
  },
  {
   "cell_type": "markdown",
   "metadata": {},
   "source": [
    "At first sight, it seems that the function works as expected, but if we call the function again:"
   ]
  },
  {
   "cell_type": "code",
   "execution_count": 3,
   "metadata": {},
   "outputs": [
    {
     "name": "stdout",
     "output_type": "stream",
     "text": [
      "[1, 5, 7, 9, 1, 5, 7, 9]\n"
     ]
    }
   ],
   "source": [
    "odd_numbers([1, 5, 7, 9, 10], odds)\n",
    "\n",
    "print(f\"{odds}\")"
   ]
  },
  {
   "cell_type": "markdown",
   "metadata": {},
   "source": [
    "See that the `odds` parameter still remembers the state from the previous execution, which is not what we intended!\n",
    "\n",
    "This happens because when a default parameter is used, Python assigns the object to be used as the default value when the function is first compiled, and it does not change it for the entire duration of the program.\n",
    "\n",
    "Therefore, when you have a mutable object as the default and mutate, every time that the default value is used, it will be the same object, and that object will reflect all of the times the function has been called with it.\n",
    "\n",
    "| NOTE: |\n",
    "| :---- |\n",
    "| To minimize that problem is recommended to use `None` as the default value of mutable objects that you pass to functions. |"
   ]
  },
  {
   "cell_type": "markdown",
   "metadata": {},
   "source": [
    "## Local, nonlocal, and global variables\n",
    "\n",
    "Consider the following function, which implements the factorial using an iterative approach:"
   ]
  },
  {
   "cell_type": "code",
   "execution_count": 1,
   "metadata": {},
   "outputs": [
    {
     "data": {
      "text/plain": [
       "120"
      ]
     },
     "execution_count": 1,
     "metadata": {},
     "output_type": "execute_result"
    }
   ],
   "source": [
    "def fact(n:int) -> int:\n",
    "    r = 1\n",
    "    while n > 0:\n",
    "        r *= n\n",
    "        n -= 1\n",
    "    return r\n",
    "\n",
    "fact(5)"
   ]
  },
  {
   "cell_type": "markdown",
   "metadata": {},
   "source": [
    "Both the variables `r` and `n` are local to any particular call of the factorial function.\n",
    "\n",
    "This means that changes to them made when the function is executing have no effect on any variables outside the function."
   ]
  },
  {
   "cell_type": "markdown",
   "metadata": {},
   "source": [
    "In Python, global variables are declared and accessed using a different approach than in other programming languages. You can make a variable global by declaring it so, before the variable is used, using the `global` statement.\n",
    "\n",
    "The following snippet declares `a` as a global variable so that it can be accessed and changed by the function:"
   ]
  },
  {
   "cell_type": "code",
   "execution_count": 4,
   "metadata": {},
   "outputs": [
    {
     "name": "stdout",
     "output_type": "stream",
     "text": [
      "a=5\n"
     ]
    }
   ],
   "source": [
    "a = 5\n",
    "b = 55\n",
    "\n",
    "def func():\n",
    "    global a\n",
    "    print(f\"a={a}\")\n",
    "    a = 1\n",
    "    b = 2\n",
    "\n",
    "func()\n",
    "\n",
    "assert a == 1\n",
    "assert b == 55\n"
   ]
  },
  {
   "cell_type": "markdown",
   "metadata": {},
   "source": [
    "See how the value of `a` is changed, while the value of `b` (being local to the funcion) is not altered outside the function."
   ]
  },
  {
   "cell_type": "markdown",
   "metadata": {},
   "source": [
    "Note that global variables that you just want to access and not changed them do not require the `global` statement:"
   ]
  },
  {
   "cell_type": "code",
   "execution_count": 5,
   "metadata": {},
   "outputs": [
    {
     "name": "stdout",
     "output_type": "stream",
     "text": [
      "b=55\n"
     ]
    }
   ],
   "source": [
    "b = 55\n",
    "\n",
    "def func2():\n",
    "    print(f\"b={b}\")\n",
    "\n",
    "func2()"
   ]
  },
  {
   "cell_type": "markdown",
   "metadata": {},
   "source": [
    "However, if you try to modify `b` within the `func2` body, Python will create a new local variable instead, which will result in an exception because you're trying to use a variable without having given it a value first:"
   ]
  },
  {
   "cell_type": "code",
   "execution_count": 9,
   "metadata": {},
   "outputs": [
    {
     "name": "stdout",
     "output_type": "stream",
     "text": [
      "Oops: {UnboundLocalError(\"cannot access local variable 'b' where it is not associated with a value\")}\n"
     ]
    }
   ],
   "source": [
    "b = 55\n",
    "\n",
    "def func2():\n",
    "    print(f\"b={b}\")\n",
    "    b = 5\n",
    "    print(f\"b={b}\")\n",
    "\n",
    "try:\n",
    "    func2()\n",
    "except Exception as e:\n",
    "    print(f\"Oops:\", {e})\n"
   ]
  },
  {
   "cell_type": "markdown",
   "metadata": {},
   "source": [
    "The `nonlocal` statement causes an identifier to refer to a previously bound variable in the closest enclosing scope. It is therefore similar to `global`, but to refer to variables defined in an enclosing scope such as an outer function:"
   ]
  },
  {
   "cell_type": "code",
   "execution_count": 15,
   "metadata": {},
   "outputs": [
    {
     "name": "stdout",
     "output_type": "stream",
     "text": [
      "top level-> g_var: 0, nl_var: 0\n",
      "\tin outer_fn-> g_var: 0, nl_var: 2\n",
      "\t\tin inner_fn-> g_var: 1, nl_var: 4\n",
      "\tin outer_fn-> g_var: 1, nl_var: 4\n",
      "top level-> g_var: 1, nl_var: 0\n"
     ]
    }
   ],
   "source": [
    "g_var = 0\n",
    "nl_var = 0\n",
    "print(f\"top level-> g_var: {g_var}, nl_var: {nl_var}\")\n",
    "\n",
    "def outer_fn():\n",
    "    nl_var = 2  # hides nl_var defined in the global scope\n",
    "    print(f\"\\tin outer_fn-> g_var: {g_var}, nl_var: {nl_var}\")\n",
    "    assert g_var == 0\n",
    "    assert nl_var == 2\n",
    "    def inner_fn():\n",
    "        global g_var\n",
    "        nonlocal nl_var\n",
    "        g_var = 1\n",
    "        nl_var = 4\n",
    "        print(f\"\\t\\tin inner_fn-> g_var: {g_var}, nl_var: {nl_var}\")\n",
    "        assert g_var == 1\n",
    "        assert nl_var == 4\n",
    "\n",
    "    inner_fn()\n",
    "    print(f\"\\tin outer_fn-> g_var: {g_var}, nl_var: {nl_var}\")\n",
    "    assert g_var == 1\n",
    "    assert nl_var == 4\n",
    "\n",
    "outer_fn()\n",
    "print(f\"top level-> g_var: {g_var}, nl_var: {nl_var}\")\n",
    "assert g_var == 1\n",
    "assert nl_var == 0"
   ]
  },
  {
   "cell_type": "markdown",
   "metadata": {},
   "source": [
    "Therefore in Python:\n",
    "> if you want to assign to a variable existing outside a function, you must explicitly declare the variable to be `nonlocal` or `global`.<br>If you're just reading the variable, you don't need to declare it."
   ]
  },
  {
   "cell_type": "markdown",
   "metadata": {},
   "source": [
    "### Exercise\n",
    "\n",
    "Assuming that `x = 5`, what will be the value of `x` after `funct1()` is executed? And after `funct2()` is executed?\n",
    "\n",
    "```python\n",
    "def funct1():\n",
    "    x = 3\n",
    "\n",
    "def funct2():\n",
    "    global x\n",
    "    x = 2\n",
    "```"
   ]
  },
  {
   "cell_type": "markdown",
   "metadata": {},
   "source": [
    "We can use `assert` to check our expectations:"
   ]
  },
  {
   "cell_type": "code",
   "execution_count": 16,
   "metadata": {},
   "outputs": [],
   "source": [
    "x = 5\n",
    "\n",
    "def funct1():\n",
    "    x = 3\n",
    "\n",
    "def funct2():\n",
    "    global x\n",
    "    x = 2\n",
    "\n",
    "funct1()\n",
    "assert x == 5\n",
    "\n",
    "funct2()\n",
    "assert x == 2"
   ]
  },
  {
   "cell_type": "markdown",
   "metadata": {},
   "source": [
    "## Assigning functions to variables\n",
    "\n",
    "In Python, functions are first-class citizens. As such, functions can be assigned to variables just like numbers, lists, or tuples:"
   ]
  },
  {
   "cell_type": "code",
   "execution_count": 18,
   "metadata": {},
   "outputs": [
    {
     "name": "stdout",
     "output_type": "stream",
     "text": [
      "abs_temp(32)=273.15\n",
      "abs_temp(0)=273.15\n"
     ]
    }
   ],
   "source": [
    "def f_to_kelvin(degrees_f):\n",
    "    return 273.15 + (degrees_f - 32) * 5 / 9\n",
    "\n",
    "def c_to_kelvin(degrees_c):\n",
    "    return 273.15 + degrees_c\n",
    "\n",
    "abs_temp = f_to_kelvin\n",
    "print(f\"{abs_temp(32)=}\")\n",
    "\n",
    "abs_temp = c_to_kelvin\n",
    "print(f\"{abs_temp(0)=}\")\n"
   ]
  },
  {
   "cell_type": "markdown",
   "metadata": {},
   "source": [
    "Note how a variable that refers to a function can be used in the exact same way as the function itself."
   ]
  },
  {
   "cell_type": "markdown",
   "metadata": {},
   "source": [
    "You can place functions in lists, tuples, or dictionaries, as you'd do with other variables:"
   ]
  },
  {
   "cell_type": "code",
   "execution_count": 19,
   "metadata": {},
   "outputs": [
    {
     "data": {
      "text/plain": [
       "273.15"
      ]
     },
     "execution_count": 19,
     "metadata": {},
     "output_type": "execute_result"
    }
   ],
   "source": [
    "t_conversors = {\n",
    "    \"f_to_k\": f_to_kelvin,\n",
    "    \"c_to_k\": c_to_kelvin\n",
    "}\n",
    "\n",
    "t_conversors[\"c_to_k\"](0)"
   ]
  },
  {
   "cell_type": "markdown",
   "metadata": {},
   "source": [
    "## Lambda expressions\n",
    "\n",
    "Short functions like the ones from the previous section, can be defined using the lambda expression syntax:\n",
    "\n",
    "```python\n",
    "lambda param1, param2, ..., paramN: expression\n",
    "```\n",
    "\n",
    "This syntax is appropriate for small functions that need to be defined inline and passed to another function, or kept in some other object or variable:"
   ]
  },
  {
   "cell_type": "code",
   "execution_count": 20,
   "metadata": {},
   "outputs": [
    {
     "name": "stdout",
     "output_type": "stream",
     "text": [
      "t_conversors[\"f_to_k\"](32)=273.15\n",
      "t_conversors[\"c_to_k\"](0)=273.15\n"
     ]
    }
   ],
   "source": [
    "t_conversors = {\n",
    "    \"f_to_k\": lambda t_f : 273.15 + (t_f - 32) * 5 / 9,\n",
    "    \"c_to_k\": lambda t_c : 273.15 + t_c\n",
    "}\n",
    "\n",
    "print(f\"{t_conversors[\"f_to_k\"](32)=}\")\n",
    "print(f\"{t_conversors[\"c_to_k\"](0)=}\")"
   ]
  },
  {
   "cell_type": "markdown",
   "metadata": {},
   "source": [
    "Note that lambda expressions don't have a `return` statements because the value of the expression is automatically returned."
   ]
  },
  {
   "cell_type": "markdown",
   "metadata": {},
   "source": [
    "## Generator functions\n",
    "\n",
    "A **generator** function is a special kind of function that lets you define your own iterators.\n",
    "\n",
    "When using a generator, you use `yield` keyword to return each iteration's value.\n",
    "\n",
    "When a generator function is used, it returns a generator object, which can be used as an iterator. As such, the generator function body will execute up to the `yield` statement at which point it will return a value and the execution of the generator function will stop.\n",
    "\n",
    "When invoked again, the generator function execution will resume after `yield` and will execute until either `yield` is found again (in which case the execution will temporarily stop again), or until it finds an empty `return` statement which will mean that the generator function has finished its execution."
   ]
  },
  {
   "cell_type": "code",
   "execution_count": 21,
   "metadata": {},
   "outputs": [
    {
     "name": "stdout",
     "output_type": "stream",
     "text": [
      "\t>> in generator, x = 0\n",
      "Using value from the generator: 0\n",
      "\t>> in generator, x = 1\n",
      "Using value from the generator: 1\n",
      "\t>> in generator, x = 2\n",
      "Using value from the generator: 2\n",
      "\t>> in generator, x = 3\n",
      "Using value from the generator: 3\n"
     ]
    }
   ],
   "source": [
    "def four():\n",
    "    x = 0\n",
    "    while x < 4:\n",
    "        print(\"\\t>> in generator, x =\", x)\n",
    "        yield x\n",
    "        x += 1\n",
    "\n",
    "for i in four():\n",
    "    print(f\"Using value from the generator: {i}\")"
   ]
  },
  {
   "cell_type": "markdown",
   "metadata": {},
   "source": [
    "Starting with Python 3.3, a new keyword `yield from` is also available.\n",
    "\n",
    "The keyword `yield from` lets you chain generators together:"
   ]
  },
  {
   "cell_type": "code",
   "execution_count": 22,
   "metadata": {},
   "outputs": [
    {
     "name": "stdout",
     "output_type": "stream",
     "text": [
      "0\n",
      "1\n",
      "2\n",
      "3\n",
      "4\n",
      "5\n"
     ]
    }
   ],
   "source": [
    "def inner_gen(x):\n",
    "    for i in range(x):\n",
    "        yield i\n",
    "\n",
    "def outer_gen(y):\n",
    "    yield from inner_gen(y)\n",
    "\n",
    "for i in range(6):\n",
    "    print(i)"
   ]
  },
  {
   "cell_type": "markdown",
   "metadata": {},
   "source": [
    "See how `yield from` behaves the same way `yield` does, except that it delegates the generator machinery to a subgenerator."
   ]
  },
  {
   "cell_type": "markdown",
   "metadata": {},
   "source": [
    "You can use generator functions with `in` to see whether a value is the the series that a generator produces:"
   ]
  },
  {
   "cell_type": "code",
   "execution_count": 29,
   "metadata": {},
   "outputs": [
    {
     "name": "stdout",
     "output_type": "stream",
     "text": [
      "\t>> yielding  0\n",
      "\t>> yielding  1\n",
      "\t>> yielding  2\n",
      "\t>> yielding  0\n",
      "\t>> yielding  1\n",
      "\t>> yielding  2\n",
      "\t>> yielding  3\n",
      "\t>> yielding  4\n",
      "\t>> yielding  0\n",
      "\t>> yielding  1\n",
      "\t>> yielding  2\n",
      "2 will be yielded by four\n",
      "\t>> yielding  0\n",
      "\t>> yielding  1\n",
      "\t>> yielding  2\n",
      "\t>> yielding  3\n",
      "\t>> yielding  4\n",
      "5 will be yielded by four\n"
     ]
    }
   ],
   "source": [
    "def four():\n",
    "    n = 0\n",
    "    while n <= 4:\n",
    "        print(\"\\t>> yielding \", n)\n",
    "        yield n\n",
    "        n += 1\n",
    "\n",
    "assert (2 in four()) == True\n",
    "assert (5 in four()) == False\n",
    "\n",
    "if 2 in four():\n",
    "    print(\"2 will be yielded by four\")\n",
    "\n",
    "if 5 in four():\n",
    "    print(\"5 will be yielded by four\")\n",
    "else:\n",
    "    print(\"5 will be yielded by four\")\n"
   ]
  },
  {
   "cell_type": "markdown",
   "metadata": {},
   "source": [
    "Note that when using `in` the generator will be invoked until either the value is found or the generator is exhausted."
   ]
  },
  {
   "cell_type": "markdown",
   "metadata": {},
   "source": [
    "## Decorators\n",
    "\n",
    "The fact that a function can be assigned to a variable, and that variable used to invoke the function it references can be exploited to write a Python function that takes another function as its parameter, wraps it in another function that does something related, and then returns the new function.\n",
    "\n",
    "This new function can be used instead of the original function:"
   ]
  },
  {
   "cell_type": "code",
   "execution_count": 30,
   "metadata": {},
   "outputs": [
    {
     "name": "stdout",
     "output_type": "stream",
     "text": [
      "5\n",
      "\t>> in decorate function, decorating my_fn\n",
      "\t\t>> executing my_fn\n",
      "5\n"
     ]
    }
   ],
   "source": [
    "def decorate(fn: callable):\n",
    "    print(f\"\\t>> in decorate function, decorating {fn.__name__}\")\n",
    "    def wrapper_fn(*args):\n",
    "        print(f\"\\t\\t>> executing {fn.__name__}\")\n",
    "        return fn(*args)\n",
    "    return wrapper_fn\n",
    "\n",
    "def my_fn(param):\n",
    "    print(param)\n",
    "\n",
    "my_fn(5)\n",
    "\n",
    "my_decorated_fn = decorate(my_fn)\n",
    "my_decorated_fn(5)"
   ]
  },
  {
   "cell_type": "markdown",
   "metadata": {},
   "source": [
    "Python defines the syntax `@decorate`, where `decorate` is a function like the one define above, to simplify the way in which functions can be decorated:"
   ]
  },
  {
   "cell_type": "code",
   "execution_count": 31,
   "metadata": {},
   "outputs": [
    {
     "name": "stdout",
     "output_type": "stream",
     "text": [
      "\t>> in decorate function, decorating my_fn\n",
      "\t\t>> executing my_fn\n",
      "55\n"
     ]
    }
   ],
   "source": [
    "def decorate(fn: callable):\n",
    "    print(f\"\\t>> in decorate function, decorating {fn.__name__}\")\n",
    "    def wrapper_fn(*args):\n",
    "        print(f\"\\t\\t>> executing {fn.__name__}\")\n",
    "        return fn(*args)\n",
    "    return wrapper_fn\n",
    "\n",
    "@decorate\n",
    "def my_fn(param):\n",
    "    print(param)\n",
    "\n",
    "my_fn(55)"
   ]
  },
  {
   "cell_type": "markdown",
   "metadata": {},
   "source": [
    "Note that the effect of using the syntax `@decorate` is exactly the same as the code block:\n",
    "\n",
    "```python\n",
    "def my_fn(param):\n",
    "    print(param)\n",
    "\n",
    "my_decorated_fn = decorate(my_fn)\n",
    "```\n",
    "\n",
    "but much more succinct, and therefore, preferred."
   ]
  },
  {
   "cell_type": "markdown",
   "metadata": {},
   "source": [
    "### Exercise\n",
    "\n",
    "Create a decorator function that enclose the return value of the wrapped function in `\"<html>\"` and `\"</html>\"`."
   ]
  },
  {
   "cell_type": "code",
   "execution_count": 1,
   "metadata": {},
   "outputs": [
    {
     "name": "stdout",
     "output_type": "stream",
     "text": [
      "<html>Hello</html>\n"
     ]
    }
   ],
   "source": [
    "def html_tag(fn: callable):\n",
    "    def wrapper_fn(*args):\n",
    "        return f\"<html>{fn(*args)}</html>\"\n",
    "    return wrapper_fn\n",
    "\n",
    "@html_tag\n",
    "def my_fn(param):\n",
    "    return param\n",
    "\n",
    "print(my_fn(\"Hello\"))"
   ]
  },
  {
   "cell_type": "markdown",
   "metadata": {},
   "source": [
    "### Exercise\n",
    "\n",
    "Refactor using functions the exercise at the end of the [04: Dictionaries](../04_dictionaries/04_dictionaries.ipynb) chapter that cleans and counts the occurences of words in a text file."
   ]
  },
  {
   "cell_type": "code",
   "execution_count": 5,
   "metadata": {},
   "outputs": [
    {
     "name": "stdout",
     "output_type": "stream",
     "text": [
      "call: 1\n",
      "me: 5\n",
      "ishmael: 1\n",
      "some: 2\n",
      "years: 1\n",
      "ago: 1\n",
      "never: 1\n",
      "mind: 1\n",
      "how: 1\n",
      "long: 1\n",
      "precisely: 1\n",
      "having: 1\n",
      "little: 2\n",
      "or: 2\n",
      "no: 1\n",
      "money: 1\n",
      "in: 4\n",
      "my: 4\n",
      "purse: 1\n",
      "and: 9\n",
      "nothing: 2\n",
      "particular: 1\n",
      "to: 5\n",
      "interest: 1\n",
      "on: 1\n",
      "shore: 1\n",
      "i: 9\n",
      "thought: 1\n",
      "would: 1\n",
      "sail: 1\n",
      "about: 2\n",
      "a: 6\n",
      "see: 1\n",
      "the: 14\n",
      "watery: 1\n",
      "part: 1\n",
      "of: 8\n",
      "world: 1\n",
      "it: 6\n",
      "is: 7\n",
      "way: 1\n",
      "have: 1\n",
      "driving: 1\n",
      "off: 2\n",
      "spleen: 1\n",
      "regulating: 1\n",
      "circulation: 1\n",
      "whenever: 4\n",
      "find: 2\n",
      "myself: 2\n",
      "growing: 1\n",
      "grim: 1\n",
      "mouth: 1\n",
      "damp: 1\n",
      "drizzly: 1\n",
      "november: 1\n",
      "soul: 1\n",
      "involuntarily: 1\n",
      "pausing: 1\n",
      "before: 1\n",
      "coffin: 1\n",
      "warehouses: 1\n",
      "bringing: 1\n",
      "up: 1\n",
      "rear: 1\n",
      "every: 1\n",
      "funeral: 1\n",
      "meet: 1\n",
      "especially: 1\n",
      "hypos: 1\n",
      "get: 2\n",
      "such: 1\n",
      "an: 1\n",
      "upper: 1\n",
      "hand: 1\n",
      "that: 2\n",
      "requires: 1\n",
      "strong: 1\n",
      "moral: 1\n",
      "principle: 1\n",
      "prevent: 1\n",
      "from: 1\n",
      "deliberately: 1\n",
      "stepping: 1\n",
      "into: 1\n",
      "street: 1\n",
      "methodically: 1\n",
      "knocking: 1\n",
      "peoples: 1\n",
      "hats: 1\n",
      "then: 1\n",
      "account: 1\n",
      "high: 1\n",
      "time: 2\n",
      "sea: 1\n",
      "as: 3\n",
      "soon: 1\n",
      "can: 1\n",
      "this: 2\n",
      "substitute: 1\n",
      "for: 1\n",
      "pistol: 1\n",
      "ball: 1\n",
      "with: 3\n",
      "philosophical: 1\n",
      "flourish: 1\n",
      "cato: 1\n",
      "throws: 1\n",
      "himself: 1\n",
      "upon: 1\n",
      "his: 1\n",
      "sword: 1\n",
      "quietly: 1\n",
      "take: 2\n",
      "ship: 1\n",
      "there: 3\n",
      "surprising: 1\n",
      "if: 1\n",
      "they: 1\n",
      "but: 1\n",
      "knew: 1\n",
      "almost: 1\n",
      "all: 1\n",
      "men: 1\n",
      "their: 1\n",
      "degree: 1\n",
      "other: 1\n",
      "cherish: 1\n",
      "very: 1\n",
      "nearly: 1\n",
      "same: 1\n",
      "feelings: 1\n",
      "towards: 1\n",
      "ocean: 1\n",
      "now: 1\n",
      "your: 1\n",
      "insular: 1\n",
      "city: 1\n",
      "manhattoes: 1\n",
      "belted: 1\n",
      "round: 1\n",
      "by: 4\n",
      "wharves: 1\n",
      "indian: 1\n",
      "isles: 1\n",
      "coral: 1\n",
      "reefs: 1\n",
      "commerce: 1\n",
      "surrounds: 1\n",
      "her: 1\n",
      "surf: 1\n",
      "right: 1\n",
      "left: 1\n",
      "streets: 1\n",
      "you: 1\n",
      "waterward: 1\n",
      "its: 1\n",
      "extreme: 1\n",
      "downtown: 1\n",
      "battery: 1\n",
      "where: 1\n",
      "noble: 1\n",
      "mole: 1\n",
      "washed: 1\n",
      "waves: 1\n",
      "cooled: 1\n",
      "breezes: 1\n",
      "which: 1\n",
      "few: 1\n",
      "hours: 1\n",
      "previous: 1\n",
      "were: 1\n",
      "out: 1\n",
      "sight: 1\n",
      "land: 1\n",
      "look: 1\n",
      "at: 1\n",
      "crowds: 1\n",
      "watergazers: 1\n",
      "Top 10 most frequent words: [('the', 14), ('and', 9), ('i', 9), ('of', 8), ('is', 7), ('a', 6), ('it', 6), ('me', 5), ('to', 5), ('in', 4)]\n",
      "Top 10 least frequent words: [('call', 1), ('ishmael', 1), ('years', 1), ('ago', 1), ('never', 1), ('mind', 1), ('how', 1), ('long', 1), ('precisely', 1), ('having', 1)]\n"
     ]
    }
   ],
   "source": [
    "import string\n",
    "\n",
    "def get_normalized_words_from_line(line):\n",
    "    \"\"\"\n",
    "    Return the list of normalized words from the line.\n",
    "\n",
    "    Args:\n",
    "        line: the input line to normalize\n",
    "\n",
    "    Returns:\n",
    "        a list of words that have been normalized to facilitate\n",
    "        word frequency analysis.\n",
    "    \"\"\"\n",
    "    line_lowercase = line.lower()\n",
    "    normalized_line = line_lowercase.translate(str.maketrans(\"\", \"\", string.punctuation))\n",
    "    return normalized_line.split()\n",
    "\n",
    "def write_normalized_words_to_file(input_file):\n",
    "    \"\"\"\n",
    "    Write the normalized words from the input file to a new file.\n",
    "\n",
    "    Args:\n",
    "        input_file: the file to read the input from\n",
    "    \"\"\"\n",
    "    with open(input_file, \"r\") as infile:\n",
    "        with open(\"data/out/normalized_words.txt\", \"w\") as outfile:\n",
    "            for line in infile:\n",
    "                words = get_normalized_words_from_line(line)\n",
    "                for word in words:\n",
    "                    outfile.write(f\"{word}\\n\")\n",
    "\n",
    "def get_word_occurrences_from_file(input_file):\n",
    "    \"\"\"\n",
    "    Return the dictionary of word occurrences from the input file.\n",
    "\n",
    "    Args:\n",
    "        input_file: the file to read the input from\n",
    "\n",
    "    Returns:\n",
    "        a dictionary of word occurrences\n",
    "    \"\"\"\n",
    "    word_occurrences = {}\n",
    "    with open(input_file, \"r\") as infile:\n",
    "        for word in infile:\n",
    "            word = word.strip()\n",
    "            word_occurrences[word] = word_occurrences.get(word, 0) + 1\n",
    "    return word_occurrences\n",
    "\n",
    "def print_word_occurrences(word_occurrences):\n",
    "    for word, count in word_occurrences.items():\n",
    "        print(f\"{word}: {count}\")\n",
    "\n",
    "def get_top_n_most_frequent_words(word_occurrences, n):\n",
    "    return sorted(word_occurrences.items(), key=lambda x: x[1], reverse=True)[:n]\n",
    "\n",
    "def get_top_n_least_frequent_words(word_occurrences, n):\n",
    "    return sorted(word_occurrences.items(), key=lambda x: x[1])[:n]\n",
    "\n",
    "write_normalized_words_to_file(\"data/moby_01.txt\")\n",
    "word_occurrences = get_word_occurrences_from_file(\"data/out/normalized_words.txt\")\n",
    "print_word_occurrences(word_occurrences)\n",
    "print(\"Top 10 most frequent words:\", get_top_n_most_frequent_words(word_occurrences, 10))\n",
    "print(\"Top 10 least frequent words:\", get_top_n_least_frequent_words(word_occurrences, 10))"
   ]
  }
 ],
 "metadata": {
  "kernelspec": {
   "display_name": ".venv",
   "language": "python",
   "name": "python3"
  },
  "language_info": {
   "codemirror_mode": {
    "name": "ipython",
    "version": 3
   },
   "file_extension": ".py",
   "mimetype": "text/x-python",
   "name": "python",
   "nbconvert_exporter": "python",
   "pygments_lexer": "ipython3",
   "version": "3.12.5"
  }
 },
 "nbformat": 4,
 "nbformat_minor": 2
}
