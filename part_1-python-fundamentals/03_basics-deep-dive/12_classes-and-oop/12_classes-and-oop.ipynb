{
 "cells": [
  {
   "cell_type": "markdown",
   "metadata": {},
   "source": [
    "# Classes and Object-Oriented Programming\n",
    "\n",
    "## Defining classes\n",
    "\n",
    "A class in Python is effectively a data type. You define a class with the `class` statement.\n",
    "\n",
    "By convention, class identifiers are in CapCase as in `MyAwesomeClass`."
   ]
  },
  {
   "cell_type": "code",
   "execution_count": null,
   "metadata": {},
   "outputs": [],
   "source": [
    "class MyAwesomeClass:\n",
    "    pass"
   ]
  },
  {
   "cell_type": "markdown",
   "metadata": {},
   "source": [
    "Class instances can be used as structs or records. However, unlike C structures or Java classes, the data fields of an instance don't need to be declared ahead of time.\n",
    "\n",
    "The following snippet declares an *empty* `Circle` class, and then after initialization, it defines a new data field `radius` and use it in a calculation:"
   ]
  },
  {
   "cell_type": "code",
   "execution_count": 5,
   "metadata": {},
   "outputs": [
    {
     "name": "stdout",
     "output_type": "stream",
     "text": [
      "The length of the circle is 31.416\n"
     ]
    }
   ],
   "source": [
    "from math import pi\n",
    "\n",
    "class Circle:\n",
    "    ...\n",
    "\n",
    "my_circle = Circle()\n",
    "my_circle.radius = 5\n",
    "print(f\"The length of the circle is {2 * pi * my_circle.radius:.3f}\")"
   ]
  },
  {
   "cell_type": "markdown",
   "metadata": {},
   "source": [
    "You can initialize the fields of a class instance automatically by including an `__init__()` method. This function is run every time an instance of the class is created.\n",
    "\n",
    "Python classes may only have one `__init__()` method, and its first argument is set to the newly created class instance when `__init__()` is run.\n",
    "\n",
    "By convention, `self` is always the name of this first argument.\n",
    "\n",
    "| NOTE: |\n",
    "| :---- |\n",
    "| The `__init__()` method is similar to a constructor, but it doesn't construct anything &mdash; it just initializes the fields of the class. Python has something that is more of a constructor: the `__new__()` method that is called on object creation and returns an uninitialized object. It's rarely used in Python. |"
   ]
  },
  {
   "cell_type": "code",
   "execution_count": 11,
   "metadata": {},
   "outputs": [
    {
     "name": "stdout",
     "output_type": "stream",
     "text": [
      "Length of the circle: 6.283\n",
      "Length of the circle: 31.416\n"
     ]
    }
   ],
   "source": [
    "class Circle:\n",
    "    def __init__(self):\n",
    "        self.radius = 1\n",
    "\n",
    "my_circle = Circle()\n",
    "print(f\"Length of the circle: {2 * pi * my_circle.radius:.3f}\")\n",
    "\n",
    "my_circle.radius = 5\n",
    "print(f\"Length of the circle: {2 * pi * my_circle.radius:.3f}\")"
   ]
  },
  {
   "cell_type": "markdown",
   "metadata": {},
   "source": [
    "## Instance variables\n",
    "\n",
    "An instance variable is a variable associated to an instance of a given class. Each class has itws own copy.\n",
    "\n",
    "In Python, you create an instance variable on-the-fly by assigning to a field of a class instance:\n",
    "\n",
    "```python\n",
    "instance.variable = value\n",
    "```\n",
    "\n",
    "Accessing an instance variable requires explicit mention of the containing instance (i.e., `instance.variable`).\n",
    "\n",
    "The following snippet defines a `Rectangle` class:"
   ]
  },
  {
   "cell_type": "code",
   "execution_count": 1,
   "metadata": {},
   "outputs": [
    {
     "data": {
      "text/plain": [
       "Rectangle(width=4, height=2)"
      ]
     },
     "execution_count": 1,
     "metadata": {},
     "output_type": "execute_result"
    }
   ],
   "source": [
    "class Rectangle:\n",
    "    def __init__(self, width, height):\n",
    "        self.width = width\n",
    "        self.height = height\n",
    "\n",
    "    def __repr__(self):\n",
    "        \"\"\"Dev-level representation of the instance.\"\"\"\n",
    "        return f\"Rectangle(width={self.width}, height={self.height})\"\n",
    "\n",
    "my_rectangle = Rectangle(4, 2)\n",
    "my_rectangle"
   ]
  },
  {
   "cell_type": "markdown",
   "metadata": {},
   "source": [
    "## Methods\n",
    "\n",
    "A method is a function associated with a particular class."
   ]
  },
  {
   "cell_type": "code",
   "execution_count": 5,
   "metadata": {},
   "outputs": [
    {
     "name": "stdout",
     "output_type": "stream",
     "text": [
      "area of a circle of radius 1: 3.142\n",
      "area of a circle of radius 3: 28.274\n",
      "area of a circle of radius 5: 78.540\n"
     ]
    }
   ],
   "source": [
    "import math\n",
    "\n",
    "class Circle:\n",
    "    def __init__(self, radius=1):\n",
    "        self.radius = radius\n",
    "\n",
    "    def area(self):\n",
    "        return self.radius * self.radius * math.pi\n",
    "\n",
    "c = Circle()\n",
    "print(f\"area of a circle of radius {c.radius}: {c.area():.3f}\")\n",
    "\n",
    "c = Circle(3)\n",
    "print(f\"area of a circle of radius {c.radius}: {c.area():.3f}\")\n",
    "\n",
    "c.radius = 5\n",
    "print(f\"area of a circle of radius {c.radius}: {c.area():.3f}\")"
   ]
  },
  {
   "cell_type": "markdown",
   "metadata": {},
   "source": [
    "Invoking a method requires using the instance, as in `c.area()`, and this syntax is called a *bound* method invocation.\n",
    "\n",
    "The first argument of any method is the instance it was invoked by or on, named `self` by convention. Note that in other languages, the argument is implicit, but not in Python.\n",
    "\n",
    "Python also supports an alternative syntax  called *unbound* method which can be used to invoke a method through the containing class. It is rarely used:"
   ]
  },
  {
   "cell_type": "code",
   "execution_count": null,
   "metadata": {},
   "outputs": [
    {
     "data": {
      "text/plain": [
       "28.274333882308138"
      ]
     },
     "execution_count": 6,
     "metadata": {},
     "output_type": "execute_result"
    }
   ],
   "source": [
    "c = Circle(3)\n",
    "Circle.area(c)"
   ]
  },
  {
   "cell_type": "markdown",
   "metadata": {},
   "source": [
    "Python transforms a method invocation `instance.method(arg1, arg2, ...)` into normal function calls using the following rules:\n",
    "\n",
    "1. Look for the method name in the instance namespace. If a method has been changed or added for this instance, it's invoked in preference over methods in the class or superclass.\n",
    "\n",
    "2. If the method isn't found in the instance namespace, look up the class type `class` or `instance`, and look for the method there.\n",
    "\n",
    "3. If the method isn't found, look for the method up the class hierarchy chain.\n",
    "\n",
    "4. When the method has been found, make a direct call to it as a normal Python function, using the instance as the first argument of the function, and shifting all the other arguments in the method invocation one space over to the right.\n",
    "\n",
    "Let's see the first and second point in action:"
   ]
  },
  {
   "cell_type": "code",
   "execution_count": 12,
   "metadata": {},
   "outputs": [
    {
     "name": "stdout",
     "output_type": "stream",
     "text": [
      "Hello, from a rectangle of width 4 and height 2\n",
      "Hello from the Rectangle class\n"
     ]
    }
   ],
   "source": [
    "class Rectangle:\n",
    "    def __init__(self, width, height):\n",
    "        self.width = width\n",
    "        self.height = height\n",
    "\n",
    "    def area(self):\n",
    "        return self.width * self.height\n",
    "\n",
    "    def say_hi(self):\n",
    "        return \"Hello from the Rectangle class\"\n",
    "\n",
    "r = Rectangle(4, 2)\n",
    "\n",
    "def fn_say_hi(self):\n",
    "    return f\"Hello, from a rectangle of width {self.width} and height {self.height}\"\n",
    "\n",
    "# Add the method to the instance\n",
    "r.say_hi = fn_say_hi.__get__(r, Rectangle)\n",
    "\n",
    "print(r.say_hi())\n",
    "\n",
    "r2 = Rectangle(2, 4)\n",
    "print(r2.say_hi())"
   ]
  },
  {
   "cell_type": "markdown",
   "metadata": {},
   "source": [
    "## Class variables\n",
    "\n",
    "A class variable is a variable associated with a class, not an instance of a class, and is accessible by all instances of the class."
   ]
  },
  {
   "cell_type": "code",
   "execution_count": 15,
   "metadata": {},
   "outputs": [
    {
     "name": "stdout",
     "output_type": "stream",
     "text": [
      "c.area()=3.14159\n",
      "3.14159\n"
     ]
    }
   ],
   "source": [
    "class Circle:\n",
    "    pi = 3.14159\n",
    "\n",
    "    def __init__(self, radius=1):\n",
    "        self.radius = radius\n",
    "\n",
    "    def area(self):\n",
    "        return self.radius * self.radius * Circle.pi\n",
    "\n",
    "c = Circle()\n",
    "print(f\"{c.area()=}\")\n",
    "\n",
    "print(f\"{Circle.pi}\")"
   ]
  },
  {
   "cell_type": "markdown",
   "metadata": {},
   "source": [
    "Hardcoding the name of the class inside the class's methods is not very pretty. This can be avoided through the use of the special `__class__` attribute:"
   ]
  },
  {
   "cell_type": "code",
   "execution_count": 16,
   "metadata": {},
   "outputs": [
    {
     "name": "stdout",
     "output_type": "stream",
     "text": [
      "c.area()=3.14159\n",
      "3.14159\n"
     ]
    }
   ],
   "source": [
    "class Circle:\n",
    "    pi = 3.14159\n",
    "\n",
    "    def __init__(self, radius=1):\n",
    "        self.radius = radius\n",
    "\n",
    "    def area(self):\n",
    "        return self.radius * self.radius * self.__class__.pi\n",
    "\n",
    "c = Circle()\n",
    "print(f\"{c.area()=}\")\n",
    "\n",
    "print(f\"{Circle.pi}\")"
   ]
  },
  {
   "cell_type": "markdown",
   "metadata": {},
   "source": [
    "That trick is also available outside the class, but it makes the expression less readable:"
   ]
  },
  {
   "cell_type": "code",
   "execution_count": 17,
   "metadata": {},
   "outputs": [
    {
     "name": "stdout",
     "output_type": "stream",
     "text": [
      "3.14159\n"
     ]
    }
   ],
   "source": [
    "class Circle:\n",
    "    pi = 3.14159\n",
    "\n",
    "    def __init__(self, radius=1):\n",
    "        self.radius = radius\n",
    "\n",
    "    def area(self):\n",
    "        return self.radius * self.radius * self.__class__.pi\n",
    "\n",
    "c = Circle()\n",
    "\n",
    "print(c.__class__.pi)"
   ]
  },
  {
   "cell_type": "markdown",
   "metadata": {},
   "source": [
    "It's important to note that there are a few caveats in Python with respect to class variables.\n",
    "\n",
    "First, in Python, class variables can also be accessed through instances. If an instance has both a class variable and an instance variable with the same name, the instance variable takes precedence."
   ]
  },
  {
   "cell_type": "code",
   "execution_count": null,
   "metadata": {},
   "outputs": [],
   "source": [
    "class MyClass:\n",
    "    msg = \"foo\"\n",
    "\n",
    "    def __init__(self):\n",
    "        self.msg = \"bar\"\n",
    "\n",
    "class MyOtherClass:\n",
    "    msg = \"foobar\"\n",
    "\n",
    "obj = MyClass()\n",
    "obj2 = MyOtherClass()\n",
    "\n",
    "assert obj.msg == \"bar\"\n",
    "assert MyClass.msg == \"foo\"\n",
    "assert MyOtherClass.msg == \"foobar\"\n",
    "assert obj2.msg == \"foobar\""
   ]
  },
  {
   "cell_type": "markdown",
   "metadata": {},
   "source": [
    "Another related caveat, is that because you can do `instance.class_variable` you might expect that doing `instance.class_variable=value` will change the value of the all class variable, but that's not the case:"
   ]
  },
  {
   "cell_type": "code",
   "execution_count": 20,
   "metadata": {},
   "outputs": [],
   "source": [
    "class MyClass:\n",
    "    num_instances = 0\n",
    "\n",
    "    def __init__(self):\n",
    "        self.__class__.num_instances += 1\n",
    "\n",
    "assert MyClass.num_instances == 0\n",
    "\n",
    "obj = MyClass()\n",
    "assert MyClass.num_instances == 1\n",
    "\n",
    "obj.num_instances = 5\n",
    "assert MyClass.num_instances == 1\n",
    "assert obj.num_instances == 5"
   ]
  },
  {
   "cell_type": "markdown",
   "metadata": {},
   "source": [
    "## Static Methods and Class Methods\n",
    "\n",
    "Python allows the definition of two types of methods that are not bound to instances: static methods and class methods.\n",
    "\n",
    "### Static methods\n",
    "\n",
    "Static methods are used to define methods that are not bound to any particular instance of the class. They are defined using the `@staticmethod` decorator:"
   ]
  },
  {
   "cell_type": "code",
   "execution_count": 22,
   "metadata": {},
   "outputs": [],
   "source": [
    "class Circle:\n",
    "    \"\"\"Circle class.\"\"\"\n",
    "    all_circles = []\n",
    "    pi = 3.14159\n",
    "\n",
    "    def __init__(self, radius=1):\n",
    "        \"\"\"Create a circle of the given radius.\"\"\"\n",
    "        self.radius = radius\n",
    "        self.__class__.all_circles.append(self)\n",
    "\n",
    "    def area(self):\n",
    "        \"\"\"Determine the area of the Circle.\"\"\"\n",
    "        return self.radius * self.radius * self.__class__.pi\n",
    "\n",
    "    @staticmethod\n",
    "    def total_area():\n",
    "        \"\"\"Static method returning the total area of all Circles.\"\"\"\n",
    "        total = 0\n",
    "        for circle in Circle.all_circles:\n",
    "            total += circle.area()\n",
    "        return total\n",
    "\n",
    "c1 = Circle(1)\n",
    "c2 = Circle(2)\n",
    "\n",
    "assert Circle.total_area() == c1.area() + c2.area()"
   ]
  },
  {
   "cell_type": "markdown",
   "metadata": {},
   "source": [
    "Note that you can access the documentation as it were class and instance variables:"
   ]
  },
  {
   "cell_type": "code",
   "execution_count": 23,
   "metadata": {},
   "outputs": [
    {
     "data": {
      "text/plain": [
       "'Circle class.'"
      ]
     },
     "execution_count": 23,
     "metadata": {},
     "output_type": "execute_result"
    }
   ],
   "source": [
    "Circle.__doc__"
   ]
  },
  {
   "cell_type": "code",
   "execution_count": 24,
   "metadata": {},
   "outputs": [
    {
     "data": {
      "text/plain": [
       "'Determine the area of the Circle.'"
      ]
     },
     "execution_count": 24,
     "metadata": {},
     "output_type": "execute_result"
    }
   ],
   "source": [
    "c1.area.__doc__"
   ]
  },
  {
   "cell_type": "markdown",
   "metadata": {},
   "source": [
    "### Class methods\n",
    "\n",
    "Class methods are similar to static methods (in the sense that they're not bound to any class instance), but they are implicitly passed the class they belong to. They are defined using the `@classmethod` decorator."
   ]
  },
  {
   "cell_type": "code",
   "execution_count": 25,
   "metadata": {},
   "outputs": [],
   "source": [
    "class Circle:\n",
    "    \"\"\"Circle class.\"\"\"\n",
    "    all_circles = []\n",
    "    pi = 3.14159\n",
    "\n",
    "    def __init__(self, radius=1):\n",
    "        \"\"\"Create a circle of the given radius.\"\"\"\n",
    "        self.radius = radius\n",
    "        self.__class__.all_circles.append(self)\n",
    "\n",
    "    def area(self):\n",
    "        \"\"\"Determine the area of the Circle.\"\"\"\n",
    "        return self.radius * self.radius * self.__class__.pi\n",
    "\n",
    "    @classmethod\n",
    "    def total_area(cls):\n",
    "        \"\"\"Static method returning the total area of all Circles.\"\"\"\n",
    "        total = 0\n",
    "        for circle in cls.all_circles:\n",
    "            total += circle.area()\n",
    "        return total\n",
    "\n",
    "c1 = Circle(1)\n",
    "c2 = Circle(2)\n",
    "\n",
    "assert Circle.total_area() == c1.area() + c2.area()"
   ]
  },
  {
   "cell_type": "markdown",
   "metadata": {},
   "source": [
    "As such, if you need to refer to the enclosing class in a static/class method, it's better to use class methods as you won't have to hardcode the class's name."
   ]
  },
  {
   "cell_type": "markdown",
   "metadata": {},
   "source": [
    "## Inheritance\n",
    "\n",
    "The following snippet illustrates what the inheritance syntax looks like in Python:"
   ]
  },
  {
   "cell_type": "code",
   "execution_count": 1,
   "metadata": {},
   "outputs": [],
   "source": [
    "class Shape:\n",
    "    def __init__(self, x, y):\n",
    "        self.x = x\n",
    "        self.y = y\n",
    "\n",
    "class Square(Shape):\n",
    "    def __init__(self, side=1, x=0, y=0):\n",
    "        super().__init__(x, y)\n",
    "        self.side = side\n",
    "\n",
    "class Circle(Shape):\n",
    "    def __init__(self, radius=1, x=0, y=0):\n",
    "        super().__init__(x, y)\n",
    "        self.radius = radius"
   ]
  },
  {
   "cell_type": "markdown",
   "metadata": {},
   "source": [
    "Note that the class you inherit from is identified within parentheses in the subclass definition.\n",
    "\n",
    "Not also that it is required to invoke the `__init__` method of the superclass explicitly (Python won't do that for you).\n",
    "\n",
    "To do so, you can either use `super().__init__(x, y)` as above, or hardcode the class name (as in `Shape.__init__(self, x, y)`). The first option might bring some problems in complex cases, while the second has the drawback of hardcoding the class' name, which will create problems if the class hierarchy changes."
   ]
  },
  {
   "cell_type": "markdown",
   "metadata": {},
   "source": [
    "In Python, all instances of the subclasses can make use of the methods defined in the superclass (i.e., all Python methods are *virtual*):"
   ]
  },
  {
   "cell_type": "code",
   "execution_count": 3,
   "metadata": {},
   "outputs": [
    {
     "data": {
      "text/plain": [
       "'c.x=3, c.y=4'"
      ]
     },
     "execution_count": 3,
     "metadata": {},
     "output_type": "execute_result"
    }
   ],
   "source": [
    "class Shape:\n",
    "    def __init__(self, x, y):\n",
    "        self.x = x\n",
    "        self.y = y\n",
    "    def move(self, delta_x, delta_y):\n",
    "        self.x += delta_x\n",
    "        self.y += delta_y\n",
    "\n",
    "class Square(Shape):\n",
    "    def __init__(self, side=1, x=0, y=0):\n",
    "        super().__init__(x, y)\n",
    "        self.side = side\n",
    "\n",
    "class Circle(Shape):\n",
    "    def __init__(self, radius=1, x=0, y=0):\n",
    "        super().__init__(x, y)\n",
    "        self.radius = radius\n",
    "\n",
    "c = Circle(1)\n",
    "assert c.x == 0\n",
    "assert c.y == 0\n",
    "\n",
    "c.move(3, 4)\n",
    "\n",
    "assert c.x == 3\n",
    "assert c.y == 4\n",
    "\n",
    "f\"{c.x=}, {c.y=}\""
   ]
  },
  {
   "cell_type": "markdown",
   "metadata": {},
   "source": [
    "The following snippet introduces a `Rectangle` class and adjusts the hierarchy, so that `Square` will inherit from `Rectangle` instead of from `Shape`. "
   ]
  },
  {
   "cell_type": "code",
   "execution_count": null,
   "metadata": {},
   "outputs": [],
   "source": [
    "class Shape:\n",
    "    def __init__(self, x, y):\n",
    "        self.x = x\n",
    "        self.y = y\n",
    "    def move(self, delta_x, delta_y):\n",
    "        self.x += delta_x\n",
    "        self.y += delta_y\n",
    "\n",
    "class Rectangle(Shape):\n",
    "    def __init__(self, width, height, x=0, y=0):\n",
    "        super().__init__(x, y)\n",
    "        self.width = width\n",
    "        self.height = height\n",
    "\n",
    "class Square(Rectangle):\n",
    "    def __init__(self, side=1, x=0, y=0):\n",
    "        super().__init__(side, side, x, y)\n",
    "        self.side = side\n",
    "\n",
    "class Circle(Shape):\n",
    "    def __init__(self, radius=1, x=0, y=0):\n",
    "        super().__init__(x, y)\n",
    "        self.radius = radius\n",
    "\n",
    "my_square = Square(1)"
   ]
  },
  {
   "cell_type": "markdown",
   "metadata": {},
   "source": [
    "## Inheritance with class and instance variables\n",
    "\n",
    "Consider the following snippet showing a simple class hierarchy, where P is the parent class of C. We have methods that set the value of an instance variable `x` defined both in the parent and subclass."
   ]
  },
  {
   "cell_type": "code",
   "execution_count": 6,
   "metadata": {},
   "outputs": [
    {
     "name": "stdout",
     "output_type": "stream",
     "text": [
      "Class P\n",
      "Class P\n",
      "Class C\n",
      "Class C\n"
     ]
    }
   ],
   "source": [
    "class P:\n",
    "    z = \"Hello\"\n",
    "    def set_p(self):\n",
    "        self.x = \"Class P\"\n",
    "    def print_p(self):\n",
    "        print(self.x)\n",
    "\n",
    "class C(P):\n",
    "    def set_c(self):\n",
    "        self.x = \"Class C\"\n",
    "    def print_c(self):\n",
    "        print(self.x)\n",
    "\n",
    "c = C()\n",
    "c.set_p()       # set x = \"Class P\" in the subclass\n",
    "c.print_p()     # print 'Class P'\n",
    "\n",
    "c.print_c()     # print 'Class P'\n",
    "c.set_c()       # set x = \"Class C\" in the subclass\n",
    "c.print_c()     # print 'Class C'\n",
    "c.print_c()     # print 'Class C'"
   ]
  },
  {
   "cell_type": "markdown",
   "metadata": {},
   "source": [
    "That is, only one instance variable of a given name exists for a given instance, regardless the class hierarchy.\n",
    "\n",
    "That is, this is true regardless which class defines the method being invoked on the instance."
   ]
  },
  {
   "cell_type": "markdown",
   "metadata": {},
   "source": [
    "Instance variables defined in a superclass are inherited in the subclass, as seen on the Shape hierarchy:"
   ]
  },
  {
   "cell_type": "code",
   "execution_count": 7,
   "metadata": {},
   "outputs": [],
   "source": [
    "class Shape:\n",
    "    def __init__(self, x, y):\n",
    "        self.x = x\n",
    "        self.y = y\n",
    "\n",
    "class Rectangle(Shape):\n",
    "    def __init__(self, width, height):\n",
    "        super().__init__(0, 0)\n",
    "        self.width = width\n",
    "        self.height = height\n",
    "\n",
    "r = Rectangle(4, 2)\n",
    "assert r.x == 0\n",
    "assert r.y == 0"
   ]
  },
  {
   "cell_type": "markdown",
   "metadata": {},
   "source": [
    "Class variables are inherited, but defining the same name for a class variable in a superclass and a subclass is discouraged, because it can lead to confusion when changing its value, as seen in [Class Variables](#class-variables)."
   ]
  },
  {
   "cell_type": "code",
   "execution_count": 8,
   "metadata": {},
   "outputs": [],
   "source": [
    "class P:\n",
    "    z = \"Hello\"\n",
    "    def set_p(self):\n",
    "        self.x = \"Class P\"\n",
    "    def print_p(self):\n",
    "        print(self.x)\n",
    "\n",
    "class C(P):\n",
    "    def set_c(self):\n",
    "        self.x = \"Class C\"\n",
    "    def print_c(self):\n",
    "        print(self.x)\n",
    "\n",
    "c = C()\n",
    "\n",
    "assert c.z == \"Hello\"  # access to class variable looks like instance variable\n",
    "assert P.z == \"Hello\"  # Good\n",
    "assert C.z == \"Hello\"  # Confusing, because it is inherited"
   ]
  },
  {
   "cell_type": "markdown",
   "metadata": {},
   "source": [
    "As seen in [Class Variables](#class-variables) changing the value of a class variable can lead to somewhat unexpected results:"
   ]
  },
  {
   "cell_type": "code",
   "execution_count": null,
   "metadata": {},
   "outputs": [],
   "source": [
    "C.z = \"Bonjour\"\n",
    "\n",
    "assert c.z == \"Bonjour\"  # Accessing class variable through the instance\n",
    "assert C.z == \"Bonjour\"  # Accessing class variable through the subclass\n",
    "assert P.z == \"Hello\"    # The parent class class variable hasn't changed"
   ]
  },
  {
   "cell_type": "markdown",
   "metadata": {},
   "source": [
    "And it's much worse, if we try to change the value of the class variable through the instance, because a new instance variable will be created."
   ]
  },
  {
   "cell_type": "code",
   "execution_count": 12,
   "metadata": {},
   "outputs": [],
   "source": [
    "class P:\n",
    "    z = \"Hello\"\n",
    "    def set_p(self):\n",
    "        self.x = \"Class P\"\n",
    "    def print_p(self):\n",
    "        print(self.x)\n",
    "\n",
    "class C(P):\n",
    "    def set_c(self):\n",
    "        self.x = \"Class C\"\n",
    "    def print_c(self):\n",
    "        print(self.x)\n",
    "\n",
    "c = C()\n",
    "\n",
    "c.z = \"Bonjour\"\n",
    "\n",
    "assert c.z == \"Bonjour\"  # Accessing class variable through the instance\n",
    "assert C.z == \"Hello\"    # Accessing class variable through the subclass\n",
    "assert P.z == \"Hello\"    # The parent class class variable hasn't changed"
   ]
  },
  {
   "cell_type": "markdown",
   "metadata": {},
   "source": [
    "### Exercise\n",
    "\n",
    "1. Create a base class `Shape` that takes the coordinates of a point `(x, y)` as two individual arguments. Define a method `move(delta_x, delta_y)` that performs the translation of the shape's point.\n",
    "\n",
    "2. Create a `Circle` class that inherits from `Shape`. Include two class variables `pi=3.14.159` and `all_circles`, a list that contains a reference to each of the instances created. The initializer method must optionally accept the radius (default value = 1), and the coordinates x, y, which should be passed to the base class initializer. In the class, define a class method `total_area` which returns the area of all the circles defined. Define also a static method `circle_area` returning the area of a circle of radius `r`.\n",
    "\n",
    "3. Create an instance of `Circle` named `c1` by invoking the default initializer and print the radius, and (x, y) values. Then create another instance `c2` with radius 2, and (x, y) = (1, 1) and print the radius and (x, y) values. Call the `move()` method on `c2` with delta_x = 2 and delta_y = 2. Print, the radius and (x, y) again. Print `Circle.all_circles` and check its contents. Invoke `total_area()`. Invove the static method `circle_area` for the radius of circle c1."
   ]
  },
  {
   "cell_type": "code",
   "execution_count": 14,
   "metadata": {},
   "outputs": [
    {
     "name": "stdout",
     "output_type": "stream",
     "text": [
      "Default circle: c1.radius=1, c1.x=0, c1.y=0\n",
      "Custom init circle: c2.radius=2, c2.x=1, c2.y=1\n",
      "c2: c2.radius=2, c2.x=3, c2.y=3\n",
      "Circle.all_circles=[<__main__.Circle object at 0x7fed5e65b290>, <__main__.Circle object at 0x7fed5e658770>]\n",
      "Circle.total_area()=15.70795\n",
      "Circle.circle_area(c1.radius)=3.14159\n"
     ]
    }
   ],
   "source": [
    "class Shape:\n",
    "    def __init__(self, x, y):\n",
    "        self.x = x\n",
    "        self.y = y\n",
    "\n",
    "    def move(self, delta_x, delta_y):\n",
    "        self.x += delta_x\n",
    "        self.y += delta_y\n",
    "\n",
    "class Circle(Shape):\n",
    "    pi = 3.14159\n",
    "    all_circles = []  # noqa: RUF012\n",
    "\n",
    "    def __init__(self, radius = 1, x = 0, y = 0):\n",
    "        super().__init__(x, y)\n",
    "        self.radius = radius\n",
    "        self.__class__.all_circles.append(self)\n",
    "\n",
    "    @classmethod\n",
    "    def total_area(cls):\n",
    "        result = 0\n",
    "        for circle in cls.all_circles:\n",
    "            result += cls.pi * circle.radius * circle.radius\n",
    "        return result\n",
    "\n",
    "    @staticmethod\n",
    "    def circle_area(radius):\n",
    "        return Circle.pi * radius * radius\n",
    "\n",
    "c1 = Circle()\n",
    "print(f\"Default circle: {c1.radius=}, {c1.x=}, {c1.y=}\")\n",
    "\n",
    "c2 = Circle(2, 1, 1)\n",
    "print(f\"Custom init circle: {c2.radius=}, {c2.x=}, {c2.y=}\")\n",
    "\n",
    "c2.move(2, 2)\n",
    "print(f\"c2: {c2.radius=}, {c2.x=}, {c2.y=}\")\n",
    "\n",
    "print(f\"{Circle.all_circles=}\")\n",
    "assert len(Circle.all_circles) == 2  # noqa: PLR2004\n",
    "assert Circle.all_circles == [c1, c2]\n",
    "\n",
    "print(f\"{Circle.total_area()=}\")\n",
    "print(f\"{Circle.circle_area(c1.radius)=}\")\n"
   ]
  },
  {
   "cell_type": "markdown",
   "metadata": {},
   "source": [
    "## Private variables and private methods\n",
    "\n",
    "A private variable or private method is one that can't be seen outside of the class in which it's defined.\n",
    "\n",
    "A class may define a private variable and inherit from a class that defines a private variable of the same name, but this doesn't cause a problem, because the fact that the variables are private ensures that separate copies of them are kept.\n",
    "\n",
    "In Python, private variables and methods are identified by prefixing them with a double underscore."
   ]
  },
  {
   "cell_type": "code",
   "execution_count": 18,
   "metadata": {},
   "outputs": [
    {
     "name": "stdout",
     "output_type": "stream",
     "text": [
      "2\n",
      "Oops: 'SomeClass' object has no attribute '__y'\n",
      "3\n"
     ]
    }
   ],
   "source": [
    "class SomeClass:\n",
    "    def __init__(self):\n",
    "        self.x = 2\n",
    "        self.__y = 3\n",
    "\n",
    "    def print_y(self):\n",
    "        print(self.__y)\n",
    "\n",
    "obj = SomeClass()\n",
    "print(obj.x)\n",
    "try:\n",
    "    print(obj.__y)  # noqa: SLF001\n",
    "except AttributeError as e:\n",
    "    print(f\"Oops: {e}\")\n",
    "\n",
    "obj.print_y()"
   ]
  },
  {
   "cell_type": "markdown",
   "metadata": {},
   "source": [
    "The way in which Python makes variables and methods private is by mangling its name:"
   ]
  },
  {
   "cell_type": "code",
   "execution_count": 19,
   "metadata": {},
   "outputs": [
    {
     "data": {
      "text/plain": [
       "['_SomeClass__y',\n",
       " '__class__',\n",
       " '__delattr__',\n",
       " '__dict__',\n",
       " '__dir__',\n",
       " '__doc__',\n",
       " '__eq__',\n",
       " '__format__',\n",
       " '__ge__',\n",
       " '__getattribute__',\n",
       " '__getstate__',\n",
       " '__gt__',\n",
       " '__hash__',\n",
       " '__init__',\n",
       " '__init_subclass__',\n",
       " '__le__',\n",
       " '__lt__',\n",
       " '__module__',\n",
       " '__ne__',\n",
       " '__new__',\n",
       " '__reduce__',\n",
       " '__reduce_ex__',\n",
       " '__repr__',\n",
       " '__setattr__',\n",
       " '__sizeof__',\n",
       " '__str__',\n",
       " '__subclasshook__',\n",
       " '__weakref__',\n",
       " 'print_y',\n",
       " 'x']"
      ]
     },
     "execution_count": 19,
     "metadata": {},
     "output_type": "execute_result"
    }
   ],
   "source": [
    "dir(obj)"
   ]
  },
  {
   "cell_type": "code",
   "execution_count": null,
   "metadata": {},
   "outputs": [
    {
     "name": "stdout",
     "output_type": "stream",
     "text": [
      "3\n"
     ]
    }
   ],
   "source": [
    "# Accessing the private instance variable directly\n",
    "print(obj._SomeClass__y)  # noqa: SLF001\n"
   ]
  },
  {
   "cell_type": "markdown",
   "metadata": {},
   "source": [
    "This means that the purpose of prefixing the variables/methods is prevent accidental access &mdash; if someone wanted to, he could deliberately access the mangled library."
   ]
  },
  {
   "cell_type": "markdown",
   "metadata": {},
   "source": [
    "## Using `@property` for more flexible instance variables\n",
    "\n",
    "Python allows direct access to instance variables directly. While this need for getters and setters makes Python classes cleaner, there are situations in which controlling access to instance variables might come in handy.\n",
    "\n",
    "Python provides the `@property` decorator to do so. The name of the decorated method will become the property's name, and the method will become the getter of a read-only property."
   ]
  },
  {
   "cell_type": "code",
   "execution_count": null,
   "metadata": {},
   "outputs": [],
   "source": [
    "class Temperature:\n",
    "    def __init__(self):\n",
    "        self._temp_fahr = 0\n",
    "    @property\n",
    "    def temp(self):\n",
    "        return (self._temp_fahr - 32) * 5 / 9"
   ]
  },
  {
   "cell_type": "markdown",
   "metadata": {},
   "source": [
    "The setter is defined using the `@<property>.setter` decorator:"
   ]
  },
  {
   "cell_type": "code",
   "execution_count": 22,
   "metadata": {},
   "outputs": [
    {
     "name": "stdout",
     "output_type": "stream",
     "text": [
      "t._temp_fahr=0\n",
      "t.temp=-17.77777777777778\n"
     ]
    }
   ],
   "source": [
    "class Temperature:\n",
    "    def __init__(self):\n",
    "        self._temp_fahr = 0\n",
    "\n",
    "    @property\n",
    "    def temp(self):\n",
    "        return (self._temp_fahr - 32) * 5 / 9\n",
    "\n",
    "    @temp.setter\n",
    "    def temp(self, new_temp):  # noqa: ANN202\n",
    "        self._temp_fahr = new_temp * 9 / 5 + 32\n",
    "\n",
    "t = Temperature()\n",
    "print(f\"{t._temp_fahr=}\")  # noqa: SLF001\n",
    "\n",
    "print(f\"{t.temp=}\")"
   ]
  },
  {
   "cell_type": "markdown",
   "metadata": {},
   "source": [
    "### Exercise\n",
    "\n",
    "Create a `Rectangle` class in which the properties for `width` and `height` are private, but those are exposed with `setters` and `getters` that don't allow negative errors."
   ]
  },
  {
   "cell_type": "code",
   "execution_count": 24,
   "metadata": {},
   "outputs": [
    {
     "name": "stdout",
     "output_type": "stream",
     "text": [
      "r.width=4, r.height=2\n",
      "r.width=5, r.height=3\n"
     ]
    }
   ],
   "source": [
    "class Rectangle:\n",
    "    def __init__(self, width, height):\n",
    "        self.__class__.ensure_positive_dimension(\"width\", width)\n",
    "        self.__class__.ensure_positive_dimension(\"height\", height)\n",
    "        self.__width = width\n",
    "        self.__height = height\n",
    "\n",
    "    @property\n",
    "    def width(self):\n",
    "        return self.__width\n",
    "\n",
    "    @width.setter\n",
    "    def width(self, width):\n",
    "        self.__class__.ensure_positive_dimension(\"width\", width)\n",
    "        self.__width = width\n",
    "\n",
    "    @property\n",
    "    def height(self):\n",
    "        return self.__height\n",
    "\n",
    "    @height.setter\n",
    "    def height(self, height):\n",
    "        self.__class__.ensure_positive_dimension(\"height\", height)\n",
    "        self.__height = height\n",
    "\n",
    "    @staticmethod\n",
    "    def ensure_positive_dimension(dimension_str, value):\n",
    "        if value > 0:\n",
    "            return\n",
    "        msg = f\"{dimension_str} must be positive\"\n",
    "        raise ValueError(msg)\n",
    "\n",
    "\n",
    "r = Rectangle(4, 2)\n",
    "print(f\"{r.width=}, {r.height=}\")\n",
    "\n",
    "r.width = 5\n",
    "r.height = 3\n",
    "print(f\"{r.width=}, {r.height=}\")"
   ]
  },
  {
   "cell_type": "markdown",
   "metadata": {},
   "source": [
    "## Scoping rules and namespaces for class instances\n",
    "\n",
    "When you're in a method of a class, you have direct access to:\n",
    "+ the local namespace: parameters and variables defined in the method.\n",
    "+ the global namespace: functions and variables declared at the module level.\n",
    "+ the built-in namespace: built-in functions and exceptions.\n",
    "\n",
    "These are searched in that order: local >> global >> built-in"
   ]
  },
  {
   "cell_type": "markdown",
   "metadata": {},
   "source": [
    "You also have access through the `self` variable to the:\n",
    "+ the instance's namespace: instance variables, private instance variables, and superclass instance's variables.\n",
    "+ the class' namespace: methods, class variables, private methods, and private class variables.\n",
    "+ the superclass' namespaces: superclass methods and superclass class variables.\n",
    "\n",
    "These are searched in that order: instance >> class >> superclass.\n",
    "\n",
    "Private instance variables, private superclass methods "
   ]
  },
  {
   "cell_type": "markdown",
   "metadata": {},
   "source": [
    "## Destructors and memory management\n",
    "\n",
    "Unlike other languages, creating and calling a destructor isn't necessary to ensure that memory used by your instance is freed.\n",
    "\n",
    "Python provides automatic memory management through a reference-counting mechanism. When the count for a given object reaches zero, the memory used by your instance is reclaimed.\n",
    "\n",
    "Occasionally, you might need to deallocate an external resource explicitly when an object is removed. In such cases, you should rely on a context manager:\n",
    "\n",
    "```python\n",
    "with context_manager() as cm:\n",
    "    # ... do something with cm ...\n",
    "\n",
    "# at this point, cm had been deallocated\n",
    "```"
   ]
  },
  {
   "cell_type": "markdown",
   "metadata": {},
   "source": [
    "## Multiple inheritance\n",
    "\n",
    "In Python, a class can inherit from any number of parent classes in the same way that it can inherit from a single parent class. \n",
    "\n",
    "If none of the involved classes, including those inherited indirectly through a parent class, contains instance variables or methods of the same name, the inherited class behaves like a synthesis of its own definitions and all of its ancestors' definitions.\n",
    "\n",
    "In the event that some of the classes share method names, Python searches base classes when looking for a method not defined in the original class on which the method was invoked, in left-to-right order, and looking through all of the ancestor classes of a base class before looking in the next base class.\n",
    "\n",
    "The recommendation is to stick to the more standard uses of multiple inheritance, as in the creation of mixin or addin classes, to favor readability avoiding name clashes."
   ]
  },
  {
   "cell_type": "markdown",
   "metadata": {},
   "source": [
    "### Exercise: class hierarchy to build HTML document\n",
    "\n",
    "Create a hierarchy of classes that could be used to generate an HTML page just by calling the `__str__()` method so that the following code:\n",
    "\n",
    "```python\n",
    "para = p(text=\"this is some body text wrapped in a paragraph\")\n",
    "doc_body = body(text=\"This is the body\", subelement=para)\n",
    "doc = html(subelement=doc_body)\n",
    "print(doc)\n",
    "```\n",
    "\n",
    "Should generate::\n",
    "\n",
    "```html\n",
    "<html>\n",
    "    <body>\n",
    "        This is the body\n",
    "        <p>\n",
    "            This is some body text wrapped in a paragraph\n",
    "        </p>\n",
    "    </body>\n",
    "</html>\n",
    "```"
   ]
  },
  {
   "cell_type": "markdown",
   "metadata": {},
   "source": [
    "The approach described above is a bit sortsighted. Instead of using a single `subelement` and optionally a text can be enhanced to support any number of children elements. That way, the body, which has both some inner text and a paragraph, can be easily accommodated.\n",
    "\n",
    "The resulting classes are as follows."
   ]
  },
  {
   "cell_type": "code",
   "execution_count": null,
   "metadata": {},
   "outputs": [
    {
     "data": {
      "text/plain": [
       "'<html><body>This is the body<p>This is some body text wrapped in a paragraph</p></body></html>'"
      ]
     },
     "execution_count": 12,
     "metadata": {},
     "output_type": "execute_result"
    }
   ],
   "source": [
    "class HtmlElement:\n",
    "    def __init__(self, tag: str, children: list[\"HtmlElement\"] | None = None):\n",
    "        self.tag = tag\n",
    "        self.children = children\n",
    "\n",
    "    def __str__(self) -> str:\n",
    "        \"\"\"User oriented representation of the object.\"\"\"\n",
    "        result_str = f\"<{self.tag}>\"\n",
    "        for child in self.children:\n",
    "            result_str += str(child)\n",
    "        result_str += f\"</{self.tag}>\"\n",
    "        return result_str\n",
    "\n",
    "\n",
    "class InnerText(HtmlElement):\n",
    "    def __init__(self, text: str):\n",
    "        super().__init__(tag=None, children=None)\n",
    "        self.text = text\n",
    "\n",
    "    def __str__(self):\n",
    "        \"\"\"User oriented representation of the instance.\"\"\"\n",
    "        return self.text\n",
    "\n",
    "class ParaTag(HtmlElement):\n",
    "    def __init__(self, children):\n",
    "        super().__init__(tag=\"p\", children = children)\n",
    "\n",
    "class BodyTag(HtmlElement):\n",
    "    def __init__(self, children):\n",
    "        super().__init__(tag=\"body\", children=children)\n",
    "\n",
    "class HtmlTag(HtmlElement):\n",
    "    def __init__(self, children):\n",
    "        super().__init__(tag=\"html\", children=children)\n",
    "\n",
    "para_inner_text = InnerText(\"This is some body text wrapped in a paragraph\")\n",
    "para = ParaTag(children=[para_inner_text])\n",
    "\n",
    "body_inner_text = InnerText(\"This is the body\")\n",
    "body = BodyTag(children=[body_inner_text, para])\n",
    "\n",
    "html = HtmlTag(children=[body])\n",
    "\n",
    "str(html)"
   ]
  }
 ],
 "metadata": {
  "kernelspec": {
   "display_name": ".venv",
   "language": "python",
   "name": "python3"
  },
  "language_info": {
   "codemirror_mode": {
    "name": "ipython",
    "version": 3
   },
   "file_extension": ".py",
   "mimetype": "text/x-python",
   "name": "python",
   "nbconvert_exporter": "python",
   "pygments_lexer": "ipython3",
   "version": "3.12.7"
  }
 },
 "nbformat": 4,
 "nbformat_minor": 2
}
