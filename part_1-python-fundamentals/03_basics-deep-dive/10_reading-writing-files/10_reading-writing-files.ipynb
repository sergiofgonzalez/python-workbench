{
 "cells": [
  {
   "cell_type": "markdown",
   "metadata": {},
   "source": [
    "# Reading and Writing Files\n",
    "\n",
    "This chapter is about reading and writing files of different types.\n",
    "\n",
    "To understand how to interact with the filesystem to do things such as: creating, moving, referring to files..., see [09: Filesystem](../09_filesystem/09_filesystem.ipynb)."
   ]
  },
  {
   "cell_type": "markdown",
   "metadata": {},
   "source": [
    "## Opening files and file objects\n",
    "\n",
    "In Python, you open and read a file using the built-in `open` function and various built-in reading operations.\n",
    "\n",
    "Python uses the `file` object return by `open` to keep track of a file and expose file operations.\n",
    "\n",
    "For example, the following snippet reads in one line from a text file named `myfile`:"
   ]
  },
  {
   "cell_type": "code",
   "execution_count": 2,
   "metadata": {},
   "outputs": [
    {
     "data": {
      "text/plain": [
       "'This is some text written to 01_myfile.txt.'"
      ]
     },
     "execution_count": 2,
     "metadata": {},
     "output_type": "execute_result"
    }
   ],
   "source": [
    "from pathlib import Path\n",
    "\n",
    "myfile_path = Path.cwd() / \"sample_files\" / \"01_myfile.txt\"\n",
    "\n",
    "with open(myfile_path, \"r\") as file_obj:\n",
    "    line = file_obj.readline()\n",
    "\n",
    "line"
   ]
  },
  {
   "cell_type": "markdown",
   "metadata": {},
   "source": [
    "Note that the first argument to `open` is a pathname. You could have used `\"./samples_files/01_myfile.txt\"` or `os.path.join(os.path.cwd(), \"sample_files\", \"01_myfile.txt\")`.\n",
    "\n",
    "The second argument of the `open` command is a string denoting how the file should be opened, with `\"r\"` meaning that you want to open the file for reading.\n",
    "\n",
    "Also, `open()` supports the `with` keyword, which indicates that the file is opened with a context manager, which ensures resources will be properly handled.\n",
    "\n",
    "With the `file_obj` in place, we call `readline()` which reads and returns the first line on the file object, that is, everything up to and including the newline character.\n",
    "\n",
    "The next call to `readline()` will return the second line, if it exists, and so on."
   ]
  },
  {
   "cell_type": "markdown",
   "metadata": {},
   "source": [
    "## Closing files\n",
    "\n",
    "A file must be closed after all the data has been read from or written to a `file` object. Closing a file allows the underlying file to be read or written to by other code.\n",
    "\n",
    "You close a `file` by using the `close` method when the `file` object is no longer needed."
   ]
  },
  {
   "cell_type": "code",
   "execution_count": 3,
   "metadata": {},
   "outputs": [],
   "source": [
    "from pathlib import Path\n",
    "\n",
    "myfile_path = Path.cwd() / \"sample_files\" / \"01_myfile.txt\"\n",
    "\n",
    "file_obj = open(myfile_path, \"r\")\n",
    "line = file_obj.readline()\n",
    "file_obj.close()"
   ]
  },
  {
   "cell_type": "markdown",
   "metadata": {},
   "source": [
    "When using the `with` keyword, which automatically invokes a context manager, automatically closes the file when it is no longer needed."
   ]
  },
  {
   "cell_type": "code",
   "execution_count": 4,
   "metadata": {},
   "outputs": [],
   "source": [
    "from pathlib import Path\n",
    "\n",
    "myfile_path = Path.cwd() / \"sample_files\" / \"01_myfile.txt\"\n",
    "\n",
    "with open(myfile_path, \"r\") as file_obj:\n",
    "    line = file_obj.readline()"
   ]
  },
  {
   "cell_type": "markdown",
   "metadata": {},
   "source": [
    "## Opening the file in write or other modes\n",
    "\n",
    "The most common second arguments that you pass to `open()` function to indicate how you want the file to be opened are:\n",
    "\n",
    "+ `r` &mdash; open the file for reading.\n",
    "+ `w` &mdash; open the file for writing, erasing its previous content.\n",
    "+ `a` &mdash; open the file for appending."
   ]
  },
  {
   "cell_type": "markdown",
   "metadata": {},
   "source": [
    "The following snippet, writes a message into a file, erasing its previous content:"
   ]
  },
  {
   "cell_type": "code",
   "execution_count": 5,
   "metadata": {},
   "outputs": [],
   "source": [
    "from pathlib import Path\n",
    "\n",
    "myfile_path = Path.cwd() / \"sample_files\" / \"02_hello.txt\"\n",
    "\n",
    "file_obj = open(myfile_path, \"w\")\n",
    "file_obj.write(\"Hello, world!\")\n",
    "file_obj.close()"
   ]
  },
  {
   "cell_type": "markdown",
   "metadata": {},
   "source": [
    "Depending on the OS, `open` may also have access to additional file modes.\n",
    "\n",
    "Additionally, `open` can take an optional third argument which defines how reads or writes for that file are buffered and flushed to disk.\n",
    "\n",
    "Other parameters control the encoding for text files, the handling of newline characters in text files, etc."
   ]
  },
  {
   "cell_type": "markdown",
   "metadata": {},
   "source": [
    "## Functions to read and write text or binary data\n",
    "\n",
    "The function `File.readline()` reads and returns a single line from a `File` object, including any newline character on the end of the line.\n",
    "\n",
    "When there's nothing more to be read from the `file`, `readline()` returns an empty string.\n",
    "\n",
    "The following example counts the lines on a file."
   ]
  },
  {
   "cell_type": "code",
   "execution_count": 6,
   "metadata": {},
   "outputs": [
    {
     "name": "stdout",
     "output_type": "stream",
     "text": [
      "3 line(s) in the file.\n"
     ]
    }
   ],
   "source": [
    "from pathlib import Path\n",
    "\n",
    "base_path = Path.cwd() / \"sample_files\"\n",
    "\n",
    "file_obj = open(base_path / \"03_count_lines_linux.txt\", \"r\")\n",
    "count = 0\n",
    "while file_obj.readline() != \"\":\n",
    "    count += 1\n",
    "file_obj.close()\n",
    "print(f\"{count} line(s) in the file.\")"
   ]
  },
  {
   "cell_type": "code",
   "execution_count": 7,
   "metadata": {},
   "outputs": [
    {
     "name": "stdout",
     "output_type": "stream",
     "text": [
      "3 line(s) in the file.\n"
     ]
    }
   ],
   "source": [
    "base_path = Path.cwd() / \"sample_files\"\n",
    "\n",
    "file_obj = open(base_path / \"04_count_lines.txt\", \"r\")\n",
    "count = 0\n",
    "while file_obj.readline() != \"\":\n",
    "    count += 1\n",
    "file_obj.close()\n",
    "print(f\"{count} line(s) in the file.\")"
   ]
  },
  {
   "cell_type": "markdown",
   "metadata": {},
   "source": [
    "Note how the program doesn not recognize the final `\"\\n<EOF>\"` found in Linux files as a data line."
   ]
  },
  {
   "cell_type": "markdown",
   "metadata": {},
   "source": [
    "The method `File.readlines()` reads all the lines in a file and returns them as a list of strings, one string per line, with trailing newlines included:"
   ]
  },
  {
   "cell_type": "code",
   "execution_count": 8,
   "metadata": {},
   "outputs": [
    {
     "name": "stdout",
     "output_type": "stream",
     "text": [
      "3 line(s) in the file.\n"
     ]
    }
   ],
   "source": [
    "from pathlib import Path\n",
    "\n",
    "base_path = Path.cwd() / \"sample_files\"\n",
    "\n",
    "file_obj = open(base_path / \"03_count_lines_linux.txt\", \"r\")\n",
    "lines = file_obj.readlines()\n",
    "file_obj.close()\n",
    "print(f\"{len(lines)} line(s) in the file.\")"
   ]
  },
  {
   "cell_type": "markdown",
   "metadata": {},
   "source": [
    "See how the final `\"\\n<EOF>\"` is not included.\n",
    "\n",
    "Because `File.readlines()` materializes all the file contents in a list, it is not appropriate for large files."
   ]
  },
  {
   "cell_type": "markdown",
   "metadata": {},
   "source": [
    "Another great way to iterate over all the lines of a text file is to treat the `file` object returned by `open()` as an iterator:"
   ]
  },
  {
   "cell_type": "code",
   "execution_count": 9,
   "metadata": {},
   "outputs": [
    {
     "name": "stdout",
     "output_type": "stream",
     "text": [
      "3 line(s) in the file.\n"
     ]
    }
   ],
   "source": [
    "from pathlib import Path\n",
    "\n",
    "base_path = Path.cwd() / \"sample_files\"\n",
    "\n",
    "file_obj = open(base_path / \"03_count_lines_linux.txt\", \"r\")\n",
    "count = 0\n",
    "for line in file_obj:\n",
    "    count += 1\n",
    "print(f\"{count} line(s) in the file.\")"
   ]
  },
  {
   "cell_type": "markdown",
   "metadata": {},
   "source": [
    "### Platform-dependent line endings\n",
    "\n",
    "A possible problem with reading text files is that the lines may be terminated by different characters, depending on the OS they were created in.\n",
    "\n",
    "In Macs, default line ending in `\\r`, whereas in Windows systems it is `\\r\\n`.\n",
    "\n",
    "By default, Python normalizes the lines read from files translating line endings to `\\n`.\n",
    "\n",
    "This might create a problem if those lines are then written to another text file, because the target file won't be using the OS' default line endings.\n",
    "\n",
    "Python allows you to tailor the behavior by using using the `newline` parameter and specifying it to be `\\r`, `\\r\\n`, or `\\n`.\n",
    "\n",
    "For example, the following snippet forces only `\\n` to be used as a newline.\n",
    "\n",
    "```python\n",
    "input_file = open(\"myfile\", newline=\"\\n\")\n",
    "```\n",
    "\n",
    "Passing `newline=\"\"` will accept all of the various options as line endings and will return whatever was used in the file with no translation."
   ]
  },
  {
   "cell_type": "code",
   "execution_count": 23,
   "metadata": {},
   "outputs": [
    {
     "name": "stdout",
     "output_type": "stream",
     "text": [
      "This is windows line, which ends in cr-lf, instead of only newline\n",
      "e\n",
      "n\n"
     ]
    }
   ],
   "source": [
    "from pathlib import Path\n",
    "\n",
    "base_path = Path.cwd() / \"sample_files\"\n",
    "\n",
    "file_obj = open(\n",
    "    base_path / \"05_winfile.txt\",\n",
    "    \"r\",\n",
    "    newline=\"\")\n",
    "line = file_obj.readline()\n",
    "file_obj.close()\n",
    "\n",
    "print(line)\n",
    "print(line[-1])\n",
    "print(line[-2])"
   ]
  },
  {
   "cell_type": "markdown",
   "metadata": {},
   "source": [
    "Note that those characters are not present in the object returned by `readline()`."
   ]
  },
  {
   "cell_type": "markdown",
   "metadata": {},
   "source": [
    "The write methods that correspond to `File.readline()` and `File.readlines()` are `File.write()` and `File.writelines()`.\n",
    "\n",
    "`File.write()` can span multiple lines if newline characters are embedded within the string:"
   ]
  },
  {
   "cell_type": "code",
   "execution_count": 15,
   "metadata": {},
   "outputs": [],
   "source": [
    "from pathlib import Path\n",
    "\n",
    "base_path = Path.cwd() / \"sample_files\"\n",
    "\n",
    "file_obj = open(base_path / \"06_foobar.txt\", \"w\")\n",
    "file_obj.write(\"foo\\nbar\\nfoobar\")\n",
    "file_obj.close()\n"
   ]
  },
  {
   "cell_type": "markdown",
   "metadata": {},
   "source": [
    "See how a final `\"\\n\"` is not automatically appended to the file. If you want the file to terminate on a `\\n<EOF>` you must terminate the string yourself with a `\\n`."
   ]
  },
  {
   "cell_type": "markdown",
   "metadata": {},
   "source": [
    "`File.writelines()` takes a list of strings as an argument and writes them, one after the other, to the given `file` object without writing newlines.\n",
    "\n",
    "If the strings in the list end with newlines, they're written as lines, otherwise, they'll be just concatenated in the file.\n"
   ]
  },
  {
   "cell_type": "code",
   "execution_count": 18,
   "metadata": {},
   "outputs": [],
   "source": [
    "from pathlib import Path\n",
    "\n",
    "base_path = Path.cwd() / \"sample_files\"\n",
    "\n",
    "file_obj = open(base_path / \"07_lines.txt\", \"w\")\n",
    "strs = [\"string1\", \"string2\", \"string3\"]\n",
    "file_obj.writelines(strs)\n",
    "file_obj.close()\n"
   ]
  },
  {
   "cell_type": "markdown",
   "metadata": {},
   "source": [
    "\n",
    "The following example illustrates how `writelines()` is the counterpart of `readlines()` in the sense that it can handle the list returned by `readlines()` to create an identical file to the given one."
   ]
  },
  {
   "cell_type": "code",
   "execution_count": 20,
   "metadata": {},
   "outputs": [],
   "source": [
    "from pathlib import Path\n",
    "\n",
    "base_path = Path.cwd() / \"sample_files\"\n",
    "\n",
    "infile = open(base_path / \"08_src-file.txt\", \"r\")\n",
    "lines = infile.readlines()\n",
    "infile.close()\n",
    "\n",
    "outfile = open(base_path / \"09_dst-file.txt\", \"w\")\n",
    "outfile.writelines(lines)\n",
    "outfile.close()"
   ]
  },
  {
   "cell_type": "markdown",
   "metadata": {},
   "source": [
    "## Dealing with binary files\n",
    "\n",
    "On some occasions, you may want to read all the data in a file into a single `bytes` object, especially if the data in the file isn't a string.\n",
    "\n",
    "You might find two use cases:\n",
    "+ read all the file contents into memory and treat it as a bytes sequence.\n",
    "+ read a portion of the data file in a `bytes` object of a fixed size.\n",
    "\n",
    "### A quick intro about `bytes`\n",
    "\n",
    "A `bytes` object is an immutable sequence of integers whose values range from 0 to 255. They're especially useful when dealing with binary data such as when reading from and writing to a binary data files.\n",
    "\n",
    "You can transform a Unicode string to a `bytes` object with `string.encode()`.\n",
    "\n",
    "Similarly, the `bytes.decode()` method converts a `bytes` object to the corresponding string representation.\n",
    "\n",
    "### Reading files in binary mode with `rb`\n",
    "\n",
    "To open a file for reading in binary mode, use `rb`. Then, you can use the `File.read()` method.\n",
    "\n",
    "The `File.read()` method reads all of a file from the current position and returns that data as a `bytes` object.\n",
    "\n",
    "If you pass an integer number `File.read(n)` it reads that number of bytes from the file (or less, if there isn't enough data in the file to satisfy the request) and returns a `bytes` object of the given size:\n"
   ]
  },
  {
   "cell_type": "code",
   "execution_count": 24,
   "metadata": {},
   "outputs": [
    {
     "name": "stdout",
     "output_type": "stream",
     "text": [
      "b'This'\n",
      "b'ne'\n"
     ]
    }
   ],
   "source": [
    "from pathlib import Path\n",
    "\n",
    "base_path = Path.cwd() / \"sample_files\"\n",
    "\n",
    "infile = open(base_path / \"05_winfile.txt\", \"rb\")\n",
    "data_4_bytes = infile.read(4)\n",
    "remaining_data = infile.read()\n",
    "infile.close()\n",
    "\n",
    "print(data_4_bytes)\n",
    "print(remaining_data[-2:])\n"
   ]
  },
  {
   "cell_type": "markdown",
   "metadata": {},
   "source": [
    "`File.write()` method is the counterpart of `File.read()`:"
   ]
  },
  {
   "cell_type": "code",
   "execution_count": 28,
   "metadata": {},
   "outputs": [],
   "source": [
    "from pathlib import Path\n",
    "\n",
    "base_path = Path.cwd() / \"sample_files\"\n",
    "\n",
    "file = open(base_path / \"10_binfile.txt\", \"wb\")\n",
    "bytes = \"foobar\".encode()\n",
    "bytes += \"\\r\\n\".encode()\n",
    "file.write(bytes)\n",
    "file.close()\n"
   ]
  },
  {
   "cell_type": "markdown",
   "metadata": {},
   "source": [
    "## Reading and writing files with `pathlib`\n",
    "\n",
    "`pathlib` exposes methods to read and write text and binary files. This can be quite convenient as you don't need to open or close the files. However, `pathlib` doesn't allow you to append data to an existing file &mdash; write operations will always erase the existing content:"
   ]
  },
  {
   "cell_type": "code",
   "execution_count": 29,
   "metadata": {},
   "outputs": [
    {
     "data": {
      "text/plain": [
       "'foo\\nbar\\nfoobar\\n'"
      ]
     },
     "execution_count": 29,
     "metadata": {},
     "output_type": "execute_result"
    }
   ],
   "source": [
    "from pathlib import Path\n",
    "\n",
    "base_path = Path.cwd() / \"sample_files\"\n",
    "p_text = base_path / \"11_pathlibfile.txt\"\n",
    "p_text.write_text(\"foo\\nbar\\nfoobar\\n\")\n",
    "\n",
    "p_text.read_text()"
   ]
  },
  {
   "cell_type": "code",
   "execution_count": 30,
   "metadata": {},
   "outputs": [
    {
     "data": {
      "text/plain": [
       "b'foo\\nbar\\nfoobar\\n'"
      ]
     },
     "execution_count": 30,
     "metadata": {},
     "output_type": "execute_result"
    }
   ],
   "source": [
    "from pathlib import Path\n",
    "\n",
    "base_path = Path.cwd() / \"sample_files\"\n",
    "p_bin = base_path / \"12_pathlibfile.bin\"\n",
    "p_bin.write_bytes(b\"foo\\nbar\\nfoobar\\n\")\n",
    "\n",
    "p_bin.read_bytes()"
   ]
  },
  {
   "cell_type": "markdown",
   "metadata": {},
   "source": [
    "## Terminal input/output and redirection\n",
    "\n",
    "The built-in `input()` function to prompt for and read an input string from the command-line:"
   ]
  },
  {
   "cell_type": "code",
   "execution_count": 31,
   "metadata": {},
   "outputs": [
    {
     "name": "stdout",
     "output_type": "stream",
     "text": [
      "root file will be deleted!\n"
     ]
    }
   ],
   "source": [
    "user_input = input(\"Enter the filename to delete:\")\n",
    "print(f\"{user_input} file will be deleted!\")"
   ]
  },
  {
   "cell_type": "markdown",
   "metadata": {},
   "source": [
    "The user's input is terminated by pressing the Enter key, but the newline at the end of the input line is stripped off."
   ]
  },
  {
   "cell_type": "markdown",
   "metadata": {},
   "source": [
    "`input()` always returns a string, so you'll be responsible for casting the string into the appropriate type as needed:"
   ]
  },
  {
   "cell_type": "code",
   "execution_count": 32,
   "metadata": {},
   "outputs": [
    {
     "name": "stdout",
     "output_type": "stream",
     "text": [
      "x=50; type=<class 'int'>\n"
     ]
    }
   ],
   "source": [
    "x = int(input(\"Enter your age:\"))\n",
    "print(f\"{x=}; type={type(x)}\")"
   ]
  },
  {
   "cell_type": "markdown",
   "metadata": {},
   "source": [
    "`input()` reads from stdin and writes to stdout."
   ]
  },
  {
   "cell_type": "markdown",
   "metadata": {},
   "source": [
    "Lower-level access to stdin, stdout, and stderr can be obtained by using the `sys` module through the `sys.stdin`, `sys.stdout`, and `sys.stderr` attributes.\n",
    "\n",
    "Those attributes can be treated as *special* `file` object and use the already seen `File` methods.\n",
    "\n",
    "For example, you can use `readline()` on `sys.stdin`. Similarly, you can use the `write()` method on `sys.stdout` and `sys.stderr`.\n",
    "\n",
    "```python\n",
    "import sys\n",
    "\n",
    "print(\"Enter your name:\", end=\" \")\n",
    "user_input = sys.stdin.readline()\n",
    "\n",
    "sys.stdout.write(f\"User input was {user_input}\\n\")\n",
    "```"
   ]
  },
  {
   "cell_type": "markdown",
   "metadata": {},
   "source": [
    "You can redirect standard input to read from file, and standard output to write to a file.\n",
    "\n",
    "You can reset once you're done to their original values using `sys.__stdin__`, `sys.__stdout__`, and `sys.__stderr__`."
   ]
  },
  {
   "cell_type": "code",
   "execution_count": 36,
   "metadata": {},
   "outputs": [],
   "source": [
    "import sys\n",
    "from pathlib import Path\n",
    "\n",
    "base_path = Path.cwd() / \"sample_files\"\n",
    "infile = open(base_path / \"13_input.txt\", \"r\")\n",
    "sys.stdin = infile\n",
    "\n",
    "name = sys.stdin.readline()\n",
    "age = int(sys.stdin.readline())\n",
    "\n",
    "outfile = open(base_path / \"14_output.txt\", \"w\")\n",
    "sys.stdout = outfile\n",
    "sys.stdout.write(f\"The name was {name.strip()}, with {age} years old\\n\")\n",
    "print(\"That was what the user typed\")\n",
    "\n",
    "sys.stdin = sys.__stdin__\n",
    "sys.stdout = sys.__stdout__\n",
    "\n",
    "infile.close()\n",
    "outfile.close()\n"
   ]
  },
  {
   "cell_type": "markdown",
   "metadata": {},
   "source": [
    "Redirecting the output of `print()` can be useful, since `print()` has a simpler and more familiar syntax.\n",
    "\n",
    "You can use that technique to temporarily redirect standard output to a file to capture what would otherwise be sent to the terminal, and possibly lost off the screen."
   ]
  },
  {
   "cell_type": "markdown",
   "metadata": {},
   "source": [
    "## Handling structured binary data with the `struct` module\n",
    "\n",
    "For sophisticated applications, Python provides the ability to easily read and write arbitrary binary data generated by external programs.\n",
    "\n",
    "| NOTE: |\n",
    "| :---- |\n",
    "| To read/write Python objects written to file, use [pickling](#pickling-python-objects-to-files) instead of `struct`. |\n",
    "\n",
    "This is done using the `struct` module.\n",
    "\n",
    "To use it, you start by defining a *format string* understandable to the `struct` module. This will tell `struct` how the records are packed in the file.\n",
    "\n",
    "For example:\n",
    "+ `h` &mdash; presence of a single C short integer.\n",
    "+ `d` &mdash; presence of a single double precising floating point number.\n",
    "+ `s` &mdash; presence of a string.\n",
    "\n",
    "Any of these characters can be preceded by an int to indicate the number of values. For example, `7s` indicates a string of seven characters.\n",
    "\n",
    "As a result, the string `\"hd7s\"` indicates a short, followed by a double, followed by a seven-char long string."
   ]
  },
  {
   "cell_type": "markdown",
   "metadata": {},
   "source": [
    "The function `struct.pack()` can take Python values and transform them to their corresponding byte sequences to satisfy the given format string:"
   ]
  },
  {
   "cell_type": "code",
   "execution_count": 38,
   "metadata": {},
   "outputs": [
    {
     "data": {
      "text/plain": [
       "b'*\\x00\\x00\\x00\\x00\\x00\\x00\\x00\\x1f\\x85\\xebQ\\xb8\\x1e\\t@goodbye'"
      ]
     },
     "execution_count": 38,
     "metadata": {},
     "output_type": "execute_result"
    }
   ],
   "source": [
    "import struct\n",
    "from pathlib import Path\n",
    "\n",
    "record_format = \"hd7s\"\n",
    "data_record = struct.pack(record_format, 42, 3.14, b\"goodbye\")\n",
    "\n",
    "base_path = Path.cwd() / \"sample_files\"\n",
    "outfile = open(base_path / \"15_struct.bin\", \"wb\")\n",
    "\n",
    "outfile.write(data_record)\n",
    "outfile.close()\n",
    "\n",
    "data_record"
   ]
  },
  {
   "cell_type": "markdown",
   "metadata": {},
   "source": [
    "To read from a binary file created by an external program, you need to know how many bytes you need to read at a time.\n",
    "\n",
    "`struct` includes a `calcsize`, which takes your format string as an argument and returns the number of bytes used to contain data in such format.\n",
    "\n",
    "Then, `struct.unpack()` is used to parsed a read record and get a Python representation of the data record in a tuple:"
   ]
  },
  {
   "cell_type": "code",
   "execution_count": 2,
   "metadata": {},
   "outputs": [
    {
     "name": "stdout",
     "output_type": "stream",
     "text": [
      "[(42, 3.14, b'goodbye')]\n"
     ]
    }
   ],
   "source": [
    "import struct\n",
    "from pathlib import Path\n",
    "\n",
    "\n",
    "record_format = \"hd7s\"\n",
    "record_size = struct.calcsize(record_format)\n",
    "records = []\n",
    "\n",
    "base_path = Path.cwd() / \"sample_files\"\n",
    "with open(base_path / \"15_struct.bin\", \"rb\") as infile:\n",
    "    while True:\n",
    "        record = infile.read(record_size)\n",
    "        if not record:\n",
    "            break\n",
    "        records.append(struct.unpack(record_format, record))\n",
    "\n",
    "print(records)"
   ]
  },
  {
   "cell_type": "markdown",
   "metadata": {},
   "source": [
    "Note that `File.read()` will return an empty record if you're at the end of the file.\n",
    "\n",
    "If `struct.unpack()` receives an incorrect data record, the function will raise an error."
   ]
  },
  {
   "cell_type": "markdown",
   "metadata": {},
   "source": [
    "The `struct` module lets you configure whether the data should be read in big-endian/little-endian/machine-native-endian format."
   ]
  },
  {
   "cell_type": "markdown",
   "metadata": {},
   "source": [
    "## Pickling Python objects to files\n",
    "\n",
    "Python can write any data structure into a file, read that data structure back out of a file, and materialize it in your program via the `pickle` module.\n",
    "\n",
    "| NOTE: |\n",
    "| :---- |\n",
    "| To read/write information from arbitrary binary files, use [`struct`](#handling-structured-binary-data-with-the-struct-module) instead of `pickle`. |\n",
    "\n",
    "\n",
    "Pickling is the process whereby a Python object hierarchy is converted into a byte stream, and unpickling is the inverse operation, whereby a byte stream is converted back into an object hierarchy."
   ]
  },
  {
   "cell_type": "code",
   "execution_count": 6,
   "metadata": {},
   "outputs": [],
   "source": [
    "import pickle\n",
    "from pathlib import Path\n",
    "\n",
    "a = 42\n",
    "b = 3.14\n",
    "c = \"test\"\n",
    "\n",
    "\n",
    "base_path = Path.cwd() / \"sample_files\"\n",
    "with open(base_path / \"16_python.bin\", \"wb\") as outfile:\n",
    "    pickle.dump(a, outfile)\n",
    "    pickle.dump(b, outfile)\n",
    "    pickle.dump(c, outfile)"
   ]
  },
  {
   "cell_type": "markdown",
   "metadata": {},
   "source": [
    "To unpickle the file you use the `pickle.load()`:"
   ]
  },
  {
   "cell_type": "code",
   "execution_count": 7,
   "metadata": {},
   "outputs": [
    {
     "name": "stdout",
     "output_type": "stream",
     "text": [
      "a=42 b=3.14 c='test'\n"
     ]
    }
   ],
   "source": [
    "import pickle\n",
    "from pathlib import Path\n",
    "\n",
    "base_path = Path.cwd() / \"sample_files\"\n",
    "with open(base_path / \"16_python.bin\", \"rb\") as infile:\n",
    "    a = pickle.load(infile)\n",
    "    b = pickle.load(infile)\n",
    "    c = pickle.load(infile)\n",
    "\n",
    "print(f\"{a=} {b=} {c=!r}\")\n"
   ]
  },
  {
   "cell_type": "markdown",
   "metadata": {},
   "source": [
    "The `pickle` module can handle lists, tuples, numbers, strings, dictionaries, and any object made of these types of objects, including class instances.\n",
    "\n",
    "It also handles shared objects, cyclic references, and other complex memory structures correctly.\n",
    "\n",
    "However, code objects and system resources such as files and sockets can't be pickled."
   ]
  },
  {
   "cell_type": "markdown",
   "metadata": {},
   "source": [
    "### Reasons not to pickle\n",
    "\n",
    "+ Pickling is neither particularly fast nor space-efficient as a means of serialization. Using JSON to store serialized objects is faster and results in smaller files on disk.\n",
    "\n",
    "+ Pickling isn't secure, and loading a pickle with malicious content can result in the execution of arbitrary code on your machine. You should avoid pickling if there's a change that the pickle file will be accessible to anyone who might alter it."
   ]
  },
  {
   "cell_type": "markdown",
   "metadata": {},
   "source": [
    "## Shelving objects\n",
    "\n",
    "You can think of a `shelve` object as being a dictionary that store its data in a file on disk rather than in memory. This allows you to overcome any memory limitations your system might have."
   ]
  },
  {
   "cell_type": "markdown",
   "metadata": {},
   "source": [
    "Let's explore the `shelve` method with an example of an address book.\n",
    "\n",
    "Each entry of the address book consists of a tuple of three elements, the first name, phone number, and address all of them indexed by the last name of the person.\n",
    "\n",
    "Let's start by creating the addresses book file using the `shelve` module."
   ]
  },
  {
   "cell_type": "code",
   "execution_count": 13,
   "metadata": {},
   "outputs": [],
   "source": [
    "import shelve\n",
    "from pathlib import Path\n",
    "\n",
    "base_path = Path.cwd() / \"sample_files\"\n",
    "\n",
    "\n",
    "book = shelve.open(base_path / \"17_addresses\")"
   ]
  },
  {
   "cell_type": "markdown",
   "metadata": {},
   "source": [
    "With the `book` object created, we can start adding entries.\n",
    "\n",
    "The `book` object is similar to a dictionary, but the keys must be strings:"
   ]
  },
  {
   "cell_type": "code",
   "execution_count": 14,
   "metadata": {},
   "outputs": [],
   "source": [
    "book[\"pugh\"] = (\"florence\", \"555-1234\", \"123 Hollywood blvd\")\n",
    "book[\"isaacs\"] = (\"jason\", \"123-456\", \"456 Main st.\")"
   ]
  },
  {
   "cell_type": "markdown",
   "metadata": {},
   "source": [
    "Once you're done with the `book` you can close the file and end the session:"
   ]
  },
  {
   "cell_type": "code",
   "execution_count": 15,
   "metadata": {},
   "outputs": [],
   "source": [
    "book.close()"
   ]
  },
  {
   "cell_type": "markdown",
   "metadata": {},
   "source": [
    "Then, we can open the same address book again:"
   ]
  },
  {
   "cell_type": "code",
   "execution_count": 16,
   "metadata": {},
   "outputs": [],
   "source": [
    "import shelve\n",
    "from pathlib import Path\n",
    "\n",
    "base_path = Path.cwd() / \"sample_files\"\n",
    "\n",
    "\n",
    "book = shelve.open(base_path / \"17_addresses\")"
   ]
  },
  {
   "cell_type": "markdown",
   "metadata": {},
   "source": [
    "And we can retrive data from the `book` object as if it were a dictionary:"
   ]
  },
  {
   "cell_type": "code",
   "execution_count": 17,
   "metadata": {},
   "outputs": [
    {
     "data": {
      "text/plain": [
       "('jason', '123-456', '456 Main st.')"
      ]
     },
     "execution_count": 17,
     "metadata": {},
     "output_type": "execute_result"
    }
   ],
   "source": [
    "book[\"isaacs\"]"
   ]
  },
  {
   "cell_type": "markdown",
   "metadata": {},
   "source": [
    "As you can see, the addresses file created by `shelve.open()` behave as a persistent dictionary.\n",
    "\n",
    "More generally, `shelve.open` returns a `shelf` object that permits basic dictionary operations such as key assignment, lookup, `del`, `in`, and the `keys` method.\n",
    "\n",
    "The main restriction of `shelf` objects is that their keys have to be strings.\n",
    "\n",
    "It's also important to understand that `shelf` objects are not materialized into memory. Instead, only the needed information is brought into memory, and the rest remains in disk.\n",
    "\n",
    "Additionally, they provide no control for concurrent access, so `shelf` objects are not appropriate for multiuser databases. Similarly, you might find that while lookups are very fast, adding and updating keys can be quite slow."
   ]
  }
 ],
 "metadata": {
  "kernelspec": {
   "display_name": ".venv",
   "language": "python",
   "name": "python3"
  },
  "language_info": {
   "codemirror_mode": {
    "name": "ipython",
    "version": 3
   },
   "file_extension": ".py",
   "mimetype": "text/x-python",
   "name": "python",
   "nbconvert_exporter": "python",
   "pygments_lexer": "ipython3",
   "version": "3.12.5"
  }
 },
 "nbformat": 4,
 "nbformat_minor": 2
}
