{
 "cells": [
  {
   "cell_type": "markdown",
   "metadata": {},
   "source": [
    "# Python Building Blocks\n",
    "> the absolute basics"
   ]
  },
  {
   "cell_type": "markdown",
   "metadata": {},
   "source": [
    "## Python coding conventions\n",
    "\n",
    "| Element | Suggestion | Example |\n",
    "| :------ | :--------- | :------ |\n",
    "| Module/package names | Short, all lowercase, underscores only if needed | imp, sys |\n",
    "| Function names | All lowercase, underscores_for_readability | foo(), my_func() |\n",
    "| Variable names | All lowercase, underscores_for_readability | my_var |\n",
    "| Class names | CapitalizeEachWord | MyClass |\n",
    "| Constant names | ALL_CAPS_WITH_UNDERSCORES | PI, TAX_RATE |\n",
    "| Indentation | Four (4) spaces per level, no tabs | |\n",
    "| Comparisons | Don't compare explicitly to True or False | `if my_var:`<br>`if not my_var` |\n",
    "\n",
    "Full conventions available in Python Enhancement Proposal (PEP) 8 at https://www.python.org/dev/peps/pep-0008/."
   ]
  },
  {
   "cell_type": "markdown",
   "metadata": {},
   "source": [
    "## Variables in Python\n",
    "\n",
    "The term *variable* is somewhat misleading in Python, and many experts suggest that *name* or *label* would be more accurate.\n",
    "\n",
    "This is because in many other programming languages variables are *buckets* that store a value.\n",
    "\n",
    "However, in Python variables are more like *labels* or tags that refer to objects in Python's interpreter namespace.\n",
    "\n",
    "As a result, any number of labels (or variables) can refer to the same object, and when the object changes, the value referred to by all of those variables also changes.\n",
    "\n",
    "The following piece of code illustrates that:"
   ]
  },
  {
   "cell_type": "code",
   "execution_count": 2,
   "metadata": {},
   "outputs": [
    {
     "name": "stdout",
     "output_type": "stream",
     "text": [
      "[1, 5, 3] [1, 5, 3] [1, 5, 3]\n"
     ]
    }
   ],
   "source": [
    "# a is a label for the list [1, 2, 3]\n",
    "a = [1, 2, 3]\n",
    "\n",
    "# b is another label for the list [1, 2, 3] tagged by a\n",
    "b = a\n",
    "\n",
    "# c i yet another label for the list [1, 2, 3] tagged by a and b\n",
    "c = b\n",
    "\n",
    "# We use the b label to change the underlying list\n",
    "b[1] = 5\n",
    "\n",
    "# We expect the three labels a, b, c to have changed\n",
    "print(a, b, c)\n",
    "assert a[1] == 5\n",
    "assert c[1] == 5"
   ]
  },
  {
   "cell_type": "markdown",
   "metadata": {},
   "source": [
    "The previous snippet illustrates that in Python, the variables are not container of values, but more like labels."
   ]
  },
  {
   "cell_type": "markdown",
   "metadata": {},
   "source": [
    "However, when variables are referring to constants or immutable values, this distinction isn't quite as clear:"
   ]
  },
  {
   "cell_type": "code",
   "execution_count": 3,
   "metadata": {},
   "outputs": [
    {
     "name": "stdout",
     "output_type": "stream",
     "text": [
      "1 5 1\n"
     ]
    }
   ],
   "source": [
    "# a is a label for the immutable integer value 1\n",
    "a = 1\n",
    "\n",
    "# Now b is another label for the immutable integer value 1\n",
    "b = a\n",
    "\n",
    "# Now c is yet another label for the immutable integer value 1\n",
    "c = b\n",
    "\n",
    "# Now b is a label for the immutable integer value 5\n",
    "b = 5\n",
    "\n",
    "# We expect only b to have changed\n",
    "print(a, b, c)\n",
    "assert a == 1\n",
    "assert b == 5\n",
    "assert c == 1"
   ]
  },
  {
   "cell_type": "markdown",
   "metadata": {},
   "source": [
    "Note that because the objects `a` and `c` refer to can't change, the references of `a` and `c` hasn't changed."
   ]
  }
 ],
 "metadata": {
  "kernelspec": {
   "display_name": ".venv",
   "language": "python",
   "name": "python3"
  },
  "language_info": {
   "codemirror_mode": {
    "name": "ipython",
    "version": 3
   },
   "file_extension": ".py",
   "mimetype": "text/x-python",
   "name": "python",
   "nbconvert_exporter": "python",
   "pygments_lexer": "ipython3",
   "version": "3.12.2"
  }
 },
 "nbformat": 4,
 "nbformat_minor": 2
}
