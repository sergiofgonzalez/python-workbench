{
 "cells": [
  {
   "cell_type": "markdown",
   "metadata": {},
   "source": [
    "# Modules and scoping rules\n",
    "\n",
    "## What is a module?\n",
    "\n",
    "Modules are used to organize larger Python projects.\n",
    "\n",
    "A module is a file containing code. It defines a group of Python functions or other objects under a name which is derived from the name of the file.\n",
    "\n",
    "Modules help avert name-clash related problems. With modules you can have two functions with the same name, which you will refer as:\n",
    "\n",
    "```python\n",
    "module1.my_fn\n",
    "\n",
    "module2.my_fn\n",
    "```\n",
    "\n",
    "Each module creates its own namespace, which is essentially a dictionary of the identifiers available to each block, function, class, module, etc. "
   ]
  },
  {
   "cell_type": "markdown",
   "metadata": {},
   "source": [
    "The following block defines a simple module `mymath.py`:\n",
    "\n",
    "```python\n",
    "\"\"\"mymath - an example math module\"\"\"\n",
    "pi = 3.14159\n",
    "\n",
    "def area(r):\n",
    "    return pi * r * r\n",
    "```"
   ]
  },
  {
   "cell_type": "markdown",
   "metadata": {},
   "source": [
    "As modules can contained compiled C or C++ code, the `.py` suffix is strongly recommended to let everyone understand the the file consists of Python code."
   ]
  },
  {
   "cell_type": "markdown",
   "metadata": {},
   "source": [
    "Importing the module will bring in the function and literal defined in the module.\n",
    "\n",
    "You can do:\n",
    "\n",
    "```python\n",
    "import mymath\n",
    "```\n",
    "\n",
    "But in order to use the definitions for `pi` and `area()` you will have to qualify them with the module's name:"
   ]
  },
  {
   "cell_type": "code",
   "execution_count": 3,
   "metadata": {},
   "outputs": [
    {
     "name": "stdout",
     "output_type": "stream",
     "text": [
      "Oops!  {NameError(\"name 'pi' is not defined\")}\n",
      "3.14159\n",
      "78.53975\n"
     ]
    }
   ],
   "source": [
    "import mymath\n",
    "\n",
    "try:\n",
    "    print(pi)\n",
    "except Exception as e:\n",
    "    print(\"Oops! \", {e})\n",
    "\n",
    "print(mymath.pi)\n",
    "print(mymath.area(5))"
   ]
  },
  {
   "cell_type": "markdown",
   "metadata": {},
   "source": [
    "This form of access is known as qualification and guarantees name safety:"
   ]
  },
  {
   "cell_type": "code",
   "execution_count": 5,
   "metadata": {},
   "outputs": [],
   "source": [
    "import math\n",
    "import mymath\n",
    "\n",
    "assert math.pi != mymath.pi"
   ]
  },
  {
   "cell_type": "markdown",
   "metadata": {},
   "source": [
    "Note how definitions within a module can access other definitions within the module without having to qualify the name:\n",
    "\n",
    "```python\n",
    "def area(r):\n",
    "    return pi * r * r\n",
    "```"
   ]
  },
  {
   "cell_type": "markdown",
   "metadata": {},
   "source": [
    "If you want to, you can also ask for names from a module to be imported so that you don't need to qualify them:"
   ]
  },
  {
   "cell_type": "code",
   "execution_count": 6,
   "metadata": {},
   "outputs": [
    {
     "data": {
      "text/plain": [
       "3.141592653589793"
      ]
     },
     "execution_count": 6,
     "metadata": {},
     "output_type": "execute_result"
    }
   ],
   "source": [
    "from math import pi\n",
    "\n",
    "pi"
   ]
  },
  {
   "cell_type": "markdown",
   "metadata": {},
   "source": [
    "Note that the `area` function will still need to be invoked as `mymath.area`."
   ]
  },
  {
   "cell_type": "markdown",
   "metadata": {},
   "source": [
    "### Reloading a module\n",
    "\n",
    "Especially when working with notebooks you might change the code of a module and then would like to bring in the new code. In those cases, retyping `import mymath` won't work because the module is already loaded.\n",
    "\n",
    "Instead, to load a fresh version of the module you can restart the session/kernel, or you can use the `reload` function from the `importlib` module which provides an interface to the mechanisms behind importing modules."
   ]
  },
  {
   "cell_type": "code",
   "execution_count": 7,
   "metadata": {},
   "outputs": [
    {
     "data": {
      "text/plain": [
       "<module 'mymath' from '/home/ubuntu/Development/git-repos/side_projects/python-workbench/part_1-python-fundamentals/03_basics-deep-dive/07_modules-and-scoping-rules/mymath.py'>"
      ]
     },
     "execution_count": 7,
     "metadata": {},
     "output_type": "execute_result"
    }
   ],
   "source": [
    "import mymath, importlib\n",
    "importlib.reload(mymath)"
   ]
  },
  {
   "cell_type": "markdown",
   "metadata": {},
   "source": [
    "As a summary:\n",
    "+ A module is a file defining one or more Python objects.\n",
    "+ If the name of the module file is `modulename.py`, the Python module's name will be `modulename`.\n",
    "+ You can bring a module named `modulename` into use with `import modulename` statement. When doing so, objects defined in the module will be accesible using `modulename.objectname`.\n",
    "+ Specific names from a module can be brought directly into the program using `from modulename import objectname`. When doing so, `objectname` will be accessible without your needing to prepend it with `modulename`. This is recommended for bringing names that are often used."
   ]
  },
  {
   "cell_type": "markdown",
   "metadata": {},
   "source": [
    "## The `import` statement\n",
    "\n",
    "There are three variants of the `import` statement:\n",
    "\n",
    "+ `import modulename`\n",
    "+ `from modulename import name1, name2, name3, ...`\n",
    "+ `from modulename import *`\n",
    "\n",
    "The last form brings into use all the exported names in `modulename`, that is, those that don't begin with an underscore `_`.\n",
    "Also, if a list of names called `__all__` exists in the module or the package's `__init__.py`, those will be the names that are imported.\n",
    "\n",
    "That last form might do not avert name clashing if two modules define the first name. In practice, you should use either of the two first forms of the `import` statement."
   ]
  },
  {
   "cell_type": "markdown",
   "metadata": {},
   "source": [
    "## Grokking the module search path\n",
    "\n",
    "The variable `path` from the `sys` module tells you where exactly Python will look for modules:"
   ]
  },
  {
   "cell_type": "code",
   "execution_count": 8,
   "metadata": {},
   "outputs": [
    {
     "data": {
      "text/plain": [
       "['/home/ubuntu/.pyenv/versions/3.12.5/lib/python312.zip',\n",
       " '/home/ubuntu/.pyenv/versions/3.12.5/lib/python3.12',\n",
       " '/home/ubuntu/.pyenv/versions/3.12.5/lib/python3.12/lib-dynload',\n",
       " '',\n",
       " '/home/ubuntu/Development/git-repos/side_projects/python-workbench/part_1-python-fundamentals/03_basics-deep-dive/07_modules-and-scoping-rules/.venv/lib/python3.12/site-packages']"
      ]
     },
     "execution_count": 8,
     "metadata": {},
     "output_type": "execute_result"
    }
   ],
   "source": [
    "import sys\n",
    "\n",
    "sys.path"
   ]
  },
  {
   "cell_type": "markdown",
   "metadata": {},
   "source": [
    "The `sys.path` is a list of directories that Python will search in order when attempting to execute an `import` statement.\n",
    "\n",
    "This variable is initialized from the value of the OS environment variable `PYTHONPATH`, if it exists, or from a default value that's dependent on your installation.\n",
    "\n",
    "In addition, the `sys.path` variable has the directory containing the script inserted as its first element, which provides a convenient way of determining where the executing Python program is located. That is, when you do `python app.py`, `sys.path[0]` will tell you where `app.py` is located."
   ]
  },
  {
   "cell_type": "markdown",
   "metadata": {},
   "source": [
    "### Where to place your own modules\n",
    "\n",
    "To ensure that your programs can use the modules you coded you need to:\n",
    "+ Place your modules in one of the directories that Python normally searches for modules (not recommended, as this is intended for site-specific modules, that is, modules specific to your machine).\n",
    "+ Place all the modules use by a Python program in the same directory as the program (good option for modules that are associated with a particular program).\n",
    "+ Create a directory or directories to hold your modules and modify the `sys.path` variable so that it includes this new directory (good option for reusable modules).\n",
    "\n",
    "For the third option, you'll have to set the `PYTHONPATH` environment variable, or add the directory to the default search paths using a `.pth` file."
   ]
  },
  {
   "cell_type": "markdown",
   "metadata": {},
   "source": [
    "### Private names in modules\n",
    "\n",
    "We already established that identifiers in the module beginning with `_` are not imported by `from modulename import *`.\n",
    "\n",
    "\n",
    "That way, module writers can ensure that internal names are not imported.\n",
    "\n",
    "Consider the following module:\n",
    "\n",
    "```python\n",
    "\"\"\"modtest: test module with private and public identifiers\"\"\"\n",
    "def f(x):\n",
    "    return x\n",
    "\n",
    "def _g(x):\n",
    "    return x\n",
    "\n",
    "a = 4\n",
    "_b = 2\n",
    "```\n",
    "\n",
    "Neither `_g` nor `_b` will be imported using `from modtest import *`:"
   ]
  },
  {
   "cell_type": "code",
   "execution_count": 11,
   "metadata": {},
   "outputs": [
    {
     "name": "stdout",
     "output_type": "stream",
     "text": [
      "Oops: {NameError(\"name '_g' is not defined\")}\n",
      "Oops: {NameError(\"name '_b' is not defined\")}\n"
     ]
    }
   ],
   "source": [
    "from modtest import *\n",
    "\n",
    "try:\n",
    "    _g(3)\n",
    "except Exception as e:\n",
    "    print(\"Oops:\", {e})\n",
    "\n",
    "try:\n",
    "    _b\n",
    "except Exception as e:\n",
    "    print(\"Oops:\", {e})"
   ]
  },
  {
   "cell_type": "markdown",
   "metadata": {},
   "source": [
    "This convention of leading underscores to indicate private names is used throughout Python, not just in modules."
   ]
  },
  {
   "cell_type": "markdown",
   "metadata": {},
   "source": [
    "## Scoping rules and namespaces\n",
    "\n",
    "A namespace in Python is a mapping from identifiers to objects.\n",
    "\n",
    "When Python finds a statement like:\n",
    "\n",
    "```python\n",
    "x = 1\n",
    "```\n",
    "\n",
    "Python will add `x` to the namespace (if not already there) and associates it with the value `1`.\n",
    "\n",
    "Python manages three namespaces: **local**, **global**, and **built-in**.\n",
    "\n",
    "When an identifier is to be evaluated, Python first looks in the **local** namespace trying to locate functions or variables matching the identifier. If not found there, it checks the **global** namespace then. If it still hasn't been found, Python searches the **built-in** namespace. If not found, a `NameError` exception occurs."
   ]
  },
  {
   "cell_type": "markdown",
   "metadata": {},
   "source": [
    "For code within a module, a command executed in an interactive session, or code within a file (outside any function), the global and local namespaces are the same.\n",
    "\n",
    "But when a function call is made, a local namespace is created, and a binding is entered in it for each parameter of the call. When a new variable definition is found within the function, a new binding will be creted within the function.\n",
    "\n",
    "The global namespace of a function is the global namespace of the containing block of the function. This block is independent of the dynamic context from which it's called."
   ]
  },
  {
   "cell_type": "markdown",
   "metadata": {},
   "source": [
    "The built-in namespace is that of the `__builtins__` module. This module contains all the built-in functions such as `len`, `min`, `max`, etc., as well other built-in objects and classes such as `NameError`.\n",
    "\n",
    "Because of how Python searches through the namespace (first local, then global, and finally built-in) you can override items in the built-in module.\n",
    "\n",
    "For example, if you inadvertently create a variable named `list` you will be overriding the `list` function and won't be available anymore."
   ]
  },
  {
   "cell_type": "code",
   "execution_count": 1,
   "metadata": {},
   "outputs": [
    {
     "name": "stdout",
     "output_type": "stream",
     "text": [
      "[1, 2]\n",
      "Oops: {TypeError(\"'list' object is not callable\")}\n"
     ]
    }
   ],
   "source": [
    "my_tuple = (1, 2)\n",
    "print(list(my_tuple)) # not overridden yet\n",
    "\n",
    "try:\n",
    "    list = [1, 2]\n",
    "    print(list(my_tuple)) # list object is not callable\n",
    "except Exception as e:\n",
    "    print(\"Oops:\", {e})"
   ]
  },
  {
   "cell_type": "markdown",
   "metadata": {},
   "source": [
    "The local and global namespaces can be accessed through the `locals()` and `globals()`"
   ]
  },
  {
   "cell_type": "code",
   "execution_count": 2,
   "metadata": {},
   "outputs": [
    {
     "data": {
      "text/plain": [
       "{'__name__': '__main__',\n",
       " '__doc__': 'Automatically created module for IPython interactive environment',\n",
       " '__package__': None,\n",
       " '__loader__': None,\n",
       " '__spec__': None,\n",
       " '__builtin__': <module 'builtins' (built-in)>,\n",
       " '__builtins__': <module 'builtins' (built-in)>,\n",
       " '_ih': ['',\n",
       "  'my_tuple = (1, 2)\\nprint(list(my_tuple)) # not overridden yet\\n\\ntry:\\n    list = [1, 2]\\n    print(list(my_tuple)) # list object is not callable\\nexcept Exception as e:\\n    print(\"Oops:\", {e})',\n",
       "  'locals()'],\n",
       " '_oh': {},\n",
       " '_dh': [PosixPath('/home/ubuntu/Development/git-repos/side_projects/python-workbench/part_1-python-fundamentals/03_basics-deep-dive/07_modules-and-scoping-rules')],\n",
       " 'In': ['',\n",
       "  'my_tuple = (1, 2)\\nprint(list(my_tuple)) # not overridden yet\\n\\ntry:\\n    list = [1, 2]\\n    print(list(my_tuple)) # list object is not callable\\nexcept Exception as e:\\n    print(\"Oops:\", {e})',\n",
       "  'locals()'],\n",
       " 'Out': {},\n",
       " 'get_ipython': <bound method InteractiveShell.get_ipython of <ipykernel.zmqshell.ZMQInteractiveShell object at 0x7f585bf4acf0>>,\n",
       " 'exit': <IPython.core.autocall.ZMQExitAutocall at 0x7f585bc38d70>,\n",
       " 'quit': <IPython.core.autocall.ZMQExitAutocall at 0x7f585bc38d70>,\n",
       " 'open': <function _io.open(file, mode='r', buffering=-1, encoding=None, errors=None, newline=None, closefd=True, opener=None)>,\n",
       " '_': '',\n",
       " '__': '',\n",
       " '___': '',\n",
       " '__vsc_ipynb_file__': '/home/ubuntu/Development/git-repos/side_projects/python-workbench/part_1-python-fundamentals/03_basics-deep-dive/07_modules-and-scoping-rules/07_modules-and-scoping.ipynb',\n",
       " '_i': 'my_tuple = (1, 2)\\nprint(list(my_tuple)) # not overridden yet\\n\\ntry:\\n    list = [1, 2]\\n    print(list(my_tuple)) # list object is not callable\\nexcept Exception as e:\\n    print(\"Oops:\", {e})',\n",
       " '_ii': '',\n",
       " '_iii': '',\n",
       " '_i1': 'my_tuple = (1, 2)\\nprint(list(my_tuple)) # not overridden yet\\n\\ntry:\\n    list = [1, 2]\\n    print(list(my_tuple)) # list object is not callable\\nexcept Exception as e:\\n    print(\"Oops:\", {e})',\n",
       " 'my_tuple': (1, 2),\n",
       " 'list': [1, 2],\n",
       " '_i2': 'locals()'}"
      ]
     },
     "execution_count": 2,
     "metadata": {},
     "output_type": "execute_result"
    }
   ],
   "source": [
    "locals()"
   ]
  },
  {
   "cell_type": "code",
   "execution_count": 3,
   "metadata": {},
   "outputs": [
    {
     "data": {
      "text/plain": [
       "{'__name__': '__main__',\n",
       " '__doc__': 'Automatically created module for IPython interactive environment',\n",
       " '__package__': None,\n",
       " '__loader__': None,\n",
       " '__spec__': None,\n",
       " '__builtin__': <module 'builtins' (built-in)>,\n",
       " '__builtins__': <module 'builtins' (built-in)>,\n",
       " '_ih': ['',\n",
       "  'my_tuple = (1, 2)\\nprint(list(my_tuple)) # not overridden yet\\n\\ntry:\\n    list = [1, 2]\\n    print(list(my_tuple)) # list object is not callable\\nexcept Exception as e:\\n    print(\"Oops:\", {e})',\n",
       "  'locals()',\n",
       "  'globals()'],\n",
       " '_oh': {2: {...}},\n",
       " '_dh': [PosixPath('/home/ubuntu/Development/git-repos/side_projects/python-workbench/part_1-python-fundamentals/03_basics-deep-dive/07_modules-and-scoping-rules')],\n",
       " 'In': ['',\n",
       "  'my_tuple = (1, 2)\\nprint(list(my_tuple)) # not overridden yet\\n\\ntry:\\n    list = [1, 2]\\n    print(list(my_tuple)) # list object is not callable\\nexcept Exception as e:\\n    print(\"Oops:\", {e})',\n",
       "  'locals()',\n",
       "  'globals()'],\n",
       " 'Out': {2: {...}},\n",
       " 'get_ipython': <bound method InteractiveShell.get_ipython of <ipykernel.zmqshell.ZMQInteractiveShell object at 0x7f585bf4acf0>>,\n",
       " 'exit': <IPython.core.autocall.ZMQExitAutocall at 0x7f585bc38d70>,\n",
       " 'quit': <IPython.core.autocall.ZMQExitAutocall at 0x7f585bc38d70>,\n",
       " 'open': <function _io.open(file, mode='r', buffering=-1, encoding=None, errors=None, newline=None, closefd=True, opener=None)>,\n",
       " '_': {...},\n",
       " '__': '',\n",
       " '___': '',\n",
       " '__vsc_ipynb_file__': '/home/ubuntu/Development/git-repos/side_projects/python-workbench/part_1-python-fundamentals/03_basics-deep-dive/07_modules-and-scoping-rules/07_modules-and-scoping.ipynb',\n",
       " '_i': 'locals()',\n",
       " '_ii': 'my_tuple = (1, 2)\\nprint(list(my_tuple)) # not overridden yet\\n\\ntry:\\n    list = [1, 2]\\n    print(list(my_tuple)) # list object is not callable\\nexcept Exception as e:\\n    print(\"Oops:\", {e})',\n",
       " '_iii': '',\n",
       " '_i1': 'my_tuple = (1, 2)\\nprint(list(my_tuple)) # not overridden yet\\n\\ntry:\\n    list = [1, 2]\\n    print(list(my_tuple)) # list object is not callable\\nexcept Exception as e:\\n    print(\"Oops:\", {e})',\n",
       " 'my_tuple': (1, 2),\n",
       " 'list': [1, 2],\n",
       " '_i2': 'locals()',\n",
       " '_2': {...},\n",
       " '_i3': 'globals()'}"
      ]
     },
     "execution_count": 3,
     "metadata": {},
     "output_type": "execute_result"
    }
   ],
   "source": [
    "globals()"
   ]
  },
  {
   "cell_type": "markdown",
   "metadata": {},
   "source": [
    "See how the local and global namespaces for this notebook are the same.\n",
    "\n",
    "If you continue creating variable and importing modules you'll see how different bindings are added to the namespaces:"
   ]
  },
  {
   "cell_type": "code",
   "execution_count": 4,
   "metadata": {},
   "outputs": [
    {
     "data": {
      "text/plain": [
       "{'__name__': '__main__',\n",
       " '__doc__': 'Automatically created module for IPython interactive environment',\n",
       " '__package__': None,\n",
       " '__loader__': None,\n",
       " '__spec__': None,\n",
       " '__builtin__': <module 'builtins' (built-in)>,\n",
       " '__builtins__': <module 'builtins' (built-in)>,\n",
       " '_ih': ['',\n",
       "  'my_tuple = (1, 2)\\nprint(list(my_tuple)) # not overridden yet\\n\\ntry:\\n    list = [1, 2]\\n    print(list(my_tuple)) # list object is not callable\\nexcept Exception as e:\\n    print(\"Oops:\", {e})',\n",
       "  'locals()',\n",
       "  'globals()',\n",
       "  'z = 2\\nglobals()'],\n",
       " '_oh': {2: {...}, 3: {...}},\n",
       " '_dh': [PosixPath('/home/ubuntu/Development/git-repos/side_projects/python-workbench/part_1-python-fundamentals/03_basics-deep-dive/07_modules-and-scoping-rules')],\n",
       " 'In': ['',\n",
       "  'my_tuple = (1, 2)\\nprint(list(my_tuple)) # not overridden yet\\n\\ntry:\\n    list = [1, 2]\\n    print(list(my_tuple)) # list object is not callable\\nexcept Exception as e:\\n    print(\"Oops:\", {e})',\n",
       "  'locals()',\n",
       "  'globals()',\n",
       "  'z = 2\\nglobals()'],\n",
       " 'Out': {2: {...}, 3: {...}},\n",
       " 'get_ipython': <bound method InteractiveShell.get_ipython of <ipykernel.zmqshell.ZMQInteractiveShell object at 0x7f585bf4acf0>>,\n",
       " 'exit': <IPython.core.autocall.ZMQExitAutocall at 0x7f585bc38d70>,\n",
       " 'quit': <IPython.core.autocall.ZMQExitAutocall at 0x7f585bc38d70>,\n",
       " 'open': <function _io.open(file, mode='r', buffering=-1, encoding=None, errors=None, newline=None, closefd=True, opener=None)>,\n",
       " '_': {...},\n",
       " '__': {...},\n",
       " '___': '',\n",
       " '__vsc_ipynb_file__': '/home/ubuntu/Development/git-repos/side_projects/python-workbench/part_1-python-fundamentals/03_basics-deep-dive/07_modules-and-scoping-rules/07_modules-and-scoping.ipynb',\n",
       " '_i': 'globals()',\n",
       " '_ii': 'locals()',\n",
       " '_iii': 'my_tuple = (1, 2)\\nprint(list(my_tuple)) # not overridden yet\\n\\ntry:\\n    list = [1, 2]\\n    print(list(my_tuple)) # list object is not callable\\nexcept Exception as e:\\n    print(\"Oops:\", {e})',\n",
       " '_i1': 'my_tuple = (1, 2)\\nprint(list(my_tuple)) # not overridden yet\\n\\ntry:\\n    list = [1, 2]\\n    print(list(my_tuple)) # list object is not callable\\nexcept Exception as e:\\n    print(\"Oops:\", {e})',\n",
       " 'my_tuple': (1, 2),\n",
       " 'list': [1, 2],\n",
       " '_i2': 'locals()',\n",
       " '_2': {...},\n",
       " '_i3': 'globals()',\n",
       " '_3': {...},\n",
       " '_i4': 'z = 2\\nglobals()',\n",
       " 'z': 2}"
      ]
     },
     "execution_count": 4,
     "metadata": {},
     "output_type": "execute_result"
    }
   ],
   "source": [
    "z = 2\n",
    "globals()"
   ]
  },
  {
   "cell_type": "code",
   "execution_count": 5,
   "metadata": {},
   "outputs": [
    {
     "data": {
      "text/plain": [
       "{'__name__': '__main__',\n",
       " '__doc__': 'Automatically created module for IPython interactive environment',\n",
       " '__package__': None,\n",
       " '__loader__': None,\n",
       " '__spec__': None,\n",
       " '__builtin__': <module 'builtins' (built-in)>,\n",
       " '__builtins__': <module 'builtins' (built-in)>,\n",
       " '_ih': ['',\n",
       "  'my_tuple = (1, 2)\\nprint(list(my_tuple)) # not overridden yet\\n\\ntry:\\n    list = [1, 2]\\n    print(list(my_tuple)) # list object is not callable\\nexcept Exception as e:\\n    print(\"Oops:\", {e})',\n",
       "  'locals()',\n",
       "  'globals()',\n",
       "  'z = 2\\nglobals()',\n",
       "  'import math\\nfrom cmath import cos\\n\\nglobals()'],\n",
       " '_oh': {2: {...}, 3: {...}, 4: {...}},\n",
       " '_dh': [PosixPath('/home/ubuntu/Development/git-repos/side_projects/python-workbench/part_1-python-fundamentals/03_basics-deep-dive/07_modules-and-scoping-rules')],\n",
       " 'In': ['',\n",
       "  'my_tuple = (1, 2)\\nprint(list(my_tuple)) # not overridden yet\\n\\ntry:\\n    list = [1, 2]\\n    print(list(my_tuple)) # list object is not callable\\nexcept Exception as e:\\n    print(\"Oops:\", {e})',\n",
       "  'locals()',\n",
       "  'globals()',\n",
       "  'z = 2\\nglobals()',\n",
       "  'import math\\nfrom cmath import cos\\n\\nglobals()'],\n",
       " 'Out': {2: {...}, 3: {...}, 4: {...}},\n",
       " 'get_ipython': <bound method InteractiveShell.get_ipython of <ipykernel.zmqshell.ZMQInteractiveShell object at 0x7f585bf4acf0>>,\n",
       " 'exit': <IPython.core.autocall.ZMQExitAutocall at 0x7f585bc38d70>,\n",
       " 'quit': <IPython.core.autocall.ZMQExitAutocall at 0x7f585bc38d70>,\n",
       " 'open': <function _io.open(file, mode='r', buffering=-1, encoding=None, errors=None, newline=None, closefd=True, opener=None)>,\n",
       " '_': {...},\n",
       " '__': {...},\n",
       " '___': {...},\n",
       " '__vsc_ipynb_file__': '/home/ubuntu/Development/git-repos/side_projects/python-workbench/part_1-python-fundamentals/03_basics-deep-dive/07_modules-and-scoping-rules/07_modules-and-scoping.ipynb',\n",
       " '_i': 'z = 2\\nglobals()',\n",
       " '_ii': 'globals()',\n",
       " '_iii': 'locals()',\n",
       " '_i1': 'my_tuple = (1, 2)\\nprint(list(my_tuple)) # not overridden yet\\n\\ntry:\\n    list = [1, 2]\\n    print(list(my_tuple)) # list object is not callable\\nexcept Exception as e:\\n    print(\"Oops:\", {e})',\n",
       " 'my_tuple': (1, 2),\n",
       " 'list': [1, 2],\n",
       " '_i2': 'locals()',\n",
       " '_2': {...},\n",
       " '_i3': 'globals()',\n",
       " '_3': {...},\n",
       " '_i4': 'z = 2\\nglobals()',\n",
       " 'z': 2,\n",
       " '_4': {...},\n",
       " '_i5': 'import math\\nfrom cmath import cos\\n\\nglobals()',\n",
       " 'math': <module 'math' from '/home/ubuntu/.pyenv/versions/3.12.5/lib/python3.12/lib-dynload/math.cpython-312-x86_64-linux-gnu.so'>,\n",
       " 'cos': <function cmath.cos(z, /)>}"
      ]
     },
     "execution_count": 5,
     "metadata": {},
     "output_type": "execute_result"
    }
   ],
   "source": [
    "import math\n",
    "from cmath import cos\n",
    "\n",
    "globals()"
   ]
  },
  {
   "cell_type": "markdown",
   "metadata": {},
   "source": [
    "You can use the `del` statement to remove entries from the namespaces:"
   ]
  },
  {
   "cell_type": "code",
   "execution_count": 7,
   "metadata": {},
   "outputs": [
    {
     "name": "stdout",
     "output_type": "stream",
     "text": [
      "2\n",
      "Oops: {NameError(\"name 'z' is not defined\")}\n"
     ]
    }
   ],
   "source": [
    "print(z)\n",
    "\n",
    "del z\n",
    "\n",
    "try:\n",
    "    z\n",
    "except Exception as e:\n",
    "    print(\"Oops:\", {e})"
   ]
  },
  {
   "cell_type": "markdown",
   "metadata": {},
   "source": [
    "This technique can be useful specially in the interactive mode to unload a previously loaded module or remove a previously made definition."
   ]
  },
  {
   "cell_type": "markdown",
   "metadata": {},
   "source": [
    "Let's try to inspect the local namespace when you define a function:"
   ]
  },
  {
   "cell_type": "code",
   "execution_count": 10,
   "metadata": {},
   "outputs": [
    {
     "name": "stdout",
     "output_type": "stream",
     "text": [
      "{'__name__': '__main__', '__doc__': 'Automatically created module for IPython interactive environment', '__package__': None, '__loader__': None, '__spec__': None, '__builtin__': <module 'builtins' (built-in)>, '__builtins__': <module 'builtins' (built-in)>, '_ih': ['', 'my_tuple = (1, 2)\\nprint(list(my_tuple)) # not overridden yet\\n\\ntry:\\n    list = [1, 2]\\n    print(list(my_tuple)) # list object is not callable\\nexcept Exception as e:\\n    print(\"Oops:\", {e})', 'locals()', 'globals()', 'z = 2\\nglobals()', 'import math\\nfrom cmath import cos\\n\\nglobals()', 'print(z)', 'print(z)\\n\\ndel z\\n\\ntry:\\n    z\\nexcept Exception as e:\\n    print(\"Oops:\", {e})', 'print(locals())\\n\\ndef f(x):\\n    print(\"On entry:\", locals)\\n    y = x\\n    print(\"On exit\", locals)', 'print(locals())\\n\\ndef f(x):\\n    print(\"On entry:\", locals)\\n    y = x\\n    print(\"On exit\", locals)\\n\\nz = 2\\nf(z)', 'print(locals())\\n\\ndef f(x):\\n    print(\"On entry:\", locals())\\n    y = x\\n    print(\"On exit\", locals())\\n\\nz = 2\\nf(z)'], '_oh': {2: {...}, 3: {...}, 4: {...}, 5: {...}}, '_dh': [PosixPath('/home/ubuntu/Development/git-repos/side_projects/python-workbench/part_1-python-fundamentals/03_basics-deep-dive/07_modules-and-scoping-rules')], 'In': ['', 'my_tuple = (1, 2)\\nprint(list(my_tuple)) # not overridden yet\\n\\ntry:\\n    list = [1, 2]\\n    print(list(my_tuple)) # list object is not callable\\nexcept Exception as e:\\n    print(\"Oops:\", {e})', 'locals()', 'globals()', 'z = 2\\nglobals()', 'import math\\nfrom cmath import cos\\n\\nglobals()', 'print(z)', 'print(z)\\n\\ndel z\\n\\ntry:\\n    z\\nexcept Exception as e:\\n    print(\"Oops:\", {e})', 'print(locals())\\n\\ndef f(x):\\n    print(\"On entry:\", locals)\\n    y = x\\n    print(\"On exit\", locals)', 'print(locals())\\n\\ndef f(x):\\n    print(\"On entry:\", locals)\\n    y = x\\n    print(\"On exit\", locals)\\n\\nz = 2\\nf(z)', 'print(locals())\\n\\ndef f(x):\\n    print(\"On entry:\", locals())\\n    y = x\\n    print(\"On exit\", locals())\\n\\nz = 2\\nf(z)'], 'Out': {2: {...}, 3: {...}, 4: {...}, 5: {...}}, 'get_ipython': <bound method InteractiveShell.get_ipython of <ipykernel.zmqshell.ZMQInteractiveShell object at 0x7f585bf4acf0>>, 'exit': <IPython.core.autocall.ZMQExitAutocall object at 0x7f585bc38d70>, 'quit': <IPython.core.autocall.ZMQExitAutocall object at 0x7f585bc38d70>, 'open': <function open at 0x7f587d5520c0>, '_': {...}, '__': {...}, '___': {...}, '__vsc_ipynb_file__': '/home/ubuntu/Development/git-repos/side_projects/python-workbench/part_1-python-fundamentals/03_basics-deep-dive/07_modules-and-scoping-rules/07_modules-and-scoping.ipynb', '_i': 'print(locals())\\n\\ndef f(x):\\n    print(\"On entry:\", locals)\\n    y = x\\n    print(\"On exit\", locals)\\n\\nz = 2\\nf(z)', '_ii': 'print(locals())\\n\\ndef f(x):\\n    print(\"On entry:\", locals)\\n    y = x\\n    print(\"On exit\", locals)', '_iii': 'print(z)\\n\\ndel z\\n\\ntry:\\n    z\\nexcept Exception as e:\\n    print(\"Oops:\", {e})', '_i1': 'my_tuple = (1, 2)\\nprint(list(my_tuple)) # not overridden yet\\n\\ntry:\\n    list = [1, 2]\\n    print(list(my_tuple)) # list object is not callable\\nexcept Exception as e:\\n    print(\"Oops:\", {e})', 'my_tuple': (1, 2), 'list': [1, 2], '_i2': 'locals()', '_2': {...}, '_i3': 'globals()', '_3': {...}, '_i4': 'z = 2\\nglobals()', '_4': {...}, '_i5': 'import math\\nfrom cmath import cos\\n\\nglobals()', 'math': <module 'math' from '/home/ubuntu/.pyenv/versions/3.12.5/lib/python3.12/lib-dynload/math.cpython-312-x86_64-linux-gnu.so'>, 'cos': <built-in function cos>, '_5': {...}, '_i6': 'print(z)', '_i7': 'print(z)\\n\\ndel z\\n\\ntry:\\n    z\\nexcept Exception as e:\\n    print(\"Oops:\", {e})', '_i8': 'print(locals())\\n\\ndef f(x):\\n    print(\"On entry:\", locals)\\n    y = x\\n    print(\"On exit\", locals)', 'f': <function f at 0x7f585b2c8220>, '_i9': 'print(locals())\\n\\ndef f(x):\\n    print(\"On entry:\", locals)\\n    y = x\\n    print(\"On exit\", locals)\\n\\nz = 2\\nf(z)', 'z': 2, '_i10': 'print(locals())\\n\\ndef f(x):\\n    print(\"On entry:\", locals())\\n    y = x\\n    print(\"On exit\", locals())\\n\\nz = 2\\nf(z)'}\n",
      "On entry: {'x': 2}\n",
      "On exit {'x': 2, 'y': 2}\n"
     ]
    }
   ],
   "source": [
    "print(locals())\n",
    "\n",
    "def f(x):\n",
    "    print(\"On entry:\", locals())\n",
    "    y = x\n",
    "    print(\"On exit\", locals())\n",
    "\n",
    "z = 2\n",
    "f(z)"
   ]
  },
  {
   "cell_type": "markdown",
   "metadata": {},
   "source": [
    "See how when you are within the function, the local namespace only reflects the variables that are accessible in the function."
   ]
  },
  {
   "cell_type": "markdown",
   "metadata": {},
   "source": [
    "To inspect the built-in namespace you need to use a different technique:"
   ]
  },
  {
   "cell_type": "code",
   "execution_count": 11,
   "metadata": {},
   "outputs": [
    {
     "data": {
      "text/plain": [
       "['ArithmeticError',\n",
       " 'AssertionError',\n",
       " 'AttributeError',\n",
       " 'BaseException',\n",
       " 'BaseExceptionGroup',\n",
       " 'BlockingIOError',\n",
       " 'BrokenPipeError',\n",
       " 'BufferError',\n",
       " 'BytesWarning',\n",
       " 'ChildProcessError',\n",
       " 'ConnectionAbortedError',\n",
       " 'ConnectionError',\n",
       " 'ConnectionRefusedError',\n",
       " 'ConnectionResetError',\n",
       " 'DeprecationWarning',\n",
       " 'EOFError',\n",
       " 'Ellipsis',\n",
       " 'EncodingWarning',\n",
       " 'EnvironmentError',\n",
       " 'Exception',\n",
       " 'ExceptionGroup',\n",
       " 'False',\n",
       " 'FileExistsError',\n",
       " 'FileNotFoundError',\n",
       " 'FloatingPointError',\n",
       " 'FutureWarning',\n",
       " 'GeneratorExit',\n",
       " 'IOError',\n",
       " 'ImportError',\n",
       " 'ImportWarning',\n",
       " 'IndentationError',\n",
       " 'IndexError',\n",
       " 'InterruptedError',\n",
       " 'IsADirectoryError',\n",
       " 'KeyError',\n",
       " 'KeyboardInterrupt',\n",
       " 'LookupError',\n",
       " 'MemoryError',\n",
       " 'ModuleNotFoundError',\n",
       " 'NameError',\n",
       " 'None',\n",
       " 'NotADirectoryError',\n",
       " 'NotImplemented',\n",
       " 'NotImplementedError',\n",
       " 'OSError',\n",
       " 'OverflowError',\n",
       " 'PendingDeprecationWarning',\n",
       " 'PermissionError',\n",
       " 'ProcessLookupError',\n",
       " 'RecursionError',\n",
       " 'ReferenceError',\n",
       " 'ResourceWarning',\n",
       " 'RuntimeError',\n",
       " 'RuntimeWarning',\n",
       " 'StopAsyncIteration',\n",
       " 'StopIteration',\n",
       " 'SyntaxError',\n",
       " 'SyntaxWarning',\n",
       " 'SystemError',\n",
       " 'SystemExit',\n",
       " 'TabError',\n",
       " 'TimeoutError',\n",
       " 'True',\n",
       " 'TypeError',\n",
       " 'UnboundLocalError',\n",
       " 'UnicodeDecodeError',\n",
       " 'UnicodeEncodeError',\n",
       " 'UnicodeError',\n",
       " 'UnicodeTranslateError',\n",
       " 'UnicodeWarning',\n",
       " 'UserWarning',\n",
       " 'ValueError',\n",
       " 'Warning',\n",
       " 'ZeroDivisionError',\n",
       " '__IPYTHON__',\n",
       " '__build_class__',\n",
       " '__debug__',\n",
       " '__doc__',\n",
       " '__import__',\n",
       " '__loader__',\n",
       " '__name__',\n",
       " '__package__',\n",
       " '__spec__',\n",
       " 'abs',\n",
       " 'aiter',\n",
       " 'all',\n",
       " 'anext',\n",
       " 'any',\n",
       " 'ascii',\n",
       " 'bin',\n",
       " 'bool',\n",
       " 'breakpoint',\n",
       " 'bytearray',\n",
       " 'bytes',\n",
       " 'callable',\n",
       " 'chr',\n",
       " 'classmethod',\n",
       " 'compile',\n",
       " 'complex',\n",
       " 'copyright',\n",
       " 'credits',\n",
       " 'delattr',\n",
       " 'dict',\n",
       " 'dir',\n",
       " 'display',\n",
       " 'divmod',\n",
       " 'enumerate',\n",
       " 'eval',\n",
       " 'exec',\n",
       " 'execfile',\n",
       " 'filter',\n",
       " 'float',\n",
       " 'format',\n",
       " 'frozenset',\n",
       " 'get_ipython',\n",
       " 'getattr',\n",
       " 'globals',\n",
       " 'hasattr',\n",
       " 'hash',\n",
       " 'help',\n",
       " 'hex',\n",
       " 'id',\n",
       " 'input',\n",
       " 'int',\n",
       " 'isinstance',\n",
       " 'issubclass',\n",
       " 'iter',\n",
       " 'len',\n",
       " 'license',\n",
       " 'list',\n",
       " 'locals',\n",
       " 'map',\n",
       " 'max',\n",
       " 'memoryview',\n",
       " 'min',\n",
       " 'next',\n",
       " 'object',\n",
       " 'oct',\n",
       " 'open',\n",
       " 'ord',\n",
       " 'pow',\n",
       " 'print',\n",
       " 'property',\n",
       " 'range',\n",
       " 'repr',\n",
       " 'reversed',\n",
       " 'round',\n",
       " 'runfile',\n",
       " 'set',\n",
       " 'setattr',\n",
       " 'slice',\n",
       " 'sorted',\n",
       " 'staticmethod',\n",
       " 'str',\n",
       " 'sum',\n",
       " 'super',\n",
       " 'tuple',\n",
       " 'type',\n",
       " 'vars',\n",
       " 'zip']"
      ]
     },
     "execution_count": 11,
     "metadata": {},
     "output_type": "execute_result"
    }
   ],
   "source": [
    "dir(__builtins__)"
   ]
  },
  {
   "cell_type": "markdown",
   "metadata": {},
   "source": [
    "Given a module, `dir` returns the names defined in it.\n",
    "\n",
    "If you call it without any argument, it will return a sorted list of identifiers in the local namespace:"
   ]
  },
  {
   "cell_type": "code",
   "execution_count": 12,
   "metadata": {},
   "outputs": [
    {
     "data": {
      "text/plain": [
       "['In',\n",
       " 'Out',\n",
       " '_',\n",
       " '_11',\n",
       " '_2',\n",
       " '_3',\n",
       " '_4',\n",
       " '_5',\n",
       " '__',\n",
       " '___',\n",
       " '__builtin__',\n",
       " '__builtins__',\n",
       " '__doc__',\n",
       " '__loader__',\n",
       " '__name__',\n",
       " '__package__',\n",
       " '__spec__',\n",
       " '__vsc_ipynb_file__',\n",
       " '_dh',\n",
       " '_i',\n",
       " '_i1',\n",
       " '_i10',\n",
       " '_i11',\n",
       " '_i12',\n",
       " '_i2',\n",
       " '_i3',\n",
       " '_i4',\n",
       " '_i5',\n",
       " '_i6',\n",
       " '_i7',\n",
       " '_i8',\n",
       " '_i9',\n",
       " '_ih',\n",
       " '_ii',\n",
       " '_iii',\n",
       " '_oh',\n",
       " 'cos',\n",
       " 'exit',\n",
       " 'f',\n",
       " 'get_ipython',\n",
       " 'list',\n",
       " 'math',\n",
       " 'my_tuple',\n",
       " 'open',\n",
       " 'quit',\n",
       " 'x1',\n",
       " 'z']"
      ]
     },
     "execution_count": 12,
     "metadata": {},
     "output_type": "execute_result"
    }
   ],
   "source": [
    "x1 = 6\n",
    "dir()"
   ]
  }
 ],
 "metadata": {
  "kernelspec": {
   "display_name": ".venv",
   "language": "python",
   "name": "python3"
  },
  "language_info": {
   "codemirror_mode": {
    "name": "ipython",
    "version": 3
   },
   "file_extension": ".py",
   "mimetype": "text/x-python",
   "name": "python",
   "nbconvert_exporter": "python",
   "pygments_lexer": "ipython3",
   "version": "3.12.5"
  }
 },
 "nbformat": 4,
 "nbformat_minor": 2
}
