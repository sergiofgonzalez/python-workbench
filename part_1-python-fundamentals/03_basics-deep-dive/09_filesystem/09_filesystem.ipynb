{
 "cells": [
  {
   "cell_type": "markdown",
   "metadata": {},
   "source": [
    "# Using the filesystem in Python\n",
    "\n",
    "This chapter is about using the filesystem: creating, moving, referring to files...\n",
    "\n",
    "To understand how to read and write files, see [10: Reading and Writing Files](../10_reading-writing-files/10_reading-writing-files.ipynb)."
   ]
  },
  {
   "cell_type": "markdown",
   "metadata": {},
   "source": [
    "## `os` and `os.path` vs. `pathlib`\n",
    "\n",
    "The `os` and `os.path` modules constitute the traditional way in which file paths and filesystem operations have been handled in Python.\n",
    "\n",
    "Since Python 3.5, `pathlib` is available and provides a more modern way of doing the same operations."
   ]
  },
  {
   "cell_type": "markdown",
   "metadata": {},
   "source": [
    "## Paths and pathnames\n",
    "\n",
    "All operating systems refer to files and directories with strings that represent them. These strings are often called *pathnames* or simply *paths*.\n",
    "\n",
    "The fact that paths are both strings and the underlying *path object* they represent introduces some complications you should be aware.\n",
    "\n",
    "Filesystems on almost all OS are modeled as tree structures, with a disk being the root and folders, subfolders, and so on being branches, subbranches, etc.\n",
    "\n",
    "Thus, independently of the OS the way to refer to a file or folder is with a pathname that specifies the path to follow from the root of the filesystem tree to the file in question.\n",
    "\n",
    "However, each OS defines their own conventions regarding the precise syntax of such paths (separator, the way to identify the root of the filesystem, the way to handle uppercase/lowercase, etc.)"
   ]
  },
  {
   "cell_type": "markdown",
   "metadata": {},
   "source": [
    "### Absolute and relative paths\n",
    "\n",
    "+ **Absolute paths** specify the exact location of a file in a filesystem without any ambiguity. They do this by specifying the entire path to the file, starting from the root of the filesystem.\n",
    "\n",
    "+ **Relative paths** specify the position of a file relative to some other point in the filesystem, which isn't specified in the relative pathname itself.\n"
   ]
  },
  {
   "cell_type": "markdown",
   "metadata": {},
   "source": [
    "### The current working dir\n",
    "\n",
    "To identify a file from a relative path, you need some other context to anchor it.\n",
    "\n",
    "Many times is via an implicit reference to the *current working directory*, which is the particular directory where a Python program considers itself to be at any point during its execution.\n",
    "\n",
    "The directory that a Python program is in is called the *current working directory* for that program. This directory may be different from the directory the program resides in."
   ]
  },
  {
   "cell_type": "markdown",
   "metadata": {},
   "source": [
    "#### Accesing directories with `pathlib` (preferred)\n",
    "\n",
    "The following snippter returns the current working directory, as a *Path* object (not a string):"
   ]
  },
  {
   "cell_type": "code",
   "execution_count": 7,
   "metadata": {},
   "outputs": [
    {
     "data": {
      "text/plain": [
       "PosixPath('/home/ubuntu/Development/git-repos/side_projects/python-workbench/part_1-python-fundamentals/03_basics-deep-dive/09_filesystem/sample_data')"
      ]
     },
     "execution_count": 7,
     "metadata": {},
     "output_type": "execute_result"
    }
   ],
   "source": [
    "import pathlib\n",
    "\n",
    "cur_path = pathlib.Path()\n",
    "cur_path.cwd()"
   ]
  },
  {
   "cell_type": "markdown",
   "metadata": {},
   "source": [
    "You can construct paths using the `Path.joinpath()` method:"
   ]
  },
  {
   "cell_type": "code",
   "execution_count": 28,
   "metadata": {},
   "outputs": [
    {
     "data": {
      "text/plain": [
       "PosixPath('bin/utils/disktools')"
      ]
     },
     "execution_count": 28,
     "metadata": {},
     "output_type": "execute_result"
    }
   ],
   "source": [
    "from pathlib import Path\n",
    "\n",
    "cur_path = Path()\n",
    "cur_path.joinpath(\"bin\", \"utils\", \"disktools\")"
   ]
  },
  {
   "cell_type": "markdown",
   "metadata": {},
   "source": [
    "The division operator `/` is overloaded with `Path` objects to let you build paths with a cleaner syntax:"
   ]
  },
  {
   "cell_type": "code",
   "execution_count": 29,
   "metadata": {},
   "outputs": [
    {
     "data": {
      "text/plain": [
       "PosixPath('bin/utils/disktools')"
      ]
     },
     "execution_count": 29,
     "metadata": {},
     "output_type": "execute_result"
    }
   ],
   "source": [
    "from pathlib import Path\n",
    "\n",
    "cur_path = Path()\n",
    "cur_path / \"bin\" / \"utils\" / \"disktools\""
   ]
  },
  {
   "cell_type": "markdown",
   "metadata": {},
   "source": [
    "The `parts` property returns a tuple with all the components of a Path object:"
   ]
  },
  {
   "cell_type": "code",
   "execution_count": 30,
   "metadata": {},
   "outputs": [
    {
     "data": {
      "text/plain": [
       "('bin', 'utils', 'disktools')"
      ]
     },
     "execution_count": 30,
     "metadata": {},
     "output_type": "execute_result"
    }
   ],
   "source": [
    "from pathlib import Path\n",
    "\n",
    "cur_path = Path()\n",
    "some_path = cur_path / \"bin\" / \"utils\" / \"disktools\"\n",
    "some_path.parts"
   ]
  },
  {
   "cell_type": "markdown",
   "metadata": {},
   "source": [
    "+ The `name` property returns only the basename of the path, that is the single file or directory at the end of a path.\n",
    "+ The `parent` property returns the path up to, but not including the last name.\n",
    "+ The `suffix` property returns the dotted extension of a file (if available)"
   ]
  },
  {
   "cell_type": "code",
   "execution_count": 31,
   "metadata": {},
   "outputs": [],
   "source": [
    "from pathlib import Path\n",
    "\n",
    "# path whose basename is a file\n",
    "some_path = Path(\"path\", \"to\", \"img.png\")\n",
    "\n",
    "assert some_path.name == \"img.png\"\n",
    "assert some_path.parent == Path(\"path\", \"to\")\n",
    "assert some_path.suffix == \".png\""
   ]
  },
  {
   "cell_type": "code",
   "execution_count": 32,
   "metadata": {},
   "outputs": [],
   "source": [
    "from pathlib import Path\n",
    "\n",
    "# path whose basename is a directory\n",
    "some_path = Path(\"path\", \"to\", \"some\", \"dir\")\n",
    "\n",
    "assert some_path.name == \"dir\"\n",
    "assert some_path.parent == Path(\"path\", \"to\", \"some\")\n",
    "assert some_path.suffix == \"\""
   ]
  },
  {
   "cell_type": "markdown",
   "metadata": {},
   "source": [
    "`Path` objects also support referring to user and home directories using the `Path.expanduser()` and `Path.home()` methods:"
   ]
  },
  {
   "cell_type": "code",
   "execution_count": 90,
   "metadata": {},
   "outputs": [],
   "source": [
    "from pathlib import Path\n",
    "\n",
    "assert Path(\"~\").expanduser() == Path(\"/home/ubuntu\")\n",
    "assert Path().home() == Path(\"/home/ubuntu\")"
   ]
  },
  {
   "cell_type": "markdown",
   "metadata": {},
   "source": [
    "#### Accessing directories using `os` (legacy)\n",
    "\n",
    "The `os.getcwd()` function returns the current working directory as a string.\n"
   ]
  },
  {
   "cell_type": "code",
   "execution_count": 1,
   "metadata": {},
   "outputs": [
    {
     "data": {
      "text/plain": [
       "'/home/ubuntu/Development/git-repos/side_projects/python-workbench/part_1-python-fundamentals/03_basics-deep-dive/09_filesystem'"
      ]
     },
     "execution_count": 1,
     "metadata": {},
     "output_type": "execute_result"
    }
   ],
   "source": [
    "import os\n",
    "\n",
    "os.getcwd()"
   ]
  },
  {
   "cell_type": "markdown",
   "metadata": {},
   "source": [
    "The constant `os.curdir` returns a string representing the current directory (i.e., `.` in Linux and Windows):"
   ]
  },
  {
   "cell_type": "code",
   "execution_count": 3,
   "metadata": {},
   "outputs": [
    {
     "data": {
      "text/plain": [
       "'.'"
      ]
     },
     "execution_count": 3,
     "metadata": {},
     "output_type": "execute_result"
    }
   ],
   "source": [
    "import os\n",
    "\n",
    "os.curdir"
   ]
  },
  {
   "cell_type": "markdown",
   "metadata": {},
   "source": [
    "Thus, to list the files in the current dir, you can do:"
   ]
  },
  {
   "cell_type": "code",
   "execution_count": 4,
   "metadata": {},
   "outputs": [
    {
     "data": {
      "text/plain": [
       "['.venv', 'README.md', '09_filesystem.ipynb', 'requirements.txt']"
      ]
     },
     "execution_count": 4,
     "metadata": {},
     "output_type": "execute_result"
    }
   ],
   "source": [
    "import os\n",
    "\n",
    "os.listdir(os.curdir)"
   ]
  },
  {
   "cell_type": "markdown",
   "metadata": {},
   "source": [
    "You can use `os.chdir` to change the CWD and have a look at a particular folder:"
   ]
  },
  {
   "cell_type": "code",
   "execution_count": 5,
   "metadata": {},
   "outputs": [
    {
     "name": "stdout",
     "output_type": "stream",
     "text": [
      "/home/ubuntu/Development/git-repos/side_projects/python-workbench/part_1-python-fundamentals/03_basics-deep-dive/09_filesystem/sample_data\n"
     ]
    },
    {
     "data": {
      "text/plain": [
       "['file1.txt', 'file2.txt', 'file3.txt']"
      ]
     },
     "execution_count": 5,
     "metadata": {},
     "output_type": "execute_result"
    }
   ],
   "source": [
    "import os\n",
    "\n",
    "os.chdir('sample_data')\n",
    "print(os.getcwd())\n",
    "os.listdir()"
   ]
  },
  {
   "cell_type": "markdown",
   "metadata": {},
   "source": [
    "To construct a path, you can use `os.path.join` function passing a variable number of directory names or filenames, which will be joined to form a single string that can be used as a path. \n",
    "\n",
    "| NOTE: |\n",
    "| :---- |\n",
    "| It is not necessary to do `import os.path`. Importing `os` brings `os.path` with it. |"
   ]
  },
  {
   "cell_type": "code",
   "execution_count": 8,
   "metadata": {},
   "outputs": [
    {
     "data": {
      "text/plain": [
       "'bin/utils/disktools'"
      ]
     },
     "execution_count": 8,
     "metadata": {},
     "output_type": "execute_result"
    }
   ],
   "source": [
    "import os\n",
    "\n",
    "os.path.join(\"bin\", \"utils\", \"disktools\")"
   ]
  },
  {
   "cell_type": "markdown",
   "metadata": {},
   "source": [
    "`os.path.join` also accepts subpaths, which will be then joined to make longer pathnames:"
   ]
  },
  {
   "cell_type": "code",
   "execution_count": 9,
   "metadata": {},
   "outputs": [
    {
     "data": {
      "text/plain": [
       "'mydir/bin/utils/disktools/chkdsk'"
      ]
     },
     "execution_count": 9,
     "metadata": {},
     "output_type": "execute_result"
    }
   ],
   "source": [
    "import os\n",
    "\n",
    "os.path.join(\"mydir/bin\", \"utils/disktools/chkdsk\")"
   ]
  },
  {
   "cell_type": "markdown",
   "metadata": {},
   "source": [
    "`os.path.join` can work transparently with Linux and Windows path styles:"
   ]
  },
  {
   "cell_type": "code",
   "execution_count": 12,
   "metadata": {},
   "outputs": [
    {
     "name": "stdout",
     "output_type": "stream",
     "text": [
      "mydir\\bin/utils\\disktools\\chkdsk\n"
     ]
    }
   ],
   "source": [
    "import os\n",
    "\n",
    "win_path = os.path.join(\"mydir\\\\bin\", \"utils\\\\disktools\\\\chkdsk\")\n",
    "print(win_path)"
   ]
  },
  {
   "cell_type": "markdown",
   "metadata": {},
   "source": [
    "Note that the path looks strange. First you need to pass `\\\\` as it is the directory separator in Windows. Also, when printing it, you find a mixture of Linux and Windows path separators.\n",
    "\n",
    "It is much better to write the previous example in a more portable manner using:"
   ]
  },
  {
   "cell_type": "code",
   "execution_count": 13,
   "metadata": {},
   "outputs": [
    {
     "name": "stdout",
     "output_type": "stream",
     "text": [
      "mydir/bin/utils/disktools/chkdsk\n"
     ]
    }
   ],
   "source": [
    "import os\n",
    "\n",
    "path1 = os.path.join(\"mydir\", \"bin\")\n",
    "path2 = os.path.join(\"utils\", \"disktools\", \"chkdsk\")\n",
    "final_path = os.path.join(path1, path2)\n",
    "print(final_path)"
   ]
  },
  {
   "cell_type": "markdown",
   "metadata": {},
   "source": [
    "The previous path will work well in both Windows and Linux."
   ]
  },
  {
   "cell_type": "markdown",
   "metadata": {},
   "source": [
    "`os.path.join` also understands quite well absolute vs. relative pathnames.\n",
    "\n",
    "In Linux is easy: *absolute* paths begin with `/`, which refers to the topmost directory of the entire system, even if it has multiple disks.\n",
    "\n",
    "In Windows is a bit more complex:\n",
    "+ A path beginning with a drive letter followed by a colon and a backslash and then a path is an absolute path (`C:\\Program Files\\Doom`). Note that `C:` is not the top-level directory of `C:`, but `C:\\` is.\n",
    "+ A path beginning with neither a drive letter nor a backslash is a relative path: `side_projects\\python\\python_games`.\n",
    "+ A path beginning with `\\\\` followed by the name of a server is the path to a network resource: `\\\\win_2012\\shared`\n",
    "+ Anything else can be considered an invalid pathname."
   ]
  },
  {
   "cell_type": "markdown",
   "metadata": {},
   "source": [
    "`os.path.join` doesn't perform validity checks on the paths it is constructing. You might end up with a path that cannot be created on a given OS.\n",
    "\n",
    "If that is a risk for your application, take some time to create a path validity checker function."
   ]
  },
  {
   "cell_type": "markdown",
   "metadata": {},
   "source": [
    "The `os.path.split` command returns a 2-tuple splitting the basename (the single file or directory at the end of a path) from the rest of the path:"
   ]
  },
  {
   "cell_type": "code",
   "execution_count": 14,
   "metadata": {},
   "outputs": [
    {
     "data": {
      "text/plain": [
       "('path/to/some', 'directory')"
      ]
     },
     "execution_count": 14,
     "metadata": {},
     "output_type": "execute_result"
    }
   ],
   "source": [
    "import os\n",
    "\n",
    "os.path.split(os.path.join(\"path\", \"to\", \"some\", \"directory\"))"
   ]
  },
  {
   "cell_type": "markdown",
   "metadata": {},
   "source": [
    "The `os.path.basename` function returns only the basename of the path, and the `os.path.dirname` function returns the path up to, but not including, the last name:"
   ]
  },
  {
   "cell_type": "code",
   "execution_count": 18,
   "metadata": {},
   "outputs": [],
   "source": [
    "import os\n",
    "\n",
    "some_path = os.path.join(\"path\", \"to\", \"some\", \"directory\", \"img.png\")\n",
    "\n",
    "assert os.path.basename(some_path) == \"img.png\"\n",
    "assert os.path.dirname(some_path) == \"path/to/some/directory\""
   ]
  },
  {
   "cell_type": "markdown",
   "metadata": {},
   "source": [
    "The function `os.path.splitext` returns a tuple consisting of a file name and the dotted extension:"
   ]
  },
  {
   "cell_type": "code",
   "execution_count": 21,
   "metadata": {},
   "outputs": [],
   "source": [
    "import os\n",
    "\n",
    "some_path = os.path.join(\"path\", \"to\", \"img.png\")\n",
    "assert os.path.splitext(some_path) == (\"path/to/img\", \".png\")"
   ]
  },
  {
   "cell_type": "code",
   "execution_count": 22,
   "metadata": {},
   "outputs": [],
   "source": [
    "import os\n",
    "\n",
    "some_path = os.path.join(\"path\", \"to\", \"some\", \"dir\")\n",
    "assert os.path.splitext(some_path) == (\"path/to/some/dir\", \"\")"
   ]
  },
  {
   "cell_type": "markdown",
   "metadata": {},
   "source": [
    "The function `os.path.expandvars` can be used to expand environment variables used in paths (both for Windows and Linux):"
   ]
  },
  {
   "cell_type": "code",
   "execution_count": 25,
   "metadata": {},
   "outputs": [
    {
     "data": {
      "text/plain": [
       "'/home/ubuntu/downloads'"
      ]
     },
     "execution_count": 25,
     "metadata": {},
     "output_type": "execute_result"
    }
   ],
   "source": [
    "import os\n",
    "\n",
    "os.path.expandvars(\"$HOME/downloads\")\n"
   ]
  },
  {
   "cell_type": "markdown",
   "metadata": {},
   "source": [
    "Similarly, `os.path.expanduser` function expand username shortcuts found in paths:"
   ]
  },
  {
   "cell_type": "code",
   "execution_count": null,
   "metadata": {},
   "outputs": [],
   "source": [
    "import os\n",
    "\n",
    "os.path.expanduser(\"~/downloads\")"
   ]
  },
  {
   "cell_type": "markdown",
   "metadata": {},
   "source": [
    "You can make your code more platform independent if you use a few useful constants such as `os.curdir` and `os.pardir` to refer to the current and parent dir:"
   ]
  },
  {
   "cell_type": "code",
   "execution_count": 33,
   "metadata": {},
   "outputs": [
    {
     "name": "stdout",
     "output_type": "stream",
     "text": [
      ".\n",
      "..\n"
     ]
    }
   ],
   "source": [
    "import os\n",
    "\n",
    "print(os.curdir)\n",
    "print(os.pardir)"
   ]
  },
  {
   "cell_type": "markdown",
   "metadata": {},
   "source": [
    "Those can be used as normal path parameters when building paths:"
   ]
  },
  {
   "cell_type": "code",
   "execution_count": 34,
   "metadata": {},
   "outputs": [
    {
     "name": "stdout",
     "output_type": "stream",
     "text": [
      "../path/to/some/dir\n"
     ]
    }
   ],
   "source": [
    "import os\n",
    "\n",
    "some_path = os.path.join(\"path\", \"to\", \"some\", \"dir\")\n",
    "parent = os.path.join(os.pardir, some_path)\n",
    "print(parent)"
   ]
  },
  {
   "cell_type": "markdown",
   "metadata": {},
   "source": [
    "The function `os.path.isabs()` can be used to ask whether a path is an absolute path or a relative one:"
   ]
  },
  {
   "cell_type": "code",
   "execution_count": 35,
   "metadata": {},
   "outputs": [
    {
     "data": {
      "text/plain": [
       "False"
      ]
     },
     "execution_count": 35,
     "metadata": {},
     "output_type": "execute_result"
    }
   ],
   "source": [
    "import os\n",
    "\n",
    "some_path = os.path.join(os.pardir, \"mini-projects\")\n",
    "os.path.isabs(some_path)"
   ]
  },
  {
   "cell_type": "markdown",
   "metadata": {},
   "source": [
    "The constant `os.curdir` is typically used when running commands on the current directory:"
   ]
  },
  {
   "cell_type": "code",
   "execution_count": 36,
   "metadata": {},
   "outputs": [
    {
     "data": {
      "text/plain": [
       "['file1.txt', 'file2.txt', 'file3.txt']"
      ]
     },
     "execution_count": 36,
     "metadata": {},
     "output_type": "execute_result"
    }
   ],
   "source": [
    "import os\n",
    "\n",
    "os.listdir(os.curdir)"
   ]
  },
  {
   "cell_type": "markdown",
   "metadata": {},
   "source": [
    "The constant `os.name` returns the name of the Python module used to handle the OS specific operations:"
   ]
  },
  {
   "cell_type": "code",
   "execution_count": 37,
   "metadata": {},
   "outputs": [
    {
     "data": {
      "text/plain": [
       "'posix'"
      ]
     },
     "execution_count": 37,
     "metadata": {},
     "output_type": "execute_result"
    }
   ],
   "source": [
    "import os\n",
    "\n",
    "os.name"
   ]
  },
  {
   "cell_type": "markdown",
   "metadata": {},
   "source": [
    "| NOTE: |\n",
    "| :---- |\n",
    "| Most versions of windows will return `nt` for the `os.name`.<br>In some cases, you might see code that reads `sys.platform` instead, which gives more detailed information (`linux` for Linux systems, `win32` for Windows systems, and `darwin` for Macs). |"
   ]
  },
  {
   "cell_type": "code",
   "execution_count": 38,
   "metadata": {},
   "outputs": [
    {
     "data": {
      "text/plain": [
       "'linux'"
      ]
     },
     "execution_count": 38,
     "metadata": {},
     "output_type": "execute_result"
    }
   ],
   "source": [
    "import sys\n",
    "\n",
    "sys.platform"
   ]
  },
  {
   "cell_type": "markdown",
   "metadata": {},
   "source": [
    "The variable `os.environ` references a dictionary with all the environment variables. On most operating systems, this dictionary includes certain variables related to paths (such as search paths for binaries, etc.)"
   ]
  },
  {
   "cell_type": "code",
   "execution_count": null,
   "metadata": {},
   "outputs": [],
   "source": [
    "import os\n",
    "\n",
    "os.environ"
   ]
  },
  {
   "cell_type": "markdown",
   "metadata": {},
   "source": [
    "### Exercise\n",
    "\n",
    "How would you use the `os` module's function to take a path to a file called `test.log` and create a new file path in the same directory for a file called `test.log.old`? How would you do the same thing using the `pathlib` module? What path would you get if you created a pathlib `Path` object from `os.pardir`?"
   ]
  },
  {
   "cell_type": "markdown",
   "metadata": {},
   "source": [
    "Assuming that `test.log` sits on `sample_data/` directory, the file could be references using `os` module doing:"
   ]
  },
  {
   "cell_type": "code",
   "execution_count": 47,
   "metadata": {},
   "outputs": [
    {
     "name": "stdout",
     "output_type": "stream",
     "text": [
      ".././test.log/test.log.old\n"
     ]
    }
   ],
   "source": [
    "import os\n",
    "\n",
    "# check that CWD is still pointing to 'sample_data/'\n",
    "assert os.path.basename(os.getcwd()) == \"sample_data\"\n",
    "path_to_test_log = os.path.join(os.curdir, \"test.log\")\n",
    "path_to_test_log_old = os.path.join(os.path.pardir, path_to_test_log, \"test.log.old\")\n",
    "\n",
    "print(path_to_test_log_old)\n"
   ]
  },
  {
   "cell_type": "markdown",
   "metadata": {},
   "source": [
    "Using Pathlib is clearer:"
   ]
  },
  {
   "cell_type": "code",
   "execution_count": 51,
   "metadata": {},
   "outputs": [
    {
     "data": {
      "text/plain": [
       "PosixPath('test.log.old')"
      ]
     },
     "execution_count": 51,
     "metadata": {},
     "output_type": "execute_result"
    }
   ],
   "source": [
    "from pathlib import Path\n",
    "\n",
    "path_to_test_log = Path() / \"test.log\"\n",
    "path_to_test_log.parent / \"test.log.old\""
   ]
  },
  {
   "cell_type": "markdown",
   "metadata": {},
   "source": [
    "If you have executed all the cells, `os.curdir` will point to `sample_data/` directory. Therefore, `os.pardir` will point to where the Python notebook resides:"
   ]
  },
  {
   "cell_type": "code",
   "execution_count": 52,
   "metadata": {},
   "outputs": [
    {
     "data": {
      "text/plain": [
       "PosixPath('..')"
      ]
     },
     "execution_count": 52,
     "metadata": {},
     "output_type": "execute_result"
    }
   ],
   "source": [
    "import os\n",
    "from pathlib import Path\n",
    "\n",
    "Path(os.pardir)"
   ]
  },
  {
   "cell_type": "markdown",
   "metadata": {},
   "source": [
    "## Getting information about files\n",
    "\n",
    "### Using `Path` (preferred)\n",
    "\n",
    "The most commonly used path-information functions are:\n",
    "\n",
    "+ `Path.exists()` &mdash; returns `True` if its argument is a path corresponding to something that exists in the filesystem.\n",
    "\n",
    "+ `Path.isfile()` &mdash; returns `True` if its argument is a normal file, otherwise, even is the path doesn't exists returns `False`.\n",
    "\n",
    "+ `Path.isdir()` &mdash; returns `True` if its argument is a directory."
   ]
  },
  {
   "cell_type": "code",
   "execution_count": null,
   "metadata": {},
   "outputs": [],
   "source": [
    "from pathlib import Path\n",
    "\n",
    "# Path.exists()\n",
    "assert Path(\"~/Development\").expanduser().exists() == True\n",
    "assert Path(\"path/to/file\").exists() == False\n",
    "\n",
    "# Path.isdir()\n",
    "assert Path(\"~/Development/\").expanduser().is_dir() == True\n",
    "assert Path(\"/path/to/file\").is_dir() == False # if doesn't exist returns False\n",
    "assert Path(\"~/.bashrc\").expanduser().is_dir() == False\n",
    "\n",
    "# Path.isfile()\n",
    "assert Path(\"~/Development/\").expanduser().is_file() == False\n",
    "assert Path(\"/path/to/file/img.png\").is_file() == False # if doesn't exist returns False\n",
    "assert Path(\"~/.bashrc\").expanduser().is_file() == True"
   ]
  },
  {
   "cell_type": "markdown",
   "metadata": {},
   "source": [
    "+ `Path.is_symlink()` &mdash; returns `True` if the path is a symbolic link.\n",
    "\n",
    "+ `Path.is_mount()` &mdash; returns `True` if the path is a mount point.\n",
    "\n",
    "+ `Path.samefile(path)` &mdash; returns `True` if the path it is applied to and the given path point to the same file.\n",
    "\n",
    "+ `Path.is_abs()` &mdash; returns `True` if the path represents an absolute path.\n",
    "\n",
    "+ `Path.stat()` &mdash; returns an object with file properties such as `st_size`, `st_mtime`, `st_atime`, and `st_ctime` which provides the size, modified time, last access time, and creation time.\n"
   ]
  },
  {
   "cell_type": "code",
   "execution_count": 82,
   "metadata": {},
   "outputs": [
    {
     "data": {
      "text/plain": [
       "os.stat_result(st_mode=33188, st_ino=40738, st_dev=2080, st_nlink=1, st_uid=1000, st_gid=1000, st_size=7581, st_atime=1724561483, st_mtime=1705511456, st_ctime=1705511456)"
      ]
     },
     "execution_count": 82,
     "metadata": {},
     "output_type": "execute_result"
    }
   ],
   "source": [
    "from pathlib import Path\n",
    "\n",
    "assert (Path.home() / \"wsl_shared\").is_symlink() == True\n",
    "assert Path(\"/mnt/wsl\").is_mount() == True\n",
    "assert (Path().home() / \".bashrc\").samefile(Path(\"/home/ubuntu/.bashrc\"))\n",
    "assert Path(\"/home\").is_absolute() == True\n",
    "\n",
    "(Path().home() / \".bashrc\").stat()\n"
   ]
  },
  {
   "cell_type": "markdown",
   "metadata": {},
   "source": [
    "### Using `os.path` (legacy)\n",
    "\n",
    "The most commonly used path-information functions are:\n",
    "\n",
    "+ `os.path.exists()` &mdash; returns `True` if its argument is a path corresponding to something that exists in the filesystem.\n",
    "\n",
    "+ `os.path.isfile()` &mdash; returns `True` if its argument is a normal file, otherwise, even is the path doesn't exists returns `False`.\n",
    "\n",
    "+ `os.path.isdir()` &mdash; returns `True` if its argument is a directory."
   ]
  },
  {
   "cell_type": "code",
   "execution_count": 67,
   "metadata": {},
   "outputs": [],
   "source": [
    "import os\n",
    "\n",
    "# os.path.exists()\n",
    "assert os.path.exists(os.path.expanduser(\"~/Development/\")) == True\n",
    "assert os.path.exists(\"path/to/file\") == False\n",
    "\n",
    "# os.path.isdir()\n",
    "assert os.path.isdir(os.path.expanduser(\"~/Development/\")) == True\n",
    "assert os.path.isdir(\"/path/to/file\") == False # if doesn't exist returns False\n",
    "assert os.path.isdir(os.path.expanduser(\"~/.bashrc\")) == False\n",
    "\n",
    "# os.path.isfile()\n",
    "assert os.path.isfile(os.path.expanduser(\"~/Development/\")) == False\n",
    "assert os.path.isfile(\"/path/to/file/img.png\") == False # if doesn't exist returns False\n",
    "assert os.path.isfile(os.path.expanduser(\"~/.bashrc\")) == True\n"
   ]
  },
  {
   "cell_type": "markdown",
   "metadata": {},
   "source": [
    "+ `os.path.islink()` &mdash; returns `True` if its argument is a file link. Note that it returns `False` for Windows shortcut files.\n",
    "\n",
    "+ `os.path.ismount()` &mdash; returns `True` if its argument is a mount point.\n",
    "\n",
    "+ `os.path.samefile(path1, path2)` &mdash; returns `True` if `path1` and `path2` point to the same file.\n",
    "\n",
    "+ `os.path.isabs(path)` &mdash; returns `True` if path represents an absolute path.\n",
    "\n",
    "+ `os.path.getsize(path)` &mdash; returns the size of the file identified by the given path.\n",
    "\n",
    "+ `os.path.getmtime(path)` &mdash; returns the last modified time of the given path.\n",
    "\n",
    "+ `os.path.getatime(path)` &mdash; returns the last access time of the given path."
   ]
  },
  {
   "cell_type": "markdown",
   "metadata": {},
   "source": [
    "### Getting information about files with `os.scandir` (legacy)\n",
    "\n",
    "The function `os.scandir` returns an iterator of `os.DirEntry` objects. The `DirEntry` object exposes the file attributes of a directory entry, and can be more efficient than using `os.listdir` combined with `os.path` operations.\n",
    "\n",
    "Additionally, `os.scandir()` supports the context manager syntax, which ensures that resources are properly disposed of when no longer needed."
   ]
  },
  {
   "cell_type": "code",
   "execution_count": 84,
   "metadata": {},
   "outputs": [
    {
     "name": "stdout",
     "output_type": "stream",
     "text": [
      "05_control-flow False\n",
      "09_filesystem False\n",
      "01_python-building-blocks False\n",
      "02_lists-tuples-sets False\n",
      "07_modules-and-scoping-rules False\n",
      ".python-version True\n",
      "00_tools False\n",
      "08_python-programs False\n",
      "03_strings False\n",
      "06_functions False\n",
      "04_dictionaries False\n"
     ]
    }
   ],
   "source": [
    "with os.scandir(\".\") as my_dir:\n",
    "    for dir_entry in my_dir:\n",
    "        print(dir_entry.name, dir_entry.is_file())"
   ]
  },
  {
   "cell_type": "markdown",
   "metadata": {},
   "source": [
    "## More filesystem operations using `pathlib` module (preferred)\n",
    "\n",
    "The `Path.iterdir` method returns an iterator of path so that you can obtain a list of the contents of a directory:"
   ]
  },
  {
   "cell_type": "code",
   "execution_count": 179,
   "metadata": {},
   "outputs": [
    {
     "data": {
      "text/plain": [
       "[PosixPath('file1.txt'),\n",
       " PosixPath('file2.txt'),\n",
       " PosixPath('file3.txt'),\n",
       " PosixPath('log.out')]"
      ]
     },
     "execution_count": 179,
     "metadata": {},
     "output_type": "execute_result"
    }
   ],
   "source": [
    "from pathlib import Path\n",
    "\n",
    "\n",
    "expected = [Path(\"file1.txt\"), Path(\"file2.txt\"), Path(\"file3.txt\"), Path(\"log.out\")]\n",
    "for path in Path().iterdir():\n",
    "    assert path in expected\n",
    "\n",
    "# materializing the iterator\n",
    "list(Path().iterdir())"
   ]
  },
  {
   "cell_type": "markdown",
   "metadata": {},
   "source": [
    "`Path` objects expose a `glob` method you can use to obtain an iterator of the path objects that match the given pattern.\n",
    "\n",
    "The following is a simple cheatsheet of glob patterns:\n",
    "\n",
    "+ `*` &mdash; matches any sequence of characters\n",
    "+ `?` &mdash; matches any single character\n",
    "+ `[h, H]` &mdash; matches the given characters\n",
    "+ `[0-9]` &mdash; matches the given character sequence"
   ]
  },
  {
   "cell_type": "code",
   "execution_count": 138,
   "metadata": {},
   "outputs": [
    {
     "data": {
      "text/plain": [
       "[PosixPath('file1.txt'), PosixPath('file2.txt'), PosixPath('file3.txt')]"
      ]
     },
     "execution_count": 138,
     "metadata": {},
     "output_type": "execute_result"
    }
   ],
   "source": [
    "from pathlib import Path\n",
    "\n",
    "list(Path().glob(\"file?.txt\"))"
   ]
  },
  {
   "cell_type": "markdown",
   "metadata": {},
   "source": [
    "To rename/move a file or directory, use `Path.rename`. This can be used to move files within and across directories."
   ]
  },
  {
   "cell_type": "code",
   "execution_count": 176,
   "metadata": {},
   "outputs": [],
   "source": [
    "import os\n",
    "\n",
    "# make sure we're in the correct path\n",
    "# os.chdir(\"sample_data\")\n",
    "\n",
    "assert os.path.basename(os.getcwd()) == \"sample_data\"\n"
   ]
  },
  {
   "cell_type": "code",
   "execution_count": 178,
   "metadata": {},
   "outputs": [
    {
     "data": {
      "text/plain": [
       "PosixPath('log.out')"
      ]
     },
     "execution_count": 178,
     "metadata": {},
     "output_type": "execute_result"
    }
   ],
   "source": [
    "from pathlib import Path\n",
    "\n",
    "log_file = Path(\"log.out\")\n",
    "log_file.rename(\"log.out.old\")\n",
    "assert Path(\"log.out.old\").exists()\n",
    "\n",
    "# revert the renaming\n",
    "Path(\"log.out.old\").rename(\"log.out\")\n"
   ]
  },
  {
   "cell_type": "markdown",
   "metadata": {},
   "source": [
    "To remove or delete a data file, use `Path.unlink` method. You cannot use `Path.unlink` to delete directories, even if they're empty."
   ]
  },
  {
   "cell_type": "code",
   "execution_count": 142,
   "metadata": {},
   "outputs": [],
   "source": [
    "tmp_file = Path(\"some.tmp\")\n",
    "tmp_file.touch()\n",
    "\n",
    "assert Path(\"some.tmp\").exists()\n",
    "tmp_file.unlink()\n",
    "assert Path(\"some.tmp\").exists() == False"
   ]
  },
  {
   "cell_type": "markdown",
   "metadata": {},
   "source": [
    "You can create directories with the `Path.mkdir` method. With the `parents=True` parameter any intermediate directories that do not exist will be created:"
   ]
  },
  {
   "cell_type": "code",
   "execution_count": 146,
   "metadata": {},
   "outputs": [],
   "source": [
    "from pathlib import Path\n",
    "import shutil\n",
    "\n",
    "new_dir = Path(\"path\", \"to\", \"some\", \"dir\")\n",
    "new_dir.mkdir(parents=True)\n",
    "\n",
    "assert new_dir.is_dir()\n",
    "shutil.rmtree(\"path\")\n"
   ]
  },
  {
   "cell_type": "markdown",
   "metadata": {},
   "source": [
    "To remove a directory, use the `Path.rmdir` method. This method only works on empty directories:"
   ]
  },
  {
   "cell_type": "code",
   "execution_count": 148,
   "metadata": {},
   "outputs": [],
   "source": [
    "from pathlib import Path\n",
    "\n",
    "new_dir = Path(\"path\", \"to\", \"some\", \"dir\")\n",
    "new_dir.mkdir(parents=True)\n",
    "\n",
    "assert new_dir.is_dir()\n",
    "Path(\"path\", \"to\", \"some\", \"dir\").rmdir()\n",
    "Path(\"path\", \"to\", \"some\").rmdir()\n",
    "Path(\"path\", \"to\").rmdir()\n",
    "Path(\"path\").rmdir()"
   ]
  },
  {
   "cell_type": "markdown",
   "metadata": {},
   "source": [
    "## More filesystem operations using the `os` module (legacy)\n",
    "\n",
    "`os.listdir(path)` function returns a list of files in the directory identified by path:"
   ]
  },
  {
   "cell_type": "code",
   "execution_count": 95,
   "metadata": {},
   "outputs": [
    {
     "data": {
      "text/plain": [
       "['aws-saa-c03',\n",
       " 'gremlin-visualizer',\n",
       " 'go-workbench',\n",
       " 'nodejs-in-action',\n",
       " 'tempconv',\n",
       " 'vec2d',\n",
       " 'functionality-conflict',\n",
       " 'python-workbench',\n",
       " 'math-workbench',\n",
       " 'grokking-graphs',\n",
       " 'azure-in-action',\n",
       " 'stats-workbench',\n",
       " 'go-prjs',\n",
       " 'docker-book',\n",
       " 'vec3d',\n",
       " 'Multitenancy-AuthorizationAuthentication',\n",
       " 'graph-explorer',\n",
       " 'currex',\n",
       " 'aws-workbench',\n",
       " 'Math-for-Programmers',\n",
       " 'serverless-webapp',\n",
       " 'python-in-action',\n",
       " 'kubernetes-in-action',\n",
       " 'es-in-action']"
      ]
     },
     "execution_count": 95,
     "metadata": {},
     "output_type": "execute_result"
    }
   ],
   "source": [
    "import os\n",
    "\n",
    "os.listdir(os.path.expandvars(\"$HOME/Development/git-repos/side_projects\"))"
   ]
  },
  {
   "cell_type": "markdown",
   "metadata": {},
   "source": [
    "Note that the listing does not include `os.curdir` and `os.pardir`."
   ]
  },
  {
   "cell_type": "markdown",
   "metadata": {},
   "source": [
    "The `glob` function from the `glob` module exapands Linux shell-style wildcard characters and character sequences in a pathname, returning the files in the current working directory that match:\n",
    "\n",
    "+ `*` &mdash; matches any sequence of characters\n",
    "+ `?` &mdash; matches any single character\n",
    "+ `[h, H]` &mdash; matches the given characters\n",
    "+ `[0-9]` &mdash; matches the given character sequence"
   ]
  },
  {
   "cell_type": "code",
   "execution_count": 102,
   "metadata": {},
   "outputs": [],
   "source": [
    "import os\n",
    "\n",
    "# adjust as needed to point to `sample_data/`\n",
    "# os.chdir(\"09_filesystem\")\n",
    "\n",
    "# check we're where the notebook resides\n",
    "assert os.path.basename(os.getcwd()) == \"09_filesystem\"\n",
    "\n",
    "# change cwd to sample_data\n",
    "os.chdir(\"sample_data\")\n"
   ]
  },
  {
   "cell_type": "code",
   "execution_count": 181,
   "metadata": {},
   "outputs": [],
   "source": [
    "import glob\n",
    "\n",
    "expected = [\"log.out\", \"file1.txt\", \"file2.txt\", \"file3.txt\"]\n",
    "for file in glob.glob(\"*\"):\n",
    "    assert file in expected\n"
   ]
  },
  {
   "cell_type": "code",
   "execution_count": 108,
   "metadata": {},
   "outputs": [],
   "source": [
    "import glob\n",
    "\n",
    "expected = [\"file1.txt\", \"file2.txt\", \"file3.txt\"]\n",
    "for file in glob.glob(\"*txt\"):\n",
    "    assert file in expected"
   ]
  },
  {
   "cell_type": "code",
   "execution_count": 109,
   "metadata": {},
   "outputs": [],
   "source": [
    "import glob\n",
    "\n",
    "expected = [\"file1.txt\", \"file2.txt\", \"file3.txt\"]\n",
    "for file in glob.glob(\"file?.txt\"):\n",
    "    assert file in expected"
   ]
  },
  {
   "cell_type": "code",
   "execution_count": 110,
   "metadata": {},
   "outputs": [],
   "source": [
    "import glob\n",
    "\n",
    "expected = [\"file1.txt\", \"file2.txt\", \"file3.txt\"]\n",
    "for file in glob.glob(\"file[1-3].txt\"):\n",
    "    assert file in expected"
   ]
  },
  {
   "cell_type": "code",
   "execution_count": 111,
   "metadata": {},
   "outputs": [],
   "source": [
    "import glob\n",
    "\n",
    "expected = [\"file1.txt\", \"file2.txt\", \"file3.txt\"]\n",
    "for file in glob.glob(\"file[1, 2, 3].txt\"):\n",
    "    assert file in expected"
   ]
  },
  {
   "cell_type": "markdown",
   "metadata": {},
   "source": [
    "To rename/move a file you can use `os.rename`:"
   ]
  },
  {
   "cell_type": "code",
   "execution_count": 180,
   "metadata": {},
   "outputs": [],
   "source": [
    "import os\n",
    "import glob\n",
    "\n",
    "os.rename(\"log.out\", \"log.out.old\")\n",
    "assert glob.glob(\"*.old\") == [\"log.out.old\"]\n",
    "\n",
    "# reset\n",
    "os.rename(\"log.out.old\", \"log.out\")\n"
   ]
  },
  {
   "cell_type": "markdown",
   "metadata": {},
   "source": [
    "Note that you can use this command to move files across directories as well, and not only within directories."
   ]
  },
  {
   "cell_type": "markdown",
   "metadata": {},
   "source": [
    "You can remove/delete a file with `os.remove`:"
   ]
  },
  {
   "cell_type": "code",
   "execution_count": 119,
   "metadata": {},
   "outputs": [],
   "source": [
    "import os\n",
    "from pathlib import Path\n",
    "import glob\n",
    "\n",
    "# Create a tmp file\n",
    "Path(\"some.tmp\").touch()\n",
    "assert glob.glob(\"*.tmp\") == [\"some.tmp\"]\n",
    "\n",
    "# Remove it\n",
    "os.remove(\"some.tmp\")\n",
    "assert glob.glob(\"*.tmp\") == []"
   ]
  },
  {
   "cell_type": "markdown",
   "metadata": {},
   "source": [
    "| NOTE: |\n",
    "| :---- |\n",
    "| You can't use `os.remove()` to delete directories, even if they're empty. |"
   ]
  },
  {
   "cell_type": "code",
   "execution_count": 128,
   "metadata": {},
   "outputs": [
    {
     "name": "stdout",
     "output_type": "stream",
     "text": [
      "Oops: {IsADirectoryError(21, 'Is a directory')}\n"
     ]
    }
   ],
   "source": [
    "import os\n",
    "\n",
    "# Create an empty directory\n",
    "os.mkdir(\"empty_dir\")\n",
    "assert os.path.isdir(\"empty_dir\")\n",
    "\n",
    "try:\n",
    "    os.remove(\"empty_dir\")\n",
    "except Exception as e:\n",
    "    print(\"Oops:\", {e})\n",
    "\n",
    "# remove directory to make the cell idempotent\n",
    "os.rmdir(\"empty_dir\")"
   ]
  },
  {
   "cell_type": "markdown",
   "metadata": {},
   "source": [
    "To create a directory use `os.makedirs()` or `os.mkdir()`. The former create any necessary intermediate directories.\n",
    "\n",
    "`os.rmdir()` can be used to remove empty directories. Attempting to remove a non-empty directory with `rmdir` ends in an exception being raised:"
   ]
  },
  {
   "cell_type": "code",
   "execution_count": 133,
   "metadata": {},
   "outputs": [],
   "source": [
    "import os\n",
    "\n",
    "os.makedirs(\"path/to/sample/dir\")\n",
    "\n",
    "assert os.path.isdir(\"path\")\n",
    "assert os.path.isdir(\"path/to\")\n",
    "assert os.path.isdir(\"path/to/sample\")\n",
    "assert os.path.isdir(\"path/to/sample/dir\")\n",
    "\n",
    "os.rmdir(\"path/to/sample/dir\")\n",
    "os.rmdir(\"path/to/sample/\")\n",
    "os.rmdir(\"path/to\")\n",
    "os.rmdir(\"path\")\n",
    "\n"
   ]
  },
  {
   "cell_type": "markdown",
   "metadata": {},
   "source": [
    "To remove non-empty directories, use the `shutil.rmtree()`. This function recursively removes all files in a directory tree:"
   ]
  },
  {
   "cell_type": "code",
   "execution_count": 134,
   "metadata": {},
   "outputs": [],
   "source": [
    "import os\n",
    "import shutil\n",
    "\n",
    "os.makedirs(\"path/to/sample/dir\")\n",
    "\n",
    "assert os.path.isdir(\"path\")\n",
    "assert os.path.isdir(\"path/to\")\n",
    "assert os.path.isdir(\"path/to/sample\")\n",
    "assert os.path.isdir(\"path/to/sample/dir\")\n",
    "\n",
    "shutil.rmtree(\"path\")"
   ]
  },
  {
   "cell_type": "markdown",
   "metadata": {},
   "source": [
    "## Processing all files in a directory subtree using `Pathlib` (preferred)\n",
    "\n",
    "The `Path.walk()` function lets you walk through an entire directory tree, returning three things for each directory it traverses: the root or path of that directory, a list of its subdirectories, and a list of files.\n",
    "\n",
    "`Path.walk()` can be configured with three optional arguments:\n",
    "+ `topdown` &mdash; if True or not present the files in each directory are processed before its subdirectories. If False, the subdirectories are processed first.\n",
    "+ `oneerror` &mdash; can be set to a function to handle any error that results from calling `os.listdir`. By default, errors are ignored.\n",
    "+ `followlinks` &mdash; if True, symbolic links will be followed. By default, it doesn't walk down into folders that are symbolic links."
   ]
  },
  {
   "cell_type": "markdown",
   "metadata": {},
   "source": [
    "## Processing all files in a directory subtree using `os` (legacy)\n",
    "\n",
    "The `os.walk()` function lets you walk through an entire directory tree, returning three things for each directory it traverses: the root or path of that directory, a list of its subdirectories, and a list of files.\n",
    "\n",
    "`os.walk()` is invoked with the path of the starting, or top, directory and three optional arguments:\n",
    "+ `topdown` &mdash; if True or not present the files in each directory are processed before its subdirectories. If False, the subdirectories are processed first.\n",
    "+ `oneerror` &mdash; can be set to a function to handle any error that results from calling `os.listdir`. By default, errors are ignored.\n",
    "+ `followlinks` &mdash; if True, symbolic links will be followed. By default, it doesn't walk down into folders that are symbolic links."
   ]
  },
  {
   "cell_type": "code",
   "execution_count": null,
   "metadata": {},
   "outputs": [],
   "source": [
    "import os\n",
    "\n",
    "# Set the CWD to where the notebook resides\n",
    "# os.chdir(os.pardir)\n",
    "\n",
    "# Check we're in the correct place to run next cell\n",
    "assert os.path.basename(os.getcwd()) == \"09_filesystem\""
   ]
  },
  {
   "cell_type": "code",
   "execution_count": 165,
   "metadata": {},
   "outputs": [
    {
     "name": "stdout",
     "output_type": "stream",
     "text": [
      ". has 3 files\n",
      ".venv has 2 files\n",
      ".venv/include has 0 files\n",
      ".venv/include/python3.12 has 0 files\n",
      ".venv/share has 0 files\n",
      ".venv/share/jupyter has 0 files\n",
      ".venv/share/jupyter/kernels has 0 files\n",
      ".venv/share/jupyter/kernels/python3 has 4 files\n",
      ".venv/share/man has 0 files\n",
      ".venv/share/man/man1 has 1 files\n",
      ".venv/bin has 20 files\n",
      "sample_data has 4 files\n"
     ]
    }
   ],
   "source": [
    "from pathlib import Path\n",
    "\n",
    "notebook_dir = Path()\n",
    "\n",
    "for root, dirs, files in notebook_dir.walk():\n",
    "    print(f\"{root} has {len(files)} files\")\n",
    "    if \"lib\" in dirs:\n",
    "        dirs.remove(\"lib\")\n",
    "    if Path(\"lib64\") in dirs:\n",
    "        dirs.remove(\"lib64\")"
   ]
  },
  {
   "cell_type": "markdown",
   "metadata": {},
   "source": [
    "The following snippet iterates over the tree of the directory where the notebook resides.\n",
    "\n",
    "While iterating, we prevent going down the `lib` and `lib64` subtrees:"
   ]
  },
  {
   "cell_type": "code",
   "execution_count": 151,
   "metadata": {},
   "outputs": [],
   "source": [
    "import os\n",
    "\n",
    "# Set the CWD to where the notebook resides\n",
    "# os.chdir(os.pardir)\n",
    "\n"
   ]
  },
  {
   "cell_type": "code",
   "execution_count": 154,
   "metadata": {},
   "outputs": [
    {
     "name": "stdout",
     "output_type": "stream",
     "text": [
      ". has 3 files\n",
      "./.venv has 1 files\n",
      "./.venv/include has 0 files\n",
      "./.venv/include/python3.12 has 0 files\n",
      "./.venv/share has 0 files\n",
      "./.venv/share/jupyter has 0 files\n",
      "./.venv/share/jupyter/kernels has 0 files\n",
      "./.venv/share/jupyter/kernels/python3 has 4 files\n",
      "./.venv/share/man has 0 files\n",
      "./.venv/share/man/man1 has 1 files\n",
      "./.venv/bin has 20 files\n",
      "./sample_data has 4 files\n"
     ]
    }
   ],
   "source": [
    "import os\n",
    "\n",
    "# Check we are in the correct place\n",
    "assert os.path.basename(os.getcwd()) == \"09_filesystem\"\n",
    "\n",
    "for root, dirs, files in os.walk(os.curdir):\n",
    "    print(f\"{root} has {len(files)} files\")\n",
    "    if \"lib\" in dirs:\n",
    "        dirs.remove(\"lib\")\n",
    "    if \"lib64\" in dirs:\n",
    "        dirs.remove(\"lib64\")"
   ]
  },
  {
   "cell_type": "markdown",
   "metadata": {},
   "source": [
    "The `shutil.copytree()` function recursively makes copies of all the firec in a directory and all of its subdirectories, preserving their permission modes and stat data."
   ]
  },
  {
   "cell_type": "code",
   "execution_count": 184,
   "metadata": {},
   "outputs": [],
   "source": [
    "import shutil\n",
    "\n",
    "# Check we are in the correct place\n",
    "# os.chdir(os.pardir)\n",
    "assert os.path.basename(os.getcwd()) == \"09_filesystem\"\n",
    "\n",
    "shutil.copytree(\"sample_data\", \"sample_data_copy\")\n",
    "\n",
    "assert os.path.isfile(\"sample_data_copy/log.out\")\n",
    "\n",
    "# remove the copy\n",
    "shutil.rmtree(\"sample_data_copy\")"
   ]
  },
  {
   "cell_type": "markdown",
   "metadata": {},
   "source": [
    "### Lab: File operations\n",
    "\n",
    "Create a program that calculates the total size of all files ending with `.test` that aren't symlinks in a directory. The files found have to be moved to a new subdirectory in the same directory called backup:"
   ]
  },
  {
   "cell_type": "code",
   "execution_count": 192,
   "metadata": {},
   "outputs": [
    {
     "name": "stdout",
     "output_type": "stream",
     "text": [
      "Skipping lab/file5_lnk.tst: it's a symbolic link\n",
      "Total size of '.tst' files: 19 bytes\n"
     ]
    }
   ],
   "source": [
    "from pathlib import Path\n",
    "\n",
    "# assert we're in the correct place\n",
    "assert Path().resolve().name == \"09_filesystem\"\n",
    "\n",
    "lab_dir = Path(\"lab\")\n",
    "total_size = 0\n",
    "for file in lab_dir.glob(\"*.tst\"):\n",
    "    if Path(file).is_symlink():\n",
    "        print(f\"Skipping {file}: it's a symbolic link\")\n",
    "    else:\n",
    "        if Path(file).is_file():\n",
    "            total_size += Path(file).stat().st_size\n",
    "            backup_dir = lab_dir / \"backup\"\n",
    "            backup_dir.mkdir(exist_ok=True)\n",
    "            Path(file).rename(Path(backup_dir, Path(file).name))\n",
    "\n",
    "print(f\"Total size of '.tst' files: {total_size} bytes\")\n"
   ]
  }
 ],
 "metadata": {
  "kernelspec": {
   "display_name": ".venv",
   "language": "python",
   "name": "python3"
  },
  "language_info": {
   "codemirror_mode": {
    "name": "ipython",
    "version": 3
   },
   "file_extension": ".py",
   "mimetype": "text/x-python",
   "name": "python",
   "nbconvert_exporter": "python",
   "pygments_lexer": "ipython3",
   "version": "3.12.5"
  }
 },
 "nbformat": 4,
 "nbformat_minor": 2
}
