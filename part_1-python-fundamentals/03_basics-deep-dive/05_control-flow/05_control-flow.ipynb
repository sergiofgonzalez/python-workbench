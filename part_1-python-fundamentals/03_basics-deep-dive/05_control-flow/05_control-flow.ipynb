{
 "cells": [
  {
   "cell_type": "markdown",
   "metadata": {},
   "source": [
    "# Control Flow\n",
    "\n",
    "## Structural pattern matching with `match`\n",
    "\n",
    "Starting with Python 3.11, Python has a way to select between multiple options with `match: case` statements.\n",
    "\n",
    "This is similar to the *case-switch* constructs you find in other programming languages, but more powerful, and also a little bit less predictable, as it can make matches not only on the basis of equal values, but also, in terms of matching types.\n",
    "\n",
    " ```python\n",
    " match expression:\n",
    "    case test_expression:\n",
    "        code_block_for_match\n",
    "    case _:\n",
    "        code_block_if_no_match (optional)\n",
    " ```\n",
    "\n",
    " Usually, the `expression` will be a variable or object, and the `test_expression` can either be a specific value or object, or it can be a type function or class constructor.\n",
    "\n",
    " It is also possible in the `test_expression` to match more than one option using the or operator `|`:"
   ]
  },
  {
   "cell_type": "code",
   "execution_count": null,
   "metadata": {},
   "outputs": [],
   "source": [
    "x = 5\n",
    "match x:\n",
    "    case \"A\":\n",
    "        print(\"A was selected\")\n",
    "    case str():\n",
    "        print(\"Some other string was selected\")\n",
    "    case 0:\n",
    "        print(\"Zero was selected\")\n",
    "    case 1 | 2 | 3:\n",
    "        print(f\"the selected value {x} was in the range 1-3\")\n",
    "    case int():\n",
    "        print(f\"An integer other than 0 and 1, 2, and 3 was selected {x}\")\n",
    "    case _:\n",
    "        print(\"Neither string nor int\")"
   ]
  },
  {
   "cell_type": "markdown",
   "metadata": {},
   "source": [
    "You can see where the complexities may arise, as an unexpected match can occur and make your code behave unexpectedly."
   ]
  },
  {
   "cell_type": "markdown",
   "metadata": {},
   "source": [
    "## The `while` loop\n",
    "\n",
    "The full while loop in Python is:\n",
    "\n",
    "```python\n",
    "while condition:\n",
    "    body\n",
    "else:\n",
    "    post-code\n",
    "```\n",
    "\n",
    "\n",
    "When the condition evaluates to `False`, the `while` loop executes the `post-code` section. If the condition is `False` at the beginning, only the `post-code` will be executed.\n",
    "\n",
    "If a `break` is used within the `body` of the while loop, then the block following the else **will not** be executed."
   ]
  },
  {
   "cell_type": "code",
   "execution_count": 2,
   "metadata": {},
   "outputs": [
    {
     "name": "stdout",
     "output_type": "stream",
     "text": [
      "Finished!\n"
     ]
    }
   ],
   "source": [
    "response = \"\"\n",
    "while response != \"Q\":\n",
    "    response = input(\"Q to quit, B to break:\")\n",
    "    if response == \"B\":\n",
    "        break\n",
    "else:\n",
    "    print(\"Exited without break\")\n",
    "print(\"Finished!\")\n"
   ]
  },
  {
   "cell_type": "markdown",
   "metadata": {},
   "source": [
    "The two special statements, `break` and `continue` can be used in the body of a `while` loop to immediately terminate the loop (skipping even the `else` part) or to skip the remainder of the `body` that has not executed yet."
   ]
  },
  {
   "cell_type": "markdown",
   "metadata": {},
   "source": [
    "## The `for` loop\n",
    "\n",
    "In Python, a `for` loop iterates over the values returned by any iterable object. As a result, you can use `for` loops with lists, tuples, string, `range` object and also with generator functions and generator expressions.\n",
    "\n",
    "```python\n",
    "for item in sequence:\n",
    "    body\n",
    "else:\n",
    "    post-code\n",
    "```\n",
    "\n",
    "The `else` part is similar to the one found in `while` loops. It is executed when no more items in the sequence are left to iterate over, and no `break` statement has been found in the body."
   ]
  },
  {
   "cell_type": "markdown",
   "metadata": {},
   "source": [
    "### The `for` loop and tuple unpacking\n",
    "\n",
    "Python allows you to unpack tuple elements you iterate over with a `for` loop. That makes the syntax cleaner:"
   ]
  },
  {
   "cell_type": "code",
   "execution_count": 1,
   "metadata": {},
   "outputs": [
    {
     "name": "stdout",
     "output_type": "stream",
     "text": [
      "a=1, b=2\n",
      "a=3, b=7\n",
      "a=9, b=5\n"
     ]
    }
   ],
   "source": [
    "tuples = [(1, 2), (3, 7), (9, 5)]\n",
    "for a, b in tuples:\n",
    "    print(f\"a={a}, b={b}\")"
   ]
  },
  {
   "cell_type": "markdown",
   "metadata": {},
   "source": [
    "### The `enumerate` function\n",
    "\n",
    "The `enumerate` function takes a sequence and returns both its index and its value. Because there is no `for` to iterate over indices in Python, `enumerate` is quite common:"
   ]
  },
  {
   "cell_type": "code",
   "execution_count": 2,
   "metadata": {},
   "outputs": [
    {
     "name": "stdout",
     "output_type": "stream",
     "text": [
      "index=0, value=1\n",
      "index=1, value=3\n",
      "index=2, value=-7\n",
      "index=3, value=4\n",
      "index=4, value=9\n",
      "index=5, value=-5\n",
      "index=6, value=4\n"
     ]
    }
   ],
   "source": [
    "x = [1, 3, -7, 4, 9, -5, 4]\n",
    "for i, n in enumerate(x):\n",
    "    print(f\"index={i}, value={n}\")"
   ]
  },
  {
   "cell_type": "markdown",
   "metadata": {},
   "source": [
    "### The `zip` function\n",
    "\n",
    "Sometimes its useful to combine two or more iterables together before looping over them. \n",
    "\n",
    "The `zip` function does just that: combines the elements from one or more iterables into a tuple until it reaches the end of the **shortest** iterable:"
   ]
  },
  {
   "cell_type": "code",
   "execution_count": 4,
   "metadata": {},
   "outputs": [],
   "source": [
    "x = [1, 2, 3, 4]\n",
    "y = [\"a\", \"b\", \"c\"]\n",
    "\n",
    "x = zip(x, y)\n",
    "assert list(x) == [(1, \"a\"), (2, \"b\"), (3, \"c\")]"
   ]
  },
  {
   "cell_type": "markdown",
   "metadata": {},
   "source": [
    "### List, set, and dictionary comprehensions\n",
    "\n",
    "In Python, common situation in which you have a `for` loop to iterate through a sequence, modifying or selecting individual elements from the sequence, to finally create a new list is supported by a special syntax construct called a **comprehension**.\n",
    "\n",
    "You can think of a list, set, or dictionary comprehensions as a one-line `for` loop that creates a new list, set or dictionary from a sequence.\n",
    "\n",
    "```python\n",
    "# list comprehension\n",
    "new_list = [expressin1 for variable in old_sequence if expression]\n",
    "\n",
    "# set comprehension\n",
    "new_set = {expressin1 for variable in old_sequence if expression}\n",
    "\n",
    "# dictionary comprehension\n",
    "new_dict = {k:v for k, v in old_sequence if expression}\n",
    "```"
   ]
  },
  {
   "cell_type": "code",
   "execution_count": 6,
   "metadata": {},
   "outputs": [],
   "source": [
    "x = range(1, 5 + 1)\n",
    "x_squared = [n * n for n in x]\n",
    "assert x_squared == [1, 4, 9, 16, 25]\n",
    "\n",
    "x_even_squared = [n * n for n in x if n % 2 == 0]\n",
    "assert x_even_squared == [4, 16]\n",
    "\n",
    "x_squared_dict = {n: n * n for n in x}\n",
    "assert x_squared_dict == {1: 1, 2: 4, 3: 9, 4: 16, 5: 25}"
   ]
  },
  {
   "cell_type": "markdown",
   "metadata": {},
   "source": [
    "### Generator expressions\n",
    "\n",
    "A generator expression is similar to a list comprehension. It uses parentheses, instead of square brackets, but the syntax is the same:"
   ]
  },
  {
   "cell_type": "code",
   "execution_count": 7,
   "metadata": {},
   "outputs": [],
   "source": [
    "x = [1, 2, 3, 4, 5]\n",
    "x_squared = (n * n for n in x)\n",
    "assert list(x_squared) == [1, 4, 9, 16, 25]"
   ]
  },
  {
   "cell_type": "markdown",
   "metadata": {},
   "source": [
    "Generator expressions can be iterated over as any other iterable:"
   ]
  },
  {
   "cell_type": "code",
   "execution_count": 8,
   "metadata": {},
   "outputs": [
    {
     "name": "stdout",
     "output_type": "stream",
     "text": [
      "1\n",
      "4\n",
      "9\n",
      "16\n",
      "25\n"
     ]
    }
   ],
   "source": [
    "x = [1, 2, 3, 4, 5]\n",
    "x_squared = (n * n for n in x)\n",
    "\n",
    "for n in x_squared:\n",
    "    print(n)"
   ]
  },
  {
   "cell_type": "markdown",
   "metadata": {},
   "source": [
    "The advantage of using a generator expression is that the entire list of entries are not materialized in memory, so arbitrarily large sequences can be generated with very little memory overhead."
   ]
  },
  {
   "cell_type": "markdown",
   "metadata": {},
   "source": [
    "## Breaking up statements across multiple lines: indentation considerations\n",
    "\n",
    "In Python, you can explicitly break up a line by using the backslash character `\\`."
   ]
  },
  {
   "cell_type": "code",
   "execution_count": 17,
   "metadata": {},
   "outputs": [],
   "source": [
    "# This won't work\n",
    "# x = 100 + 200 + 300\n",
    "#     + 400 + 500\n",
    "\n",
    "# this works\n",
    "x = 100 + 200 + 300 \\\n",
    "    + 400 + 500\n",
    "\n",
    "# this works too\n",
    "x = 100 + 200 + 300 \\\n",
    "+ 400 + 500\n"
   ]
  },
  {
   "cell_type": "markdown",
   "metadata": {},
   "source": [
    "You can break up strings by `\\` as well, but any indentation tabs or spaces become part of the string, which might not be what you intended:"
   ]
  },
  {
   "cell_type": "code",
   "execution_count": 18,
   "metadata": {},
   "outputs": [
    {
     "name": "stdout",
     "output_type": "stream",
     "text": [
      "a very large string that most probably will reach the threshold that I had     established\n"
     ]
    }
   ],
   "source": [
    "s = \"a very large string that most probably will reach the threshold that I had \\\n",
    "    established\"\n",
    "\n",
    "print(s)"
   ]
  },
  {
   "cell_type": "markdown",
   "metadata": {},
   "source": [
    "It's quite common to break such strings with the help of parentheses `()`"
   ]
  },
  {
   "cell_type": "code",
   "execution_count": 19,
   "metadata": {},
   "outputs": [
    {
     "name": "stdout",
     "output_type": "stream",
     "text": [
      "a very large string that most probably will reach the threshold that I had established\n"
     ]
    }
   ],
   "source": [
    "s = (\"a very large string that most probably will reach the threshold that I \"\n",
    "     \"had established\")\n",
    "print(s)"
   ]
  },
  {
   "cell_type": "markdown",
   "metadata": {},
   "source": [
    "Alternatively, you can also use `\"` and the backslash:"
   ]
  },
  {
   "cell_type": "code",
   "execution_count": 20,
   "metadata": {},
   "outputs": [
    {
     "name": "stdout",
     "output_type": "stream",
     "text": [
      "a very large string that most probably will reach the threshold that I had established\n"
     ]
    }
   ],
   "source": [
    "s = \"a very large string that most probably will reach the threshold that I \" \\\n",
    "    \"had established\"\n",
    "print(s)"
   ]
  },
  {
   "cell_type": "markdown",
   "metadata": {},
   "source": [
    "## Boolean values\n",
    "\n",
    "Most Python objects can be used as Booleans. This is the recommended way to use them as this makes the syntax more succinct:\n",
    "\n",
    "+ The numbers `0`, `0.0`, and `0+0j` are all `False`. Any other number is `True`.\n",
    "+ The empty string `\"\"` is `False`; any other string is `True`.\n",
    "+ The empty list `[]` is `False`; any other list is `True`.\n",
    "+ The empty dictionary `{}` is `False`; any other dictionary is `True`.\n",
    "+ The empty set `set()` is `False`; any other set is `True`.\n",
    "+ The special value `None` is alwasy `False`."
   ]
  },
  {
   "cell_type": "markdown",
   "metadata": {},
   "source": [
    "### Comparing with `==` and `!=` and `is` and `is not`\n",
    "\n",
    "The `==` and `!=` are the operators used in most situations to test if their operands contain the same values.\n",
    "\n",
    "By contrast, `is` and `is not` test whether their operands are the **same object**:"
   ]
  },
  {
   "cell_type": "code",
   "execution_count": 23,
   "metadata": {},
   "outputs": [],
   "source": [
    "x = [1, 2]\n",
    "y = [1, 2]\n",
    "assert x == y\n",
    "assert x is not y\n",
    "assert x[0] is y[0]  # Because ints are immutable"
   ]
  },
  {
   "cell_type": "markdown",
   "metadata": {},
   "source": [
    "### Exercise\n",
    "\n",
    "Create a Python utility that replicates the UNIX `wc` utility that reports the number of lines, words, and characters in a file."
   ]
  },
  {
   "cell_type": "markdown",
   "metadata": {},
   "source": [
    "Let's start by trying out what `wc` returns when applied to our Moby Dick file:"
   ]
  },
  {
   "cell_type": "code",
   "execution_count": 24,
   "metadata": {},
   "outputs": [
    {
     "name": "stdout",
     "output_type": "stream",
     "text": [
      "  26  273 1509 data/moby_01.txt\n"
     ]
    }
   ],
   "source": [
    "%%bash\n",
    "wc data/moby_01.txt"
   ]
  },
  {
   "cell_type": "markdown",
   "metadata": {},
   "source": [
    "This means the file has 26 lines, 273 words, and 1509 characters.\n",
    "\n",
    "Let's create a Python snippet that does the same:"
   ]
  },
  {
   "cell_type": "code",
   "execution_count": 25,
   "metadata": {},
   "outputs": [
    {
     "name": "stdout",
     "output_type": "stream",
     "text": [
      "Lines: 26, Words: 273, Characters: 1509\n"
     ]
    }
   ],
   "source": [
    "filename = \"data/moby_01.txt\"\n",
    "num_lines = 0\n",
    "num_words = 0\n",
    "num_chars = 0\n",
    "with open(filename, \"r\") as infile:\n",
    "    for line in infile:\n",
    "        num_lines += 1\n",
    "        num_words += len(line.split())\n",
    "        num_chars += len(line)\n",
    "\n",
    "print(f\"Lines: {num_lines}, Words: {num_words}, Characters: {num_chars}\")"
   ]
  },
  {
   "cell_type": "code",
   "execution_count": 26,
   "metadata": {},
   "outputs": [
    {
     "name": "stdout",
     "output_type": "stream",
     "text": [
      "Lines: 4, Words: 30, Characters: 189\n"
     ]
    }
   ],
   "source": [
    "filename = \"data/word_count.tst\"\n",
    "num_lines = 0\n",
    "num_words = 0\n",
    "num_chars = 0\n",
    "with open(filename, \"r\") as infile:\n",
    "    for line in infile:\n",
    "        num_lines += 1\n",
    "        num_words += len(line.split())\n",
    "        num_chars += len(line)\n",
    "\n",
    "print(f\"Lines: {num_lines}, Words: {num_words}, Characters: {num_chars}\")"
   ]
  }
 ],
 "metadata": {
  "kernelspec": {
   "display_name": ".venv",
   "language": "python",
   "name": "python3"
  },
  "language_info": {
   "codemirror_mode": {
    "name": "ipython",
    "version": 3
   },
   "file_extension": ".py",
   "mimetype": "text/x-python",
   "name": "python",
   "nbconvert_exporter": "python",
   "pygments_lexer": "ipython3",
   "version": "3.12.5"
  }
 },
 "nbformat": 4,
 "nbformat_minor": 2
}
