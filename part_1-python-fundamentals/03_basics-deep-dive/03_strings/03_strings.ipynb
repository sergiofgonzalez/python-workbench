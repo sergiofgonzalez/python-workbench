{
 "cells": [
  {
   "cell_type": "markdown",
   "metadata": {},
   "source": [
    "# Strings\n",
    "\n",
    "## Strings as sequence of characters\n",
    "\n",
    "For the purposes of extracting characters and substrings, strings can be considered to contain sequences of characters, and therefore, support the index and slice notation:"
   ]
  },
  {
   "cell_type": "code",
   "execution_count": 1,
   "metadata": {},
   "outputs": [],
   "source": [
    "x = \"Hello\"\n",
    "\n",
    "assert x[0] == \"H\"\n",
    "assert x[-1] == \"o\"\n",
    "assert x[1:] == \"ello\""
   ]
  },
  {
   "cell_type": "markdown",
   "metadata": {},
   "source": [
    "One useful way to strip the newline at the end of a string is to use the slice notation:"
   ]
  },
  {
   "cell_type": "code",
   "execution_count": 2,
   "metadata": {},
   "outputs": [],
   "source": [
    "x = \"Goodbye\\n\"\n",
    "x = x[:-1]\n",
    "assert x == \"Goodbye\""
   ]
  },
  {
   "cell_type": "markdown",
   "metadata": {},
   "source": [
    "Note that there is no character type in Python. A single character string in Python is a string, and the same is true for the empty string (it is a string)."
   ]
  },
  {
   "cell_type": "code",
   "execution_count": 3,
   "metadata": {},
   "outputs": [],
   "source": [
    "assert isinstance(\"A\", str)\n",
    "assert isinstance(\"\", str)"
   ]
  },
  {
   "cell_type": "markdown",
   "metadata": {},
   "source": [
    "You can determine the length of a string using `len`:"
   ]
  },
  {
   "cell_type": "code",
   "execution_count": 8,
   "metadata": {},
   "outputs": [
    {
     "name": "stdout",
     "output_type": "stream",
     "text": [
      "4\n"
     ]
    }
   ],
   "source": [
    "assert len(\"niñá\") == 4\n",
    "\n",
    "# strings support Unicode, but beware of taking the length\n",
    "print(len(\"🤷‍♂️\"))"
   ]
  },
  {
   "cell_type": "markdown",
   "metadata": {},
   "source": [
    "While strings support many of the list operations, strings are not lists of characters.\n",
    "\n",
    "To begin with, strings can't be modified."
   ]
  },
  {
   "cell_type": "markdown",
   "metadata": {},
   "source": [
    "## Basic string operations\n",
    "\n",
    "You can use the `+` operator to concatenate strings:"
   ]
  },
  {
   "cell_type": "code",
   "execution_count": 9,
   "metadata": {},
   "outputs": [],
   "source": [
    "x = \"Hello\" + \" \" + \"World\"\n",
    "assert x == \"Hello World\""
   ]
  },
  {
   "cell_type": "markdown",
   "metadata": {},
   "source": [
    "Note that while you can use `+` for concatenation of strings, it is not useful for joining a large number of strings into a single string, because each time `+` is applied, a new string object is created."
   ]
  },
  {
   "cell_type": "markdown",
   "metadata": {},
   "source": [
    "You can use the `*` operator to create strings that result from concatenating the given string.\n",
    "\n",
    "It usually comes in handy when creating separators:"
   ]
  },
  {
   "cell_type": "code",
   "execution_count": 10,
   "metadata": {},
   "outputs": [
    {
     "name": "stdout",
     "output_type": "stream",
     "text": [
      "Hello\n",
      "========================================\n",
      "World\n"
     ]
    }
   ],
   "source": [
    "print(\"Hello\")\n",
    "print(\"=\" * 40)\n",
    "print(\"World\")"
   ]
  },
  {
   "cell_type": "markdown",
   "metadata": {},
   "source": [
    "## Special characters and escape sequences\n",
    "\n",
    "Escape sequences start with a backslash and represent other characters such as `\"\\t\"` which doesn't represent a \"t\" but rather a tab.\n",
    "\n",
    "The most common escape sequences are:\n",
    "\n",
    "| Escape sequence | Character represented |\n",
    "| :-------------- | :-------------------- |\n",
    "| \\' | Single-quote character |\n",
    "| \\\" | Double-quote character |\n",
    "| \\\\ | Backslash character |\n",
    "| \\a | Bell character |\n",
    "| \\b | Backspace character |\n",
    "| \\f | Formfeed character |\n",
    "| \\n | Newline character |\n",
    "| \\r | Carriage-return character |\n",
    "| \\t | Tab character |\n",
    "| \\v | Vertical tab character |"
   ]
  },
  {
   "cell_type": "markdown",
   "metadata": {},
   "source": [
    "### Numeric (octal and hex) and Unicode escape sequences\n",
    "\n",
    "You can include any ASCII character in a string using its octal or hex escape sequence using the syntax below:"
   ]
  },
  {
   "cell_type": "code",
   "execution_count": 11,
   "metadata": {},
   "outputs": [],
   "source": [
    "x = \"\\155\" # octal representation for 'm'\n",
    "assert x == \"m\""
   ]
  },
  {
   "cell_type": "code",
   "execution_count": 12,
   "metadata": {},
   "outputs": [],
   "source": [
    "x = \"\\x6d\" # hex representation for 'm'\n",
    "assert x == \"m\""
   ]
  },
  {
   "cell_type": "markdown",
   "metadata": {},
   "source": [
    "All strings in Python are Unicode strings. The following examples illustrate how you can escape any Unicode character:"
   ]
  },
  {
   "cell_type": "code",
   "execution_count": 13,
   "metadata": {},
   "outputs": [],
   "source": [
    "unicode_a = \"\\u0061\"\n",
    "assert unicode_a == \"a\""
   ]
  },
  {
   "cell_type": "code",
   "execution_count": 14,
   "metadata": {},
   "outputs": [],
   "source": [
    "unicode_a = \"\\N{LATIN SMALL LETTER A}\"\n",
    "assert unicode_a == \"a\""
   ]
  },
  {
   "cell_type": "markdown",
   "metadata": {},
   "source": [
    "### Printing strings\n",
    "\n",
    "You can use `print` function to print strings in the terminal. By default, `print` adds a newline at the end of the string.\n",
    "\n",
    "You can alter this behavior by passing the `end` parameter:"
   ]
  },
  {
   "cell_type": "code",
   "execution_count": 15,
   "metadata": {},
   "outputs": [
    {
     "name": "stdout",
     "output_type": "stream",
     "text": [
      "hello\n",
      "world\n"
     ]
    }
   ],
   "source": [
    "print(\"hello\")\n",
    "print(\"world\")"
   ]
  },
  {
   "cell_type": "code",
   "execution_count": 17,
   "metadata": {},
   "outputs": [
    {
     "name": "stdout",
     "output_type": "stream",
     "text": [
      "foobar\n"
     ]
    }
   ],
   "source": [
    "print(\"foo\", end=\"\")\n",
    "print(\"bar\")"
   ]
  },
  {
   "cell_type": "markdown",
   "metadata": {},
   "source": [
    "## String methods\n",
    "\n",
    "### The `split` and `join` string methods\n",
    "\n",
    "The `split` method returns a list of substrings in the string, while the `join` method takes a list of strings and puts them together to form a single string with the original string between each element.\n",
    "\n",
    "By default, `split` uses whitespace as the delimitir of the strings it's splitting, but that behavior can be customized via an optional argument."
   ]
  },
  {
   "cell_type": "code",
   "execution_count": 18,
   "metadata": {},
   "outputs": [],
   "source": [
    "s = \"The quick brown fox jumps over the lazy dog\"\n",
    "words = s.split()\n",
    "assert words == [\"The\", \"quick\", \"brown\", \"fox\", \"jumps\", \"over\", \"the\", \"lazy\", \"dog\"]"
   ]
  },
  {
   "cell_type": "markdown",
   "metadata": {},
   "source": [
    "The `join` method is an efficient way to create a new string out of a large number of strings.\n",
    "\n",
    "Note that you need to pass a list of strings."
   ]
  },
  {
   "cell_type": "code",
   "execution_count": 20,
   "metadata": {},
   "outputs": [],
   "source": [
    "s = \" \".join([\"The\", \"quick\", \"brown\", \"fox\", \"jumps\", \"over\", \"the\", \"lazy\", \"dog\"])\n",
    "assert s == \"The quick brown fox jumps over the lazy dog\""
   ]
  },
  {
   "cell_type": "markdown",
   "metadata": {},
   "source": [
    "Changing the string used to join effectivele changes the separator:"
   ]
  },
  {
   "cell_type": "code",
   "execution_count": 21,
   "metadata": {},
   "outputs": [],
   "source": [
    "csv_line = \",\".join([\"1\", \"Adrian\", \"Child one\"])\n",
    "assert csv_line == \"1,Adrian,Child one\""
   ]
  },
  {
   "cell_type": "markdown",
   "metadata": {},
   "source": [
    "You can also use the empty string:"
   ]
  },
  {
   "cell_type": "code",
   "execution_count": 22,
   "metadata": {},
   "outputs": [],
   "source": [
    "s = \"\".join([\"foo\", \"bar\"])\n",
    "assert s == \"foobar\"\n"
   ]
  },
  {
   "cell_type": "markdown",
   "metadata": {},
   "source": [
    "By default, `split` splits on any whitespace, which means it includes \"\\t\", \"\\n\", etc."
   ]
  },
  {
   "cell_type": "code",
   "execution_count": 25,
   "metadata": {},
   "outputs": [],
   "source": [
    "x = \"You\\t\\tcan have tabs\\t\\nand newlines mixed in in a string\"\n",
    "assert x.split() == [\"You\", \"can\", \"have\", \"tabs\", \"and\", \"newlines\", \"mixed\", \"in\", \"in\", \"a\", \"string\"]"
   ]
  },
  {
   "cell_type": "markdown",
   "metadata": {},
   "source": [
    "You can tell `split` to split on a particular sequence by passing it an optional argument:"
   ]
  },
  {
   "cell_type": "code",
   "execution_count": 26,
   "metadata": {},
   "outputs": [],
   "source": [
    "x = \"Mississippi\"\n",
    "assert x.split(\"ss\") == [\"Mi\", \"i\", \"ippi\"]"
   ]
  },
  {
   "cell_type": "markdown",
   "metadata": {},
   "source": [
    "You can pass an optional second argument to `split` to tell it how many splits should be performed. That might come in handy when you might find arbitrary text at the end of the string that should be split:"
   ]
  },
  {
   "cell_type": "code",
   "execution_count": 29,
   "metadata": {},
   "outputs": [],
   "source": [
    "x = \"a b c d\"\n",
    "\n",
    "assert x.split(\" \", 1) == [\"a\", \"b c d\"]\n",
    "assert x.split(\" \", 2) == [\"a\", \"b\", \"c d\"]\n",
    "assert x.split(\" \", 9) == [\"a\", \"b\", \"c\", \"d\"]"
   ]
  },
  {
   "cell_type": "markdown",
   "metadata": {},
   "source": [
    "### Exercise\n",
    "\n",
    "Use `split` and `join` to change all the whitespace in a string to dashes. For example, \"this is a test\" should end up as \"this-is-a-test\"."
   ]
  },
  {
   "cell_type": "code",
   "execution_count": 30,
   "metadata": {},
   "outputs": [
    {
     "data": {
      "text/plain": [
       "'This-is-a-test'"
      ]
     },
     "execution_count": 30,
     "metadata": {},
     "output_type": "execute_result"
    }
   ],
   "source": [
    "s = \"This is a test\"\n",
    "words = s.split()\n",
    "\"-\".join(words)"
   ]
  },
  {
   "cell_type": "markdown",
   "metadata": {},
   "source": [
    "### Converting strings to numbers\n",
    "\n",
    "You can use `int` and `float` to convert strings to integer and floating-point numbers. If the given string cannot be interpreted as a number, a `ValueError` exception is raised."
   ]
  },
  {
   "cell_type": "code",
   "execution_count": 33,
   "metadata": {},
   "outputs": [
    {
     "name": "stdout",
     "output_type": "stream",
     "text": [
      "Oops: could not convert string to float: '3.14.15'\n"
     ]
    }
   ],
   "source": [
    "n = float(\"3.14\")\n",
    "assert n == 3.14\n",
    "\n",
    "try:\n",
    "    float(\"3.14.15\")\n",
    "except ValueError as e:\n",
    "    print(\"Oops:\", e)"
   ]
  },
  {
   "cell_type": "markdown",
   "metadata": {},
   "source": [
    "When using `int` you may pass an optional second argument specifying the numeric base:"
   ]
  },
  {
   "cell_type": "code",
   "execution_count": 35,
   "metadata": {},
   "outputs": [],
   "source": [
    "bin = int(\"1010\", 2)\n",
    "assert bin == 10\n",
    "\n",
    "hex = int(\"ff\", 16)\n",
    "assert hex == 255"
   ]
  },
  {
   "cell_type": "markdown",
   "metadata": {},
   "source": [
    "### Getting rid of extra whitespace\n",
    "\n",
    "`strip`, `rstrip` and `lstrip` methods return a new string that's the same as the original string, except that any whitespace at both the beginning and the end, or at the end, or at the beginning (respectively) has been removed."
   ]
  },
  {
   "cell_type": "code",
   "execution_count": 36,
   "metadata": {},
   "outputs": [],
   "source": [
    "x = \"  Hello, world!  \\t\\n\"\n",
    "assert x.strip() == \"Hello, world!\"\n",
    "assert x.rstrip() == \"  Hello, world!\"\n",
    "assert x.lstrip() == \"Hello, world!  \\t\\n\""
   ]
  },
  {
   "cell_type": "markdown",
   "metadata": {},
   "source": [
    "The exact meaning of whitespace is platform dependennt but can be consulted using:"
   ]
  },
  {
   "cell_type": "code",
   "execution_count": 37,
   "metadata": {},
   "outputs": [
    {
     "data": {
      "text/plain": [
       "' \\t\\n\\r\\x0b\\x0c'"
      ]
     },
     "execution_count": 37,
     "metadata": {},
     "output_type": "execute_result"
    }
   ],
   "source": [
    "import string\n",
    "\n",
    "string.whitespace"
   ]
  },
  {
   "cell_type": "markdown",
   "metadata": {},
   "source": [
    "Note that in my platform, `\\x0b` and `\\x0c`, the vertical tab and the form feed characters are also considered whitespace."
   ]
  },
  {
   "cell_type": "markdown",
   "metadata": {},
   "source": [
    "Although not very commonly used, you can use `strip` with custom string:"
   ]
  },
  {
   "cell_type": "code",
   "execution_count": 40,
   "metadata": {},
   "outputs": [],
   "source": [
    "x = \"www.python.org\"\n",
    "assert x.strip(\"w\") == \".python.org\"\n",
    "assert x.strip(\"gor\") == \"www.python.\"\n",
    "assert x.strip(\".gorw\") == \"python\""
   ]
  },
  {
   "cell_type": "markdown",
   "metadata": {},
   "source": [
    "Note that the argument passed to `strip` is a list of characters to strip (that is why `\"gor\"` removes `\"org\"`)"
   ]
  },
  {
   "cell_type": "markdown",
   "metadata": {},
   "source": [
    "The methods `removeprefix` and `removesuffix` can be used to strip prefixes and suffixes.\n",
    "\n",
    "Note that this methods require the prefix and suffixes to be an exact match."
   ]
  },
  {
   "cell_type": "code",
   "execution_count": 42,
   "metadata": {},
   "outputs": [],
   "source": [
    "x = \"www.python.org\"\n",
    "assert x.removeprefix(\"www.\") == \"python.org\"\n",
    "assert x.removesuffix(\".org\") == \"www.python\"\n"
   ]
  },
  {
   "cell_type": "markdown",
   "metadata": {},
   "source": [
    "### Exercise\n",
    "\n",
    "If a string contains \"(name, date),\\n\", which of the following would return the string `\"name, date\"?\n",
    "\n",
    "1. `x.rstrip(\"),\")`\n",
    "2. `x.strip(\"),\\n\")`\n",
    "3. `x.strip(\"\\n)(,\")`"
   ]
  },
  {
   "cell_type": "code",
   "execution_count": 46,
   "metadata": {},
   "outputs": [
    {
     "data": {
      "text/plain": [
       "'name, date'"
      ]
     },
     "execution_count": 46,
     "metadata": {},
     "output_type": "execute_result"
    }
   ],
   "source": [
    "x = \"(name, date),\\n\"\n",
    "x.strip(\",\\n()\")"
   ]
  },
  {
   "cell_type": "markdown",
   "metadata": {},
   "source": [
    "### String searching\n",
    "\n",
    "| NOTE: |\n",
    "| :---- |\n",
    "| The `re` module provides a far more flexible way to do string searching than the one explained here. Make sure you review the corresponding notebook if your searching needs exceed what's explained here. |\n",
    "\n",
    "The four basic string-searching methods are: `find`, `rfind`, `index`, and `rindex`. A related method, `count` is also available to get how many times a substring can be found in another string."
   ]
  },
  {
   "cell_type": "markdown",
   "metadata": {},
   "source": [
    "`find` is a method applied on a string that takes the string to be searched for and returns the position of the first character of the first instance of string passed as a parameter or `-1` if the string is not found:"
   ]
  },
  {
   "cell_type": "code",
   "execution_count": 48,
   "metadata": {},
   "outputs": [],
   "source": [
    "x = \"Mississippi\"\n",
    "\n",
    "assert x.find(\"ss\") == 2\n",
    "assert x.find(\"zz\") == -1"
   ]
  },
  {
   "cell_type": "markdown",
   "metadata": {},
   "source": [
    "You can pass `find` an optional argument `start` that causes `find` to ignore all characters before position `start` in the string passed.\n",
    "\n",
    "There's yet an additional optional argument `end` that will cause `find` to ignore characters at or after position `end` in string:"
   ]
  },
  {
   "cell_type": "code",
   "execution_count": 51,
   "metadata": {},
   "outputs": [],
   "source": [
    "x = \"Mississippi\"\n",
    "\n",
    "assert x.find(\"ss\", 3) == 5\n",
    "assert x.find(\"ss\", 0, 3) == -1"
   ]
  },
  {
   "cell_type": "markdown",
   "metadata": {},
   "source": [
    "`rfind` works similarly, except that the search start from the right (the end of the string):"
   ]
  },
  {
   "cell_type": "code",
   "execution_count": 53,
   "metadata": {},
   "outputs": [],
   "source": [
    "x = \"Mississippi\"\n",
    "\n",
    "assert x.rfind(\"ss\", 3) == 5"
   ]
  },
  {
   "cell_type": "markdown",
   "metadata": {},
   "source": [
    "`index` and `rindex` are identical to `find` and `rfind` but raise a `ValueError` if the string is not found."
   ]
  },
  {
   "cell_type": "code",
   "execution_count": 55,
   "metadata": {},
   "outputs": [
    {
     "name": "stdout",
     "output_type": "stream",
     "text": [
      "Oops: substring not found\n"
     ]
    }
   ],
   "source": [
    "x = \"Mississippi\"\n",
    "\n",
    "assert x.index(\"ss\") == 2\n",
    "\n",
    "try:\n",
    "    x.index(\"zz\")\n",
    "except ValueError as e:\n",
    "    print(\"Oops:\", e)"
   ]
  },
  {
   "cell_type": "markdown",
   "metadata": {},
   "source": [
    "`count` returns the number of non-overlapping times the given substring occurs in the given string:"
   ]
  },
  {
   "cell_type": "code",
   "execution_count": 56,
   "metadata": {},
   "outputs": [],
   "source": [
    "x = \"Mississippi\"\n",
    "\n",
    "assert x.count(\"ss\") == 2"
   ]
  },
  {
   "cell_type": "markdown",
   "metadata": {},
   "source": [
    "`startswith` and `endswith` return a boolean value depending on whether the string they're on which they're applied starts or ends with the passed string:"
   ]
  },
  {
   "cell_type": "code",
   "execution_count": 57,
   "metadata": {},
   "outputs": [],
   "source": [
    "x = \"Mississippi\"\n",
    "assert x.startswith(\"Miss\")\n",
    "assert x.endswith(\"ippi\")\n",
    "assert x.endswith(\"bar\") == False"
   ]
  },
  {
   "cell_type": "markdown",
   "metadata": {},
   "source": [
    "### Modifying strings\n",
    "\n",
    "While strings are immutable, there are methods that can operate on a given string and return a new string that's a modified version of the original one.\n",
    "\n",
    "The `replace` method replace occurrences of a given substring given as the first argument with a second one."
   ]
  },
  {
   "cell_type": "code",
   "execution_count": 58,
   "metadata": {},
   "outputs": [],
   "source": [
    "x = \"Mississippi\"\n",
    "assert x.replace(\"ss\", \"++\") == \"Mi++i++ippi\""
   ]
  },
  {
   "cell_type": "markdown",
   "metadata": {},
   "source": [
    "The methods `maketrans` and `translate` can be used to translate characters in strings into different characters. They're not very commonly used:"
   ]
  },
  {
   "cell_type": "code",
   "execution_count": 59,
   "metadata": {},
   "outputs": [],
   "source": [
    "x = \"~x ^(y % z)\"\n",
    "table = x.maketrans(\"~^()\", \"!&[]\")\n",
    "assert x.translate(table) == \"!x &[y % z]\""
   ]
  },
  {
   "cell_type": "markdown",
   "metadata": {},
   "source": [
    "See how `maketrans` creates a translation table with a one-to-one mapping which can then be used to translate to get a modified string."
   ]
  },
  {
   "cell_type": "markdown",
   "metadata": {},
   "source": [
    "Another common methods are `string.lower` and `string.upper`. There's also a `capitalize` method that capitalizes the first character of a string and `title` that capitalizes all the words in a string:"
   ]
  },
  {
   "cell_type": "code",
   "execution_count": 62,
   "metadata": {},
   "outputs": [],
   "source": [
    "x = \"Hello, world!\"\n",
    "\n",
    "assert x.upper() == \"HELLO, WORLD!\"\n",
    "assert x.lower() == \"hello, world!\"\n",
    "assert x.lower().capitalize() == \"Hello, world!\"\n",
    "assert x.title() == \"Hello, World!\""
   ]
  },
  {
   "cell_type": "markdown",
   "metadata": {},
   "source": [
    "### Modifying strings with list manipulations\n",
    "\n",
    "Sometimes, you might want to be able to manipulate a string as though it were a list of characters, modifying the list elements, and then turning the resulting list back into a string:"
   ]
  },
  {
   "cell_type": "code",
   "execution_count": 63,
   "metadata": {},
   "outputs": [],
   "source": [
    "text = \"Hello, world!\"\n",
    "wordlist = list(text)\n",
    "wordlist[6:] = [] # truncate the list after pos 6\n",
    "wordlist.reverse()\n",
    "text = \"\".join(wordlist)\n",
    "\n",
    "assert text == \",olleH\""
   ]
  },
  {
   "cell_type": "markdown",
   "metadata": {},
   "source": [
    "Note that you should be mindful that string operations cause the creation and destruction of new `string` objects, which is relatively expensive."
   ]
  },
  {
   "cell_type": "markdown",
   "metadata": {},
   "source": [
    "### Exercise\n",
    "\n",
    "Write a program that changes all punctuation in a string to spaces."
   ]
  },
  {
   "cell_type": "code",
   "execution_count": 65,
   "metadata": {},
   "outputs": [
    {
     "name": "stdout",
     "output_type": "stream",
     "text": [
      "Fairy tales don't tell children that dragons exist  They already know that  They tell children that dragons can be defeated \n"
     ]
    }
   ],
   "source": [
    "x = \"Fairy tales don't tell children that dragons exist: They already know that! They tell children that dragons can be defeated.\"\n",
    "table = x.maketrans(\".,:;!?-\", \"       \")\n",
    "\n",
    "x = x.translate(table)\n",
    "print(x)\n"
   ]
  },
  {
   "cell_type": "markdown",
   "metadata": {},
   "source": [
    "### Useful methods and constants: `isdigit`, `isalpha`, `islower`, `isupper`\n",
    "\n",
    "The following methods report on various characteristics of the string:"
   ]
  },
  {
   "cell_type": "code",
   "execution_count": 66,
   "metadata": {},
   "outputs": [],
   "source": [
    "x = \"123\"\n",
    "assert x.isdigit()\n",
    "assert x.isalpha() == False\n",
    "\n",
    "x = \"M\"\n",
    "assert x.islower() == False\n",
    "assert x.isupper()"
   ]
  },
  {
   "cell_type": "markdown",
   "metadata": {},
   "source": [
    "### Exercise\n",
    "\n",
    "Suppose that you have a list of string in which some (but not all) of the strings begin and end with the double quote character. What could would you use to remove just the double quotes?\n",
    "\n",
    "`x = ['\"abc\"', 'def', '\"ghi\"', '\"klm\"', 'nop']`\n",
    "\n",
    "What code could you use to find the position of the last p in \"Mississippi\"? When you've found that position, what code would you use to remove just that letter."
   ]
  },
  {
   "cell_type": "markdown",
   "metadata": {},
   "source": [
    "The first part of the exercise seems to be resolvable using `replace`:"
   ]
  },
  {
   "cell_type": "code",
   "execution_count": 67,
   "metadata": {},
   "outputs": [],
   "source": [
    "x = ['\"abc\"', 'def', '\"ghi\"', '\"klm\"', 'nop']\n",
    "for i, s in enumerate(x):\n",
    "    x[i] = s.replace('\"', '')\n",
    "assert x == [\"abc\", \"def\", \"ghi\", \"klm\", \"nop\"]"
   ]
  },
  {
   "cell_type": "markdown",
   "metadata": {},
   "source": [
    "Alternatively, the `strip` function that removes whitespace by default can also be used passing the `'\"'` as the character to strip:"
   ]
  },
  {
   "cell_type": "code",
   "execution_count": 68,
   "metadata": {},
   "outputs": [],
   "source": [
    "x = ['\"abc\"', 'def', '\"ghi\"', '\"klm\"', 'nop']\n",
    "for i, s in enumerate(x):\n",
    "    x[i] = s.strip('\"')\n",
    "assert x == [\"abc\", \"def\", \"ghi\", \"klm\", \"nop\"]"
   ]
  },
  {
   "cell_type": "markdown",
   "metadata": {},
   "source": [
    "For the second part of the exercise, `string.rstrip` seems to be well suited:"
   ]
  },
  {
   "cell_type": "code",
   "execution_count": 69,
   "metadata": {},
   "outputs": [],
   "source": [
    "s = \"Mississippi\"\n",
    "p_pos = s.find(\"p\")\n",
    "assert p_pos == 8"
   ]
  },
  {
   "cell_type": "markdown",
   "metadata": {},
   "source": [
    "## Converting from objects to strings with `repr` and `str`\n",
    "\n",
    "In Python, almost anything can be converted to some sort of string representation using `repr()` built-in function.\n",
    "\n",
    "This might come in handy when you're doing concatenations of strings and other types of objects:"
   ]
  },
  {
   "cell_type": "code",
   "execution_count": 71,
   "metadata": {},
   "outputs": [
    {
     "name": "stdout",
     "output_type": "stream",
     "text": [
      "Oops: can only concatenate str (not \"list\") to str\n"
     ]
    }
   ],
   "source": [
    "x =  [1, 2, 3]\n",
    "\n",
    "assert \"The list is \" + repr(x) == \"The list is [1, 2, 3]\"\n",
    "\n",
    "try:\n",
    "    \"The list is \" + x\n",
    "except TypeError as e:\n",
    "    print(\"Oops:\", e)"
   ]
  },
  {
   "cell_type": "markdown",
   "metadata": {},
   "source": [
    "Python also provides the built-in function `str`. In contrast to `repr`, `str` is intended to produce *printable* string representations, and it can be applied to any Python object.\n",
    "\n",
    "As a mental model, think of `str` as the user friendly representation of an object, and `repr` as the developer level representation of an object.\n",
    "\n",
    "As a result, you will see that `str` applied to any built-in Python object always calls `repr` to calculate its result. As a matter of good style, it's recommended to use `str` rather than `repr` when creating strings that display information for the end user."
   ]
  },
  {
   "cell_type": "markdown",
   "metadata": {},
   "source": [
    "## Using the `format` method\n",
    "\n",
    "Strings in Python can be formatted in Python 3 in three different ways.\n",
    "\n",
    "### Using format with positional parameters\n",
    "\n",
    "A simple way to use `format` method is with numbered replacement fields as seen below:"
   ]
  },
  {
   "cell_type": "code",
   "execution_count": 72,
   "metadata": {},
   "outputs": [],
   "source": [
    "s = \"{0} is the {1} of {2}\".format(\"Ambrosia\", \"food\", \"the gods\")\n",
    "assert s == \"Ambrosia is the food of the gods\""
   ]
  },
  {
   "cell_type": "markdown",
   "metadata": {},
   "source": [
    "You can include `\"{\"` and `\"}\"` in format strings by simply doubling them:"
   ]
  },
  {
   "cell_type": "code",
   "execution_count": 73,
   "metadata": {},
   "outputs": [],
   "source": [
    "s = \"{{ and }} are used to delimit {0} fields in formt strings\".format(\"replacement\")\n",
    "assert s == \"{ and } are used to delimit replacement fields in formt strings\""
   ]
  },
  {
   "cell_type": "markdown",
   "metadata": {},
   "source": [
    "### Using format with named parameters\n",
    "\n",
    "The `format` method also recognizes named parameters and replacement fields:"
   ]
  },
  {
   "cell_type": "code",
   "execution_count": 74,
   "metadata": {},
   "outputs": [],
   "source": [
    "s = \"{food} is the food of {user}\".format(food=\"Ambrosia\", user=\"the gods\")\n",
    "assert s == \"Ambrosia is the food of the gods\""
   ]
  },
  {
   "cell_type": "markdown",
   "metadata": {},
   "source": [
    "You can also use both positional and named parameters:"
   ]
  },
  {
   "cell_type": "code",
   "execution_count": 75,
   "metadata": {},
   "outputs": [],
   "source": [
    "s = \"{0} is the food of {users[1]}\".format(\"Ambrosia\", users = [\"the mortals\", \"the gods\"])\n",
    "assert s == \"Ambrosia is the food of the gods\""
   ]
  },
  {
   "cell_type": "markdown",
   "metadata": {},
   "source": [
    "### Format specifiers\n",
    "\n",
    "The syntax of format specifiers is a mini-language in its own right.\n",
    "\n",
    "The following example illustrates the possibilities:"
   ]
  },
  {
   "cell_type": "code",
   "execution_count": 79,
   "metadata": {},
   "outputs": [],
   "source": [
    "# use 10 spaces for the first field\n",
    "s = \"{0:10} is the food of gods\".format(\"Ambrosia\")\n",
    "assert s == \"Ambrosia   is the food of gods\"\n",
    "\n",
    "# use a parameterized number of spaces\n",
    "s = \"{0:{1}} is the food of gods\".format(\"Ambrosia\", 10)\n",
    "assert s == \"Ambrosia   is the food of gods\"\n",
    "\n",
    "# use named fields and width specifiers\n",
    "s = \"{food:{width}} is the food of gods\".format(food=\"Ambrosia\", width=10)\n",
    "assert s == \"Ambrosia   is the food of gods\"\n",
    "\n",
    "# Align right\n",
    "s = \"{0:>10} is the food of gods\".format(\"Ambrosia\")\n",
    "assert s == \"  Ambrosia is the food of gods\"\n",
    "\n",
    "# Align right using '&' as fill character\n",
    "s = \"{0:&>10} is the food of gods\".format(\"Ambrosia\")\n",
    "assert s == \"&&Ambrosia is the food of gods\"\n",
    "\n",
    "# Align center\n",
    "s = \"{0:^10} is the food of gods\".format(\"Ambrosia\")\n",
    "assert s == \" Ambrosia  is the food of gods\""
   ]
  },
  {
   "cell_type": "markdown",
   "metadata": {},
   "source": [
    "### Exercise\n",
    "\n",
    "What will be `x` in the following snippets?\n",
    "\n",
    "1. `x = \"{1:{0}}\".format(3, 4)`\n",
    "2. `x = \"{0:$>5}\".format(3)`\n",
    "3. `x = \"{a:{b}}\".format(a=1, b=5)`\n",
    "4. `x = \"{a:{b}}:{0:$>5}\".format(3, 4, a=1, b=5, c=10)`"
   ]
  },
  {
   "cell_type": "markdown",
   "metadata": {},
   "source": [
    "We will be using assert to check the expectation vs. actual:"
   ]
  },
  {
   "cell_type": "code",
   "execution_count": 86,
   "metadata": {},
   "outputs": [],
   "source": [
    "x = \"{1:{0}}\".format(3, 4)\n",
    "expectation = \"  4\"\n",
    "assert x == expectation"
   ]
  },
  {
   "cell_type": "markdown",
   "metadata": {},
   "source": [
    "Note that because we're dealing with numbers, they're right-justified by default."
   ]
  },
  {
   "cell_type": "code",
   "execution_count": 87,
   "metadata": {},
   "outputs": [],
   "source": [
    "x = \"{0:$>5}\".format(3)\n",
    "expectation = \"$$$$3\"\n",
    "assert x == expectation"
   ]
  },
  {
   "cell_type": "code",
   "execution_count": 88,
   "metadata": {},
   "outputs": [],
   "source": [
    "x = \"{a:{b}}\".format(a=1, b=5)\n",
    "expectation = \"    1\"\n",
    "assert x == expectation"
   ]
  },
  {
   "cell_type": "code",
   "execution_count": 89,
   "metadata": {},
   "outputs": [],
   "source": [
    "x = \"{a:{b}}:{0:$>5}\".format(3, 4, a=1, b=5, c=10)\n",
    "expectation = \"    1:$$$$3\"\n",
    "assert x == expectation"
   ]
  },
  {
   "cell_type": "markdown",
   "metadata": {},
   "source": [
    "## String interpolation with *f-strings*\n",
    "\n",
    "The syntax of f-strings is almost identical to that of the format method, but without an explicit call to `format`. F-strings are more compact and easier to read:"
   ]
  },
  {
   "cell_type": "code",
   "execution_count": 90,
   "metadata": {},
   "outputs": [],
   "source": [
    "value = 55\n",
    "s = f\"The value is {value}\"\n",
    "assert s == \"The value is 55\""
   ]
  },
  {
   "cell_type": "markdown",
   "metadata": {},
   "source": [
    "Format specificiers are supported if f-strings:"
   ]
  },
  {
   "cell_type": "code",
   "execution_count": 93,
   "metadata": {},
   "outputs": [],
   "source": [
    "from math import pi\n",
    "\n",
    "s = f\"Pi is approximately {pi:{10}.{5}}\"\n",
    "assert s == \"Pi is approximately     3.1416\""
   ]
  },
  {
   "cell_type": "markdown",
   "metadata": {},
   "source": [
    "Another useful feature is to include an `\"=\"` after an expression to give you some debugging info."
   ]
  },
  {
   "cell_type": "code",
   "execution_count": 95,
   "metadata": {},
   "outputs": [],
   "source": [
    "x = 3.21\n",
    "s = f\"{x=}\"\n",
    "assert s == \"x=3.21\"\n",
    "\n",
    "s = f\"{x=:{10}.{2}}\"\n",
    "assert s == \"x=       3.2\""
   ]
  },
  {
   "cell_type": "markdown",
   "metadata": {},
   "source": [
    "Yet another useful feature is to automatically quote a string using `!r` conversion flag."
   ]
  },
  {
   "cell_type": "code",
   "execution_count": 6,
   "metadata": {},
   "outputs": [
    {
     "name": "stdout",
     "output_type": "stream",
     "text": [
      "The word is 'hello'\n"
     ]
    }
   ],
   "source": [
    "x = \"hello\"\n",
    "print(f\"The word is {x!r}\")\n",
    "assert f\"{x!r}\" == \"'hello'\""
   ]
  },
  {
   "cell_type": "markdown",
   "metadata": {},
   "source": [
    "## Legacy string formatting with `%`\n",
    "\n",
    "This is the old string formatting approach. Note that it is slated to be deprecated in the future and it's only included here for informational purposes."
   ]
  },
  {
   "cell_type": "code",
   "execution_count": 96,
   "metadata": {},
   "outputs": [],
   "source": [
    "s = \"%s is the %s of %s\" % (\"Ambrosia\", \"food\", \"the gods\")\n",
    "assert s == \"Ambrosia is the food of the gods\""
   ]
  },
  {
   "cell_type": "markdown",
   "metadata": {},
   "source": [
    "## Controlling output with the `print` function\n",
    "\n",
    "Python's built-in print function also has some options that can make handling simple string output easier."
   ]
  },
  {
   "cell_type": "markdown",
   "metadata": {},
   "source": [
    "You can print several arguments on the same line if you separate them by ',':"
   ]
  },
  {
   "cell_type": "code",
   "execution_count": 98,
   "metadata": {},
   "outputs": [
    {
     "name": "stdout",
     "output_type": "stream",
     "text": [
      "a b c\n"
     ]
    }
   ],
   "source": [
    "print(\"a\", \"b\", \"c\")"
   ]
  },
  {
   "cell_type": "markdown",
   "metadata": {},
   "source": [
    "You can customize the separator:"
   ]
  },
  {
   "cell_type": "code",
   "execution_count": 99,
   "metadata": {},
   "outputs": [
    {
     "name": "stdout",
     "output_type": "stream",
     "text": [
      "a;b;c\n"
     ]
    }
   ],
   "source": [
    "print(\"a\", \"b\", \"c\", sep=\";\")"
   ]
  },
  {
   "cell_type": "markdown",
   "metadata": {},
   "source": [
    "And you can also control what is printed at the end of the line:"
   ]
  },
  {
   "cell_type": "code",
   "execution_count": 100,
   "metadata": {},
   "outputs": [
    {
     "name": "stdout",
     "output_type": "stream",
     "text": [
      "hello world\n",
      "\n",
      "\tagain!\n"
     ]
    }
   ],
   "source": [
    "print(\"hello\", \"world\", end=\"\\n\\n\\t\")\n",
    "print(\"again!\")"
   ]
  },
  {
   "cell_type": "markdown",
   "metadata": {},
   "source": [
    "A not very well known option of `print` lets you create a file with the results of a print operation:"
   ]
  },
  {
   "cell_type": "code",
   "execution_count": 103,
   "metadata": {},
   "outputs": [],
   "source": [
    "print(\"a\", \"b\", \"c\", file=open(\"data/output.txt\", \"w\"))"
   ]
  },
  {
   "cell_type": "markdown",
   "metadata": {},
   "source": [
    "## Bytes\n",
    "\n",
    "A `bytes` object is similar to a string but while a string is an immutable sequence of Unicode characters, a `bytes` object is an immutable sequence of integers whose values range from 0 to 255.\n",
    "\n",
    "`bytes` object become useful when dealing with binary data such as reading from a binary data file.\n",
    "\n",
    "The `string.encode()` method converts a Unicode string to a bytes object. While strings and `bytes` objects might be similar, they cannot be combined together."
   ]
  },
  {
   "cell_type": "code",
   "execution_count": 106,
   "metadata": {},
   "outputs": [
    {
     "name": "stdout",
     "output_type": "stream",
     "text": [
      "á\n",
      "b'\\xc3\\xa1'\n",
      "Oops: can't concat str to bytes\n"
     ]
    }
   ],
   "source": [
    "unicode_a_with_acute = \"\\N{LATIN SMALL LETTER A WITH ACUTE}\"\n",
    "print(unicode_a_with_acute)\n",
    "\n",
    "xb = unicode_a_with_acute.encode(\"utf-8\")\n",
    "print(xb)\n",
    "\n",
    "try:\n",
    "    xb += \"a\"\n",
    "except TypeError as e:\n",
    "    print(\"Oops:\", e)\n"
   ]
  },
  {
   "cell_type": "markdown",
   "metadata": {},
   "source": [
    "The `bytes.decode` method converts a `bytes` sequence of characters to a string:"
   ]
  },
  {
   "cell_type": "code",
   "execution_count": 107,
   "metadata": {},
   "outputs": [
    {
     "name": "stdout",
     "output_type": "stream",
     "text": [
      "á\n"
     ]
    }
   ],
   "source": [
    "xb = b'\\xc3\\xa1'\n",
    "s = xb.decode(\"utf-8\")\n",
    "print(s)\n"
   ]
  },
  {
   "cell_type": "markdown",
   "metadata": {},
   "source": [
    "| NOTE: |\n",
    "| :---- |\n",
    "| Both `string` and `bytes` are immutable. |"
   ]
  },
  {
   "cell_type": "markdown",
   "metadata": {},
   "source": [
    "### Exercise\n",
    "\n",
    "In processing raw text, it's quite often necessary to clean and normalize the text before doing anything else. For example, if you want to find the frequence of words in a text, it's quite common that everything is normalized (all in lowercase or uppercase, remove punctuation). It's also common to break the text into a series of words and write each of them on its own line.\n",
    "\n",
    "In this exercise, the task is to read the first part of the first chapter of Moby Dick, make sure everything is one case, remove all punctuation, and write the words one per line to a second file."
   ]
  },
  {
   "cell_type": "markdown",
   "metadata": {},
   "source": [
    "The following piece of code is the template we'd use:"
   ]
  },
  {
   "cell_type": "code",
   "execution_count": 109,
   "metadata": {},
   "outputs": [],
   "source": [
    "with open(\"data/moby_01.txt\", \"r\") as infile:\n",
    "    with open(\"data/out/moby_01_clean.txt\", \"w\") as outfile:\n",
    "        for line in infile:\n",
    "            # make all one case (e.g., lowercase)\n",
    "            # remove punctuation\n",
    "            # split into words\n",
    "            # write all words for line\n",
    "            outfile.write(line)"
   ]
  },
  {
   "cell_type": "markdown",
   "metadata": {},
   "source": [
    "Let's start step by step:\n",
    "1. To make all one case, we can use `string.lower`.\n",
    "2. To remove punctuation, we can use a translation table."
   ]
  },
  {
   "cell_type": "code",
   "execution_count": 110,
   "metadata": {},
   "outputs": [],
   "source": [
    "s = \"The quick brown fox jumps over the lazy dog\"\n",
    "assert s.lower() == \"the quick brown fox jumps over the lazy dog\""
   ]
  },
  {
   "cell_type": "code",
   "execution_count": 114,
   "metadata": {},
   "outputs": [
    {
     "name": "stdout",
     "output_type": "stream",
     "text": [
      "The quick brown fox jumps over the lazy dog\n"
     ]
    }
   ],
   "source": [
    "# translation\n",
    "punctuation_chars = \".,:;!?-\"\n",
    "s = \"The quick brown fox jumps over the lazy dog\"\n",
    "table = s.maketrans(punctuation_chars, \"       \")\n",
    "s = s.translate(table)\n",
    "print(s)"
   ]
  },
  {
   "cell_type": "markdown",
   "metadata": {},
   "source": [
    "Then we can split into words using split"
   ]
  },
  {
   "cell_type": "code",
   "execution_count": 115,
   "metadata": {},
   "outputs": [
    {
     "data": {
      "text/plain": [
       "['the', 'quick', 'brown', 'fox', 'jumps', 'over', 'the', 'lazy', 'dog']"
      ]
     },
     "execution_count": 115,
     "metadata": {},
     "output_type": "execute_result"
    }
   ],
   "source": [
    "s = \"the quick brown fox jumps over the lazy dog\"\n",
    "s.split()"
   ]
  },
  {
   "cell_type": "markdown",
   "metadata": {},
   "source": [
    "This makes our life easy, because we don't need to use split or anything like that.\n",
    "\n",
    "Thefore, the final code will be:"
   ]
  },
  {
   "cell_type": "code",
   "execution_count": 119,
   "metadata": {},
   "outputs": [],
   "source": [
    "punctuation_chars = \".,:;!?-\"\n",
    "with open(\"data/moby_01.txt\", \"r\") as infile:\n",
    "    with open(\"data/out/moby_01_clean.txt\", \"w\") as outfile:\n",
    "        for line in infile:\n",
    "            line_lowercase = line.lower()\n",
    "            table = line_lowercase.maketrans(punctuation_chars, \" \" * len(punctuation_chars))\n",
    "            normalized_line = line_lowercase.translate(table)\n",
    "            line_words = normalized_line.split()\n",
    "            for word in line_words:\n",
    "                outfile.write(word + \"\\n\")"
   ]
  },
  {
   "cell_type": "markdown",
   "metadata": {},
   "source": [
    "We can remove the inner loop by using `join`. That will be more efficient as we reduce the amount of times we're doing I/O:"
   ]
  },
  {
   "cell_type": "code",
   "execution_count": 120,
   "metadata": {},
   "outputs": [],
   "source": [
    "punctuation_chars = \".,:;!?-\"\n",
    "with open(\"data/moby_01.txt\", \"r\") as infile:\n",
    "    with open(\"data/out/moby_01_clean.txt\", \"w\") as outfile:\n",
    "        for line in infile:\n",
    "            line_lowercase = line.lower()\n",
    "            table = line_lowercase.maketrans(punctuation_chars, \" \" * len(punctuation_chars))\n",
    "            normalized_line = line_lowercase.translate(table)\n",
    "            line_words = normalized_line.split()\n",
    "            words = \"\\n\".join(line_words)\n",
    "            outfile.write(words + \"\\n\")"
   ]
  },
  {
   "cell_type": "markdown",
   "metadata": {},
   "source": [
    "There's some additional optimization we can use using `string.punctuation`:"
   ]
  },
  {
   "cell_type": "code",
   "execution_count": 121,
   "metadata": {},
   "outputs": [],
   "source": [
    "import string\n",
    "\n",
    "with open(\"data/moby_01.txt\", \"r\") as infile:\n",
    "    with open(\"data/out/moby_01_clean.txt\", \"w\") as outfile:\n",
    "        for line in infile:\n",
    "            line_lowercase = line.lower()\n",
    "            normalized_line = line_lowercase.translate(line_lowercase.maketrans(\"\", \"\", string.punctuation))\n",
    "            line_words = normalized_line.split()\n",
    "            for word in line_words:\n",
    "                outfile.write(word + \"\\n\")"
   ]
  }
 ],
 "metadata": {
  "kernelspec": {
   "display_name": ".venv",
   "language": "python",
   "name": "python3"
  },
  "language_info": {
   "codemirror_mode": {
    "name": "ipython",
    "version": 3
   },
   "file_extension": ".py",
   "mimetype": "text/x-python",
   "name": "python",
   "nbconvert_exporter": "python",
   "pygments_lexer": "ipython3",
   "version": "3.12.2"
  }
 },
 "nbformat": 4,
 "nbformat_minor": 2
}
