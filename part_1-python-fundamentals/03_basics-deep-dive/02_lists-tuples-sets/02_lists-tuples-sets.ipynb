{
 "cells": [
  {
   "cell_type": "markdown",
   "metadata": {},
   "source": [
    "# Lists, tuples, and sets\n",
    "> the basics of built-in Python collections"
   ]
  },
  {
   "cell_type": "markdown",
   "metadata": {},
   "source": [
    "## Lists\n",
    "\n",
    "### Slice assignment techniques\n",
    "\n",
    "Slice notation (as in `lista[index1:index2]`) can be used in assignments to replace the elements in a list.\n",
    "\n",
    "This will work even if the list used on the right hand size has more or few elements, in which case the list size will be altered."
   ]
  },
  {
   "cell_type": "code",
   "execution_count": 5,
   "metadata": {},
   "outputs": [],
   "source": [
    "x = [1, 2, 3, 4]\n",
    "\n",
    "assert x[:len(x)] == [1, 2, 3, 4]\n",
    "\n",
    "x[len(x):] = [5, 6, 7]\n",
    "assert x == [1, 2, 3, 4, 5, 6, 7 ]\n",
    "\n",
    "x[:0] = [-1, 0]\n",
    "assert x == [-1, 0, 1, 2, 3, 4, 5, 6, 7]\n",
    "\n",
    "x[1:-1] = []\n",
    "assert x == [-1, 7]"
   ]
  },
  {
   "cell_type": "markdown",
   "metadata": {},
   "source": [
    "For example, if you have a list that is 10 items long, you can move the last three items from the end to the beginning keeping them in the same order using slice syntax:"
   ]
  },
  {
   "cell_type": "code",
   "execution_count": null,
   "metadata": {},
   "outputs": [],
   "source": [
    "x = [1, 2, 3, 4, 5, 6, 7, 8, 9, 10]\n",
    "x[0:0] = x[-3:]\n",
    "x[-3:] = []\n",
    "\n",
    "assert x == [8, 9, 10, 1, 2, 3, 4, 5, 6, 7]"
   ]
  },
  {
   "cell_type": "markdown",
   "metadata": {},
   "source": [
    "### Appending a single element to a list with `l.append()`\n",
    "\n",
    "The `append()` method defined on lists lets you append a single element to a list."
   ]
  },
  {
   "cell_type": "code",
   "execution_count": 6,
   "metadata": {},
   "outputs": [],
   "source": [
    "x = [1, 2, 3]\n",
    "x.append(\"catorce\")\n",
    "\n",
    "assert x == [1, 2, 3, \"catorce\"]"
   ]
  },
  {
   "cell_type": "markdown",
   "metadata": {},
   "source": [
    "Because `append()` appends a single individual element, if you use it to extend a list it will have unintended consequences:"
   ]
  },
  {
   "cell_type": "code",
   "execution_count": 9,
   "metadata": {},
   "outputs": [],
   "source": [
    "x = [1, 2, 3, 4]\n",
    "y = [5, 6, 7]\n",
    "\n",
    "x.append(y)\n",
    "\n",
    "assert x == [1, 2, 3, 4, [5, 6, 7]]"
   ]
  },
  {
   "cell_type": "markdown",
   "metadata": {},
   "source": [
    "### Extending a list with another list with `l.extend()`\n",
    "\n",
    "The `extend()` method lets you append one list to another:"
   ]
  },
  {
   "cell_type": "code",
   "execution_count": 10,
   "metadata": {},
   "outputs": [],
   "source": [
    "x = [1, 2, 3, 4]\n",
    "y = [5, 6, 7]\n",
    "\n",
    "x.extend(y)\n",
    "\n",
    "assert x == [1, 2, 3, 4, 5, 6, 7]"
   ]
  },
  {
   "cell_type": "markdown",
   "metadata": {},
   "source": [
    "### Inserting elements within a list with `l.insert`\n",
    "\n",
    "The `insert()` method lets you insert a new list element between two existing elements, or at the front or back of the list.\n",
    "\n",
    "The method takes the index position where the new element should be inserted, and a second argument which should be the element itself."
   ]
  },
  {
   "cell_type": "code",
   "execution_count": 11,
   "metadata": {},
   "outputs": [],
   "source": [
    "x = [1, 2, 3]\n",
    "\n",
    "x.insert(0, \"zero\")\n",
    "assert x == [\"zero\", 1, 2, 3]\n",
    "\n",
    "x.insert(4, \"four\")\n",
    "assert x == [\"zero\", 1, 2, 3, \"four\"]\n",
    "\n",
    "x.insert(2, \"one and a half\")\n",
    "assert x == [\"zero\", 1, \"one and a half\", 2, 3, \"four\"]"
   ]
  },
  {
   "cell_type": "markdown",
   "metadata": {},
   "source": [
    "### Removing list items or slices by index with `del`\n",
    "\n",
    "The `del` statement lets you delete an element or a slice from a list.\n",
    "\n"
   ]
  },
  {
   "cell_type": "code",
   "execution_count": 19,
   "metadata": {},
   "outputs": [],
   "source": [
    "x = ['a', 2, 'c', 7, 9, 11]\n",
    "del x[1]\n",
    "\n",
    "assert x == ['a', 'c', 7, 9, 11]\n",
    "\n",
    "del x[:2]\n",
    "assert x == [7, 9, 11]"
   ]
  },
  {
   "cell_type": "markdown",
   "metadata": {},
   "source": [
    "### Removing an element from a list with `l.remove()`\n",
    "\n",
    "The `remove()` method looks for the first instance of a given value in a list and removes that value from the list:"
   ]
  },
  {
   "cell_type": "code",
   "execution_count": 22,
   "metadata": {},
   "outputs": [],
   "source": [
    "x = [1, 2, 3, 4, 3, 5]\n",
    "\n",
    "x.remove(3)\n",
    "assert x == [1, 2, 4, 3, 5]\n",
    "\n",
    "x.remove(3)\n",
    "assert x == [1, 2, 4, 5]"
   ]
  },
  {
   "cell_type": "markdown",
   "metadata": {},
   "source": [
    "### Reversing a list in place with `l.reverse()`\n",
    "\n",
    "The `reverse()` method efficiently reverses a list in place."
   ]
  },
  {
   "cell_type": "code",
   "execution_count": 23,
   "metadata": {},
   "outputs": [],
   "source": [
    "x = [1, 3, 5, 6, 7]\n",
    "x.reverse()\n",
    "\n",
    "assert x == [7, 6, 5, 3, 1]"
   ]
  },
  {
   "cell_type": "markdown",
   "metadata": {},
   "source": [
    "### Sorting lists in place with `l.sort()`\n",
    "\n",
    "The `sort()` method lets you sort a list in place:"
   ]
  },
  {
   "cell_type": "code",
   "execution_count": 31,
   "metadata": {},
   "outputs": [],
   "source": [
    "x = [3, 8, 4, 0, 2, 1]\n",
    "x.sort()\n",
    "\n",
    "assert x == [0, 1, 2, 3, 4, 8]"
   ]
  },
  {
   "cell_type": "markdown",
   "metadata": {},
   "source": [
    "To sort a list without changing the original list you can use the `sorted()` built-in function as seen below:"
   ]
  },
  {
   "cell_type": "code",
   "execution_count": 32,
   "metadata": {},
   "outputs": [],
   "source": [
    "x = [3, 8, 4, 0, 2, 1]\n",
    "y = sorted(x)\n",
    "\n",
    "assert x == [3, 8, 4, 0, 2, 1]\n",
    "assert y == [0, 1, 2, 3, 4, 8]"
   ]
  },
  {
   "cell_type": "markdown",
   "metadata": {},
   "source": [
    "Alternatively, you can use the following hack to create a copy of the list before sorting it in-place:"
   ]
  },
  {
   "cell_type": "code",
   "execution_count": 33,
   "metadata": {},
   "outputs": [],
   "source": [
    "x = [3, 8, 4, 0, 2, 1]\n",
    "y = x[:]\n",
    "y.sort()\n",
    "\n",
    "assert x == [3, 8, 4, 0, 2, 1]\n",
    "assert y == [0, 1, 2, 3, 4, 8]"
   ]
  },
  {
   "cell_type": "markdown",
   "metadata": {},
   "source": [
    "Note that `sort` method requires all items in the list to be of comparable types. As a result, trying to sort a list that contains numbers and strings will raise an exception:"
   ]
  },
  {
   "cell_type": "code",
   "execution_count": 36,
   "metadata": {},
   "outputs": [
    {
     "name": "stdout",
     "output_type": "stream",
     "text": [
      "Exception caught <class 'TypeError'>: '<' not supported between instances of 'str' and 'int'\n"
     ]
    }
   ],
   "source": [
    "x = [1, 2, 3, \"catorce\"]\n",
    "try:\n",
    "    x.sort()\n",
    "except Exception as e:\n",
    "    print(f\"Exception caught {type(e)}: {e}\")"
   ]
  },
  {
   "cell_type": "markdown",
   "metadata": {},
   "source": [
    "`sort` has an optional `reverse` parameter that causes the sort to be performed in reverse order:"
   ]
  },
  {
   "cell_type": "code",
   "execution_count": 37,
   "metadata": {},
   "outputs": [],
   "source": [
    "x = [3, 8, 4, 0, 2, 1]\n",
    "x.sort(reverse=True)\n",
    "assert x == [8, 4, 3, 2, 1, 0]\n"
   ]
  },
  {
   "cell_type": "markdown",
   "metadata": {},
   "source": [
    "#### Custom sorting\n",
    "\n",
    "By default, `sort` uses built-in Python comparison functions to determine the ordering in which elements should be sorted.\n",
    "\n",
    "However, `sort` is flexible enough to allow you using any other suitable ordering by way of providing a custom sorting function.\n",
    "\n",
    "For example, you can sort a list of strings based only on its length"
   ]
  },
  {
   "cell_type": "code",
   "execution_count": 40,
   "metadata": {},
   "outputs": [],
   "source": [
    "x = [\"uno\", \"dos\", \"tres\", \"cuatro\", \"cinco\"]\n",
    "\n",
    "def num_chars(s):\n",
    "    return len(s)\n",
    "\n",
    "x.sort(key=num_chars)\n",
    "assert x == [\"uno\", \"dos\", \"tres\", \"cinco\", \"cuatro\"]\n",
    "\n",
    "x = [\"uno\", \"tres\", \"cuatro\"]\n",
    "x.sort(key=num_chars, reverse=True)\n",
    "assert x == [\"cuatro\", \"tres\", \"uno\"]"
   ]
  },
  {
   "cell_type": "markdown",
   "metadata": {},
   "source": [
    "#### Exercise: lists\n",
    "\n",
    "Suppose that you have a list in which each element is in turn a list: `[[1, 2, 3], [2, 1, 3], [4, 0, 1]]`.\n",
    "\n",
    "Write a program that sorts this list by the second element in each list so that the result is `[[4, 0, 1], [2, 1, 3], [1, 2, 3]]`."
   ]
  },
  {
   "cell_type": "code",
   "execution_count": 41,
   "metadata": {},
   "outputs": [],
   "source": [
    "x = [[1, 2, 3], [2, 1, 3], [4, 0, 1]]\n",
    "\n",
    "def by_second_element(l):\n",
    "    return l[1]\n",
    "\n",
    "x.sort(key=by_second_element)\n",
    "assert x == [[4, 0, 1], [2, 1, 3], [1, 2, 3]]\n"
   ]
  },
  {
   "cell_type": "markdown",
   "metadata": {},
   "source": [
    "### Checking list membership\n",
    "\n",
    "You can use the `in` operator to test whether a value is in a list. Conversely, you can use the `not in` oprator to check that value is not:"
   ]
  },
  {
   "cell_type": "code",
   "execution_count": 1,
   "metadata": {},
   "outputs": [
    {
     "data": {
      "text/plain": [
       "True"
      ]
     },
     "execution_count": 1,
     "metadata": {},
     "output_type": "execute_result"
    }
   ],
   "source": [
    "3 in [1, 3, 5, 7]"
   ]
  },
  {
   "cell_type": "code",
   "execution_count": 1,
   "metadata": {},
   "outputs": [
    {
     "data": {
      "text/plain": [
       "True"
      ]
     },
     "execution_count": 1,
     "metadata": {},
     "output_type": "execute_result"
    }
   ],
   "source": [
    "2 not in [1, 3, 5, 7]"
   ]
  },
  {
   "cell_type": "markdown",
   "metadata": {},
   "source": [
    "### List concatenation with `+`\n",
    "\n",
    "The `+` operator is overloaded when working with lists as the concatenation operator:"
   ]
  },
  {
   "cell_type": "code",
   "execution_count": 8,
   "metadata": {},
   "outputs": [],
   "source": [
    "l = [1, 2, 3] + [4, 5]\n",
    "assert l == [1, 2, 3, 4, 5]"
   ]
  },
  {
   "cell_type": "markdown",
   "metadata": {},
   "source": [
    "Note the difference between `+` and extend:"
   ]
  },
  {
   "cell_type": "code",
   "execution_count": 9,
   "metadata": {},
   "outputs": [],
   "source": [
    "l1 = [1, 2, 3]\n",
    "l1.extend([4, 5])\n",
    "assert l1 == [1, 2, 3, 4, 5]"
   ]
  },
  {
   "cell_type": "markdown",
   "metadata": {},
   "source": [
    "The `+` operator returns a new list resulting of concatenating the left and right list, while `extend()` is a method that transforms in place the list it is applied to."
   ]
  },
  {
   "cell_type": "markdown",
   "metadata": {},
   "source": [
    "### List initialization with `*`\n",
    "\n",
    "When working with long lists, it is sometimes useful to use the `*` operator to correctly size the list at the start of the program:"
   ]
  },
  {
   "cell_type": "code",
   "execution_count": 10,
   "metadata": {},
   "outputs": [],
   "source": [
    "zeroes = [0] * 10\n",
    "assert zeroes == [0, 0, 0, 0, 0, 0, 0, 0, 0, 0]"
   ]
  },
  {
   "cell_type": "code",
   "execution_count": 11,
   "metadata": {},
   "outputs": [],
   "source": [
    "options = [None] * 5\n",
    "assert options == [None, None, None, None, None]"
   ]
  },
  {
   "cell_type": "code",
   "execution_count": 12,
   "metadata": {},
   "outputs": [],
   "source": [
    "x = [3, 1] * 2\n",
    "assert x == [3, 1, 3, 1]"
   ]
  },
  {
   "cell_type": "markdown",
   "metadata": {},
   "source": [
    "The `*` operator when used with lists is called the *list multiplication* operator."
   ]
  },
  {
   "cell_type": "markdown",
   "metadata": {},
   "source": [
    "### List minimum and maximum with `min` and `max`\n",
    "\n",
    "The functions `min` and `max` return the smallest and largest elements in a list."
   ]
  },
  {
   "cell_type": "code",
   "execution_count": 13,
   "metadata": {},
   "outputs": [],
   "source": [
    "minimum = min([3, 1, 4, 1, 5, 9])\n",
    "assert minimum == 1\n",
    "\n",
    "maximum = max([3, 1, 4, 1, 5, 9])\n",
    "assert maximum == 9"
   ]
  },
  {
   "cell_type": "markdown",
   "metadata": {},
   "source": [
    "Trying to find the min or max of a list with different types of objects causes a `TypeError` exception to be raised:"
   ]
  },
  {
   "cell_type": "code",
   "execution_count": 14,
   "metadata": {},
   "outputs": [
    {
     "name": "stdout",
     "output_type": "stream",
     "text": [
      "Exception caught <class 'TypeError'>: '<' not supported between instances of 'str' and 'int'\n"
     ]
    }
   ],
   "source": [
    "try:\n",
    "    min([1, 2, 3, \"catorce\"])\n",
    "except Exception as e:\n",
    "    print(f\"Exception caught {type(e)}: {e}\")\n"
   ]
  },
  {
   "cell_type": "markdown",
   "metadata": {},
   "source": [
    "### List search with `index`\n",
    "\n",
    "The `index` method returns the position of an element in a list or an `ValueError` exception if the element is not found:"
   ]
  },
  {
   "cell_type": "code",
   "execution_count": 16,
   "metadata": {},
   "outputs": [
    {
     "name": "stdout",
     "output_type": "stream",
     "text": [
      "Exception caught <class 'ValueError'>: 5 is not in list\n"
     ]
    }
   ],
   "source": [
    "x = [1, 3, \"five\", 7, 9, 11]\n",
    "assert x.index(\"five\") == 2\n",
    "\n",
    "try:\n",
    "    x.index(5)\n",
    "except Exception as e:\n",
    "    print(f\"Exception caught {type(e)}: {e}\")\n"
   ]
  },
  {
   "cell_type": "markdown",
   "metadata": {},
   "source": [
    "### Counting list matches with `count`\n",
    "\n",
    "The method `count` searches through a list looking for a given value and returns the number of times that the value is found:"
   ]
  },
  {
   "cell_type": "code",
   "execution_count": 17,
   "metadata": {},
   "outputs": [],
   "source": [
    "x = [1, 2, 2, 3, 5, 2, 5]\n",
    "assert x.count(2) == 3"
   ]
  },
  {
   "cell_type": "markdown",
   "metadata": {},
   "source": [
    "### Summary of list operations\n",
    "\n",
    "The following table summarizes the most relevant list operations:\n",
    "\n",
    "| List operation | Description | Example |\n",
    "| :------------- | :---------- | :------ |\n",
    "| [] | Creates an empty list | `x = []` |\n",
    "| len | Returns the length of a list | `len(x)` |\n",
    "| append | Adds a single element to the end of a list | `l.append(x)` |\n",
    "| extend | Adds another list to the end of the list | `x.extend([\"a\", \"b\"])` |\n",
    "| insert | Inserts a new element at a given position in the list | `l.insert(2, \"y\")` |\n",
    "| del | Removes a list element or slice | `del(x[0])`<br>`del(x[1:3])` |\n",
    "| remove | Searches for and removes a given value from a list | `x.remove(\"y\")` |\n",
    "| reverse | Reverses a list in place | `x.reverse()` |\n",
    "| sort | Sorts a list in place | `x.sort()` |\n",
    "| + | Returns the list that results from concatenating the two given | `z = x1 + x2` |\n",
    "| * | Returns the list that results from replicating a list the number of times given | `z = [\"y\"] * 3` |\n",
    "| min | Returns the smallest element in a list | `min(x)` |\n",
    "| max | Returns the largest element in a list | `max(x)` |\n",
    "| index | Returns the position of a value in a list | `i = x.index(\"b\")` |\n",
    "| count | Counts the number of times a value occurs in a list | `x.count(\"y\")` |\n",
    "| sum | Sums the items in the list | `sum(x)` |\n",
    "| in | Returns whether an item is in a list | `\"y\" in x` |\n"
   ]
  },
  {
   "cell_type": "markdown",
   "metadata": {},
   "source": [
    "### Exercise\n",
    "\n",
    "1. What would be the result of `len([1, 2] * 3)`?\n",
    "2. What are the two differences between using `in` and `index`?\n",
    "3. Which of the following will raise an exception?\n",
    "    1. `min([\"a\", \"b\", \"c\"])`\n",
    "    2. `max([1, 2, \"three\"])`\n",
    "    3. `[1, 2, 3].count(\"one\")`"
   ]
  },
  {
   "cell_type": "markdown",
   "metadata": {},
   "source": [
    "The result of 1 will be 6:"
   ]
  },
  {
   "cell_type": "code",
   "execution_count": 18,
   "metadata": {},
   "outputs": [],
   "source": [
    "assert len([1, 2] * 3) == 6"
   ]
  },
  {
   "cell_type": "markdown",
   "metadata": {},
   "source": [
    "The two differences between `in` and `index` are:\n",
    "+ `in` checks whether an element exists in the list, while `index` returns where it is located.\n",
    "+ `index` will raise an exception if the element is not found, while `in` will just return `False`."
   ]
  },
  {
   "cell_type": "markdown",
   "metadata": {},
   "source": [
    "The first expression won't raise an exception &mdash; it will return `\"a\"`:"
   ]
  },
  {
   "cell_type": "code",
   "execution_count": 19,
   "metadata": {},
   "outputs": [],
   "source": [
    "assert min([\"a\", \"b\", \"c\"]) == \"a\""
   ]
  },
  {
   "cell_type": "markdown",
   "metadata": {},
   "source": [
    "The second expression will raise an exception because not all the elements of the list are of the same type:"
   ]
  },
  {
   "cell_type": "code",
   "execution_count": 25,
   "metadata": {},
   "outputs": [
    {
     "name": "stdout",
     "output_type": "stream",
     "text": [
      "Ooops:  {TypeError(\"'>' not supported between instances of 'str' and 'int'\")}\n"
     ]
    }
   ],
   "source": [
    "try:\n",
    "    max([1, 2, \"three\"])\n",
    "except TypeError as e:\n",
    "    print(\"Ooops: \", {e})"
   ]
  },
  {
   "cell_type": "markdown",
   "metadata": {},
   "source": [
    "### Exercise\n",
    "\n",
    "If you have a list `x`, write code to safely remove an item, if and only if, that value is in the list. Modify the code to remove the element only if the item occurs in the list more than once."
   ]
  },
  {
   "cell_type": "markdown",
   "metadata": {},
   "source": [
    "The `remove` method can be used to remove an element from the list, but an exception will be raised if the item is not found. We can use `in` to ensure the item is in the list:"
   ]
  },
  {
   "cell_type": "code",
   "execution_count": 35,
   "metadata": {},
   "outputs": [],
   "source": [
    "def safe_remove(l: list, elem: any) -> None:\n",
    "    if elem in l:\n",
    "        l.remove(elem)\n",
    "\n",
    "l = [1, 2, 3, 4, 5]\n",
    "safe_remove(l, 3)\n",
    "assert l == [1, 2, 4, 5]\n",
    "\n",
    "l = [1, 2, 3]\n",
    "safe_remove(l, 5)\n",
    "assert l == [1, 2, 3]\n"
   ]
  },
  {
   "cell_type": "markdown",
   "metadata": {},
   "source": [
    "## Nested lists\n",
    "\n",
    "Lists can be nested. One application of nesting is to represent two-dimensional matrices."
   ]
  },
  {
   "cell_type": "code",
   "execution_count": 36,
   "metadata": {},
   "outputs": [],
   "source": [
    "m = [[0, 1, 2], [10, 11, 12], [20, 21, 22]]\n",
    "assert m[0] == [0, 1, 2]\n",
    "assert m[0][1] == 1\n",
    "assert m[2][2] == 22"
   ]
  },
  {
   "cell_type": "markdown",
   "metadata": {},
   "source": [
    "You might run into a 'gotcha' with nested lists by the way with which variables refer to object. Remeber the mental model that variables are just labels given to objects.\n",
    "\n",
    "Consider the following example:"
   ]
  },
  {
   "cell_type": "code",
   "execution_count": 37,
   "metadata": {},
   "outputs": [
    {
     "data": {
      "text/plain": [
       "[[0], 1]"
      ]
     },
     "execution_count": 37,
     "metadata": {},
     "output_type": "execute_result"
    }
   ],
   "source": [
    "nested = [0]\n",
    "original = [nested, 1]\n",
    "original"
   ]
  },
  {
   "cell_type": "markdown",
   "metadata": {},
   "source": [
    "The value of the nested list can be modified using either the `original` or the `nested` label:"
   ]
  },
  {
   "cell_type": "code",
   "execution_count": 38,
   "metadata": {},
   "outputs": [
    {
     "data": {
      "text/plain": [
       "[['zero'], 1]"
      ]
     },
     "execution_count": 38,
     "metadata": {},
     "output_type": "execute_result"
    }
   ],
   "source": [
    "nested[0] = \"zero\"\n",
    "original"
   ]
  },
  {
   "cell_type": "code",
   "execution_count": 39,
   "metadata": {},
   "outputs": [
    {
     "data": {
      "text/plain": [
       "[[0], 1]"
      ]
     },
     "execution_count": 39,
     "metadata": {},
     "output_type": "execute_result"
    }
   ],
   "source": [
    "original[0][0] = 0\n",
    "original"
   ]
  },
  {
   "cell_type": "code",
   "execution_count": 40,
   "metadata": {},
   "outputs": [
    {
     "data": {
      "text/plain": [
       "[0]"
      ]
     },
     "execution_count": 40,
     "metadata": {},
     "output_type": "execute_result"
    }
   ],
   "source": [
    "nested"
   ]
  },
  {
   "cell_type": "markdown",
   "metadata": {},
   "source": [
    "Up to this point both `nested` and `original` are connected, but if we make `nested` point to another list, the connection will be broken:"
   ]
  },
  {
   "cell_type": "code",
   "execution_count": 41,
   "metadata": {},
   "outputs": [
    {
     "data": {
      "text/plain": [
       "[[0], 1]"
      ]
     },
     "execution_count": 41,
     "metadata": {},
     "output_type": "execute_result"
    }
   ],
   "source": [
    "nested = [2]\n",
    "original"
   ]
  },
  {
   "cell_type": "markdown",
   "metadata": {},
   "source": [
    "After doing `nested = [2]`, the `nested` label will point to a completely different list, while original will still keep referencing the former list."
   ]
  },
  {
   "cell_type": "markdown",
   "metadata": {},
   "source": [
    "# Copying a list\n",
    "\n",
    "There are several ways to copy a list (using the techniques already seen):\n",
    "+ you can take a full slice of a list `x[:]`\n",
    "+ you can use the concatenation operator `x + []`\n",
    "+ you can use the list multiplication operator `x * 1`\n",
    "\n",
    "If you want to create a shallow copy of a list, `x[:]` will be the most efficient result, but it will create a *shallow copy*, that is, it won't copy the objects the list contains.\n",
    "\n",
    "To create a deep copy of the list you can use the `deepcopy` function from the `copy` library:"
   ]
  },
  {
   "cell_type": "code",
   "execution_count": 44,
   "metadata": {},
   "outputs": [
    {
     "data": {
      "text/plain": [
       "[['zero'], 1]"
      ]
     },
     "execution_count": 44,
     "metadata": {},
     "output_type": "execute_result"
    }
   ],
   "source": [
    "original = [[0], 1]\n",
    "shallow = original[:]\n",
    "assert shallow == [[0], 1]"
   ]
  },
  {
   "cell_type": "code",
   "execution_count": 45,
   "metadata": {},
   "outputs": [],
   "source": [
    "import copy\n",
    "\n",
    "original = [[0], 1]\n",
    "deep = copy.deepcopy(original)\n",
    "assert deep == [[0], 1]"
   ]
  },
  {
   "cell_type": "markdown",
   "metadata": {},
   "source": [
    "Because `original[:]` creates a shallow copy, the connection between original and shadow will be preserved:"
   ]
  },
  {
   "cell_type": "code",
   "execution_count": 46,
   "metadata": {},
   "outputs": [],
   "source": [
    "original = [[0], 1]\n",
    "shallow = original[:]\n",
    "\n",
    "shallow[0][0] = \"zero\"\n",
    "assert original == [[\"zero\"], 1]"
   ]
  },
  {
   "cell_type": "markdown",
   "metadata": {},
   "source": [
    "While in the deepcopy, new objects would've been created and therefore `deep` will be independent from `original`:"
   ]
  },
  {
   "cell_type": "code",
   "execution_count": 47,
   "metadata": {},
   "outputs": [
    {
     "data": {
      "text/plain": [
       "[[0], 1]"
      ]
     },
     "execution_count": 47,
     "metadata": {},
     "output_type": "execute_result"
    }
   ],
   "source": [
    "import copy\n",
    "\n",
    "original = [[0], 1]\n",
    "deep = copy.deepcopy(original)\n",
    "deep[0][0] == \"zero\"\n",
    "\n",
    "assert original == [[0], 1]\n",
    "deep"
   ]
  },
  {
   "cell_type": "markdown",
   "metadata": {},
   "source": [
    "### Exercise\n",
    "\n",
    "Supppose that you have the list `x == [[1, 2, 3], [4, 5, 6], [7, 8, 9]]`. What code would you use to get a copy `y` of that list in which you could change the elements without the side effect of changing the contents of `x`?"
   ]
  },
  {
   "cell_type": "markdown",
   "metadata": {},
   "source": [
    "If you don't want the original list `x` to be connected to the copied one `y` you need to use `copy.deepcopy`."
   ]
  },
  {
   "cell_type": "markdown",
   "metadata": {},
   "source": [
    "### Unpacking lists\n",
    "\n",
    "It's quite common to unpack list elements (what in JavaScript is known as destructuring). This operation assigna the list's elements to other variables.\n",
    "\n",
    "You are allowed to `*` to absorb any number of elements not matching the other elements (that is, to eliminate the *surplus*). Note that the elements marked with `*` will be placed in a list."
   ]
  },
  {
   "cell_type": "code",
   "execution_count": 6,
   "metadata": {},
   "outputs": [],
   "source": [
    "a, b = [1, 2]\n",
    "assert a == 1\n",
    "assert b == 2\n",
    "\n",
    "[a, b] = [1, 2]\n",
    "assert a == 1\n",
    "assert b == 2"
   ]
  },
  {
   "cell_type": "markdown",
   "metadata": {},
   "source": [
    "## Tuples\n",
    "\n",
    "Tuples are data structures similar to lists but they are immutable. As such, they can be used for keys in dictionaries, a role that lists can't."
   ]
  },
  {
   "cell_type": "code",
   "execution_count": 1,
   "metadata": {},
   "outputs": [
    {
     "name": "stdout",
     "output_type": "stream",
     "text": [
      "Ooops:  {TypeError(\"'tuple' object does not support item assignment\")}\n"
     ]
    }
   ],
   "source": [
    "x = (1, 2, 3)\n",
    "try:\n",
    "    x[2] = \"two\"\n",
    "except TypeError as e:\n",
    "    print(\"Ooops: \", {e})"
   ]
  },
  {
   "cell_type": "markdown",
   "metadata": {},
   "source": [
    "Note that a tuple being immutable does not mean that tuples cannot hold mutable objects &mdash; the objects held by the tuples may be changed if you have a *variable*/*label* referencing them.\n",
    "\n",
    "When a tuple holds a mutable object, it isn't allowed to be used as a dictionary key."
   ]
  },
  {
   "cell_type": "markdown",
   "metadata": {},
   "source": [
    "### Syntax for empty tuples and one-element tuples\n",
    "\n",
    "Empty tuples are specified as an empty set of parentheses `()`.\n",
    "\n",
    "One-element tuples are specified with a trailing comma, to be able to differentiated from the corresponding mathematical expression:"
   ]
  },
  {
   "cell_type": "code",
   "execution_count": null,
   "metadata": {},
   "outputs": [],
   "source": [
    "x = () # empty tuple\n",
    "\n",
    "y = (1,) # single element tuple"
   ]
  },
  {
   "cell_type": "markdown",
   "metadata": {},
   "source": [
    "### Making a copy of a tuple\n",
    "\n",
    "Tuples can be copied in the same way as lists:"
   ]
  },
  {
   "cell_type": "code",
   "execution_count": 2,
   "metadata": {},
   "outputs": [],
   "source": [
    "x = (1, 2, 3)\n",
    "y = x[:]\n",
    "assert y == (1, 2, 3)"
   ]
  },
  {
   "cell_type": "markdown",
   "metadata": {},
   "source": [
    "### Unpacking tuples\n",
    "\n",
    "It's quite common to unpack tuples (what in JavaScript is known as destructuring) and assign their individual elements to other variables.\n",
    "\n",
    "You are allowed to `*` to absorb any number of elements not matching the other elements (that is, to eliminate the *surplus*). Note that the elements marked with `*` will be placed in a list."
   ]
  },
  {
   "cell_type": "code",
   "execution_count": 4,
   "metadata": {},
   "outputs": [],
   "source": [
    "x = (1, 2, 3, 4)\n",
    "a, b, *c = x\n",
    "\n",
    "assert a == 1\n",
    "assert b == 2\n",
    "assert c == [3, 4]"
   ]
  },
  {
   "cell_type": "markdown",
   "metadata": {},
   "source": [
    "Packing and unpacking can be performed with lists and tuples:"
   ]
  },
  {
   "cell_type": "code",
   "execution_count": 8,
   "metadata": {},
   "outputs": [],
   "source": [
    "[a, b] = 1, 2 # 1, 2 is effectively a tuple\n",
    "assert a == 1\n",
    "assert b == 2\n",
    "\n",
    "(c, d) = 3, 4\n",
    "assert c == 3\n",
    "assert d == 4"
   ]
  },
  {
   "cell_type": "markdown",
   "metadata": {},
   "source": [
    "### Converting between lists and tuples\n",
    "\n",
    "You can easily convert tuples to lists using the `list` built-in function. Similarly, the `tuple` function converts a lists to the corresponding tuple:"
   ]
  },
  {
   "cell_type": "code",
   "execution_count": 10,
   "metadata": {},
   "outputs": [],
   "source": [
    "l = list((1, 2, 3, 4))\n",
    "assert l == [1, 2, 3, 4]\n",
    "\n",
    "t = tuple([1, 2, 3, 4])\n",
    "assert t == (1, 2, 3, 4)"
   ]
  },
  {
   "cell_type": "markdown",
   "metadata": {},
   "source": [
    "An interesting *hack*. You can use the `list` function to conveniently break a string into its characters:"
   ]
  },
  {
   "cell_type": "code",
   "execution_count": 11,
   "metadata": {},
   "outputs": [
    {
     "data": {
      "text/plain": [
       "['H', 'e', 'l', 'l', 'o']"
      ]
     },
     "execution_count": 11,
     "metadata": {},
     "output_type": "execute_result"
    }
   ],
   "source": [
    "list(\"Hello\")"
   ]
  },
  {
   "cell_type": "markdown",
   "metadata": {},
   "source": [
    "## Sets\n",
    "\n",
    "A set in Python is an unordered collection of objects used when membership and uniqueness in the set are the main things you're interested in.\n",
    "\n",
    "Like dictionary keys, the items in a set must be immutable and hashable (i.e., ints, floats, strings, and tuples can be members of a set, but lists, dictionaries, and sets can't)."
   ]
  },
  {
   "cell_type": "markdown",
   "metadata": {},
   "source": [
    "### Set operations\n",
    "\n",
    "In addition to `in`, `len`, and iteration with `for`, sets have several specific operations:"
   ]
  },
  {
   "cell_type": "code",
   "execution_count": 23,
   "metadata": {},
   "outputs": [],
   "source": [
    "# Create a set from a list\n",
    "x = set([1, 2, 3, 4, 5])\n",
    "assert x == {1, 2, 3, 4, 5}\n",
    "\n",
    "x.add(6)\n",
    "assert x == {1, 2, 3, 4, 5, 6}\n",
    "\n",
    "x.remove(5)\n",
    "assert x == {1, 2, 3, 4, 6}\n",
    "\n",
    "assert 1 in x\n",
    "\n",
    "assert (5 in x) == False\n",
    "\n",
    "# union\n",
    "y = {1, 7, 8, 9}\n",
    "assert x | y == {1, 2, 3, 4, 6, 7, 8, 9}\n",
    "\n",
    "# intersection\n",
    "assert x & y == {1}\n",
    "\n",
    "# xor\n",
    "assert x^y == {2, 3, 4, 6, 7, 8, 9}"
   ]
  },
  {
   "cell_type": "markdown",
   "metadata": {},
   "source": [
    "You can create a set from a sequence (such as a list or tuple) using the `set` built-in function.\n",
    "\n",
    "When a sequence is made into a list, their duplicates are removed:"
   ]
  },
  {
   "cell_type": "code",
   "execution_count": 26,
   "metadata": {},
   "outputs": [],
   "source": [
    "x = [1, 2, 3, 4, 5, 4, 3, 2, 1]\n",
    "assert set(x) == {1, 2, 3, 4, 5}"
   ]
  },
  {
   "cell_type": "markdown",
   "metadata": {},
   "source": [
    "### Frozensets\n",
    "\n",
    "The `frozenset` type can be used to create an immutable set. A `frozenset` is immutable and hashable and therefore can be used as members of other sets (or as dictionary keys):"
   ]
  },
  {
   "cell_type": "code",
   "execution_count": 30,
   "metadata": {},
   "outputs": [
    {
     "name": "stdout",
     "output_type": "stream",
     "text": [
      "Ooops:  {AttributeError(\"'frozenset' object has no attribute 'add'\")}\n"
     ]
    }
   ],
   "source": [
    "x = set([1, 2, 3, 1, 3, 5])\n",
    "z = frozenset(x)\n",
    "assert z == {1, 2, 3, 5}\n",
    "\n",
    "try:\n",
    "    z.add(6)\n",
    "except AttributeError as e:\n",
    "    print(\"Ooops: \", {e})"
   ]
  },
  {
   "cell_type": "markdown",
   "metadata": {},
   "source": [
    "### Exercise\n",
    "\n",
    "Read a set of temperature data (the monthly high temperatures at Heathrow Airport from 1948 through 2016) from the file [lab_05.txt](data/lab_05.txt) and then find some basic statistics about the data: the highest and lowest tempeartures, the mean (average) temperature, and the median temperature (the temperature in the middle if all the temperatures are sorted).\n",
    "\n",
    "How many unique temperatures are in the file?"
   ]
  },
  {
   "cell_type": "markdown",
   "metadata": {},
   "source": [
    "First thing is inspecting the file [lab_05.txt](data/lab_05.txt).\n",
    "\n",
    "```\n",
    "8.9\n",
    "7.9\n",
    "14.2\n",
    "15.4\n",
    "18.1\n",
    "19.1\n",
    "...\n",
    "10.2\n",
    "\n",
    "```\n",
    "\n",
    "It is a series of float values, one per row.\n",
    "\n",
    "Thus, the best way to calculate some statistics will be to load the values into a list."
   ]
  },
  {
   "cell_type": "code",
   "execution_count": 39,
   "metadata": {},
   "outputs": [
    {
     "name": "stdout",
     "output_type": "stream",
     "text": [
      "828\n"
     ]
    }
   ],
   "source": [
    "temps =[]\n",
    "with open(\"data/lab_05.txt\") as f:\n",
    "    for line in f:\n",
    "        temps.append(float(line.strip()))\n",
    "\n",
    "print(len(temps))"
   ]
  },
  {
   "cell_type": "markdown",
   "metadata": {},
   "source": [
    "To calculate the max and min temperatures we can directly use the `min` and `max` built-in functions.\n",
    "\n",
    "For the average temperature we just have to sum all the temperatures and divide the sum by the number of elements in the list"
   ]
  },
  {
   "cell_type": "code",
   "execution_count": 34,
   "metadata": {},
   "outputs": [],
   "source": [
    "min_temp = min(temps)\n",
    "max_temp = max(temps)\n",
    "avg_temp = sum(temps) / len(temps)"
   ]
  },
  {
   "cell_type": "markdown",
   "metadata": {},
   "source": [
    "Finally, for the median, we have to sort the list and extract the element in the middle:"
   ]
  },
  {
   "cell_type": "code",
   "execution_count": 35,
   "metadata": {},
   "outputs": [],
   "source": [
    "median_temp = sorted(temps)[len(temps) // 2]"
   ]
  },
  {
   "cell_type": "markdown",
   "metadata": {},
   "source": [
    "As a result:"
   ]
  },
  {
   "cell_type": "code",
   "execution_count": 36,
   "metadata": {},
   "outputs": [
    {
     "name": "stdout",
     "output_type": "stream",
     "text": [
      "Min: 0.8\n",
      "Max: 28.2\n",
      "Avg: 14.84830917874396\n",
      "Median: 14.7\n"
     ]
    }
   ],
   "source": [
    "print(f\"Min: {min_temp}\")\n",
    "print(f\"Max: {max_temp}\")\n",
    "print(f\"Avg: {avg_temp}\")\n",
    "print(f\"Median: {median_temp}\")"
   ]
  },
  {
   "cell_type": "markdown",
   "metadata": {},
   "source": [
    "Finally, to find how many unique temperatures are in the file we can do:"
   ]
  },
  {
   "cell_type": "code",
   "execution_count": 37,
   "metadata": {},
   "outputs": [
    {
     "name": "stdout",
     "output_type": "stream",
     "text": [
      "Unique: 217\n",
      "Total number of temps: 828\n"
     ]
    }
   ],
   "source": [
    "unique_temps = set(temps)\n",
    "print(f\"Unique: {len(unique_temps)}\")\n",
    "print(f\"Total number of temps: {len(temps)}\")"
   ]
  }
 ],
 "metadata": {
  "kernelspec": {
   "display_name": ".venv",
   "language": "python",
   "name": "python3"
  },
  "language_info": {
   "codemirror_mode": {
    "name": "ipython",
    "version": 3
   },
   "file_extension": ".py",
   "mimetype": "text/x-python",
   "name": "python",
   "nbconvert_exporter": "python",
   "pygments_lexer": "ipython3",
   "version": "3.12.2"
  }
 },
 "nbformat": 4,
 "nbformat_minor": 2
}
