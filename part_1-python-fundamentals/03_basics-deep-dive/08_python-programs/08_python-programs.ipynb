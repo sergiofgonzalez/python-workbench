{
 "cells": [
  {
   "cell_type": "markdown",
   "metadata": {},
   "source": [
    "# Python programs\n",
    "\n",
    "## Handling command-line arguments\n",
    "\n",
    "With command-line scripts it's often useful to get parameters from the command line.\n",
    "\n",
    "All of the arguments sent to the script are available in the `sys.argv`:\n",
    "\n",
    "```python\n",
    "import sys\n",
    "\n",
    "def main():\n",
    "    print(\"This is a CLI tool\")\n",
    "    print(sys.argv)\n",
    "\n",
    "main()\n",
    "```\n",
    "\n",
    "| EXAMPLE: |\n",
    "| :------- |\n",
    "| See [01: command-line args](mini-projects/01_command-line-args/README.md) for a runnable example. |"
   ]
  },
  {
   "cell_type": "markdown",
   "metadata": {},
   "source": [
    "## Executing code only as main script\n",
    "\n",
    "The following structure is used to identify a portion of the code that should be executed only when the file is run as main script and not when imported as a module:\n",
    "\n",
    "```python\n",
    "if __name__ == \"__main__\":\n",
    "    main()\n",
    "else:\n",
    "    # module specific initialization code if any\n",
    "```\n",
    "\n",
    "If a file with this structure is called as a script, the variable `__name__` will be set to `\"__main__\"`, which means the controlling function `main()` will be invoked.\n",
    "\n",
    "By contrast, if the script has been imported as a module by some other script, its name will be its filename, and the code won't be executed. Note that you can include an *else* block that will only be executed if the file has been imported as a module."
   ]
  },
  {
   "cell_type": "markdown",
   "metadata": {},
   "source": [
    "## Redirecting the input and output of a script\n",
    "\n",
    "In Linux, it's common to redirect the contents of a file or the output of another process intro a script instead of using keyboard output, or to redirect the output of a script to the input of another process.\n",
    "\n",
    "To redirect a file into input instead of having the user enter input you need to specify that you want to read from stdin. In Python the standard input (stdin) is access through `sys.stdin`.\n",
    "\n",
    "Similarly, you can write to the standard output (stdout) using `sys.stdout`. Note that `print` writes to stdout by default.\n",
    "\n",
    "To redirect from a file to input you would use `<` on the command line, and for sending the output to file you'd use `>`.\n",
    "\n",
    "| EXAMPLE: |\n",
    "| :------- |\n",
    "| See [02: stdin/stdout](mini-projects/02_redirect-stdin-stdout/README.md) for a runnable example. |\n",
    "\n",
    "The script in the example above can receive an infile as stdin using the syntax:\n",
    "\n",
    "```bash\n",
    "python script.py me I < infile\n",
    "```\n",
    "\n",
    "And you can redirect the std output to file doing:\n",
    "\n",
    "```bash\n",
    "python script.py me I < infile > outfile\n",
    "```"
   ]
  },
  {
   "cell_type": "markdown",
   "metadata": {},
   "source": [
    "You can also use the `|` command to pipe the output of one command as the input of another command.\n",
    "\n",
    "```bash\n",
    "python script.py 0 zero < infile | python script.py 1 one > outfile\n",
    "```\n",
    "\n",
    "The output of the process corresponding to `python script.py 0 zero < infile` is directed to the input of the second run of the script, which ultimately redirects the output to a file named `outfile`."
   ]
  },
  {
   "cell_type": "markdown",
   "metadata": {},
   "source": [
    "## The `argparse` module\n",
    "\n",
    "You can configure a script to accept command-line options as well as arguments.\n",
    "\n",
    "The `argparse` module provides support for parsing different types of arguments and can even generate usage messages.\n",
    "\n",
    "Consider the following program:\n",
    "\n",
    "```python\n",
    "from argparse import ArgumentParser\n",
    "\n",
    "def main():\n",
    "    parser = ArgumentParser()\n",
    "    parser.add_argument(\"indent\", type=int, help=\"indent value for the report\")\n",
    "    parser.add_argument(\"input_file\", help=\"file from where data is read from\")\n",
    "\n",
    "    # Optional arguments\n",
    "    parser.add_argument(\"-f\", \"--file\", dest=\"filename\", help=\"file where report is written to\")\n",
    "    parser.add_argument(\"-x\", \"--xray\", help=\"specify xray strength factor\")\n",
    "    parser.add_argument(\"-q\", \"--quiet\", action=\"store_false\", dest=\"verbose\", default=True, help=\"don't print status messages to stdout\")\n",
    "\n",
    "    args = parser.parse_args()\n",
    "\n",
    "    print(\"arguments:\", args)\n",
    "\n",
    "if __name__ == '__main__':\n",
    "    main()\n",
    "```\n",
    "\n",
    "This code creates an instance of `ArgumentParser` and then adds two positional arguments, `indent` and `input_file`. Those are the arguments entered after all the optional arguments have been parsed.\n",
    "\n",
    "By convention, positional arguments are those without a prefix character (usually `\"-\"`). Those are required and might have a specific type, like `indent` which must be a parseable `int`.\n",
    "\n",
    "Then comes the optional arguments like `-f` or `--file`. As discussed, optional arguments begin with the prefix character `\"-\"`.\n",
    "\n",
    "The final argument is a bit convoluted:\n",
    "```python\n",
    "parser.add_argument(\"-q\", \"--quiet\", action=\"store_false\", dest=\"verbose\", default=True, help=\"don't print status messages to stdout\")\n",
    "```\n",
    " \n",
    "That snippet declares the `-q`/`--quiet` optional argument with a default value of `True` and destination variable named `verbose`, which is the opposite of quiet. Thus, when not given, the default value will be `True`, that is`verbose=True`. Conversely, if given, `store_false` will make `verbose=False`."
   ]
  },
  {
   "cell_type": "markdown",
   "metadata": {},
   "source": [
    "The `argparse` module returns a Namespace object containing the arguments as attributes.\n",
    "\n",
    "The values of the arguments can be accessed using the dot notation. If there's no argument for an option, its value will be `None`.\n",
    "\n",
    "| EXAMPLE: |\n",
    "| :------- |\n",
    "| See [03: argparse](mini-projects/03_argparse-command-line-options/README.md) for a runnable example. |"
   ]
  },
  {
   "cell_type": "markdown",
   "metadata": {},
   "source": [
    "## Using the `fileinput` module\n",
    "\n",
    "The `fileinput` module provides support for processing lines of input from one or more files. \n",
    "\n",
    "It automatically reads the command-line arguments (out of `sys.argv`), takes them as a list of input files, opens them, and starts serving them to your script using a simple iterator:\n",
    "\n",
    "```python\n",
    "for line in fileinput.input():\n",
    "    print(line, end=\"\")\n",
    "```"
   ]
  },
  {
   "cell_type": "markdown",
   "metadata": {},
   "source": [
    "Note that if no command-line arguments are present, the stdin will be captured."
   ]
  },
  {
   "cell_type": "markdown",
   "metadata": {},
   "source": [
    "The `fileinput` module provides several other functions:\n",
    "\n",
    "+ get the total number of lines that have been read: `lineno`\n",
    "+ the number of lines that have been read out of the current file: `filelineno`\n",
    "+ the name of the current file: `filename`\n",
    "+ whether this is the first line of a file: `isfirstline`\n",
    "+ whether the stdin is currently being read: `isstdin`\n",
    "+ skip to the next file: `nextfile`\n",
    "+ close the whole stream: `close`"
   ]
  },
  {
   "cell_type": "markdown",
   "metadata": {},
   "source": [
    "You can call `fileinput.input` with a single filename or a list of filenames and they'll be used as its input files instead of `sys.argv`.\n",
    "\n",
    "To read from a single file:\n",
    "\n",
    "```python\n",
    "for line in fileinput.input(\"infile_1.txt\"):\n",
    "    ...\n",
    "```\n",
    "\n",
    "To read from multiple files:\n",
    "\n",
    "```python\n",
    "for line in fileinput.input(\"infile_1.txt\"):\n",
    "    ...\n",
    "```\n"
   ]
  },
  {
   "cell_type": "markdown",
   "metadata": {},
   "source": [
    "\n",
    "There are additional advanced capabilities, such as the `inplace` option that leaves its output in the same file as its input while leaving the original around as a backup file.\n",
    "\n",
    "\n",
    "| EXAMPLE: |\n",
    "| :------- |\n",
    "| See [04: fileinput](mini-projects/04_fileinput/README.md) for a runnable example. |"
   ]
  },
  {
   "cell_type": "markdown",
   "metadata": {},
   "source": [
    "## Making the script directly executable in Unix\n",
    "\n",
    "If you're developing the script to be used in the OS, you can add the following shebang:\n",
    "\n",
    "```bash\n",
    "#! /usr/bin/env python3\n",
    "```\n",
    "\n",
    "Note that it will be executed using the system's python (instead of the Python configured in your virtual environment), so you have to make sure that all the required libraries are available."
   ]
  },
  {
   "cell_type": "markdown",
   "metadata": {},
   "source": [
    "## Programs and modules\n",
    "\n",
    "For small scripts, a single function works well, but if the script grows separating the controlling function from the rest of the code makes the program easier to read and maintain."
   ]
  },
  {
   "cell_type": "markdown",
   "metadata": {},
   "source": [
    "Consider the following script that takes as an argument a number and returns its English-language name:\n",
    "\n",
    "```python\n",
    "import sys\n",
    "\n",
    "_1_to_9_dict = {\n",
    "    \"0\": \"\",\n",
    "    \"1\": \"one\",\n",
    "    \"2\": \"two\",\n",
    "    \"3\": \"three\",\n",
    "    \"4\": \"four\",\n",
    "    \"5\": \"five\",\n",
    "    \"6\": \"six\",\n",
    "    \"7\": \"seven\",\n",
    "    \"8\": \"eight\",\n",
    "    \"9\": \"nine\"\n",
    "}\n",
    "\n",
    "_10_to_19_dict = {\n",
    "    \"0\": \"ten\",\n",
    "    \"1\": \"eleven\",\n",
    "    \"2\": \"twelve\",\n",
    "    \"3\": \"thirteen\",\n",
    "    \"4\": \"fourteen\",\n",
    "    \"5\": \"fifteen\",\n",
    "    \"6\": \"sixteen\",\n",
    "    \"7\": \"seventeen\",\n",
    "    \"8\": \"eighteen\",\n",
    "    \"9\": \"nineteen\"\n",
    "}\n",
    "\n",
    "_20_to_90_dict = {\n",
    "    \"2\": \"twenty\",\n",
    "    \"3\": \"thirty\",\n",
    "    \"4\": \"forty\",\n",
    "    \"5\": \"fifty\",\n",
    "    \"6\": \"sixty\",\n",
    "    \"7\": \"seventy\",\n",
    "    \"8\": \"eighty\",\n",
    "    \"9\": \"ninety\"\n",
    "}\n",
    "\n",
    "def num_2_words(num_str: str):\n",
    "    if num_str == \"0\":\n",
    "        return \"zero\"\n",
    "    if len(num_str) > 2:\n",
    "        return \"Number must be between 0 and 99\"\n",
    "    num_str = \"0\" + num_str\n",
    "    tens, ones = num_str[-2], num_str[-1]\n",
    "    if tens == \"0\":\n",
    "        return _1_to_9_dict[ones]\n",
    "    if tens == \"1\":\n",
    "        return _10_to_19_dict[ones]\n",
    "    else:\n",
    "        return _20_to_90_dict[tens] + \" \" + _1_to_9_dict[ones]\n",
    "\n",
    "def main():\n",
    "    print(num_2_words(sys.argv[1]))\n",
    "\n",
    "if __name__ == \"__main__\":\n",
    "    main()\n",
    "```"
   ]
  },
  {
   "cell_type": "markdown",
   "metadata": {},
   "source": [
    "It's standard to have the call to the controlling function (in this case `main()`) at the bottom. \n",
    "\n",
    "The controlling function can be either defined at the top or right above where it's called (preferred).\n",
    "\n",
    "This approach separates the plumbing (the `main()` definition and its invocation) from the code that does the real work."
   ]
  },
  {
   "cell_type": "markdown",
   "metadata": {},
   "source": [
    "It's quite common to find functions in Python programs that can be useful outside of the script. In the script above, `num_2_words()` would be such function.\n",
    "\n",
    "The script translates a number to its English-language name by taking the number from the command-line arguments, but the `num_2_words()` function would be helpful in many other scenarios.\n",
    "\n",
    "| EXAMPLE: |\n",
    "| :------- |\n",
    "| See [05: structuring a large script](mini-projects/05_large-script/README.md) for a runnable example. |"
   ]
  },
  {
   "cell_type": "markdown",
   "metadata": {},
   "source": [
    "## Distributing Python applications\n",
    "\n",
    "The current standard way of packaging and distributing Python modules and applications is to use packages called wheels.\n",
    "\n",
    "Wheels are designed to make installing Python code more reliable and to help manage dependencies.\n",
    "\n",
    "However, if you have an application that's in multiple modules, you can also distribute it as an executable zip file. This format relies on two facts about Python:\n",
    "\n",
    "1. If a zip file contains a file named `__main__.py`, Python can use that file as the entry point to the archive and execute the `__main__.py` file directly. In addition, the zip file's contents will be added to `sys.path`, so they are available to be imported and executed by `__main__.py`.\n",
    "\n",
    "2. Zip files allow arbitrary contents to be added to the beginning of the archive. If you add a shebang line pointing to a Python interpreter and give the file the needed permissions, the file can become self-contained and executable.\n",
    "\n",
    "For more information on this subject, please review [zipapp](https://docs.python.org/3/library/zipapp.html) library."
   ]
  },
  {
   "cell_type": "markdown",
   "metadata": {},
   "source": [
    "There are additional tools such as [py2exe](https://www.py2exe.org/) and [py2app](https://py2app.readthedocs.io/en/latest/) that can create standalone apps for both Windows and MacOS."
   ]
  }
 ],
 "metadata": {
  "language_info": {
   "name": "python"
  }
 },
 "nbformat": 4,
 "nbformat_minor": 2
}
