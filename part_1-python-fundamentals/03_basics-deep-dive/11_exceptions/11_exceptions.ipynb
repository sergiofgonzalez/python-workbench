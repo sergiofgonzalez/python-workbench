{
 "cells": [
  {
   "cell_type": "markdown",
   "metadata": {},
   "source": [
    "# Exceptions\n",
    "\n",
    "Exceptions are language features specifically aimed at handling unusual circumstances during the execution of a program.\n",
    "\n",
    "They're most commonly used to handle errors that occur during the execution of a program, but they can also be used effectively for many other purposes."
   ]
  },
  {
   "cell_type": "markdown",
   "metadata": {},
   "source": [
    "The following Python pseudo-code illustrates the idea of using exceptions for error handling:\n",
    "\n",
    "\n",
    "def save_to_file(filename):\n",
    "    **try** to **execute** the **following block**\n",
    "        save_text_to_file(filename)\n",
    "        save_formats_to_file(filename)\n",
    "        save_prefs_to_file(filename)\n",
    "    **except** that, **if** the disk runs **out of space** while executing the block above do:\n",
    "        handle_the_error()\n",
    "\n",
    "def save_text_to_file(filename):\n",
    "    ...lower-level call to write size of text\n",
    "    ...lower-level call to write actual text data\n",
    "\n",
    "See how when using exceptions, error handling code is removed from the lower-level functions, and can be kept on the *controlling* code. See also how the code that fails doesn't need to be in the same function that checks the exception &mdash; the code throwing/raising the exception might be buried within code you might not even control, but the exception will be properly propagated to the controlling function, which can include code to mitigate/deal with the error."
   ]
  },
  {
   "cell_type": "markdown",
   "metadata": {},
   "source": [
    "## A more formal definition of exceptions\n",
    "\n",
    "The act of generating an exception is called *raising** or *throwing* and exception. Exceptions can be raised but your own code, or by functions you invoke.\n",
    "\n",
    "The act of responding to an exception is called *catching an exception*, and the code that handles an exception is called *exception-handling code* or *exception handler*.\n",
    "\n",
    "Modern languages defines different types of exceptions corresponding to various problems that may occur."
   ]
  },
  {
   "cell_type": "markdown",
   "metadata": {},
   "source": [
    "## Exceptions in Python\n",
    "\n",
    "Exceptions in Python are built around an object-oriented approach.\n",
    "\n",
    "An Exception is an object generated automatically by Python code with a `raise` statement. After the object is generated, the `raise` statement causes the execution of the Python program to proceed in a manner different from what would normally occur. That is, instead of proceeding with the next statement after the `raise`, the current call chain is searched for a handler that can deal with the generated exception. If such handler is found, it's invoked and may access the exception object for more information. If no suitable exception handler is found, the program aborts with an error message."
   ]
  },
  {
   "cell_type": "markdown",
   "metadata": {},
   "source": [
    "The Pythonic approach for dealing with exception relies on the *it's \"easier to ask for forgiveness than permission\" (EAFP)*. This means Python recommends dealing with errors *after* they occur, rather than checking for possible errors before they occur (this is called \"look before you leap\" (LBYL) paradigm)."
   ]
  },
  {
   "cell_type": "markdown",
   "metadata": {},
   "source": [
    "### Types of Python exceptions\n",
    "\n",
    "Exceptions in Pythons are organized in a hierarcy:\n",
    "\n",
    "```\n",
    "BaseException\n",
    "├── BaseExceptionGroup\n",
    "├── Exception\n",
    "│   ├── ArithmeticError\n",
    "│   │   ├── FloatingPointError\n",
    "│   │   ├── OverflowError\n",
    "│   │   └── ZeroDivisionError\n",
    "│   ├── AssertionError\n",
    "│   ├── AttributeError\n",
    "│   ├── BufferError\n",
    "│   ├── EOFError\n",
    "│   ├── ExceptionGroup [BaseExceptionGroup]\n",
    "│   ├── ImportError\n",
    "│   │   └── ModuleNotFoundError\n",
    "│   ├── LookupError\n",
    "│   │   ├── IndexError\n",
    "│   │   └── KeyError\n",
    "│   ├── MemoryError\n",
    "│   ├── NameError\n",
    "│   │   └── UnboundLocalError\n",
    "│   ├── OSError\n",
    "│   │   ├── BlockingIOError\n",
    "│   │   ├── ChildProcessError\n",
    "│   │   ├── ConnectionError\n",
    "│   │   │   ├── BrokenPipeError\n",
    "│   │   │   ├── ConnectionAbortedError\n",
    "│   │   │   ├── ConnectionRefusedError\n",
    "│   │   │   └── ConnectionResetError\n",
    "│   │   ├── FileExistsError\n",
    "│   │   ├── FileNotFoundError\n",
    "│   │   ├── InterruptedError\n",
    "│   │   ├── IsADirectoryError\n",
    "│   │   ├── NotADirectoryError\n",
    "│   │   ├── PermissionError\n",
    "│   │   ├── ProcessLookupError\n",
    "│   │   └── TimeoutError\n",
    "│   ├── ReferenceError\n",
    "│   ├── RuntimeError\n",
    "│   │   ├── NotImplementedError\n",
    "│   │   ├── PythonFinalizationError\n",
    "│   │   └── RecursionError\n",
    "│   ├── StopAsyncIteration\n",
    "│   ├── StopIteration\n",
    "│   ├── SyntaxError\n",
    "│   │   ├── IncompleteInputError\n",
    "│   │   └── IndentationError\n",
    "│   │       └── TabError\n",
    "│   ├── SystemError\n",
    "│   ├── TypeError\n",
    "│   ├── ValueError\n",
    "│   │   └── UnicodeError\n",
    "│   │       ├── UnicodeDecodeError\n",
    "│   │       ├── UnicodeEncodeError\n",
    "│   │       └── UnicodeTranslateError\n",
    "│   └── Warning\n",
    "│       ├── BytesWarning\n",
    "│       ├── DeprecationWarning\n",
    "│       ├── EncodingWarning\n",
    "│       ├── FutureWarning\n",
    "│       ├── ImportWarning\n",
    "│       ├── PendingDeprecationWarning\n",
    "│       ├── ResourceWarning\n",
    "│       ├── RuntimeWarning\n",
    "│       ├── SyntaxWarning\n",
    "│       ├── UnicodeWarning\n",
    "│       └── UserWarning\n",
    "├── GeneratorExit\n",
    "├── KeyboardInterrupt\n",
    "└── SystemExit\n",
    "```"
   ]
  },
  {
   "cell_type": "markdown",
   "metadata": {},
   "source": [
    "Each type of exception is a Python class, which inherits from its parent exception type. \n",
    "\n",
    "For example, an `IndexError` is also an instance of `LookupError` and an `Exception` and also a `BaseException` (by inheritance).\n",
    "\n",
    "Most exceptions inherit from `Exception`. It's strongly recommended that any user-defined exceptions also subclass `Exception` and not `BaseException`. The reason is deliberate to allow interrupting code with CTRL+C (`KeyboardInterrup`) without triggering any custom exception handler you might have coded:\n",
    "\n",
    "```python\n",
    "try:\n",
    "    ...do stuff..\n",
    "except Exception:\n",
    "    ...handle exceptions, but not KeyboardInterrupt...\n",
    "```"
   ]
  },
  {
   "cell_type": "markdown",
   "metadata": {},
   "source": [
    "### Raising exceptions\n",
    "\n",
    "Exceptions can be raised by code you use:\n",
    "\n",
    "```python\n",
    "a = [1, 2, 3]\n",
    "a[7] # raises IndexError\n",
    "```\n",
    "\n",
    "You can also raise exceptions explicitly in your own code using:\n",
    "\n",
    "```python\n",
    "raise exception(args)\n",
    "```\n",
    "\n",
    "The arguments to the new exception are typically values that aid you in determining what happened.\n",
    "\n",
    "After the exception has been created, `raise` throws it upward along the stack of Python functions that were invoked in getting to the line containing the `raise` statement.\n",
    "\n",
    "The new exception is thrown up to the nearest exception catcher block on the stack looking for that type of exception.\n",
    "\n",
    "If no catcher is found on the way to the top level of the program, the program terminates with an error."
   ]
  },
  {
   "cell_type": "markdown",
   "metadata": {},
   "source": [
    "The use of a string argument when creating exceptions is common. Most of the built-in Python exceptions, if given a first argument, assume that the argument is a message to be shown to you as an explanation of what happened.\n",
    "\n",
    "Note that this isn't always the case, so make sure to inspect the exception class definition, as the exception you want to raise might not take a text message."
   ]
  },
  {
   "cell_type": "markdown",
   "metadata": {},
   "source": [
    "### Catching and handling exceptions\n",
    "\n",
    "By defining appropriate exception handlers, you can ensure that commonly encountered exceptional circumstances don't cause the program to fail and halt."
   ]
  },
  {
   "cell_type": "markdown",
   "metadata": {},
   "source": [
    "The basic Python syntax for exception catching and handling is as follows:\n",
    "\n",
    "```python\n",
    "try:\n",
    "    body\n",
    "except exception_type1 as var1:\n",
    "    exception_handler_1\n",
    "except exception_type2 as var2:\n",
    "    exception_handler_2\n",
    "except exception_type3, exception_type4 as var34:\n",
    "    exception_handler_34\n",
    "except:\n",
    "    default_exception_code\n",
    "else:\n",
    "    else_block\n",
    "finally:\n",
    "    finally_block    \n",
    "```\n",
    "\n",
    "Some notes about the code above:\n",
    "+ The `finally_block` will be always executed.\n",
    "+ If the execution of the body is successful, the `else_block` will be executed, and then the `finally_block`.\n",
    "+ If the `body` fails, the `except` clauses are searched sequentially for one whose associated exception type matches that which was thrown. If a matching `except` is found, the thrown exception is assigned to the variable named after the associated exception type, and the corresponding exception handler code is executed.\n",
    "+ If you won't be needing the instance of the exception and are only interested in the type you can write `except exception_type:`, which will still catch the exception.\n",
    "+ the *catch-all* `except:` which catches all types of exceptions is not recommended."
   ]
  },
  {
   "cell_type": "markdown",
   "metadata": {},
   "source": [
    "### Defining new exceptions\n",
    "\n",
    "The following block defines a new exception type:"
   ]
  },
  {
   "cell_type": "code",
   "execution_count": 3,
   "metadata": {},
   "outputs": [],
   "source": [
    "class MyError(Exception):\n",
    "    pass"
   ]
  },
  {
   "cell_type": "markdown",
   "metadata": {},
   "source": [
    "\n",
    "And the following code raises an exception of that type:\n",
    "\n",
    "```python\n",
    "raise MyError(\"Some info explaining what went wrong\")\n",
    "```\n",
    "\n",
    "And the following code can be used to catch exceptions of that type:"
   ]
  },
  {
   "cell_type": "code",
   "execution_count": 4,
   "metadata": {},
   "outputs": [
    {
     "name": "stdout",
     "output_type": "stream",
     "text": [
      "Error situation identified: Where did we go wrong?\n"
     ]
    }
   ],
   "source": [
    "try:\n",
    "    raise MyError(\"Where did we go wrong?\")\n",
    "except MyError as error:\n",
    "    print(\"Error situation identified:\", error)"
   ]
  },
  {
   "cell_type": "markdown",
   "metadata": {},
   "source": [
    "If you raise an exception with multiple arguments, those will be delivered to your handler as a tuple in the `args` attribute:"
   ]
  },
  {
   "cell_type": "code",
   "execution_count": 6,
   "metadata": {},
   "outputs": [
    {
     "name": "stdout",
     "output_type": "stream",
     "text": [
      "Error situation identified: 'Info about error' on 'object affected': severity: 3\n"
     ]
    }
   ],
   "source": [
    "try:\n",
    "    raise MyError(\"Info about error\", \"object affected\", 3)\n",
    "except MyError as error:\n",
    "    print(f\"Error situation identified: {error.args[0]!r} on {error.args[1]!r}: severity: {error.args[2]}\")"
   ]
  },
  {
   "cell_type": "markdown",
   "metadata": {},
   "source": [
    "### Exception groups\n",
    "\n",
    "In Python 3.11, two new exceptions were added `BaseExceptionGroup` (which inherits from `BaseException`) and `ExceptionGroup` (which inherits from `Exception`).\n",
    "\n",
    "The purpose of exception groups is to bundle exceptions together to make it possible to handle more than one exception at a time, which is quite common in concurrent programming.\n",
    "\n",
    "The `ExceptionGroup` was added to wrap multiple exceptions in a special exception. The way that exception groups are handled through `except*` instead of `except` and each `except*` will handle any exceptions in the group that match its type.\n",
    "\n",
    "The following snippet illustrates both the syntax and the behavior.\n",
    "\n",
    "The code below raise an exception group that wraps three different exceptions: `TypeError`, `FileNotFoundError`, and `ValueError`. Then, three `except*` handlers are defined to check for those exceptions."
   ]
  },
  {
   "cell_type": "code",
   "execution_count": 8,
   "metadata": {},
   "outputs": [
    {
     "name": "stdout",
     "output_type": "stream",
     "text": [
      "Handling TypeError exception\n",
      "Handling IOError exception\n",
      "Handling ValueError exception\n",
      "\n"
     ]
    }
   ],
   "source": [
    "try:\n",
    "    message= \"\"\n",
    "    raise ExceptionGroup(\"Multiple exceptions\", [TypeError(), FileNotFoundError(), ValueError()])\n",
    "except* TypeError:\n",
    "    message += f\"Handling TypeError exception\\n\"\n",
    "except* IOError:\n",
    "    message += f\"Handling IOError exception\\n\"\n",
    "except* ValueError:\n",
    "    message += f\"Handling ValueError exception\\n\"\n",
    "finally:\n",
    "    print(message)"
   ]
  },
  {
   "cell_type": "markdown",
   "metadata": {},
   "source": [
    "Note that a block is defined for `IOError`, which will *trap* all subclassed of that error, including the `FileNotFoundError`."
   ]
  },
  {
   "cell_type": "markdown",
   "metadata": {},
   "source": [
    "### Debugging programs with the `assert` statement\n",
    "\n",
    "The `assert` statement is a specialized form of the `raise` statement:\n",
    "\n",
    "```python\n",
    "assert expression, explanation\n",
    "```\n",
    "\n",
    "The `AssertionError` exception will be raised if the `expression` evaluates to `False` and the system variable `__debug__` is `True`.\n",
    "\n",
    "The `__debug__` variable is `True` by default, and it is turned off by passing `-O` or `-OO` to the Python interpreter, or by setting `PYTHONOPTIMIZE` environment variable to `True`."
   ]
  },
  {
   "cell_type": "code",
   "execution_count": 9,
   "metadata": {},
   "outputs": [
    {
     "ename": "AssertionError",
     "evalue": "length of the tuple must be greater than 5",
     "output_type": "error",
     "traceback": [
      "\u001b[0;31m---------------------------------------------------------------------------\u001b[0m",
      "\u001b[0;31mAssertionError\u001b[0m                            Traceback (most recent call last)",
      "Cell \u001b[0;32mIn[9], line 3\u001b[0m\n\u001b[1;32m      1\u001b[0m x \u001b[38;5;241m=\u001b[39m (\u001b[38;5;241m1\u001b[39m, \u001b[38;5;241m2\u001b[39m, \u001b[38;5;241m3\u001b[39m)\n\u001b[0;32m----> 3\u001b[0m \u001b[38;5;28;01massert\u001b[39;00m \u001b[38;5;28mlen\u001b[39m(x) \u001b[38;5;241m>\u001b[39m \u001b[38;5;241m5\u001b[39m, \u001b[38;5;124m\"\u001b[39m\u001b[38;5;124mlength of the tuple must be greater than 5\u001b[39m\u001b[38;5;124m\"\u001b[39m\n",
      "\u001b[0;31mAssertionError\u001b[0m: length of the tuple must be greater than 5"
     ]
    }
   ],
   "source": [
    "x = (1, 2, 3)\n",
    "\n",
    "assert len(x) > 5, \"length of the tuple must be greater than 5\""
   ]
  },
  {
   "cell_type": "markdown",
   "metadata": {},
   "source": [
    "### Exception inheritance hierarchy\n",
    "\n",
    "Python exceptions are hierarchically structured and the way in which Python evaluates the `except` statement is important to understand how Python selects the block that matches.\n",
    "\n",
    "Consider the following code:\n",
    "\n",
    "```python\n",
    "try:\n",
    "    body\n",
    "except LookupError as error:\n",
    "    ...exception handling code...\n",
    "except IndexError as error:\n",
    "    ...exception handling code...    \n",
    "```\n",
    "\n",
    "Because `IndexError` is a subclass of `LookupError`, the exception handling code for the `Index` error except block will never be executed.\n",
    "\n",
    "Conversely:\n",
    "\n",
    "\n",
    "```python\n",
    "try:\n",
    "    body\n",
    "except IndexError as error:\n",
    "    ...exception handling code...\n",
    "except LookupError as error:\n",
    "    ...exception handling code...\n",
    "```\n",
    "\n",
    "Because `IndexError` is a subclass of `LookupError`, you will have exception handling code for specific `IndexError` situations and a more general block for dealing with `LookupError` exceptions that aren't `IndexError` errors."
   ]
  },
  {
   "cell_type": "markdown",
   "metadata": {},
   "source": [
    "### Exceptions in normal evaluation\n",
    "\n",
    "While exceptions are most often used in error handling, they can also be useful in certain non-exceptional situations.\n",
    "\n",
    "Consider the following function, in which a cell value in a given spreadsheet is evaluated:"
   ]
  },
  {
   "cell_type": "code",
   "execution_count": null,
   "metadata": {},
   "outputs": [],
   "source": [
    "def cell_value(string):\n",
    "    try:\n",
    "        return float(string)\n",
    "    except ValueError:\n",
    "        if string == \"\":\n",
    "            return 0\n",
    "        else:\n",
    "            return None"
   ]
  },
  {
   "cell_type": "markdown",
   "metadata": {},
   "source": [
    "This function tries to convert the contents of a cell to a number, and if it fails, it returns `\"\"` if the cell is empty, or `None` if there is some other type of error.\n",
    "\n",
    "Note how easy Python makes it to implement such a function for something that shouldn't necessarily cause a program to halt."
   ]
  },
  {
   "cell_type": "markdown",
   "metadata": {},
   "source": [
    "## Context managers using the `with` keyword\n",
    "\n",
    "Consider the following block in which a file is opened, then file is being read until needed and then the file is closed:"
   ]
  },
  {
   "cell_type": "code",
   "execution_count": 10,
   "metadata": {},
   "outputs": [
    {
     "name": "stdout",
     "output_type": "stream",
     "text": [
      "This is a file.\n",
      "There are many like this one, but this is mine.\n",
      "\n"
     ]
    }
   ],
   "source": [
    "from pathlib import Path\n",
    "\n",
    "basepath = Path.cwd() / \"sample_data\"\n",
    "\n",
    "try:\n",
    "    infile = open(basepath / \"file.txt\")\n",
    "    data = infile.read()\n",
    "    print(data)\n",
    "finally:\n",
    "    infile.close()"
   ]
  },
  {
   "cell_type": "markdown",
   "metadata": {},
   "source": [
    "The snippet above shows the traditional way of dealing with the closing of resources even when exceptions occur (the file might fail to open, there might be an error reading the file, etc.).\n",
    "\n",
    "Python 3 offers a more generic way of handling situations like this with *context managers* using the `with` keyword."
   ]
  },
  {
   "cell_type": "code",
   "execution_count": 11,
   "metadata": {},
   "outputs": [
    {
     "name": "stdout",
     "output_type": "stream",
     "text": [
      "This is a file.\n",
      "There are many like this one, but this is mine.\n",
      "\n"
     ]
    }
   ],
   "source": [
    "from pathlib import Path\n",
    "\n",
    "basepath = Path.cwd() / \"sample_data\"\n",
    "\n",
    "with open(basepath / \"file.txt\") as infile:\n",
    "    data = infile.read()\n",
    "    print(data)"
   ]
  },
  {
   "cell_type": "markdown",
   "metadata": {},
   "source": [
    "Both idioms guarantee that the file will be closed immediately after the `read()`, whether the operation is successful or not."
   ]
  },
  {
   "cell_type": "markdown",
   "metadata": {},
   "source": [
    "Before Python 3.10, `with` statements had to be in a single line as seen below:"
   ]
  },
  {
   "cell_type": "code",
   "execution_count": 13,
   "metadata": {},
   "outputs": [],
   "source": [
    "from pathlib import Path\n",
    "\n",
    "basepath = Path.cwd() / \"sample_data\"\n",
    "\n",
    "with open(basepath / \"file.txt\") as infile, open(basepath / \"file_copy.txt\", \"w\") as outfile:\n",
    "    data = infile.read()\n",
    "    outfile.write(data)\n"
   ]
  },
  {
   "cell_type": "markdown",
   "metadata": {},
   "source": [
    "Since Python 3.10, it can be written in a more readable way as:"
   ]
  },
  {
   "cell_type": "code",
   "execution_count": 14,
   "metadata": {},
   "outputs": [],
   "source": [
    "from pathlib import Path\n",
    "\n",
    "basepath = Path.cwd() / \"sample_data\"\n",
    "\n",
    "with (\n",
    "    open(basepath / \"file.txt\") as infile,\n",
    "    open(basepath / \"file_copy.txt\", \"w\") as outfile\n",
    "):\n",
    "    data = infile.read()\n",
    "    outfile.write(data)\n"
   ]
  },
  {
   "cell_type": "markdown",
   "metadata": {},
   "source": [
    "Context managers are great for things such as locking and unlocking resources, closing files, committing database transactions, etc.\n",
    "\n",
    "Their expressiveness have made the context managers the standard best practice to deal with scenarios that require wrapping a block of code and doing some logic on *entry* and *departure*."
   ]
  }
 ],
 "metadata": {
  "kernelspec": {
   "display_name": ".venv",
   "language": "python",
   "name": "python3"
  },
  "language_info": {
   "codemirror_mode": {
    "name": "ipython",
    "version": 3
   },
   "file_extension": ".py",
   "mimetype": "text/x-python",
   "name": "python",
   "nbconvert_exporter": "python",
   "pygments_lexer": "ipython3",
   "version": "3.12.5"
  }
 },
 "nbformat": 4,
 "nbformat_minor": 2
}
