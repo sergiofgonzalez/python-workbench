{
 "cells": [
  {
   "cell_type": "markdown",
   "metadata": {},
   "source": [
    "# Regular expressions\n",
    "\n",
    "A regular expression (regex) is a way of recognizing and often extracting data from certain patterns of text.\n",
    "\n",
    "A regex that recognizes a piece of text or a string is said to match that text or string.\n",
    "\n",
    "A regex is defined by a string in which certain characters (the so-called metacharacters) can have a special meaning, which enables a single regex to match many different specific strings.\n",
    "\n",
    "The following snippet is the simplest of examples, in which the metacharacters are regular characters. We count the lines in which the search string `\"hello\"` is found in the file. Note that a line containing the search string more than once is counted only once."
   ]
  },
  {
   "cell_type": "code",
   "execution_count": null,
   "metadata": {},
   "outputs": [
    {
     "name": "stdout",
     "output_type": "stream",
     "text": [
      "'hello' was found within 2 line(s) in the file\n"
     ]
    }
   ],
   "source": [
    "import re\n",
    "from pathlib import Path\n",
    "\n",
    "search_str = \"hello\"\n",
    "regex = re.compile(search_str)\n",
    "count = 0\n",
    "with Path.open(\"datafiles/01_textfile.txt\", \"r\") as file:\n",
    "    for line in file.readlines():\n",
    "        if regex.search(line):\n",
    "            count += 1\n",
    "print(f\"{search_str!r} was found within {count} line(s) in the file.\")"
   ]
  },
  {
   "cell_type": "markdown",
   "metadata": {},
   "source": [
    "Note the line in the example:\n",
    "\n",
    "```python\n",
    "regex = re.compile(search_str)\n",
    "```\n",
    "\n",
    "This compilation isn't strictly necessary, but compiled regular expressions can significantly increase a program's speed."
   ]
  },
  {
   "cell_type": "markdown",
   "metadata": {},
   "source": [
    "## Regex with special characters\n",
    "\n",
    "Using special characters you'll be able to accommodate more flexible regular expressions that match different variations.\n",
    "\n",
    "For example, you can look for either `\"Hello\"` or `\"hello\"` using:\n",
    "\n",
    "```python\n",
    "# option 1\n",
    "regexp = re.compile(\"hello|Hello\")\n",
    "\n",
    "# option 2\n",
    "regexp = re.compile(\"(h|H)ello\")\n",
    "\n",
    "# option 3\n",
    "regexp = re.compile(\"[hH]ello\")\n",
    "```"
   ]
  },
  {
   "cell_type": "code",
   "execution_count": null,
   "metadata": {},
   "outputs": [],
   "source": [
    "import re\n",
    "from pathlib import Path\n",
    "\n",
    "\n",
    "def get_occurrence_count(filename: str, search_regexp: str) -> int:\n",
    "    regex = re.compile(search_regexp)\n",
    "    count = 0\n",
    "    with Path.open(filename, \"r\") as file:\n",
    "        for line in file.readlines():\n",
    "            if regex.search(line):\n",
    "                count += 1\n",
    "    return count\n",
    "\n",
    "filename = \"datafiles/01_textfile.txt\"\n",
    "\n",
    "assert get_occurrence_count(filename, \"hello\") == 2\n",
    "assert get_occurrence_count(filename, \"hello|Hello\") == 3\n",
    "assert get_occurrence_count(filename, \"(h|H)ello\") == 3\n",
    "assert get_occurrence_count(filename, \"[hH]ello\") == 3\n"
   ]
  },
  {
   "cell_type": "markdown",
   "metadata": {},
   "source": [
    "The special characters `[` and `]` take a string of characters between them and match any single character in that string, as in `[Hh]ello` to match `Hello` and `hello`.\n",
    "\n",
    "There's a shorthand to denote ranges of characters in a range: `[a-z]` which will match a single character between `a` and `z`. It can be used in the following situations:\n",
    "\n",
    "+ Any numeric character: `[0-9]` \n",
    "+ Any alphanumeric character: `[0-9a-z]`\n",
    "+ Any alphanumeric (uppercase) character: `[0-9A-Z]`\n",
    "+ ...\n",
    "\n",
    "Sometimes you might need to match for a hyphen character `\"-\"`. In that case, the hyphen must be placed at the beginning of the range string that denotes what must be matched:\n",
    "+ `[-012]`: either `\"-\"`, 0, 1, or 2.\n"
   ]
  },
  {
   "cell_type": "markdown",
   "metadata": {},
   "source": [
    "### Exercise\n",
    "\n",
    "Create a program that matches regular expression matching the numbers from -5 through 5.\n",
    "Note: assume that you will only be matching one digit numbers (from -9 to 9)."
   ]
  },
  {
   "cell_type": "code",
   "execution_count": 11,
   "metadata": {},
   "outputs": [],
   "source": [
    "import re\n",
    "\n",
    "search_regexp = \"(-[1-5])|([0-5])\"\n",
    "regexp = re.compile(search_regexp)\n",
    "\n",
    "for i in range(-9, 10):\n",
    "    if i < -5:\n",
    "        assert not regexp.match(str(i))\n",
    "    elif i <= 5:\n",
    "        assert regexp.match(str(i))\n",
    "    else:\n",
    "        assert not regexp.match(str(i))\n"
   ]
  },
  {
   "cell_type": "markdown",
   "metadata": {},
   "source": [
    "Alternatively:"
   ]
  },
  {
   "cell_type": "code",
   "execution_count": 12,
   "metadata": {},
   "outputs": [],
   "source": [
    "import re\n",
    "\n",
    "search_regexp = \"-?[0-5]\"\n",
    "regexp = re.compile(search_regexp)\n",
    "\n",
    "for i in range(-9, 10):\n",
    "    if i < -5:\n",
    "        assert not regexp.match(str(i))\n",
    "    elif i <= 5:\n",
    "        assert regexp.match(str(i))\n",
    "    else:\n",
    "        assert not regexp.match(str(i))"
   ]
  },
  {
   "cell_type": "markdown",
   "metadata": {},
   "source": [
    "### Exercise\n",
    "\n",
    "What regular expression would you use to match a hexadecimal digit?"
   ]
  },
  {
   "cell_type": "code",
   "execution_count": 16,
   "metadata": {},
   "outputs": [],
   "source": [
    "import re\n",
    "\n",
    "search_regexp = \"[0-9a-fA-F]\"\n",
    "regexp = re.compile(search_regexp)\n",
    "\n",
    "for i in range(16):\n",
    "    hex_digit = hex(i)[2:]  # Remove the 0x prefix\n",
    "    assert regexp.match(hex_digit)\n",
    "\n",
    "assert not regexp.match(\"G\")\n",
    "assert not regexp.match(\"Z\")\n",
    "assert not regexp.match(\"X\")"
   ]
  },
  {
   "cell_type": "markdown",
   "metadata": {},
   "source": [
    "## Regular expressions and raw strings\n",
    "\n",
    "Because Python automatically recognizes certain character sequences as special (`\\n` for newline, `\\t` for tab, `\\\\` for single backslash) when you're dealing with regular expressions you will need to pay special attention when building the string to match."
   ]
  },
  {
   "cell_type": "markdown",
   "metadata": {},
   "source": [
    "Assume for example that you need to match the occurrence of the string \"\\ten\" in some text found in a file."
   ]
  },
  {
   "cell_type": "code",
   "execution_count": 18,
   "metadata": {},
   "outputs": [
    {
     "name": "stdout",
     "output_type": "stream",
     "text": [
      "None\n"
     ]
    }
   ],
   "source": [
    "import re\n",
    "from pathlib import Path\n",
    "\n",
    "regex = re.compile(\"\\ten\")\n",
    "with Path.open(\"datafiles/02_textfile.txt\", \"r\") as file:\n",
    "    for line in file.readlines():\n",
    "        print(regex.search(line))\n"
   ]
  },
  {
   "cell_type": "markdown",
   "metadata": {},
   "source": [
    "You can see that Python interprets `\"\\ten\"` as a tab followed by `\"en\"` which is not what we need. Therefore, we might be tempted to change the search string:"
   ]
  },
  {
   "cell_type": "code",
   "execution_count": 19,
   "metadata": {},
   "outputs": [
    {
     "name": "stdout",
     "output_type": "stream",
     "text": [
      "None\n"
     ]
    }
   ],
   "source": [
    "import re\n",
    "from pathlib import Path\n",
    "\n",
    "regex = re.compile(\"\\\\ten\")\n",
    "with Path.open(\"datafiles/02_textfile.txt\", \"r\") as file:\n",
    "    for line in file.readlines():\n",
    "        print(regex.search(line))"
   ]
  },
  {
   "cell_type": "markdown",
   "metadata": {},
   "source": [
    "But that still doesn't work, because `re` also interprets `\\t` as tab.\n",
    "\n",
    "As a result, you need to double the backslash twice:"
   ]
  },
  {
   "cell_type": "code",
   "execution_count": 20,
   "metadata": {},
   "outputs": [
    {
     "name": "stdout",
     "output_type": "stream",
     "text": [
      "<re.Match object; span=(0, 4), match='\\\\ten'>\n"
     ]
    }
   ],
   "source": [
    "import re\n",
    "from pathlib import Path\n",
    "\n",
    "regex = re.compile(\"\\\\\\\\ten\")\n",
    "with Path.open(\"datafiles/02_textfile.txt\", \"r\") as file:\n",
    "    for line in file.readlines():\n",
    "        print(regex.search(line))"
   ]
  },
  {
   "cell_type": "markdown",
   "metadata": {},
   "source": [
    "Now it is found, but understanding what is being searched is really complicated.\n",
    "\n",
    "That's why in most of the cases when dealing with regular expressions it is recommended to use raw strings as in `r\"Hello\"`. Raw strings tell Python not to process the special characters in the string:"
   ]
  },
  {
   "cell_type": "code",
   "execution_count": 26,
   "metadata": {},
   "outputs": [
    {
     "name": "stdout",
     "output_type": "stream",
     "text": [
      "\\the\n",
      "\the\n"
     ]
    }
   ],
   "source": [
    "assert r\"Hello\" == \"Hello\"  # noqa: PLR0133\n",
    "assert r\"\\the\" == \"\\\\the\"  # noqa: PLR0133\n",
    "assert \"\\\\the\" != \"\\the\"  # noqa: PLR0133\n",
    "\n",
    "print(r\"\\the\")\n",
    "print(\"\\the\")\n"
   ]
  },
  {
   "cell_type": "markdown",
   "metadata": {},
   "source": [
    "Raw strings really simplify the expression that has to be used for the matching:"
   ]
  },
  {
   "cell_type": "code",
   "execution_count": 29,
   "metadata": {},
   "outputs": [
    {
     "name": "stdout",
     "output_type": "stream",
     "text": [
      "<re.Match object; span=(0, 4), match='\\\\ten'>\n"
     ]
    }
   ],
   "source": [
    "import re\n",
    "from pathlib import Path\n",
    "\n",
    "regex = re.compile(r\"\\\\ten\")\n",
    "with Path.open(\"datafiles/02_textfile.txt\", \"r\") as file:\n",
    "    for line in file.readlines():\n",
    "        print(regex.search(line))"
   ]
  },
  {
   "cell_type": "markdown",
   "metadata": {},
   "source": [
    "Note that even with raw strings, a `\"\\t\"` must be written as `\"\\\\t\"` to disable the understanding of tab and treat the string as a backslash followed by the string \"ten\"."
   ]
  },
  {
   "cell_type": "markdown",
   "metadata": {},
   "source": [
    "## Extracting matched text from strings\n",
    "\n",
    "A common use case for regular expressions is to perform simple pattern-based parsing on text to extract portions of such text."
   ]
  },
  {
   "cell_type": "markdown",
   "metadata": {},
   "source": [
    "For example, assume that you have a file with a list of people and phone numbers with the format:\n",
    "\n",
    "```\n",
    "surname, firstname middlename: phonenumber\n",
    "```\n",
    "\n",
    "Taking into account that:\n",
    "+ a middle name may or may not exist\n",
    "+ phone-numbers follow the format:\n",
    "    + 3 digit area code (optional)\n",
    "    + 3 digit exchange code\n",
    "    + 4 digit number\n",
    "\n",
    "Therefore, you might find phone numbers such as 800-123-4567 or 123-4567.\n",
    "\n",
    "The way to deal with this *parsing* problem is to use the divide and conquer approach. Let's start with the parsing of surnames, firstnames, and middle names: those will be letters and possibly hyphens: `[-a-zA-Z]`\n",
    "\n",
    "The previous regular expression will match a single character in the name. Therefore, we need to use the `+` metacharacter so that we can match names with *one or more characters*: `[-a-zA-Z]`.\n",
    "\n",
    "Note that names such as `---` will also be valid, but that's OK for this example.\n",
    "\n",
    "For the phone numbers, we can use the `\\d` special sequence that identifies digits: `\\d\\d\\d-\\d\\d\\d-\\d\\d\\d\\d`.\n",
    "\n",
    "We can also instruct that the area code is optional using a group and the `?` metacharacter to indicate that's optional: `(\\d\\d\\d-)?\\d\\d\\d-\\d\\d\\d\\d`.\n",
    "\n",
    "The previous regular expression can also be written in a more compact way using `{}` to indicate the number of times a pattern should repeat: `(\\d{3}-)?\\d{3}-\\d{4}`.\n",
    "\n",
    "As a result, we can write the whole regular expression as:\n",
    "\n",
    "```\n",
    "[-a-zA-Z]+, [-a-zA-Z]+( [-a-zA-Z]+)?: (\\d{3}-)?\\d{3}-\\d{4}\n",
    "```\n",
    "\n",
    "Note the space in the specification of the optional middlename."
   ]
  },
  {
   "cell_type": "markdown",
   "metadata": {},
   "source": [
    "While the above pattern will let us validate that the lines conform to the expected format, it won't help us extract the individual components (surname, first name, middle name, phone number)."
   ]
  },
  {
   "cell_type": "code",
   "execution_count": 40,
   "metadata": {},
   "outputs": [
    {
     "name": "stdout",
     "output_type": "stream",
     "text": [
      "Line 0: conforms to pattern: True\n",
      "Line 1: conforms to pattern: True\n",
      "Line 2: conforms to pattern: True\n",
      "Line 3: conforms to pattern: True\n"
     ]
    }
   ],
   "source": [
    "import re\n",
    "from pathlib import Path\n",
    "\n",
    "regex = re.compile(r\"[-a-zA-Z]+, [-a-zA-Z]+( [-a-zA-Z]+)?: (\\d{3}-)?\\d{3}-\\d{4}\")\n",
    "with Path.open(\"datafiles/03_textfile.txt\", \"r\") as file:\n",
    "    for i, line in enumerate(file.readlines()):\n",
    "        print(f\"Line {i}: conforms to pattern: {regex.search(line) is not None}\")\n"
   ]
  },
  {
   "cell_type": "markdown",
   "metadata": {},
   "source": [
    "We can also benefit from the fact that Python automatically concatenates strings, so we can write the regexp in portions:"
   ]
  },
  {
   "cell_type": "code",
   "execution_count": 41,
   "metadata": {},
   "outputs": [
    {
     "name": "stdout",
     "output_type": "stream",
     "text": [
      "Line 0: conforms to pattern: True\n",
      "Line 1: conforms to pattern: True\n",
      "Line 2: conforms to pattern: True\n",
      "Line 3: conforms to pattern: True\n"
     ]
    }
   ],
   "source": [
    "import re\n",
    "from pathlib import Path\n",
    "\n",
    "regex = re.compile(\n",
    "    r\"[-a-zA-Z]+,\"\n",
    "    r\" [-a-zA-Z]+\"\n",
    "    r\"( [-a-zA-Z]+)?: \"\n",
    "    r\"(\\d{3}-)?\\d{3}-\\d{4}\",\n",
    ")\n",
    "with Path.open(\"datafiles/03_textfile.txt\", \"r\") as file:\n",
    "    for i, line in enumerate(file.readlines()):\n",
    "        print(f\"Line {i}: conforms to pattern: {regex.search(line) is not None}\")\n"
   ]
  },
  {
   "cell_type": "markdown",
   "metadata": {},
   "source": [
    "Extracting the components requires modifying the regex a bit to include `()` to group each subpattern corresponding to the piece of text we want to extract, as well as using `?P<name>` to give each matched subpattern a name.\n",
    "\n",
    "Once you do so, you'll be able extract those pieces using `result.group(\"name\")` as seen below:"
   ]
  },
  {
   "cell_type": "code",
   "execution_count": 46,
   "metadata": {},
   "outputs": [
    {
     "name": "stdout",
     "output_type": "stream",
     "text": [
      "line 0: \"# This is comment line, won't be parsed\\n\" could not be interpreted\n",
      "Name='first-name' MiddleName='middle-name' Last Name='surname'Phone='555-123-4567'\n",
      "Name='Jason' MiddleName=None Last Name='Isaacs'Phone='123-4567'\n",
      "Name='Florence' MiddleName='Mary' Last Name='Pugh'Phone='123-4567'\n",
      "Name='Eugene' MiddleName=None Last Name='Krabs'Phone='800-123-4567'\n"
     ]
    }
   ],
   "source": [
    "import re\n",
    "from pathlib import Path\n",
    "\n",
    "regex = re.compile(\n",
    "    r\"(?P<lastname>[-a-zA-Z]+),\"\n",
    "    r\" (?P<firstname>[-a-zA-Z]+)\"\n",
    "    r\"( (?P<middlename>[-a-zA-Z]+))?: \"\n",
    "    r\"(?P<phonenumber>(\\d{3}-)?\\d{3}-\\d{4})\",\n",
    ")\n",
    "with Path.open(\"datafiles/03_textfile.txt\", \"r\") as file:\n",
    "    for i, line in enumerate(file.readlines()):\n",
    "        if result := regex.search(line):\n",
    "            print(\n",
    "                f\"Name={result.group(\"firstname\")!r} \"\n",
    "                f\"MiddleName={result.group(\"middlename\")!r} \"\n",
    "                f\"Last Name={result.group(\"lastname\")!r}\"\n",
    "                f\"Phone={result.group(\"phonenumber\")!r}\",\n",
    "            )\n",
    "        else:\n",
    "            print(f\"line {i}: {line!r} could not be interpreted\")\n"
   ]
  },
  {
   "cell_type": "markdown",
   "metadata": {},
   "source": [
    "### Exercise\n",
    "\n",
    "Making international calls requires a `+` and the country code. Assuming that the country code is two digits, how would you modify the previous snippet to extract the `+` and the country code as part of the number?\n",
    "Assume that the country code will be optional."
   ]
  },
  {
   "cell_type": "code",
   "execution_count": 57,
   "metadata": {},
   "outputs": [
    {
     "name": "stdout",
     "output_type": "stream",
     "text": [
      "line 0: \"# This is comment line, won't be parsed\\n\" could not be interpreted\n",
      "Name='first-name' MiddleName='middle-name' Last Name='surname' Country Code=None Phone='555-123-4567'\n",
      "Name='Jason' MiddleName=None Last Name='Isaacs' Country Code=None Phone='123-4567'\n",
      "Name='Florence' MiddleName='Mary' Last Name='Pugh' Country Code=None Phone='123-4567'\n",
      "Name='Eugene' MiddleName=None Last Name='Krabs' Country Code=None Phone='800-123-4567'\n",
      "Name='Penelope' MiddleName=None Last Name='Cruz' Country Code=34 Phone='555-321-4321'\n"
     ]
    }
   ],
   "source": [
    "import re\n",
    "from pathlib import Path\n",
    "\n",
    "regex = re.compile(\n",
    "    r\"(?P<lastname>[-a-zA-Z]+),\"\n",
    "    r\" (?P<firstname>[-a-zA-Z]+)\"\n",
    "    r\"( (?P<middlename>[-a-zA-Z]+))?: \"\n",
    "    r\"(\\(\\+(?P<countrycode>\\d{2})\\))?\"\n",
    "    r\"(?P<phonenumber>(\\d{3}-)?\\d{3}-\\d{4})\",\n",
    ")\n",
    "with Path.open(\"datafiles/04_textfile.txt\", \"r\") as file:\n",
    "    for i, line in enumerate(file.readlines()):\n",
    "        if result := regex.search(line):\n",
    "            print(\n",
    "                f\"Name={result.group(\"firstname\")!r} \"\n",
    "                f\"MiddleName={result.group(\"middlename\")!r} \"\n",
    "                f\"Last Name={result.group(\"lastname\")!r} \"\n",
    "                f\"Country Code={result.group(\"countrycode\")} \"\n",
    "                f\"Phone={result.group(\"phonenumber\")!r}\",\n",
    "            )\n",
    "        else:\n",
    "            print(f\"line {i}: {line!r} could not be interpreted\")\n"
   ]
  },
  {
   "cell_type": "markdown",
   "metadata": {},
   "source": [
    "### Exercise\n",
    "\n",
    "How would you make the code handle country codes of one to three digits?"
   ]
  },
  {
   "cell_type": "code",
   "execution_count": 3,
   "metadata": {},
   "outputs": [
    {
     "name": "stdout",
     "output_type": "stream",
     "text": [
      "line 0: \"# This is comment line, won't be parsed\\n\" could not be interpreted\n",
      "Name='first-name' MiddleName='middle-name' Last Name='surname' Country Code=None Phone='555-123-4567'\n",
      "Name='Jason' MiddleName=None Last Name='Isaacs' Country Code=None Phone='123-4567'\n",
      "Name='Florence' MiddleName='Mary' Last Name='Pugh' Country Code=None Phone='123-4567'\n",
      "Name='Eugene' MiddleName=None Last Name='Krabs' Country Code=None Phone='800-123-4567'\n",
      "Name='Penelope' MiddleName=None Last Name='Cruz' Country Code=34 Phone='555-321-4321'\n",
      "Name='Ahmed' MiddleName=None Last Name='Riz' Country Code=1 Phone='800-321-4321'\n",
      "Name='Charles' MiddleName=None Last Name='Leclerc' Country Code=377 Phone='765-4321'\n"
     ]
    }
   ],
   "source": [
    "import re\n",
    "from pathlib import Path\n",
    "\n",
    "regex = re.compile(\n",
    "    r\"(?P<lastname>[-a-zA-Z]+),\"\n",
    "    r\" (?P<firstname>[-a-zA-Z]+)\"\n",
    "    r\"( (?P<middlename>[-a-zA-Z]+))?: \"\n",
    "    r\"(\\(\\+(?P<countrycode>\\d{1,3})\\))?\"\n",
    "    r\"(?P<phonenumber>(\\d{3}-)?\\d{3}-\\d{4})\",\n",
    ")\n",
    "with Path.open(\"datafiles/05_textfile.txt\", \"r\") as file:\n",
    "    for i, line in enumerate(file.readlines()):\n",
    "        if result := regex.search(line):\n",
    "            print(\n",
    "                f\"Name={result.group(\"firstname\")!r} \"\n",
    "                f\"MiddleName={result.group(\"middlename\")!r} \"\n",
    "                f\"Last Name={result.group(\"lastname\")!r} \"\n",
    "                f\"Country Code={result.group(\"countrycode\")} \"\n",
    "                f\"Phone={result.group(\"phonenumber\")!r}\",\n",
    "            )\n",
    "        else:\n",
    "            print(f\"line {i}: {line!r} could not be interpreted\")\n"
   ]
  },
  {
   "cell_type": "markdown",
   "metadata": {},
   "source": [
    "Note that to specify a number of one to three digits, you use the syntax: `\"\\d{1, 3}\"`, that is, you specify the minimum and maximum number of figures."
   ]
  },
  {
   "cell_type": "markdown",
   "metadata": {},
   "source": [
    "## Substituting text with regular expressions\n",
    "\n",
    "Regexp are also useful when you need to find strings in text and substitute them by other strings.\n",
    "\n",
    "The following snippet illustrates how to do so using the `sub()` method, which replaces all matching substrings with the value of the first argument."
   ]
  },
  {
   "cell_type": "code",
   "execution_count": 7,
   "metadata": {},
   "outputs": [
    {
     "name": "stdout",
     "output_type": "stream",
     "text": [
      "result='If the problem is textual, use the re module'\n"
     ]
    }
   ],
   "source": [
    "import re\n",
    "\n",
    "string = \"If the the problem is textual, use the the re module\"\n",
    "pattern = r\"the the\"\n",
    "regexp = re.compile(pattern)\n",
    "result = regexp.sub(\"the\", string)\n",
    "\n",
    "print(f\"result={result!r}\")\n"
   ]
  },
  {
   "cell_type": "markdown",
   "metadata": {},
   "source": [
    "The `sub()` method accepts as first argument a function, which will be called with each matching object. Then, the invoked function can decide what to do with the match, and return a replacement string if needed.\n",
    "\n",
    "As an example, consider the following snippet that takes a string containing integer values and returns a string with the same numerical values, but as floating point numbers with a decimal point and zero:"
   ]
  },
  {
   "cell_type": "code",
   "execution_count": 8,
   "metadata": {},
   "outputs": [
    {
     "name": "stdout",
     "output_type": "stream",
     "text": [
      "result=\"1.0, 2.0, 3.0 count with me, that's how the number goes, 4.0, 5.0, 6.0, 7.0, 8.0, 9.0\"\n"
     ]
    }
   ],
   "source": [
    "import re\n",
    "\n",
    "\n",
    "def matched_int_to_float(match_obj):\n",
    "    return match_obj.group(\"int_num\") + \".0\"\n",
    "\n",
    "string = \"1, 2, 3 count with me, that's how the number goes, 4, 5, 6, 7, 8, 9\"\n",
    "pattern = r\"(?P<int_num>\\d)\"\n",
    "regexp = re.compile(pattern)\n",
    "result = regexp.sub(matched_int_to_float, string)\n",
    "\n",
    "print(f\"result={result!r}\")"
   ]
  },
  {
   "cell_type": "markdown",
   "metadata": {},
   "source": [
    "### Exercise\n",
    "\n",
    "Modify the phone number parsing exercise to assume that any phone number without country code should be understood as +1 (for United States and Canada)."
   ]
  },
  {
   "cell_type": "code",
   "execution_count": 5,
   "metadata": {},
   "outputs": [
    {
     "name": "stdout",
     "output_type": "stream",
     "text": [
      "line 0: \"# This is comment line, won't be parsed\\n\" could not be interpreted\n",
      "Name='first-name' MiddleName='surname' Last Name='surname' Country Code=1 Phone='555-123-4567'\n",
      "Name='Jason' MiddleName='Isaacs' Last Name='Isaacs' Country Code=1 Phone='123-4567'\n",
      "Name='Florence' MiddleName='Pugh' Last Name='Pugh' Country Code=1 Phone='123-4567'\n",
      "Name='Eugene' MiddleName='Krabs' Last Name='Krabs' Country Code=1 Phone='800-123-4567'\n",
      "Name='Penelope' MiddleName='Cruz' Last Name='Cruz' Country Code=34 Phone='555-321-4321'\n",
      "Name='Ahmed' MiddleName='Riz' Last Name='Riz' Country Code=1 Phone='800-321-4321'\n",
      "Name='Charles' MiddleName='Leclerc' Last Name='Leclerc' Country Code=377 Phone='765-4321'\n"
     ]
    }
   ],
   "source": [
    "import re\n",
    "from pathlib import Path\n",
    "\n",
    "\n",
    "def default_country_code(match_obj) -> str:\n",
    "    if not (country_code := match_obj.group(\"countrycode\")):\n",
    "         country_code = \"1\"\n",
    "    return (\n",
    "            f\"{match_obj.group(\"lastname\")}, \"\n",
    "            f\"{match_obj.group(\"firstname\")} \"\n",
    "            f\"{match_obj.group(\"lastname\")}: \"\n",
    "            f\"(+{country_code})\"\n",
    "            f\"{match_obj.group(\"phonenumber\")}\"\n",
    "    )\n",
    "\n",
    "regex = re.compile(\n",
    "    r\"(?P<lastname>[-a-zA-Z]+),\"\n",
    "    r\" (?P<firstname>[-a-zA-Z]+)\"\n",
    "    r\"( (?P<middlename>[-a-zA-Z]+))?: \"\n",
    "    r\"(\\(\\+(?P<countrycode>\\d{1,3})\\))?\"\n",
    "    r\"(?P<phonenumber>(\\d{3}-)?\\d{3}-\\d{4})\",\n",
    ")\n",
    "with Path.open(\"datafiles/05_textfile.txt\", \"r\") as file:\n",
    "    for i, line in enumerate(file.readlines()):\n",
    "        mod_line = regex.sub(default_country_code, line)\n",
    "        if result := regex.search(mod_line):\n",
    "            print(\n",
    "                f\"Name={result.group(\"firstname\")!r} \"\n",
    "                f\"MiddleName={result.group(\"middlename\")!r} \"\n",
    "                f\"Last Name={result.group(\"lastname\")!r} \"\n",
    "                f\"Country Code={result.group(\"countrycode\")} \"\n",
    "                f\"Phone={result.group(\"phonenumber\")!r}\",\n",
    "            )\n",
    "        else:\n",
    "            print(f\"line {i}: {mod_line!r} could not be interpreted\")\n"
   ]
  },
  {
   "cell_type": "markdown",
   "metadata": {},
   "source": [
    "### Exercise: Phone number normalizer\n",
    "\n",
    "In USA and Canada, phone numbers consist of ten digits, usually separated into:\n",
    "+ a three-digit area code\n",
    "+ a three-digit exchange code\n",
    "+ a four-digit station code\n",
    "\n",
    "They may or may not be preceded by the country code +1.\n",
    "\n",
    "As a result, you might find the following possible formats for a phone number in the US and Canada:\n",
    "\n",
    "+ `+1 223-456-7890`\n",
    "+ `1-223-456-7890`\n",
    "+ `+1 223 456-7890`\n",
    "+ `(223) 456-7890`\n",
    "+ `1 223 456 7890`\n",
    "+ `223.456.7890`\n",
    "\n",
    "Create a phone-number normalizer that takes any of the formats above and returns a normalized phone number of the form: `1-NNN-NNN-NNNN`.\n",
    "\n",
    "Bonus:\n",
    "+ The first digit of the area code and the exchange code can only be 2-9, and the second digit of an area code can't be 9."
   ]
  },
  {
   "cell_type": "markdown",
   "metadata": {},
   "source": [
    "First we work on the individual components (divide and conquer):\n",
    "\n",
    "Country code:\n",
    "+ \"+1 \"\n",
    "+ \"1-\"\n",
    "+ \"+1 \"\n",
    "+ \"1 \"\n",
    "+ (absent)\n",
    "\n",
    "Area code:\n",
    "+ \"223-\"\n",
    "+ \"223-\"\n",
    "+ \"223 \"\n",
    "+ \"(223)\"\n",
    "+ \"223.\"\n",
    "\n",
    "Exchange code:\n",
    "+ \"456-\"\n",
    "+ \"456 \"\n",
    "+ \"456.\"\n",
    "\n",
    "Station code:\n",
    "+ 7890\n"
   ]
  },
  {
   "cell_type": "code",
   "execution_count": 46,
   "metadata": {},
   "outputs": [
    {
     "name": "stdout",
     "output_type": "stream",
     "text": [
      "Country Code='1' Area Code='223' Exchange Code='456' Station Code='7890' \n",
      "Country Code='1' Area Code='223' Exchange Code='456' Station Code='7890' \n",
      "Country Code='1' Area Code='223' Exchange Code='456' Station Code='7890' \n",
      "Country Code=None Area Code='223' Exchange Code='456' Station Code='7890' \n",
      "Country Code='1' Area Code='223' Exchange Code='456' Station Code='7890' \n",
      "Country Code=None Area Code='223' Exchange Code='456' Station Code='7890' \n",
      "Country Code=None Area Code='999' Exchange Code='456' Station Code='7890' \n",
      "line 7: '1-989-111-222' could not be interpreted\n"
     ]
    }
   ],
   "source": [
    "import re\n",
    "from pathlib import Path\n",
    "\n",
    "regex = re.compile(\n",
    "        r\"(\\+?(?P<country_code>(1))(-| )?)?\"\n",
    "        r\"\\(?(?P<area_code>\\d{3})(\\) |-| |\\.)\"\n",
    "        r\"(?P<exchange_code>\\d{3})(-| |\\.)\"\n",
    "        r\"(?P<station_code>\\d{4})\",\n",
    ")\n",
    "\n",
    "with Path.open(\"datafiles/06_textfile.txt\", \"r\") as file:\n",
    "    for i, line in enumerate(file.readlines()):\n",
    "        if result := regex.search(line):\n",
    "            print(\n",
    "                f\"Country Code={result.group(\"country_code\")!r} \"\n",
    "                f\"Area Code={result.group(\"area_code\")!r} \"\n",
    "                f\"Exchange Code={result.group(\"exchange_code\")!r} \"\n",
    "                f\"Station Code={result.group(\"station_code\")!r} \",\n",
    "            )\n",
    "        else:\n",
    "            print(f\"line {i}: {line.strip()!r} could not be interpreted\")\n"
   ]
  },
  {
   "cell_type": "code",
   "execution_count": 47,
   "metadata": {},
   "outputs": [
    {
     "name": "stdout",
     "output_type": "stream",
     "text": [
      "0: +1 223-456-7890 --> '1-223-456-7890'\n",
      "1: 1-223-456-7890 --> '1-223-456-7890'\n",
      "2: +1 223 456-7890 --> '1-223-456-7890'\n",
      "3: (223) 456-7890 --> '1-223-456-7890'\n",
      "4: 1 223 456 7890 --> '1-223-456-7890'\n",
      "5: 223.456.7890 --> '1-223-456-7890'\n",
      "6: 999.456.7890 --> '1-999-456-7890'\n",
      "7: 1-989-111-222: invalid phone number format for US/Canada\n"
     ]
    }
   ],
   "source": [
    "import re\n",
    "from pathlib import Path\n",
    "\n",
    "\n",
    "def normalize_phone_number(phone_number) -> str:\n",
    "    regex = re.compile(\n",
    "        r\"(\\+?(?P<country_code>(1))(-| )?)?\"\n",
    "        r\"\\(?(?P<area_code>\\d{3})(\\) |-| |\\.)\"\n",
    "        r\"(?P<exchange_code>\\d{3})(-| |\\.)\"\n",
    "        r\"(?P<station_code>\\d{4})\",\n",
    "    )\n",
    "    if not (match_obj := regex.search(phone_number)):\n",
    "        raise ValueError(\"invalid phone number format for US/Canada\")\n",
    "    return (\n",
    "        f\"{match_obj.group(\"country_code\") if match_obj.group(\"country_code\") else \"1\"}-\"  # noqa: E501\n",
    "        f\"{match_obj.group(\"area_code\")}-\"\n",
    "        f\"{match_obj.group(\"exchange_code\")}-\"\n",
    "        f\"{match_obj.group(\"station_code\")}\"\n",
    "    )\n",
    "\n",
    "\n",
    "\n",
    "with Path.open(\"datafiles/06_textfile.txt\", \"r\") as file:\n",
    "    for i, line in enumerate(file.readlines()):\n",
    "        try:\n",
    "            print(f\"{i}: {line.strip()} --> {normalize_phone_number(line)!r}\")\n",
    "        except ValueError as e:\n",
    "            print(f\"{i}: {line.strip()}: {e}\")\n",
    "\n"
   ]
  },
  {
   "cell_type": "markdown",
   "metadata": {},
   "source": [
    "For the bonus part:\n",
    "+ The first digit of the area code and the exchange code can only be 2-9\n",
    "+ The second digit of an area code can't be 9."
   ]
  },
  {
   "cell_type": "code",
   "execution_count": 49,
   "metadata": {},
   "outputs": [
    {
     "name": "stdout",
     "output_type": "stream",
     "text": [
      "0: +1 223-456-7890 --> '1-223-456-7890'\n",
      "1: 1-223-456-7890 --> '1-223-456-7890'\n",
      "2: +1 223 456-7890 --> '1-223-456-7890'\n",
      "3: (223) 456-7890 --> '1-223-456-7890'\n",
      "4: 1 223 456 7890 --> '1-223-456-7890'\n",
      "5: 223.456.7890 --> '1-223-456-7890'\n",
      "6: 999.456.7890: invalid phone number format for US/Canada\n",
      "7: 1-989-111-222: invalid phone number format for US/Canada\n"
     ]
    }
   ],
   "source": [
    "import re\n",
    "from pathlib import Path\n",
    "\n",
    "\n",
    "def normalize_phone_number(phone_number) -> str:\n",
    "    regex = re.compile(\n",
    "        r\"(\\+?(?P<country_code>(1))(-| )?)?\"\n",
    "        r\"\\(?(?P<area_code>[2-9][0-8]\\d)(\\) |-| |\\.)\"\n",
    "        r\"(?P<exchange_code>[2-9]\\d{2})(-| |\\.)\"\n",
    "        r\"(?P<station_code>\\d{4})\",\n",
    "    )\n",
    "    if not (match_obj := regex.search(phone_number)):\n",
    "        raise ValueError(\"invalid phone number format for US/Canada\")\n",
    "    return (\n",
    "        f\"{match_obj.group(\"country_code\") if match_obj.group(\"country_code\") else \"1\"}-\"  # noqa: E501\n",
    "        f\"{match_obj.group(\"area_code\")}-\"\n",
    "        f\"{match_obj.group(\"exchange_code\")}-\"\n",
    "        f\"{match_obj.group(\"station_code\")}\"\n",
    "    )\n",
    "\n",
    "\n",
    "\n",
    "with Path.open(\"datafiles/06_textfile.txt\", \"r\") as file:\n",
    "    for i, line in enumerate(file.readlines()):\n",
    "        try:\n",
    "            print(f\"{i}: {line.strip()} --> {normalize_phone_number(line)!r}\")\n",
    "        except ValueError as e:\n",
    "            print(f\"{i}: {line.strip()}: {e}\")\n",
    "\n"
   ]
  }
 ],
 "metadata": {
  "kernelspec": {
   "display_name": ".venv",
   "language": "python",
   "name": "python3"
  },
  "language_info": {
   "codemirror_mode": {
    "name": "ipython",
    "version": 3
   },
   "file_extension": ".py",
   "mimetype": "text/x-python",
   "name": "python",
   "nbconvert_exporter": "python",
   "pygments_lexer": "ipython3",
   "version": "3.12.7"
  }
 },
 "nbformat": 4,
 "nbformat_minor": 2
}
