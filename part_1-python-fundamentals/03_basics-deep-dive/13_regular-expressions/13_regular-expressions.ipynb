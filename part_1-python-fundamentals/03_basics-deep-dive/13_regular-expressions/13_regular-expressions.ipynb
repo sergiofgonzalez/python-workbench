{
 "cells": [
  {
   "cell_type": "markdown",
   "metadata": {},
   "source": [
    "# Regular expressions\n",
    "\n",
    "A regular expression (regex) is a way of recognizing and often extracting data from certain patterns of text.\n",
    "\n",
    "A regex that recognizes a piece of text or a string is said to match that text or string.\n",
    "\n",
    "A regex is defined by a string in which certain characters (the so-called metacharacters) can have a special meaning, which enables a single regex to match many different specific strings.\n",
    "\n",
    "The following snippet is the simplest of examples, in which the metacharacters are regular characters. We count the lines in which the search string `\"hello\"` is found in the file. Note that a line containing the search string more than once is counted only once."
   ]
  },
  {
   "cell_type": "code",
   "execution_count": null,
   "metadata": {},
   "outputs": [
    {
     "name": "stdout",
     "output_type": "stream",
     "text": [
      "'hello' was found within 2 line(s) in the file\n"
     ]
    }
   ],
   "source": [
    "import re\n",
    "from pathlib import Path\n",
    "\n",
    "search_str = \"hello\"\n",
    "regex = re.compile(search_str)\n",
    "count = 0\n",
    "with Path.open(\"datafiles/01_textfile.txt\", \"r\") as file:\n",
    "    for line in file.readlines():\n",
    "        if regex.search(line):\n",
    "            count += 1\n",
    "print(f\"{search_str!r} was found within {count} line(s) in the file.\")"
   ]
  },
  {
   "cell_type": "markdown",
   "metadata": {},
   "source": [
    "Note the line in the example:\n",
    "\n",
    "```python\n",
    "regex = re.compile(search_str)\n",
    "```\n",
    "\n",
    "This compilation isn't strictly necessary, but compiled regular expressions can significantly increase a program's speed."
   ]
  },
  {
   "cell_type": "markdown",
   "metadata": {},
   "source": [
    "## Regex with special characters\n",
    "\n",
    "Using special characters you'll be able to accommodate more flexible regular expressions that match different variations.\n",
    "\n",
    "For example, you can look for either `\"Hello\"` or `\"hello\"` using:\n",
    "\n",
    "```python\n",
    "# option 1\n",
    "regexp = re.compile(\"hello|Hello\")\n",
    "\n",
    "# option 2\n",
    "regexp = re.compile(\"(h|H)ello\")\n",
    "\n",
    "# option 3\n",
    "regexp = re.compile(\"[hH]ello\")\n",
    "```"
   ]
  },
  {
   "cell_type": "code",
   "execution_count": null,
   "metadata": {},
   "outputs": [],
   "source": [
    "import re\n",
    "from pathlib import Path\n",
    "\n",
    "\n",
    "def get_occurrence_count(filename: str, search_regexp: str) -> int:\n",
    "    regex = re.compile(search_regexp)\n",
    "    count = 0\n",
    "    with Path.open(filename, \"r\") as file:\n",
    "        for line in file.readlines():\n",
    "            if regex.search(line):\n",
    "                count += 1\n",
    "    return count\n",
    "\n",
    "filename = \"datafiles/01_textfile.txt\"\n",
    "\n",
    "assert get_occurrence_count(filename, \"hello\") == 2\n",
    "assert get_occurrence_count(filename, \"hello|Hello\") == 3\n",
    "assert get_occurrence_count(filename, \"(h|H)ello\") == 3\n",
    "assert get_occurrence_count(filename, \"[hH]ello\") == 3\n"
   ]
  },
  {
   "cell_type": "markdown",
   "metadata": {},
   "source": [
    "The special characters `[` and `]` take a string of characters between them and match any single character in that string, as in `[Hh]ello` to match `Hello` and `hello`.\n",
    "\n",
    "There's a shorthand to denote ranges of characters in a range: `[a-z]` which will match a single character between `a` and `z`. It can be used in the following situations:\n",
    "\n",
    "+ Any numeric character: `[0-9]` \n",
    "+ Any alphanumeric character: `[0-9a-z]`\n",
    "+ Any alphanumeric (uppercase) character: `[0-9A-Z]`\n",
    "+ ...\n",
    "\n",
    "Sometimes you might need to match for a hyphen character `\"-\"`. In that case, the hyphen must be placed at the beginning of the range string that denotes what must be matched:\n",
    "+ `[-012]`: either `\"-\"`, 0, 1, or 2.\n"
   ]
  },
  {
   "cell_type": "markdown",
   "metadata": {},
   "source": [
    "### Exercise\n",
    "\n",
    "Create a program that matches regular expression matching the numbers from -5 through 5.\n",
    "Note: assume that you will only be matching one digit numbers (from -9 to 9)."
   ]
  },
  {
   "cell_type": "code",
   "execution_count": 11,
   "metadata": {},
   "outputs": [],
   "source": [
    "import re\n",
    "\n",
    "search_regexp = \"(-[1-5])|([0-5])\"\n",
    "regexp = re.compile(search_regexp)\n",
    "\n",
    "for i in range(-9, 10):\n",
    "    if i < -5:\n",
    "        assert not regexp.match(str(i))\n",
    "    elif i <= 5:\n",
    "        assert regexp.match(str(i))\n",
    "    else:\n",
    "        assert not regexp.match(str(i))\n"
   ]
  },
  {
   "cell_type": "markdown",
   "metadata": {},
   "source": [
    "Alternatively:"
   ]
  },
  {
   "cell_type": "code",
   "execution_count": 12,
   "metadata": {},
   "outputs": [],
   "source": [
    "import re\n",
    "\n",
    "search_regexp = \"-?[0-5]\"\n",
    "regexp = re.compile(search_regexp)\n",
    "\n",
    "for i in range(-9, 10):\n",
    "    if i < -5:\n",
    "        assert not regexp.match(str(i))\n",
    "    elif i <= 5:\n",
    "        assert regexp.match(str(i))\n",
    "    else:\n",
    "        assert not regexp.match(str(i))"
   ]
  },
  {
   "cell_type": "markdown",
   "metadata": {},
   "source": [
    "### Exercise\n",
    "\n",
    "What regular expression would you use to match a hexadecimal digit?"
   ]
  },
  {
   "cell_type": "code",
   "execution_count": 16,
   "metadata": {},
   "outputs": [],
   "source": [
    "import re\n",
    "\n",
    "search_regexp = \"[0-9a-fA-F]\"\n",
    "regexp = re.compile(search_regexp)\n",
    "\n",
    "for i in range(16):\n",
    "    hex_digit = hex(i)[2:]  # Remove the 0x prefix\n",
    "    assert regexp.match(hex_digit)\n",
    "\n",
    "assert not regexp.match(\"G\")\n",
    "assert not regexp.match(\"Z\")\n",
    "assert not regexp.match(\"X\")"
   ]
  },
  {
   "cell_type": "markdown",
   "metadata": {},
   "source": [
    "## Regular expressions and raw strings\n",
    "\n",
    "Because Python automatically recognizes certain character sequences as special (`\\n` for newline, `\\t` for tab, `\\\\` for single backslash) when you're dealing with regular expressions you will need to pay special attention when building the string to match."
   ]
  },
  {
   "cell_type": "markdown",
   "metadata": {},
   "source": [
    "Assume for example that you need to match the occurrence of the string \"\\ten\" in some text found in a file."
   ]
  },
  {
   "cell_type": "code",
   "execution_count": 18,
   "metadata": {},
   "outputs": [
    {
     "name": "stdout",
     "output_type": "stream",
     "text": [
      "None\n"
     ]
    }
   ],
   "source": [
    "import re\n",
    "from pathlib import Path\n",
    "\n",
    "regex = re.compile(\"\\ten\")\n",
    "with Path.open(\"datafiles/02_textfile.txt\", \"r\") as file:\n",
    "    for line in file.readlines():\n",
    "        print(regex.search(line))\n"
   ]
  },
  {
   "cell_type": "markdown",
   "metadata": {},
   "source": [
    "You can see that Python interprets `\"\\ten\"` as a tab followed by `\"en\"` which is not what we need. Therefore, we might be tempted to change the search string:"
   ]
  },
  {
   "cell_type": "code",
   "execution_count": 19,
   "metadata": {},
   "outputs": [
    {
     "name": "stdout",
     "output_type": "stream",
     "text": [
      "None\n"
     ]
    }
   ],
   "source": [
    "import re\n",
    "from pathlib import Path\n",
    "\n",
    "regex = re.compile(\"\\\\ten\")\n",
    "with Path.open(\"datafiles/02_textfile.txt\", \"r\") as file:\n",
    "    for line in file.readlines():\n",
    "        print(regex.search(line))"
   ]
  },
  {
   "cell_type": "markdown",
   "metadata": {},
   "source": [
    "But that still doesn't work, because `re` also interprets `\\t` as tab.\n",
    "\n",
    "As a result, you need to double the backslash twice:"
   ]
  },
  {
   "cell_type": "code",
   "execution_count": 20,
   "metadata": {},
   "outputs": [
    {
     "name": "stdout",
     "output_type": "stream",
     "text": [
      "<re.Match object; span=(0, 4), match='\\\\ten'>\n"
     ]
    }
   ],
   "source": [
    "import re\n",
    "from pathlib import Path\n",
    "\n",
    "regex = re.compile(\"\\\\\\\\ten\")\n",
    "with Path.open(\"datafiles/02_textfile.txt\", \"r\") as file:\n",
    "    for line in file.readlines():\n",
    "        print(regex.search(line))"
   ]
  },
  {
   "cell_type": "markdown",
   "metadata": {},
   "source": [
    "Now it is found, but understanding what is being searched is really complicated.\n",
    "\n",
    "That's why in most of the cases when dealing with regular expressions it is recommended to use raw strings as in `r\"Hello\"`. Raw strings tell Python not to process the special characters in the string:"
   ]
  },
  {
   "cell_type": "code",
   "execution_count": 26,
   "metadata": {},
   "outputs": [
    {
     "name": "stdout",
     "output_type": "stream",
     "text": [
      "\\the\n",
      "\the\n"
     ]
    }
   ],
   "source": [
    "assert r\"Hello\" == \"Hello\"  # noqa: PLR0133\n",
    "assert r\"\\the\" == \"\\\\the\"  # noqa: PLR0133\n",
    "assert \"\\\\the\" != \"\\the\"  # noqa: PLR0133\n",
    "\n",
    "print(r\"\\the\")\n",
    "print(\"\\the\")\n"
   ]
  },
  {
   "cell_type": "markdown",
   "metadata": {},
   "source": [
    "Raw strings really simplify the expression that has to be used for the matching:"
   ]
  },
  {
   "cell_type": "code",
   "execution_count": 29,
   "metadata": {},
   "outputs": [
    {
     "name": "stdout",
     "output_type": "stream",
     "text": [
      "<re.Match object; span=(0, 4), match='\\\\ten'>\n"
     ]
    }
   ],
   "source": [
    "import re\n",
    "from pathlib import Path\n",
    "\n",
    "regex = re.compile(r\"\\\\ten\")\n",
    "with Path.open(\"datafiles/02_textfile.txt\", \"r\") as file:\n",
    "    for line in file.readlines():\n",
    "        print(regex.search(line))"
   ]
  },
  {
   "cell_type": "markdown",
   "metadata": {},
   "source": [
    "Note that even with raw strings, a `\"\\t\"` must be written as `\"\\\\t\"` to disable the understanding of tab and treat the string as a backslash followed by the string \"ten\"."
   ]
  },
  {
   "cell_type": "markdown",
   "metadata": {},
   "source": [
    "## Extracting matched text from strings\n",
    "\n",
    "A common use case for regular expressions is to perform simple pattern-based parsing on text to extract portions of such text."
   ]
  },
  {
   "cell_type": "markdown",
   "metadata": {},
   "source": [
    "For example, assume that you have a file with a list of people and phone numbers with the format:\n",
    "\n",
    "```\n",
    "surname, firstname middlename: phonenumber\n",
    "```\n",
    "\n",
    "Taking into account that:\n",
    "+ a middle name may or may not exist\n",
    "+ phone-numbers follow the format:\n",
    "    + 3 digit area code (optional)\n",
    "    + 3 digit exchange code\n",
    "    + 4 digit number\n",
    "\n",
    "Therefore, you might find phone numbers such as 800-123-4567 or 123-4567.\n",
    "\n",
    "The way to deal with this *parsing* problem is to use the divide and conquer approach. Let's start with the parsing of surnames, firstnames, and middle names: those will be letters and possibly hyphens: `[-a-zA-Z]`\n",
    "\n",
    "The previous regular expression will match a single character in the name. Therefore, we need to use the `+` metacharacter so that we can match names with *one or more characters*: `[-a-zA-Z]`.\n",
    "\n",
    "Note that names such as `---` will also be valid, but that's OK for this example.\n",
    "\n",
    "For the phone numbers, we can use the `\\d` special sequence that identifies digits: `\\d\\d\\d-\\d\\d\\d-\\d\\d\\d\\d`.\n",
    "\n",
    "We can also instruct that the area code is optional using a group and the `?` metacharacter to indicate that's optional: `(\\d\\d\\d-)?\\d\\d\\d-\\d\\d\\d\\d`.\n",
    "\n",
    "The previous regular expression can also be written in a more compact way using `{}` to indicate the number of times a pattern should repeat: `(\\d{3}-)?\\d{3}-\\d{4}`.\n",
    "\n",
    "As a result, we can write the whole regular expression as:\n",
    "\n",
    "```\n",
    "[-a-zA-Z]+, [-a-zA-Z]+( [-a-zA-Z]+)?: (\\d{3}-)?\\d{3}-\\d{4}\n",
    "```\n",
    "\n",
    "Note the space in the specification of the optional middlename."
   ]
  },
  {
   "cell_type": "markdown",
   "metadata": {},
   "source": [
    "While the above pattern will let us validate that the lines conform to the expected format, it won't help us extract the individual components (surname, first name, middle name, phone number)."
   ]
  },
  {
   "cell_type": "code",
   "execution_count": 40,
   "metadata": {},
   "outputs": [
    {
     "name": "stdout",
     "output_type": "stream",
     "text": [
      "Line 0: conforms to pattern: True\n",
      "Line 1: conforms to pattern: True\n",
      "Line 2: conforms to pattern: True\n",
      "Line 3: conforms to pattern: True\n"
     ]
    }
   ],
   "source": [
    "import re\n",
    "from pathlib import Path\n",
    "\n",
    "regex = re.compile(r\"[-a-zA-Z]+, [-a-zA-Z]+( [-a-zA-Z]+)?: (\\d{3}-)?\\d{3}-\\d{4}\")\n",
    "with Path.open(\"datafiles/03_textfile.txt\", \"r\") as file:\n",
    "    for i, line in enumerate(file.readlines()):\n",
    "        print(f\"Line {i}: conforms to pattern: {regex.search(line) is not None}\")\n"
   ]
  },
  {
   "cell_type": "markdown",
   "metadata": {},
   "source": [
    "We can also benefit from the fact that Python automatically concatenates strings, so we can write the regexp in portions:"
   ]
  },
  {
   "cell_type": "code",
   "execution_count": 41,
   "metadata": {},
   "outputs": [
    {
     "name": "stdout",
     "output_type": "stream",
     "text": [
      "Line 0: conforms to pattern: True\n",
      "Line 1: conforms to pattern: True\n",
      "Line 2: conforms to pattern: True\n",
      "Line 3: conforms to pattern: True\n"
     ]
    }
   ],
   "source": [
    "import re\n",
    "from pathlib import Path\n",
    "\n",
    "regex = re.compile(\n",
    "    r\"[-a-zA-Z]+,\"\n",
    "    r\" [-a-zA-Z]+\"\n",
    "    r\"( [-a-zA-Z]+)?: \"\n",
    "    r\"(\\d{3}-)?\\d{3}-\\d{4}\",\n",
    ")\n",
    "with Path.open(\"datafiles/03_textfile.txt\", \"r\") as file:\n",
    "    for i, line in enumerate(file.readlines()):\n",
    "        print(f\"Line {i}: conforms to pattern: {regex.search(line) is not None}\")\n"
   ]
  },
  {
   "cell_type": "markdown",
   "metadata": {},
   "source": [
    "Extracting the components requires modifying the regex a bit to include `()` to group each subpattern corresponding to the piece of text we want to extract, as well as using `?P<name>` to give each matched subpattern a name.\n",
    "\n",
    "Once you do so, you'll be able extract those pieces using `result.group(\"name\")` as seen below:"
   ]
  },
  {
   "cell_type": "code",
   "execution_count": 46,
   "metadata": {},
   "outputs": [
    {
     "name": "stdout",
     "output_type": "stream",
     "text": [
      "line 0: \"# This is comment line, won't be parsed\\n\" could not be interpreted\n",
      "Name='first-name' MiddleName='middle-name' Last Name='surname'Phone='555-123-4567'\n",
      "Name='Jason' MiddleName=None Last Name='Isaacs'Phone='123-4567'\n",
      "Name='Florence' MiddleName='Mary' Last Name='Pugh'Phone='123-4567'\n",
      "Name='Eugene' MiddleName=None Last Name='Krabs'Phone='800-123-4567'\n"
     ]
    }
   ],
   "source": [
    "import re\n",
    "from pathlib import Path\n",
    "\n",
    "regex = re.compile(\n",
    "    r\"(?P<lastname>[-a-zA-Z]+),\"\n",
    "    r\" (?P<firstname>[-a-zA-Z]+)\"\n",
    "    r\"( (?P<middlename>[-a-zA-Z]+))?: \"\n",
    "    r\"(?P<phonenumber>(\\d{3}-)?\\d{3}-\\d{4})\",\n",
    ")\n",
    "with Path.open(\"datafiles/03_textfile.txt\", \"r\") as file:\n",
    "    for i, line in enumerate(file.readlines()):\n",
    "        if result := regex.search(line):\n",
    "            print(\n",
    "                f\"Name={result.group(\"firstname\")!r} \"\n",
    "                f\"MiddleName={result.group(\"middlename\")!r} \"\n",
    "                f\"Last Name={result.group(\"lastname\")!r}\"\n",
    "                f\"Phone={result.group(\"phonenumber\")!r}\",\n",
    "            )\n",
    "        else:\n",
    "            print(f\"line {i}: {line!r} could not be interpreted\")\n"
   ]
  },
  {
   "cell_type": "markdown",
   "metadata": {},
   "source": [
    "### Exercise\n",
    "\n",
    "Making international calls requires a `+` and the country code. Assuming that the country code is two digits, how would you modify the previous snippet to extract the `+` and the country code as part of the number?\n",
    "Assume that the country code will be optional."
   ]
  },
  {
   "cell_type": "code",
   "execution_count": 57,
   "metadata": {},
   "outputs": [
    {
     "name": "stdout",
     "output_type": "stream",
     "text": [
      "line 0: \"# This is comment line, won't be parsed\\n\" could not be interpreted\n",
      "Name='first-name' MiddleName='middle-name' Last Name='surname' Country Code=None Phone='555-123-4567'\n",
      "Name='Jason' MiddleName=None Last Name='Isaacs' Country Code=None Phone='123-4567'\n",
      "Name='Florence' MiddleName='Mary' Last Name='Pugh' Country Code=None Phone='123-4567'\n",
      "Name='Eugene' MiddleName=None Last Name='Krabs' Country Code=None Phone='800-123-4567'\n",
      "Name='Penelope' MiddleName=None Last Name='Cruz' Country Code=34 Phone='555-321-4321'\n"
     ]
    }
   ],
   "source": [
    "import re\n",
    "from pathlib import Path\n",
    "\n",
    "regex = re.compile(\n",
    "    r\"(?P<lastname>[-a-zA-Z]+),\"\n",
    "    r\" (?P<firstname>[-a-zA-Z]+)\"\n",
    "    r\"( (?P<middlename>[-a-zA-Z]+))?: \"\n",
    "    r\"(\\(\\+(?P<countrycode>\\d{2})\\))?\"\n",
    "    r\"(?P<phonenumber>(\\d{3}-)?\\d{3}-\\d{4})\",\n",
    ")\n",
    "with Path.open(\"datafiles/04_textfile.txt\", \"r\") as file:\n",
    "    for i, line in enumerate(file.readlines()):\n",
    "        if result := regex.search(line):\n",
    "            print(\n",
    "                f\"Name={result.group(\"firstname\")!r} \"\n",
    "                f\"MiddleName={result.group(\"middlename\")!r} \"\n",
    "                f\"Last Name={result.group(\"lastname\")!r} \"\n",
    "                f\"Country Code={result.group(\"countrycode\")} \"\n",
    "                f\"Phone={result.group(\"phonenumber\")!r}\",\n",
    "            )\n",
    "        else:\n",
    "            print(f\"line {i}: {line!r} could not be interpreted\")\n"
   ]
  },
  {
   "cell_type": "markdown",
   "metadata": {},
   "source": [
    "## Substituting text with regular expressions"
   ]
  }
 ],
 "metadata": {
  "kernelspec": {
   "display_name": ".venv",
   "language": "python",
   "name": "python3"
  },
  "language_info": {
   "codemirror_mode": {
    "name": "ipython",
    "version": 3
   },
   "file_extension": ".py",
   "mimetype": "text/x-python",
   "name": "python",
   "nbconvert_exporter": "python",
   "pygments_lexer": "ipython3",
   "version": "3.12.7"
  }
 },
 "nbformat": 4,
 "nbformat_minor": 2
}
