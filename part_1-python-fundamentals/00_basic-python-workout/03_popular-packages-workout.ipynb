{
 "cells": [
  {
   "attachments": {},
   "cell_type": "markdown",
   "metadata": {},
   "source": [
    "# Popular Python packages workout\n",
    "\n",
    "This section is intended to provide a set of basic exercises on popular Python packages.\n",
    "\n",
    "Some familiarity with Python is expected.\n",
    "\n",
    "Also, you should be using an environment with the corresponding packages installed."
   ]
  },
  {
   "cell_type": "markdown",
   "metadata": {},
   "source": [
    "## Table of Contents\n",
    "\n",
    "+ [Section 1 - NumPy](#section-1--numpy)\n",
    "+ [Section 2 - Matplotlib](#section-2--matplotlib)\n",
    "+ [Section 3 - Pandas](#section-3--pandas)"
   ]
  },
  {
   "attachments": {},
   "cell_type": "markdown",
   "metadata": {},
   "source": [
    "## Section 1 &mdash; NumPy\n",
    "\n",
    "NumPy is a Python library that provides support for many Mathematical functions.\n",
    "\n",
    "It is customary to import and alias the NumPy library using:\n",
    "\n",
    "```python\n",
    "import numpy as np\n",
    "```\n",
    "\n",
    "In order to make it available in your conda environment you need to use:\n",
    "\n",
    "```bash\n",
    "conda install numpy\n",
    "```"
   ]
  },
  {
   "attachments": {},
   "cell_type": "markdown",
   "metadata": {},
   "source": [
    "### NumPy arrays vs. Python lists\n",
    "\n",
    "One of the base objects of NumPy is the array. You can convert any Python list into a NumPy array using the `np.array()` method.\n",
    "\n",
    "Convert the list of numbers: 1.7, 2.2, 3.9, 3.11, 14.7 into a NumPy array and print it."
   ]
  },
  {
   "cell_type": "code",
   "execution_count": 1,
   "metadata": {},
   "outputs": [
    {
     "name": "stdout",
     "output_type": "stream",
     "text": [
      "[1.7, 2.2, 3.9, 3.11, 14.7]\n",
      "[ 1.7   2.2   3.9   3.11 14.7 ]\n"
     ]
    }
   ],
   "source": [
    "import numpy as np\n",
    "\n",
    "nums = [1.7, 2.2, 3.9, 3.11, 14.7]\n",
    "print(nums)\n",
    "\n",
    "v = np.array(nums)\n",
    "print(v)"
   ]
  },
  {
   "cell_type": "markdown",
   "metadata": {},
   "source": [
    "### Key Attributes of NumPy Arrays\n",
    "\n",
    "The following attributes help us describe our data's organization:\n",
    "\n",
    "+ `shape` &mdash; provides a tuple representing the dimensionality of the array. For example, a NumPy array consisting of 2 rows and 3 columns will have a shape `(2, 3)`.\n",
    "\n",
    "+ `ndim` &mdash; returns an integer representing the number of dimensions of the array. For example, one dimensional array will have `ndim=1`, a 2x3 array will have `ndim=2`, and an array of 2x4x3 will have `ndim=3`.\n",
    "\n",
    "+ `size` &mdash; returns an integer representing the total number of elements in an array. For example, an array of 2x4x3 will have `ndim=24`.\n",
    "\n"
   ]
  },
  {
   "cell_type": "markdown",
   "metadata": {},
   "source": [
    "### NumPy One-Dimensional Array\n",
    "\n",
    "One-dimensional arrays in NumPy are statically created using regular Python arrays and using `np.array()`:"
   ]
  },
  {
   "cell_type": "code",
   "execution_count": 25,
   "metadata": {},
   "outputs": [
    {
     "name": "stdout",
     "output_type": "stream",
     "text": [
      "nums.shape=(5,)\n",
      "nums.ndim=1\n",
      "nums.size=5\n"
     ]
    }
   ],
   "source": [
    "nums = np.array([1.7, 2.2, 3.9, 3.11, 14.7])\n",
    "\n",
    "print(f\"nums.shape={nums.shape}\")\n",
    "print(f\"nums.ndim={nums.ndim}\")\n",
    "print(f\"nums.size={nums.size}\")"
   ]
  },
  {
   "cell_type": "markdown",
   "metadata": {},
   "source": [
    "### NumPy Two-Dimensional Array\n",
    "\n",
    "2D arrays in NumPy are statically created using regular Python arrays and using `np.array()`:"
   ]
  },
  {
   "cell_type": "code",
   "execution_count": 26,
   "metadata": {},
   "outputs": [
    {
     "name": "stdout",
     "output_type": "stream",
     "text": [
      "[[5.2 3.  4.5]\n",
      " [9.1 0.1 0.3]]\n",
      "matrix_2x3.shape=(2, 3)\n",
      "matrix_2x3.ndim=2\n",
      "matrix_2x3.size=6\n",
      "5.2, 3.0, 4.5, \n",
      "9.1, 0.1, 0.3, \n"
     ]
    }
   ],
   "source": [
    "import numpy as np\n",
    "\n",
    "matrix_2x3 = np.array([\n",
    "    [5.2, 3.0, 4.5],\n",
    "    [9.1, 0.1, 0.3],\n",
    "])\n",
    "\n",
    "print(matrix_2x3)\n",
    "print(f\"matrix_2x3.shape={matrix_2x3.shape}\")\n",
    "print(f\"matrix_2x3.ndim={matrix_2x3.ndim}\")\n",
    "print(f\"matrix_2x3.size={matrix_2x3.size}\")\n",
    "\n",
    "num_rows, num_cols = matrix_2x3.shape\n",
    "for row in range(num_rows):\n",
    "    for col in range(num_cols):\n",
    "        print(matrix_2x3[row][col], end=\", \")\n",
    "    print()\n"
   ]
  },
  {
   "cell_type": "markdown",
   "metadata": {},
   "source": [
    "### NumPy Three-Dimensional Array\n",
    "\n",
    "3D arrays in NumPy are also created statically using regular 3D Python arrays:\n"
   ]
  },
  {
   "cell_type": "code",
   "execution_count": 27,
   "metadata": {},
   "outputs": [
    {
     "name": "stdout",
     "output_type": "stream",
     "text": [
      "[[[9 6 9]\n",
      "  [1 3 0]\n",
      "  [2 9 7]\n",
      "  [1 4 7]]\n",
      "\n",
      " [[9 6 8]\n",
      "  [1 3 2]\n",
      "  [2 9 5]\n",
      "  [2 3 4]]]\n",
      "\n",
      "matrix_2x4x3.shape=(2, 4, 3)\n",
      "matrix_2x4x3.shape=3\n",
      "matrix_2x4x3.size=24\n",
      "i=0\n",
      "9, 6, 9, \n",
      "1, 3, 0, \n",
      "2, 9, 7, \n",
      "1, 4, 7, \n",
      "\n",
      "i=1\n",
      "9, 6, 8, \n",
      "1, 3, 2, \n",
      "2, 9, 5, \n",
      "2, 3, 4, \n",
      "\n"
     ]
    }
   ],
   "source": [
    "import numpy as np\n",
    "\n",
    "matrix_2x4x3 = np.array([\n",
    "    [[9, 6, 9], [1, 3, 0], [2, 9, 7], [1, 4, 7]],\n",
    "    [[9, 6, 8], [1, 3, 2], [2, 9, 5], [2, 3, 4]]\n",
    "])\n",
    "\n",
    "print(matrix_2x4x3)\n",
    "print()\n",
    "\n",
    "print(f\"matrix_2x4x3.shape={matrix_2x4x3.shape}\")\n",
    "print(f\"matrix_2x4x3.shape={matrix_2x4x3.ndim}\")\n",
    "print(f\"matrix_2x4x3.size={matrix_2x4x3.size}\")\n",
    "\n",
    "num_i, num_j, num_k = matrix_2x4x3.shape\n",
    "for i in range(num_i):\n",
    "    print(f\"i={i}\")\n",
    "    for j in range(num_j):\n",
    "        for k in range(num_k):\n",
    "            print(matrix_2x4x3[i][j][k], end=\", \")\n",
    "        print()\n",
    "    print()\n"
   ]
  },
  {
   "cell_type": "markdown",
   "metadata": {},
   "source": [
    "\n",
    "### NumPy Higher-Dimensional Arrays\n",
    "\n",
    "You can use NumPy to create higher-dimensional arrays, as the following:"
   ]
  },
  {
   "cell_type": "code",
   "execution_count": 28,
   "metadata": {},
   "outputs": [
    {
     "name": "stdout",
     "output_type": "stream",
     "text": [
      "[[[[ 1  2]\n",
      "   [ 3  4]]\n",
      "\n",
      "  [[ 5  6]\n",
      "   [ 7  8]]]\n",
      "\n",
      "\n",
      " [[[ 9 10]\n",
      "   [11 12]]\n",
      "\n",
      "  [[13 14]\n",
      "   [15 16]]]]\n",
      "\n",
      "matrix_higher_dim.shape=(2, 2, 2, 2)\n",
      "matrix_higher_dim.ndim=4\n",
      "matrix_higher_dim.size=16\n",
      "i=0\n",
      "1, 2, \n",
      "3, 4, \n",
      "\n",
      "5, 6, \n",
      "7, 8, \n",
      "\n",
      "\n",
      "i=1\n",
      "9, 10, \n",
      "11, 12, \n",
      "\n",
      "13, 14, \n",
      "15, 16, \n",
      "\n",
      "\n"
     ]
    }
   ],
   "source": [
    "import numpy as np\n",
    "\n",
    "matrix_higher_dim = np.array([\n",
    "    [\n",
    "        [[1, 2], [3, 4]],\n",
    "        [[5, 6], [7, 8]],\n",
    "    ],\n",
    "    [\n",
    "        [[9, 10], [11, 12]],\n",
    "        [[13, 14], [15, 16]],\n",
    "    ]\n",
    "])\n",
    "\n",
    "print(matrix_higher_dim)\n",
    "print()\n",
    "\n",
    "print(f\"matrix_higher_dim.shape={matrix_higher_dim.shape}\")\n",
    "print(f\"matrix_higher_dim.ndim={matrix_higher_dim.ndim}\")\n",
    "print(f\"matrix_higher_dim.size={matrix_higher_dim.size}\")\n",
    "\n",
    "\n",
    "num_i, num_j, num_k, num_l = matrix_higher_dim.shape\n",
    "for i in range(num_i):\n",
    "    print(f\"i={i}\")\n",
    "    for j in range(num_j):\n",
    "        for k in range(num_k):\n",
    "            for l in range(num_l):\n",
    "                print(matrix_higher_dim[i][j][k][l], end=\", \")\n",
    "            print()\n",
    "        print()\n",
    "    print()"
   ]
  },
  {
   "attachments": {},
   "cell_type": "markdown",
   "metadata": {},
   "source": [
    "### Hello, `np.arange()`\n",
    "\n",
    "The function `np.arange(start, stop)` returns an evenly distributed vector of values in the interval $ [start, stop) $.\n",
    "\n",
    "Use this function to create:\n",
    "1. A vector of integer values in the interval $ [0, 10) $\n",
    "2. A vector of floating-point values in the interval $ [0, 0.5) $, using a step of 0.1"
   ]
  },
  {
   "cell_type": "code",
   "execution_count": 3,
   "metadata": {},
   "outputs": [
    {
     "name": "stdout",
     "output_type": "stream",
     "text": [
      "[0 1 2 3 4 5 6 7 8 9]\n",
      "[0.  0.1 0.2 0.3 0.4]\n"
     ]
    }
   ],
   "source": [
    "import numpy as np\n",
    "\n",
    "v_int = np.arange(0, 10)\n",
    "print(v_int)\n",
    "\n",
    "v_fp = np.arange(0, 0.5, 0.1)\n",
    "print(v_fp)"
   ]
  },
  {
   "attachments": {},
   "cell_type": "markdown",
   "metadata": {},
   "source": [
    "### Applying functions to NumPy arrays\n",
    "\n",
    "NumPy arrays are special objects that are not defined in Python's core language. As a result, when applying functions to NumPy arrays you will have to:\n",
    "+ search in NumPy documentation to see whether there is already a function with that capability.\n",
    "+ use `np.vectorize()` to wrap a custom function that can be applied to arrays.\n",
    "\n",
    "Explore these two options to create:\n",
    "1. A NumPy array (vector) with the square roots of 0 to 9.\n",
    "2. A NumPy array (vector) resulting from applying the numbers from 0 to 9 the following logic:\n",
    "  + divide by half if even\n",
    "  + zeroing the number if odd"
   ]
  },
  {
   "cell_type": "code",
   "execution_count": 6,
   "metadata": {},
   "outputs": [
    {
     "name": "stdout",
     "output_type": "stream",
     "text": [
      "[0.         1.         1.41421356 1.73205081 2.         2.23606798\n",
      " 2.44948974 2.64575131 2.82842712 3.        ]\n",
      "2\n",
      "0\n",
      "[0 0 1 0 2 0 3 0 4 0]\n"
     ]
    }
   ],
   "source": [
    "import numpy as np\n",
    "\n",
    "# It seems there's a function in NumPy that computes the sqrt, so let's use it\n",
    "v = np.arange(0, 10)\n",
    "print(np.sqrt(v))\n",
    "\n",
    "# I'm pretty sure there won't be such function in numpy, so let's use vectorize\n",
    "\n",
    "def my_fn(n):\n",
    "    if n % 2 == 0:\n",
    "        return n // 2\n",
    "    else:\n",
    "        return 0\n",
    "\n",
    "\n",
    "print(my_fn(4))\n",
    "print(my_fn(5))\n",
    "\n",
    "np_custom_transformer = np.vectorize(my_fn)\n",
    "\n",
    "print(np_custom_transformer(v))\n"
   ]
  },
  {
   "attachments": {},
   "cell_type": "markdown",
   "metadata": {},
   "source": [
    "### Hello, `np.linspace()`\n",
    "\n",
    "The function `np.linspace()` is used to return evenly spaced floating-point numbers on a given interval. It is typically used for sampling and providing points for functions and charts.\n",
    "\n",
    "Use `linspace()` to obtain a vector of 100 elements in the interval $ [0, 10) $."
   ]
  },
  {
   "cell_type": "code",
   "execution_count": 9,
   "metadata": {},
   "outputs": [
    {
     "name": "stdout",
     "output_type": "stream",
     "text": [
      "[ 0.          0.1010101   0.2020202   0.3030303   0.4040404   0.50505051\n",
      "  0.60606061  0.70707071  0.80808081  0.90909091  1.01010101  1.11111111\n",
      "  1.21212121  1.31313131  1.41414141  1.51515152  1.61616162  1.71717172\n",
      "  1.81818182  1.91919192  2.02020202  2.12121212  2.22222222  2.32323232\n",
      "  2.42424242  2.52525253  2.62626263  2.72727273  2.82828283  2.92929293\n",
      "  3.03030303  3.13131313  3.23232323  3.33333333  3.43434343  3.53535354\n",
      "  3.63636364  3.73737374  3.83838384  3.93939394  4.04040404  4.14141414\n",
      "  4.24242424  4.34343434  4.44444444  4.54545455  4.64646465  4.74747475\n",
      "  4.84848485  4.94949495  5.05050505  5.15151515  5.25252525  5.35353535\n",
      "  5.45454545  5.55555556  5.65656566  5.75757576  5.85858586  5.95959596\n",
      "  6.06060606  6.16161616  6.26262626  6.36363636  6.46464646  6.56565657\n",
      "  6.66666667  6.76767677  6.86868687  6.96969697  7.07070707  7.17171717\n",
      "  7.27272727  7.37373737  7.47474747  7.57575758  7.67676768  7.77777778\n",
      "  7.87878788  7.97979798  8.08080808  8.18181818  8.28282828  8.38383838\n",
      "  8.48484848  8.58585859  8.68686869  8.78787879  8.88888889  8.98989899\n",
      "  9.09090909  9.19191919  9.29292929  9.39393939  9.49494949  9.5959596\n",
      "  9.6969697   9.7979798   9.8989899  10.        ]\n"
     ]
    }
   ],
   "source": [
    "import numpy as np\n",
    "\n",
    "samples = np.linspace(0, 10, 100)\n",
    "print(samples)"
   ]
  },
  {
   "attachments": {},
   "cell_type": "markdown",
   "metadata": {},
   "source": [
    "#"
   ]
  },
  {
   "attachments": {},
   "cell_type": "markdown",
   "metadata": {},
   "source": [
    "Note that `np.linspace` and `np.arange` are very similar. \n",
    "\n",
    "The first one gives total control over the end value and number of samples, that is why it is intended for sampling.\n",
    "\n",
    "Conversely, `np.arange` gives you fine-grained control over the increments between each vector value."
   ]
  },
  {
   "cell_type": "markdown",
   "metadata": {},
   "source": [
    "### Reshaping NumPy Arrays using `reshape`\n",
    "\n",
    "The `reshape` method on NumPy arrays let us change the structure of the array without changing the data itself:"
   ]
  },
  {
   "cell_type": "code",
   "execution_count": 1,
   "metadata": {},
   "outputs": [
    {
     "data": {
      "text/plain": [
       "array([[1, 2],\n",
       "       [3, 4],\n",
       "       [5, 6]])"
      ]
     },
     "execution_count": 1,
     "metadata": {},
     "output_type": "execute_result"
    }
   ],
   "source": [
    "import numpy as np\n",
    "\n",
    "matrix_2x3 = np.array([\n",
    "    [1, 2, 3],\n",
    "    [4, 5, 6],\n",
    "])\n",
    "\n",
    "# reshape to 3 rows x 2 columns\n",
    "matrix_3x2 = matrix_2x3.reshape(3, 2)\n",
    "\n",
    "matrix_3x2"
   ]
  },
  {
   "cell_type": "markdown",
   "metadata": {},
   "source": [
    "### Flattening NumPy arrays\n",
    "\n",
    "Flattening is the process of converting a multidimensional array into a one-dimensional array.\n",
    "\n",
    "In NumPy we have two different methods at our disposal: `ravel` and `flatten`."
   ]
  },
  {
   "cell_type": "code",
   "execution_count": 3,
   "metadata": {},
   "outputs": [
    {
     "name": "stdout",
     "output_type": "stream",
     "text": [
      "flattened=[1 2 3 4 5 6], shape=(6,)\n",
      "original=[[1 2 3]\n",
      " [4 5 6]], shape=(2, 3)\n"
     ]
    }
   ],
   "source": [
    "import numpy as np\n",
    "\n",
    "matrix_2x3 = np.array([\n",
    "    [1, 2, 3],\n",
    "    [4, 5, 6],\n",
    "])\n",
    "\n",
    "flattened = matrix_2x3.ravel()\n",
    "\n",
    "print(f\"flattened={flattened}, shape={flattened.shape}\")\n",
    "print(f\"original={matrix_2x3}, shape={matrix_2x3.shape}\")"
   ]
  },
  {
   "cell_type": "markdown",
   "metadata": {},
   "source": [
    "Let's now modify both the *raveled* and original array:"
   ]
  },
  {
   "cell_type": "code",
   "execution_count": 6,
   "metadata": {},
   "outputs": [
    {
     "name": "stdout",
     "output_type": "stream",
     "text": [
      "flattened=[100   2   3   4   5   6], shape=(6,)\n",
      "original=[[100   2   3]\n",
      " [  4   5   6]], shape=(2, 3)\n",
      "flattened=[123   2   3   4   5   6], shape=(6,)\n",
      "original=[[123   2   3]\n",
      " [  4   5   6]], shape=(2, 3)\n"
     ]
    }
   ],
   "source": [
    "import numpy as np\n",
    "\n",
    "matrix_2x3 = np.array([\n",
    "    [1, 2, 3],\n",
    "    [4, 5, 6],\n",
    "])\n",
    "\n",
    "flattened = matrix_2x3.ravel()\n",
    "\n",
    "# Modify the raveled array and see how it impacts the original\n",
    "flattened[0] = 100\n",
    "print(f\"flattened={flattened}, shape={flattened.shape}\")\n",
    "print(f\"original={matrix_2x3}, shape={matrix_2x3.shape}\")\n",
    "\n",
    "# Modify the original array and see how it impacts the flattened one\n",
    "matrix_2x3[0][0] = 123\n",
    "print(f\"flattened={flattened}, shape={flattened.shape}\")\n",
    "print(f\"original={matrix_2x3}, shape={matrix_2x3.shape}\")"
   ]
  },
  {
   "cell_type": "markdown",
   "metadata": {},
   "source": [
    "As you see, there's a link between the original and the *raveled* array."
   ]
  },
  {
   "cell_type": "markdown",
   "metadata": {},
   "source": [
    "Let's repeat the same exercise with the `flatten` method:"
   ]
  },
  {
   "cell_type": "code",
   "execution_count": 7,
   "metadata": {},
   "outputs": [
    {
     "name": "stdout",
     "output_type": "stream",
     "text": [
      "flattened=[1 2 3 4 5 6], shape=(6,)\n",
      "original=[[1 2 3]\n",
      " [4 5 6]], shape=(2, 3)\n"
     ]
    }
   ],
   "source": [
    "import numpy as np\n",
    "\n",
    "matrix_2x3 = np.array([\n",
    "    [1, 2, 3],\n",
    "    [4, 5, 6],\n",
    "])\n",
    "\n",
    "flattened = matrix_2x3.flatten()\n",
    "\n",
    "print(f\"flattened={flattened}, shape={flattened.shape}\")\n",
    "print(f\"original={matrix_2x3}, shape={matrix_2x3.shape}\")"
   ]
  },
  {
   "cell_type": "code",
   "execution_count": 8,
   "metadata": {},
   "outputs": [
    {
     "name": "stdout",
     "output_type": "stream",
     "text": [
      "flattened=[100   2   3   4   5   6], shape=(6,)\n",
      "original=[[1 2 3]\n",
      " [4 5 6]], shape=(2, 3)\n",
      "flattened=[100   2   3   4   5   6], shape=(6,)\n",
      "original=[[123   2   3]\n",
      " [  4   5   6]], shape=(2, 3)\n"
     ]
    }
   ],
   "source": [
    "import numpy as np\n",
    "\n",
    "matrix_2x3 = np.array([\n",
    "    [1, 2, 3],\n",
    "    [4, 5, 6],\n",
    "])\n",
    "\n",
    "flattened = matrix_2x3.flatten()\n",
    "\n",
    "# Modify the raveled array and see how it impacts the original\n",
    "flattened[0] = 100\n",
    "print(f\"flattened={flattened}, shape={flattened.shape}\")\n",
    "print(f\"original={matrix_2x3}, shape={matrix_2x3.shape}\")\n",
    "\n",
    "# Modify the original array and see how it impacts the flattened one\n",
    "matrix_2x3[0][0] = 123\n",
    "print(f\"flattened={flattened}, shape={flattened.shape}\")\n",
    "print(f\"original={matrix_2x3}, shape={matrix_2x3.shape}\")"
   ]
  },
  {
   "cell_type": "markdown",
   "metadata": {},
   "source": [
    "By contrast, when using `flatten` there is no link between the original and the flattened array."
   ]
  },
  {
   "cell_type": "markdown",
   "metadata": {},
   "source": [
    "### Transposing a NumPy array with `np.transpose`\n",
    "\n",
    "You can perform the mathematical transformation known as transposition that changes the shape of a 2D matrix by converting rows into columns using:"
   ]
  },
  {
   "cell_type": "code",
   "execution_count": 11,
   "metadata": {},
   "outputs": [
    {
     "name": "stdout",
     "output_type": "stream",
     "text": [
      "original=[[1 2 3]\n",
      " [4 5 6]], shape=(2, 3)\n",
      "flattened=[[1 4]\n",
      " [2 5]\n",
      " [3 6]], shape=(3, 2)\n"
     ]
    }
   ],
   "source": [
    "import numpy as np\n",
    "\n",
    "matrix_2d = np.array([\n",
    "    [1, 2, 3],\n",
    "    [4, 5, 6],\n",
    "])\n",
    "\n",
    "transposed_matrix_2d = matrix_2d.transpose()\n",
    "print(f\"original={matrix_2d}, shape={matrix_2d.shape}\")\n",
    "print(f\"flattened={transposed_matrix_2d}, shape={transposed_matrix_2d.shape}\")\n"
   ]
  },
  {
   "cell_type": "markdown",
   "metadata": {},
   "source": [
    "You can also do that with the `T` attribute:"
   ]
  },
  {
   "cell_type": "code",
   "execution_count": 12,
   "metadata": {},
   "outputs": [
    {
     "name": "stdout",
     "output_type": "stream",
     "text": [
      "original=[[1 2 3]\n",
      " [4 5 6]], shape=(2, 3)\n",
      "flattened=[[1 4]\n",
      " [2 5]\n",
      " [3 6]], shape=(3, 2)\n"
     ]
    }
   ],
   "source": [
    "import numpy as np\n",
    "\n",
    "matrix_2d = np.array([\n",
    "    [1, 2, 3],\n",
    "    [4, 5, 6],\n",
    "])\n",
    "\n",
    "transposed_matrix_2d = matrix_2d.T\n",
    "print(f\"original={matrix_2d}, shape={matrix_2d.shape}\")\n",
    "print(f\"flattened={transposed_matrix_2d}, shape={transposed_matrix_2d.shape}\")\n"
   ]
  },
  {
   "cell_type": "markdown",
   "metadata": {},
   "source": [
    "### Data Filtering\n",
    "\n",
    "NumPy lets you interrogate an array to obtain the elements that satisfy a given condition:"
   ]
  },
  {
   "cell_type": "code",
   "execution_count": 13,
   "metadata": {},
   "outputs": [
    {
     "data": {
      "text/plain": [
       "array([ 6,  7,  8,  9, 10])"
      ]
     },
     "execution_count": 13,
     "metadata": {},
     "output_type": "execute_result"
    }
   ],
   "source": [
    "import numpy as np\n",
    "\n",
    "nums = np.array([1, 2, 3, 4, 5, 6, 7, 8, 9, 10])\n",
    "nums_gt_5 = nums[nums > 5]\n",
    "\n",
    "nums_gt_5"
   ]
  },
  {
   "cell_type": "markdown",
   "metadata": {},
   "source": [
    "### Sorting NumPy Arrays\n",
    "You can sort an array using the natural order of the elements using `np.sort`"
   ]
  },
  {
   "cell_type": "code",
   "execution_count": 15,
   "metadata": {},
   "outputs": [
    {
     "name": "stdout",
     "output_type": "stream",
     "text": [
      "nums=[ 6  2  4 10 10  7  6  8  8  8]\n",
      "nums_sorted=[ 2  4  6  6  7  8  8  8 10 10]\n"
     ]
    }
   ],
   "source": [
    "import numpy as np\n",
    "from random import randint\n",
    "\n",
    "\n",
    "nums = np.array([randint(1, 10) for _ in range(10)])\n",
    "nums_sorted = np.sort(nums)\n",
    "print(f\"nums={nums}\")\n",
    "print(f\"nums_sorted={nums_sorted}\")"
   ]
  },
  {
   "cell_type": "markdown",
   "metadata": {},
   "source": [
    "The two arrays are disconnected:"
   ]
  },
  {
   "cell_type": "code",
   "execution_count": 17,
   "metadata": {},
   "outputs": [
    {
     "name": "stdout",
     "output_type": "stream",
     "text": [
      "nums=[10  2  7  4  3  8  6  5  2  4]\n",
      "nums_sorted=[ 2  2  3  4  4  5  6  7  8 10]\n",
      "\n",
      "nums=[-1  2  7  4  3  8  6  5  2  4]\n",
      "nums_sorted=[ 2  2  3  4  4  5  6  7  8 10]\n",
      "\n",
      "nums=[-1  2  7  4  3  8  6  5  2  4]\n",
      "nums_sorted=[-55   2   3   4   4   5   6   7   8  10]\n"
     ]
    }
   ],
   "source": [
    "import numpy as np\n",
    "from random import randint\n",
    "\n",
    "\n",
    "nums = np.array([randint(1, 10) for _ in range(10)])\n",
    "nums_sorted = np.sort(nums)\n",
    "print(f\"nums={nums}\")\n",
    "print(f\"nums_sorted={nums_sorted}\")\n",
    "print()\n",
    "\n",
    "nums[0] = -1\n",
    "print(f\"nums={nums}\")\n",
    "print(f\"nums_sorted={nums_sorted}\")\n",
    "print()\n",
    "\n",
    "nums_sorted[0] = -55\n",
    "print(f\"nums={nums}\")\n",
    "print(f\"nums_sorted={nums_sorted}\")\n"
   ]
  },
  {
   "cell_type": "markdown",
   "metadata": {},
   "source": [
    "You can also use the `sort` method in the array for in-place sorting"
   ]
  },
  {
   "cell_type": "code",
   "execution_count": 20,
   "metadata": {},
   "outputs": [
    {
     "name": "stdout",
     "output_type": "stream",
     "text": [
      "nums (before)=[ 4 10  8  4  1  9 10  5  1  2]\n",
      "nums (after)=[ 1  1  2  4  4  5  8  9 10 10]\n"
     ]
    }
   ],
   "source": [
    "import numpy as np\n",
    "from random import randint\n",
    "\n",
    "\n",
    "nums = np.array([randint(1, 10) for _ in range(10)])\n",
    "print(f\"nums (before)={nums}\")\n",
    "nums.sort()\n",
    "print(f\"nums (after)={nums}\")\n"
   ]
  },
  {
   "cell_type": "markdown",
   "metadata": {},
   "source": [
    "### Concatenating NumPy Arrays\n",
    "\n",
    "You can concatenate NumPy arrays with `np.concatenate`. The arrays to be concatenated has to be passed as a tuple, in the first argument to the function."
   ]
  },
  {
   "cell_type": "code",
   "execution_count": 2,
   "metadata": {},
   "outputs": [
    {
     "name": "stdout",
     "output_type": "stream",
     "text": [
      "[1 2 3 4 5]\n"
     ]
    }
   ],
   "source": [
    "import numpy as np\n",
    "\n",
    "arr1 = np.array([1, 2, 3])\n",
    "arr2 = np.array([4, 5])\n",
    "\n",
    "nums = np.concatenate((arr1, arr2))\n",
    "\n",
    "print(nums)"
   ]
  },
  {
   "attachments": {},
   "cell_type": "markdown",
   "metadata": {},
   "source": [
    "## Section 2 &mdash; Matplotlib\n",
    "\n",
    "Matplotlit is library for simple 2D and 3D charts in Python.\n",
    "\n",
    "In order to make it available in your conda environment you need to use:\n",
    "\n",
    "```bash\n",
    "conda install matplotlib\n",
    "```"
   ]
  },
  {
   "attachments": {},
   "cell_type": "markdown",
   "metadata": {},
   "source": [
    "### Hello, Matplotlib\n",
    "\n",
    "The simplest approach to create a plot is:\n",
    "1. Import Matplotlib using the customary `import matplotlib.pyplot as plt`\n",
    "2. Create a list of evenly spaced samples in the interval to plot (typically using `np.linspace(start, end, [num_samples])`)\n",
    "3. Invoke `plt.plot(X, Y)`, where Y is the resulting vector of applying a certain function to X.\n",
    "4. Invoke `plt.show()` to display the resulting plot.\n",
    "\n",
    "Use this approach to print the function `sqrt(x)` in the interval (0, 10)."
   ]
  },
  {
   "cell_type": "code",
   "execution_count": 2,
   "metadata": {},
   "outputs": [
    {
     "data": {
      "image/png": "[encoded data removed]",
      "text/plain": [
       "<Figure size 640x480 with 1 Axes>"
      ]
     },
     "metadata": {},
     "output_type": "display_data"
    }
   ],
   "source": [
    "import matplotlib.pyplot as plt\n",
    "import numpy as np\n",
    "\n",
    "x = np.linspace(0, 10)\n",
    "y = np.sqrt(x)\n",
    "plt.plot(x, y)\n",
    "plt.show()"
   ]
  },
  {
   "attachments": {},
   "cell_type": "markdown",
   "metadata": {},
   "source": [
    "### Scatter plots\n",
    "\n",
    "Scatter plots are useful for visualizing ordered pairs in the form $ (x, y) $. A scatter plot can be easily created in Matplotlib using `plt.scatter` instead of `plt.plot`.\n",
    "\n",
    "Create a scatter plot to visualize the values:\n",
    "\n",
    "$$\n",
    "{(1,1), (2,4), (3,9), (4, 16), (5, 25)}\n",
    "$$"
   ]
  },
  {
   "cell_type": "code",
   "execution_count": 3,
   "metadata": {},
   "outputs": [
    {
     "data": {
      "image/png": "[encoded data removed]",
      "text/plain": [
       "<Figure size 640x480 with 1 Axes>"
      ]
     },
     "metadata": {},
     "output_type": "display_data"
    }
   ],
   "source": [
    "import matplotlib.pyplot as plt\n",
    "\n",
    "dots = [(1, 1), (2, 4), (3, 9), (4, 16), (5, 25)]\n",
    "\n",
    "\n",
    "x = [x for x, _ in dots]\n",
    "y = [y for _, y in dots]\n",
    "\n",
    "plt.scatter(x, y)\n",
    "plt.show()"
   ]
  },
  {
   "attachments": {},
   "cell_type": "markdown",
   "metadata": {},
   "source": [
    "### Customizing your scatter plots with marker and c\n",
    "\n",
    "You can use the `marker` and `c` arguments to `plt.scatter()` to set the shape and color of the dots of your scatter plots.\n",
    "\n",
    "Repeat the previous exercise making the shape of the dots like red color x's."
   ]
  },
  {
   "cell_type": "code",
   "execution_count": 4,
   "metadata": {},
   "outputs": [
    {
     "data": {
      "image/png": "[encoded data removed]",
      "text/plain": [
       "<Figure size 640x480 with 1 Axes>"
      ]
     },
     "metadata": {},
     "output_type": "display_data"
    }
   ],
   "source": [
    "import matplotlib.pyplot as plt\n",
    "\n",
    "dots = [(1, 1), (2, 4), (3, 9), (4, 16), (5, 25)]\n",
    "\n",
    "\n",
    "x = [x for x, _ in dots]\n",
    "y = [y for _, y in dots]\n",
    "\n",
    "plt.scatter(x, y, marker='x', c=\"red\")\n",
    "plt.show()"
   ]
  },
  {
   "attachments": {},
   "cell_type": "markdown",
   "metadata": {},
   "source": [
    "### Line charts\n",
    "\n",
    "In a line chart, dots are connected with lines. You can use `plt.plot` to create a line chart.\n",
    "\n",
    "Create a line chart for the values:\n",
    "\n",
    "$$\n",
    "{(1,1), (2,4), (3,9), (4, 16), (5, 25)}\n",
    "$$"
   ]
  },
  {
   "cell_type": "code",
   "execution_count": 5,
   "metadata": {},
   "outputs": [
    {
     "data": {
      "image/png": "[encoded data removed]",
      "text/plain": [
       "<Figure size 640x480 with 1 Axes>"
      ]
     },
     "metadata": {},
     "output_type": "display_data"
    }
   ],
   "source": [
    "import matplotlib.pyplot as plt\n",
    "\n",
    "dots = [(1, 1), (2, 4), (3, 9), (4, 16), (5, 25)]\n",
    "\n",
    "\n",
    "x = [x for x, _ in dots]\n",
    "y = [y for _, y in dots]\n",
    "\n",
    "plt.plot(x, y)\n",
    "plt.show()"
   ]
  },
  {
   "attachments": {},
   "cell_type": "markdown",
   "metadata": {},
   "source": [
    "### Drawing segments\n",
    "\n",
    "You can use line charts to draw segements in the 2D plane.\n",
    "\n",
    "Create a function `draw_segment(p1, p2)` that draws the segment defined by the points $p1=(x_1, y_1)$ and $p2=(x_2,y_2)$. Use the `o` marker to delimit the boundaries of the segment.\n",
    "\n",
    "Confirm that the function works as expected by drawing the segment between $ (0, 3) $ and $(2, 1)$."
   ]
  },
  {
   "cell_type": "code",
   "execution_count": 6,
   "metadata": {},
   "outputs": [
    {
     "data": {
      "image/png": "[encoded data removed]",
      "text/plain": [
       "<Figure size 640x480 with 1 Axes>"
      ]
     },
     "metadata": {},
     "output_type": "display_data"
    }
   ],
   "source": [
    "import matplotlib.pyplot as plt\n",
    "\n",
    "p1 = (0, 3)\n",
    "p2 = (2, 1)\n",
    "\n",
    "def draw_segment(p1, p2):\n",
    "    x = [p1[0], p2[0]]\n",
    "    y = [p1[1], p2[1]]\n",
    "\n",
    "    plt.plot(x, y, marker=\"o\")\n",
    "\n",
    "draw_segment(p1, p2)\n",
    "plt.show()\n",
    "\n",
    "\n",
    "\n",
    "\n"
   ]
  },
  {
   "attachments": {},
   "cell_type": "markdown",
   "metadata": {},
   "source": [
    "### Plotting several charts in the same canvas\n",
    "\n",
    "It is possible to plot several charts in the same canvas by repeatedly invoking `plt.plot()`.\n",
    "\n",
    "Use this technique to plot both the *sine* and *cosine* functions in the interval $ (0, 2 \\pi) $."
   ]
  },
  {
   "cell_type": "code",
   "execution_count": 8,
   "metadata": {},
   "outputs": [
    {
     "data": {
      "image/png": "[encoded data removed]",
      "text/plain": [
       "<Figure size 640x480 with 1 Axes>"
      ]
     },
     "metadata": {},
     "output_type": "display_data"
    }
   ],
   "source": [
    "import numpy as np\n",
    "import matplotlib.pyplot as plt\n",
    "from math import pi\n",
    "\n",
    "x = np.linspace(0, 2 * pi)\n",
    "y1 = np.sin(x)\n",
    "y2 = np.cos(x)\n",
    "\n",
    "plt.plot(x, y1)\n",
    "plt.plot(x, y2)\n",
    "\n",
    "plt.show()"
   ]
  },
  {
   "cell_type": "markdown",
   "metadata": {},
   "source": [
    "Alternatively, you can use subplots to obtain the same result:"
   ]
  },
  {
   "cell_type": "code",
   "execution_count": 1,
   "metadata": {},
   "outputs": [
    {
     "data": {
      "text/plain": [
       "[<matplotlib.lines.Line2D at 0x7fb60d62b0a0>]"
      ]
     },
     "execution_count": 1,
     "metadata": {},
     "output_type": "execute_result"
    },
    {
     "data": {
      "image/png": "[encoded data removed]",
      "text/plain": [
       "<Figure size 640x480 with 1 Axes>"
      ]
     },
     "metadata": {},
     "output_type": "display_data"
    }
   ],
   "source": [
    "from math import sin\n",
    "import numpy as np\n",
    "import matplotlib.pyplot as plt\n",
    "\n",
    "def f(x):\n",
    "    return 0.5 * x + 3\n",
    "\n",
    "def g(x):\n",
    "    return sin(x)\n",
    "\n",
    "xs = np.linspace(-10, 10, 100)\n",
    "fig, ax = plt.subplots()\n",
    "ax.axhline(y=0, color=\"k\")\n",
    "ax.axvline(x=0, color=\"k\")\n",
    "ys = [f(x) for x in xs]\n",
    "plt.plot(xs, ys)\n",
    "ys = [g(x) for x in xs]\n",
    "plt.plot(xs, ys)"
   ]
  },
  {
   "attachments": {},
   "cell_type": "markdown",
   "metadata": {},
   "source": [
    "### Setting the scale of a chart\n",
    "\n",
    "By default, Matplotlib automatically scales the x and y axis of your charts.\n",
    "\n",
    "If you need to explicitly scale the axes, you can use `plt.xlim(start, end)` and `plt.ylim(start, end)`.\n",
    "\n",
    "Use the previously defined function `draw_segment()` to draw the segment defined by the points $ (0, 3) $ and $ (2, 1) $ while setting the X axis in the range $ (-5, 5) $, and Y axis in the range $ (0, 5) $."
   ]
  },
  {
   "cell_type": "code",
   "execution_count": 9,
   "metadata": {},
   "outputs": [
    {
     "data": {
      "image/png": "[encoded data removed]",
      "text/plain": [
       "<Figure size 640x480 with 1 Axes>"
      ]
     },
     "metadata": {},
     "output_type": "display_data"
    }
   ],
   "source": [
    "import matplotlib.pyplot as plt\n",
    "\n",
    "p1 = (0, 3)\n",
    "p2 = (2, 1)\n",
    "\n",
    "def draw_segment(p1, p2):\n",
    "    x = [p1[0], p2[0]]\n",
    "    y = [p1[1], p2[1]]\n",
    "\n",
    "    plt.plot(x, y, marker=\"o\")\n",
    "\n",
    "draw_segment(p1, p2)\n",
    "plt.xlim(-5, 5)\n",
    "plt.ylim(0, 5)\n",
    "plt.show()"
   ]
  },
  {
   "attachments": {},
   "cell_type": "markdown",
   "metadata": {},
   "source": [
    "### Setting the aspect ratio of your charts\n",
    "\n",
    "Matplotlib automatically adjusts the aspect ratio of your charts, but you can take control of it using `plt.gcf().set_size_inches(x, y)` to make the x and y units exactly how you need.\n",
    "\n",
    "Repeat the previous exercise but making the x and y unit equal, so that the graph is square."
   ]
  },
  {
   "cell_type": "code",
   "execution_count": 12,
   "metadata": {},
   "outputs": [
    {
     "data": {
      "image/png": "[encoded data removed]",
      "text/plain": [
       "<Figure size 500x500 with 1 Axes>"
      ]
     },
     "metadata": {},
     "output_type": "display_data"
    }
   ],
   "source": [
    "import matplotlib.pyplot as plt\n",
    "\n",
    "p1 = (0, 3)\n",
    "p2 = (2, 1)\n",
    "\n",
    "def draw_segment(p1, p2):\n",
    "    x = [p1[0], p2[0]]\n",
    "    y = [p1[1], p2[1]]\n",
    "\n",
    "    plt.plot(x, y, marker=\"o\")\n",
    "\n",
    "draw_segment(p1, p2)\n",
    "plt.xlim(-5, 5)\n",
    "plt.ylim(0, 5)\n",
    "plt.gcf().set_size_inches(5, 5) # gcf stands for get current figure\n",
    "plt.show()"
   ]
  },
  {
   "attachments": {},
   "cell_type": "markdown",
   "metadata": {},
   "source": [
    "### Labelling your charts\n",
    "\n",
    "You can use the following Matplotlib functions to label and document your charts:\n",
    "\n",
    "+ `plt.title` &mdash; sets the title of your chart\n",
    "+ `plt.xlabel` &mdash; sets the label for the x-axis\n",
    "+ `plt.ylabel` &mdash; sets the label for the y-axis\n",
    "\n",
    "Plot the $ \\sqrt{x} $ in the interval $ 0, 10 $ using the functions above to document the chart."
   ]
  },
  {
   "cell_type": "code",
   "execution_count": 17,
   "metadata": {},
   "outputs": [
    {
     "data": {
      "image/png": "[encoded data removed]",
      "text/plain": [
       "<Figure size 640x480 with 1 Axes>"
      ]
     },
     "metadata": {},
     "output_type": "display_data"
    }
   ],
   "source": [
    "import numpy as np\n",
    "import matplotlib.pyplot as plt\n",
    "\n",
    "x = np.linspace(0, 10)\n",
    "y = np.sqrt(x)\n",
    "\n",
    "plt.plot(x, y)\n",
    "plt.title(\"Graph of sqrt(x)  vs. x\")\n",
    "plt.xlabel(\"x-axis\")\n",
    "plt.ylabel(\"y-axis\", fontsize=16)\n",
    "\n",
    "plt.show()"
   ]
  },
  {
   "attachments": {},
   "cell_type": "markdown",
   "metadata": {},
   "source": [
    "### Dot Plot charts\n",
    "\n",
    "Dot Plot charts are useful in comparative studies. While there is no direct support in Matplotlib for these type of charts, it is quite easy to create them.\n",
    "\n",
    "Consider the following data sets corresponding to the weight in grams recorded for some particulart tree stems treated with and without nitrogen.\n",
    "\n",
    "| No Nitrogen | Nitrogen |\n",
    "| :---------- | :------- |\n",
    "| 0.32 | 0.26 |\n",
    "| 0.53 | 0.43 |\n",
    "| 0.28 | 0.47 |\n",
    "| 0.37 | 0.49 |\n",
    "| 0.47 | 0.52 |\n",
    "| 0.43 | 0.75 |\n",
    "| 0.36 | 0.79 |\n",
    "| 0.42 | 0.86 |\n",
    "| 0.38 | 0.62 |\n",
    "| 0.43 | 0.46 |\n",
    "\n",
    "Create a dot plot on which the \"x\" values represent the no nitrogen values, and the \"o\" the nitrogen data.\n",
    "\n",
    "The result should look *similar* to the following one:\n",
    "\n",
    "![Box plot](./pics/box-plot.png)"
   ]
  },
  {
   "attachments": {},
   "cell_type": "markdown",
   "metadata": {},
   "source": [
    "There's no OOB support for this type of box plot, so a little preprocessing is needed:\n",
    "\n",
    "1. Set up the data sets for both the individual data collections.\n",
    "2. Get the min/max for all the data that you will use to set the x-axis limits.\n",
    "3. Skew the data collisions so that they're visible in the plot by adjusting the y coordinate when two points have the same value.\n",
    "4. Manually adjust the limits for the x-axis in the chart, by giving some sensible extra padding left and right.\n",
    "5. Manually adjust the y-axis limit in the chart so that it looks like in the reference picture.\n",
    "6. Set the ticks on the x-axis so that you have some numeric references as in the reference picture (0.25, 0.30, 0.35, etc.)\n",
    "7. Plot both data sets as scatter plots, with different markers and labels for each individual data sets.\n",
    "8. Adjust the chart size (if required)\n",
    "9. Show a legend to easily identify the data sets in the dot plot.\n"
   ]
  },
  {
   "attachments": {},
   "cell_type": "markdown",
   "metadata": {},
   "source": [
    "Let's start by setting up the individual data sets into a list of lists:"
   ]
  },
  {
   "cell_type": "code",
   "execution_count": 19,
   "metadata": {},
   "outputs": [],
   "source": [
    "no_nitrogen = [0.32, 0.53, 0.28, 0.37, 0.47, 0.43, 0.36, 0.42, 0.38, 0.43]\n",
    "nitrogen = [0.26, 0.43, 0.47, 0.49, 0.52, 0.75, 0.79, 0.86, 0.62, 0.46]\n",
    "\n",
    "data_sets = [no_nitrogen, nitrogen]"
   ]
  },
  {
   "attachments": {},
   "cell_type": "markdown",
   "metadata": {},
   "source": [
    "Now, we define a function `get_limits` that we will use to find the min and max values for the data sets:"
   ]
  },
  {
   "cell_type": "code",
   "execution_count": 20,
   "metadata": {},
   "outputs": [],
   "source": [
    "def get_limits(*data_sets):\n",
    "    mins = [min(data_set) for data_set in data_sets]\n",
    "    maxs = [max(data_set) for data_set in data_sets]\n",
    "    return (min(mins), max(maxs))"
   ]
  },
  {
   "attachments": {},
   "cell_type": "markdown",
   "metadata": {},
   "source": [
    "Now we define another helper function that displaces (or *skews*) the y coordinates of the *clashing dots*. The goal is to skew the y coordinate for the points in the data sets that have the same value so that they're visible.\n",
    "\n",
    "For example, if we have the points [5, 6, 5], we could set the skew to 0.5, and then get the coordinates for the previous dataset as [0, 0, 0.5].\n",
    "\n",
    "We define a function `get_ys_for_dot_plot(*xs, skew=0.25)` that will create a frequency map for all the seen values (no matter the dataset they belong to) and return a list of all the corresponding y coordinates for the points:"
   ]
  },
  {
   "cell_type": "code",
   "execution_count": 21,
   "metadata": {},
   "outputs": [],
   "source": [
    "def get_ys_for_dot_plot(*xs, skew=0.25):\n",
    "    freq_map = {}\n",
    "    ys = []\n",
    "    for x in xs:\n",
    "        y = []\n",
    "        for value in x:\n",
    "            if value in freq_map:\n",
    "                freq_map[value] = freq_map[value] + skew\n",
    "            else:\n",
    "                freq_map[value] = 0\n",
    "            y.append(freq_map[value])\n",
    "        ys.append(y)\n",
    "    return ys"
   ]
  },
  {
   "attachments": {},
   "cell_type": "markdown",
   "metadata": {},
   "source": [
    "Now we can investigate the limits of our data sets, relying on `get_limits()` and `get_ys_for_dot_plot()`:"
   ]
  },
  {
   "cell_type": "code",
   "execution_count": 23,
   "metadata": {},
   "outputs": [
    {
     "name": "stdout",
     "output_type": "stream",
     "text": [
      "(x_min, x_max)=(0.26, 0.86)\n",
      "(y_min, y_max)=(0, 0.5)\n"
     ]
    }
   ],
   "source": [
    "ys = get_ys_for_dot_plot(*data_sets)\n",
    "\n",
    "print(f\"(x_min, x_max)={get_limits(*data_sets)}\")\n",
    "print(f\"(y_min, y_max)={get_limits(*ys)}\")"
   ]
  },
  {
   "attachments": {},
   "cell_type": "markdown",
   "metadata": {},
   "source": [
    "Now that we know the range of the data to plot, we can manually adjust the limits to have a pretty representation.\n",
    "\n",
    "The approach consists in adding a little padding to the limits above, and making them match with exact rounded values.\n",
    "\n",
    "For example, based on our reference picture it feels natural to choose 0.25 and 0.90 for the x limits, and 0.05 for the tick step.\n",
    "\n",
    "For y limits we can choose -0.1 and 2.1 to properly size the drawing."
   ]
  },
  {
   "cell_type": "code",
   "execution_count": 25,
   "metadata": {},
   "outputs": [],
   "source": [
    "x_lim_min = 0.25\n",
    "x_lim_max = 0.90\n",
    "y_lim_min = -0.1\n",
    "y_lim_max = 2.1\n",
    "tick_step = 0.05"
   ]
  },
  {
   "attachments": {},
   "cell_type": "markdown",
   "metadata": {},
   "source": [
    "With all the bits and pieces in place, we can proceed to plot the datasets:"
   ]
  },
  {
   "cell_type": "code",
   "execution_count": 27,
   "metadata": {},
   "outputs": [
    {
     "data": {
      "image/png": "[encoded data removed]",
      "text/plain": [
       "<Figure size 1000x200 with 1 Axes>"
      ]
     },
     "metadata": {},
     "output_type": "display_data"
    }
   ],
   "source": [
    "import matplotlib.pyplot as plt\n",
    "import numpy as np\n",
    "\n",
    "fig, ax = plt.subplots()\n",
    "plt.xlim(x_lim_min, x_lim_max)\n",
    "plt.ylim(y_lim_min, y_lim_max)\n",
    "\n",
    "ax.get_yaxis().set_visible(False)                           # hide axes\n",
    "ax.set_xticks(np.arange(x_lim_min, x_lim_max, tick_step))   # set ticks\n",
    "\n",
    "ax.scatter(no_nitrogen, ys[0], marker=\"x\", label=\"no nitrogen treatment\")\n",
    "ax.scatter(nitrogen, ys[1], marker=\"o\", c=\"blue\", label=\"nitrogen treatment\")\n",
    "\n",
    "ax.legend()         # show the legend\n",
    "ax.grid(False)      # hide the grid\n",
    "\n",
    "fig.set_size_inches(10, 2)\n",
    "\n",
    "plt.show()"
   ]
  },
  {
   "attachments": {},
   "cell_type": "markdown",
   "metadata": {},
   "source": [
    "### Drawing a histogram\n",
    "\n",
    "A histogram is a chart that shows frequency distribution for a particular experiment. That is, it visualizes the number of observations in the y-axis vs. the intervals in which they fall.\n",
    "\n",
    "Consider the following table corresponding to 40 car batteries life rounded to the nearest tenth of a year.\n",
    "\n",
    "| Car Battery Life |\n",
    "| :--------------- |\n",
    "| 2.2 4.1 3.5 4.5 3.2 3.7 3.0 2.6 |\n",
    "| 3.4 1.6 3.1 3.3 3.8 3.1 4.7 3.7 |\n",
    "| 2.5 4.3 3.4 3.6 2.9 3.3 3.9 3.1 |\n",
    "| 3.3 3.1 3.7 4.4 3.2 4.1 1.9 3.4 |\n",
    "| 4.7 3.8 3.2 2.6 3.9 3.0 4.2 3.5 |\n",
    "\n",
    "Plot a histogram so that you can see the distribution of the life expectancy. Arrange the data in the intervals: [1.5-2.0), [2.0-2.5), [2.5-2.9), ..., [4.5-5.0]. Overlay a scatter plot showing the midpoint of each interval (1.75, 2.25, 2.75, ..., 4.7).\n"
   ]
  },
  {
   "attachments": {},
   "cell_type": "markdown",
   "metadata": {},
   "source": [
    "Pyplot comes with its own histogram wrapper that helps with the creation of a histogram. That relieves yout from the need to preprocess the data to obtain the relative frequency, counts, etc.\n",
    "\n",
    "| NOTE: |\n",
    "| :---- |\n",
    "| If for some reason, you have already performed such analysis, you might want to plot a bar chart instead, as illustrated in the next exercise. |\n",
    "\n",
    "The documentation for [pyplot.hist](https://matplotlib.org/stable/api/_as_gen/matplotlib.pyplot.hist.html) gives all the details about the different options you can use to draw your histogram, but in this exercise only the basics are needed:\n",
    "\n",
    "```python\n",
    "plt.hist(\n",
    "  x,          # data set\n",
    "  bins,       # either the number of bins or the intervals (1)\n",
    "  rwidth=val, # relative width of the bars (e.g. 0.95)  (2)\n",
    "  color=c,    # color of the bars\n",
    "  alpha=pct   # alpha-blending value\n",
    ")\n",
    "```\n",
    "\n",
    "(1) In bins you can provide either the number of bins or the intervals. If using the latter, you should provide a vector such as `[0, 0.25, 0.5, 0.75, 1]` to identify the intervals `[0, 0.25), [0.25, 0.5), [0.5, 0.75), [0.75, 1]`.\n",
    "\n",
    "(2) When you use a relative width of 0.95, you will be leaving 5% space between the bars.\n",
    "\n",
    "You can also play with the `histtype` attribute to choose between different flavors of histograms. Also, the `density` attribute plots the probability density instead of the frequency:\n",
    "\n",
    "```python\n",
    "density = counts / (sum(counts) * np.diff(bins)) \n",
    "```\n",
    "\n",
    "Note that this density is different from the relative frequency which is calculated as:\n",
    "\n",
    "\n",
    "```python\n",
    "rel_frequency = frequency / total_num_observations\n",
    "```\n",
    "\n",
    "Finally, you must take into account that `plt.hist()` returns the values of the histogram bins (that is, the frequency), the bins uses, and the patches (`BarContainer` used to create the histogram)."
   ]
  },
  {
   "attachments": {},
   "cell_type": "markdown",
   "metadata": {},
   "source": [
    "With all this background info in place, we can proceed to plot the histogram:"
   ]
  },
  {
   "cell_type": "code",
   "execution_count": 29,
   "metadata": {},
   "outputs": [
    {
     "data": {
      "image/png": "[encoded data removed]",
      "text/plain": [
       "<Figure size 640x480 with 1 Axes>"
      ]
     },
     "metadata": {},
     "output_type": "display_data"
    },
    {
     "name": "stdout",
     "output_type": "stream",
     "text": [
      "n=[ 2.  1.  4. 15. 10.  5.  3.]\n",
      "bind=[1.5 2.  2.5 3.  3.5 4.  4.5 5. ]\n",
      "patches=<BarContainer object of 7 artists>\n"
     ]
    }
   ],
   "source": [
    "import numpy as np\n",
    "import matplotlib.pyplot as plt\n",
    "\n",
    "data_set = [\n",
    "    2.2, 4.1, 3.5, 4.5, 3.2, 3.7, 3.0, 2.6,\n",
    "    3.4, 1.6, 3.1, 3.3, 3.8, 3.1, 4.7, 3.7,\n",
    "    2.5, 4.3, 3.4, 3.6, 2.9, 3.3, 3.9, 3.1,\n",
    "    3.3, 3.1, 3.7, 4.4, 3.2, 4.1, 1.9, 3.4,\n",
    "    4.7, 3.8, 3.2, 2.6, 3.9, 3.0, 4.2, 3.5\n",
    "]\n",
    "\n",
    "intervals = [1.5, 2.0, 2.5, 3.0, 3.5, 4.0, 4.5, 5.0]\n",
    "midpoints = [(intervals[i] + intervals[i + 1]) / 2 for i in range(0, len(intervals)) if i < len(intervals) - 1]\n",
    "\n",
    "n, bins, patches = plt.hist(data_set, intervals, alpha=0.75, rwidth=0.95)\n",
    "plt.ylabel(\"Frequency\")\n",
    "plt.xlabel(\"Battery Life (years)\")\n",
    "plt.title(\"Battery Life Histogram\")\n",
    "plt.xticks(intervals)\n",
    "plt.yticks(np.arange(0, 16, 1))\n",
    "plt.grid(True)\n",
    "\n",
    "plt.scatter(midpoints, n)\n",
    "\n",
    "plt.show()\n",
    "\n",
    "print(f\"n={n}\")\n",
    "print(f\"bind={bins}\")\n",
    "print(f\"patches={patches}\")\n"
   ]
  },
  {
   "attachments": {},
   "cell_type": "markdown",
   "metadata": {},
   "source": [
    "### Drawing a bar chart\n",
    "\n",
    "A bar chart is a chart that displays bars with a certain x coordinates, height, and width. Oftentimes, you will use a bar chart to visualize histogram data that you have previously computed (e.g., relative frequency histogram).\n",
    "\n",
    "Consider the following table corresponding to the relative frequency computation of 40 car batteries life rounded to the nearest tenth of a year.\n",
    "\n",
    "| Class Interval | Relative Frequency |\n",
    "| :------------- | :----------------- |\n",
    "| [1.5-2.0)      | 0.050 |\n",
    "| [2.0-2.5)      | 0.025 |\n",
    "| [2.5-3.0)      | 0.100 |\n",
    "| [3.0-3.5)      | 0.375 |\n",
    "| [3.5-4.0)      | 0.250 |\n",
    "| [4.0-4.5)      | 0.125 |\n",
    "| [4.5-4.9]      | 0.075 |\n",
    "\n",
    "\n",
    "Plot a the relative frequency histogram using a bar chart as the basis. The result should look similar to the picture below:\n",
    "\n",
    "![Relative Frequency Histogram](pics/rel_freq_histogram.png)\n",
    "\n",
    "| NOTE: |\n",
    "| :---- |\n",
    "| Make sure to review https://matplotlib.org/stable/api/_as_gen/matplotlib.pyplot.bar.html for the different available options. |"
   ]
  },
  {
   "cell_type": "code",
   "execution_count": 30,
   "metadata": {},
   "outputs": [
    {
     "data": {
      "image/png": "[encoded data removed]",
      "text/plain": [
       "<Figure size 640x480 with 1 Axes>"
      ]
     },
     "metadata": {},
     "output_type": "display_data"
    }
   ],
   "source": [
    "import matplotlib.pyplot as plt\n",
    "\n",
    "x_left_edges = [1.5 + 0.5 * n for n in range(0, 7)]\n",
    "y_heights = [0.050, 0.025, 0.100, 0.375, 0.250, 0.125, 0.075]\n",
    "\n",
    "plt.bar(x_left_edges, y_heights, align=\"edge\", width=0.5, color=\"#D4EFFC\", edgecolor=\"#15B4F0\")\n",
    "plt.xlabel(\"Battery Life (years)\")\n",
    "plt.ylabel(\"Relative Frequency\")\n",
    "plt.title(\"Battery Life Relative Frequency Histogram\")\n",
    "plt.xticks([x + 0.25 for x in x_left_edges])\n",
    "plt.yticks([0.125, 0.250, 0.375])\n",
    "plt.ylim([0, 0.375])\n",
    "plt.grid(False)\n",
    "\n"
   ]
  },
  {
   "attachments": {},
   "cell_type": "markdown",
   "metadata": {},
   "source": [
    "## Section 3 &mdash; Pandas\n",
    "\n",
    "Pandas is a fast and powerful data analysis and manipulation tool.\n",
    "\n",
    "It is customary to alias it to `pd`:\n",
    "\n",
    "```python\n",
    "import pandas as pd\n",
    "```\n",
    "\n",
    "You can install it doing:\n",
    "\n",
    "```bash\n",
    "conda install pandas\n",
    "```"
   ]
  },
  {
   "attachments": {},
   "cell_type": "markdown",
   "metadata": {},
   "source": [
    "### Statically creating a data frame\n",
    "\n",
    "A Pandas' data frame is a data structure you can use for storing tabular data.\n",
    "\n",
    "Create a data frame to represent the following data table:\n",
    "\n",
    "| | Stems | Leaf | Frequency |\n",
    "| :-- | :-- | :-- | :-- |\n",
    "| 0 |\t1★ |  | 0 |\n",
    "| 1 |\t1• | 69 |\t2 |\n",
    "| 2 |\t2★ | 2 |\t1 |\n",
    "| 3 |\t2• |\t5669 |\t4 |\n",
    "| 4 |\t3★ |\t001111222333444 |\t15 |\n",
    "| 5 |\t3• |\t5567778899 | 10 |\n",
    "| 6 |\t4★ |\t11234 |\t5 |\n",
    "| 7 |\t4• |\t577 |\t3 |\n"
   ]
  },
  {
   "cell_type": "code",
   "execution_count": 32,
   "metadata": {},
   "outputs": [
    {
     "data": {
      "text/html": [
       "<div>\n",
       "<style scoped>\n",
       "    .dataframe tbody tr th:only-of-type {\n",
       "        vertical-align: middle;\n",
       "    }\n",
       "\n",
       "    .dataframe tbody tr th {\n",
       "        vertical-align: top;\n",
       "    }\n",
       "\n",
       "    .dataframe thead th {\n",
       "        text-align: right;\n",
       "    }\n",
       "</style>\n",
       "<table border=\"1\" class=\"dataframe\">\n",
       "  <thead>\n",
       "    <tr style=\"text-align: right;\">\n",
       "      <th></th>\n",
       "      <th>Stems</th>\n",
       "      <th>Leaf</th>\n",
       "      <th>Frequency</th>\n",
       "    </tr>\n",
       "  </thead>\n",
       "  <tbody>\n",
       "    <tr>\n",
       "      <th>0</th>\n",
       "      <td>1★</td>\n",
       "      <td></td>\n",
       "      <td>0</td>\n",
       "    </tr>\n",
       "    <tr>\n",
       "      <th>1</th>\n",
       "      <td>1•</td>\n",
       "      <td>69</td>\n",
       "      <td>2</td>\n",
       "    </tr>\n",
       "    <tr>\n",
       "      <th>2</th>\n",
       "      <td>2★</td>\n",
       "      <td>2</td>\n",
       "      <td>1</td>\n",
       "    </tr>\n",
       "    <tr>\n",
       "      <th>3</th>\n",
       "      <td>2•</td>\n",
       "      <td>5669</td>\n",
       "      <td>4</td>\n",
       "    </tr>\n",
       "    <tr>\n",
       "      <th>4</th>\n",
       "      <td>3★</td>\n",
       "      <td>001111222333444</td>\n",
       "      <td>15</td>\n",
       "    </tr>\n",
       "    <tr>\n",
       "      <th>5</th>\n",
       "      <td>3•</td>\n",
       "      <td>5567778899</td>\n",
       "      <td>10</td>\n",
       "    </tr>\n",
       "    <tr>\n",
       "      <th>6</th>\n",
       "      <td>4★</td>\n",
       "      <td>11234</td>\n",
       "      <td>5</td>\n",
       "    </tr>\n",
       "    <tr>\n",
       "      <th>7</th>\n",
       "      <td>4•</td>\n",
       "      <td>577</td>\n",
       "      <td>3</td>\n",
       "    </tr>\n",
       "  </tbody>\n",
       "</table>\n",
       "</div>"
      ],
      "text/plain": [
       "  Stems             Leaf  Frequency\n",
       "0    1★                           0\n",
       "1    1•               69          2\n",
       "2    2★                2          1\n",
       "3    2•             5669          4\n",
       "4    3★  001111222333444         15\n",
       "5    3•       5567778899         10\n",
       "6    4★            11234          5\n",
       "7    4•              577          3"
      ]
     },
     "execution_count": 32,
     "metadata": {},
     "output_type": "execute_result"
    }
   ],
   "source": [
    "import pandas as pd\n",
    "\n",
    "pd.DataFrame({\n",
    "    'Stems': ['1★', '1•', '2★', '2•', '3★', '3•', '4★', '4•'],\n",
    "    'Leaf':  ['',   '69',  '2',  '5669', '001111222333444', '5567778899', '11234', '577' ],\n",
    "    'Frequency': [0, 2, 1, 4, 15, 10, 5, 3]\n",
    "    })"
   ]
  }
 ],
 "metadata": {
  "kernelspec": {
   "display_name": "base",
   "language": "python",
   "name": "python3"
  },
  "language_info": {
   "codemirror_mode": {
    "name": "ipython",
    "version": 3
   },
   "file_extension": ".py",
   "mimetype": "text/x-python",
   "name": "python",
   "nbconvert_exporter": "python",
   "pygments_lexer": "ipython3",
   "version": "3.10.13"
  },
  "orig_nbformat": 4
 },
 "nbformat": 4,
 "nbformat_minor": 2
}
