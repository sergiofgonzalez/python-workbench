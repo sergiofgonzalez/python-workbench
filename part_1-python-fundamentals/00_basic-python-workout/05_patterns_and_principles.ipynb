{
 "cells": [
  {
   "cell_type": "markdown",
   "metadata": {},
   "source": [
    "# Patterns and Principles\n",
    "\n",
    "## SOLID Principles in Object-Oriented Python\n",
    "\n",
    "SOLID is a set of five object-oriented design principles that can help you write more maintainable, flexible, and scalable code based on well-designed, cleanly structured classes.\n",
    "\n",
    "SOLID is an acronym that groups the five core principles that apply to Object-Oriented Design (OOD):\n",
    "\n",
    "1. Single-Responsibility Principle (SRP)\n",
    "2. Open-Closed Principle (OCP)\n",
    "3. Liskov Substitution Principle (LSP)\n",
    "4. Interface Segregation Principle (ISP)\n",
    "5. Dependency Inversion Principle (DIP)"
   ]
  },
  {
   "cell_type": "markdown",
   "metadata": {},
   "source": [
    "### Single-Responsibility Principle (SRP)\n",
    "\n",
    "> A class should have only one reason to change.\n",
    "\n",
    "A class should have only one responsibility, as expressed through its methods. If a class takes care of more than one task, you should separate the tasks into separate classes.\n",
    "\n",
    "Having a single responsibility **does not mean having a single method**. Instead, it has to do with what the class represents in your code.\n",
    "\n",
    "This principle is closely related to the concept of **separation of concerns**, which suggests that you should split your programs into different sections."
   ]
  },
  {
   "cell_type": "markdown",
   "metadata": {},
   "source": [
    "Consider the following `FileManager` class:"
   ]
  },
  {
   "cell_type": "code",
   "execution_count": null,
   "metadata": {},
   "outputs": [],
   "source": [
    "from pathlib import Path\n",
    "from zipfile import ZipFile\n",
    "\n",
    "class FileManager:\n",
    "    def __init__(self, filename):\n",
    "        self.path = Path(filename)\n",
    "\n",
    "    def read(self, encoding=\"utf-8\"):\n",
    "        return self.path.read_text(encoding)\n",
    "\n",
    "    def write(self, text, encoding=\"utf-8\"):\n",
    "        self.path.write_text(text, encoding)\n",
    "\n",
    "    def compress(self):\n",
    "        with ZipFile(self.path.with_suffix(\".zip\"), mode=\"w\") as archive:\n",
    "            archive.write(self.path)\n",
    "\n",
    "    def decompress(self):\n",
    "        with ZipFile(self.path.with_suffix(\".zip\"), mode=\"r\") as archive:\n",
    "            archive.extractall()"
   ]
  },
  {
   "cell_type": "markdown",
   "metadata": {},
   "source": [
    "The class is small and simple, and yet, it is violating the **Single Responsibility Principle** because it has two reasons for changing its internal implementation, each reason associated with the two different responsibilities the class has: `read()` and `write()` to manage the file, and `compress()` and `decompress()` to manage zip files."
   ]
  },
  {
   "cell_type": "markdown",
   "metadata": {},
   "source": [
    "Typically, a class violating the **Single Responsibility Principle** is easy to fix by splitting the class into two classes with a single responsibility each:"
   ]
  },
  {
   "cell_type": "code",
   "execution_count": null,
   "metadata": {},
   "outputs": [],
   "source": [
    "from pathlib import Path\n",
    "from zipfile import ZipFile\n",
    "\n",
    "class FileManager:\n",
    "    def __init__(self, filename):\n",
    "        self.path = Path(filename)\n",
    "\n",
    "    def read(self, encoding=\"utf-8\"):\n",
    "        return self.path.read_text(encoding)\n",
    "\n",
    "    def write(self, text, encoding=\"utf-8\"):\n",
    "        self.path.write_text(text, encoding)\n",
    "\n",
    "class ZipFileManager:\n",
    "    def __init__(self, filename):\n",
    "        self.path = Path(filename)\n",
    "\n",
    "    def compress(self):\n",
    "        with ZipFile(self.path.with_suffix(\".zip\"), mode=\"w\") as archive:\n",
    "            archive.write(self.path)\n",
    "\n",
    "    def decompress(self):\n",
    "        with ZipFile(self.path.with_suffix(\".zip\"), mode=\"r\") as archive:\n",
    "            archive.extractall()"
   ]
  },
  {
   "cell_type": "markdown",
   "metadata": {},
   "source": [
    "### Open-Closed Principle (OCP)\n",
    "\n",
    "> Software entities (classes, modules, functions, etc.) should be open for extension, but closed for modification.\n",
    "\n"
   ]
  },
  {
   "cell_type": "markdown",
   "metadata": {},
   "source": [
    "### Liskov Substitution Principle (LSP)\n",
    "\n",
    "> Subtypes must be substitutable for their base types.\n",
    "\n",
    "In practice, the principle is about making your subclasses behave like their base classes without breaking anyone's expectations when they called the same methods."
   ]
  },
  {
   "cell_type": "markdown",
   "metadata": {},
   "source": [
    "### Interface Segragation Principle (ISP)\n",
    "\n",
    "> Clients should not be forced to depend upon methods that they do not use. Interfaces belong to clients, not to hierarchies.\n",
    "\n",
    "In other words, if a class doesn't use particular methods or attributes, then those methods and attributes should be segregated into more specific classes."
   ]
  },
  {
   "cell_type": "markdown",
   "metadata": {},
   "source": [
    "### Dependency Inversion Principle (DIP)\n",
    "\n",
    "> Abstractions should not depend upon details. Details should depend upon abstractions."
   ]
  }
 ],
 "metadata": {
  "kernelspec": {
   "display_name": "base",
   "language": "python",
   "name": "python3"
  },
  "language_info": {
   "name": "python",
   "version": "3.10.13"
  }
 },
 "nbformat": 4,
 "nbformat_minor": 2
}
