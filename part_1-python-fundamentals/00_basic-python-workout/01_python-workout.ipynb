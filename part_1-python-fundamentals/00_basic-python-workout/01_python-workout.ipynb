{
 "cells": [
  {
   "attachments": {},
   "cell_type": "markdown",
   "metadata": {},
   "source": [
    "# Basic Python workout\n",
    "\n",
    "This section is intended to provide a set of basic exercises to refresh basic Python concepts so that you can code in Python with confidence.\n",
    "\n",
    "The section assumes that a valid kernel is available for the Jupyter code blocks to run.\n",
    "Some familiarity with Python is also expected."
   ]
  },
  {
   "attachments": {},
   "cell_type": "markdown",
   "metadata": {},
   "source": [
    "## Section 1 &mdash; Hello, Python!\n",
    "\n",
    "### Hello, World! in Python\n",
    "\n",
    "Write the canonical \"Hello, World!\" program in Python. To make it a bit more interesting, define a variable for the greeting message."
   ]
  },
  {
   "cell_type": "code",
   "execution_count": 1,
   "metadata": {},
   "outputs": [
    {
     "name": "stdout",
     "output_type": "stream",
     "text": [
      "Hello, World!\n"
     ]
    }
   ],
   "source": [
    "message = \"Hello, World!\"\n",
    "\n",
    "print(message)"
   ]
  },
  {
   "attachments": {},
   "cell_type": "markdown",
   "metadata": {},
   "source": [
    "### Hello functions\n",
    "\n",
    "Functions are first-class citizens in Python. Declare a function `f(x)` that returns the square of the value received as an argument.\n",
    "\n",
    "Then, use the function to compute and show the result of $ 5^2 $ and $ 7^2 $."
   ]
  },
  {
   "cell_type": "code",
   "execution_count": 2,
   "metadata": {},
   "outputs": [
    {
     "name": "stdout",
     "output_type": "stream",
     "text": [
      "25\n",
      "49\n"
     ]
    }
   ],
   "source": [
    "def f(x):\n",
    "    return x**2\n",
    "\n",
    "print(f(5))\n",
    "print(f(7))"
   ]
  },
  {
   "attachments": {},
   "cell_type": "markdown",
   "metadata": {},
   "source": [
    "### Functions as arguments to other functions\n",
    "\n",
    "Create a function `add(x, y)` that sums up the numbers received as arguments, and a function `sub(x, y)` that subtracts that numbers.\n",
    "\n",
    "Define the function `compute(x, y, op)` that receives as arguments two numbers and a function such as `add()` and `sub()` and use it to perform some calculations."
   ]
  },
  {
   "cell_type": "code",
   "execution_count": 3,
   "metadata": {},
   "outputs": [
    {
     "name": "stdout",
     "output_type": "stream",
     "text": [
      "5\n",
      "1\n"
     ]
    }
   ],
   "source": [
    "def add(x, y):\n",
    "    return x + y\n",
    "\n",
    "def sub(x, y):\n",
    "    return x - y\n",
    "\n",
    "def compute(x, y, op):\n",
    "    return op(x, y)\n",
    "\n",
    "res1 = compute(3, 2, add)\n",
    "res2 = compute(3, 2, sub)\n",
    "\n",
    "print(res1)\n",
    "print(res2)"
   ]
  },
  {
   "attachments": {},
   "cell_type": "markdown",
   "metadata": {},
   "source": [
    "### Using functions from the `math` library\n",
    "\n",
    "Write a program that imports the `math` library in your program to:\n",
    "+ print the value of $ \\pi $ and $ e $.\n",
    "+ compute $ \\sqrt{144} $\n",
    "+ compute $ sin(2 \\cdot pi) $"
   ]
  },
  {
   "cell_type": "code",
   "execution_count": 5,
   "metadata": {},
   "outputs": [
    {
     "name": "stdout",
     "output_type": "stream",
     "text": [
      "3.141592653589793\n",
      "2.718281828459045\n",
      "12.0\n",
      "-2.4492935982947064e-16\n"
     ]
    }
   ],
   "source": [
    "from math import pi, e, sqrt, sin  # better get only what's needed\n",
    "\n",
    "print(pi)\n",
    "print(e)\n",
    "\n",
    "print(sqrt(144))\n",
    "print(sin(2 * pi))"
   ]
  },
  {
   "attachments": {},
   "cell_type": "markdown",
   "metadata": {},
   "source": [
    "### Using complex numbers\n",
    "\n",
    "Python supports complex numbers out of the box. Define the complex numbers $ 3 + i $ and $ 100 + 10 i $ with $ i $ being the imaginary part.\n",
    "\n",
    "HINT: use `j` to represent the imaginary part"
   ]
  },
  {
   "cell_type": "code",
   "execution_count": 6,
   "metadata": {},
   "outputs": [
    {
     "name": "stdout",
     "output_type": "stream",
     "text": [
      "(3+1j)\n",
      "(100+10j)\n"
     ]
    }
   ],
   "source": [
    "c1 = 3 + 1j\n",
    "c2 = 100 + 10j\n",
    "\n",
    "print(c1)\n",
    "print(c2)"
   ]
  },
  {
   "attachments": {},
   "cell_type": "markdown",
   "metadata": {},
   "source": [
    "### Generating random numbers\n",
    "\n",
    "Using Python's `random` library that packs several utility functions to generate random numbers:\n",
    "+ produce a random integer between 0 and 10 (inclusive)\n",
    "+ produce a random floating point number between 7.5 and 10.5 (HINT: use `uniform`)"
   ]
  },
  {
   "cell_type": "code",
   "execution_count": 7,
   "metadata": {},
   "outputs": [
    {
     "name": "stdout",
     "output_type": "stream",
     "text": [
      "9\n",
      "8.979032581597249\n"
     ]
    }
   ],
   "source": [
    "from random import randint, uniform\n",
    "\n",
    "print(randint(0, 10))\n",
    "print(uniform(7.5, 10.5))"
   ]
  },
  {
   "attachments": {},
   "cell_type": "markdown",
   "metadata": {},
   "source": [
    "## Section 2 &mdash; Hello, Lists!\n",
    "\n",
    "Lists are ordered collection of elements. Lists in Python are a fundamental concepts on which many other advanced constructs are based.\n",
    "\n",
    "### Creating a list and accessing its elements\n",
    "\n",
    "Create a named collection `months` containing the name of the months from January to June. Print in the screen the first month and the 4th month. Using negative indexes, get the month before last, and the last month.\n"
   ]
  },
  {
   "cell_type": "code",
   "execution_count": 11,
   "metadata": {},
   "outputs": [
    {
     "name": "stdout",
     "output_type": "stream",
     "text": [
      "First month: Jan\n",
      "Fourth month: Apr\n",
      "Last month: Jun\n",
      "Penultimate month: May\n"
     ]
    }
   ],
   "source": [
    "months = [\"Jan\", \"Feb\", \"Mar\", \"Apr\", \"May\", \"Jun\"]\n",
    "\n",
    "print(\"First month:\", months[0])\n",
    "print(\"Fourth month:\", months[3])\n",
    "\n",
    "print(\"Last month:\", months[-1])\n",
    "print(\"Penultimate month:\", months[-2])"
   ]
  },
  {
   "attachments": {},
   "cell_type": "markdown",
   "metadata": {},
   "source": [
    "### Unpacking a list into named variables\n",
    "\n",
    "Use *unpacking* (also known destructuring in other languages) to create a named variable for the months of January through June."
   ]
  },
  {
   "cell_type": "code",
   "execution_count": 9,
   "metadata": {},
   "outputs": [
    {
     "name": "stdout",
     "output_type": "stream",
     "text": [
      "Jan\n",
      "Jun\n"
     ]
    }
   ],
   "source": [
    "months = [\"Jan\", \"Feb\", \"Mar\", \"Apr\", \"May\", \"Jun\"]\n",
    "\n",
    "jan, feb, mar, apr, may, jun = months\n",
    "\n",
    "print(jan)\n",
    "print(jun)"
   ]
  },
  {
   "attachments": {},
   "cell_type": "markdown",
   "metadata": {},
   "source": [
    "### Slicing lists\n",
    "\n",
    "Python lets you extract a *slice* from a list using the following syntax:\n",
    "\n",
    "```python\n",
    "my_list[start_inclusive:end_exclusive]\n",
    "```\n",
    "\n",
    "Python is flexible enough to let you omit the start index (meaning take from the first), or the last index (meaning take until the last).\n",
    "\n",
    "Create a list with the numbers 1 thru 10 (inclusive). \n",
    "+ Obtain the sublist of elements from the second to the 5th (inclusive) and print the obtained list. Print also the length of the list using the `len()` function.\n",
    "\n",
    "+ Obtain the sublist of elements from the 2nd to the one before last. Print the list and the len.\n",
    "\n",
    "+ Do the same with the sublist of elements from the 2nd to last.\n",
    "\n",
    "+ Repeat with the sublist of elements from the first to the one before last."
   ]
  },
  {
   "cell_type": "code",
   "execution_count": 17,
   "metadata": {},
   "outputs": [
    {
     "name": "stdout",
     "output_type": "stream",
     "text": [
      "sublist: [2, 3, 4, 5], len=4\n",
      "sublist: [2, 3, 4, 5, 6, 7, 8, 9], len=8\n",
      "sublist: [2, 3, 4, 5, 6, 7, 8, 9, 10], len=9\n",
      "sublist: [1, 2, 3, 4, 5, 6, 7, 8, 9], len=9\n"
     ]
    }
   ],
   "source": [
    "nums = [1, 2, 3, 4, 5, 6, 7, 8, 9, 10]\n",
    "\n",
    "def printListAndLen(l):\n",
    "    print(f\"sublist: {l}, len={len(l)}\")\n",
    "\n",
    "sublist = nums[1:5]\n",
    "printListAndLen(sublist)\n",
    "\n",
    "# note that nums[-1] = 10, but when slicing nums[s:-1] gets the one before last\n",
    "sublist = nums[1:-1]            \n",
    "printListAndLen(sublist)\n",
    "\n",
    "sublist = nums[1:]\n",
    "printListAndLen(sublist)\n",
    "\n",
    "sublist = nums[:-1]\n",
    "printListAndLen(sublist)\n"
   ]
  },
  {
   "attachments": {},
   "cell_type": "markdown",
   "metadata": {},
   "source": [
    "### More unpacking and indexing\n",
    "\n",
    "Given the following list of strings `[\"jane\", \"john\", \"jill\", \"jack\"]`. Define a variable that gets jack, and another variable that gets the rest of names."
   ]
  },
  {
   "cell_type": "code",
   "execution_count": 18,
   "metadata": {},
   "outputs": [
    {
     "name": "stdout",
     "output_type": "stream",
     "text": [
      "jack\n",
      "rest: ['jane', 'john', 'jill']\n"
     ]
    }
   ],
   "source": [
    "names = [\"jane\", \"john\", \"jill\", \"jack\"]\n",
    "\n",
    "jack = names[-1]\n",
    "rest = names[:-1]\n",
    "\n",
    "print(jack)\n",
    "print(\"rest:\", rest)"
   ]
  },
  {
   "attachments": {},
   "cell_type": "markdown",
   "metadata": {},
   "source": [
    "### More unpacking and indexing (II)\n",
    "\n",
    "| NOTE: |\n",
    "| :---- |\n",
    "| This exercise requires tuples. |\n",
    "\n",
    "Given the following list:\n",
    "\n",
    "```python\n",
    "[(\"jane\", 21), (\"john\", 32), (\"jill\", 45), (\"jack\", 23)]\n",
    "```\n",
    "\n",
    "Define a variable that gets jack's name and his associated value.\n",
    "\n",
    "Use the following syntax `print(f\"Hello to {jack!r} who turns {jack_value} today!\")` to print the results."
   ]
  },
  {
   "cell_type": "code",
   "execution_count": 30,
   "metadata": {},
   "outputs": [
    {
     "name": "stdout",
     "output_type": "stream",
     "text": [
      "Jack's name: jack\n",
      "Jack's age: 23\n",
      "Hello to 'jack' who turns 23 today!\n"
     ]
    }
   ],
   "source": [
    "friends = [(\"jane\", 21), (\"john\", 32), (\"jill\", 45), (\"jack\", 23)]\n",
    "\n",
    "name, age = friends[-1]\n",
    "print(\"Jack's name:\", name)\n",
    "print(\"Jack's age:\", age)\n",
    "\n",
    "print(f\"Hello to {name!r} who turns {age} today!\")"
   ]
  },
  {
   "attachments": {},
   "cell_type": "markdown",
   "metadata": {},
   "source": [
    "Alternatively, you can use unpacking with `*_` which is used to discard all but the last value:"
   ]
  },
  {
   "cell_type": "code",
   "execution_count": 31,
   "metadata": {},
   "outputs": [
    {
     "name": "stdout",
     "output_type": "stream",
     "text": [
      "Hello to 'jack' who turns 23 today!\n"
     ]
    }
   ],
   "source": [
    "*_, (jack_name, jack_age) = friends\n",
    "\n",
    "print(f\"Hello to {jack_name!r} who turns {jack_age} today!\")"
   ]
  },
  {
   "attachments": {},
   "cell_type": "markdown",
   "metadata": {},
   "source": [
    "### Concatenating lists\n",
    "\n",
    "Create two lists with the numbers 1, 2, 3 and 4, 5, 6. Concatenate them in a new list and print the results."
   ]
  },
  {
   "cell_type": "code",
   "execution_count": 20,
   "metadata": {},
   "outputs": [
    {
     "name": "stdout",
     "output_type": "stream",
     "text": [
      "[1, 2, 3, 4, 5, 6]\n"
     ]
    }
   ],
   "source": [
    "nums1 = [1, 2, 3]\n",
    "nums2 = [4, 5, 6]\n",
    "\n",
    "union_list = nums1 + nums2\n",
    "print(union_list)\n"
   ]
  },
  {
   "attachments": {},
   "cell_type": "markdown",
   "metadata": {},
   "source": [
    "### Indexing from the back of a list\n",
    "\n",
    "Create a list with the numbers 1 thru 10 (inclusive).\n",
    "\n",
    "Use negative indices to obtain the elements from the back of the list so that you can obtain the last element, and the one before the last element.\n",
    "\n",
    "Using the syntax used for slicing, obtain the sublist containing the elements from the second to the one before last (included)."
   ]
  },
  {
   "cell_type": "code",
   "execution_count": 21,
   "metadata": {},
   "outputs": [
    {
     "name": "stdout",
     "output_type": "stream",
     "text": [
      "last: 10\n",
      "before_last: 9\n",
      "sublist: [2, 3, 4, 5, 6, 7, 8, 9]\n"
     ]
    }
   ],
   "source": [
    "nums = [1, 2, 3, 4, 5, 6, 7, 8, 9, 10]\n",
    "\n",
    "last = nums[-1]\n",
    "before_last = nums[-2]\n",
    "sublist = nums[1:-1]\n",
    "\n",
    "print(\"last:\", last)\n",
    "print(\"before_last:\", before_last)\n",
    "print(\"sublist:\", sublist)"
   ]
  },
  {
   "attachments": {},
   "cell_type": "markdown",
   "metadata": {},
   "source": [
    "### Creating and accessing list of lists\n",
    "\n",
    "Create a list with 3 elements, those elements being:\n",
    "+ 1, 2, 3\n",
    "+ 4, 5, 6\n",
    "+ 7, 8, 9\n",
    "\n",
    "Then print the following elements:\n",
    "+ third element of the first list\n",
    "+ first element of the second list\n",
    "+ second element of the third list"
   ]
  },
  {
   "cell_type": "code",
   "execution_count": 24,
   "metadata": {},
   "outputs": [
    {
     "name": "stdout",
     "output_type": "stream",
     "text": [
      "3\n",
      "4\n",
      "8\n"
     ]
    }
   ],
   "source": [
    "l = [[1, 2, 3], [4, 5, 6], [7, 8, 9]]\n",
    "\n",
    "print(l[0][2]) # 3\n",
    "print(l[1][0]) # 4\n",
    "print(l[2][1]) # 8"
   ]
  },
  {
   "attachments": {},
   "cell_type": "markdown",
   "metadata": {},
   "source": [
    "### Iterating over the elements of a list\n",
    "\n",
    "Create a list with the months from January thru June. Iterate over the elements of the list using `for`. Print the results."
   ]
  },
  {
   "cell_type": "code",
   "execution_count": 25,
   "metadata": {},
   "outputs": [
    {
     "name": "stdout",
     "output_type": "stream",
     "text": [
      "Jan\n",
      "Feb\n",
      "Mar\n",
      "Apr\n",
      "May\n",
      "Jun\n"
     ]
    }
   ],
   "source": [
    "months = [\"Jan\", \"Feb\", \"Mar\", \"Apr\", \"May\", \"Jun\"]\n",
    "\n",
    "for m in months:\n",
    "    print(m)"
   ]
  },
  {
   "attachments": {},
   "cell_type": "markdown",
   "metadata": {},
   "source": [
    "### Appending items to a list programmatically\n",
    "\n",
    "The Python expression `range(start, end)` returns the collection of numbers from `start` to `end - 1`.\n",
    "\n",
    "Define an empty list and use a `for` loop to populate the initially empty list programmatically using `append`. Print the list as it is being created."
   ]
  },
  {
   "cell_type": "code",
   "execution_count": 26,
   "metadata": {},
   "outputs": [
    {
     "data": {
      "text/plain": [
       "[0, 1, 2, 3, 4, 5, 6, 7, 8, 9]"
      ]
     },
     "execution_count": 26,
     "metadata": {},
     "output_type": "execute_result"
    }
   ],
   "source": [
    "nums = []\n",
    "for num in range(0, 10):\n",
    "    nums.append(num)\n",
    "\n",
    "nums"
   ]
  },
  {
   "attachments": {},
   "cell_type": "markdown",
   "metadata": {},
   "source": [
    "### Sorting a list of numbers\n",
    "\n",
    "The `sorted()` built-in function can be used to sort a list. It optionally allows you to pass a function that identifies the key by which objects can be sorted.\n",
    "\n",
    "Use the `sorted` function to sort a set of 10 random floating point numbers."
   ]
  },
  {
   "cell_type": "code",
   "execution_count": 29,
   "metadata": {},
   "outputs": [
    {
     "name": "stdout",
     "output_type": "stream",
     "text": [
      "unsorted: [0.9930853928735712, 0.6051511170458547, 0.2898236134665778, 0.14020962361460065, 0.8587867475618877, 0.5484743695017377, 0.22068647740013325, 0.30042732381492077, 0.6243074788122748, 0.18171398934428906]\n",
      "sorted: [0.14020962361460065, 0.18171398934428906, 0.22068647740013325, 0.2898236134665778, 0.30042732381492077, 0.5484743695017377, 0.6051511170458547, 0.6243074788122748, 0.8587867475618877, 0.9930853928735712]\n"
     ]
    }
   ],
   "source": [
    "from random import random\n",
    "\n",
    "\n",
    "nums = [random() for _ in range(0, 10)]\n",
    "print(\"unsorted:\", nums)\n",
    "\n",
    "sorted_nums = sorted(nums)\n",
    "print(\"sorted:\", sorted_nums)"
   ]
  },
  {
   "attachments": {},
   "cell_type": "markdown",
   "metadata": {},
   "source": [
    "### Sorting a list of objects\n",
    "\n",
    "| NOTE: |\n",
    "| :---- |\n",
    "| The following exercise requires OOP. |\n",
    "\n",
    "The `sorted()` function allows you to pass a function which can be used to decide who the objects within a list can be sorted out.\n",
    "\n",
    "Consider the following class that models some person attributes:\n",
    "\n",
    "\n",
    "```python\n",
    "class Person:\n",
    "  def __init__(self, name, age):\n",
    "    self.name = name\n",
    "    self.age = age\n",
    "\n",
    "  def __repr__(self, ):\n",
    "    return \"Person(name=\" + self.name + \", age=\" + str(self.age) + \")\"\n",
    "```\n",
    "\n",
    "Create a list of objects, and sort them according to their age using the `sorted()` function."
   ]
  },
  {
   "cell_type": "code",
   "execution_count": 33,
   "metadata": {},
   "outputs": [
    {
     "name": "stdout",
     "output_type": "stream",
     "text": [
      "unsorted: [Person(name=Jane, age=21), Person(name=John, age=32), Person(name=Jill, age=45), Person(name=Jack, age=23)]\n",
      "sorted: [Person(name=Jane, age=21), Person(name=Jack, age=23), Person(name=John, age=32), Person(name=Jill, age=45)]\n"
     ]
    }
   ],
   "source": [
    "class Person:\n",
    "  def __init__(self, name, age):\n",
    "    self.name = name\n",
    "    self.age = age\n",
    "\n",
    "  def __repr__(self, ):\n",
    "    return \"Person(name=\" + self.name + \", age=\" + str(self.age) + \")\"\n",
    "  \n",
    "\n",
    "friends = [Person(\"Jane\", 21), Person(\"John\", 32), Person(\"Jill\", 45), Person(\"Jack\", 23)]\n",
    "print(\"unsorted:\", friends)\n",
    "\n",
    "sorted_by_age = sorted(friends, key=lambda f : f.age)\n",
    "print(\"sorted:\", sorted_by_age)\n"
   ]
  },
  {
   "attachments": {},
   "cell_type": "markdown",
   "metadata": {},
   "source": [
    "### Reversing a list elements with `reverse()`\n",
    "\n",
    "The elements within a list can be *reversed* using Python. Note that this method *mutates* the given list, that is, it performs the operations in-place.\n",
    "\n",
    "Use the `reverse()` method to reverse the contents of a list containing the numbers 1 thru 5.\n",
    "\n",
    "| NOTE: |\n",
    "| :---- |\n",
    "| There is also a `reversed()` function. |"
   ]
  },
  {
   "cell_type": "code",
   "execution_count": 36,
   "metadata": {},
   "outputs": [
    {
     "name": "stdout",
     "output_type": "stream",
     "text": [
      "[5, 4, 3, 2, 1]\n"
     ]
    }
   ],
   "source": [
    "l = [1, 2, 3, 4, 5]\n",
    "\n",
    "l.reverse()\n",
    "print(l)"
   ]
  },
  {
   "attachments": {},
   "cell_type": "markdown",
   "metadata": {},
   "source": [
    "### Concatenating the elements of a list to a string using `str.join()`\n",
    "\n",
    "The elements of a list can be concatenated into a single string using `str.join()`.\n",
    "\n",
    "Using this approach, convert a list of characters, strings, and numbers into a single string (respectively) using `join`.\n",
    "\n",
    "HINT 1: Consider using `\"\".join()`\n",
    "\n",
    "HINT 2: To convert a list of numbers into a single string you will need to convert each of its elements to a string. Consider using `map()` to do so. As the conversion is simple, you might define an anonymous lambda function for that."
   ]
  },
  {
   "cell_type": "code",
   "execution_count": 38,
   "metadata": {},
   "outputs": [
    {
     "name": "stdout",
     "output_type": "stream",
     "text": [
      "abc\n",
      "alphabetagamma\n",
      "12345\n"
     ]
    }
   ],
   "source": [
    "chars = ['a', 'b', 'c']\n",
    "strings = [\"alpha\", \"beta\", \"gamma\"]\n",
    "nums = [1, 2, 3, 4, 5]\n",
    "\n",
    "print(\"\".join(chars))\n",
    "print(\"\".join(strings))\n",
    "print(\"\".join(map(lambda num : str(num), nums)))"
   ]
  },
  {
   "attachments": {},
   "cell_type": "markdown",
   "metadata": {},
   "source": [
    "### Find a first match in a list (or iterable)\n",
    "\n",
    "Given a list containing the names \"Linda\", \"Tiffany\", \"Florina\", and \"Jovann\", use the method `index()` to find the first name whose length is 7.\n",
    "\n",
    "| NOTE: |\n",
    "| :---- |\n",
    "| `iter.index(val)` returns the index of the first element of the list matching `val`. |"
   ]
  },
  {
   "cell_type": "code",
   "execution_count": 40,
   "metadata": {},
   "outputs": [
    {
     "name": "stdout",
     "output_type": "stream",
     "text": [
      "1\n",
      "Tiffany\n"
     ]
    }
   ],
   "source": [
    "names = [\"Linda\", \"Tiffany\", \"Florina\", \"Jovann\"]\n",
    "lengths = [len(s) for s in names]\n",
    "\n",
    "print(lengths.index(7))\n",
    "print(names[lengths.index(7)])"
   ]
  },
  {
   "attachments": {},
   "cell_type": "markdown",
   "metadata": {},
   "source": [
    "## Section 3 &mdash; Tuples\n",
    "\n",
    "Unlike lists, tuples are immutable collection of elements. The elements can be of any type.\n",
    "\n",
    "Tuple elements can be accessed pretty much like list elements."
   ]
  },
  {
   "attachments": {},
   "cell_type": "markdown",
   "metadata": {},
   "source": [
    "### Creating tuples statically\n",
    "\n",
    "Create:\n",
    "+ `tuple_1`: the tuple containing the elements 1 and 2\n",
    "+ `tuple_2`: the tuple containing the elements a, b, c, and d\n",
    "+ `tuple_3`: the tuple containing the elements 1 through 5 without using parentheses"
   ]
  },
  {
   "cell_type": "code",
   "execution_count": 1,
   "metadata": {},
   "outputs": [
    {
     "name": "stdout",
     "output_type": "stream",
     "text": [
      "(1, 2)\n",
      "('a', 'b', 'c', 'd')\n",
      "(1, 2, 3, 4, 5)\n"
     ]
    }
   ],
   "source": [
    "tuple_1 = (1, 2)  # normal syntax\n",
    "tuple_2 = ('a', 'b', 'c', 'd')\n",
    "tuple_3 = 1, 2, 3, 4, 5\n",
    "\n",
    "print(tuple_1)\n",
    "print(tuple_2)\n",
    "print(tuple_3)"
   ]
  },
  {
   "attachments": {},
   "cell_type": "markdown",
   "metadata": {},
   "source": [
    "### Accessing tuple elements\n",
    "\n",
    "Using the tuples defined in the previous exercise, print:\n",
    "+ The first and second element of `tuple_1`\n",
    "+ The one before last and last element of `tuple_2`\n",
    "+ The tuple consisting of elements 2nd thru 4th of `tuple_3`"
   ]
  },
  {
   "cell_type": "code",
   "execution_count": 4,
   "metadata": {},
   "outputs": [
    {
     "name": "stdout",
     "output_type": "stream",
     "text": [
      "1\n",
      "2\n",
      "c\n",
      "d\n",
      "(2, 3, 4)\n"
     ]
    }
   ],
   "source": [
    "print(tuple_1[0]) # 1\n",
    "print(tuple_1[1]) # 2\n",
    "\n",
    "print(tuple_2[-2]) # c\n",
    "print(tuple_2[-1]) # d\n",
    "\n",
    "print(tuple_3[1:4])"
   ]
  },
  {
   "attachments": {},
   "cell_type": "markdown",
   "metadata": {},
   "source": [
    "## Section 4 &mdash; Sets\n",
    "\n",
    "Sets are another built-in collection available in Python. It is used to hold distinct elements when the order of elements in the container is not important."
   ]
  },
  {
   "attachments": {},
   "cell_type": "markdown",
   "metadata": {},
   "source": [
    "### Creating Sets statically\n",
    "\n",
    "Create a set with the elements 0 through 5"
   ]
  },
  {
   "cell_type": "code",
   "execution_count": 8,
   "metadata": {},
   "outputs": [
    {
     "name": "stdout",
     "output_type": "stream",
     "text": [
      "{0, 1, 2, 3, 4, 5}\n"
     ]
    }
   ],
   "source": [
    "num_set = {0, 1, 2, 3, 4, 5}\n",
    "print(set)"
   ]
  },
  {
   "attachments": {},
   "cell_type": "markdown",
   "metadata": {},
   "source": [
    "### Removing duplicates from a List with a Set\n",
    "\n",
    "Generate a list of 100 random elements from 0 to 9. Create a set out of the list and print the results."
   ]
  },
  {
   "cell_type": "code",
   "execution_count": 1,
   "metadata": {},
   "outputs": [
    {
     "name": "stdout",
     "output_type": "stream",
     "text": [
      "{0, 1, 2, 3, 4, 5, 6, 7, 8, 9}\n"
     ]
    }
   ],
   "source": [
    "from random import randint\n",
    "\n",
    "nums = [randint(0, 9) for _ in range(0, 100)]\n",
    "distinct_nums = set(nums)\n",
    "print(distinct_nums)"
   ]
  },
  {
   "attachments": {},
   "cell_type": "markdown",
   "metadata": {},
   "source": [
    "### Complement, Union, and Intersection operations on Sets\n",
    "\n",
    "Sets provide support to perform the complement, union, and intersection on Sets.\n",
    "\n",
    "Consider the following sets:\n",
    "+ The sample space of an experiment $ S $, denoted as $ S = \\{ 0, 1, 2, 3, 4, 5, 6, 7, 8, 9 \\}$.\n",
    "\n",
    "+ The events:\n",
    "  + $ A = \\{ 0, 2, 4, 6, 8 \\}$, \n",
    "  + $ B = \\{ 1, 3, 5, 7, 9 \\}$, \n",
    "  + $ C = \\{ 2, 3, 4, 5 \\} $, \n",
    "  + and $ D = \\{ 1, 6, 7 \\} $.\n",
    "\n",
    "\n",
    "Use Python to calculate:\n",
    "\n",
    "1. $ A \\cup C $\n",
    "2. $ A \\cap B $\n",
    "3. $ C' $\n",
    "4. $ (C' \\cap D) \\cup B $\n",
    "5. $ (S \\cap C)' $\n",
    "6. $ A \\cap C \\cap D' $"
   ]
  },
  {
   "cell_type": "code",
   "execution_count": 12,
   "metadata": {},
   "outputs": [
    {
     "name": "stdout",
     "output_type": "stream",
     "text": [
      "A ∪ C = {0, 2, 3, 4, 5, 6, 8}\n",
      "A ∩ B = set()\n",
      "C' = {0, 1, 6, 7, 8, 9}\n",
      "(C' ∩ D) ∪ B = {1, 3, 5, 6, 7, 9}\n",
      "(S ∩ C)' = {0, 1, 6, 7, 8, 9}\n",
      "A ∩ C ∩ D' = {2, 4}\n"
     ]
    }
   ],
   "source": [
    "S = {0, 1, 2, 3, 4, 5, 6, 7, 8, 9}\n",
    "A = {0, 2, 4, 6, 8}\n",
    "B = {1, 3, 5, 7, 9}\n",
    "C = {2, 3, 4, 5}\n",
    "D = {1, 6, 7}\n",
    "\n",
    "print(\"A ∪ C =\", A.union(C))\n",
    "print(\"A ∩ B =\", A.intersection(B)) # Note that the empty set is denoted as set()\n",
    "print(\"C' =\", S.difference(C))\n",
    "print(\"(C' ∩ D) ∪ B =\", (S.difference(C).intersection(D)).union(B))\n",
    "print(\"(S ∩ C)' =\", S.difference(S.intersection(C)))\n",
    "print(\"A ∩ C ∩ D' =\", A.intersection(C).intersection(S.difference(D)))\n"
   ]
  },
  {
   "attachments": {},
   "cell_type": "markdown",
   "metadata": {},
   "source": [
    "## Section 5 &mdash; Dictionaries\n",
    "\n",
    "Dictionaries are collections of key-value pairs."
   ]
  },
  {
   "attachments": {},
   "cell_type": "markdown",
   "metadata": {},
   "source": [
    "### Creating static dictionaries\n",
    "\n",
    "Create a dictionary for a dog whose keys are name and age and populate it with values.\n",
    "\n",
    "The access the individual values to print a message for the dog.\n",
    "\n",
    "Try to access a non-existing key such as \"breed\". Try to see how to prevent the runtime error."
   ]
  },
  {
   "cell_type": "code",
   "execution_count": 12,
   "metadata": {},
   "outputs": [
    {
     "name": "stdout",
     "output_type": "stream",
     "text": [
      "{'name': 'Mara', 'age': 7}\n",
      "Congrats to Mara who turns 7\n",
      "There is no breed info for Mara\n"
     ]
    }
   ],
   "source": [
    "dog = {\n",
    "    \"name\": \"Mara\",\n",
    "    \"age\": 7\n",
    "}\n",
    "\n",
    "print(dog)\n",
    "\n",
    "print(f\"Congrats to {dog['name']} who turns {dog['age']}\")\n",
    "\n",
    "# print(\"breed:\", dog[\"breed\"]) # this panics!\n",
    "if \"breed\" in dog:\n",
    "    print(dog[\"breed\"])\n",
    "else:\n",
    "    print(\"There is no breed info for\", dog[\"name\"])"
   ]
  },
  {
   "attachments": {},
   "cell_type": "markdown",
   "metadata": {},
   "source": [
    "### Converting a dictionary into a list\n",
    "\n",
    "A dictionary can be converted into a list using `list()` built-in function.\n",
    "\n",
    "Convert the dictionary from the previous exercise into a list and print the results. Did you get the expected results?\n",
    "\n",
    "Try again using the `items` method on the dictionary before converting it into a list.\n",
    "\n",
    "Then iterate through the corresponding list generating a report like the following:\n",
    "\n",
    "```\n",
    "key=<key-from-dict>, value=<value-from-dict>\n",
    "```"
   ]
  },
  {
   "cell_type": "code",
   "execution_count": 7,
   "metadata": {},
   "outputs": [
    {
     "name": "stdout",
     "output_type": "stream",
     "text": [
      "['name', 'age']\n",
      "[('name', 'Mara'), ('age', 7)]\n",
      "key=name, value=Mara\n",
      "key=age, value=7\n"
     ]
    }
   ],
   "source": [
    "l = list(dog)\n",
    "print(l)        # prints the dictionary keys\n",
    "\n",
    "list_items = list(dog.items())\n",
    "print(list_items)   # prints tuples (key, val)\n",
    "\n",
    "for key, val in list_items:\n",
    "    print(f\"key={key}, value={val}\")"
   ]
  },
  {
   "attachments": {},
   "cell_type": "markdown",
   "metadata": {},
   "source": [
    "### Dictionary generators\n",
    "\n",
    "| NOTE: |\n",
    "| :---- |\n",
    "| This exercise requires generators and list comprehensions. |\n",
    "\n",
    "In the same way that you can use list comprehensions as a compact syntax to generate lists, you can use the following syntax to generate dictionary objects.\n",
    "\n",
    "```python\n",
    "{key:value for elem in elems}\n",
    "```\n",
    "\n",
    "Use this approach to create a frequency map for the characters found in a string.\n",
    "\n",
    "For example, the string \"jason isaacs\" should produce the following dictionary\n",
    "\n",
    "```python\n",
    "{\n",
    "  ' ': 1,\n",
    "  'j': 1,\n",
    "  'a': 3,\n",
    "  's': 2,\n",
    "  'o': 1,\n",
    "  'n': 1,\n",
    "  'i': 1,\n",
    "  'c': 1\n",
    "}\n",
    "```"
   ]
  },
  {
   "cell_type": "code",
   "execution_count": 13,
   "metadata": {},
   "outputs": [
    {
     "name": "stdout",
     "output_type": "stream",
     "text": [
      "{'j': 1, 'a': 3, 's': 3, 'o': 1, 'n': 1, ' ': 1, 'i': 1, 'c': 1}\n"
     ]
    }
   ],
   "source": [
    "def get_freq_map(str):\n",
    "    freq_map = {c: 0 for c in str}\n",
    "    for c in str:\n",
    "        freq_map[c] = freq_map[c] + 1\n",
    "    return freq_map\n",
    "\n",
    "print(get_freq_map(\"jason isaacs\"))"
   ]
  },
  {
   "attachments": {},
   "cell_type": "markdown",
   "metadata": {},
   "source": [
    "## Section 6 &mdash; Ranges\n",
    "\n",
    "A range is another type of Python collection. The `range()` function returns an object that you can iterate over."
   ]
  },
  {
   "attachments": {},
   "cell_type": "markdown",
   "metadata": {},
   "source": [
    "### Creating and iterating over ranges\n",
    "\n",
    "Create a range object containing the numbers 0 thru 9, print it, and iterate over it printing only the even numbers."
   ]
  },
  {
   "cell_type": "code",
   "execution_count": 15,
   "metadata": {},
   "outputs": [
    {
     "name": "stdout",
     "output_type": "stream",
     "text": [
      "range(0, 9)\n",
      "0 is an even number\n",
      "2 is an even number\n",
      "4 is an even number\n",
      "6 is an even number\n",
      "8 is an even number\n"
     ]
    }
   ],
   "source": [
    "nums = range(0, 9)\n",
    "\n",
    "print(nums) # ranges are not materialized by default\n",
    "\n",
    "for num in nums:\n",
    "    if num % 2 == 0:\n",
    "        print(f\"{num} is an even number\")"
   ]
  },
  {
   "attachments": {},
   "cell_type": "markdown",
   "metadata": {},
   "source": [
    "### Materializing ranges\n",
    "\n",
    "Create a range of the odd numbers from 5 to 15. Materialize it and print the resulting list."
   ]
  },
  {
   "cell_type": "code",
   "execution_count": 16,
   "metadata": {},
   "outputs": [
    {
     "name": "stdout",
     "output_type": "stream",
     "text": [
      "[5, 7, 9, 11, 13, 15]\n"
     ]
    }
   ],
   "source": [
    "odd_nums = range(5, 16, 2)\n",
    "print(list(odd_nums))"
   ]
  },
  {
   "attachments": {},
   "cell_type": "markdown",
   "metadata": {},
   "source": [
    "## Section 7 &mdash; List comprehensions\n",
    "\n",
    "List comprehensions is a fancy Python technique that allows you to build lists in a succinct and declarative manner.\n",
    "\n",
    "Mastering list comprehensions is fundamental to make your Python programs more idiomatic."
   ]
  },
  {
   "attachments": {},
   "cell_type": "markdown",
   "metadata": {},
   "source": [
    "### Hello, list comprehensions\n",
    "\n",
    "Create a list containing the first cubes from 0 to 9 using both an imperative approach using a loop, and declarative using a list comprehension."
   ]
  },
  {
   "cell_type": "code",
   "execution_count": 18,
   "metadata": {},
   "outputs": [
    {
     "name": "stdout",
     "output_type": "stream",
     "text": [
      "[0, 1, 8, 27, 64, 125, 216, 343, 512, 729]\n",
      "[0, 1, 8, 27, 64, 125, 216, 343, 512, 729]\n"
     ]
    }
   ],
   "source": [
    "cubes = []\n",
    "for num in range(0, 10):\n",
    "    cubes.append(num ** 3)\n",
    "print(cubes)\n",
    "\n",
    "cubes = [ num ** 3 for num in range(0, 10)]\n",
    "print(cubes)"
   ]
  },
  {
   "attachments": {},
   "cell_type": "markdown",
   "metadata": {},
   "source": [
    "### Nested loops in list comprehensions\n",
    "\n",
    "Using list comprehensions, create a list of all the months in 2020, 2021, 2022, and 2023, so that resulting list looks like:\n",
    "\n",
    "```\n",
    "Jan, 2020\n",
    "Feb, 2020\n",
    "Mar, 2020\n",
    "...\n",
    "Dec, 2022\n",
    "```"
   ]
  },
  {
   "cell_type": "code",
   "execution_count": 19,
   "metadata": {},
   "outputs": [
    {
     "name": "stdout",
     "output_type": "stream",
     "text": [
      "['Jan, 2020', 'Feb, 2020', 'Mar, 2020', 'Apr, 2020', 'May, 2020', 'Jun, 2020', 'Jul, 2020', 'Aug, 2020', 'Sep, 2020', 'Oct, 2020', 'Nov, 2020', 'Dec, 2020', 'Jan, 2021', 'Feb, 2021', 'Mar, 2021', 'Apr, 2021', 'May, 2021', 'Jun, 2021', 'Jul, 2021', 'Aug, 2021', 'Sep, 2021', 'Oct, 2021', 'Nov, 2021', 'Dec, 2021', 'Jan, 2022', 'Feb, 2022', 'Mar, 2022', 'Apr, 2022', 'May, 2022', 'Jun, 2022', 'Jul, 2022', 'Aug, 2022', 'Sep, 2022', 'Oct, 2022', 'Nov, 2022', 'Dec, 2022', 'Jan, 2023', 'Feb, 2023', 'Mar, 2023', 'Apr, 2023', 'May, 2023', 'Jun, 2023', 'Jul, 2023', 'Aug, 2023', 'Sep, 2023', 'Oct, 2023', 'Nov, 2023', 'Dec, 2023']\n"
     ]
    }
   ],
   "source": [
    "months = [\"Jan\", \"Feb\", \"Mar\", \"Apr\", \"May\", \"Jun\", \"Jul\", \"Aug\", \"Sep\", \"Oct\", \"Nov\", \"Dec\"]\n",
    "years = range(2020, 2024)\n",
    "\n",
    "c = [m + \", \" + str(y) for y in years for m in months]\n",
    "print(c)"
   ]
  },
  {
   "attachments": {},
   "cell_type": "markdown",
   "metadata": {},
   "source": [
    "### More on nested list comprehensions\n",
    "\n",
    "Using list comprehensions, create a list of lists with all the months from 2020 to 2023, so that months are defined in their own vector.\n",
    "\n",
    "That is, the list should look like:\n",
    "\n",
    "```\n",
    "[\n",
    "  [\"Jan, 2020\", \"Feb, 2020\", ..., \"Dec, 2020\"],\n",
    "  [\"Jan, 2021\", \"Feb, 2021\", ..., \"Dec, 2021\"],\n",
    "  [\"Jan, 2022\", \"Feb, 2022\", ..., \"Dec, 2022\"],\n",
    "]\n",
    "```"
   ]
  },
  {
   "cell_type": "code",
   "execution_count": 23,
   "metadata": {},
   "outputs": [
    {
     "name": "stdout",
     "output_type": "stream",
     "text": [
      "[['Jan, 2020', 'Feb, 2020', 'Mar, 2020', 'Apr, 2020', 'May, 2020', 'Jun, 2020', 'Jul, 2020', 'Aug, 2020', 'Sep, 2020', 'Oct, 2020', 'Nov, 2020', 'Dec, 2020', 'Jan, 2021', 'Feb, 2021', 'Mar, 2021', 'Apr, 2021', 'May, 2021', 'Jun, 2021', 'Jul, 2021', 'Aug, 2021', 'Sep, 2021', 'Oct, 2021', 'Nov, 2021', 'Dec, 2021', 'Jan, 2022', 'Feb, 2022', 'Mar, 2022', 'Apr, 2022', 'May, 2022', 'Jun, 2022', 'Jul, 2022', 'Aug, 2022', 'Sep, 2022', 'Oct, 2022', 'Nov, 2022', 'Dec, 2022', 'Jan, 2023', 'Feb, 2023', 'Mar, 2023', 'Apr, 2023', 'May, 2023', 'Jun, 2023', 'Jul, 2023', 'Aug, 2023', 'Sep, 2023', 'Oct, 2023', 'Nov, 2023', 'Dec, 2023']]\n",
      "[['Jan, 2020'], ['Feb, 2020'], ['Mar, 2020'], ['Apr, 2020'], ['May, 2020'], ['Jun, 2020'], ['Jul, 2020'], ['Aug, 2020'], ['Sep, 2020'], ['Oct, 2020'], ['Nov, 2020'], ['Dec, 2020'], ['Jan, 2021'], ['Feb, 2021'], ['Mar, 2021'], ['Apr, 2021'], ['May, 2021'], ['Jun, 2021'], ['Jul, 2021'], ['Aug, 2021'], ['Sep, 2021'], ['Oct, 2021'], ['Nov, 2021'], ['Dec, 2021'], ['Jan, 2022'], ['Feb, 2022'], ['Mar, 2022'], ['Apr, 2022'], ['May, 2022'], ['Jun, 2022'], ['Jul, 2022'], ['Aug, 2022'], ['Sep, 2022'], ['Oct, 2022'], ['Nov, 2022'], ['Dec, 2022'], ['Jan, 2023'], ['Feb, 2023'], ['Mar, 2023'], ['Apr, 2023'], ['May, 2023'], ['Jun, 2023'], ['Jul, 2023'], ['Aug, 2023'], ['Sep, 2023'], ['Oct, 2023'], ['Nov, 2023'], ['Dec, 2023']]\n"
     ]
    }
   ],
   "source": [
    "months = [\"Jan\", \"Feb\", \"Mar\", \"Apr\", \"May\", \"Jun\", \"Jul\", \"Aug\", \"Sep\", \"Oct\", \"Nov\", \"Dec\"]\n",
    "years = range(2020, 2024)\n",
    "\n",
    "c = [[m + \", \" + str(y) for y in years for m in months]]\n",
    "print(c)\n",
    "\n",
    "# Note that this is also possible but different\n",
    "c = [[m + \", \" + str(y)] for y in years for m in months]\n",
    "print(c)"
   ]
  },
  {
   "attachments": {},
   "cell_type": "markdown",
   "metadata": {},
   "source": [
    "### Combination of elements using list comprehensions and tuples\n",
    "\n",
    "Create the combination of elements:\n",
    "$$ \n",
    "(x, y)  \\text{ where }  -1 <= x <= 5 \\text{ and } 0 <= y <= 1\n",
    "$$"
   ]
  },
  {
   "cell_type": "code",
   "execution_count": 24,
   "metadata": {},
   "outputs": [
    {
     "name": "stdout",
     "output_type": "stream",
     "text": [
      "[(-1, 0), (-1, 1), (0, 0), (0, 1), (1, 0), (1, 1), (2, 0), (2, 1), (3, 0), (3, 1), (4, 0), (4, 1), (5, 0), (5, 1)]\n"
     ]
    }
   ],
   "source": [
    "combos = [(x, y) for x in range(-1, 6) for y in range(0, 2)]\n",
    "print(combos)"
   ]
  },
  {
   "attachments": {},
   "cell_type": "markdown",
   "metadata": {},
   "source": [
    "## Section 8 &mdash; Generators\n",
    "\n",
    "Generators allow you to create iterables that are not materialized (i.e., they don't store the values physically, but rather, they're produced on demand)."
   ]
  },
  {
   "attachments": {},
   "cell_type": "markdown",
   "metadata": {},
   "source": [
    "### Infinite generator\n",
    "\n",
    "Create an iterable represented by a function `count()` that returns the integer numbers starting from 0. Print the first three elements. Did you get the results you were expecting to get?\n",
    "\n",
    "Use the same iterable in a `for` loop to print the elements until 10. Can you explain the results?"
   ]
  },
  {
   "cell_type": "code",
   "execution_count": 30,
   "metadata": {},
   "outputs": [
    {
     "name": "stdout",
     "output_type": "stream",
     "text": [
      "<generator object count at 0x7fa99a4a5a10>\n",
      "<generator object count at 0x7fa99a4a5a10>\n",
      "<generator object count at 0x7fa99a4a5a10>\n",
      "0\n",
      "1\n",
      "2\n",
      "3\n",
      "4\n",
      "5\n",
      "6\n",
      "7\n",
      "8\n",
      "9\n",
      "10\n"
     ]
    }
   ],
   "source": [
    "def count():\n",
    "    n = 0\n",
    "    while True:\n",
    "        yield n\n",
    "        n += 1\n",
    "\n",
    "# Printing the first three elems of the generator function\n",
    "print(count())\n",
    "print(count())\n",
    "print(count())\n",
    "\n",
    "# Using a for loop\n",
    "for n in count():\n",
    "    if n > 10:\n",
    "        break\n",
    "    print(n)"
   ]
  },
  {
   "attachments": {},
   "cell_type": "markdown",
   "metadata": {},
   "source": [
    "Generator functions are iterables, and therefore, cannot be materialized by invoking the function."
   ]
  },
  {
   "attachments": {},
   "cell_type": "markdown",
   "metadata": {},
   "source": [
    "### Generators and list comprehensions\n",
    "\n",
    "List comprehensions are a great way to materialize and collect values from generators.\n",
    "\n",
    "Using the previously defined `count()` function as inspiration, create a new `count(start, end)` generator function that produces the numbers from `start` to `end`. Then use a list comprehension to *collect* the values from the generator."
   ]
  },
  {
   "cell_type": "code",
   "execution_count": 28,
   "metadata": {},
   "outputs": [
    {
     "name": "stdout",
     "output_type": "stream",
     "text": [
      "[0, 1, 2, 3, 4, 5, 6, 7, 8, 9, 10]\n"
     ]
    }
   ],
   "source": [
    "def count(start, end):\n",
    "    for n in range(start, end + 1):\n",
    "        yield n\n",
    "\n",
    "nums = [n for n in count(0, 10)]\n",
    "print(nums)        "
   ]
  },
  {
   "attachments": {},
   "cell_type": "markdown",
   "metadata": {},
   "source": [
    "### Generator comprehensions\n",
    "\n",
    "A generator comprehension is a special type of syntax that lets you define generators in a much compact way.\n",
    "\n",
    "Use the generator comprehension syntax and the regular syntax to create a generator that produces the squares from zero to 9."
   ]
  },
  {
   "cell_type": "code",
   "execution_count": 31,
   "metadata": {},
   "outputs": [
    {
     "name": "stdout",
     "output_type": "stream",
     "text": [
      "[0, 1, 4, 9, 16, 25, 36, 49, 64, 81]\n",
      "[0, 1, 4, 9, 16, 25, 36, 49, 64, 81]\n"
     ]
    }
   ],
   "source": [
    "# func syntax for generators\n",
    "def gen_squares():\n",
    "    for n in range(0, 10):\n",
    "        yield n * n\n",
    "\n",
    "some_squares = [s for s in gen_squares()]\n",
    "print(some_squares)\n",
    "\n",
    "# compact way\n",
    "squares = (x * x for x in range(0, 10))\n",
    "some_squares = [s for s in gen_squares()]\n",
    "print(some_squares)\n"
   ]
  },
  {
   "attachments": {},
   "cell_type": "markdown",
   "metadata": {},
   "source": [
    "## Section 9 &mdash; The *zip* operation\n",
    "\n",
    "The `zip()` built-in function lets you combine two iterables into a new one.\n",
    "\n",
    "| NOTE: |\n",
    "| :---- |\n",
    "| By itself, invoking `zip()` does not materialize the resulting iterable. If you need to materialize the results you will need to collect invoking a function such as `list()`, or similar. |"
   ]
  },
  {
   "attachments": {},
   "cell_type": "markdown",
   "metadata": {},
   "source": [
    "### Hello, zip!\n",
    "\n",
    "Use the `zip` function to combine the list of numbers from 1 thru 3 and the list of characters 'a', 'b', and 'c'."
   ]
  },
  {
   "cell_type": "code",
   "execution_count": 32,
   "metadata": {},
   "outputs": [
    {
     "name": "stdout",
     "output_type": "stream",
     "text": [
      "<zip object at 0x7fa99a4e3600>\n",
      "[(1, 'a'), (2, 'b'), (3, 'c')]\n"
     ]
    }
   ],
   "source": [
    "zipped = zip(range(1, 4), ['a', 'b', 'c'])\n",
    "\n",
    "# The zip operation does not materialize the resulting iterable\n",
    "print(zipped)\n",
    "\n",
    "# But you can materialize it invoking list() or using list comprehensions\n",
    "print(list(zipped))"
   ]
  },
  {
   "attachments": {},
   "cell_type": "markdown",
   "metadata": {},
   "source": [
    "## Section 10 &mdash; The `*` (star or asterisk) operator\n",
    "\n",
    "The `*` operator (aka star or asterisk operator) can mean different, but interrelated things in Python:\n",
    "\n",
    "+ In a function declaration, it allows a variable number of arguments to be passed to the function in a single parameter placholder. That is, it lets you implement variadic functions.\n",
    "\n",
    "+ It can be used to convert a list into an object that can be fed to a variadic function."
   ]
  },
  {
   "attachments": {},
   "cell_type": "markdown",
   "metadata": {},
   "source": [
    "### Hello, `*`\n",
    "\n",
    "Create a function tht adds a variable number of arguments under a single parameter name. Then declare a list of the numbers from 0 to 10 and pass that list to the function."
   ]
  },
  {
   "cell_type": "code",
   "execution_count": 3,
   "metadata": {},
   "outputs": [
    {
     "name": "stdout",
     "output_type": "stream",
     "text": [
      "6\n",
      "55\n"
     ]
    }
   ],
   "source": [
    "# add is a variadic function\n",
    "def add(*nums):\n",
    "    total = 0\n",
    "    for n in nums:\n",
    "        total += n\n",
    "    return total\n",
    "\n",
    "# You can call it as a normal function\n",
    "print(add(1, 2, 3))\n",
    "\n",
    "# Creating a list and feeding it to the function\n",
    "nums = [n for n in range(0, 11)]\n",
    "# print(add(nums)) # panics! Unsupported operand types: expects ints but finds list\n",
    "print(add(*nums))"
   ]
  },
  {
   "attachments": {},
   "cell_type": "markdown",
   "metadata": {},
   "source": [
    "## Section 11 &mdash; Exceptions\n",
    "\n",
    "Python provides exception handling with the *try-except* construct:\n",
    "\n",
    "```python\n",
    "try:\n",
    "  # block that can throw\n",
    "except Exception as ex:\n",
    "  # handle exception\n",
    "```\n",
    "\n",
    "You can also optionally add a `finally` clause to execute some code independently of whether an exception was raised or not:\n",
    "\n",
    "```python\n",
    "try:\n",
    "  # code for the happy path\n",
    "except Exception as ex:\n",
    "  # code for the sad path\n",
    "finally:\n",
    "  # code to execute after happy/exception path\n",
    "```"
   ]
  },
  {
   "attachments": {},
   "cell_type": "markdown",
   "metadata": {},
   "source": [
    "### Hello, exceptions!\n",
    "\n",
    "Write a try-except block to capture the exception that is thrown when you invoke the function `add(*nums)` from the previous exercise with the list of numbers."
   ]
  },
  {
   "cell_type": "code",
   "execution_count": 4,
   "metadata": {},
   "outputs": [
    {
     "name": "stdout",
     "output_type": "stream",
     "text": [
      "add failed: unsupported operand type(s) for +=: 'int' and 'list'\n"
     ]
    }
   ],
   "source": [
    "nums = [n for n in range(0, 10)]\n",
    "try:\n",
    "    add(nums)\n",
    "except Exception as err:\n",
    "    print(\"add failed:\", err)"
   ]
  },
  {
   "attachments": {},
   "cell_type": "markdown",
   "metadata": {},
   "source": [
    "## Section 12 &mdash; String formatting/templating\n",
    "\n",
    "Python provides several ways to format strings, including templatized strings."
   ]
  },
  {
   "attachments": {},
   "cell_type": "markdown",
   "metadata": {},
   "source": [
    "### Hello, old-school formatting\n",
    "\n",
    "Old-school formatting in Python was done using format specifiers such the ones used in C and Go (`%s` for strings, `%d` for integers) and the `%` operator.\n",
    "\n",
    "Use this old-school formatting to create a function `birthday(name, age)` that returns a string greeting that interpolates the received parameters."
   ]
  },
  {
   "cell_type": "code",
   "execution_count": 6,
   "metadata": {},
   "outputs": [
    {
     "data": {
      "text/plain": [
       "'Hello to Adri who turns 15 tomorrow'"
      ]
     },
     "execution_count": 6,
     "metadata": {},
     "output_type": "execute_result"
    }
   ],
   "source": [
    "def birthday(name, age):\n",
    "    return \"Hello to %s who turns %d tomorrow\" % (name, age)\n",
    "\n",
    "birthday(\"Adri\", 15)"
   ]
  },
  {
   "attachments": {},
   "cell_type": "markdown",
   "metadata": {},
   "source": [
    "### The `format()` function\n",
    "\n",
    "Python also provides the `format()` function for string formatting purposes.\n",
    "\n",
    "Create a program that uses `format` to:\n",
    "\n",
    "+ print the message \"My favorite vector is (2, 5)\", with `(2, 5)` being a variable.\n",
    "+ interpolate values in the greeting message \"Hello to {0}, who is turning {2} tomorrow, and whose favorite number is {1}\"."
   ]
  },
  {
   "cell_type": "code",
   "execution_count": 8,
   "metadata": {},
   "outputs": [
    {
     "name": "stdout",
     "output_type": "stream",
     "text": [
      "My favorite vector is (2, 5)\n",
      "Hello to Adri, who is turning 15 tomorrow, and whose favorite number is 5\n"
     ]
    }
   ],
   "source": [
    "v = (2, 5)\n",
    "print(\"My favorite vector is {0}\".format(v))\n",
    "\n",
    "print(\"Hello to {0}, who is turning {2} tomorrow, and whose favorite number is {1}\".format(\"Adri\", 5, 15))"
   ]
  },
  {
   "attachments": {},
   "cell_type": "markdown",
   "metadata": {},
   "source": [
    "### Using `f\"...\"` for templatized strings\n",
    "\n",
    "Modern versions of Python also supports the use of templatized strings using the `f\"...{var}..\"` syntax.\n",
    "\n",
    "Repeat the previous exercise using templatized strings."
   ]
  },
  {
   "cell_type": "code",
   "execution_count": 9,
   "metadata": {},
   "outputs": [
    {
     "name": "stdout",
     "output_type": "stream",
     "text": [
      "My favorite vector is (2, 5)\n",
      "Hello to Adri, who is turning 15 tomorrow, and whose favorite number is 5\n"
     ]
    }
   ],
   "source": [
    "v = (2, 5)\n",
    "print(f\"My favorite vector is {v}\")\n",
    "\n",
    "class Person:\n",
    "  def __init__(self, name, age, favoriteNum):\n",
    "    self.name = name\n",
    "    self.age = age\n",
    "    self.favoriteNum = favoriteNum\n",
    "\n",
    "adri = Person(\"Adri\", 15, 5)\n",
    "print(f\"Hello to {adri.name}, who is turning {adri.age} tomorrow, and whose favorite number is {adri.favoriteNum}\")"
   ]
  },
  {
   "attachments": {},
   "cell_type": "markdown",
   "metadata": {},
   "source": [
    "### Using `b\"hello\"` for getting the string bytes\n",
    "\n",
    "Python lets you use the syntax `b\"...string...\"` to get the bytes out of a string.\n",
    "\n",
    "Use this syntax to get the bytes out of the string \" ABC Hello\""
   ]
  },
  {
   "cell_type": "code",
   "execution_count": 14,
   "metadata": {},
   "outputs": [
    {
     "name": "stdout",
     "output_type": "stream",
     "text": [
      "b' ABC Hello'\n",
      "32\n",
      "65\n",
      "66\n",
      "67\n",
      "32\n",
      "72\n",
      "101\n",
      "108\n",
      "108\n",
      "111\n"
     ]
    }
   ],
   "source": [
    "str_bytes = b\" ABC Hello\"\n",
    "\n",
    "print(str_bytes)\n",
    "\n",
    "for b in str_bytes:\n",
    "    print(b)"
   ]
  },
  {
   "attachments": {},
   "cell_type": "markdown",
   "metadata": {},
   "source": [
    "## Section 13 &mdash; Functions\n",
    "\n",
    "This section deals with more concepts on functions. For the most basic examples see [Section 1 &mdash; Hello, Python!](#section-1--hello-python)"
   ]
  },
  {
   "attachments": {},
   "cell_type": "markdown",
   "metadata": {},
   "source": [
    "### Named Parameters\n",
    "\n",
    "In Python, parameters (placeholders defined in the function definition), and the arguments (the actual values passed when invoking the functions) are both named.\n",
    "\n",
    "Create a function `birthday_greet(name, age)` and invoke the function using both named and unnamed (i.e., positional) arguments."
   ]
  },
  {
   "cell_type": "code",
   "execution_count": 15,
   "metadata": {},
   "outputs": [
    {
     "name": "stdout",
     "output_type": "stream",
     "text": [
      "Hello to Adri who turns 15 tomorrow!\n",
      "Hello to Adri who turns 15 tomorrow!\n"
     ]
    }
   ],
   "source": [
    "def birthday_greet(name, age):\n",
    "    print(f\"Hello to {name} who turns {age} tomorrow!\")\n",
    "\n",
    "birthday_greet(\"Adri\", 15)          # positional\n",
    "birthday_greet(age=15, name=\"Adri\") # named\n",
    "\n"
   ]
  },
  {
   "attachments": {},
   "cell_type": "markdown",
   "metadata": {},
   "source": [
    "### The `**` operator\n",
    "\n",
    "The `**` operator in Python (as in `**kwargs` which stands for *keyworded-args*) is used to pass a keyworded, variable-length argument list to a function.\n",
    "\n",
    "As with the `*` operator it behaves differently in the function declaration than it does when invoking the function in the client code, but it follows the same pattern:\n",
    "\n",
    "+ When defining a function, it identifies a parameter as a variable-length, key-value argument.\n",
    "\n",
    "+ When invoking a function, it lets you pass a dictionary object to a function requiring explicit key-value arguments.\n",
    "\n",
    "Create a dictionary object representing the `name` and `age` of a person. Then use the `**` operator to pass that object to the `birthday_greet` function defined in the previous exercise.\n",
    "\n",
    "Then, create a new version of the function that declares a single parameter `**kwargs` and produces the same result. Invoke it from client code."
   ]
  },
  {
   "cell_type": "code",
   "execution_count": 18,
   "metadata": {},
   "outputs": [
    {
     "name": "stdout",
     "output_type": "stream",
     "text": [
      "Hello to Adri who turns 15 tomorrow\n",
      "Hello to Adri who turns 15 tomorrow!\n"
     ]
    }
   ],
   "source": [
    "person = {\"name\": \"Adri\", \"age\": 15}\n",
    "\n",
    "# function received a key-worded, variable length argument\n",
    "def print_birthday_greet(**kwargs):\n",
    "    print(f'Hello to {kwargs[\"name\"]} who turns {kwargs[\"age\"]} tomorrow!')\n",
    "\n",
    "# invocation requires ** to inject a dictionary into kwargs\n",
    "print_birthday_greet(**person)\n",
    "\n",
    "# note that ** is required for non-kwargs too\n",
    "def print_birthday_greet(name, age):\n",
    "        print(f\"Hello to {name} who turns {age} tomorrow!\")\n",
    "print_birthday_greet(**person)\n"
   ]
  },
  {
   "attachments": {},
   "cell_type": "markdown",
   "metadata": {},
   "source": [
    "### Default argument values\n",
    "\n",
    "Python supports default argument values. In conjunction with named arguments, it makes it very easy to have Python functions with a huge number of arguments, many of them having sensible default values that are not required when invoking the function.\n",
    "\n",
    "Create a third version of `birthday_greet` in which `age` is an optional parameter, and the default name is `\"stranger\"`. Adapt the function implementation as required.\n",
    "\n",
    "| HINT: |\n",
    "| :---- |\n",
    "| Use `param=None` to indicate an optional parameter. |"
   ]
  },
  {
   "cell_type": "code",
   "execution_count": 25,
   "metadata": {},
   "outputs": [
    {
     "name": "stdout",
     "output_type": "stream",
     "text": [
      "Hello to stranger!\n",
      "Hello to stranger who will turn 15 tomorrow!\n",
      "Hello to Adri!\n",
      "Hello to Adri who will turn 15 tomorrow!\n"
     ]
    }
   ],
   "source": [
    "def print_birthday_greet(name=\"stranger\", age=None):\n",
    "    str = f\"Hello to {name}\"\n",
    "    if age:\n",
    "        str += f\" who will turn {age} tomorrow\"\n",
    "    str += \"!\"\n",
    "    print(str)\n",
    "\n",
    "print_birthday_greet()\n",
    "print_birthday_greet(age=15)\n",
    "print_birthday_greet(name=\"Adri\")\n",
    "print_birthday_greet(name=\"Adri\", age=15)"
   ]
  },
  {
   "attachments": {},
   "cell_type": "markdown",
   "metadata": {},
   "source": [
    "### Default argument values and `**kwargs`\n",
    "\n",
    "Create an implementation of `birthday_greet` using `**kwargs` where the arguments have the same default values as in the previous exercise.\n",
    "\n",
    "| HINT: |\n",
    "| :---- |\n",
    "| You can use `\"key\" in obj` to check if a particular key is available in a dictionary. |"
   ]
  },
  {
   "cell_type": "code",
   "execution_count": 37,
   "metadata": {},
   "outputs": [
    {
     "name": "stdout",
     "output_type": "stream",
     "text": [
      "Hello stranger!\n",
      "Hello stranger who turns 15 tomorrow!\n",
      "Hello Adri!\n",
      "Hello Adri who turns 15 tomorrow!\n"
     ]
    }
   ],
   "source": [
    "def print_birthday_greet(**kwargs):\n",
    "    str = \"Hello \"\n",
    "    if \"name\" in kwargs:\n",
    "        str += kwargs[\"name\"]\n",
    "    else:\n",
    "        str += \"stranger\"\n",
    "    \n",
    "    if \"age\" in kwargs and kwargs[\"age\"]:\n",
    "        str += f' who turns {kwargs[\"age\"]} tomorrow'\n",
    "\n",
    "    str += \"!\"\n",
    "    print(str)\n",
    "\n",
    "print_birthday_greet()\n",
    "print_birthday_greet(age=15)\n",
    "print_birthday_greet(name=\"Adri\")\n",
    "print_birthday_greet(name=\"Adri\", age=15)    "
   ]
  },
  {
   "attachments": {},
   "cell_type": "markdown",
   "metadata": {},
   "source": [
    "### Hello unnamed, inline functions aka lambdas!\n",
    "\n",
    "Python supports inline functions to be passed as parameters to higher-order functions, although its syntax is not as succinct as in other programming languages.\n",
    "\n",
    "The syntax is:\n",
    "\n",
    "```python\n",
    "lambda arg1, arg2, ..., argN:\n",
    "  impl\n",
    "```\n",
    "\n",
    "Create a lambda function that computes the result of adding three numbers. Use that lambda function as an argument to a compute function `compute(n1, n2, n3, op)`."
   ]
  },
  {
   "cell_type": "code",
   "execution_count": 38,
   "metadata": {},
   "outputs": [
    {
     "data": {
      "text/plain": [
       "6"
      ]
     },
     "execution_count": 38,
     "metadata": {},
     "output_type": "execute_result"
    }
   ],
   "source": [
    "add_nums = lambda n1, n2, n3 : n1 + n2 + n3\n",
    "\n",
    "def compute(n1, n2, n3, op):\n",
    "    return op(n1, n2, n3)\n",
    "\n",
    "compute(1, 2, 3, add_nums)"
   ]
  },
  {
   "attachments": {},
   "cell_type": "markdown",
   "metadata": {},
   "source": [
    "### Immediately applying parameters to a lambda\n",
    "\n",
    "Create a lambda function that returns the next integer to the one given and invoke it immediately."
   ]
  },
  {
   "cell_type": "code",
   "execution_count": 39,
   "metadata": {},
   "outputs": [
    {
     "data": {
      "text/plain": [
       "5"
      ]
     },
     "execution_count": 39,
     "metadata": {},
     "output_type": "execute_result"
    }
   ],
   "source": [
    "(lambda x : x + 1)(4)"
   ]
  },
  {
   "attachments": {},
   "cell_type": "markdown",
   "metadata": {},
   "source": [
    "### The `map`, `filter`, and `reduce` higher-order functions\n",
    "\n",
    "`map` and `filter` functions are available in Python's core package. `reduce` is available in the `functools` standard library.\n",
    "\n",
    "1. Use `map` to create the list of squares given a list of integers.\n",
    "2. Use `filter` to filter odd numbers from a given list of integers.\n",
    "3. Use `reduce` to calculate the sum of a given list of numbers."
   ]
  },
  {
   "cell_type": "code",
   "execution_count": 49,
   "metadata": {},
   "outputs": [
    {
     "name": "stdout",
     "output_type": "stream",
     "text": [
      "<map object at 0x7fde6157db70>\n",
      "[0, 1, 4, 9, 16, 25, 36, 49, 64, 81, 100]\n",
      "[0, 2, 4, 6, 8, 10]\n",
      "55\n"
     ]
    }
   ],
   "source": [
    "# As with zip, `map` do not materialize the results\n",
    "print(map(lambda n : n * n, range(0, 11)))\n",
    "\n",
    "# You need to force materialization with list\n",
    "print(list(map(lambda n : n * n, range(0, 11))))\n",
    "\n",
    "print(list(filter(lambda n : n % 2 == 0, range(0, 11))))\n",
    "\n",
    "from functools import reduce\n",
    "\n",
    "print(reduce(lambda acc, n : acc + n, range(0, 11), 0))\n"
   ]
  },
  {
   "attachments": {},
   "cell_type": "markdown",
   "metadata": {},
   "source": [
    "### Hello, closures\n",
    "\n",
    "Using closures, implement a function `make_power_fn(power)` that returns a function `fn(base)` that produces `base ** power` when invoked."
   ]
  },
  {
   "cell_type": "code",
   "execution_count": 51,
   "metadata": {},
   "outputs": [
    {
     "name": "stdout",
     "output_type": "stream",
     "text": [
      "25\n",
      "[0, 1, 8, 27, 64, 125, 216, 343, 512, 729, 1000]\n"
     ]
    }
   ],
   "source": [
    "def make_power_fn(power):\n",
    "    def power_fn(base):\n",
    "        return base ** power\n",
    "    return power_fn\n",
    "\n",
    "square_fn = make_power_fn(2)\n",
    "print(square_fn(5))\n",
    "\n",
    "cube_fn = make_power_fn(3)\n",
    "cubes = list(map(cube_fn, range(0, 11)))\n",
    "print(cubes)"
   ]
  },
  {
   "attachments": {},
   "cell_type": "markdown",
   "metadata": {},
   "source": [
    "### A function with a weird signature\n",
    "\n",
    "Given the function signature:\n",
    "\n",
    "```python\n",
    "def weird(param1, param2, *, prefix=None, **kwargs)\n",
    "```\n",
    "\n",
    "Explore the parameter list of the function.\n",
    "\n",
    "| NOTE: |\n",
    "| :---- |\n",
    "| See the explanation below for `*` in the function signature. |"
   ]
  },
  {
   "cell_type": "code",
   "execution_count": 63,
   "metadata": {},
   "outputs": [
    {
     "name": "stdout",
     "output_type": "stream",
     "text": [
      "== invocation results\n",
      "param1: p1\n",
      "param2: p2\n",
      "prefix: None\n",
      "kwargs: {}\n",
      "\n",
      "== invocation results\n",
      "param1: p1\n",
      "param2: p2\n",
      "prefix: None\n",
      "kwargs: {}\n",
      "\n",
      "== invocation results\n",
      "param1: p1\n",
      "param2: p2\n",
      "prefix: None\n",
      "kwargs: {'some': 'some', 'other': 'other', 'values': 'params'}\n",
      "\n",
      "== invocation results\n",
      "param1: p1\n",
      "param2: p2\n",
      "prefix: yay\n",
      "kwargs: {'some': 'some', 'other': 'other', 'values': 'params'}\n",
      "\n",
      "== invocation results\n",
      "param1: p1\n",
      "param2: p2\n",
      "prefix: other\n",
      "kwargs: {}\n",
      "\n"
     ]
    }
   ],
   "source": [
    "\n",
    "def weird(param1, param2, *, prefix=None, **kwargs):\n",
    "    print(\"== invocation results\")\n",
    "    print(\"param1:\", param1)\n",
    "    print(\"param2:\", param2)\n",
    "    print(\"prefix:\", prefix)\n",
    "    print(\"kwargs:\", kwargs)\n",
    "    print()\n",
    "\n",
    "# param1 and param2 are regular args, non-optional\n",
    "# weird() # this fails because param1 and param2 not passed\n",
    "# weird(\"p1\") # this fails because param2 not passed\n",
    "# weird(param2=\"p2\") # this fails because param1 not passed\n",
    "\n",
    "\n",
    "weird(\"p1\", \"p2\")\n",
    "weird(param2=\"p2\", param1=\"p1\")\n",
    "\n",
    "# the '*' prevents other positional args to be sent\n",
    "# weird(\"p1\", \"p2\", \"other\",) # this fails\n",
    "weird(\"p1\", \"p2\", some=\"some\", other=\"other\", values=\"params\") # this fails\n",
    "weird(\"p1\", \"p2\", prefix=\"yay\", some=\"some\", other=\"other\", values=\"params\") # this fails\n",
    "\n",
    "# For example\n",
    "def weird2(param1, param2, prefix=None, **kwargs):\n",
    "    print(\"== invocation results\")\n",
    "    print(\"param1:\", param1)\n",
    "    print(\"param2:\", param2)\n",
    "    print(\"prefix:\", prefix)\n",
    "    print(\"kwargs:\", kwargs)\n",
    "    print()\n",
    "\n",
    "weird2(\"p1\", \"p2\", \"other\") # this works"
   ]
  },
  {
   "attachments": {},
   "cell_type": "markdown",
   "metadata": {},
   "source": [
    "Thus, `*` in the function signature prevents other positional arguments to be passed."
   ]
  },
  {
   "attachments": {},
   "cell_type": "markdown",
   "metadata": {},
   "source": [
    "## Section 14 &mdash; OOP\n",
    "\n",
    "Python supports object-oriented programming with additional keywords and syntax."
   ]
  },
  {
   "attachments": {},
   "cell_type": "markdown",
   "metadata": {},
   "source": [
    "### Hello, OOP: A `Rectangle` class\n",
    "\n",
    "Create a `Rectangle` class with the following capabilities:\n",
    "\n",
    "+ A `Rectangle` object can be instantiated by passing its width and height dimensions. (HINT: Python constructors are named `def __init__(self, param1, param2...)`)\n",
    "\n",
    "+ A `Rectangle` must feature the following instance methods:\n",
    "  + `scale`: which returns a new `Rectangle` with its dimensions scaled by the given factor\n",
    "  + `area`: which returns the area of the rectangle\n",
    "  + `__eq__`: which checks for equality\n",
    "  + `__repr__`: which provides the string representation of a rectangle (used in `print`)"
   ]
  },
  {
   "cell_type": "code",
   "execution_count": 7,
   "metadata": {},
   "outputs": [
    {
     "name": "stdout",
     "output_type": "stream",
     "text": [
      "Rectangle(w: 2, h: 3)\n",
      "Rectangle(w: 4, h: 6)\n",
      "6\n",
      "True\n",
      "False\n"
     ]
    }
   ],
   "source": [
    "class Rectangle:\n",
    "    def __init__(self, width, height):\n",
    "        self.width = width\n",
    "        self.height = height\n",
    "    \n",
    "    def scale(self, factor):\n",
    "        return Rectangle(self.width * factor, self.height * factor)\n",
    "\n",
    "    def area(self):\n",
    "        return self.width * self.height\n",
    "    \n",
    "    def __eq__(self, other):\n",
    "        return self.width == other.width and self.height == other.height\n",
    "\n",
    "    def __repr__(self):\n",
    "        return f\"Rectangle(w: {self.width}, h: {self.height})\"\n",
    "    \n",
    "\n",
    "r = Rectangle(2, 3)\n",
    "print(r)\n",
    "\n",
    "print(r.scale(2))\n",
    "print(r.area())\n",
    "\n",
    "r2 = Rectangle(2, 3)\n",
    "print(r == r2)\n",
    "print(r == r2.scale(2))\n",
    "\n"
   ]
  },
  {
   "attachments": {},
   "cell_type": "markdown",
   "metadata": {},
   "source": [
    "### Operator overloading\n",
    "\n",
    "Python supports operator overloading using special method names such as:\n",
    "+ `__mul__`: when the class instance comes on the left-hand side\n",
    "+ `__rmul`: when the class instance comes on the right-hand side\n",
    "\n",
    "Enhance the `Rectangle` class to support things such as:\n",
    "\n",
    "+ `Rectangle(2, 3) * 2`, which requires implementing `__mul__`\n",
    "+ `2 * Rectangle(2, 3)`, which requires implementing `__rmul__`"
   ]
  },
  {
   "cell_type": "code",
   "execution_count": 8,
   "metadata": {},
   "outputs": [
    {
     "name": "stdout",
     "output_type": "stream",
     "text": [
      "Rectangle(w: 4, h: 6)\n",
      "Rectangle(w: 6, h: 9)\n"
     ]
    }
   ],
   "source": [
    "class Rectangle:\n",
    "    def __init__(self, width, height):\n",
    "        self.width = width\n",
    "        self.height = height\n",
    "    \n",
    "    def scale(self, factor):\n",
    "        return Rectangle(self.width * factor, self.height * factor)\n",
    "\n",
    "    def area(self):\n",
    "        return self.width * self.height\n",
    "    \n",
    "    def __mul__(self, factor):\n",
    "        return self.scale(factor)\n",
    "\n",
    "    def __rmul__(self, factor):\n",
    "        return self.scale(factor)\n",
    "\n",
    "    def __eq__(self, other):\n",
    "        return self.width == other.width and self.height == other.height\n",
    "\n",
    "    def __repr__(self):\n",
    "        return f\"Rectangle(w: {self.width}, h: {self.height})\"\n",
    "\n",
    "\n",
    "r = Rectangle(2, 3)\n",
    "print(2 * r)\n",
    "print(r * 3)"
   ]
  },
  {
   "attachments": {},
   "cell_type": "markdown",
   "metadata": {},
   "source": [
    "### Class/Static methods\n",
    "\n",
    "Pyton support class/static methods through the `@classmethod` decorator. Also, these methods should be declared as:\n",
    "\n",
    "```python\n",
    "@classmethod\n",
    "  def method(cls, <param1>, ...):\n",
    "      ...\n",
    "```\n",
    "\n",
    "Enhance the `Rectangle` class by defining a method `square(side)` which returns rectangle whose dimensiones are the given side.\n"
   ]
  },
  {
   "cell_type": "code",
   "execution_count": 1,
   "metadata": {},
   "outputs": [
    {
     "name": "stdout",
     "output_type": "stream",
     "text": [
      "Rectangle(w: 2, h: 2)\n"
     ]
    }
   ],
   "source": [
    "class Rectangle:\n",
    "    def __init__(self, width, height):\n",
    "        self.width = width\n",
    "        self.height = height\n",
    "    \n",
    "    def scale(self, factor):\n",
    "        return Rectangle(self.width * factor, self.height * factor)\n",
    "\n",
    "    def area(self):\n",
    "        return self.width * self.height\n",
    "    \n",
    "    def __mul__(self, factor):\n",
    "        return self.scale(factor)\n",
    "\n",
    "    def __rmul__(self, factor):\n",
    "        return self.scale(factor)\n",
    "\n",
    "    def __eq__(self, other):\n",
    "        return self.width == other.width and self.height == other.height\n",
    "\n",
    "    def __repr__(self):\n",
    "        return f\"Rectangle(w: {self.width}, h: {self.height})\"\n",
    "    \n",
    "    @classmethod\n",
    "    def square(cls, side):\n",
    "        return Rectangle(side, side)\n",
    "    \n",
    "\n",
    "sq = Rectangle.square(2)\n",
    "print(sq)"
   ]
  },
  {
   "attachments": {},
   "cell_type": "markdown",
   "metadata": {},
   "source": [
    "### The `__dict__` property\n",
    "\n",
    "The `__dict__` property, when applied to a class instance returns the instance fields; when applied to a class returns the class methods.\n",
    "\n",
    "Use this property on the `Rectangle` class and in an instance of the class."
   ]
  },
  {
   "cell_type": "code",
   "execution_count": 3,
   "metadata": {},
   "outputs": [
    {
     "name": "stdout",
     "output_type": "stream",
     "text": [
      "{'__module__': '__main__', '__init__': <function Rectangle.__init__ at 0x7fb35bc92dd0>, 'scale': <function Rectangle.scale at 0x7fb35bc92e60>, 'area': <function Rectangle.area at 0x7fb35bc92ef0>, '__mul__': <function Rectangle.__mul__ at 0x7fb35bc92f80>, '__rmul__': <function Rectangle.__rmul__ at 0x7fb35bc93010>, '__eq__': <function Rectangle.__eq__ at 0x7fb35bc930a0>, '__repr__': <function Rectangle.__repr__ at 0x7fb35bc93130>, 'square': <classmethod(<function Rectangle.square at 0x7fb35bc931c0>)>, '__dict__': <attribute '__dict__' of 'Rectangle' objects>, '__weakref__': <attribute '__weakref__' of 'Rectangle' objects>, '__doc__': None, '__hash__': None}\n",
      "{'width': 2, 'height': 3}\n"
     ]
    }
   ],
   "source": [
    "class Rectangle:\n",
    "    def __init__(self, width, height):\n",
    "        self.width = width\n",
    "        self.height = height\n",
    "    \n",
    "    def scale(self, factor):\n",
    "        return Rectangle(self.width * factor, self.height * factor)\n",
    "\n",
    "    def area(self):\n",
    "        return self.width * self.height\n",
    "    \n",
    "    def __mul__(self, factor):\n",
    "        return self.scale(factor)\n",
    "\n",
    "    def __rmul__(self, factor):\n",
    "        return self.scale(factor)\n",
    "\n",
    "    def __eq__(self, other):\n",
    "        return self.width == other.width and self.height == other.height\n",
    "\n",
    "    def __repr__(self):\n",
    "        return f\"Rectangle(w: {self.width}, h: {self.height})\"\n",
    "    \n",
    "    @classmethod\n",
    "    def square(cls, side):\n",
    "        return Rectangle(side, side)\n",
    "    \n",
    "print(Rectangle.__dict__)\n",
    "\n",
    "r = Rectangle(2, 3) # shows all the methods in the Rectangle class\n",
    "print(r.__dict__)   # shows the class fields (width and height)"
   ]
  },
  {
   "attachments": {},
   "cell_type": "markdown",
   "metadata": {},
   "source": [
    "### Inheritance\n",
    "\n",
    "Python syntax for inheritance is:\n",
    "\n",
    "```python\n",
    "ClassName(superClassName):\n",
    "  ...\n",
    "```\n",
    "\n",
    "Create a `Square` class that inherits from `Rectangle`.\n",
    "\n",
    "| HINT: |\n",
    "| :---- |\n",
    "| You will need to use `super().__init__(...)` to invoke the constructor of the superclass. |"
   ]
  },
  {
   "cell_type": "code",
   "execution_count": 4,
   "metadata": {},
   "outputs": [
    {
     "name": "stdout",
     "output_type": "stream",
     "text": [
      "Square(s: 1)\n",
      "1\n",
      "Square(s: 2)\n"
     ]
    }
   ],
   "source": [
    "# Rectangle is the super-class for Square\n",
    "class Rectangle:\n",
    "    def __init__(self, width, height):\n",
    "        self.width = width\n",
    "        self.height = height\n",
    "    \n",
    "    def scale(self, factor):\n",
    "        return Rectangle(self.width * factor, self.height * factor)\n",
    "\n",
    "    def area(self):\n",
    "        return self.width * self.height\n",
    "    \n",
    "    def __mul__(self, factor):\n",
    "        return self.scale(factor)\n",
    "\n",
    "    def __rmul__(self, factor):\n",
    "        return self.scale(factor)\n",
    "\n",
    "    def __eq__(self, other):\n",
    "        return self.width == other.width and self.height == other.height\n",
    "\n",
    "    def __repr__(self):\n",
    "        return f\"Rectangle(w: {self.width}, h: {self.height})\"\n",
    "    \n",
    "class Square(Rectangle):\n",
    "    def __init__(self, side):\n",
    "        super().__init__(side, side)\n",
    "\n",
    "    def scale(self, factor):\n",
    "        return Square(self.width * factor)\n",
    "    \n",
    "    def __repr__(self):\n",
    "        return f\"Square(s: {self.width})\"\n",
    "\n",
    "sq = Square(1)\n",
    "print(sq)\n",
    "print(sq.area())\n",
    "print(sq.scale(2))\n",
    "    "
   ]
  },
  {
   "attachments": {},
   "cell_type": "markdown",
   "metadata": {},
   "source": [
    "### Abstract classes\n",
    "\n",
    "Python supports abstract classes by inheriting from a special class named `ABC`.\n",
    "\n",
    "Create a simple class hierarchy following thse guidelines:\n",
    "+ Create an abstract base class `Shape`. (HINT: you will need to `import ABC from abc`)\n",
    "\n",
    "    + Create an empty implementation for the methods `area` and `scale`. This will set the interface. (HINT: to create empty implementations you can either use `pass` or `...`. Also, use the `@abstractmethod` decorator to tag the method as abstract)\n",
    "\n",
    "    + Create an implementation of `__eq__` that relies on `__dict__` to check for equality, based on the underlying properties.\n",
    "\n",
    "    + Create an implementation of `__mul__` and `__rmul__` that rely on `scale()`.\n",
    "\n",
    "+ Create a concrete class `Rectangle` respecting the behavior implemented in the previous exercises.\n",
    "\n",
    "+ Create a concrete class `Square` respecting the behavior implemented in the previous exercises.\n",
    "\n",
    "+ Create a concrete class `Circle`."
   ]
  },
  {
   "cell_type": "code",
   "execution_count": 9,
   "metadata": {},
   "outputs": [
    {
     "name": "stdout",
     "output_type": "stream",
     "text": [
      "Rectangle(w: 2, h: 3)\n",
      "6\n",
      "Rectangle(w: 4, h: 6)\n",
      "False\n",
      "True\n",
      "Square(s: 1)\n",
      "1\n",
      "Square(s: 2)\n",
      "False\n",
      "True\n",
      "True\n",
      "Circle(r: 1)\n",
      "3.141592653589793\n",
      "Circle(r: 2)\n",
      "False\n",
      "True\n",
      "False\n",
      "False\n"
     ]
    }
   ],
   "source": [
    "from abc import ABC, abstractmethod\n",
    "from math import pi\n",
    "\n",
    "class Shape(ABC):\n",
    "    \n",
    "    @abstractmethod\n",
    "    def area():\n",
    "        ...         # same as pass\n",
    "    \n",
    "    @abstractmethod\n",
    "    def scale(self, factor):\n",
    "        ...\n",
    "\n",
    "    def __eq__(self, other):\n",
    "        return self.__dict__ == other.__dict__\n",
    "    \n",
    "    def __mul__(self, factor):\n",
    "        return self.scale(factor)\n",
    "    \n",
    "    def __rmul__(self, factor):\n",
    "        return self.scale(factor)\n",
    "    \n",
    "class Rectangle(Shape):\n",
    "    def __init__(self, width, height):\n",
    "        self.width = width\n",
    "        self.height = height\n",
    "\n",
    "    def area(self):\n",
    "        return self.width * self.height\n",
    "    \n",
    "    def scale(self, factor):\n",
    "        return Rectangle(self.width * factor, self.height * factor)\n",
    "    \n",
    "    def __repr__(self):\n",
    "        return f\"Rectangle(w: {self.width}, h: {self.height})\"\n",
    "    \n",
    "class Square(Rectangle):\n",
    "    def __init__(self, side):\n",
    "        super().__init__(side, side)\n",
    "\n",
    "    def scale(self, factor):\n",
    "        return Square(self.width * factor)\n",
    "    \n",
    "    def __repr__(self):\n",
    "        return f\"Square(s: {self.width})\"\n",
    "\n",
    "class Circle(Shape):\n",
    "    def __init__(self, radius):\n",
    "        self.radius = radius\n",
    "\n",
    "    def area(self):\n",
    "        return pi * self.radius * self.radius\n",
    "    \n",
    "    def scale(self, factor):\n",
    "        return Circle(self.radius * factor)\n",
    "    \n",
    "    def __repr__(self):\n",
    "        return f\"Circle(r: {self.radius})\"\n",
    "    \n",
    "# s = Shape() # Err: can't instantiate abstract class\n",
    "\n",
    "# Rectangle\n",
    "r = Rectangle(2, 3)\n",
    "print(r)\n",
    "print(r.area())\n",
    "print(r.scale(2))\n",
    "print(r == Rectangle(3, 4))\n",
    "print(r == Rectangle(2, 3))\n",
    "\n",
    "# Square\n",
    "s = Square(1)\n",
    "print(s)\n",
    "print(s.area())\n",
    "print(s.scale(2))\n",
    "print(s == Square(2))\n",
    "print(s == Square(1))\n",
    "print(s == Rectangle(1, 1)) # d'oh!\n",
    "\n",
    "# Circle\n",
    "c = Circle(1)\n",
    "print(c)\n",
    "print(c.area())\n",
    "print(c.scale(2))\n",
    "print(c == Circle(2))\n",
    "print(c == Circle(1))\n",
    "print(c == Square(1))\n",
    "print(c == Rectangle(2, 3))"
   ]
  },
  {
   "attachments": {},
   "cell_type": "markdown",
   "metadata": {},
   "source": [
    "### Static properties\n",
    "\n",
    "You can create static properties for a class by declaring them outside of any method.\n",
    "\n",
    "Create a class with a static property `class_name` set to the name of the class, and another property `num_instances` to track the number of instances created."
   ]
  },
  {
   "cell_type": "code",
   "execution_count": 12,
   "metadata": {},
   "outputs": [
    {
     "name": "stdout",
     "output_type": "stream",
     "text": [
      "0\n",
      "1\n"
     ]
    }
   ],
   "source": [
    "class MyClass:\n",
    "    class_name = \"MyClass\"\n",
    "    num_instances = 0\n",
    "\n",
    "    def __init__(self):\n",
    "        MyClass.num_instances += 1\n",
    "\n",
    "    def __repr__(self):\n",
    "        return f\"{MyClass.class_name} has {MyClass.num_instances} live instances\"\n",
    "\n",
    "print(MyClass.num_instances)\n",
    "c1 = MyClass()\n",
    "print(MyClass.num_instances)"
   ]
  },
  {
   "attachments": {},
   "cell_type": "markdown",
   "metadata": {},
   "source": [
    "### Setters and Getters\n",
    "\n",
    "There are two ways of creating setters and getters in Python.\n",
    "\n",
    "+ using the `property()` function which identifies the functions that will act as setters, getters, and delete functions:\n",
    "\n",
    "    ```python\n",
    "    def set_something(self, value):\n",
    "      self.__something = value\n",
    "\n",
    "    def get_something(self):\n",
    "      return self.__something\n",
    "\n",
    "    def del_something(self):\n",
    "      del self.__something\n",
    "\n",
    "    something = property(get_something, set_something, del_something)\n",
    "    ```\n",
    "\n",
    "+ using the `@property` decorator on the functions\n",
    "\n",
    "    ```python\n",
    "    @property\n",
    "    def get_something(self):\n",
    "      return self.__something\n",
    "\n",
    "    @something.setter\n",
    "    def set_something(self, value):\n",
    "      self.__something = value\n",
    "\n",
    "    @something.deleter\n",
    "    def del_something(self):\n",
    "      del self.__something\n",
    "    ```\n",
    "\n",
    "Create a simple `Person` class with name and age properties using the two approaches described above."
   ]
  },
  {
   "cell_type": "code",
   "execution_count": 15,
   "metadata": {},
   "outputs": [
    {
     "name": "stdout",
     "output_type": "stream",
     "text": [
      "Person(name=Adri, age=14)\n",
      "15\n",
      "Person(name=Adri, age=15)\n"
     ]
    }
   ],
   "source": [
    "# Using `property`\n",
    "class Person:\n",
    "    def __init__(self, name, age):\n",
    "        self._name = name\n",
    "        self._age = age\n",
    "\n",
    "    def set_name(self, name):\n",
    "        self._name = name\n",
    "\n",
    "    def get_name(self):\n",
    "        return self._name\n",
    "\n",
    "    def set_age(self, age):\n",
    "        self._age = age\n",
    "\n",
    "    def get_age(self):\n",
    "        return self._age\n",
    "    \n",
    "    def __repr__(self):\n",
    "        return f\"Person(name={self._name}, age={self._age})\"\n",
    "\n",
    "    name = property(get_name, set_name, None)\n",
    "    age = property(get_age, set_age, None)\n",
    "\n",
    "p = Person(\"Adri\", 14)\n",
    "print(p)\n",
    "\n",
    "p.age = 15\n",
    "print(p.age)\n",
    "print(p)\n"
   ]
  },
  {
   "cell_type": "code",
   "execution_count": 19,
   "metadata": {},
   "outputs": [
    {
     "name": "stdout",
     "output_type": "stream",
     "text": [
      "Person(name=Adri, age=14)\n",
      "15\n",
      "Person(name=Adri, age=15)\n"
     ]
    }
   ],
   "source": [
    "# using decorators\n",
    "\n",
    "class Person:\n",
    "    def __init__(self, name, age):\n",
    "        self._name = name\n",
    "        self._age = age\n",
    "\n",
    "    @property\n",
    "    def name(self):\n",
    "        return self._name\n",
    "\n",
    "    @name.setter\n",
    "    def name(self, name):\n",
    "        self._name = name\n",
    "\n",
    "    @property\n",
    "    def age(self):\n",
    "        return self._age\n",
    "\n",
    "    @age.setter\n",
    "    def age(self, age):\n",
    "        self._age = age    \n",
    "\n",
    "    \n",
    "    def __repr__(self):\n",
    "        return f\"Person(name={self._name}, age={self._age})\"\n",
    "\n",
    "p = Person(\"Adri\", 14)\n",
    "print(p)\n",
    "\n",
    "p.age = 15\n",
    "print(p.age)\n",
    "print(p)"
   ]
  },
  {
   "attachments": {},
   "cell_type": "markdown",
   "metadata": {},
   "source": [
    "### Creating read-only/write-only attributes\n",
    "\n",
    "Banking on the `@property` decorator it becomes very easy to create read-only and write-only managed attributes.\n",
    "\n",
    "Create a `Person` class that includes:\n",
    "  + a `password` attribute that is a write-only attribute\n",
    "  + a `name` attribute that is read-only and can only be set in the constructor."
   ]
  },
  {
   "cell_type": "code",
   "execution_count": 24,
   "metadata": {},
   "outputs": [
    {
     "name": "stdout",
     "output_type": "stream",
     "text": [
      "sergio\n"
     ]
    }
   ],
   "source": [
    "class Person:\n",
    "    def __init__(self, name, password):\n",
    "        self._name = name\n",
    "        self._password = password\n",
    "\n",
    "    def set_password(self, new_password):\n",
    "        self._password = new_password\n",
    "\n",
    "    password = property(fset=set_password)\n",
    "\n",
    "    def get_name(self):\n",
    "        return self._name\n",
    "\n",
    "    name = property(fget=get_name)\n",
    "\n",
    "user = Person(\"sergio\", \"supersecret\")\n",
    "# print(user.password)    # unreadable attribute \"password\"\n",
    "print(user.name)\n",
    "\n",
    "# user.name = \"sergio74\"  # can't set attribute name\n",
    "user.password = \"tiger\""
   ]
  },
  {
   "attachments": {},
   "cell_type": "markdown",
   "metadata": {},
   "source": [
    "### Private fields in Python classes\n",
    "\n",
    "Python does not support private/public qualifiers for class methods and attributes.\n",
    "\n",
    "However, it is customary to prefix internal implementation methods and attributes with `_`. That approach gives a visual indication to the reader that those methods and attributes should not be used from consumer code. Note that this does not prevent the client code to use them.\n",
    "\n",
    "Python also supports prefixing your methods and attributes with a double underscore `__`. This approach forces a *name mangling*, so that it'll be much more difficult for the class consumer to use that method or attribute (yet, it will be possible).\n",
    "\n",
    "As a result, it is conventional to:\n",
    "+ Use `_prefix` for names used in internal implementation details, but that you **want** to keep available to subclasses and end-consumer code.\n",
    "\n",
    "+ Use `__prefix` for names used in internal implementation details that you **don't want** to make available to any code outside of the current class.\n",
    "\n",
    "Create a class that have fields of both kind and illustrate the concepts above:\n",
    "+ when using `_prefix` the attribute/method is available to subclasses and consumer code.\n",
    "+ when using `__prefix` the attribute/method is not available to subclasses or consumer code."
   ]
  },
  {
   "attachments": {},
   "cell_type": "markdown",
   "metadata": {},
   "source": [
    "We will create a simple class hierarchy to illustrate name mangling, etc."
   ]
  },
  {
   "cell_type": "code",
   "execution_count": 31,
   "metadata": {},
   "outputs": [
    {
     "name": "stdout",
     "output_type": "stream",
     "text": [
      "Car(num_wheels: 4 and maybe a motor)\n"
     ]
    }
   ],
   "source": [
    "class Vehicle:\n",
    "    def __init__(self, num_wheels, has_motor):\n",
    "        self._num_wheels = num_wheels\n",
    "        self.__has_motor = has_motor\n",
    "\n",
    "class Car(Vehicle):\n",
    "    def __init__(self):\n",
    "        super().__init__(4, True)\n",
    "\n",
    "    def __repr__(self):\n",
    "        # return f\"Car(num_wheels: {self._num_wheels}, has_motor: {self.__has_motor})\" # Error: Car object has no attribute __has_motor\n",
    "        return f\"Car(num_wheels: {self._num_wheels} and maybe a motor)\" # Error: Car object has no attribute __has_motor\n",
    "    \n",
    "c = Car()\n",
    "print(c)    "
   ]
  },
  {
   "attachments": {},
   "cell_type": "markdown",
   "metadata": {},
   "source": [
    "### Checking the type of an instance with `isinstance()`\n",
    "\n",
    "The built-in function `isinstance()` lets you check if a class is of a particular type.\n",
    "\n",
    "Create a simple class hierarchy (e.g., Vehicle, Car) and instantiate an object of each type.\n",
    "\n",
    "Use `isinstance` to check:\n",
    "+ whether it returns `True` when checking the `Vehicle` instance against `Vehicle` class.\n",
    "+ whether it returns `True` when checking the `Car` instance against `Car` class.\n",
    "+ whether it returns `True` when checking the `Vehicle` instance against `Car` class.\n",
    "+ whether it returns `True` when checking the `Car` instance against `Vehicle` class.\n",
    "\n",
    "What can you derive from the results?"
   ]
  },
  {
   "cell_type": "code",
   "execution_count": 7,
   "metadata": {},
   "outputs": [
    {
     "name": "stdout",
     "output_type": "stream",
     "text": [
      "True\n",
      "True\n",
      "False\n",
      "True\n"
     ]
    }
   ],
   "source": [
    "class Vehicle:\n",
    "    ...\n",
    "\n",
    "class Car(Vehicle):\n",
    "    ...\n",
    "\n",
    "vObj = Vehicle()\n",
    "cObj = Car()\n",
    "\n",
    "print(isinstance(vObj, Vehicle)) # expected True, got True\n",
    "print(isinstance(cObj, Car))     # expected True, got True\n",
    "print(isinstance(vObj, Car))     # expected False, got False\n",
    "print(isinstance(cObj, Vehicle)) # expected True, got True"
   ]
  },
  {
   "attachments": {},
   "cell_type": "markdown",
   "metadata": {},
   "source": [
    "The results are consistent with the expectations, and you can use `isinstance` to check if a particular object is part of a class hierarchy."
   ]
  },
  {
   "attachments": {},
   "cell_type": "markdown",
   "metadata": {},
   "source": [
    "### Using `issubclass()` to check if an instance is a subclass\n",
    "\n",
    "The function `issubclass()` lets you check if a class is of a particular type.\n",
    "\n",
    "| NOTE: |\n",
    "| :---- |\n",
    "| `issubclass` requires classes not instances. |\n",
    "\n",
    "Create a simple class hierarchy (e.g., Person, Student) and validate the behavior of `issubclass`.\n",
    "\n",
    "How would you use `issubclass` if you only have access to a particular instance and not the class? (HINT: look for extra properties on the instance)"
   ]
  },
  {
   "cell_type": "code",
   "execution_count": 14,
   "metadata": {},
   "outputs": [
    {
     "name": "stdout",
     "output_type": "stream",
     "text": [
      "True\n",
      "True\n",
      "False\n",
      "True\n",
      "True\n",
      "True\n"
     ]
    }
   ],
   "source": [
    "class Person:\n",
    "    ...\n",
    "\n",
    "class Student(Person):\n",
    "    ...\n",
    "\n",
    "\n",
    "print(issubclass(Person, Person))   # expected True, got True\n",
    "print(issubclass(Student, Person))  # expected True, got True\n",
    "print(issubclass(Person, Student))  # expected False, got False\n",
    "\n",
    "# if you have an instance\n",
    "sObj = Student()\n",
    "pObj = Person()\n",
    "\n",
    "print(issubclass(sObj.__class__, Person))\n",
    "print(issubclass(Student, pObj.__class__))\n",
    "print(issubclass(sObj.__class__, pObj.__class__))"
   ]
  },
  {
   "attachments": {},
   "cell_type": "markdown",
   "metadata": {},
   "source": [
    "## Section 15 &mdash; Creating and importing libraries\n",
    "\n",
    "You can import your own custom modules using the same syntax used for core packages. As these files will not be available in a central location, you will need to specify where the code for those modules can be located:\n",
    "\n",
    "```python\n",
    "from [<dir>.]<lib> import <lib_fn_or_property>\n",
    "```\n",
    "\n",
    "If the library sits in the same directory from where you're running your code you can omit the `[<dir>.]` part.\n"
   ]
  },
  {
   "attachments": {},
   "cell_type": "markdown",
   "metadata": {},
   "source": [
    "### Hello, custom libraries\n",
    "\n",
    "Create a library in a source file `my_lib.py` in the same directory as this notebook. In it, define a function `greet_me` that prints a message. Define also a `square` function that returns the square of a number given.\n",
    "Then import that library in a cell and make sure you can invoke the function.\n",
    "\n",
    "| NOTE: |\n",
    "| :---- |\n",
    "| Note if you change the library after having imported it, you might need to restart the Jupyter kernel to see the change reflected. |"
   ]
  },
  {
   "cell_type": "code",
   "execution_count": 1,
   "metadata": {},
   "outputs": [
    {
     "name": "stdout",
     "output_type": "stream",
     "text": [
      "Hello, stranger!\n",
      "Hello, sergio!\n",
      "5^2=25\n"
     ]
    }
   ],
   "source": [
    "from my_lib import greet_me, square\n",
    "\n",
    "greet_me()\n",
    "greet_me(\"sergio\")\n",
    "print(f\"5^2={square(5)}\")"
   ]
  },
  {
   "attachments": {},
   "cell_type": "markdown",
   "metadata": {},
   "source": [
    "### Importing custom libraries from a folder\n",
    "\n",
    "Saving your libraries in the same directory in which you keep your notebooks is not usually a very good idea.\n",
    "\n",
    "Python allows you to reference libraries that sit on subdirectories other using the sytax introduced at the beginning of this section.\n",
    "\n",
    "Create a `utils/` folder and define a new source file `my_lib.py` for another library in which you declare a function `cube(num)`. Import it and use it in a cell."
   ]
  },
  {
   "cell_type": "code",
   "execution_count": 4,
   "metadata": {},
   "outputs": [
    {
     "name": "stdout",
     "output_type": "stream",
     "text": [
      "5^3=125\n"
     ]
    }
   ],
   "source": [
    "from utils.my_lib import cube\n",
    "\n",
    "print(f\"5^3={cube(5)}\")"
   ]
  },
  {
   "attachments": {},
   "cell_type": "markdown",
   "metadata": {},
   "source": [
    "### The concept of **\"main\"** in modules\n",
    "\n",
    "There are Python files that can be both used as libraries, whose individual elements might be imported into a larger program, or executed as standalone scripts.\n",
    "\n",
    "In those use cases, you will find the following piece of code useful:\n",
    "\n",
    "```python\n",
    "if __name__ == \"__main__\":\n",
    "    # ... things to run as standalone script ...\n",
    "```\n",
    "\n",
    "Create a module `./utils/db_module.py` that exposes two functions `delete_db()` and `create_db()` that announce themselves using `print()`.\n",
    "Include a code snippet such as the one above so that when invoking the program as a standalone program using `python ./utils/db_module.py` the main section is executed, but when importing it on a notebook cell, those functions are not.\n",
    "\n",
    "Confirm that when removing the guard `if __name__ == \"__main__\"` those functions are executed as side-effects when the module is imported."
   ]
  },
  {
   "cell_type": "code",
   "execution_count": 5,
   "metadata": {},
   "outputs": [
    {
     "name": "stdout",
     "output_type": "stream",
     "text": [
      "> doing some db stuff\n",
      "> in delete_db\n",
      "> in create_db\n"
     ]
    }
   ],
   "source": [
    "from utils.db_module import do_some_db_stuff\n",
    "\n",
    "do_some_db_stuff()"
   ]
  },
  {
   "attachments": {},
   "cell_type": "markdown",
   "metadata": {},
   "source": [
    "## Section 16 &mdash; Documenting your code\n",
    "\n",
    "As Python is a dynamic programming language, and not strongly typed, documenting your code is key for a good DX.\n",
    "\n",
    "There are two fundamental pieces you should master to properly document your code in Python:\n",
    "+ DocStrings: conventions about comments in files, functions, classes, etc. DocStrings let the IDEs provide additional information to the consumers of your code.\n",
    "\n",
    "+ Type hints: available from Python 3.5, type hints allows you to add type annotations to your code to declare the expected types such as in `def hello(name: str) -> str:`"
   ]
  },
  {
   "attachments": {},
   "cell_type": "markdown",
   "metadata": {},
   "source": [
    "### DocStrings\n",
    "\n",
    "DocStrings can be used for files, classes, methods, and standalone functions.\n",
    "\n",
    "The typically follow this approach:\n",
    "\n",
    "```python\n",
    "\"\"\"Summary line for the \"thing\" being documents\n",
    "\n",
    "Details spread across multiple lines describing the\n",
    "thing, how to use it, recommendations, examples, etc.\n",
    "\"\"\"\n",
    "```\n",
    "\n",
    "For functions, this is one of the most common templates:\n",
    "\n",
    "```python\n",
    "\"\"\"Summary line describing what the function does\n",
    "\n",
    "Parameters\n",
    "----------\n",
    "param1 : str\n",
    "  The description for param1, whose type is string\n",
    "param2 : bool, optional\n",
    "  The description for param2, which in an optional boolean\n",
    "\n",
    "Returns\n",
    "-------\n",
    "list\n",
    "  a list of strings\n",
    "```\n",
    "\n",
    "Using this approach, define, and document a function `square` that returns the square of a given number."
   ]
  },
  {
   "cell_type": "code",
   "execution_count": 1,
   "metadata": {},
   "outputs": [
    {
     "data": {
      "text/plain": [
       "25"
      ]
     },
     "execution_count": 1,
     "metadata": {},
     "output_type": "execute_result"
    }
   ],
   "source": [
    "\"\"\"square returns the square of a number\n",
    "\n",
    "Parameters\n",
    "----------\n",
    "num : number\n",
    "    The number whose square value is about to be computed\n",
    "\n",
    "Returns\n",
    "-------\n",
    "    The square of the number given\n",
    "\"\"\"\n",
    "def square(num):\n",
    "    return num * num\n",
    "\n",
    "\n",
    "square(5)"
   ]
  },
  {
   "attachments": {},
   "cell_type": "markdown",
   "metadata": {},
   "source": [
    "### Type Hints\n",
    "\n",
    "Type hints are type annotations that can be added to functions to indicate the types of the parameters received and the result of executing the function among other things.\n",
    "\n",
    "Note that in order for the runtime to catch errors and enforce types you will needs to use a separate type checker not include in the Python runtime.\n",
    "\n",
    "#### Type annotations\n",
    "\n",
    "Type hints are used to add types to variables, parameters, function arguments, and their corresponding return values, class attributes and methods.\n",
    "\n",
    "##### Variable annotations\n",
    "\n",
    "The following examples illustrate how variables can be annotated with types:\n",
    "\n",
    "```python\n",
    "my_list: list = ['A', 'B', 'C']\n",
    "my_num: float = 2.4\n",
    "```\n",
    "\n",
    "with the variable being one of the following:\n",
    "+ `int`\n",
    "+ `float`\n",
    "+ `str`\n",
    "+ `bool`\n",
    "+ `bytes`\n",
    "+ `list`\n",
    "+ `tuple`\n",
    "+ `dict`\n",
    "+ `set`\n",
    "+ `frozenset`\n",
    "+ `None`"
   ]
  },
  {
   "attachments": {},
   "cell_type": "markdown",
   "metadata": {},
   "source": [
    "##### Function annotations\n",
    "\n",
    "The following example illustrate how to annotate a function:\n",
    "\n",
    "```python\n",
    "def add_nums(x: int, y: int, z: float) -> float:\n",
    "  return x + y + z\n",
    "```\n",
    "\n",
    "If a function does not return anything, you can set the return type to `None`."
   ]
  },
  {
   "attachments": {},
   "cell_type": "markdown",
   "metadata": {},
   "source": [
    "##### Class annotations\n",
    "\n",
    "You can annotate attributes and methods inside classes using the following approach:\n",
    "\n",
    "```python\n",
    "class MyClass:\n",
    "  static_val: str = \"Static Value\"\n",
    "  num_instances: int = 0\n",
    "\n",
    "  def say_hello(s: str) -> str:\n",
    "    return f\"Hello to {s}\"\n",
    "\n",
    "```"
   ]
  },
  {
   "attachments": {},
   "cell_type": "markdown",
   "metadata": {},
   "source": [
    "##### Annotating list of complex types\n",
    "\n",
    "Complex types, such as list of floats, etc. can be annotated using the `typing` package:\n",
    "\n",
    "```python\n",
    "from typing import List\n",
    "\n",
    "def my_fun(l: List[float]) -> float:\n",
    "  return sum(l)\n",
    "```\n",
    "\n",
    "When importing that package, you can also create a type, so that it can be used to qualify variables and make the declaration easier to read:\n",
    "\n",
    "```python\n",
    "from typing import List\n",
    "\n",
    "NestedList = List[List[str]] # list of lists of strings\n",
    "\n",
    "my_super_list: NestedList = [[\"Hello\", \"To\"], [\"Jason\"]]\n",
    "```"
   ]
  },
  {
   "attachments": {},
   "cell_type": "markdown",
   "metadata": {},
   "source": [
    "##### Annotating dicts of complex types\n",
    "\n",
    "The following example illustrates how annotate the types of a dictionary keys and values.\n",
    "\n",
    "```python\n",
    "my_dict_type = Dict[str, float]\n",
    "\n",
    "my_dict: my_dict_type = {\"key\": 1.1}\n",
    "```"
   ]
  },
  {
   "attachments": {},
   "cell_type": "markdown",
   "metadata": {},
   "source": [
    "##### Annotating unions\n",
    "\n",
    "A *union* lets you specify two different types for a given attribute:\n",
    "\n",
    "```python\n",
    "def load_model(filename: str, cache_folder: Union[str, Path]) -> None:\n",
    "  ...\n",
    "```\n",
    "\n",
    "In more modern Python, unions syntax will be replaced by `|` as in:\n",
    "\n",
    "```python\n",
    "def load_model(filename: str, cache_folder: str|Path) -> None:\n",
    "  ...\n",
    "```\n"
   ]
  },
  {
   "attachments": {},
   "cell_type": "markdown",
   "metadata": {},
   "source": [
    "##### Dictionaries with fixed schema using `TypedDict`\n",
    "\n",
    "You can use `TypedDict` to model dictionaries with fixed schemas (known string keys).\n",
    "\n",
    "```python\n",
    "from typing import TypedDict\n",
    "\n",
    "class InterestsTypedDict(TypedDict):\n",
    "  name: str\n",
    "  interests: List[str]\n",
    "\n",
    "my_interests: InterestsTypedDict = {\"name\": \"sergio\", \"interests\": [\"movies\", \"Golang\", \"Python\", \"in that order\"]}\n",
    "```"
   ]
  },
  {
   "attachments": {},
   "cell_type": "markdown",
   "metadata": {},
   "source": [
    "##### Annotating function parameters with Callable\n",
    "\n",
    "You must use `Callable` to model arguments that are functions:\n",
    "\n",
    "```python\n",
    "from typing import Callable\n",
    "\n",
    "def sum_numbers(x: int, y: int) -> int:\n",
    "  return x + y\n",
    "\n",
    "def compute(x: int, y: int, fn: Callable) -> int:\n",
    "  return fn(x, y)\n",
    "```\n",
    "\n",
    "You can go above and beyond and also document the expected args using:\n",
    "\n",
    "```python\n",
    "from typing import Callable\n",
    "\n",
    "def compute(x: int, y: int, fn: Callable[[int, int], int]) -> int:\n",
    "  return fn(x, y)\n",
    "```"
   ]
  },
  {
   "attachments": {},
   "cell_type": "markdown",
   "metadata": {},
   "source": [
    "##### Using `Any` when nothing else matches\n",
    "\n",
    "You can use the `Any` type annotations when you want to explicitly state that the function doesn't care about the type it receives or returns.\n",
    "\n",
    "```python\n",
    "from typing import Any\n",
    "\n",
    "def foo(x: Any) -> None:\n",
    "  print(x)\n",
    "```"
   ]
  },
  {
   "attachments": {},
   "cell_type": "markdown",
   "metadata": {},
   "source": [
    "##### Using `Optional` for optional parameters\n",
    "\n",
    "You can use the following syntax give type hints about optional parameters:\n",
    "\n",
    "```python\n",
    "from typing import Optional\n",
    "\n",
    "def foo(x: Optional[bool] = False) -> None:\n",
    "  ...\n",
    "```"
   ]
  },
  {
   "attachments": {},
   "cell_type": "markdown",
   "metadata": {},
   "source": [
    "##### Using `Sequence` for indexed types\n",
    "\n",
    "You can use `Sequence` as a type hint for anything that can be indexed such as lists, tuples, strings, etc.\n",
    "\n",
    "```python\n",
    "from typing import Sequence\n",
    "\n",
    "def print_sequence_elem(sequence: Sequence[str]):\n",
    "  for i, s in enumerate(sequence):\n",
    "    print(f\"{i}: {s}\")\n",
    "```\n",
    "\n",
    "| NOTE: |\n",
    "| :---- |\n",
    "| Sets and Dictionaries cannot be indexed, and therefore do not qualify as sequnces. |"
   ]
  },
  {
   "attachments": {},
   "cell_type": "markdown",
   "metadata": {},
   "source": [
    "##### Types tuples with `Tuple`\n",
    "\n",
    "While you can use `tuple` when you don't care about the types of the tuple elements, you can also create typed tuples with `Tuple`:\n",
    "\n",
    "```python\n",
    "from typing import Tuple\n",
    "\n",
    "t: tuple = (1, 2, 3, \"catorce\")\n",
    "\n",
    "t_2: Tuple[int, int, int, int] = (1, 2, 3, 14)\n",
    "```"
   ]
  },
  {
   "attachments": {},
   "cell_type": "markdown",
   "metadata": {},
   "source": [
    "#### Confirming that Python doesn't enforce type hints\n",
    "\n",
    "Create a Python script that breaks the type hinting and validate:\n",
    "+ Whether the notebook cell report the problem\n",
    "+ Whether the same script, when use outside the notebook, the error is identified, and whether the error is run."
   ]
  },
  {
   "cell_type": "code",
   "execution_count": 1,
   "metadata": {},
   "outputs": [
    {
     "name": "stdout",
     "output_type": "stream",
     "text": [
      "Hello, sergio!!!\n"
     ]
    }
   ],
   "source": [
    "def greet(name: int) -> None:\n",
    "    return f\"Hello, {name}!!!\"\n",
    "\n",
    "\n",
    "print(greet(\"sergio\"))"
   ]
  },
  {
   "attachments": {},
   "cell_type": "markdown",
   "metadata": {},
   "source": [
    "See how in the notebook the type hints are completely ignored.\n",
    "\n",
    "However, in [breaking_type_hints.py](exercises/section_16-docs/breaking_type_hints/breaking_type_hints.py) I included the same program and the following is displayed:\n",
    "\n",
    "![breaking type hints](pics/type_hint_errors.png)\n",
    "\n",
    "However, you can run it without problems."
   ]
  },
  {
   "attachments": {},
   "cell_type": "markdown",
   "metadata": {},
   "source": [
    "#### Basic type hints\n",
    "\n",
    "Create and annotate `add_nums(a, b)` that receives two numbers and returns the sum of such numbers."
   ]
  },
  {
   "cell_type": "code",
   "execution_count": 2,
   "metadata": {},
   "outputs": [
    {
     "name": "stdout",
     "output_type": "stream",
     "text": [
      "5\n"
     ]
    }
   ],
   "source": [
    "def add_nums(a: int, b: int) -> int:\n",
    "    return a + b\n",
    "\n",
    "print(add_nums(2, 3))"
   ]
  },
  {
   "attachments": {},
   "cell_type": "markdown",
   "metadata": {},
   "source": [
    "## Section 17 &mdash; Files\n",
    "\n",
    "Python standard library provides a large number of functions to deal with file operations."
   ]
  },
  {
   "attachments": {},
   "cell_type": "markdown",
   "metadata": {},
   "source": [
    "### Building paths\n",
    "\n",
    "Python allows you to create paths by concatenating a path and string using the `/` operator (which is overloaded for this purposes).\n",
    "\n",
    "Create the file path `path/to/file.ext` using the `/` operator to concatenate a path created with `pathlib.Path` along with a string for the file."
   ]
  },
  {
   "cell_type": "code",
   "execution_count": 1,
   "metadata": {},
   "outputs": [
    {
     "name": "stdout",
     "output_type": "stream",
     "text": [
      "path/to/file.ext\n"
     ]
    }
   ],
   "source": [
    "import pathlib\n",
    "\n",
    "path_prefix = pathlib.Path(\"path/to\")\n",
    "file_suffix = \"file.ext\"\n",
    "\n",
    "path = path_prefix / file_suffix\n",
    "print(path)"
   ]
  },
  {
   "attachments": {},
   "cell_type": "markdown",
   "metadata": {},
   "source": [
    "### Renaming files\n",
    "\n",
    "Create a simple file renaming program that given a path, a prefix pattern, and a wildcard of files, scans that path and renames the file matching the wildcard using the rule:\n",
    "\n",
    "```\n",
    "{out_prefix_pattern}_{counter}.{original_extension}\n",
    "```\n",
    "\n",
    "For example, if you have a directory with the files:\n",
    "\n",
    "```\n",
    "IMG_1642.jpg\n",
    "IMG_4598.jpg\n",
    "IMG_1763.jpg\n",
    "```\n",
    "\n",
    "you should be able to transform them into:\n",
    "```\n",
    "photo_001.jpg\n",
    "photo_002.jpg\n",
    "photo_003.jpg\n",
    "```\n",
    "\n",
    "by using `photo` as the `out_prefix_pattern`."
   ]
  },
  {
   "cell_type": "code",
   "execution_count": 7,
   "metadata": {},
   "outputs": [
    {
     "name": "stdout",
     "output_type": "stream",
     "text": [
      "using path: exercises/section_17-files/renaming_files\n",
      "exercises/section_17-files/renaming_files/orig/a_file.txt -> exercises/section_17-files/renaming_files/out/file_1.txt\n",
      "exercises/section_17-files/renaming_files/orig/another_file.txt -> exercises/section_17-files/renaming_files/out/file_2.txt\n",
      "exercises/section_17-files/renaming_files/orig/yet_another_file.txt -> exercises/section_17-files/renaming_files/out/file_3.txt\n"
     ]
    }
   ],
   "source": [
    "import pathlib\n",
    "import shutil\n",
    "\n",
    "path = pathlib.Path(\"./exercises/section_17-files/renaming_files/\")\n",
    "print(f\"using path: {path}\")\n",
    "\n",
    "# We start by copying the original files to the out directory\n",
    "orig_path = path / \"orig\"\n",
    "out_path = path / \"out\"\n",
    "for orig_file in orig_path.glob('*'):\n",
    "    shutil.copy2(orig_file, out_path)\n",
    "\n",
    "out_prefix = \"file\"\n",
    "file_list = []\n",
    "counter = 1\n",
    "\n",
    "for file in sorted(out_path.glob('*')):\n",
    "    file_list.append(file)\n",
    "\n",
    "for file in file_list:\n",
    "    resulting_file_name = f\"{out_prefix}_{counter}{file.suffix.lower()}\"\n",
    "    file.rename(out_path / resulting_file_name)\n",
    "    print(f\"{orig_path}/{file.name} -> {out_path}/{resulting_file_name}\")\n",
    "    counter += 1\n",
    "\n"
   ]
  },
  {
   "attachments": {},
   "cell_type": "markdown",
   "metadata": {},
   "source": [
    "## Section 18 &mdash; The `with` statement\n",
    "\n",
    "The `with` statement is used in exception handling code to simplify the management of resources such as files and database connections, so that they are correctly handled in error situations."
   ]
  },
  {
   "attachments": {},
   "cell_type": "markdown",
   "metadata": {},
   "source": [
    "### Using `with` to control file exceptions\n",
    "\n",
    "Consider a block of code that opens a file for writing, writes a string into the file, and the closes the file.\n",
    "\n",
    "Write the block of code using three different approaches:\n",
    "\n",
    "1. Don't use any exception control. Explain why the approach is weak.\n",
    "\n",
    "2. Use try/catch/finally solving all the problems of the first approach.\n",
    "\n",
    "3. Use `with` and discuss the functionality and readability of the approach."
   ]
  },
  {
   "cell_type": "code",
   "execution_count": 8,
   "metadata": {},
   "outputs": [],
   "source": [
    "# Option 1\n",
    "path = \"./exercises/section_17-files/using_with/delete_me.txt\"\n",
    "\n",
    "file = open(path, \"x\") # x: exclusing creation (will fail if file already exists)\n",
    "file.write(\"Hello to Jason Isaacs!\\n\")\n",
    "file.close()"
   ]
  },
  {
   "attachments": {},
   "cell_type": "markdown",
   "metadata": {},
   "source": [
    "The previous snippet has no exception handling and yet each of the statements is subject of failing:\n",
    "+ the file might already exist\n",
    "+ the disk might be read-only or full, which will make `file.write` fail.\n",
    "+ the close operation might fail for some reason."
   ]
  },
  {
   "cell_type": "code",
   "execution_count": null,
   "metadata": {},
   "outputs": [],
   "source": [
    "# Option 2\n",
    "\n",
    "path = \"./exercises/section_17-files/using_with/delete_me.txt\"\n",
    "\n",
    "try:\n",
    "    file = open(path, \"x\") # x: exclusing creation (will fail if file already exists)\n",
    "    file.write(\"Hello to Jason Isaacs!\\n\")\n",
    "except Exception as err:\n",
    "    print(f\"error found while writing to file: {err}\")\n",
    "finally:\n",
    "    file.close()"
   ]
  },
  {
   "attachments": {},
   "cell_type": "markdown",
   "metadata": {},
   "source": [
    "The second snippet solves the problems of the previous approach, as the file will be closed under all circumstances, and the error will be reported so that it's not lost."
   ]
  },
  {
   "cell_type": "code",
   "execution_count": 11,
   "metadata": {},
   "outputs": [],
   "source": [
    "# Option 3\n",
    "path = \"./exercises/section_17-files/using_with/delete_me.txt\"\n",
    "\n",
    "with open(path, \"x\") as file:\n",
    "    file.write(\"Hello to Jason Isaacs!\\n\")\n"
   ]
  },
  {
   "attachments": {},
   "cell_type": "markdown",
   "metadata": {},
   "source": [
    "The previous snippet features the same behavior as the second snippet, but it is much more succinct, as all the exception handling is happening behind the scenes."
   ]
  },
  {
   "attachments": {},
   "cell_type": "markdown",
   "metadata": {},
   "source": [
    "### Providing support to `with` in custom classes\n",
    "\n",
    "Write a simple class `MessageWriter` that supports the following syntax:\n",
    "\n",
    "```python\n",
    "with MessageWriter(\"filename\") as xfile:\n",
    "  xfile.write(str)\n",
    "```\n",
    "\n",
    "When using the previous approach, `MessageWriter` should write the given string to a file, doing proper resource management with the file."
   ]
  },
  {
   "cell_type": "code",
   "execution_count": 16,
   "metadata": {},
   "outputs": [],
   "source": [
    "class MessageWriter(object):\n",
    "    def __init__(self, name):\n",
    "        self.name = name\n",
    "\n",
    "    def __enter__(self):\n",
    "        self.file = open(self.name, \"x\")\n",
    "        return self.file\n",
    "    \n",
    "    def __exit__(self, exception_type, exception_value, traceback):\n",
    "        if exception_type is not None:\n",
    "            traceback.print_exception(exception_type, exception_value, traceback)\n",
    "        self.file.close()\n",
    "\n",
    "    def write(self, str):\n",
    "        self.file.write(str)\n",
    "\n",
    "path = \"./exercises/section_17-files/using_with/delete_me.txt\"\n",
    "\n",
    "with MessageWriter(path) as xfile:\n",
    "    xfile.write(\"Hello to Jason Isaacs!\\n\")\n",
    "    "
   ]
  },
  {
   "attachments": {},
   "cell_type": "markdown",
   "metadata": {},
   "source": [
    "## Section 19 &mdash; Interacting with the underlying OS\n",
    "\n",
    "This section illustrates different ways in which you can interact with the underlying OS."
   ]
  },
  {
   "attachments": {},
   "cell_type": "markdown",
   "metadata": {},
   "source": [
    "### Exiting a program with `quit()`\n",
    "\n",
    "You can exit from a running program/script using the function `quit()`.\n",
    "\n",
    "Create a program that simulates the rolling of a dice and reports the number of consecutive times you obtain an even number. When an odd number is found, the program should quit.\n",
    "\n",
    "| NOTE: |\n",
    "| :---- |\n",
    "| The `quit()` function does not work on notebook cells, so the exercise must be implemented as a standalone function. |"
   ]
  },
  {
   "attachments": {},
   "cell_type": "markdown",
   "metadata": {},
   "source": [
    "The solution is implemented in [dice_quit/main.py](exercises/section_19-os/dice_quit/main.py)"
   ]
  },
  {
   "attachments": {},
   "cell_type": "markdown",
   "metadata": {},
   "source": [
    "### Exiting a program by raising a `SystemExit`\n",
    "\n",
    "Besides `quit()`, it is possible to raise a `SystemExit` exception to terminate a running program.\n",
    "\n",
    "This will cause the program to stop even on notebook cells, so it's more portable than quit.\n",
    "\n",
    "Implement the previous exercise on a notebook cell using `SystemExit`."
   ]
  },
  {
   "cell_type": "code",
   "execution_count": 2,
   "metadata": {},
   "outputs": [
    {
     "name": "stdout",
     "output_type": "stream",
     "text": [
      "You obtained 4\n",
      "You obtained 1\n",
      "You reached 1 consecutive throws\n"
     ]
    },
    {
     "ename": "SystemExit",
     "evalue": "",
     "output_type": "error",
     "traceback": [
      "An exception has occurred, use %tb to see the full traceback.\n",
      "\u001b[0;31mSystemExit\u001b[0m\n"
     ]
    }
   ],
   "source": [
    "from random import randint\n",
    "\n",
    "consecutive_throws_count: int = 0\n",
    "while True:\n",
    "    dice_throw: int = randint(1, 6)\n",
    "    print(f\"You obtained {dice_throw}\")\n",
    "    if dice_throw % 2 == 0:\n",
    "        consecutive_throws_count += 1\n",
    "    else:\n",
    "        print(f\"You reached {consecutive_throws_count} consecutive throws\")\n",
    "        raise SystemExit\n"
   ]
  },
  {
   "attachments": {},
   "cell_type": "markdown",
   "metadata": {},
   "source": [
    "## Section 20 &mdash; Date and Time\n",
    "\n",
    "### Parsing a string into a timezone-aware datetime object\n",
    "\n",
    "Python has support for parsing strings into `datetime` objects using `datetime.strptime()` function.\n",
    "\n",
    "Use this function to parse:\n",
    "1. 1974-02-05T14:05:18\n",
    "2. 17/05/2008 23:15:47\n",
    "\n",
    "| HINT: |\n",
    "| :---- |\n",
    "| You will need to provide the format to `strptime` (see https://docs.python.org/3/library/datetime.html#datetime.datetime.isoformat) for examples. |"
   ]
  },
  {
   "cell_type": "code",
   "execution_count": 7,
   "metadata": {},
   "outputs": [
    {
     "name": "stdout",
     "output_type": "stream",
     "text": [
      "1974-02-05 14:05:18\n",
      "2008-05-17 23:15:47\n"
     ]
    }
   ],
   "source": [
    "from datetime import datetime\n",
    "\n",
    "dt1 = datetime.strptime(\"1974-02-05T14:05:18\", \"%Y-%m-%dT%H:%M:%S\")\n",
    "print(dt1)\n",
    "\n",
    "dt2 = datetime.strptime(\"17/05/2008 23:15:47\", \"%d/%m/%Y %H:%M:%S\")\n",
    "print(dt2)"
   ]
  },
  {
   "attachments": {},
   "cell_type": "markdown",
   "metadata": {},
   "source": [
    "### Basic datetime objects\n",
    "\n",
    "The `datetime` module contains three primary types of objects:\n",
    "+ `date`\n",
    "+ `time`\n",
    "+ `datetime`\n",
    "\n",
    "Arithmetic operations for these objects are only supported within the same data type, but it is easy to convert from one to the other.\n",
    "\n",
    "1. Create a variable that holds today's date\n",
    "2. Create a variable that holds the first day of 2024.\n",
    "3. Create a variable that holds noon's time\n",
    "4. Create a variable that holds current datetime\n",
    "5. Create a variable that holds the datetime 1974-02-05T14:05:48\n",
    "6. Try to subtract noon from today's date. What exception do you get?\n",
    "7. Convert date to a datetime using `datetime`\n",
    "8. Combine a date and a time into a datetime using `datetime.combine`."
   ]
  },
  {
   "cell_type": "code",
   "execution_count": 16,
   "metadata": {},
   "outputs": [
    {
     "name": "stdout",
     "output_type": "stream",
     "text": [
      "2023-05-24\n",
      "2024-01-01\n",
      "12:00:00\n",
      "2023-05-24 09:21:32.290283\n",
      "1974-02-05 14:05:48\n",
      "exception caught: unsupported operand type(s) for -: 'datetime.date' and 'datetime.time'\n",
      "2023-05-24 00:00:00\n",
      "2023-05-24 12:00:00\n"
     ]
    }
   ],
   "source": [
    "from datetime import datetime, date, time\n",
    "\n",
    "# 1: today's date\n",
    "todays_date = date.today()\n",
    "print(todays_date)\n",
    "\n",
    "# 2: first day of 2024\n",
    "new_years_day = date(2024, 1, 1)\n",
    "print(new_years_day)\n",
    "\n",
    "# 3: noon's time\n",
    "noon_time = time(12, 0, 0)\n",
    "print(noon_time)\n",
    "\n",
    "# 4: current's datetime\n",
    "now = datetime.now()\n",
    "print(now)\n",
    "\n",
    "# 5: variable for dt\n",
    "dt = datetime(1974, 2, 5, 14, 5, 48)\n",
    "print(dt)\n",
    "\n",
    "# 6: subtracting noon from today's date (it fails)\n",
    "try:\n",
    "    print(todays_date - noon_time)\n",
    "except Exception as ex:\n",
    "    print(f\"exception caught: {ex}\")\n",
    "\n",
    "# 7: converting a date to a datetime\n",
    "todays_datetime = datetime(todays_date.year, todays_date.month, todays_date.day)\n",
    "print(todays_datetime)\n",
    "\n",
    "# 8: combining a date and time into a datetime\n",
    "todays_noon_datetime = datetime.combine(todays_datetime, noon_time)\n",
    "print(todays_noon_datetime)"
   ]
  },
  {
   "attachments": {},
   "cell_type": "markdown",
   "metadata": {},
   "source": [
    "### Constructing timezone-aware datetime objects\n",
    "\n",
    "A `datetime` object is considered *naive* if it is unaware of the timezone information.\n",
    "\n",
    "To make it timezone aware, you have to provide the UTC offset and timezone abbreviation as a function of date and time.\n",
    "\n",
    "Build a time-aware datetime object by:\n",
    "1. Defining a `datetime` object and passing the `tzinfo` information that you will need to have previously defined as an object using `timezone`.\n",
    "2. Repeat the same exercise giving a name to the `timezone` in and use `dt.tzname()` to retrieve it."
   ]
  },
  {
   "cell_type": "code",
   "execution_count": 20,
   "metadata": {},
   "outputs": [
    {
     "name": "stdout",
     "output_type": "stream",
     "text": [
      "2023-05-24 09:23:35+01:00\n",
      "UTC+01:00\n",
      "2023-05-24 09:23:35+01:00\n",
      "CEST\n"
     ]
    }
   ],
   "source": [
    "from datetime import datetime, timezone, timedelta\n",
    "\n",
    "# 1\n",
    "cest_tz = timezone(timedelta(hours=1))\n",
    "dt = datetime(2023, 5, 24, 9, 23, 35, tzinfo=cest_tz)\n",
    "print(dt) # time\n",
    "print(dt.tzname())\n",
    "\n",
    "# 2\n",
    "dt = datetime(2023, 5, 24, 9, 23, 35, tzinfo=timezone(timedelta(hours=1), \"CEST\"))\n",
    "print(dt) # time\n",
    "print(dt.tzname())\n",
    "\n",
    "\n"
   ]
  },
  {
   "attachments": {},
   "cell_type": "markdown",
   "metadata": {},
   "source": [
    "### Computing time differences\n",
    "\n",
    "Time differences are computed using the `timedelta` module included in `datetime`.\n",
    "\n",
    "Compute:\n",
    "1. The difference between now and \"1974-02-05\" (no time).\n",
    "2. The number of days between those dates.\n",
    "3. The number of seconds between those dates.\n",
    "4. Define a function `get_date_n_days_after_today` that returns the date resulting from adding n days after today's date.\n",
    "5. Define a function `get_date_n_days_before_today` that returns the date resulting from subtracting n days before today's date."
   ]
  },
  {
   "cell_type": "code",
   "execution_count": 33,
   "metadata": {},
   "outputs": [
    {
     "name": "stdout",
     "output_type": "stream",
     "text": [
      "18005 days, 12:21:05.729326\n",
      "I've lived for 18005 days\n",
      "I've lived for 1555676465.729326 seconds\n",
      "I've lived for 1555676465 seconds\n",
      "26 May 2023\n",
      "22 May 2023\n"
     ]
    }
   ],
   "source": [
    "from datetime import datetime, timedelta\n",
    "\n",
    "# 1: difference between a date and now\n",
    "now = datetime.now()\n",
    "print(now - datetime(1974, 2, 5))\n",
    "\n",
    "# 2: difference in days\n",
    "diff = now - datetime(1974, 2, 5)\n",
    "print(f\"I've lived for {diff.days} days\")\n",
    "\n",
    "# 3: difference in seconds\n",
    "diff_seconds = diff.days * 24 * 60 * 60 + diff.seconds\n",
    "print(f\"I've lived for {diff.total_seconds()} seconds\")\n",
    "print(f\"I've lived for {diff_seconds} seconds\")\n",
    "\n",
    "\n",
    "# 4: get_date_n_days_after_today\n",
    "def get_date_n_days_after_today(num_days, date_format=\"%d %B %Y\"):\n",
    "    then = datetime.now() + timedelta(days=num_days)\n",
    "    return then.strftime(date_format)\n",
    "\n",
    "print(get_date_n_days_after_today(2))\n",
    "\n",
    "# 5: get_date_n_days_before_today\n",
    "def get_date_n_days_before_today(num_days, date_format=\"%d %B %Y\"):\n",
    "    then = datetime.now() - timedelta(days=num_days)\n",
    "    return then.strftime(date_format)\n",
    "\n",
    "print(get_date_n_days_before_today(2))\n"
   ]
  }
 ],
 "metadata": {
  "kernelspec": {
   "display_name": "base",
   "language": "python",
   "name": "python3"
  },
  "language_info": {
   "codemirror_mode": {
    "name": "ipython",
    "version": 3
   },
   "file_extension": ".py",
   "mimetype": "text/x-python",
   "name": "python",
   "nbconvert_exporter": "python",
   "pygments_lexer": "ipython3",
   "version": "3.10.10"
  },
  "orig_nbformat": 4
 },
 "nbformat": 4,
 "nbformat_minor": 2
}
