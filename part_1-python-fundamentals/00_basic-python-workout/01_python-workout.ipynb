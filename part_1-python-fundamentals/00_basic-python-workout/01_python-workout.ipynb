{
 "cells": [
  {
   "attachments": {},
   "cell_type": "markdown",
   "metadata": {},
   "source": [
    "# Basic Python workout\n",
    "\n",
    "This section is intended to provide a set of basic exercises to refresh basic Python concepts so that you can code in Python with confidence.\n",
    "\n",
    "The section assumes that a valid kernel is available for the Jupyter code blocks to run.\n",
    "Some familiarity with Python is also expected.\n",
    "\n",
    "## Table of Contents\n",
    "\n",
    "+ [Section 1 &mdash; Hello, Python!](#section-1--hello-python)\n",
    "+ [Section 2 &mdash; Hello, Lists!](#section-2--hello-lists)\n",
    "+ [Section 3 &mdash; Tuples](#section-3--tuples)\n",
    "+ [Section 4 &mdash; Sets](#section-4--sets)\n",
    "+ [Section 5 &mdash; Dictionaries](#section-5--dictionaries)\n",
    "+ [Section 6 &mdash; Ranges](#section-6--ranges)\n",
    "+ [Section 7 &mdash; List comprehensions](#section-7--list-comprehensions)\n",
    "+ [Section 8 &mdash; Generators](#section-8--generators)\n",
    "+ [Section 9 &mdash; The *zip* operation](#section-9--the-zip-operation)\n",
    "+ [Section 10 &mdash; The `*` (star or asterisk) operator](#section-10--the--star-or-asterisk-operator)\n",
    "+ [Section 11 &mdash; Exceptions](#section-11--exceptions)\n",
    "+ [Section 12 &mdash; String formatting/templating](#section-12--string-formattingtemplating)\n",
    "+ [Section 13 &mdash; Functions](#section-13--functions)\n",
    "+ [Section 14 &mdash; OOP](#section-14--oop)\n",
    "+ [Section 15 &mdash; Creating and importing libraries](#section-15--creating-and-importing-libraries)\n",
    "+ [Section 16 &mdash; Documenting your code](#section-16--documenting-your-code)\n",
    "+ [Section 17 &mdash; Files](#section-17--files)\n",
    "+ [Section 18 &mdash; The `with` statement](#section-18--the-with-statement)\n",
    "+ [Section 19 &mdash; Interacting with the underlying OS](#section-19--interacting-with-the-underlying-os)\n",
    "+ [Section 20 &mdash; Date and Time](#section-20--date-and-time)\n",
    "+ [Section 21 &mdash; Python Style Guide](#section-21--python-style-guide)\n",
    "+ [Section 22 &mdash; More on Operators](#section-22--more-on-operators)\n",
    "+ [Section 23 &mdash; More on strings](#section-23--more-on-strings)\n",
    "+ [Section 24 &mdash; More on Booleans](#section-24--more-on-booleans)\n",
    "+ [Section 25 &mdash; Enums](#section-25--enums)\n",
    "+ [Section 26 &mdash; Emulating constants](#section-26--emulating-constants)\n",
    "+ [Section 27 &mdash; Reading user input](#section-27--reading-user-input)\n",
    "+ [Section 28 &mdash; More on `if`](#section-28--more-on-if)\n",
    "+ [Section 29 &mdash; More on functions](#section-29--more-on-functions)\n",
    "+ [Section 30 &mdash; More on loops](#section-30--more-on-loops)\n",
    "+ [Section 31 &mdash; The Python Standard Library](#section-31--the-python-standard-library)\n",
    "+ [Section 32 &mdash; The PEP8 Python Style Guide](#section-32--the-pep8-python-style-guide)\n",
    "+ [Section 33 &mdash; Variable scope rules in Python](#section-33--variable-scope-rules-in-python)\n",
    "+ [Section 34 &mdash; Decorators](#section-34--decorators)\n",
    "+ [Section 35 &mdash; Introspection/Reflection](#section-35--introspectionreflection)\n",
    "+ [Section 36 &mdash; More on Exceptions](#section-36--more-on-exceptions)\n",
    "+ [Section 37 &mdash; More on operator overloading](#section-37--more-on-operator-overloading)\n",
    "+ [Section 38 &mdash; Collection functions](#section-38--collection-functions)\n",
    "+ [Section 39 &mdash; CLI/Terminal Arguments basics in Python](#section-39--cliterminal-arguments-basics-in-python)\n",
    "+ [Section 40 &mdash; Regular Expressions (regex/regexp)](#section-40--regular-expressions-regexregexp)\n",
    "+ [Section 41 &mdash; More on Data Containers](#section-41--more-on-data-containers)\n",
    "+ [Section 42 &mdash; More on Slicing](#section-42--more-on-slicing)\n",
    "+ [Section 43 &mdash; Finding items in a sequence](#section-43--finding-items-in-a-sequence)\n",
    "+ [Section 44 &mdash; More on Iterables and Iterators](#section-44--more-on-iterables-and-iterators)\n",
    "+ [Section 45 &mdash; More on list comprehensions, dictionary comprehensions, and set comprehensions](#section-45--more-on-list-comprehensions-dictionary-comprehensions-and-set-comprehensions)\n",
    "+ [Section 46 &mdash; Type Hinting: A gentle and focused introduction](#section-46--a-lighter-and-focused-introduction-into-type-hinting)\n",
    "+ [Section 47 &mdash; Increasing function flexibility with `*args`, `**kwargs` and `/`](#section-47--increasing-function-flexibility-with-args-kwargs-and)\n",
    "+ [Section 48 &mdash; More on OOP](#section-48--more-on-oop)\n",
    "+ [Section 49 &mdash; Processing JSON](#section-49--processing-json)\n",
    "+ [Section 50 &mdash; More on files](#section-50--more-on-files)\n",
    "+ [Section 51 &mdash; Logging](#section-51--logging)\n",
    "+ [Section 52 &mdash; Unit Testing](#section-52--unit-testing)\n",
    "+ [Section 53 &mdash; The *walrus* `:=` operator](#section-53--the-walrus--operator)"
   ]
  },
  {
   "attachments": {},
   "cell_type": "markdown",
   "metadata": {},
   "source": [
    "## Section 1 &mdash; Hello, Python!\n",
    "\n",
    "### Hello, World! in Python\n",
    "\n",
    "Write the canonical \"Hello, World!\" program in Python. To make it a bit more interesting, define a variable for the greeting message."
   ]
  },
  {
   "cell_type": "code",
   "execution_count": 1,
   "metadata": {},
   "outputs": [
    {
     "name": "stdout",
     "output_type": "stream",
     "text": [
      "Hello, World!\n"
     ]
    }
   ],
   "source": [
    "message = \"Hello, World!\"\n",
    "\n",
    "print(message)"
   ]
  },
  {
   "attachments": {},
   "cell_type": "markdown",
   "metadata": {},
   "source": [
    "### Hello functions\n",
    "\n",
    "Functions are first-class citizens in Python. Declare a function `f(x)` that returns the square of the value received as an argument.\n",
    "\n",
    "Then, use the function to compute and show the result of $ 5^2 $ and $ 7^2 $."
   ]
  },
  {
   "cell_type": "code",
   "execution_count": 2,
   "metadata": {},
   "outputs": [
    {
     "name": "stdout",
     "output_type": "stream",
     "text": [
      "25\n",
      "49\n"
     ]
    }
   ],
   "source": [
    "def f(x):\n",
    "    return x**2\n",
    "\n",
    "print(f(5))\n",
    "print(f(7))"
   ]
  },
  {
   "attachments": {},
   "cell_type": "markdown",
   "metadata": {},
   "source": [
    "### Functions as arguments to other functions\n",
    "\n",
    "Create a function `add(x, y)` that sums up the numbers received as arguments, and a function `sub(x, y)` that subtracts that numbers.\n",
    "\n",
    "Define the function `compute(x, y, op)` that receives as arguments two numbers and a function such as `add()` and `sub()` and use it to perform some calculations."
   ]
  },
  {
   "cell_type": "code",
   "execution_count": 3,
   "metadata": {},
   "outputs": [
    {
     "name": "stdout",
     "output_type": "stream",
     "text": [
      "5\n",
      "1\n"
     ]
    }
   ],
   "source": [
    "def add(x, y):\n",
    "    return x + y\n",
    "\n",
    "def sub(x, y):\n",
    "    return x - y\n",
    "\n",
    "def compute(x, y, op):\n",
    "    return op(x, y)\n",
    "\n",
    "res1 = compute(3, 2, add)\n",
    "res2 = compute(3, 2, sub)\n",
    "\n",
    "print(res1)\n",
    "print(res2)"
   ]
  },
  {
   "attachments": {},
   "cell_type": "markdown",
   "metadata": {},
   "source": [
    "### Using functions from the `math` library\n",
    "\n",
    "Write a program that imports the `math` library in your program to:\n",
    "+ print the value of $ \\pi $ and $ e $.\n",
    "+ compute $ \\sqrt{144} $\n",
    "+ compute $ sin(2 \\cdot pi) $"
   ]
  },
  {
   "cell_type": "code",
   "execution_count": 5,
   "metadata": {},
   "outputs": [
    {
     "name": "stdout",
     "output_type": "stream",
     "text": [
      "3.141592653589793\n",
      "2.718281828459045\n",
      "12.0\n",
      "-2.4492935982947064e-16\n"
     ]
    }
   ],
   "source": [
    "from math import pi, e, sqrt, sin  # better get only what's needed\n",
    "\n",
    "print(pi)\n",
    "print(e)\n",
    "\n",
    "print(sqrt(144))\n",
    "print(sin(2 * pi))"
   ]
  },
  {
   "attachments": {},
   "cell_type": "markdown",
   "metadata": {},
   "source": [
    "### Using complex numbers\n",
    "\n",
    "Python supports complex numbers out of the box. Define the complex numbers $ 3 + i $ and $ 100 + 10 i $ with $ i $ being the imaginary part.\n",
    "\n",
    "HINT: use `j` to represent the imaginary part"
   ]
  },
  {
   "cell_type": "code",
   "execution_count": 6,
   "metadata": {},
   "outputs": [
    {
     "name": "stdout",
     "output_type": "stream",
     "text": [
      "(3+1j)\n",
      "(100+10j)\n"
     ]
    }
   ],
   "source": [
    "c1 = 3 + 1j\n",
    "c2 = 100 + 10j\n",
    "\n",
    "print(c1)\n",
    "print(c2)"
   ]
  },
  {
   "attachments": {},
   "cell_type": "markdown",
   "metadata": {},
   "source": [
    "### Generating random numbers\n",
    "\n",
    "Using Python's `random` library that packs several utility functions to generate random numbers:\n",
    "+ produce a random integer between 0 and 10 (inclusive)\n",
    "+ produce a random floating point number between 7.5 and 10.5 (HINT: use `uniform`)"
   ]
  },
  {
   "cell_type": "code",
   "execution_count": 7,
   "metadata": {},
   "outputs": [
    {
     "name": "stdout",
     "output_type": "stream",
     "text": [
      "9\n",
      "8.979032581597249\n"
     ]
    }
   ],
   "source": [
    "from random import randint, uniform\n",
    "\n",
    "print(randint(0, 10))\n",
    "print(uniform(7.5, 10.5))"
   ]
  },
  {
   "attachments": {},
   "cell_type": "markdown",
   "metadata": {},
   "source": [
    "### Objects in Python\n",
    "\n",
    "Everything in Python is an object, even primitive types such as integers, strings, and floats.\n",
    "\n",
    "Objects in Python have attributes and methods that can be accessed using the `.` operator.\n",
    "\n",
    "There are a few interesting functions and methods you can use on Python objects:\n",
    "+ the method `bit_length()` returns the numbers of bits needed to represent a given number.\n",
    "+ the global function `id()` returns the memory location of a given object."
   ]
  },
  {
   "cell_type": "code",
   "execution_count": 2,
   "metadata": {},
   "outputs": [
    {
     "name": "stdout",
     "output_type": "stream",
     "text": [
      "3\n",
      "140137336275312\n",
      "140137140078576\n"
     ]
    }
   ],
   "source": [
    "n1 = 5\n",
    "n2 = 3.14\n",
    "\n",
    "print(n1.bit_length())\n",
    "# print(n2.bit_length())  # ERROR: float has no bit length method\n",
    "\n",
    "print(id(n1))\n",
    "print(id(n2))"
   ]
  },
  {
   "attachments": {},
   "cell_type": "markdown",
   "metadata": {},
   "source": [
    "Immutability is an essential concept in many programming languages. If an object provides methods to change the internal state of an object after having created it, it's considered mutable; otherwise, it is immutable.\n",
    "\n",
    "Most of Python data types are immutable, even when it doesn't feel so.\n",
    "You can see in the following example how the memory address for the same variable is updated even when we are reusing the variable name."
   ]
  },
  {
   "cell_type": "code",
   "execution_count": 3,
   "metadata": {},
   "outputs": [
    {
     "name": "stdout",
     "output_type": "stream",
     "text": [
      "&n1:  140137336275312\n",
      "&n1:  140137336275344\n"
     ]
    }
   ],
   "source": [
    "n1 = 5\n",
    "print(\"&n1: \", id(n1))\n",
    "\n",
    "n1 += 1\n",
    "print(\"&n1: \", id(n1))"
   ]
  },
  {
   "attachments": {},
   "cell_type": "markdown",
   "metadata": {},
   "source": [
    "## Section 2 &mdash; Hello, Lists!\n",
    "\n",
    "Lists are ordered collection of elements. Lists in Python are a fundamental concepts on which many other advanced constructs are based.\n",
    "\n",
    "### Creating a list and accessing its elements\n",
    "\n",
    "Create a named collection `months` containing the name of the months from January to June. Print in the screen the first month and the 4th month. Using negative indexes, get the month before last, and the last month.\n"
   ]
  },
  {
   "cell_type": "code",
   "execution_count": 11,
   "metadata": {},
   "outputs": [
    {
     "name": "stdout",
     "output_type": "stream",
     "text": [
      "First month: Jan\n",
      "Fourth month: Apr\n",
      "Last month: Jun\n",
      "Penultimate month: May\n"
     ]
    }
   ],
   "source": [
    "months = [\"Jan\", \"Feb\", \"Mar\", \"Apr\", \"May\", \"Jun\"]\n",
    "\n",
    "print(\"First month:\", months[0])\n",
    "print(\"Fourth month:\", months[3])\n",
    "\n",
    "print(\"Last month:\", months[-1])\n",
    "print(\"Penultimate month:\", months[-2])"
   ]
  },
  {
   "attachments": {},
   "cell_type": "markdown",
   "metadata": {},
   "source": [
    "### Unpacking a list into named variables\n",
    "\n",
    "Use *unpacking* (also known destructuring in other languages) to create a named variable for the months of January through June."
   ]
  },
  {
   "cell_type": "code",
   "execution_count": 9,
   "metadata": {},
   "outputs": [
    {
     "name": "stdout",
     "output_type": "stream",
     "text": [
      "Jan\n",
      "Jun\n"
     ]
    }
   ],
   "source": [
    "months = [\"Jan\", \"Feb\", \"Mar\", \"Apr\", \"May\", \"Jun\"]\n",
    "\n",
    "jan, feb, mar, apr, may, jun = months\n",
    "\n",
    "print(jan)\n",
    "print(jun)"
   ]
  },
  {
   "attachments": {},
   "cell_type": "markdown",
   "metadata": {},
   "source": [
    "### Slicing lists\n",
    "\n",
    "Python lets you extract a *slice* from a list using the following syntax:\n",
    "\n",
    "```python\n",
    "my_list[start_inclusive:end_exclusive]\n",
    "```\n",
    "\n",
    "Python is flexible enough to let you omit the start index (meaning take from the first), or the last index (meaning take until the last).\n",
    "\n",
    "Create a list with the numbers 1 thru 10 (inclusive). \n",
    "+ Obtain the sublist of elements from the second to the 5th (inclusive) and print the obtained list. Print also the length of the list using the `len()` function.\n",
    "\n",
    "+ Obtain the sublist of elements from the 2nd to the one before last. Print the list and the len.\n",
    "\n",
    "+ Do the same with the sublist of elements from the 2nd to last.\n",
    "\n",
    "+ Repeat with the sublist of elements from the first to the one before last."
   ]
  },
  {
   "cell_type": "code",
   "execution_count": 17,
   "metadata": {},
   "outputs": [
    {
     "name": "stdout",
     "output_type": "stream",
     "text": [
      "sublist: [2, 3, 4, 5], len=4\n",
      "sublist: [2, 3, 4, 5, 6, 7, 8, 9], len=8\n",
      "sublist: [2, 3, 4, 5, 6, 7, 8, 9, 10], len=9\n",
      "sublist: [1, 2, 3, 4, 5, 6, 7, 8, 9], len=9\n"
     ]
    }
   ],
   "source": [
    "nums = [1, 2, 3, 4, 5, 6, 7, 8, 9, 10]\n",
    "\n",
    "def printListAndLen(l):\n",
    "    print(f\"sublist: {l}, len={len(l)}\")\n",
    "\n",
    "sublist = nums[1:5]\n",
    "printListAndLen(sublist)\n",
    "\n",
    "# note that nums[-1] = 10, but when slicing nums[s:-1] gets the one before last\n",
    "sublist = nums[1:-1]\n",
    "printListAndLen(sublist)\n",
    "\n",
    "sublist = nums[1:]\n",
    "printListAndLen(sublist)\n",
    "\n",
    "sublist = nums[:-1]\n",
    "printListAndLen(sublist)\n"
   ]
  },
  {
   "attachments": {},
   "cell_type": "markdown",
   "metadata": {},
   "source": [
    "### More unpacking and indexing\n",
    "\n",
    "Given the following list of strings `[\"jane\", \"john\", \"jill\", \"jack\"]`. Define a variable that gets jack, and another variable that gets the rest of names."
   ]
  },
  {
   "cell_type": "code",
   "execution_count": 18,
   "metadata": {},
   "outputs": [
    {
     "name": "stdout",
     "output_type": "stream",
     "text": [
      "jack\n",
      "rest: ['jane', 'john', 'jill']\n"
     ]
    }
   ],
   "source": [
    "names = [\"jane\", \"john\", \"jill\", \"jack\"]\n",
    "\n",
    "jack = names[-1]\n",
    "rest = names[:-1]\n",
    "\n",
    "print(jack)\n",
    "print(\"rest:\", rest)"
   ]
  },
  {
   "attachments": {},
   "cell_type": "markdown",
   "metadata": {},
   "source": [
    "### More unpacking and indexing (II)\n",
    "\n",
    "| NOTE: |\n",
    "| :---- |\n",
    "| This exercise requires tuples. |\n",
    "\n",
    "Given the following list:\n",
    "\n",
    "```python\n",
    "[(\"jane\", 21), (\"john\", 32), (\"jill\", 45), (\"jack\", 23)]\n",
    "```\n",
    "\n",
    "Define a variable that gets jack's name and his associated value.\n",
    "\n",
    "Use the following syntax `print(f\"Hello to {jack!r} who turns {jack_value} today!\")` to print the results."
   ]
  },
  {
   "cell_type": "code",
   "execution_count": 30,
   "metadata": {},
   "outputs": [
    {
     "name": "stdout",
     "output_type": "stream",
     "text": [
      "Jack's name: jack\n",
      "Jack's age: 23\n",
      "Hello to 'jack' who turns 23 today!\n"
     ]
    }
   ],
   "source": [
    "friends = [(\"jane\", 21), (\"john\", 32), (\"jill\", 45), (\"jack\", 23)]\n",
    "\n",
    "name, age = friends[-1]\n",
    "print(\"Jack's name:\", name)\n",
    "print(\"Jack's age:\", age)\n",
    "\n",
    "print(f\"Hello to {name!r} who turns {age} today!\")"
   ]
  },
  {
   "attachments": {},
   "cell_type": "markdown",
   "metadata": {},
   "source": [
    "Alternatively, you can use unpacking with `*_` which is used to discard all but the last value:"
   ]
  },
  {
   "cell_type": "code",
   "execution_count": 31,
   "metadata": {},
   "outputs": [
    {
     "name": "stdout",
     "output_type": "stream",
     "text": [
      "Hello to 'jack' who turns 23 today!\n"
     ]
    }
   ],
   "source": [
    "*_, (jack_name, jack_age) = friends\n",
    "\n",
    "print(f\"Hello to {jack_name!r} who turns {jack_age} today!\")"
   ]
  },
  {
   "cell_type": "markdown",
   "metadata": {},
   "source": [
    "### More on using the starred `*` expression when unpacking\n",
    "\n",
    "When the tuples contain many items is common to use the `*` operator.\n",
    "\n",
    "Consider the following example in which we have the scores of gymnastics event for a player. The scores are sorted in ascending order:\n",
    "\n",
    "Let's calculate:\n",
    "+ min score\n",
    "+ max score\n",
    "+ middles scores (all but the first and last)\n",
    "+ average score"
   ]
  },
  {
   "cell_type": "code",
   "execution_count": 5,
   "metadata": {},
   "outputs": [
    {
     "name": "stdout",
     "output_type": "stream",
     "text": [
      "min_score=6.1\n",
      "max_score=8.9\n",
      "middle_scores=[6.5, 6.8, 7.1, 7.3, 7.6, 8.2]\n",
      "average_score=7.312499999999999\n"
     ]
    }
   ],
   "source": [
    "player_scores = [6.1, 6.5, 6.8, 7.1, 7.3, 7.6, 8.2, 8.9]\n",
    "\n",
    "min_score = player_scores[0]\n",
    "max_score = player_scores[-1]\n",
    "middle_scores = player_scores[1:-1]\n",
    "\n",
    "avg_score = sum(player_scores) / len(player_scores)\n",
    "\n",
    "print(f\"min_score={min_score}\")\n",
    "print(f\"max_score={max_score}\")\n",
    "print(f\"middle_scores={middle_scores}\")\n",
    "print(f\"average_score={avg_score}\")\n"
   ]
  },
  {
   "cell_type": "markdown",
   "metadata": {},
   "source": [
    "A more Pythonic way makes use of the starred operator while unpacking:"
   ]
  },
  {
   "cell_type": "code",
   "execution_count": 6,
   "metadata": {},
   "outputs": [
    {
     "name": "stdout",
     "output_type": "stream",
     "text": [
      "min_score=6.1\n",
      "max_score=8.9\n",
      "middle_scores=[6.5, 6.8, 7.1, 7.3, 7.6, 8.2]\n",
      "average_score=7.312499999999999\n"
     ]
    }
   ],
   "source": [
    "player_scores = [6.1, 6.5, 6.8, 7.1, 7.3, 7.6, 8.2, 8.9]\n",
    "\n",
    "min_score, *middles, max_score = player_scores\n",
    "avg_score = sum(player_scores) / len(player_scores)\n",
    "\n",
    "print(f\"min_score={min_score}\")\n",
    "print(f\"max_score={max_score}\")\n",
    "print(f\"middle_scores={middle_scores}\")\n",
    "print(f\"average_score={avg_score}\")"
   ]
  },
  {
   "cell_type": "markdown",
   "metadata": {},
   "source": [
    "When using the starred expression `*var_name`:\n",
    "+ all items not denoted by other variables are captured by `var_name`\n",
    "+ a starred expression produces a list object of the captured items\n",
    "+ the number of captured items might be zero\n",
    "+ one assignment can only use one starred expression"
   ]
  },
  {
   "cell_type": "code",
   "execution_count": 7,
   "metadata": {},
   "outputs": [],
   "source": [
    "first_item, *mid_items, last_item = [\"a\", \"z\"]\n",
    "assert mid_items == []"
   ]
  },
  {
   "cell_type": "markdown",
   "metadata": {},
   "source": [
    "### Denoting unwanted items with underscore `_` when unpacking\n",
    "\n",
    "It's common to use `_` to remove distraction when capturing unwanted items while unpacking:"
   ]
  },
  {
   "cell_type": "code",
   "execution_count": 8,
   "metadata": {},
   "outputs": [],
   "source": [
    "task = (1001, \"Laundry\", \"Wash Clothes\", \"completed\")\n",
    "task_id, _, _, task_status = task\n",
    "\n",
    "assert task_id == 1001\n",
    "assert task_status == \"completed\""
   ]
  },
  {
   "cell_type": "markdown",
   "metadata": {},
   "source": [
    "But it is even more Pythonic to use the starred expression:"
   ]
  },
  {
   "cell_type": "code",
   "execution_count": 9,
   "metadata": {},
   "outputs": [],
   "source": [
    "task = (1001, \"Laundry\", \"Wash Clothes\", \"completed\")\n",
    "task_id, *_, task_status = task\n",
    "\n",
    "assert task_id == 1001\n",
    "assert task_status == \"completed\""
   ]
  },
  {
   "attachments": {},
   "cell_type": "markdown",
   "metadata": {},
   "source": [
    "### Concatenating lists\n",
    "\n",
    "Create two lists with the numbers 1, 2, 3 and 4, 5, 6. Concatenate them in a new list and print the results."
   ]
  },
  {
   "cell_type": "code",
   "execution_count": 20,
   "metadata": {},
   "outputs": [
    {
     "name": "stdout",
     "output_type": "stream",
     "text": [
      "[1, 2, 3, 4, 5, 6]\n"
     ]
    }
   ],
   "source": [
    "nums1 = [1, 2, 3]\n",
    "nums2 = [4, 5, 6]\n",
    "\n",
    "union_list = nums1 + nums2\n",
    "print(union_list)\n"
   ]
  },
  {
   "attachments": {},
   "cell_type": "markdown",
   "metadata": {},
   "source": [
    "### Indexing from the back of a list\n",
    "\n",
    "Create a list with the numbers 1 thru 10 (inclusive).\n",
    "\n",
    "Use negative indices to obtain the elements from the back of the list so that you can obtain the last element, and the one before the last element.\n",
    "\n",
    "Using the syntax used for slicing, obtain the sublist containing the elements from the second to the one before last (included)."
   ]
  },
  {
   "cell_type": "code",
   "execution_count": 21,
   "metadata": {},
   "outputs": [
    {
     "name": "stdout",
     "output_type": "stream",
     "text": [
      "last: 10\n",
      "before_last: 9\n",
      "sublist: [2, 3, 4, 5, 6, 7, 8, 9]\n"
     ]
    }
   ],
   "source": [
    "nums = [1, 2, 3, 4, 5, 6, 7, 8, 9, 10]\n",
    "\n",
    "last = nums[-1]\n",
    "before_last = nums[-2]\n",
    "sublist = nums[1:-1]\n",
    "\n",
    "print(\"last:\", last)\n",
    "print(\"before_last:\", before_last)\n",
    "print(\"sublist:\", sublist)"
   ]
  },
  {
   "attachments": {},
   "cell_type": "markdown",
   "metadata": {},
   "source": [
    "### Creating and accessing list of lists\n",
    "\n",
    "Create a list with 3 elements, those elements being:\n",
    "+ 1, 2, 3\n",
    "+ 4, 5, 6\n",
    "+ 7, 8, 9\n",
    "\n",
    "Then print the following elements:\n",
    "+ third element of the first list\n",
    "+ first element of the second list\n",
    "+ second element of the third list"
   ]
  },
  {
   "cell_type": "code",
   "execution_count": 24,
   "metadata": {},
   "outputs": [
    {
     "name": "stdout",
     "output_type": "stream",
     "text": [
      "3\n",
      "4\n",
      "8\n"
     ]
    }
   ],
   "source": [
    "l = [[1, 2, 3], [4, 5, 6], [7, 8, 9]]\n",
    "\n",
    "print(l[0][2]) # 3\n",
    "print(l[1][0]) # 4\n",
    "print(l[2][1]) # 8"
   ]
  },
  {
   "attachments": {},
   "cell_type": "markdown",
   "metadata": {},
   "source": [
    "### Iterating over the elements of a list\n",
    "\n",
    "Create a list with the months from January thru June. Iterate over the elements of the list using `for`. Print the results."
   ]
  },
  {
   "cell_type": "code",
   "execution_count": 25,
   "metadata": {},
   "outputs": [
    {
     "name": "stdout",
     "output_type": "stream",
     "text": [
      "Jan\n",
      "Feb\n",
      "Mar\n",
      "Apr\n",
      "May\n",
      "Jun\n"
     ]
    }
   ],
   "source": [
    "months = [\"Jan\", \"Feb\", \"Mar\", \"Apr\", \"May\", \"Jun\"]\n",
    "\n",
    "for m in months:\n",
    "    print(m)"
   ]
  },
  {
   "attachments": {},
   "cell_type": "markdown",
   "metadata": {},
   "source": [
    "### Appending items to a list programmatically\n",
    "\n",
    "The Python expression `range(start, end)` returns the collection of numbers from `start` to `end - 1`.\n",
    "\n",
    "Define an empty list and use a `for` loop to populate the initially empty list programmatically using `append`. Print the list as it is being created."
   ]
  },
  {
   "cell_type": "code",
   "execution_count": 26,
   "metadata": {},
   "outputs": [
    {
     "data": {
      "text/plain": [
       "[0, 1, 2, 3, 4, 5, 6, 7, 8, 9]"
      ]
     },
     "execution_count": 26,
     "metadata": {},
     "output_type": "execute_result"
    }
   ],
   "source": [
    "nums = []\n",
    "for num in range(0, 10):\n",
    "    nums.append(num)\n",
    "\n",
    "nums"
   ]
  },
  {
   "attachments": {},
   "cell_type": "markdown",
   "metadata": {},
   "source": [
    "### Sorting a list of numbers\n",
    "\n",
    "The `sorted()` built-in function can be used to sort a list. It optionally allows you to pass a function that identifies the key by which objects can be sorted.\n",
    "\n",
    "Use the `sorted` function to sort a set of 10 random floating point numbers."
   ]
  },
  {
   "cell_type": "code",
   "execution_count": 29,
   "metadata": {},
   "outputs": [
    {
     "name": "stdout",
     "output_type": "stream",
     "text": [
      "unsorted: [0.9930853928735712, 0.6051511170458547, 0.2898236134665778, 0.14020962361460065, 0.8587867475618877, 0.5484743695017377, 0.22068647740013325, 0.30042732381492077, 0.6243074788122748, 0.18171398934428906]\n",
      "sorted: [0.14020962361460065, 0.18171398934428906, 0.22068647740013325, 0.2898236134665778, 0.30042732381492077, 0.5484743695017377, 0.6051511170458547, 0.6243074788122748, 0.8587867475618877, 0.9930853928735712]\n"
     ]
    }
   ],
   "source": [
    "from random import random\n",
    "\n",
    "\n",
    "nums = [random() for _ in range(0, 10)]\n",
    "print(\"unsorted:\", nums)\n",
    "\n",
    "sorted_nums = sorted(nums)\n",
    "print(\"sorted:\", sorted_nums)"
   ]
  },
  {
   "attachments": {},
   "cell_type": "markdown",
   "metadata": {},
   "source": [
    "### Sorting a list of objects\n",
    "\n",
    "| NOTE: |\n",
    "| :---- |\n",
    "| The following exercise requires OOP. |\n",
    "\n",
    "The `sorted()` function allows you to pass a function which can be used to decide who the objects within a list can be sorted out.\n",
    "\n",
    "Consider the following class that models some person attributes:\n",
    "\n",
    "\n",
    "```python\n",
    "class Person:\n",
    "  def __init__(self, name, age):\n",
    "    self.name = name\n",
    "    self.age = age\n",
    "\n",
    "  def __repr__(self, ):\n",
    "    return \"Person(name=\" + self.name + \", age=\" + str(self.age) + \")\"\n",
    "```\n",
    "\n",
    "Create a list of objects, and sort them according to their age using the `sorted()` function."
   ]
  },
  {
   "cell_type": "code",
   "execution_count": 33,
   "metadata": {},
   "outputs": [
    {
     "name": "stdout",
     "output_type": "stream",
     "text": [
      "unsorted: [Person(name=Jane, age=21), Person(name=John, age=32), Person(name=Jill, age=45), Person(name=Jack, age=23)]\n",
      "sorted: [Person(name=Jane, age=21), Person(name=Jack, age=23), Person(name=John, age=32), Person(name=Jill, age=45)]\n"
     ]
    }
   ],
   "source": [
    "class Person:\n",
    "  def __init__(self, name, age):\n",
    "    self.name = name\n",
    "    self.age = age\n",
    "\n",
    "  def __repr__(self, ):\n",
    "    return \"Person(name=\" + self.name + \", age=\" + str(self.age) + \")\"\n",
    "\n",
    "\n",
    "friends = [Person(\"Jane\", 21), Person(\"John\", 32), Person(\"Jill\", 45), Person(\"Jack\", 23)]\n",
    "print(\"unsorted:\", friends)\n",
    "\n",
    "sorted_by_age = sorted(friends, key=lambda f : f.age)\n",
    "print(\"sorted:\", sorted_by_age)\n"
   ]
  },
  {
   "attachments": {},
   "cell_type": "markdown",
   "metadata": {},
   "source": [
    "### Reversing a list elements with `reverse()`\n",
    "\n",
    "The elements within a list can be *reversed* using Python. Note that this method *mutates* the given list, that is, it performs the operations in-place.\n",
    "\n",
    "Use the `reverse()` method to reverse the contents of a list containing the numbers 1 thru 5.\n",
    "\n",
    "| NOTE: |\n",
    "| :---- |\n",
    "| There is also a `reversed()` function. |"
   ]
  },
  {
   "cell_type": "code",
   "execution_count": 36,
   "metadata": {},
   "outputs": [
    {
     "name": "stdout",
     "output_type": "stream",
     "text": [
      "[5, 4, 3, 2, 1]\n"
     ]
    }
   ],
   "source": [
    "l = [1, 2, 3, 4, 5]\n",
    "\n",
    "l.reverse()\n",
    "print(l)"
   ]
  },
  {
   "attachments": {},
   "cell_type": "markdown",
   "metadata": {},
   "source": [
    "### Concatenating the elements of a list to a string using `str.join()`\n",
    "\n",
    "The elements of a list can be concatenated into a single string using `str.join()`.\n",
    "\n",
    "Using this approach, convert a list of characters, strings, and numbers into a single string (respectively) using `join`.\n",
    "\n",
    "HINT 1: Consider using `\"\".join()`\n",
    "\n",
    "HINT 2: To convert a list of numbers into a single string you will need to convert each of its elements to a string. Consider using `map()` to do so. As the conversion is simple, you might define an anonymous lambda function for that."
   ]
  },
  {
   "cell_type": "code",
   "execution_count": 38,
   "metadata": {},
   "outputs": [
    {
     "name": "stdout",
     "output_type": "stream",
     "text": [
      "abc\n",
      "alphabetagamma\n",
      "12345\n"
     ]
    }
   ],
   "source": [
    "chars = ['a', 'b', 'c']\n",
    "strings = [\"alpha\", \"beta\", \"gamma\"]\n",
    "nums = [1, 2, 3, 4, 5]\n",
    "\n",
    "print(\"\".join(chars))\n",
    "print(\"\".join(strings))\n",
    "print(\"\".join(map(lambda num : str(num), nums)))"
   ]
  },
  {
   "cell_type": "markdown",
   "metadata": {},
   "source": [
    "Note that `.join` accepts a delimiter, so that you can write:"
   ]
  },
  {
   "cell_type": "code",
   "execution_count": 63,
   "metadata": {},
   "outputs": [
    {
     "name": "stdout",
     "output_type": "stream",
     "text": [
      "font-size=large, font=Arial, color=black, align=center\n"
     ]
    }
   ],
   "source": [
    "style_settings = [\"font-size=large\", \"font=Arial\", \"color=black\", \"align=center\"]\n",
    "print(\", \".join(style_settings))"
   ]
  },
  {
   "cell_type": "markdown",
   "metadata": {},
   "source": [
    "### Splitting a string to create a list of strings\n",
    "\n",
    "The `split` method can be used to locate the specified delimiters within a string and separate them accordingly."
   ]
  },
  {
   "cell_type": "code",
   "execution_count": 2,
   "metadata": {},
   "outputs": [
    {
     "name": "stdout",
     "output_type": "stream",
     "text": [
      "[['1001', 'Homework', '5'], ['1002', 'Laundry', '3'], ['1003', 'Grocery', '4'], ['']]\n"
     ]
    }
   ],
   "source": [
    "task_data = \"\"\"1001,Homework,5\n",
    "1002,Laundry,3\n",
    "1003,Grocery,4\"\"\"\n",
    "\n",
    "processed_tasks = []\n",
    "for data_line in task_data.split(\"\\n\"):\n",
    "    processed_task = data_line.split(\",\")\n",
    "    processed_tasks.append(processed_task)\n",
    "\n",
    "print(processed_tasks)"
   ]
  },
  {
   "cell_type": "markdown",
   "metadata": {},
   "source": [
    "The `split` and `rsplit` methods have the following calling signature. Both methods take an argument to specify the separator and another to specify the max number of created items.\n",
    "\n",
    "The difference shows up when the number of max items is different as `split` starts from the left and `rsplit` from the right."
   ]
  },
  {
   "cell_type": "code",
   "execution_count": 4,
   "metadata": {},
   "outputs": [
    {
     "name": "stdout",
     "output_type": "stream",
     "text": [
      "using split : ['This is line 1', 'This is line 2', 'This is line 3', 'This is line 4\\nThis is line 5']\n",
      "using rsplit: ['This is line 1\\nThis is line 2', 'This is line 3', 'This is line 4', 'This is line 5']\n"
     ]
    }
   ],
   "source": [
    "lines_data = \"\"\"This is line 1\n",
    "This is line 2\n",
    "This is line 3\n",
    "This is line 4\n",
    "This is line 5\"\"\"\n",
    "\n",
    "lines_using_split = lines_data.split(\"\\n\", 3)\n",
    "lines_using_rsplit = lines_data.rsplit(\"\\n\", 3)\n",
    "\n",
    "print(f\"using split : {lines_using_split}\")\n",
    "print(f\"using rsplit: {lines_using_rsplit}\")\n"
   ]
  },
  {
   "attachments": {},
   "cell_type": "markdown",
   "metadata": {},
   "source": [
    "### Find a first match in a list (or iterable)\n",
    "\n",
    "Given a list containing the names \"Linda\", \"Tiffany\", \"Florina\", and \"Jovann\", use the method `index()` to find the first name whose length is 7.\n",
    "\n",
    "| NOTE: |\n",
    "| :---- |\n",
    "| `iter.index(val)` returns the index of the first element of the list matching `val`. |"
   ]
  },
  {
   "cell_type": "code",
   "execution_count": 40,
   "metadata": {},
   "outputs": [
    {
     "name": "stdout",
     "output_type": "stream",
     "text": [
      "1\n",
      "Tiffany\n"
     ]
    }
   ],
   "source": [
    "names = [\"Linda\", \"Tiffany\", \"Florina\", \"Jovann\"]\n",
    "lengths = [len(s) for s in names]\n",
    "\n",
    "print(lengths.index(7))\n",
    "print(names[lengths.index(7)])"
   ]
  },
  {
   "attachments": {},
   "cell_type": "markdown",
   "metadata": {},
   "source": [
    "### Using `in` to check if an item belongs to a list\n",
    "\n",
    "You can use `in` to check if an item is defined in a list.\n",
    "\n",
    "Illustrate with an example."
   ]
  },
  {
   "cell_type": "code",
   "execution_count": 2,
   "metadata": {},
   "outputs": [
    {
     "name": "stdout",
     "output_type": "stream",
     "text": [
      "False\n",
      "True\n"
     ]
    }
   ],
   "source": [
    "l = [\"one\", 2, \"a\", False]\n",
    "\n",
    "print(\"foo\" in l)\n",
    "print(\"a\" in l)"
   ]
  },
  {
   "attachments": {},
   "cell_type": "markdown",
   "metadata": {},
   "source": [
    "### The empty list `[]`\n",
    "\n",
    "You can define an empty list using `[]`. You can use it to add afterwards more items to a list."
   ]
  },
  {
   "attachments": {},
   "cell_type": "markdown",
   "metadata": {},
   "source": [
    "### Lists are mutable\n",
    "\n",
    "Python lists are mutable, and therefore, their items can be modified after having being inserted to the lists. The list itself is also mutable, so you can append or remove elements.\n",
    "\n",
    "Illustrate with a simple example."
   ]
  },
  {
   "cell_type": "code",
   "execution_count": 6,
   "metadata": {},
   "outputs": [
    {
     "name": "stdout",
     "output_type": "stream",
     "text": [
      "['one', 14, 'a', False]\n",
      "['one', 14, 'a', False, 3.1415]\n",
      "[14, 'a', False, 3.1415]\n"
     ]
    }
   ],
   "source": [
    "l = [\"one\", 2, \"a\", False]\n",
    "\n",
    "# elements can be modified\n",
    "l[1] = 14\n",
    "print(l)\n",
    "\n",
    "# list themselves can be modified\n",
    "l.append(3.1415)\n",
    "print(l)\n",
    "\n",
    "# remove by index\n",
    "l.pop(0)\n",
    "print(l)"
   ]
  },
  {
   "attachments": {},
   "cell_type": "markdown",
   "metadata": {},
   "source": [
    "### Adding elements to a list\n",
    "\n",
    "Individual items can be added to a list using its `append()` method, the `extend()` method, and the `+` and `+=` operator.\n",
    "\n",
    "The details are:\n",
    "+ `append()` &mdash; add a new item at the end of the list.\n",
    "+ `extend()` &mdash; concatenates the given list to an existing one.\n",
    "+ `+=` &mdash; concatenates the list on the right-hand side to the list on the left-hand side.\n",
    "+ `+` &mdash; concatenates the given lists\n",
    "\n",
    "Additional, you can use `insert()` method to insert an item on a specific place in the list.\n",
    "\n",
    "Write a program following these steps:\n",
    "+ define an empty list named `items`\n",
    "+ Add an element `\"one\"` using `append`.\n",
    "+ Add an element `\"two\"` after the previous one using `append`.\n",
    "+ Add the element `\"three\"` using `extend`.\n",
    "+ Add the elements `\"four\"` and `\"five\"` in one shot using `extend`.\n",
    "+ Do the same using `+=` with element `\"six\"`, and then `\"seven\"`, and `\"eight\"`.\n",
    "+ Create a list by combining `[1, 2, 3]`, and `[4, 5, 6, 7, 8]`.\n",
    "+ Insert the element `0` in the previous list.\n",
    "+ Insert the element `3.5` between `3` and `4`.\n"
   ]
  },
  {
   "cell_type": "code",
   "execution_count": 12,
   "metadata": {},
   "outputs": [
    {
     "name": "stdout",
     "output_type": "stream",
     "text": [
      "['one']\n",
      "['one', 'two']\n",
      "['one', 'two', 'three']\n",
      "['one', 'two', 'three', 'four', 'five']\n",
      "['one', 'two', 'three', 'four', 'five', 'six']\n",
      "['one', 'two', 'three', 'four', 'five', 'six', 'seven', 'eight']\n",
      "[1, 2, 3, 4, 5, 6, 7, 8]\n",
      "[0, 1, 2, 3, 4, 5, 6, 7, 8]\n",
      "[0, 1, 2, 3, 3.5, 4, 5, 6, 7, 8]\n"
     ]
    }
   ],
   "source": [
    "items = []\n",
    "\n",
    "items.append(\"one\")\n",
    "print(items)\n",
    "\n",
    "items.append(\"two\")\n",
    "print(items)\n",
    "\n",
    "items.extend([\"three\"])\n",
    "print(items)\n",
    "\n",
    "items.extend([\"four\", \"five\"])\n",
    "print(items)\n",
    "\n",
    "items += [\"six\"]\n",
    "print(items)\n",
    "\n",
    "items += [\"seven\", \"eight\"]\n",
    "print(items)\n",
    "\n",
    "l = [1, 2, 3] + [4, 5, 6, 7, 8]\n",
    "print(l)\n",
    "\n",
    "l.insert(0, 0)\n",
    "print(l)\n",
    "\n",
    "l.insert(4, 3.5)\n",
    "print(l)"
   ]
  },
  {
   "attachments": {},
   "cell_type": "markdown",
   "metadata": {},
   "source": [
    "### Removing items by value\n",
    "\n",
    "Items can be removed from a list using `remove(item)`.\n",
    "\n",
    "Define a list `n` with contents `[\"one\", \"two\", \"three\", \"two\"]`, and issue a `remove(\"two\")` statement. Confirm that only the first element is removed."
   ]
  },
  {
   "cell_type": "code",
   "execution_count": 13,
   "metadata": {},
   "outputs": [
    {
     "name": "stdout",
     "output_type": "stream",
     "text": [
      "['one', 'three', 'two']\n"
     ]
    }
   ],
   "source": [
    "n = [\"one\", \"two\", \"three\", \"two\"]\n",
    "n.remove(\"two\")\n",
    "print(n)"
   ]
  },
  {
   "attachments": {},
   "cell_type": "markdown",
   "metadata": {},
   "source": [
    "### Copying a list using slicing\n",
    "\n",
    "Copy the contents of a list using slices."
   ]
  },
  {
   "cell_type": "code",
   "execution_count": 14,
   "metadata": {},
   "outputs": [
    {
     "name": "stdout",
     "output_type": "stream",
     "text": [
      "[1, 2, 3, 4, 5]\n",
      "[1, 2, 3, 4, 5]\n"
     ]
    }
   ],
   "source": [
    "nums = [1, 2, 3, 4, 5]\n",
    "nums_copy = nums[:]\n",
    "\n",
    "print(nums)\n",
    "print(nums_copy)"
   ]
  },
  {
   "attachments": {},
   "cell_type": "markdown",
   "metadata": {},
   "source": [
    "### More on sorting lists\n",
    "\n",
    "A list can be sorted inline using the `sort` method. The method requires the items of the list to be comparable. If items cannot be sorted you'll get a `TypeError`."
   ]
  },
  {
   "cell_type": "code",
   "execution_count": 17,
   "metadata": {},
   "outputs": [
    {
     "name": "stdout",
     "output_type": "stream",
     "text": [
      "[1, 4, 2, 6, 3, 5]\n",
      "[1, 2, 3, 4, 5, 6]\n"
     ]
    }
   ],
   "source": [
    "items = [1, 4, 2, 6, 3, 5]\n",
    "print(items)\n",
    "\n",
    "items.sort()\n",
    "print(items)"
   ]
  },
  {
   "cell_type": "code",
   "execution_count": 19,
   "metadata": {},
   "outputs": [
    {
     "name": "stdout",
     "output_type": "stream",
     "text": [
      "'<' not supported between instances of 'bool' and 'str'\n"
     ]
    }
   ],
   "source": [
    "try:\n",
    "    l = [\"one\", \"two\", 'a', False]\n",
    "    l.sort()\n",
    "except Exception as e:\n",
    "    print(e)"
   ]
  },
  {
   "attachments": {},
   "cell_type": "markdown",
   "metadata": {},
   "source": [
    "The `sorted()` global method can be used to obtain the list that results from sorting a given one:"
   ]
  },
  {
   "cell_type": "code",
   "execution_count": 21,
   "metadata": {},
   "outputs": [
    {
     "name": "stdout",
     "output_type": "stream",
     "text": [
      "[1, 2, 3, 4, 5, 6]\n",
      "[1, 4, 2, 6, 3, 5]\n"
     ]
    }
   ],
   "source": [
    "l = [1, 4, 2, 6, 3, 5]\n",
    "\n",
    "print(sorted(l))\n",
    "print(l)"
   ]
  },
  {
   "attachments": {},
   "cell_type": "markdown",
   "metadata": {},
   "source": [
    "Both `sort` and `sorted` accept arguments to drive how the comparison is performed:"
   ]
  },
  {
   "cell_type": "code",
   "execution_count": 22,
   "metadata": {},
   "outputs": [
    {
     "name": "stdout",
     "output_type": "stream",
     "text": [
      "['Eloy', 'carlos', 'Antonio', 'ascen', 'gloria']\n",
      "['Antonio', 'Eloy', 'ascen', 'carlos', 'gloria']\n",
      "['Antonio', 'ascen', 'carlos', 'Eloy', 'gloria']\n"
     ]
    }
   ],
   "source": [
    "friends = [\"Eloy\", \"carlos\", \"Antonio\", \"ascen\", \"gloria\"]\n",
    "orig_l = friends[:]\n",
    "\n",
    "friends.sort()  # default\n",
    "\n",
    "print(orig_l)\n",
    "print(friends)\n",
    "print(sorted(orig_l, key=str.lower))"
   ]
  },
  {
   "attachments": {},
   "cell_type": "markdown",
   "metadata": {},
   "source": [
    "## Section 3 &mdash; Tuples\n",
    "\n",
    "Unlike lists, tuples are immutable collection of elements. The elements can be of any type.\n",
    "\n",
    "Tuple elements can be accessed pretty much like list elements."
   ]
  },
  {
   "attachments": {},
   "cell_type": "markdown",
   "metadata": {},
   "source": [
    "### Creating tuples statically\n",
    "\n",
    "Create:\n",
    "+ `tuple_1`: the tuple containing the elements 1 and 2\n",
    "+ `tuple_2`: the tuple containing the elements a, b, c, and d\n",
    "+ `tuple_3`: the tuple containing the elements 1 through 5 without using parentheses"
   ]
  },
  {
   "cell_type": "code",
   "execution_count": 1,
   "metadata": {},
   "outputs": [
    {
     "name": "stdout",
     "output_type": "stream",
     "text": [
      "(1, 2)\n",
      "('a', 'b', 'c', 'd')\n",
      "(1, 2, 3, 4, 5)\n"
     ]
    }
   ],
   "source": [
    "tuple_1 = (1, 2)  # normal syntax\n",
    "tuple_2 = ('a', 'b', 'c', 'd')\n",
    "tuple_3 = 1, 2, 3, 4, 5\n",
    "\n",
    "print(tuple_1)\n",
    "print(tuple_2)\n",
    "print(tuple_3)"
   ]
  },
  {
   "attachments": {},
   "cell_type": "markdown",
   "metadata": {},
   "source": [
    "### Accessing tuple elements\n",
    "\n",
    "Using the tuples defined in the previous exercise, print:\n",
    "+ The first and second element of `tuple_1`\n",
    "+ The one before last and last element of `tuple_2`\n",
    "+ The tuple consisting of elements 2nd thru 4th of `tuple_3`"
   ]
  },
  {
   "cell_type": "code",
   "execution_count": 4,
   "metadata": {},
   "outputs": [
    {
     "name": "stdout",
     "output_type": "stream",
     "text": [
      "1\n",
      "2\n",
      "c\n",
      "d\n",
      "(2, 3, 4)\n"
     ]
    }
   ],
   "source": [
    "print(tuple_1[0]) # 1\n",
    "print(tuple_1[1]) # 2\n",
    "\n",
    "print(tuple_2[-2]) # c\n",
    "print(tuple_2[-1]) # d\n",
    "\n",
    "print(tuple_3[1:4])"
   ]
  },
  {
   "attachments": {},
   "cell_type": "markdown",
   "metadata": {},
   "source": [
    "## Section 4 &mdash; Sets\n",
    "\n",
    "Sets are another built-in collection available in Python. It is used to hold distinct elements when the order of elements in the container is not important."
   ]
  },
  {
   "attachments": {},
   "cell_type": "markdown",
   "metadata": {},
   "source": [
    "### Creating Sets statically\n",
    "\n",
    "Create a set with the elements 0 through 5"
   ]
  },
  {
   "cell_type": "code",
   "execution_count": 8,
   "metadata": {},
   "outputs": [
    {
     "name": "stdout",
     "output_type": "stream",
     "text": [
      "{0, 1, 2, 3, 4, 5}\n"
     ]
    }
   ],
   "source": [
    "num_set = {0, 1, 2, 3, 4, 5}\n",
    "print(set)"
   ]
  },
  {
   "attachments": {},
   "cell_type": "markdown",
   "metadata": {},
   "source": [
    "### Removing duplicates from a List with a Set\n",
    "\n",
    "Generate a list of 100 random elements from 0 to 9. Create a set out of the list and print the results."
   ]
  },
  {
   "cell_type": "code",
   "execution_count": 1,
   "metadata": {},
   "outputs": [
    {
     "name": "stdout",
     "output_type": "stream",
     "text": [
      "{0, 1, 2, 3, 4, 5, 6, 7, 8, 9}\n"
     ]
    }
   ],
   "source": [
    "from random import randint\n",
    "\n",
    "nums = [randint(0, 9) for _ in range(0, 100)]\n",
    "distinct_nums = set(nums)\n",
    "print(distinct_nums)"
   ]
  },
  {
   "attachments": {},
   "cell_type": "markdown",
   "metadata": {},
   "source": [
    "### Complement, Union, and Intersection operations on Sets\n",
    "\n",
    "Sets provide support to perform the complement, union, and intersection on Sets.\n",
    "\n",
    "Consider the following sets:\n",
    "+ The sample space of an experiment $ S $, denoted as $ S = \\{ 0, 1, 2, 3, 4, 5, 6, 7, 8, 9 \\}$.\n",
    "\n",
    "+ The events:\n",
    "  + $ A = \\{ 0, 2, 4, 6, 8 \\}$, \n",
    "  + $ B = \\{ 1, 3, 5, 7, 9 \\}$, \n",
    "  + $ C = \\{ 2, 3, 4, 5 \\} $, \n",
    "  + and $ D = \\{ 1, 6, 7 \\} $.\n",
    "\n",
    "\n",
    "Use Python to calculate:\n",
    "\n",
    "1. $ A \\cup C $\n",
    "2. $ A \\cap B $\n",
    "3. $ C' $\n",
    "4. $ (C' \\cap D) \\cup B $\n",
    "5. $ (S \\cap C)' $\n",
    "6. $ A \\cap C \\cap D' $"
   ]
  },
  {
   "cell_type": "code",
   "execution_count": 12,
   "metadata": {},
   "outputs": [
    {
     "name": "stdout",
     "output_type": "stream",
     "text": [
      "A ∪ C = {0, 2, 3, 4, 5, 6, 8}\n",
      "A ∩ B = set()\n",
      "C' = {0, 1, 6, 7, 8, 9}\n",
      "(C' ∩ D) ∪ B = {1, 3, 5, 6, 7, 9}\n",
      "(S ∩ C)' = {0, 1, 6, 7, 8, 9}\n",
      "A ∩ C ∩ D' = {2, 4}\n"
     ]
    }
   ],
   "source": [
    "S = {0, 1, 2, 3, 4, 5, 6, 7, 8, 9}\n",
    "A = {0, 2, 4, 6, 8}\n",
    "B = {1, 3, 5, 7, 9}\n",
    "C = {2, 3, 4, 5}\n",
    "D = {1, 6, 7}\n",
    "\n",
    "print(\"A ∪ C =\", A.union(C))\n",
    "print(\"A ∩ B =\", A.intersection(B)) # Note that the empty set is denoted as set()\n",
    "print(\"C' =\", S.difference(C))\n",
    "print(\"(C' ∩ D) ∪ B =\", (S.difference(C).intersection(D)).union(B))\n",
    "print(\"(S ∩ C)' =\", S.difference(S.intersection(C)))\n",
    "print(\"A ∩ C ∩ D' =\", A.intersection(C).intersection(S.difference(D)))\n"
   ]
  },
  {
   "attachments": {},
   "cell_type": "markdown",
   "metadata": {},
   "source": [
    "| NOTE: |\n",
    "| :---- |\n",
    "| You can use `&` for intersection, `|` for union, and `-` for difference. |"
   ]
  },
  {
   "attachments": {},
   "cell_type": "markdown",
   "metadata": {},
   "source": [
    "### Checking if a set is a superset of other\n",
    "\n",
    "You can check if a set is a superset of another using `>`."
   ]
  },
  {
   "cell_type": "code",
   "execution_count": 32,
   "metadata": {},
   "outputs": [
    {
     "name": "stdout",
     "output_type": "stream",
     "text": [
      "True\n"
     ]
    }
   ],
   "source": [
    "set1 = { \"Idris\", \"Jason\", \"Kenneth\"}\n",
    "set2 = { \"Jason\" }\n",
    "\n",
    "print(set1 > set2)"
   ]
  },
  {
   "attachments": {},
   "cell_type": "markdown",
   "metadata": {},
   "source": [
    "## Section 5 &mdash; Dictionaries\n",
    "\n",
    "Dictionaries are collections of key-value pairs."
   ]
  },
  {
   "attachments": {},
   "cell_type": "markdown",
   "metadata": {},
   "source": [
    "### Creating static dictionaries\n",
    "\n",
    "Create a dictionary for a dog whose keys are name and age and populate it with values.\n",
    "\n",
    "The access the individual values to print a message for the dog.\n",
    "\n",
    "Try to access a non-existing key such as \"breed\". Try to see how to prevent the runtime error."
   ]
  },
  {
   "cell_type": "code",
   "execution_count": 12,
   "metadata": {},
   "outputs": [
    {
     "name": "stdout",
     "output_type": "stream",
     "text": [
      "{'name': 'Mara', 'age': 7}\n",
      "Congrats to Mara who turns 7\n",
      "There is no breed info for Mara\n"
     ]
    }
   ],
   "source": [
    "dog = {\n",
    "    \"name\": \"Mara\",\n",
    "    \"age\": 7\n",
    "}\n",
    "\n",
    "print(dog)\n",
    "\n",
    "print(f\"Congrats to {dog['name']} who turns {dog['age']}\")\n",
    "\n",
    "# print(\"breed:\", dog[\"breed\"]) # this panics!\n",
    "if \"breed\" in dog:\n",
    "    print(dog[\"breed\"])\n",
    "else:\n",
    "    print(\"There is no breed info for\", dog[\"name\"])"
   ]
  },
  {
   "attachments": {},
   "cell_type": "markdown",
   "metadata": {},
   "source": [
    "### Using `get` and specifying default values\n",
    "\n",
    "You can get elements from a dictionary using the syntax `d[\"key\"]`, but that operation fails if the key does not exist in the dictionary.\n",
    "\n",
    "Alternatively, you can use the `get` method which allows you to specify a default value:"
   ]
  },
  {
   "cell_type": "code",
   "execution_count": 25,
   "metadata": {},
   "outputs": [
    {
     "name": "stdout",
     "output_type": "stream",
     "text": [
      "Jason\n",
      "Jason\n",
      "None\n",
      "n/a\n"
     ]
    }
   ],
   "source": [
    "p = { \"name\": \"Jason\", \"age\": 54}\n",
    "\n",
    "print(p[\"name\"])\n",
    "print(p.get(\"name\"))\n",
    "#  print(p[\"nationality\"])  # key error: \"nationality\"\n",
    "print(p.get(\"nationality\")) # None\n",
    "print(p.get(\"nationality\", \"n/a\"))"
   ]
  },
  {
   "attachments": {},
   "cell_type": "markdown",
   "metadata": {},
   "source": [
    "### Converting a dictionary into a list\n",
    "\n",
    "A dictionary can be converted into a list using `list()` built-in function.\n",
    "\n",
    "Convert the dictionary from the previous exercise into a list and print the results. Did you get the expected results?\n",
    "\n",
    "Try again using the `items` method on the dictionary before converting it into a list.\n",
    "\n",
    "Then iterate through the corresponding list generating a report like the following:\n",
    "\n",
    "```\n",
    "key=<key-from-dict>, value=<value-from-dict>\n",
    "```"
   ]
  },
  {
   "cell_type": "code",
   "execution_count": 7,
   "metadata": {},
   "outputs": [
    {
     "name": "stdout",
     "output_type": "stream",
     "text": [
      "['name', 'age']\n",
      "[('name', 'Mara'), ('age', 7)]\n",
      "key=name, value=Mara\n",
      "key=age, value=7\n"
     ]
    }
   ],
   "source": [
    "l = list(dog)\n",
    "print(l)        # prints the dictionary keys\n",
    "\n",
    "list_items = list(dog.items())\n",
    "print(list_items)   # prints tuples (key, val)\n",
    "\n",
    "for key, val in list_items:\n",
    "    print(f\"key={key}, value={val}\")"
   ]
  },
  {
   "attachments": {},
   "cell_type": "markdown",
   "metadata": {},
   "source": [
    "### Getting a list of a dictionary keys and values\n",
    "\n",
    "In the same way that you can use `items()` to get a list of the key-value pairs, you can use `keys()` to get the keys and `values()` to get the values. \n",
    "\n",
    "The result can be further transformed into a list using `list`."
   ]
  },
  {
   "cell_type": "code",
   "execution_count": 28,
   "metadata": {},
   "outputs": [
    {
     "name": "stdout",
     "output_type": "stream",
     "text": [
      "dict_keys(['name', 'age'])\n",
      "['name', 'age']\n",
      "dict_values(['Jason', 54])\n",
      "['Jason', 54]\n"
     ]
    }
   ],
   "source": [
    "p = { \"name\": \"Jason\", \"age\": 54}\n",
    "\n",
    "print(p.keys())\n",
    "print(list(p.keys()))\n",
    "\n",
    "print(p.values())\n",
    "print(list(p.values()))"
   ]
  },
  {
   "attachments": {},
   "cell_type": "markdown",
   "metadata": {},
   "source": [
    "### Removing keys from a dictionary using `del`\n",
    "\n",
    "You can remove keys from a dictionary using `del`:"
   ]
  },
  {
   "cell_type": "code",
   "execution_count": 29,
   "metadata": {},
   "outputs": [
    {
     "name": "stdout",
     "output_type": "stream",
     "text": [
      "{'name': 'Jason'}\n"
     ]
    }
   ],
   "source": [
    "p = { \"name\": \"Jason\", \"age\": 54}\n",
    "\n",
    "del p[\"age\"]\n",
    "\n",
    "print(p)\n",
    "\n"
   ]
  },
  {
   "attachments": {},
   "cell_type": "markdown",
   "metadata": {},
   "source": [
    "### Copying a dictionary using `copy`\n",
    "\n",
    "You can create a copy of a dictionary using `copy`:\n",
    "\n"
   ]
  },
  {
   "cell_type": "code",
   "execution_count": 31,
   "metadata": {},
   "outputs": [
    {
     "name": "stdout",
     "output_type": "stream",
     "text": [
      "{'USA': 'Washington D.C.', 'France': 'Paris', 'Germany': 'Berlin', 'Spain': 'Madrid'}\n",
      "{'USA': 'Washington D.C.', 'France': 'Paris', 'Germany': 'Berlin'}\n"
     ]
    }
   ],
   "source": [
    "capitals_by_country = {\n",
    "    'USA': 'Washington D.C.',\n",
    "    'France': 'Paris',\n",
    "    'Germany': 'Berlin'\n",
    "    }\n",
    "\n",
    "capitals_copy = capitals_by_country.copy()\n",
    "capitals_by_country[\"Spain\"] = \"Madrid\"\n",
    "\n",
    "print(capitals_by_country)\n",
    "print(capitals_copy)\n"
   ]
  },
  {
   "attachments": {},
   "cell_type": "markdown",
   "metadata": {},
   "source": [
    "### Dictionary generators\n",
    "\n",
    "| NOTE: |\n",
    "| :---- |\n",
    "| This exercise requires generators and list comprehensions. |\n",
    "\n",
    "In the same way that you can use list comprehensions as a compact syntax to generate lists, you can use the following syntax to generate dictionary objects.\n",
    "\n",
    "```python\n",
    "{key:value for elem in elems}\n",
    "```\n",
    "\n",
    "Use this approach to create a frequency map for the characters found in a string.\n",
    "\n",
    "For example, the string \"jason isaacs\" should produce the following dictionary\n",
    "\n",
    "```python\n",
    "{\n",
    "  ' ': 1,\n",
    "  'j': 1,\n",
    "  'a': 3,\n",
    "  's': 2,\n",
    "  'o': 1,\n",
    "  'n': 1,\n",
    "  'i': 1,\n",
    "  'c': 1\n",
    "}\n",
    "```"
   ]
  },
  {
   "cell_type": "code",
   "execution_count": 13,
   "metadata": {},
   "outputs": [
    {
     "name": "stdout",
     "output_type": "stream",
     "text": [
      "{'j': 1, 'a': 3, 's': 3, 'o': 1, 'n': 1, ' ': 1, 'i': 1, 'c': 1}\n"
     ]
    }
   ],
   "source": [
    "def get_freq_map(str):\n",
    "    freq_map = {c: 0 for c in str}\n",
    "    for c in str:\n",
    "        freq_map[c] = freq_map[c] + 1\n",
    "    return freq_map\n",
    "\n",
    "print(get_freq_map(\"jason isaacs\"))"
   ]
  },
  {
   "cell_type": "markdown",
   "metadata": {},
   "source": [
    "### Creating a dictionary from two lists\n",
    "\n",
    "In Python, it is fairly common to work with lists in parallel. For example, for plotting libraries you might have a list that keeps track of all the X-axis values, and another list that holds the Y-axis values.\n",
    "\n",
    "At some point, you might need to recreate a dictionary that *zips* them together in a dictionary.\n",
    "\n",
    "Consider the data below in which you have a list with the IDs or certain tasks to be performed, and the corresponding titles for those tasks. The exercise consists on creating a dictionary whose keys as re the tasks IDs and the values are the corresponding titles.\n",
    "\n",
    "That is, the desired output is:\n",
    "\n",
    "```python\n",
    "desired_output = {101: \"Laundry\", 102: \"Homework\", 103: \"Soccer\"}\n",
    "```"
   ]
  },
  {
   "cell_type": "code",
   "execution_count": 5,
   "metadata": {},
   "outputs": [],
   "source": [
    "id_numbers = [101, 102, 103]\n",
    "titles = [\"Laundry\", \"Homework\", \"Soccer\"]\n",
    "\n",
    "# First attempt: non pythonic\n",
    "desired_output = dict()\n",
    "for i in range(len(id_numbers)):\n",
    "    desired_output[id_numbers[i]] = titles[i]\n",
    "\n",
    "# Note that assertion might fail as not sure if dict preserve ordering\n",
    "assert desired_output == {101: \"Laundry\", 102: \"Homework\", 103: \"Soccer\"}"
   ]
  },
  {
   "cell_type": "markdown",
   "metadata": {},
   "source": [
    "The previous solution can be improved with the `zip` function and dictionary comprehension:"
   ]
  },
  {
   "cell_type": "code",
   "execution_count": 6,
   "metadata": {},
   "outputs": [],
   "source": [
    "id_numbers = [101, 102, 103]\n",
    "titles = [\"Laundry\", \"Homework\", \"Soccer\"]\n",
    "\n",
    "desired_output = {k: v for k, v in zip(id_numbers, titles)}\n",
    "\n",
    "# Note that assertion might fail as not sure if dict preserve ordering\n",
    "assert desired_output == {101: \"Laundry\", 102: \"Homework\", 103: \"Soccer\"}"
   ]
  },
  {
   "cell_type": "markdown",
   "metadata": {},
   "source": [
    "### Using `dict.fromkeys`\n",
    "\n",
    "The function `dict.fromkeys` lets you create a dictionary whose keys are given in an iterable passed as an argument:"
   ]
  },
  {
   "cell_type": "code",
   "execution_count": 7,
   "metadata": {},
   "outputs": [
    {
     "name": "stdout",
     "output_type": "stream",
     "text": [
      "{'statuses': None, 'urgencies': None, 'content': None}\n"
     ]
    }
   ],
   "source": [
    "reading_params = dict.fromkeys([\"statuses\", \"urgencies\", \"content\"])\n",
    "print(reading_params)"
   ]
  },
  {
   "cell_type": "markdown",
   "metadata": {},
   "source": [
    "You can also pass the initial value in another argument. That value will be assigned to each and every key:"
   ]
  },
  {
   "cell_type": "code",
   "execution_count": 9,
   "metadata": {},
   "outputs": [
    {
     "name": "stdout",
     "output_type": "stream",
     "text": [
      "{'one': 5, 'two': 5, 'three': 5, 'catorce': 5}\n"
     ]
    }
   ],
   "source": [
    "nums = dict.fromkeys([\"one\", \"two\", \"three\", \"catorce\"], 5)\n",
    "\n",
    "print(nums)"
   ]
  },
  {
   "attachments": {},
   "cell_type": "markdown",
   "metadata": {},
   "source": [
    "## Section 6 &mdash; Ranges\n",
    "\n",
    "A range is another type of Python collection. The `range()` function returns an object that you can iterate over."
   ]
  },
  {
   "attachments": {},
   "cell_type": "markdown",
   "metadata": {},
   "source": [
    "### Creating and iterating over ranges\n",
    "\n",
    "Create a range object containing the numbers 0 thru 9, print it, and iterate over it printing only the even numbers."
   ]
  },
  {
   "cell_type": "code",
   "execution_count": 15,
   "metadata": {},
   "outputs": [
    {
     "name": "stdout",
     "output_type": "stream",
     "text": [
      "range(0, 9)\n",
      "0 is an even number\n",
      "2 is an even number\n",
      "4 is an even number\n",
      "6 is an even number\n",
      "8 is an even number\n"
     ]
    }
   ],
   "source": [
    "nums = range(0, 9)\n",
    "\n",
    "print(nums) # ranges are not materialized by default\n",
    "\n",
    "for num in nums:\n",
    "    if num % 2 == 0:\n",
    "        print(f\"{num} is an even number\")"
   ]
  },
  {
   "attachments": {},
   "cell_type": "markdown",
   "metadata": {},
   "source": [
    "### Materializing ranges\n",
    "\n",
    "Create a range of the odd numbers from 5 to 15. Materialize it and print the resulting list."
   ]
  },
  {
   "cell_type": "code",
   "execution_count": 16,
   "metadata": {},
   "outputs": [
    {
     "name": "stdout",
     "output_type": "stream",
     "text": [
      "[5, 7, 9, 11, 13, 15]\n"
     ]
    }
   ],
   "source": [
    "odd_nums = range(5, 16, 2)\n",
    "print(list(odd_nums))"
   ]
  },
  {
   "attachments": {},
   "cell_type": "markdown",
   "metadata": {},
   "source": [
    "## Section 7 &mdash; List comprehensions\n",
    "\n",
    "List comprehensions is a fancy Python technique that allows you to build lists in a succinct and declarative manner.\n",
    "\n",
    "Mastering list comprehensions is fundamental to make your Python programs more idiomatic."
   ]
  },
  {
   "attachments": {},
   "cell_type": "markdown",
   "metadata": {},
   "source": [
    "### Hello, list comprehensions\n",
    "\n",
    "Create a list containing the first cubes from 0 to 9 using both an imperative approach using a loop, and declarative using a list comprehension."
   ]
  },
  {
   "cell_type": "code",
   "execution_count": 18,
   "metadata": {},
   "outputs": [
    {
     "name": "stdout",
     "output_type": "stream",
     "text": [
      "[0, 1, 8, 27, 64, 125, 216, 343, 512, 729]\n",
      "[0, 1, 8, 27, 64, 125, 216, 343, 512, 729]\n"
     ]
    }
   ],
   "source": [
    "cubes = []\n",
    "for num in range(0, 10):\n",
    "    cubes.append(num ** 3)\n",
    "print(cubes)\n",
    "\n",
    "cubes = [ num ** 3 for num in range(0, 10)]\n",
    "print(cubes)"
   ]
  },
  {
   "attachments": {},
   "cell_type": "markdown",
   "metadata": {},
   "source": [
    "### Nested loops in list comprehensions\n",
    "\n",
    "Using list comprehensions, create a list of all the months in 2020, 2021, 2022, and 2023, so that resulting list looks like:\n",
    "\n",
    "```\n",
    "Jan, 2020\n",
    "Feb, 2020\n",
    "Mar, 2020\n",
    "...\n",
    "Dec, 2022\n",
    "```"
   ]
  },
  {
   "cell_type": "code",
   "execution_count": 19,
   "metadata": {},
   "outputs": [
    {
     "name": "stdout",
     "output_type": "stream",
     "text": [
      "['Jan, 2020', 'Feb, 2020', 'Mar, 2020', 'Apr, 2020', 'May, 2020', 'Jun, 2020', 'Jul, 2020', 'Aug, 2020', 'Sep, 2020', 'Oct, 2020', 'Nov, 2020', 'Dec, 2020', 'Jan, 2021', 'Feb, 2021', 'Mar, 2021', 'Apr, 2021', 'May, 2021', 'Jun, 2021', 'Jul, 2021', 'Aug, 2021', 'Sep, 2021', 'Oct, 2021', 'Nov, 2021', 'Dec, 2021', 'Jan, 2022', 'Feb, 2022', 'Mar, 2022', 'Apr, 2022', 'May, 2022', 'Jun, 2022', 'Jul, 2022', 'Aug, 2022', 'Sep, 2022', 'Oct, 2022', 'Nov, 2022', 'Dec, 2022', 'Jan, 2023', 'Feb, 2023', 'Mar, 2023', 'Apr, 2023', 'May, 2023', 'Jun, 2023', 'Jul, 2023', 'Aug, 2023', 'Sep, 2023', 'Oct, 2023', 'Nov, 2023', 'Dec, 2023']\n"
     ]
    }
   ],
   "source": [
    "months = [\"Jan\", \"Feb\", \"Mar\", \"Apr\", \"May\", \"Jun\", \"Jul\", \"Aug\", \"Sep\", \"Oct\", \"Nov\", \"Dec\"]\n",
    "years = range(2020, 2024)\n",
    "\n",
    "c = [m + \", \" + str(y) for y in years for m in months]\n",
    "print(c)"
   ]
  },
  {
   "attachments": {},
   "cell_type": "markdown",
   "metadata": {},
   "source": [
    "### More on nested list comprehensions\n",
    "\n",
    "Using list comprehensions, create a list of lists with all the months from 2020 to 2023, so that months are defined in their own vector.\n",
    "\n",
    "That is, the list should look like:\n",
    "\n",
    "```\n",
    "[\n",
    "  [\"Jan, 2020\", \"Feb, 2020\", ..., \"Dec, 2020\"],\n",
    "  [\"Jan, 2021\", \"Feb, 2021\", ..., \"Dec, 2021\"],\n",
    "  [\"Jan, 2022\", \"Feb, 2022\", ..., \"Dec, 2022\"],\n",
    "]\n",
    "```"
   ]
  },
  {
   "cell_type": "code",
   "execution_count": 23,
   "metadata": {},
   "outputs": [
    {
     "name": "stdout",
     "output_type": "stream",
     "text": [
      "[['Jan, 2020', 'Feb, 2020', 'Mar, 2020', 'Apr, 2020', 'May, 2020', 'Jun, 2020', 'Jul, 2020', 'Aug, 2020', 'Sep, 2020', 'Oct, 2020', 'Nov, 2020', 'Dec, 2020', 'Jan, 2021', 'Feb, 2021', 'Mar, 2021', 'Apr, 2021', 'May, 2021', 'Jun, 2021', 'Jul, 2021', 'Aug, 2021', 'Sep, 2021', 'Oct, 2021', 'Nov, 2021', 'Dec, 2021', 'Jan, 2022', 'Feb, 2022', 'Mar, 2022', 'Apr, 2022', 'May, 2022', 'Jun, 2022', 'Jul, 2022', 'Aug, 2022', 'Sep, 2022', 'Oct, 2022', 'Nov, 2022', 'Dec, 2022', 'Jan, 2023', 'Feb, 2023', 'Mar, 2023', 'Apr, 2023', 'May, 2023', 'Jun, 2023', 'Jul, 2023', 'Aug, 2023', 'Sep, 2023', 'Oct, 2023', 'Nov, 2023', 'Dec, 2023']]\n",
      "[['Jan, 2020'], ['Feb, 2020'], ['Mar, 2020'], ['Apr, 2020'], ['May, 2020'], ['Jun, 2020'], ['Jul, 2020'], ['Aug, 2020'], ['Sep, 2020'], ['Oct, 2020'], ['Nov, 2020'], ['Dec, 2020'], ['Jan, 2021'], ['Feb, 2021'], ['Mar, 2021'], ['Apr, 2021'], ['May, 2021'], ['Jun, 2021'], ['Jul, 2021'], ['Aug, 2021'], ['Sep, 2021'], ['Oct, 2021'], ['Nov, 2021'], ['Dec, 2021'], ['Jan, 2022'], ['Feb, 2022'], ['Mar, 2022'], ['Apr, 2022'], ['May, 2022'], ['Jun, 2022'], ['Jul, 2022'], ['Aug, 2022'], ['Sep, 2022'], ['Oct, 2022'], ['Nov, 2022'], ['Dec, 2022'], ['Jan, 2023'], ['Feb, 2023'], ['Mar, 2023'], ['Apr, 2023'], ['May, 2023'], ['Jun, 2023'], ['Jul, 2023'], ['Aug, 2023'], ['Sep, 2023'], ['Oct, 2023'], ['Nov, 2023'], ['Dec, 2023']]\n"
     ]
    }
   ],
   "source": [
    "months = [\"Jan\", \"Feb\", \"Mar\", \"Apr\", \"May\", \"Jun\", \"Jul\", \"Aug\", \"Sep\", \"Oct\", \"Nov\", \"Dec\"]\n",
    "years = range(2020, 2024)\n",
    "\n",
    "c = [[m + \", \" + str(y) for y in years for m in months]]\n",
    "print(c)\n",
    "\n",
    "# Note that this is also possible but different\n",
    "c = [[m + \", \" + str(y)] for y in years for m in months]\n",
    "print(c)"
   ]
  },
  {
   "attachments": {},
   "cell_type": "markdown",
   "metadata": {},
   "source": [
    "### Combination of elements using list comprehensions and tuples\n",
    "\n",
    "Create the combination of elements:\n",
    "$$ \n",
    "(x, y)  \\text{ where }  -1 <= x <= 5 \\text{ and } 0 <= y <= 1\n",
    "$$"
   ]
  },
  {
   "cell_type": "code",
   "execution_count": 24,
   "metadata": {},
   "outputs": [
    {
     "name": "stdout",
     "output_type": "stream",
     "text": [
      "[(-1, 0), (-1, 1), (0, 0), (0, 1), (1, 0), (1, 1), (2, 0), (2, 1), (3, 0), (3, 1), (4, 0), (4, 1), (5, 0), (5, 1)]\n"
     ]
    }
   ],
   "source": [
    "combos = [(x, y) for x in range(-1, 6) for y in range(0, 2)]\n",
    "print(combos)"
   ]
  },
  {
   "attachments": {},
   "cell_type": "markdown",
   "metadata": {},
   "source": [
    "## Section 8 &mdash; Generators\n",
    "\n",
    "Generators allow you to create iterables that are not materialized (i.e., they don't store the values physically, but rather, they're produced on demand)."
   ]
  },
  {
   "cell_type": "markdown",
   "metadata": {},
   "source": [
    "### Compute the sum of the squares of the first 1,000,000 integers\n",
    "\n",
    "In order to illustrate when generators are needed, write a snippet that computes the sum of the squares of the first 1,000,000 integers."
   ]
  },
  {
   "cell_type": "code",
   "execution_count": 2,
   "metadata": {},
   "outputs": [
    {
     "name": "stdout",
     "output_type": "stream",
     "text": [
      "sum: 333333833333500000; memory used: 8448712\n"
     ]
    }
   ],
   "source": [
    "upper_limit = 1_000_000 # a good practice to use _ as thousands separator\n",
    "\n",
    "squares = [x * x for x in range(1, upper_limit + 1)]\n",
    "sum_squares = sum(squares)\n",
    "print(f\"sum: {sum_squares}; memory used: {squares.__sizeof__()}\")"
   ]
  },
  {
   "cell_type": "markdown",
   "metadata": {},
   "source": [
    "A generator is a special kind of iterator that render its items one by one. It doesn't need to *store* its items, which means that you can make it very memory efficient for data rendering.\n",
    "\n",
    "The memory hungry previous implementation can be improved with a generator:"
   ]
  },
  {
   "cell_type": "code",
   "execution_count": 4,
   "metadata": {},
   "outputs": [
    {
     "name": "stdout",
     "output_type": "stream",
     "text": [
      "88\n"
     ]
    }
   ],
   "source": [
    "def perfect_squares(limit):\n",
    "    n = 1\n",
    "    while n <= limit:\n",
    "        yield n * n\n",
    "        n += 1\n",
    "\n",
    "upper_limit = 1_000_000\n",
    "squares_gen = perfect_squares(upper_limit)\n",
    "sum_squares = sum(squares_gen)\n",
    "\n",
    "assert sum_squares == 333333833333500000\n",
    "\n",
    "print(squares_gen.__sizeof__())"
   ]
  },
  {
   "cell_type": "markdown",
   "metadata": {},
   "source": [
    "`yield` is different from `return`, which terminates the current execution and gives control back to the caller. By contrast, `yield` pauses the current execution and gives control back to the caller.\n",
    "\n",
    "By contrast, `yield` pauses the current execution and gives control back to the caller temporarily.\n",
    "\n",
    "A *generator* is an iterator at its core, so using a generator involves invoking the `next` function. When the loop is terminated, all the items are yielded.\n",
    "\n",
    "That's the reason why you shouldn't invoke a generator function directly &mdash; this will return a generator wrapper instead of the yielded value. Instead, you should invoke `__next__` (which is ugly), or include the generator in a construct that calls `__next__` behind the scenes (for loops, comprehensions...)."
   ]
  },
  {
   "attachments": {},
   "cell_type": "markdown",
   "metadata": {},
   "source": [
    "### Infinite generator\n",
    "\n",
    "Create an iterable represented by a function `count()` that returns the integer numbers starting from 0. Print the first three elements. Did you get the results you were expecting to get?\n",
    "\n",
    "Use the same iterable in a `for` loop to print the elements until 10. Can you explain the results?"
   ]
  },
  {
   "cell_type": "code",
   "execution_count": 30,
   "metadata": {},
   "outputs": [
    {
     "name": "stdout",
     "output_type": "stream",
     "text": [
      "<generator object count at 0x7fa99a4a5a10>\n",
      "<generator object count at 0x7fa99a4a5a10>\n",
      "<generator object count at 0x7fa99a4a5a10>\n",
      "0\n",
      "1\n",
      "2\n",
      "3\n",
      "4\n",
      "5\n",
      "6\n",
      "7\n",
      "8\n",
      "9\n",
      "10\n"
     ]
    }
   ],
   "source": [
    "def count():\n",
    "    n = 0\n",
    "    while True:\n",
    "        yield n\n",
    "        n += 1\n",
    "\n",
    "# Printing the first three elems of the generator function\n",
    "print(count())\n",
    "print(count())\n",
    "print(count())\n",
    "\n",
    "# Using a for loop\n",
    "for n in count():\n",
    "    if n > 10:\n",
    "        break\n",
    "    print(n)"
   ]
  },
  {
   "attachments": {},
   "cell_type": "markdown",
   "metadata": {},
   "source": [
    "Generator functions are iterables, and therefore, cannot be materialized by invoking the function."
   ]
  },
  {
   "attachments": {},
   "cell_type": "markdown",
   "metadata": {},
   "source": [
    "### Generators and list comprehensions\n",
    "\n",
    "List comprehensions are a great way to materialize and collect values from generators.\n",
    "\n",
    "Using the previously defined `count()` function as inspiration, create a new `count(start, end)` generator function that produces the numbers from `start` to `end`. Then use a list comprehension to *collect* the values from the generator."
   ]
  },
  {
   "cell_type": "code",
   "execution_count": 28,
   "metadata": {},
   "outputs": [
    {
     "name": "stdout",
     "output_type": "stream",
     "text": [
      "[0, 1, 2, 3, 4, 5, 6, 7, 8, 9, 10]\n"
     ]
    }
   ],
   "source": [
    "def count(start, end):\n",
    "    for n in range(start, end + 1):\n",
    "        yield n\n",
    "\n",
    "nums = [n for n in count(0, 10)]\n",
    "print(nums)"
   ]
  },
  {
   "attachments": {},
   "cell_type": "markdown",
   "metadata": {},
   "source": [
    "### Generator comprehensions\n",
    "\n",
    "A generator comprehension is a special type of syntax that lets you define generators in a much compact way.\n",
    "\n",
    "Use the generator comprehension syntax and the regular syntax to create a generator that produces the squares from zero to 9."
   ]
  },
  {
   "cell_type": "code",
   "execution_count": 31,
   "metadata": {},
   "outputs": [
    {
     "name": "stdout",
     "output_type": "stream",
     "text": [
      "[0, 1, 4, 9, 16, 25, 36, 49, 64, 81]\n",
      "[0, 1, 4, 9, 16, 25, 36, 49, 64, 81]\n"
     ]
    }
   ],
   "source": [
    "# func syntax for generators\n",
    "def gen_squares():\n",
    "    for n in range(0, 10):\n",
    "        yield n * n\n",
    "\n",
    "some_squares = [s for s in gen_squares()]\n",
    "print(some_squares)\n",
    "\n",
    "# compact way\n",
    "squares = (x * x for x in range(0, 10))\n",
    "some_squares = [s for s in gen_squares()]\n",
    "print(some_squares)\n"
   ]
  },
  {
   "cell_type": "markdown",
   "metadata": {},
   "source": [
    "#### Using generator expressions (generator comprehensions)\n",
    "\n",
    "Use the *generator expression*/*generator comprehension* syntax to create a generator that returns the squares of the first million integers."
   ]
  },
  {
   "cell_type": "code",
   "execution_count": 5,
   "metadata": {},
   "outputs": [],
   "source": [
    "upper_limit = 1_000_000\n",
    "squares_gen_expr = (x * x for x in range(1, upper_limit + 1))\n",
    "\n",
    "sum_squares = sum(squares_gen_expr)\n",
    "assert sum_squares == 333333833333500000"
   ]
  },
  {
   "cell_type": "markdown",
   "metadata": {},
   "source": [
    "#### Compact generator expression/generator comprehension\n",
    "\n",
    "When you use a generator directly in the invocation of a function, you don't need to use the extra parenthesis:"
   ]
  },
  {
   "cell_type": "code",
   "execution_count": 6,
   "metadata": {},
   "outputs": [],
   "source": [
    "upper_limit = 1_000_000\n",
    "\n",
    "sum_squares = sum(x * x for x in range(1, upper_limit + 1))\n",
    "assert sum_squares == 333333833333500000"
   ]
  },
  {
   "cell_type": "markdown",
   "metadata": {},
   "source": [
    "### Fibonacci sequence using a generator\n",
    "\n",
    "Create a generator function that returns the Fibonacci sequence: 0, 1, 1, 2, 3, 5, 8, 13..."
   ]
  },
  {
   "cell_type": "code",
   "execution_count": 7,
   "metadata": {},
   "outputs": [
    {
     "name": "stdout",
     "output_type": "stream",
     "text": [
      "0\n",
      "1\n",
      "2\n",
      "3\n",
      "5\n",
      "8\n",
      "13\n",
      "21\n",
      "34\n",
      "55\n",
      "89\n"
     ]
    }
   ],
   "source": [
    "def fib():\n",
    "    yield 0\n",
    "    aux_0 = 0\n",
    "    aux_1 = 1\n",
    "    while True:\n",
    "        yield aux_1 + aux_0\n",
    "        aux_0, aux_1 = aux_1, aux_0 + aux_1\n",
    "\n",
    "\n",
    "for n in fib():\n",
    "    if n > 100:\n",
    "        break\n",
    "    print(n)"
   ]
  },
  {
   "attachments": {},
   "cell_type": "markdown",
   "metadata": {},
   "source": [
    "## Section 9 &mdash; The *zip* operation\n",
    "\n",
    "The `zip()` built-in function lets you combine two iterables into a new one.\n",
    "\n",
    "| NOTE: |\n",
    "| :---- |\n",
    "| By itself, invoking `zip()` does not materialize the resulting iterable. If you need to materialize the results you will need to collect invoking a function such as `list()`, or similar. |"
   ]
  },
  {
   "attachments": {},
   "cell_type": "markdown",
   "metadata": {},
   "source": [
    "### Hello, zip!\n",
    "\n",
    "Use the `zip` function to combine the list of numbers from 1 thru 3 and the list of characters 'a', 'b', and 'c'."
   ]
  },
  {
   "cell_type": "code",
   "execution_count": 32,
   "metadata": {},
   "outputs": [
    {
     "name": "stdout",
     "output_type": "stream",
     "text": [
      "<zip object at 0x7fa99a4e3600>\n",
      "[(1, 'a'), (2, 'b'), (3, 'c')]\n"
     ]
    }
   ],
   "source": [
    "zipped = zip(range(1, 4), ['a', 'b', 'c'])\n",
    "\n",
    "# The zip operation does not materialize the resulting iterable\n",
    "print(zipped)\n",
    "\n",
    "# But you can materialize it invoking list() or using list comprehensions\n",
    "print(list(zipped))"
   ]
  },
  {
   "cell_type": "markdown",
   "metadata": {},
   "source": [
    "### Zipping iterables of different number of items\n",
    "\n",
    "By default, the `zip` function stops zipping when the iterable with the fewest number of items is exhausted."
   ]
  },
  {
   "cell_type": "code",
   "execution_count": 24,
   "metadata": {},
   "outputs": [],
   "source": [
    "assert list(zip(range(3), range(4))) == [(0, 0), (1, 1), (2, 2)]"
   ]
  },
  {
   "cell_type": "markdown",
   "metadata": {},
   "source": [
    "In Python 3.10, an optional parameter `strict` was introduced to change the behavior.\n",
    "\n",
    "When set to `True`, if one of the iterables is longer than the other a `ValueError` exception will be raised."
   ]
  },
  {
   "cell_type": "code",
   "execution_count": 28,
   "metadata": {},
   "outputs": [
    {
     "name": "stdout",
     "output_type": "stream",
     "text": [
      "Ooops: zip() argument 2 is longer than argument 1\n"
     ]
    }
   ],
   "source": [
    "try:\n",
    "    list(zip(range(3), range(4), strict=True))\n",
    "except ValueError as e:\n",
    "    print(f\"Ooops: {e}\")"
   ]
  },
  {
   "cell_type": "markdown",
   "metadata": {},
   "source": [
    "### Using `zip_longest` to zip with the longer iterable\n",
    "\n",
    "In some cases, you might need to use the longest iterable. In those cases, you can rely on `zip_longest` function:"
   ]
  },
  {
   "cell_type": "code",
   "execution_count": 29,
   "metadata": {},
   "outputs": [],
   "source": [
    "from itertools import zip_longest\n",
    "\n",
    "assert list(zip_longest(range(3), range(4))) == [\n",
    "    (0, 0), (1, 1), (2, 2), (None, 3)\n",
    "]"
   ]
  },
  {
   "attachments": {},
   "cell_type": "markdown",
   "metadata": {},
   "source": [
    "## Section 10 &mdash; The `*` (star or asterisk) operator\n",
    "\n",
    "The `*` operator (aka star or asterisk operator) can mean different, but interrelated things in Python:\n",
    "\n",
    "+ In a function declaration, it allows a variable number of arguments to be passed to the function in a single parameter placeholder. That is, it lets you implement variadic functions.\n",
    "\n",
    "+ It can be used to convert a list into an object that can be fed to a variadic function.\n",
    "\n",
    "For more information see the corresponding section on [Increasing function flexibility with `*args`, `**kwargs` and `/`](#section-47--increasing-function-flexibility-with-args-kwargs-and)."
   ]
  },
  {
   "attachments": {},
   "cell_type": "markdown",
   "metadata": {},
   "source": [
    "### Hello, `*`\n",
    "\n",
    "Create a function tht adds a variable number of arguments under a single parameter name. Then declare a list of the numbers from 0 to 10 and pass that list to the function."
   ]
  },
  {
   "cell_type": "code",
   "execution_count": 3,
   "metadata": {},
   "outputs": [
    {
     "name": "stdout",
     "output_type": "stream",
     "text": [
      "6\n",
      "55\n"
     ]
    }
   ],
   "source": [
    "# add is a variadic function\n",
    "def add(*nums):\n",
    "    total = 0\n",
    "    for n in nums:\n",
    "        total += n\n",
    "    return total\n",
    "\n",
    "# You can call it as a normal function\n",
    "print(add(1, 2, 3))\n",
    "\n",
    "# Creating a list and feeding it to the function\n",
    "nums = [n for n in range(0, 11)]\n",
    "# print(add(nums)) # panics! Unsupported operand types: expects ints but finds list\n",
    "print(add(*nums))"
   ]
  },
  {
   "attachments": {},
   "cell_type": "markdown",
   "metadata": {},
   "source": [
    "## Section 11 &mdash; Exceptions\n",
    "\n",
    "Python provides exception handling with the *try-except* construct:\n",
    "\n",
    "```python\n",
    "try:\n",
    "  # block that can throw\n",
    "except Exception as ex:\n",
    "  # handle exception\n",
    "```\n",
    "\n",
    "You can also optionally add a `finally` clause to execute some code independently of whether an exception was raised or not:\n",
    "\n",
    "```python\n",
    "try:\n",
    "  # code for the happy path\n",
    "except Exception as ex:\n",
    "  # code for the sad path\n",
    "finally:\n",
    "  # code to execute after happy/exception path\n",
    "```"
   ]
  },
  {
   "attachments": {},
   "cell_type": "markdown",
   "metadata": {},
   "source": [
    "### Hello, exceptions!\n",
    "\n",
    "Write a try-except block to capture the exception that is thrown when you invoke the function `add(*nums)` from the previous exercise with the list of numbers."
   ]
  },
  {
   "cell_type": "code",
   "execution_count": 4,
   "metadata": {},
   "outputs": [
    {
     "name": "stdout",
     "output_type": "stream",
     "text": [
      "add failed: unsupported operand type(s) for +=: 'int' and 'list'\n"
     ]
    }
   ],
   "source": [
    "nums = [n for n in range(0, 10)]\n",
    "try:\n",
    "    add(nums)\n",
    "except Exception as err:\n",
    "    print(\"add failed:\", err)"
   ]
  },
  {
   "attachments": {},
   "cell_type": "markdown",
   "metadata": {},
   "source": [
    "## Section 12 &mdash; String formatting/templating\n",
    "\n",
    "Python provides several ways to format strings, including templatized strings."
   ]
  },
  {
   "attachments": {},
   "cell_type": "markdown",
   "metadata": {},
   "source": [
    "### Hello, old-school formatting\n",
    "\n",
    "Old-school formatting in Python was done using format specifiers such the ones used in C and Go (`%s` for strings, `%d` for integers) and the `%` operator.\n",
    "\n",
    "Use this old-school formatting to create a function `birthday(name, age)` that returns a string greeting that interpolates the received parameters."
   ]
  },
  {
   "cell_type": "code",
   "execution_count": 6,
   "metadata": {},
   "outputs": [
    {
     "data": {
      "text/plain": [
       "'Hello to Adri who turns 15 tomorrow'"
      ]
     },
     "execution_count": 6,
     "metadata": {},
     "output_type": "execute_result"
    }
   ],
   "source": [
    "def birthday(name, age):\n",
    "    return \"Hello to %s who turns %d tomorrow\" % (name, age)\n",
    "\n",
    "birthday(\"Adri\", 15)"
   ]
  },
  {
   "attachments": {},
   "cell_type": "markdown",
   "metadata": {},
   "source": [
    "### The `format()` function\n",
    "\n",
    "Python also provides the `format()` function for string formatting purposes.\n",
    "\n",
    "Create a program that uses `format` to:\n",
    "\n",
    "+ print the message \"My favorite vector is (2, 5)\", with `(2, 5)` being a variable.\n",
    "+ interpolate values in the greeting message \"Hello to {0}, who is turning {2} tomorrow, and whose favorite number is {1}\"."
   ]
  },
  {
   "cell_type": "code",
   "execution_count": 8,
   "metadata": {},
   "outputs": [
    {
     "name": "stdout",
     "output_type": "stream",
     "text": [
      "My favorite vector is (2, 5)\n",
      "Hello to Adri, who is turning 15 tomorrow, and whose favorite number is 5\n"
     ]
    }
   ],
   "source": [
    "v = (2, 5)\n",
    "print(\"My favorite vector is {0}\".format(v))\n",
    "\n",
    "print(\"Hello to {0}, who is turning {2} tomorrow, and whose favorite number is {1}\".format(\"Adri\", 5, 15))"
   ]
  },
  {
   "attachments": {},
   "cell_type": "markdown",
   "metadata": {},
   "source": [
    "### Using `f\"...\"` for templatized strings\n",
    "\n",
    "Modern versions of Python also supports the use of templatized strings using the `f\"...{var}..\"` syntax.\n",
    "\n",
    "Repeat the previous exercise using templatized strings."
   ]
  },
  {
   "cell_type": "code",
   "execution_count": 9,
   "metadata": {},
   "outputs": [
    {
     "name": "stdout",
     "output_type": "stream",
     "text": [
      "My favorite vector is (2, 5)\n",
      "Hello to Adri, who is turning 15 tomorrow, and whose favorite number is 5\n"
     ]
    }
   ],
   "source": [
    "v = (2, 5)\n",
    "print(f\"My favorite vector is {v}\")\n",
    "\n",
    "class Person:\n",
    "  def __init__(self, name, age, favoriteNum):\n",
    "    self.name = name\n",
    "    self.age = age\n",
    "    self.favoriteNum = favoriteNum\n",
    "\n",
    "adri = Person(\"Adri\", 15, 5)\n",
    "print(f\"Hello to {adri.name}, who is turning {adri.age} tomorrow, and whose favorite number is {adri.favoriteNum}\")"
   ]
  },
  {
   "attachments": {},
   "cell_type": "markdown",
   "metadata": {},
   "source": [
    "### Using `b\"hello\"` for getting the string bytes\n",
    "\n",
    "Python lets you use the syntax `b\"...string...\"` to get the bytes out of a string.\n",
    "\n",
    "Use this syntax to get the bytes out of the string \" ABC Hello\""
   ]
  },
  {
   "cell_type": "code",
   "execution_count": 14,
   "metadata": {},
   "outputs": [
    {
     "name": "stdout",
     "output_type": "stream",
     "text": [
      "b' ABC Hello'\n",
      "32\n",
      "65\n",
      "66\n",
      "67\n",
      "32\n",
      "72\n",
      "101\n",
      "108\n",
      "108\n",
      "111\n"
     ]
    }
   ],
   "source": [
    "str_bytes = b\" ABC Hello\"\n",
    "\n",
    "print(str_bytes)\n",
    "\n",
    "for b in str_bytes:\n",
    "    print(b)"
   ]
  },
  {
   "cell_type": "markdown",
   "metadata": {},
   "source": [
    "### Applying specifiers to format f-strings\n",
    "\n",
    "You can use the following approach to define how an interpolated string should be formatted:\n",
    "\n",
    "```python\n",
    "f\"Hello, {expr:[padding_char]{<,^,>}width}\n",
    "```\n",
    "\n",
    "+ `expr` is the interpolated expression.\n",
    "+ `<`, `^`, `>` sets the alignment to left, center, and right respectively.\n",
    "+ `width` is an integer that sets how long the string will expand.\n",
    "\n",
    "As an exercise, the following snippet should output something like:\n",
    "\n",
    "```\n",
    "task_id  task_name  task_urgency\n",
    "   1     Homework         5\n",
    "   2     Laundry          3\n",
    "```"
   ]
  },
  {
   "cell_type": "code",
   "execution_count": 17,
   "metadata": {},
   "outputs": [
    {
     "name": "stdout",
     "output_type": "stream",
     "text": [
      "task_id  task_name     task_urgency\n",
      "   1     Do homework        5      \n",
      "   2     Laundry            3      \n",
      "   3     Pay bills          4      \n",
      " 99999   012345678901      999     \n"
     ]
    }
   ],
   "source": [
    "task_ids = [1, 2, 3, 99999]\n",
    "task_names = [\"Do homework\", \"Laundry\", \"Pay bills\", \"012345678901\"]\n",
    "task_urgencies = [5, 3, 4, 999]\n",
    "\n",
    "print(f\"task_id  task_name     task_urgency\")\n",
    "for i in range(len(task_ids)):\n",
    "    print(f\"{task_ids[i]:^7}  {task_names[i]:<12}  {task_urgencies[i]:^12}\")"
   ]
  },
  {
   "cell_type": "markdown",
   "metadata": {},
   "source": [
    "Note that this can further refactored into a function:"
   ]
  },
  {
   "cell_type": "code",
   "execution_count": 22,
   "metadata": {},
   "outputs": [
    {
     "name": "stdout",
     "output_type": "stream",
     "text": [
      "     Task ID          Task Name          Urgency      \n",
      "        1            Do homework            5         \n",
      "        2              Laundry              3         \n",
      "        3             Pay bills             4         \n",
      "      99999          012345678901          999        \n",
      "\n",
      "*****Task ID**********Task Name**********Urgency******\n",
      "********1************Do homework************5*********\n",
      "********2**************Laundry**************3*********\n",
      "********3*************Pay bills*************4*********\n",
      "******99999**********012345678901**********999********\n"
     ]
    }
   ],
   "source": [
    "task_ids = [1, 2, 3, 99999]\n",
    "task_names = [\"Do homework\", \"Laundry\", \"Pay bills\", \"012345678901\"]\n",
    "task_urgencies = [5, 3, 4, 999]\n",
    "\n",
    "\n",
    "def print_formatted_records(fmt):\n",
    "    headers = [\"Task ID\", \"Task Name\", \"Urgency\"]\n",
    "    print(f\"{headers[0]:{fmt}}{headers[1]:{fmt}}{headers[2]:{fmt}}\")\n",
    "    for i in range(len(task_ids)):\n",
    "        task_id = task_ids[i]\n",
    "        name = task_names[i]\n",
    "        urgency = task_urgencies[i]\n",
    "        print(f\"{task_id:{fmt}}{name:{fmt}}{urgency:{fmt}}\")\n",
    "\n",
    "print_formatted_records(\"^18\")\n",
    "print()\n",
    "print_formatted_records(\"*^18\")\n"
   ]
  },
  {
   "cell_type": "markdown",
   "metadata": {},
   "source": [
    "### Formatting numbers\n",
    "\n",
    "The following snippet illustrates how you can use different types of formats on numbers:"
   ]
  },
  {
   "cell_type": "code",
   "execution_count": 34,
   "metadata": {},
   "outputs": [
    {
     "name": "stdout",
     "output_type": "stream",
     "text": [
      "Large integer with separators: 1,000,000,007\n",
      "decimal number with 2 decimal digits: 1.23\n",
      "decimal number with 4 decimal digits: 1.2346\n",
      "scientific notation: 4.127330e-09\n",
      "scientific notation (2 dec digits): 4.13e-09\n",
      "general notation: 4.12733e-09\n",
      "general notation (2 dec digits): 4.1e-09\n",
      "Percentage: 17.932300%\n",
      "Percentage (2 dec digits): 17.93%\n",
      "Hex: c\n",
      "Hex: C\n"
     ]
    }
   ],
   "source": [
    "large_prime_number = 1000000007\n",
    "print(f\"Large integer with separators: {large_prime_number:,d}\")\n",
    "\n",
    "dec_number = 1.23456\n",
    "print(f\"decimal number with 2 decimal digits: {dec_number:.2f}\")\n",
    "print(f\"decimal number with 4 decimal digits: {dec_number:.4f}\")\n",
    "\n",
    "sci_number = 0.00000000412733\n",
    "print(f\"scientific notation: {sci_number:e}\")\n",
    "print(f\"scientific notation (2 dec digits): {sci_number:.2e}\")\n",
    "\n",
    "# General format (uses e or f depending on length, etc.)\n",
    "print(f\"general notation: {sci_number:g}\")\n",
    "print(f\"general notation (2 dec digits): {sci_number:.2g}\")\n",
    "\n",
    "pct_number = 0.179323\n",
    "print(f\"Percentage: {pct_number:%}\")\n",
    "print(f\"Percentage (2 dec digits): {pct_number:.2%}\")\n",
    "\n",
    "hex_value = 12\n",
    "print(f\"Hex: {hex_value:x}\")\n",
    "print(f\"Hex: {hex_value:X}\")"
   ]
  },
  {
   "cell_type": "markdown",
   "metadata": {},
   "source": [
    "### Escaping curly braces\n",
    "\n",
    "Suppose that a product's data is saved as a dict object such as:\n",
    "\n",
    "```python\n",
    "{\"name\": \"Vacuum\", \"price\": 130.675}\n",
    "```\n",
    "\n",
    "The desired output should look like:\n",
    "\n",
    "```\n",
    "Vacuum: {130.68}\n",
    "```\n",
    "\n",
    "| HINT: |\n",
    "| :---- |\n",
    "| Use an extra curly brace: `{{` => `{` |"
   ]
  },
  {
   "cell_type": "code",
   "execution_count": 39,
   "metadata": {},
   "outputs": [
    {
     "name": "stdout",
     "output_type": "stream",
     "text": [
      "Vacuum: {130.68\n"
     ]
    }
   ],
   "source": [
    "product = {\"name\": \"Vacuum\", \"price\": 130.675}\n",
    "\n",
    "print(f\"{product['name']}: {{{product['price']:.2f}}}\")\n",
    "\n"
   ]
  },
  {
   "attachments": {},
   "cell_type": "markdown",
   "metadata": {},
   "source": [
    "## Section 13 &mdash; Functions\n",
    "\n",
    "This section deals with more concepts on functions. For the most basic examples see [Section 1 &mdash; Hello, Python!](#section-1--hello-python)"
   ]
  },
  {
   "attachments": {},
   "cell_type": "markdown",
   "metadata": {},
   "source": [
    "### Named Parameters\n",
    "\n",
    "In Python, parameters (placeholders defined in the function definition), and the arguments (the actual values passed when invoking the functions) are both named.\n",
    "\n",
    "Create a function `birthday_greet(name, age)` and invoke the function using both named and unnamed (i.e., positional) arguments."
   ]
  },
  {
   "cell_type": "code",
   "execution_count": 15,
   "metadata": {},
   "outputs": [
    {
     "name": "stdout",
     "output_type": "stream",
     "text": [
      "Hello to Adri who turns 15 tomorrow!\n",
      "Hello to Adri who turns 15 tomorrow!\n"
     ]
    }
   ],
   "source": [
    "def birthday_greet(name, age):\n",
    "    print(f\"Hello to {name} who turns {age} tomorrow!\")\n",
    "\n",
    "birthday_greet(\"Adri\", 15)          # positional\n",
    "birthday_greet(age=15, name=\"Adri\") # named\n",
    "\n"
   ]
  },
  {
   "attachments": {},
   "cell_type": "markdown",
   "metadata": {},
   "source": [
    "### The `**` operator\n",
    "\n",
    "The `**` operator in Python (as in `**kwargs` which stands for *keyworded-args*) is used to pass a keyworded, variable-length argument list to a function.\n",
    "\n",
    "As with the `*` operator it behaves differently in the function declaration than it does when invoking the function in the client code, but it follows the same pattern:\n",
    "\n",
    "+ When defining a function, it identifies a parameter as a variable-length, key-value argument.\n",
    "\n",
    "+ When invoking a function, it lets you pass a dictionary object to a function requiring explicit key-value arguments.\n",
    "\n",
    "Create a dictionary object representing the `name` and `age` of a person. Then use the `**` operator to pass that object to the `birthday_greet` function defined in the previous exercise.\n",
    "\n",
    "Then, create a new version of the function that declares a single parameter `**kwargs` and produces the same result. Invoke it from client code."
   ]
  },
  {
   "cell_type": "code",
   "execution_count": 18,
   "metadata": {},
   "outputs": [
    {
     "name": "stdout",
     "output_type": "stream",
     "text": [
      "Hello to Adri who turns 15 tomorrow\n",
      "Hello to Adri who turns 15 tomorrow!\n"
     ]
    }
   ],
   "source": [
    "person = {\"name\": \"Adri\", \"age\": 15}\n",
    "\n",
    "# function received a key-worded, variable length argument\n",
    "def print_birthday_greet(**kwargs):\n",
    "    print(f'Hello to {kwargs[\"name\"]} who turns {kwargs[\"age\"]} tomorrow!')\n",
    "\n",
    "# invocation requires ** to inject a dictionary into kwargs\n",
    "print_birthday_greet(**person)\n",
    "\n",
    "# note that ** is required for non-kwargs too\n",
    "def print_birthday_greet(name, age):\n",
    "        print(f\"Hello to {name} who turns {age} tomorrow!\")\n",
    "print_birthday_greet(**person)\n"
   ]
  },
  {
   "attachments": {},
   "cell_type": "markdown",
   "metadata": {},
   "source": [
    "### Default argument values\n",
    "\n",
    "Python supports default argument values. In conjunction with named arguments, it makes it very easy to have Python functions with a huge number of arguments, many of them having sensible default values that are not required when invoking the function.\n",
    "\n",
    "Create a third version of `birthday_greet` in which `age` is an optional parameter, and the default name is `\"stranger\"`. Adapt the function implementation as required.\n",
    "\n",
    "| HINT: |\n",
    "| :---- |\n",
    "| Use `param=None` to indicate an optional parameter. |"
   ]
  },
  {
   "cell_type": "code",
   "execution_count": 25,
   "metadata": {},
   "outputs": [
    {
     "name": "stdout",
     "output_type": "stream",
     "text": [
      "Hello to stranger!\n",
      "Hello to stranger who will turn 15 tomorrow!\n",
      "Hello to Adri!\n",
      "Hello to Adri who will turn 15 tomorrow!\n"
     ]
    }
   ],
   "source": [
    "def print_birthday_greet(name=\"stranger\", age=None):\n",
    "    str = f\"Hello to {name}\"\n",
    "    if age:\n",
    "        str += f\" who will turn {age} tomorrow\"\n",
    "    str += \"!\"\n",
    "    print(str)\n",
    "\n",
    "print_birthday_greet()\n",
    "print_birthday_greet(age=15)\n",
    "print_birthday_greet(name=\"Adri\")\n",
    "print_birthday_greet(name=\"Adri\", age=15)"
   ]
  },
  {
   "attachments": {},
   "cell_type": "markdown",
   "metadata": {},
   "source": [
    "### Default argument values and `**kwargs`\n",
    "\n",
    "Create an implementation of `birthday_greet` using `**kwargs` where the arguments have the same default values as in the previous exercise.\n",
    "\n",
    "| HINT: |\n",
    "| :---- |\n",
    "| You can use `\"key\" in obj` to check if a particular key is available in a dictionary. |"
   ]
  },
  {
   "cell_type": "code",
   "execution_count": 37,
   "metadata": {},
   "outputs": [
    {
     "name": "stdout",
     "output_type": "stream",
     "text": [
      "Hello stranger!\n",
      "Hello stranger who turns 15 tomorrow!\n",
      "Hello Adri!\n",
      "Hello Adri who turns 15 tomorrow!\n"
     ]
    }
   ],
   "source": [
    "def print_birthday_greet(**kwargs):\n",
    "    str = \"Hello \"\n",
    "    if \"name\" in kwargs:\n",
    "        str += kwargs[\"name\"]\n",
    "    else:\n",
    "        str += \"stranger\"\n",
    "\n",
    "    if \"age\" in kwargs and kwargs[\"age\"]:\n",
    "        str += f' who turns {kwargs[\"age\"]} tomorrow'\n",
    "\n",
    "    str += \"!\"\n",
    "    print(str)\n",
    "\n",
    "print_birthday_greet()\n",
    "print_birthday_greet(age=15)\n",
    "print_birthday_greet(name=\"Adri\")\n",
    "print_birthday_greet(name=\"Adri\", age=15)"
   ]
  },
  {
   "attachments": {},
   "cell_type": "markdown",
   "metadata": {},
   "source": [
    "### Hello unnamed, inline functions aka lambdas!\n",
    "\n",
    "Python supports inline functions to be passed as parameters to higher-order functions, although its syntax is not as succinct as in other programming languages.\n",
    "\n",
    "The syntax is:\n",
    "\n",
    "```python\n",
    "lambda arg1, arg2, ..., argN:\n",
    "  impl\n",
    "```\n",
    "\n",
    "| NOTE: |\n",
    "| :---- |\n",
    "| Unlike regular functions, lambda functions must not use `return`. If you do, you'll get a `SyntaxError`. |\n",
    "\n",
    "Create a lambda function that computes the result of adding three numbers. Use that lambda function as an argument to a compute function `compute(n1, n2, n3, op)`."
   ]
  },
  {
   "cell_type": "code",
   "execution_count": 38,
   "metadata": {},
   "outputs": [
    {
     "data": {
      "text/plain": [
       "6"
      ]
     },
     "execution_count": 38,
     "metadata": {},
     "output_type": "execute_result"
    }
   ],
   "source": [
    "add_nums = lambda n1, n2, n3 : n1 + n2 + n3\n",
    "\n",
    "def compute(n1, n2, n3, op):\n",
    "    return op(n1, n2, n3)\n",
    "\n",
    "compute(1, 2, 3, add_nums)"
   ]
  },
  {
   "attachments": {},
   "cell_type": "markdown",
   "metadata": {},
   "source": [
    "### Immediately applying parameters to a lambda\n",
    "\n",
    "Create a lambda function that returns the next integer to the one given and invoke it immediately."
   ]
  },
  {
   "cell_type": "code",
   "execution_count": 39,
   "metadata": {},
   "outputs": [
    {
     "data": {
      "text/plain": [
       "5"
      ]
     },
     "execution_count": 39,
     "metadata": {},
     "output_type": "execute_result"
    }
   ],
   "source": [
    "(lambda x : x + 1)(4)"
   ]
  },
  {
   "cell_type": "markdown",
   "metadata": {},
   "source": [
    "### Using lambdas in functions that accept functions as arguments\n",
    "\n",
    "Consider the following list of named tuples:\n",
    "\n",
    "```python\n",
    "from collections import namedtuple\n",
    "\n",
    "Task = namedtuple(\"Task\", \"title, description, urgency\")\n",
    " \n",
    "tasks = [\n",
    "    Task(\"Homework\", \"Physics and math\", 5),\n",
    "    Task(\"Laundry\", \"Wash clothes\", 3),\n",
    "    Task(\"Museum\", \"Egypt exhibit\", 4),\n",
    "    Task(\"Toaster\", \"Clean the toaster\", 2),\n",
    "    Task(\"Camera\", \"Export photos\", 4),\n",
    "    Task(\"Homework\", \"Physics and math\", 5),\n",
    "    Task(\"Floor\", \"Mop the floor\", 3),\n",
    "    Task(\"Internet\", \"Upgrade plan\", 5),\n",
    "    Task(\"Utility\", \"Pay bills\", 5)    \n",
    "]\n",
    "```\n",
    "\n",
    "Use a lambda to get the the list list sorted by urgency, in reverse order."
   ]
  },
  {
   "cell_type": "code",
   "execution_count": 31,
   "metadata": {},
   "outputs": [
    {
     "name": "stdout",
     "output_type": "stream",
     "text": [
      "[Task(title='Homework', description='Physics and math', urgency=5), Task(title='Homework', description='Physics and math', urgency=5), Task(title='Internet', description='Upgrade plan', urgency=5), Task(title='Utility', description='Pay bills', urgency=5), Task(title='Museum', description='Egypt exhibit', urgency=4), Task(title='Camera', description='Export photos', urgency=4), Task(title='Laundry', description='Wash clothes', urgency=3), Task(title='Floor', description='Mop the floor', urgency=3), Task(title='Toaster', description='Clean the toaster', urgency=2)]\n"
     ]
    }
   ],
   "source": [
    "from collections import namedtuple\n",
    "\n",
    "from collections import namedtuple\n",
    "\n",
    "Task = namedtuple(\"Task\", \"title, description, urgency\")\n",
    "\n",
    "tasks = [\n",
    "    Task(\"Homework\", \"Physics and math\", 5),\n",
    "    Task(\"Laundry\", \"Wash clothes\", 3),\n",
    "    Task(\"Museum\", \"Egypt exhibit\", 4),\n",
    "    Task(\"Toaster\", \"Clean the toaster\", 2),\n",
    "    Task(\"Camera\", \"Export photos\", 4),\n",
    "    Task(\"Homework\", \"Physics and math\", 5),\n",
    "    Task(\"Floor\", \"Mop the floor\", 3),\n",
    "    Task(\"Internet\", \"Upgrade plan\", 5),\n",
    "    Task(\"Utility\", \"Pay bills\", 5)\n",
    "]\n",
    "\n",
    "tasks.sort(key=lambda task: task.urgency, reverse=True)\n",
    "print(tasks)"
   ]
  },
  {
   "cell_type": "markdown",
   "metadata": {},
   "source": [
    "### Some Lambdas pitfalls and caveats\n",
    "\n",
    "In Python, Lambdas are used for simple one-time jobs. If you plan to reuse the function is much better to use the `def` keyword and name the function. That will help with the debugging.\n",
    "\n",
    "Additionally, sometimes you don't even need a lambda and can simply refer to an existing function.\n",
    "\n",
    "Consider the following list of numbers: `[-4, 3, 7, 0, -6]`. Sort them using their absolute value."
   ]
  },
  {
   "cell_type": "markdown",
   "metadata": {},
   "source": [
    "As unexperienced Python devs who have just learnt Lambdas we would do:"
   ]
  },
  {
   "cell_type": "code",
   "execution_count": 2,
   "metadata": {},
   "outputs": [
    {
     "name": "stdout",
     "output_type": "stream",
     "text": [
      "[0, 3, -4, -6, 7]\n"
     ]
    }
   ],
   "source": [
    "integers = [-4, 3, 7, 0, -6]\n",
    "\n",
    "integers.sort(key=lambda n: abs(n))\n",
    "print(integers)"
   ]
  },
  {
   "cell_type": "markdown",
   "metadata": {},
   "source": [
    "A more experience programmer would have done:"
   ]
  },
  {
   "cell_type": "code",
   "execution_count": 3,
   "metadata": {},
   "outputs": [
    {
     "name": "stdout",
     "output_type": "stream",
     "text": [
      "[0, 3, -4, -6, 7]\n"
     ]
    }
   ],
   "source": [
    "integers = [-4, 3, 7, 0, -6]\n",
    "\n",
    "integers.sort(key=abs)\n",
    "print(integers)"
   ]
  },
  {
   "cell_type": "markdown",
   "metadata": {},
   "source": [
    "The snippet above is much more concise and Pythonic that our first approach."
   ]
  },
  {
   "cell_type": "markdown",
   "metadata": {},
   "source": [
    "Consider the following list of tuples representing a student's scores in Math, Science, and Art. Find out what tuple has the highest total score.\n",
    "\n",
    "```python\n",
    "scores = [(93, 95, 94), (92, 95, 96), (94, 97, 91), (95, 97, 99)]\n",
    "```"
   ]
  },
  {
   "cell_type": "code",
   "execution_count": 4,
   "metadata": {},
   "outputs": [
    {
     "name": "stdout",
     "output_type": "stream",
     "text": [
      "(95, 97, 99)\n"
     ]
    }
   ],
   "source": [
    "scores = [(93, 95, 94), (92, 95, 96), (94, 97, 91), (95, 97, 99)]\n",
    "\n",
    "print(max(scores, key=lambda x: x[0] + x[1] + x[2]))"
   ]
  },
  {
   "cell_type": "markdown",
   "metadata": {},
   "source": [
    "Or in a more Pythonic and succinct way:"
   ]
  },
  {
   "cell_type": "code",
   "execution_count": 6,
   "metadata": {},
   "outputs": [
    {
     "name": "stdout",
     "output_type": "stream",
     "text": [
      "(95, 97, 99)\n"
     ]
    }
   ],
   "source": [
    "scores = [(93, 95, 94), (92, 95, 96), (94, 97, 91), (95, 97, 99)]\n",
    "\n",
    "print(max(scores, key=sum))"
   ]
  },
  {
   "cell_type": "markdown",
   "metadata": {},
   "source": [
    "### Functions as objects\n",
    "\n",
    "Everything in Python is an object, and that applies to functions too. As a result, functions can be used as arguments to other functions, kept in data containers such as dicts and lists, etc.\n",
    "\n",
    "The following example illustrate this idea:"
   ]
  },
  {
   "cell_type": "code",
   "execution_count": 7,
   "metadata": {},
   "outputs": [
    {
     "name": "stdout",
     "output_type": "stream",
     "text": [
      "this calculates the mean\n"
     ]
    }
   ],
   "source": [
    "def get_mean(data):\n",
    "    return \"this calculates the mean\"\n",
    "\n",
    "def get_min(data):\n",
    "    return \"this calculates the min\"\n",
    "\n",
    "def get_max(data):\n",
    "    return \"this calculates the max\"\n",
    "\n",
    "actions = {\"mean\": get_mean, \"min\": get_min, \"max\": get_max}\n",
    "\n",
    "\n",
    "def fallback_action(data):\n",
    "    return \"error: unknown action\"\n",
    "\n",
    "\n",
    "def process_data(data, action):\n",
    "    action_to_apply = actions.get(action, fallback_action)\n",
    "    result = action_to_apply(data)\n",
    "    return result\n",
    "\n",
    "print(process_data([1, 2, 3], \"mean\"))"
   ]
  },
  {
   "attachments": {},
   "cell_type": "markdown",
   "metadata": {},
   "source": [
    "### The `map`, `filter`, and `reduce` higher-order functions\n",
    "\n",
    "`map` and `filter` functions are available in Python's core package. `reduce` is available in the `functools` standard library.\n",
    "\n",
    "1. Use `map` to create the list of squares given a list of integers.\n",
    "2. Use `filter` to filter odd numbers from a given list of integers.\n",
    "3. Use `reduce` to calculate the sum of a given list of numbers."
   ]
  },
  {
   "cell_type": "code",
   "execution_count": 49,
   "metadata": {},
   "outputs": [
    {
     "name": "stdout",
     "output_type": "stream",
     "text": [
      "<map object at 0x7fde6157db70>\n",
      "[0, 1, 4, 9, 16, 25, 36, 49, 64, 81, 100]\n",
      "[0, 2, 4, 6, 8, 10]\n",
      "55\n"
     ]
    }
   ],
   "source": [
    "# As with zip, `map` do not materialize the results\n",
    "print(map(lambda n : n * n, range(0, 11)))\n",
    "\n",
    "# You need to force materialization with list\n",
    "print(list(map(lambda n : n * n, range(0, 11))))\n",
    "\n",
    "print(list(filter(lambda n : n % 2 == 0, range(0, 11))))\n",
    "\n",
    "from functools import reduce\n",
    "\n",
    "print(reduce(lambda acc, n : acc + n, range(0, 11), 0))\n"
   ]
  },
  {
   "cell_type": "markdown",
   "metadata": {},
   "source": [
    "#### Using the `map` function\n",
    "\n",
    "The `map` function creates a `map` iterator which you can use to transform (map), each and every element of an iterable.\n",
    "\n",
    "Consider the following list of strings: `[\"1.23\", \"4.56\", \"7.89\"]`. Create a program that transforms that list into the equivalent list of floats.\n",
    " "
   ]
  },
  {
   "cell_type": "code",
   "execution_count": 8,
   "metadata": {},
   "outputs": [],
   "source": [
    "numbers_str = [\"1.23\", \"4.56\", \"7.89\"]\n",
    "\n",
    "numbers = list(map(float, numbers_str))\n",
    "assert numbers == [1.23, 4.56, 7.89]\n"
   ]
  },
  {
   "attachments": {},
   "cell_type": "markdown",
   "metadata": {},
   "source": [
    "### Hello, closures\n",
    "\n",
    "Using closures, implement a function `make_power_fn(power)` that returns a function `fn(base)` that produces `base ** power` when invoked."
   ]
  },
  {
   "cell_type": "code",
   "execution_count": 51,
   "metadata": {},
   "outputs": [
    {
     "name": "stdout",
     "output_type": "stream",
     "text": [
      "25\n",
      "[0, 1, 8, 27, 64, 125, 216, 343, 512, 729, 1000]\n"
     ]
    }
   ],
   "source": [
    "def make_power_fn(power):\n",
    "    def power_fn(base):\n",
    "        return base ** power\n",
    "    return power_fn\n",
    "\n",
    "square_fn = make_power_fn(2)\n",
    "print(square_fn(5))\n",
    "\n",
    "cube_fn = make_power_fn(3)\n",
    "cubes = list(map(cube_fn, range(0, 11)))\n",
    "print(cubes)"
   ]
  },
  {
   "cell_type": "markdown",
   "metadata": {},
   "source": [
    "#### Another closure example\n",
    "\n",
    "Create a function `increment_maker(num)` that returns a function that increment its argument by `num`."
   ]
  },
  {
   "cell_type": "code",
   "execution_count": 10,
   "metadata": {},
   "outputs": [],
   "source": [
    "def increment_maker(num):\n",
    "    def increment(num0):\n",
    "        return num + num0\n",
    "\n",
    "    return increment\n",
    "\n",
    "plus_one = increment_maker(1)\n",
    "assert plus_one(5) == 6\n",
    "\n",
    "plus_five = increment_maker(5)\n",
    "assert plus_five(19) == 24"
   ]
  },
  {
   "attachments": {},
   "cell_type": "markdown",
   "metadata": {},
   "source": [
    "### A function with a weird signature\n",
    "\n",
    "Given the function signature:\n",
    "\n",
    "```python\n",
    "def weird(param1, param2, *, prefix=None, **kwargs)\n",
    "```\n",
    "\n",
    "Explore the parameter list of the function.\n",
    "\n",
    "| NOTE: |\n",
    "| :---- |\n",
    "| See the explanation below for `*` in the function signature. |"
   ]
  },
  {
   "cell_type": "code",
   "execution_count": 63,
   "metadata": {},
   "outputs": [
    {
     "name": "stdout",
     "output_type": "stream",
     "text": [
      "== invocation results\n",
      "param1: p1\n",
      "param2: p2\n",
      "prefix: None\n",
      "kwargs: {}\n",
      "\n",
      "== invocation results\n",
      "param1: p1\n",
      "param2: p2\n",
      "prefix: None\n",
      "kwargs: {}\n",
      "\n",
      "== invocation results\n",
      "param1: p1\n",
      "param2: p2\n",
      "prefix: None\n",
      "kwargs: {'some': 'some', 'other': 'other', 'values': 'params'}\n",
      "\n",
      "== invocation results\n",
      "param1: p1\n",
      "param2: p2\n",
      "prefix: yay\n",
      "kwargs: {'some': 'some', 'other': 'other', 'values': 'params'}\n",
      "\n",
      "== invocation results\n",
      "param1: p1\n",
      "param2: p2\n",
      "prefix: other\n",
      "kwargs: {}\n",
      "\n"
     ]
    }
   ],
   "source": [
    "\n",
    "def weird(param1, param2, *, prefix=None, **kwargs):\n",
    "    print(\"== invocation results\")\n",
    "    print(\"param1:\", param1)\n",
    "    print(\"param2:\", param2)\n",
    "    print(\"prefix:\", prefix)\n",
    "    print(\"kwargs:\", kwargs)\n",
    "    print()\n",
    "\n",
    "# param1 and param2 are regular args, non-optional\n",
    "# weird() # this fails because param1 and param2 not passed\n",
    "# weird(\"p1\") # this fails because param2 not passed\n",
    "# weird(param2=\"p2\") # this fails because param1 not passed\n",
    "\n",
    "\n",
    "weird(\"p1\", \"p2\")\n",
    "weird(param2=\"p2\", param1=\"p1\")\n",
    "\n",
    "# the '*' prevents other positional args to be sent\n",
    "# weird(\"p1\", \"p2\", \"other\",) # this fails\n",
    "weird(\"p1\", \"p2\", some=\"some\", other=\"other\", values=\"params\") # this fails\n",
    "weird(\"p1\", \"p2\", prefix=\"yay\", some=\"some\", other=\"other\", values=\"params\") # this fails\n",
    "\n",
    "# For example\n",
    "def weird2(param1, param2, prefix=None, **kwargs):\n",
    "    print(\"== invocation results\")\n",
    "    print(\"param1:\", param1)\n",
    "    print(\"param2:\", param2)\n",
    "    print(\"prefix:\", prefix)\n",
    "    print(\"kwargs:\", kwargs)\n",
    "    print()\n",
    "\n",
    "weird2(\"p1\", \"p2\", \"other\") # this works"
   ]
  },
  {
   "attachments": {},
   "cell_type": "markdown",
   "metadata": {},
   "source": [
    "Thus, `*` in the function signature prevents other positional arguments to be passed."
   ]
  },
  {
   "attachments": {},
   "cell_type": "markdown",
   "metadata": {},
   "source": [
    "## Section 14 &mdash; OOP\n",
    "\n",
    "Python supports object-oriented programming with additional keywords and syntax."
   ]
  },
  {
   "attachments": {},
   "cell_type": "markdown",
   "metadata": {},
   "source": [
    "### Classes basics\n",
    "\n",
    "The following example illustrates how to declare a class with a method, and how to instantiate it:"
   ]
  },
  {
   "cell_type": "code",
   "execution_count": 9,
   "metadata": {},
   "outputs": [
    {
     "name": "stdout",
     "output_type": "stream",
     "text": [
      "quack!\n"
     ]
    }
   ],
   "source": [
    "class Duck:\n",
    "    def quack(self):\n",
    "        print(\"quack!\")\n",
    "\n",
    "don = Duck()\n",
    "don.quack()"
   ]
  },
  {
   "attachments": {},
   "cell_type": "markdown",
   "metadata": {},
   "source": [
    "Methods are defined using the `def` keyword, and must include `self` in the signature. The `self` argument is a reference to the current object instance."
   ]
  },
  {
   "attachments": {},
   "cell_type": "markdown",
   "metadata": {},
   "source": [
    "### Constructors\n",
    "\n",
    "Constructors in Python are declared using the function name `__init__`:"
   ]
  },
  {
   "cell_type": "code",
   "execution_count": 13,
   "metadata": {},
   "outputs": [
    {
     "name": "stdout",
     "output_type": "stream",
     "text": [
      "The pearl white duck named Howie says: quack!\n"
     ]
    }
   ],
   "source": [
    "class Duck:\n",
    "\n",
    "    def __init__(self, name, color):\n",
    "        self.name = name\n",
    "        self.color = color\n",
    "\n",
    "    def quack(self):\n",
    "        print(f\"The {self.color} duck named {self.name} says: quack!\")\n",
    "\n",
    "duck = Duck(\"Howie\", \"pearl white\")\n",
    "duck.quack()"
   ]
  },
  {
   "attachments": {},
   "cell_type": "markdown",
   "metadata": {},
   "source": [
    "You can access an object's properties using `.`."
   ]
  },
  {
   "cell_type": "code",
   "execution_count": 14,
   "metadata": {},
   "outputs": [
    {
     "name": "stdout",
     "output_type": "stream",
     "text": [
      "howie's name: Howie\n"
     ]
    }
   ],
   "source": [
    "print(\"howie's name:\", duck.name)"
   ]
  },
  {
   "attachments": {},
   "cell_type": "markdown",
   "metadata": {},
   "source": [
    "### Hello, OOP: A `Rectangle` class\n",
    "\n",
    "Create a `Rectangle` class with the following capabilities:\n",
    "\n",
    "+ A `Rectangle` object can be instantiated by passing its width and height dimensions. (HINT: Python constructors are named `def __init__(self, param1, param2...)`)\n",
    "\n",
    "+ A `Rectangle` must feature the following instance methods:\n",
    "  + `scale`: which returns a new `Rectangle` with its dimensions scaled by the given factor\n",
    "  + `area`: which returns the area of the rectangle\n",
    "  + `__eq__`: which checks for equality\n",
    "  + `__repr__`: which provides the string representation of a rectangle (used in `print`)"
   ]
  },
  {
   "cell_type": "code",
   "execution_count": 7,
   "metadata": {},
   "outputs": [
    {
     "name": "stdout",
     "output_type": "stream",
     "text": [
      "Rectangle(w: 2, h: 3)\n",
      "Rectangle(w: 4, h: 6)\n",
      "6\n",
      "True\n",
      "False\n"
     ]
    }
   ],
   "source": [
    "class Rectangle:\n",
    "    def __init__(self, width, height):\n",
    "        self.width = width\n",
    "        self.height = height\n",
    "\n",
    "    def scale(self, factor):\n",
    "        return Rectangle(self.width * factor, self.height * factor)\n",
    "\n",
    "    def area(self):\n",
    "        return self.width * self.height\n",
    "\n",
    "    def __eq__(self, other):\n",
    "        return self.width == other.width and self.height == other.height\n",
    "\n",
    "    def __repr__(self):\n",
    "        return f\"Rectangle(w: {self.width}, h: {self.height})\"\n",
    "\n",
    "\n",
    "r = Rectangle(2, 3)\n",
    "print(r)\n",
    "\n",
    "print(r.scale(2))\n",
    "print(r.area())\n",
    "\n",
    "r2 = Rectangle(2, 3)\n",
    "print(r == r2)\n",
    "print(r == r2.scale(2))\n",
    "\n"
   ]
  },
  {
   "attachments": {},
   "cell_type": "markdown",
   "metadata": {},
   "source": [
    "### Operator overloading\n",
    "\n",
    "Python supports operator overloading using special method names such as:\n",
    "+ `__mul__`: when the class instance comes on the left-hand side\n",
    "+ `__rmul`: when the class instance comes on the right-hand side\n",
    "\n",
    "Enhance the `Rectangle` class to support things such as:\n",
    "\n",
    "+ `Rectangle(2, 3) * 2`, which requires implementing `__mul__`\n",
    "+ `2 * Rectangle(2, 3)`, which requires implementing `__rmul__`"
   ]
  },
  {
   "cell_type": "code",
   "execution_count": 8,
   "metadata": {},
   "outputs": [
    {
     "name": "stdout",
     "output_type": "stream",
     "text": [
      "Rectangle(w: 4, h: 6)\n",
      "Rectangle(w: 6, h: 9)\n"
     ]
    }
   ],
   "source": [
    "class Rectangle:\n",
    "    def __init__(self, width, height):\n",
    "        self.width = width\n",
    "        self.height = height\n",
    "\n",
    "    def scale(self, factor):\n",
    "        return Rectangle(self.width * factor, self.height * factor)\n",
    "\n",
    "    def area(self):\n",
    "        return self.width * self.height\n",
    "\n",
    "    def __mul__(self, factor):\n",
    "        return self.scale(factor)\n",
    "\n",
    "    def __rmul__(self, factor):\n",
    "        return self.scale(factor)\n",
    "\n",
    "    def __eq__(self, other):\n",
    "        return self.width == other.width and self.height == other.height\n",
    "\n",
    "    def __repr__(self):\n",
    "        return f\"Rectangle(w: {self.width}, h: {self.height})\"\n",
    "\n",
    "\n",
    "r = Rectangle(2, 3)\n",
    "print(2 * r)\n",
    "print(r * 3)"
   ]
  },
  {
   "attachments": {},
   "cell_type": "markdown",
   "metadata": {},
   "source": [
    "### Class/Static methods\n",
    "\n",
    "Pyton support class/static methods through the `@classmethod` decorator. Also, these methods should be declared as:\n",
    "\n",
    "```python\n",
    "@classmethod\n",
    "  def method(cls, <param1>, ...):\n",
    "      ...\n",
    "```\n",
    "\n",
    "Enhance the `Rectangle` class by defining a method `square(side)` which returns rectangle whose dimensiones are the given side.\n"
   ]
  },
  {
   "cell_type": "code",
   "execution_count": 1,
   "metadata": {},
   "outputs": [
    {
     "name": "stdout",
     "output_type": "stream",
     "text": [
      "Rectangle(w: 2, h: 2)\n"
     ]
    }
   ],
   "source": [
    "class Rectangle:\n",
    "    def __init__(self, width, height):\n",
    "        self.width = width\n",
    "        self.height = height\n",
    "\n",
    "    def scale(self, factor):\n",
    "        return Rectangle(self.width * factor, self.height * factor)\n",
    "\n",
    "    def area(self):\n",
    "        return self.width * self.height\n",
    "\n",
    "    def __mul__(self, factor):\n",
    "        return self.scale(factor)\n",
    "\n",
    "    def __rmul__(self, factor):\n",
    "        return self.scale(factor)\n",
    "\n",
    "    def __eq__(self, other):\n",
    "        return self.width == other.width and self.height == other.height\n",
    "\n",
    "    def __repr__(self):\n",
    "        return f\"Rectangle(w: {self.width}, h: {self.height})\"\n",
    "\n",
    "    @classmethod\n",
    "    def square(cls, side):\n",
    "        return Rectangle(side, side)\n",
    "\n",
    "\n",
    "sq = Rectangle.square(2)\n",
    "print(sq)"
   ]
  },
  {
   "attachments": {},
   "cell_type": "markdown",
   "metadata": {},
   "source": [
    "### The `__dict__` property\n",
    "\n",
    "The `__dict__` property, when applied to a class instance returns the instance fields; when applied to a class returns the class methods.\n",
    "\n",
    "Use this property on the `Rectangle` class and in an instance of the class."
   ]
  },
  {
   "cell_type": "code",
   "execution_count": 3,
   "metadata": {},
   "outputs": [
    {
     "name": "stdout",
     "output_type": "stream",
     "text": [
      "{'__module__': '__main__', '__init__': <function Rectangle.__init__ at 0x7fb35bc92dd0>, 'scale': <function Rectangle.scale at 0x7fb35bc92e60>, 'area': <function Rectangle.area at 0x7fb35bc92ef0>, '__mul__': <function Rectangle.__mul__ at 0x7fb35bc92f80>, '__rmul__': <function Rectangle.__rmul__ at 0x7fb35bc93010>, '__eq__': <function Rectangle.__eq__ at 0x7fb35bc930a0>, '__repr__': <function Rectangle.__repr__ at 0x7fb35bc93130>, 'square': <classmethod(<function Rectangle.square at 0x7fb35bc931c0>)>, '__dict__': <attribute '__dict__' of 'Rectangle' objects>, '__weakref__': <attribute '__weakref__' of 'Rectangle' objects>, '__doc__': None, '__hash__': None}\n",
      "{'width': 2, 'height': 3}\n"
     ]
    }
   ],
   "source": [
    "class Rectangle:\n",
    "    def __init__(self, width, height):\n",
    "        self.width = width\n",
    "        self.height = height\n",
    "\n",
    "    def scale(self, factor):\n",
    "        return Rectangle(self.width * factor, self.height * factor)\n",
    "\n",
    "    def area(self):\n",
    "        return self.width * self.height\n",
    "\n",
    "    def __mul__(self, factor):\n",
    "        return self.scale(factor)\n",
    "\n",
    "    def __rmul__(self, factor):\n",
    "        return self.scale(factor)\n",
    "\n",
    "    def __eq__(self, other):\n",
    "        return self.width == other.width and self.height == other.height\n",
    "\n",
    "    def __repr__(self):\n",
    "        return f\"Rectangle(w: {self.width}, h: {self.height})\"\n",
    "\n",
    "    @classmethod\n",
    "    def square(cls, side):\n",
    "        return Rectangle(side, side)\n",
    "\n",
    "print(Rectangle.__dict__)\n",
    "\n",
    "r = Rectangle(2, 3) # shows all the methods in the Rectangle class\n",
    "print(r.__dict__)   # shows the class fields (width and height)"
   ]
  },
  {
   "attachments": {},
   "cell_type": "markdown",
   "metadata": {},
   "source": [
    "### Inheritance\n",
    "\n",
    "Python syntax for inheritance is:\n",
    "\n",
    "```python\n",
    "ClassName(superClassName):\n",
    "  ...\n",
    "```\n",
    "\n",
    "Create a `Square` class that inherits from `Rectangle`.\n",
    "\n",
    "| HINT: |\n",
    "| :---- |\n",
    "| You will need to use `super().__init__(...)` to invoke the constructor of the superclass. |"
   ]
  },
  {
   "cell_type": "code",
   "execution_count": 4,
   "metadata": {},
   "outputs": [
    {
     "name": "stdout",
     "output_type": "stream",
     "text": [
      "Square(s: 1)\n",
      "1\n",
      "Square(s: 2)\n"
     ]
    }
   ],
   "source": [
    "# Rectangle is the super-class for Square\n",
    "class Rectangle:\n",
    "    def __init__(self, width, height):\n",
    "        self.width = width\n",
    "        self.height = height\n",
    "\n",
    "    def scale(self, factor):\n",
    "        return Rectangle(self.width * factor, self.height * factor)\n",
    "\n",
    "    def area(self):\n",
    "        return self.width * self.height\n",
    "\n",
    "    def __mul__(self, factor):\n",
    "        return self.scale(factor)\n",
    "\n",
    "    def __rmul__(self, factor):\n",
    "        return self.scale(factor)\n",
    "\n",
    "    def __eq__(self, other):\n",
    "        return self.width == other.width and self.height == other.height\n",
    "\n",
    "    def __repr__(self):\n",
    "        return f\"Rectangle(w: {self.width}, h: {self.height})\"\n",
    "\n",
    "class Square(Rectangle):\n",
    "    def __init__(self, side):\n",
    "        super().__init__(side, side)\n",
    "\n",
    "    def scale(self, factor):\n",
    "        return Square(self.width * factor)\n",
    "\n",
    "    def __repr__(self):\n",
    "        return f\"Square(s: {self.width})\"\n",
    "\n",
    "sq = Square(1)\n",
    "print(sq)\n",
    "print(sq.area())\n",
    "print(sq.scale(2))\n"
   ]
  },
  {
   "attachments": {},
   "cell_type": "markdown",
   "metadata": {},
   "source": [
    "### Abstract classes\n",
    "\n",
    "Python supports abstract classes by inheriting from a special class named `ABC`.\n",
    "\n",
    "Create a simple class hierarchy following thse guidelines:\n",
    "+ Create an abstract base class `Shape`. (HINT: you will need to `import ABC from abc`)\n",
    "\n",
    "    + Create an empty implementation for the methods `area` and `scale`. This will set the interface. (HINT: to create empty implementations you can either use `pass` or `...`. Also, use the `@abstractmethod` decorator to tag the method as abstract)\n",
    "\n",
    "    + Create an implementation of `__eq__` that relies on `__dict__` to check for equality, based on the underlying properties.\n",
    "\n",
    "    + Create an implementation of `__mul__` and `__rmul__` that rely on `scale()`.\n",
    "\n",
    "+ Create a concrete class `Rectangle` respecting the behavior implemented in the previous exercises.\n",
    "\n",
    "+ Create a concrete class `Square` respecting the behavior implemented in the previous exercises.\n",
    "\n",
    "+ Create a concrete class `Circle`."
   ]
  },
  {
   "cell_type": "code",
   "execution_count": 9,
   "metadata": {},
   "outputs": [
    {
     "name": "stdout",
     "output_type": "stream",
     "text": [
      "Rectangle(w: 2, h: 3)\n",
      "6\n",
      "Rectangle(w: 4, h: 6)\n",
      "False\n",
      "True\n",
      "Square(s: 1)\n",
      "1\n",
      "Square(s: 2)\n",
      "False\n",
      "True\n",
      "True\n",
      "Circle(r: 1)\n",
      "3.141592653589793\n",
      "Circle(r: 2)\n",
      "False\n",
      "True\n",
      "False\n",
      "False\n"
     ]
    }
   ],
   "source": [
    "from abc import ABC, abstractmethod\n",
    "from math import pi\n",
    "\n",
    "class Shape(ABC):\n",
    "\n",
    "    @abstractmethod\n",
    "    def area():\n",
    "        ...         # same as pass\n",
    "\n",
    "    @abstractmethod\n",
    "    def scale(self, factor):\n",
    "        ...\n",
    "\n",
    "    def __eq__(self, other):\n",
    "        return self.__dict__ == other.__dict__\n",
    "\n",
    "    def __mul__(self, factor):\n",
    "        return self.scale(factor)\n",
    "\n",
    "    def __rmul__(self, factor):\n",
    "        return self.scale(factor)\n",
    "\n",
    "class Rectangle(Shape):\n",
    "    def __init__(self, width, height):\n",
    "        self.width = width\n",
    "        self.height = height\n",
    "\n",
    "    def area(self):\n",
    "        return self.width * self.height\n",
    "\n",
    "    def scale(self, factor):\n",
    "        return Rectangle(self.width * factor, self.height * factor)\n",
    "\n",
    "    def __repr__(self):\n",
    "        return f\"Rectangle(w: {self.width}, h: {self.height})\"\n",
    "\n",
    "class Square(Rectangle):\n",
    "    def __init__(self, side):\n",
    "        super().__init__(side, side)\n",
    "\n",
    "    def scale(self, factor):\n",
    "        return Square(self.width * factor)\n",
    "\n",
    "    def __repr__(self):\n",
    "        return f\"Square(s: {self.width})\"\n",
    "\n",
    "class Circle(Shape):\n",
    "    def __init__(self, radius):\n",
    "        self.radius = radius\n",
    "\n",
    "    def area(self):\n",
    "        return pi * self.radius * self.radius\n",
    "\n",
    "    def scale(self, factor):\n",
    "        return Circle(self.radius * factor)\n",
    "\n",
    "    def __repr__(self):\n",
    "        return f\"Circle(r: {self.radius})\"\n",
    "\n",
    "# s = Shape() # Err: can't instantiate abstract class\n",
    "\n",
    "# Rectangle\n",
    "r = Rectangle(2, 3)\n",
    "print(r)\n",
    "print(r.area())\n",
    "print(r.scale(2))\n",
    "print(r == Rectangle(3, 4))\n",
    "print(r == Rectangle(2, 3))\n",
    "\n",
    "# Square\n",
    "s = Square(1)\n",
    "print(s)\n",
    "print(s.area())\n",
    "print(s.scale(2))\n",
    "print(s == Square(2))\n",
    "print(s == Square(1))\n",
    "print(s == Rectangle(1, 1)) # d'oh!\n",
    "\n",
    "# Circle\n",
    "c = Circle(1)\n",
    "print(c)\n",
    "print(c.area())\n",
    "print(c.scale(2))\n",
    "print(c == Circle(2))\n",
    "print(c == Circle(1))\n",
    "print(c == Square(1))\n",
    "print(c == Rectangle(2, 3))"
   ]
  },
  {
   "attachments": {},
   "cell_type": "markdown",
   "metadata": {},
   "source": [
    "### Static properties\n",
    "\n",
    "You can create static properties for a class by declaring them outside of any method.\n",
    "\n",
    "Create a class with a static property `class_name` set to the name of the class, and another property `num_instances` to track the number of instances created."
   ]
  },
  {
   "cell_type": "code",
   "execution_count": 12,
   "metadata": {},
   "outputs": [
    {
     "name": "stdout",
     "output_type": "stream",
     "text": [
      "0\n",
      "1\n"
     ]
    }
   ],
   "source": [
    "class MyClass:\n",
    "    class_name = \"MyClass\"\n",
    "    num_instances = 0\n",
    "\n",
    "    def __init__(self):\n",
    "        MyClass.num_instances += 1\n",
    "\n",
    "    def __repr__(self):\n",
    "        return f\"{MyClass.class_name} has {MyClass.num_instances} live instances\"\n",
    "\n",
    "print(MyClass.num_instances)\n",
    "c1 = MyClass()\n",
    "print(MyClass.num_instances)"
   ]
  },
  {
   "attachments": {},
   "cell_type": "markdown",
   "metadata": {},
   "source": [
    "### Setters and Getters\n",
    "\n",
    "There are two ways of creating setters and getters in Python.\n",
    "\n",
    "+ using the `property()` function which identifies the functions that will act as setters, getters, and delete functions:\n",
    "\n",
    "    ```python\n",
    "    def set_something(self, value):\n",
    "      self.__something = value\n",
    "\n",
    "    def get_something(self):\n",
    "      return self.__something\n",
    "\n",
    "    def del_something(self):\n",
    "      del self.__something\n",
    "\n",
    "    something = property(get_something, set_something, del_something)\n",
    "    ```\n",
    "\n",
    "+ using the `@property` decorator on the functions\n",
    "\n",
    "    ```python\n",
    "    @property\n",
    "    def get_something(self):\n",
    "      return self.__something\n",
    "\n",
    "    @something.setter\n",
    "    def set_something(self, value):\n",
    "      self.__something = value\n",
    "\n",
    "    @something.deleter\n",
    "    def del_something(self):\n",
    "      del self.__something\n",
    "    ```\n",
    "\n",
    "Create a simple `Person` class with name and age properties using the two approaches described above."
   ]
  },
  {
   "cell_type": "code",
   "execution_count": 15,
   "metadata": {},
   "outputs": [
    {
     "name": "stdout",
     "output_type": "stream",
     "text": [
      "Person(name=Adri, age=14)\n",
      "15\n",
      "Person(name=Adri, age=15)\n"
     ]
    }
   ],
   "source": [
    "# Using `property`\n",
    "class Person:\n",
    "    def __init__(self, name, age):\n",
    "        self._name = name\n",
    "        self._age = age\n",
    "\n",
    "    def set_name(self, name):\n",
    "        self._name = name\n",
    "\n",
    "    def get_name(self):\n",
    "        return self._name\n",
    "\n",
    "    def set_age(self, age):\n",
    "        self._age = age\n",
    "\n",
    "    def get_age(self):\n",
    "        return self._age\n",
    "\n",
    "    def __repr__(self):\n",
    "        return f\"Person(name={self._name}, age={self._age})\"\n",
    "\n",
    "    name = property(get_name, set_name, None)\n",
    "    age = property(get_age, set_age, None)\n",
    "\n",
    "p = Person(\"Adri\", 14)\n",
    "print(p)\n",
    "\n",
    "p.age = 15\n",
    "print(p.age)\n",
    "print(p)\n"
   ]
  },
  {
   "cell_type": "code",
   "execution_count": 19,
   "metadata": {},
   "outputs": [
    {
     "name": "stdout",
     "output_type": "stream",
     "text": [
      "Person(name=Adri, age=14)\n",
      "15\n",
      "Person(name=Adri, age=15)\n"
     ]
    }
   ],
   "source": [
    "# using decorators\n",
    "\n",
    "class Person:\n",
    "    def __init__(self, name, age):\n",
    "        self._name = name\n",
    "        self._age = age\n",
    "\n",
    "    @property\n",
    "    def name(self):\n",
    "        return self._name\n",
    "\n",
    "    @name.setter\n",
    "    def name(self, name):\n",
    "        self._name = name\n",
    "\n",
    "    @property\n",
    "    def age(self):\n",
    "        return self._age\n",
    "\n",
    "    @age.setter\n",
    "    def age(self, age):\n",
    "        self._age = age\n",
    "\n",
    "\n",
    "    def __repr__(self):\n",
    "        return f\"Person(name={self._name}, age={self._age})\"\n",
    "\n",
    "p = Person(\"Adri\", 14)\n",
    "print(p)\n",
    "\n",
    "p.age = 15\n",
    "print(p.age)\n",
    "print(p)"
   ]
  },
  {
   "attachments": {},
   "cell_type": "markdown",
   "metadata": {},
   "source": [
    "### Creating read-only/write-only attributes\n",
    "\n",
    "Banking on the `@property` decorator it becomes very easy to create read-only and write-only managed attributes.\n",
    "\n",
    "Create a `Person` class that includes:\n",
    "  + a `password` attribute that is a write-only attribute\n",
    "  + a `name` attribute that is read-only and can only be set in the constructor."
   ]
  },
  {
   "cell_type": "code",
   "execution_count": 24,
   "metadata": {},
   "outputs": [
    {
     "name": "stdout",
     "output_type": "stream",
     "text": [
      "sergio\n"
     ]
    }
   ],
   "source": [
    "class Person:\n",
    "    def __init__(self, name, password):\n",
    "        self._name = name\n",
    "        self._password = password\n",
    "\n",
    "    def set_password(self, new_password):\n",
    "        self._password = new_password\n",
    "\n",
    "    password = property(fset=set_password)\n",
    "\n",
    "    def get_name(self):\n",
    "        return self._name\n",
    "\n",
    "    name = property(fget=get_name)\n",
    "\n",
    "user = Person(\"sergio\", \"supersecret\")\n",
    "# print(user.password)    # unreadable attribute \"password\"\n",
    "print(user.name)\n",
    "\n",
    "# user.name = \"sergio74\"  # can't set attribute name\n",
    "user.password = \"tiger\""
   ]
  },
  {
   "attachments": {},
   "cell_type": "markdown",
   "metadata": {},
   "source": [
    "### Private fields in Python classes\n",
    "\n",
    "Python does not support private/public qualifiers for class methods and attributes.\n",
    "\n",
    "However, it is customary to prefix internal implementation methods and attributes with `_`. That approach gives a visual indication to the reader that those methods and attributes should not be used from consumer code. Note that this does not prevent the client code to use them.\n",
    "\n",
    "Python also supports prefixing your methods and attributes with a double underscore `__`. This approach forces a *name mangling*, so that it'll be much more difficult for the class consumer to use that method or attribute (yet, it will be possible).\n",
    "\n",
    "As a result, it is conventional to:\n",
    "+ Use `_prefix` for names used in internal implementation details, but that you **want** to keep available to subclasses and end-consumer code.\n",
    "\n",
    "+ Use `__prefix` for names used in internal implementation details that you **don't want** to make available to any code outside of the current class.\n",
    "\n",
    "Create a class that have fields of both kind and illustrate the concepts above:\n",
    "+ when using `_prefix` the attribute/method is available to subclasses and consumer code.\n",
    "+ when using `__prefix` the attribute/method is not available to subclasses or consumer code."
   ]
  },
  {
   "attachments": {},
   "cell_type": "markdown",
   "metadata": {},
   "source": [
    "We will create a simple class hierarchy to illustrate name mangling, etc."
   ]
  },
  {
   "cell_type": "code",
   "execution_count": 31,
   "metadata": {},
   "outputs": [
    {
     "name": "stdout",
     "output_type": "stream",
     "text": [
      "Car(num_wheels: 4 and maybe a motor)\n"
     ]
    }
   ],
   "source": [
    "class Vehicle:\n",
    "    def __init__(self, num_wheels, has_motor):\n",
    "        self._num_wheels = num_wheels\n",
    "        self.__has_motor = has_motor\n",
    "\n",
    "class Car(Vehicle):\n",
    "    def __init__(self):\n",
    "        super().__init__(4, True)\n",
    "\n",
    "    def __repr__(self):\n",
    "        # return f\"Car(num_wheels: {self._num_wheels}, has_motor: {self.__has_motor})\" # Error: Car object has no attribute __has_motor\n",
    "        return f\"Car(num_wheels: {self._num_wheels} and maybe a motor)\" # Error: Car object has no attribute __has_motor\n",
    "\n",
    "c = Car()\n",
    "print(c)"
   ]
  },
  {
   "attachments": {},
   "cell_type": "markdown",
   "metadata": {},
   "source": [
    "### Checking the type of an instance with `isinstance()`\n",
    "\n",
    "The built-in function `isinstance()` lets you check if a class is of a particular type.\n",
    "\n",
    "Create a simple class hierarchy (e.g., Vehicle, Car) and instantiate an object of each type.\n",
    "\n",
    "Use `isinstance` to check:\n",
    "+ whether it returns `True` when checking the `Vehicle` instance against `Vehicle` class.\n",
    "+ whether it returns `True` when checking the `Car` instance against `Car` class.\n",
    "+ whether it returns `True` when checking the `Vehicle` instance against `Car` class.\n",
    "+ whether it returns `True` when checking the `Car` instance against `Vehicle` class.\n",
    "\n",
    "What can you derive from the results?"
   ]
  },
  {
   "cell_type": "code",
   "execution_count": 7,
   "metadata": {},
   "outputs": [
    {
     "name": "stdout",
     "output_type": "stream",
     "text": [
      "True\n",
      "True\n",
      "False\n",
      "True\n"
     ]
    }
   ],
   "source": [
    "class Vehicle:\n",
    "    ...\n",
    "\n",
    "class Car(Vehicle):\n",
    "    ...\n",
    "\n",
    "vObj = Vehicle()\n",
    "cObj = Car()\n",
    "\n",
    "print(isinstance(vObj, Vehicle)) # expected True, got True\n",
    "print(isinstance(cObj, Car))     # expected True, got True\n",
    "print(isinstance(vObj, Car))     # expected False, got False\n",
    "print(isinstance(cObj, Vehicle)) # expected True, got True"
   ]
  },
  {
   "attachments": {},
   "cell_type": "markdown",
   "metadata": {},
   "source": [
    "The results are consistent with the expectations, and you can use `isinstance` to check if a particular object is part of a class hierarchy."
   ]
  },
  {
   "attachments": {},
   "cell_type": "markdown",
   "metadata": {},
   "source": [
    "### `isinstance()` for built-in types\n",
    "\n",
    "You can also use `isinstance()` to check for the type of built-in types using:\n",
    "+ `str` for strings\n",
    "+ `int` for integers\n",
    "+ `float` for floating-point numbers\n",
    "+ `complex` for complex numbers\n",
    "+ `bool` for booleans\n",
    "+ `list` for lists\n",
    "+ `tuple` for tuples\n",
    "+ `range` for ranges\n",
    "+ `dict` for dictionaries\n",
    "+ `set` for sets\n",
    "\n",
    "\n",
    "\n",
    "Use `isinstance` to check:\n",
    "+ that a string variable is actually a string\n",
    "+ that a tuple is actually a tuple\n",
    "+ that a dictionary is actually a dictionary"
   ]
  },
  {
   "cell_type": "code",
   "execution_count": 4,
   "metadata": {},
   "outputs": [
    {
     "name": "stdout",
     "output_type": "stream",
     "text": [
      "True\n",
      "False\n",
      "False\n",
      "\n",
      "False\n",
      "True\n",
      "False\n",
      "\n",
      "False\n",
      "False\n",
      "True\n",
      "\n"
     ]
    }
   ],
   "source": [
    "s = \"Hello!\"\n",
    "t = (1, \"uno\")\n",
    "d = { \"one\": 1, \"two\": 2}\n",
    "\n",
    "# string\n",
    "print(isinstance(s, str))\n",
    "print(isinstance(t, str))\n",
    "print(isinstance(d, str))\n",
    "print()\n",
    "\n",
    "# tuple\n",
    "print(isinstance(s, tuple))\n",
    "print(isinstance(t, tuple))\n",
    "print(isinstance(d, tuple))\n",
    "print()\n",
    "\n",
    "# dictionary\n",
    "print(isinstance(s, dict))\n",
    "print(isinstance(t, dict))\n",
    "print(isinstance(d, dict))\n",
    "print()"
   ]
  },
  {
   "attachments": {},
   "cell_type": "markdown",
   "metadata": {},
   "source": [
    "### Using `issubclass()` to check if an instance is a subclass\n",
    "\n",
    "The function `issubclass()` lets you check if a class is of a particular type.\n",
    "\n",
    "| NOTE: |\n",
    "| :---- |\n",
    "| `issubclass` requires classes not instances. |\n",
    "\n",
    "Create a simple class hierarchy (e.g., Person, Student) and validate the behavior of `issubclass`.\n",
    "\n",
    "How would you use `issubclass` if you only have access to a particular instance and not the class? (HINT: look for extra properties on the instance)"
   ]
  },
  {
   "cell_type": "code",
   "execution_count": 14,
   "metadata": {},
   "outputs": [
    {
     "name": "stdout",
     "output_type": "stream",
     "text": [
      "True\n",
      "True\n",
      "False\n",
      "True\n",
      "True\n",
      "True\n"
     ]
    }
   ],
   "source": [
    "class Person:\n",
    "    ...\n",
    "\n",
    "class Student(Person):\n",
    "    ...\n",
    "\n",
    "\n",
    "print(issubclass(Person, Person))   # expected True, got True\n",
    "print(issubclass(Student, Person))  # expected True, got True\n",
    "print(issubclass(Person, Student))  # expected False, got False\n",
    "\n",
    "# if you have an instance\n",
    "sObj = Student()\n",
    "pObj = Person()\n",
    "\n",
    "print(issubclass(sObj.__class__, Person))\n",
    "print(issubclass(Student, pObj.__class__))\n",
    "print(issubclass(sObj.__class__, pObj.__class__))"
   ]
  },
  {
   "attachments": {},
   "cell_type": "markdown",
   "metadata": {},
   "source": [
    "## Section 15 &mdash; Creating and importing libraries\n",
    "\n",
    "You can import your own custom modules using the same syntax used for core packages. As these files will not be available in a central location, you will need to specify where the code for those modules can be located:\n",
    "\n",
    "```python\n",
    "from [<dir>.]<lib> import <lib_fn_or_property>\n",
    "```\n",
    "\n",
    "If the library sits in the same directory from where you're running your code you can omit the `[<dir>.]` part.\n"
   ]
  },
  {
   "attachments": {},
   "cell_type": "markdown",
   "metadata": {},
   "source": [
    "### Hello, custom libraries\n",
    "\n",
    "Create a library in a source file `my_lib.py` in the same directory as this notebook. In it, define a function `greet_me` that prints a message. Define also a `square` function that returns the square of a number given.\n",
    "Then import that library in a cell and make sure you can invoke the function.\n",
    "\n",
    "| NOTE: |\n",
    "| :---- |\n",
    "| Note if you change the library after having imported it, you might need to restart the Jupyter kernel to see the change reflected. |"
   ]
  },
  {
   "cell_type": "code",
   "execution_count": 1,
   "metadata": {},
   "outputs": [
    {
     "name": "stdout",
     "output_type": "stream",
     "text": [
      "Hello, stranger!\n",
      "Hello, sergio!\n",
      "5^2=25\n"
     ]
    }
   ],
   "source": [
    "from my_lib import greet_me, square\n",
    "\n",
    "greet_me()\n",
    "greet_me(\"sergio\")\n",
    "print(f\"5^2={square(5)}\")"
   ]
  },
  {
   "attachments": {},
   "cell_type": "markdown",
   "metadata": {},
   "source": [
    "### Importing custom libraries from a folder\n",
    "\n",
    "Saving your libraries in the same directory in which you keep your notebooks is not usually a very good idea.\n",
    "\n",
    "Python allows you to reference libraries that sit on subdirectories other using the sytax introduced at the beginning of this section.\n",
    "\n",
    "Create a `utils/` folder and define a new source file `my_lib.py` for another library in which you declare a function `cube(num)`. Import it and use it in a cell."
   ]
  },
  {
   "cell_type": "code",
   "execution_count": 4,
   "metadata": {},
   "outputs": [
    {
     "name": "stdout",
     "output_type": "stream",
     "text": [
      "5^3=125\n"
     ]
    }
   ],
   "source": [
    "from utils.my_lib import cube\n",
    "\n",
    "print(f\"5^3={cube(5)}\")"
   ]
  },
  {
   "attachments": {},
   "cell_type": "markdown",
   "metadata": {},
   "source": [
    "### The concept of **\"main\"** in modules\n",
    "\n",
    "There are Python files that can be both used as libraries, whose individual elements might be imported into a larger program, or executed as standalone scripts.\n",
    "\n",
    "In those use cases, you will find the following piece of code useful:\n",
    "\n",
    "```python\n",
    "if __name__ == \"__main__\":\n",
    "    # ... things to run as standalone script ...\n",
    "```\n",
    "\n",
    "Create a module `./utils/db_module.py` that exposes two functions `delete_db()` and `create_db()` that announce themselves using `print()`.\n",
    "Include a code snippet such as the one above so that when invoking the program as a standalone program using `python ./utils/db_module.py` the main section is executed, but when importing it on a notebook cell, those functions are not.\n",
    "\n",
    "Confirm that when removing the guard `if __name__ == \"__main__\"` those functions are executed as side-effects when the module is imported."
   ]
  },
  {
   "cell_type": "code",
   "execution_count": 5,
   "metadata": {},
   "outputs": [
    {
     "name": "stdout",
     "output_type": "stream",
     "text": [
      "> doing some db stuff\n",
      "> in delete_db\n",
      "> in create_db\n"
     ]
    }
   ],
   "source": [
    "from utils.db_module import do_some_db_stuff\n",
    "\n",
    "do_some_db_stuff()"
   ]
  },
  {
   "attachments": {},
   "cell_type": "markdown",
   "metadata": {},
   "source": [
    "## Section 16 &mdash; Documenting your code\n",
    "\n",
    "As Python is a dynamic programming language, and not strongly typed, documenting your code is key for a good DX.\n",
    "\n",
    "There are two fundamental pieces you should master to properly document your code in Python:\n",
    "+ DocStrings: conventions about comments in files, functions, classes, etc. DocStrings let the IDEs provide additional information to the consumers of your code.\n",
    "\n",
    "+ Type hints: available from Python 3.5, type hints allows you to add type annotations to your code to declare the expected types such as in `def hello(name: str) -> str:`"
   ]
  },
  {
   "attachments": {},
   "cell_type": "markdown",
   "metadata": {},
   "source": [
    "### DocStrings\n",
    "\n",
    "DocStrings can be used for files, classes, methods, and standalone functions.\n",
    "\n",
    "The typically follow this approach:\n",
    "\n",
    "```python\n",
    "\"\"\"Summary line for the \"thing\" being documents\n",
    "\n",
    "Details spread across multiple lines describing the\n",
    "thing, how to use it, recommendations, examples, etc.\n",
    "\"\"\"\n",
    "```\n",
    "\n",
    "For functions, this is one of the most common templates:\n",
    "\n",
    "```python\n",
    "\"\"\"Summary line describing what the function does\n",
    "\n",
    "Parameters\n",
    "----------\n",
    "param1 : str\n",
    "  The description for param1, whose type is string\n",
    "param2 : bool, optional\n",
    "  The description for param2, which in an optional boolean\n",
    "\n",
    "Returns\n",
    "-------\n",
    "list\n",
    "  a list of strings\n",
    "```\n",
    "\n",
    "Using this approach, define, and document a function `square` that returns the square of a given number."
   ]
  },
  {
   "cell_type": "code",
   "execution_count": 1,
   "metadata": {},
   "outputs": [
    {
     "data": {
      "text/plain": [
       "25"
      ]
     },
     "execution_count": 1,
     "metadata": {},
     "output_type": "execute_result"
    }
   ],
   "source": [
    "\"\"\"square returns the square of a number\n",
    "\n",
    "Parameters\n",
    "----------\n",
    "num : number\n",
    "    The number whose square value is about to be computed\n",
    "\n",
    "Returns\n",
    "-------\n",
    "    The square of the number given\n",
    "\"\"\"\n",
    "def square(num):\n",
    "    return num * num\n",
    "\n",
    "\n",
    "square(5)"
   ]
  },
  {
   "cell_type": "markdown",
   "metadata": {},
   "source": [
    "An alternative docstring style would be the following:\n",
    "\n",
    "```python\n",
    "def quotient(dividend, divisor, taking_int=False):\n",
    "  \"\"\"\n",
    "  Calculate the quotient of two numbers\n",
    "\n",
    "  :param dividend: int | float, the dividend in the division\n",
    "  :param divisor: int | float, the divisor in the division\n",
    "  :param taking_int: bool, whether only taking the integer part of the quotient;\n",
    "  default: False, which calculates the precise quotient of the two numbers\n",
    "\n",
    "  :return float | int, the quotient of the dividend and divisor\n",
    "\n",
    "  :raises ZeroDivisionError, when the divisor is 0\n",
    "  \"\"\"\n",
    "  if divisor == 0:\n",
    "    raise ZeroDivisionError(\"division by zero\")\n",
    "  result = dividend / divisor\n",
    "  if taking_int:\n",
    "    result = int(result)\n",
    "  return result\n",
    "```"
   ]
  },
  {
   "cell_type": "markdown",
   "metadata": {},
   "source": [
    "### Documenting a class attribute\n",
    "\n",
    "A class attribute can be documented using DocStrings as follows:\n",
    "\n",
    "```python\n",
    "class AClass:\n",
    "\n",
    "    c = 'class attribute'\n",
    "    \"\"\"This is AClass.c's docstring.\"\"\"\n",
    "```"
   ]
  },
  {
   "attachments": {},
   "cell_type": "markdown",
   "metadata": {},
   "source": [
    "### Type Hints\n",
    "\n",
    "Type hints are type annotations that can be added to functions to indicate the types of the parameters received and the result of executing the function among other things.\n",
    "\n",
    "Note that in order for the runtime to catch errors and enforce types you will needs to use a separate type checker not include in the Python runtime.\n",
    "\n",
    "#### Type annotations\n",
    "\n",
    "Type hints are used to add types to variables, parameters, function arguments, and their corresponding return values, class attributes and methods.\n",
    "\n",
    "##### Variable annotations\n",
    "\n",
    "The following examples illustrate how variables can be annotated with types:\n",
    "\n",
    "```python\n",
    "my_list: list = ['A', 'B', 'C']\n",
    "my_num: float = 2.4\n",
    "```\n",
    "\n",
    "with the variable being one of the following:\n",
    "+ `int`\n",
    "+ `float`\n",
    "+ `str`\n",
    "+ `bool`\n",
    "+ `bytes`\n",
    "+ `list`\n",
    "+ `tuple`\n",
    "+ `dict`\n",
    "+ `set`\n",
    "+ `frozenset`\n",
    "+ `None`"
   ]
  },
  {
   "attachments": {},
   "cell_type": "markdown",
   "metadata": {},
   "source": [
    "##### Function annotations\n",
    "\n",
    "The following example illustrate how to annotate a function:\n",
    "\n",
    "```python\n",
    "def add_nums(x: int, y: int, z: float) -> float:\n",
    "  return x + y + z\n",
    "```\n",
    "\n",
    "If a function does not return anything, you can set the return type to `None`."
   ]
  },
  {
   "attachments": {},
   "cell_type": "markdown",
   "metadata": {},
   "source": [
    "##### Class annotations\n",
    "\n",
    "You can annotate attributes and methods inside classes using the following approach:\n",
    "\n",
    "```python\n",
    "class MyClass:\n",
    "  static_val: str = \"Static Value\"\n",
    "  num_instances: int = 0\n",
    "\n",
    "  def say_hello(s: str) -> str:\n",
    "    return f\"Hello to {s}\"\n",
    "\n",
    "```"
   ]
  },
  {
   "attachments": {},
   "cell_type": "markdown",
   "metadata": {},
   "source": [
    "##### Annotating list of complex types\n",
    "\n",
    "Complex types, such as list of floats, etc. can be annotated using the `typing` package:\n",
    "\n",
    "```python\n",
    "from typing import List\n",
    "\n",
    "def my_fun(l: List[float]) -> float:\n",
    "  return sum(l)\n",
    "```\n",
    "\n",
    "When importing that package, you can also create a type, so that it can be used to qualify variables and make the declaration easier to read:\n",
    "\n",
    "```python\n",
    "from typing import List\n",
    "\n",
    "NestedList = List[List[str]] # list of lists of strings\n",
    "\n",
    "my_super_list: NestedList = [[\"Hello\", \"To\"], [\"Jason\"]]\n",
    "```"
   ]
  },
  {
   "attachments": {},
   "cell_type": "markdown",
   "metadata": {},
   "source": [
    "##### Annotating dicts of complex types\n",
    "\n",
    "The following example illustrates how annotate the types of a dictionary keys and values.\n",
    "\n",
    "```python\n",
    "my_dict_type = Dict[str, float]\n",
    "\n",
    "my_dict: my_dict_type = {\"key\": 1.1}\n",
    "```"
   ]
  },
  {
   "attachments": {},
   "cell_type": "markdown",
   "metadata": {},
   "source": [
    "##### Annotating unions\n",
    "\n",
    "A *union* lets you specify two different types for a given attribute:\n",
    "\n",
    "```python\n",
    "def load_model(filename: str, cache_folder: Union[str, Path]) -> None:\n",
    "  ...\n",
    "```\n",
    "\n",
    "In more modern Python, unions syntax will be replaced by `|` as in:\n",
    "\n",
    "```python\n",
    "def load_model(filename: str, cache_folder: str|Path) -> None:\n",
    "  ...\n",
    "```\n"
   ]
  },
  {
   "attachments": {},
   "cell_type": "markdown",
   "metadata": {},
   "source": [
    "##### Dictionaries with fixed schema using `TypedDict`\n",
    "\n",
    "You can use `TypedDict` to model dictionaries with fixed schemas (known string keys).\n",
    "\n",
    "```python\n",
    "from typing import TypedDict\n",
    "\n",
    "class InterestsTypedDict(TypedDict):\n",
    "  name: str\n",
    "  interests: List[str]\n",
    "\n",
    "my_interests: InterestsTypedDict = {\"name\": \"sergio\", \"interests\": [\"movies\", \"Golang\", \"Python\", \"in that order\"]}\n",
    "```"
   ]
  },
  {
   "attachments": {},
   "cell_type": "markdown",
   "metadata": {},
   "source": [
    "##### Annotating function parameters with Callable\n",
    "\n",
    "You must use `Callable` to model arguments that are functions:\n",
    "\n",
    "```python\n",
    "from typing import Callable\n",
    "\n",
    "def sum_numbers(x: int, y: int) -> int:\n",
    "  return x + y\n",
    "\n",
    "def compute(x: int, y: int, fn: Callable) -> int:\n",
    "  return fn(x, y)\n",
    "```\n",
    "\n",
    "You can go above and beyond and also document the expected args using:\n",
    "\n",
    "```python\n",
    "from typing import Callable\n",
    "\n",
    "def compute(x: int, y: int, fn: Callable[[int, int], int]) -> int:\n",
    "  return fn(x, y)\n",
    "```"
   ]
  },
  {
   "attachments": {},
   "cell_type": "markdown",
   "metadata": {},
   "source": [
    "##### Using `Any` when nothing else matches\n",
    "\n",
    "You can use the `Any` type annotations when you want to explicitly state that the function doesn't care about the type it receives or returns.\n",
    "\n",
    "```python\n",
    "from typing import Any\n",
    "\n",
    "def foo(x: Any) -> None:\n",
    "  print(x)\n",
    "```"
   ]
  },
  {
   "attachments": {},
   "cell_type": "markdown",
   "metadata": {},
   "source": [
    "##### Using `Optional` for optional parameters\n",
    "\n",
    "You can use the following syntax give type hints about optional parameters:\n",
    "\n",
    "```python\n",
    "from typing import Optional\n",
    "\n",
    "def foo(x: Optional[bool] = False) -> None:\n",
    "  ...\n",
    "```"
   ]
  },
  {
   "attachments": {},
   "cell_type": "markdown",
   "metadata": {},
   "source": [
    "##### Using `Sequence` for indexed types\n",
    "\n",
    "You can use `Sequence` as a type hint for anything that can be indexed such as lists, tuples, strings, etc.\n",
    "\n",
    "```python\n",
    "from typing import Sequence\n",
    "\n",
    "def print_sequence_elem(sequence: Sequence[str]):\n",
    "  for i, s in enumerate(sequence):\n",
    "    print(f\"{i}: {s}\")\n",
    "```\n",
    "\n",
    "| NOTE: |\n",
    "| :---- |\n",
    "| Sets and Dictionaries cannot be indexed, and therefore do not qualify as sequnces. |"
   ]
  },
  {
   "attachments": {},
   "cell_type": "markdown",
   "metadata": {},
   "source": [
    "##### Types tuples with `Tuple`\n",
    "\n",
    "While you can use `tuple` when you don't care about the types of the tuple elements, you can also create typed tuples with `Tuple`:\n",
    "\n",
    "```python\n",
    "from typing import Tuple\n",
    "\n",
    "t: tuple = (1, 2, 3, \"catorce\")\n",
    "\n",
    "t_2: Tuple[int, int, int, int] = (1, 2, 3, 14)\n",
    "```"
   ]
  },
  {
   "attachments": {},
   "cell_type": "markdown",
   "metadata": {},
   "source": [
    "#### Confirming that Python doesn't enforce type hints\n",
    "\n",
    "Create a Python script that breaks the type hinting and validate:\n",
    "+ Whether the notebook cell report the problem\n",
    "+ Whether the same script, when use outside the notebook, the error is identified, and whether the error is run."
   ]
  },
  {
   "cell_type": "code",
   "execution_count": 1,
   "metadata": {},
   "outputs": [
    {
     "name": "stdout",
     "output_type": "stream",
     "text": [
      "Hello, sergio!!!\n"
     ]
    }
   ],
   "source": [
    "def greet(name: int) -> None:\n",
    "    return f\"Hello, {name}!!!\"\n",
    "\n",
    "\n",
    "print(greet(\"sergio\"))"
   ]
  },
  {
   "attachments": {},
   "cell_type": "markdown",
   "metadata": {},
   "source": [
    "See how in the notebook the type hints are completely ignored.\n",
    "\n",
    "However, in [breaking_type_hints.py](exercises/section_16-docs/breaking_type_hints/breaking_type_hints.py) I included the same program and the following is displayed:\n",
    "\n",
    "![breaking type hints](pics/type_hint_errors.png)\n",
    "\n",
    "However, you can run it without problems."
   ]
  },
  {
   "attachments": {},
   "cell_type": "markdown",
   "metadata": {},
   "source": [
    "#### Basic type hints\n",
    "\n",
    "Create and annotate `add_nums(a, b)` that receives two numbers and returns the sum of such numbers."
   ]
  },
  {
   "cell_type": "code",
   "execution_count": 2,
   "metadata": {},
   "outputs": [
    {
     "name": "stdout",
     "output_type": "stream",
     "text": [
      "5\n"
     ]
    }
   ],
   "source": [
    "def add_nums(a: int, b: int) -> int:\n",
    "    return a + b\n",
    "\n",
    "print(add_nums(2, 3))"
   ]
  },
  {
   "attachments": {},
   "cell_type": "markdown",
   "metadata": {},
   "source": [
    "## Section 17 &mdash; Files\n",
    "\n",
    "Python standard library provides a large number of functions to deal with file operations."
   ]
  },
  {
   "attachments": {},
   "cell_type": "markdown",
   "metadata": {},
   "source": [
    "### Building paths\n",
    "\n",
    "Python allows you to create paths by concatenating a path and string using the `/` operator (which is overloaded for this purposes).\n",
    "\n",
    "Create the file path `path/to/file.ext` using the `/` operator to concatenate a path created with `pathlib.Path` along with a string for the file."
   ]
  },
  {
   "cell_type": "code",
   "execution_count": 1,
   "metadata": {},
   "outputs": [
    {
     "name": "stdout",
     "output_type": "stream",
     "text": [
      "path/to/file.ext\n"
     ]
    }
   ],
   "source": [
    "import pathlib\n",
    "\n",
    "path_prefix = pathlib.Path(\"path/to\")\n",
    "file_suffix = \"file.ext\"\n",
    "\n",
    "path = path_prefix / file_suffix\n",
    "print(path)"
   ]
  },
  {
   "attachments": {},
   "cell_type": "markdown",
   "metadata": {},
   "source": [
    "### Renaming files\n",
    "\n",
    "Create a simple file renaming program that given a path, a prefix pattern, and a wildcard of files, scans that path and renames the file matching the wildcard using the rule:\n",
    "\n",
    "```\n",
    "{out_prefix_pattern}_{counter}.{original_extension}\n",
    "```\n",
    "\n",
    "For example, if you have a directory with the files:\n",
    "\n",
    "```\n",
    "IMG_1642.jpg\n",
    "IMG_4598.jpg\n",
    "IMG_1763.jpg\n",
    "```\n",
    "\n",
    "you should be able to transform them into:\n",
    "```\n",
    "photo_001.jpg\n",
    "photo_002.jpg\n",
    "photo_003.jpg\n",
    "```\n",
    "\n",
    "by using `photo` as the `out_prefix_pattern`."
   ]
  },
  {
   "cell_type": "code",
   "execution_count": 7,
   "metadata": {},
   "outputs": [
    {
     "name": "stdout",
     "output_type": "stream",
     "text": [
      "using path: exercises/section_17-files/renaming_files\n",
      "exercises/section_17-files/renaming_files/orig/a_file.txt -> exercises/section_17-files/renaming_files/out/file_1.txt\n",
      "exercises/section_17-files/renaming_files/orig/another_file.txt -> exercises/section_17-files/renaming_files/out/file_2.txt\n",
      "exercises/section_17-files/renaming_files/orig/yet_another_file.txt -> exercises/section_17-files/renaming_files/out/file_3.txt\n"
     ]
    }
   ],
   "source": [
    "import pathlib\n",
    "import shutil\n",
    "\n",
    "path = pathlib.Path(\"./exercises/section_17-files/renaming_files/\")\n",
    "print(f\"using path: {path}\")\n",
    "\n",
    "# We start by copying the original files to the out directory\n",
    "orig_path = path / \"orig\"\n",
    "out_path = path / \"out\"\n",
    "for orig_file in orig_path.glob('*'):\n",
    "    shutil.copy2(orig_file, out_path)\n",
    "\n",
    "out_prefix = \"file\"\n",
    "file_list = []\n",
    "counter = 1\n",
    "\n",
    "for file in sorted(out_path.glob('*')):\n",
    "    file_list.append(file)\n",
    "\n",
    "for file in file_list:\n",
    "    resulting_file_name = f\"{out_prefix}_{counter}{file.suffix.lower()}\"\n",
    "    file.rename(out_path / resulting_file_name)\n",
    "    print(f\"{orig_path}/{file.name} -> {out_path}/{resulting_file_name}\")\n",
    "    counter += 1\n",
    "\n"
   ]
  },
  {
   "attachments": {},
   "cell_type": "markdown",
   "metadata": {},
   "source": [
    "## Section 18 &mdash; The `with` statement\n",
    "\n",
    "The `with` statement is used in exception handling code to simplify the management of resources such as files and database connections, so that they are correctly handled in error situations."
   ]
  },
  {
   "attachments": {},
   "cell_type": "markdown",
   "metadata": {},
   "source": [
    "### Using `with` to control file exceptions\n",
    "\n",
    "Consider a block of code that opens a file for writing, writes a string into the file, and the closes the file.\n",
    "\n",
    "Write the block of code using three different approaches:\n",
    "\n",
    "1. Don't use any exception control. Explain why the approach is weak.\n",
    "\n",
    "2. Use try/catch/finally solving all the problems of the first approach.\n",
    "\n",
    "3. Use `with` and discuss the functionality and readability of the approach."
   ]
  },
  {
   "cell_type": "code",
   "execution_count": 8,
   "metadata": {},
   "outputs": [],
   "source": [
    "# Option 1\n",
    "path = \"./exercises/section_17-files/using_with/delete_me.txt\"\n",
    "\n",
    "file = open(path, \"x\") # x: exclusing creation (will fail if file already exists)\n",
    "file.write(\"Hello to Jason Isaacs!\\n\")\n",
    "file.close()"
   ]
  },
  {
   "attachments": {},
   "cell_type": "markdown",
   "metadata": {},
   "source": [
    "The previous snippet has no exception handling and yet each of the statements is subject of failing:\n",
    "+ the file might already exist\n",
    "+ the disk might be read-only or full, which will make `file.write` fail.\n",
    "+ the close operation might fail for some reason."
   ]
  },
  {
   "cell_type": "code",
   "execution_count": null,
   "metadata": {},
   "outputs": [],
   "source": [
    "# Option 2\n",
    "\n",
    "path = \"./exercises/section_17-files/using_with/delete_me.txt\"\n",
    "\n",
    "try:\n",
    "    file = open(path, \"x\") # x: exclusing creation (will fail if file already exists)\n",
    "    file.write(\"Hello to Jason Isaacs!\\n\")\n",
    "except Exception as err:\n",
    "    print(f\"error found while writing to file: {err}\")\n",
    "finally:\n",
    "    file.close()"
   ]
  },
  {
   "attachments": {},
   "cell_type": "markdown",
   "metadata": {},
   "source": [
    "The second snippet solves the problems of the previous approach, as the file will be closed under all circumstances, and the error will be reported so that it's not lost."
   ]
  },
  {
   "cell_type": "code",
   "execution_count": 11,
   "metadata": {},
   "outputs": [],
   "source": [
    "# Option 3\n",
    "path = \"./exercises/section_17-files/using_with/delete_me.txt\"\n",
    "\n",
    "with open(path, \"x\") as file:\n",
    "    file.write(\"Hello to Jason Isaacs!\\n\")\n"
   ]
  },
  {
   "attachments": {},
   "cell_type": "markdown",
   "metadata": {},
   "source": [
    "The previous snippet features the same behavior as the second snippet, but it is much more succinct, as all the exception handling is happening behind the scenes."
   ]
  },
  {
   "attachments": {},
   "cell_type": "markdown",
   "metadata": {},
   "source": [
    "### Providing support to `with` in custom classes\n",
    "\n",
    "Write a simple class `MessageWriter` that supports the following syntax:\n",
    "\n",
    "```python\n",
    "with MessageWriter(\"filename\") as xfile:\n",
    "  xfile.write(str)\n",
    "```\n",
    "\n",
    "When using the previous approach, `MessageWriter` should write the given string to a file, doing proper resource management with the file."
   ]
  },
  {
   "cell_type": "code",
   "execution_count": 16,
   "metadata": {},
   "outputs": [],
   "source": [
    "class MessageWriter(object):\n",
    "    def __init__(self, name):\n",
    "        self.name = name\n",
    "\n",
    "    def __enter__(self):\n",
    "        self.file = open(self.name, \"x\")\n",
    "        return self.file\n",
    "\n",
    "    def __exit__(self, exception_type, exception_value, traceback):\n",
    "        if exception_type is not None:\n",
    "            traceback.print_exception(exception_type, exception_value, traceback)\n",
    "        self.file.close()\n",
    "\n",
    "    def write(self, str):\n",
    "        self.file.write(str)\n",
    "\n",
    "path = \"./exercises/section_17-files/using_with/delete_me.txt\"\n",
    "\n",
    "with MessageWriter(path) as xfile:\n",
    "    xfile.write(\"Hello to Jason Isaacs!\\n\")\n"
   ]
  },
  {
   "attachments": {},
   "cell_type": "markdown",
   "metadata": {},
   "source": [
    "## Section 19 &mdash; Interacting with the underlying OS\n",
    "\n",
    "This section illustrates different ways in which you can interact with the underlying OS."
   ]
  },
  {
   "attachments": {},
   "cell_type": "markdown",
   "metadata": {},
   "source": [
    "### Exiting a program with `quit()`\n",
    "\n",
    "You can exit from a running program/script using the function `quit()`.\n",
    "\n",
    "Create a program that simulates the rolling of a dice and reports the number of consecutive times you obtain an even number. When an odd number is found, the program should quit.\n",
    "\n",
    "| NOTE: |\n",
    "| :---- |\n",
    "| The `quit()` function does not work on notebook cells, so the exercise must be implemented as a standalone function. |"
   ]
  },
  {
   "attachments": {},
   "cell_type": "markdown",
   "metadata": {},
   "source": [
    "The solution is implemented in [dice_quit/main.py](exercises/section_19-os/dice_quit/main.py)"
   ]
  },
  {
   "attachments": {},
   "cell_type": "markdown",
   "metadata": {},
   "source": [
    "### Exiting a program by raising a `SystemExit`\n",
    "\n",
    "Besides `quit()`, it is possible to raise a `SystemExit` exception to terminate a running program.\n",
    "\n",
    "This will cause the program to stop even on notebook cells, so it's more portable than quit.\n",
    "\n",
    "Implement the previous exercise on a notebook cell using `SystemExit`."
   ]
  },
  {
   "cell_type": "code",
   "execution_count": 2,
   "metadata": {},
   "outputs": [
    {
     "name": "stdout",
     "output_type": "stream",
     "text": [
      "You obtained 4\n",
      "You obtained 1\n",
      "You reached 1 consecutive throws\n"
     ]
    },
    {
     "ename": "SystemExit",
     "evalue": "",
     "output_type": "error",
     "traceback": [
      "An exception has occurred, use %tb to see the full traceback.\n",
      "\u001b[0;31mSystemExit\u001b[0m\n"
     ]
    }
   ],
   "source": [
    "from random import randint\n",
    "\n",
    "consecutive_throws_count: int = 0\n",
    "while True:\n",
    "    dice_throw: int = randint(1, 6)\n",
    "    print(f\"You obtained {dice_throw}\")\n",
    "    if dice_throw % 2 == 0:\n",
    "        consecutive_throws_count += 1\n",
    "    else:\n",
    "        print(f\"You reached {consecutive_throws_count} consecutive throws\")\n",
    "        raise SystemExit\n"
   ]
  },
  {
   "attachments": {},
   "cell_type": "markdown",
   "metadata": {},
   "source": [
    "## Section 20 &mdash; Date and Time\n",
    "\n",
    "### Parsing a string into a timezone-aware datetime object\n",
    "\n",
    "Python has support for parsing strings into `datetime` objects using `datetime.strptime()` function.\n",
    "\n",
    "Use this function to parse:\n",
    "1. 1974-02-05T14:05:18\n",
    "2. 17/05/2008 23:15:47\n",
    "\n",
    "| HINT: |\n",
    "| :---- |\n",
    "| You will need to provide the format to `strptime` (see https://docs.python.org/3/library/datetime.html#datetime.datetime.isoformat) for examples. |"
   ]
  },
  {
   "cell_type": "code",
   "execution_count": 7,
   "metadata": {},
   "outputs": [
    {
     "name": "stdout",
     "output_type": "stream",
     "text": [
      "1974-02-05 14:05:18\n",
      "2008-05-17 23:15:47\n"
     ]
    }
   ],
   "source": [
    "from datetime import datetime\n",
    "\n",
    "dt1 = datetime.strptime(\"1974-02-05T14:05:18\", \"%Y-%m-%dT%H:%M:%S\")\n",
    "print(dt1)\n",
    "\n",
    "dt2 = datetime.strptime(\"17/05/2008 23:15:47\", \"%d/%m/%Y %H:%M:%S\")\n",
    "print(dt2)"
   ]
  },
  {
   "attachments": {},
   "cell_type": "markdown",
   "metadata": {},
   "source": [
    "### Basic datetime objects\n",
    "\n",
    "The `datetime` module contains three primary types of objects:\n",
    "+ `date`\n",
    "+ `time`\n",
    "+ `datetime`\n",
    "\n",
    "Arithmetic operations for these objects are only supported within the same data type, but it is easy to convert from one to the other.\n",
    "\n",
    "1. Create a variable that holds today's date\n",
    "2. Create a variable that holds the first day of 2024.\n",
    "3. Create a variable that holds noon's time\n",
    "4. Create a variable that holds current datetime\n",
    "5. Create a variable that holds the datetime 1974-02-05T14:05:48\n",
    "6. Try to subtract noon from today's date. What exception do you get?\n",
    "7. Convert date to a datetime using `datetime`\n",
    "8. Combine a date and a time into a datetime using `datetime.combine`."
   ]
  },
  {
   "cell_type": "code",
   "execution_count": 16,
   "metadata": {},
   "outputs": [
    {
     "name": "stdout",
     "output_type": "stream",
     "text": [
      "2023-05-24\n",
      "2024-01-01\n",
      "12:00:00\n",
      "2023-05-24 09:21:32.290283\n",
      "1974-02-05 14:05:48\n",
      "exception caught: unsupported operand type(s) for -: 'datetime.date' and 'datetime.time'\n",
      "2023-05-24 00:00:00\n",
      "2023-05-24 12:00:00\n"
     ]
    }
   ],
   "source": [
    "from datetime import datetime, date, time\n",
    "\n",
    "# 1: today's date\n",
    "todays_date = date.today()\n",
    "print(todays_date)\n",
    "\n",
    "# 2: first day of 2024\n",
    "new_years_day = date(2024, 1, 1)\n",
    "print(new_years_day)\n",
    "\n",
    "# 3: noon's time\n",
    "noon_time = time(12, 0, 0)\n",
    "print(noon_time)\n",
    "\n",
    "# 4: current's datetime\n",
    "now = datetime.now()\n",
    "print(now)\n",
    "\n",
    "# 5: variable for dt\n",
    "dt = datetime(1974, 2, 5, 14, 5, 48)\n",
    "print(dt)\n",
    "\n",
    "# 6: subtracting noon from today's date (it fails)\n",
    "try:\n",
    "    print(todays_date - noon_time)\n",
    "except Exception as ex:\n",
    "    print(f\"exception caught: {ex}\")\n",
    "\n",
    "# 7: converting a date to a datetime\n",
    "todays_datetime = datetime(todays_date.year, todays_date.month, todays_date.day)\n",
    "print(todays_datetime)\n",
    "\n",
    "# 8: combining a date and time into a datetime\n",
    "todays_noon_datetime = datetime.combine(todays_datetime, noon_time)\n",
    "print(todays_noon_datetime)"
   ]
  },
  {
   "attachments": {},
   "cell_type": "markdown",
   "metadata": {},
   "source": [
    "### Constructing timezone-aware datetime objects\n",
    "\n",
    "A `datetime` object is considered *naive* if it is unaware of the timezone information.\n",
    "\n",
    "To make it timezone aware, you have to provide the UTC offset and timezone abbreviation as a function of date and time.\n",
    "\n",
    "Build a time-aware datetime object by:\n",
    "1. Defining a `datetime` object and passing the `tzinfo` information that you will need to have previously defined as an object using `timezone`.\n",
    "2. Repeat the same exercise giving a name to the `timezone` in and use `dt.tzname()` to retrieve it."
   ]
  },
  {
   "cell_type": "code",
   "execution_count": 20,
   "metadata": {},
   "outputs": [
    {
     "name": "stdout",
     "output_type": "stream",
     "text": [
      "2023-05-24 09:23:35+01:00\n",
      "UTC+01:00\n",
      "2023-05-24 09:23:35+01:00\n",
      "CEST\n"
     ]
    }
   ],
   "source": [
    "from datetime import datetime, timezone, timedelta\n",
    "\n",
    "# 1\n",
    "cest_tz = timezone(timedelta(hours=1))\n",
    "dt = datetime(2023, 5, 24, 9, 23, 35, tzinfo=cest_tz)\n",
    "print(dt) # time\n",
    "print(dt.tzname())\n",
    "\n",
    "# 2\n",
    "dt = datetime(2023, 5, 24, 9, 23, 35, tzinfo=timezone(timedelta(hours=1), \"CEST\"))\n",
    "print(dt) # time\n",
    "print(dt.tzname())\n",
    "\n",
    "\n"
   ]
  },
  {
   "attachments": {},
   "cell_type": "markdown",
   "metadata": {},
   "source": [
    "### Computing time differences\n",
    "\n",
    "Time differences are computed using the `timedelta` module included in `datetime`.\n",
    "\n",
    "Compute:\n",
    "1. The difference between now and \"1974-02-05\" (no time).\n",
    "2. The number of days between those dates.\n",
    "3. The number of seconds between those dates.\n",
    "4. Define a function `get_date_n_days_after_today` that returns the date resulting from adding n days after today's date.\n",
    "5. Define a function `get_date_n_days_before_today` that returns the date resulting from subtracting n days before today's date."
   ]
  },
  {
   "cell_type": "code",
   "execution_count": 33,
   "metadata": {},
   "outputs": [
    {
     "name": "stdout",
     "output_type": "stream",
     "text": [
      "18005 days, 12:21:05.729326\n",
      "I've lived for 18005 days\n",
      "I've lived for 1555676465.729326 seconds\n",
      "I've lived for 1555676465 seconds\n",
      "26 May 2023\n",
      "22 May 2023\n"
     ]
    }
   ],
   "source": [
    "from datetime import datetime, timedelta\n",
    "\n",
    "# 1: difference between a date and now\n",
    "now = datetime.now()\n",
    "print(now - datetime(1974, 2, 5))\n",
    "\n",
    "# 2: difference in days\n",
    "diff = now - datetime(1974, 2, 5)\n",
    "print(f\"I've lived for {diff.days} days\")\n",
    "\n",
    "# 3: difference in seconds\n",
    "diff_seconds = diff.days * 24 * 60 * 60 + diff.seconds\n",
    "print(f\"I've lived for {diff.total_seconds()} seconds\")\n",
    "print(f\"I've lived for {diff_seconds} seconds\")\n",
    "\n",
    "\n",
    "# 4: get_date_n_days_after_today\n",
    "def get_date_n_days_after_today(num_days, date_format=\"%d %B %Y\"):\n",
    "    then = datetime.now() + timedelta(days=num_days)\n",
    "    return then.strftime(date_format)\n",
    "\n",
    "print(get_date_n_days_after_today(2))\n",
    "\n",
    "# 5: get_date_n_days_before_today\n",
    "def get_date_n_days_before_today(num_days, date_format=\"%d %B %Y\"):\n",
    "    then = datetime.now() - timedelta(days=num_days)\n",
    "    return then.strftime(date_format)\n",
    "\n",
    "print(get_date_n_days_before_today(2))\n"
   ]
  },
  {
   "attachments": {},
   "cell_type": "markdown",
   "metadata": {},
   "source": [
    "## Section 21 &mdash; Python Style Guide\n",
    "\n",
    "The official style guide for Python is described in [PEP 8 &mdash; Style Guide for Python Code](https://www.python.org/dev/peps/pep-0008/).\n",
    "\n",
    "The principle for any style guide is to give a series of simple rules that should be used to improve the readability of the code and make it consistent across libraries and projects.\n",
    "\n",
    "Also, any style guide should be taken as a pragmatic document: it is OK to break the rules for the sake of simplicity, or even readability.\n",
    "\n",
    "For example, Google publishes its own style guide in [Google Python Style Guide](https://google.github.io/styleguide/pyguide.html).\n",
    "\n",
    "They provide a `pylintrc` file that you can configure in your projects to ensure you're following the style guide."
   ]
  },
  {
   "attachments": {},
   "cell_type": "markdown",
   "metadata": {},
   "source": [
    "## Section 22 &mdash; More on Operators\n",
    "\n",
    "Python features the expected arithmetic operators found in other programming languages, along with other not so common such as `**` for exponentiation and `//` for floor division (integer division)."
   ]
  },
  {
   "attachments": {},
   "cell_type": "markdown",
   "metadata": {},
   "source": [
    "### Exponentiation and Floor Division\n",
    "Use the exponentiation and floor division operators to compute:\n",
    "\n",
    "+ $ 2^4 $\n",
    "+ integer division of 4.5 / 2 (should be 2.0)"
   ]
  },
  {
   "cell_type": "code",
   "execution_count": 5,
   "metadata": {},
   "outputs": [
    {
     "name": "stdout",
     "output_type": "stream",
     "text": [
      "16\n",
      "2.0\n"
     ]
    }
   ],
   "source": [
    "print(2 ** 4)\n",
    "print(4.5 // 2)"
   ]
  },
  {
   "attachments": {},
   "cell_type": "markdown",
   "metadata": {},
   "source": [
    "### Overloaded operators\n",
    "\n",
    "As Python supports overloading operators you will find situations in which you can use certain mathematical or logical operators to perform functions on built-in types or classes.\n",
    "\n",
    "For example, `+` can be used to concatenat strings.\n",
    "\n",
    "Use the `+` operator to concatenat strings"
   ]
  },
  {
   "cell_type": "code",
   "execution_count": 7,
   "metadata": {},
   "outputs": [
    {
     "name": "stdout",
     "output_type": "stream",
     "text": [
      "Hello to Jason Isaacs!\n"
     ]
    }
   ],
   "source": [
    "s1 = \"Hello to\"\n",
    "s2 = \"Jason Isaacs!\"\n",
    "\n",
    "print(s1 + \" \" + s2)"
   ]
  },
  {
   "attachments": {},
   "cell_type": "markdown",
   "metadata": {},
   "source": [
    "### Boolean operators\n",
    "\n",
    "Python provides `not`, `and`, and `or` operators for logical operations.\n",
    "\n",
    "Define two conditions:\n",
    "+ condition 1: 1 > 2\n",
    "+ condition 2: 2 > 1\n",
    "\n",
    "print:\n",
    "+ the negation of condition 1\n",
    "+ the and of condition 1 and 2\n",
    "+ the or of condition 1 and 2"
   ]
  },
  {
   "cell_type": "code",
   "execution_count": 8,
   "metadata": {},
   "outputs": [
    {
     "name": "stdout",
     "output_type": "stream",
     "text": [
      "True\n",
      "False\n",
      "True\n"
     ]
    }
   ],
   "source": [
    "c1 = 1 > 2\n",
    "c2 = 2 > 1\n",
    "\n",
    "print(not c1)\n",
    "print(c1 and c2)\n",
    "print(c1 or c2)"
   ]
  },
  {
   "attachments": {},
   "cell_type": "markdown",
   "metadata": {},
   "source": [
    "### Expressions with falsy values and short-circuiting\n",
    "\n",
    "You can use `and` and `or` as expressions in Python.\n",
    "\n",
    "`or` can be used in an expression to return the value of the first operand if it is not falsy, and return the second if it is.\n",
    "\n",
    "This can be used in an expression to obtain a default value.\n",
    "\n",
    "`and` in an expression only evaluates the second argument if the first one is true. As a result, you can use `x and y` as a shortcut for `if x is False then x else y`.\n",
    "\n",
    "Validate with an example."
   ]
  },
  {
   "cell_type": "code",
   "execution_count": 11,
   "metadata": {},
   "outputs": [
    {
     "name": "stdout",
     "output_type": "stream",
     "text": [
      "default\n",
      "hello\n"
     ]
    }
   ],
   "source": [
    "# default value\n",
    "user_input = None\n",
    "val = user_input or \"default\"\n",
    "print(val)\n",
    "\n",
    "# assigned value\n",
    "user_input = \"hello\"\n",
    "val = user_input or \"default\"\n",
    "print(val)"
   ]
  },
  {
   "cell_type": "code",
   "execution_count": 19,
   "metadata": {},
   "outputs": [
    {
     "name": "stdout",
     "output_type": "stream",
     "text": [
      "0\n",
      "1\n"
     ]
    }
   ],
   "source": [
    "x = 0\n",
    "y = 1\n",
    "\n",
    "print(x and y)\n",
    "print(x if x == False else y) # ternary op"
   ]
  },
  {
   "attachments": {},
   "cell_type": "markdown",
   "metadata": {},
   "source": [
    "### Bitwise operators\n",
    "\n",
    "The following bitwise operators are available in Python:\n",
    "\n",
    "+ `&`: binary AND\n",
    "+ `|`: binary OR\n",
    "+ `^`: binary XOR\n",
    "+ `~`: binary NOT\n",
    "+ `<<`: shift left\n",
    "+ `>>`: shift right"
   ]
  },
  {
   "attachments": {},
   "cell_type": "markdown",
   "metadata": {},
   "source": [
    "### `is` and `in` operators\n",
    "\n",
    "`is` is the identity operator, returns True if and only if two objects are the same object.\n",
    "\n",
    "`in` is the membership operator, it returns `True` if a value is contained in a sequence.\n",
    "\n",
    "Create some snippets to test both."
   ]
  },
  {
   "cell_type": "code",
   "execution_count": 26,
   "metadata": {},
   "outputs": [
    {
     "name": "stdout",
     "output_type": "stream",
     "text": [
      "True\n",
      "True\n",
      "\n",
      "True\n",
      "True\n",
      "\n",
      "True\n",
      "True\n",
      "True\n",
      "\n",
      "True\n",
      "False\n"
     ]
    }
   ],
   "source": [
    "# strings\n",
    "s1 = \"Hello\"\n",
    "s2 = \"Hello\"\n",
    "print(s1 == s2)\n",
    "print(s1 is s2)\n",
    "print()\n",
    "\n",
    "# numbers\n",
    "i1 = 5\n",
    "i2 = 5\n",
    "print(i1 == i2)\n",
    "print(i1 is i2)\n",
    "print()\n",
    "\n",
    "# booleans\n",
    "b1 = True\n",
    "print(b1)\n",
    "print(b1 is True)\n",
    "print(b1 == True)\n",
    "print()\n",
    "\n",
    "# class\n",
    "class Person:\n",
    "    def __init__(self, name, age):\n",
    "        self.name = name\n",
    "        self.age = age\n",
    "\n",
    "    def __eq__(self, other):\n",
    "        if self.name == other.name and self.age == other.age:\n",
    "            return True\n",
    "        else:\n",
    "            return False\n",
    "\n",
    "p1 = Person(\"Jason\", 53)\n",
    "p2 = Person(\"Jason\", 53)\n",
    "print(p1 == p2)\n",
    "print(p1 is p2)\n"
   ]
  },
  {
   "attachments": {},
   "cell_type": "markdown",
   "metadata": {},
   "source": [
    "### The ternary operator\n",
    "\n",
    "The ternary operator in Python is defined as:\n",
    "\n",
    "```python\n",
    "result_if_true if condition else result_if_false\n",
    "```\n",
    "\n",
    "Use the ternary operator to create an expression that returns true when passed a value over 18 and wrap it in a function called `is_adult`:"
   ]
  },
  {
   "cell_type": "code",
   "execution_count": 28,
   "metadata": {},
   "outputs": [
    {
     "name": "stdout",
     "output_type": "stream",
     "text": [
      "False\n",
      "True\n",
      "True\n"
     ]
    }
   ],
   "source": [
    "def is_adult(age: int) -> bool:\n",
    "    return True if age >= 18 else False\n",
    "\n",
    "print(is_adult(15))\n",
    "print(is_adult(18))\n",
    "print(is_adult(21))\n"
   ]
  },
  {
   "attachments": {},
   "cell_type": "markdown",
   "metadata": {},
   "source": [
    "## Section 23 &mdash; More on strings\n",
    "\n",
    "Strings in Python can be enclosed in quotes or double-quotes, and you can use `+` to concatenate strings and `+=` to append to a string.\n",
    "\n",
    "Strings has a bunch of built-in methods:\n",
    "\n",
    "+ `isalpha()` &mdash; returns true if the string contains only chars and is not empty\n",
    "+ `isalnum()` &mdash; true if the string contains characters or digits and is not empty\n",
    "\n",
    "+ `isdecimal()` &mdash; true if a string contains digits and is not empty\n",
    "\n",
    "+ `lower()` &mdash; returns a lowercase version of a string\n",
    "\n",
    "+ `islower()` &mdash; true if a string is lowercase\n",
    "\n",
    "+ `upper()` &mdash; returns an uppercase version of a string\n",
    "\n",
    "+ `isupper()` &mdash; true if a string is uppercase\n",
    "\n",
    "+ `title()` &mdash; gets a capitalized version of a string\n",
    "\n",
    "+ `startswith()` &mdash; checks if a string starts with a specific substring\n",
    "\n",
    "+ `endswith()` &mdash; checks if a string ends with a specific string\n",
    "\n",
    "+ `replace()` &mdash; replaces a part of a string\n",
    "\n",
    "+ `split()` &mdash; splits a string on a specific character\n",
    "\n",
    "+ `strip()` &mdash; trims whitespace characters from a string\n",
    "\n",
    "+ `join()` &mdash; joins strings\n",
    "\n",
    "+ `find()` &mdash; finds the position of a substring\n",
    "\n",
    "All those methods work in the same way &mdash; they return a new immutable string without modifying the original string.\n",
    "\n",
    "Use some of these methods in an example:"
   ]
  },
  {
   "cell_type": "code",
   "execution_count": 1,
   "metadata": {},
   "outputs": [
    {
     "name": "stdout",
     "output_type": "stream",
     "text": [
      "The World In Which We Live In\n"
     ]
    }
   ],
   "source": [
    "str = \"the world in which we live in\"\n",
    "print(str.title())"
   ]
  },
  {
   "attachments": {},
   "cell_type": "markdown",
   "metadata": {},
   "source": [
    "### The `len` built-in function\n",
    "\n",
    "The `len(str)` function returns the length of a string.\n",
    "\n",
    "Use it calculate the length of a string:"
   ]
  },
  {
   "cell_type": "code",
   "execution_count": 3,
   "metadata": {},
   "outputs": [
    {
     "name": "stdout",
     "output_type": "stream",
     "text": [
      "10\n"
     ]
    }
   ],
   "source": [
    "name = \"Idris Elba\"\n",
    "print(len(name))"
   ]
  },
  {
   "attachments": {},
   "cell_type": "markdown",
   "metadata": {},
   "source": [
    "### The `in` operator with strings\n",
    "\n",
    "The `in` operator can be used to check if a string contains a substring.\n",
    "\n",
    "Use the `in` operator to check if you can 'son' in 'Jason Isaacs':"
   ]
  },
  {
   "cell_type": "code",
   "execution_count": 4,
   "metadata": {},
   "outputs": [
    {
     "name": "stdout",
     "output_type": "stream",
     "text": [
      "True\n"
     ]
    }
   ],
   "source": [
    "print(\"son\" in \"Jason Isaacs\")"
   ]
  },
  {
   "attachments": {},
   "cell_type": "markdown",
   "metadata": {},
   "source": [
    "### Escaping characters within a string\n",
    "\n",
    "You can use `\\` to escape characters within a string.\n",
    "\n",
    "Use it to quote a string."
   ]
  },
  {
   "cell_type": "code",
   "execution_count": 6,
   "metadata": {},
   "outputs": [
    {
     "name": "stdout",
     "output_type": "stream",
     "text": [
      "\"Margot Robbie\" is an actor.\n"
     ]
    }
   ],
   "source": [
    "name = \"Margot Robbie\"\n",
    "\n",
    "print(f\"\\\"{name}\\\" is an actor.\")"
   ]
  },
  {
   "attachments": {},
   "cell_type": "markdown",
   "metadata": {},
   "source": [
    "### Indexing and slicing\n",
    "\n",
    "Individual characters or sets of characters within string can be accessed like elements in a list.\n",
    "\n",
    "Predict the result of the following operations:\n",
    "\n",
    "```python\n",
    "name = \"foobar\"\n",
    "name[0]       # f\n",
    "name[1]       # o\n",
    "name[-1]      # r\n",
    "name[-2]      # a\n",
    "name[0:2]     # fo\n",
    "name[3:]      # bar\n",
    "name[:2]      # fo\n",
    "name[1:-1]    # ooba\n",
    "```"
   ]
  },
  {
   "cell_type": "code",
   "execution_count": 7,
   "metadata": {},
   "outputs": [
    {
     "name": "stdout",
     "output_type": "stream",
     "text": [
      "f\n",
      "o\n",
      "r\n",
      "a\n",
      "fo\n",
      "bar\n",
      "fo\n",
      "ooba\n"
     ]
    }
   ],
   "source": [
    "name = \"foobar\"\n",
    "print(name[0])       # f\n",
    "print(name[1])       # o\n",
    "print(name[-1])      # r\n",
    "print(name[-2])      # a\n",
    "print(name[0:2])     # fo\n",
    "print(name[3:])      # bar\n",
    "print(name[:2])      # fo\n",
    "print(name[1:-1])    # ooba"
   ]
  },
  {
   "attachments": {},
   "cell_type": "markdown",
   "metadata": {},
   "source": [
    "### String formatting\n",
    "\n",
    "While the modern way to format string is to use *f-string formatting* as in:\n",
    "\n",
    "```python\n",
    "f\"Hi, this is {name}!\"\n",
    "```\n",
    "\n",
    "You can use a alternative way consisting in:\n",
    "\n",
    "```python\n",
    "\"Hi, this is {}!\".format(name)\n",
    "```\n",
    "\n",
    "There was an even older way, which used the `%` symbol and format specifiers.\n",
    "\n",
    "\n",
    "Use both approaches to print a string with two embedded variables name and age."
   ]
  },
  {
   "cell_type": "code",
   "execution_count": 10,
   "metadata": {},
   "outputs": [
    {
     "name": "stdout",
     "output_type": "stream",
     "text": [
      "My name is sergio and I'm 49 years old.\n",
      "My name is sergio and I'm 49 years old.\n",
      "My name is sergio and I'm 49 years old\n"
     ]
    }
   ],
   "source": [
    "name = \"sergio\"\n",
    "age = 49\n",
    "\n",
    "print(f\"My name is {name} and I'm {age} years old.\")\n",
    "print(\"My name is {} and I'm {} years old.\".format(name, age))\n",
    "print(\"My name is %s and I'm %d years old.\" % (name, age))"
   ]
  },
  {
   "cell_type": "markdown",
   "metadata": {},
   "source": [
    "### Using `isalnum()` to check whether strings represent alphanumeric values"
   ]
  },
  {
   "cell_type": "code",
   "execution_count": 43,
   "metadata": {},
   "outputs": [],
   "source": [
    "username = \"123@!\"\n",
    "assert username.isalnum() == False\n",
    "\n",
    "username = \"123avs\"\n",
    "assert username.isalnum() == True\n"
   ]
  },
  {
   "cell_type": "markdown",
   "metadata": {},
   "source": [
    "### Using `isalpha()` to check whether a string contains letters only"
   ]
  },
  {
   "cell_type": "code",
   "execution_count": 44,
   "metadata": {},
   "outputs": [],
   "source": [
    "assert \"Homework\".isalpha() == True\n",
    "assert \"CS101\".isalpha() == False"
   ]
  },
  {
   "cell_type": "markdown",
   "metadata": {},
   "source": [
    "### Using `isnumeric()` to check whether a string contains numbers only\n",
    "\n"
   ]
  },
  {
   "cell_type": "code",
   "execution_count": 47,
   "metadata": {},
   "outputs": [
    {
     "name": "stdout",
     "output_type": "stream",
     "text": [
      "You were born on 2011 \n"
     ]
    }
   ],
   "source": [
    "from datetime import datetime\n",
    "\n",
    "done = False\n",
    "while not done:\n",
    "    age = input(\"Type your age:\")\n",
    "    if age.isnumeric():\n",
    "        print(f\"You were born on {datetime.now().year - int(age)} \")\n",
    "        done = True\n",
    "    else:\n",
    "        print(\"ERROR: age must be a number\")"
   ]
  },
  {
   "cell_type": "markdown",
   "metadata": {},
   "source": [
    "Please note that strings that represent negative integers won't pass the `isnumeric` check.\n",
    "\n",
    "Also, empty strings return False."
   ]
  },
  {
   "cell_type": "code",
   "execution_count": 49,
   "metadata": {},
   "outputs": [],
   "source": [
    "assert \"-2\".isnumeric() == False\n",
    "assert \"\".isnumeric() == False"
   ]
  },
  {
   "cell_type": "markdown",
   "metadata": {},
   "source": [
    "### Casting strings to numbers\n",
    "\n",
    "You can use `float(\"string\")` and `int(\"string\")` to cast a string into either an integer or a floating-point number.\n",
    "\n",
    "When the casting fails, you'll get a `ValueError`:"
   ]
  },
  {
   "cell_type": "code",
   "execution_count": 58,
   "metadata": {},
   "outputs": [
    {
     "name": "stdout",
     "output_type": "stream",
     "text": [
      "Casted '2.345' to 2.345\n",
      "ERROR: '2.d345' cannot be casted into a number\n"
     ]
    }
   ],
   "source": [
    "def cast_to_float(number_str):\n",
    "    try:\n",
    "        casted_number = float(number_str)\n",
    "    except ValueError:\n",
    "        print(f\"ERROR: '{number_str}' cannot be casted into a number\")\n",
    "    else:\n",
    "        print(f\"Casted '{number_str}' to {casted_number}\")\n",
    "\n",
    "cast_to_float(\"2.345\")\n",
    "cast_to_float(\"2.d345\")"
   ]
  },
  {
   "cell_type": "markdown",
   "metadata": {},
   "source": [
    "### Concatenating f-strings in a single string\n",
    "\n",
    "You might need to concatenate in a single string several f-strings. The following syntax needs to be applied in those cases:"
   ]
  },
  {
   "cell_type": "code",
   "execution_count": 62,
   "metadata": {},
   "outputs": [
    {
     "name": "stdout",
     "output_type": "stream",
     "text": [
      "font-size=large, font=Arial, color=Black, align=center\n"
     ]
    }
   ],
   "source": [
    "settings = {\n",
    "    \"font_size\": \"large\",\n",
    "    \"font\": \"Arial\",\n",
    "    \"color\": \"Black\",\n",
    "    \"align\": \"center\"\n",
    "}\n",
    "\n",
    "styles = f\"font-size={settings['font_size']}, \" \\\n",
    "         f\"font={settings['font']}, \" \\\n",
    "         f\"color={settings['color']}, \" \\\n",
    "         f\"align={settings['align']}\"\n",
    "\n",
    "print(styles)"
   ]
  },
  {
   "cell_type": "markdown",
   "metadata": {},
   "source": [
    "### Quoting f-strings\n",
    "\n",
    "You can use the format `!r` to quote a string within an f-string as seen below:"
   ]
  },
  {
   "cell_type": "code",
   "execution_count": 4,
   "metadata": {},
   "outputs": [
    {
     "name": "stdout",
     "output_type": "stream",
     "text": [
      "Hello, your name is 'Jason'\n"
     ]
    }
   ],
   "source": [
    "name = \"Jason\"\n",
    "\n",
    "print(f\"Hello, your name is {name!r}\")"
   ]
  },
  {
   "attachments": {},
   "cell_type": "markdown",
   "metadata": {},
   "source": [
    "## Section 24 &mdash; More on Booleans\n",
    "\n",
    "The `bool` type can have the values `True` and `False`.\n"
   ]
  },
  {
   "attachments": {},
   "cell_type": "markdown",
   "metadata": {},
   "source": [
    "\n",
    "There are few coalescing rules for non-boolean types that you should be aware of:\n",
    "\n",
    "+ numbers are always `True` except for number `0`.\n",
    "+ strings are `False` only when empty.\n",
    "+ lists, tuples, sets, and dictionaries are `False` only when empty\n",
    "\n",
    "You can check if a given variable is bool by using `isinstance(var, bool)`.\n",
    "\n",
    "Create a program that validates the coalescing rules explained above:"
   ]
  },
  {
   "cell_type": "code",
   "execution_count": 4,
   "metadata": {},
   "outputs": [
    {
     "name": "stdout",
     "output_type": "stream",
     "text": [
      "expected\n",
      "empty string\n",
      "non-empty string\n",
      "non-empty list\n",
      "non-empty dict\n"
     ]
    }
   ],
   "source": [
    "n = 0\n",
    "if 0:\n",
    "    print(\"Unexpected\")\n",
    "else:\n",
    "    print(\"expected\")\n",
    "\n",
    "s1 = \"\"\n",
    "s2 = \"hi!\"\n",
    "\n",
    "\n",
    "if s1:\n",
    "    pass\n",
    "else:\n",
    "    print(\"empty string\")\n",
    "\n",
    "if s2:\n",
    "    print(\"non-empty string\")\n",
    "\n",
    "l = [1, 2, 3]\n",
    "d = {}\n",
    "\n",
    "if l:\n",
    "    print(\"non-empty list\")\n",
    "\n",
    "if d:\n",
    "    pass\n",
    "else:\n",
    "    print(\"non-empty dict\")"
   ]
  },
  {
   "attachments": {},
   "cell_type": "markdown",
   "metadata": {},
   "source": [
    "### `any` and `all`\n",
    "Python defines the following built-in functions that receive an iterable:\n",
    "+ `any()` returns `True` if any of the elements of the iterable is `True`\n",
    "+ `all()` returns `True` if all of the elements of the iterable are `True`\n",
    "\n",
    "Create a simple program that illustrates the usage and behavior of `any` and `all`."
   ]
  },
  {
   "cell_type": "code",
   "execution_count": 10,
   "metadata": {},
   "outputs": [
    {
     "name": "stdout",
     "output_type": "stream",
     "text": [
      "True\n",
      "False\n",
      "True\n",
      "False\n"
     ]
    }
   ],
   "source": [
    "# print(any(False, False, True)) # ERROR: any takes one argumen\n",
    "print(any([False, False, True]))\n",
    "print(any([False, False, False]))\n",
    "\n",
    "print(all([True, True, True]))\n",
    "print(all([False, False, False]))"
   ]
  },
  {
   "attachments": {},
   "cell_type": "markdown",
   "metadata": {},
   "source": [
    "## Section 25 &mdash; Enums\n",
    "\n",
    "Enums are readable names bound to constant values.\n",
    "\n",
    "The following snippet defines an enum `State` with values `DISABLED` and `ENABLED`.\n",
    "\n",
    "```python\n",
    "from enum import Enum\n",
    "\n",
    "class State(Enum):\n",
    "  DISABLED = 0\n",
    "  ENABLED = 1\n",
    "```\n",
    "\n",
    "Python will allow you to refer to enums using:\n",
    "\n",
    "```Python\n",
    "State.ENABLED\n",
    "State(1)\n",
    "STATE[\"DISABLED\"]\n",
    "```\n",
    "\n",
    "You can get the value of an enum using:\n",
    "\n",
    "```Python\n",
    "State.ENABLED.value\n",
    "```\n",
    "\n",
    "And you can list and count the different values of an enum using:\n",
    "\n",
    "```Python\n",
    "list(State)\n",
    "len(State)\n",
    "```"
   ]
  },
  {
   "attachments": {},
   "cell_type": "markdown",
   "metadata": {},
   "source": [
    "## Section 26 &mdash; Emulating constants\n",
    "\n",
    "Python has no language construct to enforce that a variable should be a constant, but you can emulate them using an `Enum`:\n",
    "\n",
    "```Python\n",
    "from enum import Enum\n",
    "\n",
    "class Constants(Enum):\n",
    "  WIDTH = 1024\n",
    "  HEIGHT = 768\n",
    "```\n",
    "\n",
    "While this will serve the purpose, as things like\n",
    "\n",
    "```Python\n",
    "Constants.WIDTH = 2048 # ERROR: cannot reassign\n",
    "```\n",
    "\n",
    "The DX is far from perfect, as to get the value you'll need to do:\n",
    "\n",
    "```python\n",
    "print(Constants.WIDTH.value) # 1024\n",
    "print(Constants.WIDTH)       # Constants.WIDTH\n",
    "\n",
    "```"
   ]
  },
  {
   "cell_type": "code",
   "execution_count": 11,
   "metadata": {},
   "outputs": [
    {
     "name": "stdout",
     "output_type": "stream",
     "text": [
      "Constants.WIDTH\n"
     ]
    }
   ],
   "source": [
    "from enum import Enum\n",
    "\n",
    "class Constants(Enum):\n",
    "  WIDTH = 1024\n",
    "  HEIGHT = 768\n",
    "\n",
    "print(Constants.WIDTH)"
   ]
  },
  {
   "attachments": {},
   "cell_type": "markdown",
   "metadata": {},
   "source": [
    "The alternative is relying on naming conventions:\n",
    "\n",
    "```python\n",
    "WIDTH = 1024\n",
    "```"
   ]
  },
  {
   "attachments": {},
   "cell_type": "markdown",
   "metadata": {},
   "source": [
    "## Section 27 &mdash; Reading user input\n",
    "\n",
    "You can read information the user types in the standard input using the `input()` built-in function."
   ]
  },
  {
   "cell_type": "code",
   "execution_count": 12,
   "metadata": {},
   "outputs": [
    {
     "name": "stdout",
     "output_type": "stream",
     "text": [
      "About to delete resource\n",
      "Are you sure you want to continue?\n"
     ]
    }
   ],
   "source": [
    "print(\"About to delete resource\")\n",
    "print(\"Are you sure you want to continue?\")\n",
    "user_input = input()\n",
    "print(f\"The user typed: {user_input}\")"
   ]
  },
  {
   "attachments": {},
   "cell_type": "markdown",
   "metadata": {},
   "source": [
    "## Section 28 &mdash; More on `if`\n",
    "\n",
    "Python supports the `elif` keyword to implement *else-if* branching:"
   ]
  },
  {
   "cell_type": "code",
   "execution_count": null,
   "metadata": {},
   "outputs": [],
   "source": [
    "n = 3\n",
    "if n == 1:\n",
    "    print(\"the number was one\")\n",
    "elif n == 2:\n",
    "    print(\"the number was two\")\n",
    "else:\n",
    "    print(\"the number was not one or two\")"
   ]
  },
  {
   "attachments": {},
   "cell_type": "markdown",
   "metadata": {},
   "source": [
    "## Section 29 &mdash; More on functions\n",
    "\n",
    "### Arguments are passed by reference\n",
    "\n",
    "Parameters is Python are always passed by reference, and all types in Python are objects.\n",
    "\n",
    "However, as some of Python objects are immutable, it might seem that a certain argument is received as a value instead:"
   ]
  },
  {
   "cell_type": "code",
   "execution_count": 1,
   "metadata": {},
   "outputs": [
    {
     "name": "stdout",
     "output_type": "stream",
     "text": [
      "In change_int: val= 10\n",
      "5\n"
     ]
    }
   ],
   "source": [
    "def change_int(val):\n",
    "    val *= 2\n",
    "    print(\"In change_int: val=\", val)\n",
    "\n",
    "num = 5\n",
    "change_int(num)\n",
    "print(num)"
   ]
  },
  {
   "attachments": {},
   "cell_type": "markdown",
   "metadata": {},
   "source": [
    "### Returning multiple values\n",
    "\n",
    "A function in Python can return multiple values using the syntax explained below. The consumer code will receive the results in a tuple."
   ]
  },
  {
   "cell_type": "code",
   "execution_count": 2,
   "metadata": {},
   "outputs": [
    {
     "name": "stdout",
     "output_type": "stream",
     "text": [
      "(5, 'bar', 55)\n"
     ]
    }
   ],
   "source": [
    "def foo(name):\n",
    "    return num, \"bar\", 55\n",
    "\n",
    "print(foo(\"Idris\"))"
   ]
  },
  {
   "attachments": {},
   "cell_type": "markdown",
   "metadata": {},
   "source": [
    "### Nested functions\n",
    "\n",
    "Python supports nested functions, that is, functions defined within functions.\n",
    "\n",
    "You will always be able to read a variable defined in the enclosing function (see below), but when modifying it, you will need to use the keyword `nonlocal`."
   ]
  },
  {
   "cell_type": "code",
   "execution_count": 4,
   "metadata": {},
   "outputs": [
    {
     "name": "stdout",
     "output_type": "stream",
     "text": [
      "within increment: count: 1\n",
      "within increment: count: 2\n"
     ]
    }
   ],
   "source": [
    "def count():\n",
    "    count = 0\n",
    "\n",
    "    def increment():\n",
    "        nonlocal count\n",
    "        count += 1\n",
    "        print(\"within increment: count:\", count)\n",
    "\n",
    "    return increment\n",
    "\n",
    "inc = count()\n",
    "inc()\n",
    "inc()\n"
   ]
  },
  {
   "cell_type": "markdown",
   "metadata": {},
   "source": [
    "### Setting and calling default arguments in functions\n",
    "\n",
    "Python allows you to define functions with default arguments, so that if the client code does not provide it, it takes that default value.\n",
    "\n",
    "This approach is taken by many built-in and stdlib functions:"
   ]
  },
  {
   "cell_type": "code",
   "execution_count": 7,
   "metadata": {},
   "outputs": [],
   "source": [
    "numbers = [4, 5, 7, 2]\n",
    "\n",
    "numbers.sort()  # using default value\n",
    "assert numbers == [2, 4, 5, 7]\n",
    "\n",
    "numbers.sort(reverse=True)  # using non default value\n",
    "assert numbers == [7, 5, 4, 2]"
   ]
  },
  {
   "cell_type": "markdown",
   "metadata": {},
   "source": [
    "Actually, the signature for the `sort` function is even more complicated:\n",
    "\n",
    "```python\n",
    "sort(*, key=None, reverse=False)\n",
    "```\n",
    "\n",
    "The asterisk `*` in the `sort` method dictates that all the arguments following the asterisk should be set with their parameter names, that is, those are keyword arguments instead of positional arguments.\n",
    "\n",
    "As a result, you cannot invoke the function doing `sort(True)`."
   ]
  },
  {
   "cell_type": "markdown",
   "metadata": {},
   "source": [
    "Defining functions with default arguments is easy.\n",
    "\n",
    "Consider the following class that models a Task entity. A function is also provided a method to complete a task with an optional completion message:"
   ]
  },
  {
   "cell_type": "code",
   "execution_count": 14,
   "metadata": {},
   "outputs": [
    {
     "name": "stdout",
     "output_type": "stream",
     "text": [
      "Homework's has been completed; note=took me 2 hours!\n",
      "task's note = took me 2 hours!\n"
     ]
    }
   ],
   "source": [
    "class Task:\n",
    "    def __init__(self, title, description, urgency):\n",
    "        self.title = title\n",
    "        self.description = description\n",
    "        self.urgency = urgency\n",
    "\n",
    "\n",
    "def complete_task(task, note=\"\"):\n",
    "    task.status = \"completed\"\n",
    "    task.note = note\n",
    "    print(f\"{task.title}'s has been completed; note={task.note}\")\n",
    "\n",
    "\n",
    "task = Task(\"Homework\", \"Physics + Math\", 5)\n",
    "complete_task(task, \"took me 2 hours!\")\n",
    "\n",
    "print(f\"task's note = {task.note}\")"
   ]
  },
  {
   "cell_type": "markdown",
   "metadata": {},
   "source": [
    "### Arguments vs. Parameters\n",
    "\n",
    "When we define functions, we refer to the variables specified in the function head as *parameters*. When we call functions, we refer to the variables we use as arguments.\n",
    "\n",
    "> Parameters are the variables used in a function definition; arguments are the variables used in a function's invocation."
   ]
  },
  {
   "cell_type": "markdown",
   "metadata": {},
   "source": [
    "### Setting default arguments for mutable fields\n",
    "\n",
    "Consider the following situation in which instead of using a default value for a string (which we know is immutable) we use a mutable one such as a list or a dictionary.\n",
    "\n",
    "In particular, we have a function that let us put the completed task into a particular *queue* of tasks. The default value is set as `[]` with the intention of instantiating an empty list if the caller doesn't provide one."
   ]
  },
  {
   "cell_type": "code",
   "execution_count": 21,
   "metadata": {},
   "outputs": [
    {
     "name": "stdout",
     "output_type": "stream",
     "text": [
      "Homework's has been completed\n",
      "   >> id(group)= 140098145907456\n",
      "completed boring tasks:  ['Homework']\n",
      "Videogames's has been completed\n",
      "   >> id(group)= 140098167892288\n",
      "unclassified tasks:  ['Videogames']\n",
      "Homework's has been completed\n",
      "   >> id(group)= 140098167892288\n",
      "unclassified tasks:  ['Videogames', 'Homework']\n",
      "140098167892288\n"
     ]
    }
   ],
   "source": [
    "class Task:\n",
    "    def __init__(self, title, description, urgency):\n",
    "        self.title = title\n",
    "        self.description = description\n",
    "        self.urgency = urgency\n",
    "\n",
    "\n",
    "def complete_task(task, group=[]):\n",
    "    task.status = \"completed\"\n",
    "    group.append(task.title)\n",
    "    print(f\"{task.title}'s has been completed\")\n",
    "    print(f\"   >> id(group)=\", id(group))\n",
    "    return group\n",
    "\n",
    "\n",
    "homework = Task(\"Homework\", \"Physics + Math\", 5)\n",
    "videogames = Task(\"Videogames\", \"Play videogame\", 2)\n",
    "\n",
    "boring_tasks = []\n",
    "complete_task(homework, boring_tasks)\n",
    "print(f\"completed boring tasks: \", boring_tasks)\n",
    "\n",
    "grouped_tasks = complete_task(videogames)\n",
    "print(f\"unclassified tasks: \", grouped_tasks)\n",
    "grouped_tasks = complete_task(homework)\n",
    "print(f\"unclassified tasks: \", grouped_tasks)\n",
    "\n",
    "print(id(grouped_tasks))"
   ]
  },
  {
   "cell_type": "markdown",
   "metadata": {},
   "source": [
    "Note that as counterintuitive as it might be, when invoking `complete_task` with no value for the second parameter, the title gets added to the previous state of the list.\n",
    "\n",
    "The reason is the following:\n",
    "\n",
    "> Python evaluates the function when it's defined, not when it's called. As a result, any mutable default arguments are created during this evaluation and become part of the function.\n",
    "\n",
    "Therefore, the `group` argument gets bound to the function and initialized only once.\n",
    "\n",
    "You can check those default arguments using `__defaults__`"
   ]
  },
  {
   "cell_type": "markdown",
   "metadata": {},
   "source": [
    "It's common practice to sort out this issues by way of setting the default value to None and using additional code to create the corresponding list (or mutable object):"
   ]
  },
  {
   "cell_type": "code",
   "execution_count": 22,
   "metadata": {},
   "outputs": [
    {
     "name": "stdout",
     "output_type": "stream",
     "text": [
      "Homework's has been completed\n",
      "completed boring tasks:  ['Homework']\n",
      "Videogames's has been completed\n",
      "unclassified tasks:  ['Videogames']\n",
      "Homework's has been completed\n",
      "unclassified tasks:  ['Homework']\n"
     ]
    }
   ],
   "source": [
    "class Task:\n",
    "    def __init__(self, title, description, urgency):\n",
    "        self.title = title\n",
    "        self.description = description\n",
    "        self.urgency = urgency\n",
    "\n",
    "\n",
    "def complete_task(task, group=None):\n",
    "    task.status = \"completed\"\n",
    "    if group is None:\n",
    "        group = []\n",
    "    group.append(task.title)\n",
    "    print(f\"{task.title}'s has been completed\")\n",
    "    return group\n",
    "\n",
    "\n",
    "homework = Task(\"Homework\", \"Physics + Math\", 5)\n",
    "videogames = Task(\"Videogames\", \"Play videogame\", 2)\n",
    "\n",
    "boring_tasks = []\n",
    "complete_task(homework, boring_tasks)\n",
    "print(f\"completed boring tasks: \", boring_tasks)\n",
    "\n",
    "grouped_tasks = complete_task(videogames)\n",
    "print(f\"unclassified tasks: \", grouped_tasks)\n",
    "grouped_tasks = complete_task(homework)\n",
    "print(f\"unclassified tasks: \", grouped_tasks)\n",
    "\n"
   ]
  },
  {
   "cell_type": "markdown",
   "metadata": {},
   "source": [
    "### Functions returning multiple values\n",
    "\n",
    "Python allows you to return multiple values. Those values will effectively wrapped into a `tuple`."
   ]
  },
  {
   "cell_type": "code",
   "execution_count": 28,
   "metadata": {},
   "outputs": [
    {
     "name": "stdout",
     "output_type": "stream",
     "text": [
      "results=(3, 1.5811388300841898); <class 'tuple'>\n"
     ]
    }
   ],
   "source": [
    "from statistics import mean, stdev\n",
    "\n",
    "def generate_stats(measures):\n",
    "    mean_value = mean(measures)\n",
    "    std_dev = stdev(measures)\n",
    "    return mean_value, std_dev\n",
    "\n",
    "results = generate_stats([1, 2, 3, 4, 5])\n",
    "print(f\"results={results}; {type(results)}\")\n"
   ]
  },
  {
   "cell_type": "markdown",
   "metadata": {},
   "source": [
    "Those can easily unpacked into individual variables, as you'd do in other programming languages supporting multiple return values (Go, I'm looking at you!)"
   ]
  },
  {
   "cell_type": "code",
   "execution_count": 30,
   "metadata": {},
   "outputs": [
    {
     "name": "stdout",
     "output_type": "stream",
     "text": [
      "mean_val=3, std_dev=1.5811388300841898\n"
     ]
    }
   ],
   "source": [
    "from statistics import mean, stdev\n",
    "\n",
    "def generate_stats(measures):\n",
    "    mean_value = mean(measures)\n",
    "    std_dev = stdev(measures)\n",
    "    return mean_value, std_dev\n",
    "\n",
    "mean_val, std_dev = generate_stats([1, 2, 3, 4, 5])\n",
    "print(f\"mean_val={mean_val}, std_dev={std_dev}\")"
   ]
  },
  {
   "cell_type": "markdown",
   "metadata": {},
   "source": [
    "### Partial functions\n",
    "\n",
    "We often define multiple parameters in a function so that it can handle different forms of input to derive the needed result for different scenarios.\n",
    "\n",
    "Consider the following function that run a stats model:\n",
    "\n",
    "```python\n",
    "def run_stats_model(dataset, model, output_path):\n",
    "  # process the dataset\n",
    "  # apply the model\n",
    "  # save the stats to the output_path\n",
    "  calculated_stats = ...\n",
    "  return calculated_stats\n",
    "```\n",
    "\n",
    "This function is quite generic so tht it can be used in multiple scenarios:\n",
    "\n",
    "```python\n",
    "run_stats_model(dataset_a1, \"model_a\", \"project_a/stats/\")\n",
    "run_stats_model(dataset_a2, \"model_a\", \"project_a/stats/\")\n",
    "run_stats_model(dataset_b1, \"model_b\", \"project_b/stats/\")\n",
    "run_stats_model(dataset_b2, \"model_b\", \"project_b/stats/\")\n",
    "```\n",
    "\n",
    "While you can do:\n",
    "\n",
    "```python\n",
    "run_stats_model_a(dataset):\n",
    "  results = run_stats_model(dataset, \"model_a\", \"project_a/stats\")\n",
    "  return results\n",
    "```\n",
    "\n",
    "Python provides a more Pythonic way to do so using the `partial` function from the `functools` module:\n",
    "\n",
    "```python\n",
    "from functools import partial\n",
    "\n",
    "run_stats_model_a = partial(run_stats_model, model=\"model_a\", output_path=\"project_a/stats/\")\n",
    "\n",
    "run_stats_model_a(\"dataset_a\")\n",
    "```"
   ]
  },
  {
   "attachments": {},
   "cell_type": "markdown",
   "metadata": {},
   "source": [
    "## Section 30 &mdash; More on loops\n",
    "\n",
    "`for` loops in Python are more functional than in other programming languages, and they are supposed to be used to iterate over the elements of an iterable:"
   ]
  },
  {
   "cell_type": "code",
   "execution_count": 4,
   "metadata": {},
   "outputs": [
    {
     "name": "stdout",
     "output_type": "stream",
     "text": [
      "sum: 10\n"
     ]
    }
   ],
   "source": [
    "items = [1, 2, 3, 4]\n",
    "sum = 0\n",
    "for item in items:\n",
    "    sum += item\n",
    "\n",
    "print(\"sum:\", sum)"
   ]
  },
  {
   "attachments": {},
   "cell_type": "markdown",
   "metadata": {},
   "source": [
    "Many times, you will use the `range` function to emulate the usual behavior of for loops."
   ]
  },
  {
   "cell_type": "code",
   "execution_count": 5,
   "metadata": {},
   "outputs": [
    {
     "name": "stdout",
     "output_type": "stream",
     "text": [
      "0\n",
      "1\n",
      "2\n",
      "3\n"
     ]
    }
   ],
   "source": [
    "for item in range(4):\n",
    "    print(item)"
   ]
  },
  {
   "attachments": {},
   "cell_type": "markdown",
   "metadata": {},
   "source": [
    "That function allows for fine-tuning of the values of the iterable returned by `range`:"
   ]
  },
  {
   "cell_type": "code",
   "execution_count": 6,
   "metadata": {},
   "outputs": [
    {
     "name": "stdout",
     "output_type": "stream",
     "text": [
      "n: 1\n",
      "n: 11\n",
      "n: 21\n",
      "n: 31\n",
      "n: 41\n",
      "n: 51\n",
      "n: 61\n",
      "n: 71\n",
      "n: 81\n",
      "n: 91\n",
      "sum: 460\n"
     ]
    }
   ],
   "source": [
    "sum = 0\n",
    "for n in range(1, 100, 10):\n",
    "    print(\"n:\", n)\n",
    "    sum += n\n",
    "\n",
    "print(\"sum:\", sum)"
   ]
  },
  {
   "attachments": {},
   "cell_type": "markdown",
   "metadata": {},
   "source": [
    "### `enumerate` in loops\n",
    "\n",
    "You can use the global function `enumerate()` to obtain an iterable of tuples that contain the index of the element and its value:"
   ]
  },
  {
   "cell_type": "code",
   "execution_count": 7,
   "metadata": {},
   "outputs": [
    {
     "name": "stdout",
     "output_type": "stream",
     "text": [
      "0: 50\n",
      "1: 51\n",
      "2: 52\n",
      "3: 53\n",
      "4: 54\n"
     ]
    }
   ],
   "source": [
    "items = range(50, 55)\n",
    "for index, item in enumerate(items):\n",
    "    print(f\"{index}: {item}\")"
   ]
  },
  {
   "attachments": {},
   "cell_type": "markdown",
   "metadata": {},
   "source": [
    "### `break` and `continue`\n",
    "\n",
    "The statements `break` and `continue` work as in other programming languages:\n",
    "+ `break` &mdash; step out of the current loop\n",
    "+ `continue` &mdash; stop current iteration and go to the next one"
   ]
  },
  {
   "cell_type": "code",
   "execution_count": 8,
   "metadata": {},
   "outputs": [
    {
     "name": "stdout",
     "output_type": "stream",
     "text": [
      "item: 1\n",
      "item: 2\n"
     ]
    }
   ],
   "source": [
    "items = [1, 2, 3, 4, 5]\n",
    "\n",
    "for item in items:\n",
    "    if item % 3 == 0:\n",
    "        continue\n",
    "    elif item == 4:\n",
    "        break\n",
    "    else:\n",
    "        print(\"item:\", item)"
   ]
  },
  {
   "attachments": {},
   "cell_type": "markdown",
   "metadata": {},
   "source": [
    "## Section 31 &mdash; The Python Standard Library\n",
    "\n",
    "Python provides a large collection of utilities through its standard library (https://docs.python.org/3/library/index.html):\n",
    "\n",
    "+ `math` &mdash; Math utils\n",
    "+ `re` &mdash; regular expressions\n",
    "+ `json` &mdash; JSON utils\n",
    "+ `datetime` &mdash; date/time related utilities\n",
    "+ `sqlite3` &mdash; SQLite utils\n",
    "+ `os` &mdash; Operating System utils\n",
    "+ `random` &mdash; random number generation\n",
    "+ `statistics` &mdash; statistics utils\n",
    "+ `requests` &mdash; HTTP request utils\n",
    "+ `http` &mdash; HTTP server utils\n",
    "+ `urllib` &mdash; URL management utils"
   ]
  },
  {
   "attachments": {},
   "cell_type": "markdown",
   "metadata": {},
   "source": [
    "## Section 32 &mdash; The PEP8 Python Style Guide\n",
    "\n",
    "Python defines its conventions in the PEP8 style guide. PEP stands for *Python Enhancement Proposals*, and the whole document can be found in https://www.python.org/dev/peps/pep-0008/\n",
    "\n",
    "A quick summary of the important topics addressed by PEP8 are:\n",
    "+ Indent using spaces, not tabs.\n",
    "+ Indent using 4 spaces.\n",
    "+ Encode Python source code files using UTF-8.\n",
    "+ Use 80 cols for your source code.\n",
    "+ Write each statement on its own line.\n",
    "+ Use *snake_case* for functions, variable names and file names.\n",
    "+ Use CamelCase for class names.\n",
    "+ Use lowercase for package names, do not separate individual words with underscores.\n",
    "+ Write constants in UPPERCASE.\n",
    "+ Add spaces around operators.\n",
    "+ Do not use unnecessary whitespace.\n",
    "+ Add a blank line before a function.\n",
    "+ Add a blank line betwwen methods in a class.\n",
    "+ Use blank lines within functions and methods to separate related blocks of code.\n"
   ]
  },
  {
   "attachments": {},
   "cell_type": "markdown",
   "metadata": {},
   "source": [
    "## Section 33 &mdash; Variable scope rules in Python\n",
    "\n",
    "When you declare a variable outside of any function in Python, the variable will be visible to any code after the declaration.\n",
    "\n",
    "That is called a global variable.\n",
    "\n",
    "A global variable in Python will be visible without requiring any additional keyword, but you won't be able to modify its value."
   ]
  },
  {
   "cell_type": "code",
   "execution_count": 18,
   "metadata": {},
   "outputs": [
    {
     "name": "stdout",
     "output_type": "stream",
     "text": [
      "Hello, Margot\n",
      "Margot\n"
     ]
    }
   ],
   "source": [
    "name = \"Margot\"\n",
    "\n",
    "def say_hello():\n",
    "    print(f\"Hello, {name}\")  # using global\n",
    "\n",
    "say_hello()\n",
    "print(name)"
   ]
  },
  {
   "attachments": {},
   "cell_type": "markdown",
   "metadata": {},
   "source": [
    "When you define a variable with the same name, within the function, the new variable will hide the global variable:"
   ]
  },
  {
   "cell_type": "code",
   "execution_count": 19,
   "metadata": {},
   "outputs": [
    {
     "name": "stdout",
     "output_type": "stream",
     "text": [
      "Hello, Florence\n",
      "Margot\n"
     ]
    }
   ],
   "source": [
    "name = \"Margot\"\n",
    "\n",
    "def say_hello():\n",
    "    name = \"Florence\"\n",
    "    print(f\"Hello, {name}\")  # using local\n",
    "\n",
    "say_hello()\n",
    "print(name)"
   ]
  },
  {
   "attachments": {},
   "cell_type": "markdown",
   "metadata": {},
   "source": [
    "### The `global` keyword\n",
    "\n",
    "If you want to modify the value of a global variable within the scope of a function, you need to use the `global` keyword:"
   ]
  },
  {
   "cell_type": "code",
   "execution_count": 20,
   "metadata": {},
   "outputs": [
    {
     "name": "stdout",
     "output_type": "stream",
     "text": [
      "Hello, Emma\n",
      "Emma\n"
     ]
    }
   ],
   "source": [
    "name = \"Margot\"\n",
    "\n",
    "def say_hello():\n",
    "    global name\n",
    "    name = \"Emma\"\n",
    "    print(f\"Hello, {name}\")  # using global\n",
    "\n",
    "say_hello()\n",
    "print(name)"
   ]
  },
  {
   "attachments": {},
   "cell_type": "markdown",
   "metadata": {},
   "source": [
    "### The `nonlocal` keyword\n",
    "\n",
    "Similarly, you need to use the `nonlocal` keyword to identify access to variables from an outer scope:"
   ]
  },
  {
   "cell_type": "code",
   "execution_count": 22,
   "metadata": {},
   "outputs": [
    {
     "name": "stdout",
     "output_type": "stream",
     "text": [
      "Charlize Theron\n"
     ]
    }
   ],
   "source": [
    "def say_hello():\n",
    "    name = \"Charlize\"\n",
    "\n",
    "    def prepare_message():\n",
    "        nonlocal name\n",
    "        name += \" Theron\"\n",
    "        return name\n",
    "\n",
    "    prepare_message()\n",
    "    print(name)\n",
    "\n",
    "say_hello()"
   ]
  },
  {
   "attachments": {},
   "cell_type": "markdown",
   "metadata": {},
   "source": [
    "## Section 34 &mdash; Decorators\n",
    "\n",
    "Decorators are a way to change, enhance, and alter the way a function or a method works.\n",
    "\n",
    "They are defined with the symbol `@`, followed by the decorator name right before the function/method definition:\n",
    "\n",
    "```python\n",
    "@logtime\n",
    "def greet_me():\n",
    "  print(\"Hello to you!\")\n",
    "```\n",
    "\n",
    "Behind the scenes, a decorator is nothing more than a function that takes a function as a parameter, wraps the function in an inner function that performs the job associated to the decorator, and then returns it:\n",
    "\n",
    "```python\n",
    "def logtime(func):\n",
    "  def wrapper():\n",
    "    # ...decorator logic here...\n",
    "    val = func()\n",
    "    return val\n",
    "  return wrapper\n",
    "```"
   ]
  },
  {
   "attachments": {},
   "cell_type": "markdown",
   "metadata": {},
   "source": [
    "### Creating a logging decorator for functions\n",
    "\n",
    "Create a decorator `@announce` that logs some information in the console when a function is decorated."
   ]
  },
  {
   "cell_type": "code",
   "execution_count": 4,
   "metadata": {},
   "outputs": [
    {
     "name": "stdout",
     "output_type": "stream",
     "text": [
      ">>> about to call the function greet_me\n",
      "Hello to you!\n",
      ">>> the function greet_mehas been called\n"
     ]
    }
   ],
   "source": [
    "def announce(fn):\n",
    "    def wrapper():\n",
    "        print(\">>> about to call the function\", fn.__name__)\n",
    "        val = fn()\n",
    "        print(f\">>> the function {fn.__name__}has been called\")\n",
    "        return val\n",
    "    return wrapper\n",
    "\n",
    "@announce\n",
    "def greet_me():\n",
    "    print(\"Hello to you!\")\n",
    "\n",
    "greet_me()"
   ]
  },
  {
   "cell_type": "markdown",
   "metadata": {},
   "source": [
    "### Checking a function's performance with decorators\n",
    "\n",
    "Finding the time it takes for a function to execute is a common concern during development.\n",
    "This can be done with `time` as illustrated below:"
   ]
  },
  {
   "cell_type": "code",
   "execution_count": 11,
   "metadata": {},
   "outputs": [
    {
     "name": "stdout",
     "output_type": "stream",
     "text": [
      "--- example execution starts\n",
      "*** example execution took: 0.400565\n",
      "--- example execution starts\n",
      "*** example execution took: 0.300569\n"
     ]
    }
   ],
   "source": [
    "import time\n",
    "import random\n",
    "\n",
    "def example():\n",
    "    print(\"--- example execution starts\")\n",
    "    start_t = time.time()\n",
    "    # simulate workload\n",
    "    random_delay = random.randint(1, 5) * 0.1\n",
    "    time.sleep(random_delay)\n",
    "    end_t = time.time()\n",
    "    print(f\"*** example execution took: {end_t - start_t:2f}\")\n",
    "\n",
    "example()\n",
    "example()"
   ]
  },
  {
   "cell_type": "markdown",
   "metadata": {},
   "source": [
    "This approach works well for a single function, but won't really scale in a large project with hundreds of functions to observe.\n",
    "\n",
    "Additionally, the code introduced to observe the function's execution time is intrusive and keeps the reader focus away from what the function actually does.\n",
    "\n",
    "#### Decorators to the rescue!\n",
    "\n",
    "Decorators are functions that provide additional functionalities to the decorated functions. In this particular case, we'll use decorators to track the function's execution time.\n",
    "\n",
    "A decorator is a closure with the signature:\n",
    "\n",
    "```python\n",
    "def decorator_name(func):\n",
    "  def decorator_impl(*args, **kwargs):\n",
    "    # before actions\n",
    "    # ...\n",
    "    result = func(*args, **kwargs)\n",
    "    # after actions\n",
    "    # ...\n",
    "    return result\n",
    "```\n",
    "\n",
    "Once define, decorators can be applied to functions using:\n",
    "\n",
    "```python\n",
    "@decorator_name\n",
    "def example(arg):\n",
    "  ...\n",
    "```\n",
    "\n",
    "| NOTE: |\n",
    "| :---- |\n",
    "| The rationale of using `*args` and `**kwargs` is to make the function compatible with all functions, regardless of their calling signatures. |"
   ]
  },
  {
   "cell_type": "code",
   "execution_count": 13,
   "metadata": {},
   "outputs": [
    {
     "name": "stdout",
     "output_type": "stream",
     "text": [
      "--- example execution starts\n",
      "*** example execution took: 0.40 msec\n",
      "--- example execution starts\n",
      "*** example execution took: 0.20 msec\n"
     ]
    }
   ],
   "source": [
    "import random\n",
    "import time\n",
    "\n",
    "\n",
    "def log_time(func):\n",
    "    def logger(*args, **kwargs):\n",
    "        print(f\"--- {func.__name__} execution starts\")\n",
    "        start_t = time.time()\n",
    "        result = func(*args, **kwargs)\n",
    "        end_t = time.time()\n",
    "        print(f\"*** {func.__name__} execution took: {end_t - start_t:.2f} msec\")\n",
    "        return result\n",
    "\n",
    "    return logger\n",
    "\n",
    "@log_time\n",
    "def example():\n",
    "    # simulate workload\n",
    "    random_delay = random.randint(1, 5) * 0.1\n",
    "    time.sleep(random_delay)\n",
    "\n",
    "example()\n",
    "example()"
   ]
  },
  {
   "cell_type": "markdown",
   "metadata": {},
   "source": [
    "### Create a function monitor with decorators\n",
    "\n",
    "Create a decorator `@monitor` which makes the function announce itself when invoked."
   ]
  },
  {
   "cell_type": "code",
   "execution_count": 14,
   "metadata": {},
   "outputs": [
    {
     "name": "stdout",
     "output_type": "stream",
     "text": [
      ">>> greet_me invoked\n",
      "Hello, Jason!!!\n",
      "<<< greet_me complete\n"
     ]
    }
   ],
   "source": [
    "def monitor(func):\n",
    "    def announce(*args, **kwargs):\n",
    "        print(f\">>> {func.__name__} invoked\")\n",
    "        result = func(*args, **kwargs)\n",
    "        print(f\"<<< {func.__name__} complete\")\n",
    "        return result\n",
    "\n",
    "    return announce\n",
    "\n",
    "@monitor\n",
    "def greet_me(name):\n",
    "    print(f\"Hello, {name}!!!\")\n",
    "\n",
    "greet_me(\"Jason\")"
   ]
  },
  {
   "cell_type": "markdown",
   "metadata": {},
   "source": [
    "### Create a function monitor with custom arguments using decorators\n",
    "\n",
    "Create a decorator `@monitor(msg)` which makes the function announce itself when invoked with the given message.\n",
    "\n",
    "| HINT: |\n",
    "| :---- |\n",
    "| Creating a decorator that accepts parameters requires wrapping a decorator into another function that accepts the parameter. |"
   ]
  },
  {
   "cell_type": "code",
   "execution_count": 22,
   "metadata": {},
   "outputs": [
    {
     "name": "stdout",
     "output_type": "stream",
     "text": [
      ">>> greet_me invoked\n",
      "Hello, Jason!!!\n",
      ">>> greet_me completed\n"
     ]
    }
   ],
   "source": [
    "def monitor(msg):\n",
    "    def monitor_decorator(func):\n",
    "        def announce(*args, **kwargs):\n",
    "            print(f\"{msg} invoked\")\n",
    "            result = func(*args, **kwargs)\n",
    "            print(f\"{msg} completed\")\n",
    "            return result\n",
    "\n",
    "        return announce\n",
    "\n",
    "    return monitor_decorator\n",
    "\n",
    "@monitor(f\">>> greet_me\")\n",
    "def greet_me(name):\n",
    "    print(f\"Hello, {name}!!!\")\n",
    "\n",
    "greet_me(\"Jason\")"
   ]
  },
  {
   "cell_type": "markdown",
   "metadata": {},
   "source": [
    "### Wrapping to carry over the decorated function's metadata\n",
    "\n",
    "When decorating a function, its docstring and other metadata will be lost if you're not careful:"
   ]
  },
  {
   "cell_type": "code",
   "execution_count": 20,
   "metadata": {},
   "outputs": [
    {
     "name": "stdout",
     "output_type": "stream",
     "text": [
      "doc=Greet someone, name=say_hi\n",
      "doc=None, name=announce\n"
     ]
    }
   ],
   "source": [
    "def monitor(func):\n",
    "    def announce(*args, **kwargs):\n",
    "        print(f\"{msg} invoked\")\n",
    "        result = func(*args, **kwargs)\n",
    "        print(f\"{msg} completed\")\n",
    "        return result\n",
    "\n",
    "    return announce\n",
    "\n",
    "def say_hi(person):\n",
    "    \"\"\"Greet someone\"\"\"\n",
    "    print(f\"Hello to {person}\")\n",
    "\n",
    "print(f\"doc={say_hi.__doc__}, name={say_hi.__name__}\")\n",
    "\n",
    "@monitor\n",
    "def say_hello(person):\n",
    "    \"\"\"Greet someone\"\"\"\n",
    "    print(f\"Hello to {person}\")\n",
    "\n",
    "print(f\"doc={say_hello.__doc__}, name={say_hello.__name__}\")"
   ]
  },
  {
   "cell_type": "markdown",
   "metadata": {},
   "source": [
    "Note how the `__doc__` and `__name__` are lost when applying a decorator to a function.\n",
    "\n",
    "The way to solve it involves decorated the closure within our custom decorator with `@functools.wraps(func)`:"
   ]
  },
  {
   "cell_type": "code",
   "execution_count": 21,
   "metadata": {},
   "outputs": [
    {
     "name": "stdout",
     "output_type": "stream",
     "text": [
      "doc=Greet someone, name=say_hello\n"
     ]
    }
   ],
   "source": [
    "import functools\n",
    "\n",
    "def monitor(func):\n",
    "    @functools.wraps(func)\n",
    "    def announce(*args, **kwargs):\n",
    "        print(f\"{msg} invoked\")\n",
    "        result = func(*args, **kwargs)\n",
    "        print(f\"{msg} completed\")\n",
    "        return result\n",
    "\n",
    "    return announce\n",
    "\n",
    "@monitor\n",
    "def say_hello(person):\n",
    "    \"\"\"Greet someone\"\"\"\n",
    "    print(f\"Hello to {person}\")\n",
    "\n",
    "print(f\"doc={say_hello.__doc__}, name={say_hello.__name__}\")\n"
   ]
  },
  {
   "cell_type": "markdown",
   "metadata": {},
   "source": [
    "### Wrapping to carry over the decorated function's metadata when a decorator accepts arguments\n",
    "\n",
    "Create a decorator `@monitor(msg)` that uses wrapping not to lose the decorated function metadata."
   ]
  },
  {
   "cell_type": "code",
   "execution_count": 26,
   "metadata": {},
   "outputs": [
    {
     "name": "stdout",
     "output_type": "stream",
     "text": [
      ">>> greet_me invoked\n",
      "Hello, Jason!!!\n",
      ">>> greet_me completed\n",
      "doc=Greets using the given name; name=greet_me\n"
     ]
    }
   ],
   "source": [
    "import functools\n",
    "\n",
    "def monitor(msg):\n",
    "    def monitor_decorator(func):\n",
    "        @functools.wraps(func)\n",
    "        def announce(*args, **kwargs):\n",
    "            print(f\"{msg} invoked\")\n",
    "            result = func(*args, **kwargs)\n",
    "            print(f\"{msg} completed\")\n",
    "            return result\n",
    "\n",
    "        return announce\n",
    "\n",
    "    return monitor_decorator\n",
    "\n",
    "@monitor(f\">>> greet_me\")\n",
    "def greet_me(name):\n",
    "    \"\"\"Greets using the given name\"\"\"\n",
    "    print(f\"Hello, {name}!!!\")\n",
    "\n",
    "greet_me(\"Jason\")\n",
    "\n",
    "print(f\"doc={greet_me.__doc__}; name={greet_me.__name__}\")"
   ]
  },
  {
   "attachments": {},
   "cell_type": "markdown",
   "metadata": {},
   "source": [
    "## Section 35 &mdash; Introspection/Reflection\n",
    "\n",
    "Python provides a set of functions you can use to obtain information about other functions at runtime.\n",
    "\n",
    "First of all, you can use `type()` to get the type of an object:"
   ]
  },
  {
   "cell_type": "code",
   "execution_count": 5,
   "metadata": {},
   "outputs": [
    {
     "name": "stdout",
     "output_type": "stream",
     "text": [
      "<class 'function'>\n",
      "<class 'type'>\n",
      "<class 'int'>\n",
      "<class 'str'>\n"
     ]
    }
   ],
   "source": [
    "def greet_me():\n",
    "    print(\"Hello\")\n",
    "\n",
    "class Person:\n",
    "    def __init__(self, name):\n",
    "        self.name = name\n",
    "\n",
    "num = 5\n",
    "word = \"foobar\"\n",
    "\n",
    "print(type(greet_me))\n",
    "print(type(Person))\n",
    "print(type(num))\n",
    "print(type(word))"
   ]
  },
  {
   "attachments": {},
   "cell_type": "markdown",
   "metadata": {},
   "source": [
    "The `dir()` global function provides all the methods and attributes of an object."
   ]
  },
  {
   "cell_type": "code",
   "execution_count": 6,
   "metadata": {},
   "outputs": [
    {
     "name": "stdout",
     "output_type": "stream",
     "text": [
      "['__add__', '__class__', '__contains__', '__delattr__', '__dir__', '__doc__', '__eq__', '__format__', '__ge__', '__getattribute__', '__getitem__', '__getnewargs__', '__gt__', '__hash__', '__init__', '__init_subclass__', '__iter__', '__le__', '__len__', '__lt__', '__mod__', '__mul__', '__ne__', '__new__', '__reduce__', '__reduce_ex__', '__repr__', '__rmod__', '__rmul__', '__setattr__', '__sizeof__', '__str__', '__subclasshook__', 'capitalize', 'casefold', 'center', 'count', 'encode', 'endswith', 'expandtabs', 'find', 'format', 'format_map', 'index', 'isalnum', 'isalpha', 'isascii', 'isdecimal', 'isdigit', 'isidentifier', 'islower', 'isnumeric', 'isprintable', 'isspace', 'istitle', 'isupper', 'join', 'ljust', 'lower', 'lstrip', 'maketrans', 'partition', 'removeprefix', 'removesuffix', 'replace', 'rfind', 'rindex', 'rjust', 'rpartition', 'rsplit', 'rstrip', 'split', 'splitlines', 'startswith', 'strip', 'swapcase', 'title', 'translate', 'upper', 'zfill']\n"
     ]
    }
   ],
   "source": [
    "word = \"foobar\"\n",
    "\n",
    "print(dir(word))"
   ]
  },
  {
   "attachments": {},
   "cell_type": "markdown",
   "metadata": {},
   "source": [
    "The [`inspect`](https://docs.python.org/3/library/inspect.html) standard library provides more utility functions for introspection."
   ]
  },
  {
   "cell_type": "markdown",
   "metadata": {},
   "source": [
    "### Using `type` to get the type of a variable\n",
    "\n",
    "The following snippet illustrates what's the result of using `type` on the input collected by a user:"
   ]
  },
  {
   "cell_type": "code",
   "execution_count": 40,
   "metadata": {},
   "outputs": [
    {
     "name": "stdout",
     "output_type": "stream",
     "text": [
      "<class 'str'>\n"
     ]
    }
   ],
   "source": [
    "age = input(\"Please type your age: \")\n",
    "print(type(age))"
   ]
  },
  {
   "attachments": {},
   "cell_type": "markdown",
   "metadata": {},
   "source": [
    "## Section 36 &mdash; More on Exceptions\n",
    "\n",
    "In its simplest form, a try-except block looks like:\n",
    "\n",
    "```python\n",
    "try:\n",
    "  # ... block of code that might raise exceptions ..\n",
    "except <ExceptionType>:\n",
    "  # ... handling ExceptionType errors ...\n",
    "```\n",
    "\n",
    "But it is common to find more complicated forms that include several exception types, an `else` block to do something when no exceptions are found, and a `finally` block when you want to run something whether an exception was run or not.\n",
    "\n",
    "```python\n",
    "try:\n",
    "  # ... block of code that might raise exceptions ..\n",
    "except <ExceptionType_1>[as <err1>]:\n",
    "  # ... handling ExceptionType_1 errors and assigning them to err1...\n",
    "except <ExceptionType_2>[as <err2>]:\n",
    "  # ... handling ExceptionType_2 errors and assigning them to err2...\n",
    "...\n",
    "except <ExceptionType_N>[as <errN>]:\n",
    "  # ... handling ExceptionType_N errors and assigning them to errN...\n",
    "else:\n",
    "  # ... no exception was raised in the try block ...\n",
    "finally:\n",
    "  # ... cleaning up resources here ...\n",
    "```\n"
   ]
  },
  {
   "cell_type": "code",
   "execution_count": 8,
   "metadata": {},
   "outputs": [
    {
     "name": "stdout",
     "output_type": "stream",
     "text": [
      "Could not perform division: division by zero\n"
     ]
    }
   ],
   "source": [
    "def divide(dividend, divisor):\n",
    "    try:\n",
    "        result = dividend / divisor\n",
    "    except TypeError:\n",
    "        print(\"Arguments must be numbers!\")\n",
    "    except Exception as err:\n",
    "        print(\"Could not perform division:\", err)\n",
    "\n",
    "divide(2, 0)"
   ]
  },
  {
   "attachments": {},
   "cell_type": "markdown",
   "metadata": {},
   "source": [
    "### Throwing/Raising Exceptions\n",
    "\n",
    "Exceptions are thrown using the `raise` statement:"
   ]
  },
  {
   "cell_type": "code",
   "execution_count": 9,
   "metadata": {},
   "outputs": [
    {
     "name": "stdout",
     "output_type": "stream",
     "text": [
      "A general exception has been raised\n",
      "It was the wrong type\n"
     ]
    }
   ],
   "source": [
    "try:\n",
    "    raise Exception(\"A general exception has been raised\")\n",
    "except Exception as ex:\n",
    "    print(ex)\n",
    "\n",
    "try:\n",
    "    raise TypeError(\"It was the wrong type\")\n",
    "except Exception as ex:\n",
    "    print(ex)"
   ]
  },
  {
   "attachments": {},
   "cell_type": "markdown",
   "metadata": {},
   "source": [
    "### Creating your own Exceptions\n",
    "\n",
    "You can easily create your own exception classes by extending the `Exception` class:"
   ]
  },
  {
   "cell_type": "code",
   "execution_count": 10,
   "metadata": {},
   "outputs": [
    {
     "name": "stdout",
     "output_type": "stream",
     "text": [
      "I own this exception\n"
     ]
    }
   ],
   "source": [
    "class MyCustomException(Exception):\n",
    "    pass\n",
    "\n",
    "try:\n",
    "    raise MyCustomException(\"I own this exception\")\n",
    "except Exception as err:\n",
    "    print(err)"
   ]
  },
  {
   "cell_type": "markdown",
   "metadata": {},
   "source": [
    "### Handling multiple exceptions in a single except clause\n",
    "\n",
    "It is possible to manage multiple exceptions in a single except clause:"
   ]
  },
  {
   "cell_type": "code",
   "execution_count": null,
   "metadata": {},
   "outputs": [],
   "source": [
    "pending_task = None\n",
    "\n",
    "def process_task(text):\n",
    "    title, urgency_str = text.split(\",\")\n",
    "    try:\n",
    "        urgency = int(urgency_str)\n",
    "        pending_task.urgency = urgency\n",
    "    except (ValueError, NameError):\n",
    "        print(f\"Oops!\")\n"
   ]
  },
  {
   "cell_type": "markdown",
   "metadata": {},
   "source": [
    "### Using `else` in exception handling to minimize the try clause\n",
    "\n",
    "It is a good practice to minimize the length of the `try` clause by including only the code that can raise exception.\n",
    "\n",
    "The code to run after the `try` body when no exception has been raised can be safely included in the `else` block:"
   ]
  },
  {
   "cell_type": "code",
   "execution_count": 7,
   "metadata": {},
   "outputs": [
    {
     "name": "stderr",
     "output_type": "stream",
     "text": [
      "ERROR:__main__:Couldn't convert #3 to int\n",
      "Traceback (most recent call last):\n",
      "  File \"/tmp/ipykernel_4500/324115465.py\", line 11, in process_task_str\n",
      "    urgency = int(urgency_str)\n",
      "ValueError: invalid literal for int() with base 10: '#3'\n"
     ]
    }
   ],
   "source": [
    "from collections import namedtuple\n",
    "import logging\n",
    "\n",
    "logger = logging.getLogger(__name__)\n",
    "\n",
    "Task = namedtuple(\"Task\", \"title, urgency\")\n",
    "\n",
    "def process_task_str(text):\n",
    "    title, urgency_str = text.split(\",\")\n",
    "    try:\n",
    "        urgency = int(urgency_str)\n",
    "    except ValueError as ex:\n",
    "        logger.exception(\"Couldn't convert %s to int\", urgency_str)\n",
    "        return None\n",
    "    else:\n",
    "        task = Task(title, urgency)\n",
    "        return task\n",
    "\n",
    "\n",
    "assert process_task_str(\"Laundry,3\") == Task(\"Laundry\", 3)\n",
    "\n",
    "assert process_task_str(\"Laundry,#3\") is None\n"
   ]
  },
  {
   "cell_type": "markdown",
   "metadata": {},
   "source": [
    "### Supplying custom messages in Exceptions\n",
    "\n",
    "Exceptions allow you to pass custom messages, so that the consumer of your code is better prepared to deal with the problem:\n",
    "\n"
   ]
  },
  {
   "cell_type": "code",
   "execution_count": 8,
   "metadata": {},
   "outputs": [
    {
     "name": "stdout",
     "output_type": "stream",
     "text": [
      "Oops: Incorrect value for urgency: '#3'\n"
     ]
    }
   ],
   "source": [
    "from collections import namedtuple\n",
    "\n",
    "Task = namedtuple(\"Task\", \"title, urgency\")\n",
    "\n",
    "def process_task_str(text):\n",
    "    title, urgency_str = text.split(\",\")\n",
    "    try:\n",
    "        urgency = int(urgency_str)\n",
    "    except ValueError as ex:\n",
    "        raise ValueError(f\"Incorrect value for urgency: {urgency_str!r}\")\n",
    "    else:\n",
    "        task = Task(title, urgency)\n",
    "        return task\n",
    "\n",
    "\n",
    "try:\n",
    "    process_task_str(\"Laundry,#3\") is None\n",
    "except ValueError as e:\n",
    "    print(f\"Oops: {e}\")\n"
   ]
  },
  {
   "cell_type": "markdown",
   "metadata": {},
   "source": [
    "### Exceptions Hierarchy and custom Exception classes\n",
    "\n",
    "The following diagram details the most common Exceptions in Python\n",
    "\n",
    "![Exception hierarchy](pics/exceptions-hierarchy.png)"
   ]
  },
  {
   "cell_type": "markdown",
   "metadata": {},
   "source": [
    "As a rule of thumb, we shouldn't inherit from `BaseException` to avoid catching system-exiting exceptions such as `SystemExit` or `KeyboardInterrupt`.\n",
    "\n",
    "Instead, when creating our own custom exceptions, we should inherit from `Exception`.\n",
    "\n",
    "It is also recommended to use the existing class hierarchy instead of creating our custom classes, as the former will be familiar to Python developers. If necessary, you can supply your own custom message for clarity.\n",
    "\n",
    "Consider the following `Task` definition."
   ]
  },
  {
   "cell_type": "code",
   "execution_count": 9,
   "metadata": {},
   "outputs": [
    {
     "name": "stdout",
     "output_type": "stream",
     "text": [
      "Ooops: Please instantiate Task providing a string as its title\n"
     ]
    }
   ],
   "source": [
    "class Task:\n",
    "    def __init__(self, title):\n",
    "        if isinstance(title, str):\n",
    "            self.title = title\n",
    "        else:\n",
    "            raise TypeError(\"Please instantiate Task providing a string as its title\")\n",
    "\n",
    "try:\n",
    "    task = Task(100)\n",
    "except Exception as e:\n",
    "    print(f\"Ooops: {e}\")"
   ]
  },
  {
   "cell_type": "markdown",
   "metadata": {},
   "source": [
    "Instead of reinventing the wheel, we reuse the existing `TypeError` exception but we supply a custom message so that the client of our code knows how to deal with the problem."
   ]
  },
  {
   "cell_type": "markdown",
   "metadata": {},
   "source": [
    "When creating a custom Exception, it can start very simple with a simple custom base class:"
   ]
  },
  {
   "cell_type": "code",
   "execution_count": null,
   "metadata": {},
   "outputs": [],
   "source": [
    "class MyCustomError(Exception):\n",
    "    pass\n",
    "\n"
   ]
  },
  {
   "cell_type": "markdown",
   "metadata": {},
   "source": [
    "Then, we can create our custom hierarchy from it:"
   ]
  },
  {
   "cell_type": "code",
   "execution_count": 10,
   "metadata": {},
   "outputs": [
    {
     "name": "stdout",
     "output_type": "stream",
     "text": [
      "Ooops: The file 'log.txt' is not a valid CSV file (type: <class '__main__.MyFileExtError'>)\n"
     ]
    }
   ],
   "source": [
    "class MyCustomError(Exception):\n",
    "    pass\n",
    "\n",
    "class MyFileExtError(MyCustomError):\n",
    "    def __init__(self, filepath):\n",
    "        super().__init__()\n",
    "        self.filepath = filepath\n",
    "\n",
    "    def __str__(self):\n",
    "        return f\"The file {self.filepath!r} is not a valid CSV file\"\n",
    "\n",
    "try:\n",
    "    raise MyFileExtError(\"log.txt\")\n",
    "except Exception as e:\n",
    "    print(f\"Ooops: {e} (type: {type(e)})\")"
   ]
  },
  {
   "cell_type": "markdown",
   "metadata": {},
   "source": [
    "Note that the custom exception class can take additional arguments for instantiation.\n",
    "\n",
    "Note also that we override the `__str__` method so that the consumer of our code gets a good description of our custom extension."
   ]
  },
  {
   "attachments": {},
   "cell_type": "markdown",
   "metadata": {},
   "source": [
    "## Section 37 &mdash; More on operator overloading\n",
    "\n",
    "Python supports operator overloading:\n"
   ]
  },
  {
   "cell_type": "code",
   "execution_count": 11,
   "metadata": {},
   "outputs": [
    {
     "name": "stdout",
     "output_type": "stream",
     "text": [
      "I'm rich, biyatch\n"
     ]
    }
   ],
   "source": [
    "class Amount:\n",
    "    def __init__(self, amt, currency):\n",
    "        self.amt = amt\n",
    "        self.currency = currency\n",
    "\n",
    "    def __gt__(self, other):\n",
    "        if self.currency == other.currency and self.amt > other.amt:\n",
    "            return True\n",
    "        else:\n",
    "            return False\n",
    "\n",
    "fifteen_bucks = Amount(15, \"USD\")\n",
    "fifty_bucks = Amount(50, \"USD\")\n",
    "\n",
    "if fifty_bucks > fifteen_bucks:\n",
    "    print(\"I'm rich, biyatch\")\n",
    "else:\n",
    "    print(\"not rich\")"
   ]
  },
  {
   "attachments": {},
   "cell_type": "markdown",
   "metadata": {},
   "source": [
    "You have to implement the following functions to override operators:\n",
    "\n",
    "+ `__eq__()` &mdash; `==`\n",
    "+ `__ne__()` &mdash; `!=`\n",
    "+ `__lt__()` &mdash; `<`\n",
    "+ `__le__()` &mdash; `<=`\n",
    "+ `__gt__()` &mdash; `>`\n",
    "+ `__ge__()` &mdash; `>=`\n",
    "+ `__add__()` &mdash; `+`\n",
    "+ `__sub__()` &mdash; `-`\n",
    "+ `__mul__()` &mdash; `*`\n",
    "+ `__truediv__()` &mdash; `/`\n",
    "+ `__floordiv__()` &mdash; `//`\n",
    "+ `__mod__()` &mdash; `%`\n",
    "+ `__rshifht__()` &mdash; `>>`\n",
    "+ `__lshifht__()` &mdash; `<<`\n",
    "+ `__and__()` &mdash; `&`\n",
    "+ `__or__()` &mdash; `|`\n",
    "+ `__xor__()` &mdash; `^`"
   ]
  },
  {
   "attachments": {},
   "cell_type": "markdown",
   "metadata": {},
   "source": [
    "## Section 38 &mdash; Collection functions\n",
    "\n",
    "Python provides a group of useful global functions for collections:\n",
    "\n",
    "+ `sum` &mdash; returns the sum the elements of a collection\n",
    "+ `max` &mdash; returns the max element of a collection\n",
    "+ `min` &mdash; returns the min element of a collection\n",
    "+ `sorted` &mdash; returns a sorted collection from the given one, without mutating the original one.\n",
    "+ `reversed` &mdash; returns a the reversed collection from the given one, without mutating the original one."
   ]
  },
  {
   "cell_type": "code",
   "execution_count": 13,
   "metadata": {},
   "outputs": [
    {
     "name": "stdout",
     "output_type": "stream",
     "text": [
      "[6, 1, 4, 2, 10, 6, 8, 3, 9, 2]\n",
      "sum(nums): 51\n",
      "max(nums): 10\n",
      "min(nums): 1\n",
      "sorted(nums): [1, 2, 2, 3, 4, 6, 6, 8, 9, 10]\n",
      "reversed(nums): [2, 9, 3, 8, 6, 10, 2, 4, 1, 6]\n"
     ]
    }
   ],
   "source": [
    "import random\n",
    "\n",
    "nums = [random.randint(0, 10) for _ in range(0, 10)]\n",
    "print(nums)\n",
    "print(\"sum(nums):\", sum(nums))\n",
    "print(\"max(nums):\", max(nums))\n",
    "print(\"min(nums):\", min(nums))\n",
    "print(\"sorted(nums):\", sorted(nums))\n",
    "print(\"reversed(nums):\", list(reversed(nums)))"
   ]
  },
  {
   "attachments": {},
   "cell_type": "markdown",
   "metadata": {},
   "source": [
    "## Section 39 &mdash; CLI/Terminal Arguments basics in Python\n",
    "\n",
    "You can pass additional arguments to a Python program by simply typing:\n",
    "\n",
    "```bash\n",
    "python file-name.py arg1 arg2 arg3\n",
    "```\n",
    "\n",
    "The most straightforward way to retrieve those arguments in your program relies on the `sys` package:"
   ]
  },
  {
   "cell_type": "code",
   "execution_count": 14,
   "metadata": {},
   "outputs": [
    {
     "name": "stdout",
     "output_type": "stream",
     "text": [
      "11\n",
      "['/home/ubuntu/miniconda3/lib/python3.10/site-packages/ipykernel_launcher.py', '--ip=127.0.0.1', '--stdin=9003', '--control=9001', '--hb=9000', '--Session.signature_scheme=\"hmac-sha256\"', '--Session.key=b\"3a1e019e-cffa-40cf-b88b-d120cf09e633\"', '--shell=9002', '--transport=\"tcp\"', '--iopub=9004', '--f=/home/ubuntu/.local/share/jupyter/runtime/kernel-v2-96499KV4Mk2a68wtR.json']\n"
     ]
    }
   ],
   "source": [
    "import sys\n",
    "\n",
    "print(len(sys.argv))\n",
    "print(sys.argv)"
   ]
  },
  {
   "attachments": {},
   "cell_type": "markdown",
   "metadata": {},
   "source": [
    "For more advanced capabilities, you can rely on the [argparse]((https://docs.python.org/3/library/argparse.html)) package.\n",
    "\n",
    "\n",
    "| EXAMPLE: |\n",
    "| :------- |\n",
    "| See [greeter.py](exercises/section_38-cli/greeter.py) for an example on how to use `argparse` to build a CLI tool. |"
   ]
  },
  {
   "cell_type": "markdown",
   "metadata": {},
   "source": [
    "## Section 40 &mdash; Regular Expressions (regex/regexp)\n",
    "\n",
    "Python's `str` class has useful methods such as `find` and `rfind`, for searching substrings, but many scenarios require going beyond these basic methods, especially when you're dealing with complex pattern matching.\n",
    "\n",
    "Form example, this snippet let us split some messy line using different types of separators using regex:"
   ]
  },
  {
   "cell_type": "code",
   "execution_count": 5,
   "metadata": {},
   "outputs": [
    {
     "name": "stdout",
     "output_type": "stream",
     "text": [
      "['field1', 'field2', 'field3', 'field4', 'field5']\n"
     ]
    }
   ],
   "source": [
    "import re\n",
    "\n",
    "messy_data = \"field1,field2;field3;field4_field5\"\n",
    "\n",
    "regex = re.compile(r\"[,_;]\")\n",
    "fields = regex.split(messy_data)\n",
    "\n",
    "print(fields)"
   ]
  },
  {
   "cell_type": "markdown",
   "metadata": {},
   "source": [
    "Python's `re` module provides all the features related to regular expressions.\n",
    "\n",
    "There are two ways to use this module: using OOP, and using the functional approach.\n",
    "\n",
    "When using the OOP approach, you first create a `Pattern` object by compiling a string pattern, and then use the `Pattern` onject to search the occurrences that match the pattern."
   ]
  },
  {
   "cell_type": "code",
   "execution_count": 11,
   "metadata": {},
   "outputs": [
    {
     "name": "stdout",
     "output_type": "stream",
     "text": [
      "do\n",
      "<re.Match object; span=(0, 2), match='do'>\n",
      "['do', 'do']\n"
     ]
    }
   ],
   "source": [
    "import re\n",
    "\n",
    "regex = re.compile(\"do\")\n",
    "print(regex.pattern)\n",
    "\n",
    "print(regex.search(\"do homework\"))\n",
    "print(regex.findall(\"don't do that\"))\n"
   ]
  },
  {
   "cell_type": "markdown",
   "metadata": {},
   "source": [
    "The functional style call the functions directly in the module:"
   ]
  },
  {
   "cell_type": "code",
   "execution_count": 12,
   "metadata": {},
   "outputs": [
    {
     "name": "stdout",
     "output_type": "stream",
     "text": [
      "<re.Match object; span=(0, 2), match='do'>\n",
      "['do', 'do']\n"
     ]
    }
   ],
   "source": [
    "import re\n",
    "\n",
    "print(re.search(\"do\", \"do homework\"))\n",
    "print(re.findall(\"do\", \"don't do that\"))"
   ]
  },
  {
   "cell_type": "markdown",
   "metadata": {},
   "source": [
    "The difference between the two approaches is that the OOP approach lets you cache the `Pattern` object. Thus, if your use case includes checking the same regex multiple times most probably the OOP approach will work better for you."
   ]
  },
  {
   "cell_type": "markdown",
   "metadata": {},
   "source": [
    "### Using *raw* strings to create a regex pattern\n",
    "\n",
    "To create regex patterns we often need to use raw strings as in `r\"pattern\"`.\n",
    "\n",
    "This is needed because you need to be very concise and precise. For example, we use `\\d` to match any digit `\\w` to denote a word, etc. This clashes with Python using backslashes to denot special characters such as `\\t` for tabs, `\\n` for newline or `\\\\` for backslash.\n",
    "\n",
    "If there weren't raw strings, regex will even become weirder:"
   ]
  },
  {
   "cell_type": "code",
   "execution_count": 13,
   "metadata": {},
   "outputs": [
    {
     "name": "stdout",
     "output_type": "stream",
     "text": [
      "Match '\\task': None\n",
      "Match '\\\\task': <re.Match object; span=(0, 5), match='\\\\task'>\n",
      "Match '\\\\\\task': None\n",
      "Match '\\\\\\\\task': None\n"
     ]
    }
   ],
   "source": [
    "task_pattern = re.compile(\"\\\\\\\\task\")  # looking \"\\\\task\"\n",
    "texts = [\"\\task\", \"\\\\task\", \"\\\\\\task\", \"\\\\\\\\task\"]\n",
    "\n",
    "for text in texts:\n",
    "    print(f\"Match {text!r}: {task_pattern.match(text)}\")"
   ]
  },
  {
   "cell_type": "markdown",
   "metadata": {},
   "source": [
    "This becomes much easier with raw strings, as we don't need to escape the backslash character, making it easier to read."
   ]
  },
  {
   "cell_type": "code",
   "execution_count": 14,
   "metadata": {},
   "outputs": [
    {
     "name": "stdout",
     "output_type": "stream",
     "text": [
      "Match '\\task': None\n",
      "Match '\\\\task': <re.Match object; span=(0, 5), match='\\\\task'>\n",
      "Match '\\\\\\task': None\n",
      "Match '\\\\\\\\task': None\n"
     ]
    }
   ],
   "source": [
    "task_pattern = re.compile(r\"\\\\task\")\n",
    "texts = [\"\\task\", \"\\\\task\", \"\\\\\\task\", \"\\\\\\\\task\"]\n",
    "\n",
    "for text in texts:\n",
    "    print(f\"Match {text!r}: {task_pattern.match(text)}\")"
   ]
  },
  {
   "cell_type": "markdown",
   "metadata": {},
   "source": [
    "### Crash course on Python regex syntax\n",
    "\n",
    "Regular expressions constitute a separate language with its own unique syntax. We'll deal with different aspects in each own subsection:"
   ]
  },
  {
   "cell_type": "markdown",
   "metadata": {},
   "source": [
    "#### Boundary anchors\n",
    "\n",
    "The boundary anchors lets you specify whether a string begins or ends with a particular pattern.\n",
    "\n",
    "| Regex | Description |\n",
    "| :---- | :---------- |\n",
    "| ^hi   | starts with hi |\n",
    "| task$ | ends with task |\n",
    "| ^hi task$ | starts and ends with \"hi task\" |"
   ]
  },
  {
   "cell_type": "code",
   "execution_count": 18,
   "metadata": {},
   "outputs": [
    {
     "name": "stdout",
     "output_type": "stream",
     "text": [
      "<re.Match object; span=(0, 2), match='hi'>\n",
      "<re.Match object; span=(7, 11), match='task'>\n",
      "<re.Match object; span=(0, 7), match='hi task'>\n",
      "None\n"
     ]
    }
   ],
   "source": [
    "import re\n",
    "\n",
    "print(re.search(r\"^hi\", \"hi, Python!\"))\n",
    "print(re.search(f\"task$\", \"do the task\"))\n",
    "print(re.search(f\"^hi task$\", \"hi task\"))\n",
    "print(re.search(f\"^hi task$\", \"hi Python task\"))"
   ]
  },
  {
   "cell_type": "markdown",
   "metadata": {},
   "source": [
    "#### Quantifiers\n",
    "\n",
    "Quantifiers are used when we need to search for a pattern appearing a certain number of times\n",
    "\n",
    "| Regex | Description |\n",
    "| :---- | :---------- |\n",
    "| hi?   | h followed by zero or one i |\n",
    "| hi*   | h followed by zero or more i |\n",
    "| hi+   | h followed by one or more i |\n",
    "| hi{3} | h followed by iii |\n",
    "| hi{1,3} | h followed by i, ii, or iii |\n",
    "| hi{2,} | h followed by 2 or more i |\n",
    "\n",
    "`?`, `*`, and `+` are greedy, meaning that the regex engine will try to match the longest sequence whenever possible. You can disable that behavior adding the suffix `?` to the quantifier (as in `hi+?`)."
   ]
  },
  {
   "cell_type": "code",
   "execution_count": 23,
   "metadata": {},
   "outputs": [
    {
     "name": "stdout",
     "output_type": "stream",
     "text": [
      "hi?      ==> ['h', 'hi', 'hi', 'hi', 'hi']\n",
      "hi*      ==> ['h', 'hi', 'hii', 'hiii', 'hiiii']\n",
      "hi+      ==> ['hi', 'hii', 'hiii', 'hiiii']\n",
      "hi{3}    ==> ['hiii', 'hiii']\n",
      "hi{2,3}  ==> ['hii', 'hiii', 'hiii']\n",
      "hi{2,}   ==> ['hii', 'hiii', 'hiiii']\n",
      "hi??     ==> ['h', 'h', 'h', 'h', 'h']\n",
      "hi*?     ==> ['h', 'h', 'h', 'h', 'h']\n",
      "hi+?     ==> ['hi', 'hi', 'hi', 'hi']\n",
      "hi{2,}?  ==> ['hii', 'hii', 'hii']\n"
     ]
    }
   ],
   "source": [
    "import re\n",
    "\n",
    "test_string = \"h hi hii hiii hiiii\"\n",
    "test_patterns = [r\"hi?\", r\"hi*\", r\"hi+\", r\"hi{3}\", r\"hi{2,3}\", r\"hi{2,}\",\n",
    "                 r\"hi??\", r\"hi*?\", r\"hi+?\", r\"hi{2,}?\"]\n",
    "\n",
    "for pattern in test_patterns:\n",
    "    print(f\"{pattern:<9}==> {re.findall(pattern, test_string)}\")\n"
   ]
  },
  {
   "cell_type": "markdown",
   "metadata": {},
   "source": [
    "#### Character classes and sets\n",
    "\n",
    "The following table lists the most common character sets supported in Python (the table is not exhaustive):\n",
    "\n",
    "| regex for the character set | Description |\n",
    "| :-------------------------- | :---------- |\n",
    "| \\d | any decimal digit |\n",
    "| \\D | any character that is not a decimal digit |\n",
    "| \\s | any whitespace character including space, \\t, \\n, \\r, \\f, \\v |\n",
    "| \\S | any character that isn't a whitespace |\n",
    "| \\w | any word character (alphanumeric plus underscores) |\n",
    "| \\W | any character that is not a word character |\n",
    "| .  | any character except a newline |\n",
    "| [] | a set of defined characters (as in [abc] for a, b, or c) |\n",
    "\n",
    "When using `[]` you can include:\n",
    "+ individual characters as in `[abcxyz]` to match any of these six characters\n",
    "+ ranges of chacters [a-z], [A-Z]\n",
    "+ combination of different ranges [a-zA-Z0-9], [a-dw-z]"
   ]
  },
  {
   "cell_type": "code",
   "execution_count": 24,
   "metadata": {},
   "outputs": [
    {
     "name": "stdout",
     "output_type": "stream",
     "text": [
      "\\d       ==> ['1']\n",
      "\\D       ==> ['#', '$', 'w', 'm', '_', ' ', 'M', '\\t']\n",
      "\\s       ==> [' ', '\\t']\n",
      "\\S       ==> ['#', '1', '$', 'w', 'm', '_', 'M']\n",
      "\\w       ==> ['1', 'w', 'm', '_', 'M']\n",
      "\\W       ==> ['#', '$', ' ', '\\t']\n",
      ".        ==> ['#', '1', '$', 'w', 'm', '_', ' ', 'M', '\\t']\n",
      "[lmn]    ==> ['m']\n"
     ]
    }
   ],
   "source": [
    "test_text = \"#1$wm_ M\\t\"\n",
    "\n",
    "patterns = [\"\\d\", \"\\D\", \"\\s\", \"\\S\", \"\\w\", \"\\W\", \".\", \"[lmn]\"]\n",
    "for pattern in patterns:\n",
    "    print(f\"{pattern:<9}==> {re.findall(pattern, test_text)}\")"
   ]
  },
  {
   "cell_type": "markdown",
   "metadata": {},
   "source": [
    "#### Logical operators\n",
    "\n",
    "Regular expressions also support logical operations.\n",
    "\n",
    "| Regex | Description |\n",
    "| :---- | :---------- |\n",
    "| a|b   | a or b |\n",
    "| (abc) | abc as a group |\n",
    "| [^a]  | any character other than a |"
   ]
  },
  {
   "cell_type": "code",
   "execution_count": 27,
   "metadata": {},
   "outputs": [
    {
     "name": "stdout",
     "output_type": "stream",
     "text": [
      "['a', 'b', 'a', 'b']\n",
      "['b']\n",
      "['abc']\n",
      "['b', 'c', 'd', 'e']\n"
     ]
    }
   ],
   "source": [
    "import re\n",
    "\n",
    "print(re.findall(r\"a|b\", \"a c d d b ab\"))\n",
    "print(re.findall(r\"a|b\", \"c d d b\"))\n",
    "\n",
    "print(re.findall(r\"(abc)\", \"ab bc abc ac\"))\n",
    "\n",
    "print(re.findall(r\"[^a]\", \"abcde\"))"
   ]
  },
  {
   "cell_type": "markdown",
   "metadata": {},
   "source": [
    "#### Creating Match objects\n",
    "\n",
    "The `match` and `search` methods are often used for pattern searching:\n",
    "\n",
    "+ `match` is interested on finding the pattern at the beginning of the string\n",
    "+ `search` scans the string until if finds a match (if any)"
   ]
  },
  {
   "cell_type": "code",
   "execution_count": 29,
   "metadata": {},
   "outputs": [
    {
     "name": "stdout",
     "output_type": "stream",
     "text": [
      "<re.Match object; span=(3, 9), match='a2b1c3'>\n",
      "matched: a2b1c3\n",
      "span: (3, 9)\n",
      "start: 3 & end: 9\n"
     ]
    }
   ],
   "source": [
    "import re\n",
    "\n",
    "match = re.search(r\"(\\w\\d)+\", \"xyza2b1c3dd\")\n",
    "print(match)\n",
    "\n",
    "print(\"matched:\", match.group())\n",
    "print(\"span:\", match.span())\n",
    "print(f\"start: {match.start()} & end: {match.end()}\")"
   ]
  },
  {
   "cell_type": "markdown",
   "metadata": {},
   "source": [
    "A `Match` object (such as the one returned by `search` and `match`) evaluate to True is a match is identified:\n",
    "\n",
    "```python\n",
    "import re\n",
    "\n",
    "match = re.match(\"pattern\", \"string to match\")\n",
    "if match:\n",
    "    # ...do something if found...\n",
    "else:\n",
    "    print(\"no matches found\")\n",
    "```"
   ]
  },
  {
   "cell_type": "markdown",
   "metadata": {},
   "source": [
    "A match can have multiple groups:"
   ]
  },
  {
   "cell_type": "code",
   "execution_count": 33,
   "metadata": {},
   "outputs": [
    {
     "name": "stdout",
     "output_type": "stream",
     "text": [
      "<re.Match object; span=(0, 16), match='Homework, urgent'>\n",
      "('Homework', 'urgent')\n",
      "Homework, urgent\n",
      "Homework\n",
      "urgent\n"
     ]
    }
   ],
   "source": [
    "import re\n",
    "\n",
    "match = re.match(r\"(\\w+), (\\w+)\", \"Homework, urgent; today\")\n",
    "print(match)\n",
    "\n",
    "print(match.groups())\n",
    "\n",
    "print(match.group(0))\n",
    "print(match.group(1))\n",
    "print(match.group(2))"
   ]
  },
  {
   "cell_type": "markdown",
   "metadata": {},
   "source": [
    "Note that by default, group 0 is the entire match.\n",
    "\n",
    "The same can be applied to spans:"
   ]
  },
  {
   "cell_type": "code",
   "execution_count": 36,
   "metadata": {},
   "outputs": [
    {
     "name": "stdout",
     "output_type": "stream",
     "text": [
      "<re.Match object; span=(0, 16), match='Homework, urgent'>\n",
      "(0, 16)\n",
      "(0, 8)\n",
      "(10, 16)\n"
     ]
    }
   ],
   "source": [
    "import re\n",
    "\n",
    "match = re.match(r\"(\\w+), (\\w+)\", \"Homework, urgent; today\")\n",
    "print(match)\n",
    "\n",
    "print(match.span(0))\n",
    "print(match.span(1))\n",
    "print(match.span(2))"
   ]
  },
  {
   "cell_type": "markdown",
   "metadata": {},
   "source": [
    "#### Common methods\n",
    "\n",
    "##### `search`\n",
    "\n",
    "`search` returns a `Match` if a match is found anywhere in the string."
   ]
  },
  {
   "cell_type": "code",
   "execution_count": 2,
   "metadata": {},
   "outputs": [
    {
     "name": "stdout",
     "output_type": "stream",
     "text": [
      "<re.Match object; span=(2, 4), match='12'>\n",
      "None\n"
     ]
    }
   ],
   "source": [
    "import re\n",
    "\n",
    "print(re.search(r\"\\d+\", \"ab12xy\"))  # 12\n",
    "print(re.search(r\"\\d+\", \"abxy\"))    # None"
   ]
  },
  {
   "cell_type": "markdown",
   "metadata": {},
   "source": [
    "##### `match`\n",
    "\n",
    "`match` returns a match only if a match is found at the string's beginning."
   ]
  },
  {
   "cell_type": "code",
   "execution_count": 3,
   "metadata": {},
   "outputs": [
    {
     "name": "stdout",
     "output_type": "stream",
     "text": [
      "None\n",
      "<re.Match object; span=(0, 2), match='12'>\n"
     ]
    }
   ],
   "source": [
    "import re\n",
    "\n",
    "print(re.match(r\"\\d+\", \"ab12xy\"))   # None\n",
    "print(re.match(r\"\\d+\", \"12abxy\"))   # 12"
   ]
  },
  {
   "cell_type": "markdown",
   "metadata": {},
   "source": [
    "##### `findall`\n",
    "\n",
    "`findall` returns a list of strings that match the pattern. When the pattern has multiple groups, the item is a tuple."
   ]
  },
  {
   "cell_type": "code",
   "execution_count": 5,
   "metadata": {},
   "outputs": [
    {
     "name": "stdout",
     "output_type": "stream",
     "text": [
      "['hey', 'hel']\n",
      "[('H', 'e'), ('h', 'e')]\n"
     ]
    }
   ],
   "source": [
    "import re\n",
    "\n",
    "print(re.findall(r\"h[ie]\\w\", \"hi hey hello\"))  # hey hel\n",
    "print(re.findall(f\"(h|H)(i|e)\", \"Hey hello\"))  # [(\"H\", \"e\"), ('h', 'e')]"
   ]
  },
  {
   "cell_type": "markdown",
   "metadata": {},
   "source": [
    "##### `finditer`\n",
    "\n",
    "`finditer` returns an iterator that yields `Match` objects."
   ]
  },
  {
   "cell_type": "code",
   "execution_count": 6,
   "metadata": {},
   "outputs": [
    {
     "name": "stdout",
     "output_type": "stream",
     "text": [
      "<callable_iterator object at 0x7f1d47937940>\n"
     ]
    }
   ],
   "source": [
    "import re\n",
    "\n",
    "print(re.finditer(r\"(h|H)(i|e)\", \"hi Hey Hello\"))"
   ]
  },
  {
   "cell_type": "markdown",
   "metadata": {},
   "source": [
    "##### `split`\n",
    "\n",
    "`split` splits the string by the pattern."
   ]
  },
  {
   "cell_type": "code",
   "execution_count": 8,
   "metadata": {},
   "outputs": [
    {
     "data": {
      "text/plain": [
       "['a', 'b', 'c', 'd', 'e']"
      ]
     },
     "execution_count": 8,
     "metadata": {},
     "output_type": "execute_result"
    }
   ],
   "source": [
    "import re\n",
    "\n",
    "re.split(r\"\\d+\", \"a1b2c3d4e\")  # [\"a\", \"b\", \"c\", \"d\", \"e\"]"
   ]
  },
  {
   "cell_type": "markdown",
   "metadata": {},
   "source": [
    "##### `sub`\n",
    "\n",
    "`sub` creates a string by replacing the matched with the replacement."
   ]
  },
  {
   "cell_type": "code",
   "execution_count": 9,
   "metadata": {},
   "outputs": [
    {
     "data": {
      "text/plain": [
       "'123-456-789'"
      ]
     },
     "execution_count": 9,
     "metadata": {},
     "output_type": "execute_result"
    }
   ],
   "source": [
    "import re\n",
    "\n",
    "re.sub(r\"\\D\", \"-\", \"123,456_789\")   # 123-456-789"
   ]
  },
  {
   "cell_type": "markdown",
   "metadata": {},
   "source": [
    "### Extracting data using regex (I)\n",
    "\n",
    "Extract the text data from the text string `\"abc_,abc__,abc,,__abc_,_abc\"`, where abc stands for the needed data values."
   ]
  },
  {
   "cell_type": "code",
   "execution_count": 10,
   "metadata": {},
   "outputs": [
    {
     "name": "stdout",
     "output_type": "stream",
     "text": [
      "data: ['abc', 'abc', 'abc', 'abc', 'abc']\n"
     ]
    }
   ],
   "source": [
    "import re\n",
    "\n",
    "text_line = \"abc_,abc__,abc,,__abc_,_abc\"\n",
    "\n",
    "data = re.split(r\"[_,]+\", text_line)\n",
    "print(f\"data: {data}\")"
   ]
  },
  {
   "cell_type": "markdown",
   "metadata": {},
   "source": [
    "### Extracting data using regex (II)\n",
    "\n",
    "Suppose that we have the following text that contains multiple valid records along with invalid records identified by random records (mimicking what you'd get out of a db log after a crash).\n",
    "\n",
    "```\n",
    "101, Homework; Complete physics and math\n",
    "some random nonsense\n",
    "102, Laundry; Wash all the clothes today\n",
    "54, random; record\n",
    "103, Museum; All about Egypt\n",
    "1234, random; record\n",
    "Another random record\n",
    "```"
   ]
  },
  {
   "cell_type": "markdown",
   "metadata": {},
   "source": [
    "Valid records look like the following:\n",
    "\n",
    "\"^(\\d+), (\\w+); (.+)$\""
   ]
  },
  {
   "cell_type": "code",
   "execution_count": 2,
   "metadata": {},
   "outputs": [
    {
     "name": "stdout",
     "output_type": "stream",
     "text": [
      "Matched:    101, Homework; Complete physics and math\n",
      "No match    some random nonsense\n",
      "Matched:    102, Laundry; Wash all the clothes today\n",
      "Matched:    54, random; record\n",
      "Matched:    103, Museum; All about Egypt\n",
      "Matched:    1234, random; record\n",
      "No match    Another random record\n"
     ]
    }
   ],
   "source": [
    "import re\n",
    "\n",
    "text_data = \"\"\"101, Homework; Complete physics and math\n",
    "some random nonsense\n",
    "102, Laundry; Wash all the clothes today\n",
    "54, random; record\n",
    "103, Museum; All about Egypt\n",
    "1234, random; record\n",
    "Another random record\"\"\"\n",
    "\n",
    "regex_pattern = \"^(\\d+), (\\w+); (.+)$\"\n",
    "regex = re.compile(regex_pattern)\n",
    "for line in text_data.split(\"\\n\"):\n",
    "    match = regex.match(line)\n",
    "    if match:\n",
    "        print(f\"{'Matched:':<12}{match.group()}\")\n",
    "    else:\n",
    "        print(f\"{'No match':<12}{line}\")\n"
   ]
  },
  {
   "cell_type": "markdown",
   "metadata": {},
   "source": [
    "The approach worked as expected, so the next step is to extract the individual fields from each line (task_id, task_title, task_description):"
   ]
  },
  {
   "cell_type": "code",
   "execution_count": 4,
   "metadata": {},
   "outputs": [
    {
     "name": "stdout",
     "output_type": "stream",
     "text": [
      "task_id=101; task_title=Homework, task_description=Complete physics and math\n",
      "task_id=102; task_title=Laundry, task_description=Wash all the clothes today\n",
      "task_id=54; task_title=random, task_description=record\n",
      "task_id=103; task_title=Museum, task_description=All about Egypt\n",
      "task_id=1234; task_title=random, task_description=record\n",
      "[('101', 'Homework', 'Complete physics and math'), ('102', 'Laundry', 'Wash all the clothes today'), ('54', 'random', 'record'), ('103', 'Museum', 'All about Egypt'), ('1234', 'random', 'record')]\n"
     ]
    }
   ],
   "source": [
    "import re\n",
    "\n",
    "text_data = \"\"\"101, Homework; Complete physics and math\n",
    "some random nonsense\n",
    "102, Laundry; Wash all the clothes today\n",
    "54, random; record\n",
    "103, Museum; All about Egypt\n",
    "1234, random; record\n",
    "Another random record\"\"\"\n",
    "\n",
    "regex_pattern = \"^(\\d+), (\\w+); (.+)$\"\n",
    "regex = re.compile(regex_pattern)\n",
    "tasks = []\n",
    "for line in text_data.split(\"\\n\"):\n",
    "    match = regex.match(line)\n",
    "    if match:\n",
    "        task_id = match.group(1)\n",
    "        task_title = match.group(2)\n",
    "        task_desc = match.group(3)\n",
    "        print(f\"task_id={task_id}; task_title={task_title}, task_description={task_desc}\")\n",
    "        tasks.append((task_id, task_title, task_desc))\n",
    "\n",
    "print(tasks)"
   ]
  },
  {
   "cell_type": "markdown",
   "metadata": {},
   "source": [
    "### Using named groups in regex\n",
    "\n",
    "Textual information provides more semantic information that raw regular expressions.\n",
    "\n",
    "Python supports the syntax:\n",
    "\n",
    "```python\n",
    "?P<group_name>pattern\n",
    "```\n",
    "\n",
    "to give a name to a pattern group. Then, you can use `match.group(<group_name>)` instead of its index, which makes the code more readable.\n",
    "\n",
    "The following snippet illustrate this using the previous scenario:"
   ]
  },
  {
   "cell_type": "code",
   "execution_count": 5,
   "metadata": {},
   "outputs": [
    {
     "name": "stdout",
     "output_type": "stream",
     "text": [
      "[('101', 'Homework', 'Complete physics and math'), ('102', 'Laundry', 'Wash all the clothes today'), ('54', 'random', 'record'), ('103', 'Museum', 'All about Egypt'), ('1234', 'random', 'record')]\n"
     ]
    }
   ],
   "source": [
    "import re\n",
    "\n",
    "text_data = \"\"\"101, Homework; Complete physics and math\n",
    "some random nonsense\n",
    "102, Laundry; Wash all the clothes today\n",
    "54, random; record\n",
    "103, Museum; All about Egypt\n",
    "1234, random; record\n",
    "Another random record\"\"\"\n",
    "\n",
    "regex_pattern = \"^(?P<task_id>\\d+), (?P<task_title>\\w+); (?P<task_desc>.+)$\"\n",
    "regex = re.compile(regex_pattern)\n",
    "tasks = []\n",
    "for line in text_data.split(\"\\n\"):\n",
    "    match = regex.match(line)\n",
    "    if match:\n",
    "        tasks.append((match.group(\"task_id\"), match.group(\"task_title\"), match.group(\"task_desc\")))\n",
    "\n",
    "print(tasks)"
   ]
  },
  {
   "cell_type": "markdown",
   "metadata": {},
   "source": [
    "### Using `groupdict` with regular expressions with group names\n",
    "\n",
    "While you can use `group` to retrieve the individual items from the named groups you can also use the `groupdict` method which creates a dictionary of the names groups: "
   ]
  },
  {
   "cell_type": "code",
   "execution_count": 6,
   "metadata": {},
   "outputs": [
    {
     "name": "stdout",
     "output_type": "stream",
     "text": [
      "[{'task_id': '101', 'task_title': 'Homework', 'task_desc': 'Complete physics and math'}, {'task_id': '102', 'task_title': 'Laundry', 'task_desc': 'Wash all the clothes today'}, {'task_id': '54', 'task_title': 'random', 'task_desc': 'record'}, {'task_id': '103', 'task_title': 'Museum', 'task_desc': 'All about Egypt'}, {'task_id': '1234', 'task_title': 'random', 'task_desc': 'record'}]\n"
     ]
    }
   ],
   "source": [
    "import re\n",
    "\n",
    "text_data = \"\"\"101, Homework; Complete physics and math\n",
    "some random nonsense\n",
    "102, Laundry; Wash all the clothes today\n",
    "54, random; record\n",
    "103, Museum; All about Egypt\n",
    "1234, random; record\n",
    "Another random record\"\"\"\n",
    "\n",
    "regex_pattern = \"^(?P<task_id>\\d+), (?P<task_title>\\w+); (?P<task_desc>.+)$\"\n",
    "regex = re.compile(regex_pattern)\n",
    "tasks = []\n",
    "for line in text_data.split(\"\\n\"):\n",
    "    match = regex.match(line)\n",
    "    if match:\n",
    "        tasks.append(match.groupdict())\n",
    "\n",
    "print(tasks)"
   ]
  },
  {
   "cell_type": "markdown",
   "metadata": {},
   "source": [
    "## Section 41 &mdash; More on Data Containers"
   ]
  },
  {
   "cell_type": "markdown",
   "metadata": {},
   "source": [
    "### When you should choose lists over tuples\n",
    "\n",
    "Lists are mutable, while tuples are immutable. Thus, when dealing with lists you can append new items, insert items into the middle, change items, and remove items. To support this mutability, you hape methods such as `append`, `extend`, and `remove`."
   ]
  },
  {
   "cell_type": "code",
   "execution_count": 6,
   "metadata": {},
   "outputs": [
    {
     "name": "stdout",
     "output_type": "stream",
     "text": [
      "[-1, 0, 1, 2, 3]\n",
      "[-1, 0, 1, 2, 3, 4]\n",
      "[-1, 0, 1, 2, 3, 4, 5, 6, 7]\n",
      "[0, 1, 2, 3, 4, 5, 6, 7]\n",
      "oops: list.remove(x): x not in list\n",
      "[0, 1, 2, 3, 4, 5, 6]\n"
     ]
    }
   ],
   "source": [
    "numbers = [0, 1, 2, 3]\n",
    "\n",
    "numbers.insert(0, -1)\n",
    "print(numbers)\n",
    "\n",
    "numbers.append(4)\n",
    "print(numbers)\n",
    "\n",
    "numbers.extend([5, 6, 7])\n",
    "print(numbers)\n",
    "\n",
    "# remove by value\n",
    "numbers.remove(-1)\n",
    "print(numbers)\n",
    "\n",
    "try:\n",
    "    numbers.remove(8)\n",
    "except ValueError as e:\n",
    "    print(f\"oops: {e}\")\n",
    "\n",
    "# remove by pos\n",
    "del numbers[7]\n",
    "print(numbers)\n",
    "\n"
   ]
  },
  {
   "cell_type": "markdown",
   "metadata": {},
   "source": [
    "By contrast, tuples are immutable."
   ]
  },
  {
   "cell_type": "code",
   "execution_count": 7,
   "metadata": {},
   "outputs": [
    {
     "name": "stdout",
     "output_type": "stream",
     "text": [
      "Oops: tuples are immutable: 'tuple' object does not support item assignment\n"
     ]
    }
   ],
   "source": [
    "numbers = (1, 2, 3)\n",
    "\n",
    "try:\n",
    "    numbers[0] = 2\n",
    "except Exception as e:\n",
    "    print(f\"Oops: tuples are immutable: {e}\")"
   ]
  },
  {
   "cell_type": "markdown",
   "metadata": {},
   "source": [
    "As expected, while tuples are mutable, when tuples hold references to objects, the objects themselves will be subject of beings changed:"
   ]
  },
  {
   "cell_type": "code",
   "execution_count": 8,
   "metadata": {},
   "outputs": [
    {
     "name": "stdout",
     "output_type": "stream",
     "text": [
      "([1, 2, 3, 4], ['a', 'b'])\n"
     ]
    }
   ],
   "source": [
    "my_tuple = ([1, 2, 3], [\"a\", \"b\"])\n",
    "my_tuple[0].append(4)\n",
    "\n",
    "print(my_tuple)"
   ]
  },
  {
   "cell_type": "markdown",
   "metadata": {},
   "source": [
    "### Sorting lists using a custom function\n",
    "\n",
    "Python has a built-in method design to sort lists in place:"
   ]
  },
  {
   "cell_type": "code",
   "execution_count": 14,
   "metadata": {},
   "outputs": [
    {
     "name": "stdout",
     "output_type": "stream",
     "text": [
      "[1, 3, 4, 5, 7, 8, 9, 12]\n",
      "['Florence', 'Idris', 'Jason', 'Jennifer', 'Kenneth']\n",
      "['Kenneth', 'Jennifer', 'Jason', 'Idris', 'Florence']\n",
      "oops: '<' not supported between instances of 'str' and 'int'\n"
     ]
    }
   ],
   "source": [
    "numbers = [12, 4, 1, 3, 7, 5, 9, 8]\n",
    "numbers.sort()\n",
    "print(numbers)\n",
    "\n",
    "names = [\"Jennifer\", \"Idris\", \"Jason\", \"Florence\", \"Kenneth\"]\n",
    "names.sort()\n",
    "print(names)\n",
    "\n",
    "names.sort(reverse=True)\n",
    "print(names)\n",
    "\n",
    "# mixed list: fails\n",
    "mixed = [3, 1, 2, \"John\", [\"c\", \"a\"], [\"a\", \"b\"]]\n",
    "\n",
    "try:\n",
    "    mixed.sort()\n",
    "except Exception as e:\n",
    "    print(f\"oops: {e}\")\n"
   ]
  },
  {
   "cell_type": "markdown",
   "metadata": {},
   "source": [
    "For complicated lists, you can provide a built-in function as the sorting key."
   ]
  },
  {
   "cell_type": "code",
   "execution_count": 16,
   "metadata": {},
   "outputs": [
    {
     "name": "stdout",
     "output_type": "stream",
     "text": [
      "[1, 2, 3, 'John', ['a', 'b'], ['c', 'a']]\n"
     ]
    }
   ],
   "source": [
    "mixed = [3, 1, 2, \"John\", [\"c\", \"a\"], [\"a\", \"b\"]]\n",
    "mixed.sort(key=str)\n",
    "\n",
    "print(mixed)"
   ]
  },
  {
   "cell_type": "markdown",
   "metadata": {},
   "source": [
    "The same approach can be used to sort more complicated"
   ]
  },
  {
   "cell_type": "code",
   "execution_count": 17,
   "metadata": {},
   "outputs": [
    {
     "name": "stdout",
     "output_type": "stream",
     "text": [
      "[{'title': 'Museum', 'desc': 'Egyptian things', 'urgency': 2}, {'title': 'Laundry', 'desc': 'Wash clothes', 'urgency': 3}, {'title': 'Homework', 'desc': 'Physics + Math', 'urgency': 5}]\n"
     ]
    }
   ],
   "source": [
    "tasks = [\n",
    "   {'title': 'Laundry', 'desc': 'Wash clothes', 'urgency': 3},\n",
    "   {'title': 'Homework', 'desc': 'Physics + Math', 'urgency': 5},\n",
    "   {'title': 'Museum', 'desc': 'Egyptian things', 'urgency': 2}\n",
    "]\n",
    "\n",
    "def using_urgency_level(task):\n",
    "    return task[\"urgency\"]\n",
    "\n",
    "tasks.sort(key=using_urgency_level)\n",
    "print(tasks)"
   ]
  },
  {
   "cell_type": "markdown",
   "metadata": {},
   "source": [
    "You can use a lambda function for this use cases:"
   ]
  },
  {
   "cell_type": "code",
   "execution_count": 19,
   "metadata": {},
   "outputs": [
    {
     "name": "stdout",
     "output_type": "stream",
     "text": [
      "[{'title': 'Homework', 'desc': 'Physics + Math', 'urgency': 5}, {'title': 'Laundry', 'desc': 'Wash clothes', 'urgency': 3}, {'title': 'Museum', 'desc': 'Egyptian things', 'urgency': 2}]\n"
     ]
    }
   ],
   "source": [
    "tasks = [\n",
    "   {'title': 'Laundry', 'desc': 'Wash clothes', 'urgency': 3},\n",
    "   {'title': 'Homework', 'desc': 'Physics + Math', 'urgency': 5},\n",
    "   {'title': 'Museum', 'desc': 'Egyptian things', 'urgency': 2}\n",
    "]\n",
    "\n",
    "tasks.sort(key=lambda x: x[\"urgency\"], reverse=True)\n",
    "print(tasks)"
   ]
  },
  {
   "cell_type": "markdown",
   "metadata": {},
   "source": [
    "Python provides another method `sorted`, which can take any iterable and return a sorted list.\n",
    "\n",
    "That method is appropriate when you need to preserve the original list, or when you need to sort other containers such as tuples which are immutable."
   ]
  },
  {
   "cell_type": "markdown",
   "metadata": {},
   "source": [
    "### Alternative data models in Python\n",
    "\n",
    "There are several ways to represent the same domain model entity in Python:\n",
    "+ lists\n",
    "+ tuples\n",
    "+ dictionaries\n",
    "+ classes\n",
    "\n",
    "Consider the following example representing a ToDo task with a title, a description, and an urgency field."
   ]
  },
  {
   "cell_type": "code",
   "execution_count": null,
   "metadata": {},
   "outputs": [],
   "source": [
    "task_list = [\"Laundry\", \"Wash Clothes\", 3]\n",
    "\n",
    "task_tuple = (\"Laundry\", \"Wash Clothes\", 3)\n",
    "\n",
    "task_dict = {\"title\": \"Laudry\", \"desc\": \"Wash Clothes\", \"Urgency\": 3}\n",
    "\n",
    "class Task:\n",
    "    def __init__(self, title, desc, urgency):\n",
    "        self.title = title\n",
    "        self.desc = desc\n",
    "        self.urgency = urgency\n",
    "\n",
    "task_class = Task(\"Laundry\", \"Wash Clothes\", 3)"
   ]
  },
  {
   "cell_type": "markdown",
   "metadata": {},
   "source": [
    "All these approaches have their strengths and drawbacks:\n",
    "+ Lists:\n",
    "  + mutable, so it might not work well for scenarios in which the data should not be changed. \n",
    "  + should not hold heterogeneous data.\n",
    "  + do not contain metadata, so you need unpacking/indexing to access the individual elements.\n",
    "+ Tuples:\n",
    "  + immutable\n",
    "  + do not contain metadata, so you need unpacking/indexing to access the individual elements.\n",
    "+ Class:\n",
    "  + more verbose approach\n",
    "  + more memory usage"
   ]
  },
  {
   "cell_type": "markdown",
   "metadata": {},
   "source": [
    "#### Named Tuples (`namedtuple`)\n",
    "\n",
    "One good solution is to use *named tuples*. A named tuple lets you define tuples whose elements have names associated with them:"
   ]
  },
  {
   "cell_type": "code",
   "execution_count": 1,
   "metadata": {},
   "outputs": [],
   "source": [
    "from collections import namedtuple\n",
    "\n",
    "Task = namedtuple('Task', 'title desc urgency')\n",
    "\n",
    "task_nt = Task(\"Laundry\", \"Wash Clothes\", 3)\n",
    "\n",
    "assert task_nt.title == \"Laundry\"\n",
    "assert task_nt.desc == \"Wash Clothes\"\n",
    "assert task_nt.urgency == 3"
   ]
  },
  {
   "cell_type": "markdown",
   "metadata": {},
   "source": [
    "The named tuple attributes can either be defined as a single string with the attributes separated by spaces, or commas, or as a list object: "
   ]
  },
  {
   "cell_type": "code",
   "execution_count": null,
   "metadata": {},
   "outputs": [],
   "source": [
    "from collections import namedtuple\n",
    "\n",
    "# using comma as separator\n",
    "Task = namedtuple('Task', 'title, desc, urgency')\n",
    "\n",
    "# using list\n",
    "Task = namedtuple('Task', ['title', 'desc', 'urgency'])"
   ]
  },
  {
   "cell_type": "markdown",
   "metadata": {},
   "source": [
    "Now we can use the following approach to load the following data into a list of Tasks namedtuples:\n",
    "\n",
    "```\n",
    "Laundry,Wash clothes,3\n",
    "Homework,Physics + Math,5\n",
    "Museum,Epyptian things,2\n",
    "```"
   ]
  },
  {
   "cell_type": "code",
   "execution_count": 3,
   "metadata": {},
   "outputs": [
    {
     "name": "stdout",
     "output_type": "stream",
     "text": [
      "[Task(title='Laundry', desc='Wash clothes', urgency='3'), Task(title='Homework', desc='Physics + Math', urgency='5'), Task(title='Museum', desc='Epyptian things', urgency='2')]\n"
     ]
    }
   ],
   "source": [
    "from collections import namedtuple\n",
    "\n",
    "Task = namedtuple(\"Task\", [\"title\", \"desc\", \"urgency\"])\n",
    "\n",
    "task_data = '''Laundry,Wash clothes,3\n",
    "Homework,Physics + Math,5\n",
    "Museum,Epyptian things,2'''\n",
    "\n",
    "tasks = []\n",
    "for task_record in task_data.split(\"\\n\"):\n",
    "    task_title, task_desc, task_urgency = task_record.split(\",\")\n",
    "    tasks.append(Task(task_title, task_desc, task_urgency))\n",
    "\n",
    "print(tasks)\n",
    "\n"
   ]
  },
  {
   "cell_type": "markdown",
   "metadata": {},
   "source": [
    "#### Using dictionaries\n",
    "\n",
    "Dictionaries are also a good option to keep the data model, as they contain additional metadata about the dictionary elements:"
   ]
  },
  {
   "cell_type": "code",
   "execution_count": 5,
   "metadata": {},
   "outputs": [
    {
     "name": "stdout",
     "output_type": "stream",
     "text": [
      "[{'title': 'Laundry', 'desc': 'Wash clothes', 'urgency': '3'}, {'title': 'Homework', 'desc': 'Physics + Math', 'urgency': '5'}, {'title': 'Museum', 'desc': 'Epyptian things', 'urgency': '2'}]\n"
     ]
    }
   ],
   "source": [
    "task_data = '''Laundry,Wash clothes,3\n",
    "Homework,Physics + Math,5\n",
    "Museum,Epyptian things,2'''\n",
    "\n",
    "tasks = []\n",
    "for task_record in task_data.split(\"\\n\"):\n",
    "    task_title, task_desc, task_urgency = task_record.split(\",\")\n",
    "    task = {\"title\": task_title, \"desc\": task_desc, \"urgency\": task_urgency}\n",
    "    tasks.append(task)\n",
    "\n",
    "print(tasks)\n"
   ]
  },
  {
   "cell_type": "markdown",
   "metadata": {},
   "source": [
    "Dictionaries allows you to get *dynamic views* through the `keys`, `values` and `items` methods."
   ]
  },
  {
   "cell_type": "code",
   "execution_count": 7,
   "metadata": {},
   "outputs": [
    {
     "name": "stdout",
     "output_type": "stream",
     "text": [
      "keys: dict_keys(['title', 'desc', 'urgency'])\n",
      "values: dict_values(['Laundry', 'Wash clothes', 3])\n"
     ]
    }
   ],
   "source": [
    "task = {\"title\": \"Laundry\", \"desc\": \"Wash clothes\", \"urgency\": 3}\n",
    "print(\"keys:\", task.keys())\n",
    "print(\"values:\", task.values())"
   ]
  },
  {
   "cell_type": "markdown",
   "metadata": {},
   "source": [
    "For example, we can create a dictionary out of a list of dictionaries with the task title and urgency, and then use "
   ]
  },
  {
   "cell_type": "code",
   "execution_count": 10,
   "metadata": {},
   "outputs": [
    {
     "name": "stdout",
     "output_type": "stream",
     "text": [
      "keys: dict_keys(['Laundry', 'Homework', 'Museum'])\n",
      "values: dict_values(['3', '5', '2'])\n",
      "items: dict_items([('Laundry', '3'), ('Homework', '5'), ('Museum', '2')])\n"
     ]
    }
   ],
   "source": [
    "task_data = '''Laundry,Wash clothes,3\n",
    "Homework,Physics + Math,5\n",
    "Museum,Epyptian things,2'''\n",
    "\n",
    "tasks = []\n",
    "for task_record in task_data.split(\"\\n\"):\n",
    "    task_title, task_desc, task_urgency = task_record.split(\",\")\n",
    "    task = {\"title\": task_title, \"desc\": task_desc, \"urgency\": task_urgency}\n",
    "    tasks.append(task)\n",
    "\n",
    "urgencies = dict()\n",
    "for task in tasks:\n",
    "    urgencies[task[\"title\"]] = task[\"urgency\"]\n",
    "\n",
    "print(\"keys:\", urgencies.keys())\n",
    "print(\"values:\", urgencies.values())\n",
    "print(\"items:\", urgencies.items())\n"
   ]
  },
  {
   "cell_type": "markdown",
   "metadata": {},
   "source": [
    "Note that `keys`, `values`, and `items` methods provide dynamic views over the dictionary items &mdash; that is, those are automatically updated when the data in the dictionary is updated."
   ]
  },
  {
   "cell_type": "markdown",
   "metadata": {},
   "source": [
    "Trying to access a dictionary item that does not exist raises a `KeyError` exception:"
   ]
  },
  {
   "cell_type": "code",
   "execution_count": 6,
   "metadata": {},
   "outputs": [
    {
     "name": "stdout",
     "output_type": "stream",
     "text": [
      "Oops: 'Gardening'\n"
     ]
    }
   ],
   "source": [
    "urgencies = {\"Laundry\": 3, \"Homework\": 5, \"Museum\": 2}\n",
    "\n",
    "try:\n",
    "    urgencies[\"Gardening\"]\n",
    "except KeyError as e:\n",
    "    print(f\"Oops: {e}\")"
   ]
  },
  {
   "cell_type": "markdown",
   "metadata": {},
   "source": [
    "One way to prevent that is using and if-else:"
   ]
  },
  {
   "cell_type": "code",
   "execution_count": 7,
   "metadata": {},
   "outputs": [
    {
     "name": "stdout",
     "output_type": "stream",
     "text": [
      "Gardening is not in the urgencies dictionary\n"
     ]
    }
   ],
   "source": [
    "urgencies = {\"Laundry\": 3, \"Homework\": 5, \"Museum\": 2}\n",
    "\n",
    "if \"Gardening\" in urgencies:\n",
    "    print(urgencies[\"Gardening\"])\n",
    "else:\n",
    "    print(\"Gardening is not in the urgencies dictionary\")"
   ]
  },
  {
   "cell_type": "markdown",
   "metadata": {},
   "source": [
    "This approach is not considered very pythonic. Instead, Python provides the `get` method which lets you specify a default value when they key doesn't exist and doesn't raise an exception:"
   ]
  },
  {
   "cell_type": "code",
   "execution_count": 8,
   "metadata": {},
   "outputs": [
    {
     "name": "stdout",
     "output_type": "stream",
     "text": [
      "5\n",
      "None\n",
      "N/A\n"
     ]
    }
   ],
   "source": [
    "urgencies = {\"Laundry\": 3, \"Homework\": 5, \"Museum\": 2}\n",
    "\n",
    "print(urgencies.get(\"Homework\"))            # existing key\n",
    "print(urgencies.get(\"Gardening\"))           # non-existing key, without default value\n",
    "print(urgencies.get(\"Gardening\", \"N/A\"))    # non-existing key, with default value"
   ]
  },
  {
   "cell_type": "markdown",
   "metadata": {},
   "source": [
    "##### Hello, kwargs!\n",
    "\n",
    "While we will learn about kwargs in detail in the future, we will introduce it here.\n",
    "\n",
    "kwargs is a naming convention used in functions that that can receive a variable number of keyword arguments."
   ]
  },
  {
   "cell_type": "code",
   "execution_count": null,
   "metadata": {},
   "outputs": [],
   "source": [
    "def do_something(arg0, arg1, **kwargs):\n",
    "    optional_kw_arg_0 = kwargs.get(\"kwarg0\")\n",
    "    optional_kw_arg_1 = kwargs.get(\"kwarg1\")\n",
    "    optional_kw_arg_2 = kwargs.get(\"kwarg2\")\n",
    "    ...\n",
    "\n",
    "\n",
    "do_something(1, \"a\")\n",
    "do_something(1, \"a\", kwarg0=5)\n",
    "do_something(1, \"a\", kwarg0=5, kwarg2=\"red\")\n"
   ]
  },
  {
   "cell_type": "markdown",
   "metadata": {},
   "source": [
    "##### Hello, setdefault!\n",
    "\n",
    "The `setdefault` method on dictionary objects is similar to setting the value using `dict[key] = val`, but it also returns the value associated to `key` if that already exists in the dictionary.\n",
    "\n",
    "The name is confusing, and it is also mixing the set and get behaviors, so it's better not to use it and has been included here for completion."
   ]
  },
  {
   "cell_type": "code",
   "execution_count": 13,
   "metadata": {},
   "outputs": [
    {
     "name": "stdout",
     "output_type": "stream",
     "text": [
      "5\n",
      "{'Laundry': 3, 'Homework': 5, 'Museum': 2}\n",
      "5\n",
      "{'Laundry': 3, 'Homework': 5, 'Museum': 2}\n",
      "None\n",
      "{'Laundry': 3, 'Homework': 5, 'Museum': 2, 'Gardening': None}\n",
      "N/A\n",
      "{'Laundry': 3, 'Homework': 5, 'Museum': 2, 'Gardening': None, 'Running': 'N/A'}\n"
     ]
    }
   ],
   "source": [
    "urgencies = {\"Laundry\": 3, \"Homework\": 5, \"Museum\": 2}\n",
    "\n",
    "# Behavior when key exists and no default value is given\n",
    "print(urgencies.setdefault(\"Homework\"))  # it is like a get\n",
    "print(urgencies)\n",
    "\n",
    "# Behavior when key exists and a default value is given\n",
    "print(urgencies.setdefault(\"Homework\", \"N/A\"))  # it is like a get, default is ignored\n",
    "print(urgencies)\n",
    "\n",
    "# Behavior when key does not exist and no default value is given\n",
    "print(urgencies.setdefault(\"Gardening\"))  # it is like a set with no value\n",
    "print(urgencies)\n",
    "\n",
    "# Behavior when key does not exist and a default value is given\n",
    "print(urgencies.setdefault(\"Running\", \"N/A\"))  # it is like a set, default value is used\n",
    "print(urgencies)"
   ]
  },
  {
   "cell_type": "markdown",
   "metadata": {},
   "source": [
    "### Unhashable types for Dictionaries and Sets\n",
    "\n",
    "Lists and tuples have no restriction regarding the data types that can be saved in them. \n",
    "\n",
    "Dictionaries are also useful as they store key-value pairs, but for dictionaries and sets there are some types that you cannot use.\n",
    "\n",
    "When objects are unhashable, you cannot use them as keys in sets and dicts."
   ]
  },
  {
   "cell_type": "code",
   "execution_count": 4,
   "metadata": {},
   "outputs": [
    {
     "name": "stdout",
     "output_type": "stream",
     "text": [
      "Oops: unhashable type: 'list'\n",
      "Oops: unhashable type: 'dict'\n"
     ]
    }
   ],
   "source": [
    "try:\n",
    "    failed_dict = {[0, 2]: False}\n",
    "except Exception as e:\n",
    "    print(f\"Oops: {e}\")\n",
    "\n",
    "try:\n",
    "    failed_set = {{\"a\": 0}}\n",
    "except Exception as e:\n",
    "    print(f\"Oops: {e}\")"
   ]
  },
  {
   "cell_type": "markdown",
   "metadata": {},
   "source": [
    "This happens because both sets and dicts share the same underlying storage mechanism: a hash table.\n",
    "\n",
    "In the example below, we use `timeit` to check the performance of lookups on sets vs. lists. Note how the sets lookup performance stays the same when the number of elements grow, while the lookups performance on lists decreases."
   ]
  },
  {
   "cell_type": "code",
   "execution_count": 7,
   "metadata": {},
   "outputs": [
    {
     "name": "stdout",
     "output_type": "stream",
     "text": [
      "    10: 3.894067e-03 vs. 3.700906e-03\n",
      "   100: 4.265092e-03 vs. 6.091089e-03\n",
      "  1000: 3.789745e-03 vs. 2.172317e-02\n",
      " 10000: 4.160614e-03 vs. 2.073374e-01\n",
      "100000: 7.591529e-03 vs. 1.756933e+00\n"
     ]
    }
   ],
   "source": [
    "from timeit import timeit\n",
    "\n",
    "for count in [10, 100, 1000, 10000, 100000]:\n",
    "    setup_str = f\"\"\"from random import randint; n = {count};\n",
    "numbers_set = set(range(n));\n",
    "numbers_list = list(range(n))\"\"\"\n",
    "    stmt_set = \"randint(0, n-1) in numbers_set\"\n",
    "    stmt_list = \"randint(0, n-1) in numbers_list\"\n",
    "    t_set = timeit(stmt_set, setup=setup_str, number=10000)\n",
    "    t_list = timeit(stmt_list, setup=setup_str, number=10000)\n",
    "    print(f\"{count: >6}: {t_set:e} vs. {t_list:e}\")"
   ]
  },
  {
   "cell_type": "markdown",
   "metadata": {},
   "source": [
    "Python comes with an OOB hasher:"
   ]
  },
  {
   "cell_type": "code",
   "execution_count": 9,
   "metadata": {},
   "outputs": [
    {
     "name": "stdout",
     "output_type": "stream",
     "text": [
      "-834751430566916460\n",
      "100\n",
      "Oops: unhashable type: 'list'\n"
     ]
    }
   ],
   "source": [
    "print(hash(\"hello world!\"))\n",
    "print(hash(100))\n",
    "\n",
    "try:\n",
    "    hash([1, 2, 3])\n",
    "except Exception as e:\n",
    "    print(f\"Oops: {e}\")"
   ]
  },
  {
   "cell_type": "markdown",
   "metadata": {},
   "source": [
    "Lists and dictionaries are not hashable because they're mutable. As the hash function needs to compute the same hash for the same object, a mutable object will make that requirement impossible to fulfill."
   ]
  },
  {
   "cell_type": "markdown",
   "metadata": {},
   "source": [
    "The `Hashable` function can also be used to check whether a given object is hashable:"
   ]
  },
  {
   "cell_type": "code",
   "execution_count": 14,
   "metadata": {},
   "outputs": [
    {
     "name": "stdout",
     "output_type": "stream",
     "text": [
      "Data Type                   Hashable\n",
      "<class 'dict'>            | False\n",
      "<class 'list'>            | False\n",
      "<class 'set'>             | False\n",
      "<class 'int'>             | True\n",
      "<class 'float'>           | True\n",
      "<class 'str'>             | True\n",
      "<class 'tuple'>           | True\n",
      "<class 'bool'>            | True\n",
      "<class 'NoneType'>        | True\n",
      "<class '__main__.Person'> | True\n"
     ]
    }
   ],
   "source": [
    "from collections.abc import Hashable\n",
    "\n",
    "class Person:\n",
    "    def __init__(self, name, age):\n",
    "        self.name = name\n",
    "        self.age = age\n",
    "\n",
    "def check_hashability():\n",
    "    print(f\"{'Data Type': <25}   Hashable\")\n",
    "    items = [\n",
    "        {\"a\": 1},\n",
    "        [1],\n",
    "        {1},\n",
    "        1,\n",
    "        1.2,\n",
    "        \"test\",\n",
    "        (1,2),\n",
    "        True,\n",
    "        None,\n",
    "        Person(\"Jason\", 54)\n",
    "    ]\n",
    "    for item in items:\n",
    "        print(f\"{str(type(item)): <25} | {isinstance(item, Hashable)}\")\n",
    "\n",
    "\n",
    "check_hashability()"
   ]
  },
  {
   "cell_type": "markdown",
   "metadata": {},
   "source": [
    "| NOTE: |\n",
    "| :---- |\n",
    "| The `abc` submodule defines a series of Abstract Base Classes (ABC). |"
   ]
  },
  {
   "cell_type": "markdown",
   "metadata": {},
   "source": [
    "Note that strings are hashable because they are not mutable:"
   ]
  },
  {
   "cell_type": "code",
   "execution_count": 16,
   "metadata": {},
   "outputs": [
    {
     "name": "stdout",
     "output_type": "stream",
     "text": [
      "Oops: 'str' object does not support item assignment\n"
     ]
    }
   ],
   "source": [
    "msg = \"Hello, world!\"\n",
    "\n",
    "try:\n",
    "    msg[0] = 'h'\n",
    "except Exception as e:\n",
    "    print(f\"Oops: {e}\")"
   ]
  },
  {
   "cell_type": "markdown",
   "metadata": {},
   "source": [
    "If you need to change a string, use the `replace` method which returns a new string:"
   ]
  },
  {
   "cell_type": "code",
   "execution_count": 17,
   "metadata": {},
   "outputs": [
    {
     "name": "stdout",
     "output_type": "stream",
     "text": [
      "Hello, world! (id=140138983659760)\n",
      "hello, world! (id=140138983661744)\n"
     ]
    }
   ],
   "source": [
    "msg = \"Hello, world!\"\n",
    "msg_new = msg.replace(\"H\", \"h\")\n",
    "\n",
    "print(f\"{msg} (id={id(msg)})\")\n",
    "print(f\"{msg_new} (id={id(msg_new)})\")"
   ]
  },
  {
   "cell_type": "markdown",
   "metadata": {},
   "source": [
    "### Checking if all the elements of a list are contained in another list\n",
    "\n",
    "You can leverage Sets to solve specific uses cases such as checking if all elements of a list are contained in another list.\n",
    "\n",
    "Consider a list holding the vetted stocks and another couple of list with a selection of a stocks.\n",
    "\n",
    "We're interested in understanding if the latter elements are contained in the former:"
   ]
  },
  {
   "cell_type": "code",
   "execution_count": 19,
   "metadata": {},
   "outputs": [
    {
     "name": "stdout",
     "output_type": "stream",
     "text": [
      "Are all client0 stocks contained in good stock? True\n",
      "Are all client1 stocks contained in good stock? False\n"
     ]
    }
   ],
   "source": [
    "good_stocks = [\"AAPL\", \"GOOG\", \"AMZN\", \"NVDA\"]\n",
    "client0 = [\"GOOG\", \"AMZN\"]\n",
    "client1 = [\"AMZN\", \"SNAP\"]\n",
    "\n",
    "good_stocks_set = set(good_stocks)\n",
    "\n",
    "contained0 = good_stocks_set.issuperset(client0)\n",
    "print(f\"Are all client0 stocks contained in good stock? {contained0}\")\n",
    "\n",
    "contained1 = good_stocks_set.issuperset(client1)\n",
    "print(f\"Are all client1 stocks contained in good stock? {contained1}\")"
   ]
  },
  {
   "cell_type": "markdown",
   "metadata": {},
   "source": [
    "By transforming the original list in a set using:\n",
    "\n",
    "```python\n",
    "good_stocks_set = set(good_stocks)\n",
    "```\n",
    "\n",
    "And interrogating the newly created set using `issuperset` we can answer the question."
   ]
  },
  {
   "cell_type": "markdown",
   "metadata": {},
   "source": [
    "### Checking whether a list contains any element of another list\n",
    "\n",
    "Continuing with the previous example.\n",
    "Let's now assume that we need to check whether a client's list of stocks contains any of the recommendations."
   ]
  },
  {
   "cell_type": "code",
   "execution_count": 24,
   "metadata": {},
   "outputs": [
    {
     "name": "stdout",
     "output_type": "stream",
     "text": [
      "Does client 0 contain any of the recommended stocks? True\n",
      "Does client 1 contain any of the recommended stocks? True\n"
     ]
    }
   ],
   "source": [
    "good_stocks = [\"AAPL\", \"GOOG\", \"AMZN\", \"NVDA\"]\n",
    "client0 = [\"GOOG\", \"AMZN\"]\n",
    "client1 = [\"AMZN\", \"SNAP\"]\n",
    "\n",
    "good_stocks_set = set(good_stocks)\n",
    "\n",
    "contain_any0 = bool(good_stocks_set & set(client0))\n",
    "contain_any1 = bool(good_stocks_set & set(client1))\n",
    "print(f\"Does client 0 contain any of the recommended stocks? {contain_any0}\")\n",
    "print(f\"Does client 1 contain any of the recommended stocks? {contain_any1}\")"
   ]
  },
  {
   "cell_type": "markdown",
   "metadata": {},
   "source": [
    "Using the intersection operator `&` and transforming the intersection into a boolean object using `bool` we get the correct response.\n",
    "\n",
    "The following diagram illustrates the different operations we can perform on sets and the corresponding shorthand Python operator:\n",
    "\n",
    "![Operations on sets](./pics/operations_on_sets.png)"
   ]
  },
  {
   "cell_type": "markdown",
   "metadata": {},
   "source": [
    "### Using deques for FIFO operations\n",
    "\n",
    "In certain operations you will need to deal with queues (FIFO data structures).\n",
    "\n",
    "While you can use regular lists to do so, using `deque` (pronounced \"deck\") is far more efficient.\n",
    "\n",
    "A deque is a double-ended queue (it supports insertion and removal from both ends).\n",
    "\n",
    "The following compares the cost of the `pop` operation in regular lists and deque's:"
   ]
  },
  {
   "cell_type": "code",
   "execution_count": 11,
   "metadata": {},
   "outputs": [
    {
     "name": "stdout",
     "output_type": "stream",
     "text": [
      "      100 list: 7.147988e-06 | deque: 4.379006e-06\n",
      "     1000 list: 7.647490e-04 | deque: 4.165999e-05\n",
      "    10000 list: 9.636527e-02 | deque: 4.328600e-04\n",
      "   100000 list: 8.621189e+00 | deque: 5.058431e-03\n"
     ]
    }
   ],
   "source": [
    "from collections import deque\n",
    "from timeit import timeit\n",
    "\n",
    "def time_fifo_testing(n):\n",
    "    integer_l = list(range(n))\n",
    "    integer_d = deque(range(n))\n",
    "    t_l = timeit(lambda : integer_l.pop(0), number=n)\n",
    "    t_d = timeit(lambda : integer_d.popleft(), number=n)\n",
    "    return f\"{n: >9} list: {t_l:.6e} | deque: {t_d:.6e}\"\n",
    "\n",
    "numbers = (100, 1000, 10000, 100000)\n",
    "for number in numbers:\n",
    "    print(time_fifo_testing(number))"
   ]
  },
  {
   "cell_type": "markdown",
   "metadata": {},
   "source": [
    "## Section 42 &mdash; More on Slicing\n",
    "\n",
    "When we retrieve a subsequence of a `list` we can use a technique known as slicing.\n",
    "\n",
    "In its simplest form, you do `list[start:end]`, which includes the start index, and the element at the end index is excluded:"
   ]
  },
  {
   "cell_type": "code",
   "execution_count": 25,
   "metadata": {},
   "outputs": [],
   "source": [
    "fruits = [\"apple\", \"orange\", \"banana\", \"strawberry\"]\n",
    "\n",
    "assert fruits[1:3] == [\"orange\", \"banana\"]"
   ]
  },
  {
   "cell_type": "markdown",
   "metadata": {},
   "source": [
    "The most notable variations of the simplest form includes:\n",
    "+ ignoring the start or the end index\n",
    "+ applying stride to the slicing (to retrieve evenly spaced items)"
   ]
  },
  {
   "cell_type": "code",
   "execution_count": 33,
   "metadata": {},
   "outputs": [],
   "source": [
    "fruits = [\"apple\", \"orange\", \"banana\", \"strawberry\"]\n",
    "\n",
    "assert fruits[:3] == [\"apple\", \"orange\", \"banana\"]\n",
    "assert fruits[1:] == [\"orange\", \"banana\", \"strawberry\"]\n",
    "assert fruits[:] == fruits\n",
    "\n",
    "numbers = [1, 2, 3, 4, 5, 6, 7, 8, 9, 10]\n",
    "assert numbers[2:5:2] == [3, 5]\n",
    "assert numbers[1::2] == [2, 4, 6, 8, 10]\n",
    "assert numbers[::-1] == [10, 9, 8, 7, 6, 5, 4, 3, 2, 1]\n",
    "assert list(reversed(numbers)) == [10, 9, 8, 7, 6, 5, 4, 3, 2, 1]"
   ]
  },
  {
   "cell_type": "markdown",
   "metadata": {},
   "source": [
    "Using negative strides as in `numbers[::-1]` is not recommended as it reduces the readability of the code. It is more readable to use the reverse method."
   ]
  },
  {
   "cell_type": "markdown",
   "metadata": {},
   "source": [
    "Using the slicing syntax on list is equivalent to using the `slice` constructor to create a slice object:"
   ]
  },
  {
   "cell_type": "code",
   "execution_count": 40,
   "metadata": {},
   "outputs": [
    {
     "name": "stdout",
     "output_type": "stream",
     "text": [
      "[3, 5]\n",
      "[3, 5]\n"
     ]
    }
   ],
   "source": [
    "numbers = [1, 2, 3, 4, 5, 6, 7, 8, 9, 10]\n",
    "print(numbers[2:5:2])\n",
    "\n",
    "even_slice = slice(2, 5, 2)\n",
    "print(numbers[even_slice])\n"
   ]
  },
  {
   "cell_type": "markdown",
   "metadata": {},
   "source": [
    "Named slices like the ones above are helpful when we need to make sense of complicated data found in lists.\n",
    "\n",
    "Consider the following example in which we need to create a list of tuples extracting the following information from a text string:\n",
    "\n",
    "0....5..............20..........................48......\n",
    "1001 Laundry        Wash all clothes            3\n",
    "1002 Museum Visit   Go to the Egypt exhibit     4\n",
    "1003 Do Homework    Physics and math            5\n",
    "1004 Go to Gym      Work out for 1 hour         2\n"
   ]
  },
  {
   "cell_type": "code",
   "execution_count": 48,
   "metadata": {},
   "outputs": [
    {
     "name": "stdout",
     "output_type": "stream",
     "text": [
      "[('1001', 'Laundry', 'Wash all clothes', '3'), ('1002', 'Museum Visit', 'Go to the Egypt exhibit', '4'), ('1003', 'Do Homework', 'Physics and math', '5'), ('1004', 'Go to Gym', 'Work out for 1 hour', '2')]\n"
     ]
    }
   ],
   "source": [
    "tasks = \"\"\"\n",
    "0....5..............20..........................48......\n",
    "1001 Laundry        Wash all clothes            3\n",
    "1002 Museum Visit   Go to the Egypt exhibit     4\n",
    "1003 Do Homework    Physics and math            5\n",
    "1004 Go to Gym      Work out for 1 hour         2\n",
    "\"\"\"\n",
    "\n",
    "tasks_lines = tasks.split(\"\\n\")\n",
    "\n",
    "data_lines_slice = slice(2,-1)\n",
    "id_field_slice = slice(0, 5)\n",
    "task_field_slice = slice(5, 20)\n",
    "desc_field_slice = slice(20, 48)\n",
    "urgency_field_slice = slice(48, 50)\n",
    "\n",
    "tasks = []\n",
    "for data_line in tasks_lines[data_lines_slice]:\n",
    "    id = data_line[id_field_slice].strip()\n",
    "    task = data_line[task_field_slice].strip()\n",
    "    desc = data_line[desc_field_slice].strip()\n",
    "    urgency = data_line[urgency_field_slice].strip()\n",
    "    task_tuple = (id, task, desc, urgency)\n",
    "    tasks.append(task_tuple)\n",
    "\n",
    "print(tasks)\n",
    "\n",
    "\n",
    "\n"
   ]
  },
  {
   "cell_type": "markdown",
   "metadata": {},
   "source": [
    "### Slice surgery\n",
    "\n",
    "Slice surgery is the technique in which you manipulate a list subsequence with a slice object in order to replace, extend, shrink, or remove portions of the original list.\n",
    "\n",
    "This only works with mutable sequences (such as lists)."
   ]
  },
  {
   "cell_type": "code",
   "execution_count": 51,
   "metadata": {},
   "outputs": [],
   "source": [
    "numbers = [0, 1, 2, 3, 4, 5, 6, 7, 8]\n",
    "\n",
    "\n",
    "# mutate\n",
    "numbers[:3] = [10, 11, 12]\n",
    "assert numbers == [10, 11, 12, 3, 4, 5, 6, 7, 8]\n",
    "\n",
    "# extend\n",
    "numbers[3:] = [13, 14, 15, 16, 17, 18, 19, 20]\n",
    "assert numbers == [10, 11, 12, 13, 14, 15, 16, 17, 18, 19, 20]\n",
    "\n",
    "# shrink\n",
    "numbers[:5] = [0, 1]\n",
    "assert numbers == [0, 1, 15, 16, 17, 18, 19, 20]"
   ]
  },
  {
   "cell_type": "markdown",
   "metadata": {},
   "source": [
    "Note that the subsequence doesn't have to be contiguous (i.e., you can use stride):"
   ]
  },
  {
   "cell_type": "code",
   "execution_count": 53,
   "metadata": {},
   "outputs": [],
   "source": [
    "numbers == [0, 1, 15, 16, 17, 18, 19, 20]\n",
    "\n",
    "# non-contiguous mutation\n",
    "numbers[::2] = [0, 0, 0, 0]\n",
    "assert numbers == [0, 1, 0, 16, 0, 18, 0, 20]"
   ]
  },
  {
   "cell_type": "markdown",
   "metadata": {},
   "source": [
    "For the removal you can either:\n",
    "+ use the `del` keyword\n",
    "+ use slices assigning an empty list"
   ]
  },
  {
   "cell_type": "code",
   "execution_count": 63,
   "metadata": {},
   "outputs": [],
   "source": [
    "numbers = [0, 1, 0, 16, 0, 18, 0, 20]\n",
    "\n",
    "# removal using `del`\n",
    "del numbers[:4]\n",
    "assert numbers == [0, 18, 0, 20]\n",
    "\n",
    "# removal by assigning empty list\n",
    "numbers[-2:] = []\n",
    "assert numbers == [0, 18]"
   ]
  },
  {
   "cell_type": "markdown",
   "metadata": {},
   "source": [
    "### Using positive and negative index when slicing\n",
    "\n",
    "Indexes in slices tend to create some confusion.\n",
    "\n",
    "In this section we will consider the following list of data representing the monthly revenue of a company by month:\n",
    "\n",
    "```python\n",
    "revenue_by_month = [95, 100, 80, 93, 92, 110, 102, 88, 96, 98, 115, 120]\n",
    "```\n",
    "\n",
    "Let's see how to obtain:\n",
    "+ revenue in January\n",
    "+ revenues in Q2\n",
    "+ revenue in Nov\n",
    "+ revenues in Q4"
   ]
  },
  {
   "cell_type": "code",
   "execution_count": 70,
   "metadata": {},
   "outputs": [],
   "source": [
    "revenue_by_month = [95, 100, 80, 93, 92, 110, 102, 88, 96, 98, 115, 120]\n",
    "\n",
    "# revenue in Jan\n",
    "revenue_jan = revenue_by_month[0]\n",
    "assert revenue_jan == 95\n",
    "\n",
    "# revenue in Q2\n",
    "revenues_q2 = revenue_by_month[3:6]\n",
    "assert revenues_q2 == [93, 92, 110]\n",
    "\n",
    "# revenue in Nov\n",
    "revenue_nov = revenue_by_month[-2]\n",
    "assert revenue_nov == 115\n",
    "\n",
    "revenue_nov = revenue_by_month[10]\n",
    "assert revenue_nov == 115\n",
    "\n",
    "# revenues in Q4\n",
    "revenues_q4 = revenue_by_month[9:]\n",
    "assert revenues_q4 == [98, 115, 120]\n",
    "\n",
    "revenues_q4 = revenue_by_month[-3:]\n",
    "assert revenues_q4 == [98, 115, 120]\n"
   ]
  },
  {
   "cell_type": "markdown",
   "metadata": {},
   "source": [
    "Note that negative indexing starts with `-1` to identify the last element of the list. That is `revenue_by_month[-1]` is the revenue for December.\n",
    "\n",
    "This can be applied to individual indices as seen above, or to slices:\n",
    "\n",
    "```python\n",
    "revenues_q4 = revenue_by_month[-3:]\n",
    "```"
   ]
  },
  {
   "cell_type": "markdown",
   "metadata": {},
   "source": [
    "It's also very common to mix positive and negative indices:"
   ]
  },
  {
   "cell_type": "code",
   "execution_count": 71,
   "metadata": {},
   "outputs": [],
   "source": [
    "# revenues excluding Jan and Dec\n",
    "revenue_by_month = [95, 100, 80, 93, 92, 110, 102, 88, 96, 98, 115, 120]\n",
    "\n",
    "mid_revenues = revenue_by_month[1:-1]\n",
    "assert mid_revenues == [100, 80, 93, 92, 110, 102, 88, 96, 98, 115]\n"
   ]
  },
  {
   "cell_type": "markdown",
   "metadata": {},
   "source": [
    "## Section 43 &mdash; Finding items in a sequence\n",
    "\n",
    "In Python, to check an item's presence on a sequence you use the `in` keyword:\n",
    "\n",
    "```python\n",
    "item in sequence # returns True if present, False otherwise\n",
    "```\n"
   ]
  },
  {
   "cell_type": "code",
   "execution_count": 73,
   "metadata": {},
   "outputs": [],
   "source": [
    "assert (8 in [1, 2, 3, 4, 5]) == False\n",
    "\n",
    "assert (\"cool\" in \"Python is cool!\") == True\n",
    "\n",
    "assert (404 in (404, \"Page Not Found\")) == True"
   ]
  },
  {
   "cell_type": "markdown",
   "metadata": {},
   "source": [
    "To locate an item you use the `index` method which accepts the object to be searched:"
   ]
  },
  {
   "cell_type": "code",
   "execution_count": 74,
   "metadata": {},
   "outputs": [],
   "source": [
    "assert [1, 2, 3, 4, 5].index(4) == 3  # 4 is in index 3\n",
    "\n",
    "assert (404, \"Page Not Found\").index(404) == 0\n",
    "\n",
    "assert \"Python is cool!\".index(\"cool\") == 10"
   ]
  },
  {
   "cell_type": "markdown",
   "metadata": {},
   "source": [
    "The `index` method raises a `ValueError` when the item is not found:"
   ]
  },
  {
   "cell_type": "code",
   "execution_count": 76,
   "metadata": {},
   "outputs": [
    {
     "name": "stdout",
     "output_type": "stream",
     "text": [
      "Oops: 8 is not in list\n"
     ]
    }
   ],
   "source": [
    "try:\n",
    "    [1, 2, 3, 4, 5].index(8)\n",
    "except ValueError as e:\n",
    "    print(f\"Oops: {e}\")"
   ]
  },
  {
   "cell_type": "markdown",
   "metadata": {},
   "source": [
    "Python uses the EAFP principle (Easier to Ask for Forgiveness than Permission), instead of the LBYL (Look Before You Leap) as other programming languages."
   ]
  },
  {
   "cell_type": "markdown",
   "metadata": {},
   "source": [
    "When dealing with substrings, you can use the `find` and `rfind` methods which returns `-1` when the substring is not found:"
   ]
  },
  {
   "cell_type": "code",
   "execution_count": 78,
   "metadata": {},
   "outputs": [],
   "source": [
    "assert \"Python is cool!\".index(\"cool\") == 10\n",
    "assert \"Python is cool!\".find(\"cool\") == 10\n",
    "assert \"Python is cool!\".find(\"Go\") == -1\n"
   ]
  },
  {
   "cell_type": "markdown",
   "metadata": {},
   "source": [
    "### Finding an instance of a custom class in a list\n",
    "\n",
    "Consider the following `Task` class and a few instances held in a `tasks` list.\n",
    "\n",
    "```python\n",
    "class Task:\n",
    "   def __init__(self, title, urgency):\n",
    "       self.title = title\n",
    "       self.urgency = urgency\n",
    "\n",
    "\n",
    "tasks = [\n",
    "   Task(\"Laundry\", 3),\n",
    "   Task(\"Museum\", 4),\n",
    "   Task(\"Homework\", 5),\n",
    "   Task(\"Ticket\", 2)\n",
    "]\n",
    "```\n",
    "\n",
    "We need to locate the task index (if any) whose urgency is 5:"
   ]
  },
  {
   "cell_type": "code",
   "execution_count": 81,
   "metadata": {},
   "outputs": [
    {
     "name": "stdout",
     "output_type": "stream",
     "text": [
      "No Task found\n"
     ]
    }
   ],
   "source": [
    "class Task:\n",
    "   def __init__(self, title, urgency):\n",
    "       self.title = title\n",
    "       self.urgency = urgency\n",
    "\n",
    "\n",
    "tasks = [\n",
    "   Task(\"Laundry\", 3),\n",
    "   Task(\"Museum\", 4),\n",
    "   Task(\"Homework\", 5),\n",
    "   Task(\"Ticket\", 2)\n",
    "]\n",
    "\n",
    "\n",
    "needed_urgency = 5\n",
    "needed_task_index = None\n",
    "\n",
    "for i in range(len(tasks)):\n",
    "    task = tasks[i]\n",
    "    if task.urgency == needed_urgency:\n",
    "        needed_task_index = i\n",
    "        break\n",
    "\n",
    "if needed_task_index:\n",
    "    print(f\"Task found: {needed_task_index}\")\n",
    "else:\n",
    "    print(f\"No Task found\")\n",
    "\n"
   ]
  },
  {
   "cell_type": "markdown",
   "metadata": {},
   "source": [
    "With a list of custom class instances, the `index` method won't work:"
   ]
  },
  {
   "cell_type": "code",
   "execution_count": 3,
   "metadata": {},
   "outputs": [
    {
     "name": "stdout",
     "output_type": "stream",
     "text": [
      "Oops: <__main__.Task object at 0x7f0a380f0b20> is not in list\n"
     ]
    }
   ],
   "source": [
    "class Task:\n",
    "   def __init__(self, title, urgency):\n",
    "       self.title = title\n",
    "       self.urgency = urgency\n",
    "\n",
    "\n",
    "tasks = [\n",
    "   Task(\"Laundry\", 3),\n",
    "   Task(\"Museum\", 4),\n",
    "   Task(\"Homework\", 5),\n",
    "   Task(\"Ticket\", 2)\n",
    "]\n",
    "\n",
    "needed_task = Task(\"Homework\", 5)\n",
    "try:\n",
    "    tasks.index(needed_task)\n",
    "except ValueError as e:\n",
    "    print(f\"Oops: {e}\")\n",
    "\n",
    "assert id(tasks[2]) != id(needed_task)"
   ]
  },
  {
   "cell_type": "markdown",
   "metadata": {},
   "source": [
    "## Section 44 &mdash; More on Iterables and Iterators\n",
    "\n",
    "*Iterators* are a special data type from which we can retrieve each of their elements through a process called *iteration*.\n",
    "\n",
    "Under the hood is performed with two functions `iter` and `next`:\n",
    "\n",
    "+ An iterator is created from an iterable using `iter`.\n",
    "+ Elements are produced using `next`. Calling `next` on the iterator retrieves the next element if available.\n",
    "+ When all the elements have been produced, the `StopIteration` exception is raised to signal that `next` cannot produce more elements."
   ]
  },
  {
   "cell_type": "markdown",
   "metadata": {},
   "source": [
    "### Manually triggering iteration on an iterable with an iterator\n",
    "\n",
    "The following sequence of steps illustrates how to iterate over the elements of an iterable using `iter` and `next`:"
   ]
  },
  {
   "cell_type": "code",
   "execution_count": 9,
   "metadata": {},
   "outputs": [
    {
     "name": "stdout",
     "output_type": "stream",
     "text": [
      "elem1=task0\n",
      "elem2=task1\n",
      "elem3=task2\n",
      "No more elements: \n"
     ]
    }
   ],
   "source": [
    "tasks = [\"task0\", \"task1\", \"task2\"]\n",
    "\n",
    "tasks_iterator = iter(tasks)\n",
    "\n",
    "elem1 = next(tasks_iterator)\n",
    "print(f\"elem1={elem1}\")\n",
    "\n",
    "elem2 = next(tasks_iterator)\n",
    "print(f\"elem2={elem2}\")\n",
    "\n",
    "elem3 = next(tasks_iterator)\n",
    "print(f\"elem3={elem3}\")\n",
    "\n",
    "try:\n",
    "    nxt_elem_not_exists = next(tasks_iterator)\n",
    "except StopIteration as e:\n",
    "    print(f\"No more elements: {e}\")"
   ]
  },
  {
   "cell_type": "markdown",
   "metadata": {},
   "source": [
    "Obviously, you will never need to follow that approach, as Python provides automatic ways to handle iteration with `for` loops:"
   ]
  },
  {
   "cell_type": "code",
   "execution_count": null,
   "metadata": {},
   "outputs": [],
   "source": [
    "tasks = [\"task0\", \"task1\", \"task2\"]\n",
    "\n",
    "for task in tasks:\n",
    "    print(task)"
   ]
  },
  {
   "cell_type": "markdown",
   "metadata": {},
   "source": [
    "### Checking if an object is iterable\n",
    "\n",
    "You can determine if an object is iterable using the EAFP principle (Easier to Ask for Forgiveness than Permission):"
   ]
  },
  {
   "cell_type": "code",
   "execution_count": 14,
   "metadata": {},
   "outputs": [
    {
     "name": "stdout",
     "output_type": "stream",
     "text": [
      "False\n",
      "True\n",
      "True\n",
      "True\n",
      "True\n"
     ]
    }
   ],
   "source": [
    "def is_iterable(obj):\n",
    "    try:\n",
    "        _ = iter(obj)\n",
    "    except TypeError:\n",
    "        return False\n",
    "    else:\n",
    "        return True\n",
    "\n",
    "print(is_iterable(5))\n",
    "print(is_iterable([1, 2, 3]))\n",
    "print(is_iterable(\"Hello\"))\n",
    "print(is_iterable((1, 2, \"Hello\")))\n",
    "print(is_iterable({1: \"one\", 2: \"two\"}))"
   ]
  },
  {
   "cell_type": "markdown",
   "metadata": {},
   "source": [
    "### Creating iterables programmatically using `list`, `dict`, `tuple` and `set`\n",
    "\n",
    "While you can use literals to create lists, dictionaries, and sets, many times you'll need to use the `list`, `dict`, and `set` functions to create them:"
   ]
  },
  {
   "cell_type": "code",
   "execution_count": 18,
   "metadata": {},
   "outputs": [],
   "source": [
    "integers_list = list(range(10))\n",
    "assert integers_list == [0, 1, 2, 3, 4, 5, 6, 7, 8, 9]\n",
    "\n",
    "dict_items = [(\"one\", 1), (\"two\", 2), (\"three\", 3), (\"catorce\", 14)]\n",
    "integers_dict = dict(dict_items)\n",
    "assert integers_dict == {\"one\": 1, \"two\": 2, \"three\": 3, \"catorce\": 14}\n",
    "\n",
    "some_integers = (1, 2, 4, 2, 5, 3, 4, 6, 7, 1, 2, 5)\n",
    "unique_integers = set(some_integers)\n",
    "assert unique_integers == {1, 2, 3, 4, 5, 6, 7}"
   ]
  },
  {
   "cell_type": "markdown",
   "metadata": {},
   "source": [
    "### Creating a list of letters from a string\n",
    "\n",
    "Strings are iterable. Suppose that we have a str object \"ABCDE\". What's the best way to create a list of its characters as in `[\"A\", \"B\", \"C\", \"D\", E\"]`?"
   ]
  },
  {
   "cell_type": "markdown",
   "metadata": {},
   "source": [
    "You can just create a list out of the string:"
   ]
  },
  {
   "cell_type": "code",
   "execution_count": 19,
   "metadata": {},
   "outputs": [],
   "source": [
    "str = \"ABCDE\"\n",
    "\n",
    "assert list(str) == [\"A\", \"B\", \"C\", \"D\", \"E\"]"
   ]
  },
  {
   "cell_type": "markdown",
   "metadata": {},
   "source": [
    "### Using `map` to convert the elements of a list\n",
    "\n",
    "Suppose that we have a list of strings representing floating point numbers. Transform them into the equivalent list of numbers.\n",
    "\n",
    "```python\n",
    "[\"1.23\", \"4.56\", \"7.89\"]\n",
    "```"
   ]
  },
  {
   "cell_type": "code",
   "execution_count": 20,
   "metadata": {},
   "outputs": [],
   "source": [
    "nums_str = [\"1.23\", \"4.56\", \"7.89\"]\n",
    "\n",
    "nums_float = list(map(float, nums_str))\n",
    "assert nums_float == [1.23, 4.56, 7.89]"
   ]
  },
  {
   "cell_type": "markdown",
   "metadata": {},
   "source": [
    "### Using `zip` to create a dictionary from two lists\n",
    "\n",
    "Suppose we have two lists with the id numbers and titles of certain tasks to be performed. Create a dictionary using `zip` in which the keys are the task IDs and the titles are the corresponding values:"
   ]
  },
  {
   "cell_type": "code",
   "execution_count": 21,
   "metadata": {},
   "outputs": [],
   "source": [
    "id_numbers = [101, 102, 103]\n",
    "titles = [\"Laundry\", \"Homework\", \"Soccer\"]\n",
    "\n",
    "tasks = dict(zip(id_numbers, titles))\n",
    "\n",
    "assert tasks == {101: \"Laundry\", 102: \"Homework\", 103: \"Soccer\"}"
   ]
  },
  {
   "cell_type": "markdown",
   "metadata": {},
   "source": [
    "## Section 45 &mdash; More on list comprehensions, dictionary comprehensions, and set comprehensions\n",
    "\n",
    "Comprehensions are a concise way of creating lists, dictionaries, and sets.\n",
    "\n",
    "We've already learned the basics of list comprehensions:"
   ]
  },
  {
   "cell_type": "code",
   "execution_count": 22,
   "metadata": {},
   "outputs": [],
   "source": [
    "numbers = [1, 2, 3, 4]\n",
    "squares = [x * x for x in numbers]\n",
    "\n",
    "assert squares == [1, 4, 9, 16]"
   ]
  },
  {
   "cell_type": "markdown",
   "metadata": {},
   "source": [
    "### Creating a list of elements from a named tuple\n",
    "\n",
    "Consider the following list of named tuples:\n",
    "\n",
    "```python\n",
    "from collections import namedtuple\n",
    "\n",
    "Task = namedtuple(\"Task\", \"title, description, urgency\")\n",
    " \n",
    "tasks = [\n",
    "    Task(\"Homework\", \"Physics and math\", 5),\n",
    "    Task(\"Laundry\", \"Wash clothes\", 3),\n",
    "    Task(\"Museum\", \"Egypt exhibit\", 4)\n",
    "]\n",
    "```\n",
    "\n",
    "Create a list with all the titles of that list using a list comprehension:"
   ]
  },
  {
   "cell_type": "code",
   "execution_count": 27,
   "metadata": {},
   "outputs": [],
   "source": [
    "from collections import namedtuple\n",
    "\n",
    "Task = namedtuple(\"Task\", [\"title\", \"description\", \"urgency\"])\n",
    "\n",
    "tasks = [\n",
    "    Task(\"Homework\", \"Physics and math\", 5),\n",
    "    Task(\"Laundry\", \"Wash clothes\", 3),\n",
    "    Task(\"Museum\", \"Egypt exhibit\", 4)\n",
    "]\n",
    "\n",
    "task_titles = [task.title for task in tasks]\n",
    "\n",
    "assert task_titles == [\"Homework\", \"Laundry\", \"Museum\"]"
   ]
  },
  {
   "cell_type": "markdown",
   "metadata": {},
   "source": [
    "Alternatively, we could have used `map` and a custom function:"
   ]
  },
  {
   "cell_type": "code",
   "execution_count": 28,
   "metadata": {},
   "outputs": [],
   "source": [
    "from collections import namedtuple\n",
    "\n",
    "Task = namedtuple(\"Task\", [\"title\", \"description\", \"urgency\"])\n",
    "\n",
    "tasks = [\n",
    "    Task(\"Homework\", \"Physics and math\", 5),\n",
    "    Task(\"Laundry\", \"Wash clothes\", 3),\n",
    "    Task(\"Museum\", \"Egypt exhibit\", 4)\n",
    "]\n",
    "\n",
    "def get_title(task):\n",
    "    return task.title\n",
    "\n",
    "task_titles = list(map(get_title, tasks))\n",
    "\n",
    "assert task_titles == [\"Homework\", \"Laundry\", \"Museum\"]"
   ]
  },
  {
   "cell_type": "markdown",
   "metadata": {},
   "source": [
    "### Creating a dictionary from an iterable using dictionary comprehension\n",
    "\n",
    "Using the following list as our starting point:\n",
    "```python\n",
    "tasks = [\n",
    "   {'title': 'Laundry', 'desc': 'Wash clothes', 'urgency': 3},\n",
    "   {'title': 'Homework', 'desc': 'Physics + Math', 'urgency': 5},\n",
    "   {'title': 'Museum', 'desc': 'Egyptian things', 'urgency': 2}\n",
    "]\n",
    "```\n",
    "\n",
    "Create a dictionary object in which the titles are the keys, and the description are the values using a dictionary comprehension.\n"
   ]
  },
  {
   "cell_type": "code",
   "execution_count": 1,
   "metadata": {},
   "outputs": [],
   "source": [
    "tasks = [\n",
    "   {'title': 'Laundry', 'desc': 'Wash clothes', 'urgency': 3},\n",
    "   {'title': 'Homework', 'desc': 'Physics + Math', 'urgency': 5},\n",
    "   {'title': 'Museum', 'desc': 'Egyptian things', 'urgency': 2}\n",
    "]\n",
    "\n",
    "title_dict = {task[\"title\"]: task[\"desc\"] for task in tasks}\n",
    "\n",
    "assert title_dict == {\n",
    "    \"Laundry\": \"Wash clothes\",\n",
    "    \"Homework\": \"Physics + Math\",\n",
    "    \"Museum\": \"Egyptian things\"\n",
    "    }"
   ]
  },
  {
   "cell_type": "markdown",
   "metadata": {},
   "source": [
    "### Creating a set from iterables using set comprehension\n",
    "\n",
    "Using the following list as our starting point:\n",
    "```python\n",
    "tasks = [\n",
    "   {'title': 'Laundry', 'desc': 'Wash clothes', 'urgency': 3},\n",
    "   {'title': 'Homework', 'desc': 'Physics + Math', 'urgency': 5},\n",
    "   {'title': 'Museum', 'desc': 'Egyptian things', 'urgency': 2}\n",
    "]\n",
    "```\n",
    "\n",
    "Create a set object with the task titles."
   ]
  },
  {
   "cell_type": "code",
   "execution_count": 3,
   "metadata": {},
   "outputs": [],
   "source": [
    "tasks = [\n",
    "   {'title': 'Laundry', 'desc': 'Wash clothes', 'urgency': 3},\n",
    "   {'title': 'Homework', 'desc': 'Physics + Math', 'urgency': 5},\n",
    "   {'title': 'Museum', 'desc': 'Egyptian things', 'urgency': 2}\n",
    "]\n",
    "\n",
    "titles_set = {task[\"title\"] for task in tasks}\n",
    "\n",
    "assert titles_set == {\"Laundry\", \"Homework\", \"Museum\"}"
   ]
  },
  {
   "cell_type": "markdown",
   "metadata": {},
   "source": [
    "### Applying a filtering condition to an iterable\n",
    "\n",
    "Using the following list as our starting point:\n",
    "```python\n",
    "tasks = [\n",
    "   {'title': 'Laundry', 'desc': 'Wash clothes', 'urgency': 3},\n",
    "   {'title': 'Homework', 'desc': 'Physics + Math', 'urgency': 5},\n",
    "   {'title': 'Museum', 'desc': 'Egyptian things', 'urgency': 2}\n",
    "]\n",
    "```\n",
    "\n",
    "Filter out all the tasks whose urgency is less than or equal to 3."
   ]
  },
  {
   "cell_type": "code",
   "execution_count": 4,
   "metadata": {},
   "outputs": [],
   "source": [
    "tasks = [\n",
    "   {'title': 'Laundry', 'desc': 'Wash clothes', 'urgency': 3},\n",
    "   {'title': 'Homework', 'desc': 'Physics + Math', 'urgency': 5},\n",
    "   {'title': 'Museum', 'desc': 'Egyptian things', 'urgency': 2}\n",
    "]\n",
    "\n",
    "urgent_tasks = [task for task in tasks if task[\"urgency\"] > 3]\n",
    "\n",
    "assert urgent_tasks == [{'title': 'Homework', 'desc': 'Physics + Math', 'urgency': 5}]"
   ]
  },
  {
   "cell_type": "markdown",
   "metadata": {},
   "source": [
    "An more functional way to solve that would be using the `filter` higher-order function:"
   ]
  },
  {
   "cell_type": "code",
   "execution_count": 35,
   "metadata": {},
   "outputs": [],
   "source": [
    "tasks = [\n",
    "   {'title': 'Laundry', 'desc': 'Wash clothes', 'urgency': 3},\n",
    "   {'title': 'Homework', 'desc': 'Physics + Math', 'urgency': 5},\n",
    "   {'title': 'Museum', 'desc': 'Egyptian things', 'urgency': 2}\n",
    "]\n",
    "\n",
    "urgent_tasks = list(filter(lambda task: task[\"urgency\"] > 3, tasks))\n",
    "\n",
    "assert urgent_tasks == [{'title': 'Homework', 'desc': 'Physics + Math', 'urgency': 5}]"
   ]
  },
  {
   "cell_type": "markdown",
   "metadata": {},
   "source": [
    "Note that we had to use `list` to materialize the iterable into a list, because filter (as well as chain and others) return an Iterable."
   ]
  },
  {
   "cell_type": "markdown",
   "metadata": {},
   "source": [
    "### Using nested loops in comprehensions\n",
    "\n",
    "Using the following list as our starting point:\n",
    "```python\n",
    "tasks = [\n",
    "   {'title': 'Laundry', 'desc': 'Wash clothes', 'urgency': 3},\n",
    "   {'title': 'Homework', 'desc': 'Physics + Math', 'urgency': 5},\n",
    "   {'title': 'Museum', 'desc': 'Egyptian things', 'urgency': 2}\n",
    "]\n",
    "```\n",
    "\n",
    "Create a flattened list of items, in which all the individual task values are elements in the resulting list.\n"
   ]
  },
  {
   "cell_type": "markdown",
   "metadata": {},
   "source": [
    "Let's take a stab at it with the regular nested loop."
   ]
  },
  {
   "cell_type": "code",
   "execution_count": 7,
   "metadata": {},
   "outputs": [
    {
     "name": "stdout",
     "output_type": "stream",
     "text": [
      "Laundry\n",
      "Wash clothes\n",
      "3\n",
      "Homework\n",
      "Physics + Math\n",
      "5\n",
      "Museum\n",
      "Egyptian things\n",
      "2\n"
     ]
    }
   ],
   "source": [
    "tasks = [\n",
    "   {'title': 'Laundry', 'desc': 'Wash clothes', 'urgency': 3},\n",
    "   {'title': 'Homework', 'desc': 'Physics + Math', 'urgency': 5},\n",
    "   {'title': 'Museum', 'desc': 'Egyptian things', 'urgency': 2}\n",
    "]\n",
    "\n",
    "for task in tasks:\n",
    "    for item in task.values():\n",
    "        print(item)"
   ]
  },
  {
   "cell_type": "markdown",
   "metadata": {},
   "source": [
    "Thus, the non-Pythonic way to get that resulting list would be:"
   ]
  },
  {
   "cell_type": "code",
   "execution_count": 9,
   "metadata": {},
   "outputs": [],
   "source": [
    "tasks = [\n",
    "   {'title': 'Laundry', 'desc': 'Wash clothes', 'urgency': 3},\n",
    "   {'title': 'Homework', 'desc': 'Physics + Math', 'urgency': 5},\n",
    "   {'title': 'Museum', 'desc': 'Egyptian things', 'urgency': 2}\n",
    "]\n",
    "\n",
    "flattened_list = []\n",
    "for task in tasks:\n",
    "    for item in task.values():\n",
    "        flattened_list.append(item)\n",
    "\n",
    "assert flattened_list == [\n",
    "    \"Laundry\", \"Wash clothes\", 3,\n",
    "    \"Homework\", \"Physics + Math\", 5,\n",
    "    \"Museum\", \"Egyptian things\", 2\n",
    "]"
   ]
  },
  {
   "cell_type": "markdown",
   "metadata": {},
   "source": [
    "In a more pythonic way, you can use embedded for loops in a comprehension:"
   ]
  },
  {
   "cell_type": "code",
   "execution_count": 10,
   "metadata": {},
   "outputs": [],
   "source": [
    "tasks = [\n",
    "   {'title': 'Laundry', 'desc': 'Wash clothes', 'urgency': 3},\n",
    "   {'title': 'Homework', 'desc': 'Physics + Math', 'urgency': 5},\n",
    "   {'title': 'Museum', 'desc': 'Egyptian things', 'urgency': 2}\n",
    "]\n",
    "\n",
    "flattened_list = [item for task in tasks for item in task.values()]\n",
    "\n",
    "assert flattened_list == [\n",
    "    \"Laundry\", \"Wash clothes\", 3,\n",
    "    \"Homework\", \"Physics + Math\", 5,\n",
    "    \"Museum\", \"Egyptian things\", 2\n",
    "]"
   ]
  },
  {
   "cell_type": "markdown",
   "metadata": {},
   "source": [
    "Note that the for loops are written in the same order in which you'd write them in the non-pythonic approach."
   ]
  },
  {
   "cell_type": "markdown",
   "metadata": {},
   "source": [
    "### When you shouldn't use comprehensions\n",
    "\n",
    "You shouldn't need to use comprehensions in the following cases.\n",
    "\n",
    "+ When you are not going to manipulate the items, and instead you will be transforming an iterable into another:"
   ]
  },
  {
   "cell_type": "code",
   "execution_count": null,
   "metadata": {},
   "outputs": [],
   "source": [
    "numbers = [1, 2, 4 ,2, 4, 5, 1, 2, 3, 4]\n",
    "\n",
    "nums_set = set(numbers) # no need to use a set comprehension"
   ]
  },
  {
   "cell_type": "markdown",
   "metadata": {},
   "source": [
    "+ When the expression within the comprehension is too complex.\n",
    "\n",
    "For example, consider the following lists holding the style, color and size. We need to create all the possible variations:"
   ]
  },
  {
   "cell_type": "code",
   "execution_count": 13,
   "metadata": {},
   "outputs": [
    {
     "name": "stdout",
     "output_type": "stream",
     "text": [
      "['long-sleeve white L', 'long-sleeve white S', 'long-sleeve black L', 'long-sleeve black S', 'v-neck white L', 'v-neck white S', 'v-neck black L', 'v-neck black S']\n"
     ]
    }
   ],
   "source": [
    "styles = ['long-sleeve', 'v-neck']\n",
    "colors = ['white', 'black']\n",
    "sizes = ['L', 'S']\n",
    "\n",
    "# Not recommended: hard to read and debug\n",
    "variations = [\" \".join([style, color, size]) for style in styles for color in colors for size in sizes]\n",
    "\n",
    "print(variations)"
   ]
  },
  {
   "cell_type": "markdown",
   "metadata": {},
   "source": [
    "### Is tuple comprehension a thing?\n",
    "\n",
    "Consider the following code in which a jr developer is trying to use the comprehension syntax to create a tuple out of a list of objects:\n",
    "\n",
    "```python\n",
    "task1 = [\"Laundry\", \"Wash clothes\", 3]\n",
    "task_tuple = (item for item in task1)\n",
    "```\n",
    "\n",
    "Is task_tuple a tuple?"
   ]
  },
  {
   "cell_type": "markdown",
   "metadata": {},
   "source": [
    "No. There's no such thing as a tuple comprehension.\n",
    "\n",
    "In fact, that syntax creates a generator object:"
   ]
  },
  {
   "cell_type": "code",
   "execution_count": 17,
   "metadata": {},
   "outputs": [
    {
     "name": "stdout",
     "output_type": "stream",
     "text": [
      "<class 'generator'>\n"
     ]
    }
   ],
   "source": [
    "task1 = [\"Laundry\", \"Wash clothes\", 3]\n",
    "\n",
    "task_tuple = (item for item in task1)\n",
    "\n",
    "print(type(task_tuple))"
   ]
  },
  {
   "cell_type": "markdown",
   "metadata": {},
   "source": [
    "If you want to create a tuple out of the task list you have to do:"
   ]
  },
  {
   "cell_type": "code",
   "execution_count": 18,
   "metadata": {},
   "outputs": [],
   "source": [
    "task1 = [\"Laundry\", \"Wash clothes\", 3]\n",
    "\n",
    "task_tuple = tuple(task1)\n",
    "\n",
    "assert task_tuple == (\"Laundry\", \"Wash clothes\", 3)"
   ]
  },
  {
   "cell_type": "markdown",
   "metadata": {},
   "source": [
    "### Enumerating items with `enumerate`\n",
    "\n",
    "Consider the following list of named tuples with fields \"title\", \"description\", and \"urgency\".\n",
    "\n",
    "```python\n",
    "tasks = [\n",
    "   Task(\"Homework\", \"Physics and math\", 5),\n",
    "   Task(\"Laundry\", \"Wash clothes\", 3),\n",
    "   Task(\"Museum\", \"Egypt exhibit\", 4)\n",
    "]\n",
    "```\n",
    "\n",
    "Create a basic report showing:\n",
    "\n",
    "```\n",
    "Task 1: Homework   Physics and math   5\n",
    "Task 2: Laundry    Wash clothes       3\n",
    "Task 3: Museum     Egypt exhibit      4\n",
    "```"
   ]
  },
  {
   "cell_type": "code",
   "execution_count": 20,
   "metadata": {},
   "outputs": [
    {
     "name": "stdout",
     "output_type": "stream",
     "text": [
      "Task 1: Homework     Physics and math      5 \n",
      "Task 2: Laundry      Wash clothes          3 \n",
      "Task 3: Museum       Egypt exhibit         4 \n"
     ]
    }
   ],
   "source": [
    "from collections import namedtuple\n",
    "\n",
    "Task = namedtuple(\"Task\", [\"title\", \"description\", \"urgency\"])\n",
    "\n",
    "tasks = [\n",
    "   Task(\"Homework\", \"Physics and math\", 5),\n",
    "   Task(\"Laundry\", \"Wash clothes\", 3),\n",
    "   Task(\"Museum\", \"Egypt exhibit\", 4)\n",
    "]\n",
    "\n",
    "for i, task in enumerate(tasks):\n",
    "    print(f\"Task {i + 1}: {task.title: <12} {task.description: <20} {task.urgency:^3}\")\n"
   ]
  },
  {
   "cell_type": "markdown",
   "metadata": {},
   "source": [
    "### Reversing items in an iterable with `reversed`\n",
    "\n",
    "\n",
    "Consider the following list of named tuples with fields \"title\", \"description\", and \"urgency\".\n",
    "\n",
    "```python\n",
    "tasks = [\n",
    "   Task(\"Homework\", \"Physics and math\", 5),\n",
    "   Task(\"Laundry\", \"Wash clothes\", 3),\n",
    "   Task(\"Museum\", \"Egypt exhibit\", 4)\n",
    "]\n",
    "```\n",
    "\n",
    "We want to create a report where the tasks show up in reversed order, while keeping the original list untouched.\n",
    "\n",
    "```\n",
    "Task: Task(title='Museum', description='Egypt exhibit', urgency=4)\n",
    "Task: Task(title='Laundry', description='Wash clothes', urgency=3)\n",
    "Task: Task(title='Homework', description='Physics and math', urgency=5)\n",
    "```"
   ]
  },
  {
   "cell_type": "markdown",
   "metadata": {},
   "source": [
    "The solution is to use `reversed`, which returns a copy of the original list in which the items are reversed:"
   ]
  },
  {
   "cell_type": "code",
   "execution_count": 21,
   "metadata": {},
   "outputs": [
    {
     "name": "stdout",
     "output_type": "stream",
     "text": [
      "Task(title='Museum', description='Egypt exhibit', urgency=4)\n",
      "Task(title='Laundry', description='Wash clothes', urgency=3)\n",
      "Task(title='Homework', description='Physics and math', urgency=5)\n"
     ]
    }
   ],
   "source": [
    "from collections import namedtuple\n",
    "\n",
    "Task = namedtuple(\"Task\", [\"title\", \"description\", \"urgency\"])\n",
    "\n",
    "tasks = [\n",
    "   Task(\"Homework\", \"Physics and math\", 5),\n",
    "   Task(\"Laundry\", \"Wash clothes\", 3),\n",
    "   Task(\"Museum\", \"Egypt exhibit\", 4)\n",
    "]\n",
    "\n",
    "for task in reversed(tasks):\n",
    "    print(task)"
   ]
  },
  {
   "cell_type": "markdown",
   "metadata": {},
   "source": [
    "### Combining more than two iterables with `zip`\n",
    "\n",
    "Consider the following iterables consisting of a list of named tuples with fields \"title\", \"description\", and \"urgency\", a list of dates and a list of locations.\n",
    "\n",
    "```python\n",
    "tasks = [\n",
    "   Task(\"Homework\", \"Physics and math\", 5),\n",
    "   Task(\"Laundry\", \"Wash clothes\", 3),\n",
    "   Task(\"Museum\", \"Egypt exhibit\", 4)\n",
    "]\n",
    "dates = [\"May 5, 2022\", \"May 9, 2022\", \"May 11, 2022\"]\n",
    "locations = [\"School\", \"Home\", \"Downtown\"]\n",
    "```\n",
    "\n",
    "Create the following report: \n",
    "\n",
    "```\n",
    "Homework: by May 5, 2022 at School\n",
    "Laundry: by May 9, 2022 at Home\n",
    "Museum: by May 11, 2022 at Downtown\n",
    "```"
   ]
  },
  {
   "cell_type": "code",
   "execution_count": 23,
   "metadata": {},
   "outputs": [
    {
     "name": "stdout",
     "output_type": "stream",
     "text": [
      "Homework: by May 5, 2022, at School\n",
      "Laundry: by May 9, 2022, at Home\n",
      "Museum: by May 11, 2022, at Downtown\n"
     ]
    }
   ],
   "source": [
    "from collections import namedtuple\n",
    "\n",
    "Task = namedtuple(\"Task\", [\"title\", \"description\", \"urgency\"])\n",
    "\n",
    "tasks = [\n",
    "   Task(\"Homework\", \"Physics and math\", 5),\n",
    "   Task(\"Laundry\", \"Wash clothes\", 3),\n",
    "   Task(\"Museum\", \"Egypt exhibit\", 4)\n",
    "]\n",
    "dates = [\"May 5, 2022\", \"May 9, 2022\", \"May 11, 2022\"]\n",
    "locations = [\"School\", \"Home\", \"Downtown\"]\n",
    "\n",
    "for task, date, location in zip(tasks, dates, locations):\n",
    "    print(f\"{task.title}: by {date}, at {location}\")"
   ]
  },
  {
   "cell_type": "markdown",
   "metadata": {},
   "source": [
    "### Chaining multiple iterables with `chain`\n",
    "\n",
    "Consider the following lists of named tuples with fields \"title\", \"description\", and \"urgency\" that describe the outstanding and completed tasks:\n",
    "\n",
    "```python\n",
    "tasks = [\n",
    "   Task(\"Homework\", \"Physics and math\", 5),\n",
    "   Task(\"Laundry\", \"Wash clothes\", 3),\n",
    "   Task(\"Museum\", \"Egypt exhibit\", 4)\n",
    "]\n",
    "\n",
    "completed_tasks = [\n",
    "   Task(\"Toaster\", \"Clean the toaster\", 2),\n",
    "   Task(\"Camera\", \"Export photos\", 4),\n",
    "   Task(\"Floor\", \"Mop the floor\", 3)\n",
    "]\n",
    "```\n",
    "\n",
    "Create a report that shows the titles from both lists."
   ]
  },
  {
   "cell_type": "code",
   "execution_count": 30,
   "metadata": {},
   "outputs": [
    {
     "name": "stdout",
     "output_type": "stream",
     "text": [
      "Homework\n",
      "Laundry\n",
      "Museum\n",
      "Toaster\n",
      "Camera\n",
      "Floor\n"
     ]
    }
   ],
   "source": [
    "from collections import namedtuple\n",
    "\n",
    "Task = namedtuple(\"Task\", [\"title\", \"description\", \"urgency\"])\n",
    "\n",
    "tasks = [\n",
    "   Task(\"Homework\", \"Physics and math\", 5),\n",
    "   Task(\"Laundry\", \"Wash clothes\", 3),\n",
    "   Task(\"Museum\", \"Egypt exhibit\", 4)\n",
    "]\n",
    "\n",
    "completed_tasks = [\n",
    "   Task(\"Toaster\", \"Clean the toaster\", 2),\n",
    "   Task(\"Camera\", \"Export photos\", 4),\n",
    "   Task(\"Floor\", \"Mop the floor\", 3)\n",
    "]\n",
    "\n",
    "for task in tasks + completed_tasks:\n",
    "    print(task.title)"
   ]
  },
  {
   "cell_type": "markdown",
   "metadata": {},
   "source": [
    "A more Pythonic solution involves the use of the `chain` function from `itertools` package.\n",
    "\n",
    "This solution is also more effective in terms of "
   ]
  },
  {
   "cell_type": "code",
   "execution_count": 31,
   "metadata": {},
   "outputs": [
    {
     "name": "stdout",
     "output_type": "stream",
     "text": [
      "Homework\n",
      "Laundry\n",
      "Museum\n",
      "Toaster\n",
      "Camera\n",
      "Floor\n"
     ]
    }
   ],
   "source": [
    "from collections import namedtuple\n",
    "from itertools import chain\n",
    "\n",
    "Task = namedtuple(\"Task\", [\"title\", \"description\", \"urgency\"])\n",
    "\n",
    "tasks = [\n",
    "   Task(\"Homework\", \"Physics and math\", 5),\n",
    "   Task(\"Laundry\", \"Wash clothes\", 3),\n",
    "   Task(\"Museum\", \"Egypt exhibit\", 4)\n",
    "]\n",
    "\n",
    "completed_tasks = [\n",
    "   Task(\"Toaster\", \"Clean the toaster\", 2),\n",
    "   Task(\"Camera\", \"Export photos\", 4),\n",
    "   Task(\"Floor\", \"Mop the floor\", 3)\n",
    "]\n",
    "\n",
    "for task in chain(tasks, completed_tasks):\n",
    "    print(task.title)"
   ]
  },
  {
   "cell_type": "markdown",
   "metadata": {},
   "source": [
    "### Breaking early from loops\n",
    "\n",
    "Consider the following list of named tuples with fields \"title\", \"description\", and \"urgency\".\n",
    "\n",
    "```python\n",
    "tasks = [\n",
    "    Task(\"Toaster\", \"Clean the toaster\", 2),\n",
    "    Task(\"Camera\", \"Export photos\", 4),\n",
    "    Task(\"Homework\", \"Physics and math\", 5),\n",
    "    Task(\"Floor\", \"Mop the floor\", 3),\n",
    "    Task(\"Internet\", \"Upgrade plan\", 5),\n",
    "    Task(\"Laundry\", \"Wash clothes\", 3),\n",
    "    Task(\"Museum\", \"Egypt exhibit\", 4),\n",
    "    Task(\"Utility\", \"Pay bills\", 5)\n",
    "]\n",
    "```\n",
    "\n",
    "Implement a loop that stops after a task categorized with urgency 5 is found."
   ]
  },
  {
   "cell_type": "code",
   "execution_count": 37,
   "metadata": {},
   "outputs": [
    {
     "name": "stdout",
     "output_type": "stream",
     "text": [
      "Checking task 0: Toaster\n",
      "Checking task 1: Camera\n",
      "Checking task 2: Homework\n",
      "Urgent task detected: Task(title='Homework', description='Physics and math', urgency=5)\n"
     ]
    }
   ],
   "source": [
    "from collections import namedtuple\n",
    "\n",
    "Task = namedtuple(\"Task\", \"title, description, urgency\")\n",
    "\n",
    "tasks = [\n",
    "    Task(\"Toaster\", \"Clean the toaster\", 2),\n",
    "    Task(\"Camera\", \"Export photos\", 4),\n",
    "    Task(\"Homework\", \"Physics and math\", 5),\n",
    "    Task(\"Floor\", \"Mop the floor\", 3),\n",
    "    Task(\"Internet\", \"Upgrade plan\", 5),\n",
    "    Task(\"Laundry\", \"Wash clothes\", 3),\n",
    "    Task(\"Museum\", \"Egypt exhibit\", 4),\n",
    "    Task(\"Utility\", \"Pay bills\", 5)\n",
    "]\n",
    "\n",
    "for i, task in enumerate(tasks):\n",
    "    print(f\"Checking task {i}: {task.title}\")\n",
    "    if task.urgency == 5:\n",
    "        print(f\"Urgent task detected: {task}\")\n",
    "        break"
   ]
  },
  {
   "cell_type": "markdown",
   "metadata": {},
   "source": [
    "### Short-circuiting to the next iteration with `continue`\n",
    "\n",
    "Consider the following list of named tuples with fields \"title\", \"description\", and \"urgency\".\n",
    "\n",
    "```python\n",
    "tasks = [\n",
    "    Task(\"Toaster\", \"Clean the toaster\", 2),\n",
    "    Task(\"Camera\", \"Export photos\", 4),\n",
    "    Task(\"Homework\", \"Physics and math\", 5),\n",
    "    Task(\"Floor\", \"Mop the floor\", 3),\n",
    "    Task(\"Internet\", \"Upgrade plan\", 5),\n",
    "    Task(\"Laundry\", \"Wash clothes\", 3),\n",
    "    Task(\"Museum\", \"Egypt exhibit\", 4),\n",
    "    Task(\"Utility\", \"Pay bills\", 5)\n",
    "]\n",
    "```\n",
    "\n",
    "Create a report in which all the tasks categorized as 4 or 5 are are printed by calling a function, while the others are skipped."
   ]
  },
  {
   "cell_type": "code",
   "execution_count": 1,
   "metadata": {},
   "outputs": [
    {
     "name": "stdout",
     "output_type": "stream",
     "text": [
      "Important/Urgent task: Task(title='Camera', description='Export photos', urgency=4)\n",
      "Important/Urgent task: Task(title='Homework', description='Physics and math', urgency=5)\n",
      "Important/Urgent task: Task(title='Internet', description='Upgrade plan', urgency=5)\n",
      "Important/Urgent task: Task(title='Museum', description='Egypt exhibit', urgency=4)\n",
      "Important/Urgent task: Task(title='Utility', description='Pay bills', urgency=5)\n"
     ]
    }
   ],
   "source": [
    "from collections import namedtuple\n",
    "\n",
    "Task = namedtuple(\"Task\", \"title, description, urgency\")\n",
    "\n",
    "tasks = [\n",
    "    Task(\"Toaster\", \"Clean the toaster\", 2),\n",
    "    Task(\"Camera\", \"Export photos\", 4),\n",
    "    Task(\"Homework\", \"Physics and math\", 5),\n",
    "    Task(\"Floor\", \"Mop the floor\", 3),\n",
    "    Task(\"Internet\", \"Upgrade plan\", 5),\n",
    "    Task(\"Laundry\", \"Wash clothes\", 3),\n",
    "    Task(\"Museum\", \"Egypt exhibit\", 4),\n",
    "    Task(\"Utility\", \"Pay bills\", 5)\n",
    "]\n",
    "\n",
    "\n",
    "def print_task(id, task):\n",
    "    print(f\"{id}: {task.title: <12} {task.description: < 20} \")\n",
    "\n",
    "for i, task in enumerate(tasks):\n",
    "    if task.urgency < 4:\n",
    "        continue\n",
    "    print(f\"Important/Urgent task: {task}\")"
   ]
  },
  {
   "cell_type": "markdown",
   "metadata": {},
   "source": [
    "### Using `else` in `for` loops\n",
    "\n",
    "Python allows you to append an `else` statement in `for` loops.\n",
    "\n",
    "```python\n",
    "for item in iterable:\n",
    "  # loop body\n",
    "else:\n",
    "  # execute once when looping is complete, and break not used\n",
    "```\n",
    "\n",
    "That is, when `break` is used in the loop body the else operation will be skipped, otherwise it will be executed once when the iteration is complete.\n",
    "\n",
    "Consider the following list of named tuples with fields \"title\", \"description\", and \"urgency\".\n",
    "\n",
    "```python\n",
    "tasks = [\n",
    "    Task(\"Toaster\", \"Clean the toaster\", 2),\n",
    "    Task(\"Camera\", \"Export photos\", 4),\n",
    "    Task(\"Homework\", \"Physics and math\", 5),\n",
    "    Task(\"Floor\", \"Mop the floor\", 3),\n",
    "    Task(\"Internet\", \"Upgrade plan\", 5),\n",
    "    Task(\"Laundry\", \"Wash clothes\", 3),\n",
    "    Task(\"Museum\", \"Egypt exhibit\", 4),\n",
    "    Task(\"Utility\", \"Pay bills\", 5)\n",
    "]\n",
    "```\n",
    "\n",
    "We want to locate the first task with the desired urgency level. Define a function `locate_task(urgency_level)` that loops through the tasks until it finds the required urgency level and then prints it. When not found, it should print `None`."
   ]
  },
  {
   "cell_type": "code",
   "execution_count": 3,
   "metadata": {},
   "outputs": [
    {
     "name": "stdout",
     "output_type": "stream",
     "text": [
      "Found Task: None\n",
      "Found Task: Task(title='Camera', description='Export photos', urgency=4)\n"
     ]
    }
   ],
   "source": [
    "from collections import namedtuple\n",
    "\n",
    "Task = namedtuple(\"Task\", \"title, description, urgency\")\n",
    "\n",
    "tasks = [\n",
    "    Task(\"Toaster\", \"Clean the toaster\", 2),\n",
    "    Task(\"Camera\", \"Export photos\", 4),\n",
    "    Task(\"Homework\", \"Physics and math\", 5),\n",
    "    Task(\"Floor\", \"Mop the floor\", 3),\n",
    "    Task(\"Internet\", \"Upgrade plan\", 5),\n",
    "    Task(\"Laundry\", \"Wash clothes\", 3),\n",
    "    Task(\"Museum\", \"Egypt exhibit\", 4),\n",
    "    Task(\"Utility\", \"Pay bills\", 5)\n",
    "]\n",
    "\n",
    "def locate_task(urgency_level):\n",
    "    for task in tasks:\n",
    "        if task.urgency == urgency_level:\n",
    "            found_task = task\n",
    "            break\n",
    "    else:\n",
    "        found_task = None\n",
    "    print(f\"Found Task: {found_task}\")\n",
    "\n",
    "locate_task(1)\n",
    "\n",
    "locate_task(4)"
   ]
  },
  {
   "cell_type": "markdown",
   "metadata": {},
   "source": [
    "Note that `break` was used to skip the `else` part of the loop, otherwise it would have been executed anyway."
   ]
  },
  {
   "cell_type": "code",
   "execution_count": 4,
   "metadata": {},
   "outputs": [
    {
     "name": "stdout",
     "output_type": "stream",
     "text": [
      "0\n",
      "1\n",
      "2\n",
      "3\n",
      "4\n",
      "5\n",
      "done!\n"
     ]
    }
   ],
   "source": [
    "for i in range(6):\n",
    "    print(i)\n",
    "else:\n",
    "    print(\"done!\")"
   ]
  },
  {
   "cell_type": "markdown",
   "metadata": {},
   "source": [
    "### Using `else` in `while` loops\n",
    "\n",
    "As with `for`, Python allows you to use an `else` statement in a `while` loop that is executed once, when the regular iterations has been completed, and skipped when `break` is used to stop the iteration:\n",
    "\n",
    "```python\n",
    "while condition:\n",
    "  # loop body\n",
    "else:\n",
    "  # executed once, if break not used\n",
    "```\n",
    "\n",
    "That is, if `break` is used, the `else` operations will be skipped.\n",
    "\n",
    "Consider the following list of named tuples with fields \"title\", \"description\", and \"urgency\".\n",
    "\n",
    "```python\n",
    "tasks = [\n",
    "    Task(\"Toaster\", \"Clean the toaster\", 2),\n",
    "    Task(\"Camera\", \"Export photos\", 4),\n",
    "    Task(\"Homework\", \"Physics and math\", 5),\n",
    "    Task(\"Floor\", \"Mop the floor\", 3),\n",
    "    Task(\"Internet\", \"Upgrade plan\", 5),\n",
    "    Task(\"Laundry\", \"Wash clothes\", 3),\n",
    "    Task(\"Museum\", \"Egypt exhibit\", 4),\n",
    "    Task(\"Utility\", \"Pay bills\", 5)\n",
    "]\n",
    "```\n",
    "\n",
    "Suppose that we need to rest while we complete a series of tasks in each session. The implementation will involve setting a resting threshold as the sum of the total urgency level for the completed tasks.\n",
    "\n",
    "Create a function `complete_tasks_with_break(resting_threshold)`"
   ]
  },
  {
   "cell_type": "code",
   "execution_count": 6,
   "metadata": {},
   "outputs": [
    {
     "name": "stdout",
     "output_type": "stream",
     "text": [
      "Completed: Task(title='Utility', description='Pay bills', urgency=5)\n",
      "Completed: Task(title='Museum', description='Egypt exhibit', urgency=4)\n",
      "Coffee break now!\n",
      "Completed: Task(title='Laundry', description='Wash clothes', urgency=3)\n",
      "Completed: Task(title='Internet', description='Upgrade plan', urgency=5)\n",
      "Completed: Task(title='Floor', description='Mop the floor', urgency=3)\n",
      "Completed: Task(title='Homework', description='Physics and math', urgency=5)\n",
      "Completed: Task(title='Camera', description='Export photos', urgency=4)\n",
      "Completed: Task(title='Toaster', description='Clean the toaster', urgency=2)\n",
      "Party! Completed all the tasks!\n"
     ]
    }
   ],
   "source": [
    "from collections import namedtuple\n",
    "\n",
    "Task = namedtuple(\"Task\", \"title, description, urgency\")\n",
    "\n",
    "tasks = [\n",
    "    Task(\"Toaster\", \"Clean the toaster\", 2),\n",
    "    Task(\"Camera\", \"Export photos\", 4),\n",
    "    Task(\"Homework\", \"Physics and math\", 5),\n",
    "    Task(\"Floor\", \"Mop the floor\", 3),\n",
    "    Task(\"Internet\", \"Upgrade plan\", 5),\n",
    "    Task(\"Laundry\", \"Wash clothes\", 3),\n",
    "    Task(\"Museum\", \"Egypt exhibit\", 4),\n",
    "    Task(\"Utility\", \"Pay bills\", 5)\n",
    "]\n",
    "\n",
    "def complete_tasks_with_break(resting_threshold):\n",
    "    sum_task_urgencies = 0\n",
    "    while tasks:\n",
    "        if sum_task_urgencies > resting_threshold:\n",
    "            print(\"Coffee break now!\")\n",
    "            break\n",
    "        next_task = tasks.pop()\n",
    "        print(f\"Completed: {next_task}\")\n",
    "        sum_task_urgencies += next_task.urgency\n",
    "    else:\n",
    "        print(\"Party! Completed all the tasks!\")\n",
    "\n",
    "complete_tasks_with_break(7)\n",
    "\n",
    "complete_tasks_with_break(25)"
   ]
  },
  {
   "cell_type": "markdown",
   "metadata": {},
   "source": [
    "## Section 46 &mdash; Type Hinting: A gentle and focused introduction\n",
    "\n",
    "Python allows you to provide type hints to indicate the type of a variable:"
   ]
  },
  {
   "cell_type": "code",
   "execution_count": null,
   "metadata": {},
   "outputs": [],
   "source": [
    "number: int = 1\n",
    "\n",
    "name: str = \"John\"\n",
    "\n",
    "primes: list = [1, 2, 3]"
   ]
  },
  {
   "cell_type": "markdown",
   "metadata": {},
   "source": [
    "Note that Type hinting does not make Python a statically typed language, and it doesn't enforce the typing of a variable &mdash; those are only hints.\n",
    "\n",
    "Despite that fact, type hints may become extremely useful as code documentation as seen below:"
   ]
  },
  {
   "cell_type": "code",
   "execution_count": 1,
   "metadata": {},
   "outputs": [],
   "source": [
    "from statistics import mean, stdev\n",
    "\n",
    "def generate_stats(measures: list) -> tuple:\n",
    "    measure_mean = mean(measures)\n",
    "    measures_std = stdev(measures)\n",
    "    return measure_mean, measures_std"
   ]
  },
  {
   "cell_type": "markdown",
   "metadata": {},
   "source": [
    "Type hints will be used by IDEs and inform you when you're calling a function with incorrect parameter types. Also, the Python runtime will be able to report the proper invocation using `help`:"
   ]
  },
  {
   "cell_type": "code",
   "execution_count": 2,
   "metadata": {},
   "outputs": [
    {
     "name": "stdout",
     "output_type": "stream",
     "text": [
      "Help on function generate_stats in module __main__:\n",
      "\n",
      "generate_stats(measures: list) -> tuple\n",
      "\n"
     ]
    }
   ],
   "source": [
    "help(generate_stats)"
   ]
  },
  {
   "cell_type": "markdown",
   "metadata": {},
   "source": [
    "You can also use type hints with custom classes and named tuples as seen in the hints given to `namedtuple`:"
   ]
  },
  {
   "cell_type": "code",
   "execution_count": null,
   "metadata": {},
   "outputs": [],
   "source": [
    "from collections import namedtuple\n",
    "\n",
    "Task = namedtuple(\"Task\", [\"title\", \"description\", \"urgency\"])\n",
    "\n",
    "class User:\n",
    "    pass\n",
    "\n",
    "def assign_task(pending_task: Task, user: User):\n",
    "    pass"
   ]
  },
  {
   "cell_type": "markdown",
   "metadata": {},
   "source": [
    "For data containers such as lists and tuples that can contain other objects, specifying only the type of the container will only get you so far:"
   ]
  },
  {
   "cell_type": "code",
   "execution_count": 3,
   "metadata": {},
   "outputs": [],
   "source": [
    "from collections import namedtuple\n",
    "\n",
    "Task = namedtuple(\"Task\", \"title description urgency\")\n",
    "\n",
    "def complete_tasks(tasks: list):\n",
    "    for task in tasks:\n",
    "        pass\n",
    "\n",
    "# Which one is expected?\n",
    "complete_tasks([\"Homework\", \"Wash Clothes\"])\n",
    "complete_tasks([Task(\"Homework\", \"Physics + Math\", 5), Task(\"Laundry\", \"Wash Clothes\", 3)])"
   ]
  },
  {
   "cell_type": "markdown",
   "metadata": {},
   "source": [
    "For those cases, Python allows you to identify the type of objects the container holds:"
   ]
  },
  {
   "cell_type": "code",
   "execution_count": null,
   "metadata": {},
   "outputs": [],
   "source": [
    "from collections import namedtuple\n",
    "\n",
    "Task = namedtuple(\"Task\", \"title description urgency\")\n",
    "\n",
    "def complete_tasks(tasks: list[Task]):\n",
    "    for task in tasks:\n",
    "        pass\n"
   ]
  },
  {
   "cell_type": "markdown",
   "metadata": {},
   "source": [
    "The following table summarizes the most common built-in container object annotations:\n",
    "\n",
    "| Container Type | Example | Description |\n",
    "| :------------- | :------ | :---------- |\n",
    "| `list` | `list[str]`<br>`list[int]` | list of str objects<br>list of int objects |\n",
    "| `tuple` | `tuple[float, int]`<br>`tuple[float, ...]` | tuple of float object and an int object<br>tuple of multiple float objects |\n",
    "| `dict` | `dict[int, str]`<br>`dict[int, list[int]]` | dict of int keys and str values<br>dict of int keys and list of int object values |\n",
    "| `set` | `set[int]`<br>`set[str]` | set of int objects<br>set of str objects |"
   ]
  },
  {
   "cell_type": "markdown",
   "metadata": {},
   "source": [
    "As it's possible for a function to take different types for an specific parameter, type hinting supports the use of the `|` to separate the different options:"
   ]
  },
  {
   "cell_type": "code",
   "execution_count": null,
   "metadata": {},
   "outputs": [],
   "source": [
    "from statistics import mean, stdev\n",
    "\n",
    "def generate_stats(measures: list[float] | tuple[float, ...]) -> tuple[float, ...]:\n",
    "    pass"
   ]
  },
  {
   "cell_type": "markdown",
   "metadata": {},
   "source": [
    "The vertical bar can also be used to indicated the type of the objects held by a data container:"
   ]
  },
  {
   "cell_type": "code",
   "execution_count": null,
   "metadata": {},
   "outputs": [],
   "source": [
    "from statistics import mean, stdev\n",
    "\n",
    "def generate_stats(measures: list[float | int]) -> tuple[float, ...]:\n",
    "    pass"
   ]
  },
  {
   "cell_type": "markdown",
   "metadata": {},
   "source": [
    "### Advanced type hinting using the `typing` module\n",
    "\n",
    "The `typing` module includes higher-level typing information that is not available out-of-the-box.\n",
    "\n",
    "For example, instead of using `list[float] | tuple[float, ...]` we could use the `Sequence` type that capture any sequence data type"
   ]
  },
  {
   "cell_type": "code",
   "execution_count": null,
   "metadata": {},
   "outputs": [],
   "source": [
    "from statistics import mean, stdev\n",
    "from typing import Sequence\n",
    "\n",
    "def generate_stats(measures: Sequence[float]) -> tuple[float, ...]:\n",
    "    pass"
   ]
  },
  {
   "cell_type": "markdown",
   "metadata": {},
   "source": [
    "## Section 47 &mdash; Increasing function flexibility with `*args`, `**kwargs` and `/`\n",
    "\n",
    "Consider the signature of the built-in `print` function:\n",
    "\n",
    "```python\n",
    "print(*objects, sep=' ', end='\\n', file=sys.stdout, flush=False)\n",
    "```\n",
    "\n",
    "With that succinct signature, `print` is able to support a variable number of arguments.\n",
    "\n",
    "This happens thanks to the `*objects` definition (note the \"*\"), which means a variable number (zero or more) positional (that is, unnamed) arguments."
   ]
  },
  {
   "cell_type": "markdown",
   "metadata": {},
   "source": [
    "Closely related to `*args` is `**kwargs` &mdash; a way to specify a variable number of keyword arguments."
   ]
  },
  {
   "cell_type": "markdown",
   "metadata": {},
   "source": [
    "Certain functions are defined as follows:\n",
    "\n",
    "```python\n",
    "sort(*, key=None, reverse=False)\n",
    "```\n",
    "\n",
    "That syntax dictates that all the arguments behind it should be set as keyword-only arguments (no positional arguments allowed).\n",
    "\n",
    "Similarly, you can use the `/` to dictate that all the arguments before \"/\" should be positional only.\n",
    "\n",
    "```python\n",
    "sum(iterable, /, start=0)\n",
    "```\n",
    "\n",
    "The previous function accepts a single positional argument `iterable`. After that, a single keyword argument is used."
   ]
  },
  {
   "cell_type": "markdown",
   "metadata": {},
   "source": [
    "### Accepting a variable number of positional arguments\n",
    "\n",
    "Define a function `stringify` that takes a variable number of arguments and returns a list in which each element is the argument converted into a string:\n",
    "\n",
    "```python\n",
    "def stringify(*items) -> list[str]\n",
    "```"
   ]
  },
  {
   "cell_type": "code",
   "execution_count": 1,
   "metadata": {},
   "outputs": [
    {
     "name": "stdout",
     "output_type": "stream",
     "text": [
      "got (1, 'two', 'None') of <class 'tuple'>\n"
     ]
    },
    {
     "data": {
      "text/plain": [
       "['1', 'two', 'None']"
      ]
     },
     "execution_count": 1,
     "metadata": {},
     "output_type": "execute_result"
    }
   ],
   "source": [
    "def stringify(*items: any) -> list[str]:\n",
    "    print(f\"got {items} of {type(items)}\")\n",
    "    result = [str(item) for item in items]\n",
    "    return result\n",
    "\n",
    "stringify(1, \"two\", \"None\")"
   ]
  },
  {
   "cell_type": "markdown",
   "metadata": {},
   "source": [
    "As you can see, `*items` is actually received as a tuple of three elements."
   ]
  },
  {
   "cell_type": "markdown",
   "metadata": {},
   "source": [
    "### Accepting a function that accepts a single positional arg and a variable number of positional arguments\n",
    "\n",
    "When we need to define a function that takes one argument and a variable number of positional arguments, the latter should be placed at the end as an `*args`:"
   ]
  },
  {
   "cell_type": "code",
   "execution_count": 3,
   "metadata": {},
   "outputs": [
    {
     "name": "stdout",
     "output_type": "stream",
     "text": [
      "0 ()\n",
      "0 (1,)\n",
      "0 (1, 2)\n"
     ]
    }
   ],
   "source": [
    "def stringify_a(item0, *items):\n",
    "    print(item0, items)\n",
    "\n",
    "stringify_a(0)\n",
    "stringify_a(0, 1)\n",
    "stringify_a(0, 1, 2)"
   ]
  },
  {
   "cell_type": "markdown",
   "metadata": {},
   "source": [
    "If we place the variable number of arguments before the single positional argument, Python won't know how to place them:"
   ]
  },
  {
   "cell_type": "code",
   "execution_count": 7,
   "metadata": {},
   "outputs": [
    {
     "name": "stdout",
     "output_type": "stream",
     "text": [
      "Oops: stringify_b() missing 1 required keyword-only argument: 'item'\n",
      "Oops: stringify_b() missing 1 required keyword-only argument: 'item'\n",
      "Oops: stringify_b() missing 1 required keyword-only argument: 'item'\n"
     ]
    }
   ],
   "source": [
    "def stringify_b(*items, item):\n",
    "    print(items, item)\n",
    "\n",
    "try:\n",
    "    stringify_b(0)\n",
    "except Exception as e:\n",
    "    print(f\"Oops: {e}\")\n",
    "\n",
    "try:\n",
    "    stringify_b(0, 1)\n",
    "except Exception as e:\n",
    "    print(f\"Oops: {e}\")\n",
    "\n",
    "try:\n",
    "    stringify_b(0, 1, 2)\n",
    "except Exception as e:\n",
    "    print(f\"Oops: {e}\")"
   ]
  },
  {
   "cell_type": "markdown",
   "metadata": {},
   "source": [
    "However, above function could still be called using keyword args:"
   ]
  },
  {
   "cell_type": "code",
   "execution_count": 8,
   "metadata": {},
   "outputs": [
    {
     "name": "stdout",
     "output_type": "stream",
     "text": [
      "(1,) None\n",
      "(1,) 0\n",
      "(1, 2) 0\n"
     ]
    }
   ],
   "source": [
    "def stringify_b(*items, item):\n",
    "    print(items, item)\n",
    "\n",
    "stringify_b(1, item=None)\n",
    "stringify_b(1, item=0)\n",
    "stringify_b(1, 2, item=0)"
   ]
  },
  {
   "cell_type": "markdown",
   "metadata": {},
   "source": [
    "However, there are far more idiomatic ways of defining that function, so the previous definition should be avoided and the variable number of arguments `*args` should be placed last."
   ]
  },
  {
   "cell_type": "markdown",
   "metadata": {},
   "source": [
    "### Accepting a variable number of keyword arguments with `**kwargs`\n",
    "\n",
    "Consider a function used to create the qualification report for a student. As such, the function API should look like:\n",
    "\n",
    "```python\n",
    "create_report(\"John\", math=100, phys=98, bio=95)\n",
    "```\n",
    "\n",
    "Implement that function so that it displays the report as:\n",
    "\n",
    "```python\n",
    "***** Report Begin for John *****\n",
    "### math: 100\n",
    "### phys: 98\n",
    "### bio: 95\n",
    "***** Report End for John *****\n",
    "```\n"
   ]
  },
  {
   "cell_type": "code",
   "execution_count": 12,
   "metadata": {},
   "outputs": [
    {
     "name": "stdout",
     "output_type": "stream",
     "text": [
      ">>>DEBUG: got {'math': 100, 'phys': 98, 'bio': 95} as <class 'dict'>\n",
      "***** Report Begin for John *****\n",
      "### math: 100\n",
      "### phys: 98\n",
      "### bio: 95\n",
      "***** Report Begin for John *****\n"
     ]
    }
   ],
   "source": [
    "def create_report(student_name: str, **grades: dict[str, int]) -> None:\n",
    "    print(f\">>>DEBUG: got {grades} as {type(grades)}\")\n",
    "    print(f\"***** Report Begin for {student_name} *****\")\n",
    "    for subject, grade in grades.items():\n",
    "        print(f\"### {subject}: {grade}\")\n",
    "    print(f\"***** Report Begin for {student_name} *****\")\n",
    "\n",
    "create_report(\"John\", math=100, phys=98, bio=95)"
   ]
  },
  {
   "cell_type": "markdown",
   "metadata": {},
   "source": [
    "Thus, effectively, `**kwargs` is received as a dictionary, and it accepts a variable number of keyword arguments.\n",
    "\n",
    "When you use `**kwargs` it should be placed after all the the other parameters.\n",
    "\n",
    "The general order for a function definition will be:\n",
    "\n",
    "```python\n",
    "def example(arg0, arg1, *args, kwarg0, kwarg1, **kwargs2):\n",
    "  ...\n",
    "```"
   ]
  },
  {
   "cell_type": "markdown",
   "metadata": {},
   "source": [
    "In short:\n",
    "\n",
    "| Left side | Divider | Right side |\n",
    "| :-------- | :------ | :--------- |\n",
    "| Positional-only | / | Positional or keyword |\n",
    "| Positional or keyword | * | keyword-only |\n",
    "\n",
    "Thus, the slash \"/\" is used to ensure that you pass any preceding arguments by position.\n",
    "\n",
    "If you want to define a function that only accepts keyword arguments, you should define it as:"
   ]
  },
  {
   "cell_type": "markdown",
   "metadata": {},
   "source": [
    "### Writing a function that accepts only keyword arguments\n",
    "\n",
    "Write a function that accepts only keyword arguments."
   ]
  },
  {
   "cell_type": "code",
   "execution_count": 15,
   "metadata": {},
   "outputs": [
    {
     "name": "stdout",
     "output_type": "stream",
     "text": [
      "hello; to; Jason\n",
      "Oops: example() takes 0 positional arguments but 3 were given\n"
     ]
    }
   ],
   "source": [
    "def example(*, item1, item2, item3):\n",
    "    print(f\"{item1}; {item2}; {item3}\")\n",
    "\n",
    "example(item1=\"hello\", item2=\"to\", item3=\"Jason\")\n",
    "\n",
    "try:\n",
    "    example(\"hello\", \"to\", \"Jason\")\n",
    "except Exception as e:\n",
    "    print(f\"Oops: {e}\")"
   ]
  },
  {
   "cell_type": "markdown",
   "metadata": {},
   "source": [
    "### Writing a function that accepts only positional arguments\n",
    "\n",
    "Write a function that accepts only positional arguments."
   ]
  },
  {
   "cell_type": "code",
   "execution_count": 18,
   "metadata": {},
   "outputs": [
    {
     "name": "stdout",
     "output_type": "stream",
     "text": [
      "Oops: example() got some positional-only arguments passed as keyword arguments: 'item1, item2, item3'\n",
      "hello; to; Jason\n"
     ]
    }
   ],
   "source": [
    "def example(item1, item2, item3, /):\n",
    "    print(f\"{item1}; {item2}; {item3}\")\n",
    "\n",
    "example(\"hello\", \"to\", \"Jason\")\n",
    "\n",
    "try:\n",
    "    example(item1=\"hello\", item2=\"to\", item3=\"Jason\")\n",
    "except Exception as e:\n",
    "    print(f\"Oops: {e}\")\n",
    "\n",
    "\n"
   ]
  },
  {
   "cell_type": "markdown",
   "metadata": {},
   "source": [
    "### Writing a function that accepts a positional argument, a variable number of positional arguments, and a named keyword argument\n",
    "\n",
    "Write a function that accepts a positional argument, a variable number of positional arguments, and a named keyword argument."
   ]
  },
  {
   "cell_type": "code",
   "execution_count": 26,
   "metadata": {},
   "outputs": [
    {
     "name": "stdout",
     "output_type": "stream",
     "text": [
      "pos0=positional_0; pos=(); kw_last=last_kw\n",
      "pos0=positional_0; pos=(); kw_last=last_kw\n",
      "pos0=positional_0; pos=('positional_1', 'positional_2'); kw_last=last_kw\n"
     ]
    }
   ],
   "source": [
    "def example(pos0, *pos, kw_last):\n",
    "    print(f\"pos0={pos0}; pos={pos}; kw_last={kw_last}\")\n",
    "\n",
    "example(\"positional_0\", kw_last=\"last_kw\")\n",
    "example(pos0=\"positional_0\", kw_last=\"last_kw\")\n",
    "example(\"positional_0\", \"positional_1\", \"positional_2\", kw_last=\"last_kw\")\n",
    "\n",
    "# Syntax Error (does not compile!)\n",
    "# example(pos0=\"positional_0\", \"positional_1\", \"positional_2\", kw_last=\"last_kw\")\n"
   ]
  },
  {
   "cell_type": "markdown",
   "metadata": {},
   "source": [
    "### Using slash and asterisk\n",
    "\n",
    "Write a function that requires:\n",
    "+ two arguments to be passed by position only\n",
    "+ followed by an argument that can be passed as either keyword or position\n",
    "+ followed by an argument that can only be passed as keyword"
   ]
  },
  {
   "cell_type": "code",
   "execution_count": 30,
   "metadata": {},
   "outputs": [
    {
     "name": "stdout",
     "output_type": "stream",
     "text": [
      "pos_0=item0; pos_1=item1; kw_or_pos_2=item2; kw_3=item3\n",
      "pos_0=item0; pos_1=item1; kw_or_pos_2=item2; kw_3=item3\n",
      "Oops: example() got some positional-only arguments passed as keyword arguments: 'pos_0, pos_1'\n"
     ]
    }
   ],
   "source": [
    "def example(pos_0, pos_1, /, kw_or_pos_2, *, kw_3):\n",
    "    print(f\"pos_0={pos_0}; pos_1={pos_1}; kw_or_pos_2={kw_or_pos_2}; kw_3={kw_3}\")\n",
    "\n",
    "example(\"item0\", \"item1\", kw_or_pos_2=\"item2\", kw_3=\"item3\")\n",
    "example(\"item0\", \"item1\", \"item2\", kw_3=\"item3\")\n",
    "\n",
    "# These won't work\n",
    "try:\n",
    "    example(pos_0=\"item0\", pos_1=\"item1\", kw_or_pos_2=\"item2\", kw_3=\"item3\")\n",
    "except Exception as e:\n",
    "    print(f\"Oops: {e}\")"
   ]
  },
  {
   "cell_type": "markdown",
   "metadata": {},
   "source": [
    "Note that you cannot put the \"*\" before the \"/\" as it will require you to pass keyword arguments between the two symbols."
   ]
  },
  {
   "cell_type": "markdown",
   "metadata": {},
   "source": [
    "## Section 48 &mdash; More on OOP\n",
    "\n",
    "This section deals with additional details and examples on OOP. "
   ]
  },
  {
   "cell_type": "markdown",
   "metadata": {},
   "source": [
    "### `self` is not a keyword\n",
    "\n",
    "By convention, we use `self` to refer to the instantiated object when dealing with OOP. However, `self` is not a reserved keyword:"
   ]
  },
  {
   "cell_type": "code",
   "execution_count": 1,
   "metadata": {},
   "outputs": [
    {
     "name": "stdout",
     "output_type": "stream",
     "text": [
      "task.title=Homework\n"
     ]
    }
   ],
   "source": [
    "class Task:\n",
    "    def __init__(this, title, description, urgency):\n",
    "        this.title = title\n",
    "        this.description = description\n",
    "        this.urgency = urgency\n",
    "\n",
    "task = Task(\"Homework\", \"Physics + Math\", 4)\n",
    "print(f\"task.title={task.title}\")\n"
   ]
  },
  {
   "cell_type": "markdown",
   "metadata": {},
   "source": [
    "Even when it works, it doesn't mean that we should be using it. \n",
    "\n",
    "> use `self` to reference the instance object."
   ]
  },
  {
   "cell_type": "markdown",
   "metadata": {},
   "source": [
    "### `self` is being implicitly populated by Python\n",
    "\n",
    "When you create a class, the `__init__` method will require `self` as the first argument.\n",
    "\n",
    "This argument is set implicitly by Python.\n",
    "\n",
    "Behind the scene, the instantiation of a class consists of two steps as seel below:"
   ]
  },
  {
   "cell_type": "code",
   "execution_count": 4,
   "metadata": {},
   "outputs": [
    {
     "name": "stdout",
     "output_type": "stream",
     "text": [
      "__new__ has been called, creating object:  140585690831200\n",
      "__init__ has been called: creating object: 140585690831200\n"
     ]
    }
   ],
   "source": [
    "class Task:\n",
    "    def __init__(self):\n",
    "        print(f\"__init__ has been called: creating object: {id(self)}\")\n",
    "\n",
    "    def __new__(cls):\n",
    "        new_task = object.__new__(cls)\n",
    "        print(f\"__new__ has been called, creating object:  {id(new_task)}\")\n",
    "        return new_task\n",
    "\n",
    "task = Task()"
   ]
  },
  {
   "cell_type": "markdown",
   "metadata": {},
   "source": [
    "See how when overridding the `__new__` class method, it gets automatically invoked. Within the method, we can invoke the `object.__new__` to instantiate an instance and then return it. That is the `self` that is automatically sent as argument to the class constructor.\n",
    "\n",
    "Note that you will even be able to demonstrate this process by invoking those methods:"
   ]
  },
  {
   "cell_type": "code",
   "execution_count": 5,
   "metadata": {},
   "outputs": [
    {
     "name": "stdout",
     "output_type": "stream",
     "text": [
      "__new__ has been called, creating object:  140585690831584\n",
      "__init__ has been called: creating object: 140585690831584\n"
     ]
    }
   ],
   "source": [
    "# This is what Python does behind the scenes\n",
    "\n",
    "task = Task.__new__(Task)\n",
    "Task.__init__(task)"
   ]
  },
  {
   "cell_type": "markdown",
   "metadata": {},
   "source": [
    "### Checking an instance attribute with `__dict__`\n",
    "\n",
    "An instance special attribute `__dict__` lets you see the attributes assigned to an instance:"
   ]
  },
  {
   "cell_type": "code",
   "execution_count": 7,
   "metadata": {},
   "outputs": [
    {
     "name": "stdout",
     "output_type": "stream",
     "text": [
      "task.__dict__={'title': 'Homework', 'description': 'Physics + Math', 'urgency': 3}\n"
     ]
    }
   ],
   "source": [
    "class Task:\n",
    "    def __init__(self, title, description, urgency):\n",
    "        self.title = title\n",
    "        self.description = description\n",
    "        self.urgency = urgency\n",
    "\n",
    "task = Task(\"Homework\", \"Physics + Math\", 3)\n",
    "\n",
    "print(f\"task.__dict__={task.__dict__!r}\")"
   ]
  },
  {
   "cell_type": "markdown",
   "metadata": {},
   "source": [
    "### Guidelines when designing the `__init__` method\n",
    "\n",
    "1. Identify the required arguments.\n",
    "2. Prioritize key arguments, placing the more important ones before the less important ones.\n",
    "3. Use key arguments as positional. You want users to be able to set important arguments as positional arguments (as it is cleaner).\n",
    "4. Limit the number of positional arguments. Use no more than four positional arguments as positional and make the rest as keyword-only.\n",
    "5. Use sensible default values to foster better DX."
   ]
  },
  {
   "cell_type": "markdown",
   "metadata": {},
   "source": [
    "### Specifying all the attributes in the constructor\n",
    "\n",
    "While not strictly required, it is recommended to specify all the class attributes in `__init__` as otherwise it'll be unclear for the user the different attributes a class can have:"
   ]
  },
  {
   "cell_type": "code",
   "execution_count": 9,
   "metadata": {},
   "outputs": [],
   "source": [
    "class Task:\n",
    "    def __init__(self, title, desc, urgency):\n",
    "        self.title = title\n",
    "        self.description = desc\n",
    "        self.urgency = urgency\n",
    "\n",
    "    def complete(self):\n",
    "        self.status = \"completed\"\n",
    "\n",
    "    def add_tag(self, tag):\n",
    "        if not self.tags:\n",
    "            self.tags = []\n",
    "        self.tags.append(tag)"
   ]
  },
  {
   "cell_type": "markdown",
   "metadata": {},
   "source": [
    "The previous code gives a terrible user experience:"
   ]
  },
  {
   "cell_type": "code",
   "execution_count": 10,
   "metadata": {},
   "outputs": [
    {
     "name": "stdout",
     "output_type": "stream",
     "text": [
      "Oops: 'Task' object has no attribute 'status'\n",
      "completed\n"
     ]
    }
   ],
   "source": [
    "task = Task(\"Homework\", \"Physics + Math\", 3)\n",
    "\n",
    "try:\n",
    "    print(task.status)\n",
    "except Exception as e:\n",
    "    print(f\"Oops: {e}\")\n",
    "\n",
    "task.complete()\n",
    "print(task.status)"
   ]
  },
  {
   "cell_type": "markdown",
   "metadata": {},
   "source": [
    "As a result, it is recommended to specify all of the object attributes in `__init__`:\n"
   ]
  },
  {
   "cell_type": "code",
   "execution_count": 11,
   "metadata": {},
   "outputs": [
    {
     "name": "stdout",
     "output_type": "stream",
     "text": [
      "created\n",
      "completed\n"
     ]
    }
   ],
   "source": [
    "class Task:\n",
    "    def __init__(self, title, desc, urgency):\n",
    "        self.title = title\n",
    "        self.description = desc\n",
    "        self.urgency = urgency\n",
    "        self.status = \"created\"\n",
    "        self.tags = []\n",
    "\n",
    "    def complete(self):\n",
    "        self.status = \"completed\"\n",
    "\n",
    "    def add_tag(self, tag):\n",
    "        self.tags.append(tag)\n",
    "\n",
    "\n",
    "task = Task(\"Homework\", \"Physics + Math\", 3)\n",
    "\n",
    "print(task.status)\n",
    "\n",
    "task.complete()\n",
    "print(task.status)"
   ]
  },
  {
   "cell_type": "markdown",
   "metadata": {},
   "source": [
    "### Defining class attributes\n",
    "\n",
    "Examples above defined *per-instance* attributes. However, you will sometimes find that some attributes may be shared for all instance objects.\n",
    "\n",
    "Those are called *class attributes*.\n",
    "\n",
    "Consider that all instances of the `Task` class share the same attribute `user` that identifies the logged in user:"
   ]
  },
  {
   "cell_type": "code",
   "execution_count": null,
   "metadata": {},
   "outputs": [],
   "source": [
    "class Task:\n",
    "    user = \"the logged in user\"\n",
    "\n",
    "    def __init__(self, title, desc, urgency):\n",
    "        ..."
   ]
  },
  {
   "cell_type": "markdown",
   "metadata": {},
   "source": [
    "Class attributes should be placed after the class definition and before the `__init__` method declaration."
   ]
  },
  {
   "cell_type": "markdown",
   "metadata": {},
   "source": [
    "### instance, static, and class methods\n",
    "\n",
    "The methods we've seen so far are known as instance methods.\n",
    "Instance methods are intended to be called on an instance object. As a result, those are defined with `self` as the first parameter of the method.\n",
    "\n",
    "In addition to those, Python allows you to define static and class methods for other user cases:\n",
    "+ static methods are used for utility related functions that are not specific to any instance.\n",
    "+ class methods are used for accessing class-level attributed.\n"
   ]
  },
  {
   "cell_type": "markdown",
   "metadata": {},
   "source": [
    "Unlike instance methods, static methods do not use `self` as their first parameter, and need to be decorated with `@staticmethod`.\n",
    "\n",
    "A static method is invoked using the class name.\n",
    "\n",
    "For example, the following snippet defines a static method `get_timestamp` that returns the current date and time:"
   ]
  },
  {
   "cell_type": "code",
   "execution_count": 1,
   "metadata": {},
   "outputs": [
    {
     "name": "stdout",
     "output_type": "stream",
     "text": [
      "Sep 06 2023, 08:07\n"
     ]
    }
   ],
   "source": [
    "from datetime import datetime\n",
    "\n",
    "class Task:\n",
    "    @staticmethod\n",
    "    def get_timestamp():\n",
    "          now = datetime.now()\n",
    "          timestamp = now.strftime(\"%b %d %Y, %H:%M\")\n",
    "          return timestamp\n",
    "\n",
    "    def __init__(self, title, desc, urgency):\n",
    "        ...\n",
    "\n",
    "print(Task.get_timestamp())"
   ]
  },
  {
   "cell_type": "markdown",
   "metadata": {},
   "source": [
    "Class methods may need access the attributes of the class. When defining those methods, you use `cls` as its first parameter, which refers to the class. A class method also uses the `classmethod` decorator.\n",
    "\n",
    "| NOTE: |\n",
    "| :---- |\n",
    "| As it happens with `self`, `cls` is not a keyword, it is a convention that should be respected. |"
   ]
  },
  {
   "cell_type": "markdown",
   "metadata": {},
   "source": [
    "Consider the following example, in which we have a Task modeled as a dictionary, and we want to create a class instance from it.\n",
    "\n",
    "A class method is a good solution for this:"
   ]
  },
  {
   "cell_type": "code",
   "execution_count": null,
   "metadata": {},
   "outputs": [],
   "source": [
    "task_dic = {\"title\": \"Laundry\", \"desc\": \"Wash Clothes\", \"urgency\": 3}\n",
    "\n",
    "class Task:\n",
    "    def __init__(self, title, desc, urgency):\n",
    "        self.title = title\n",
    "        self.desc = desc\n",
    "        self.urgency = urgency\n",
    "\n",
    "    @classmethod\n",
    "    def task_from_dict(cls, task_dict):\n",
    "        title = task[\"title\"]\n",
    "        desc = task[\"desc\"]\n",
    "        urgency = task[\"urgency\"]\n",
    "        task_obj = cls(title, desc, urgency)\n",
    "        return task_obj\n",
    "\n",
    "\n",
    "task = Task.task_from_dict(task_dict)"
   ]
  },
  {
   "cell_type": "markdown",
   "metadata": {},
   "source": [
    "Note that static methods (as opposed to class methods), do not manipulate any instance of the class. Oftentimes, static methods can be defined outside of the class as they tend to implement generic functionality that does not have to do anything with the class (as the `get_timestamp`)."
   ]
  },
  {
   "cell_type": "markdown",
   "metadata": {},
   "source": [
    "### Invoking internal methods within a class\n",
    "\n",
    "When dealing with classes, oftentimes you will find that some methods are intended to be internal methods used only by the methods of the class.\n",
    "\n",
    "Consider the following scenario in which a `complete` instance method relies on a `format_note` method to get a formatted representation of the task:"
   ]
  },
  {
   "cell_type": "code",
   "execution_count": 3,
   "metadata": {},
   "outputs": [
    {
     "name": "stdout",
     "output_type": "stream",
     "text": [
      "Hello\n"
     ]
    }
   ],
   "source": [
    "class Task:\n",
    "    def __init__(self, title, desc, urgency):\n",
    "        self.title = title\n",
    "        self.desc = desc\n",
    "        self.urgency = urgency\n",
    "\n",
    "    def complete(self, note = \"\"):\n",
    "        self.status = \"completed\"\n",
    "        self.note = self.format_note(note)\n",
    "\n",
    "    def format_note(self, note):\n",
    "        formatted_note = note.title() # Returns an uppercased version of a string\n",
    "        return formatted_note\n",
    "\n",
    "\n",
    "task = Task(\"Laundry\", \"Wash clothes\", 3)\n",
    "task.complete()\n",
    "\n",
    "note = \"Hello\"\n",
    "print(note.title())"
   ]
  },
  {
   "cell_type": "markdown",
   "metadata": {},
   "source": [
    "The user can call `format_note` directly, which isn't the desired behavior.\n",
    "\n",
    "However, Python doesn't have any formal mechanism to restrict access to any attribute or method. Instead, the convention is to use `_` as the prefix for protected methods (the ones that should be available to the current class and subclasses), and `__` for private methods."
   ]
  },
  {
   "cell_type": "code",
   "execution_count": 6,
   "metadata": {},
   "outputs": [],
   "source": [
    "class Task:\n",
    "    def __init__(self, title, desc, urgency):\n",
    "        self.title = title\n",
    "        self.desc = desc\n",
    "        self.urgency = urgency\n",
    "\n",
    "    def complete(self, note = \"\"):\n",
    "        self.status = \"completed\"\n",
    "        self.note = self._format_note(note)\n",
    "\n",
    "    def _format_note(self, note):\n",
    "        formatted_note = note.title() # Returns an uppercased version of a string\n",
    "        return formatted_note\n",
    "\n",
    "\n",
    "task = Task(\"Laundry\", \"Wash clothes\", 3)\n",
    "task.complete()"
   ]
  },
  {
   "cell_type": "markdown",
   "metadata": {},
   "source": [
    "If you want to make it *private*, so that it is not available to subclasses, you should use `__`:"
   ]
  },
  {
   "cell_type": "code",
   "execution_count": 7,
   "metadata": {},
   "outputs": [],
   "source": [
    "class Task:\n",
    "    def __init__(self, title, desc, urgency):\n",
    "        self.title = title\n",
    "        self.desc = desc\n",
    "        self.urgency = urgency\n",
    "\n",
    "    def complete(self, note = \"\"):\n",
    "        self.status = \"completed\"\n",
    "        self.note = self.__format_note(note)\n",
    "\n",
    "    def __format_note(self, note):\n",
    "        formatted_note = note.title() # Returns an uppercased version of a string\n",
    "        return formatted_note\n",
    "\n",
    "\n",
    "task = Task(\"Laundry\", \"Wash clothes\", 3)\n",
    "task.complete()"
   ]
  },
  {
   "cell_type": "markdown",
   "metadata": {},
   "source": [
    "### Creatubg read-only attributes with the property decorator\n",
    "\n",
    "Consider the scenario of the `Task` class which exposes a `status` property that we want to make read-only, so that can only be interrogated, or updated through the `complete` instance method.\n",
    "\n",
    "You can do that using the `@property` decorator:"
   ]
  },
  {
   "cell_type": "code",
   "execution_count": 11,
   "metadata": {},
   "outputs": [
    {
     "name": "stdout",
     "output_type": "stream",
     "text": [
      "task.status=created\n",
      "task.status=completed\n",
      "Oops: can't set attribute 'status'\n"
     ]
    }
   ],
   "source": [
    "class Task:\n",
    "    def __init__(self, title, desc, urgency):\n",
    "        self.title = title\n",
    "        self.desc = desc\n",
    "        self.urgency = urgency\n",
    "        self._status = \"created\"\n",
    "\n",
    "    @property\n",
    "    def status(self):\n",
    "        return self._status\n",
    "\n",
    "    def complete(self):\n",
    "        self._status = \"completed\"\n",
    "\n",
    "\n",
    "task = Task(\"Laundry\", \"Wash clothes\", 3)\n",
    "print(f\"task.status={task.status}\")\n",
    "\n",
    "task.complete()\n",
    "print(f\"task.status={task.status}\")\n",
    "\n",
    "try:\n",
    "    task.status = \"reopened\"\n",
    "except Exception as e:\n",
    "    print(f\"Oops: {e}\")\n"
   ]
  },
  {
   "cell_type": "markdown",
   "metadata": {},
   "source": [
    "### Using property setters\n",
    "\n",
    "We've seen that `@property` creates a read-only property for the Task class.\n",
    "\n",
    "Sometimes, we might need to expose a *managed* mechanism to control how the value of an attribute is set.\n",
    "\n",
    "Consider the example of a Task class which exposes an `status` property that can only be set if given the values \"created\", \"started\", \"completed\", or \"suspended\"."
   ]
  },
  {
   "cell_type": "code",
   "execution_count": 13,
   "metadata": {},
   "outputs": [
    {
     "name": "stdout",
     "output_type": "stream",
     "text": [
      "task.status = suspended\n",
      "Invalid status: undefined; must be one of ['created', 'started', 'completed', 'suspended']\n",
      "task.status = suspended\n"
     ]
    }
   ],
   "source": [
    "class Task:\n",
    "    def __init__(self, title, desc, urgency):\n",
    "        self.title = title\n",
    "        self.desc = desc\n",
    "        self.urgency = urgency\n",
    "        self._status = \"created\"\n",
    "\n",
    "    @property\n",
    "    def status(self):\n",
    "        return self._status\n",
    "\n",
    "    @status.setter\n",
    "    def status(self, value):\n",
    "        allowed_values = [\"created\", \"started\", \"completed\", \"suspended\"]\n",
    "        if value in allowed_values:\n",
    "            self._status = value\n",
    "        else:\n",
    "            print(f\"Invalid status: {value}; must be one of {allowed_values}\")\n",
    "\n",
    "\n",
    "task = Task(\"Laundry\", \"Wash clothes\", 3)\n",
    "task.status = \"suspended\"\n",
    "print(f\"task.status = {task.status}\")\n",
    "\n",
    "task.status = \"undefined\"\n",
    "print(f\"task.status = {task.status}\")"
   ]
  },
  {
   "cell_type": "markdown",
   "metadata": {},
   "source": [
    "### Using a property setter to control the values of a property\n",
    "\n",
    "Enhance the `Task` class so that urgency is an integer between 1 and 5."
   ]
  },
  {
   "cell_type": "code",
   "execution_count": 21,
   "metadata": {},
   "outputs": [
    {
     "name": "stdout",
     "output_type": "stream",
     "text": [
      "task urgency: 3\n",
      "Ooops: value must be an int\n",
      "Ooops: value must be between 1 and 5\n",
      "Ooops: value must be between 1 and 5\n"
     ]
    }
   ],
   "source": [
    "class Task:\n",
    "    def __init__(self, title, desc, urgency):\n",
    "        self.title = title\n",
    "        self.desc = desc\n",
    "        self._urgency = urgency\n",
    "\n",
    "    @property\n",
    "    def urgency(self) -> int:\n",
    "        return self._urgency\n",
    "\n",
    "    @urgency.setter\n",
    "    def urgency(self, value: int):\n",
    "        if type(value) != int:\n",
    "            raise TypeError(\"value must be an int\")\n",
    "        elif value < 1 or value > 5:\n",
    "            raise ValueError(\"value must be between 1 and 5\")\n",
    "        else:\n",
    "            self._urgency = value\n",
    "\n",
    "\n",
    "task = Task(\"Laundry\", \"Wash clothes\", 3)\n",
    "print(f\"task urgency: {task.urgency}\")\n",
    "\n",
    "task.urgency = 5\n",
    "assert task.urgency == 5\n",
    "\n",
    "try:\n",
    "    task.urgency = \"Highest\"\n",
    "except Exception as e:\n",
    "    print(f\"Ooops: {e}\")\n",
    "\n",
    "try:\n",
    "    task.urgency = -1\n",
    "except Exception as e:\n",
    "    print(f\"Ooops: {e}\")\n",
    "\n",
    "try:\n",
    "    task.urgency = 6\n",
    "except Exception as e:\n",
    "    print(f\"Ooops: {e}\")"
   ]
  },
  {
   "cell_type": "markdown",
   "metadata": {},
   "source": [
    "### Customizing the string representation for a class instance with `__str__`\n",
    "\n",
    "You can use the special method `__str__` to provide the string representation of the instance.\n",
    "\n",
    "Create a `Task` implementation that includes the definition of the `__str__` which should show:\n",
    "\n",
    "```\n",
    "Laundry: Wash clothes, urgency level 3\n",
    "```\n"
   ]
  },
  {
   "cell_type": "code",
   "execution_count": 24,
   "metadata": {},
   "outputs": [
    {
     "name": "stdout",
     "output_type": "stream",
     "text": [
      "Laundry: Wash clothes, urgency level 3\n",
      "next task: Homework: Physics + Math, urgency level 5\n"
     ]
    }
   ],
   "source": [
    "class Task:\n",
    "    def __init__(self, title, desc, urgency):\n",
    "        self.title = title\n",
    "        self.desc = desc\n",
    "        self.urgency = urgency\n",
    "\n",
    "    def __str__(self):\n",
    "        return f\"{self.title}: {self.desc}, urgency level {self.urgency}\"\n",
    "\n",
    "\n",
    "task = Task(\"Laundry\", \"Wash clothes\", 3)\n",
    "print(task)\n",
    "\n",
    "planned_task = Task(\"Homework\", \"Physics + Math\", 5)\n",
    "print(f\"next task: {planned_task}\")"
   ]
  },
  {
   "cell_type": "markdown",
   "metadata": {},
   "source": [
    "The `str` method can be used to get the string representation of an instance, and it invokes the `obj.__str__` method behind the scenes:"
   ]
  },
  {
   "cell_type": "code",
   "execution_count": 25,
   "metadata": {},
   "outputs": [
    {
     "data": {
      "text/plain": [
       "True"
      ]
     },
     "execution_count": 25,
     "metadata": {},
     "output_type": "execute_result"
    }
   ],
   "source": [
    "class Task:\n",
    "    def __init__(self, title, desc, urgency):\n",
    "        self.title = title\n",
    "        self.desc = desc\n",
    "        self.urgency = urgency\n",
    "\n",
    "    def __str__(self):\n",
    "        return f\"{self.title}: {self.desc}, urgency level {self.urgency}\"\n",
    "\n",
    "\n",
    "task = Task(\"Laundry\", \"Wash clothes\", 3)\n",
    "str(task) == \"Laundry: Wash clothes, urgency level 3\""
   ]
  },
  {
   "cell_type": "markdown",
   "metadata": {},
   "source": [
    "### Using `__repr__` for the string representation of an instance in the interactive console.\n",
    "\n",
    "When using the interactive console, the special method that is invoked to get the string representation of an instance is `__repr__` instead of `__str__`.\n",
    "\n",
    "As such, it is customary to define both.\n",
    "\n",
    "First let's see how `__str__` is not being called in certain circumstances:"
   ]
  },
  {
   "cell_type": "code",
   "execution_count": 26,
   "metadata": {},
   "outputs": [
    {
     "data": {
      "text/plain": [
       "<__main__.Task at 0x7f8e4015b520>"
      ]
     },
     "execution_count": 26,
     "metadata": {},
     "output_type": "execute_result"
    }
   ],
   "source": [
    "class Task:\n",
    "    def __init__(self, title, desc, urgency):\n",
    "        self.title = title\n",
    "        self.desc = desc\n",
    "        self.urgency = urgency\n",
    "\n",
    "    def __str__(self):\n",
    "        return f\"{self.title}: {self.desc}, urgency level {self.urgency}\"\n",
    "\n",
    "task = Task(\"Laundry\", \"Wash clothes\", 3)\n",
    "task"
   ]
  },
  {
   "cell_type": "markdown",
   "metadata": {},
   "source": [
    "This can be solved by implementing the `__repr__` method:"
   ]
  },
  {
   "cell_type": "code",
   "execution_count": 27,
   "metadata": {},
   "outputs": [
    {
     "data": {
      "text/plain": [
       "Task('Laundry', 'Wash clothes', 3)"
      ]
     },
     "execution_count": 27,
     "metadata": {},
     "output_type": "execute_result"
    }
   ],
   "source": [
    "class Task:\n",
    "    def __init__(self, title, desc, urgency):\n",
    "        self.title = title\n",
    "        self.desc = desc\n",
    "        self.urgency = urgency\n",
    "\n",
    "    def __str__(self):\n",
    "        return f\"{self.title}: {self.desc}, urgency level {self.urgency}\"\n",
    "\n",
    "    def __repr__(self):\n",
    "        return f\"Task({self.title!r}, {self.desc!r}, {self.urgency})\"\n",
    "\n",
    "task = Task(\"Laundry\", \"Wash clothes\", 3)\n",
    "task"
   ]
  },
  {
   "cell_type": "markdown",
   "metadata": {},
   "source": [
    "| NOTE: |\n",
    "| :---- |\n",
    "| \"!r\" is used to quote the contents of the attribute. It is known as a *conversion flag*.|\n",
    "\n",
    "To call `__repr__` on an instance, use the `repr` method:"
   ]
  },
  {
   "cell_type": "code",
   "execution_count": null,
   "metadata": {},
   "outputs": [],
   "source": [
    "class Task:\n",
    "    def __init__(self, title, desc, urgency):\n",
    "        self.title = title\n",
    "        self.desc = desc\n",
    "        self.urgency = urgency\n",
    "\n",
    "    def __str__(self):\n",
    "        return f\"{self.title}: {self.desc}, urgency level {self.urgency}\"\n",
    "\n",
    "    def __repr__(self):\n",
    "        return f\"Task({self.title!r}, {self.desc!r}, {self.urgency})\"\n",
    "\n",
    "task = Task(\"Laundry\", \"Wash clothes\", 3)\n",
    "assert repr(task) == \"Task('Laundry', 'Wash clothes', 3)\""
   ]
  },
  {
   "cell_type": "markdown",
   "metadata": {},
   "source": [
    "In summary:\n",
    "+ `__repr__` is intended for debugging and development.\n",
    "+ `__str__` is intended for showing a descriptive information intended for users of the code.\n",
    "\n",
    "| NOTE: |\n",
    "| :---- |\n",
    "| Python uses `__repr__` when `__str__` is not implemented, but it is a good practice to implement both. |"
   ]
  },
  {
   "cell_type": "markdown",
   "metadata": {},
   "source": [
    "### Using `__class__` and `__name__` attributes in `__repr__`\n",
    "\n",
    "The implementation of `__repr__` seen above hardcodes the name of the class.\n",
    "\n",
    "This can be prevented using `__class__` and `__name__` as seen below:"
   ]
  },
  {
   "cell_type": "code",
   "execution_count": 28,
   "metadata": {},
   "outputs": [],
   "source": [
    "class Task:\n",
    "    def __init__(self, title, desc, urgency):\n",
    "        self.title = title\n",
    "        self.desc = desc\n",
    "        self.urgency = urgency\n",
    "\n",
    "    def __str__(self):\n",
    "        return f\"{self.title}: {self.desc}, urgency level {self.urgency}\"\n",
    "\n",
    "    def __repr__(self):\n",
    "        return f\"{self.__class__.__name__}({self.title!r}, {self.desc!r}, {self.urgency})\"\n",
    "\n",
    "task = Task(\"Laundry\", \"Wash clothes\", 3)\n",
    "assert repr(task) == \"Task('Laundry', 'Wash clothes', 3)\""
   ]
  },
  {
   "cell_type": "markdown",
   "metadata": {},
   "source": [
    "### Using inheritance: design considerations\n",
    "\n",
    "Inheritance comes with additional baggage (such as tight-coupling) so we shouldn't jump into inheritance right away.\n",
    "\n",
    "Instead, we should spend some time first analyzing the scenario at hand and deciding if using inheritance will pay off.\n",
    "\n",
    "You should start by studying the similarities and differences in the attributes and methods.\n",
    "\n",
    "Consider the following scenario in which we need to model two kinds of users: supervisors and subordinates:\n",
    "\n",
    "![Inheritance](./pics/inheritance.png)\n",
    "\n",
    "This scenario clearly calls out for using inheritance with an `Employee` base class and two subclasses `Supervisor` and `Subordinate`.\n",
    "\n",
    "As seen in the picture below, the subclasses will feature the attributes and methods from the base class, fostering the DRY principle.\n",
    "\n",
    "![Inheritance design](./pics/inheritance-design-non-uml.png)\n",
    "\n",
    "This process is more important and complex than coding the correspondent classes:"
   ]
  },
  {
   "cell_type": "code",
   "execution_count": 29,
   "metadata": {},
   "outputs": [
    {
     "name": "stdout",
     "output_type": "stream",
     "text": [
      "The employee John has just logged in.\n",
      "The employee John has just logged out.\n"
     ]
    }
   ],
   "source": [
    "class Employee:\n",
    "    def __init__(self, name, employee_id):\n",
    "        self.name = name\n",
    "        self.employee_id = employee_id\n",
    "\n",
    "    def login(self):\n",
    "        print(f\"The employee {self.name} has just logged in.\")\n",
    "\n",
    "    def logout(self):\n",
    "        print(f\"The employee {self.name} has just logged out.\")\n",
    "\n",
    "class Supervisor(Employee):\n",
    "    pass\n",
    "\n",
    "supervisor = Supervisor(\"John\", \"1001\")\n",
    "supervisor.login()\n",
    "supervisor.logout()"
   ]
  },
  {
   "cell_type": "markdown",
   "metadata": {},
   "source": [
    "#### Overriding a subclass method completely and `mro`\n",
    "\n",
    "Python allows you to override a class method in its entirety by simply defining the overridden method in the subclass:"
   ]
  },
  {
   "cell_type": "code",
   "execution_count": 31,
   "metadata": {},
   "outputs": [
    {
     "name": "stdout",
     "output_type": "stream",
     "text": [
      "The supervisor John has just logged in.\n",
      "The employee John has just logged out.\n"
     ]
    }
   ],
   "source": [
    "class Employee:\n",
    "    def __init__(self, name, employee_id):\n",
    "        self.name = name\n",
    "        self.employee_id = employee_id\n",
    "\n",
    "    def login(self):\n",
    "        print(f\"The employee {self.name} has just logged in.\")\n",
    "\n",
    "    def logout(self):\n",
    "        print(f\"The employee {self.name} has just logged out.\")\n",
    "\n",
    "class Supervisor(Employee):\n",
    "    def login(self):\n",
    "        print(f\"The supervisor {self.name} has just logged in.\")\n",
    "\n",
    "supervisor = Supervisor(\"John\", \"1001\")\n",
    "supervisor.login()\n",
    "supervisor.logout() # not overridden\n"
   ]
  },
  {
   "cell_type": "markdown",
   "metadata": {},
   "source": [
    "*MRO* (Method Resolution Order) dictates that when you call a method on an instance it calls the one that is closer to the instance.\n",
    "\n",
    "You can inspect what the MRO looks like using the `mro` method in a class:"
   ]
  },
  {
   "cell_type": "code",
   "execution_count": 32,
   "metadata": {},
   "outputs": [
    {
     "data": {
      "text/plain": [
       "[__main__.Supervisor, __main__.Employee, object]"
      ]
     },
     "execution_count": 32,
     "metadata": {},
     "output_type": "execute_result"
    }
   ],
   "source": [
    "class Employee:\n",
    "    def __init__(self, name, employee_id):\n",
    "        self.name = name\n",
    "        self.employee_id = employee_id\n",
    "\n",
    "    def login(self):\n",
    "        print(f\"The employee {self.name} has just logged in.\")\n",
    "\n",
    "    def logout(self):\n",
    "        print(f\"The employee {self.name} has just logged out.\")\n",
    "\n",
    "class Supervisor(Employee):\n",
    "    def login(self):\n",
    "        print(f\"The supervisor {self.name} has just logged in.\")\n",
    "\n",
    "Supervisor.mro()"
   ]
  },
  {
   "cell_type": "markdown",
   "metadata": {},
   "source": [
    "### Overriding a method partially using `super()`\n",
    "\n",
    "Oftentimes, you will want to override the inherited implementation of a method to enhance it, rather than to change it completely.\n",
    "\n",
    "In those cases, you'll need to use the `super` keyword:"
   ]
  },
  {
   "cell_type": "code",
   "execution_count": 33,
   "metadata": {},
   "outputs": [
    {
     "name": "stdout",
     "output_type": "stream",
     "text": [
      "The employee John has just logged out.\n",
      "Applying additional logout actions for a supervisor.\n"
     ]
    }
   ],
   "source": [
    "class Employee:\n",
    "    def __init__(self, name, employee_id):\n",
    "        self.name = name\n",
    "        self.employee_id = employee_id\n",
    "\n",
    "    def login(self):\n",
    "        print(f\"The employee {self.name} has just logged in.\")\n",
    "\n",
    "    def logout(self):\n",
    "        print(f\"The employee {self.name} has just logged out.\")\n",
    "\n",
    "class Supervisor(Employee):\n",
    "    def login(self):\n",
    "        print(f\"The supervisor {self.name} has just logged in.\")\n",
    "\n",
    "    def logout(self):\n",
    "        super().logout()\n",
    "        print(f\"Applying additional logout actions for a supervisor.\")\n",
    "\n",
    "supervisor = Supervisor(\"John\", \"1001\")\n",
    "supervisor.logout()     # partially overridden"
   ]
  },
  {
   "cell_type": "markdown",
   "metadata": {},
   "source": [
    "### Enumerations using `Enum` classes\n",
    "\n",
    "While you may be tempted to use regular classes for enumerations, you will find a couple of drawbacks:\n",
    "\n",
    "1. The type of the members are not `Direction`, but `int`.\n",
    "2. You can't iterate over the attributes."
   ]
  },
  {
   "cell_type": "code",
   "execution_count": 1,
   "metadata": {},
   "outputs": [],
   "source": [
    "class Direction:\n",
    "    NORTH = 0\n",
    "    EAST = 1\n",
    "    SOUTH = 2\n",
    "    WEST = 3\n",
    "\n",
    "def move_to(direction: Direction, distance: float):\n",
    "    ...\n",
    "\n",
    "assert type(Direction.NORTH) == int"
   ]
  },
  {
   "cell_type": "markdown",
   "metadata": {},
   "source": [
    "A better solution involves the use of an enumeration class, which does not have any of the aforementioned drawbacks:"
   ]
  },
  {
   "cell_type": "code",
   "execution_count": 3,
   "metadata": {},
   "outputs": [
    {
     "name": "stdout",
     "output_type": "stream",
     "text": [
      "Direction.NORTH\n",
      "Direction.EAST\n",
      "Direction.SOUTH\n",
      "Direction.WEST\n"
     ]
    }
   ],
   "source": [
    "from enum import Enum\n",
    "\n",
    "class Direction(Enum):\n",
    "    NORTH = 0\n",
    "    EAST = 1\n",
    "    SOUTH = 2\n",
    "    WEST = 3\n",
    "\n",
    "def move_to(direction: Direction, distance: float):\n",
    "    ...\n",
    "\n",
    "assert type(Direction.NORTH) == Direction\n",
    "\n",
    "for direction in Direction:\n",
    "    print(direction)"
   ]
  },
  {
   "cell_type": "markdown",
   "metadata": {},
   "source": [
    "In addition, we're not constrained to use ints, we can use other types such as strings:"
   ]
  },
  {
   "cell_type": "code",
   "execution_count": null,
   "metadata": {},
   "outputs": [],
   "source": [
    "from enum import Enum\n",
    "\n",
    "class Direction(Enum):\n",
    "    NORTH = \"N\"\n",
    "    EAST = \"E\"\n",
    "    SOUTH = \"S\"\n",
    "    WEST = \"W\""
   ]
  },
  {
   "cell_type": "markdown",
   "metadata": {},
   "source": [
    "We can use `type` and `isinstance` in a consistent manner when using Enum classes:"
   ]
  },
  {
   "cell_type": "code",
   "execution_count": 5,
   "metadata": {},
   "outputs": [],
   "source": [
    "from enum import Enum\n",
    "\n",
    "class Direction(Enum):\n",
    "    NORTH = 0\n",
    "    EAST = 1\n",
    "    SOUTH = 2\n",
    "    WEST = 3\n",
    "\n",
    "north = Direction.NORTH\n",
    "\n",
    "assert type(north) == Direction\n",
    "assert isinstance(north, Direction) == True"
   ]
  },
  {
   "cell_type": "markdown",
   "metadata": {},
   "source": [
    "You can access the an enumeration member name and value:"
   ]
  },
  {
   "cell_type": "code",
   "execution_count": 7,
   "metadata": {},
   "outputs": [],
   "source": [
    "from enum import Enum\n",
    "\n",
    "class Direction(Enum):\n",
    "    NORTH = 0\n",
    "    EAST = 1\n",
    "    SOUTH = 2\n",
    "    WEST = 3\n",
    "\n",
    "north = Direction.NORTH\n",
    "\n",
    "assert north.name == \"NORTH\"\n",
    "assert north.value == 0"
   ]
  },
  {
   "cell_type": "markdown",
   "metadata": {},
   "source": [
    "#### Instantiating an enumerated member from its value\n",
    "\n",
    "Consider an enum that defines the 4 possible directions:\n",
    "    NORTH = 0\n",
    "    EAST = 1\n",
    "    SOUTH = 2\n",
    "    WEST = 3\n",
    "\n",
    "If you need to instantiate one of its members (e.g., SOUTH) from its value, you only need to use the constructor of the Enumerated class:"
   ]
  },
  {
   "cell_type": "code",
   "execution_count": 8,
   "metadata": {},
   "outputs": [],
   "source": [
    "from enum import Enum\n",
    "\n",
    "class Direction(Enum):\n",
    "    NORTH = 0\n",
    "    EAST = 1\n",
    "    SOUTH = 2\n",
    "    WEST = 3\n",
    "\n",
    "direction = Direction(2)\n",
    "assert direction == Direction.SOUTH"
   ]
  },
  {
   "cell_type": "markdown",
   "metadata": {},
   "source": [
    "Trying to instantiate from a value that is not part of the enumeration will fail:"
   ]
  },
  {
   "cell_type": "code",
   "execution_count": 10,
   "metadata": {},
   "outputs": [
    {
     "name": "stdout",
     "output_type": "stream",
     "text": [
      "Oops: 5 is not a valid Direction\n"
     ]
    }
   ],
   "source": [
    "from enum import Enum\n",
    "\n",
    "class Direction(Enum):\n",
    "    NORTH = 0\n",
    "    EAST = 1\n",
    "    SOUTH = 2\n",
    "    WEST = 3\n",
    "\n",
    "try:\n",
    "    direction = Direction(5)\n",
    "except Exception as e:\n",
    "    print(f\"Oops: {e}\")"
   ]
  },
  {
   "cell_type": "markdown",
   "metadata": {},
   "source": [
    "#### Iterating over all enumeration members\n",
    "\n",
    "By design, any subclass of `Enum` is by design an iterable:\n"
   ]
  },
  {
   "cell_type": "code",
   "execution_count": 12,
   "metadata": {},
   "outputs": [
    {
     "name": "stdout",
     "output_type": "stream",
     "text": [
      "[<Direction.NORTH: 0>, <Direction.EAST: 1>, <Direction.SOUTH: 2>, <Direction.WEST: 3>]\n",
      "Direction.NORTH\n",
      "Direction.EAST\n",
      "Direction.SOUTH\n",
      "Direction.WEST\n"
     ]
    }
   ],
   "source": [
    "all_directions = list(Direction)\n",
    "\n",
    "print(all_directions)\n",
    "\n",
    "for direction in Direction:\n",
    "    print(direction)"
   ]
  },
  {
   "cell_type": "markdown",
   "metadata": {},
   "source": [
    "#### Defining methods for an enumeration class\n",
    "\n",
    "An enumeration class is still a Python class, so you can define applicable methods if required, such as `__str__`:"
   ]
  },
  {
   "cell_type": "code",
   "execution_count": 18,
   "metadata": {},
   "outputs": [
    {
     "name": "stdout",
     "output_type": "stream",
     "text": [
      "Direction(NORTH: 0)\n",
      "north\n",
      "Move north for 2.5 miles\n"
     ]
    }
   ],
   "source": [
    "from enum import Enum\n",
    "\n",
    "class Direction(Enum):\n",
    "    NORTH = 0\n",
    "    EAST = 1\n",
    "    SOUTH = 2\n",
    "    WEST = 3\n",
    "\n",
    "    def __str__(self):\n",
    "        return self.name.lower()\n",
    "\n",
    "    def __repr__(self):\n",
    "        return f\"Direction({self.name}: {self.value})\"\n",
    "\n",
    "north = Direction.NORTH\n",
    "print(repr(north))\n",
    "print(north)\n",
    "\n",
    "def move_to(direction: Direction, distance: float) -> None:\n",
    "    if direction in Direction:\n",
    "        print(f\"Move {direction} for {distance} miles\")\n",
    "    else:\n",
    "        print(f\"Wrong input for direction: {direction}\")\n",
    "\n",
    "move_to(north, 2.5)"
   ]
  },
  {
   "cell_type": "markdown",
   "metadata": {},
   "source": [
    "### Using `@dataclass` to eliminate boilerplate code\n",
    "\n",
    "The `@dataclass` decorator available in the `dataclasses` module lets you eliminate the boilerplate associated with the creation of classes that hold values.\n",
    "\n",
    "Compared with names tuples, which are a lightweight data model, data classes support mutability and can be enriched with custom methods and support inheritance.\n",
    "\n",
    "Consider the following example that models a data class for a restaurant bill:"
   ]
  },
  {
   "cell_type": "code",
   "execution_count": 20,
   "metadata": {},
   "outputs": [
    {
     "name": "stdout",
     "output_type": "stream",
     "text": [
      "Today's bill: Bill(table_number=5, meal_amount=60.5, served_by='Jason', tip_amount=10)\n",
      "Today's bill: Bill(table_number=7, meal_amount=15.23, served_by='Jane', tip_amount=3.5)\n",
      "Today's bill: Bill(table_number=5, meal_amount=60.5, served_by='Jason', tip_amount=10)\n"
     ]
    }
   ],
   "source": [
    "from dataclasses import dataclass\n",
    "\n",
    "@dataclass\n",
    "class Bill:\n",
    "    table_number: int\n",
    "    meal_amount: float\n",
    "    served_by: str\n",
    "    tip_amount: float\n",
    "\n",
    "\n",
    "bill0 = Bill(5, 60.5, \"Jason\", 10)\n",
    "print(f\"Today's bill: {bill0}\")\n",
    "\n",
    "bill1 = Bill(7, 15.23, \"Jane\", 3.5)\n",
    "print(f\"Today's bill: {bill1}\")\n",
    "print(f\"Today's bill: {bill0}\")"
   ]
  },
  {
   "cell_type": "markdown",
   "metadata": {},
   "source": [
    "Note how the `__init__` and `__repr__` has been implemented for us, and that while the definition looks like class attributes, they're actually instance attributes."
   ]
  },
  {
   "cell_type": "markdown",
   "metadata": {},
   "source": [
    "Dataclasses support specifying default values:"
   ]
  },
  {
   "cell_type": "code",
   "execution_count": 21,
   "metadata": {},
   "outputs": [
    {
     "name": "stdout",
     "output_type": "stream",
     "text": [
      "Today's bill: Bill(table_number=5, meal_amount=60.5, served_by='Jason', tip_amount=0)\n"
     ]
    }
   ],
   "source": [
    "from dataclasses import dataclass\n",
    "\n",
    "@dataclass\n",
    "class Bill:\n",
    "    table_number: int\n",
    "    meal_amount: float\n",
    "    served_by: str\n",
    "    tip_amount: float = 0\n",
    "\n",
    "bill0 = Bill(5, 60.5, \"Jason\")\n",
    "print(f\"Today's bill: {bill0}\")"
   ]
  },
  {
   "cell_type": "markdown",
   "metadata": {},
   "source": [
    "Dataclasses look like named tuples, but they're mutable:"
   ]
  },
  {
   "cell_type": "code",
   "execution_count": 23,
   "metadata": {},
   "outputs": [
    {
     "name": "stdout",
     "output_type": "stream",
     "text": [
      "Today's bill: Bill(table_number=5, meal_amount=60.5, served_by='Jane', tip_amount=0)\n"
     ]
    }
   ],
   "source": [
    "from dataclasses import dataclass\n",
    "\n",
    "@dataclass\n",
    "class Bill:\n",
    "    table_number: int\n",
    "    meal_amount: float\n",
    "    served_by: str\n",
    "    tip_amount: float = 0\n",
    "\n",
    "bill0 = Bill(5, 60.5, \"Jason\")\n",
    "bill0.served_by = \"Jane\"\n",
    "print(f\"Today's bill: {bill0}\")"
   ]
  },
  {
   "cell_type": "markdown",
   "metadata": {},
   "source": [
    "#### Creating immutable dataclasses\n",
    "\n",
    "You can create immutable dataclasses by passing an additional argument to the `@dataclass` decorator:"
   ]
  },
  {
   "cell_type": "code",
   "execution_count": 22,
   "metadata": {},
   "outputs": [
    {
     "name": "stdout",
     "output_type": "stream",
     "text": [
      "Oops: cannot assign to field 'served_by'\n"
     ]
    }
   ],
   "source": [
    "from dataclasses import dataclass\n",
    "\n",
    "@dataclass(frozen=True)\n",
    "class Bill:\n",
    "    table_number: int\n",
    "    meal_amount: float\n",
    "    served_by: str\n",
    "    tip_amount: float = 0\n",
    "\n",
    "immutable_bill = Bill(5, 60.5, \"Jason\")\n",
    "try:\n",
    "    immutable_bill.served_by = \"Jane\"\n",
    "except Exception as e:\n",
    "    print(f\"Oops: {e}\")"
   ]
  },
  {
   "cell_type": "markdown",
   "metadata": {},
   "source": [
    "#### Creating hierarchies of dataclasses\n",
    "\n",
    "At its core, a data class has the same extensibility features as other regular custom classes. However, several aspects of the `@dataclass` decorator must be taken into account."
   ]
  },
  {
   "cell_type": "code",
   "execution_count": 24,
   "metadata": {},
   "outputs": [
    {
     "name": "stdout",
     "output_type": "stream",
     "text": [
      "TippedBill(meal_amount=30, tip_amount=4.5)\n"
     ]
    }
   ],
   "source": [
    "from dataclasses import dataclass\n",
    "\n",
    "@dataclass\n",
    "class BaseBill:\n",
    "    meal_amount: float\n",
    "\n",
    "@dataclass\n",
    "class TippedBill(BaseBill):\n",
    "    tip_amount: float\n",
    "\n",
    "bill0 = TippedBill(30, 4.5)\n",
    "print(bill0)"
   ]
  },
  {
   "cell_type": "markdown",
   "metadata": {},
   "source": [
    "Attributes from the base class are inherited by the subclass.\n",
    "\n",
    "However, you might find problems when the superclass defines default values:"
   ]
  },
  {
   "cell_type": "code",
   "execution_count": 28,
   "metadata": {},
   "outputs": [
    {
     "ename": "TypeError",
     "evalue": "non-default argument 'tip_amount' follows default argument",
     "output_type": "error",
     "traceback": [
      "\u001b[0;31m---------------------------------------------------------------------------\u001b[0m",
      "\u001b[0;31mTypeError\u001b[0m                                 Traceback (most recent call last)",
      "Cell \u001b[0;32mIn[28], line 8\u001b[0m\n\u001b[1;32m      3\u001b[0m \u001b[39m@dataclass\u001b[39m\n\u001b[1;32m      4\u001b[0m \u001b[39mclass\u001b[39;00m \u001b[39mBaseBill\u001b[39;00m:\n\u001b[1;32m      5\u001b[0m     meal_amount: \u001b[39mfloat\u001b[39m \u001b[39m=\u001b[39m \u001b[39m25.95\u001b[39m\n\u001b[1;32m      7\u001b[0m \u001b[39m@dataclass\u001b[39;49m\n\u001b[0;32m----> 8\u001b[0m \u001b[39mclass\u001b[39;49;00m \u001b[39mTippedBill\u001b[39;49;00m(BaseBill):\n\u001b[1;32m      9\u001b[0m     tip_amount: \u001b[39mfloat\u001b[39;49m\n\u001b[1;32m     11\u001b[0m \u001b[39m# compile-time error:\u001b[39;00m\n\u001b[1;32m     12\u001b[0m \u001b[39m#  Non-default argument follows default argument\u001b[39;00m\n\u001b[1;32m     13\u001b[0m \u001b[39m# bill0 = TippedBill(30, 4.5)  \u001b[39;00m\n",
      "File \u001b[0;32m~/miniconda3/lib/python3.10/dataclasses.py:1184\u001b[0m, in \u001b[0;36mdataclass\u001b[0;34m(cls, init, repr, eq, order, unsafe_hash, frozen, match_args, kw_only, slots)\u001b[0m\n\u001b[1;32m   1181\u001b[0m     \u001b[39mreturn\u001b[39;00m wrap\n\u001b[1;32m   1183\u001b[0m \u001b[39m# We're called as @dataclass without parens.\u001b[39;00m\n\u001b[0;32m-> 1184\u001b[0m \u001b[39mreturn\u001b[39;00m wrap(\u001b[39mcls\u001b[39;49m)\n",
      "File \u001b[0;32m~/miniconda3/lib/python3.10/dataclasses.py:1175\u001b[0m, in \u001b[0;36mdataclass.<locals>.wrap\u001b[0;34m(cls)\u001b[0m\n\u001b[1;32m   1174\u001b[0m \u001b[39mdef\u001b[39;00m \u001b[39mwrap\u001b[39m(\u001b[39mcls\u001b[39m):\n\u001b[0;32m-> 1175\u001b[0m     \u001b[39mreturn\u001b[39;00m _process_class(\u001b[39mcls\u001b[39;49m, init, \u001b[39mrepr\u001b[39;49m, eq, order, unsafe_hash,\n\u001b[1;32m   1176\u001b[0m                           frozen, match_args, kw_only, slots)\n",
      "File \u001b[0;32m~/miniconda3/lib/python3.10/dataclasses.py:1024\u001b[0m, in \u001b[0;36m_process_class\u001b[0;34m(cls, init, repr, eq, order, unsafe_hash, frozen, match_args, kw_only, slots)\u001b[0m\n\u001b[1;32m   1019\u001b[0m \u001b[39mif\u001b[39;00m init:\n\u001b[1;32m   1020\u001b[0m     \u001b[39m# Does this class have a post-init function?\u001b[39;00m\n\u001b[1;32m   1021\u001b[0m     has_post_init \u001b[39m=\u001b[39m \u001b[39mhasattr\u001b[39m(\u001b[39mcls\u001b[39m, _POST_INIT_NAME)\n\u001b[1;32m   1023\u001b[0m     _set_new_attribute(\u001b[39mcls\u001b[39m, \u001b[39m'\u001b[39m\u001b[39m__init__\u001b[39m\u001b[39m'\u001b[39m,\n\u001b[0;32m-> 1024\u001b[0m                        _init_fn(all_init_fields,\n\u001b[1;32m   1025\u001b[0m                                 std_init_fields,\n\u001b[1;32m   1026\u001b[0m                                 kw_only_init_fields,\n\u001b[1;32m   1027\u001b[0m                                 frozen,\n\u001b[1;32m   1028\u001b[0m                                 has_post_init,\n\u001b[1;32m   1029\u001b[0m                                 \u001b[39m# The name to use for the \"self\"\u001b[39;49;00m\n\u001b[1;32m   1030\u001b[0m                                 \u001b[39m# param in __init__.  Use \"self\"\u001b[39;49;00m\n\u001b[1;32m   1031\u001b[0m                                 \u001b[39m# if possible.\u001b[39;49;00m\n\u001b[1;32m   1032\u001b[0m                                 \u001b[39m'\u001b[39;49m\u001b[39m__dataclass_self__\u001b[39;49m\u001b[39m'\u001b[39;49m \u001b[39mif\u001b[39;49;00m \u001b[39m'\u001b[39;49m\u001b[39mself\u001b[39;49m\u001b[39m'\u001b[39;49m \u001b[39min\u001b[39;49;00m fields\n\u001b[1;32m   1033\u001b[0m                                         \u001b[39melse\u001b[39;49;00m \u001b[39m'\u001b[39;49m\u001b[39mself\u001b[39;49m\u001b[39m'\u001b[39;49m,\n\u001b[1;32m   1034\u001b[0m                                 \u001b[39mglobals\u001b[39;49m,\n\u001b[1;32m   1035\u001b[0m                                 slots,\n\u001b[1;32m   1036\u001b[0m                       ))\n\u001b[1;32m   1038\u001b[0m \u001b[39m# Get the fields as a list, and include only real fields.  This is\u001b[39;00m\n\u001b[1;32m   1039\u001b[0m \u001b[39m# used in all of the following methods.\u001b[39;00m\n\u001b[1;32m   1040\u001b[0m field_list \u001b[39m=\u001b[39m [f \u001b[39mfor\u001b[39;00m f \u001b[39min\u001b[39;00m fields\u001b[39m.\u001b[39mvalues() \u001b[39mif\u001b[39;00m f\u001b[39m.\u001b[39m_field_type \u001b[39mis\u001b[39;00m _FIELD]\n",
      "File \u001b[0;32m~/miniconda3/lib/python3.10/dataclasses.py:544\u001b[0m, in \u001b[0;36m_init_fn\u001b[0;34m(fields, std_fields, kw_only_fields, frozen, has_post_init, self_name, globals, slots)\u001b[0m\n\u001b[1;32m    542\u001b[0m             seen_default \u001b[39m=\u001b[39m \u001b[39mTrue\u001b[39;00m\n\u001b[1;32m    543\u001b[0m         \u001b[39melif\u001b[39;00m seen_default:\n\u001b[0;32m--> 544\u001b[0m             \u001b[39mraise\u001b[39;00m \u001b[39mTypeError\u001b[39;00m(\u001b[39mf\u001b[39m\u001b[39m'\u001b[39m\u001b[39mnon-default argument \u001b[39m\u001b[39m{\u001b[39;00mf\u001b[39m.\u001b[39mname\u001b[39m!r}\u001b[39;00m\u001b[39m \u001b[39m\u001b[39m'\u001b[39m\n\u001b[1;32m    545\u001b[0m                             \u001b[39m'\u001b[39m\u001b[39mfollows default argument\u001b[39m\u001b[39m'\u001b[39m)\n\u001b[1;32m    547\u001b[0m \u001b[39mlocals\u001b[39m \u001b[39m=\u001b[39m {\u001b[39mf\u001b[39m\u001b[39m'\u001b[39m\u001b[39m_type_\u001b[39m\u001b[39m{\u001b[39;00mf\u001b[39m.\u001b[39mname\u001b[39m}\u001b[39;00m\u001b[39m'\u001b[39m: f\u001b[39m.\u001b[39mtype \u001b[39mfor\u001b[39;00m f \u001b[39min\u001b[39;00m fields}\n\u001b[1;32m    548\u001b[0m \u001b[39mlocals\u001b[39m\u001b[39m.\u001b[39mupdate({\n\u001b[1;32m    549\u001b[0m     \u001b[39m'\u001b[39m\u001b[39mMISSING\u001b[39m\u001b[39m'\u001b[39m: MISSING,\n\u001b[1;32m    550\u001b[0m     \u001b[39m'\u001b[39m\u001b[39m_HAS_DEFAULT_FACTORY\u001b[39m\u001b[39m'\u001b[39m: _HAS_DEFAULT_FACTORY,\n\u001b[1;32m    551\u001b[0m     \u001b[39m'\u001b[39m\u001b[39m__dataclass_builtins_object__\u001b[39m\u001b[39m'\u001b[39m: \u001b[39mobject\u001b[39m,\n\u001b[1;32m    552\u001b[0m })\n",
      "\u001b[0;31mTypeError\u001b[0m: non-default argument 'tip_amount' follows default argument"
     ]
    }
   ],
   "source": [
    "from dataclasses import dataclass\n",
    "\n",
    "@dataclass\n",
    "class BaseBill:\n",
    "    meal_amount: float = 25.95\n",
    "\n",
    "@dataclass\n",
    "class TippedBill(BaseBill):\n",
    "    tip_amount: float\n",
    "\n",
    "# compile-time error:\n",
    "#  Non-default argument follows default argument\n",
    "bill0 = TippedBill(30, 4.5)"
   ]
  },
  {
   "cell_type": "markdown",
   "metadata": {},
   "source": [
    "Thus, in most cases, you may want to avoid setting default values for the superclass, so that you'll have more flexibility to implement your subclasses.\n",
    "\n",
    "Otherwise, you'll need to provide default values for all the values of the subclasses too:"
   ]
  },
  {
   "cell_type": "code",
   "execution_count": 29,
   "metadata": {},
   "outputs": [],
   "source": [
    "from dataclasses import dataclass\n",
    "\n",
    "@dataclass\n",
    "class BaseBill:\n",
    "    meal_amount: float = 25.95\n",
    "\n",
    "@dataclass\n",
    "class TippedBill(BaseBill):\n",
    "    tip_amount: float = 0.99\n",
    "\n",
    "bill0 = TippedBill(30, 4.5)"
   ]
  },
  {
   "cell_type": "markdown",
   "metadata": {},
   "source": [
    "### Creating lazy attributes (lazy evaluation)\n",
    "\n",
    "Lazy evaluation is an implementation paradigm the defers the evaluation of expensive operations until it is strictly required.\n",
    "\n",
    "Generators are application of lazy evaluations, on which the retrieval of an item is deferred until required, instead of materializing a potentially memory hungry huge list.\n",
    "\n",
    "Let consider the following scenario involving a social media app in which a user can follow other users. The app provides the following capabilities:\n",
    "+ View a user's followers. \n",
    "+ Getting a user's detailed profile by tapping on the user's thumbnail\n",
    "\n",
    "The *stubbed* backend implementation for such capabilities would be like:"
   ]
  },
  {
   "cell_type": "code",
   "execution_count": 74,
   "metadata": {},
   "outputs": [
    {
     "name": "stdout",
     "output_type": "stream",
     "text": [
      ">>> Retrieving followers for Emma\n",
      "*** retrieving followers from server for user {username}\n",
      "*** retrieving data from the server and loading it in memory\n"
     ]
    },
    {
     "name": "stdout",
     "output_type": "stream",
     "text": [
      "### Jason created\n",
      "*** retrieving data from the server and loading it in memory\n",
      "### Florence created\n",
      "*** retrieving data from the server and loading it in memory\n",
      "### Margot created\n",
      ">>> Followers retrieved in 3.0050675868988037 msec\n"
     ]
    }
   ],
   "source": [
    "import time\n",
    "from datetime import datetime\n",
    "\n",
    "class User:\n",
    "    def __init__(self, username) -> None:\n",
    "        self.username = username\n",
    "        self.profile_data = self._get_profile_data()\n",
    "        print(f\"### {username} created\")\n",
    "\n",
    "    def _get_profile_data(self):\n",
    "        print(\"*** retrieving data from the server and loading it in memory\")\n",
    "        time.sleep(1)\n",
    "        fetched_data = \"(expensive to retrieve data here)\"\n",
    "        return fetched_data\n",
    "\n",
    "def get_followers(username):\n",
    "    print(f\"*** retrieving followers from server for user {username}\")\n",
    "    usernames_fetched = [\"Jason\", \"Florence\", \"Margot\"]\n",
    "    followers = [User(username) for username in usernames_fetched]\n",
    "    return followers\n",
    "\n",
    "print(f\">>> Retrieving followers for Emma\")\n",
    "start_time = time.time()\n",
    "followers = get_followers(\"Emma\")\n",
    "print(f\">>> Followers retrieved in {time.time() - start_time} msec\")\n"
   ]
  },
  {
   "cell_type": "markdown",
   "metadata": {},
   "source": [
    "A simple `get_followers` operation is taking a long time because we're unnecessarily loading the profile data for each and every user. That seems unnecessary, as they user might not need to get all the follower's details.\n",
    "\n",
    "We'll see two different techniques to solve it:\n",
    "+ [overriding `__getattr__` special method to implement lazy attributes](#overriding-__getattr__-to-implement-lazy-attributes)\n",
    "+ [implementing a property as a lazy attribute](#implementing-a-property-as-a-lazy-attribute)"
   ]
  },
  {
   "cell_type": "markdown",
   "metadata": {},
   "source": [
    "#### Overriding `__getattr__` to implement lazy attributes\n",
    "\n",
    "There are a set of special methods (like `__str__` and `__repr__`) that we can override to provide custom behavir.\n",
    "\n",
    "One of those methods is `__getattr__` that let you customize access to the instance attribute, and that can be used to implement lazy evaluation.\n",
    "\n",
    "For custom classes, we can find the instance attributes stored in a dictionary that can be accessed through `__dict__`. This object uses the attribute names as keys, and the attribute values as the corresponding dictionary values.\n",
    "\n",
    "If that dictionary does not include an attribute, the special method `__getattr__` gets called as a fallback mechanism. Then, in the implementaation you can either provide a value for that requested attribute, or an `AttributeError` will be raised if no value is provided in the implementation.\n",
    "\n",
    "As a result:"
   ]
  },
  {
   "cell_type": "code",
   "execution_count": 79,
   "metadata": {},
   "outputs": [
    {
     "name": "stdout",
     "output_type": "stream",
     "text": [
      ">>> Retrieving followers for Emma\n",
      "*** retrieving followers from server for user Emma\n",
      "### Jason created\n",
      "### Florence created\n",
      "### Margot created\n",
      ">>> Followers retrieved in 0.00011515617370605469 msec\n",
      "### Emma created\n",
      "\n",
      ">>> Retrieving Emma's profile data\n",
      "*** __getattr__ called for profile_data\n",
      "*** retrieving data from the server and loading it in memory\n",
      "(expensive to retrieve data here)\n",
      ">>> Emma's profile data retrieved in 1.00 msec\n",
      "\n",
      ">>> Retrieving Emma's profile data (again)\n",
      "(expensive to retrieve data here)\n",
      ">>> Emma's profile data retrieved in 0.00 msec\n"
     ]
    }
   ],
   "source": [
    "import time\n",
    "from datetime import datetime\n",
    "\n",
    "class User:\n",
    "    def __init__(self, username) -> None:\n",
    "        self.username = username\n",
    "        print(f\"### {username} created\")\n",
    "\n",
    "    def __getattr__(self, item):\n",
    "        print(f\"*** __getattr__ called for {item}\")\n",
    "        if item == \"profile_data\":\n",
    "            profile_data = self._get_profile_data()\n",
    "            setattr(self, item, profile_data)\n",
    "            return profile_data\n",
    "\n",
    "\n",
    "    def _get_profile_data(self):\n",
    "        print(\"*** retrieving data from the server and loading it in memory\")\n",
    "        time.sleep(1)\n",
    "        fetched_data = \"(expensive to retrieve data here)\"\n",
    "        return fetched_data\n",
    "\n",
    "def get_followers(username):\n",
    "    print(f\"*** retrieving followers from server for user {username}\")\n",
    "    usernames_fetched = [\"Jason\", \"Florence\", \"Margot\"]\n",
    "    followers = [User(username) for username in usernames_fetched]\n",
    "    return followers\n",
    "\n",
    "print(f\">>> Retrieving followers for Emma\")\n",
    "start_time = time.time()\n",
    "followers = get_followers(\"Emma\")\n",
    "print(f\">>> Followers retrieved in {time.time() - start_time} msec\")\n",
    "\n",
    "\n",
    "emma = User(\"Emma\")\n",
    "print(f\"\\n>>> Retrieving Emma's profile data\")\n",
    "start_time = time.time()\n",
    "profile_data = emma.profile_data\n",
    "print(profile_data)\n",
    "print(f\">>> Emma's profile data retrieved in {time.time() - start_time:.2f} msec\")\n",
    "\n",
    "\n",
    "print(f\"\\n>>> Retrieving Emma's profile data (again)\")\n",
    "start_time = time.time()\n",
    "profile_data = emma.profile_data\n",
    "print(profile_data)\n",
    "print(f\">>> Emma's profile data retrieved in {time.time() - start_time:.2f} msec\")\n"
   ]
  },
  {
   "cell_type": "markdown",
   "metadata": {},
   "source": [
    "Now getting the followers take only a fraction of a second because we don't need to perform the expensive operation involving retrieving the user details for each of the followers.\n",
    "\n",
    "Note that:\n",
    "+ in the `__init__` method we have removed setting up the `profile_data`. It will be handled through `__getattr__`.\n",
    "+ in the `__getattr__` method we check whether the `\"profile_data\"` is being requested, if so, we run the expensive operation, and also use `setattr` so that we don't need to go through the expensive operation again (it's cached!)"
   ]
  },
  {
   "cell_type": "markdown",
   "metadata": {},
   "source": [
    "#### Implementing a property as a lazy attribute\n",
    "\n",
    "In this section we will leveraget the `@property` decorator that we know can be used to implement setters and getters. In a way, we will be able to intercept when an attribute is accessed."
   ]
  },
  {
   "cell_type": "code",
   "execution_count": 82,
   "metadata": {},
   "outputs": [
    {
     "name": "stdout",
     "output_type": "stream",
     "text": [
      ">>> Retrieving followers for Emma\n",
      "*** retrieving followers from server for user Emma\n",
      "### Jason created\n",
      "### Florence created\n",
      "### Margot created\n",
      ">>> Followers retrieved in 0.0001533031463623047 msec\n",
      "### Emma created\n",
      "\n",
      ">>> Retrieving Emma's profile data\n",
      "*** retrieving data from the server and loading it in memory\n"
     ]
    },
    {
     "name": "stdout",
     "output_type": "stream",
     "text": [
      "None\n",
      ">>> Emma's profile data retrieved in 1.00 msec\n",
      "\n",
      ">>> Retrieving Emma's profile data (again)\n",
      "(expensive to retrieve data here)\n",
      ">>> Emma's profile data retrieved in 0.00 msec\n"
     ]
    }
   ],
   "source": [
    "import time\n",
    "from datetime import datetime\n",
    "\n",
    "class User:\n",
    "    def __init__(self, username) -> None:\n",
    "        self.username = username\n",
    "        self._profile_data = None\n",
    "        print(f\"### {username} created\")\n",
    "\n",
    "    @property\n",
    "    def profile_data(self):\n",
    "        if self._profile_data is None:\n",
    "            self._profile_data = self._get_profile_data()\n",
    "        else:\n",
    "            return self._profile_data\n",
    "\n",
    "    def _get_profile_data(self):\n",
    "        print(\"*** retrieving data from the server and loading it in memory\")\n",
    "        time.sleep(1)\n",
    "        fetched_data = \"(expensive to retrieve data here)\"\n",
    "        return fetched_data\n",
    "\n",
    "def get_followers(username):\n",
    "    print(f\"*** retrieving followers from server for user {username}\")\n",
    "    usernames_fetched = [\"Jason\", \"Florence\", \"Margot\"]\n",
    "    followers = [User(username) for username in usernames_fetched]\n",
    "    return followers\n",
    "\n",
    "print(f\">>> Retrieving followers for Emma\")\n",
    "start_time = time.time()\n",
    "followers = get_followers(\"Emma\")\n",
    "print(f\">>> Followers retrieved in {time.time() - start_time} msec\")\n",
    "\n",
    "emma = User(\"Emma\")\n",
    "print(f\"\\n>>> Retrieving Emma's profile data\")\n",
    "start_time = time.time()\n",
    "profile_data = emma.profile_data\n",
    "print(profile_data)\n",
    "print(f\">>> Emma's profile data retrieved in {time.time() - start_time:.2f} msec\")\n",
    "\n",
    "\n",
    "print(f\"\\n>>> Retrieving Emma's profile data (again)\")\n",
    "start_time = time.time()\n",
    "profile_data = emma.profile_data\n",
    "print(profile_data)\n",
    "print(f\">>> Emma's profile data retrieved in {time.time() - start_time:.2f} msec\")\n"
   ]
  },
  {
   "cell_type": "markdown",
   "metadata": {},
   "source": [
    "Again, now the followers are retrieved in a fraction of a second when it used to take 3 seconds.\n",
    "\n",
    "Also the caching mechanism is in place."
   ]
  },
  {
   "cell_type": "markdown",
   "metadata": {},
   "source": [
    "### Using `type` instrospection to create flexible methods and functions\n",
    "\n",
    "Consider the following list of tasks objects:\n",
    "\n",
    "```python\n",
    "tasks = [\n",
    "    Task(\"Toaster\", \"Clean the toaster\", 2),\n",
    "    Task(\"Camera\", \"Export photos\", 4),\n",
    "    Task(\"Homework\", \"Physics and math\", 5),\n",
    "    Task(\"Floor\", \"Mop the floor\", 3),\n",
    "    Task(\"Internet\", \"Upgrade plan\", 5),\n",
    "    Task(\"Laundry\", \"Wash clothes\", 3),\n",
    "    Task(\"Museum\", \"Egypt exhibit\", 4),\n",
    "    Task(\"Utility\", \"Pay bills\", 5)\n",
    "]\n",
    "```\n",
    "\n",
    "Create a function `filter_tasks(tasks, by_urgency)` that can filter out the tasks based on the given argument `by_urgency`. That argument can be either a value like `3` or a list as `[3, 4, 5]`.\n",
    "\n",
    "| HINT: |\n",
    "| :---- |\n",
    "| Use `type` to interrogate the type. |"
   ]
  },
  {
   "cell_type": "code",
   "execution_count": 5,
   "metadata": {},
   "outputs": [
    {
     "name": "stdout",
     "output_type": "stream",
     "text": [
      "[Task(title='Toaster', desc='Clean the toaster', urgency=2)]\n",
      "[Task(title='Toaster', desc='Clean the toaster', urgency=2), Task(title='Floor', desc='Mop the floor', urgency=3), Task(title='Laundry', desc='Wash clothes', urgency=3)]\n",
      "Oops: by_urgency requires int or list by got <class 'str'>\n"
     ]
    }
   ],
   "source": [
    "from dataclasses import dataclass\n",
    "\n",
    "@dataclass\n",
    "class Task:\n",
    "    title: str\n",
    "    desc: str\n",
    "    urgency: int\n",
    "\n",
    "def filter_tasks(tasks, by_urgency):\n",
    "    if type(by_urgency) == int:\n",
    "        result = [t for t in tasks if t.urgency == by_urgency]\n",
    "    elif type(by_urgency) == list:\n",
    "        result = [t for t in tasks if t.urgency in by_urgency]\n",
    "    else:\n",
    "        raise TypeError(f\"by_urgency requires int or list by got {type(by_urgency)}\")\n",
    "    return result\n",
    "\n",
    "\n",
    "tasks = [\n",
    "    Task(\"Toaster\", \"Clean the toaster\", 2),\n",
    "    Task(\"Camera\", \"Export photos\", 4),\n",
    "    Task(\"Homework\", \"Physics and math\", 5),\n",
    "    Task(\"Floor\", \"Mop the floor\", 3),\n",
    "    Task(\"Internet\", \"Upgrade plan\", 5),\n",
    "    Task(\"Laundry\", \"Wash clothes\", 3),\n",
    "    Task(\"Museum\", \"Egypt exhibit\", 4),\n",
    "    Task(\"Utility\", \"Pay bills\", 5)\n",
    "]\n",
    "\n",
    "print(filter_tasks(tasks, 2))\n",
    "print(filter_tasks(tasks, [2, 3]))\n",
    "\n",
    "try:\n",
    "    filter_tasks(tasks, \"Highest\")\n",
    "except Exception as e:\n",
    "    print(f\"Oops: {e}\")\n"
   ]
  },
  {
   "cell_type": "markdown",
   "metadata": {},
   "source": [
    "Note that with `type` you can use the `is` operator as in:\n",
    "\n",
    "```python\n",
    "if type(by_urgency) is int:\n",
    "  ...\n",
    "\n",
    "```"
   ]
  },
  {
   "cell_type": "markdown",
   "metadata": {},
   "source": [
    "### Using `isinstance` instrospection to create flexible methods and functions\n",
    "\n",
    "Consider the following list of tasks objects:\n",
    "\n",
    "```python\n",
    "tasks = [\n",
    "    Task(\"Toaster\", \"Clean the toaster\", 2),\n",
    "    Task(\"Camera\", \"Export photos\", 4),\n",
    "    Task(\"Homework\", \"Physics and math\", 5),\n",
    "    Task(\"Floor\", \"Mop the floor\", 3),\n",
    "    Task(\"Internet\", \"Upgrade plan\", 5),\n",
    "    Task(\"Laundry\", \"Wash clothes\", 3),\n",
    "    Task(\"Museum\", \"Egypt exhibit\", 4),\n",
    "    Task(\"Utility\", \"Pay bills\", 5)\n",
    "]\n",
    "```\n",
    "\n",
    "Create a function `filter_tasks(tasks, by_urgency)` that can filter out the tasks based on the given argument `by_urgency`. That argument can be either a value like `3` or a list as `[3, 4, 5]`, or a tuple as `(3, 4, 5)`.\n",
    "\n",
    "| HINT: |\n",
    "| :---- |\n",
    "| Use `isinstance` to interrogate the type. |"
   ]
  },
  {
   "cell_type": "markdown",
   "metadata": {},
   "source": [
    "`isinstance` is similar to type, but it's the preferred aproach for checking the an object's type because of its flexibility.\n",
    "\n",
    "```python\n",
    "assert isinstance(4, int)\n",
    "assert isinstance([4, 5], list)\n",
    "assert isinstance([4, 5], (int, list))\n",
    "```\n",
    "\n",
    "The first argument is the object to be checked and the second is a type or a tuple of classes. In the latter, it makes you a one-to-many comparison using an *or* approach.\n",
    "\n",
    "Additionally, `type` does not consider the class hierarchy, while `isinstance` does (see next exercise).\n",
    "\n",
    "As a result:"
   ]
  },
  {
   "cell_type": "code",
   "execution_count": 6,
   "metadata": {},
   "outputs": [
    {
     "name": "stdout",
     "output_type": "stream",
     "text": [
      "[Task(title='Toaster', desc='Clean the toaster', urgency=2)]\n",
      "[Task(title='Toaster', desc='Clean the toaster', urgency=2), Task(title='Floor', desc='Mop the floor', urgency=3), Task(title='Laundry', desc='Wash clothes', urgency=3)]\n",
      "[Task(title='Toaster', desc='Clean the toaster', urgency=2), Task(title='Floor', desc='Mop the floor', urgency=3), Task(title='Laundry', desc='Wash clothes', urgency=3)]\n",
      "Oops: by_urgency requires int or list by got <class 'str'>\n"
     ]
    }
   ],
   "source": [
    "from dataclasses import dataclass\n",
    "\n",
    "@dataclass\n",
    "class Task:\n",
    "    title: str\n",
    "    desc: str\n",
    "    urgency: int\n",
    "\n",
    "def filter_tasks(tasks, by_urgency):\n",
    "    if isinstance(by_urgency, int):\n",
    "        result = [t for t in tasks if t.urgency == by_urgency]\n",
    "    elif isinstance(by_urgency, (list, tuple)):\n",
    "        result = [t for t in tasks if t.urgency in by_urgency]\n",
    "    else:\n",
    "        raise TypeError(f\"by_urgency requires int or list by got {type(by_urgency)}\")\n",
    "    return result\n",
    "\n",
    "\n",
    "tasks = [\n",
    "    Task(\"Toaster\", \"Clean the toaster\", 2),\n",
    "    Task(\"Camera\", \"Export photos\", 4),\n",
    "    Task(\"Homework\", \"Physics and math\", 5),\n",
    "    Task(\"Floor\", \"Mop the floor\", 3),\n",
    "    Task(\"Internet\", \"Upgrade plan\", 5),\n",
    "    Task(\"Laundry\", \"Wash clothes\", 3),\n",
    "    Task(\"Museum\", \"Egypt exhibit\", 4),\n",
    "    Task(\"Utility\", \"Pay bills\", 5)\n",
    "]\n",
    "\n",
    "print(filter_tasks(tasks, 2))\n",
    "print(filter_tasks(tasks, [2, 3]))\n",
    "print(filter_tasks(tasks, (2, 3)))\n",
    "\n",
    "try:\n",
    "    filter_tasks(tasks, \"Highest\")\n",
    "except Exception as e:\n",
    "    print(f\"Oops: {e}\")\n"
   ]
  },
  {
   "cell_type": "markdown",
   "metadata": {},
   "source": [
    "### Using `isinstance` with class hierarchies\n",
    "\n",
    "Consider the following class hierarcy consisting of a `User` base class and a `Supervisor` subclass.\n",
    "\n",
    "Create an instance of the subclass named `supervisor`\n",
    "\n",
    "Perform the following comparisons:\n",
    "+ `type(supervisor) is User`\n",
    "+ `type(supervisor) is Supervisor`\n",
    "+ `isinstance(supervisor, User)`\n",
    "+ `isinstance(supervisor, Supervisor)`"
   ]
  },
  {
   "cell_type": "code",
   "execution_count": 7,
   "metadata": {},
   "outputs": [],
   "source": [
    "class User:\n",
    "    pass\n",
    "\n",
    "class Supervisor(User):\n",
    "    pass\n",
    "\n",
    "supervisor = Supervisor()\n",
    "\n",
    "comparisons = [\n",
    "    type(supervisor) is User,\n",
    "    type(supervisor) is Supervisor,\n",
    "    isinstance(supervisor, User),\n",
    "    isinstance(supervisor, Supervisor)\n",
    "]\n",
    "\n",
    "assert comparisons == [False, True, True, True]"
   ]
  },
  {
   "cell_type": "markdown",
   "metadata": {},
   "source": [
    "### Using generic classes for instrospection checks\n",
    "\n",
    "In the standard library, the `collections.abc` module defines several abstract base classes which can be used to test whether a specific class has attributes or methods (a sort of interface).\n",
    "\n",
    "> In OOP, interface represent the define attributes, functions, methods, classes, and other applicable components of an entity (such as a class or a package) that developers can use.\n",
    "\n",
    "Consider the following list of tasks objects:\n",
    "\n",
    "```python\n",
    "tasks = [\n",
    "    Task(\"Toaster\", \"Clean the toaster\", 2),\n",
    "    Task(\"Camera\", \"Export photos\", 4),\n",
    "    Task(\"Homework\", \"Physics and math\", 5),\n",
    "    Task(\"Floor\", \"Mop the floor\", 3),\n",
    "    Task(\"Internet\", \"Upgrade plan\", 5),\n",
    "    Task(\"Laundry\", \"Wash clothes\", 3),\n",
    "    Task(\"Museum\", \"Egypt exhibit\", 4),\n",
    "    Task(\"Utility\", \"Pay bills\", 5)\n",
    "]\n",
    "```\n",
    "\n",
    "Create a function `filter_tasks(tasks, by_urgency)` that can filter out the tasks based on the given argument `by_urgency`. That argument can be either a value like `3` or a collection (list, tuple, set, etc.).\n"
   ]
  },
  {
   "cell_type": "markdown",
   "metadata": {},
   "source": [
    "The `Collection` abstract class is a sort of an interface that defines three special methods:\n",
    "+ `__contains__` to check when an item exists in the collection, so that you can do `item in collection`.\n",
    "+ `__iter__` so that you can do `iter(obj)` to obtain an iterator of the collection.\n",
    "+ `__len__` so that you can do `len(obj)` and get the number of items in the collection.\n",
    "\n",
    "Many classes inherit from this interface (list, tuple, Pandas' Series, etc.) so it seems to be the best fit for our flexible implementation:"
   ]
  },
  {
   "cell_type": "code",
   "execution_count": 8,
   "metadata": {},
   "outputs": [
    {
     "name": "stdout",
     "output_type": "stream",
     "text": [
      "[Task(title='Toaster', desc='Clean the toaster', urgency=2)]\n",
      "[Task(title='Toaster', desc='Clean the toaster', urgency=2), Task(title='Floor', desc='Mop the floor', urgency=3), Task(title='Laundry', desc='Wash clothes', urgency=3)]\n",
      "[Task(title='Toaster', desc='Clean the toaster', urgency=2), Task(title='Floor', desc='Mop the floor', urgency=3), Task(title='Laundry', desc='Wash clothes', urgency=3)]\n",
      "[Task(title='Toaster', desc='Clean the toaster', urgency=2), Task(title='Floor', desc='Mop the floor', urgency=3), Task(title='Laundry', desc='Wash clothes', urgency=3)]\n",
      "Oops: 'in <string>' requires string as left operand, not int\n"
     ]
    }
   ],
   "source": [
    "from collections.abc import Collection\n",
    "from dataclasses import dataclass\n",
    "\n",
    "@dataclass\n",
    "class Task:\n",
    "    title: str\n",
    "    desc: str\n",
    "    urgency: int\n",
    "\n",
    "def filter_tasks(tasks, by_urgency):\n",
    "    if isinstance(by_urgency, int):\n",
    "        result = [t for t in tasks if t.urgency == by_urgency]\n",
    "    elif isinstance(by_urgency, Collection):\n",
    "        result = [t for t in tasks if t.urgency in by_urgency]\n",
    "    else:\n",
    "        raise TypeError(f\"by_urgency requires int or list by got {type(by_urgency)}\")\n",
    "    return result\n",
    "\n",
    "\n",
    "tasks = [\n",
    "    Task(\"Toaster\", \"Clean the toaster\", 2),\n",
    "    Task(\"Camera\", \"Export photos\", 4),\n",
    "    Task(\"Homework\", \"Physics and math\", 5),\n",
    "    Task(\"Floor\", \"Mop the floor\", 3),\n",
    "    Task(\"Internet\", \"Upgrade plan\", 5),\n",
    "    Task(\"Laundry\", \"Wash clothes\", 3),\n",
    "    Task(\"Museum\", \"Egypt exhibit\", 4),\n",
    "    Task(\"Utility\", \"Pay bills\", 5)\n",
    "]\n",
    "\n",
    "print(filter_tasks(tasks, 2))\n",
    "print(filter_tasks(tasks, [2, 3]))\n",
    "print(filter_tasks(tasks, (2, 3)))\n",
    "print(filter_tasks(tasks, {2, 3}))\n",
    "\n",
    "try:\n",
    "    filter_tasks(tasks, \"Highest\")\n",
    "except Exception as e:\n",
    "    print(f\"Oops: {e}\")\n"
   ]
  },
  {
   "cell_type": "markdown",
   "metadata": {},
   "source": [
    "Note that we've used `isinstance(by_urgency, Collection)`. Even if the given argument type (e.g., `list`) is not a concrete instance of `Collection`, `isinstance` traverses the class hierarchy to verify if `Collection` is a superclass of the given type. If it is, the check will succeed."
   ]
  },
  {
   "cell_type": "markdown",
   "metadata": {},
   "source": [
    "### Checking if an object is iterable using abc (abstract base classes)\n",
    "\n",
    "In a previous exercise we did:\n",
    "\n",
    "```python\n",
    "def is_iterable(obj):\n",
    "    try:\n",
    "        _ = iter(obj)\n",
    "    except TypeError:\n",
    "        return False\n",
    "    else:\n",
    "        return True\n",
    "    \n",
    "print(is_iterable(5))\n",
    "print(is_iterable([1, 2, 3]))\n",
    "print(is_iterable(\"Hello\"))\n",
    "print(is_iterable((1, 2, \"Hello\")))\n",
    "print(is_iterable({1: \"one\", 2: \"two\"}))\n",
    "```\n",
    "\n",
    "Improve the implementation using abstract base classes"
   ]
  },
  {
   "cell_type": "code",
   "execution_count": 10,
   "metadata": {},
   "outputs": [],
   "source": [
    "from collections.abc import Iterable\n",
    "\n",
    "def is_iterable(obj):\n",
    "    return isinstance(obj, Iterable)\n",
    "\n",
    "comparisons = [\n",
    "    is_iterable(5),\n",
    "    is_iterable([1, 2, 3]),\n",
    "    is_iterable(\"Hello\"),\n",
    "    is_iterable((1, 2, \"Hello\")),\n",
    "    is_iterable({1: \"one\", 2: \"two\"})\n",
    "]\n",
    "\n",
    "assert comparisons == [False, True, True, True, True]"
   ]
  },
  {
   "cell_type": "markdown",
   "metadata": {},
   "source": [
    "### Understanding `__new__` and `__del__`\n",
    "\n",
    "The special methods `__new__` and `__del__` are methods you can override in your classes to provide specific logic at construction and destruction time of your instances."
   ]
  },
  {
   "cell_type": "code",
   "execution_count": 8,
   "metadata": {},
   "outputs": [
    {
     "name": "stdout",
     "output_type": "stream",
     "text": [
      ">>> in __new__\n",
      ">>> in __new__: instance 0x7f865d4faf80 allocated\n",
      ">>> in __init__ for instance 0x7f865d4faf80\n",
      ">> in __del__ for instance 0x7f865d4fa860\n",
      ">> in __del__ for instance 0x7f865d4faf80\n"
     ]
    }
   ],
   "source": [
    "class Task:\n",
    "    def __new__(cls, *args):\n",
    "        print(f\">>> in __new__\")\n",
    "        obj = object.__new__(cls)\n",
    "        print(f\">>> in __new__: instance 0x{id(obj):x} allocated\")\n",
    "        return obj\n",
    "\n",
    "    def __init__(self, title):\n",
    "        print(f\">>> in __init__ for instance 0x{id(self):x}\")\n",
    "        self.title = title\n",
    "\n",
    "    def __del__(self):\n",
    "        print(f\">> in __del__ for instance 0x{id(self):x}\")\n",
    "\n",
    "\n",
    "task = Task(\"homework\")\n",
    "del task # force destruction\n",
    "\n"
   ]
  },
  {
   "cell_type": "markdown",
   "metadata": {},
   "source": [
    "Please note that Jupyter might show additional log statements for `__del__`. The output of a regular Python program should look like:\n",
    "\n",
    "```python\n",
    ">>> in __new__\n",
    ">>> in __new__: instance 0x7f0d7ac43b80 allocated\n",
    ">>> in __init__ for instance 0x7f0d7ac43b80\n",
    ">> in __del__ for instance 0x7f0d7ac43b80\n",
    "```"
   ]
  },
  {
   "cell_type": "markdown",
   "metadata": {},
   "source": [
    "The call to the destructor will happen automatically when the number of references to that object reaches zero.\n",
    "\n",
    "That can be obtained through `sys.getrecount(obj)`"
   ]
  },
  {
   "cell_type": "code",
   "execution_count": 9,
   "metadata": {},
   "outputs": [
    {
     "name": "stdout",
     "output_type": "stream",
     "text": [
      ">>> in __new__\n",
      ">>> in __new__: instance 0x7f865d4fb850 allocated\n",
      ">>> in __init__ for instance 0x7f865d4fb850\n",
      "2\n"
     ]
    }
   ],
   "source": [
    "import sys\n",
    "\n",
    "class Task:\n",
    "    def __new__(cls, *args):\n",
    "        print(f\">>> in __new__\")\n",
    "        obj = object.__new__(cls)\n",
    "        print(f\">>> in __new__: instance 0x{id(obj):x} allocated\")\n",
    "        return obj\n",
    "\n",
    "    def __init__(self, title):\n",
    "        print(f\">>> in __init__ for instance 0x{id(self):x}\")\n",
    "        self.title = title\n",
    "\n",
    "    def __del__(self):\n",
    "        print(f\">> in __del__ for instance 0x{id(self):x}\")\n",
    "\n",
    "\n",
    "task = Task(\"homework\")\n",
    "print(sys.getrefcount(task))\n",
    "\n"
   ]
  },
  {
   "cell_type": "markdown",
   "metadata": {},
   "source": [
    "You can also use the `globals()` function to see if your variable is in scope:"
   ]
  },
  {
   "cell_type": "code",
   "execution_count": 10,
   "metadata": {},
   "outputs": [
    {
     "name": "stdout",
     "output_type": "stream",
     "text": [
      ">>> in __new__\n",
      ">>> in __new__: instance 0x7f865d4fa3b0 allocated\n",
      ">>> in __init__ for instance 0x7f865d4fa3b0\n",
      ">> in __del__ for instance 0x7f865d4fb850\n",
      "2\n"
     ]
    }
   ],
   "source": [
    "import sys\n",
    "\n",
    "class Task:\n",
    "    def __new__(cls, *args):\n",
    "        print(f\">>> in __new__\")\n",
    "        obj = object.__new__(cls)\n",
    "        print(f\">>> in __new__: instance 0x{id(obj):x} allocated\")\n",
    "        return obj\n",
    "\n",
    "    def __init__(self, title):\n",
    "        print(f\">>> in __init__ for instance 0x{id(self):x}\")\n",
    "        self.title = title\n",
    "\n",
    "    def __del__(self):\n",
    "        print(f\">> in __del__ for instance 0x{id(self):x}\")\n",
    "\n",
    "\n",
    "task = Task(\"homework\")\n",
    "print(sys.getrefcount(task))\n",
    "\n",
    "assert \"task\" in globals()"
   ]
  },
  {
   "cell_type": "markdown",
   "metadata": {},
   "source": [
    "### Creating a shallow copy of an object\n",
    "\n",
    "We can create a shallow (as opposed to deep) copy of an object you can use the `copy` module, which provides copy related functionalities.\n",
    "\n",
    "> a shallow copy only copies the *outmost* data containers (variables, objects, etc.)"
   ]
  },
  {
   "cell_type": "code",
   "execution_count": 15,
   "metadata": {},
   "outputs": [
    {
     "name": "stdout",
     "output_type": "stream",
     "text": [
      "Task(title='Homework', desc='Physics + Math')\n",
      "Task(title='Homework', desc='Physics + Math')\n",
      "\n",
      "Task(title='Homework(mod)', desc='Physics + Math')\n",
      "Task(title='Homework', desc='Physics + Math')\n"
     ]
    }
   ],
   "source": [
    "from copy import copy\n",
    "\n",
    "class Task:\n",
    "    def __init__(self, title, desc):\n",
    "        self.title = title\n",
    "        self.desc = desc\n",
    "\n",
    "    def __repr__(self):\n",
    "        return f\"Task(title={self.title!r}, desc={self.desc!r})\"\n",
    "\n",
    "    def save_data(self):\n",
    "        \"\"\"Update the database\"\"\"\n",
    "        pass\n",
    "\n",
    "\n",
    "task = Task(\"Homework\", \"Physics + Math\")\n",
    "print(repr(task))\n",
    "\n",
    "task_bkp = copy(task)\n",
    "print(repr(task_bkp))\n",
    "\n",
    "# Now we modify the original\n",
    "task.title = task.title + \"(mod)\"\n",
    "print()\n",
    "print(repr(task))\n",
    "print(repr(task_bkp))\n"
   ]
  },
  {
   "cell_type": "markdown",
   "metadata": {},
   "source": [
    "Note however this is a shallow copy (as oppossed to deep), meaning that for reference object you will be copying the reference, rather than the data:"
   ]
  },
  {
   "cell_type": "code",
   "execution_count": 22,
   "metadata": {},
   "outputs": [
    {
     "name": "stdout",
     "output_type": "stream",
     "text": [
      "Task(title='Homework', desc='Physics + Math', tags=['boring staff', 'school'])\n",
      "Task(title='Homework', desc='Physics + Math', tags=['boring staff', 'school'])\n",
      "\n",
      "Task(title='Homework(mod)', desc='Physics + Math', tags=['boring staff', 'school', \"wasn't that bad after all\"])\n",
      "Task(title='Homework', desc='Physics + Math', tags=['boring staff', 'school', \"wasn't that bad after all\"])\n",
      "\n",
      "140215073297344\n",
      "140215073297344\n"
     ]
    }
   ],
   "source": [
    "from copy import copy\n",
    "\n",
    "class Task:\n",
    "    def __init__(self, title, desc, tags=None):\n",
    "        self.title = title\n",
    "        self.desc = desc\n",
    "        self.tags = [] if tags is None else tags\n",
    "\n",
    "    def __repr__(self):\n",
    "        return f\"Task(title={self.title!r}, desc={self.desc!r}, tags={self.tags!r})\"\n",
    "\n",
    "    def save_data(self):\n",
    "        \"\"\"Update the database\"\"\"\n",
    "        pass\n",
    "\n",
    "\n",
    "task = Task(\"Homework\", \"Physics + Math\", [\"boring staff\", \"school\"])\n",
    "print(repr(task))\n",
    "\n",
    "task_bkp = copy(task)\n",
    "print(repr(task_bkp))\n",
    "\n",
    "# Now we modify the original\n",
    "task.title = task.title + \"(mod)\"\n",
    "task.tags.append(\"wasn't that bad after all\")\n",
    "print()\n",
    "print(repr(task))\n",
    "print(repr(task_bkp))\n",
    "\n",
    "print()\n",
    "print(id(task.tags))\n",
    "print(id(task_bkp.tags))\n",
    "\n",
    "\n"
   ]
  },
  {
   "cell_type": "markdown",
   "metadata": {},
   "source": [
    "See in the last line that both the tags for the original and the copied task point to the same memory area. Therefore, whenever we modify the original, the copy will also be changed and the other way around."
   ]
  },
  {
   "cell_type": "markdown",
   "metadata": {},
   "source": [
    "### Checking equality with `is` or `==`\n",
    "\n",
    "`is` compares whether two objects are the same object (identity test). By contrast, `==` compares whether two objects have the same value.\n",
    "\n",
    "For example, when checking an object agains `None` you should use `is`, because `None` is a singleton object and you'd like to check if the memory address of your object and the memory address of `None` is the same.\n",
    "\n",
    "> `is` should be used when you need to check if the memory address of two objects are the same. In particular, any comparison with `None` should be using `None`.\n",
    "\n",
    "> `==` should be used when you need to check that the value of two objects are the same, even if they have different memory addresses."
   ]
  },
  {
   "cell_type": "code",
   "execution_count": 26,
   "metadata": {},
   "outputs": [],
   "source": [
    "class Task:\n",
    "    def __init__(self, title, desc, tags=None):\n",
    "        self.title = title\n",
    "        self.desc = desc\n",
    "\n",
    "    def __repr__(self):\n",
    "        return f\"Task(title={self.title!r}, desc={self.desc!r}, tags={self.tags!r})\"\n",
    "\n",
    "task1 = Task(\"Homework\", \"Physics + Math\")\n",
    "task2 = Task(\"Homework\", \"Physics + Math\")\n",
    "\n",
    "assert task1 is not task2\n",
    "assert id(task1) != id(task2)\n"
   ]
  },
  {
   "cell_type": "markdown",
   "metadata": {},
   "source": [
    "### Creating a deep copy of an object\n",
    "\n",
    "In a deep copy, we copy not only the *outmost* data container, but also perform recursive copies of the interior objects.\n",
    "\n",
    "This can also be performed using the `copy` module:"
   ]
  },
  {
   "cell_type": "code",
   "execution_count": 27,
   "metadata": {},
   "outputs": [
    {
     "name": "stdout",
     "output_type": "stream",
     "text": [
      "Task(title='Homework', desc='Physics + Math', tags=['boring staff', 'school'])\n",
      "Task(title='Homework', desc='Physics + Math', tags=['boring staff', 'school'])\n",
      "\n",
      "Task(title='Homework(mod)', desc='Physics + Math', tags=['boring staff', 'school', \"wasn't that bad after all\"])\n",
      "Task(title='Homework', desc='Physics + Math', tags=['boring staff', 'school'])\n",
      "\n",
      "140214917981312\n",
      "140214917986176\n"
     ]
    }
   ],
   "source": [
    "from copy import deepcopy\n",
    "\n",
    "class Task:\n",
    "    def __init__(self, title, desc, tags=None):\n",
    "        self.title = title\n",
    "        self.desc = desc\n",
    "        self.tags = [] if tags is None else tags\n",
    "\n",
    "    def __repr__(self):\n",
    "        return f\"Task(title={self.title!r}, desc={self.desc!r}, tags={self.tags!r})\"\n",
    "\n",
    "    def save_data(self):\n",
    "        \"\"\"Update the database\"\"\"\n",
    "        pass\n",
    "\n",
    "\n",
    "task = Task(\"Homework\", \"Physics + Math\", [\"boring staff\", \"school\"])\n",
    "print(repr(task))\n",
    "\n",
    "task_bkp = deepcopy(task)\n",
    "print(repr(task_bkp))\n",
    "\n",
    "# Now we modify the original\n",
    "task.title = task.title + \"(mod)\"\n",
    "task.tags.append(\"wasn't that bad after all\")\n",
    "print()\n",
    "print(repr(task))\n",
    "print(repr(task_bkp))\n",
    "\n",
    "print()\n",
    "print(id(task.tags))\n",
    "print(id(task_bkp.tags))"
   ]
  },
  {
   "cell_type": "markdown",
   "metadata": {},
   "source": [
    "Note how in this case the address of the `tags` field for task and task copy are different."
   ]
  },
  {
   "cell_type": "markdown",
   "metadata": {},
   "source": [
    "### Changing a variable in a different scope\n",
    "\n",
    "Consider the following piece of code:"
   ]
  },
  {
   "cell_type": "code",
   "execution_count": 28,
   "metadata": {},
   "outputs": [
    {
     "name": "stdout",
     "output_type": "stream",
     "text": [
      "N/A\n"
     ]
    }
   ],
   "source": [
    "db_filename = \"N/A\"\n",
    "\n",
    "def set_database(db_name):\n",
    "    db_filename = db_name\n",
    "\n",
    "set_database(\"tasks.db\")\n",
    "print(db_filename)"
   ]
  },
  {
   "cell_type": "markdown",
   "metadata": {},
   "source": [
    "This would not be the expected approach in other programming languages. You can note that even the IDE is trying to give us a hint about it."
   ]
  },
  {
   "cell_type": "markdown",
   "metadata": {},
   "source": [
    "#### Namespaces and Scopes\n",
    "\n",
    "The mechanism for looking up variables in Python involves *namespaces*, which track the variables that have been defined. Namespaces can help locate the variable's information.\n",
    "\n",
    "You can think of namespaces as being distionaries in which the active variables are the keys, and the corresponding values as the values.\n",
    "\n",
    "Scopes form the boundaries for namespaces, while namespaces constitute the contents."
   ]
  },
  {
   "cell_type": "markdown",
   "metadata": {},
   "source": [
    "#### LEGB rule\n",
    "\n",
    "When looking up a variable, Python examines the namespace that is associated with a given scope.\n",
    "\n",
    "There are different levels of scopes for the lookup order, known as the LEGB rule.\n",
    "\n",
    "> LEGB rule dictates the order of resolving a variable in Python, from Local (L), to enclosing (E), global (G), and built-in (B).\n",
    "\n",
    "A module forms a global scope. Above the global, the built-in scope holds the namespaces for all the built-in functions and classes. In the module you can define a class or a function, each of which forms a local scope.\n",
    "\n",
    "For functions defined within functions, the local scope of the outer function is known as the enclosing scope.\n",
    "\n",
    "The LEGB rule applies in the sequential order for variable resolution. Python first searches in its local scope. If the name is resolved, the corresponding value is used. If not, Python continues searching the enclosing scope. If the name is resolved, the value is used &mdash; and so on for the global and built-in scopes sequentially.\n",
    "\n",
    "If a name can't be resolved after Python checks all these scopes, a `NameError` is raised.\n",
    "\n",
    "![LEGB](pics/legb.png)"
   ]
  },
  {
   "cell_type": "markdown",
   "metadata": {},
   "source": [
    "The following picture illustrates the different scopes:\n",
    "\n",
    "![scopes](pics/scopes.png)"
   ]
  },
  {
   "cell_type": "code",
   "execution_count": null,
   "metadata": {},
   "outputs": [],
   "source": [
    "\n",
    "num = int(\"5\")\n",
    "\n",
    "def outer_fn(info):\n",
    "    print(info)\n",
    "    x = 100\n",
    "    def inner_fn():\n",
    "        number_str = f\"number: {num}\"\n",
    "        x_str = f\"x: {x}\"\n",
    "        print(number_str, x_str)\n",
    "    return inner_fn\n",
    "\n",
    "inner = outer_fn(\"test\")"
   ]
  },
  {
   "cell_type": "markdown",
   "metadata": {},
   "source": [
    "### Accessing the namespaces `globals()`, `locals()`, ...\n",
    "\n",
    "You can use the `globals()` and `locals()` function to view the namespaces:\n",
    "\n",
    "| NOTE: |\n",
    "| :---- |\n",
    "| We use `list()` to show only the variable names. |"
   ]
  },
  {
   "cell_type": "code",
   "execution_count": 34,
   "metadata": {},
   "outputs": [
    {
     "name": "stdout",
     "output_type": "stream",
     "text": [
      ">> in set_database: globals:  ['__name__', '__doc__', '__package__', '__loader__', '__spec__', '__builtin__', '__builtins__', '_ih', '_oh', '_dh', 'In', 'Out', 'get_ipython', 'exit', 'quit', 'open', '_', '__', '___', '__vsc_ipynb_file__', '_i', '_ii', '_iii', '_i1', 'Task', '_i2', '_i3', '_i4', '_i5', '_i6', '_i7', '_i8', '_i9', 'sys', 'task', '_i10', '_i11', '_i12', '_i13', '_i14', 'copy', 'task_bkp', '_i15', '_i16', '_i17', '_i18', '_i19', '_i20', '_i21', '_i22', '_i23', 'num1', 'num2', '_i24', '_i25', 'task1', 'task2', '_i26', '_i27', 'deepcopy', '_i28', 'db_filename', 'set_database', '_i29', '_i30', '_i31', '_i32', '_i33', '_i34']\n",
      ">> in set_database: locals (before):  ['db_name']\n",
      ">> in set_database: locals (after) :  ['db_name', 'db_filename']\n",
      "N/A\n"
     ]
    }
   ],
   "source": [
    "db_filename = \"N/A\"\n",
    "\n",
    "def set_database(db_name):\n",
    "    print(f\">> in set_database: globals: \", list(globals()))\n",
    "    print(f\">> in set_database: locals (before): \", list(locals()))\n",
    "    db_filename = db_name\n",
    "    print(f\">> in set_database: locals (after) : \", list(locals()))\n",
    "\n",
    "set_database(\"tasks.db\")\n",
    "print(db_filename)\n",
    "\n"
   ]
  },
  {
   "cell_type": "markdown",
   "metadata": {},
   "source": [
    "Note that `db_filename` is listed in the globals. Note also that after the statement `db_filename = db_name` is executed, a new `db_filename` local variable is added, thus shading the global one.\n"
   ]
  },
  {
   "cell_type": "markdown",
   "metadata": {},
   "source": [
    "#### Changing a global variable with `global`\n",
    "\n",
    "In order to fix it, you just need to use the `global` keyword:"
   ]
  },
  {
   "cell_type": "code",
   "execution_count": 35,
   "metadata": {},
   "outputs": [
    {
     "name": "stdout",
     "output_type": "stream",
     "text": [
      ">> in set_database: globals:  ['__name__', '__doc__', '__package__', '__loader__', '__spec__', '__builtin__', '__builtins__', '_ih', '_oh', '_dh', 'In', 'Out', 'get_ipython', 'exit', 'quit', 'open', '_', '__', '___', '__vsc_ipynb_file__', '_i', '_ii', '_iii', '_i1', 'Task', '_i2', '_i3', '_i4', '_i5', '_i6', '_i7', '_i8', '_i9', 'sys', 'task', '_i10', '_i11', '_i12', '_i13', '_i14', 'copy', 'task_bkp', '_i15', '_i16', '_i17', '_i18', '_i19', '_i20', '_i21', '_i22', '_i23', 'num1', 'num2', '_i24', '_i25', 'task1', 'task2', '_i26', '_i27', 'deepcopy', '_i28', 'db_filename', 'set_database', '_i29', '_i30', '_i31', '_i32', '_i33', '_i34', '_i35']\n",
      ">> in set_database: locals (before):  ['db_name']\n",
      ">> in set_database: locals (after) :  ['db_name']\n",
      "tasks.db\n"
     ]
    }
   ],
   "source": [
    "db_filename = \"N/A\"\n",
    "\n",
    "def set_database(db_name):\n",
    "    global db_filename\n",
    "    print(f\">> in set_database: globals: \", list(globals()))\n",
    "    print(f\">> in set_database: locals (before): \", list(locals()))\n",
    "    db_filename = db_name\n",
    "    print(f\">> in set_database: locals (after) : \", list(locals()))\n",
    "\n",
    "set_database(\"tasks.db\")\n",
    "print(db_filename)"
   ]
  },
  {
   "cell_type": "markdown",
   "metadata": {},
   "source": [
    "#### Changing an enclosing variable with `nonlocal`\n",
    "\n",
    "The `nonlocal` keyword, changes an enclosing variable in a local scope.\n",
    "\n",
    "| NOTE: |\n",
    "| :---- |\n",
    "| `nonlocal` is used less often than `global`, as global scopes are far more common, as they're only found when using inner functions. |\n",
    "\n",
    "Consider the following code in which the technique is explained:"
   ]
  },
  {
   "cell_type": "code",
   "execution_count": 1,
   "metadata": {},
   "outputs": [
    {
     "name": "stdout",
     "output_type": "stream",
     "text": [
      "N/A\n",
      "Using nonlocal\n"
     ]
    }
   ],
   "source": [
    "def change_text(using_nonlocal: bool):\n",
    "    text = \"N/A\"\n",
    "    def inner_fun0():\n",
    "        text = \"No nonlocal\"\n",
    "\n",
    "    def inner_fun1():\n",
    "        nonlocal text\n",
    "        text = \"Using nonlocal\"\n",
    "\n",
    "    inner_fun1() if using_nonlocal else inner_fun0()\n",
    "    return text\n",
    "\n",
    "print(change_text(using_nonlocal=False))    # N/A\n",
    "print(change_text(using_nonlocal=True))     # Using nonlocal\n",
    "\n"
   ]
  },
  {
   "cell_type": "markdown",
   "metadata": {},
   "source": [
    "The function `inner_fun0` defines a new var named `text` that hides the `text` variable defined in the outer functin. In order to change its value you're required the `nonlocal` keyword."
   ]
  },
  {
   "cell_type": "markdown",
   "metadata": {},
   "source": [
    "### Callability and the `callable` built-in function\n",
    "\n",
    "We say that an object is *callable* it it can be used with the call operator.\n",
    "\n",
    "Python has a built-in function `callable`, that can check an object's callability.\n",
    "\n",
    "As you may expect, a function is `callable`:"
   ]
  },
  {
   "cell_type": "code",
   "execution_count": 2,
   "metadata": {},
   "outputs": [],
   "source": [
    "def doubler(x):\n",
    "    return x * 2\n",
    "\n",
    "assert callable(doubler) == True"
   ]
  },
  {
   "cell_type": "markdown",
   "metadata": {},
   "source": [
    "Callable means an object can be called. When a function expects a callable, such as in `sorted(key: callable)`, you can pass a function or a class.\n",
    "\n",
    "If you hava a custom class that implements `__call__`, then instances of the class are callable."
   ]
  },
  {
   "cell_type": "markdown",
   "metadata": {},
   "source": [
    "There are nuances between functions and objects that are callable.\n",
    "\n",
    "One of the easiest ways to inspect an object is to call it with the `print` function:"
   ]
  },
  {
   "cell_type": "code",
   "execution_count": 4,
   "metadata": {},
   "outputs": [
    {
     "name": "stdout",
     "output_type": "stream",
     "text": [
      "<function do_something at 0x7f193fa46b00>\n",
      "<built-in function sum>\n",
      "<class 'map'>\n"
     ]
    }
   ],
   "source": [
    "def do_something():\n",
    "    pass\n",
    "\n",
    "print(do_something) # a function\n",
    "\n",
    "print(sum) # something different... a built-in that is callable\n",
    "print(map) # wait... what? a class?"
   ]
  },
  {
   "cell_type": "markdown",
   "metadata": {},
   "source": [
    "Note that `map` is actually a class, a callable class. As what happens with `list`, `dict`, etc., calling `map` returns a `map` instance."
   ]
  },
  {
   "cell_type": "markdown",
   "metadata": {},
   "source": [
    "Classes can also be made callable, which might come in handy in some scenarios.\n",
    "\n",
    "Consider the following list of Poker cards we need to sort:"
   ]
  },
  {
   "cell_type": "code",
   "execution_count": 6,
   "metadata": {},
   "outputs": [
    {
     "name": "stdout",
     "output_type": "stream",
     "text": [
      "Oops: '<' not supported between instances of 'str' and 'int'\n",
      "[1, 10, 'A', 'J']\n"
     ]
    }
   ],
   "source": [
    "cards = [10, 2, \"J\", \"A\"]\n",
    "\n",
    "try:\n",
    "    print(sorted(cards))\n",
    "except Exception as e:\n",
    "    print(f\"Oops: {e}\")\n",
    "\n",
    "print(sorted(cards, key=str))"
   ]
  },
  {
   "cell_type": "markdown",
   "metadata": {},
   "source": [
    "Passing `str` gives us the wrong order. So we need to do some additional work:"
   ]
  },
  {
   "cell_type": "code",
   "execution_count": 8,
   "metadata": {},
   "outputs": [
    {
     "name": "stdout",
     "output_type": "stream",
     "text": [
      "[2, 10, 'J', 'A']\n"
     ]
    }
   ],
   "source": [
    "class PokerOrder(int):\n",
    "    def __new__(cls, x):\n",
    "        numbers_mapping = {\"J\": 11, \"Q\": 12, \"K\": 13, \"A\": 14}\n",
    "        casted_number = numbers_mapping.get(x, x)\n",
    "        return super().__new__(PokerOrder, casted_number)\n",
    "\n",
    "cards = [10, 2, \"J\", \"A\"]\n",
    "\n",
    "assert callable(PokerOrder) == True\n",
    "\n",
    "print(sorted(cards, key=PokerOrder))"
   ]
  },
  {
   "cell_type": "markdown",
   "metadata": {},
   "source": [
    "As the class constructor is callable we can pass it as the argument to `key`, which results in the cards being sorted correctly.\n",
    "\n",
    "`PokerOrder` is a class that inherits from `int`. In its `__new__` we allocate an int with the given value."
   ]
  },
  {
   "cell_type": "markdown",
   "metadata": {},
   "source": [
    "### Creating decorators as classes\n",
    "\n",
    "Remember that we used to create decorators using functions as seen below:"
   ]
  },
  {
   "cell_type": "code",
   "execution_count": 10,
   "metadata": {},
   "outputs": [
    {
     "name": "stdout",
     "output_type": "stream",
     "text": [
      "Hello to Jason Isaacs!\n",
      "Invocation of 'say_hello' took 0.00008 msec\n"
     ]
    }
   ],
   "source": [
    "import functools\n",
    "import time\n",
    "\n",
    "def logging_time(func):\n",
    "    @functools.wraps(func)\n",
    "    def logger(*args, **kwargs):\n",
    "        start_t = time.time()\n",
    "        result = func(*args, **kwargs)\n",
    "        print(f\"Invocation of {func.__name__!r} took {time.time() - start_t:.5f} msec\")\n",
    "        return result\n",
    "\n",
    "    return logger\n",
    "\n",
    "@logging_time\n",
    "def say_hello(person):\n",
    "    \"\"\"Greet someone\"\"\"\n",
    "    print(f\"Hello to {person}\")\n",
    "\n",
    "say_hello(\"Jason Isaacs!\")"
   ]
  },
  {
   "cell_type": "markdown",
   "metadata": {},
   "source": [
    "Because classes are also callable, we can create decorators in the form of a custom class:"
   ]
  },
  {
   "cell_type": "code",
   "execution_count": 12,
   "metadata": {},
   "outputs": [
    {
     "name": "stdout",
     "output_type": "stream",
     "text": [
      "Invocation of 'calculate_sum' took 0.00085 msec\n"
     ]
    }
   ],
   "source": [
    "import functools\n",
    "import time\n",
    "\n",
    "class TimeLogger:\n",
    "    def __init__(self, func):\n",
    "        @functools.wraps(func)\n",
    "        def logger(*args, **kwargs):\n",
    "            start_t = time.time()\n",
    "            result = func(*args, **kwargs)\n",
    "            print(f\"Invocation of {func.__name__!r} took {time.time() - start_t:.5f} msec\")\n",
    "            return result\n",
    "        self._logger = logger\n",
    "\n",
    "    def __call__(self, *args, **kwargs):\n",
    "        return self._logger(*args, **kwargs)\n",
    "\n",
    "@TimeLogger\n",
    "def calculate_sum(n):\n",
    "    return sum(range(n))\n",
    "\n",
    "result = calculate_sum(100_000)"
   ]
  },
  {
   "cell_type": "markdown",
   "metadata": {},
   "source": [
    "Note that by implementing `__call__` we are making the instances of `TimeLogger` callable objects. In the implementation, we're telling the when called, the `logger` function should be executed instead."
   ]
  },
  {
   "cell_type": "markdown",
   "metadata": {},
   "source": [
    "## Section 49 &mdash; Processing JSON\n",
    "\n",
    "When you use Python to make applications, and your applications have interactions with other systems via JSON, you must know how to convert data between JSON and Python.\n",
    "\n",
    "JSON data types have corresponding native Python data structures. Most of the conversations are straightforward, except for numbers. JSON doesn't differentiate integers from floats, but Python does:\n",
    "\n",
    "\n",
    "| JSON type | Python type |\n",
    "| :-------- | :---------- |\n",
    "| String: \"one\" | str: \"one\" |\n",
    "| Number: 123<br>Number: 123.45 | int: 123<br>float: 123.45 |\n",
    "| Boolean: true<br>Boolean: false | bool: True<br>bool: False |\n",
    "| Array: [1, 2] | list: [1, 2] |\n",
    "| Object: {\"one\": 1} | dict: {\"one\": 1} |\n",
    "| Null: null | NoneType: None |\n"
   ]
  },
  {
   "cell_type": "markdown",
   "metadata": {},
   "source": [
    "### Deserializing/Unmarshalling JSON string\n",
    "\n",
    "Deserializing JSON means reading JSON data into Python.\n",
    "\n",
    "Consider the following example in which a JSON string object representing an array of tasks is transformed into the corresponding Python structure.\n",
    "\n",
    "`json.loads` function available in the `json` module can deserialize a JSON string converting it into a Python dictionary."
   ]
  },
  {
   "cell_type": "code",
   "execution_count": 32,
   "metadata": {},
   "outputs": [],
   "source": [
    "import json\n",
    "\n",
    "tasks_json = \"\"\"\n",
    "[\n",
    "    {\n",
    "        \"title\": \"Laundry\",\n",
    "        \"desc\": \"Wash clothes\",\n",
    "        \"urgency\": 3\n",
    "    },\n",
    "    {\n",
    "        \"title\": \"Homework\",\n",
    "        \"desc\": \"Physics + Math\",\n",
    "        \"urgency\": 5\n",
    "    }\n",
    "]\n",
    "\"\"\"\n",
    "\n",
    "tasks = json.loads(tasks_json)\n",
    "assert tasks == [\n",
    "    {\n",
    "        \"title\": \"Laundry\", \"desc\": \"Wash clothes\", \"urgency\": 3\n",
    "    },\n",
    "    {\n",
    "        \"title\": \"Homework\", \"desc\": \"Physics + Math\", \"urgency\": 5\n",
    "    }\n",
    "]\n",
    "\n"
   ]
  },
  {
   "cell_type": "markdown",
   "metadata": {},
   "source": [
    "The `json.loads` method can be used parse any JSON data types other than objects:"
   ]
  },
  {
   "cell_type": "code",
   "execution_count": 41,
   "metadata": {},
   "outputs": [
    {
     "name": "stdout",
     "output_type": "stream",
     "text": [
      "value: 2.2, type: <class 'float'>\n",
      "value: 2, type: <class 'int'>\n",
      "value: '2', type: <class 'str'>\n",
      "value: True, type: <class 'bool'>\n",
      "value: None, type: <class 'NoneType'>\n"
     ]
    }
   ],
   "source": [
    "def print_value_and_type(x):\n",
    "    if type(x) == str:\n",
    "        print(f\"value: {x!r}, type: {type(x)}\")\n",
    "    else:\n",
    "        print(f\"value: {x}, type: {type(x)}\")\n",
    "\n",
    "print_value_and_type(json.loads(\"2.2\"))\n",
    "print_value_and_type(json.loads(\"2\"))\n",
    "print_value_and_type(json.loads('\"2\"'))\n",
    "print_value_and_type(json.loads(\"true\"))\n",
    "print_value_and_type(json.loads(\"null\"))"
   ]
  },
  {
   "cell_type": "markdown",
   "metadata": {},
   "source": [
    "Note however, that some transformations might be tricky and fail:"
   ]
  },
  {
   "cell_type": "code",
   "execution_count": 47,
   "metadata": {},
   "outputs": [
    {
     "name": "stdout",
     "output_type": "stream",
     "text": [
      "Oops: Expecting value: line 1 column 1 (char 0)\n"
     ]
    }
   ],
   "source": [
    "def print_value_and_type(x):\n",
    "    if type(x) == str:\n",
    "        print(f\"value: {x!r}, type: {type(x)}\")\n",
    "    else:\n",
    "        print(f\"value: {x}, type: {type(x)}\")\n",
    "\n",
    "try:\n",
    "    json.loads(\"True\")\n",
    "except Exception as e:\n",
    "    print(f\"Oops: {e}\")\n",
    "\n",
    "result: int = json.loads(\"1\")\n",
    "result: float = json.loads('[{\"num\": 1}, {\"num\": 1.24}]')"
   ]
  },
  {
   "cell_type": "markdown",
   "metadata": {},
   "source": [
    "### Converting a dict object obtained from JSON deserialization into an instance of a dataclass\n",
    "\n",
    "You can take advantage of dataclasses to convert a Python dict into the corresponding custom class as seen below:"
   ]
  },
  {
   "cell_type": "code",
   "execution_count": 33,
   "metadata": {},
   "outputs": [
    {
     "name": "stdout",
     "output_type": "stream",
     "text": [
      "[Task(title='Laundry', desc='Wash clothes', urgency=3), Task(title='Homework', desc='Physics + Math', urgency=5)]\n"
     ]
    }
   ],
   "source": [
    "import json\n",
    "from dataclasses import dataclass\n",
    "\n",
    "tasks_json = \"\"\"\n",
    "[\n",
    "    {\n",
    "        \"title\": \"Laundry\",\n",
    "        \"desc\": \"Wash clothes\",\n",
    "        \"urgency\": 3\n",
    "    },\n",
    "    {\n",
    "        \"title\": \"Homework\",\n",
    "        \"desc\": \"Physics + Math\",\n",
    "        \"urgency\": 5\n",
    "    }\n",
    "]\n",
    "\"\"\"\n",
    "\n",
    "tasks_dict = json.loads(tasks_json)\n",
    "\n",
    "@dataclass\n",
    "class Task:\n",
    "    title: str\n",
    "    desc: str\n",
    "    urgency: int\n",
    "\n",
    "    @classmethod\n",
    "    def from_dict(cls, task_dict):\n",
    "        return cls(**task_dict)\n",
    "\n",
    "\n",
    "tasks = [Task.from_dict(task_dict) for task_dict in tasks_dict]\n",
    "print(tasks)"
   ]
  },
  {
   "cell_type": "markdown",
   "metadata": {},
   "source": [
    "Note how we used `**` in the `from_dict` method:\n",
    "\n",
    "> we knew that `**kwargs` refers to the variable number of keyword arguments packed as a dictionary. Conversely, the `**` operator converts a `dict` object to a *list* of keyword arguments that you could use to invoke a function."
   ]
  },
  {
   "cell_type": "markdown",
   "metadata": {},
   "source": [
    "### Serializing Python data to JSON\n",
    "\n",
    "Serialization is the opposite of deserialization: you start from Python objects and via the serialization mechanism you end up with a JSON string.\n",
    "\n",
    "The `json` module provides the `dumps` method for serializing Python objects into JSON:"
   ]
  },
  {
   "cell_type": "code",
   "execution_count": 49,
   "metadata": {},
   "outputs": [
    {
     "name": "stdout",
     "output_type": "stream",
     "text": [
      "[\"text\", false, {\"0\": null, \"1\": [1.0, 2.0]}]\n",
      "'[\"text\", false, {\"0\": null, \"1\": [1.0, 2.0]}]'\n"
     ]
    }
   ],
   "source": [
    "python_data = ['text', False, {\"0\": None, 1: [1.0, 2.0]}]\n",
    "\n",
    "json_data = json.dumps(python_data)\n",
    "print(json_data)\n",
    "print(repr(json_data))"
   ]
  },
  {
   "cell_type": "markdown",
   "metadata": {},
   "source": [
    "However, you cannot serialize a custom class:"
   ]
  },
  {
   "cell_type": "code",
   "execution_count": 51,
   "metadata": {},
   "outputs": [
    {
     "name": "stdout",
     "output_type": "stream",
     "text": [
      "Oops: Object of type Task is not JSON serializable\n"
     ]
    }
   ],
   "source": [
    "from dataclasses import dataclass\n",
    "import json\n",
    "\n",
    "@dataclass\n",
    "class Task:\n",
    "    title: str\n",
    "    desc: str\n",
    "    urgency: int\n",
    "\n",
    "\n",
    "homework = Task(\"Homework\", \"Physics + Math\", 5)\n",
    "\n",
    "try:\n",
    "    json_data = json.dumps(homework)\n",
    "except Exception as e:\n",
    "    print(f\"Oops: {e}\")\n"
   ]
  },
  {
   "cell_type": "markdown",
   "metadata": {},
   "source": [
    "One possible quick solution, especially for dataclasses, involves using `__dict__` and leverage the argument `default` which lets you configure custom encoding behavior:"
   ]
  },
  {
   "cell_type": "code",
   "execution_count": 56,
   "metadata": {},
   "outputs": [
    {
     "name": "stdout",
     "output_type": "stream",
     "text": [
      "'{\"title\": \"Homework\", \"desc\": \"Physics + Math\", \"urgency\": 5}'\n"
     ]
    }
   ],
   "source": [
    "from dataclasses import dataclass\n",
    "import json\n",
    "\n",
    "@dataclass\n",
    "class Task:\n",
    "    title: str\n",
    "    desc: str\n",
    "    urgency: int\n",
    "\n",
    "\n",
    "homework = Task(\"Homework\", \"Physics + Math\", 5)\n",
    "\n",
    "json_data = json.dumps(homework, default=lambda t: t.__dict__)\n",
    "print(repr(json_data))\n"
   ]
  },
  {
   "cell_type": "markdown",
   "metadata": {},
   "source": [
    "### Prettifying `json.dumps` using indentation\n",
    "\n",
    "The function `json.dumps` allows you to prettify the string generated using the `indent` argument:"
   ]
  },
  {
   "cell_type": "code",
   "execution_count": 58,
   "metadata": {},
   "outputs": [
    {
     "name": "stdout",
     "output_type": "stream",
     "text": [
      "{\n",
      "  \"title\": \"Homework\",\n",
      "  \"desc\": \"Physics + Math\",\n",
      "  \"urgency\": 5\n",
      "}\n"
     ]
    }
   ],
   "source": [
    "from dataclasses import dataclass\n",
    "import json\n",
    "\n",
    "@dataclass\n",
    "class Task:\n",
    "    title: str\n",
    "    desc: str\n",
    "    urgency: int\n",
    "\n",
    "\n",
    "homework = Task(\"Homework\", \"Physics + Math\", 5)\n",
    "\n",
    "json_data = json.dumps(homework, default=lambda t: t.__dict__, indent=2)\n",
    "print(json_data)"
   ]
  },
  {
   "cell_type": "markdown",
   "metadata": {},
   "source": [
    "### Using `sort_keys` to get the JSON keys sorted alphabetically\n",
    "\n",
    "You can use `sort_keys` to sort the keys within the JSON string:"
   ]
  },
  {
   "cell_type": "code",
   "execution_count": 60,
   "metadata": {},
   "outputs": [
    {
     "name": "stdout",
     "output_type": "stream",
     "text": [
      "{\n",
      "  \"desc\": \"Physics + Math\",\n",
      "  \"title\": \"Homework\",\n",
      "  \"urgency\": 5\n",
      "}\n"
     ]
    }
   ],
   "source": [
    "from dataclasses import dataclass\n",
    "import json\n",
    "\n",
    "@dataclass\n",
    "class Task:\n",
    "    title: str\n",
    "    desc: str\n",
    "    urgency: int\n",
    "\n",
    "\n",
    "homework = Task(\"Homework\", \"Physics + Math\", 5)\n",
    "\n",
    "json_data = json.dumps(\n",
    "    homework,\n",
    "    default=lambda t: t.__dict__,\n",
    "    indent=2,\n",
    "    sort_keys=True)\n",
    "print(json_data)"
   ]
  },
  {
   "cell_type": "markdown",
   "metadata": {},
   "source": [
    "### Serializing named tuples (`namedtuple`s)\n",
    "\n",
    "Named tuples are serialized as arrays of their elements as seen below.\n"
   ]
  },
  {
   "cell_type": "code",
   "execution_count": 61,
   "metadata": {},
   "outputs": [
    {
     "name": "stdout",
     "output_type": "stream",
     "text": [
      "[\"Homework\", \"Physics + Math\", 5]\n",
      "'[\"Homework\", \"Physics + Math\", 5]'\n"
     ]
    }
   ],
   "source": [
    "from collections import namedtuple\n",
    "import json\n",
    "\n",
    "Task = namedtuple(\"Task\", \"title, desc, urgency\")\n",
    "\n",
    "homework = Task(\"Homework\", \"Physics + Math\", 5)\n",
    "\n",
    "result = json.dumps(homework)\n",
    "print(result)\n",
    "print(repr(result))"
   ]
  },
  {
   "cell_type": "markdown",
   "metadata": {},
   "source": [
    "And a custom serializer cannot be used to change that default behavior because Python knows about `namedtuples` and therefore, it'll never get called."
   ]
  },
  {
   "cell_type": "code",
   "execution_count": 65,
   "metadata": {},
   "outputs": [
    {
     "name": "stdout",
     "output_type": "stream",
     "text": [
      "[\"Homework\", \"Physics + Math\", 5]\n",
      "'[\"Homework\", \"Physics + Math\", 5]'\n"
     ]
    }
   ],
   "source": [
    "from collections import namedtuple\n",
    "import json\n",
    "\n",
    "Task = namedtuple(\"Task\", \"title, desc, urgency\")\n",
    "\n",
    "homework = Task(\"Homework\", \"Physics + Math\", 5)\n",
    "\n",
    "def custom_encoder(t: Task):\n",
    "    result = {\n",
    "        \"title\": t.title,\n",
    "        \"desc\": t.desc,\n",
    "        \"urgency\": t.urgency\n",
    "    }\n",
    "    return result\n",
    "\n",
    "result = json.dumps(\n",
    "    homework,\n",
    "    default=custom_encoder\n",
    ")\n",
    "\n",
    "print(result)\n",
    "print(repr(result))"
   ]
  },
  {
   "cell_type": "markdown",
   "metadata": {},
   "source": [
    "The workaround involves the creation of a wrapper class to force `json.dumps` to use the custom encoder:"
   ]
  },
  {
   "cell_type": "code",
   "execution_count": 68,
   "metadata": {},
   "outputs": [
    {
     "name": "stdout",
     "output_type": "stream",
     "text": [
      "{\"title\": \"Homework\", \"desc\": \"Physics + Math\", \"urgency\": 5}\n",
      "'{\"title\": \"Homework\", \"desc\": \"Physics + Math\", \"urgency\": 5}'\n"
     ]
    }
   ],
   "source": [
    "from collections import namedtuple\n",
    "import json\n",
    "\n",
    "Task = namedtuple(\"Task\", \"title, desc, urgency\")\n",
    "\n",
    "homework = Task(\"Homework\", \"Physics + Math\", 5)\n",
    "\n",
    "class Wrapper:\n",
    "    def __init__(self, nt):\n",
    "        self.nt = nt\n",
    "\n",
    "\n",
    "def custom_encoder(w):\n",
    "    result = {\n",
    "        \"title\": w.nt.title,\n",
    "        \"desc\": w.nt.desc,\n",
    "        \"urgency\": w.nt.urgency\n",
    "    }\n",
    "    return result\n",
    "\n",
    "\n",
    "\n",
    "result = json.dumps(\n",
    "    Wrapper(homework),\n",
    "    default=custom_encoder\n",
    ")\n",
    "\n",
    "print(result)\n",
    "print(repr(result))"
   ]
  },
  {
   "cell_type": "markdown",
   "metadata": {},
   "source": [
    "## Section 50 &mdash; More on files\n",
    "\n",
    "This section explains how to read and write files. Text files will be used throughout the examples to illustrate the techniques, but whatever is exlained also applies to other file formats.\n",
    "\n",
    "The following diagram summarizes the reading and writing operations:\n",
    "\n",
    "![File Operations](pics/file-operations.png)\n"
   ]
  },
  {
   "cell_type": "markdown",
   "metadata": {},
   "source": [
    "### Opening and closing files (without the Context manager)\n",
    "\n",
    "\n"
   ]
  },
  {
   "cell_type": "markdown",
   "metadata": {},
   "source": [
    "Consider the `tasks.csv` file, whose contents are:\n",
    "\n",
    "```\n",
    "1001,Homework,5\n",
    "1002,Laundry,3\n",
    "1003,Grocery, 4\n",
    "```\n",
    "\n",
    "The file can be opened using the `open` built-in function. This function returns an `_io.TextIOWrapper` object that represents a buffered text stream providing higher-level access to the underlying data in the file.\n",
    "\n",
    "We typically refer to this object as a *stream* or *file object*.\n",
    "\n",
    "The *stream* object also features certain attributes:\n",
    "+ `name` &mdash; name of the file\n",
    "+ `mode` &mdash; indicates how the file was opened (`r` for read, etc.) When a file is opened in `r` mode nonread operations won't succeed.\n",
    "+ `encoding` &mdash; indicates how the file data was encoded. Most text data is encoded with UTF-8."
   ]
  },
  {
   "cell_type": "code",
   "execution_count": 9,
   "metadata": {},
   "outputs": [
    {
     "name": "stdout",
     "output_type": "stream",
     "text": [
      "<_io.TextIOWrapper name='./exercises/section_50-files/file-1/tasks.csv' mode='r' encoding='UTF-8'>\n"
     ]
    }
   ],
   "source": [
    "text_file = open(\"./exercises/section_50-files/file-1/tasks.csv\")\n",
    "\n",
    "print(text_file)"
   ]
  },
  {
   "cell_type": "markdown",
   "metadata": {},
   "source": [
    "From a *stream* or *file object*, we can read the data using `read`. This will return a string representation of the file contents:"
   ]
  },
  {
   "cell_type": "code",
   "execution_count": 10,
   "metadata": {},
   "outputs": [
    {
     "name": "stdout",
     "output_type": "stream",
     "text": [
      "file contents:\n",
      "'1001,Homework,5\\n1002,Laundry,3\\n1003,Grocery,4\\n'\n",
      "\n",
      "1001,Homework,5\n",
      "1002,Laundry,3\n",
      "1003,Grocery,4\n",
      "\n"
     ]
    }
   ],
   "source": [
    "text_file = open(\"./exercises/section_50-files/file-1/tasks.csv\")\n",
    "\n",
    "text_data = text_file.read()\n",
    "\n",
    "assert type(text_data) == str\n",
    "print(f\"file contents:\\n{text_data!r}\")\n",
    "\n",
    "print()\n",
    "print(text_data)"
   ]
  },
  {
   "cell_type": "markdown",
   "metadata": {},
   "source": [
    "Once we're done with file processing, we must close the file by using the `close` method. \n",
    "\n",
    "After having closed the file, the `closed` attribute of the file will be True."
   ]
  },
  {
   "cell_type": "code",
   "execution_count": 11,
   "metadata": {},
   "outputs": [],
   "source": [
    "text_file = open(\"./exercises/section_50-files/file-1/tasks.csv\")\n",
    "\n",
    "# ...process the file data...\n",
    "\n",
    "text_file.close()\n",
    "\n",
    "assert text_file.closed == True"
   ]
  },
  {
   "cell_type": "markdown",
   "metadata": {},
   "source": [
    "### Opening and closing files with the Context Manager (`with` statement)\n",
    "\n",
    "You should always close files when you're done with them. To prevent us from losing data due to forgetting to close a file, we can use the *context management* technique.\n",
    "\n",
    "This involves using the `with` statement, which is the Pythonic way to read files:"
   ]
  },
  {
   "cell_type": "code",
   "execution_count": 12,
   "metadata": {},
   "outputs": [
    {
     "name": "stdout",
     "output_type": "stream",
     "text": [
      "file contents:\n",
      "'1001,Homework,5\\n1002,Laundry,3\\n1003,Grocery,4\\n'\n"
     ]
    }
   ],
   "source": [
    "with open(\"./exercises/section_50-files/file-1/tasks.csv\") as file:\n",
    "    text_data = file.read()\n",
    "    print(f\"file contents:\\n{text_data!r}\")\n",
    "\n"
   ]
  },
  {
   "cell_type": "markdown",
   "metadata": {},
   "source": [
    "When using this technique, you no longer need to close the file explicitly. A context manager establishes a connection to the applicable resource object in the `with` statement, and when the body of the `with` is completed, the context manager will automatically close the connection to the resource."
   ]
  },
  {
   "cell_type": "markdown",
   "metadata": {},
   "source": [
    "Note that `with` can be used with more resources than files. Any resource needing to be closed may support this technique.\n",
    "\n",
    "For example, when working with sqlite databases you should do:\n",
    "\n",
    "```python\n",
    "import sqlite3\n",
    "\n",
    "with con = sqlite3.connect(\"database.sqlite\"):\n",
    "  ...\n",
    "```"
   ]
  },
  {
   "cell_type": "markdown",
   "metadata": {},
   "source": [
    "### Reading data from a file using a generator (i.e., a `for` loop)\n",
    "\n",
    "The `read` method obtains the entire file contents and materializes it in a string. In certain circumstances, your computer might not have enough memory to hold that data.\n",
    "\n",
    "One of the techniques to work around processing of large files is through generators, as we will be able *yield* smaller pieces of the file in sequence.\n",
    "\n",
    "Consider the following example in which we read the information from a file that contains tasks ([tasks.csv](./exercises/section_50-files/file-1/tasks.csv)) and create a named tuple out of each line:"
   ]
  },
  {
   "cell_type": "code",
   "execution_count": 16,
   "metadata": {},
   "outputs": [
    {
     "name": "stdout",
     "output_type": "stream",
     "text": [
      "1001,Homework,5: Task(task_id='1001', title='Homework', urgency='5')\n",
      "1002,Laundry,3: Task(task_id='1002', title='Laundry', urgency='3')\n",
      "1003,Grocery,4: Task(task_id='1003', title='Grocery', urgency='4')\n"
     ]
    }
   ],
   "source": [
    "from collections import namedtuple\n",
    "\n",
    "Task = namedtuple(\"Task\", \"task_id, title, urgency\")\n",
    "\n",
    "with open(\"./exercises/section_50-files/file-1/tasks.csv\") as file:\n",
    "    for line in file:\n",
    "        stripped_line = line.strip()\n",
    "        task_id, title, urgency = stripped_line.split(\",\")\n",
    "        task = Task(task_id, title, urgency)\n",
    "        print(f\"{stripped_line}: {task}\")"
   ]
  },
  {
   "cell_type": "markdown",
   "metadata": {},
   "source": [
    "Note that:\n",
    "+ we can iterate over each of the lines of file simply using a `for` loop\n",
    "+ we need to use `strip` to get rid of the `\\n` found at the end of each line\n",
    "+ the approach handles the last line (`\\n`) gracefully"
   ]
  },
  {
   "cell_type": "markdown",
   "metadata": {},
   "source": [
    "### Reading data from file to form a list using `readlines`\n",
    "\n",
    "If the file is not too big, you can read the file contents using `readline` and form a list using `readlines`"
   ]
  },
  {
   "cell_type": "code",
   "execution_count": 19,
   "metadata": {},
   "outputs": [],
   "source": [
    "with open(\"./exercises/section_50-files/file-1/tasks.csv\") as file:\n",
    "    lines = file.readlines()\n",
    "    numbered_lines = [f\"row #{row}: {line.strip()}\" for row, line in enumerate(lines, start=1)]\n",
    "\n",
    "assert numbered_lines == [\n",
    "    \"row #1: 1001,Homework,5\",\n",
    "    \"row #2: 1002,Laundry,3\",\n",
    "    \"row #3: 1003,Grocery,4\",\n",
    "]"
   ]
  },
  {
   "cell_type": "markdown",
   "metadata": {},
   "source": [
    "| HINT: |\n",
    "| :---- |\n",
    "| See how we use `enumerate(lines, start=1)` to make the row count start from 1 rather than zero. |"
   ]
  },
  {
   "cell_type": "markdown",
   "metadata": {},
   "source": [
    "### Reading a single line from a file using `readline`\n",
    "\n",
    "In some cases we might be interested in reading only the header row of a file (e.g., CSV with a header line). The method `readline` let us read a single line.\n",
    "\n",
    "`readline` can be used multiple times to read the contents of a file line by line as with the generator/for loop.\n",
    "\n",
    "Optionally, you can pass `readline` a `size` argument that reads up to the number of characters in that line (e.g., `file.readline(5)` will read up to 5 characters in that line):"
   ]
  },
  {
   "cell_type": "code",
   "execution_count": 26,
   "metadata": {},
   "outputs": [
    {
     "name": "stdout",
     "output_type": "stream",
     "text": [
      "1001,Homework,5\n",
      "\n",
      "1002,Laundry,3\n",
      "\n",
      "1003,\n",
      "Grocery,\n",
      "4\n",
      "\n",
      "\n",
      "\n"
     ]
    }
   ],
   "source": [
    "with open(\"./exercises/section_50-files/file-1/tasks.csv\") as file:\n",
    "    print(file.readline())  # whole first line\n",
    "    print(file.readline())  # whole second line\n",
    "    print(file.readline(5)) # first 5 characters of 3rd line\n",
    "    print(file.readline(8)) # subsequent 8 characters of 3rd line\n",
    "    print(file.readline())  # remaining contents of 3rd line\n",
    "\n"
   ]
  },
  {
   "cell_type": "markdown",
   "metadata": {},
   "source": [
    "| NOTE: |\n",
    "| :---- |\n",
    "| Like `readline`, both `read` and `readlines` also accept as size argument that specifies how many characters to read from the file. |"
   ]
  },
  {
   "cell_type": "markdown",
   "metadata": {},
   "source": [
    "### Writing data to a new file using `write`\n",
    "\n",
    "To write data to a new file, we can create a file object using `with` and passing the `\"w\"` mode when invoking the `open` method.\n",
    "\n",
    "Then, we can call the `write` method. This method returns the number of characters written.\n",
    "\n",
    "Use this approach to create a new file with the following contents:\n",
    "\n",
    "```\n",
    "1001,Homework,5\n",
    "1002,Laundry,3\n",
    "1003,Grocery,4\n",
    "```\n",
    "\n"
   ]
  },
  {
   "cell_type": "code",
   "execution_count": 29,
   "metadata": {},
   "outputs": [
    {
     "name": "stdout",
     "output_type": "stream",
     "text": [
      "File opened for writing: <_io.TextIOWrapper name='./exercises/section_50-files/out-sandbox/tasks.csv' mode='w' encoding='UTF-8'>\n",
      "result: 45 characters written\n"
     ]
    }
   ],
   "source": [
    "data = \"\"\"1001,Homework,5\n",
    "1002,Laundry,3\n",
    "1003,Grocery,4\"\"\"\n",
    "\n",
    "with open(\"./exercises/section_50-files/out-sandbox/tasks.csv\", \"w\") as file:\n",
    "    print(f\"File opened for writing: {file}\")\n",
    "    result = file.write(data)\n",
    "    print(f\"result: {result} characters written\")\n"
   ]
  },
  {
   "cell_type": "markdown",
   "metadata": {},
   "source": [
    "If you try to write a file without having passed `\"w\"` as a mode you'll get an `io.UnsupportedOperation` exception:"
   ]
  },
  {
   "cell_type": "code",
   "execution_count": 31,
   "metadata": {},
   "outputs": [
    {
     "name": "stdout",
     "output_type": "stream",
     "text": [
      "File opened for writing: <_io.TextIOWrapper name='./exercises/section_50-files/out-sandbox/tasks.csv' mode='r' encoding='UTF-8'>\n",
      "Oops: not writable\n"
     ]
    }
   ],
   "source": [
    "data = \"\"\"1001,Homework,5\n",
    "1002,Laundry,3\n",
    "1003,Grocery,4\"\"\"\n",
    "\n",
    "try:\n",
    "    # Note that the file must exist\n",
    "    with open(\"./exercises/section_50-files/out-sandbox/tasks.csv\") as file:\n",
    "        print(f\"File opened for writing: {file}\")\n",
    "        result = file.write(data)\n",
    "        print(f\"result: {result} characters written\")\n",
    "except Exception as e:\n",
    "    print(f\"Oops: {e}\")"
   ]
  },
  {
   "cell_type": "markdown",
   "metadata": {},
   "source": [
    "### Writing a list of lines to a new file with `writelines`\n",
    "\n",
    "You can write a list of lines to a new file using `writelines`:\n"
   ]
  },
  {
   "cell_type": "code",
   "execution_count": 33,
   "metadata": {},
   "outputs": [],
   "source": [
    "list_data = [\n",
    "    \"1001,Homework,5\",\n",
    "    \"1002,Laundry,3\",\n",
    "    \"1003,Grocery,4\"\n",
    "]\n",
    "\n",
    "with open(\"./exercises/section_50-files/out-sandbox/tasks.txt\", \"w\") as file:\n",
    "    file.writelines(list_data)\n",
    "\n",
    "with open(\"./exercises/section_50-files/out-sandbox/tasks.txt\") as file:\n",
    "    str = file.read()\n",
    "\n",
    "assert str == \"1001,Homework,51002,Laundry,31003,Grocery,4\"\n"
   ]
  },
  {
   "cell_type": "markdown",
   "metadata": {},
   "source": [
    "Note that `writelines` do not append a `\\n` after each list item, so the contents of the file will be a single line.\n",
    "\n",
    "If you need to add the newline, you'll need to do it yourself:"
   ]
  },
  {
   "cell_type": "code",
   "execution_count": 34,
   "metadata": {},
   "outputs": [],
   "source": [
    "list_data = [\n",
    "    \"1001,Homework,5\",\n",
    "    \"1002,Laundry,3\",\n",
    "    \"1003,Grocery,4\"\n",
    "]\n",
    "\n",
    "with open(\"./exercises/section_50-files/out-sandbox/tasks.csv\", \"w\") as file:\n",
    "    file.writelines([f\"{line}\\n\" for line in list_data])"
   ]
  },
  {
   "cell_type": "markdown",
   "metadata": {},
   "source": [
    "### Appending string data to an existing file\n",
    "\n",
    "If you want to write data to the end of a file, instead of opening it in write mode (with mode `\"w\"`), you should use mode `\"a\"`.\n",
    "\n",
    "Use this approach to append the line:\n",
    "\n",
    "```\n",
    "1004,Museum,3\n",
    "```"
   ]
  },
  {
   "cell_type": "code",
   "execution_count": 36,
   "metadata": {},
   "outputs": [],
   "source": [
    "new_task = \"1004,Museum,3\"\n",
    "\n",
    "with open(\"./exercises/section_50-files/file-2/tasks.csv\", \"a\") as file:\n",
    "    file.write(f\"{new_task}\\n\")"
   ]
  },
  {
   "cell_type": "markdown",
   "metadata": {},
   "source": [
    "Note that the management of `\\n` might change from Windows and Linux systems. In the latter it is customary to end the file with a line consisting of a single `\\n`."
   ]
  },
  {
   "cell_type": "markdown",
   "metadata": {},
   "source": [
    "### File modes and positions of the cursor\n",
    "\n",
    "| Mode | read | write | create | truncate | Cursor position |\n",
    "| :--- | :--- | :---- | :----- | :------- | :-------------- |\n",
    "| r | * | | | | Start |\n",
    "| w |   | * | * | * | Start |\n",
    "| a |   | * | * |   | End |\n",
    "| r+ | *  | * |   |   | Start |\n",
    "| w+ | *  | * | * | * | Start |\n",
    "| a+ | *  | * | * |  | End |\n",
    "| x |  |  | * |  | Start |"
   ]
  },
  {
   "cell_type": "markdown",
   "metadata": {},
   "source": [
    "### Reading a CSV file line-by-line using csv reader\n",
    "\n",
    "The standard Python library provides a built-in solution for dealing with CSV files: the `csv` module, which allows us to read the data directly with a `csv_reader`:"
   ]
  },
  {
   "cell_type": "code",
   "execution_count": 39,
   "metadata": {},
   "outputs": [
    {
     "name": "stdout",
     "output_type": "stream",
     "text": [
      "['1001', 'Homework', '5']\n",
      "['1002', 'Laundry', '3']\n",
      "['1003', 'Grocery', '4']\n"
     ]
    }
   ],
   "source": [
    "import csv\n",
    "\n",
    "with open(\"./exercises/section_50-files/file-1/tasks.csv\", newline=\"\") as file:\n",
    "    csv_reader = csv.reader(file)\n",
    "    for row in csv_reader:\n",
    "        print(row)"
   ]
  },
  {
   "cell_type": "markdown",
   "metadata": {},
   "source": [
    "Note the `newline=\"\"`. According to the documentation, specifying the newline character as \"\" to ensure cross-platform consistency in the way the system treats it.\n",
    "\n",
    "In the code, after opening the file for reading, we wrap the opened *stream*/*file object* in a `csv.reader`.\n",
    "\n",
    "This returns an iterator, and therefore, we can iterate over the rows using a `for` loop, and each of the rows consists of a list that consist of the values extracted from the line, separated by commas."
   ]
  },
  {
   "cell_type": "markdown",
   "metadata": {},
   "source": [
    "### Reading a CSV file in one shot using csv reader\n",
    "\n",
    "If the CSV file not very large, you can materialize the whole contents of the CSV in a list of lists using the `list` constructor:"
   ]
  },
  {
   "cell_type": "code",
   "execution_count": 40,
   "metadata": {},
   "outputs": [
    {
     "name": "stdout",
     "output_type": "stream",
     "text": [
      "[['1001', 'Homework', '5'], ['1002', 'Laundry', '3'], ['1003', 'Grocery', '4']]\n"
     ]
    }
   ],
   "source": [
    "import csv\n",
    "\n",
    "with open(\"./exercises/section_50-files/file-1/tasks.csv\", newline=\"\") as file:\n",
    "    csv_reader = csv.reader(file)\n",
    "    tasks = list(csv_reader)\n",
    "\n",
    "print(tasks)"
   ]
  },
  {
   "cell_type": "markdown",
   "metadata": {},
   "source": [
    "### Reading a CSV file that has a header using dict using a manual approach\n",
    "\n",
    "When you have a CSV file with a header, the best approach is to read each row as `dict`, with the header's field names becoming the keys."
   ]
  },
  {
   "cell_type": "code",
   "execution_count": 42,
   "metadata": {},
   "outputs": [
    {
     "name": "stdout",
     "output_type": "stream",
     "text": [
      "Fields extracted from header: ['task_id', 'title', 'urgency']\n",
      "{'task_id': '1001', 'title': 'Homework', 'urgency': '5'}\n",
      "{'task_id': '1002', 'title': 'Laundry', 'urgency': '3'}\n",
      "{'task_id': '1003', 'title': 'Grocery', 'urgency': '4'}\n"
     ]
    }
   ],
   "source": [
    "import csv\n",
    "\n",
    "with open(\"./exercises/section_50-files/file-3/tasks.csv\", newline=\"\") as file:\n",
    "    csv_reader = csv.reader(file)\n",
    "    fields = next(csv_reader)\n",
    "    print(f\"Fields extracted from header: {fields}\")\n",
    "    for row in csv_reader:\n",
    "        task_dict = dict(zip(fields, row))\n",
    "        print(task_dict)\n"
   ]
  },
  {
   "cell_type": "markdown",
   "metadata": {},
   "source": [
    "See that as `csv_reader` is an iterator, you can call `next` to obtain the first row of data.\n",
    "\n",
    "Then, you can proceed with the usual line-by-line approach, but instead of keeping the items in a list, we create a dict. To do it in a very Pythonic way, we use `zip` to zip the field names and field values."
   ]
  },
  {
   "cell_type": "markdown",
   "metadata": {},
   "source": [
    "### Reading a CSV file with a header using a DictReader\n",
    "\n",
    "To simplify the manual approach described in the previous section, the `csv` module provides a `DictReader` object:"
   ]
  },
  {
   "cell_type": "code",
   "execution_count": 43,
   "metadata": {},
   "outputs": [
    {
     "name": "stdout",
     "output_type": "stream",
     "text": [
      "{'task_id': '1001', 'title': 'Homework', 'urgency': '5'}\n",
      "{'task_id': '1002', 'title': 'Laundry', 'urgency': '3'}\n",
      "{'task_id': '1003', 'title': 'Grocery', 'urgency': '4'}\n"
     ]
    }
   ],
   "source": [
    "import csv\n",
    "\n",
    "with open(\"./exercises/section_50-files/file-3/tasks.csv\", newline=\"\") as file:\n",
    "    csv_reader = csv.DictReader(file)\n",
    "    for row in csv_reader:\n",
    "        print(row)"
   ]
  },
  {
   "cell_type": "markdown",
   "metadata": {},
   "source": [
    "### Writing data to a CSV file using a writer\n",
    "\n",
    "`reader` have its counterpart `writer`."
   ]
  },
  {
   "cell_type": "code",
   "execution_count": 44,
   "metadata": {},
   "outputs": [],
   "source": [
    "import csv\n",
    "\n",
    "new_task = \"1004,Museum,3\"\n",
    "\n",
    "with open(\"./exercises/section_50-files/file-4/tasks.csv\", \"a\", newline=\"\") as file:\n",
    "    csv_writer = csv.writer(file)\n",
    "    csv_writer.writerow(new_task.split(\",\"))\n"
   ]
  },
  {
   "cell_type": "markdown",
   "metadata": {},
   "source": [
    "Note that we didn't have to add a `\\n`. If we needed to do that, you just use `file.write(\"\\n\")` as can be seen in the following example involving a file that does not end in `\\n`:"
   ]
  },
  {
   "cell_type": "code",
   "execution_count": 47,
   "metadata": {},
   "outputs": [],
   "source": [
    "import csv\n",
    "\n",
    "new_task = \"1004,Museum,3\"\n",
    "\n",
    "with open(\"./exercises/section_50-files/file-5/tasks.csv\", \"a\", newline=\"\") as file:\n",
    "    csv_writer = csv.writer(file)\n",
    "    file.write(\"\\n\")\n",
    "    csv_writer.writerow(new_task.split(\",\"))"
   ]
  },
  {
   "cell_type": "markdown",
   "metadata": {},
   "source": [
    "### Writing data to a CSV file using a DictWriter\n",
    "\n",
    "`DictReader` have its counterpart `DictWriter`.\n",
    "\n",
    "Suppose that we want to save the following data to a new CSV file:\n",
    "\n",
    "```python\n",
    "tasks = [\n",
    "   {'task_id': '1001', 'title': 'Homework', 'urgency': '5'},\n",
    "   {'task_id': '1002', 'title': 'Laundry', 'urgency': '3'},\n",
    "   {'task_id': '1003', 'title': 'Grocery', 'urgency': '4'}\n",
    "]\n",
    "```"
   ]
  },
  {
   "cell_type": "code",
   "execution_count": 50,
   "metadata": {},
   "outputs": [],
   "source": [
    "import csv\n",
    "\n",
    "tasks = [\n",
    "   {'task_id': '1001', 'title': 'Homework', 'urgency': '5'},\n",
    "   {'task_id': '1002', 'title': 'Laundry', 'urgency': '3'},\n",
    "   {'task_id': '1003', 'title': 'Grocery', 'urgency': '4'}\n",
    "]\n",
    "\n",
    "fields = [ \"task_id\", \"title\", \"urgency\"]\n",
    "with open(\"./exercises/section_50-files/file-6/tasks.csv\", \"w\", newline=\"\") as file:\n",
    "    csv_writer = csv.DictWriter(file, fieldnames=fields)\n",
    "    csv_writer.writeheader()\n",
    "    csv_writer.writerows(tasks)"
   ]
  },
  {
   "cell_type": "markdown",
   "metadata": {},
   "source": [
    "### Pickling objects for data preservation\n",
    "\n",
    "Pickling is a technique that allows us to preserve various forms of Python data.\n",
    "\n",
    "The term comes from the preservation of food using vinergar or similar solutions. \n",
    "\n",
    "In Python, *pickling* refers to the process of converting objects to a binary format for data preservation. That way, you can store them in binary format, and then conveniently retrieve them later.\n",
    "\n",
    "Alsmost any object can be pickled:"
   ]
  },
  {
   "cell_type": "code",
   "execution_count": 51,
   "metadata": {},
   "outputs": [],
   "source": [
    "import pickle\n",
    "\n",
    "task_tuple = (1001, \"Homework\", 5)\n",
    "task_dict = {\"task_id\": \"1002\", \"title\": \"Laundry\", \"urgency\": 3}\n",
    "\n",
    "with open(\"./exercises/section_50-files/file-7/task_tuple.pickle\", \"wb\") as file:\n",
    "    pickle.dump(task_tuple, file)\n",
    "\n",
    "with open(\"./exercises/section_50-files/file-7/task_dict.pickle\", \"wb\") as file:\n",
    "    pickle.dump(task_dict, file)"
   ]
  },
  {
   "cell_type": "markdown",
   "metadata": {},
   "source": [
    "Note that the `dump` function saves the data to a file. Note also that the mode we've used is `\"wb\"` to inform the runtime that we're dealing with binary files."
   ]
  },
  {
   "cell_type": "markdown",
   "metadata": {},
   "source": [
    "In order to restore the pickled objects, we need to unpickle them:"
   ]
  },
  {
   "cell_type": "code",
   "execution_count": 52,
   "metadata": {},
   "outputs": [],
   "source": [
    "import pickle\n",
    "\n",
    "with open(\"./exercises/section_50-files/file-7/task_tuple.pickle\", \"rb\") as file:\n",
    "    task_tuple_loaded = pickle.load(file)\n",
    "\n",
    "with open(\"./exercises/section_50-files/file-7/task_dict.pickle\", \"rb\") as file:\n",
    "    task_dict_loaded = pickle.load(file)\n",
    "\n",
    "task_tuple = (1001, \"Homework\", 5)\n",
    "task_dict = {\"task_id\": \"1002\", \"title\": \"Laundry\", \"urgency\": 3}\n",
    "assert task_tuple == task_tuple_loaded\n",
    "assert task_dict == task_dict_loaded"
   ]
  },
  {
   "cell_type": "markdown",
   "metadata": {},
   "source": [
    "### Pickling and unpickling custom classes\n",
    "\n",
    "Custom classes can be pickled too:"
   ]
  },
  {
   "cell_type": "code",
   "execution_count": 3,
   "metadata": {},
   "outputs": [],
   "source": [
    "import pickle\n",
    "\n",
    "class Task:\n",
    "    def __init__(self, title, urgency):\n",
    "        self.title = title\n",
    "        self.urgency = urgency\n",
    "\n",
    "task = Task(\"Laundry\", 3)\n",
    "\n",
    "with open(\"./exercises/section_50-files/file-7/task_class.pickle\", \"wb\") as file:\n",
    "    pickle.dump(task, file)\n",
    "\n",
    "with open(\"./exercises/section_50-files/file-7/task_class.pickle\", \"rb\") as file:\n",
    "    task_loaded = pickle.load(file)\n",
    "\n",
    "assert task_loaded.__dict__ == task.__dict__    # Equality must be True\n",
    "assert task_loaded is not task                  # Identity must be False"
   ]
  },
  {
   "cell_type": "markdown",
   "metadata": {},
   "source": [
    "Note that this works seamlessly because `Task` is known at the time of unpickling. If that were not the case, the unpickling will fail."
   ]
  },
  {
   "cell_type": "code",
   "execution_count": 4,
   "metadata": {},
   "outputs": [
    {
     "name": "stdout",
     "output_type": "stream",
     "text": [
      "Oops: Can't get attribute 'Task' on <module '__main__'>\n"
     ]
    }
   ],
   "source": [
    "del Task\n",
    "\n",
    "try:\n",
    "    with open(\"./exercises/section_50-files/file-7/task_class.pickle\", \"rb\") as file:\n",
    "        task_loaded = pickle.load(file)\n",
    "except Exception as e:\n",
    "    print(f\"Oops: {e}\")\n"
   ]
  },
  {
   "cell_type": "markdown",
   "metadata": {},
   "source": [
    "### Pickling and unpickling from/to strings with `pickle.dumps` and `pickle.loads`\n",
    "\n",
    "While JSON is a great data exchange format, it doesn't work with custom classes unless you provide specific JSON serialization instructions, provided by setting the `default` argument when calling `json.dumps`.\n",
    "\n",
    "Additionally, you cannot serialize certain types of objects like functions. By contrast, pickling is compatible with many more kinds of objects out of the box."
   ]
  },
  {
   "cell_type": "code",
   "execution_count": 6,
   "metadata": {},
   "outputs": [
    {
     "name": "stdout",
     "output_type": "stream",
     "text": [
      "b'\\x80\\x04\\x95\\x18\\x00\\x00\\x00\\x00\\x00\\x00\\x00\\x8c\\x08__main__\\x94\\x8c\\x07doubler\\x94\\x93\\x94.'\n"
     ]
    }
   ],
   "source": [
    "def doubler(x):\n",
    "    return x * 2\n",
    "\n",
    "doubler_pickle = pickle.dumps(doubler)\n",
    "print(doubler_pickle)\n",
    "\n",
    "doubler_loaded = pickle.loads(doubler_pickle)\n",
    "assert doubler_loaded(5) == doubler(5)"
   ]
  },
  {
   "cell_type": "markdown",
   "metadata": {},
   "source": [
    "Note however that not everything can be pickled. For example, you can't pickle a module:"
   ]
  },
  {
   "cell_type": "code",
   "execution_count": 7,
   "metadata": {},
   "outputs": [
    {
     "name": "stdout",
     "output_type": "stream",
     "text": [
      "Oops: cannot pickle 'module' object\n"
     ]
    }
   ],
   "source": [
    "import os\n",
    "\n",
    "try:\n",
    "    os_dumped = pickle.dumps(os)\n",
    "except Exception as e:\n",
    "    print(f\"Oops: {e}\")"
   ]
  },
  {
   "cell_type": "markdown",
   "metadata": {},
   "source": [
    "### Security considerations while pickling\n",
    "\n",
    "Loading untrusted pickles is a serious threat vector, as those might come with malicious behavior:\n",
    "\n",
    "./exercises/section_50-files/file-8/malicious_task_class.pickle"
   ]
  },
  {
   "cell_type": "code",
   "execution_count": 25,
   "metadata": {},
   "outputs": [
    {
     "name": "stdout",
     "output_type": "stream",
     "text": [
      "__reduce__ is called\n"
     ]
    }
   ],
   "source": [
    "import os\n",
    "\n",
    "class MaliciousTask:\n",
    "    def __init__(self, title, urgency):\n",
    "        self.title = title\n",
    "        self.urgency = urgency\n",
    "\n",
    "    def __reduce__(self):\n",
    "        print(\"__reduce__ is called\")\n",
    "        return os.system, ('touch ./exercises/section_50-files/file-8/hacking.txt',)\n",
    "\n",
    "malicious_task = MaliciousTask(\"Set fire\", 5)\n",
    "\n",
    "with open(\"./exercises/section_50-files/file-8/test_malicious.pickle\", \"wb\") as file:\n",
    "   pickle.dump(malicious_task, file)\n"
   ]
  },
  {
   "cell_type": "markdown",
   "metadata": {},
   "source": [
    "The `__reduce__` method is invoked during the pickling/unpickling process, and results in the creation of an unwanted file.\n",
    "\n",
    "| NOTE: |\n",
    "| :---- |\n",
    "| I'm not seeing the file being created, but it's not failing either. |"
   ]
  },
  {
   "cell_type": "code",
   "execution_count": 26,
   "metadata": {},
   "outputs": [],
   "source": [
    "import pickle\n",
    "\n",
    "class MaliciousTaskTask:\n",
    "    def __init__(self, title, urgency):\n",
    "        self.title = title\n",
    "        self.urgency = urgency\n",
    "\n",
    "    def __reduce__(self):\n",
    "        print(f\"__reduce__ is called\")\n",
    "        return os.system, ('touch exercises/section_50-files/file-8/u.ve.been.owned.txt',)\n",
    "\n",
    "\n",
    "with open(\"./exercises/section_50-files/file-8/malicious_task_class.pickle\", \"rb\") as file:\n",
    "    pickle.load(file)"
   ]
  },
  {
   "cell_type": "markdown",
   "metadata": {},
   "source": [
    "### Creating a directory using `pathlib`\n",
    "\n",
    "The `pathlib` module is the preferred approach to deal with handling paths and also creating directories.\n"
   ]
  },
  {
   "cell_type": "code",
   "execution_count": 29,
   "metadata": {},
   "outputs": [],
   "source": [
    "from pathlib import Path\n",
    "\n",
    "data_folder = Path(\"./exercises/section_50-files/file-9/data\")\n",
    "data_folder.mkdir()\n",
    "\n",
    "assert data_folder.exists()"
   ]
  },
  {
   "cell_type": "markdown",
   "metadata": {},
   "source": [
    "### Creating a bunch of files programmatically\n",
    "\n",
    "Consider the creation of the following files in a given directory:\n",
    "\n",
    "```\n",
    "subject_123.config\n",
    "subject_123.dat\n",
    "subject_123.txt\n",
    "subject_124.config\n",
    "subject_124.dat\n",
    "subject_124.txt\n",
    "subject_125.config\n",
    "subject_125.dat\n",
    "subject_125.txt\n",
    "```"
   ]
  },
  {
   "cell_type": "markdown",
   "metadata": {},
   "source": [
    "With the information we've seen so far, we should be able to create this without much trouble:"
   ]
  },
  {
   "cell_type": "code",
   "execution_count": 3,
   "metadata": {},
   "outputs": [],
   "source": [
    "from pathlib import Path\n",
    "\n",
    "ids = [123, 124, 125]\n",
    "extensions = [\"config\", \"dat\", \"txt\"]\n",
    "\n",
    "data_dir = Path(\"./exercises/section_50-files/file-9/data\")\n",
    "\n",
    "for id in ids:\n",
    "    for extension in extensions:\n",
    "        filename = f\"subject_{id}.{extension}\"\n",
    "        filepath = data_dir / filename\n",
    "        with open(filepath, \"w\") as file:\n",
    "            file.write(f\"This is {filename}\")"
   ]
  },
  {
   "cell_type": "markdown",
   "metadata": {},
   "source": [
    "Note how the path has being constructed using:\n",
    "\n",
    "```python\n",
    "directory_path / filename\n",
    "```\n",
    "\n",
    "When using this approach, the operation will be OS agnostic."
   ]
  },
  {
   "cell_type": "markdown",
   "metadata": {},
   "source": [
    "### Retrieving the list of files of a specific kind\n",
    "\n",
    "Consider a directory holding the files:\n",
    "\n",
    "```\n",
    "subject_123.config\n",
    "subject_123.dat\n",
    "subject_123.txt\n",
    "subject_124.config\n",
    "subject_124.dat\n",
    "subject_124.txt\n",
    "subject_125.config\n",
    "subject_125.dat\n",
    "subject_125.txt\n",
    "```\n",
    "\n",
    "We need to get all the \".dat\" files.\n",
    "\n",
    "| HINT: |\n",
    "| :---- |\n",
    "| Use the `glob` method. |"
   ]
  },
  {
   "cell_type": "code",
   "execution_count": 33,
   "metadata": {},
   "outputs": [
    {
     "name": "stdout",
     "output_type": "stream",
     "text": [
      "Processing exercises/section_50-files/file-9/data/subject_123.dat\n",
      "Processing exercises/section_50-files/file-9/data/subject_125.dat\n",
      "Processing exercises/section_50-files/file-9/data/subject_124.dat\n"
     ]
    }
   ],
   "source": [
    "from pathlib import Path\n",
    "\n",
    "data_dir = Path(\"./exercises/section_50-files/file-9/data\")\n",
    "\n",
    "data_files = data_dir.glob(\"*.dat\")\n",
    "\n",
    "for data_file in data_files:\n",
    "    print(f\"Processing {data_file}\")"
   ]
  },
  {
   "cell_type": "markdown",
   "metadata": {},
   "source": [
    "### Moving files to a different folder\n",
    "\n",
    "You can move files by just renaming their file path. For example, if you rename `data/subject_123.dat` to `subjects/subject_123/subject_123.dat`, the file would be effectively moved from `data/` to `subjects/subject_123`.\n",
    "\n",
    "Consider the following directory `data/` containing:\n",
    "\n",
    "```\n",
    "subject_123.config\n",
    "subject_123.dat\n",
    "subject_123.txt\n",
    "subject_124.config\n",
    "subject_124.dat\n",
    "subject_124.txt\n",
    "subject_125.config\n",
    "subject_125.dat\n",
    "subject_125.txt\n",
    "```\n",
    "\n",
    "We want each of the files to be moved to a corresponding directory `subjects/subject_{id}/{filename}` as in the example mentioned above.\n",
    "\n",
    "| HINT: |\n",
    "| :---- |\n",
    "| You will need to use the `mkdir` method. In order to create a multilevel directory even when some intermediate levels don't exist use `parents=True`. Also, use `exist_ok=True` to silence the situation in which directories already exist. |"
   ]
  },
  {
   "cell_type": "code",
   "execution_count": 2,
   "metadata": {},
   "outputs": [
    {
     "name": "stdout",
     "output_type": "stream",
     "text": [
      "Moved subject_123.dat to exercises/section_50-files/out-sandbox/subjects/subject_123/subject_123.dat\n",
      "Moved subject_123.config to exercises/section_50-files/out-sandbox/subjects/subject_123/subject_123.config\n",
      "Moved subject_123.txt to exercises/section_50-files/out-sandbox/subjects/subject_123/subject_123.txt\n",
      "Moved subject_124.txt to exercises/section_50-files/out-sandbox/subjects/subject_124/subject_124.txt\n",
      "Moved subject_124.config to exercises/section_50-files/out-sandbox/subjects/subject_124/subject_124.config\n",
      "Moved subject_124.dat to exercises/section_50-files/out-sandbox/subjects/subject_124/subject_124.dat\n",
      "Moved subject_125.txt to exercises/section_50-files/out-sandbox/subjects/subject_125/subject_125.txt\n",
      "Moved subject_125.config to exercises/section_50-files/out-sandbox/subjects/subject_125/subject_125.config\n",
      "Moved subject_125.dat to exercises/section_50-files/out-sandbox/subjects/subject_125/subject_125.dat\n"
     ]
    }
   ],
   "source": [
    "from pathlib import Path\n",
    "\n",
    "subject_ids = [123, 124, 125]\n",
    "data_folder = Path(\"./exercises/section_50-files/file-9/data\")\n",
    "target_base_folder = Path(\"./exercises/section_50-files/out-sandbox\")\n",
    "\n",
    "for subject_id in subject_ids:\n",
    "    target_subject_folder = Path(f\"subjects/subject_{subject_id}\")\n",
    "    target_folder = target_base_folder / target_subject_folder\n",
    "    target_folder.mkdir(parents=True, exist_ok=True)\n",
    "\n",
    "    for subject_file in data_folder.glob(f\"*{subject_id}*\"):\n",
    "        filename = subject_file.name\n",
    "        target_path = target_folder / filename\n",
    "        _ = subject_file.rename(target_path)\n",
    "        print(f\"Moved {filename} to {target_path}\")"
   ]
  },
  {
   "cell_type": "markdown",
   "metadata": {},
   "source": [
    "### Copying files to a different folder\n",
    "\n",
    "The `shutil` module provides a high-level API for manipulating files. \n",
    "\n",
    "\n",
    "This module features the `copy(src, dst)` method to perform the copy.\n",
    "\n",
    "It also exposes an `rmtree` method that lets you remove a directory and its contents."
   ]
  },
  {
   "cell_type": "code",
   "execution_count": 4,
   "metadata": {},
   "outputs": [
    {
     "name": "stdout",
     "output_type": "stream",
     "text": [
      "Copied subject_123.dat to exercises/section_50-files/out-sandbox/subjects/subject_123/subject_123.dat\n",
      "Copied subject_123.config to exercises/section_50-files/out-sandbox/subjects/subject_123/subject_123.config\n",
      "Copied subject_123.txt to exercises/section_50-files/out-sandbox/subjects/subject_123/subject_123.txt\n",
      "Copied subject_124.txt to exercises/section_50-files/out-sandbox/subjects/subject_124/subject_124.txt\n",
      "Copied subject_124.config to exercises/section_50-files/out-sandbox/subjects/subject_124/subject_124.config\n",
      "Copied subject_124.dat to exercises/section_50-files/out-sandbox/subjects/subject_124/subject_124.dat\n",
      "Copied subject_125.txt to exercises/section_50-files/out-sandbox/subjects/subject_125/subject_125.txt\n",
      "Copied subject_125.config to exercises/section_50-files/out-sandbox/subjects/subject_125/subject_125.config\n",
      "Copied subject_125.dat to exercises/section_50-files/out-sandbox/subjects/subject_125/subject_125.dat\n"
     ]
    }
   ],
   "source": [
    "import shutil\n",
    "\n",
    "shutil.rmtree(\"./exercises/section_50-files/out-sandbox/subjects\")\n",
    "\n",
    "subject_ids = [123, 124, 125]\n",
    "data_folder = Path(\"./exercises/section_50-files/file-9/data\")\n",
    "target_base_folder = Path(\"./exercises/section_50-files/out-sandbox\")\n",
    "\n",
    "for subject_id in subject_ids:\n",
    "    target_subject_folder = Path(f\"subjects/subject_{subject_id}\")\n",
    "    target_folder = target_base_folder / target_subject_folder\n",
    "    target_folder.mkdir(parents=True, exist_ok=True)\n",
    "\n",
    "    for subject_file in data_folder.glob(f\"*{subject_id}*\"):\n",
    "        filename = subject_file.name\n",
    "        target_path = target_folder / filename\n",
    "        _ = shutil.copy(subject_file, target_path)\n",
    "        print(f\"Copied {filename} to {target_path}\")\n"
   ]
  },
  {
   "cell_type": "markdown",
   "metadata": {},
   "source": [
    "Note that `Path` exposes the method `rmdir`, but it complains if the directory is not empty. By contrast, `rmtree` in `shutil` can remove a directory and its contents."
   ]
  },
  {
   "cell_type": "code",
   "execution_count": 6,
   "metadata": {},
   "outputs": [
    {
     "name": "stdout",
     "output_type": "stream",
     "text": [
      "Oops: [Errno 39] Directory not empty: 'exercises/section_50-files/out-sandbox/subjects'\n"
     ]
    }
   ],
   "source": [
    "from pathlib import Path\n",
    "\n",
    "try:\n",
    "    Path(\"./exercises/section_50-files/out-sandbox/subjects\").rmdir()\n",
    "except Exception as e:\n",
    "    print(f\"Oops: {e}\")"
   ]
  },
  {
   "cell_type": "markdown",
   "metadata": {},
   "source": [
    "### Deleting specific files\n",
    "\n",
    "Consider the following scenario in which we want to remove the `.txt` files from a specific folder.\n",
    "\n",
    "The `Path` class provides the `unlink` method to delete a file."
   ]
  },
  {
   "cell_type": "code",
   "execution_count": 7,
   "metadata": {},
   "outputs": [
    {
     "name": "stdout",
     "output_type": "stream",
     "text": [
      "Deleting exercises/section_50-files/file-9/data/subject_124.txt, existing: True -> False\n",
      "Deleting exercises/section_50-files/file-9/data/subject_125.txt, existing: True -> False\n",
      "Deleting exercises/section_50-files/file-9/data/subject_123.txt, existing: True -> False\n"
     ]
    }
   ],
   "source": [
    "from pathlib import Path\n",
    "\n",
    "data_folder = Path(\"./exercises/section_50-files/file-9/data\")\n",
    "\n",
    "for file in data_folder.glob(\"*.txt\"):\n",
    "    before = file.exists()\n",
    "    file.unlink()\n",
    "    after = file.exists()\n",
    "    print(f\"Deleting {file}, existing: {before} -> {after}\")\n"
   ]
  },
  {
   "cell_type": "markdown",
   "metadata": {},
   "source": [
    "### Retrieving file name and file extension related metadata\n",
    "\n",
    "The following snippet illustrates how to obtain file name and extension.\n",
    "\n",
    "In it, we access the `subjects/` directory tree looking for `*.dat` files in all the subdirectories of `subjects/`. When found, we get the directory name using `parent` and the filename (without extension) using `stem` and then build the path of the corresponding `{filename}.config` file."
   ]
  },
  {
   "cell_type": "code",
   "execution_count": 9,
   "metadata": {},
   "outputs": [
    {
     "name": "stdout",
     "output_type": "stream",
     "text": [
      "exercises/section_50-files/out-sandbox/subjects/subject_125 & subject_125 -> exercises/section_50-files/out-sandbox/subjects/subject_125/subject_125.config\n",
      "Processing subject_125: dat? True, config? True\n",
      "\n",
      "exercises/section_50-files/out-sandbox/subjects/subject_123 & subject_123 -> exercises/section_50-files/out-sandbox/subjects/subject_123/subject_123.config\n",
      "Processing subject_123: dat? True, config? True\n",
      "\n",
      "exercises/section_50-files/out-sandbox/subjects/subject_124 & subject_124 -> exercises/section_50-files/out-sandbox/subjects/subject_124/subject_124.config\n",
      "Processing subject_124: dat? True, config? True\n",
      "\n"
     ]
    }
   ],
   "source": [
    "from pathlib import Path\n",
    "\n",
    "subjects_folder = Path(\"./exercises/section_50-files/out-sandbox/subjects\")\n",
    "\n",
    "for dat_path in subjects_folder.glob(\"**/*.dat\"):\n",
    "    subject_dir = dat_path.parent\n",
    "    filename = dat_path.stem\n",
    "    config_path = subject_dir / f\"{filename}.config\"\n",
    "    print(f\"{subject_dir} & {filename} -> {config_path}\")\n",
    "\n",
    "    dat_exists = dat_path.exists()\n",
    "    config_exists = config_path.exists()\n",
    "\n",
    "    with open(dat_path) as dat_file, open(config_path) as config_file:\n",
    "        print(f\"Processing {filename}: dat? {dat_exists}, config? {config_exists}\\n\")\n",
    "        # additional processing of files\n"
   ]
  },
  {
   "cell_type": "markdown",
   "metadata": {},
   "source": [
    "Note that `with` can be used with multiple resources in one statement.\n",
    "\n",
    "In summary you can use:\n",
    "+ `parent` &mdash; retrieves the directory on which file is hosted.\n",
    "+ `name` &mdash; retrieves the entire filename, including the extension.\n",
    "+ `stem` &mdash; retrieves the filename, without the extension.\n",
    "+ `suffix` &mdash; retrieves the file extension."
   ]
  },
  {
   "cell_type": "code",
   "execution_count": 11,
   "metadata": {},
   "outputs": [
    {
     "name": "stdout",
     "output_type": "stream",
     "text": [
      "parent: exercises/section_50-files/file-9/data\n",
      "name  : subject_123.dat\n",
      "stem  : subject_123\n",
      "suffix: .dat\n"
     ]
    }
   ],
   "source": [
    "from pathlib import Path\n",
    "\n",
    "dat_path = Path(\"./exercises/section_50-files/file-9/data/subject_123.dat\")\n",
    "\n",
    "print(f\"parent: {dat_path.parent}\")\n",
    "print(f\"name  : {dat_path.name}\")\n",
    "print(f\"stem  : {dat_path.stem}\")\n",
    "print(f\"suffix: {dat_path.suffix}\")\n"
   ]
  },
  {
   "cell_type": "markdown",
   "metadata": {},
   "source": [
    "### Retrieving file's size and time metadata\n",
    "\n",
    "The following snippet illustrates how you can get the size of a file using `stat().st_size`.\n",
    "\n",
    "In the example, we get all the `*.dat` files, retrieve their size and check that it is within certain limits."
   ]
  },
  {
   "cell_type": "code",
   "execution_count": 13,
   "metadata": {},
   "outputs": [
    {
     "name": "stdout",
     "output_type": "stream",
     "text": [
      "subject_123.dat: within size limits: size=23 (min=20, max=40)\n",
      "subject_125.dat: within size limits: size=23 (min=20, max=40)\n",
      "subject_124.dat: within size limits: size=23 (min=20, max=40)\n",
      "\n",
      "subject_123.dat: outside size limits: size=23 (min=40, max=60)\n",
      "subject_125.dat: outside size limits: size=23 (min=40, max=60)\n",
      "subject_124.dat: outside size limits: size=23 (min=40, max=60)\n"
     ]
    }
   ],
   "source": [
    "from pathlib import Path\n",
    "\n",
    "def process_data_using_size_cutoff(min_size, max_size):\n",
    "    data_folder = Path(\"./exercises/section_50-files/file-9/data/\")\n",
    "    for dat_path in data_folder.glob(\"*.dat\"):\n",
    "        filename = dat_path.name\n",
    "        size = dat_path.stat().st_size\n",
    "        if min_size < size < max_size:\n",
    "            print(f\"{filename}: within size limits: size={size} (min={min_size}, max={max_size})\")\n",
    "        else:\n",
    "            print(f\"{filename}: outside size limits: size={size} (min={min_size}, max={max_size})\")\n",
    "\n",
    "\n",
    "process_data_using_size_cutoff(20, 40)\n",
    "\n",
    "print()\n",
    "process_data_using_size_cutoff(40, 60)"
   ]
  },
  {
   "cell_type": "markdown",
   "metadata": {},
   "source": [
    "We can get the time related metadata (such as modification time) using `stat().st_mtime`.\n",
    "\n",
    "Note that in order to make it more readable, we also import the `time` module and use `ctime`"
   ]
  },
  {
   "cell_type": "code",
   "execution_count": 15,
   "metadata": {},
   "outputs": [
    {
     "name": "stdout",
     "output_type": "stream",
     "text": [
      "Modification time: 1694502454.1044314 -> Tue Sep 12 09:07:34 2023\n"
     ]
    }
   ],
   "source": [
    "import time\n",
    "\n",
    "base_path = Path(\"./exercises/section_50-files/file-9\")\n",
    "subject_dat_path = Path(\"data/subject_123.dat\")\n",
    "\n",
    "dat_path = base_path / subject_dat_path\n",
    "\n",
    "modified_time = dat_path.stat().st_mtime\n",
    "readable_modified_time = time.ctime(modified_time)\n",
    "\n",
    "print(f\"Modification time: {modified_time} -> {readable_modified_time}\")"
   ]
  },
  {
   "cell_type": "markdown",
   "metadata": {},
   "source": [
    "## Section 51 &mdash; Logging\n",
    "\n",
    "This section details the best practices about logging in Python. "
   ]
  },
  {
   "cell_type": "markdown",
   "metadata": {},
   "source": [
    "### Logger instantiation best practices\n",
    "\n",
    "The `logging` module from the standard Python library provides all the logging functionalities. This module has the `Logger` class, whose constructor takes a name to create an instance:"
   ]
  },
  {
   "cell_type": "code",
   "execution_count": null,
   "metadata": {},
   "outputs": [],
   "source": [
    "import logging\n",
    "\n",
    "# bad practice: DO NOT USE\n",
    "logger_bad = logging.Logger(\"task_app\")"
   ]
  },
  {
   "cell_type": "markdown",
   "metadata": {},
   "source": [
    "While the previous approach works, we shouldn't be using that approach. Instead, we should use the `getLogger` factory method:"
   ]
  },
  {
   "cell_type": "code",
   "execution_count": null,
   "metadata": {},
   "outputs": [],
   "source": [
    "import logging\n",
    "\n",
    "logger = logging.getLogger(\"task_app\")"
   ]
  },
  {
   "cell_type": "markdown",
   "metadata": {},
   "source": [
    "The reason is that we want to get a shared instance of the `Logger` class to handle logging, instead of a brand new instance each time we invoke `Logger` constructor."
   ]
  },
  {
   "cell_type": "code",
   "execution_count": 16,
   "metadata": {},
   "outputs": [],
   "source": [
    "import logging\n",
    "\n",
    "logger0_bad = logging.Logger(\"task_app\")\n",
    "logger1_bad = logging.Logger(\"task_app\")\n",
    "\n",
    "logger0_good = logging.getLogger(\"task_app\")\n",
    "logger1_good = logging.getLogger(\"task_app\")\n",
    "\n",
    "assert logger0_bad is not logger1_bad   # identity\n",
    "assert logger0_good is logger1_good     # identity"
   ]
  },
  {
   "cell_type": "markdown",
   "metadata": {},
   "source": [
    "As a best practice, you should create the logger by running `logging.getLogger(__name__)` which returns the module name (e.g., for `server.py`, `__name__` will be `server`)."
   ]
  },
  {
   "cell_type": "markdown",
   "metadata": {},
   "source": [
    "### Sending logger messages to file\n",
    "\n",
    "While not that useful in production use cases anymore, as most of the hyperscalers require you to log to the stdout, we'll see in this section how to log to a file."
   ]
  },
  {
   "cell_type": "code",
   "execution_count": 17,
   "metadata": {},
   "outputs": [],
   "source": [
    "import logging\n",
    "\n",
    "logger = logging.getLogger(__name__)\n",
    "\n",
    "file_handler = logging.FileHandler(\"./exercises/section_51-logging/logfile-0/app.log\")\n",
    "\n",
    "logger.addHandler(file_handler)\n",
    "\n",
    "# Now logger invocations will end up in file\n",
    "task_title = \"Laundry\"\n",
    "logger.warning(f\"removed the task {task_title} from the database\")"
   ]
  },
  {
   "cell_type": "markdown",
   "metadata": {},
   "source": [
    "### Configuring multiple handlers to a logger\n",
    "\n",
    "Besides file handlers, you can add a stream handler which can be used to log records in an interactive console."
   ]
  },
  {
   "cell_type": "code",
   "execution_count": 20,
   "metadata": {},
   "outputs": [
    {
     "name": "stderr",
     "output_type": "stream",
     "text": [
      "a sample warning event\n",
      "a sample warning event\n",
      "a sample warning event\n"
     ]
    }
   ],
   "source": [
    "import logging\n",
    "\n",
    "logger = logging.getLogger(__name__)\n",
    "\n",
    "stream_handler = logging.StreamHandler()\n",
    "\n",
    "logger.addHandler(stream_handler)\n",
    "logger.warning(\"a sample warning event\")"
   ]
  },
  {
   "cell_type": "markdown",
   "metadata": {},
   "source": [
    "The method `hasHandlers` can be used to check if a logger has handlers already."
   ]
  },
  {
   "cell_type": "code",
   "execution_count": 22,
   "metadata": {},
   "outputs": [
    {
     "name": "stdout",
     "output_type": "stream",
     "text": [
      "It has handlers: [<FileHandler /home/ubuntu/Development/git-repos/side_projects/python-workbench/part_1-python-fundamentals/00_basic-python-workout/exercises/section_51-logging/logfile-0/app.log (NOTSET)>, <StreamHandler stderr (NOTSET)>, <StreamHandler stderr (NOTSET)>, <StreamHandler stderr (NOTSET)>]\n"
     ]
    }
   ],
   "source": [
    "import logging\n",
    "\n",
    "logger = logging.getLogger(__name__)\n",
    "\n",
    "if logger.hasHandlers():\n",
    "    print(f\"It has handlers: {logger.handlers}\")"
   ]
  },
  {
   "cell_type": "markdown",
   "metadata": {},
   "source": [
    "### Logger levels\n",
    "\n",
    "Python's logging module gives you access to five levels `DEBUG`, `INFO`, `WARNING`, `ERROR`, and `CRITICAL`, plus a base level `NOTSET` which has a numeric value of `0` and isn't typically used.\n",
    "\n",
    "| Severity Value | Logging Level | Description |\n",
    "| :------------- | :------------ | :---------- |\n",
    "| 50 | `CRITICAL` | Severe error in core functionalities |\n",
    "| 40 | `ERROR` | Errors in certain functionalities |\n",
    "| 30 | `WARNING` | Unexpected behavior that can lead to errors |\n",
    "| 20 | `INFO` | Information about expected behaviors |\n",
    "| 10 | `DEBUG` | Diagnosis information to facilitate debugging |"
   ]
  },
  {
   "cell_type": "markdown",
   "metadata": {},
   "source": [
    "In order to benefit from the logging levels you first need to set the level of a logger. When you set an specific level, all logging records at that level and the ones above it will be captured by the logger:"
   ]
  },
  {
   "cell_type": "code",
   "execution_count": 24,
   "metadata": {},
   "outputs": [
    {
     "name": "stderr",
     "output_type": "stream",
     "text": [
      "critical message\n",
      "critical message\n",
      "critical message\n",
      "error message\n",
      "error message\n",
      "error message\n",
      "warning message\n",
      "warning message\n",
      "warning message\n"
     ]
    },
    {
     "name": "stdout",
     "output_type": "stream",
     "text": [
      "level=30, levelToName=WARNING\n"
     ]
    }
   ],
   "source": [
    "import logging\n",
    "\n",
    "logger = logging.getLogger(__name__)\n",
    "logger.setLevel(logging.WARNING)\n",
    "\n",
    "print(f\"level={logger.level}, levelToName={logging._levelToName[logger.level]}\")\n",
    "\n",
    "def logging_messages_all_levels():\n",
    "    logger.critical(\"critical message\")\n",
    "    logger.error(\"error message\")\n",
    "    logger.warning(\"warning message\")\n",
    "    logger.info(\"info message\")\n",
    "    logger.debug(\"debug message\")\n",
    "\n",
    "logging_messages_all_levels() # Warning an above only will be displayed\n"
   ]
  },
  {
   "cell_type": "markdown",
   "metadata": {},
   "source": [
    "### Setting level to individual logging handlers\n",
    "\n",
    "It is possible to set logging level per handler:"
   ]
  },
  {
   "cell_type": "code",
   "execution_count": 27,
   "metadata": {},
   "outputs": [
    {
     "name": "stderr",
     "output_type": "stream",
     "text": [
      "critical message\n",
      "critical message\n",
      "critical message\n",
      "error message\n",
      "error message\n",
      "error message\n",
      "warning message\n",
      "warning message\n",
      "warning message\n",
      "info message\n",
      "info message\n",
      "info message\n",
      "debug message\n",
      "debug message\n",
      "debug message\n"
     ]
    }
   ],
   "source": [
    "import logging\n",
    "\n",
    "logger = logging.getLogger(__name__)\n",
    "logger.setLevel(logging.DEBUG)\n",
    "\n",
    "handler_warning = logging.FileHandler(\"./exercises/section_51-logging/logfile-0/app-warning.log\")\n",
    "handler_warning.setLevel(logging.WARNING)\n",
    "logger.addHandler(handler_warning)\n",
    "\n",
    "critical_warning = logging.FileHandler(\"./exercises/section_51-logging/logfile-0/app-critical.log\")\n",
    "critical_warning.setLevel(logging.CRITICAL)\n",
    "logger.addHandler(critical_warning)\n",
    "\n",
    "\n",
    "def logging_messages_all_levels():\n",
    "    logger.critical(\"critical message\")\n",
    "    logger.error(\"error message\")\n",
    "    logger.warning(\"warning message\")\n",
    "    logger.info(\"info message\")\n",
    "    logger.debug(\"debug message\")\n",
    "\n",
    "logging_messages_all_levels() # Warning an above only will be displayed\n"
   ]
  },
  {
   "cell_type": "markdown",
   "metadata": {},
   "source": [
    "### Cleaning the logging handlers\n",
    "\n",
    "You can reset the existing handlers of a loggers doing:"
   ]
  },
  {
   "cell_type": "code",
   "execution_count": 28,
   "metadata": {},
   "outputs": [],
   "source": [
    "logger.handlers = []"
   ]
  },
  {
   "cell_type": "markdown",
   "metadata": {},
   "source": [
    "### Configuring the logger format\n",
    "\n",
    "The following snippet configure the logger format in a somewhat standard way:"
   ]
  },
  {
   "cell_type": "code",
   "execution_count": 29,
   "metadata": {},
   "outputs": [
    {
     "name": "stderr",
     "output_type": "stream",
     "text": [
      "2023-09-12 14:25:59,194 [CRITICAL] - __main__ - critical message\n",
      "2023-09-12 14:25:59,196 [ERROR] - __main__ - error message\n",
      "2023-09-12 14:25:59,196 [WARNING] - __main__ - warning message\n",
      "2023-09-12 14:25:59,197 [INFO] - __main__ - info message\n",
      "2023-09-12 14:25:59,198 [DEBUG] - __main__ - debug message\n"
     ]
    }
   ],
   "source": [
    "import logging\n",
    "\n",
    "logger = logging.getLogger(__name__)\n",
    "logger.setLevel(logging.DEBUG)\n",
    "\n",
    "logger.handlers = []  # Make sure we start anew\n",
    "\n",
    "formatter = logging.Formatter(\"%(asctime)s [%(levelname)s] - %(name)s - %(message)s\")\n",
    "stream_handler = logging.StreamHandler()\n",
    "stream_handler.setLevel(logging.DEBUG)\n",
    "stream_handler.setFormatter(formatter)\n",
    "logger.addHandler(stream_handler)\n",
    "\n",
    "def logging_messages_all_levels():\n",
    "    logger.critical(\"critical message\")\n",
    "    logger.error(\"error message\")\n",
    "    logger.warning(\"warning message\")\n",
    "    logger.info(\"info message\")\n",
    "    logger.debug(\"debug message\")\n",
    "\n",
    "\n",
    "logging_messages_all_levels()\n"
   ]
  },
  {
   "cell_type": "markdown",
   "metadata": {},
   "source": [
    "### Logging exceptions\n",
    "\n",
    "When logger is invoked within exception handlers, it is recommended to use the `exception` method:"
   ]
  },
  {
   "cell_type": "code",
   "execution_count": 1,
   "metadata": {},
   "outputs": [
    {
     "name": "stderr",
     "output_type": "stream",
     "text": [
      "Oops\n",
      "Traceback (most recent call last):\n",
      "  File \"/tmp/ipykernel_4500/1673740087.py\", line 6, in <module>\n",
      "    raise Exception(\"Fabricated exception\")\n",
      "Exception: Fabricated exception\n"
     ]
    }
   ],
   "source": [
    "import logging\n",
    "\n",
    "logger = logging.getLogger(__name__)\n",
    "\n",
    "try:\n",
    "    raise Exception(\"Fabricated exception\")\n",
    "except Exception:\n",
    "    logger.exception(\"Oops\")"
   ]
  },
  {
   "cell_type": "markdown",
   "metadata": {},
   "source": [
    "### Avoiding preformatting log messages\n",
    "\n",
    "While we're used to use f-strings for formatting log messages, this bypasses one of logging's features that delays string formatting until it is actually needed.\n",
    "\n",
    "As a result, it is recommended in log messages to use old-style formatters:\n",
    "\n"
   ]
  },
  {
   "cell_type": "code",
   "execution_count": 2,
   "metadata": {},
   "outputs": [
    {
     "name": "stderr",
     "output_type": "stream",
     "text": [
      "ERROR:root:Couldn't say hello to Jason Isaacs\n"
     ]
    }
   ],
   "source": [
    "import logging\n",
    "\n",
    "logger = logging.getLogger(__name__)\n",
    "\n",
    "name = \"Jason Isaacs\"\n",
    "logging.error(\"Couldn't say hello to %s\", name)"
   ]
  },
  {
   "cell_type": "markdown",
   "metadata": {},
   "source": [
    "The following table describes the most common formatters:\n",
    "\n",
    "| Format specifier | Description | Example |\n",
    "| :--------------- | :---------- | :------ |\n",
    "| `%s` | string formatter<br>can be used for any object with a string representation (lists, tuples, etc.) | logger.error(\"Hello, %s\", name) |\n",
    "| `%d` | integer formatter | logger.error(\"It failed %d times\", num) |\n",
    "| `%f` | floating point formatter | logger.error(\"Expected %f\", num) |\n",
    "| `%.nf` | floating point formatter with fixed amount of digits to the right of the decimal point | logger.error(\"Num %.5f unexpected\", num) |"
   ]
  },
  {
   "cell_type": "markdown",
   "metadata": {},
   "source": [
    "## Section 52 &mdash; Unit Testing\n",
    "\n",
    "This section deals with the basics of unit testing:"
   ]
  },
  {
   "cell_type": "markdown",
   "metadata": {},
   "source": [
    "### Understanding the basis for testing functions\n",
    "\n",
    "Consider the the following snippet.\n",
    "\n",
    "The first goal of a unit test is that for a given input the function returns a definite output.\n",
    "\n",
    "That can be implemented with assertions:\n"
   ]
  },
  {
   "cell_type": "code",
   "execution_count": 12,
   "metadata": {},
   "outputs": [],
   "source": [
    "class Task:\n",
    "    def __init__(self, title, urgency):\n",
    "        self.title = title\n",
    "        self.urgency = urgency\n",
    "\n",
    "def create_task(text):\n",
    "    title, urgency_text = text.split(\",\")\n",
    "    urgency = int(urgency_text)\n",
    "    task = Task(title, urgency)\n",
    "    return task\n",
    "\n",
    "# Poor man's unit test framework\n",
    "assert Task(\"Task Title\", 34).__dict__ == create_task(\"Task Title,34\").__dict__"
   ]
  },
  {
   "cell_type": "markdown",
   "metadata": {},
   "source": [
    "### Creating your first TestCase class for unit testing\n",
    "\n",
    "You can do unit tests in Python using the `unittest` module. This will require you to create a `TestCase` class\n",
    "\n",
    "```python\n",
    "import unittest\n",
    "from task_func import Task, create_task\n",
    "\n",
    "class TestTaskCreation(unittest.TestCase):\n",
    "    def test_create_task(self):\n",
    "        task_text = \"Laundry,3\"\n",
    "        created_task = create_task(task_text)\n",
    "        self.assertEqual(created_task.__dict__, Task(\"Laundry\", 3).__dict__)\n",
    "\n",
    "if __name__ == \"__main__\":\n",
    "    unittest.main()\n",
    "```"
   ]
  },
  {
   "cell_type": "markdown",
   "metadata": {},
   "source": [
    "Note that:\n",
    "+ The `TestTaskCreation` class is created by inheriting from `TestCase`\n",
    "+ It's a convention to name test classes as `Test*`\n",
    "+ The test methods should be named `test_{func_name_to_test}`\n",
    "+ We invoke `unittest.main()` to run the test class\n",
    "\n",
    "From the command line, you can do:\n",
    "\n",
    "```bash\n",
    "python test_task_func.py\n",
    "```\n",
    "\n",
    "Assuming that the name of the file containing the test class is `test_task.func.py`."
   ]
  },
  {
   "cell_type": "markdown",
   "metadata": {},
   "source": [
    "Additional tests can be added to the same  test class.\n",
    "\n",
    "For example, if we have a function:\n",
    "\n",
    "```python\n",
    "def create_task_from_dict(task_data):\n",
    "  title = task_data[\"title\"]\n",
    "  urgency = task_data[\"urgency\"]\n",
    "  task = Task(title, urgency)\n",
    "  return task\n",
    "```\n",
    "\n",
    "We can enhance our test class as follows:\n",
    "```python\n",
    "import unittest\n",
    "from task_func import Task, create_task, create_task_from_dict\n",
    "\n",
    "class TestTaskCreation(unittest.TestCase):\n",
    "    def test_create_task(self):\n",
    "        task_text = \"Laundry,3\"\n",
    "        created_task = create_task(task_text)\n",
    "        self.assertEqual(created_task.__dict__, Task(\"Laundry\", 3).__dict__)\n",
    "\n",
    "    def test_create_task_from_dict(self):\n",
    "        task_data = {\"title\": \"Laundry\", \"urgency\": 3}\n",
    "        created_task = create_task_from_dict(task_data)\n",
    "        self.assertEqual(created_task.__dict__, Task(\"Laundry\", 3).__dict__)\n",
    "\n",
    "\n",
    "if __name__ == \"__main__\":\n",
    "    unittest.main()\n",
    "```"
   ]
  },
  {
   "cell_type": "markdown",
   "metadata": {},
   "source": [
    "### Setting up the test environment\n",
    "\n",
    "`TestCase` has a `setUp` method you can override whenever you need some action to be performed before running any test.\n",
    "\n",
    "In the example above, we could use it to refactor the set up of `task_data`:\n",
    "\n",
    "```python\n",
    "import unittest\n",
    "from task_func import Task, create_task, create_task_from_dict\n",
    "\n",
    "class TestTaskCreation(unittest.TestCase):\n",
    "    def setUp(self):\n",
    "        task_to_compare = Task(\"Laundry\", 3)\n",
    "        self.task_dict = task_to_compare.__dict__\n",
    "\n",
    "    def test_create_task(self):\n",
    "        task_text = \"Laundry,3\"\n",
    "        created_task = create_task(task_text)\n",
    "        self.assertEqual(created_task.__dict__, self.task_dict)\n",
    "\n",
    "    def test_create_task_from_dict(self):\n",
    "        task_data = {\"title\": \"Laundry\", \"urgency\": 3}\n",
    "        created_task = create_task_from_dict(task_data)\n",
    "        self.assertEqual(created_task.__dict__, self.task_dict)\n",
    "\n",
    "\n",
    "if __name__ == \"__main__\":\n",
    "    unittest.main()\n",
    "```"
   ]
  },
  {
   "cell_type": "markdown",
   "metadata": {},
   "source": [
    "### Testing `@classmethod`s\n",
    "\n",
    "Consider the following class that exposes two methods decorated with `@classmethod` as they don't need any instance of the class:\n",
    "\n",
    "```python\n",
    "class Task:\n",
    "    def __init__(self, title, urgency):\n",
    "        self.title = title\n",
    "        self.urgency = urgency\n",
    "\n",
    "    @classmethod\n",
    "    def task_from_text(cls, text_data):\n",
    "      title, urgency_text = text_data.split(\",\")\n",
    "      urgency = int(urgency_text)\n",
    "      task = cls(title, urgency)\n",
    "      return task\n",
    "\n",
    "    @classmethod\n",
    "    def task_from_dict(cls, task_data):\n",
    "        title = task_data[\"title\"]\n",
    "        urgency = task_data[\"urgency\"]\n",
    "        task = cls(title, urgency)\n",
    "        return task      \n",
    "      \n",
    "```"
   ]
  },
  {
   "cell_type": "markdown",
   "metadata": {},
   "source": [
    "The class can be tested with the following code:\n",
    "\n",
    "```python\n",
    "import unittest\n",
    "from task_func import Task\n",
    "\n",
    "class TestTaskCreation(unittest.TestCase):\n",
    "    def setUp(self):\n",
    "        task_to_compare = Task(\"Laundry\", 3)\n",
    "        self.task_dict = task_to_compare.__dict__\n",
    "\n",
    "    def test_create_task_from_text(self):\n",
    "        task_text = \"Laundry,3\"\n",
    "        created_task = Task.task_from_text(task_text)\n",
    "        self.assertEqual(created_task.__dict__, self.task_dict)\n",
    "\n",
    "    def test_create_task_from_dict(self):\n",
    "        task_data = {\"title\": \"Laundry\", \"urgency\": 3}\n",
    "        created_task = Task.task_from_dict(task_data)\n",
    "        self.assertEqual(created_task.__dict__, self.task_dict)\n",
    "\n",
    "\n",
    "if __name__ == \"__main__\":\n",
    "    unittest.main()\n",
    "```"
   ]
  },
  {
   "cell_type": "markdown",
   "metadata": {},
   "source": [
    "Note that the `setUp` method will be executed before each and every test."
   ]
  },
  {
   "cell_type": "markdown",
   "metadata": {},
   "source": [
    "### Mocking\n",
    "\n",
    "A mock object substitutes and imitates a real object within a testing environment.\n",
    "\n",
    "This becomes really handy if your code is difficult to test in certain areas, including calls to external systems, interactions with the file system, etc.\n",
    "\n",
    "Additionally, mock objects tend to expose methods that lets you understand:\n",
    "+ If a method has been called\n",
    "+ The arguments passed when invoking a method\n",
    "+ How many times you invoked a method (if more than one)"
   ]
  },
  {
   "cell_type": "markdown",
   "metadata": {},
   "source": [
    "The standard library includes `unittest.mock` for your mocking needs.\n",
    "\n",
    "It provides a class called `Mock` that can be used to imitate real objects. The library also provides a function `patch`, which replaces real objects in your code with `Mock` instances.\n",
    "\n",
    "`patch` can be used as a decorator or as a context manager. If using the latter, once the designated scope ends, the mock object will be replaced by the real one, which is useful when you only require mocking for a certain portion of your test function."
   ]
  },
  {
   "cell_type": "markdown",
   "metadata": {},
   "source": [
    "### The `Mock` object\n",
    "\n",
    "A `Mock` must simulate the object it replaces. For example, when mocking the `json` library, the mock object must contain the function `dumps` so that the existing code written for the library works also with the mock version."
   ]
  },
  {
   "cell_type": "code",
   "execution_count": 1,
   "metadata": {},
   "outputs": [
    {
     "data": {
      "text/plain": [
       "<Mock name='mock.dumps()' id='139650868565072'>"
      ]
     },
     "execution_count": 1,
     "metadata": {},
     "output_type": "execute_result"
    }
   ],
   "source": [
    "from unittest.mock import Mock\n",
    "\n",
    "# Instantiate a Mock instance\n",
    "mock = Mock()\n",
    "\n",
    "# Patch the `json` library\n",
    "json = mock\n",
    "\n",
    "# invoke the `dumps()` function on the Mock\n",
    "json.dumps()"
   ]
  },
  {
   "cell_type": "markdown",
   "metadata": {},
   "source": [
    "As you can see from the example above a `Mock` object creates arbitrary attributes on the fly &mdash; we didn't told `Mock` to create a `dumps` function and yet, the library itself created it.\n",
    "\n",
    "As a result, it will be suitable to replace any object:"
   ]
  },
  {
   "cell_type": "code",
   "execution_count": 2,
   "metadata": {},
   "outputs": [
    {
     "data": {
      "text/plain": [
       "<Mock name='mock.some_attribute' id='139650868565744'>"
      ]
     },
     "execution_count": 2,
     "metadata": {},
     "output_type": "execute_result"
    }
   ],
   "source": [
    "from unittest.mock import Mock\n",
    "\n",
    "# Instantiate a Mock instance\n",
    "mock = Mock()\n",
    "\n",
    "mock.some_attribute"
   ]
  },
  {
   "cell_type": "code",
   "execution_count": 3,
   "metadata": {},
   "outputs": [
    {
     "data": {
      "text/plain": [
       "<Mock name='mock.do_something()' id='139650867364912'>"
      ]
     },
     "execution_count": 3,
     "metadata": {},
     "output_type": "execute_result"
    }
   ],
   "source": [
    "from unittest.mock import Mock\n",
    "\n",
    "# Instantiate a Mock instance\n",
    "mock = Mock()\n",
    "\n",
    "mock.do_something()"
   ]
  },
  {
   "cell_type": "markdown",
   "metadata": {},
   "source": [
    "Note also that the attributes and functions defined on the mock return also a `Mock`. This will allow you to recursively define other mocks to handle complex scenarios.\n",
    "\n",
    "For example:"
   ]
  },
  {
   "cell_type": "code",
   "execution_count": 4,
   "metadata": {},
   "outputs": [
    {
     "data": {
      "text/plain": [
       "<Mock name='mock.loads().get()' id='139650867367504'>"
      ]
     },
     "execution_count": 4,
     "metadata": {},
     "output_type": "execute_result"
    }
   ],
   "source": [
    "from unittest.mock import Mock\n",
    "\n",
    "# Mock the json library\n",
    "json = Mock()\n",
    "\n",
    "# Calling json.loads(...).get() just works\n",
    "json.loads('{\"key\": \"value\"}').get(\"key\")"
   ]
  },
  {
   "cell_type": "markdown",
   "metadata": {},
   "source": [
    "#### Assertions and Inspection with Mock\n",
    "\n",
    "As discussed in the introduction, Mock objects allow you to understand if a method has been called and how:"
   ]
  },
  {
   "cell_type": "code",
   "execution_count": 6,
   "metadata": {},
   "outputs": [],
   "source": [
    "from unittest.mock import Mock\n",
    "\n",
    "# Mock the json library\n",
    "json = Mock()\n",
    "\n",
    "json.loads('{\"key\": \"value\"}')\n",
    "\n",
    "json.loads.assert_called()\n",
    "json.loads.assert_called_once()\n",
    "json.loads.assert_called_with('{\"key\": \"value\"}')\n",
    "json.loads.assert_called_once_with('{\"key\": \"value\"}')\n"
   ]
  },
  {
   "cell_type": "markdown",
   "metadata": {},
   "source": [
    "If an assertion fails, an `AssertionError` will be raised:"
   ]
  },
  {
   "cell_type": "code",
   "execution_count": 7,
   "metadata": {},
   "outputs": [
    {
     "name": "stdout",
     "output_type": "stream",
     "text": [
      "Ooops: expected call not found.\n",
      "Expected: loads('{\"key\": \"value\"}')\n",
      "Actual: loads('{\"key\": \"val\"}')\n"
     ]
    }
   ],
   "source": [
    "from unittest.mock import Mock\n",
    "\n",
    "# Mock the json library\n",
    "json = Mock()\n",
    "\n",
    "json.loads('{\"key\": \"val\"}')\n",
    "\n",
    "try:\n",
    "    json.loads.assert_called_with('{\"key\": \"value\"}')\n",
    "except AssertionError as ex:\n",
    "    print(f\"Ooops: {ex}\")\n"
   ]
  },
  {
   "cell_type": "markdown",
   "metadata": {},
   "source": [
    "In particular, the `assert_called_with` and `assert_called_once_with` are defined as:\n",
    "\n",
    "```python\n",
    "assert_called_with(*args, **kwargs)\n",
    "assert_called_once_with(*args, **kwargs)\n",
    "```\n",
    "\n",
    "This forces you to use in the assertion the exact same list of parameters used when invoking the Mock:"
   ]
  },
  {
   "cell_type": "code",
   "execution_count": 8,
   "metadata": {},
   "outputs": [
    {
     "name": "stdout",
     "output_type": "stream",
     "text": [
      "Ooops: expected call not found.\n",
      "Expected: loads('{\"key\": \"val\"}')\n",
      "Actual: loads(s='{\"key\": \"val\"}')\n"
     ]
    }
   ],
   "source": [
    "from unittest.mock import Mock\n",
    "\n",
    "# Mock the json library\n",
    "json = Mock()\n",
    "\n",
    "json.loads(s='{\"key\": \"val\"}')\n",
    "\n",
    "try:\n",
    "    json.loads.assert_called_with('{\"key\": \"val\"}')\n",
    "except AssertionError as ex:\n",
    "    print(f\"Ooops: {ex}\")"
   ]
  },
  {
   "cell_type": "markdown",
   "metadata": {},
   "source": [
    "The Mock objects provide a wide range of features to spy how you're interacting with the mocked object:"
   ]
  },
  {
   "cell_type": "code",
   "execution_count": 15,
   "metadata": {},
   "outputs": [
    {
     "name": "stdout",
     "output_type": "stream",
     "text": [
      "json.loads.call_count: 1\n",
      "json.loads.call_args: call(s='{\"key\": \"val\"}')\n",
      "json.loads.call_args_list: [call(s='{\"key\": \"val\"}')]\n",
      "\n",
      "######################################################################\n",
      "json.loads.call_count: 2\n",
      "json.loads.call_args: call(s='{\"key\": \"val2\"}')\n",
      "json.loads.call_args_list: [call(s='{\"key\": \"val\"}'), call(s='{\"key\": \"val2\"}')]\n",
      "\n",
      "######################################################################\n",
      "[call.loads(s='{\"key\": \"val\"}'), call.loads(s='{\"key\": \"val2\"}')]\n"
     ]
    }
   ],
   "source": [
    "from unittest.mock import Mock\n",
    "\n",
    "def print_sep():\n",
    "    print()\n",
    "    print(\"#\" * 70)\n",
    "\n",
    "# Mock the json library\n",
    "json = Mock()\n",
    "\n",
    "json.loads(s='{\"key\": \"val\"}')\n",
    "\n",
    "print(f\"json.loads.call_count: {json.loads.call_count}\")\n",
    "print(f\"json.loads.call_args: {json.loads.call_args}\")\n",
    "print(f\"json.loads.call_args_list: {json.loads.call_args_list}\")\n",
    "\n",
    "print_sep()\n",
    "json.loads(s='{\"key\": \"val2\"}')\n",
    "print(f\"json.loads.call_count: {json.loads.call_count}\")\n",
    "print(f\"json.loads.call_args: {json.loads.call_args}\")    # last call\n",
    "print(f\"json.loads.call_args_list: {json.loads.call_args_list}\") # list of arguments across calls\n",
    "\n",
    "print_sep()\n",
    "print(json.method_calls)\n"
   ]
  },
  {
   "cell_type": "markdown",
   "metadata": {},
   "source": [
    "#### Customizing a `Mock`'s return value\n",
    "\n",
    "`Mock` objects also allow you to control the return value.\n",
    "\n",
    "Consider the following snippet which returns whether today is a weekday or not:"
   ]
  },
  {
   "cell_type": "code",
   "execution_count": 16,
   "metadata": {},
   "outputs": [],
   "source": [
    "from datetime import datetime\n",
    "\n",
    "def is_weekday() -> bool:\n",
    "    today = datetime.today()\n",
    "    return (0 <= today.weekday() < 5)"
   ]
  },
  {
   "cell_type": "markdown",
   "metadata": {},
   "source": [
    "In order to properly test that function, you need to use mocking so that the test result does not depend on whether you run the test on a weekday or on the weekends.\n",
    "\n",
    "The following code illustrates how to do that:"
   ]
  },
  {
   "cell_type": "code",
   "execution_count": 19,
   "metadata": {},
   "outputs": [],
   "source": [
    "from unittest.mock import Mock\n",
    "from datetime import datetime\n",
    "\n",
    "# Define a couple of days\n",
    "sunday = datetime(year=2023, month=9, day=24)\n",
    "tuesday = datetime(year=2023, month=9, day=26)\n",
    "\n",
    "# Mock datetime\n",
    "datetime = Mock()\n",
    "\n",
    "# Function under test\n",
    "def is_weekday() -> bool:\n",
    "    today = datetime.today()\n",
    "    return (0 <= today.weekday() < 5)\n",
    "\n",
    "\n",
    "# Testing with mocks and dates defined above\n",
    "## Test tuesday is weekday\n",
    "datetime.today.return_value = tuesday\n",
    "assert is_weekday()\n",
    "## Test sunday is not a weekday\n",
    "datetime.today.return_value = sunday\n",
    "assert not is_weekday()\n",
    "\n"
   ]
  },
  {
   "cell_type": "markdown",
   "metadata": {},
   "source": [
    "#### Customizing a `Mock`'s behavior with `side_effect`\n",
    "This approach will work for basic scenarios, but won't be sufficient for more complex ones in which you might need to control the mocked function's behavior.\n",
    "\n",
    "Consider the following function, which uses an endpoint to get the list of holidays:\n"
   ]
  },
  {
   "cell_type": "code",
   "execution_count": null,
   "metadata": {},
   "outputs": [],
   "source": [
    "import requests\n",
    "\n",
    "def get_holidays():\n",
    "    r = requests.get(\"http://localhost/api/holidays\")\n",
    "    if r.status_code == 200:\n",
    "        return r.json\n",
    "    return None"
   ]
  },
  {
   "cell_type": "markdown",
   "metadata": {},
   "source": [
    "That API is supposed to return a dictionary with the holidays if the server responds, but we want to make sure that the behavior when we can't connect to the server because of a timeout.\n",
    "\n",
    "That complex scenario can be modeled with `side_effect`:"
   ]
  },
  {
   "cell_type": "code",
   "execution_count": 21,
   "metadata": {},
   "outputs": [
    {
     "name": "stdout",
     "output_type": "stream",
     "text": [
      "Oops: <class 'requests.exceptions.Timeout'>\n"
     ]
    }
   ],
   "source": [
    "from requests.exceptions import Timeout\n",
    "from unittest.mock import Mock\n",
    "\n",
    "# Mock requests lib\n",
    "requests = Mock()\n",
    "\n",
    "# Function under test\n",
    "def get_holidays():\n",
    "    r = requests.get(\"http://localhost/api/holidays\")\n",
    "    if r.status_code == 200:\n",
    "        return r.json()\n",
    "    return None\n",
    "\n",
    "# Mock the behavior to return an Exception\n",
    "requests.get.side_effect = Timeout\n",
    "\n",
    "try:\n",
    "    get_holidays()\n",
    "except Exception as ex:\n",
    "    print(f\"Oops: {type(ex)}\")"
   ]
  },
  {
   "cell_type": "markdown",
   "metadata": {},
   "source": [
    "Of course, this can be improved to provide a more contrived behavior that not only returns some specific value, but also perform some side effects."
   ]
  },
  {
   "cell_type": "code",
   "execution_count": 27,
   "metadata": {},
   "outputs": [
    {
     "name": "stdout",
     "output_type": "stream",
     "text": [
      "Simulating a request to http://localhost/api/holidays\n",
      "Simulating a request to http://localhost/api/holidays\n"
     ]
    }
   ],
   "source": [
    "from unittest.mock import Mock\n",
    "\n",
    "# Mock requests lib\n",
    "requests = Mock()\n",
    "\n",
    "# Function under test\n",
    "def get_holidays():\n",
    "    r = requests.get(\"http://localhost/api/holidays\")\n",
    "    if r.status_code == 200:\n",
    "        return r.json()\n",
    "    return None\n",
    "\n",
    "# Create a function that we will wire as the behavior for the Mock\n",
    "def custom_request_behavior(url):\n",
    "    print(f\"Simulating a request to {url}\")\n",
    "    response_mock = Mock()\n",
    "    response_mock.status_code = 200\n",
    "    response_mock.json.return_value = {\n",
    "        \"12/25\": \"Christmas\",\n",
    "        \"7/4\": \"Independence Day\"\n",
    "    }\n",
    "    return response_mock\n",
    "\n",
    "# Configure request.get behavior with our custom behavior which sets the status code\n",
    "# and returns a sample response\n",
    "requests.get.side_effect = custom_request_behavior\n",
    "\n",
    "assert get_holidays()[\"12/25\"] == \"Christmas\"\n",
    "assert get_holidays()[\"7/4\"] == \"Independence Day\"\n"
   ]
  },
  {
   "cell_type": "markdown",
   "metadata": {},
   "source": [
    "When using `unitest`, the previous snippet should be refactored as follows:\n",
    "\n",
    "```python\n",
    "import requests\n",
    "import unittest\n",
    "from unittest.mock import Mock\n",
    "\n",
    "# Mock requests lib\n",
    "requests = Mock()\n",
    "\n",
    "# Function under test\n",
    "def get_holidays():\n",
    "    r = requests.get(\"http://localhost/api/holidays\")\n",
    "    if r.status_code == 200:\n",
    "        return r.json()\n",
    "    return None\n",
    "\n",
    "class TestGetHolidays(unittest.TestCase):\n",
    "    def log_request(self, url):\n",
    "        print(f\"Simulating a request to {url}\")\n",
    "        response_mock = Mock()\n",
    "        response_mock.status_code = 200\n",
    "        response_mock.json.return_value = {\n",
    "            \"12/25\": \"Christmas\",\n",
    "            \"7/4\": \"Independence Day\"\n",
    "        }\n",
    "        return response_mock\n",
    "\n",
    "    def test_get_holidays(self):\n",
    "        requests.get.side_effect = self.log_request\n",
    "\n",
    "        assert get_holidays()[\"12/25\"] == \"Christmas\"\n",
    "        assert get_holidays()[\"7/4\"] == \"Independence Day\"\n",
    "\n",
    "\n",
    "if __name__ == \"__main__\":\n",
    "    unittest.main()\n",
    "```"
   ]
  },
  {
   "cell_type": "markdown",
   "metadata": {},
   "source": [
    "`side_effect` can also be configured with an iterable, on which the configured behavior will produce its next value each time you call your mocked value.\n",
    "The iterable must consist of return values, exceptions, or a mixture of both.\n",
    "\n",
    "As an example, the snippet below is configured to raise an Exception first, and then return a value. Note that the second element of the iterable is the `response_mock` object itself and not a function:"
   ]
  },
  {
   "cell_type": "code",
   "execution_count": 36,
   "metadata": {},
   "outputs": [],
   "source": [
    "from unittest.mock import Mock\n",
    "# from requests.exceptions import Timeout\n",
    "\n",
    "# Mock requests lib\n",
    "requests = Mock()\n",
    "\n",
    "# Function under test\n",
    "def get_holidays():\n",
    "    r = requests.get(\"http://localhost/api/holidays\")\n",
    "    if r.status_code == 200:\n",
    "        return r.json()\n",
    "    return None\n",
    "\n",
    "# Create a Mock() to imitate a Response from the endpoint\n",
    "response_mock = Mock()\n",
    "response_mock.status_code = 200\n",
    "response_mock.json.return_value = {\n",
    "    \"12/25\": \"Christmas\",\n",
    "    \"7/4\": \"Independence Day\"\n",
    "}\n",
    "\n",
    "requests.get.side_effect = [Timeout, response_mock]\n",
    "\n",
    "try:\n",
    "    get_holidays()\n",
    "except Exception as ex:\n",
    "    assert isinstance(ex, Timeout)\n",
    "\n",
    "assert get_holidays()[\"12/25\"] == \"Christmas\"\n",
    "assert requests.get.call_count == 2"
   ]
  },
  {
   "cell_type": "markdown",
   "metadata": {},
   "source": [
    "#### Configuring your `Mock`\n",
    "\n",
    "You can configure a `Mock` by specifying certain attributes when you initialize a `Mock` object:"
   ]
  },
  {
   "cell_type": "code",
   "execution_count": 42,
   "metadata": {},
   "outputs": [
    {
     "name": "stdout",
     "output_type": "stream",
     "text": [
      "<Mock name='my mock' id='139650459600304'>\n",
      "<Mock name='my other mock' id='139650459601840'>: True\n",
      "Hello to stranger\n",
      "None\n"
     ]
    }
   ],
   "source": [
    "from unittest.mock import Mock\n",
    "\n",
    "mock = Mock(name=\"my mock\")\n",
    "print(mock)\n",
    "\n",
    "mock = Mock(name=\"my other mock\", return_value=True)\n",
    "print(f\"{mock}: {mock()}\")\n",
    "\n",
    "def my_side_effect(name=\"stranger\"):\n",
    "    print(f\"Hello to {name}\")\n",
    "\n",
    "mock = Mock(name=\"yet another mock\", side_effect=my_side_effect)\n",
    "print(mock())"
   ]
  },
  {
   "cell_type": "markdown",
   "metadata": {},
   "source": [
    "We know that `return_value` and `side_effect` can also be set on the Mock instance, but other things such as the name can only be set while constructing the object or by way of invoking `configure_mock()`.\n",
    "\n",
    "The latter can be used to reduce the verbosity of some of the mock configuration:"
   ]
  },
  {
   "cell_type": "code",
   "execution_count": 47,
   "metadata": {},
   "outputs": [
    {
     "name": "stdout",
     "output_type": "stream",
     "text": [
      "{'12/25': 'Christmas', '7/4': 'Independence Day'}\n"
     ]
    }
   ],
   "source": [
    "from unittest.mock import Mock\n",
    "\n",
    "# Mock requests lib\n",
    "holidays = {\"12/25\": \"Christmas\", \"7/4\": \"Independence Day\"}\n",
    "response_mock = Mock(**{\"json.return_value\": holidays})\n",
    "\n",
    "print(response_mock.json())\n"
   ]
  },
  {
   "cell_type": "markdown",
   "metadata": {},
   "source": [
    "#### Using `patch()`\n",
    "\n",
    "The `patch` function looks up an object in a given module and replaces it with a `Mock`. \n",
    "\n",
    "##### `@patch()`\n",
    "\n",
    "If you want to mock an object for the duration of your entire test function, you can use `@patch()`.\n",
    "\n",
    "Consider the following snippet for a module `my_calendar` that exposes a couple of functions:\n",
    "\n",
    "```python\n",
    "from datetime import datetime\n",
    "import requests\n",
    "\n",
    "\n",
    "def is_weekday():\n",
    "    \"\"\"Returns True if today is a weekday, False if today is a weekend day\"\"\"\n",
    "    today = datetime.today()\n",
    "    return 0 <= today.weekday() < 5\n",
    "\n",
    "\n",
    "def get_holidays():\n",
    "    \"\"\"Access an *invented* API to get a dictionary of holidays as in\n",
    "    `{\"12/25\": \"Christmas\", \"7/4\": \"Independence Day\"}`\n",
    "    \"\"\"\n",
    "    r = requests.get(\"http://localhost/api/holidays\")\n",
    "    if r.status_code == 200:\n",
    "        return r.json()\n",
    "    return None\n",
    "```\n",
    "\n",
    "See [my_calendar.py](exercises/section_52-mocking/01_patch-as-decorator/my_calendar.py)"
   ]
  },
  {
   "cell_type": "markdown",
   "metadata": {},
   "source": [
    "Now we will use a technique known as *Monkey patching*. When using this technique we replace one object with another at runtime. Up until now we had used `Mock` to patch objects in the file in which they have been defined.\n",
    "\n",
    "In order to do so, you create a test file in which `@patch()` is used to replace the objects to test in [my_calendar.py](exercises/section_52-mocking/01_patch-as-decorator/my_calendar.py):\n",
    "\n",
    "```python\n",
    "import unittest\n",
    "from unittest.mock import patch\n",
    "\n",
    "from requests.exceptions import Timeout\n",
    "\n",
    "from my_calendar import get_holidays\n",
    "\n",
    "\n",
    "class TestCalendar(unittest.TestCase):\n",
    "    @patch(\"my_calendar.requests\")\n",
    "    def test_get_holidays_timeout(self, mock_requests):\n",
    "        mock_requests.get.side_effect = Timeout\n",
    "        with self.assertRaises(Timeout):\n",
    "            get_holidays()\n",
    "            mock_requests.get.assert_called_once()\n",
    "\n",
    "\n",
    "if __name__ == \"__main__\":\n",
    "    unittest.main()\n",
    "```\n",
    "\n",
    "See [tests.py](exercises/section_52-mocking/01_patch-as-decorator/tests.py)"
   ]
  },
  {
   "cell_type": "markdown",
   "metadata": {},
   "source": [
    "See how we have *patched* `my_calendar.requests` using the `@patch` decorator. Within the test function we have used the `Mock` functionality we were familiar with.\n",
    "\n",
    "Note also how the test function defines an extra parameter `mock_requests` which we use to receive the mocked object in the test method."
   ]
  },
  {
   "cell_type": "markdown",
   "metadata": {},
   "source": [
    "##### `patch` as a Context Manager\n",
    "\n",
    "In certain scenarios it is recommended to use `patch()` as a context manager rather than as a decorator:\n",
    "+ you only want to mock an object for a part of the test scope\n",
    "+ you're already using a lot of decorators on the test function and don't want to compromise readability\n",
    "\n",
    "In that case you can use `with`:\n",
    "\n",
    "```python\n",
    "import unittest\n",
    "from unittest.mock import patch\n",
    "\n",
    "from requests.exceptions import Timeout\n",
    "\n",
    "from my_calendar import get_holidays\n",
    "\n",
    "\n",
    "class TestCalendar(unittest.TestCase):\n",
    "    def test_get_holidays_timeout(self):\n",
    "        with patch(\"my_calendar.requests\") as mock_requests:\n",
    "            mock_requests.get.side_effect = Timeout\n",
    "            with self.assertRaises(Timeout):\n",
    "                get_holidays()\n",
    "                mock_requests.get.assert_called_once()\n",
    "\n",
    "\n",
    "if __name__ == \"__main__\":\n",
    "    unittest.main()\n",
    "```\n",
    "\n",
    "See [tests.py](exercises/section_52-mocking/02_patch-context-manager/tests.py)"
   ]
  },
  {
   "cell_type": "markdown",
   "metadata": {},
   "source": [
    "When the test exits the `with` scope, `patch()` will replace the mocked object with the real one."
   ]
  },
  {
   "cell_type": "markdown",
   "metadata": {},
   "source": [
    "##### Patching an object's attributes with `patch.object`\n",
    "\n",
    "Sometimes you might want to mock one method of an object, instead of the entire object.\n",
    "\n",
    "That is possible with `patch.object`.\n",
    "\n",
    "For example, if you have a closer look at the test function `test_get_holidays_timeout` you realize that you only need to mock the `get` method, not the entire `requests` object:\n",
    "\n",
    "```python\n",
    "import unittest\n",
    "from unittest.mock import patch\n",
    "\n",
    "from my_calendar import requests, get_holidays\n",
    "\n",
    "\n",
    "class TestCalendar(unittest.TestCase):\n",
    "    @patch.object(requests, \"get\", side_effect=requests.exceptions.Timeout)\n",
    "    def test_get_holidays_timeout(self, mock_requests):\n",
    "        with self.assertRaises(requests.exceptions.Timeout):\n",
    "            get_holidays()\n",
    "            mock_requests.get.assert_called_once()\n",
    "\n",
    "\n",
    "if __name__ == \"__main__\":\n",
    "    unittest.main()\n",
    "```\n",
    "\n",
    "See [tests.py](exercises/section_52-mocking/03_patch-object/tests.py)"
   ]
  },
  {
   "cell_type": "markdown",
   "metadata": {},
   "source": [
    "In the previous example, we've only mocked the `get` method instead of the entire `requests` object.\n",
    "\n",
    "Note that `patch.object` takes the same configuration arguments as `patch`, but you need to provide the target object as the first parameter, and the attribute as the second parameter:\n",
    "\n",
    "```python\n",
    "@patch.object(requests, \"get\", side_effect=requests.exceptions.Timeout)\n",
    "```\n",
    "\n",
    "| NOTE: |\n",
    "| :---- |\n",
    "| Besides objects and attributes, you can also patch dictionaries using `patch.dict` (See https://docs.python.org/3/library/unittest.mock.html#unittest.mock.patch.dict). |"
   ]
  },
  {
   "cell_type": "markdown",
   "metadata": {},
   "source": [
    "##### Identifying target object's path when patching\n",
    "\n",
    "Learning how to use `patch` effectively is critical to succeed when mocking objects in other modules.\n",
    "\n",
    "However, many times it is not obvious what the target object path is.\n",
    "\n",
    "Consider the following snippet in which we mock a library function:\n",
    "\n",
    "```python\n",
    "import unittest\n",
    "from unittest.mock import patch\n",
    "\n",
    "import my_calendar\n",
    "\n",
    "\n",
    "class TestCalendar(unittest.TestCase):\n",
    "    def test_weekday_mock(self):\n",
    "        with patch(\"my_calendar.is_weekday\"):\n",
    "            my_calendar.is_weekday()\n",
    "\n",
    "\n",
    "if __name__ == \"__main__\":\n",
    "    unittest.main()\n",
    "```\n",
    "\n",
    "When using this approach we will see that `my_calendar.is_weekday()` is effectively mocked.\n",
    "\n",
    "However, if we change it slightly:\n",
    "\n",
    "```python\n",
    "import unittest\n",
    "from unittest.mock import patch\n",
    "\n",
    "from my_calendar import is_weekday\n",
    "\n",
    "\n",
    "class TestCalendar(unittest.TestCase):\n",
    "    def test_weekday_mock(self):\n",
    "        with patch(\"my_calendar.is_weekday\"):\n",
    "            is_weekday()\n",
    "\n",
    "\n",
    "if __name__ == \"__main__\":\n",
    "    unittest.main()\n",
    "```\n",
    "\n",
    "We will see that `is_weekday` has not been mocked.\n",
    "\n",
    "| NOTE: |\n",
    "| :---- |\n",
    "| The `import` is bringing the function into scope, but the patch is applied to a different reference coming from `my_calendar.is_weekday`. |\n",
    "\n",
    "The rule of thumb is to patch the object where it is looked up. That is, using the same approach used for the import.\n",
    "\n",
    "Specifically, if you need to do it for a bare `is_weekday` you will need to use `__main__.is_weekday` as the path:\n",
    "\n",
    "```python\n",
    "import unittest\n",
    "from unittest.mock import patch\n",
    "\n",
    "from my_calendar import is_weekday\n",
    "\n",
    "\n",
    "class TestCalendar(unittest.TestCase):\n",
    "\n",
    "    def test_weekday_mock(self):\n",
    "        with patch(\"__main__.is_weekday\"):\n",
    "            is_weekday()\n",
    "            print(f\"is_weekday(): {is_weekday()}\")  # a mock!!!\n",
    "\n",
    "\n",
    "if __name__ == \"__main__\":\n",
    "    unittest.main()\n",
    "```\n",
    "\n",
    "See [example](exercises/section_52-mocking/04_patch-object-path/)"
   ]
  },
  {
   "cell_type": "markdown",
   "metadata": {},
   "source": [
    "#### Using Mock specifications\n",
    "\n",
    "As `Mock` objects creates attributes and methods *on-the-fly* when you access them, you might find problems when the class or function is updated or misspelled.\n",
    "\n",
    "This can be mitigated by creating a *spec* for your mock.\n",
    "\n"
   ]
  },
  {
   "cell_type": "code",
   "execution_count": 3,
   "metadata": {},
   "outputs": [
    {
     "name": "stdout",
     "output_type": "stream",
     "text": [
      "Oops: <class 'AttributeError'>(Mock object has no attribute 'create_event')\n"
     ]
    }
   ],
   "source": [
    "from unittest.mock import Mock\n",
    "\n",
    "calendar = Mock(spec=[\"is_weekday\", \"get_holidays\"])\n",
    "\n",
    "try:\n",
    "    calendar.is_weekday() # OK\n",
    "    calendar.create_event() # AttributeError\n",
    "except Exception as ex:\n",
    "    print(f\"Oops: {type(ex)}: {ex}\")"
   ]
  },
  {
   "cell_type": "markdown",
   "metadata": {},
   "source": [
    "They work in the same way, if you use the spec with an instance:\n",
    "\n",
    "```python\n",
    "import my_calendar\n",
    "from unittest.mock import Mock\n",
    "\n",
    "calendar = Mock(spec=\"my_calendar\"])\n",
    "\n",
    "try:\n",
    "    calendar.is_weekday() # OK\n",
    "    calendar.create_event() # AttributeError\n",
    "except Exception as ex:\n",
    "    print(f\"Oops: {type(ex)}: {ex}\")\n",
    "```"
   ]
  },
  {
   "cell_type": "markdown",
   "metadata": {},
   "source": [
    "It is also possible to use `create_autospec` to automatically create the mock specification:\n",
    "\n",
    "```python\n",
    "import my_calendar\n",
    "from unittest.mock import create_autospec\n",
    "\n",
    "calendar = create_autospec(my_calendar)\n",
    "\n",
    "try:\n",
    "    calendar.is_weekday() # OK\n",
    "    calendar.create_event() # AttributeError\n",
    "except Exception as ex:\n",
    "    print(f\"Oops: {type(ex)}: {ex}\")\n",
    "```"
   ]
  },
  {
   "cell_type": "markdown",
   "metadata": {},
   "source": [
    "If you're using `patch` you can send an argument to achieve the same result:\n",
    "\n",
    "```python\n",
    "import my_calendar\n",
    "from unittest.mock import create_autospec\n",
    "\n",
    "...\n",
    "with patch(\"__main__.my_calendar\", autospec=True) as calendar:\n",
    "try:\n",
    "    calendar.is_weekday() # OK\n",
    "    calendar.create_event() # AttributeError\n",
    "except Exception as ex:\n",
    "    print(f\"Oops: {type(ex)}: {ex}\")  \n",
    "```"
   ]
  },
  {
   "cell_type": "markdown",
   "metadata": {},
   "source": [
    "## Section 53 &mdash; The *walrus* `:=` operator\n",
    "\n",
    "The *walrus* operator introduced in Python 3.8 lets you use an assignment in an `if` statement.\n",
    "\n",
    "Consider the following code, in which the user typed something and we want to give the variable a friendlier name to then take some action."
   ]
  },
  {
   "cell_type": "code",
   "execution_count": 1,
   "metadata": {},
   "outputs": [
    {
     "name": "stdout",
     "output_type": "stream",
     "text": [
      "Value should be displayed\n"
     ]
    }
   ],
   "source": [
    "def get_user_input():\n",
    "    return \"Y\"\n",
    "\n",
    "user_input = get_user_input()\n",
    "\n",
    "should_show_value = user_input\n",
    "if should_show_value == \"Y\":\n",
    "    print(\"Value should be displayed\")"
   ]
  },
  {
   "cell_type": "markdown",
   "metadata": {},
   "source": [
    "Python does not allow us to do the assignment within the `if`:\n",
    "\n",
    "```python\n",
    "def get_user_input():\n",
    "    return \"Y\"\n",
    "\n",
    "# Compilation error\n",
    "if (should_show_value = get_user_input()) == \"Y\":\n",
    "    print(\"Value should be displayed\")\n",
    "```\n",
    "\n",
    "But it will let us if we use the *walrus* operator:"
   ]
  },
  {
   "cell_type": "code",
   "execution_count": 4,
   "metadata": {},
   "outputs": [
    {
     "name": "stdout",
     "output_type": "stream",
     "text": [
      "Value should be displayed\n"
     ]
    }
   ],
   "source": [
    "def get_user_input():\n",
    "    return \"Y\"\n",
    "\n",
    "if (should_show_value := get_user_input()) == \"Y\":\n",
    "    print(\"Value should be displayed\")"
   ]
  },
  {
   "cell_type": "markdown",
   "metadata": {},
   "source": [
    "That is, the *walrus* operator lets you do an assignment in places where you wouldn't typically use them.\n",
    "\n",
    "Note that the if statement will become even more succinct when the value we're assigning can be directly used in the if statement:"
   ]
  },
  {
   "cell_type": "code",
   "execution_count": 5,
   "metadata": {},
   "outputs": [
    {
     "name": "stdout",
     "output_type": "stream",
     "text": [
      "Value should be displayed\n"
     ]
    }
   ],
   "source": [
    "def get_user_input():\n",
    "    return True\n",
    "\n",
    "if should_show_value := get_user_input():\n",
    "    print(\"Value should be displayed\")"
   ]
  },
  {
   "cell_type": "markdown",
   "metadata": {},
   "source": [
    "Which would need to be expanded to:"
   ]
  },
  {
   "cell_type": "code",
   "execution_count": 6,
   "metadata": {},
   "outputs": [
    {
     "name": "stdout",
     "output_type": "stream",
     "text": [
      "Value should be displayed\n"
     ]
    }
   ],
   "source": [
    "def get_user_input():\n",
    "    return True\n",
    "\n",
    "should_show_value = get_user_input()\n",
    "if should_show_value:\n",
    "    print(\"Value should be displayed\")"
   ]
  },
  {
   "cell_type": "markdown",
   "metadata": {},
   "source": [
    "if the *walrus* operator didn't exist."
   ]
  }
 ],
 "metadata": {
  "kernelspec": {
   "display_name": "base",
   "language": "python",
   "name": "python3"
  },
  "language_info": {
   "codemirror_mode": {
    "name": "ipython",
    "version": 3
   },
   "file_extension": ".py",
   "mimetype": "text/x-python",
   "name": "python",
   "nbconvert_exporter": "python",
   "pygments_lexer": "ipython3",
   "version": "3.10.13"
  },
  "orig_nbformat": 4
 },
 "nbformat": 4,
 "nbformat_minor": 2
}
