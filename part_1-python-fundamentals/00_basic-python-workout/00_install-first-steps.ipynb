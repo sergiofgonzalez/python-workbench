{
 "cells": [
  {
   "attachments": {},
   "cell_type": "markdown",
   "metadata": {},
   "source": [
    "# First steps: Installing Python and intro to conda virtual environments\n",
    "\n",
    "Linux systems come with Python installed on them, and many OS capabilities depend on that specific Python version and corresponding tooling being correctly configured, so it's better not to mingle with that system level Python.\n",
    "\n",
    "While you can install a different Python installation yourself, configuring the rest of the tooling to work with that custom version is challenging.\n",
    "\n",
    "Alternatively, and especially for novice Pythonists, it's just easier to install a *batteries included* Python distribution such as [Miniconda](https://docs.conda.io/en/latest/miniconda.html)."
   ]
  },
  {
   "attachments": {},
   "cell_type": "markdown",
   "metadata": {},
   "source": [
    "### Installing miniconda\n",
    "\n",
    "You can install miniconda by pointing your browser to: https://docs.conda.io/en/latest/miniconda.html#installing and executing the corresponding script.\n",
    "\n",
    "Once installed, if you open a new terminal window you will see that your prompt has changed to:\n",
    "\n",
    "```bash\n",
    "(base) $\n",
    "```\n",
    "\n",
    "This indicates that your base environment is activated.\n",
    "\n",
    "We will use this base environment to ensure we're not touching the system's Python version.\n",
    "\n",
    "That installation is sufficient for carrying out the workbench exercises found in the [Basic Python workout](01_python-workout.ipynb) to get some hand-on experience on Python.\n"
   ]
  },
  {
   "attachments": {},
   "cell_type": "markdown",
   "metadata": {},
   "source": [
    "### Uninstalling miniconda\n",
    "\n",
    "If you need to uninstall miniconda, perform the following steps:\n",
    "\n",
    "```bash\n",
    "rm -rf ~/miniconda3/\n",
    "rm -rf .condarc\n",
    "rm -rf .conda/\n",
    "```\n",
    "\n",
    "Then, edit your `.bashrc` file and remove the block added by miniconda which updated the `PATH` variable and executed some scripts on every session."
   ]
  }
 ],
 "metadata": {
  "language_info": {
   "name": "python"
  },
  "orig_nbformat": 4
 },
 "nbformat": 4,
 "nbformat_minor": 2
}
